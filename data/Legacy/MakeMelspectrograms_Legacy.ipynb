{
 "cells": [
  {
   "cell_type": "markdown",
   "metadata": {},
   "source": [
    "## Make Melspectrograms\n"
   ]
  },
  {
   "cell_type": "code",
   "execution_count": null,
   "metadata": {},
   "outputs": [],
   "source": [
    "import os\n",
    "import pandas as pd\n",
    "import numpy as np\n",
    "import matplotlib.pyplot as plt\n",
    "import librosa\n",
    "from tqdm import tqdm\n",
    "import concurrent.futures\n",
    "import traceback"
   ]
  },
  {
   "cell_type": "code",
   "execution_count": null,
   "metadata": {},
   "outputs": [],
   "source": [
    "train = pd.read_csv('train_dataset.csv')\n",
    "test = pd.read_csv('test_dataset.csv')\n",
    "\n",
    "train = train[['Filepath', 'Emotion']]\n",
    "test = test[['Filepath', 'Emotion']]"
   ]
  },
  {
   "cell_type": "code",
   "execution_count": null,
   "metadata": {},
   "outputs": [],
   "source": [
    "train['Filepath'] = train['Filepath'].str.replace('\\\\', '/')\n",
    "train"
   ]
  },
  {
   "cell_type": "code",
   "execution_count": null,
   "metadata": {},
   "outputs": [],
   "source": [
    "test['Filepath'] = test['Filepath'].str.replace('\\\\', '/')\n",
    "test"
   ]
  },
  {
   "cell_type": "code",
   "execution_count": null,
   "metadata": {},
   "outputs": [],
   "source": [
    "os.makedirs('melspectrograms', exist_ok=True)"
   ]
  },
  {
   "cell_type": "code",
   "execution_count": null,
   "metadata": {},
   "outputs": [],
   "source": [
    "train_paths = train['Filepath'].tolist()\n",
    "melspectrogram_paths = []\n",
    "\n",
    "for p in train_paths:\n",
    "    try:\n",
    "        y, sr = librosa.load(p, sr=16000)\n",
    "        melspectrogram = librosa.feature.melspectrogram(y=y, sr=sr)\n",
    "        melspectrogramdb = librosa.power_to_db(melspectrogram, ref=np.max)\n",
    "\n",
    "        filename = os.path.basename(p)\n",
    "        if filename.endswith('.wav'):\n",
    "            filename = filename.replace('.wav', '_melspectrogram.png')\n",
    "        elif filename.endswith('.mp4'):\n",
    "            filename = filename.replace('.mp4', '_melspectrogram.png')\n",
    "\n",
    "        spectrogram_path = os.path.join('melspectrograms', filename)\n",
    "        plt.figure(figsize=(10, 4))\n",
    "        plt.axis('off')\n",
    "        librosa.display.specshow(melspectrogramdb, x_axis='time', y_axis='mel')\n",
    "        plt.savefig(spectrogram_path, bbox_inches='tight')\n",
    "        plt.close()\n",
    "        melspectrogram_paths.append(spectrogram_path)\n",
    "    except Exception as e:\n",
    "        print(f\"Error for {p}: {e}\")\n",
    "        melspectrogram_paths.append(None)\n",
    "\n",
    "train['Melspectrogrampath'] = melspectrogram_paths\n",
    "train = train[['Filepath', 'Melspectrogrampath', 'Emotion']]"
   ]
  },
  {
   "cell_type": "code",
   "execution_count": null,
   "metadata": {},
   "outputs": [],
   "source": [
    "train"
   ]
  },
  {
   "cell_type": "code",
   "execution_count": null,
   "metadata": {},
   "outputs": [],
   "source": [
    "train.to_csv(\"melspectrogram_train_dataset.csv\", index=False)"
   ]
  },
  {
   "cell_type": "code",
   "execution_count": null,
   "metadata": {},
   "outputs": [],
   "source": [
    "test_paths = test['Filepath'].tolist()\n",
    "melspectrogram_paths = []\n",
    "\n",
    "for p in test_paths:\n",
    "    try:\n",
    "        y, sr = librosa.load(p, sr=16000)\n",
    "        melspectrogram = librosa.feature.melspectrogram(y=y, sr=sr)\n",
    "        melspectrogramdb = librosa.power_to_db(melspectrogram, ref=np.max)\n",
    "\n",
    "        filename = os.path.basename(p)\n",
    "        if filename.endswith('.wav'):\n",
    "            filename = filename.replace('.wav', '_melspectrogram.png')\n",
    "        elif filename.endswith('.mp4'):\n",
    "            filename = filename.replace('.mp4', '_melspectrogram.png')\n",
    "\n",
    "        spectrogram_path = os.path.join('melspectrograms', filename)\n",
    "        plt.figure(figsize=(10, 4))\n",
    "        plt.axis('off')\n",
    "        librosa.display.specshow(melspectrogramdb, x_axis='time', y_axis='mel')\n",
    "        plt.savefig(spectrogram_path, bbox_inches='tight')\n",
    "        plt.close()\n",
    "        melspectrogram_paths.append(spectrogram_path)\n",
    "    except Exception as e:\n",
    "        print(f\"Error for {p}: {e}\")\n",
    "        melspectrogram_paths.append(None)\n",
    "\n",
    "test['Melspectrogrampath'] = melspectrogram_paths\n",
    "test = test[['Filepath', 'Melspectrogrampath', 'Emotion']]"
   ]
  },
  {
   "cell_type": "code",
   "execution_count": null,
   "metadata": {},
   "outputs": [],
   "source": [
    "test"
   ]
  },
  {
   "cell_type": "code",
   "execution_count": null,
   "metadata": {},
   "outputs": [],
   "source": [
    "test.to_csv(\"melspectrogram_test_dataset.csv\", index=False)"
   ]
  }
 ],
 "metadata": {
  "kernelspec": {
   "display_name": "artificial-intelligence",
   "language": "python",
   "name": "python3"
  },
  "language_info": {
   "codemirror_mode": {
    "name": "ipython",
    "version": 3
   },
   "file_extension": ".py",
   "mimetype": "text/x-python",
   "name": "python",
   "nbconvert_exporter": "python",
   "pygments_lexer": "ipython3",
   "version": "3.11.0"
  }
 },
 "nbformat": 4,
 "nbformat_minor": 2
}
