{
 "cells": [
  {
   "cell_type": "markdown",
   "id": "62324c04",
   "metadata": {},
   "source": [
    "# Make English Speech Dataset\n",
    "- Combining 8 English Speech Dataset\n",
    "- Dataset: CREMA-D, MELD, MLEND, RAVDESS, SAVEE, TESS, ESD, JL-Corpus"
   ]
  },
  {
   "cell_type": "markdown",
   "id": "ed70dbbc",
   "metadata": {},
   "source": [
    "## 0. Import Libraries"
   ]
  },
  {
   "cell_type": "code",
   "execution_count": 1,
   "id": "7a2c1ed4",
   "metadata": {
    "ExecuteTime": {
     "end_time": "2023-11-01T02:09:32.712372Z",
     "start_time": "2023-11-01T02:09:30.079134Z"
    }
   },
   "outputs": [],
   "source": [
    "import numpy as np\n",
    "import pandas as pd\n",
    "import matplotlib.pyplot as plt\n",
    "import seaborn as sns\n",
    "\n",
    "import os\n",
    "import glob\n",
    "import tqdm"
   ]
  },
  {
   "cell_type": "code",
   "execution_count": 2,
   "id": "6eaac34f",
   "metadata": {
    "ExecuteTime": {
     "end_time": "2023-11-01T02:09:32.717287Z",
     "start_time": "2023-11-01T02:09:32.712372Z"
    }
   },
   "outputs": [
    {
     "name": "stdout",
     "output_type": "stream",
     "text": [
      "Numpy Version: 2.1.3\n",
      "Pandas Version: 2.2.3\n"
     ]
    }
   ],
   "source": [
    "print(\"Numpy Version:\", np.__version__)\n",
    "print(\"Pandas Version:\", pd.__version__)"
   ]
  },
  {
   "cell_type": "markdown",
   "id": "19dc495f",
   "metadata": {},
   "source": [
    "## 1. Load Dataset and Make Sub Dataframes\n",
    "### 1) CREMA-D\n",
    "> https://github.com/CheyneyComputerScience/CREMA-D\n",
    "\n",
    "- `VideoDemographics.csv` - a mapping of ActorID (the first 4 digits of each video file) to Age, Sex, Race, and Ethicity.\n",
    "```shell\n",
    "\"ActorID\" - the first 4 digits of the video/audio file that identifies the actor in the video.\n",
    "\"Age\" - the age in years of the actor at the time of the recording\n",
    "\"Sex\" - the binary sex that the actor identified\n",
    "\"Race\" - African American, Asian, Caucasian, or Unknown\n",
    "\"Ethnicity\" - Hispanic or Not Hispanic\n",
    "```\n",
    "- Actors spoke from a selection of 12 sentences (in parentheses is the three letter acronym used in the second part of the filename):\n",
    "```\n",
    "It's eleven o'clock (IEO).\n",
    "That is exactly what happened (TIE).\n",
    "I'm on my way to the meeting (IOM).\n",
    "I wonder what this is about (IWW).\n",
    "The airplane is almost full (TAI).\n",
    "Maybe tomorrow it will be cold (MTI).\n",
    "I would like a new alarm clock (IWL)\n",
    "I think I have a doctor's appointment (ITH).\n",
    "Don't forget a jacket (DFA).\n",
    "I think I've seen this before (ITS).\n",
    "The surface is slick (TSI).\n",
    "We'll stop in a couple of minutes (WSI).\n",
    "```\n",
    "- The sentences were presented using different emotion (in parentheses is the three letter code used in the third part of the filename):\n",
    "```\n",
    "Anger (ANG)\n",
    "Disgust (DIS)\n",
    "Fear (FEA)\n",
    "Happy/Joy (HAP)\n",
    "Neutral (NEU)\n",
    "Sad (SAD)\n",
    "```\n",
    "- Emotion level (in parentheses is the two letter code used in the fourth part of the filename):\n",
    "```\n",
    "Low (LO)\n",
    "Medium (MD)\n",
    "High (HI)\n",
    "Unspecified (XX)\n",
    "```"
   ]
  },
  {
   "cell_type": "code",
   "execution_count": 3,
   "id": "6ccd81fb",
   "metadata": {
    "ExecuteTime": {
     "end_time": "2023-11-01T02:11:01.898213Z",
     "start_time": "2023-11-01T02:11:01.856966Z"
    }
   },
   "outputs": [
    {
     "name": "stdout",
     "output_type": "stream",
     "text": [
      "['1001_DFA_ANG_XX.wav', '1001_DFA_DIS_XX.wav', '1001_DFA_FEA_XX.wav', '1001_DFA_HAP_XX.wav', '1001_DFA_NEU_XX.wav']\n"
     ]
    }
   ],
   "source": [
    "crema_dir = './dataset/crema-d'\n",
    "crema_filepath = glob.glob(os.path.join(crema_dir, \"AudioWAV\", \"*.wav\"))\n",
    "crema_filename = os.listdir(os.path.join(crema_dir, \"AudioWAV\"))\n",
    "\n",
    "print(crema_filename[:5])"
   ]
  },
  {
   "cell_type": "code",
   "execution_count": 4,
   "id": "5308d60d",
   "metadata": {
    "ExecuteTime": {
     "end_time": "2023-11-01T02:11:02.062894Z",
     "start_time": "2023-11-01T02:11:02.048320Z"
    }
   },
   "outputs": [
    {
     "name": "stdout",
     "output_type": "stream",
     "text": [
      "The Number of CREMA-D Dataset: 7442\n"
     ]
    }
   ],
   "source": [
    "crema_count = len(crema_filename)\n",
    "print(\"The Number of CREMA-D Dataset:\", crema_count)"
   ]
  },
  {
   "cell_type": "code",
   "execution_count": 5,
   "id": "c2201aca",
   "metadata": {
    "ExecuteTime": {
     "end_time": "2023-11-01T02:11:02.748495Z",
     "start_time": "2023-11-01T02:11:02.736846Z"
    }
   },
   "outputs": [],
   "source": [
    "feature_list = []\n",
    "for fn in crema_filename:\n",
    "    feature_list.append(fn.split(\".wav\")[0].split(\"_\"))"
   ]
  },
  {
   "cell_type": "code",
   "execution_count": 6,
   "id": "0771d397",
   "metadata": {
    "ExecuteTime": {
     "end_time": "2023-11-01T02:11:02.981190Z",
     "start_time": "2023-11-01T02:11:02.965264Z"
    }
   },
   "outputs": [
    {
     "name": "stdout",
     "output_type": "stream",
     "text": [
      "(7442, 4)\n",
      "[['1001', 'DFA', 'ANG', 'XX'], ['1001', 'DFA', 'DIS', 'XX'], ['1001', 'DFA', 'FEA', 'XX'], ['1001', 'DFA', 'HAP', 'XX'], ['1001', 'DFA', 'NEU', 'XX'], ['1001', 'DFA', 'SAD', 'XX'], ['1001', 'IEO', 'ANG', 'HI'], ['1001', 'IEO', 'ANG', 'LO'], ['1001', 'IEO', 'ANG', 'MD'], ['1001', 'IEO', 'DIS', 'HI']]\n"
     ]
    }
   ],
   "source": [
    "print(np.shape(feature_list))\n",
    "print(feature_list[:10])"
   ]
  },
  {
   "cell_type": "code",
   "execution_count": 7,
   "id": "e066e244",
   "metadata": {},
   "outputs": [],
   "source": [
    "crema_ext = [os.path.splitext(fn)[-1] for fn in crema_filename]"
   ]
  },
  {
   "cell_type": "code",
   "execution_count": 8,
   "id": "853dad7c",
   "metadata": {
    "ExecuteTime": {
     "end_time": "2023-11-01T02:11:04.747108Z",
     "start_time": "2023-11-01T02:11:04.728391Z"
    }
   },
   "outputs": [],
   "source": [
    "crema_emotion_list = {\"ANG\":\"Anger\", \"DIS\":\"Disgust\", \"FEA\":\"Fear\", \"HAP\":\"Happy\", \"NEU\":\"Neutral\", \"SAD\":\"Sad\"}\n",
    "crema_emotion = [crema_emotion_list[f[2]] for f in feature_list]"
   ]
  },
  {
   "cell_type": "code",
   "execution_count": 9,
   "id": "970997ff",
   "metadata": {
    "ExecuteTime": {
     "end_time": "2023-11-01T02:36:48.157331Z",
     "start_time": "2023-11-01T02:36:48.151673Z"
    }
   },
   "outputs": [],
   "source": [
    "crema_df = pd.DataFrame(index = range(0, crema_count), \n",
    "                  columns = ['Id', 'Dataset', 'Filepath', 'Filename', 'Ext', 'Emotion'])"
   ]
  },
  {
   "cell_type": "code",
   "execution_count": 10,
   "id": "e222d379",
   "metadata": {
    "ExecuteTime": {
     "end_time": "2023-11-01T02:36:48.392707Z",
     "start_time": "2023-11-01T02:36:48.361356Z"
    }
   },
   "outputs": [],
   "source": [
    "crema_df['Dataset'] = ['CREMA-D'] * crema_count\n",
    "crema_df['Filepath'] = crema_filepath\n",
    "crema_df['Filename'] = crema_filename\n",
    "crema_df['Ext'] = crema_ext\n",
    "crema_df['Emotion'] = crema_emotion"
   ]
  },
  {
   "cell_type": "code",
   "execution_count": 11,
   "id": "37c72f6e",
   "metadata": {
    "ExecuteTime": {
     "end_time": "2023-11-01T02:36:48.592881Z",
     "start_time": "2023-11-01T02:36:48.577806Z"
    }
   },
   "outputs": [
    {
     "data": {
      "application/vnd.microsoft.datawrangler.viewer.v0+json": {
       "columns": [
        {
         "name": "index",
         "rawType": "int64",
         "type": "integer"
        },
        {
         "name": "Id",
         "rawType": "object",
         "type": "unknown"
        },
        {
         "name": "Dataset",
         "rawType": "object",
         "type": "string"
        },
        {
         "name": "Filepath",
         "rawType": "object",
         "type": "string"
        },
        {
         "name": "Filename",
         "rawType": "object",
         "type": "string"
        },
        {
         "name": "Ext",
         "rawType": "object",
         "type": "string"
        },
        {
         "name": "Emotion",
         "rawType": "object",
         "type": "string"
        }
       ],
       "conversionMethod": "pd.DataFrame",
       "ref": "d7460736-1754-4342-b980-67f3ddc628a9",
       "rows": [
        [
         "0",
         null,
         "CREMA-D",
         "./dataset/crema-d\\AudioWAV\\1001_DFA_ANG_XX.wav",
         "1001_DFA_ANG_XX.wav",
         ".wav",
         "Anger"
        ],
        [
         "1",
         null,
         "CREMA-D",
         "./dataset/crema-d\\AudioWAV\\1001_DFA_DIS_XX.wav",
         "1001_DFA_DIS_XX.wav",
         ".wav",
         "Disgust"
        ],
        [
         "2",
         null,
         "CREMA-D",
         "./dataset/crema-d\\AudioWAV\\1001_DFA_FEA_XX.wav",
         "1001_DFA_FEA_XX.wav",
         ".wav",
         "Fear"
        ],
        [
         "3",
         null,
         "CREMA-D",
         "./dataset/crema-d\\AudioWAV\\1001_DFA_HAP_XX.wav",
         "1001_DFA_HAP_XX.wav",
         ".wav",
         "Happy"
        ],
        [
         "4",
         null,
         "CREMA-D",
         "./dataset/crema-d\\AudioWAV\\1001_DFA_NEU_XX.wav",
         "1001_DFA_NEU_XX.wav",
         ".wav",
         "Neutral"
        ]
       ],
       "shape": {
        "columns": 6,
        "rows": 5
       }
      },
      "text/html": [
       "<div>\n",
       "<style scoped>\n",
       "    .dataframe tbody tr th:only-of-type {\n",
       "        vertical-align: middle;\n",
       "    }\n",
       "\n",
       "    .dataframe tbody tr th {\n",
       "        vertical-align: top;\n",
       "    }\n",
       "\n",
       "    .dataframe thead th {\n",
       "        text-align: right;\n",
       "    }\n",
       "</style>\n",
       "<table border=\"1\" class=\"dataframe\">\n",
       "  <thead>\n",
       "    <tr style=\"text-align: right;\">\n",
       "      <th></th>\n",
       "      <th>Id</th>\n",
       "      <th>Dataset</th>\n",
       "      <th>Filepath</th>\n",
       "      <th>Filename</th>\n",
       "      <th>Ext</th>\n",
       "      <th>Emotion</th>\n",
       "    </tr>\n",
       "  </thead>\n",
       "  <tbody>\n",
       "    <tr>\n",
       "      <th>0</th>\n",
       "      <td>NaN</td>\n",
       "      <td>CREMA-D</td>\n",
       "      <td>./dataset/crema-d\\AudioWAV\\1001_DFA_ANG_XX.wav</td>\n",
       "      <td>1001_DFA_ANG_XX.wav</td>\n",
       "      <td>.wav</td>\n",
       "      <td>Anger</td>\n",
       "    </tr>\n",
       "    <tr>\n",
       "      <th>1</th>\n",
       "      <td>NaN</td>\n",
       "      <td>CREMA-D</td>\n",
       "      <td>./dataset/crema-d\\AudioWAV\\1001_DFA_DIS_XX.wav</td>\n",
       "      <td>1001_DFA_DIS_XX.wav</td>\n",
       "      <td>.wav</td>\n",
       "      <td>Disgust</td>\n",
       "    </tr>\n",
       "    <tr>\n",
       "      <th>2</th>\n",
       "      <td>NaN</td>\n",
       "      <td>CREMA-D</td>\n",
       "      <td>./dataset/crema-d\\AudioWAV\\1001_DFA_FEA_XX.wav</td>\n",
       "      <td>1001_DFA_FEA_XX.wav</td>\n",
       "      <td>.wav</td>\n",
       "      <td>Fear</td>\n",
       "    </tr>\n",
       "    <tr>\n",
       "      <th>3</th>\n",
       "      <td>NaN</td>\n",
       "      <td>CREMA-D</td>\n",
       "      <td>./dataset/crema-d\\AudioWAV\\1001_DFA_HAP_XX.wav</td>\n",
       "      <td>1001_DFA_HAP_XX.wav</td>\n",
       "      <td>.wav</td>\n",
       "      <td>Happy</td>\n",
       "    </tr>\n",
       "    <tr>\n",
       "      <th>4</th>\n",
       "      <td>NaN</td>\n",
       "      <td>CREMA-D</td>\n",
       "      <td>./dataset/crema-d\\AudioWAV\\1001_DFA_NEU_XX.wav</td>\n",
       "      <td>1001_DFA_NEU_XX.wav</td>\n",
       "      <td>.wav</td>\n",
       "      <td>Neutral</td>\n",
       "    </tr>\n",
       "  </tbody>\n",
       "</table>\n",
       "</div>"
      ],
      "text/plain": [
       "    Id  Dataset                                        Filepath  \\\n",
       "0  NaN  CREMA-D  ./dataset/crema-d\\AudioWAV\\1001_DFA_ANG_XX.wav   \n",
       "1  NaN  CREMA-D  ./dataset/crema-d\\AudioWAV\\1001_DFA_DIS_XX.wav   \n",
       "2  NaN  CREMA-D  ./dataset/crema-d\\AudioWAV\\1001_DFA_FEA_XX.wav   \n",
       "3  NaN  CREMA-D  ./dataset/crema-d\\AudioWAV\\1001_DFA_HAP_XX.wav   \n",
       "4  NaN  CREMA-D  ./dataset/crema-d\\AudioWAV\\1001_DFA_NEU_XX.wav   \n",
       "\n",
       "              Filename   Ext  Emotion  \n",
       "0  1001_DFA_ANG_XX.wav  .wav    Anger  \n",
       "1  1001_DFA_DIS_XX.wav  .wav  Disgust  \n",
       "2  1001_DFA_FEA_XX.wav  .wav     Fear  \n",
       "3  1001_DFA_HAP_XX.wav  .wav    Happy  \n",
       "4  1001_DFA_NEU_XX.wav  .wav  Neutral  "
      ]
     },
     "execution_count": 11,
     "metadata": {},
     "output_type": "execute_result"
    }
   ],
   "source": [
    "crema_df.head()"
   ]
  },
  {
   "cell_type": "markdown",
   "id": "ba15aaea",
   "metadata": {},
   "source": [
    "### 2) MELD\n",
    "> https://affective-meld.github.io/\n",
    "- There are `train`, `test` and `dev` data in MELD dataset\n",
    "- We only use `train`.\n",
    "\n",
    "- `train_sent_emo.csv`, `test_sent_emo.csv`\n",
    "```shell\n",
    "\"Sr No.\"\tSerial numbers of the utterances mainly for referencing the utterances in case of different versions or multiple copies with different subsets\n",
    "\"Utterance\"\tIndividual utterances from EmotionLines as a string.\n",
    "\"Speaker\"\tName of the speaker associated with the utterance.\n",
    "\"Emotion\"\tThe emotion (neutral, joy, sadness, anger, surprise, fear, disgust) expressed by the speaker in the utterance.\n",
    "\"Sentiment\"\tThe sentiment (positive, neutral, negative) expressed by the speaker in the utterance.\n",
    "\"Dialogue_ID\"\tThe index of the dialogue starting from 0.\n",
    "\"Utterance_ID\"\tThe index of the particular utterance in the dialogue starting from 0.\n",
    "\"Season\"\tThe season no. of Friends TV Show to which a particular utterance belongs.\n",
    "\"Episode\"\tThe episode no. of Friends TV Show in a particular season to which the utterance belongs.\n",
    "\"StartTime\"\tThe starting time of the utterance in the given episode in the format 'hh:mm:ss,ms'.\n",
    "\"EndTime\"\tThe ending time of the utterance in the given episode in the format 'hh:mm:ss,ms'.\n",
    "```"
   ]
  },
  {
   "cell_type": "code",
   "execution_count": 12,
   "id": "2a62d5ae",
   "metadata": {
    "ExecuteTime": {
     "end_time": "2023-11-01T02:36:51.623636Z",
     "start_time": "2023-11-01T02:36:51.575578Z"
    }
   },
   "outputs": [
    {
     "name": "stdout",
     "output_type": "stream",
     "text": [
      "['dia0_utt0.mp4', 'dia0_utt1.mp4', 'dia0_utt10.mp4', 'dia0_utt11.mp4', 'dia0_utt12.mp4']\n"
     ]
    }
   ],
   "source": [
    "meld_dir = './dataset/meld'\n",
    "\n",
    "meld_filepath = glob.glob(os.path.join(meld_dir, \"train\", \"*.mp4\"))\n",
    "meld_filename = os.listdir(os.path.join(meld_dir, \"train\"))\n",
    "\n",
    "print(meld_filename[:5])"
   ]
  },
  {
   "cell_type": "code",
   "execution_count": 13,
   "id": "163b45a5",
   "metadata": {
    "ExecuteTime": {
     "end_time": "2023-11-01T02:36:51.760397Z",
     "start_time": "2023-11-01T02:36:51.728150Z"
    }
   },
   "outputs": [
    {
     "data": {
      "application/vnd.microsoft.datawrangler.viewer.v0+json": {
       "columns": [
        {
         "name": "index",
         "rawType": "int64",
         "type": "integer"
        },
        {
         "name": "Sr No.",
         "rawType": "int64",
         "type": "integer"
        },
        {
         "name": "Utterance",
         "rawType": "object",
         "type": "string"
        },
        {
         "name": "Speaker",
         "rawType": "object",
         "type": "string"
        },
        {
         "name": "Emotion",
         "rawType": "object",
         "type": "string"
        },
        {
         "name": "Sentiment",
         "rawType": "object",
         "type": "string"
        },
        {
         "name": "Dialogue_ID",
         "rawType": "int64",
         "type": "integer"
        },
        {
         "name": "Utterance_ID",
         "rawType": "int64",
         "type": "integer"
        },
        {
         "name": "Season",
         "rawType": "int64",
         "type": "integer"
        },
        {
         "name": "Episode",
         "rawType": "int64",
         "type": "integer"
        },
        {
         "name": "StartTime",
         "rawType": "object",
         "type": "string"
        },
        {
         "name": "EndTime",
         "rawType": "object",
         "type": "string"
        }
       ],
       "conversionMethod": "pd.DataFrame",
       "ref": "249c6495-275a-4649-8095-9f4d30e7b145",
       "rows": [
        [
         "0",
         "1",
         "also I was the point person on my companys transition from the KL-5 to GR-6 system.",
         "Chandler",
         "neutral",
         "neutral",
         "0",
         "0",
         "8",
         "21",
         "00:16:16,059",
         "00:16:21,731"
        ],
        [
         "1",
         "2",
         "You mustve had your hands full.",
         "The Interviewer",
         "neutral",
         "neutral",
         "0",
         "1",
         "8",
         "21",
         "00:16:21,940",
         "00:16:23,442"
        ],
        [
         "2",
         "3",
         "That I did. That I did.",
         "Chandler",
         "neutral",
         "neutral",
         "0",
         "2",
         "8",
         "21",
         "00:16:23,442",
         "00:16:26,389"
        ],
        [
         "3",
         "4",
         "So lets talk a little bit about your duties.",
         "The Interviewer",
         "neutral",
         "neutral",
         "0",
         "3",
         "8",
         "21",
         "00:16:26,820",
         "00:16:29,572"
        ],
        [
         "4",
         "5",
         "My duties?  All right.",
         "Chandler",
         "surprise",
         "positive",
         "0",
         "4",
         "8",
         "21",
         "00:16:34,452",
         "00:16:40,917"
        ]
       ],
       "shape": {
        "columns": 11,
        "rows": 5
       }
      },
      "text/html": [
       "<div>\n",
       "<style scoped>\n",
       "    .dataframe tbody tr th:only-of-type {\n",
       "        vertical-align: middle;\n",
       "    }\n",
       "\n",
       "    .dataframe tbody tr th {\n",
       "        vertical-align: top;\n",
       "    }\n",
       "\n",
       "    .dataframe thead th {\n",
       "        text-align: right;\n",
       "    }\n",
       "</style>\n",
       "<table border=\"1\" class=\"dataframe\">\n",
       "  <thead>\n",
       "    <tr style=\"text-align: right;\">\n",
       "      <th></th>\n",
       "      <th>Sr No.</th>\n",
       "      <th>Utterance</th>\n",
       "      <th>Speaker</th>\n",
       "      <th>Emotion</th>\n",
       "      <th>Sentiment</th>\n",
       "      <th>Dialogue_ID</th>\n",
       "      <th>Utterance_ID</th>\n",
       "      <th>Season</th>\n",
       "      <th>Episode</th>\n",
       "      <th>StartTime</th>\n",
       "      <th>EndTime</th>\n",
       "    </tr>\n",
       "  </thead>\n",
       "  <tbody>\n",
       "    <tr>\n",
       "      <th>0</th>\n",
       "      <td>1</td>\n",
       "      <td>also I was the point person on my companys tr...</td>\n",
       "      <td>Chandler</td>\n",
       "      <td>neutral</td>\n",
       "      <td>neutral</td>\n",
       "      <td>0</td>\n",
       "      <td>0</td>\n",
       "      <td>8</td>\n",
       "      <td>21</td>\n",
       "      <td>00:16:16,059</td>\n",
       "      <td>00:16:21,731</td>\n",
       "    </tr>\n",
       "    <tr>\n",
       "      <th>1</th>\n",
       "      <td>2</td>\n",
       "      <td>You mustve had your hands full.</td>\n",
       "      <td>The Interviewer</td>\n",
       "      <td>neutral</td>\n",
       "      <td>neutral</td>\n",
       "      <td>0</td>\n",
       "      <td>1</td>\n",
       "      <td>8</td>\n",
       "      <td>21</td>\n",
       "      <td>00:16:21,940</td>\n",
       "      <td>00:16:23,442</td>\n",
       "    </tr>\n",
       "    <tr>\n",
       "      <th>2</th>\n",
       "      <td>3</td>\n",
       "      <td>That I did. That I did.</td>\n",
       "      <td>Chandler</td>\n",
       "      <td>neutral</td>\n",
       "      <td>neutral</td>\n",
       "      <td>0</td>\n",
       "      <td>2</td>\n",
       "      <td>8</td>\n",
       "      <td>21</td>\n",
       "      <td>00:16:23,442</td>\n",
       "      <td>00:16:26,389</td>\n",
       "    </tr>\n",
       "    <tr>\n",
       "      <th>3</th>\n",
       "      <td>4</td>\n",
       "      <td>So lets talk a little bit about your duties.</td>\n",
       "      <td>The Interviewer</td>\n",
       "      <td>neutral</td>\n",
       "      <td>neutral</td>\n",
       "      <td>0</td>\n",
       "      <td>3</td>\n",
       "      <td>8</td>\n",
       "      <td>21</td>\n",
       "      <td>00:16:26,820</td>\n",
       "      <td>00:16:29,572</td>\n",
       "    </tr>\n",
       "    <tr>\n",
       "      <th>4</th>\n",
       "      <td>5</td>\n",
       "      <td>My duties?  All right.</td>\n",
       "      <td>Chandler</td>\n",
       "      <td>surprise</td>\n",
       "      <td>positive</td>\n",
       "      <td>0</td>\n",
       "      <td>4</td>\n",
       "      <td>8</td>\n",
       "      <td>21</td>\n",
       "      <td>00:16:34,452</td>\n",
       "      <td>00:16:40,917</td>\n",
       "    </tr>\n",
       "  </tbody>\n",
       "</table>\n",
       "</div>"
      ],
      "text/plain": [
       "   Sr No.                                          Utterance          Speaker  \\\n",
       "0       1  also I was the point person on my companys tr...         Chandler   \n",
       "1       2                   You mustve had your hands full.  The Interviewer   \n",
       "2       3                            That I did. That I did.         Chandler   \n",
       "3       4      So lets talk a little bit about your duties.  The Interviewer   \n",
       "4       5                             My duties?  All right.         Chandler   \n",
       "\n",
       "    Emotion Sentiment  Dialogue_ID  Utterance_ID  Season  Episode  \\\n",
       "0   neutral   neutral            0             0       8       21   \n",
       "1   neutral   neutral            0             1       8       21   \n",
       "2   neutral   neutral            0             2       8       21   \n",
       "3   neutral   neutral            0             3       8       21   \n",
       "4  surprise  positive            0             4       8       21   \n",
       "\n",
       "      StartTime       EndTime  \n",
       "0  00:16:16,059  00:16:21,731  \n",
       "1  00:16:21,940  00:16:23,442  \n",
       "2  00:16:23,442  00:16:26,389  \n",
       "3  00:16:26,820  00:16:29,572  \n",
       "4  00:16:34,452  00:16:40,917  "
      ]
     },
     "execution_count": 13,
     "metadata": {},
     "output_type": "execute_result"
    }
   ],
   "source": [
    "meld_sub_df = pd.read_csv(os.path.join(meld_dir, 'train_sent_emo.csv'))\n",
    "\n",
    "meld_sub_df.head()"
   ]
  },
  {
   "cell_type": "code",
   "execution_count": 14,
   "id": "af2d7a3d",
   "metadata": {
    "ExecuteTime": {
     "end_time": "2023-11-01T02:36:55.113429Z",
     "start_time": "2023-11-01T02:36:53.064016Z"
    }
   },
   "outputs": [],
   "source": [
    "meld_emotion = []\n",
    "meld_ext = []\n",
    "emotion_list = {\"anger\":\"Anger\", \"disgust\":\"Disgust\", \"fear\":\"Fear\", \"joy\":\"Happy\", \n",
    "                \"neutral\":\"Neutral\", \"sadness\":\"Sad\", \"surprise\":\"Surprise\"}\n",
    "for fn in meld_filename:\n",
    "    name, ext = os.path.splitext(fn)\n",
    "    dia, utt = name.split(\"_\")\n",
    "    dia = int(dia.replace(\"dia\", \"\"))\n",
    "    utt = int(utt.replace(\"utt\", \"\"))\n",
    "    \n",
    "    row = meld_sub_df[(meld_sub_df['Dialogue_ID']==dia) & (meld_sub_df['Utterance_ID']==utt)]\n",
    "    \n",
    "    emo = row['Emotion'].values[0]\n",
    "    meld_emotion.append(emotion_list[emo])\n",
    "    \n",
    "    meld_ext.append(ext)"
   ]
  },
  {
   "cell_type": "code",
   "execution_count": 15,
   "id": "a4358de3",
   "metadata": {
    "ExecuteTime": {
     "end_time": "2023-11-01T02:36:55.129429Z",
     "start_time": "2023-11-01T02:36:55.114512Z"
    }
   },
   "outputs": [
    {
     "name": "stdout",
     "output_type": "stream",
     "text": [
      "The Number of MELD Dataset: 9988\n"
     ]
    }
   ],
   "source": [
    "meld_count = len(meld_ext)\n",
    "print(\"The Number of MELD Dataset:\", meld_count)"
   ]
  },
  {
   "cell_type": "code",
   "execution_count": 16,
   "id": "6e4c27f1",
   "metadata": {
    "ExecuteTime": {
     "end_time": "2023-11-01T02:36:56.076883Z",
     "start_time": "2023-11-01T02:36:56.071822Z"
    }
   },
   "outputs": [],
   "source": [
    "meld_df = pd.DataFrame(index = range(0, meld_count), \n",
    "                  columns = ['Id', 'Dataset', 'Filepath', 'Filename', 'Ext', 'Emotion'])"
   ]
  },
  {
   "cell_type": "code",
   "execution_count": 17,
   "id": "573d1a50",
   "metadata": {
    "ExecuteTime": {
     "end_time": "2023-11-01T02:36:56.992838Z",
     "start_time": "2023-11-01T02:36:56.975663Z"
    }
   },
   "outputs": [],
   "source": [
    "meld_df['Dataset'] = [\"MELD\"] * meld_count\n",
    "meld_df['Filepath'] = meld_filepath\n",
    "meld_df['Filename'] = meld_filename\n",
    "meld_df['Ext'] = meld_ext\n",
    "meld_df['Emotion'] = meld_emotion"
   ]
  },
  {
   "cell_type": "code",
   "execution_count": 18,
   "id": "b37d1ede",
   "metadata": {
    "ExecuteTime": {
     "end_time": "2023-11-01T02:36:57.218438Z",
     "start_time": "2023-11-01T02:36:57.196885Z"
    }
   },
   "outputs": [
    {
     "data": {
      "application/vnd.microsoft.datawrangler.viewer.v0+json": {
       "columns": [
        {
         "name": "index",
         "rawType": "int64",
         "type": "integer"
        },
        {
         "name": "Id",
         "rawType": "object",
         "type": "unknown"
        },
        {
         "name": "Dataset",
         "rawType": "object",
         "type": "string"
        },
        {
         "name": "Filepath",
         "rawType": "object",
         "type": "string"
        },
        {
         "name": "Filename",
         "rawType": "object",
         "type": "string"
        },
        {
         "name": "Ext",
         "rawType": "object",
         "type": "string"
        },
        {
         "name": "Emotion",
         "rawType": "object",
         "type": "string"
        }
       ],
       "conversionMethod": "pd.DataFrame",
       "ref": "146cae43-72d4-41cc-a851-05b5eceb382d",
       "rows": [
        [
         "0",
         null,
         "MELD",
         "./dataset/meld\\train\\dia0_utt0.mp4",
         "dia0_utt0.mp4",
         ".mp4",
         "Neutral"
        ],
        [
         "1",
         null,
         "MELD",
         "./dataset/meld\\train\\dia0_utt1.mp4",
         "dia0_utt1.mp4",
         ".mp4",
         "Neutral"
        ],
        [
         "2",
         null,
         "MELD",
         "./dataset/meld\\train\\dia0_utt10.mp4",
         "dia0_utt10.mp4",
         ".mp4",
         "Fear"
        ],
        [
         "3",
         null,
         "MELD",
         "./dataset/meld\\train\\dia0_utt11.mp4",
         "dia0_utt11.mp4",
         ".mp4",
         "Neutral"
        ],
        [
         "4",
         null,
         "MELD",
         "./dataset/meld\\train\\dia0_utt12.mp4",
         "dia0_utt12.mp4",
         ".mp4",
         "Surprise"
        ]
       ],
       "shape": {
        "columns": 6,
        "rows": 5
       }
      },
      "text/html": [
       "<div>\n",
       "<style scoped>\n",
       "    .dataframe tbody tr th:only-of-type {\n",
       "        vertical-align: middle;\n",
       "    }\n",
       "\n",
       "    .dataframe tbody tr th {\n",
       "        vertical-align: top;\n",
       "    }\n",
       "\n",
       "    .dataframe thead th {\n",
       "        text-align: right;\n",
       "    }\n",
       "</style>\n",
       "<table border=\"1\" class=\"dataframe\">\n",
       "  <thead>\n",
       "    <tr style=\"text-align: right;\">\n",
       "      <th></th>\n",
       "      <th>Id</th>\n",
       "      <th>Dataset</th>\n",
       "      <th>Filepath</th>\n",
       "      <th>Filename</th>\n",
       "      <th>Ext</th>\n",
       "      <th>Emotion</th>\n",
       "    </tr>\n",
       "  </thead>\n",
       "  <tbody>\n",
       "    <tr>\n",
       "      <th>0</th>\n",
       "      <td>NaN</td>\n",
       "      <td>MELD</td>\n",
       "      <td>./dataset/meld\\train\\dia0_utt0.mp4</td>\n",
       "      <td>dia0_utt0.mp4</td>\n",
       "      <td>.mp4</td>\n",
       "      <td>Neutral</td>\n",
       "    </tr>\n",
       "    <tr>\n",
       "      <th>1</th>\n",
       "      <td>NaN</td>\n",
       "      <td>MELD</td>\n",
       "      <td>./dataset/meld\\train\\dia0_utt1.mp4</td>\n",
       "      <td>dia0_utt1.mp4</td>\n",
       "      <td>.mp4</td>\n",
       "      <td>Neutral</td>\n",
       "    </tr>\n",
       "    <tr>\n",
       "      <th>2</th>\n",
       "      <td>NaN</td>\n",
       "      <td>MELD</td>\n",
       "      <td>./dataset/meld\\train\\dia0_utt10.mp4</td>\n",
       "      <td>dia0_utt10.mp4</td>\n",
       "      <td>.mp4</td>\n",
       "      <td>Fear</td>\n",
       "    </tr>\n",
       "    <tr>\n",
       "      <th>3</th>\n",
       "      <td>NaN</td>\n",
       "      <td>MELD</td>\n",
       "      <td>./dataset/meld\\train\\dia0_utt11.mp4</td>\n",
       "      <td>dia0_utt11.mp4</td>\n",
       "      <td>.mp4</td>\n",
       "      <td>Neutral</td>\n",
       "    </tr>\n",
       "    <tr>\n",
       "      <th>4</th>\n",
       "      <td>NaN</td>\n",
       "      <td>MELD</td>\n",
       "      <td>./dataset/meld\\train\\dia0_utt12.mp4</td>\n",
       "      <td>dia0_utt12.mp4</td>\n",
       "      <td>.mp4</td>\n",
       "      <td>Surprise</td>\n",
       "    </tr>\n",
       "  </tbody>\n",
       "</table>\n",
       "</div>"
      ],
      "text/plain": [
       "    Id Dataset                             Filepath        Filename   Ext  \\\n",
       "0  NaN    MELD   ./dataset/meld\\train\\dia0_utt0.mp4   dia0_utt0.mp4  .mp4   \n",
       "1  NaN    MELD   ./dataset/meld\\train\\dia0_utt1.mp4   dia0_utt1.mp4  .mp4   \n",
       "2  NaN    MELD  ./dataset/meld\\train\\dia0_utt10.mp4  dia0_utt10.mp4  .mp4   \n",
       "3  NaN    MELD  ./dataset/meld\\train\\dia0_utt11.mp4  dia0_utt11.mp4  .mp4   \n",
       "4  NaN    MELD  ./dataset/meld\\train\\dia0_utt12.mp4  dia0_utt12.mp4  .mp4   \n",
       "\n",
       "    Emotion  \n",
       "0   Neutral  \n",
       "1   Neutral  \n",
       "2      Fear  \n",
       "3   Neutral  \n",
       "4  Surprise  "
      ]
     },
     "execution_count": 18,
     "metadata": {},
     "output_type": "execute_result"
    }
   ],
   "source": [
    "meld_df.head()"
   ]
  },
  {
   "cell_type": "markdown",
   "id": "626c421b",
   "metadata": {
    "ExecuteTime": {
     "end_time": "2023-10-30T00:41:33.040641Z",
     "start_time": "2023-10-30T00:41:33.024528Z"
    }
   },
   "source": [
    "### 3) MLEnd\n",
    "> https://www.kaggle.com/datasets/jesusrequena/mlend-spoken-numerals\n",
    "- Speakers read one english word (zero to billion)."
   ]
  },
  {
   "cell_type": "code",
   "execution_count": 19,
   "id": "287f16ba",
   "metadata": {
    "ExecuteTime": {
     "end_time": "2023-11-01T02:36:58.833811Z",
     "start_time": "2023-11-01T02:36:58.739197Z"
    }
   },
   "outputs": [
    {
     "name": "stdout",
     "output_type": "stream",
     "text": [
      "['00000.wav', '00001.wav', '00003.wav', '00004.wav', '00005.wav']\n"
     ]
    }
   ],
   "source": [
    "mlend_dir = './dataset/mlend'\n",
    "\n",
    "mlend_filepath = glob.glob(os.path.join(mlend_dir, 'MLEndSND_Public', \"*.wav\"))\n",
    "mlend_filename = os.listdir(os.path.join(mlend_dir, 'MLEndSND_Public'))\n",
    "\n",
    "print(mlend_filename[:5])"
   ]
  },
  {
   "cell_type": "code",
   "execution_count": 20,
   "id": "7852d819",
   "metadata": {
    "ExecuteTime": {
     "end_time": "2023-11-01T02:36:58.904314Z",
     "start_time": "2023-11-01T02:36:58.878215Z"
    }
   },
   "outputs": [
    {
     "name": "stdout",
     "output_type": "stream",
     "text": [
      "./dataset/mlend\\MLEndSND_Audio_Attributes.csv\n",
      "       Public filename     Numeral Intonation  Speaker\n",
      "32649            47063          11    neutral       33\n",
      "32650            47064           9    excited       91\n",
      "32651            47065  1000000000    neutral      111\n",
      "32652            47066        1000    neutral       15\n",
      "32653            47067           0    neutral       82 \n",
      "\n"
     ]
    }
   ],
   "source": [
    "for path in glob.glob(os.path.join(mlend_dir, \"*.csv\")):\n",
    "    print(path)\n",
    "    csv = pd.read_csv(path)\n",
    "    print(csv.tail(), \"\\n\")"
   ]
  },
  {
   "cell_type": "code",
   "execution_count": 21,
   "id": "36a6b214",
   "metadata": {
    "ExecuteTime": {
     "end_time": "2023-11-01T02:36:59.070894Z",
     "start_time": "2023-11-01T02:36:59.047992Z"
    }
   },
   "outputs": [
    {
     "data": {
      "application/vnd.microsoft.datawrangler.viewer.v0+json": {
       "columns": [
        {
         "name": "index",
         "rawType": "int64",
         "type": "integer"
        },
        {
         "name": "Public filename",
         "rawType": "int64",
         "type": "integer"
        },
        {
         "name": "Numeral",
         "rawType": "int64",
         "type": "integer"
        },
        {
         "name": "Intonation",
         "rawType": "object",
         "type": "string"
        },
        {
         "name": "Speaker",
         "rawType": "int64",
         "type": "integer"
        }
       ],
       "conversionMethod": "pd.DataFrame",
       "ref": "574e5293-a271-42da-81d5-0e9a457f7ead",
       "rows": [
        [
         "0",
         "0",
         "3",
         "excited",
         "59"
        ],
        [
         "1",
         "1",
         "1000000",
         "question",
         "31"
        ],
        [
         "2",
         "3",
         "15",
         "excited",
         "107"
        ],
        [
         "3",
         "4",
         "13",
         "excited",
         "114"
        ],
        [
         "4",
         "5",
         "19",
         "neutral",
         "132"
        ]
       ],
       "shape": {
        "columns": 4,
        "rows": 5
       }
      },
      "text/html": [
       "<div>\n",
       "<style scoped>\n",
       "    .dataframe tbody tr th:only-of-type {\n",
       "        vertical-align: middle;\n",
       "    }\n",
       "\n",
       "    .dataframe tbody tr th {\n",
       "        vertical-align: top;\n",
       "    }\n",
       "\n",
       "    .dataframe thead th {\n",
       "        text-align: right;\n",
       "    }\n",
       "</style>\n",
       "<table border=\"1\" class=\"dataframe\">\n",
       "  <thead>\n",
       "    <tr style=\"text-align: right;\">\n",
       "      <th></th>\n",
       "      <th>Public filename</th>\n",
       "      <th>Numeral</th>\n",
       "      <th>Intonation</th>\n",
       "      <th>Speaker</th>\n",
       "    </tr>\n",
       "  </thead>\n",
       "  <tbody>\n",
       "    <tr>\n",
       "      <th>0</th>\n",
       "      <td>0</td>\n",
       "      <td>3</td>\n",
       "      <td>excited</td>\n",
       "      <td>59</td>\n",
       "    </tr>\n",
       "    <tr>\n",
       "      <th>1</th>\n",
       "      <td>1</td>\n",
       "      <td>1000000</td>\n",
       "      <td>question</td>\n",
       "      <td>31</td>\n",
       "    </tr>\n",
       "    <tr>\n",
       "      <th>2</th>\n",
       "      <td>3</td>\n",
       "      <td>15</td>\n",
       "      <td>excited</td>\n",
       "      <td>107</td>\n",
       "    </tr>\n",
       "    <tr>\n",
       "      <th>3</th>\n",
       "      <td>4</td>\n",
       "      <td>13</td>\n",
       "      <td>excited</td>\n",
       "      <td>114</td>\n",
       "    </tr>\n",
       "    <tr>\n",
       "      <th>4</th>\n",
       "      <td>5</td>\n",
       "      <td>19</td>\n",
       "      <td>neutral</td>\n",
       "      <td>132</td>\n",
       "    </tr>\n",
       "  </tbody>\n",
       "</table>\n",
       "</div>"
      ],
      "text/plain": [
       "   Public filename  Numeral Intonation  Speaker\n",
       "0                0        3    excited       59\n",
       "1                1  1000000   question       31\n",
       "2                3       15    excited      107\n",
       "3                4       13    excited      114\n",
       "4                5       19    neutral      132"
      ]
     },
     "execution_count": 21,
     "metadata": {},
     "output_type": "execute_result"
    }
   ],
   "source": [
    "mlend_sub_df1 = pd.read_csv(\"./dataset/mlend\\MLEndSND_Audio_Attributes.csv\")\n",
    "mlend_sub_df1.head()"
   ]
  },
  {
   "cell_type": "code",
   "execution_count": 22,
   "id": "eb16d6a3",
   "metadata": {
    "ExecuteTime": {
     "end_time": "2023-11-01T02:37:00.026802Z",
     "start_time": "2023-11-01T02:37:00.016054Z"
    }
   },
   "outputs": [
    {
     "name": "stdout",
     "output_type": "stream",
     "text": [
      "The Number of MLEND Dataset: 32654\n"
     ]
    }
   ],
   "source": [
    "mlend_count = len(mlend_filename)\n",
    "print(\"The Number of MLEND Dataset:\", mlend_count)"
   ]
  },
  {
   "cell_type": "code",
   "execution_count": 23,
   "id": "9bd66ca7",
   "metadata": {
    "ExecuteTime": {
     "end_time": "2023-11-01T02:37:05.639683Z",
     "start_time": "2023-11-01T02:37:01.061002Z"
    }
   },
   "outputs": [],
   "source": [
    "mlend_emotion = []\n",
    "mlend_ext = []\n",
    "emotion_list = {\"excited\":\"Happy\", \"neutral\":\"Neutral\", \"bored\":\"Bored\", \"question\":\"Question\"}\n",
    "for i in range(mlend_count):\n",
    "    _, ext = os.path.splitext(mlend_filename[i])\n",
    "    speaker_num = mlend_sub_df1.iloc[i][\"Speaker\"]\n",
    "    speaker = \"Mlend_\" + str(speaker_num)\n",
    "        \n",
    "    emotion = mlend_sub_df1.iloc[i][\"Intonation\"]\n",
    "    emotion = emotion_list[emotion]\n",
    "    \n",
    "    mlend_emotion.append(emotion)\n",
    "    mlend_ext.append(ext)"
   ]
  },
  {
   "cell_type": "code",
   "execution_count": 24,
   "id": "113462ff",
   "metadata": {
    "ExecuteTime": {
     "end_time": "2023-11-01T02:37:05.660052Z",
     "start_time": "2023-11-01T02:37:05.639683Z"
    }
   },
   "outputs": [],
   "source": [
    "mlend_df = pd.DataFrame(index = range(0, mlend_count), \n",
    "                  columns = ['Id', 'Dataset', 'Filepath', 'Filename', 'Ext', 'Emotion'])"
   ]
  },
  {
   "cell_type": "code",
   "execution_count": 25,
   "id": "42e22955",
   "metadata": {
    "ExecuteTime": {
     "end_time": "2023-11-01T02:37:06.511346Z",
     "start_time": "2023-11-01T02:37:06.502164Z"
    }
   },
   "outputs": [],
   "source": [
    "mlend_df['Dataset'] = [\"MLEND\"] * mlend_count\n",
    "mlend_df['Filepath'] = mlend_filepath\n",
    "mlend_df['Filename'] = mlend_filename\n",
    "mlend_df['Ext'] = mlend_ext\n",
    "mlend_df['Emotion'] = mlend_emotion"
   ]
  },
  {
   "cell_type": "code",
   "execution_count": 26,
   "id": "0adf2872",
   "metadata": {
    "ExecuteTime": {
     "end_time": "2023-11-01T02:37:06.709133Z",
     "start_time": "2023-11-01T02:37:06.676759Z"
    }
   },
   "outputs": [
    {
     "data": {
      "application/vnd.microsoft.datawrangler.viewer.v0+json": {
       "columns": [
        {
         "name": "index",
         "rawType": "int64",
         "type": "integer"
        },
        {
         "name": "Id",
         "rawType": "object",
         "type": "unknown"
        },
        {
         "name": "Dataset",
         "rawType": "object",
         "type": "string"
        },
        {
         "name": "Filepath",
         "rawType": "object",
         "type": "string"
        },
        {
         "name": "Filename",
         "rawType": "object",
         "type": "string"
        },
        {
         "name": "Ext",
         "rawType": "object",
         "type": "string"
        },
        {
         "name": "Emotion",
         "rawType": "object",
         "type": "string"
        }
       ],
       "conversionMethod": "pd.DataFrame",
       "ref": "eeb6c659-6a8a-406b-a752-d220628e910d",
       "rows": [
        [
         "0",
         null,
         "MLEND",
         "./dataset/mlend\\MLEndSND_Public\\00000.wav",
         "00000.wav",
         ".wav",
         "Happy"
        ],
        [
         "1",
         null,
         "MLEND",
         "./dataset/mlend\\MLEndSND_Public\\00001.wav",
         "00001.wav",
         ".wav",
         "Question"
        ],
        [
         "2",
         null,
         "MLEND",
         "./dataset/mlend\\MLEndSND_Public\\00003.wav",
         "00003.wav",
         ".wav",
         "Happy"
        ],
        [
         "3",
         null,
         "MLEND",
         "./dataset/mlend\\MLEndSND_Public\\00004.wav",
         "00004.wav",
         ".wav",
         "Happy"
        ],
        [
         "4",
         null,
         "MLEND",
         "./dataset/mlend\\MLEndSND_Public\\00005.wav",
         "00005.wav",
         ".wav",
         "Neutral"
        ]
       ],
       "shape": {
        "columns": 6,
        "rows": 5
       }
      },
      "text/html": [
       "<div>\n",
       "<style scoped>\n",
       "    .dataframe tbody tr th:only-of-type {\n",
       "        vertical-align: middle;\n",
       "    }\n",
       "\n",
       "    .dataframe tbody tr th {\n",
       "        vertical-align: top;\n",
       "    }\n",
       "\n",
       "    .dataframe thead th {\n",
       "        text-align: right;\n",
       "    }\n",
       "</style>\n",
       "<table border=\"1\" class=\"dataframe\">\n",
       "  <thead>\n",
       "    <tr style=\"text-align: right;\">\n",
       "      <th></th>\n",
       "      <th>Id</th>\n",
       "      <th>Dataset</th>\n",
       "      <th>Filepath</th>\n",
       "      <th>Filename</th>\n",
       "      <th>Ext</th>\n",
       "      <th>Emotion</th>\n",
       "    </tr>\n",
       "  </thead>\n",
       "  <tbody>\n",
       "    <tr>\n",
       "      <th>0</th>\n",
       "      <td>NaN</td>\n",
       "      <td>MLEND</td>\n",
       "      <td>./dataset/mlend\\MLEndSND_Public\\00000.wav</td>\n",
       "      <td>00000.wav</td>\n",
       "      <td>.wav</td>\n",
       "      <td>Happy</td>\n",
       "    </tr>\n",
       "    <tr>\n",
       "      <th>1</th>\n",
       "      <td>NaN</td>\n",
       "      <td>MLEND</td>\n",
       "      <td>./dataset/mlend\\MLEndSND_Public\\00001.wav</td>\n",
       "      <td>00001.wav</td>\n",
       "      <td>.wav</td>\n",
       "      <td>Question</td>\n",
       "    </tr>\n",
       "    <tr>\n",
       "      <th>2</th>\n",
       "      <td>NaN</td>\n",
       "      <td>MLEND</td>\n",
       "      <td>./dataset/mlend\\MLEndSND_Public\\00003.wav</td>\n",
       "      <td>00003.wav</td>\n",
       "      <td>.wav</td>\n",
       "      <td>Happy</td>\n",
       "    </tr>\n",
       "    <tr>\n",
       "      <th>3</th>\n",
       "      <td>NaN</td>\n",
       "      <td>MLEND</td>\n",
       "      <td>./dataset/mlend\\MLEndSND_Public\\00004.wav</td>\n",
       "      <td>00004.wav</td>\n",
       "      <td>.wav</td>\n",
       "      <td>Happy</td>\n",
       "    </tr>\n",
       "    <tr>\n",
       "      <th>4</th>\n",
       "      <td>NaN</td>\n",
       "      <td>MLEND</td>\n",
       "      <td>./dataset/mlend\\MLEndSND_Public\\00005.wav</td>\n",
       "      <td>00005.wav</td>\n",
       "      <td>.wav</td>\n",
       "      <td>Neutral</td>\n",
       "    </tr>\n",
       "  </tbody>\n",
       "</table>\n",
       "</div>"
      ],
      "text/plain": [
       "    Id Dataset                                   Filepath   Filename   Ext  \\\n",
       "0  NaN   MLEND  ./dataset/mlend\\MLEndSND_Public\\00000.wav  00000.wav  .wav   \n",
       "1  NaN   MLEND  ./dataset/mlend\\MLEndSND_Public\\00001.wav  00001.wav  .wav   \n",
       "2  NaN   MLEND  ./dataset/mlend\\MLEndSND_Public\\00003.wav  00003.wav  .wav   \n",
       "3  NaN   MLEND  ./dataset/mlend\\MLEndSND_Public\\00004.wav  00004.wav  .wav   \n",
       "4  NaN   MLEND  ./dataset/mlend\\MLEndSND_Public\\00005.wav  00005.wav  .wav   \n",
       "\n",
       "    Emotion  \n",
       "0     Happy  \n",
       "1  Question  \n",
       "2     Happy  \n",
       "3     Happy  \n",
       "4   Neutral  "
      ]
     },
     "execution_count": 26,
     "metadata": {},
     "output_type": "execute_result"
    }
   ],
   "source": [
    "mlend_df.head()"
   ]
  },
  {
   "cell_type": "markdown",
   "id": "b9ed6f47",
   "metadata": {},
   "source": [
    "### 4) RAVDESS\n",
    "> https://www.kaggle.com/datasets/uwrfkaggler/ravdess-emotional-speech-audio\n",
    "- Only two kinds of statement.\n",
    "\n",
    "- Labels in Filename.\n",
    "```shell\n",
    "Modality (01 = full-AV, 02 = video-only, 03 = audio-only).\n",
    "Vocal channel (01 = speech, 02 = song).\n",
    "Emotion (01 = neutral, 02 = calm, 03 = happy, 04 = sad, 05 = angry, 06 = fearful, 07 = disgust, 08 = surprised).\n",
    "Emotional intensity (01 = normal, 02 = strong). NOTE: There is no strong intensity for the 'neutral' emotion.\n",
    "Statement (01 = \"Kids are talking by the door\", 02 = \"Dogs are sitting by the door\").\n",
    "Repetition (01 = 1st repetition, 02 = 2nd repetition).\n",
    "Actor (01 to 24. Odd numbered actors are male, even numbered actors are female).\n",
    "```\n",
    "```shell\n",
    "Filename example: 03-01-06-01-02-01-12.wav\n",
    "\n",
    "Audio-only (03)\n",
    "Speech (01)\n",
    "Fearful (06)\n",
    "Normal intensity (01)\n",
    "Statement \"dogs\" (02)\n",
    "1st Repetition (01)\n",
    "12th Actor (12)\n",
    "Female, as the actor ID number is even.\n",
    "```"
   ]
  },
  {
   "cell_type": "code",
   "execution_count": 27,
   "id": "be541cb6",
   "metadata": {
    "ExecuteTime": {
     "end_time": "2023-11-01T02:37:08.399698Z",
     "start_time": "2023-11-01T02:37:08.391575Z"
    }
   },
   "outputs": [
    {
     "data": {
      "text/plain": [
       "['Actor_01', 'Actor_02', 'Actor_03', 'Actor_04', 'Actor_05']"
      ]
     },
     "execution_count": 27,
     "metadata": {},
     "output_type": "execute_result"
    }
   ],
   "source": [
    "rav_dir = './dataset/ravdess'\n",
    "actor_list = os.listdir(rav_dir)\n",
    "actor_list[:5]"
   ]
  },
  {
   "cell_type": "code",
   "execution_count": 28,
   "id": "edcadccd",
   "metadata": {
    "ExecuteTime": {
     "end_time": "2023-11-01T02:37:08.877006Z",
     "start_time": "2023-11-01T02:37:08.832321Z"
    }
   },
   "outputs": [],
   "source": [
    "rav_filepath = []\n",
    "rav_filename = []\n",
    "rav_ext = []\n",
    "rav_emotion = []\n",
    "\n",
    "emotion_list = {'01':'Neutral', '02':'Calm', '03':'Happy', '04':'Sad', '05':'Anger', '06':'Fear', '07':'Disgust', '08':'Surprise'}\n",
    "\n",
    "for act in actor_list:\n",
    "    paths = glob.glob(os.path.join(rav_dir, act, \"*.wav\")) \n",
    "    names = os.listdir(os.path.join(rav_dir, act))\n",
    "    \n",
    "    for i in range(len(names)):\n",
    "        name, ext = os.path.splitext(names[i])\n",
    "        num_list = name.split(\"-\")\n",
    "        \n",
    "        emotion = emotion_list[num_list[2]]\n",
    "        speaker = \"Ravdess_\" + num_list[6]\n",
    "        \n",
    "        if int(num_list[6])%2 == 0:\n",
    "            gender = 'Female'\n",
    "        else:\n",
    "            gender = \"Male\"\n",
    "        \n",
    "        rav_filepath.append(paths[i])\n",
    "        rav_filename.append(names[i])\n",
    "        rav_ext.append(ext)\n",
    "        \n",
    "        rav_emotion.append(emotion)"
   ]
  },
  {
   "cell_type": "code",
   "execution_count": 29,
   "id": "9fffb11e",
   "metadata": {
    "ExecuteTime": {
     "end_time": "2023-11-01T02:37:09.709999Z",
     "start_time": "2023-11-01T02:37:09.703688Z"
    }
   },
   "outputs": [
    {
     "name": "stdout",
     "output_type": "stream",
     "text": [
      "The Number of RAVDESS Dataset: 1440\n"
     ]
    }
   ],
   "source": [
    "rav_count = len(rav_filepath)\n",
    "print(\"The Number of RAVDESS Dataset:\", rav_count)"
   ]
  },
  {
   "cell_type": "code",
   "execution_count": 30,
   "id": "4b5c56a5",
   "metadata": {
    "ExecuteTime": {
     "end_time": "2023-11-01T02:37:11.360244Z",
     "start_time": "2023-11-01T02:37:11.352199Z"
    }
   },
   "outputs": [],
   "source": [
    "rav_df = pd.DataFrame(index = range(0, rav_count), \n",
    "                  columns = ['Id', 'Dataset', 'Filepath', 'Filename', 'Ext', 'Emotion'])"
   ]
  },
  {
   "cell_type": "code",
   "execution_count": 31,
   "id": "26b96524",
   "metadata": {
    "ExecuteTime": {
     "end_time": "2023-11-01T02:37:11.543005Z",
     "start_time": "2023-11-01T02:37:11.527381Z"
    }
   },
   "outputs": [],
   "source": [
    "rav_df[\"Dataset\"] = [\"RAVDESS\"] * rav_count\n",
    "rav_df['Filepath'] = rav_filepath\n",
    "rav_df['Filename'] = rav_filename\n",
    "rav_df['Ext'] = rav_ext\n",
    "rav_df['Emotion'] = rav_emotion"
   ]
  },
  {
   "cell_type": "code",
   "execution_count": 32,
   "id": "9e906952",
   "metadata": {
    "ExecuteTime": {
     "end_time": "2023-11-01T02:37:11.759183Z",
     "start_time": "2023-11-01T02:37:11.727689Z"
    }
   },
   "outputs": [
    {
     "data": {
      "application/vnd.microsoft.datawrangler.viewer.v0+json": {
       "columns": [
        {
         "name": "index",
         "rawType": "int64",
         "type": "integer"
        },
        {
         "name": "Id",
         "rawType": "object",
         "type": "unknown"
        },
        {
         "name": "Dataset",
         "rawType": "object",
         "type": "string"
        },
        {
         "name": "Filepath",
         "rawType": "object",
         "type": "string"
        },
        {
         "name": "Filename",
         "rawType": "object",
         "type": "string"
        },
        {
         "name": "Ext",
         "rawType": "object",
         "type": "string"
        },
        {
         "name": "Emotion",
         "rawType": "object",
         "type": "string"
        }
       ],
       "conversionMethod": "pd.DataFrame",
       "ref": "93a08e56-df44-42c7-b96e-ca50faf8bb52",
       "rows": [
        [
         "0",
         null,
         "RAVDESS",
         "./dataset/ravdess\\Actor_01\\03-01-01-01-01-01-01.wav",
         "03-01-01-01-01-01-01.wav",
         ".wav",
         "Neutral"
        ],
        [
         "1",
         null,
         "RAVDESS",
         "./dataset/ravdess\\Actor_01\\03-01-01-01-01-02-01.wav",
         "03-01-01-01-01-02-01.wav",
         ".wav",
         "Neutral"
        ],
        [
         "2",
         null,
         "RAVDESS",
         "./dataset/ravdess\\Actor_01\\03-01-01-01-02-01-01.wav",
         "03-01-01-01-02-01-01.wav",
         ".wav",
         "Neutral"
        ],
        [
         "3",
         null,
         "RAVDESS",
         "./dataset/ravdess\\Actor_01\\03-01-01-01-02-02-01.wav",
         "03-01-01-01-02-02-01.wav",
         ".wav",
         "Neutral"
        ],
        [
         "4",
         null,
         "RAVDESS",
         "./dataset/ravdess\\Actor_01\\03-01-02-01-01-01-01.wav",
         "03-01-02-01-01-01-01.wav",
         ".wav",
         "Calm"
        ]
       ],
       "shape": {
        "columns": 6,
        "rows": 5
       }
      },
      "text/html": [
       "<div>\n",
       "<style scoped>\n",
       "    .dataframe tbody tr th:only-of-type {\n",
       "        vertical-align: middle;\n",
       "    }\n",
       "\n",
       "    .dataframe tbody tr th {\n",
       "        vertical-align: top;\n",
       "    }\n",
       "\n",
       "    .dataframe thead th {\n",
       "        text-align: right;\n",
       "    }\n",
       "</style>\n",
       "<table border=\"1\" class=\"dataframe\">\n",
       "  <thead>\n",
       "    <tr style=\"text-align: right;\">\n",
       "      <th></th>\n",
       "      <th>Id</th>\n",
       "      <th>Dataset</th>\n",
       "      <th>Filepath</th>\n",
       "      <th>Filename</th>\n",
       "      <th>Ext</th>\n",
       "      <th>Emotion</th>\n",
       "    </tr>\n",
       "  </thead>\n",
       "  <tbody>\n",
       "    <tr>\n",
       "      <th>0</th>\n",
       "      <td>NaN</td>\n",
       "      <td>RAVDESS</td>\n",
       "      <td>./dataset/ravdess\\Actor_01\\03-01-01-01-01-01-0...</td>\n",
       "      <td>03-01-01-01-01-01-01.wav</td>\n",
       "      <td>.wav</td>\n",
       "      <td>Neutral</td>\n",
       "    </tr>\n",
       "    <tr>\n",
       "      <th>1</th>\n",
       "      <td>NaN</td>\n",
       "      <td>RAVDESS</td>\n",
       "      <td>./dataset/ravdess\\Actor_01\\03-01-01-01-01-02-0...</td>\n",
       "      <td>03-01-01-01-01-02-01.wav</td>\n",
       "      <td>.wav</td>\n",
       "      <td>Neutral</td>\n",
       "    </tr>\n",
       "    <tr>\n",
       "      <th>2</th>\n",
       "      <td>NaN</td>\n",
       "      <td>RAVDESS</td>\n",
       "      <td>./dataset/ravdess\\Actor_01\\03-01-01-01-02-01-0...</td>\n",
       "      <td>03-01-01-01-02-01-01.wav</td>\n",
       "      <td>.wav</td>\n",
       "      <td>Neutral</td>\n",
       "    </tr>\n",
       "    <tr>\n",
       "      <th>3</th>\n",
       "      <td>NaN</td>\n",
       "      <td>RAVDESS</td>\n",
       "      <td>./dataset/ravdess\\Actor_01\\03-01-01-01-02-02-0...</td>\n",
       "      <td>03-01-01-01-02-02-01.wav</td>\n",
       "      <td>.wav</td>\n",
       "      <td>Neutral</td>\n",
       "    </tr>\n",
       "    <tr>\n",
       "      <th>4</th>\n",
       "      <td>NaN</td>\n",
       "      <td>RAVDESS</td>\n",
       "      <td>./dataset/ravdess\\Actor_01\\03-01-02-01-01-01-0...</td>\n",
       "      <td>03-01-02-01-01-01-01.wav</td>\n",
       "      <td>.wav</td>\n",
       "      <td>Calm</td>\n",
       "    </tr>\n",
       "  </tbody>\n",
       "</table>\n",
       "</div>"
      ],
      "text/plain": [
       "    Id  Dataset                                           Filepath  \\\n",
       "0  NaN  RAVDESS  ./dataset/ravdess\\Actor_01\\03-01-01-01-01-01-0...   \n",
       "1  NaN  RAVDESS  ./dataset/ravdess\\Actor_01\\03-01-01-01-01-02-0...   \n",
       "2  NaN  RAVDESS  ./dataset/ravdess\\Actor_01\\03-01-01-01-02-01-0...   \n",
       "3  NaN  RAVDESS  ./dataset/ravdess\\Actor_01\\03-01-01-01-02-02-0...   \n",
       "4  NaN  RAVDESS  ./dataset/ravdess\\Actor_01\\03-01-02-01-01-01-0...   \n",
       "\n",
       "                   Filename   Ext  Emotion  \n",
       "0  03-01-01-01-01-01-01.wav  .wav  Neutral  \n",
       "1  03-01-01-01-01-02-01.wav  .wav  Neutral  \n",
       "2  03-01-01-01-02-01-01.wav  .wav  Neutral  \n",
       "3  03-01-01-01-02-02-01.wav  .wav  Neutral  \n",
       "4  03-01-02-01-01-01-01.wav  .wav     Calm  "
      ]
     },
     "execution_count": 32,
     "metadata": {},
     "output_type": "execute_result"
    }
   ],
   "source": [
    "rav_df.head()"
   ]
  },
  {
   "cell_type": "markdown",
   "id": "df572ebd",
   "metadata": {},
   "source": [
    "### 5) SAVEE\n",
    "> https://www.kaggle.com/datasets/ejlok1/surrey-audiovisual-expressed-emotion-savee\n",
    "\n",
    "- Labels in Filename\n",
    "```shell\n",
    "\"a\":\"Anger\"\n",
    "\"d\":\"Disgust\"\n",
    "\"f\":\"Fear\"\n",
    "\"h\":\"Happy\"\n",
    "\"n\":\"Neutral\"\n",
    "\"sa\":\"Sad\"\n",
    "\"su\":\"Surprise\"\n",
    "```"
   ]
  },
  {
   "cell_type": "code",
   "execution_count": 33,
   "id": "23d697a6",
   "metadata": {
    "ExecuteTime": {
     "end_time": "2023-11-01T02:37:13.407082Z",
     "start_time": "2023-11-01T02:37:13.400078Z"
    }
   },
   "outputs": [
    {
     "name": "stdout",
     "output_type": "stream",
     "text": [
      "['DC_a01.wav', 'DC_a02.wav', 'DC_a03.wav', 'DC_a04.wav', 'DC_a05.wav']\n",
      "The Number of SAVEE Dataset: 480\n"
     ]
    }
   ],
   "source": [
    "savee_dir = './dataset/savee'\n",
    "savee_filename = os.listdir(savee_dir)\n",
    "savee_filepath = glob.glob(os.path.join(savee_dir, \"*.wav\"))\n",
    "print(savee_filename[:5])\n",
    "\n",
    "savee_count = len(savee_filepath)\n",
    "print(\"The Number of SAVEE Dataset:\", savee_count)"
   ]
  },
  {
   "cell_type": "code",
   "execution_count": 34,
   "id": "e25702ca",
   "metadata": {
    "ExecuteTime": {
     "end_time": "2023-11-01T02:37:13.592442Z",
     "start_time": "2023-11-01T02:37:13.575995Z"
    }
   },
   "outputs": [],
   "source": [
    "savee_ext = []\n",
    "savee_emotion = []\n",
    "emotion_list = {\"a\":\"Anger\", \"d\":\"Disgust\", \"f\":\"Fear\", \"h\":\"Happy\", \"n\":\"Neutral\", \"sa\":\"Sad\", \"su\":\"Surprise\"}\n",
    "for fn in savee_filename:\n",
    "    name, ext = os.path.splitext(fn)\n",
    "    \n",
    "    speaker, emo = name.split(\"_\")\n",
    "    emo = emo[:-2]\n",
    "    emotion = emotion_list[emo]\n",
    "    speaker = \"Savee_\" + speaker\n",
    "\n",
    "    savee_ext.append(ext)\n",
    "    savee_emotion.append(emotion)"
   ]
  },
  {
   "cell_type": "code",
   "execution_count": 35,
   "id": "7157de48",
   "metadata": {
    "ExecuteTime": {
     "end_time": "2023-11-01T02:37:18.540828Z",
     "start_time": "2023-11-01T02:37:18.534638Z"
    }
   },
   "outputs": [],
   "source": [
    "savee_df = pd.DataFrame(index = range(0, savee_count), \n",
    "                  columns = ['Id', 'Dataset', 'Filepath', 'Filename', 'Ext', 'Emotion'])"
   ]
  },
  {
   "cell_type": "code",
   "execution_count": 36,
   "id": "b730278c",
   "metadata": {
    "ExecuteTime": {
     "end_time": "2023-11-01T02:37:18.709347Z",
     "start_time": "2023-11-01T02:37:18.693717Z"
    }
   },
   "outputs": [],
   "source": [
    "savee_df['Dataset'] = [\"SAVEE\"] * savee_count\n",
    "savee_df['Filepath'] = savee_filepath\n",
    "savee_df['Filename'] = savee_filename\n",
    "savee_df['Ext'] = savee_ext\n",
    "savee_df['Emotion'] = savee_emotion"
   ]
  },
  {
   "cell_type": "code",
   "execution_count": 37,
   "id": "7e33dd7e",
   "metadata": {
    "ExecuteTime": {
     "end_time": "2023-11-01T02:37:18.892904Z",
     "start_time": "2023-11-01T02:37:18.877279Z"
    }
   },
   "outputs": [
    {
     "data": {
      "application/vnd.microsoft.datawrangler.viewer.v0+json": {
       "columns": [
        {
         "name": "index",
         "rawType": "int64",
         "type": "integer"
        },
        {
         "name": "Id",
         "rawType": "object",
         "type": "unknown"
        },
        {
         "name": "Dataset",
         "rawType": "object",
         "type": "string"
        },
        {
         "name": "Filepath",
         "rawType": "object",
         "type": "string"
        },
        {
         "name": "Filename",
         "rawType": "object",
         "type": "string"
        },
        {
         "name": "Ext",
         "rawType": "object",
         "type": "string"
        },
        {
         "name": "Emotion",
         "rawType": "object",
         "type": "string"
        }
       ],
       "conversionMethod": "pd.DataFrame",
       "ref": "e326ed19-055e-4cc8-9e06-8607c23643e7",
       "rows": [
        [
         "0",
         null,
         "SAVEE",
         "./dataset/savee\\DC_a01.wav",
         "DC_a01.wav",
         ".wav",
         "Anger"
        ],
        [
         "1",
         null,
         "SAVEE",
         "./dataset/savee\\DC_a02.wav",
         "DC_a02.wav",
         ".wav",
         "Anger"
        ],
        [
         "2",
         null,
         "SAVEE",
         "./dataset/savee\\DC_a03.wav",
         "DC_a03.wav",
         ".wav",
         "Anger"
        ],
        [
         "3",
         null,
         "SAVEE",
         "./dataset/savee\\DC_a04.wav",
         "DC_a04.wav",
         ".wav",
         "Anger"
        ],
        [
         "4",
         null,
         "SAVEE",
         "./dataset/savee\\DC_a05.wav",
         "DC_a05.wav",
         ".wav",
         "Anger"
        ]
       ],
       "shape": {
        "columns": 6,
        "rows": 5
       }
      },
      "text/html": [
       "<div>\n",
       "<style scoped>\n",
       "    .dataframe tbody tr th:only-of-type {\n",
       "        vertical-align: middle;\n",
       "    }\n",
       "\n",
       "    .dataframe tbody tr th {\n",
       "        vertical-align: top;\n",
       "    }\n",
       "\n",
       "    .dataframe thead th {\n",
       "        text-align: right;\n",
       "    }\n",
       "</style>\n",
       "<table border=\"1\" class=\"dataframe\">\n",
       "  <thead>\n",
       "    <tr style=\"text-align: right;\">\n",
       "      <th></th>\n",
       "      <th>Id</th>\n",
       "      <th>Dataset</th>\n",
       "      <th>Filepath</th>\n",
       "      <th>Filename</th>\n",
       "      <th>Ext</th>\n",
       "      <th>Emotion</th>\n",
       "    </tr>\n",
       "  </thead>\n",
       "  <tbody>\n",
       "    <tr>\n",
       "      <th>0</th>\n",
       "      <td>NaN</td>\n",
       "      <td>SAVEE</td>\n",
       "      <td>./dataset/savee\\DC_a01.wav</td>\n",
       "      <td>DC_a01.wav</td>\n",
       "      <td>.wav</td>\n",
       "      <td>Anger</td>\n",
       "    </tr>\n",
       "    <tr>\n",
       "      <th>1</th>\n",
       "      <td>NaN</td>\n",
       "      <td>SAVEE</td>\n",
       "      <td>./dataset/savee\\DC_a02.wav</td>\n",
       "      <td>DC_a02.wav</td>\n",
       "      <td>.wav</td>\n",
       "      <td>Anger</td>\n",
       "    </tr>\n",
       "    <tr>\n",
       "      <th>2</th>\n",
       "      <td>NaN</td>\n",
       "      <td>SAVEE</td>\n",
       "      <td>./dataset/savee\\DC_a03.wav</td>\n",
       "      <td>DC_a03.wav</td>\n",
       "      <td>.wav</td>\n",
       "      <td>Anger</td>\n",
       "    </tr>\n",
       "    <tr>\n",
       "      <th>3</th>\n",
       "      <td>NaN</td>\n",
       "      <td>SAVEE</td>\n",
       "      <td>./dataset/savee\\DC_a04.wav</td>\n",
       "      <td>DC_a04.wav</td>\n",
       "      <td>.wav</td>\n",
       "      <td>Anger</td>\n",
       "    </tr>\n",
       "    <tr>\n",
       "      <th>4</th>\n",
       "      <td>NaN</td>\n",
       "      <td>SAVEE</td>\n",
       "      <td>./dataset/savee\\DC_a05.wav</td>\n",
       "      <td>DC_a05.wav</td>\n",
       "      <td>.wav</td>\n",
       "      <td>Anger</td>\n",
       "    </tr>\n",
       "  </tbody>\n",
       "</table>\n",
       "</div>"
      ],
      "text/plain": [
       "    Id Dataset                    Filepath    Filename   Ext Emotion\n",
       "0  NaN   SAVEE  ./dataset/savee\\DC_a01.wav  DC_a01.wav  .wav   Anger\n",
       "1  NaN   SAVEE  ./dataset/savee\\DC_a02.wav  DC_a02.wav  .wav   Anger\n",
       "2  NaN   SAVEE  ./dataset/savee\\DC_a03.wav  DC_a03.wav  .wav   Anger\n",
       "3  NaN   SAVEE  ./dataset/savee\\DC_a04.wav  DC_a04.wav  .wav   Anger\n",
       "4  NaN   SAVEE  ./dataset/savee\\DC_a05.wav  DC_a05.wav  .wav   Anger"
      ]
     },
     "execution_count": 37,
     "metadata": {},
     "output_type": "execute_result"
    }
   ],
   "source": [
    "savee_df.head()"
   ]
  },
  {
   "cell_type": "markdown",
   "id": "4c66ebf4",
   "metadata": {},
   "source": [
    "### 6) TESS\n",
    "> https://www.kaggle.com/datasets/ejlok1/toronto-emotional-speech-set-tess\n",
    "\n",
    "- Labels in Folder name\n",
    "\n",
    "```shell\n",
    "OAF: 64, Female\n",
    "YAF: 26, Female\n",
    "```"
   ]
  },
  {
   "cell_type": "code",
   "execution_count": 38,
   "id": "261a08dd",
   "metadata": {
    "ExecuteTime": {
     "end_time": "2023-11-01T02:37:21.187962Z",
     "start_time": "2023-11-01T02:37:21.175760Z"
    }
   },
   "outputs": [
    {
     "name": "stdout",
     "output_type": "stream",
     "text": [
      "['OAF_angry', 'OAF_disgust', 'OAF_Fear', 'OAF_happy', 'OAF_neutral', 'OAF_Pleasant_surprise', 'OAF_Sad', 'YAF_angry', 'YAF_disgust', 'YAF_fear', 'YAF_happy', 'YAF_neutral', 'YAF_pleasant_surprised', 'YAF_sad']\n"
     ]
    }
   ],
   "source": [
    "tess_dir = './dataset/tess'\n",
    "tess_folders = os.listdir(tess_dir)\n",
    "print(tess_folders)"
   ]
  },
  {
   "cell_type": "code",
   "execution_count": 39,
   "id": "5d704cbb",
   "metadata": {
    "ExecuteTime": {
     "end_time": "2023-11-01T02:37:21.446171Z",
     "start_time": "2023-11-01T02:37:21.411137Z"
    }
   },
   "outputs": [],
   "source": [
    "tess_filepath = []\n",
    "tess_filename = []\n",
    "tess_ext = []\n",
    "tess_emotion = []\n",
    "emotion_list = {\"angry\":\"Anger\", \"disgust\":\"Disgust\", \"happy\": \"Happy\", \"neutral\":\"Neutral\", \"Sad\":\"Sad\", \"sad\":\"Sad\", \n",
    "                \"Fear\":\"Fear\", \"fear\":\"Fear\", \"Pleasant_surprise\":\"Surprise\", \"pleasant_surprised\":\"Surprise\"}\n",
    "for f in tess_folders:\n",
    "    speaker = f[:3]\n",
    "    emotion = emotion_list[f[4:]]\n",
    "        \n",
    "    speaker = \"Tess_\" + speaker    \n",
    "    filenames = os.listdir(os.path.join(tess_dir, f))\n",
    "    filepaths = glob.glob(os.path.join(tess_dir, f, \"*.wav\"))\n",
    "    \n",
    "    for i in range(len(filenames)):\n",
    "        _, ext = os.path.splitext(filenames[i])\n",
    "        \n",
    "    \n",
    "        tess_filepath.append(filepaths[i])\n",
    "        tess_filename.append(filenames[i])\n",
    "        tess_ext.append(ext)\n",
    "        tess_emotion.append(emotion)\n",
    "    "
   ]
  },
  {
   "cell_type": "code",
   "execution_count": 40,
   "id": "9235ad62",
   "metadata": {
    "ExecuteTime": {
     "end_time": "2023-11-01T02:37:22.694724Z",
     "start_time": "2023-11-01T02:37:22.685552Z"
    }
   },
   "outputs": [
    {
     "name": "stdout",
     "output_type": "stream",
     "text": [
      "The Number of TESS Dataset: 2798\n"
     ]
    }
   ],
   "source": [
    "tess_count = len(tess_filepath)\n",
    "print(\"The Number of TESS Dataset:\", tess_count)"
   ]
  },
  {
   "cell_type": "code",
   "execution_count": 41,
   "id": "11ec66cd",
   "metadata": {
    "ExecuteTime": {
     "end_time": "2023-11-01T02:37:22.875880Z",
     "start_time": "2023-11-01T02:37:22.860254Z"
    }
   },
   "outputs": [],
   "source": [
    "tess_df = pd.DataFrame(index = range(0, tess_count), \n",
    "                  columns = ['Id', 'Dataset', 'Filepath', 'Filename', 'Ext', 'Emotion'])"
   ]
  },
  {
   "cell_type": "code",
   "execution_count": 42,
   "id": "d0f0e778",
   "metadata": {
    "ExecuteTime": {
     "end_time": "2023-11-01T02:37:23.092470Z",
     "start_time": "2023-11-01T02:37:23.076845Z"
    }
   },
   "outputs": [],
   "source": [
    "tess_df[\"Dataset\"] = [\"TESS\"] * tess_count\n",
    "tess_df[\"Filepath\"] = tess_filepath\n",
    "tess_df[\"Filename\"] = tess_filename\n",
    "tess_df[\"Ext\"] = tess_ext\n",
    "tess_df[\"Emotion\"] = tess_emotion"
   ]
  },
  {
   "cell_type": "code",
   "execution_count": 43,
   "id": "32298caa",
   "metadata": {
    "ExecuteTime": {
     "end_time": "2023-11-01T02:37:23.309305Z",
     "start_time": "2023-11-01T02:37:23.276821Z"
    }
   },
   "outputs": [
    {
     "data": {
      "application/vnd.microsoft.datawrangler.viewer.v0+json": {
       "columns": [
        {
         "name": "index",
         "rawType": "int64",
         "type": "integer"
        },
        {
         "name": "Id",
         "rawType": "object",
         "type": "unknown"
        },
        {
         "name": "Dataset",
         "rawType": "object",
         "type": "string"
        },
        {
         "name": "Filepath",
         "rawType": "object",
         "type": "string"
        },
        {
         "name": "Filename",
         "rawType": "object",
         "type": "string"
        },
        {
         "name": "Ext",
         "rawType": "object",
         "type": "string"
        },
        {
         "name": "Emotion",
         "rawType": "object",
         "type": "string"
        }
       ],
       "conversionMethod": "pd.DataFrame",
       "ref": "6c41d528-8da7-4871-a567-bb5cc385f943",
       "rows": [
        [
         "0",
         null,
         "TESS",
         "./dataset/tess\\OAF_angry\\OAF_back_angry.wav",
         "OAF_back_angry.wav",
         ".wav",
         "Anger"
        ],
        [
         "1",
         null,
         "TESS",
         "./dataset/tess\\OAF_angry\\OAF_bar_angry.wav",
         "OAF_bar_angry.wav",
         ".wav",
         "Anger"
        ],
        [
         "2",
         null,
         "TESS",
         "./dataset/tess\\OAF_angry\\OAF_base_angry.wav",
         "OAF_base_angry.wav",
         ".wav",
         "Anger"
        ],
        [
         "3",
         null,
         "TESS",
         "./dataset/tess\\OAF_angry\\OAF_bath_angry.wav",
         "OAF_bath_angry.wav",
         ".wav",
         "Anger"
        ],
        [
         "4",
         null,
         "TESS",
         "./dataset/tess\\OAF_angry\\OAF_bean_angry.wav",
         "OAF_bean_angry.wav",
         ".wav",
         "Anger"
        ]
       ],
       "shape": {
        "columns": 6,
        "rows": 5
       }
      },
      "text/html": [
       "<div>\n",
       "<style scoped>\n",
       "    .dataframe tbody tr th:only-of-type {\n",
       "        vertical-align: middle;\n",
       "    }\n",
       "\n",
       "    .dataframe tbody tr th {\n",
       "        vertical-align: top;\n",
       "    }\n",
       "\n",
       "    .dataframe thead th {\n",
       "        text-align: right;\n",
       "    }\n",
       "</style>\n",
       "<table border=\"1\" class=\"dataframe\">\n",
       "  <thead>\n",
       "    <tr style=\"text-align: right;\">\n",
       "      <th></th>\n",
       "      <th>Id</th>\n",
       "      <th>Dataset</th>\n",
       "      <th>Filepath</th>\n",
       "      <th>Filename</th>\n",
       "      <th>Ext</th>\n",
       "      <th>Emotion</th>\n",
       "    </tr>\n",
       "  </thead>\n",
       "  <tbody>\n",
       "    <tr>\n",
       "      <th>0</th>\n",
       "      <td>NaN</td>\n",
       "      <td>TESS</td>\n",
       "      <td>./dataset/tess\\OAF_angry\\OAF_back_angry.wav</td>\n",
       "      <td>OAF_back_angry.wav</td>\n",
       "      <td>.wav</td>\n",
       "      <td>Anger</td>\n",
       "    </tr>\n",
       "    <tr>\n",
       "      <th>1</th>\n",
       "      <td>NaN</td>\n",
       "      <td>TESS</td>\n",
       "      <td>./dataset/tess\\OAF_angry\\OAF_bar_angry.wav</td>\n",
       "      <td>OAF_bar_angry.wav</td>\n",
       "      <td>.wav</td>\n",
       "      <td>Anger</td>\n",
       "    </tr>\n",
       "    <tr>\n",
       "      <th>2</th>\n",
       "      <td>NaN</td>\n",
       "      <td>TESS</td>\n",
       "      <td>./dataset/tess\\OAF_angry\\OAF_base_angry.wav</td>\n",
       "      <td>OAF_base_angry.wav</td>\n",
       "      <td>.wav</td>\n",
       "      <td>Anger</td>\n",
       "    </tr>\n",
       "    <tr>\n",
       "      <th>3</th>\n",
       "      <td>NaN</td>\n",
       "      <td>TESS</td>\n",
       "      <td>./dataset/tess\\OAF_angry\\OAF_bath_angry.wav</td>\n",
       "      <td>OAF_bath_angry.wav</td>\n",
       "      <td>.wav</td>\n",
       "      <td>Anger</td>\n",
       "    </tr>\n",
       "    <tr>\n",
       "      <th>4</th>\n",
       "      <td>NaN</td>\n",
       "      <td>TESS</td>\n",
       "      <td>./dataset/tess\\OAF_angry\\OAF_bean_angry.wav</td>\n",
       "      <td>OAF_bean_angry.wav</td>\n",
       "      <td>.wav</td>\n",
       "      <td>Anger</td>\n",
       "    </tr>\n",
       "  </tbody>\n",
       "</table>\n",
       "</div>"
      ],
      "text/plain": [
       "    Id Dataset                                     Filepath  \\\n",
       "0  NaN    TESS  ./dataset/tess\\OAF_angry\\OAF_back_angry.wav   \n",
       "1  NaN    TESS   ./dataset/tess\\OAF_angry\\OAF_bar_angry.wav   \n",
       "2  NaN    TESS  ./dataset/tess\\OAF_angry\\OAF_base_angry.wav   \n",
       "3  NaN    TESS  ./dataset/tess\\OAF_angry\\OAF_bath_angry.wav   \n",
       "4  NaN    TESS  ./dataset/tess\\OAF_angry\\OAF_bean_angry.wav   \n",
       "\n",
       "             Filename   Ext Emotion  \n",
       "0  OAF_back_angry.wav  .wav   Anger  \n",
       "1   OAF_bar_angry.wav  .wav   Anger  \n",
       "2  OAF_base_angry.wav  .wav   Anger  \n",
       "3  OAF_bath_angry.wav  .wav   Anger  \n",
       "4  OAF_bean_angry.wav  .wav   Anger  "
      ]
     },
     "execution_count": 43,
     "metadata": {},
     "output_type": "execute_result"
    }
   ],
   "source": [
    "tess_df.head()"
   ]
  },
  {
   "cell_type": "markdown",
   "id": "141969be",
   "metadata": {
    "ExecuteTime": {
     "end_time": "2023-10-30T06:51:35.527911Z",
     "start_time": "2023-10-30T06:51:35.524425Z"
    }
   },
   "source": [
    "## 7) ESD\n",
    "> https://hltsingapore.github.io/ESD/download.html\n",
    "- There is only English data in folder `0011` to `0020`."
   ]
  },
  {
   "cell_type": "code",
   "execution_count": 44,
   "id": "2202e721",
   "metadata": {
    "ExecuteTime": {
     "end_time": "2023-11-01T02:37:23.985266Z",
     "start_time": "2023-11-01T02:37:23.975687Z"
    }
   },
   "outputs": [],
   "source": [
    "esd_dir = './dataset/esd'\n",
    "esd_folders = os.listdir(esd_dir)"
   ]
  },
  {
   "cell_type": "code",
   "execution_count": 45,
   "id": "5e121db1",
   "metadata": {
    "ExecuteTime": {
     "end_time": "2023-11-01T02:37:24.192249Z",
     "start_time": "2023-11-01T02:37:24.160233Z"
    }
   },
   "outputs": [],
   "source": [
    "esd_sub_df = []\n",
    "for f in esd_folders:\n",
    "    path = os.path.join(esd_dir, f, f+\".txt\")\n",
    "    with open(path, \"r\") as f:\n",
    "        for line in f:\n",
    "            esd_sub_df.append(line.strip().split(\"\\t\"))"
   ]
  },
  {
   "cell_type": "code",
   "execution_count": 46,
   "id": "c425beb8",
   "metadata": {
    "ExecuteTime": {
     "end_time": "2023-11-01T02:37:24.363835Z",
     "start_time": "2023-11-01T02:37:24.344127Z"
    }
   },
   "outputs": [
    {
     "name": "stdout",
     "output_type": "stream",
     "text": [
      "(17500, 3)\n",
      "['0011_000001', 'The nine the eggs, I keep.', 'Neutral']\n",
      "The Number of ESD Dataset: 17500\n"
     ]
    }
   ],
   "source": [
    "print(np.shape(esd_sub_df))\n",
    "print(esd_sub_df[0])\n",
    "\n",
    "esd_count = len(esd_sub_df)\n",
    "print(\"The Number of ESD Dataset:\", esd_count)"
   ]
  },
  {
   "cell_type": "code",
   "execution_count": 47,
   "id": "52a7b2a0",
   "metadata": {
    "ExecuteTime": {
     "end_time": "2023-11-01T02:37:24.606193Z",
     "start_time": "2023-11-01T02:37:24.526764Z"
    }
   },
   "outputs": [],
   "source": [
    "esd_ext = []\n",
    "esd_filename = []\n",
    "esd_filepath = []\n",
    "esd_emotion = []\n",
    "emotion_list = {\"Angry\":\"Anger\", \"Happy\":\"Happy\", \"Neutral\":\"Neutral\", \"Sad\":\"Sad\", \"Surprise\":\"Surprise\"}\n",
    "for sub in esd_sub_df:\n",
    "    ext = \".wav\"\n",
    "    filename = sub[0] + ext\n",
    "    speaker = sub[0][:4]\n",
    "    filepath = os.path.join(esd_dir, speaker, sub[2], filename)\n",
    "    \n",
    "    emotion = emotion_list[sub[2]]\n",
    "    \n",
    "    esd_ext.append(ext)\n",
    "    esd_filename.append(filename)\n",
    "    esd_filepath.append(filepath)\n",
    "    esd_emotion.append(emotion)"
   ]
  },
  {
   "cell_type": "code",
   "execution_count": 48,
   "id": "aad092d0",
   "metadata": {
    "ExecuteTime": {
     "end_time": "2023-11-01T02:37:25.032595Z",
     "start_time": "2023-11-01T02:37:25.011342Z"
    }
   },
   "outputs": [],
   "source": [
    "esd_df = pd.DataFrame(index = range(0, esd_count), \n",
    "                  columns = ['Id', 'Dataset', 'Filepath', 'Filename', 'Ext', 'Emotion'])"
   ]
  },
  {
   "cell_type": "code",
   "execution_count": 49,
   "id": "677a5483",
   "metadata": {
    "ExecuteTime": {
     "end_time": "2023-11-01T02:37:25.449594Z",
     "start_time": "2023-11-01T02:37:25.427535Z"
    }
   },
   "outputs": [],
   "source": [
    "esd_df['Dataset'] = [\"ESD\"] * esd_count\n",
    "esd_df['Filepath'] = esd_filepath\n",
    "esd_df['Filename'] = esd_filename\n",
    "esd_df['Ext'] = esd_ext\n",
    "esd_df['Emotion'] = esd_emotion"
   ]
  },
  {
   "cell_type": "code",
   "execution_count": 50,
   "id": "3fcb18d6",
   "metadata": {
    "ExecuteTime": {
     "end_time": "2023-11-01T02:37:25.776061Z",
     "start_time": "2023-11-01T02:37:25.765063Z"
    }
   },
   "outputs": [
    {
     "data": {
      "application/vnd.microsoft.datawrangler.viewer.v0+json": {
       "columns": [
        {
         "name": "index",
         "rawType": "int64",
         "type": "integer"
        },
        {
         "name": "Id",
         "rawType": "object",
         "type": "unknown"
        },
        {
         "name": "Dataset",
         "rawType": "object",
         "type": "string"
        },
        {
         "name": "Filepath",
         "rawType": "object",
         "type": "string"
        },
        {
         "name": "Filename",
         "rawType": "object",
         "type": "string"
        },
        {
         "name": "Ext",
         "rawType": "object",
         "type": "string"
        },
        {
         "name": "Emotion",
         "rawType": "object",
         "type": "string"
        }
       ],
       "conversionMethod": "pd.DataFrame",
       "ref": "97cc0e23-f4cc-4872-92cb-16867829ebff",
       "rows": [
        [
         "0",
         null,
         "ESD",
         "./dataset/esd\\0011\\Neutral\\0011_000001.wav",
         "0011_000001.wav",
         ".wav",
         "Neutral"
        ],
        [
         "1",
         null,
         "ESD",
         "./dataset/esd\\0011\\Neutral\\0011_000002.wav",
         "0011_000002.wav",
         ".wav",
         "Neutral"
        ],
        [
         "2",
         null,
         "ESD",
         "./dataset/esd\\0011\\Neutral\\0011_000003.wav",
         "0011_000003.wav",
         ".wav",
         "Neutral"
        ],
        [
         "3",
         null,
         "ESD",
         "./dataset/esd\\0011\\Neutral\\0011_000004.wav",
         "0011_000004.wav",
         ".wav",
         "Neutral"
        ],
        [
         "4",
         null,
         "ESD",
         "./dataset/esd\\0011\\Neutral\\0011_000005.wav",
         "0011_000005.wav",
         ".wav",
         "Neutral"
        ]
       ],
       "shape": {
        "columns": 6,
        "rows": 5
       }
      },
      "text/html": [
       "<div>\n",
       "<style scoped>\n",
       "    .dataframe tbody tr th:only-of-type {\n",
       "        vertical-align: middle;\n",
       "    }\n",
       "\n",
       "    .dataframe tbody tr th {\n",
       "        vertical-align: top;\n",
       "    }\n",
       "\n",
       "    .dataframe thead th {\n",
       "        text-align: right;\n",
       "    }\n",
       "</style>\n",
       "<table border=\"1\" class=\"dataframe\">\n",
       "  <thead>\n",
       "    <tr style=\"text-align: right;\">\n",
       "      <th></th>\n",
       "      <th>Id</th>\n",
       "      <th>Dataset</th>\n",
       "      <th>Filepath</th>\n",
       "      <th>Filename</th>\n",
       "      <th>Ext</th>\n",
       "      <th>Emotion</th>\n",
       "    </tr>\n",
       "  </thead>\n",
       "  <tbody>\n",
       "    <tr>\n",
       "      <th>0</th>\n",
       "      <td>NaN</td>\n",
       "      <td>ESD</td>\n",
       "      <td>./dataset/esd\\0011\\Neutral\\0011_000001.wav</td>\n",
       "      <td>0011_000001.wav</td>\n",
       "      <td>.wav</td>\n",
       "      <td>Neutral</td>\n",
       "    </tr>\n",
       "    <tr>\n",
       "      <th>1</th>\n",
       "      <td>NaN</td>\n",
       "      <td>ESD</td>\n",
       "      <td>./dataset/esd\\0011\\Neutral\\0011_000002.wav</td>\n",
       "      <td>0011_000002.wav</td>\n",
       "      <td>.wav</td>\n",
       "      <td>Neutral</td>\n",
       "    </tr>\n",
       "    <tr>\n",
       "      <th>2</th>\n",
       "      <td>NaN</td>\n",
       "      <td>ESD</td>\n",
       "      <td>./dataset/esd\\0011\\Neutral\\0011_000003.wav</td>\n",
       "      <td>0011_000003.wav</td>\n",
       "      <td>.wav</td>\n",
       "      <td>Neutral</td>\n",
       "    </tr>\n",
       "    <tr>\n",
       "      <th>3</th>\n",
       "      <td>NaN</td>\n",
       "      <td>ESD</td>\n",
       "      <td>./dataset/esd\\0011\\Neutral\\0011_000004.wav</td>\n",
       "      <td>0011_000004.wav</td>\n",
       "      <td>.wav</td>\n",
       "      <td>Neutral</td>\n",
       "    </tr>\n",
       "    <tr>\n",
       "      <th>4</th>\n",
       "      <td>NaN</td>\n",
       "      <td>ESD</td>\n",
       "      <td>./dataset/esd\\0011\\Neutral\\0011_000005.wav</td>\n",
       "      <td>0011_000005.wav</td>\n",
       "      <td>.wav</td>\n",
       "      <td>Neutral</td>\n",
       "    </tr>\n",
       "  </tbody>\n",
       "</table>\n",
       "</div>"
      ],
      "text/plain": [
       "    Id Dataset                                    Filepath         Filename  \\\n",
       "0  NaN     ESD  ./dataset/esd\\0011\\Neutral\\0011_000001.wav  0011_000001.wav   \n",
       "1  NaN     ESD  ./dataset/esd\\0011\\Neutral\\0011_000002.wav  0011_000002.wav   \n",
       "2  NaN     ESD  ./dataset/esd\\0011\\Neutral\\0011_000003.wav  0011_000003.wav   \n",
       "3  NaN     ESD  ./dataset/esd\\0011\\Neutral\\0011_000004.wav  0011_000004.wav   \n",
       "4  NaN     ESD  ./dataset/esd\\0011\\Neutral\\0011_000005.wav  0011_000005.wav   \n",
       "\n",
       "    Ext  Emotion  \n",
       "0  .wav  Neutral  \n",
       "1  .wav  Neutral  \n",
       "2  .wav  Neutral  \n",
       "3  .wav  Neutral  \n",
       "4  .wav  Neutral  "
      ]
     },
     "execution_count": 50,
     "metadata": {},
     "output_type": "execute_result"
    }
   ],
   "source": [
    "esd_df.head()"
   ]
  },
  {
   "cell_type": "markdown",
   "id": "70fc88d9",
   "metadata": {},
   "source": [
    "## 8) JL Corpus\n",
    "> https://www.kaggle.com/datasets/tli725/jl-corpus\n",
    "\n",
    "- Labels in Filename\n",
    "```\n",
    "File naming rule: (Gender)(speaker.ID)_(Emotion)_(Sentence.ID)(session.ID)\n",
    "```"
   ]
  },
  {
   "cell_type": "code",
   "execution_count": 51,
   "id": "5916795a",
   "metadata": {
    "ExecuteTime": {
     "end_time": "2023-11-01T02:37:26.674342Z",
     "start_time": "2023-11-01T02:37:26.662549Z"
    }
   },
   "outputs": [
    {
     "name": "stdout",
     "output_type": "stream",
     "text": [
      "['female1_angry_10a_1.txt', 'female1_angry_10a_1.wav', 'female1_angry_10a_2.txt', 'female1_angry_10a_2.wav', 'female1_angry_10b_1.txt']\n"
     ]
    }
   ],
   "source": [
    "jl_dir = './dataset/jl-corpus/Raw JL corpus (unchecked and unannotated)/JL(wav+txt)'\n",
    "print(os.listdir(jl_dir)[:5])"
   ]
  },
  {
   "cell_type": "code",
   "execution_count": 52,
   "id": "0229fb85",
   "metadata": {
    "ExecuteTime": {
     "end_time": "2023-11-01T02:37:26.943652Z",
     "start_time": "2023-11-01T02:37:26.913973Z"
    }
   },
   "outputs": [],
   "source": [
    "jl_filename = os.listdir(jl_dir)\n",
    "jl_filename = [fn for fn in jl_filename if os.path.splitext(fn)[1] == '.wav']\n",
    "jl_filepath = glob.glob(os.path.join(jl_dir, \"*.wav\"))"
   ]
  },
  {
   "cell_type": "code",
   "execution_count": 53,
   "id": "93d64a76",
   "metadata": {
    "ExecuteTime": {
     "end_time": "2023-11-01T02:37:27.178445Z",
     "start_time": "2023-11-01T02:37:27.161920Z"
    }
   },
   "outputs": [
    {
     "name": "stdout",
     "output_type": "stream",
     "text": [
      "The Number of JL-Corpus Dataset: 2400\n"
     ]
    }
   ],
   "source": [
    "jl_count = len(jl_filename)\n",
    "print(\"The Number of JL-Corpus Dataset:\", jl_count)"
   ]
  },
  {
   "cell_type": "code",
   "execution_count": 54,
   "id": "f5fe418d",
   "metadata": {
    "ExecuteTime": {
     "end_time": "2023-11-01T02:37:27.525294Z",
     "start_time": "2023-11-01T02:37:27.362998Z"
    }
   },
   "outputs": [],
   "source": [
    "jl_ext = []\n",
    "jl_emotion = []\n",
    "emotion_list = {\"angry\":\"Anger\", \"anxious\":\"Anxious\", \"apologetic\":\"Apologetic\", \"assertive\":\"Assertive\", \"concerned\":\"Concerned\", \n",
    "                \"encouraging\":\"Encouraging\", \"excited\":\"Excited\", \"happy\":\"Happy\", \"neutral\":\"Neutral\", \"sad\":\"Sad\"}\n",
    "gender_list = {\"female1\":\"Female\", \"female2\":\"Female\", \"male1\":\"Male\", \"male2\":\"Male\"}\n",
    "for i in range(jl_count):\n",
    "    name, ext = os.path.splitext(jl_filename[i])\n",
    "    fn_list = jl_filename[i].split(\"_\")\n",
    "    \n",
    "    emotion = emotion_list[fn_list[1]]\n",
    "    \n",
    "    text = ''\n",
    "    with open(os.path.join(jl_dir, name + \".txt\"), \"r\") as f:\n",
    "        for line in f:\n",
    "            text += line\n",
    "\n",
    "    jl_ext.append(ext)\n",
    "    jl_emotion.append(emotion)"
   ]
  },
  {
   "cell_type": "code",
   "execution_count": 55,
   "id": "56887d02",
   "metadata": {
    "ExecuteTime": {
     "end_time": "2023-11-01T02:37:27.628494Z",
     "start_time": "2023-11-01T02:37:27.612591Z"
    }
   },
   "outputs": [
    {
     "name": "stdout",
     "output_type": "stream",
     "text": [
      "['Anger' 'Anxious' 'Apologetic' 'Assertive' 'Concerned' 'Encouraging'\n",
      " 'Excited' 'Happy' 'Neutral' 'Sad']\n"
     ]
    }
   ],
   "source": [
    "print(np.unique(jl_emotion))"
   ]
  },
  {
   "cell_type": "code",
   "execution_count": 56,
   "id": "c8f88d06",
   "metadata": {
    "ExecuteTime": {
     "end_time": "2023-11-01T02:37:27.893103Z",
     "start_time": "2023-11-01T02:37:27.877912Z"
    }
   },
   "outputs": [],
   "source": [
    "jl_df = pd.DataFrame(index = range(0, jl_count), \n",
    "                  columns = ['Id', 'Dataset', 'Filepath', 'Filename', 'Ext', 'Emotion'])"
   ]
  },
  {
   "cell_type": "code",
   "execution_count": 57,
   "id": "61003010",
   "metadata": {
    "ExecuteTime": {
     "end_time": "2023-11-01T02:37:28.178573Z",
     "start_time": "2023-11-01T02:37:28.163916Z"
    }
   },
   "outputs": [],
   "source": [
    "jl_df['Dataset'] = ['JL-CORPUS'] * jl_count\n",
    "jl_df['Filepath'] = jl_filepath\n",
    "jl_df['Filename'] = jl_filename\n",
    "jl_df['Ext'] = jl_ext\n",
    "jl_df['Emotion'] = jl_emotion"
   ]
  },
  {
   "cell_type": "code",
   "execution_count": 58,
   "id": "ae06bd66",
   "metadata": {
    "ExecuteTime": {
     "end_time": "2023-11-01T02:37:28.511865Z",
     "start_time": "2023-11-01T02:37:28.480898Z"
    }
   },
   "outputs": [
    {
     "data": {
      "application/vnd.microsoft.datawrangler.viewer.v0+json": {
       "columns": [
        {
         "name": "index",
         "rawType": "int64",
         "type": "integer"
        },
        {
         "name": "Id",
         "rawType": "object",
         "type": "unknown"
        },
        {
         "name": "Dataset",
         "rawType": "object",
         "type": "string"
        },
        {
         "name": "Filepath",
         "rawType": "object",
         "type": "string"
        },
        {
         "name": "Filename",
         "rawType": "object",
         "type": "string"
        },
        {
         "name": "Ext",
         "rawType": "object",
         "type": "string"
        },
        {
         "name": "Emotion",
         "rawType": "object",
         "type": "string"
        }
       ],
       "conversionMethod": "pd.DataFrame",
       "ref": "b8a387cb-95bf-456e-98ac-c59c119de68f",
       "rows": [
        [
         "0",
         null,
         "JL-CORPUS",
         "./dataset/jl-corpus/Raw JL corpus (unchecked and unannotated)/JL(wav+txt)\\female1_angry_10a_1.wav",
         "female1_angry_10a_1.wav",
         ".wav",
         "Anger"
        ],
        [
         "1",
         null,
         "JL-CORPUS",
         "./dataset/jl-corpus/Raw JL corpus (unchecked and unannotated)/JL(wav+txt)\\female1_angry_10a_2.wav",
         "female1_angry_10a_2.wav",
         ".wav",
         "Anger"
        ],
        [
         "2",
         null,
         "JL-CORPUS",
         "./dataset/jl-corpus/Raw JL corpus (unchecked and unannotated)/JL(wav+txt)\\female1_angry_10b_1.wav",
         "female1_angry_10b_1.wav",
         ".wav",
         "Anger"
        ],
        [
         "3",
         null,
         "JL-CORPUS",
         "./dataset/jl-corpus/Raw JL corpus (unchecked and unannotated)/JL(wav+txt)\\female1_angry_10b_2.wav",
         "female1_angry_10b_2.wav",
         ".wav",
         "Anger"
        ],
        [
         "4",
         null,
         "JL-CORPUS",
         "./dataset/jl-corpus/Raw JL corpus (unchecked and unannotated)/JL(wav+txt)\\female1_angry_11a_1.wav",
         "female1_angry_11a_1.wav",
         ".wav",
         "Anger"
        ]
       ],
       "shape": {
        "columns": 6,
        "rows": 5
       }
      },
      "text/html": [
       "<div>\n",
       "<style scoped>\n",
       "    .dataframe tbody tr th:only-of-type {\n",
       "        vertical-align: middle;\n",
       "    }\n",
       "\n",
       "    .dataframe tbody tr th {\n",
       "        vertical-align: top;\n",
       "    }\n",
       "\n",
       "    .dataframe thead th {\n",
       "        text-align: right;\n",
       "    }\n",
       "</style>\n",
       "<table border=\"1\" class=\"dataframe\">\n",
       "  <thead>\n",
       "    <tr style=\"text-align: right;\">\n",
       "      <th></th>\n",
       "      <th>Id</th>\n",
       "      <th>Dataset</th>\n",
       "      <th>Filepath</th>\n",
       "      <th>Filename</th>\n",
       "      <th>Ext</th>\n",
       "      <th>Emotion</th>\n",
       "    </tr>\n",
       "  </thead>\n",
       "  <tbody>\n",
       "    <tr>\n",
       "      <th>0</th>\n",
       "      <td>NaN</td>\n",
       "      <td>JL-CORPUS</td>\n",
       "      <td>./dataset/jl-corpus/Raw JL corpus (unchecked a...</td>\n",
       "      <td>female1_angry_10a_1.wav</td>\n",
       "      <td>.wav</td>\n",
       "      <td>Anger</td>\n",
       "    </tr>\n",
       "    <tr>\n",
       "      <th>1</th>\n",
       "      <td>NaN</td>\n",
       "      <td>JL-CORPUS</td>\n",
       "      <td>./dataset/jl-corpus/Raw JL corpus (unchecked a...</td>\n",
       "      <td>female1_angry_10a_2.wav</td>\n",
       "      <td>.wav</td>\n",
       "      <td>Anger</td>\n",
       "    </tr>\n",
       "    <tr>\n",
       "      <th>2</th>\n",
       "      <td>NaN</td>\n",
       "      <td>JL-CORPUS</td>\n",
       "      <td>./dataset/jl-corpus/Raw JL corpus (unchecked a...</td>\n",
       "      <td>female1_angry_10b_1.wav</td>\n",
       "      <td>.wav</td>\n",
       "      <td>Anger</td>\n",
       "    </tr>\n",
       "    <tr>\n",
       "      <th>3</th>\n",
       "      <td>NaN</td>\n",
       "      <td>JL-CORPUS</td>\n",
       "      <td>./dataset/jl-corpus/Raw JL corpus (unchecked a...</td>\n",
       "      <td>female1_angry_10b_2.wav</td>\n",
       "      <td>.wav</td>\n",
       "      <td>Anger</td>\n",
       "    </tr>\n",
       "    <tr>\n",
       "      <th>4</th>\n",
       "      <td>NaN</td>\n",
       "      <td>JL-CORPUS</td>\n",
       "      <td>./dataset/jl-corpus/Raw JL corpus (unchecked a...</td>\n",
       "      <td>female1_angry_11a_1.wav</td>\n",
       "      <td>.wav</td>\n",
       "      <td>Anger</td>\n",
       "    </tr>\n",
       "  </tbody>\n",
       "</table>\n",
       "</div>"
      ],
      "text/plain": [
       "    Id    Dataset                                           Filepath  \\\n",
       "0  NaN  JL-CORPUS  ./dataset/jl-corpus/Raw JL corpus (unchecked a...   \n",
       "1  NaN  JL-CORPUS  ./dataset/jl-corpus/Raw JL corpus (unchecked a...   \n",
       "2  NaN  JL-CORPUS  ./dataset/jl-corpus/Raw JL corpus (unchecked a...   \n",
       "3  NaN  JL-CORPUS  ./dataset/jl-corpus/Raw JL corpus (unchecked a...   \n",
       "4  NaN  JL-CORPUS  ./dataset/jl-corpus/Raw JL corpus (unchecked a...   \n",
       "\n",
       "                  Filename   Ext Emotion  \n",
       "0  female1_angry_10a_1.wav  .wav   Anger  \n",
       "1  female1_angry_10a_2.wav  .wav   Anger  \n",
       "2  female1_angry_10b_1.wav  .wav   Anger  \n",
       "3  female1_angry_10b_2.wav  .wav   Anger  \n",
       "4  female1_angry_11a_1.wav  .wav   Anger  "
      ]
     },
     "execution_count": 58,
     "metadata": {},
     "output_type": "execute_result"
    }
   ],
   "source": [
    "jl_df.head()"
   ]
  },
  {
   "cell_type": "markdown",
   "id": "1e592482",
   "metadata": {},
   "source": [
    "## 2. Make Dataframe"
   ]
  },
  {
   "cell_type": "code",
   "execution_count": 59,
   "id": "432efbda",
   "metadata": {
    "ExecuteTime": {
     "end_time": "2023-11-01T02:37:29.658813Z",
     "start_time": "2023-11-01T02:37:29.479816Z"
    }
   },
   "outputs": [
    {
     "data": {
      "application/vnd.microsoft.datawrangler.viewer.v0+json": {
       "columns": [
        {
         "name": "index",
         "rawType": "int64",
         "type": "integer"
        },
        {
         "name": "Id",
         "rawType": "object",
         "type": "unknown"
        },
        {
         "name": "Dataset",
         "rawType": "object",
         "type": "string"
        },
        {
         "name": "Filepath",
         "rawType": "object",
         "type": "string"
        },
        {
         "name": "Filename",
         "rawType": "object",
         "type": "string"
        },
        {
         "name": "Ext",
         "rawType": "object",
         "type": "string"
        },
        {
         "name": "Emotion",
         "rawType": "object",
         "type": "string"
        }
       ],
       "conversionMethod": "pd.DataFrame",
       "ref": "35d7cba1-e288-4f49-8254-4eae8ea7e5c1",
       "rows": [
        [
         "0",
         null,
         "CREMA-D",
         "./dataset/crema-d\\AudioWAV\\1001_DFA_ANG_XX.wav",
         "1001_DFA_ANG_XX.wav",
         ".wav",
         "Anger"
        ],
        [
         "1",
         null,
         "CREMA-D",
         "./dataset/crema-d\\AudioWAV\\1001_DFA_DIS_XX.wav",
         "1001_DFA_DIS_XX.wav",
         ".wav",
         "Disgust"
        ],
        [
         "2",
         null,
         "CREMA-D",
         "./dataset/crema-d\\AudioWAV\\1001_DFA_FEA_XX.wav",
         "1001_DFA_FEA_XX.wav",
         ".wav",
         "Fear"
        ],
        [
         "3",
         null,
         "CREMA-D",
         "./dataset/crema-d\\AudioWAV\\1001_DFA_HAP_XX.wav",
         "1001_DFA_HAP_XX.wav",
         ".wav",
         "Happy"
        ],
        [
         "4",
         null,
         "CREMA-D",
         "./dataset/crema-d\\AudioWAV\\1001_DFA_NEU_XX.wav",
         "1001_DFA_NEU_XX.wav",
         ".wav",
         "Neutral"
        ],
        [
         "5",
         null,
         "CREMA-D",
         "./dataset/crema-d\\AudioWAV\\1001_DFA_SAD_XX.wav",
         "1001_DFA_SAD_XX.wav",
         ".wav",
         "Sad"
        ],
        [
         "6",
         null,
         "CREMA-D",
         "./dataset/crema-d\\AudioWAV\\1001_IEO_ANG_HI.wav",
         "1001_IEO_ANG_HI.wav",
         ".wav",
         "Anger"
        ],
        [
         "7",
         null,
         "CREMA-D",
         "./dataset/crema-d\\AudioWAV\\1001_IEO_ANG_LO.wav",
         "1001_IEO_ANG_LO.wav",
         ".wav",
         "Anger"
        ],
        [
         "8",
         null,
         "CREMA-D",
         "./dataset/crema-d\\AudioWAV\\1001_IEO_ANG_MD.wav",
         "1001_IEO_ANG_MD.wav",
         ".wav",
         "Anger"
        ],
        [
         "9",
         null,
         "CREMA-D",
         "./dataset/crema-d\\AudioWAV\\1001_IEO_DIS_HI.wav",
         "1001_IEO_DIS_HI.wav",
         ".wav",
         "Disgust"
        ],
        [
         "10",
         null,
         "CREMA-D",
         "./dataset/crema-d\\AudioWAV\\1001_IEO_DIS_LO.wav",
         "1001_IEO_DIS_LO.wav",
         ".wav",
         "Disgust"
        ],
        [
         "11",
         null,
         "CREMA-D",
         "./dataset/crema-d\\AudioWAV\\1001_IEO_DIS_MD.wav",
         "1001_IEO_DIS_MD.wav",
         ".wav",
         "Disgust"
        ],
        [
         "12",
         null,
         "CREMA-D",
         "./dataset/crema-d\\AudioWAV\\1001_IEO_FEA_HI.wav",
         "1001_IEO_FEA_HI.wav",
         ".wav",
         "Fear"
        ],
        [
         "13",
         null,
         "CREMA-D",
         "./dataset/crema-d\\AudioWAV\\1001_IEO_FEA_LO.wav",
         "1001_IEO_FEA_LO.wav",
         ".wav",
         "Fear"
        ],
        [
         "14",
         null,
         "CREMA-D",
         "./dataset/crema-d\\AudioWAV\\1001_IEO_FEA_MD.wav",
         "1001_IEO_FEA_MD.wav",
         ".wav",
         "Fear"
        ],
        [
         "15",
         null,
         "CREMA-D",
         "./dataset/crema-d\\AudioWAV\\1001_IEO_HAP_HI.wav",
         "1001_IEO_HAP_HI.wav",
         ".wav",
         "Happy"
        ],
        [
         "16",
         null,
         "CREMA-D",
         "./dataset/crema-d\\AudioWAV\\1001_IEO_HAP_LO.wav",
         "1001_IEO_HAP_LO.wav",
         ".wav",
         "Happy"
        ],
        [
         "17",
         null,
         "CREMA-D",
         "./dataset/crema-d\\AudioWAV\\1001_IEO_HAP_MD.wav",
         "1001_IEO_HAP_MD.wav",
         ".wav",
         "Happy"
        ],
        [
         "18",
         null,
         "CREMA-D",
         "./dataset/crema-d\\AudioWAV\\1001_IEO_NEU_XX.wav",
         "1001_IEO_NEU_XX.wav",
         ".wav",
         "Neutral"
        ],
        [
         "19",
         null,
         "CREMA-D",
         "./dataset/crema-d\\AudioWAV\\1001_IEO_SAD_HI.wav",
         "1001_IEO_SAD_HI.wav",
         ".wav",
         "Sad"
        ],
        [
         "20",
         null,
         "CREMA-D",
         "./dataset/crema-d\\AudioWAV\\1001_IEO_SAD_LO.wav",
         "1001_IEO_SAD_LO.wav",
         ".wav",
         "Sad"
        ],
        [
         "21",
         null,
         "CREMA-D",
         "./dataset/crema-d\\AudioWAV\\1001_IEO_SAD_MD.wav",
         "1001_IEO_SAD_MD.wav",
         ".wav",
         "Sad"
        ],
        [
         "22",
         null,
         "CREMA-D",
         "./dataset/crema-d\\AudioWAV\\1001_IOM_ANG_XX.wav",
         "1001_IOM_ANG_XX.wav",
         ".wav",
         "Anger"
        ],
        [
         "23",
         null,
         "CREMA-D",
         "./dataset/crema-d\\AudioWAV\\1001_IOM_DIS_XX.wav",
         "1001_IOM_DIS_XX.wav",
         ".wav",
         "Disgust"
        ],
        [
         "24",
         null,
         "CREMA-D",
         "./dataset/crema-d\\AudioWAV\\1001_IOM_FEA_XX.wav",
         "1001_IOM_FEA_XX.wav",
         ".wav",
         "Fear"
        ],
        [
         "25",
         null,
         "CREMA-D",
         "./dataset/crema-d\\AudioWAV\\1001_IOM_HAP_XX.wav",
         "1001_IOM_HAP_XX.wav",
         ".wav",
         "Happy"
        ],
        [
         "26",
         null,
         "CREMA-D",
         "./dataset/crema-d\\AudioWAV\\1001_IOM_NEU_XX.wav",
         "1001_IOM_NEU_XX.wav",
         ".wav",
         "Neutral"
        ],
        [
         "27",
         null,
         "CREMA-D",
         "./dataset/crema-d\\AudioWAV\\1001_IOM_SAD_XX.wav",
         "1001_IOM_SAD_XX.wav",
         ".wav",
         "Sad"
        ],
        [
         "28",
         null,
         "CREMA-D",
         "./dataset/crema-d\\AudioWAV\\1001_ITH_ANG_XX.wav",
         "1001_ITH_ANG_XX.wav",
         ".wav",
         "Anger"
        ],
        [
         "29",
         null,
         "CREMA-D",
         "./dataset/crema-d\\AudioWAV\\1001_ITH_DIS_XX.wav",
         "1001_ITH_DIS_XX.wav",
         ".wav",
         "Disgust"
        ],
        [
         "30",
         null,
         "CREMA-D",
         "./dataset/crema-d\\AudioWAV\\1001_ITH_FEA_XX.wav",
         "1001_ITH_FEA_XX.wav",
         ".wav",
         "Fear"
        ],
        [
         "31",
         null,
         "CREMA-D",
         "./dataset/crema-d\\AudioWAV\\1001_ITH_HAP_XX.wav",
         "1001_ITH_HAP_XX.wav",
         ".wav",
         "Happy"
        ],
        [
         "32",
         null,
         "CREMA-D",
         "./dataset/crema-d\\AudioWAV\\1001_ITH_NEU_XX.wav",
         "1001_ITH_NEU_XX.wav",
         ".wav",
         "Neutral"
        ],
        [
         "33",
         null,
         "CREMA-D",
         "./dataset/crema-d\\AudioWAV\\1001_ITH_SAD_XX.wav",
         "1001_ITH_SAD_XX.wav",
         ".wav",
         "Sad"
        ],
        [
         "34",
         null,
         "CREMA-D",
         "./dataset/crema-d\\AudioWAV\\1001_ITS_ANG_XX.wav",
         "1001_ITS_ANG_XX.wav",
         ".wav",
         "Anger"
        ],
        [
         "35",
         null,
         "CREMA-D",
         "./dataset/crema-d\\AudioWAV\\1001_ITS_DIS_XX.wav",
         "1001_ITS_DIS_XX.wav",
         ".wav",
         "Disgust"
        ],
        [
         "36",
         null,
         "CREMA-D",
         "./dataset/crema-d\\AudioWAV\\1001_ITS_FEA_XX.wav",
         "1001_ITS_FEA_XX.wav",
         ".wav",
         "Fear"
        ],
        [
         "37",
         null,
         "CREMA-D",
         "./dataset/crema-d\\AudioWAV\\1001_ITS_HAP_XX.wav",
         "1001_ITS_HAP_XX.wav",
         ".wav",
         "Happy"
        ],
        [
         "38",
         null,
         "CREMA-D",
         "./dataset/crema-d\\AudioWAV\\1001_ITS_NEU_XX.wav",
         "1001_ITS_NEU_XX.wav",
         ".wav",
         "Neutral"
        ],
        [
         "39",
         null,
         "CREMA-D",
         "./dataset/crema-d\\AudioWAV\\1001_ITS_SAD_XX.wav",
         "1001_ITS_SAD_XX.wav",
         ".wav",
         "Sad"
        ],
        [
         "40",
         null,
         "CREMA-D",
         "./dataset/crema-d\\AudioWAV\\1001_IWL_ANG_XX.wav",
         "1001_IWL_ANG_XX.wav",
         ".wav",
         "Anger"
        ],
        [
         "41",
         null,
         "CREMA-D",
         "./dataset/crema-d\\AudioWAV\\1001_IWL_DIS_XX.wav",
         "1001_IWL_DIS_XX.wav",
         ".wav",
         "Disgust"
        ],
        [
         "42",
         null,
         "CREMA-D",
         "./dataset/crema-d\\AudioWAV\\1001_IWL_FEA_XX.wav",
         "1001_IWL_FEA_XX.wav",
         ".wav",
         "Fear"
        ],
        [
         "43",
         null,
         "CREMA-D",
         "./dataset/crema-d\\AudioWAV\\1001_IWL_HAP_XX.wav",
         "1001_IWL_HAP_XX.wav",
         ".wav",
         "Happy"
        ],
        [
         "44",
         null,
         "CREMA-D",
         "./dataset/crema-d\\AudioWAV\\1001_IWL_NEU_XX.wav",
         "1001_IWL_NEU_XX.wav",
         ".wav",
         "Neutral"
        ],
        [
         "45",
         null,
         "CREMA-D",
         "./dataset/crema-d\\AudioWAV\\1001_IWL_SAD_XX.wav",
         "1001_IWL_SAD_XX.wav",
         ".wav",
         "Sad"
        ],
        [
         "46",
         null,
         "CREMA-D",
         "./dataset/crema-d\\AudioWAV\\1001_IWW_ANG_XX.wav",
         "1001_IWW_ANG_XX.wav",
         ".wav",
         "Anger"
        ],
        [
         "47",
         null,
         "CREMA-D",
         "./dataset/crema-d\\AudioWAV\\1001_IWW_DIS_XX.wav",
         "1001_IWW_DIS_XX.wav",
         ".wav",
         "Disgust"
        ],
        [
         "48",
         null,
         "CREMA-D",
         "./dataset/crema-d\\AudioWAV\\1001_IWW_FEA_XX.wav",
         "1001_IWW_FEA_XX.wav",
         ".wav",
         "Fear"
        ],
        [
         "49",
         null,
         "CREMA-D",
         "./dataset/crema-d\\AudioWAV\\1001_IWW_HAP_XX.wav",
         "1001_IWW_HAP_XX.wav",
         ".wav",
         "Happy"
        ]
       ],
       "shape": {
        "columns": 6,
        "rows": 74702
       }
      },
      "text/html": [
       "<div>\n",
       "<style scoped>\n",
       "    .dataframe tbody tr th:only-of-type {\n",
       "        vertical-align: middle;\n",
       "    }\n",
       "\n",
       "    .dataframe tbody tr th {\n",
       "        vertical-align: top;\n",
       "    }\n",
       "\n",
       "    .dataframe thead th {\n",
       "        text-align: right;\n",
       "    }\n",
       "</style>\n",
       "<table border=\"1\" class=\"dataframe\">\n",
       "  <thead>\n",
       "    <tr style=\"text-align: right;\">\n",
       "      <th></th>\n",
       "      <th>Id</th>\n",
       "      <th>Dataset</th>\n",
       "      <th>Filepath</th>\n",
       "      <th>Filename</th>\n",
       "      <th>Ext</th>\n",
       "      <th>Emotion</th>\n",
       "    </tr>\n",
       "  </thead>\n",
       "  <tbody>\n",
       "    <tr>\n",
       "      <th>0</th>\n",
       "      <td>NaN</td>\n",
       "      <td>CREMA-D</td>\n",
       "      <td>./dataset/crema-d\\AudioWAV\\1001_DFA_ANG_XX.wav</td>\n",
       "      <td>1001_DFA_ANG_XX.wav</td>\n",
       "      <td>.wav</td>\n",
       "      <td>Anger</td>\n",
       "    </tr>\n",
       "    <tr>\n",
       "      <th>1</th>\n",
       "      <td>NaN</td>\n",
       "      <td>CREMA-D</td>\n",
       "      <td>./dataset/crema-d\\AudioWAV\\1001_DFA_DIS_XX.wav</td>\n",
       "      <td>1001_DFA_DIS_XX.wav</td>\n",
       "      <td>.wav</td>\n",
       "      <td>Disgust</td>\n",
       "    </tr>\n",
       "    <tr>\n",
       "      <th>2</th>\n",
       "      <td>NaN</td>\n",
       "      <td>CREMA-D</td>\n",
       "      <td>./dataset/crema-d\\AudioWAV\\1001_DFA_FEA_XX.wav</td>\n",
       "      <td>1001_DFA_FEA_XX.wav</td>\n",
       "      <td>.wav</td>\n",
       "      <td>Fear</td>\n",
       "    </tr>\n",
       "    <tr>\n",
       "      <th>3</th>\n",
       "      <td>NaN</td>\n",
       "      <td>CREMA-D</td>\n",
       "      <td>./dataset/crema-d\\AudioWAV\\1001_DFA_HAP_XX.wav</td>\n",
       "      <td>1001_DFA_HAP_XX.wav</td>\n",
       "      <td>.wav</td>\n",
       "      <td>Happy</td>\n",
       "    </tr>\n",
       "    <tr>\n",
       "      <th>4</th>\n",
       "      <td>NaN</td>\n",
       "      <td>CREMA-D</td>\n",
       "      <td>./dataset/crema-d\\AudioWAV\\1001_DFA_NEU_XX.wav</td>\n",
       "      <td>1001_DFA_NEU_XX.wav</td>\n",
       "      <td>.wav</td>\n",
       "      <td>Neutral</td>\n",
       "    </tr>\n",
       "    <tr>\n",
       "      <th>...</th>\n",
       "      <td>...</td>\n",
       "      <td>...</td>\n",
       "      <td>...</td>\n",
       "      <td>...</td>\n",
       "      <td>...</td>\n",
       "      <td>...</td>\n",
       "    </tr>\n",
       "    <tr>\n",
       "      <th>74697</th>\n",
       "      <td>NaN</td>\n",
       "      <td>JL-CORPUS</td>\n",
       "      <td>./dataset/jl-corpus/Raw JL corpus (unchecked a...</td>\n",
       "      <td>male2_sad_8b_2.wav</td>\n",
       "      <td>.wav</td>\n",
       "      <td>Sad</td>\n",
       "    </tr>\n",
       "    <tr>\n",
       "      <th>74698</th>\n",
       "      <td>NaN</td>\n",
       "      <td>JL-CORPUS</td>\n",
       "      <td>./dataset/jl-corpus/Raw JL corpus (unchecked a...</td>\n",
       "      <td>male2_sad_9a_1.wav</td>\n",
       "      <td>.wav</td>\n",
       "      <td>Sad</td>\n",
       "    </tr>\n",
       "    <tr>\n",
       "      <th>74699</th>\n",
       "      <td>NaN</td>\n",
       "      <td>JL-CORPUS</td>\n",
       "      <td>./dataset/jl-corpus/Raw JL corpus (unchecked a...</td>\n",
       "      <td>male2_sad_9a_2.wav</td>\n",
       "      <td>.wav</td>\n",
       "      <td>Sad</td>\n",
       "    </tr>\n",
       "    <tr>\n",
       "      <th>74700</th>\n",
       "      <td>NaN</td>\n",
       "      <td>JL-CORPUS</td>\n",
       "      <td>./dataset/jl-corpus/Raw JL corpus (unchecked a...</td>\n",
       "      <td>male2_sad_9b_1.wav</td>\n",
       "      <td>.wav</td>\n",
       "      <td>Sad</td>\n",
       "    </tr>\n",
       "    <tr>\n",
       "      <th>74701</th>\n",
       "      <td>NaN</td>\n",
       "      <td>JL-CORPUS</td>\n",
       "      <td>./dataset/jl-corpus/Raw JL corpus (unchecked a...</td>\n",
       "      <td>male2_sad_9b_2.wav</td>\n",
       "      <td>.wav</td>\n",
       "      <td>Sad</td>\n",
       "    </tr>\n",
       "  </tbody>\n",
       "</table>\n",
       "<p>74702 rows × 6 columns</p>\n",
       "</div>"
      ],
      "text/plain": [
       "        Id    Dataset                                           Filepath  \\\n",
       "0      NaN    CREMA-D     ./dataset/crema-d\\AudioWAV\\1001_DFA_ANG_XX.wav   \n",
       "1      NaN    CREMA-D     ./dataset/crema-d\\AudioWAV\\1001_DFA_DIS_XX.wav   \n",
       "2      NaN    CREMA-D     ./dataset/crema-d\\AudioWAV\\1001_DFA_FEA_XX.wav   \n",
       "3      NaN    CREMA-D     ./dataset/crema-d\\AudioWAV\\1001_DFA_HAP_XX.wav   \n",
       "4      NaN    CREMA-D     ./dataset/crema-d\\AudioWAV\\1001_DFA_NEU_XX.wav   \n",
       "...    ...        ...                                                ...   \n",
       "74697  NaN  JL-CORPUS  ./dataset/jl-corpus/Raw JL corpus (unchecked a...   \n",
       "74698  NaN  JL-CORPUS  ./dataset/jl-corpus/Raw JL corpus (unchecked a...   \n",
       "74699  NaN  JL-CORPUS  ./dataset/jl-corpus/Raw JL corpus (unchecked a...   \n",
       "74700  NaN  JL-CORPUS  ./dataset/jl-corpus/Raw JL corpus (unchecked a...   \n",
       "74701  NaN  JL-CORPUS  ./dataset/jl-corpus/Raw JL corpus (unchecked a...   \n",
       "\n",
       "                  Filename   Ext  Emotion  \n",
       "0      1001_DFA_ANG_XX.wav  .wav    Anger  \n",
       "1      1001_DFA_DIS_XX.wav  .wav  Disgust  \n",
       "2      1001_DFA_FEA_XX.wav  .wav     Fear  \n",
       "3      1001_DFA_HAP_XX.wav  .wav    Happy  \n",
       "4      1001_DFA_NEU_XX.wav  .wav  Neutral  \n",
       "...                    ...   ...      ...  \n",
       "74697   male2_sad_8b_2.wav  .wav      Sad  \n",
       "74698   male2_sad_9a_1.wav  .wav      Sad  \n",
       "74699   male2_sad_9a_2.wav  .wav      Sad  \n",
       "74700   male2_sad_9b_1.wav  .wav      Sad  \n",
       "74701   male2_sad_9b_2.wav  .wav      Sad  \n",
       "\n",
       "[74702 rows x 6 columns]"
      ]
     },
     "execution_count": 59,
     "metadata": {},
     "output_type": "execute_result"
    }
   ],
   "source": [
    "df = pd.concat([crema_df, meld_df, mlend_df, rav_df, savee_df, tess_df, esd_df, jl_df], ignore_index = True)\n",
    "df"
   ]
  },
  {
   "cell_type": "code",
   "execution_count": 60,
   "id": "0a1d6eb9",
   "metadata": {},
   "outputs": [
    {
     "data": {
      "application/vnd.microsoft.datawrangler.viewer.v0+json": {
       "columns": [
        {
         "name": "index",
         "rawType": "int64",
         "type": "integer"
        },
        {
         "name": "Id",
         "rawType": "int64",
         "type": "integer"
        },
        {
         "name": "Dataset",
         "rawType": "object",
         "type": "string"
        },
        {
         "name": "Filepath",
         "rawType": "object",
         "type": "string"
        },
        {
         "name": "Filename",
         "rawType": "object",
         "type": "string"
        },
        {
         "name": "Ext",
         "rawType": "object",
         "type": "string"
        },
        {
         "name": "Emotion",
         "rawType": "object",
         "type": "string"
        }
       ],
       "conversionMethod": "pd.DataFrame",
       "ref": "36b47e85-7d5d-43a2-a3b9-a840f738afd6",
       "rows": [
        [
         "74697",
         "74697",
         "JL-CORPUS",
         "./dataset/jl-corpus/Raw JL corpus (unchecked and unannotated)/JL(wav+txt)\\male2_sad_8b_2.wav",
         "male2_sad_8b_2.wav",
         ".wav",
         "Sad"
        ],
        [
         "74698",
         "74698",
         "JL-CORPUS",
         "./dataset/jl-corpus/Raw JL corpus (unchecked and unannotated)/JL(wav+txt)\\male2_sad_9a_1.wav",
         "male2_sad_9a_1.wav",
         ".wav",
         "Sad"
        ],
        [
         "74699",
         "74699",
         "JL-CORPUS",
         "./dataset/jl-corpus/Raw JL corpus (unchecked and unannotated)/JL(wav+txt)\\male2_sad_9a_2.wav",
         "male2_sad_9a_2.wav",
         ".wav",
         "Sad"
        ],
        [
         "74700",
         "74700",
         "JL-CORPUS",
         "./dataset/jl-corpus/Raw JL corpus (unchecked and unannotated)/JL(wav+txt)\\male2_sad_9b_1.wav",
         "male2_sad_9b_1.wav",
         ".wav",
         "Sad"
        ],
        [
         "74701",
         "74701",
         "JL-CORPUS",
         "./dataset/jl-corpus/Raw JL corpus (unchecked and unannotated)/JL(wav+txt)\\male2_sad_9b_2.wav",
         "male2_sad_9b_2.wav",
         ".wav",
         "Sad"
        ]
       ],
       "shape": {
        "columns": 6,
        "rows": 5
       }
      },
      "text/html": [
       "<div>\n",
       "<style scoped>\n",
       "    .dataframe tbody tr th:only-of-type {\n",
       "        vertical-align: middle;\n",
       "    }\n",
       "\n",
       "    .dataframe tbody tr th {\n",
       "        vertical-align: top;\n",
       "    }\n",
       "\n",
       "    .dataframe thead th {\n",
       "        text-align: right;\n",
       "    }\n",
       "</style>\n",
       "<table border=\"1\" class=\"dataframe\">\n",
       "  <thead>\n",
       "    <tr style=\"text-align: right;\">\n",
       "      <th></th>\n",
       "      <th>Id</th>\n",
       "      <th>Dataset</th>\n",
       "      <th>Filepath</th>\n",
       "      <th>Filename</th>\n",
       "      <th>Ext</th>\n",
       "      <th>Emotion</th>\n",
       "    </tr>\n",
       "  </thead>\n",
       "  <tbody>\n",
       "    <tr>\n",
       "      <th>74697</th>\n",
       "      <td>74697</td>\n",
       "      <td>JL-CORPUS</td>\n",
       "      <td>./dataset/jl-corpus/Raw JL corpus (unchecked a...</td>\n",
       "      <td>male2_sad_8b_2.wav</td>\n",
       "      <td>.wav</td>\n",
       "      <td>Sad</td>\n",
       "    </tr>\n",
       "    <tr>\n",
       "      <th>74698</th>\n",
       "      <td>74698</td>\n",
       "      <td>JL-CORPUS</td>\n",
       "      <td>./dataset/jl-corpus/Raw JL corpus (unchecked a...</td>\n",
       "      <td>male2_sad_9a_1.wav</td>\n",
       "      <td>.wav</td>\n",
       "      <td>Sad</td>\n",
       "    </tr>\n",
       "    <tr>\n",
       "      <th>74699</th>\n",
       "      <td>74699</td>\n",
       "      <td>JL-CORPUS</td>\n",
       "      <td>./dataset/jl-corpus/Raw JL corpus (unchecked a...</td>\n",
       "      <td>male2_sad_9a_2.wav</td>\n",
       "      <td>.wav</td>\n",
       "      <td>Sad</td>\n",
       "    </tr>\n",
       "    <tr>\n",
       "      <th>74700</th>\n",
       "      <td>74700</td>\n",
       "      <td>JL-CORPUS</td>\n",
       "      <td>./dataset/jl-corpus/Raw JL corpus (unchecked a...</td>\n",
       "      <td>male2_sad_9b_1.wav</td>\n",
       "      <td>.wav</td>\n",
       "      <td>Sad</td>\n",
       "    </tr>\n",
       "    <tr>\n",
       "      <th>74701</th>\n",
       "      <td>74701</td>\n",
       "      <td>JL-CORPUS</td>\n",
       "      <td>./dataset/jl-corpus/Raw JL corpus (unchecked a...</td>\n",
       "      <td>male2_sad_9b_2.wav</td>\n",
       "      <td>.wav</td>\n",
       "      <td>Sad</td>\n",
       "    </tr>\n",
       "  </tbody>\n",
       "</table>\n",
       "</div>"
      ],
      "text/plain": [
       "          Id    Dataset                                           Filepath  \\\n",
       "74697  74697  JL-CORPUS  ./dataset/jl-corpus/Raw JL corpus (unchecked a...   \n",
       "74698  74698  JL-CORPUS  ./dataset/jl-corpus/Raw JL corpus (unchecked a...   \n",
       "74699  74699  JL-CORPUS  ./dataset/jl-corpus/Raw JL corpus (unchecked a...   \n",
       "74700  74700  JL-CORPUS  ./dataset/jl-corpus/Raw JL corpus (unchecked a...   \n",
       "74701  74701  JL-CORPUS  ./dataset/jl-corpus/Raw JL corpus (unchecked a...   \n",
       "\n",
       "                 Filename   Ext Emotion  \n",
       "74697  male2_sad_8b_2.wav  .wav     Sad  \n",
       "74698  male2_sad_9a_1.wav  .wav     Sad  \n",
       "74699  male2_sad_9a_2.wav  .wav     Sad  \n",
       "74700  male2_sad_9b_1.wav  .wav     Sad  \n",
       "74701  male2_sad_9b_2.wav  .wav     Sad  "
      ]
     },
     "execution_count": 60,
     "metadata": {},
     "output_type": "execute_result"
    }
   ],
   "source": [
    "df['Id'] = np.arange(len(df))\n",
    "df.tail()"
   ]
  },
  {
   "cell_type": "markdown",
   "id": "4daba8c0",
   "metadata": {},
   "source": [
    "## 3. EDA Analysis of raw audio"
   ]
  },
  {
   "cell_type": "markdown",
   "id": "c9d6c3bb",
   "metadata": {},
   "source": [
    "### Audio duration analysis"
   ]
  },
  {
   "cell_type": "code",
   "execution_count": 61,
   "id": "4de8699d",
   "metadata": {},
   "outputs": [],
   "source": [
    "import subprocess\n",
    "import matplotlib.pyplot as plt\n",
    "from concurrent.futures import ThreadPoolExecutor"
   ]
  },
  {
   "cell_type": "code",
   "execution_count": 62,
   "id": "868daca8",
   "metadata": {},
   "outputs": [
    {
     "data": {
      "application/vnd.microsoft.datawrangler.viewer.v0+json": {
       "columns": [
        {
         "name": "index",
         "rawType": "int64",
         "type": "integer"
        },
        {
         "name": "Id",
         "rawType": "int64",
         "type": "integer"
        },
        {
         "name": "Dataset",
         "rawType": "object",
         "type": "string"
        },
        {
         "name": "Filepath",
         "rawType": "object",
         "type": "string"
        },
        {
         "name": "Filename",
         "rawType": "object",
         "type": "string"
        },
        {
         "name": "Ext",
         "rawType": "object",
         "type": "string"
        },
        {
         "name": "Emotion",
         "rawType": "object",
         "type": "string"
        }
       ],
       "conversionMethod": "pd.DataFrame",
       "ref": "fe342964-ce11-45f3-98bb-9fa46486ed0e",
       "rows": [
        [
         "0",
         "0",
         "CREMA-D",
         "./dataset/crema-d\\AudioWAV\\1001_DFA_ANG_XX.wav",
         "1001_DFA_ANG_XX.wav",
         ".wav",
         "Anger"
        ],
        [
         "1",
         "1",
         "CREMA-D",
         "./dataset/crema-d\\AudioWAV\\1001_DFA_DIS_XX.wav",
         "1001_DFA_DIS_XX.wav",
         ".wav",
         "Disgust"
        ],
        [
         "2",
         "2",
         "CREMA-D",
         "./dataset/crema-d\\AudioWAV\\1001_DFA_FEA_XX.wav",
         "1001_DFA_FEA_XX.wav",
         ".wav",
         "Fear"
        ],
        [
         "3",
         "3",
         "CREMA-D",
         "./dataset/crema-d\\AudioWAV\\1001_DFA_HAP_XX.wav",
         "1001_DFA_HAP_XX.wav",
         ".wav",
         "Happy"
        ],
        [
         "4",
         "4",
         "CREMA-D",
         "./dataset/crema-d\\AudioWAV\\1001_DFA_NEU_XX.wav",
         "1001_DFA_NEU_XX.wav",
         ".wav",
         "Neutral"
        ]
       ],
       "shape": {
        "columns": 6,
        "rows": 5
       }
      },
      "text/html": [
       "<div>\n",
       "<style scoped>\n",
       "    .dataframe tbody tr th:only-of-type {\n",
       "        vertical-align: middle;\n",
       "    }\n",
       "\n",
       "    .dataframe tbody tr th {\n",
       "        vertical-align: top;\n",
       "    }\n",
       "\n",
       "    .dataframe thead th {\n",
       "        text-align: right;\n",
       "    }\n",
       "</style>\n",
       "<table border=\"1\" class=\"dataframe\">\n",
       "  <thead>\n",
       "    <tr style=\"text-align: right;\">\n",
       "      <th></th>\n",
       "      <th>Id</th>\n",
       "      <th>Dataset</th>\n",
       "      <th>Filepath</th>\n",
       "      <th>Filename</th>\n",
       "      <th>Ext</th>\n",
       "      <th>Emotion</th>\n",
       "    </tr>\n",
       "  </thead>\n",
       "  <tbody>\n",
       "    <tr>\n",
       "      <th>0</th>\n",
       "      <td>0</td>\n",
       "      <td>CREMA-D</td>\n",
       "      <td>./dataset/crema-d\\AudioWAV\\1001_DFA_ANG_XX.wav</td>\n",
       "      <td>1001_DFA_ANG_XX.wav</td>\n",
       "      <td>.wav</td>\n",
       "      <td>Anger</td>\n",
       "    </tr>\n",
       "    <tr>\n",
       "      <th>1</th>\n",
       "      <td>1</td>\n",
       "      <td>CREMA-D</td>\n",
       "      <td>./dataset/crema-d\\AudioWAV\\1001_DFA_DIS_XX.wav</td>\n",
       "      <td>1001_DFA_DIS_XX.wav</td>\n",
       "      <td>.wav</td>\n",
       "      <td>Disgust</td>\n",
       "    </tr>\n",
       "    <tr>\n",
       "      <th>2</th>\n",
       "      <td>2</td>\n",
       "      <td>CREMA-D</td>\n",
       "      <td>./dataset/crema-d\\AudioWAV\\1001_DFA_FEA_XX.wav</td>\n",
       "      <td>1001_DFA_FEA_XX.wav</td>\n",
       "      <td>.wav</td>\n",
       "      <td>Fear</td>\n",
       "    </tr>\n",
       "    <tr>\n",
       "      <th>3</th>\n",
       "      <td>3</td>\n",
       "      <td>CREMA-D</td>\n",
       "      <td>./dataset/crema-d\\AudioWAV\\1001_DFA_HAP_XX.wav</td>\n",
       "      <td>1001_DFA_HAP_XX.wav</td>\n",
       "      <td>.wav</td>\n",
       "      <td>Happy</td>\n",
       "    </tr>\n",
       "    <tr>\n",
       "      <th>4</th>\n",
       "      <td>4</td>\n",
       "      <td>CREMA-D</td>\n",
       "      <td>./dataset/crema-d\\AudioWAV\\1001_DFA_NEU_XX.wav</td>\n",
       "      <td>1001_DFA_NEU_XX.wav</td>\n",
       "      <td>.wav</td>\n",
       "      <td>Neutral</td>\n",
       "    </tr>\n",
       "  </tbody>\n",
       "</table>\n",
       "</div>"
      ],
      "text/plain": [
       "   Id  Dataset                                        Filepath  \\\n",
       "0   0  CREMA-D  ./dataset/crema-d\\AudioWAV\\1001_DFA_ANG_XX.wav   \n",
       "1   1  CREMA-D  ./dataset/crema-d\\AudioWAV\\1001_DFA_DIS_XX.wav   \n",
       "2   2  CREMA-D  ./dataset/crema-d\\AudioWAV\\1001_DFA_FEA_XX.wav   \n",
       "3   3  CREMA-D  ./dataset/crema-d\\AudioWAV\\1001_DFA_HAP_XX.wav   \n",
       "4   4  CREMA-D  ./dataset/crema-d\\AudioWAV\\1001_DFA_NEU_XX.wav   \n",
       "\n",
       "              Filename   Ext  Emotion  \n",
       "0  1001_DFA_ANG_XX.wav  .wav    Anger  \n",
       "1  1001_DFA_DIS_XX.wav  .wav  Disgust  \n",
       "2  1001_DFA_FEA_XX.wav  .wav     Fear  \n",
       "3  1001_DFA_HAP_XX.wav  .wav    Happy  \n",
       "4  1001_DFA_NEU_XX.wav  .wav  Neutral  "
      ]
     },
     "execution_count": 62,
     "metadata": {},
     "output_type": "execute_result"
    }
   ],
   "source": [
    "df.head()"
   ]
  },
  {
   "cell_type": "code",
   "execution_count": 63,
   "id": "dd422d33",
   "metadata": {},
   "outputs": [
    {
     "name": "stdout",
     "output_type": "stream",
     "text": [
      "Columns: ['Id', 'Dataset', 'Filepath', 'Filename', 'Ext', 'Emotion']\n",
      "The number of dataset: 74702\n"
     ]
    }
   ],
   "source": [
    "print(\"Columns:\", list(df.columns))\n",
    "print(\"The number of dataset:\", len(df))"
   ]
  },
  {
   "cell_type": "code",
   "execution_count": 64,
   "id": "c665ddc6",
   "metadata": {},
   "outputs": [],
   "source": [
    "def get_duration(filepath):\n",
    "    \"\"\"\n",
    "    Uses ffprobe to extract the duration (in seconds) of an audio/video file.\n",
    "    \"\"\"\n",
    "    command = [\n",
    "        'ffprobe',\n",
    "        '-v', 'error',\n",
    "        '-show_entries', 'format=duration',\n",
    "        '-of', 'default=noprint_wrappers=1:nokey=1',\n",
    "        filepath\n",
    "    ]\n",
    "    result = subprocess.run(command, stdout=subprocess.PIPE, stderr=subprocess.PIPE, universal_newlines=True)\n",
    "    try:\n",
    "        duration = float(result.stdout.strip())\n",
    "    except ValueError:\n",
    "        duration = None\n",
    "    return duration\n",
    "\n",
    "# Read your CSV file\n",
    "filepaths = df['Filepath'].tolist()\n",
    "\n",
    "# Use parallel processing to get durations\n",
    "with ThreadPoolExecutor() as executor:\n",
    "    durations = list(executor.map(get_duration, filepaths))\n",
    "\n",
    "df['Duration'] = durations"
   ]
  },
  {
   "cell_type": "code",
   "execution_count": 65,
   "id": "0ccf3ca4",
   "metadata": {},
   "outputs": [
    {
     "data": {
      "application/vnd.microsoft.datawrangler.viewer.v0+json": {
       "columns": [
        {
         "name": "index",
         "rawType": "int64",
         "type": "integer"
        },
        {
         "name": "Id",
         "rawType": "int64",
         "type": "integer"
        },
        {
         "name": "Dataset",
         "rawType": "object",
         "type": "string"
        },
        {
         "name": "Filepath",
         "rawType": "object",
         "type": "string"
        },
        {
         "name": "Filename",
         "rawType": "object",
         "type": "string"
        },
        {
         "name": "Ext",
         "rawType": "object",
         "type": "string"
        },
        {
         "name": "Emotion",
         "rawType": "object",
         "type": "string"
        },
        {
         "name": "Duration",
         "rawType": "float64",
         "type": "float"
        }
       ],
       "conversionMethod": "pd.DataFrame",
       "ref": "b73d81f9-d65b-4e1e-86bd-ea12585cd8ac",
       "rows": [
        [
         "0",
         "0",
         "CREMA-D",
         "./dataset/crema-d\\AudioWAV\\1001_DFA_ANG_XX.wav",
         "1001_DFA_ANG_XX.wav",
         ".wav",
         "Anger",
         "2.275563"
        ],
        [
         "1",
         "1",
         "CREMA-D",
         "./dataset/crema-d\\AudioWAV\\1001_DFA_DIS_XX.wav",
         "1001_DFA_DIS_XX.wav",
         ".wav",
         "Disgust",
         "2.335688"
        ],
        [
         "2",
         "2",
         "CREMA-D",
         "./dataset/crema-d\\AudioWAV\\1001_DFA_FEA_XX.wav",
         "1001_DFA_FEA_XX.wav",
         ".wav",
         "Fear",
         "2.168813"
        ],
        [
         "3",
         "3",
         "CREMA-D",
         "./dataset/crema-d\\AudioWAV\\1001_DFA_HAP_XX.wav",
         "1001_DFA_HAP_XX.wav",
         ".wav",
         "Happy",
         "1.8685"
        ],
        [
         "4",
         "4",
         "CREMA-D",
         "./dataset/crema-d\\AudioWAV\\1001_DFA_NEU_XX.wav",
         "1001_DFA_NEU_XX.wav",
         ".wav",
         "Neutral",
         "2.035375"
        ],
        [
         "5",
         "5",
         "CREMA-D",
         "./dataset/crema-d\\AudioWAV\\1001_DFA_SAD_XX.wav",
         "1001_DFA_SAD_XX.wav",
         ".wav",
         "Sad",
         "2.002"
        ],
        [
         "6",
         "6",
         "CREMA-D",
         "./dataset/crema-d\\AudioWAV\\1001_IEO_ANG_HI.wav",
         "1001_IEO_ANG_HI.wav",
         ".wav",
         "Anger",
         "1.93525"
        ],
        [
         "7",
         "7",
         "CREMA-D",
         "./dataset/crema-d\\AudioWAV\\1001_IEO_ANG_LO.wav",
         "1001_IEO_ANG_LO.wav",
         ".wav",
         "Anger",
         "2.06875"
        ],
        [
         "8",
         "8",
         "CREMA-D",
         "./dataset/crema-d\\AudioWAV\\1001_IEO_ANG_MD.wav",
         "1001_IEO_ANG_MD.wav",
         ".wav",
         "Anger",
         "2.635938"
        ],
        [
         "9",
         "9",
         "CREMA-D",
         "./dataset/crema-d\\AudioWAV\\1001_IEO_DIS_HI.wav",
         "1001_IEO_DIS_HI.wav",
         ".wav",
         "Disgust",
         "2.002"
        ],
        [
         "10",
         "10",
         "CREMA-D",
         "./dataset/crema-d\\AudioWAV\\1001_IEO_DIS_LO.wav",
         "1001_IEO_DIS_LO.wav",
         ".wav",
         "Disgust",
         "2.002"
        ],
        [
         "11",
         "11",
         "CREMA-D",
         "./dataset/crema-d\\AudioWAV\\1001_IEO_DIS_MD.wav",
         "1001_IEO_DIS_MD.wav",
         ".wav",
         "Disgust",
         "1.901875"
        ],
        [
         "12",
         "12",
         "CREMA-D",
         "./dataset/crema-d\\AudioWAV\\1001_IEO_FEA_HI.wav",
         "1001_IEO_FEA_HI.wav",
         ".wav",
         "Fear",
         "1.56825"
        ],
        [
         "13",
         "13",
         "CREMA-D",
         "./dataset/crema-d\\AudioWAV\\1001_IEO_FEA_LO.wav",
         "1001_IEO_FEA_LO.wav",
         ".wav",
         "Fear",
         "1.534875"
        ],
        [
         "14",
         "14",
         "CREMA-D",
         "./dataset/crema-d\\AudioWAV\\1001_IEO_FEA_MD.wav",
         "1001_IEO_FEA_MD.wav",
         ".wav",
         "Fear",
         "1.601625"
        ],
        [
         "15",
         "15",
         "CREMA-D",
         "./dataset/crema-d\\AudioWAV\\1001_IEO_HAP_HI.wav",
         "1001_IEO_HAP_HI.wav",
         ".wav",
         "Happy",
         "1.768438"
        ],
        [
         "16",
         "16",
         "CREMA-D",
         "./dataset/crema-d\\AudioWAV\\1001_IEO_HAP_LO.wav",
         "1001_IEO_HAP_LO.wav",
         ".wav",
         "Happy",
         "1.701688"
        ],
        [
         "17",
         "17",
         "CREMA-D",
         "./dataset/crema-d\\AudioWAV\\1001_IEO_HAP_MD.wav",
         "1001_IEO_HAP_MD.wav",
         ".wav",
         "Happy",
         "1.668313"
        ],
        [
         "18",
         "18",
         "CREMA-D",
         "./dataset/crema-d\\AudioWAV\\1001_IEO_NEU_XX.wav",
         "1001_IEO_NEU_XX.wav",
         ".wav",
         "Neutral",
         "1.601625"
        ],
        [
         "19",
         "19",
         "CREMA-D",
         "./dataset/crema-d\\AudioWAV\\1001_IEO_SAD_HI.wav",
         "1001_IEO_SAD_HI.wav",
         ".wav",
         "Sad",
         "2.002"
        ],
        [
         "20",
         "20",
         "CREMA-D",
         "./dataset/crema-d\\AudioWAV\\1001_IEO_SAD_LO.wav",
         "1001_IEO_SAD_LO.wav",
         ".wav",
         "Sad",
         "1.901875"
        ],
        [
         "21",
         "21",
         "CREMA-D",
         "./dataset/crema-d\\AudioWAV\\1001_IEO_SAD_MD.wav",
         "1001_IEO_SAD_MD.wav",
         ".wav",
         "Sad",
         "1.735063"
        ],
        [
         "22",
         "22",
         "CREMA-D",
         "./dataset/crema-d\\AudioWAV\\1001_IOM_ANG_XX.wav",
         "1001_IOM_ANG_XX.wav",
         ".wav",
         "Anger",
         "2.135438"
        ],
        [
         "23",
         "23",
         "CREMA-D",
         "./dataset/crema-d\\AudioWAV\\1001_IOM_DIS_XX.wav",
         "1001_IOM_DIS_XX.wav",
         ".wav",
         "Disgust",
         "2.268938"
        ],
        [
         "24",
         "24",
         "CREMA-D",
         "./dataset/crema-d\\AudioWAV\\1001_IOM_FEA_XX.wav",
         "1001_IOM_FEA_XX.wav",
         ".wav",
         "Fear",
         "2.836188"
        ],
        [
         "25",
         "25",
         "CREMA-D",
         "./dataset/crema-d\\AudioWAV\\1001_IOM_HAP_XX.wav",
         "1001_IOM_HAP_XX.wav",
         ".wav",
         "Happy",
         "2.002"
        ],
        [
         "26",
         "26",
         "CREMA-D",
         "./dataset/crema-d\\AudioWAV\\1001_IOM_NEU_XX.wav",
         "1001_IOM_NEU_XX.wav",
         ".wav",
         "Neutral",
         "2.469125"
        ],
        [
         "27",
         "27",
         "CREMA-D",
         "./dataset/crema-d\\AudioWAV\\1001_IOM_SAD_XX.wav",
         "1001_IOM_SAD_XX.wav",
         ".wav",
         "Sad",
         "1.93525"
        ],
        [
         "28",
         "28",
         "CREMA-D",
         "./dataset/crema-d\\AudioWAV\\1001_ITH_ANG_XX.wav",
         "1001_ITH_ANG_XX.wav",
         ".wav",
         "Anger",
         "2.369"
        ],
        [
         "29",
         "29",
         "CREMA-D",
         "./dataset/crema-d\\AudioWAV\\1001_ITH_DIS_XX.wav",
         "1001_ITH_DIS_XX.wav",
         ".wav",
         "Disgust",
         "2.168813"
        ],
        [
         "30",
         "30",
         "CREMA-D",
         "./dataset/crema-d\\AudioWAV\\1001_ITH_FEA_XX.wav",
         "1001_ITH_FEA_XX.wav",
         ".wav",
         "Fear",
         "2.102125"
        ],
        [
         "31",
         "31",
         "CREMA-D",
         "./dataset/crema-d\\AudioWAV\\1001_ITH_HAP_XX.wav",
         "1001_ITH_HAP_XX.wav",
         ".wav",
         "Happy",
         "2.469125"
        ],
        [
         "32",
         "32",
         "CREMA-D",
         "./dataset/crema-d\\AudioWAV\\1001_ITH_NEU_XX.wav",
         "1001_ITH_NEU_XX.wav",
         ".wav",
         "Neutral",
         "2.602625"
        ],
        [
         "33",
         "33",
         "CREMA-D",
         "./dataset/crema-d\\AudioWAV\\1001_ITH_SAD_XX.wav",
         "1001_ITH_SAD_XX.wav",
         ".wav",
         "Sad",
         "2.369"
        ],
        [
         "34",
         "34",
         "CREMA-D",
         "./dataset/crema-d\\AudioWAV\\1001_ITS_ANG_XX.wav",
         "1001_ITS_ANG_XX.wav",
         ".wav",
         "Anger",
         "2.56925"
        ],
        [
         "35",
         "35",
         "CREMA-D",
         "./dataset/crema-d\\AudioWAV\\1001_ITS_DIS_XX.wav",
         "1001_ITS_DIS_XX.wav",
         ".wav",
         "Disgust",
         "2.202188"
        ],
        [
         "36",
         "36",
         "CREMA-D",
         "./dataset/crema-d\\AudioWAV\\1001_ITS_FEA_XX.wav",
         "1001_ITS_FEA_XX.wav",
         ".wav",
         "Fear",
         "2.135438"
        ],
        [
         "37",
         "37",
         "CREMA-D",
         "./dataset/crema-d\\AudioWAV\\1001_ITS_HAP_XX.wav",
         "1001_ITS_HAP_XX.wav",
         ".wav",
         "Happy",
         "2.202188"
        ],
        [
         "38",
         "38",
         "CREMA-D",
         "./dataset/crema-d\\AudioWAV\\1001_ITS_NEU_XX.wav",
         "1001_ITS_NEU_XX.wav",
         ".wav",
         "Neutral",
         "2.43575"
        ],
        [
         "39",
         "39",
         "CREMA-D",
         "./dataset/crema-d\\AudioWAV\\1001_ITS_SAD_XX.wav",
         "1001_ITS_SAD_XX.wav",
         ".wav",
         "Sad",
         "2.669313"
        ],
        [
         "40",
         "40",
         "CREMA-D",
         "./dataset/crema-d\\AudioWAV\\1001_IWL_ANG_XX.wav",
         "1001_IWL_ANG_XX.wav",
         ".wav",
         "Anger",
         "3.169813"
        ],
        [
         "41",
         "41",
         "CREMA-D",
         "./dataset/crema-d\\AudioWAV\\1001_IWL_DIS_XX.wav",
         "1001_IWL_DIS_XX.wav",
         ".wav",
         "Disgust",
         "2.56925"
        ],
        [
         "42",
         "42",
         "CREMA-D",
         "./dataset/crema-d\\AudioWAV\\1001_IWL_FEA_XX.wav",
         "1001_IWL_FEA_XX.wav",
         ".wav",
         "Fear",
         "2.369"
        ],
        [
         "43",
         "43",
         "CREMA-D",
         "./dataset/crema-d\\AudioWAV\\1001_IWL_HAP_XX.wav",
         "1001_IWL_HAP_XX.wav",
         ".wav",
         "Happy",
         "2.102125"
        ],
        [
         "44",
         "44",
         "CREMA-D",
         "./dataset/crema-d\\AudioWAV\\1001_IWL_NEU_XX.wav",
         "1001_IWL_NEU_XX.wav",
         ".wav",
         "Neutral",
         "2.836188"
        ],
        [
         "45",
         "45",
         "CREMA-D",
         "./dataset/crema-d\\AudioWAV\\1001_IWL_SAD_XX.wav",
         "1001_IWL_SAD_XX.wav",
         ".wav",
         "Sad",
         "2.836188"
        ],
        [
         "46",
         "46",
         "CREMA-D",
         "./dataset/crema-d\\AudioWAV\\1001_IWW_ANG_XX.wav",
         "1001_IWW_ANG_XX.wav",
         ".wav",
         "Anger",
         "2.275563"
        ],
        [
         "47",
         "47",
         "CREMA-D",
         "./dataset/crema-d\\AudioWAV\\1001_IWW_DIS_XX.wav",
         "1001_IWW_DIS_XX.wav",
         ".wav",
         "Disgust",
         "2.06875"
        ],
        [
         "48",
         "48",
         "CREMA-D",
         "./dataset/crema-d\\AudioWAV\\1001_IWW_FEA_XX.wav",
         "1001_IWW_FEA_XX.wav",
         ".wav",
         "Fear",
         "2.202188"
        ],
        [
         "49",
         "49",
         "CREMA-D",
         "./dataset/crema-d\\AudioWAV\\1001_IWW_HAP_XX.wav",
         "1001_IWW_HAP_XX.wav",
         ".wav",
         "Happy",
         "1.968625"
        ]
       ],
       "shape": {
        "columns": 7,
        "rows": 74702
       }
      },
      "text/html": [
       "<div>\n",
       "<style scoped>\n",
       "    .dataframe tbody tr th:only-of-type {\n",
       "        vertical-align: middle;\n",
       "    }\n",
       "\n",
       "    .dataframe tbody tr th {\n",
       "        vertical-align: top;\n",
       "    }\n",
       "\n",
       "    .dataframe thead th {\n",
       "        text-align: right;\n",
       "    }\n",
       "</style>\n",
       "<table border=\"1\" class=\"dataframe\">\n",
       "  <thead>\n",
       "    <tr style=\"text-align: right;\">\n",
       "      <th></th>\n",
       "      <th>Id</th>\n",
       "      <th>Dataset</th>\n",
       "      <th>Filepath</th>\n",
       "      <th>Filename</th>\n",
       "      <th>Ext</th>\n",
       "      <th>Emotion</th>\n",
       "      <th>Duration</th>\n",
       "    </tr>\n",
       "  </thead>\n",
       "  <tbody>\n",
       "    <tr>\n",
       "      <th>0</th>\n",
       "      <td>0</td>\n",
       "      <td>CREMA-D</td>\n",
       "      <td>./dataset/crema-d\\AudioWAV\\1001_DFA_ANG_XX.wav</td>\n",
       "      <td>1001_DFA_ANG_XX.wav</td>\n",
       "      <td>.wav</td>\n",
       "      <td>Anger</td>\n",
       "      <td>2.275563</td>\n",
       "    </tr>\n",
       "    <tr>\n",
       "      <th>1</th>\n",
       "      <td>1</td>\n",
       "      <td>CREMA-D</td>\n",
       "      <td>./dataset/crema-d\\AudioWAV\\1001_DFA_DIS_XX.wav</td>\n",
       "      <td>1001_DFA_DIS_XX.wav</td>\n",
       "      <td>.wav</td>\n",
       "      <td>Disgust</td>\n",
       "      <td>2.335688</td>\n",
       "    </tr>\n",
       "    <tr>\n",
       "      <th>2</th>\n",
       "      <td>2</td>\n",
       "      <td>CREMA-D</td>\n",
       "      <td>./dataset/crema-d\\AudioWAV\\1001_DFA_FEA_XX.wav</td>\n",
       "      <td>1001_DFA_FEA_XX.wav</td>\n",
       "      <td>.wav</td>\n",
       "      <td>Fear</td>\n",
       "      <td>2.168813</td>\n",
       "    </tr>\n",
       "    <tr>\n",
       "      <th>3</th>\n",
       "      <td>3</td>\n",
       "      <td>CREMA-D</td>\n",
       "      <td>./dataset/crema-d\\AudioWAV\\1001_DFA_HAP_XX.wav</td>\n",
       "      <td>1001_DFA_HAP_XX.wav</td>\n",
       "      <td>.wav</td>\n",
       "      <td>Happy</td>\n",
       "      <td>1.868500</td>\n",
       "    </tr>\n",
       "    <tr>\n",
       "      <th>4</th>\n",
       "      <td>4</td>\n",
       "      <td>CREMA-D</td>\n",
       "      <td>./dataset/crema-d\\AudioWAV\\1001_DFA_NEU_XX.wav</td>\n",
       "      <td>1001_DFA_NEU_XX.wav</td>\n",
       "      <td>.wav</td>\n",
       "      <td>Neutral</td>\n",
       "      <td>2.035375</td>\n",
       "    </tr>\n",
       "    <tr>\n",
       "      <th>...</th>\n",
       "      <td>...</td>\n",
       "      <td>...</td>\n",
       "      <td>...</td>\n",
       "      <td>...</td>\n",
       "      <td>...</td>\n",
       "      <td>...</td>\n",
       "      <td>...</td>\n",
       "    </tr>\n",
       "    <tr>\n",
       "      <th>74697</th>\n",
       "      <td>74697</td>\n",
       "      <td>JL-CORPUS</td>\n",
       "      <td>./dataset/jl-corpus/Raw JL corpus (unchecked a...</td>\n",
       "      <td>male2_sad_8b_2.wav</td>\n",
       "      <td>.wav</td>\n",
       "      <td>Sad</td>\n",
       "      <td>2.350000</td>\n",
       "    </tr>\n",
       "    <tr>\n",
       "      <th>74698</th>\n",
       "      <td>74698</td>\n",
       "      <td>JL-CORPUS</td>\n",
       "      <td>./dataset/jl-corpus/Raw JL corpus (unchecked a...</td>\n",
       "      <td>male2_sad_9a_1.wav</td>\n",
       "      <td>.wav</td>\n",
       "      <td>Sad</td>\n",
       "      <td>2.250000</td>\n",
       "    </tr>\n",
       "    <tr>\n",
       "      <th>74699</th>\n",
       "      <td>74699</td>\n",
       "      <td>JL-CORPUS</td>\n",
       "      <td>./dataset/jl-corpus/Raw JL corpus (unchecked a...</td>\n",
       "      <td>male2_sad_9a_2.wav</td>\n",
       "      <td>.wav</td>\n",
       "      <td>Sad</td>\n",
       "      <td>2.350000</td>\n",
       "    </tr>\n",
       "    <tr>\n",
       "      <th>74700</th>\n",
       "      <td>74700</td>\n",
       "      <td>JL-CORPUS</td>\n",
       "      <td>./dataset/jl-corpus/Raw JL corpus (unchecked a...</td>\n",
       "      <td>male2_sad_9b_1.wav</td>\n",
       "      <td>.wav</td>\n",
       "      <td>Sad</td>\n",
       "      <td>2.150000</td>\n",
       "    </tr>\n",
       "    <tr>\n",
       "      <th>74701</th>\n",
       "      <td>74701</td>\n",
       "      <td>JL-CORPUS</td>\n",
       "      <td>./dataset/jl-corpus/Raw JL corpus (unchecked a...</td>\n",
       "      <td>male2_sad_9b_2.wav</td>\n",
       "      <td>.wav</td>\n",
       "      <td>Sad</td>\n",
       "      <td>2.150000</td>\n",
       "    </tr>\n",
       "  </tbody>\n",
       "</table>\n",
       "<p>74702 rows × 7 columns</p>\n",
       "</div>"
      ],
      "text/plain": [
       "          Id    Dataset                                           Filepath  \\\n",
       "0          0    CREMA-D     ./dataset/crema-d\\AudioWAV\\1001_DFA_ANG_XX.wav   \n",
       "1          1    CREMA-D     ./dataset/crema-d\\AudioWAV\\1001_DFA_DIS_XX.wav   \n",
       "2          2    CREMA-D     ./dataset/crema-d\\AudioWAV\\1001_DFA_FEA_XX.wav   \n",
       "3          3    CREMA-D     ./dataset/crema-d\\AudioWAV\\1001_DFA_HAP_XX.wav   \n",
       "4          4    CREMA-D     ./dataset/crema-d\\AudioWAV\\1001_DFA_NEU_XX.wav   \n",
       "...      ...        ...                                                ...   \n",
       "74697  74697  JL-CORPUS  ./dataset/jl-corpus/Raw JL corpus (unchecked a...   \n",
       "74698  74698  JL-CORPUS  ./dataset/jl-corpus/Raw JL corpus (unchecked a...   \n",
       "74699  74699  JL-CORPUS  ./dataset/jl-corpus/Raw JL corpus (unchecked a...   \n",
       "74700  74700  JL-CORPUS  ./dataset/jl-corpus/Raw JL corpus (unchecked a...   \n",
       "74701  74701  JL-CORPUS  ./dataset/jl-corpus/Raw JL corpus (unchecked a...   \n",
       "\n",
       "                  Filename   Ext  Emotion  Duration  \n",
       "0      1001_DFA_ANG_XX.wav  .wav    Anger  2.275563  \n",
       "1      1001_DFA_DIS_XX.wav  .wav  Disgust  2.335688  \n",
       "2      1001_DFA_FEA_XX.wav  .wav     Fear  2.168813  \n",
       "3      1001_DFA_HAP_XX.wav  .wav    Happy  1.868500  \n",
       "4      1001_DFA_NEU_XX.wav  .wav  Neutral  2.035375  \n",
       "...                    ...   ...      ...       ...  \n",
       "74697   male2_sad_8b_2.wav  .wav      Sad  2.350000  \n",
       "74698   male2_sad_9a_1.wav  .wav      Sad  2.250000  \n",
       "74699   male2_sad_9a_2.wav  .wav      Sad  2.350000  \n",
       "74700   male2_sad_9b_1.wav  .wav      Sad  2.150000  \n",
       "74701   male2_sad_9b_2.wav  .wav      Sad  2.150000  \n",
       "\n",
       "[74702 rows x 7 columns]"
      ]
     },
     "execution_count": 65,
     "metadata": {},
     "output_type": "execute_result"
    }
   ],
   "source": [
    "df"
   ]
  },
  {
   "cell_type": "code",
   "execution_count": 66,
   "id": "fee4457b",
   "metadata": {},
   "outputs": [
    {
     "data": {
      "image/png": "[encoded data removed]",
      "text/plain": [
       "<Figure size 1000x600 with 1 Axes>"
      ]
     },
     "metadata": {},
     "output_type": "display_data"
    }
   ],
   "source": [
    "# Create bins for the histogram in intervals of 5 seconds\n",
    "max_duration = df['Duration'].max()\n",
    "bins = np.arange(0, max_duration + 5, 5)\n",
    "\n",
    "# Plot the histogram of audio durations\n",
    "plt.figure(figsize=(10, 6))\n",
    "\n",
    "# Plot the histogram and capture the returned values (counts, bin_edges, patches)\n",
    "counts, bin_edges, patches = plt.hist(df['Duration'], bins=bins, edgecolor='black')\n",
    "\n",
    "plt.xlabel(\"Duration (seconds)\")\n",
    "plt.ylabel(\"Number of Audio Files\")\n",
    "plt.title(\"Histogram of Audio File Durations (5s intervals)\")\n",
    "plt.tight_layout()\n",
    "\n",
    "# Annotate each bar with its count value\n",
    "for patch in patches:\n",
    "    height = patch.get_height()\n",
    "    # Only annotate bars that have a non-zero count\n",
    "    if height > 0:\n",
    "        x = patch.get_x() + patch.get_width() / 2\n",
    "        plt.annotate(f'{int(height)}',\n",
    "                     (x, height),\n",
    "                     ha='center',\n",
    "                     va='bottom')\n",
    "\n",
    "plt.savefig(\"./plots/audio_duration_histogram_5seconds.png\")\n",
    "plt.show()"
   ]
  },
  {
   "cell_type": "code",
   "execution_count": 67,
   "id": "23f77de8",
   "metadata": {},
   "outputs": [
    {
     "data": {
      "image/png": "[encoded data removed]",
      "text/plain": [
       "<Figure size 1000x600 with 1 Axes>"
      ]
     },
     "metadata": {},
     "output_type": "display_data"
    }
   ],
   "source": [
    "# Create bins for the histogram in intervals of 2 seconds\n",
    "max_duration = df['Duration'].max()\n",
    "bins = np.arange(0, max_duration + 2, 2)\n",
    "\n",
    "# Plot the histogram of audio durations\n",
    "plt.figure(figsize=(10, 6))\n",
    "\n",
    "# Plot the histogram and capture the returned values (counts, bin_edges, patches)\n",
    "counts, bin_edges, patches = plt.hist(df['Duration'], bins=bins, edgecolor='black')\n",
    "\n",
    "plt.xlabel(\"Duration (seconds)\")\n",
    "plt.ylabel(\"Number of Audio Files\")\n",
    "plt.title(\"Histogram of Audio File Durations (2s intervals)\")\n",
    "plt.tight_layout()\n",
    "\n",
    "# Annotate each bar with its count value\n",
    "for patch in patches:\n",
    "    height = patch.get_height()\n",
    "    # Only annotate bars that have a non-zero count\n",
    "    if height > 0:\n",
    "        x = patch.get_x() + patch.get_width() / 2\n",
    "        plt.annotate(f'{int(height)}',\n",
    "                     (x, height),\n",
    "                     ha='center',\n",
    "                     va='bottom')\n",
    "\n",
    "plt.savefig(\"./plots/audio_duration_histogram_2seconds.png\")\n",
    "plt.show()"
   ]
  },
  {
   "cell_type": "code",
   "execution_count": 68,
   "id": "cd876268",
   "metadata": {},
   "outputs": [
    {
     "data": {
      "image/png": "[encoded data removed]",
      "text/plain": [
       "<Figure size 1000x600 with 1 Axes>"
      ]
     },
     "metadata": {},
     "output_type": "display_data"
    }
   ],
   "source": [
    "# Create bins from 0 to 2 seconds in intervals of 0.1s\n",
    "bins = np.arange(0, 2.1, 0.1)\n",
    "\n",
    "# Plot the histogram of audio durations\n",
    "plt.figure(figsize=(10, 6))\n",
    "\n",
    "# Plot the histogram and capture the returned values (counts, bin_edges, patches)\n",
    "counts, bin_edges, patches = plt.hist(df['Duration'], bins=bins, edgecolor='black')\n",
    "\n",
    "plt.xlabel(\"Duration (seconds)\")\n",
    "plt.ylabel(\"Number of Audio Files\")\n",
    "plt.title(\"Histogram of Audio File Durations (0-2 seconds, 0.1s intervals)\")\n",
    "plt.tight_layout()\n",
    "\n",
    "# Annotate each bar with its count value\n",
    "for patch in patches:\n",
    "    height = patch.get_height()\n",
    "    # Only annotate bars that have a non-zero count\n",
    "    if height > 0:\n",
    "        x = patch.get_x() + patch.get_width() / 2\n",
    "        plt.annotate(f'{int(height)}',\n",
    "                     (x, height),\n",
    "                     ha='center',\n",
    "                     va='bottom')\n",
    "\n",
    "plt.savefig(\"./plots/audio_duration_histogram_0to2s_0.1s_intervals.png\")\n",
    "plt.show()"
   ]
  },
  {
   "cell_type": "markdown",
   "id": "c43a0f99",
   "metadata": {},
   "source": [
    "The distribution of the audio duration shows that there are a few outliers (extremely short and extremely long). Based on the distribution from the plots, we filter those whose duration is less than 1s and more than 4s out from the dataset."
   ]
  },
  {
   "cell_type": "code",
   "execution_count": 69,
   "id": "1ccb4805",
   "metadata": {},
   "outputs": [
    {
     "name": "stdout",
     "output_type": "stream",
     "text": [
      "Total samples: 74702\n",
      "Proportion of samples less than 1 seconds: 0.08191213086664346\n",
      "Proportion of samples more than 4 seconds: 0.0512569944579797\n",
      "Total proportion of samples outside [1, 4] seconds: 0.13316912532462316\n"
     ]
    },
    {
     "data": {
      "application/vnd.microsoft.datawrangler.viewer.v0+json": {
       "columns": [
        {
         "name": "index",
         "rawType": "int64",
         "type": "integer"
        },
        {
         "name": "Id",
         "rawType": "int64",
         "type": "integer"
        },
        {
         "name": "Dataset",
         "rawType": "object",
         "type": "string"
        },
        {
         "name": "Filepath",
         "rawType": "object",
         "type": "string"
        },
        {
         "name": "Filename",
         "rawType": "object",
         "type": "string"
        },
        {
         "name": "Ext",
         "rawType": "object",
         "type": "string"
        },
        {
         "name": "Emotion",
         "rawType": "object",
         "type": "string"
        },
        {
         "name": "Duration",
         "rawType": "float64",
         "type": "float"
        }
       ],
       "conversionMethod": "pd.DataFrame",
       "ref": "d6a200b9-4928-4533-88a7-3accc3d0e36e",
       "rows": [
        [
         "0",
         "0",
         "CREMA-D",
         "./dataset/crema-d\\AudioWAV\\1001_DFA_ANG_XX.wav",
         "1001_DFA_ANG_XX.wav",
         ".wav",
         "Anger",
         "2.275563"
        ],
        [
         "1",
         "1",
         "CREMA-D",
         "./dataset/crema-d\\AudioWAV\\1001_DFA_DIS_XX.wav",
         "1001_DFA_DIS_XX.wav",
         ".wav",
         "Disgust",
         "2.335688"
        ],
        [
         "2",
         "2",
         "CREMA-D",
         "./dataset/crema-d\\AudioWAV\\1001_DFA_FEA_XX.wav",
         "1001_DFA_FEA_XX.wav",
         ".wav",
         "Fear",
         "2.168813"
        ],
        [
         "3",
         "3",
         "CREMA-D",
         "./dataset/crema-d\\AudioWAV\\1001_DFA_HAP_XX.wav",
         "1001_DFA_HAP_XX.wav",
         ".wav",
         "Happy",
         "1.8685"
        ],
        [
         "4",
         "4",
         "CREMA-D",
         "./dataset/crema-d\\AudioWAV\\1001_DFA_NEU_XX.wav",
         "1001_DFA_NEU_XX.wav",
         ".wav",
         "Neutral",
         "2.035375"
        ],
        [
         "5",
         "5",
         "CREMA-D",
         "./dataset/crema-d\\AudioWAV\\1001_DFA_SAD_XX.wav",
         "1001_DFA_SAD_XX.wav",
         ".wav",
         "Sad",
         "2.002"
        ],
        [
         "6",
         "6",
         "CREMA-D",
         "./dataset/crema-d\\AudioWAV\\1001_IEO_ANG_HI.wav",
         "1001_IEO_ANG_HI.wav",
         ".wav",
         "Anger",
         "1.93525"
        ],
        [
         "7",
         "7",
         "CREMA-D",
         "./dataset/crema-d\\AudioWAV\\1001_IEO_ANG_LO.wav",
         "1001_IEO_ANG_LO.wav",
         ".wav",
         "Anger",
         "2.06875"
        ],
        [
         "8",
         "8",
         "CREMA-D",
         "./dataset/crema-d\\AudioWAV\\1001_IEO_ANG_MD.wav",
         "1001_IEO_ANG_MD.wav",
         ".wav",
         "Anger",
         "2.635938"
        ],
        [
         "9",
         "9",
         "CREMA-D",
         "./dataset/crema-d\\AudioWAV\\1001_IEO_DIS_HI.wav",
         "1001_IEO_DIS_HI.wav",
         ".wav",
         "Disgust",
         "2.002"
        ],
        [
         "10",
         "10",
         "CREMA-D",
         "./dataset/crema-d\\AudioWAV\\1001_IEO_DIS_LO.wav",
         "1001_IEO_DIS_LO.wav",
         ".wav",
         "Disgust",
         "2.002"
        ],
        [
         "11",
         "11",
         "CREMA-D",
         "./dataset/crema-d\\AudioWAV\\1001_IEO_DIS_MD.wav",
         "1001_IEO_DIS_MD.wav",
         ".wav",
         "Disgust",
         "1.901875"
        ],
        [
         "12",
         "12",
         "CREMA-D",
         "./dataset/crema-d\\AudioWAV\\1001_IEO_FEA_HI.wav",
         "1001_IEO_FEA_HI.wav",
         ".wav",
         "Fear",
         "1.56825"
        ],
        [
         "13",
         "13",
         "CREMA-D",
         "./dataset/crema-d\\AudioWAV\\1001_IEO_FEA_LO.wav",
         "1001_IEO_FEA_LO.wav",
         ".wav",
         "Fear",
         "1.534875"
        ],
        [
         "14",
         "14",
         "CREMA-D",
         "./dataset/crema-d\\AudioWAV\\1001_IEO_FEA_MD.wav",
         "1001_IEO_FEA_MD.wav",
         ".wav",
         "Fear",
         "1.601625"
        ],
        [
         "15",
         "15",
         "CREMA-D",
         "./dataset/crema-d\\AudioWAV\\1001_IEO_HAP_HI.wav",
         "1001_IEO_HAP_HI.wav",
         ".wav",
         "Happy",
         "1.768438"
        ],
        [
         "16",
         "16",
         "CREMA-D",
         "./dataset/crema-d\\AudioWAV\\1001_IEO_HAP_LO.wav",
         "1001_IEO_HAP_LO.wav",
         ".wav",
         "Happy",
         "1.701688"
        ],
        [
         "17",
         "17",
         "CREMA-D",
         "./dataset/crema-d\\AudioWAV\\1001_IEO_HAP_MD.wav",
         "1001_IEO_HAP_MD.wav",
         ".wav",
         "Happy",
         "1.668313"
        ],
        [
         "18",
         "18",
         "CREMA-D",
         "./dataset/crema-d\\AudioWAV\\1001_IEO_NEU_XX.wav",
         "1001_IEO_NEU_XX.wav",
         ".wav",
         "Neutral",
         "1.601625"
        ],
        [
         "19",
         "19",
         "CREMA-D",
         "./dataset/crema-d\\AudioWAV\\1001_IEO_SAD_HI.wav",
         "1001_IEO_SAD_HI.wav",
         ".wav",
         "Sad",
         "2.002"
        ],
        [
         "20",
         "20",
         "CREMA-D",
         "./dataset/crema-d\\AudioWAV\\1001_IEO_SAD_LO.wav",
         "1001_IEO_SAD_LO.wav",
         ".wav",
         "Sad",
         "1.901875"
        ],
        [
         "21",
         "21",
         "CREMA-D",
         "./dataset/crema-d\\AudioWAV\\1001_IEO_SAD_MD.wav",
         "1001_IEO_SAD_MD.wav",
         ".wav",
         "Sad",
         "1.735063"
        ],
        [
         "22",
         "22",
         "CREMA-D",
         "./dataset/crema-d\\AudioWAV\\1001_IOM_ANG_XX.wav",
         "1001_IOM_ANG_XX.wav",
         ".wav",
         "Anger",
         "2.135438"
        ],
        [
         "23",
         "23",
         "CREMA-D",
         "./dataset/crema-d\\AudioWAV\\1001_IOM_DIS_XX.wav",
         "1001_IOM_DIS_XX.wav",
         ".wav",
         "Disgust",
         "2.268938"
        ],
        [
         "24",
         "24",
         "CREMA-D",
         "./dataset/crema-d\\AudioWAV\\1001_IOM_FEA_XX.wav",
         "1001_IOM_FEA_XX.wav",
         ".wav",
         "Fear",
         "2.836188"
        ],
        [
         "25",
         "25",
         "CREMA-D",
         "./dataset/crema-d\\AudioWAV\\1001_IOM_HAP_XX.wav",
         "1001_IOM_HAP_XX.wav",
         ".wav",
         "Happy",
         "2.002"
        ],
        [
         "26",
         "26",
         "CREMA-D",
         "./dataset/crema-d\\AudioWAV\\1001_IOM_NEU_XX.wav",
         "1001_IOM_NEU_XX.wav",
         ".wav",
         "Neutral",
         "2.469125"
        ],
        [
         "27",
         "27",
         "CREMA-D",
         "./dataset/crema-d\\AudioWAV\\1001_IOM_SAD_XX.wav",
         "1001_IOM_SAD_XX.wav",
         ".wav",
         "Sad",
         "1.93525"
        ],
        [
         "28",
         "28",
         "CREMA-D",
         "./dataset/crema-d\\AudioWAV\\1001_ITH_ANG_XX.wav",
         "1001_ITH_ANG_XX.wav",
         ".wav",
         "Anger",
         "2.369"
        ],
        [
         "29",
         "29",
         "CREMA-D",
         "./dataset/crema-d\\AudioWAV\\1001_ITH_DIS_XX.wav",
         "1001_ITH_DIS_XX.wav",
         ".wav",
         "Disgust",
         "2.168813"
        ],
        [
         "30",
         "30",
         "CREMA-D",
         "./dataset/crema-d\\AudioWAV\\1001_ITH_FEA_XX.wav",
         "1001_ITH_FEA_XX.wav",
         ".wav",
         "Fear",
         "2.102125"
        ],
        [
         "31",
         "31",
         "CREMA-D",
         "./dataset/crema-d\\AudioWAV\\1001_ITH_HAP_XX.wav",
         "1001_ITH_HAP_XX.wav",
         ".wav",
         "Happy",
         "2.469125"
        ],
        [
         "32",
         "32",
         "CREMA-D",
         "./dataset/crema-d\\AudioWAV\\1001_ITH_NEU_XX.wav",
         "1001_ITH_NEU_XX.wav",
         ".wav",
         "Neutral",
         "2.602625"
        ],
        [
         "33",
         "33",
         "CREMA-D",
         "./dataset/crema-d\\AudioWAV\\1001_ITH_SAD_XX.wav",
         "1001_ITH_SAD_XX.wav",
         ".wav",
         "Sad",
         "2.369"
        ],
        [
         "34",
         "34",
         "CREMA-D",
         "./dataset/crema-d\\AudioWAV\\1001_ITS_ANG_XX.wav",
         "1001_ITS_ANG_XX.wav",
         ".wav",
         "Anger",
         "2.56925"
        ],
        [
         "35",
         "35",
         "CREMA-D",
         "./dataset/crema-d\\AudioWAV\\1001_ITS_DIS_XX.wav",
         "1001_ITS_DIS_XX.wav",
         ".wav",
         "Disgust",
         "2.202188"
        ],
        [
         "36",
         "36",
         "CREMA-D",
         "./dataset/crema-d\\AudioWAV\\1001_ITS_FEA_XX.wav",
         "1001_ITS_FEA_XX.wav",
         ".wav",
         "Fear",
         "2.135438"
        ],
        [
         "37",
         "37",
         "CREMA-D",
         "./dataset/crema-d\\AudioWAV\\1001_ITS_HAP_XX.wav",
         "1001_ITS_HAP_XX.wav",
         ".wav",
         "Happy",
         "2.202188"
        ],
        [
         "38",
         "38",
         "CREMA-D",
         "./dataset/crema-d\\AudioWAV\\1001_ITS_NEU_XX.wav",
         "1001_ITS_NEU_XX.wav",
         ".wav",
         "Neutral",
         "2.43575"
        ],
        [
         "39",
         "39",
         "CREMA-D",
         "./dataset/crema-d\\AudioWAV\\1001_ITS_SAD_XX.wav",
         "1001_ITS_SAD_XX.wav",
         ".wav",
         "Sad",
         "2.669313"
        ],
        [
         "40",
         "40",
         "CREMA-D",
         "./dataset/crema-d\\AudioWAV\\1001_IWL_ANG_XX.wav",
         "1001_IWL_ANG_XX.wav",
         ".wav",
         "Anger",
         "3.169813"
        ],
        [
         "41",
         "41",
         "CREMA-D",
         "./dataset/crema-d\\AudioWAV\\1001_IWL_DIS_XX.wav",
         "1001_IWL_DIS_XX.wav",
         ".wav",
         "Disgust",
         "2.56925"
        ],
        [
         "42",
         "42",
         "CREMA-D",
         "./dataset/crema-d\\AudioWAV\\1001_IWL_FEA_XX.wav",
         "1001_IWL_FEA_XX.wav",
         ".wav",
         "Fear",
         "2.369"
        ],
        [
         "43",
         "43",
         "CREMA-D",
         "./dataset/crema-d\\AudioWAV\\1001_IWL_HAP_XX.wav",
         "1001_IWL_HAP_XX.wav",
         ".wav",
         "Happy",
         "2.102125"
        ],
        [
         "44",
         "44",
         "CREMA-D",
         "./dataset/crema-d\\AudioWAV\\1001_IWL_NEU_XX.wav",
         "1001_IWL_NEU_XX.wav",
         ".wav",
         "Neutral",
         "2.836188"
        ],
        [
         "45",
         "45",
         "CREMA-D",
         "./dataset/crema-d\\AudioWAV\\1001_IWL_SAD_XX.wav",
         "1001_IWL_SAD_XX.wav",
         ".wav",
         "Sad",
         "2.836188"
        ],
        [
         "46",
         "46",
         "CREMA-D",
         "./dataset/crema-d\\AudioWAV\\1001_IWW_ANG_XX.wav",
         "1001_IWW_ANG_XX.wav",
         ".wav",
         "Anger",
         "2.275563"
        ],
        [
         "47",
         "47",
         "CREMA-D",
         "./dataset/crema-d\\AudioWAV\\1001_IWW_DIS_XX.wav",
         "1001_IWW_DIS_XX.wav",
         ".wav",
         "Disgust",
         "2.06875"
        ],
        [
         "48",
         "48",
         "CREMA-D",
         "./dataset/crema-d\\AudioWAV\\1001_IWW_FEA_XX.wav",
         "1001_IWW_FEA_XX.wav",
         ".wav",
         "Fear",
         "2.202188"
        ],
        [
         "49",
         "49",
         "CREMA-D",
         "./dataset/crema-d\\AudioWAV\\1001_IWW_HAP_XX.wav",
         "1001_IWW_HAP_XX.wav",
         ".wav",
         "Happy",
         "1.968625"
        ]
       ],
       "shape": {
        "columns": 7,
        "rows": 64754
       }
      },
      "text/html": [
       "<div>\n",
       "<style scoped>\n",
       "    .dataframe tbody tr th:only-of-type {\n",
       "        vertical-align: middle;\n",
       "    }\n",
       "\n",
       "    .dataframe tbody tr th {\n",
       "        vertical-align: top;\n",
       "    }\n",
       "\n",
       "    .dataframe thead th {\n",
       "        text-align: right;\n",
       "    }\n",
       "</style>\n",
       "<table border=\"1\" class=\"dataframe\">\n",
       "  <thead>\n",
       "    <tr style=\"text-align: right;\">\n",
       "      <th></th>\n",
       "      <th>Id</th>\n",
       "      <th>Dataset</th>\n",
       "      <th>Filepath</th>\n",
       "      <th>Filename</th>\n",
       "      <th>Ext</th>\n",
       "      <th>Emotion</th>\n",
       "      <th>Duration</th>\n",
       "    </tr>\n",
       "  </thead>\n",
       "  <tbody>\n",
       "    <tr>\n",
       "      <th>0</th>\n",
       "      <td>0</td>\n",
       "      <td>CREMA-D</td>\n",
       "      <td>./dataset/crema-d\\AudioWAV\\1001_DFA_ANG_XX.wav</td>\n",
       "      <td>1001_DFA_ANG_XX.wav</td>\n",
       "      <td>.wav</td>\n",
       "      <td>Anger</td>\n",
       "      <td>2.275563</td>\n",
       "    </tr>\n",
       "    <tr>\n",
       "      <th>1</th>\n",
       "      <td>1</td>\n",
       "      <td>CREMA-D</td>\n",
       "      <td>./dataset/crema-d\\AudioWAV\\1001_DFA_DIS_XX.wav</td>\n",
       "      <td>1001_DFA_DIS_XX.wav</td>\n",
       "      <td>.wav</td>\n",
       "      <td>Disgust</td>\n",
       "      <td>2.335688</td>\n",
       "    </tr>\n",
       "    <tr>\n",
       "      <th>2</th>\n",
       "      <td>2</td>\n",
       "      <td>CREMA-D</td>\n",
       "      <td>./dataset/crema-d\\AudioWAV\\1001_DFA_FEA_XX.wav</td>\n",
       "      <td>1001_DFA_FEA_XX.wav</td>\n",
       "      <td>.wav</td>\n",
       "      <td>Fear</td>\n",
       "      <td>2.168813</td>\n",
       "    </tr>\n",
       "    <tr>\n",
       "      <th>3</th>\n",
       "      <td>3</td>\n",
       "      <td>CREMA-D</td>\n",
       "      <td>./dataset/crema-d\\AudioWAV\\1001_DFA_HAP_XX.wav</td>\n",
       "      <td>1001_DFA_HAP_XX.wav</td>\n",
       "      <td>.wav</td>\n",
       "      <td>Happy</td>\n",
       "      <td>1.868500</td>\n",
       "    </tr>\n",
       "    <tr>\n",
       "      <th>4</th>\n",
       "      <td>4</td>\n",
       "      <td>CREMA-D</td>\n",
       "      <td>./dataset/crema-d\\AudioWAV\\1001_DFA_NEU_XX.wav</td>\n",
       "      <td>1001_DFA_NEU_XX.wav</td>\n",
       "      <td>.wav</td>\n",
       "      <td>Neutral</td>\n",
       "      <td>2.035375</td>\n",
       "    </tr>\n",
       "    <tr>\n",
       "      <th>...</th>\n",
       "      <td>...</td>\n",
       "      <td>...</td>\n",
       "      <td>...</td>\n",
       "      <td>...</td>\n",
       "      <td>...</td>\n",
       "      <td>...</td>\n",
       "      <td>...</td>\n",
       "    </tr>\n",
       "    <tr>\n",
       "      <th>64749</th>\n",
       "      <td>74697</td>\n",
       "      <td>JL-CORPUS</td>\n",
       "      <td>./dataset/jl-corpus/Raw JL corpus (unchecked a...</td>\n",
       "      <td>male2_sad_8b_2.wav</td>\n",
       "      <td>.wav</td>\n",
       "      <td>Sad</td>\n",
       "      <td>2.350000</td>\n",
       "    </tr>\n",
       "    <tr>\n",
       "      <th>64750</th>\n",
       "      <td>74698</td>\n",
       "      <td>JL-CORPUS</td>\n",
       "      <td>./dataset/jl-corpus/Raw JL corpus (unchecked a...</td>\n",
       "      <td>male2_sad_9a_1.wav</td>\n",
       "      <td>.wav</td>\n",
       "      <td>Sad</td>\n",
       "      <td>2.250000</td>\n",
       "    </tr>\n",
       "    <tr>\n",
       "      <th>64751</th>\n",
       "      <td>74699</td>\n",
       "      <td>JL-CORPUS</td>\n",
       "      <td>./dataset/jl-corpus/Raw JL corpus (unchecked a...</td>\n",
       "      <td>male2_sad_9a_2.wav</td>\n",
       "      <td>.wav</td>\n",
       "      <td>Sad</td>\n",
       "      <td>2.350000</td>\n",
       "    </tr>\n",
       "    <tr>\n",
       "      <th>64752</th>\n",
       "      <td>74700</td>\n",
       "      <td>JL-CORPUS</td>\n",
       "      <td>./dataset/jl-corpus/Raw JL corpus (unchecked a...</td>\n",
       "      <td>male2_sad_9b_1.wav</td>\n",
       "      <td>.wav</td>\n",
       "      <td>Sad</td>\n",
       "      <td>2.150000</td>\n",
       "    </tr>\n",
       "    <tr>\n",
       "      <th>64753</th>\n",
       "      <td>74701</td>\n",
       "      <td>JL-CORPUS</td>\n",
       "      <td>./dataset/jl-corpus/Raw JL corpus (unchecked a...</td>\n",
       "      <td>male2_sad_9b_2.wav</td>\n",
       "      <td>.wav</td>\n",
       "      <td>Sad</td>\n",
       "      <td>2.150000</td>\n",
       "    </tr>\n",
       "  </tbody>\n",
       "</table>\n",
       "<p>64754 rows × 7 columns</p>\n",
       "</div>"
      ],
      "text/plain": [
       "          Id    Dataset                                           Filepath  \\\n",
       "0          0    CREMA-D     ./dataset/crema-d\\AudioWAV\\1001_DFA_ANG_XX.wav   \n",
       "1          1    CREMA-D     ./dataset/crema-d\\AudioWAV\\1001_DFA_DIS_XX.wav   \n",
       "2          2    CREMA-D     ./dataset/crema-d\\AudioWAV\\1001_DFA_FEA_XX.wav   \n",
       "3          3    CREMA-D     ./dataset/crema-d\\AudioWAV\\1001_DFA_HAP_XX.wav   \n",
       "4          4    CREMA-D     ./dataset/crema-d\\AudioWAV\\1001_DFA_NEU_XX.wav   \n",
       "...      ...        ...                                                ...   \n",
       "64749  74697  JL-CORPUS  ./dataset/jl-corpus/Raw JL corpus (unchecked a...   \n",
       "64750  74698  JL-CORPUS  ./dataset/jl-corpus/Raw JL corpus (unchecked a...   \n",
       "64751  74699  JL-CORPUS  ./dataset/jl-corpus/Raw JL corpus (unchecked a...   \n",
       "64752  74700  JL-CORPUS  ./dataset/jl-corpus/Raw JL corpus (unchecked a...   \n",
       "64753  74701  JL-CORPUS  ./dataset/jl-corpus/Raw JL corpus (unchecked a...   \n",
       "\n",
       "                  Filename   Ext  Emotion  Duration  \n",
       "0      1001_DFA_ANG_XX.wav  .wav    Anger  2.275563  \n",
       "1      1001_DFA_DIS_XX.wav  .wav  Disgust  2.335688  \n",
       "2      1001_DFA_FEA_XX.wav  .wav     Fear  2.168813  \n",
       "3      1001_DFA_HAP_XX.wav  .wav    Happy  1.868500  \n",
       "4      1001_DFA_NEU_XX.wav  .wav  Neutral  2.035375  \n",
       "...                    ...   ...      ...       ...  \n",
       "64749   male2_sad_8b_2.wav  .wav      Sad  2.350000  \n",
       "64750   male2_sad_9a_1.wav  .wav      Sad  2.250000  \n",
       "64751   male2_sad_9a_2.wav  .wav      Sad  2.350000  \n",
       "64752   male2_sad_9b_1.wav  .wav      Sad  2.150000  \n",
       "64753   male2_sad_9b_2.wav  .wav      Sad  2.150000  \n",
       "\n",
       "[64754 rows x 7 columns]"
      ]
     },
     "execution_count": 69,
     "metadata": {},
     "output_type": "execute_result"
    }
   ],
   "source": [
    "filtered_df = df\n",
    "\n",
    "# Total number of samples in the original DataFrame\n",
    "total_samples = len(filtered_df)\n",
    "print(\"Total samples:\", total_samples)\n",
    "\n",
    "# Calculate the proportion of samples with duration less than 1 second\n",
    "prop_less_than = len(filtered_df[filtered_df['Duration'] < 1]) / total_samples\n",
    "\n",
    "# Calculate the proportion of samples with duration more than 5 seconds\n",
    "prop_more_than = len(filtered_df[filtered_df['Duration'] > 4]) / total_samples\n",
    "\n",
    "# Sum the proportions\n",
    "total_outside = prop_less_than + prop_more_than\n",
    "\n",
    "# Print the proportions\n",
    "print(\"Proportion of samples less than 1 seconds:\", prop_less_than)\n",
    "print(\"Proportion of samples more than 4 seconds:\", prop_more_than)\n",
    "print(\"Total proportion of samples outside [1, 4] seconds:\", total_outside)\n",
    "\n",
    "# Filter the DataFrame to only include samples with duration between 1 and 5 seconds\n",
    "filtered_df = filtered_df[(filtered_df['Duration'] >= 1) & (filtered_df['Duration'] <= 4)].reset_index(drop=True)\n",
    "filtered_df\n"
   ]
  },
  {
   "cell_type": "code",
   "execution_count": 70,
   "id": "3bd608bd",
   "metadata": {},
   "outputs": [
    {
     "data": {
      "application/vnd.microsoft.datawrangler.viewer.v0+json": {
       "columns": [
        {
         "name": "index",
         "rawType": "int64",
         "type": "integer"
        },
        {
         "name": "Id",
         "rawType": "int64",
         "type": "integer"
        },
        {
         "name": "Dataset",
         "rawType": "object",
         "type": "string"
        },
        {
         "name": "Filepath",
         "rawType": "object",
         "type": "string"
        },
        {
         "name": "Filename",
         "rawType": "object",
         "type": "string"
        },
        {
         "name": "Ext",
         "rawType": "object",
         "type": "string"
        },
        {
         "name": "Duration",
         "rawType": "float64",
         "type": "float"
        },
        {
         "name": "Emotion",
         "rawType": "object",
         "type": "string"
        }
       ],
       "conversionMethod": "pd.DataFrame",
       "ref": "e7505994-48c7-47c6-8392-b3b49e627000",
       "rows": [
        [
         "64749",
         "64749",
         "JL-CORPUS",
         "./dataset/jl-corpus/Raw JL corpus (unchecked and unannotated)/JL(wav+txt)\\male2_sad_8b_2.wav",
         "male2_sad_8b_2.wav",
         ".wav",
         "2.35",
         "Sad"
        ],
        [
         "64750",
         "64750",
         "JL-CORPUS",
         "./dataset/jl-corpus/Raw JL corpus (unchecked and unannotated)/JL(wav+txt)\\male2_sad_9a_1.wav",
         "male2_sad_9a_1.wav",
         ".wav",
         "2.25",
         "Sad"
        ],
        [
         "64751",
         "64751",
         "JL-CORPUS",
         "./dataset/jl-corpus/Raw JL corpus (unchecked and unannotated)/JL(wav+txt)\\male2_sad_9a_2.wav",
         "male2_sad_9a_2.wav",
         ".wav",
         "2.35",
         "Sad"
        ],
        [
         "64752",
         "64752",
         "JL-CORPUS",
         "./dataset/jl-corpus/Raw JL corpus (unchecked and unannotated)/JL(wav+txt)\\male2_sad_9b_1.wav",
         "male2_sad_9b_1.wav",
         ".wav",
         "2.15",
         "Sad"
        ],
        [
         "64753",
         "64753",
         "JL-CORPUS",
         "./dataset/jl-corpus/Raw JL corpus (unchecked and unannotated)/JL(wav+txt)\\male2_sad_9b_2.wav",
         "male2_sad_9b_2.wav",
         ".wav",
         "2.15",
         "Sad"
        ]
       ],
       "shape": {
        "columns": 7,
        "rows": 5
       }
      },
      "text/html": [
       "<div>\n",
       "<style scoped>\n",
       "    .dataframe tbody tr th:only-of-type {\n",
       "        vertical-align: middle;\n",
       "    }\n",
       "\n",
       "    .dataframe tbody tr th {\n",
       "        vertical-align: top;\n",
       "    }\n",
       "\n",
       "    .dataframe thead th {\n",
       "        text-align: right;\n",
       "    }\n",
       "</style>\n",
       "<table border=\"1\" class=\"dataframe\">\n",
       "  <thead>\n",
       "    <tr style=\"text-align: right;\">\n",
       "      <th></th>\n",
       "      <th>Id</th>\n",
       "      <th>Dataset</th>\n",
       "      <th>Filepath</th>\n",
       "      <th>Filename</th>\n",
       "      <th>Ext</th>\n",
       "      <th>Duration</th>\n",
       "      <th>Emotion</th>\n",
       "    </tr>\n",
       "  </thead>\n",
       "  <tbody>\n",
       "    <tr>\n",
       "      <th>64749</th>\n",
       "      <td>64749</td>\n",
       "      <td>JL-CORPUS</td>\n",
       "      <td>./dataset/jl-corpus/Raw JL corpus (unchecked a...</td>\n",
       "      <td>male2_sad_8b_2.wav</td>\n",
       "      <td>.wav</td>\n",
       "      <td>2.35</td>\n",
       "      <td>Sad</td>\n",
       "    </tr>\n",
       "    <tr>\n",
       "      <th>64750</th>\n",
       "      <td>64750</td>\n",
       "      <td>JL-CORPUS</td>\n",
       "      <td>./dataset/jl-corpus/Raw JL corpus (unchecked a...</td>\n",
       "      <td>male2_sad_9a_1.wav</td>\n",
       "      <td>.wav</td>\n",
       "      <td>2.25</td>\n",
       "      <td>Sad</td>\n",
       "    </tr>\n",
       "    <tr>\n",
       "      <th>64751</th>\n",
       "      <td>64751</td>\n",
       "      <td>JL-CORPUS</td>\n",
       "      <td>./dataset/jl-corpus/Raw JL corpus (unchecked a...</td>\n",
       "      <td>male2_sad_9a_2.wav</td>\n",
       "      <td>.wav</td>\n",
       "      <td>2.35</td>\n",
       "      <td>Sad</td>\n",
       "    </tr>\n",
       "    <tr>\n",
       "      <th>64752</th>\n",
       "      <td>64752</td>\n",
       "      <td>JL-CORPUS</td>\n",
       "      <td>./dataset/jl-corpus/Raw JL corpus (unchecked a...</td>\n",
       "      <td>male2_sad_9b_1.wav</td>\n",
       "      <td>.wav</td>\n",
       "      <td>2.15</td>\n",
       "      <td>Sad</td>\n",
       "    </tr>\n",
       "    <tr>\n",
       "      <th>64753</th>\n",
       "      <td>64753</td>\n",
       "      <td>JL-CORPUS</td>\n",
       "      <td>./dataset/jl-corpus/Raw JL corpus (unchecked a...</td>\n",
       "      <td>male2_sad_9b_2.wav</td>\n",
       "      <td>.wav</td>\n",
       "      <td>2.15</td>\n",
       "      <td>Sad</td>\n",
       "    </tr>\n",
       "  </tbody>\n",
       "</table>\n",
       "</div>"
      ],
      "text/plain": [
       "          Id    Dataset                                           Filepath  \\\n",
       "64749  64749  JL-CORPUS  ./dataset/jl-corpus/Raw JL corpus (unchecked a...   \n",
       "64750  64750  JL-CORPUS  ./dataset/jl-corpus/Raw JL corpus (unchecked a...   \n",
       "64751  64751  JL-CORPUS  ./dataset/jl-corpus/Raw JL corpus (unchecked a...   \n",
       "64752  64752  JL-CORPUS  ./dataset/jl-corpus/Raw JL corpus (unchecked a...   \n",
       "64753  64753  JL-CORPUS  ./dataset/jl-corpus/Raw JL corpus (unchecked a...   \n",
       "\n",
       "                 Filename   Ext  Duration Emotion  \n",
       "64749  male2_sad_8b_2.wav  .wav      2.35     Sad  \n",
       "64750  male2_sad_9a_1.wav  .wav      2.25     Sad  \n",
       "64751  male2_sad_9a_2.wav  .wav      2.35     Sad  \n",
       "64752  male2_sad_9b_1.wav  .wav      2.15     Sad  \n",
       "64753  male2_sad_9b_2.wav  .wav      2.15     Sad  "
      ]
     },
     "execution_count": 70,
     "metadata": {},
     "output_type": "execute_result"
    }
   ],
   "source": [
    "filtered_df['Id'] = np.arange(len(filtered_df))\n",
    "filtered_df = filtered_df[['Id', 'Dataset', 'Filepath', 'Filename', 'Ext', 'Duration', 'Emotion']]\n",
    "filtered_df.tail()"
   ]
  },
  {
   "cell_type": "markdown",
   "id": "b6a2fec6",
   "metadata": {},
   "source": [
    "### Emotion distribution"
   ]
  },
  {
   "cell_type": "code",
   "execution_count": 71,
   "id": "25b635b8",
   "metadata": {},
   "outputs": [
    {
     "data": {
      "text/plain": [
       "Emotion\n",
       "Neutral        14841\n",
       "Happy          12758\n",
       "Question        7591\n",
       "Bored           7320\n",
       "Anger           6102\n",
       "Sad             5713\n",
       "Surprise        4854\n",
       "Fear            2053\n",
       "Disgust         1942\n",
       "Anxious          240\n",
       "Apologetic       240\n",
       "Assertive        240\n",
       "Encouraging      240\n",
       "Concerned        240\n",
       "Excited          240\n",
       "Calm             140\n",
       "Name: count, dtype: int64"
      ]
     },
     "execution_count": 71,
     "metadata": {},
     "output_type": "execute_result"
    }
   ],
   "source": [
    "emotion_counts = filtered_df['Emotion'].value_counts()\n",
    "emotion_counts"
   ]
  },
  {
   "cell_type": "code",
   "execution_count": 72,
   "id": "d29db9be",
   "metadata": {},
   "outputs": [
    {
     "data": {
      "image/png": "[encoded data removed]",
      "text/plain": [
       "<Figure size 1000x600 with 1 Axes>"
      ]
     },
     "metadata": {},
     "output_type": "display_data"
    }
   ],
   "source": [
    "# Plot the emotion counts as a bar chart\n",
    "plt.figure(figsize=(10, 6))\n",
    "ax = emotion_counts.plot(kind=\"bar\", edgecolor='black')\n",
    "plt.xlabel(\"Emotion\")\n",
    "plt.ylabel(\"Count\")\n",
    "plt.title(\"Emotion Frequency Distribution\")\n",
    "plt.xticks(rotation=45)\n",
    "plt.tight_layout()\n",
    "\n",
    "# Annotate each bar with its count value\n",
    "for p in ax.patches:\n",
    "    # Get the height of each bar (i.e., the count)\n",
    "    height = p.get_height()\n",
    "    # Place the annotation above the bar\n",
    "    ax.annotate(f'{int(height)}', \n",
    "                (p.get_x() + p.get_width() / 2, height),\n",
    "                ha='center', va='bottom')\n",
    "\n",
    "# Save the plot as an image file\n",
    "plt.savefig(\"./plots/emotion_counts_bar_chart.png\")\n",
    "plt.show()"
   ]
  },
  {
   "cell_type": "markdown",
   "id": "c884a81f",
   "metadata": {},
   "source": [
    "There is extreme emotion label imbalance, to do so we filter out the emotions: Anxious, Apologetic, Assertive, Encouraging, Concerned, Excited, Calm "
   ]
  },
  {
   "cell_type": "code",
   "execution_count": 73,
   "id": "629d7045",
   "metadata": {},
   "outputs": [
    {
     "data": {
      "application/vnd.microsoft.datawrangler.viewer.v0+json": {
       "columns": [
        {
         "name": "index",
         "rawType": "int64",
         "type": "integer"
        },
        {
         "name": "Id",
         "rawType": "int64",
         "type": "integer"
        },
        {
         "name": "Dataset",
         "rawType": "object",
         "type": "string"
        },
        {
         "name": "Filepath",
         "rawType": "object",
         "type": "string"
        },
        {
         "name": "Filename",
         "rawType": "object",
         "type": "string"
        },
        {
         "name": "Ext",
         "rawType": "object",
         "type": "string"
        },
        {
         "name": "Duration",
         "rawType": "float64",
         "type": "float"
        },
        {
         "name": "Emotion",
         "rawType": "object",
         "type": "string"
        }
       ],
       "conversionMethod": "pd.DataFrame",
       "ref": "0829173a-15cf-460d-a158-77c21da2a2f3",
       "rows": [
        [
         "0",
         "0",
         "CREMA-D",
         "./dataset/crema-d\\AudioWAV\\1001_DFA_ANG_XX.wav",
         "1001_DFA_ANG_XX.wav",
         ".wav",
         "2.275563",
         "Anger"
        ],
        [
         "1",
         "1",
         "CREMA-D",
         "./dataset/crema-d\\AudioWAV\\1001_DFA_DIS_XX.wav",
         "1001_DFA_DIS_XX.wav",
         ".wav",
         "2.335688",
         "Disgust"
        ],
        [
         "2",
         "2",
         "CREMA-D",
         "./dataset/crema-d\\AudioWAV\\1001_DFA_FEA_XX.wav",
         "1001_DFA_FEA_XX.wav",
         ".wav",
         "2.168813",
         "Fear"
        ],
        [
         "3",
         "3",
         "CREMA-D",
         "./dataset/crema-d\\AudioWAV\\1001_DFA_HAP_XX.wav",
         "1001_DFA_HAP_XX.wav",
         ".wav",
         "1.8685",
         "Happy"
        ],
        [
         "4",
         "4",
         "CREMA-D",
         "./dataset/crema-d\\AudioWAV\\1001_DFA_NEU_XX.wav",
         "1001_DFA_NEU_XX.wav",
         ".wav",
         "2.035375",
         "Neutral"
        ],
        [
         "5",
         "5",
         "CREMA-D",
         "./dataset/crema-d\\AudioWAV\\1001_DFA_SAD_XX.wav",
         "1001_DFA_SAD_XX.wav",
         ".wav",
         "2.002",
         "Sad"
        ],
        [
         "6",
         "6",
         "CREMA-D",
         "./dataset/crema-d\\AudioWAV\\1001_IEO_ANG_HI.wav",
         "1001_IEO_ANG_HI.wav",
         ".wav",
         "1.93525",
         "Anger"
        ],
        [
         "7",
         "7",
         "CREMA-D",
         "./dataset/crema-d\\AudioWAV\\1001_IEO_ANG_LO.wav",
         "1001_IEO_ANG_LO.wav",
         ".wav",
         "2.06875",
         "Anger"
        ],
        [
         "8",
         "8",
         "CREMA-D",
         "./dataset/crema-d\\AudioWAV\\1001_IEO_ANG_MD.wav",
         "1001_IEO_ANG_MD.wav",
         ".wav",
         "2.635938",
         "Anger"
        ],
        [
         "9",
         "9",
         "CREMA-D",
         "./dataset/crema-d\\AudioWAV\\1001_IEO_DIS_HI.wav",
         "1001_IEO_DIS_HI.wav",
         ".wav",
         "2.002",
         "Disgust"
        ],
        [
         "10",
         "10",
         "CREMA-D",
         "./dataset/crema-d\\AudioWAV\\1001_IEO_DIS_LO.wav",
         "1001_IEO_DIS_LO.wav",
         ".wav",
         "2.002",
         "Disgust"
        ],
        [
         "11",
         "11",
         "CREMA-D",
         "./dataset/crema-d\\AudioWAV\\1001_IEO_DIS_MD.wav",
         "1001_IEO_DIS_MD.wav",
         ".wav",
         "1.901875",
         "Disgust"
        ],
        [
         "12",
         "12",
         "CREMA-D",
         "./dataset/crema-d\\AudioWAV\\1001_IEO_FEA_HI.wav",
         "1001_IEO_FEA_HI.wav",
         ".wav",
         "1.56825",
         "Fear"
        ],
        [
         "13",
         "13",
         "CREMA-D",
         "./dataset/crema-d\\AudioWAV\\1001_IEO_FEA_LO.wav",
         "1001_IEO_FEA_LO.wav",
         ".wav",
         "1.534875",
         "Fear"
        ],
        [
         "14",
         "14",
         "CREMA-D",
         "./dataset/crema-d\\AudioWAV\\1001_IEO_FEA_MD.wav",
         "1001_IEO_FEA_MD.wav",
         ".wav",
         "1.601625",
         "Fear"
        ],
        [
         "15",
         "15",
         "CREMA-D",
         "./dataset/crema-d\\AudioWAV\\1001_IEO_HAP_HI.wav",
         "1001_IEO_HAP_HI.wav",
         ".wav",
         "1.768438",
         "Happy"
        ],
        [
         "16",
         "16",
         "CREMA-D",
         "./dataset/crema-d\\AudioWAV\\1001_IEO_HAP_LO.wav",
         "1001_IEO_HAP_LO.wav",
         ".wav",
         "1.701688",
         "Happy"
        ],
        [
         "17",
         "17",
         "CREMA-D",
         "./dataset/crema-d\\AudioWAV\\1001_IEO_HAP_MD.wav",
         "1001_IEO_HAP_MD.wav",
         ".wav",
         "1.668313",
         "Happy"
        ],
        [
         "18",
         "18",
         "CREMA-D",
         "./dataset/crema-d\\AudioWAV\\1001_IEO_NEU_XX.wav",
         "1001_IEO_NEU_XX.wav",
         ".wav",
         "1.601625",
         "Neutral"
        ],
        [
         "19",
         "19",
         "CREMA-D",
         "./dataset/crema-d\\AudioWAV\\1001_IEO_SAD_HI.wav",
         "1001_IEO_SAD_HI.wav",
         ".wav",
         "2.002",
         "Sad"
        ],
        [
         "20",
         "20",
         "CREMA-D",
         "./dataset/crema-d\\AudioWAV\\1001_IEO_SAD_LO.wav",
         "1001_IEO_SAD_LO.wav",
         ".wav",
         "1.901875",
         "Sad"
        ],
        [
         "21",
         "21",
         "CREMA-D",
         "./dataset/crema-d\\AudioWAV\\1001_IEO_SAD_MD.wav",
         "1001_IEO_SAD_MD.wav",
         ".wav",
         "1.735063",
         "Sad"
        ],
        [
         "22",
         "22",
         "CREMA-D",
         "./dataset/crema-d\\AudioWAV\\1001_IOM_ANG_XX.wav",
         "1001_IOM_ANG_XX.wav",
         ".wav",
         "2.135438",
         "Anger"
        ],
        [
         "23",
         "23",
         "CREMA-D",
         "./dataset/crema-d\\AudioWAV\\1001_IOM_DIS_XX.wav",
         "1001_IOM_DIS_XX.wav",
         ".wav",
         "2.268938",
         "Disgust"
        ],
        [
         "24",
         "24",
         "CREMA-D",
         "./dataset/crema-d\\AudioWAV\\1001_IOM_FEA_XX.wav",
         "1001_IOM_FEA_XX.wav",
         ".wav",
         "2.836188",
         "Fear"
        ],
        [
         "25",
         "25",
         "CREMA-D",
         "./dataset/crema-d\\AudioWAV\\1001_IOM_HAP_XX.wav",
         "1001_IOM_HAP_XX.wav",
         ".wav",
         "2.002",
         "Happy"
        ],
        [
         "26",
         "26",
         "CREMA-D",
         "./dataset/crema-d\\AudioWAV\\1001_IOM_NEU_XX.wav",
         "1001_IOM_NEU_XX.wav",
         ".wav",
         "2.469125",
         "Neutral"
        ],
        [
         "27",
         "27",
         "CREMA-D",
         "./dataset/crema-d\\AudioWAV\\1001_IOM_SAD_XX.wav",
         "1001_IOM_SAD_XX.wav",
         ".wav",
         "1.93525",
         "Sad"
        ],
        [
         "28",
         "28",
         "CREMA-D",
         "./dataset/crema-d\\AudioWAV\\1001_ITH_ANG_XX.wav",
         "1001_ITH_ANG_XX.wav",
         ".wav",
         "2.369",
         "Anger"
        ],
        [
         "29",
         "29",
         "CREMA-D",
         "./dataset/crema-d\\AudioWAV\\1001_ITH_DIS_XX.wav",
         "1001_ITH_DIS_XX.wav",
         ".wav",
         "2.168813",
         "Disgust"
        ],
        [
         "30",
         "30",
         "CREMA-D",
         "./dataset/crema-d\\AudioWAV\\1001_ITH_FEA_XX.wav",
         "1001_ITH_FEA_XX.wav",
         ".wav",
         "2.102125",
         "Fear"
        ],
        [
         "31",
         "31",
         "CREMA-D",
         "./dataset/crema-d\\AudioWAV\\1001_ITH_HAP_XX.wav",
         "1001_ITH_HAP_XX.wav",
         ".wav",
         "2.469125",
         "Happy"
        ],
        [
         "32",
         "32",
         "CREMA-D",
         "./dataset/crema-d\\AudioWAV\\1001_ITH_NEU_XX.wav",
         "1001_ITH_NEU_XX.wav",
         ".wav",
         "2.602625",
         "Neutral"
        ],
        [
         "33",
         "33",
         "CREMA-D",
         "./dataset/crema-d\\AudioWAV\\1001_ITH_SAD_XX.wav",
         "1001_ITH_SAD_XX.wav",
         ".wav",
         "2.369",
         "Sad"
        ],
        [
         "34",
         "34",
         "CREMA-D",
         "./dataset/crema-d\\AudioWAV\\1001_ITS_ANG_XX.wav",
         "1001_ITS_ANG_XX.wav",
         ".wav",
         "2.56925",
         "Anger"
        ],
        [
         "35",
         "35",
         "CREMA-D",
         "./dataset/crema-d\\AudioWAV\\1001_ITS_DIS_XX.wav",
         "1001_ITS_DIS_XX.wav",
         ".wav",
         "2.202188",
         "Disgust"
        ],
        [
         "36",
         "36",
         "CREMA-D",
         "./dataset/crema-d\\AudioWAV\\1001_ITS_FEA_XX.wav",
         "1001_ITS_FEA_XX.wav",
         ".wav",
         "2.135438",
         "Fear"
        ],
        [
         "37",
         "37",
         "CREMA-D",
         "./dataset/crema-d\\AudioWAV\\1001_ITS_HAP_XX.wav",
         "1001_ITS_HAP_XX.wav",
         ".wav",
         "2.202188",
         "Happy"
        ],
        [
         "38",
         "38",
         "CREMA-D",
         "./dataset/crema-d\\AudioWAV\\1001_ITS_NEU_XX.wav",
         "1001_ITS_NEU_XX.wav",
         ".wav",
         "2.43575",
         "Neutral"
        ],
        [
         "39",
         "39",
         "CREMA-D",
         "./dataset/crema-d\\AudioWAV\\1001_ITS_SAD_XX.wav",
         "1001_ITS_SAD_XX.wav",
         ".wav",
         "2.669313",
         "Sad"
        ],
        [
         "40",
         "40",
         "CREMA-D",
         "./dataset/crema-d\\AudioWAV\\1001_IWL_ANG_XX.wav",
         "1001_IWL_ANG_XX.wav",
         ".wav",
         "3.169813",
         "Anger"
        ],
        [
         "41",
         "41",
         "CREMA-D",
         "./dataset/crema-d\\AudioWAV\\1001_IWL_DIS_XX.wav",
         "1001_IWL_DIS_XX.wav",
         ".wav",
         "2.56925",
         "Disgust"
        ],
        [
         "42",
         "42",
         "CREMA-D",
         "./dataset/crema-d\\AudioWAV\\1001_IWL_FEA_XX.wav",
         "1001_IWL_FEA_XX.wav",
         ".wav",
         "2.369",
         "Fear"
        ],
        [
         "43",
         "43",
         "CREMA-D",
         "./dataset/crema-d\\AudioWAV\\1001_IWL_HAP_XX.wav",
         "1001_IWL_HAP_XX.wav",
         ".wav",
         "2.102125",
         "Happy"
        ],
        [
         "44",
         "44",
         "CREMA-D",
         "./dataset/crema-d\\AudioWAV\\1001_IWL_NEU_XX.wav",
         "1001_IWL_NEU_XX.wav",
         ".wav",
         "2.836188",
         "Neutral"
        ],
        [
         "45",
         "45",
         "CREMA-D",
         "./dataset/crema-d\\AudioWAV\\1001_IWL_SAD_XX.wav",
         "1001_IWL_SAD_XX.wav",
         ".wav",
         "2.836188",
         "Sad"
        ],
        [
         "46",
         "46",
         "CREMA-D",
         "./dataset/crema-d\\AudioWAV\\1001_IWW_ANG_XX.wav",
         "1001_IWW_ANG_XX.wav",
         ".wav",
         "2.275563",
         "Anger"
        ],
        [
         "47",
         "47",
         "CREMA-D",
         "./dataset/crema-d\\AudioWAV\\1001_IWW_DIS_XX.wav",
         "1001_IWW_DIS_XX.wav",
         ".wav",
         "2.06875",
         "Disgust"
        ],
        [
         "48",
         "48",
         "CREMA-D",
         "./dataset/crema-d\\AudioWAV\\1001_IWW_FEA_XX.wav",
         "1001_IWW_FEA_XX.wav",
         ".wav",
         "2.202188",
         "Fear"
        ],
        [
         "49",
         "49",
         "CREMA-D",
         "./dataset/crema-d\\AudioWAV\\1001_IWW_HAP_XX.wav",
         "1001_IWW_HAP_XX.wav",
         ".wav",
         "1.968625",
         "Happy"
        ]
       ],
       "shape": {
        "columns": 7,
        "rows": 63174
       }
      },
      "text/html": [
       "<div>\n",
       "<style scoped>\n",
       "    .dataframe tbody tr th:only-of-type {\n",
       "        vertical-align: middle;\n",
       "    }\n",
       "\n",
       "    .dataframe tbody tr th {\n",
       "        vertical-align: top;\n",
       "    }\n",
       "\n",
       "    .dataframe thead th {\n",
       "        text-align: right;\n",
       "    }\n",
       "</style>\n",
       "<table border=\"1\" class=\"dataframe\">\n",
       "  <thead>\n",
       "    <tr style=\"text-align: right;\">\n",
       "      <th></th>\n",
       "      <th>Id</th>\n",
       "      <th>Dataset</th>\n",
       "      <th>Filepath</th>\n",
       "      <th>Filename</th>\n",
       "      <th>Ext</th>\n",
       "      <th>Duration</th>\n",
       "      <th>Emotion</th>\n",
       "    </tr>\n",
       "  </thead>\n",
       "  <tbody>\n",
       "    <tr>\n",
       "      <th>0</th>\n",
       "      <td>0</td>\n",
       "      <td>CREMA-D</td>\n",
       "      <td>./dataset/crema-d\\AudioWAV\\1001_DFA_ANG_XX.wav</td>\n",
       "      <td>1001_DFA_ANG_XX.wav</td>\n",
       "      <td>.wav</td>\n",
       "      <td>2.275563</td>\n",
       "      <td>Anger</td>\n",
       "    </tr>\n",
       "    <tr>\n",
       "      <th>1</th>\n",
       "      <td>1</td>\n",
       "      <td>CREMA-D</td>\n",
       "      <td>./dataset/crema-d\\AudioWAV\\1001_DFA_DIS_XX.wav</td>\n",
       "      <td>1001_DFA_DIS_XX.wav</td>\n",
       "      <td>.wav</td>\n",
       "      <td>2.335688</td>\n",
       "      <td>Disgust</td>\n",
       "    </tr>\n",
       "    <tr>\n",
       "      <th>2</th>\n",
       "      <td>2</td>\n",
       "      <td>CREMA-D</td>\n",
       "      <td>./dataset/crema-d\\AudioWAV\\1001_DFA_FEA_XX.wav</td>\n",
       "      <td>1001_DFA_FEA_XX.wav</td>\n",
       "      <td>.wav</td>\n",
       "      <td>2.168813</td>\n",
       "      <td>Fear</td>\n",
       "    </tr>\n",
       "    <tr>\n",
       "      <th>3</th>\n",
       "      <td>3</td>\n",
       "      <td>CREMA-D</td>\n",
       "      <td>./dataset/crema-d\\AudioWAV\\1001_DFA_HAP_XX.wav</td>\n",
       "      <td>1001_DFA_HAP_XX.wav</td>\n",
       "      <td>.wav</td>\n",
       "      <td>1.868500</td>\n",
       "      <td>Happy</td>\n",
       "    </tr>\n",
       "    <tr>\n",
       "      <th>4</th>\n",
       "      <td>4</td>\n",
       "      <td>CREMA-D</td>\n",
       "      <td>./dataset/crema-d\\AudioWAV\\1001_DFA_NEU_XX.wav</td>\n",
       "      <td>1001_DFA_NEU_XX.wav</td>\n",
       "      <td>.wav</td>\n",
       "      <td>2.035375</td>\n",
       "      <td>Neutral</td>\n",
       "    </tr>\n",
       "    <tr>\n",
       "      <th>...</th>\n",
       "      <td>...</td>\n",
       "      <td>...</td>\n",
       "      <td>...</td>\n",
       "      <td>...</td>\n",
       "      <td>...</td>\n",
       "      <td>...</td>\n",
       "      <td>...</td>\n",
       "    </tr>\n",
       "    <tr>\n",
       "      <th>63169</th>\n",
       "      <td>64749</td>\n",
       "      <td>JL-CORPUS</td>\n",
       "      <td>./dataset/jl-corpus/Raw JL corpus (unchecked a...</td>\n",
       "      <td>male2_sad_8b_2.wav</td>\n",
       "      <td>.wav</td>\n",
       "      <td>2.350000</td>\n",
       "      <td>Sad</td>\n",
       "    </tr>\n",
       "    <tr>\n",
       "      <th>63170</th>\n",
       "      <td>64750</td>\n",
       "      <td>JL-CORPUS</td>\n",
       "      <td>./dataset/jl-corpus/Raw JL corpus (unchecked a...</td>\n",
       "      <td>male2_sad_9a_1.wav</td>\n",
       "      <td>.wav</td>\n",
       "      <td>2.250000</td>\n",
       "      <td>Sad</td>\n",
       "    </tr>\n",
       "    <tr>\n",
       "      <th>63171</th>\n",
       "      <td>64751</td>\n",
       "      <td>JL-CORPUS</td>\n",
       "      <td>./dataset/jl-corpus/Raw JL corpus (unchecked a...</td>\n",
       "      <td>male2_sad_9a_2.wav</td>\n",
       "      <td>.wav</td>\n",
       "      <td>2.350000</td>\n",
       "      <td>Sad</td>\n",
       "    </tr>\n",
       "    <tr>\n",
       "      <th>63172</th>\n",
       "      <td>64752</td>\n",
       "      <td>JL-CORPUS</td>\n",
       "      <td>./dataset/jl-corpus/Raw JL corpus (unchecked a...</td>\n",
       "      <td>male2_sad_9b_1.wav</td>\n",
       "      <td>.wav</td>\n",
       "      <td>2.150000</td>\n",
       "      <td>Sad</td>\n",
       "    </tr>\n",
       "    <tr>\n",
       "      <th>63173</th>\n",
       "      <td>64753</td>\n",
       "      <td>JL-CORPUS</td>\n",
       "      <td>./dataset/jl-corpus/Raw JL corpus (unchecked a...</td>\n",
       "      <td>male2_sad_9b_2.wav</td>\n",
       "      <td>.wav</td>\n",
       "      <td>2.150000</td>\n",
       "      <td>Sad</td>\n",
       "    </tr>\n",
       "  </tbody>\n",
       "</table>\n",
       "<p>63174 rows × 7 columns</p>\n",
       "</div>"
      ],
      "text/plain": [
       "          Id    Dataset                                           Filepath  \\\n",
       "0          0    CREMA-D     ./dataset/crema-d\\AudioWAV\\1001_DFA_ANG_XX.wav   \n",
       "1          1    CREMA-D     ./dataset/crema-d\\AudioWAV\\1001_DFA_DIS_XX.wav   \n",
       "2          2    CREMA-D     ./dataset/crema-d\\AudioWAV\\1001_DFA_FEA_XX.wav   \n",
       "3          3    CREMA-D     ./dataset/crema-d\\AudioWAV\\1001_DFA_HAP_XX.wav   \n",
       "4          4    CREMA-D     ./dataset/crema-d\\AudioWAV\\1001_DFA_NEU_XX.wav   \n",
       "...      ...        ...                                                ...   \n",
       "63169  64749  JL-CORPUS  ./dataset/jl-corpus/Raw JL corpus (unchecked a...   \n",
       "63170  64750  JL-CORPUS  ./dataset/jl-corpus/Raw JL corpus (unchecked a...   \n",
       "63171  64751  JL-CORPUS  ./dataset/jl-corpus/Raw JL corpus (unchecked a...   \n",
       "63172  64752  JL-CORPUS  ./dataset/jl-corpus/Raw JL corpus (unchecked a...   \n",
       "63173  64753  JL-CORPUS  ./dataset/jl-corpus/Raw JL corpus (unchecked a...   \n",
       "\n",
       "                  Filename   Ext  Duration  Emotion  \n",
       "0      1001_DFA_ANG_XX.wav  .wav  2.275563    Anger  \n",
       "1      1001_DFA_DIS_XX.wav  .wav  2.335688  Disgust  \n",
       "2      1001_DFA_FEA_XX.wav  .wav  2.168813     Fear  \n",
       "3      1001_DFA_HAP_XX.wav  .wav  1.868500    Happy  \n",
       "4      1001_DFA_NEU_XX.wav  .wav  2.035375  Neutral  \n",
       "...                    ...   ...       ...      ...  \n",
       "63169   male2_sad_8b_2.wav  .wav  2.350000      Sad  \n",
       "63170   male2_sad_9a_1.wav  .wav  2.250000      Sad  \n",
       "63171   male2_sad_9a_2.wav  .wav  2.350000      Sad  \n",
       "63172   male2_sad_9b_1.wav  .wav  2.150000      Sad  \n",
       "63173   male2_sad_9b_2.wav  .wav  2.150000      Sad  \n",
       "\n",
       "[63174 rows x 7 columns]"
      ]
     },
     "execution_count": 73,
     "metadata": {},
     "output_type": "execute_result"
    }
   ],
   "source": [
    "# List of emotion values you want to remove\n",
    "emotions_to_remove = [\"Anxious\", \"Apologetic\", \"Assertive\", \"Encouraging\", \"Concerned\", \"Excited\", \"Calm\"]\n",
    "\n",
    "# Filter the DataFrame to exclude rows with these emotions\n",
    "filtered_df = filtered_df[~filtered_df['Emotion'].isin(emotions_to_remove)].reset_index(drop=True)\n",
    "\n",
    "# Display the filtered DataFrame\n",
    "filtered_df\n"
   ]
  },
  {
   "cell_type": "code",
   "execution_count": 74,
   "id": "c563d474",
   "metadata": {},
   "outputs": [
    {
     "data": {
      "text/plain": [
       "Emotion\n",
       "Neutral     14841\n",
       "Happy       12758\n",
       "Question     7591\n",
       "Bored        7320\n",
       "Anger        6102\n",
       "Sad          5713\n",
       "Surprise     4854\n",
       "Fear         2053\n",
       "Disgust      1942\n",
       "Name: count, dtype: int64"
      ]
     },
     "execution_count": 74,
     "metadata": {},
     "output_type": "execute_result"
    }
   ],
   "source": [
    "emotion_counts = filtered_df['Emotion'].value_counts()\n",
    "emotion_counts"
   ]
  },
  {
   "cell_type": "code",
   "execution_count": 75,
   "id": "d16d0992",
   "metadata": {},
   "outputs": [
    {
     "data": {
      "image/png": "[encoded data removed]",
      "text/plain": [
       "<Figure size 1000x600 with 1 Axes>"
      ]
     },
     "metadata": {},
     "output_type": "display_data"
    }
   ],
   "source": [
    "# Plot the emotion counts as a bar chart\n",
    "plt.figure(figsize=(10, 6))\n",
    "ax = emotion_counts.plot(kind=\"bar\", edgecolor='black')\n",
    "plt.xlabel(\"Emotion\")\n",
    "plt.ylabel(\"Count\")\n",
    "plt.title(\"Emotion Frequency Distribution\")\n",
    "plt.xticks(rotation=45)\n",
    "plt.tight_layout()\n",
    "\n",
    "# Annotate each bar with its count value\n",
    "for p in ax.patches:\n",
    "    # Get the height of each bar (i.e., the count)\n",
    "    height = p.get_height()\n",
    "    # Place the annotation above the bar\n",
    "    ax.annotate(f'{int(height)}', \n",
    "                (p.get_x() + p.get_width() / 2, height),\n",
    "                ha='center', va='bottom')\n",
    "\n",
    "# Save the plot as an image file\n",
    "plt.savefig(\"./plots/emotion_counts_bar_chart_filtered.png\")\n",
    "plt.show()"
   ]
  },
  {
   "cell_type": "code",
   "execution_count": 76,
   "id": "a29f3d8a",
   "metadata": {},
   "outputs": [],
   "source": [
    "filtered_df['Id'] = np.arange(len(filtered_df))\n",
    "filtered_df.to_csv(\"./speech_dataset.csv\", index=False)"
   ]
  },
  {
   "cell_type": "markdown",
   "id": "8838ed3f",
   "metadata": {},
   "source": [
    "## 4. Splitting into train, validation and test"
   ]
  },
  {
   "cell_type": "code",
   "execution_count": 77,
   "id": "9faad572",
   "metadata": {},
   "outputs": [],
   "source": [
    "from sklearn.model_selection import train_test_split"
   ]
  },
  {
   "cell_type": "code",
   "execution_count": 78,
   "id": "46be8932",
   "metadata": {},
   "outputs": [],
   "source": [
    "df = filtered_df"
   ]
  },
  {
   "cell_type": "code",
   "execution_count": 79,
   "id": "2c52ee97",
   "metadata": {},
   "outputs": [],
   "source": [
    "X = df.drop('Emotion', axis=1)\n",
    "y = df['Emotion']\n",
    "\n",
    "# First split: Train + Temp (Validation + Test)\n",
    "X_train, X_temp, y_train, y_temp = train_test_split(X, y, test_size=0.3, random_state=42, stratify=y)\n",
    "\n",
    "# Second split: Validation + Test \n",
    "X_val, X_test, y_val, y_test = train_test_split(X_temp, y_temp, test_size=0.5, random_state=42, stratify=y_temp)"
   ]
  },
  {
   "cell_type": "code",
   "execution_count": 80,
   "id": "bf63ba93",
   "metadata": {},
   "outputs": [
    {
     "name": "stdout",
     "output_type": "stream",
     "text": [
      "Training set shapes: (44221, 6) (44221,)\n",
      "Validation set shapes: (9476, 6) (9476,)\n",
      "Test set shapes: (9477, 6) (9477,)\n"
     ]
    }
   ],
   "source": [
    "# Check the shape of the dataframes:\n",
    "print(\"Training set shapes:\", X_train.shape, y_train.shape)\n",
    "print(\"Validation set shapes:\", X_val.shape, y_val.shape)\n",
    "print(\"Test set shapes:\", X_test.shape, y_test.shape)"
   ]
  },
  {
   "cell_type": "code",
   "execution_count": 81,
   "id": "abbc30e4",
   "metadata": {},
   "outputs": [],
   "source": [
    "# Recombine the train dataset\n",
    "train_df = pd.concat([X_train, y_train], axis=1)\n",
    "train_df['Id'] = np.arange(len(train_df))\n",
    "\n",
    "# Recombine the validation dataset\n",
    "val_df = pd.concat([X_val, y_val], axis=1)\n",
    "val_df['Id'] = np.arange(len(val_df))\n",
    "\n",
    "# Recombine the test dataset\n",
    "test_df = pd.concat([X_test, y_test], axis=1)\n",
    "test_df['Id'] = np.arange(len(test_df))"
   ]
  },
  {
   "cell_type": "code",
   "execution_count": 82,
   "id": "544fb1c0",
   "metadata": {},
   "outputs": [
    {
     "data": {
      "application/vnd.microsoft.datawrangler.viewer.v0+json": {
       "columns": [
        {
         "name": "index",
         "rawType": "int64",
         "type": "integer"
        },
        {
         "name": "Id",
         "rawType": "int64",
         "type": "integer"
        },
        {
         "name": "Dataset",
         "rawType": "object",
         "type": "string"
        },
        {
         "name": "Filepath",
         "rawType": "object",
         "type": "string"
        },
        {
         "name": "Filename",
         "rawType": "object",
         "type": "string"
        },
        {
         "name": "Ext",
         "rawType": "object",
         "type": "string"
        },
        {
         "name": "Duration",
         "rawType": "float64",
         "type": "float"
        },
        {
         "name": "Emotion",
         "rawType": "object",
         "type": "string"
        }
       ],
       "conversionMethod": "pd.DataFrame",
       "ref": "d8bbc76c-ce58-44d7-a11b-03437c8b07b0",
       "rows": [
        [
         "20462",
         "0",
         "MLEND",
         "./dataset/mlend\\MLEndSND_Public\\11093.wav",
         "11093.wav",
         ".wav",
         "1.242268",
         "Question"
        ],
        [
         "830",
         "1",
         "CREMA-D",
         "./dataset/crema-d\\AudioWAV\\1011_TAI_ANG_XX.wav",
         "1011_TAI_ANG_XX.wav",
         ".wav",
         "2.602625",
         "Anger"
        ],
        [
         "29734",
         "2",
         "MLEND",
         "./dataset/mlend\\MLEndSND_Public\\27019.wav",
         "27019.wav",
         ".wav",
         "1.265488",
         "Neutral"
        ],
        [
         "27615",
         "3",
         "MLEND",
         "./dataset/mlend\\MLEndSND_Public\\23420.wav",
         "23420.wav",
         ".wav",
         "1.219048",
         "Bored"
        ],
        [
         "6165",
         "4",
         "CREMA-D",
         "./dataset/crema-d\\AudioWAV\\1077_ITH_ANG_XX.wav",
         "1077_ITH_ANG_XX.wav",
         ".wav",
         "2.869563",
         "Anger"
        ],
        [
         "44672",
         "5",
         "TESS",
         "./dataset/tess\\YAF_fear\\YAF_pad_fear.wav",
         "YAF_pad_fear.wav",
         ".wav",
         "1.754198",
         "Fear"
        ],
        [
         "13682",
         "6",
         "MELD",
         "./dataset/meld\\train\\dia954_utt2.mp4",
         "dia954_utt2.mp4",
         ".mp4",
         "1.042708",
         "Neutral"
        ],
        [
         "42779",
         "7",
         "TESS",
         "./dataset/tess\\OAF_angry\\OAF_check_angry.wav",
         "OAF_check_angry.wav",
         ".wav",
         "1.646187",
         "Anger"
        ],
        [
         "14672",
         "8",
         "MLEND",
         "./dataset/mlend\\MLEndSND_Public\\01160.wav",
         "01160.wav",
         ".wav",
         "1.056508",
         "Neutral"
        ],
        [
         "19197",
         "9",
         "MLEND",
         "./dataset/mlend\\MLEndSND_Public\\08931.wav",
         "08931.wav",
         ".wav",
         "1.149388",
         "Bored"
        ],
        [
         "7689",
         "10",
         "MELD",
         "./dataset/meld\\train\\dia110_utt0.mp4",
         "dia110_utt0.mp4",
         ".mp4",
         "1.876874",
         "Neutral"
        ],
        [
         "6376",
         "11",
         "CREMA-D",
         "./dataset/crema-d\\AudioWAV\\1079_TSI_SAD_XX.wav",
         "1079_TSI_SAD_XX.wav",
         ".wav",
         "2.635938",
         "Sad"
        ],
        [
         "50762",
         "12",
         "ESD",
         "./dataset/esd\\0014\\Neutral\\0014_000216.wav",
         "0014_000216.wav",
         ".wav",
         "2.507",
         "Neutral"
        ],
        [
         "26175",
         "13",
         "MLEND",
         "./dataset/mlend\\MLEndSND_Public\\20933.wav",
         "20933.wav",
         ".wav",
         "1.137778",
         "Neutral"
        ],
        [
         "32896",
         "14",
         "MLEND",
         "./dataset/mlend\\MLEndSND_Public\\32461.wav",
         "32461.wav",
         ".wav",
         "1.346757",
         "Neutral"
        ],
        [
         "649",
         "15",
         "CREMA-D",
         "./dataset/crema-d\\AudioWAV\\1009_ITS_DIS_XX.wav",
         "1009_ITS_DIS_XX.wav",
         ".wav",
         "3.003",
         "Disgust"
        ],
        [
         "14179",
         "16",
         "MLEND",
         "./dataset/mlend\\MLEndSND_Public\\00304.wav",
         "00304.wav",
         ".wav",
         "1.811156",
         "Neutral"
        ],
        [
         "13374",
         "17",
         "MELD",
         "./dataset/meld\\train\\dia915_utt5.mp4",
         "dia915_utt5.mp4",
         ".mp4",
         "2.71104",
         "Neutral"
        ],
        [
         "10892",
         "18",
         "MELD",
         "./dataset/meld\\train\\dia562_utt6.mp4",
         "dia562_utt6.mp4",
         ".mp4",
         "1.876874",
         "Neutral"
        ],
        [
         "26343",
         "19",
         "MLEND",
         "./dataset/mlend\\MLEndSND_Public\\21215.wav",
         "21215.wav",
         ".wav",
         "1.021678",
         "Happy"
        ],
        [
         "59017",
         "20",
         "ESD",
         "./dataset/esd\\0019\\Neutral\\0019_000063.wav",
         "0019_000063.wav",
         ".wav",
         "2.528",
         "Neutral"
        ],
        [
         "1275",
         "21",
         "CREMA-D",
         "./dataset/crema-d\\AudioWAV\\1017_IEO_FEA_LO.wav",
         "1017_IEO_FEA_LO.wav",
         ".wav",
         "1.634938",
         "Fear"
        ],
        [
         "55484",
         "22",
         "ESD",
         "./dataset/esd\\0016\\Surprise\\0016_001661.wav",
         "0016_001661.wav",
         ".wav",
         "2.645",
         "Surprise"
        ],
        [
         "44246",
         "23",
         "TESS",
         "./dataset/tess\\YAF_angry\\YAF_live_angry.wav",
         "YAF_live_angry.wav",
         ".wav",
         "2.006922",
         "Anger"
        ],
        [
         "42108",
         "24",
         "RAVDESS",
         "./dataset/ravdess\\Actor_16\\03-01-03-01-02-02-16.wav",
         "03-01-03-01-02-02-16.wav",
         ".wav",
         "3.670333",
         "Happy"
        ],
        [
         "58761",
         "25",
         "ESD",
         "./dataset/esd\\0018\\Surprise\\0018_001552.wav",
         "0018_001552.wav",
         ".wav",
         "2.124",
         "Surprise"
        ],
        [
         "19812",
         "26",
         "MLEND",
         "./dataset/mlend\\MLEndSND_Public\\09988.wav",
         "09988.wav",
         ".wav",
         "1.950476",
         "Bored"
        ],
        [
         "60288",
         "27",
         "ESD",
         "./dataset/esd\\0019\\Sad\\0019_001386.wav",
         "0019_001386.wav",
         ".wav",
         "2.656",
         "Sad"
        ],
        [
         "30346",
         "28",
         "MLEND",
         "./dataset/mlend\\MLEndSND_Public\\28053.wav",
         "28053.wav",
         ".wav",
         "1.718277",
         "Bored"
        ],
        [
         "18054",
         "29",
         "MLEND",
         "./dataset/mlend\\MLEndSND_Public\\07002.wav",
         "07002.wav",
         ".wav",
         "1.265488",
         "Question"
        ],
        [
         "12713",
         "30",
         "MELD",
         "./dataset/meld\\train\\dia827_utt1.mp4",
         "dia827_utt1.mp4",
         ".mp4",
         "1.042708",
         "Happy"
        ],
        [
         "13736",
         "31",
         "MELD",
         "./dataset/meld\\train\\dia961_utt3.mp4",
         "dia961_utt3.mp4",
         ".mp4",
         "1.042708",
         "Anger"
        ],
        [
         "61284",
         "32",
         "ESD",
         "./dataset/esd\\0020\\Angry\\0020_000669.wav",
         "0020_000669.wav",
         ".wav",
         "3.4",
         "Anger"
        ],
        [
         "29871",
         "33",
         "MLEND",
         "./dataset/mlend\\MLEndSND_Public\\27233.wav",
         "27233.wav",
         ".wav",
         "1.462857",
         "Question"
        ],
        [
         "16747",
         "34",
         "MLEND",
         "./dataset/mlend\\MLEndSND_Public\\04728.wav",
         "04728.wav",
         ".wav",
         "1.253878",
         "Happy"
        ],
        [
         "5812",
         "35",
         "CREMA-D",
         "./dataset/crema-d\\AudioWAV\\1073_DFA_DIS_XX.wav",
         "1073_DFA_DIS_XX.wav",
         ".wav",
         "3.103125",
         "Disgust"
        ],
        [
         "29837",
         "36",
         "MLEND",
         "./dataset/mlend\\MLEndSND_Public\\27175.wav",
         "27175.wav",
         ".wav",
         "2.43873",
         "Happy"
        ],
        [
         "44283",
         "37",
         "TESS",
         "./dataset/tess\\YAF_angry\\YAF_pole_angry.wav",
         "YAF_pole_angry.wav",
         ".wav",
         "2.177398",
         "Anger"
        ],
        [
         "16076",
         "38",
         "MLEND",
         "./dataset/mlend\\MLEndSND_Public\\03585.wav",
         "03585.wav",
         ".wav",
         "1.393197",
         "Question"
        ],
        [
         "49379",
         "39",
         "ESD",
         "./dataset/esd\\0013\\Angry\\0013_000445.wav",
         "0013_000445.wav",
         ".wav",
         "3.729",
         "Anger"
        ],
        [
         "28330",
         "40",
         "MLEND",
         "./dataset/mlend\\MLEndSND_Public\\24644.wav",
         "24644.wav",
         ".wav",
         "1.938866",
         "Happy"
        ],
        [
         "44573",
         "41",
         "TESS",
         "./dataset/tess\\YAF_fear\\YAF_cause_fear.wav",
         "YAF_cause_fear.wav",
         ".wav",
         "1.808225",
         "Fear"
        ],
        [
         "59141",
         "42",
         "ESD",
         "./dataset/esd\\0019\\Neutral\\0019_000187.wav",
         "0019_000187.wav",
         ".wav",
         "2.222",
         "Neutral"
        ],
        [
         "27865",
         "43",
         "MLEND",
         "./dataset/mlend\\MLEndSND_Public\\23854.wav",
         "23854.wav",
         ".wav",
         "1.428027",
         "Bored"
        ],
        [
         "6206",
         "44",
         "CREMA-D",
         "./dataset/crema-d\\AudioWAV\\1077_TIE_SAD_XX.wav",
         "1077_TIE_SAD_XX.wav",
         ".wav",
         "3.036375",
         "Sad"
        ],
        [
         "20680",
         "45",
         "MLEND",
         "./dataset/mlend\\MLEndSND_Public\\11468.wav",
         "11468.wav",
         ".wav",
         "2.380045",
         "Neutral"
        ],
        [
         "38100",
         "46",
         "MLEND",
         "./dataset/mlend\\MLEndSND_Public\\41356.wav",
         "41356.wav",
         ".wav",
         "1.265488",
         "Happy"
        ],
        [
         "2891",
         "47",
         "CREMA-D",
         "./dataset/crema-d\\AudioWAV\\1037_IEO_DIS_LO.wav",
         "1037_IEO_DIS_LO.wav",
         ".wav",
         "1.735063",
         "Disgust"
        ],
        [
         "40815",
         "48",
         "MLEND",
         "./dataset/mlend\\MLEndSND_Public\\46042.wav",
         "46042.wav",
         ".wav",
         "1.520907",
         "Question"
        ],
        [
         "7590",
         "49",
         "MELD",
         "./dataset/meld\\train\\dia1029_utt3.mp4",
         "dia1029_utt3.mp4",
         ".mp4",
         "1.292957",
         "Surprise"
        ]
       ],
       "shape": {
        "columns": 7,
        "rows": 44221
       }
      },
      "text/html": [
       "<div>\n",
       "<style scoped>\n",
       "    .dataframe tbody tr th:only-of-type {\n",
       "        vertical-align: middle;\n",
       "    }\n",
       "\n",
       "    .dataframe tbody tr th {\n",
       "        vertical-align: top;\n",
       "    }\n",
       "\n",
       "    .dataframe thead th {\n",
       "        text-align: right;\n",
       "    }\n",
       "</style>\n",
       "<table border=\"1\" class=\"dataframe\">\n",
       "  <thead>\n",
       "    <tr style=\"text-align: right;\">\n",
       "      <th></th>\n",
       "      <th>Id</th>\n",
       "      <th>Dataset</th>\n",
       "      <th>Filepath</th>\n",
       "      <th>Filename</th>\n",
       "      <th>Ext</th>\n",
       "      <th>Duration</th>\n",
       "      <th>Emotion</th>\n",
       "    </tr>\n",
       "  </thead>\n",
       "  <tbody>\n",
       "    <tr>\n",
       "      <th>20462</th>\n",
       "      <td>0</td>\n",
       "      <td>MLEND</td>\n",
       "      <td>./dataset/mlend\\MLEndSND_Public\\11093.wav</td>\n",
       "      <td>11093.wav</td>\n",
       "      <td>.wav</td>\n",
       "      <td>1.242268</td>\n",
       "      <td>Question</td>\n",
       "    </tr>\n",
       "    <tr>\n",
       "      <th>830</th>\n",
       "      <td>1</td>\n",
       "      <td>CREMA-D</td>\n",
       "      <td>./dataset/crema-d\\AudioWAV\\1011_TAI_ANG_XX.wav</td>\n",
       "      <td>1011_TAI_ANG_XX.wav</td>\n",
       "      <td>.wav</td>\n",
       "      <td>2.602625</td>\n",
       "      <td>Anger</td>\n",
       "    </tr>\n",
       "    <tr>\n",
       "      <th>29734</th>\n",
       "      <td>2</td>\n",
       "      <td>MLEND</td>\n",
       "      <td>./dataset/mlend\\MLEndSND_Public\\27019.wav</td>\n",
       "      <td>27019.wav</td>\n",
       "      <td>.wav</td>\n",
       "      <td>1.265488</td>\n",
       "      <td>Neutral</td>\n",
       "    </tr>\n",
       "    <tr>\n",
       "      <th>27615</th>\n",
       "      <td>3</td>\n",
       "      <td>MLEND</td>\n",
       "      <td>./dataset/mlend\\MLEndSND_Public\\23420.wav</td>\n",
       "      <td>23420.wav</td>\n",
       "      <td>.wav</td>\n",
       "      <td>1.219048</td>\n",
       "      <td>Bored</td>\n",
       "    </tr>\n",
       "    <tr>\n",
       "      <th>6165</th>\n",
       "      <td>4</td>\n",
       "      <td>CREMA-D</td>\n",
       "      <td>./dataset/crema-d\\AudioWAV\\1077_ITH_ANG_XX.wav</td>\n",
       "      <td>1077_ITH_ANG_XX.wav</td>\n",
       "      <td>.wav</td>\n",
       "      <td>2.869563</td>\n",
       "      <td>Anger</td>\n",
       "    </tr>\n",
       "    <tr>\n",
       "      <th>...</th>\n",
       "      <td>...</td>\n",
       "      <td>...</td>\n",
       "      <td>...</td>\n",
       "      <td>...</td>\n",
       "      <td>...</td>\n",
       "      <td>...</td>\n",
       "      <td>...</td>\n",
       "    </tr>\n",
       "    <tr>\n",
       "      <th>13072</th>\n",
       "      <td>44216</td>\n",
       "      <td>MELD</td>\n",
       "      <td>./dataset/meld\\train\\dia873_utt1.mp4</td>\n",
       "      <td>dia873_utt1.mp4</td>\n",
       "      <td>.mp4</td>\n",
       "      <td>1.042708</td>\n",
       "      <td>Neutral</td>\n",
       "    </tr>\n",
       "    <tr>\n",
       "      <th>52966</th>\n",
       "      <td>44217</td>\n",
       "      <td>ESD</td>\n",
       "      <td>./dataset/esd\\0015\\Happy\\0015_000807.wav</td>\n",
       "      <td>0015_000807.wav</td>\n",
       "      <td>.wav</td>\n",
       "      <td>2.661000</td>\n",
       "      <td>Happy</td>\n",
       "    </tr>\n",
       "    <tr>\n",
       "      <th>37419</th>\n",
       "      <td>44218</td>\n",
       "      <td>MLEND</td>\n",
       "      <td>./dataset/mlend\\MLEndSND_Public\\40154.wav</td>\n",
       "      <td>40154.wav</td>\n",
       "      <td>.wav</td>\n",
       "      <td>1.147120</td>\n",
       "      <td>Neutral</td>\n",
       "    </tr>\n",
       "    <tr>\n",
       "      <th>56854</th>\n",
       "      <td>44219</td>\n",
       "      <td>ESD</td>\n",
       "      <td>./dataset/esd\\0017\\Sad\\0017_001347.wav</td>\n",
       "      <td>0017_001347.wav</td>\n",
       "      <td>.wav</td>\n",
       "      <td>3.934000</td>\n",
       "      <td>Sad</td>\n",
       "    </tr>\n",
       "    <tr>\n",
       "      <th>15174</th>\n",
       "      <td>44220</td>\n",
       "      <td>MLEND</td>\n",
       "      <td>./dataset/mlend\\MLEndSND_Public\\01986.wav</td>\n",
       "      <td>01986.wav</td>\n",
       "      <td>.wav</td>\n",
       "      <td>1.159048</td>\n",
       "      <td>Happy</td>\n",
       "    </tr>\n",
       "  </tbody>\n",
       "</table>\n",
       "<p>44221 rows × 7 columns</p>\n",
       "</div>"
      ],
      "text/plain": [
       "          Id  Dataset                                        Filepath  \\\n",
       "20462      0    MLEND       ./dataset/mlend\\MLEndSND_Public\\11093.wav   \n",
       "830        1  CREMA-D  ./dataset/crema-d\\AudioWAV\\1011_TAI_ANG_XX.wav   \n",
       "29734      2    MLEND       ./dataset/mlend\\MLEndSND_Public\\27019.wav   \n",
       "27615      3    MLEND       ./dataset/mlend\\MLEndSND_Public\\23420.wav   \n",
       "6165       4  CREMA-D  ./dataset/crema-d\\AudioWAV\\1077_ITH_ANG_XX.wav   \n",
       "...      ...      ...                                             ...   \n",
       "13072  44216     MELD            ./dataset/meld\\train\\dia873_utt1.mp4   \n",
       "52966  44217      ESD        ./dataset/esd\\0015\\Happy\\0015_000807.wav   \n",
       "37419  44218    MLEND       ./dataset/mlend\\MLEndSND_Public\\40154.wav   \n",
       "56854  44219      ESD          ./dataset/esd\\0017\\Sad\\0017_001347.wav   \n",
       "15174  44220    MLEND       ./dataset/mlend\\MLEndSND_Public\\01986.wav   \n",
       "\n",
       "                  Filename   Ext  Duration   Emotion  \n",
       "20462            11093.wav  .wav  1.242268  Question  \n",
       "830    1011_TAI_ANG_XX.wav  .wav  2.602625     Anger  \n",
       "29734            27019.wav  .wav  1.265488   Neutral  \n",
       "27615            23420.wav  .wav  1.219048     Bored  \n",
       "6165   1077_ITH_ANG_XX.wav  .wav  2.869563     Anger  \n",
       "...                    ...   ...       ...       ...  \n",
       "13072      dia873_utt1.mp4  .mp4  1.042708   Neutral  \n",
       "52966      0015_000807.wav  .wav  2.661000     Happy  \n",
       "37419            40154.wav  .wav  1.147120   Neutral  \n",
       "56854      0017_001347.wav  .wav  3.934000       Sad  \n",
       "15174            01986.wav  .wav  1.159048     Happy  \n",
       "\n",
       "[44221 rows x 7 columns]"
      ]
     },
     "execution_count": 82,
     "metadata": {},
     "output_type": "execute_result"
    }
   ],
   "source": [
    "train_df"
   ]
  },
  {
   "cell_type": "code",
   "execution_count": 83,
   "id": "011f1da9",
   "metadata": {},
   "outputs": [
    {
     "data": {
      "text/plain": [
       "Emotion\n",
       "Neutral     10389\n",
       "Happy        8930\n",
       "Question     5314\n",
       "Bored        5124\n",
       "Anger        4271\n",
       "Sad          3999\n",
       "Surprise     3398\n",
       "Fear         1437\n",
       "Disgust      1359\n",
       "Name: count, dtype: int64"
      ]
     },
     "execution_count": 83,
     "metadata": {},
     "output_type": "execute_result"
    }
   ],
   "source": [
    "train_df['Emotion'].value_counts()"
   ]
  },
  {
   "cell_type": "code",
   "execution_count": 84,
   "id": "7994cadc",
   "metadata": {},
   "outputs": [],
   "source": [
    "train_df.to_csv(\"./train_dataset.csv\", index=False)"
   ]
  },
  {
   "cell_type": "code",
   "execution_count": 85,
   "id": "084e6d4d",
   "metadata": {},
   "outputs": [
    {
     "data": {
      "application/vnd.microsoft.datawrangler.viewer.v0+json": {
       "columns": [
        {
         "name": "index",
         "rawType": "int64",
         "type": "integer"
        },
        {
         "name": "Id",
         "rawType": "int64",
         "type": "integer"
        },
        {
         "name": "Dataset",
         "rawType": "object",
         "type": "string"
        },
        {
         "name": "Filepath",
         "rawType": "object",
         "type": "string"
        },
        {
         "name": "Filename",
         "rawType": "object",
         "type": "string"
        },
        {
         "name": "Ext",
         "rawType": "object",
         "type": "string"
        },
        {
         "name": "Duration",
         "rawType": "float64",
         "type": "float"
        },
        {
         "name": "Emotion",
         "rawType": "object",
         "type": "string"
        }
       ],
       "conversionMethod": "pd.DataFrame",
       "ref": "2eea2e67-46a1-4342-865b-a198821cff10",
       "rows": [
        [
         "61866",
         "0",
         "ESD",
         "./dataset/esd\\0020\\Sad\\0020_001395.wav",
         "0020_001395.wav",
         ".wav",
         "2.624",
         "Sad"
        ],
        [
         "13465",
         "1",
         "MELD",
         "./dataset/meld\\train\\dia930_utt5.mp4",
         "dia930_utt5.mp4",
         ".mp4",
         "1.918582",
         "Neutral"
        ],
        [
         "28237",
         "2",
         "MLEND",
         "./dataset/mlend\\MLEndSND_Public\\24481.wav",
         "24481.wav",
         ".wav",
         "1.706667",
         "Bored"
        ],
        [
         "101",
         "3",
         "CREMA-D",
         "./dataset/crema-d\\AudioWAV\\1002_IEO_SAD_HI.wav",
         "1002_IEO_SAD_HI.wav",
         ".wav",
         "2.736063",
         "Sad"
        ],
        [
         "45924",
         "4",
         "ESD",
         "./dataset/esd\\0011\\Angry\\0011_000373.wav",
         "0011_000373.wav",
         ".wav",
         "2.339",
         "Anger"
        ],
        [
         "3988",
         "5",
         "CREMA-D",
         "./dataset/crema-d\\AudioWAV\\1050_IWL_SAD_XX.wav",
         "1050_IWL_SAD_XX.wav",
         ".wav",
         "3.003",
         "Sad"
        ],
        [
         "43642",
         "6",
         "TESS",
         "./dataset/tess\\OAF_neutral\\OAF_lease_neutral.wav",
         "OAF_lease_neutral.wav",
         ".wav",
         "2.102605",
         "Neutral"
        ],
        [
         "2558",
         "7",
         "CREMA-D",
         "./dataset/crema-d\\AudioWAV\\1033_DFA_SAD_XX.wav",
         "1033_DFA_SAD_XX.wav",
         ".wav",
         "2.469125",
         "Sad"
        ],
        [
         "4697",
         "8",
         "CREMA-D",
         "./dataset/crema-d\\AudioWAV\\1059_IEO_NEU_XX.wav",
         "1059_IEO_NEU_XX.wav",
         ".wav",
         "2.902875",
         "Neutral"
        ],
        [
         "51025",
         "9",
         "ESD",
         "./dataset/esd\\0014\\Angry\\0014_000503.wav",
         "0014_000503.wav",
         ".wav",
         "2.44",
         "Anger"
        ],
        [
         "42283",
         "10",
         "RAVDESS",
         "./dataset/ravdess\\Actor_20\\03-01-04-01-02-02-20.wav",
         "03-01-04-01-02-02-20.wav",
         ".wav",
         "3.370042",
         "Sad"
        ],
        [
         "38049",
         "11",
         "MLEND",
         "./dataset/mlend\\MLEndSND_Public\\41268.wav",
         "41268.wav",
         ".wav",
         "1.346757",
         "Happy"
        ],
        [
         "55538",
         "12",
         "ESD",
         "./dataset/esd\\0016\\Surprise\\0016_001715.wav",
         "0016_001715.wav",
         ".wav",
         "3.014",
         "Surprise"
        ],
        [
         "46479",
         "13",
         "ESD",
         "./dataset/esd\\0011\\Happy\\0011_000935.wav",
         "0011_000935.wav",
         ".wav",
         "2.938",
         "Happy"
        ],
        [
         "58426",
         "14",
         "ESD",
         "./dataset/esd\\0018\\Sad\\0018_001210.wav",
         "0018_001210.wav",
         ".wav",
         "3.518",
         "Sad"
        ],
        [
         "6346",
         "15",
         "CREMA-D",
         "./dataset/crema-d\\AudioWAV\\1079_IWL_SAD_XX.wav",
         "1079_IWL_SAD_XX.wav",
         ".wav",
         "2.369063",
         "Sad"
        ],
        [
         "59593",
         "16",
         "ESD",
         "./dataset/esd\\0019\\Angry\\0019_000646.wav",
         "0019_000646.wav",
         ".wav",
         "2.218",
         "Anger"
        ],
        [
         "32134",
         "17",
         "MLEND",
         "./dataset/mlend\\MLEndSND_Public\\31175.wav",
         "31175.wav",
         ".wav",
         "1.613787",
         "Bored"
        ],
        [
         "35877",
         "18",
         "MLEND",
         "./dataset/mlend\\MLEndSND_Public\\37494.wav",
         "37494.wav",
         ".wav",
         "1.007098",
         "Question"
        ],
        [
         "56667",
         "19",
         "ESD",
         "./dataset/esd\\0017\\Sad\\0017_001154.wav",
         "0017_001154.wav",
         ".wav",
         "2.408",
         "Sad"
        ],
        [
         "21064",
         "20",
         "MLEND",
         "./dataset/mlend\\MLEndSND_Public\\12125.wav",
         "12125.wav",
         ".wav",
         "1.33483",
         "Happy"
        ],
        [
         "7621",
         "21",
         "MELD",
         "./dataset/meld\\train\\dia1036_utt12.mp4",
         "dia1036_utt12.mp4",
         ".mp4",
         "1.628",
         "Neutral"
        ],
        [
         "48442",
         "22",
         "ESD",
         "./dataset/esd\\0012\\Sad\\0012_001194.wav",
         "0012_001194.wav",
         ".wav",
         "3.685313",
         "Sad"
        ],
        [
         "52260",
         "23",
         "ESD",
         "./dataset/esd\\0015\\Neutral\\0015_000079.wav",
         "0015_000079.wav",
         ".wav",
         "2.457",
         "Neutral"
        ],
        [
         "18419",
         "24",
         "MLEND",
         "./dataset/mlend\\MLEndSND_Public\\07613.wav",
         "07613.wav",
         ".wav",
         "1.102948",
         "Happy"
        ],
        [
         "19916",
         "25",
         "MLEND",
         "./dataset/mlend\\MLEndSND_Public\\10182.wav",
         "10182.wav",
         ".wav",
         "1.358367",
         "Happy"
        ],
        [
         "31714",
         "26",
         "MLEND",
         "./dataset/mlend\\MLEndSND_Public\\30464.wav",
         "30464.wav",
         ".wav",
         "1.207438",
         "Neutral"
        ],
        [
         "45229",
         "27",
         "TESS",
         "./dataset/tess\\YAF_pleasant_surprised\\YAF_keen_ps.wav",
         "YAF_keen_ps.wav",
         ".wav",
         "2.322766",
         "Surprise"
        ],
        [
         "12549",
         "28",
         "MELD",
         "./dataset/meld\\train\\dia806_utt0.mp4",
         "dia806_utt0.mp4",
         ".mp4",
         "2.460792",
         "Surprise"
        ],
        [
         "41767",
         "29",
         "RAVDESS",
         "./dataset/ravdess\\Actor_09\\03-01-01-01-02-01-09.wav",
         "03-01-01-01-02-01-09.wav",
         ".wav",
         "3.336667",
         "Neutral"
        ],
        [
         "32921",
         "30",
         "MLEND",
         "./dataset/mlend\\MLEndSND_Public\\32504.wav",
         "32504.wav",
         ".wav",
         "1.453878",
         "Neutral"
        ],
        [
         "18772",
         "31",
         "MLEND",
         "./dataset/mlend\\MLEndSND_Public\\08221.wav",
         "08221.wav",
         ".wav",
         "1.138",
         "Bored"
        ],
        [
         "20907",
         "32",
         "MLEND",
         "./dataset/mlend\\MLEndSND_Public\\11843.wav",
         "11843.wav",
         ".wav",
         "1.973696",
         "Question"
        ],
        [
         "29429",
         "33",
         "MLEND",
         "./dataset/mlend\\MLEndSND_Public\\26478.wav",
         "26478.wav",
         ".wav",
         "1.532517",
         "Question"
        ],
        [
         "61139",
         "34",
         "ESD",
         "./dataset/esd\\0020\\Angry\\0020_000520.wav",
         "0020_000520.wav",
         ".wav",
         "2.092",
         "Anger"
        ],
        [
         "16320",
         "35",
         "MLEND",
         "./dataset/mlend\\MLEndSND_Public\\03991.wav",
         "03991.wav",
         ".wav",
         "1.172608",
         "Question"
        ],
        [
         "4951",
         "36",
         "CREMA-D",
         "./dataset/crema-d\\AudioWAV\\1062_IOM_SAD_XX.wav",
         "1062_IOM_SAD_XX.wav",
         ".wav",
         "1.801813",
         "Sad"
        ],
        [
         "38853",
         "37",
         "MLEND",
         "./dataset/mlend\\MLEndSND_Public\\42670.wav",
         "42670.wav",
         ".wav",
         "1.474467",
         "Question"
        ],
        [
         "6227",
         "38",
         "CREMA-D",
         "./dataset/crema-d\\AudioWAV\\1078_IEO_ANG_MD.wav",
         "1078_IEO_ANG_MD.wav",
         ".wav",
         "2.302313",
         "Anger"
        ],
        [
         "61193",
         "39",
         "ESD",
         "./dataset/esd\\0020\\Angry\\0020_000575.wav",
         "0020_000575.wav",
         ".wav",
         "2.747",
         "Anger"
        ],
        [
         "49121",
         "40",
         "ESD",
         "./dataset/esd\\0013\\Neutral\\0013_000174.wav",
         "0013_000174.wav",
         ".wav",
         "2.912",
         "Neutral"
        ],
        [
         "58728",
         "41",
         "ESD",
         "./dataset/esd\\0018\\Surprise\\0018_001519.wav",
         "0018_001519.wav",
         ".wav",
         "2.272",
         "Surprise"
        ],
        [
         "15871",
         "42",
         "MLEND",
         "./dataset/mlend\\MLEndSND_Public\\03212.wav",
         "03212.wav",
         ".wav",
         "1.230658",
         "Neutral"
        ],
        [
         "43098",
         "43",
         "TESS",
         "./dataset/tess\\OAF_disgust\\OAF_room_disgust.wav",
         "OAF_room_disgust.wav",
         ".wav",
         "2.31654",
         "Disgust"
        ],
        [
         "25478",
         "44",
         "MLEND",
         "./dataset/mlend\\MLEndSND_Public\\19669.wav",
         "19669.wav",
         ".wav",
         "1.625397",
         "Bored"
        ],
        [
         "51352",
         "45",
         "ESD",
         "./dataset/esd\\0014\\Happy\\0014_000858.wav",
         "0014_000858.wav",
         ".wav",
         "2.045",
         "Happy"
        ],
        [
         "10254",
         "46",
         "MELD",
         "./dataset/meld\\train\\dia47_utt12.mp4",
         "dia47_utt12.mp4",
         ".mp4",
         "1.501499",
         "Neutral"
        ],
        [
         "8",
         "47",
         "CREMA-D",
         "./dataset/crema-d\\AudioWAV\\1001_IEO_ANG_MD.wav",
         "1001_IEO_ANG_MD.wav",
         ".wav",
         "2.635938",
         "Anger"
        ],
        [
         "441",
         "48",
         "CREMA-D",
         "./dataset/crema-d\\AudioWAV\\1006_IWW_ANG_XX.wav",
         "1006_IWW_ANG_XX.wav",
         ".wav",
         "2.736063",
         "Anger"
        ],
        [
         "49401",
         "49",
         "ESD",
         "./dataset/esd\\0013\\Angry\\0013_000468.wav",
         "0013_000468.wav",
         ".wav",
         "2.069",
         "Anger"
        ]
       ],
       "shape": {
        "columns": 7,
        "rows": 9476
       }
      },
      "text/html": [
       "<div>\n",
       "<style scoped>\n",
       "    .dataframe tbody tr th:only-of-type {\n",
       "        vertical-align: middle;\n",
       "    }\n",
       "\n",
       "    .dataframe tbody tr th {\n",
       "        vertical-align: top;\n",
       "    }\n",
       "\n",
       "    .dataframe thead th {\n",
       "        text-align: right;\n",
       "    }\n",
       "</style>\n",
       "<table border=\"1\" class=\"dataframe\">\n",
       "  <thead>\n",
       "    <tr style=\"text-align: right;\">\n",
       "      <th></th>\n",
       "      <th>Id</th>\n",
       "      <th>Dataset</th>\n",
       "      <th>Filepath</th>\n",
       "      <th>Filename</th>\n",
       "      <th>Ext</th>\n",
       "      <th>Duration</th>\n",
       "      <th>Emotion</th>\n",
       "    </tr>\n",
       "  </thead>\n",
       "  <tbody>\n",
       "    <tr>\n",
       "      <th>61866</th>\n",
       "      <td>0</td>\n",
       "      <td>ESD</td>\n",
       "      <td>./dataset/esd\\0020\\Sad\\0020_001395.wav</td>\n",
       "      <td>0020_001395.wav</td>\n",
       "      <td>.wav</td>\n",
       "      <td>2.624000</td>\n",
       "      <td>Sad</td>\n",
       "    </tr>\n",
       "    <tr>\n",
       "      <th>13465</th>\n",
       "      <td>1</td>\n",
       "      <td>MELD</td>\n",
       "      <td>./dataset/meld\\train\\dia930_utt5.mp4</td>\n",
       "      <td>dia930_utt5.mp4</td>\n",
       "      <td>.mp4</td>\n",
       "      <td>1.918582</td>\n",
       "      <td>Neutral</td>\n",
       "    </tr>\n",
       "    <tr>\n",
       "      <th>28237</th>\n",
       "      <td>2</td>\n",
       "      <td>MLEND</td>\n",
       "      <td>./dataset/mlend\\MLEndSND_Public\\24481.wav</td>\n",
       "      <td>24481.wav</td>\n",
       "      <td>.wav</td>\n",
       "      <td>1.706667</td>\n",
       "      <td>Bored</td>\n",
       "    </tr>\n",
       "    <tr>\n",
       "      <th>101</th>\n",
       "      <td>3</td>\n",
       "      <td>CREMA-D</td>\n",
       "      <td>./dataset/crema-d\\AudioWAV\\1002_IEO_SAD_HI.wav</td>\n",
       "      <td>1002_IEO_SAD_HI.wav</td>\n",
       "      <td>.wav</td>\n",
       "      <td>2.736063</td>\n",
       "      <td>Sad</td>\n",
       "    </tr>\n",
       "    <tr>\n",
       "      <th>45924</th>\n",
       "      <td>4</td>\n",
       "      <td>ESD</td>\n",
       "      <td>./dataset/esd\\0011\\Angry\\0011_000373.wav</td>\n",
       "      <td>0011_000373.wav</td>\n",
       "      <td>.wav</td>\n",
       "      <td>2.339000</td>\n",
       "      <td>Anger</td>\n",
       "    </tr>\n",
       "    <tr>\n",
       "      <th>...</th>\n",
       "      <td>...</td>\n",
       "      <td>...</td>\n",
       "      <td>...</td>\n",
       "      <td>...</td>\n",
       "      <td>...</td>\n",
       "      <td>...</td>\n",
       "      <td>...</td>\n",
       "    </tr>\n",
       "    <tr>\n",
       "      <th>44522</th>\n",
       "      <td>9471</td>\n",
       "      <td>TESS</td>\n",
       "      <td>./dataset/tess\\YAF_disgust\\YAF_take_disgust.wav</td>\n",
       "      <td>YAF_take_disgust.wav</td>\n",
       "      <td>.wav</td>\n",
       "      <td>2.467805</td>\n",
       "      <td>Disgust</td>\n",
       "    </tr>\n",
       "    <tr>\n",
       "      <th>39262</th>\n",
       "      <td>9472</td>\n",
       "      <td>MLEND</td>\n",
       "      <td>./dataset/mlend\\MLEndSND_Public\\43418.wav</td>\n",
       "      <td>43418.wav</td>\n",
       "      <td>.wav</td>\n",
       "      <td>1.195828</td>\n",
       "      <td>Bored</td>\n",
       "    </tr>\n",
       "    <tr>\n",
       "      <th>15453</th>\n",
       "      <td>9473</td>\n",
       "      <td>MLEND</td>\n",
       "      <td>./dataset/mlend\\MLEndSND_Public\\02459.wav</td>\n",
       "      <td>02459.wav</td>\n",
       "      <td>.wav</td>\n",
       "      <td>2.136236</td>\n",
       "      <td>Bored</td>\n",
       "    </tr>\n",
       "    <tr>\n",
       "      <th>20169</th>\n",
       "      <td>9474</td>\n",
       "      <td>MLEND</td>\n",
       "      <td>./dataset/mlend\\MLEndSND_Public\\10609.wav</td>\n",
       "      <td>10609.wav</td>\n",
       "      <td>.wav</td>\n",
       "      <td>1.799546</td>\n",
       "      <td>Question</td>\n",
       "    </tr>\n",
       "    <tr>\n",
       "      <th>27426</th>\n",
       "      <td>9475</td>\n",
       "      <td>MLEND</td>\n",
       "      <td>./dataset/mlend\\MLEndSND_Public\\23072.wav</td>\n",
       "      <td>23072.wav</td>\n",
       "      <td>.wav</td>\n",
       "      <td>1.311927</td>\n",
       "      <td>Question</td>\n",
       "    </tr>\n",
       "  </tbody>\n",
       "</table>\n",
       "<p>9476 rows × 7 columns</p>\n",
       "</div>"
      ],
      "text/plain": [
       "         Id  Dataset                                         Filepath  \\\n",
       "61866     0      ESD           ./dataset/esd\\0020\\Sad\\0020_001395.wav   \n",
       "13465     1     MELD             ./dataset/meld\\train\\dia930_utt5.mp4   \n",
       "28237     2    MLEND        ./dataset/mlend\\MLEndSND_Public\\24481.wav   \n",
       "101       3  CREMA-D   ./dataset/crema-d\\AudioWAV\\1002_IEO_SAD_HI.wav   \n",
       "45924     4      ESD         ./dataset/esd\\0011\\Angry\\0011_000373.wav   \n",
       "...     ...      ...                                              ...   \n",
       "44522  9471     TESS  ./dataset/tess\\YAF_disgust\\YAF_take_disgust.wav   \n",
       "39262  9472    MLEND        ./dataset/mlend\\MLEndSND_Public\\43418.wav   \n",
       "15453  9473    MLEND        ./dataset/mlend\\MLEndSND_Public\\02459.wav   \n",
       "20169  9474    MLEND        ./dataset/mlend\\MLEndSND_Public\\10609.wav   \n",
       "27426  9475    MLEND        ./dataset/mlend\\MLEndSND_Public\\23072.wav   \n",
       "\n",
       "                   Filename   Ext  Duration   Emotion  \n",
       "61866       0020_001395.wav  .wav  2.624000       Sad  \n",
       "13465       dia930_utt5.mp4  .mp4  1.918582   Neutral  \n",
       "28237             24481.wav  .wav  1.706667     Bored  \n",
       "101     1002_IEO_SAD_HI.wav  .wav  2.736063       Sad  \n",
       "45924       0011_000373.wav  .wav  2.339000     Anger  \n",
       "...                     ...   ...       ...       ...  \n",
       "44522  YAF_take_disgust.wav  .wav  2.467805   Disgust  \n",
       "39262             43418.wav  .wav  1.195828     Bored  \n",
       "15453             02459.wav  .wav  2.136236     Bored  \n",
       "20169             10609.wav  .wav  1.799546  Question  \n",
       "27426             23072.wav  .wav  1.311927  Question  \n",
       "\n",
       "[9476 rows x 7 columns]"
      ]
     },
     "execution_count": 85,
     "metadata": {},
     "output_type": "execute_result"
    }
   ],
   "source": [
    "val_df"
   ]
  },
  {
   "cell_type": "code",
   "execution_count": 86,
   "id": "67ff1cc3",
   "metadata": {},
   "outputs": [
    {
     "data": {
      "text/plain": [
       "Emotion\n",
       "Neutral     2226\n",
       "Happy       1914\n",
       "Question    1138\n",
       "Bored       1098\n",
       "Anger        915\n",
       "Sad          857\n",
       "Surprise     728\n",
       "Fear         308\n",
       "Disgust      292\n",
       "Name: count, dtype: int64"
      ]
     },
     "execution_count": 86,
     "metadata": {},
     "output_type": "execute_result"
    }
   ],
   "source": [
    "val_df['Emotion'].value_counts()"
   ]
  },
  {
   "cell_type": "code",
   "execution_count": 87,
   "id": "0e60b830",
   "metadata": {},
   "outputs": [],
   "source": [
    "val_df.to_csv(\"./val_dataset.csv\", index=False)"
   ]
  },
  {
   "cell_type": "code",
   "execution_count": 88,
   "id": "d3da426b",
   "metadata": {},
   "outputs": [
    {
     "data": {
      "application/vnd.microsoft.datawrangler.viewer.v0+json": {
       "columns": [
        {
         "name": "index",
         "rawType": "int64",
         "type": "integer"
        },
        {
         "name": "Id",
         "rawType": "int64",
         "type": "integer"
        },
        {
         "name": "Dataset",
         "rawType": "object",
         "type": "string"
        },
        {
         "name": "Filepath",
         "rawType": "object",
         "type": "string"
        },
        {
         "name": "Filename",
         "rawType": "object",
         "type": "string"
        },
        {
         "name": "Ext",
         "rawType": "object",
         "type": "string"
        },
        {
         "name": "Duration",
         "rawType": "float64",
         "type": "float"
        },
        {
         "name": "Emotion",
         "rawType": "object",
         "type": "string"
        }
       ],
       "conversionMethod": "pd.DataFrame",
       "ref": "7d6c0ac5-3848-4840-8cac-2fa54b331d1c",
       "rows": [
        [
         "14943",
         "0",
         "MLEND",
         "./dataset/mlend\\MLEndSND_Public\\01620.wav",
         "01620.wav",
         ".wav",
         "1.578957",
         "Neutral"
        ],
        [
         "62914",
         "1",
         "JL-CORPUS",
         "./dataset/jl-corpus/Raw JL corpus (unchecked and unannotated)/JL(wav+txt)\\male1_sad_5a_1.wav",
         "male1_sad_5a_1.wav",
         ".wav",
         "2.35",
         "Sad"
        ],
        [
         "16898",
         "2",
         "MLEND",
         "./dataset/mlend\\MLEndSND_Public\\04997.wav",
         "04997.wav",
         ".wav",
         "1.172608",
         "Question"
        ],
        [
         "58663",
         "3",
         "ESD",
         "./dataset/esd\\0018\\Surprise\\0018_001454.wav",
         "0018_001454.wav",
         ".wav",
         "2.836",
         "Surprise"
        ],
        [
         "17192",
         "4",
         "MLEND",
         "./dataset/mlend\\MLEndSND_Public\\05521.wav",
         "05521.wav",
         ".wav",
         "1.462857",
         "Neutral"
        ],
        [
         "15687",
         "5",
         "MLEND",
         "./dataset/mlend\\MLEndSND_Public\\02888.wav",
         "02888.wav",
         ".wav",
         "1.15873",
         "Question"
        ],
        [
         "33294",
         "6",
         "MLEND",
         "./dataset/mlend\\MLEndSND_Public\\33135.wav",
         "33135.wav",
         ".wav",
         "1.149388",
         "Neutral"
        ],
        [
         "4163",
         "7",
         "CREMA-D",
         "./dataset/crema-d\\AudioWAV\\1052_TAI_ANG_XX.wav",
         "1052_TAI_ANG_XX.wav",
         ".wav",
         "2.836188",
         "Anger"
        ],
        [
         "55794",
         "8",
         "ESD",
         "./dataset/esd\\0017\\Neutral\\0017_000228.wav",
         "0017_000228.wav",
         ".wav",
         "2.799",
         "Neutral"
        ],
        [
         "42605",
         "9",
         "SAVEE",
         "./dataset/savee\\JK_a12.wav",
         "JK_a12.wav",
         ".wav",
         "3.242449",
         "Anger"
        ],
        [
         "29367",
         "10",
         "MLEND",
         "./dataset/mlend\\MLEndSND_Public\\26373.wav",
         "26373.wav",
         ".wav",
         "2.24381",
         "Neutral"
        ],
        [
         "21798",
         "11",
         "MLEND",
         "./dataset/mlend\\MLEndSND_Public\\13399.wav",
         "13399.wav",
         ".wav",
         "1.323537",
         "Neutral"
        ],
        [
         "37437",
         "12",
         "MLEND",
         "./dataset/mlend\\MLEndSND_Public\\40183.wav",
         "40183.wav",
         ".wav",
         "1.962086",
         "Question"
        ],
        [
         "39851",
         "13",
         "MLEND",
         "./dataset/mlend\\MLEndSND_Public\\44409.wav",
         "44409.wav",
         ".wav",
         "1.149388",
         "Neutral"
        ],
        [
         "49559",
         "14",
         "ESD",
         "./dataset/esd\\0013\\Angry\\0013_000646.wav",
         "0013_000646.wav",
         ".wav",
         "1.795",
         "Anger"
        ],
        [
         "59379",
         "15",
         "ESD",
         "./dataset/esd\\0019\\Angry\\0019_000427.wav",
         "0019_000427.wav",
         ".wav",
         "1.933",
         "Anger"
        ],
        [
         "32251",
         "16",
         "MLEND",
         "./dataset/mlend\\MLEndSND_Public\\31361.wav",
         "31361.wav",
         ".wav",
         "1.950476",
         "Question"
        ],
        [
         "58976",
         "17",
         "ESD",
         "./dataset/esd\\0019\\Neutral\\0019_000020.wav",
         "0019_000020.wav",
         ".wav",
         "2.831",
         "Neutral"
        ],
        [
         "25894",
         "18",
         "MLEND",
         "./dataset/mlend\\MLEndSND_Public\\20417.wav",
         "20417.wav",
         ".wav",
         "1.114558",
         "Bored"
        ],
        [
         "62126",
         "19",
         "ESD",
         "./dataset/esd\\0020\\Surprise\\0020_001662.wav",
         "0020_001662.wav",
         ".wav",
         "2.415",
         "Surprise"
        ],
        [
         "36867",
         "20",
         "MLEND",
         "./dataset/mlend\\MLEndSND_Public\\39199.wav",
         "39199.wav",
         ".wav",
         "1.102948",
         "Question"
        ],
        [
         "9159",
         "21",
         "MELD",
         "./dataset/meld\\train\\dia319_utt22.mp4",
         "dia319_utt22.mp4",
         ".mp4",
         "2.252248",
         "Disgust"
        ],
        [
         "31073",
         "22",
         "MLEND",
         "./dataset/mlend\\MLEndSND_Public\\29318.wav",
         "29318.wav",
         ".wav",
         "1.195828",
         "Happy"
        ],
        [
         "35118",
         "23",
         "MLEND",
         "./dataset/mlend\\MLEndSND_Public\\36191.wav",
         "36191.wav",
         ".wav",
         "1.381587",
         "Happy"
        ],
        [
         "26719",
         "24",
         "MLEND",
         "./dataset/mlend\\MLEndSND_Public\\21860.wav",
         "21860.wav",
         ".wav",
         "2.020136",
         "Bored"
        ],
        [
         "29553",
         "25",
         "MLEND",
         "./dataset/mlend\\MLEndSND_Public\\26708.wav",
         "26708.wav",
         ".wav",
         "1.26322",
         "Happy"
        ],
        [
         "13923",
         "26",
         "MELD",
         "./dataset/meld\\train\\dia990_utt16.mp4",
         "dia990_utt16.mp4",
         ".mp4",
         "1.209541",
         "Happy"
        ],
        [
         "5357",
         "27",
         "CREMA-D",
         "./dataset/crema-d\\AudioWAV\\1067_ITS_DIS_XX.wav",
         "1067_ITS_DIS_XX.wav",
         ".wav",
         "3.403375",
         "Disgust"
        ],
        [
         "49103",
         "28",
         "ESD",
         "./dataset/esd\\0013\\Neutral\\0013_000156.wav",
         "0013_000156.wav",
         ".wav",
         "2.119",
         "Neutral"
        ],
        [
         "48662",
         "29",
         "ESD",
         "./dataset/esd\\0012\\Surprise\\0012_001429.wav",
         "0012_001429.wav",
         ".wav",
         "2.798",
         "Surprise"
        ],
        [
         "62697",
         "30",
         "JL-CORPUS",
         "./dataset/jl-corpus/Raw JL corpus (unchecked and unannotated)/JL(wav+txt)\\male1_angry_10b_2.wav",
         "male1_angry_10b_2.wav",
         ".wav",
         "2.55",
         "Anger"
        ],
        [
         "46011",
         "31",
         "ESD",
         "./dataset/esd\\0011\\Angry\\0011_000461.wav",
         "0011_000461.wav",
         ".wav",
         "2.798",
         "Anger"
        ],
        [
         "36054",
         "32",
         "MLEND",
         "./dataset/mlend\\MLEndSND_Public\\37804.wav",
         "37804.wav",
         ".wav",
         "1.671837",
         "Question"
        ],
        [
         "20448",
         "33",
         "MLEND",
         "./dataset/mlend\\MLEndSND_Public\\11073.wav",
         "11073.wav",
         ".wav",
         "1.091338",
         "Question"
        ],
        [
         "51677",
         "34",
         "ESD",
         "./dataset/esd\\0014\\Sad\\0014_001209.wav",
         "0014_001209.wav",
         ".wav",
         "3.979",
         "Sad"
        ],
        [
         "43337",
         "35",
         "TESS",
         "./dataset/tess\\OAF_Fear\\OAF_tough_fear.wav",
         "OAF_tough_fear.wav",
         ".wav",
         "1.664209",
         "Fear"
        ],
        [
         "52609",
         "36",
         "ESD",
         "./dataset/esd\\0015\\Angry\\0015_000440.wav",
         "0015_000440.wav",
         ".wav",
         "2.604",
         "Anger"
        ],
        [
         "26760",
         "37",
         "MLEND",
         "./dataset/mlend\\MLEndSND_Public\\21924.wav",
         "21924.wav",
         ".wav",
         "2.321995",
         "Question"
        ],
        [
         "17453",
         "38",
         "MLEND",
         "./dataset/mlend\\MLEndSND_Public\\05973.wav",
         "05973.wav",
         ".wav",
         "2.136236",
         "Question"
        ],
        [
         "51376",
         "39",
         "ESD",
         "./dataset/esd\\0014\\Happy\\0014_000883.wav",
         "0014_000883.wav",
         ".wav",
         "2.773",
         "Happy"
        ],
        [
         "9906",
         "40",
         "MELD",
         "./dataset/meld\\train\\dia431_utt8.mp4",
         "dia431_utt8.mp4",
         ".mp4",
         "1.584915",
         "Happy"
        ],
        [
         "7840",
         "41",
         "MELD",
         "./dataset/meld\\train\\dia130_utt6.mp4",
         "dia130_utt6.mp4",
         ".mp4",
         "2.335665",
         "Neutral"
        ],
        [
         "48444",
         "42",
         "ESD",
         "./dataset/esd\\0012\\Sad\\0012_001196.wav",
         "0012_001196.wav",
         ".wav",
         "2.75",
         "Sad"
        ],
        [
         "15999",
         "43",
         "MLEND",
         "./dataset/mlend\\MLEndSND_Public\\03452.wav",
         "03452.wav",
         ".wav",
         "1.242268",
         "Bored"
        ],
        [
         "31768",
         "44",
         "MLEND",
         "./dataset/mlend\\MLEndSND_Public\\30559.wav",
         "30559.wav",
         ".wav",
         "1.044898",
         "Neutral"
        ],
        [
         "45890",
         "45",
         "ESD",
         "./dataset/esd\\0011\\Neutral\\0011_000339.wav",
         "0011_000339.wav",
         ".wav",
         "2.183",
         "Neutral"
        ],
        [
         "30805",
         "46",
         "MLEND",
         "./dataset/mlend\\MLEndSND_Public\\28855.wav",
         "28855.wav",
         ".wav",
         "1.149388",
         "Bored"
        ],
        [
         "2172",
         "47",
         "CREMA-D",
         "./dataset/crema-d\\AudioWAV\\1028_IOM_HAP_XX.wav",
         "1028_IOM_HAP_XX.wav",
         ".wav",
         "2.035375",
         "Happy"
        ],
        [
         "54066",
         "48",
         "ESD",
         "./dataset/esd\\0016\\Neutral\\0016_000191.wav",
         "0016_000191.wav",
         ".wav",
         "2.256",
         "Neutral"
        ],
        [
         "30201",
         "49",
         "MLEND",
         "./dataset/mlend\\MLEndSND_Public\\27806.wav",
         "27806.wav",
         ".wav",
         "1.044898",
         "Bored"
        ]
       ],
       "shape": {
        "columns": 7,
        "rows": 9477
       }
      },
      "text/html": [
       "<div>\n",
       "<style scoped>\n",
       "    .dataframe tbody tr th:only-of-type {\n",
       "        vertical-align: middle;\n",
       "    }\n",
       "\n",
       "    .dataframe tbody tr th {\n",
       "        vertical-align: top;\n",
       "    }\n",
       "\n",
       "    .dataframe thead th {\n",
       "        text-align: right;\n",
       "    }\n",
       "</style>\n",
       "<table border=\"1\" class=\"dataframe\">\n",
       "  <thead>\n",
       "    <tr style=\"text-align: right;\">\n",
       "      <th></th>\n",
       "      <th>Id</th>\n",
       "      <th>Dataset</th>\n",
       "      <th>Filepath</th>\n",
       "      <th>Filename</th>\n",
       "      <th>Ext</th>\n",
       "      <th>Duration</th>\n",
       "      <th>Emotion</th>\n",
       "    </tr>\n",
       "  </thead>\n",
       "  <tbody>\n",
       "    <tr>\n",
       "      <th>14943</th>\n",
       "      <td>0</td>\n",
       "      <td>MLEND</td>\n",
       "      <td>./dataset/mlend\\MLEndSND_Public\\01620.wav</td>\n",
       "      <td>01620.wav</td>\n",
       "      <td>.wav</td>\n",
       "      <td>1.578957</td>\n",
       "      <td>Neutral</td>\n",
       "    </tr>\n",
       "    <tr>\n",
       "      <th>62914</th>\n",
       "      <td>1</td>\n",
       "      <td>JL-CORPUS</td>\n",
       "      <td>./dataset/jl-corpus/Raw JL corpus (unchecked a...</td>\n",
       "      <td>male1_sad_5a_1.wav</td>\n",
       "      <td>.wav</td>\n",
       "      <td>2.350000</td>\n",
       "      <td>Sad</td>\n",
       "    </tr>\n",
       "    <tr>\n",
       "      <th>16898</th>\n",
       "      <td>2</td>\n",
       "      <td>MLEND</td>\n",
       "      <td>./dataset/mlend\\MLEndSND_Public\\04997.wav</td>\n",
       "      <td>04997.wav</td>\n",
       "      <td>.wav</td>\n",
       "      <td>1.172608</td>\n",
       "      <td>Question</td>\n",
       "    </tr>\n",
       "    <tr>\n",
       "      <th>58663</th>\n",
       "      <td>3</td>\n",
       "      <td>ESD</td>\n",
       "      <td>./dataset/esd\\0018\\Surprise\\0018_001454.wav</td>\n",
       "      <td>0018_001454.wav</td>\n",
       "      <td>.wav</td>\n",
       "      <td>2.836000</td>\n",
       "      <td>Surprise</td>\n",
       "    </tr>\n",
       "    <tr>\n",
       "      <th>17192</th>\n",
       "      <td>4</td>\n",
       "      <td>MLEND</td>\n",
       "      <td>./dataset/mlend\\MLEndSND_Public\\05521.wav</td>\n",
       "      <td>05521.wav</td>\n",
       "      <td>.wav</td>\n",
       "      <td>1.462857</td>\n",
       "      <td>Neutral</td>\n",
       "    </tr>\n",
       "    <tr>\n",
       "      <th>...</th>\n",
       "      <td>...</td>\n",
       "      <td>...</td>\n",
       "      <td>...</td>\n",
       "      <td>...</td>\n",
       "      <td>...</td>\n",
       "      <td>...</td>\n",
       "      <td>...</td>\n",
       "    </tr>\n",
       "    <tr>\n",
       "      <th>45211</th>\n",
       "      <td>9472</td>\n",
       "      <td>TESS</td>\n",
       "      <td>./dataset/tess\\YAF_pleasant_surprised\\YAF_half...</td>\n",
       "      <td>YAF_half_ps.wav</td>\n",
       "      <td>.wav</td>\n",
       "      <td>1.912182</td>\n",
       "      <td>Surprise</td>\n",
       "    </tr>\n",
       "    <tr>\n",
       "      <th>59598</th>\n",
       "      <td>9473</td>\n",
       "      <td>ESD</td>\n",
       "      <td>./dataset/esd\\0019\\Angry\\0019_000651.wav</td>\n",
       "      <td>0019_000651.wav</td>\n",
       "      <td>.wav</td>\n",
       "      <td>2.997000</td>\n",
       "      <td>Anger</td>\n",
       "    </tr>\n",
       "    <tr>\n",
       "      <th>26618</th>\n",
       "      <td>9474</td>\n",
       "      <td>MLEND</td>\n",
       "      <td>./dataset/mlend\\MLEndSND_Public\\21688.wav</td>\n",
       "      <td>21688.wav</td>\n",
       "      <td>.wav</td>\n",
       "      <td>1.195828</td>\n",
       "      <td>Neutral</td>\n",
       "    </tr>\n",
       "    <tr>\n",
       "      <th>60996</th>\n",
       "      <td>9475</td>\n",
       "      <td>ESD</td>\n",
       "      <td>./dataset/esd\\0020\\Angry\\0020_000377.wav</td>\n",
       "      <td>0020_000377.wav</td>\n",
       "      <td>.wav</td>\n",
       "      <td>2.071000</td>\n",
       "      <td>Anger</td>\n",
       "    </tr>\n",
       "    <tr>\n",
       "      <th>40032</th>\n",
       "      <td>9476</td>\n",
       "      <td>MLEND</td>\n",
       "      <td>./dataset/mlend\\MLEndSND_Public\\44715.wav</td>\n",
       "      <td>44715.wav</td>\n",
       "      <td>.wav</td>\n",
       "      <td>1.393197</td>\n",
       "      <td>Question</td>\n",
       "    </tr>\n",
       "  </tbody>\n",
       "</table>\n",
       "<p>9477 rows × 7 columns</p>\n",
       "</div>"
      ],
      "text/plain": [
       "         Id    Dataset                                           Filepath  \\\n",
       "14943     0      MLEND          ./dataset/mlend\\MLEndSND_Public\\01620.wav   \n",
       "62914     1  JL-CORPUS  ./dataset/jl-corpus/Raw JL corpus (unchecked a...   \n",
       "16898     2      MLEND          ./dataset/mlend\\MLEndSND_Public\\04997.wav   \n",
       "58663     3        ESD        ./dataset/esd\\0018\\Surprise\\0018_001454.wav   \n",
       "17192     4      MLEND          ./dataset/mlend\\MLEndSND_Public\\05521.wav   \n",
       "...     ...        ...                                                ...   \n",
       "45211  9472       TESS  ./dataset/tess\\YAF_pleasant_surprised\\YAF_half...   \n",
       "59598  9473        ESD           ./dataset/esd\\0019\\Angry\\0019_000651.wav   \n",
       "26618  9474      MLEND          ./dataset/mlend\\MLEndSND_Public\\21688.wav   \n",
       "60996  9475        ESD           ./dataset/esd\\0020\\Angry\\0020_000377.wav   \n",
       "40032  9476      MLEND          ./dataset/mlend\\MLEndSND_Public\\44715.wav   \n",
       "\n",
       "                 Filename   Ext  Duration   Emotion  \n",
       "14943           01620.wav  .wav  1.578957   Neutral  \n",
       "62914  male1_sad_5a_1.wav  .wav  2.350000       Sad  \n",
       "16898           04997.wav  .wav  1.172608  Question  \n",
       "58663     0018_001454.wav  .wav  2.836000  Surprise  \n",
       "17192           05521.wav  .wav  1.462857   Neutral  \n",
       "...                   ...   ...       ...       ...  \n",
       "45211     YAF_half_ps.wav  .wav  1.912182  Surprise  \n",
       "59598     0019_000651.wav  .wav  2.997000     Anger  \n",
       "26618           21688.wav  .wav  1.195828   Neutral  \n",
       "60996     0020_000377.wav  .wav  2.071000     Anger  \n",
       "40032           44715.wav  .wav  1.393197  Question  \n",
       "\n",
       "[9477 rows x 7 columns]"
      ]
     },
     "execution_count": 88,
     "metadata": {},
     "output_type": "execute_result"
    }
   ],
   "source": [
    "test_df"
   ]
  },
  {
   "cell_type": "code",
   "execution_count": 89,
   "id": "cee8f832",
   "metadata": {},
   "outputs": [
    {
     "data": {
      "text/plain": [
       "Emotion\n",
       "Neutral     2226\n",
       "Happy       1914\n",
       "Question    1139\n",
       "Bored       1098\n",
       "Anger        916\n",
       "Sad          857\n",
       "Surprise     728\n",
       "Fear         308\n",
       "Disgust      291\n",
       "Name: count, dtype: int64"
      ]
     },
     "execution_count": 89,
     "metadata": {},
     "output_type": "execute_result"
    }
   ],
   "source": [
    "test_df['Emotion'].value_counts()"
   ]
  },
  {
   "cell_type": "code",
   "execution_count": 90,
   "id": "8bb53377",
   "metadata": {},
   "outputs": [],
   "source": [
    "test_df.to_csv(\"./test_dataset.csv\", index=False)"
   ]
  },
  {
   "cell_type": "code",
   "execution_count": null,
   "id": "0e85e496",
   "metadata": {},
   "outputs": [],
   "source": []
  }
 ],
 "metadata": {
  "kernelspec": {
   "display_name": "myenv",
   "language": "python",
   "name": "python3"
  },
  "language_info": {
   "codemirror_mode": {
    "name": "ipython",
    "version": 3
   },
   "file_extension": ".py",
   "mimetype": "text/x-python",
   "name": "python",
   "nbconvert_exporter": "python",
   "pygments_lexer": "ipython3",
   "version": "3.10.11"
  }
 },
 "nbformat": 4,
 "nbformat_minor": 5
}
