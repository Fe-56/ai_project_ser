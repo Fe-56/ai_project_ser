{
 "cells": [
  {
   "cell_type": "markdown",
   "id": "62324c04",
   "metadata": {},
   "source": [
    "# Make English Speech Dataset\n",
    "- Combining 8 English Speech Dataset\n",
    "- Dataset: CREMA-D, MELD, MLEND, RAVDESS, SAVEE, TESS, ESD, JL-Corpus"
   ]
  },
  {
   "cell_type": "markdown",
   "id": "ed70dbbc",
   "metadata": {},
   "source": [
    "## 0. Import Libraries"
   ]
  },
  {
   "cell_type": "code",
   "execution_count": 1,
   "id": "7a2c1ed4",
   "metadata": {
    "ExecuteTime": {
     "end_time": "2023-11-01T02:09:32.712372Z",
     "start_time": "2023-11-01T02:09:30.079134Z"
    }
   },
   "outputs": [],
   "source": [
    "import numpy as np\n",
    "import pandas as pd\n",
    "import matplotlib.pyplot as plt\n",
    "import seaborn as sns\n",
    "\n",
    "import os\n",
    "import glob\n",
    "import tqdm"
   ]
  },
  {
   "cell_type": "code",
   "execution_count": 2,
   "id": "6eaac34f",
   "metadata": {
    "ExecuteTime": {
     "end_time": "2023-11-01T02:09:32.717287Z",
     "start_time": "2023-11-01T02:09:32.712372Z"
    }
   },
   "outputs": [
    {
     "name": "stdout",
     "output_type": "stream",
     "text": [
      "Numpy Version: 2.1.3\n",
      "Pandas Version: 2.2.3\n"
     ]
    }
   ],
   "source": [
    "print(\"Numpy Version:\", np.__version__)\n",
    "print(\"Pandas Version:\", pd.__version__)"
   ]
  },
  {
   "cell_type": "markdown",
   "id": "19dc495f",
   "metadata": {},
   "source": [
    "## 1. Load Dataset and Make Sub Dataframes\n",
    "### 1) CREMA-D\n",
    "> https://github.com/CheyneyComputerScience/CREMA-D\n",
    "\n",
    "- `VideoDemographics.csv` - a mapping of ActorID (the first 4 digits of each video file) to Age, Sex, Race, and Ethicity.\n",
    "```shell\n",
    "\"ActorID\" - the first 4 digits of the video/audio file that identifies the actor in the video.\n",
    "\"Age\" - the age in years of the actor at the time of the recording\n",
    "\"Sex\" - the binary sex that the actor identified\n",
    "\"Race\" - African American, Asian, Caucasian, or Unknown\n",
    "\"Ethnicity\" - Hispanic or Not Hispanic\n",
    "```\n",
    "- Actors spoke from a selection of 12 sentences (in parentheses is the three letter acronym used in the second part of the filename):\n",
    "```\n",
    "It's eleven o'clock (IEO).\n",
    "That is exactly what happened (TIE).\n",
    "I'm on my way to the meeting (IOM).\n",
    "I wonder what this is about (IWW).\n",
    "The airplane is almost full (TAI).\n",
    "Maybe tomorrow it will be cold (MTI).\n",
    "I would like a new alarm clock (IWL)\n",
    "I think I have a doctor's appointment (ITH).\n",
    "Don't forget a jacket (DFA).\n",
    "I think I've seen this before (ITS).\n",
    "The surface is slick (TSI).\n",
    "We'll stop in a couple of minutes (WSI).\n",
    "```\n",
    "- The sentences were presented using different emotion (in parentheses is the three letter code used in the third part of the filename):\n",
    "```\n",
    "Anger (ANG)\n",
    "Disgust (DIS)\n",
    "Fear (FEA)\n",
    "Happy/Joy (HAP)\n",
    "Neutral (NEU)\n",
    "Sad (SAD)\n",
    "```\n",
    "- Emotion level (in parentheses is the two letter code used in the fourth part of the filename):\n",
    "```\n",
    "Low (LO)\n",
    "Medium (MD)\n",
    "High (HI)\n",
    "Unspecified (XX)\n",
    "```"
   ]
  },
  {
   "cell_type": "code",
   "execution_count": 3,
   "id": "6ccd81fb",
   "metadata": {
    "ExecuteTime": {
     "end_time": "2023-11-01T02:11:01.898213Z",
     "start_time": "2023-11-01T02:11:01.856966Z"
    }
   },
   "outputs": [
    {
     "name": "stdout",
     "output_type": "stream",
     "text": [
      "['1001_DFA_ANG_XX.wav', '1001_DFA_DIS_XX.wav', '1001_DFA_FEA_XX.wav', '1001_DFA_HAP_XX.wav', '1001_DFA_NEU_XX.wav']\n"
     ]
    }
   ],
   "source": [
    "crema_dir = './dataset/crema-d'\n",
    "crema_filepath = glob.glob(os.path.join(crema_dir, \"AudioWAV\", \"*.wav\"))\n",
    "crema_filename = os.listdir(os.path.join(crema_dir, \"AudioWAV\"))\n",
    "\n",
    "print(crema_filename[:5])"
   ]
  },
  {
   "cell_type": "code",
   "execution_count": 4,
   "id": "5308d60d",
   "metadata": {
    "ExecuteTime": {
     "end_time": "2023-11-01T02:11:02.062894Z",
     "start_time": "2023-11-01T02:11:02.048320Z"
    }
   },
   "outputs": [
    {
     "name": "stdout",
     "output_type": "stream",
     "text": [
      "The Number of CREMA-D Dataset: 7442\n"
     ]
    }
   ],
   "source": [
    "crema_count = len(crema_filename)\n",
    "print(\"The Number of CREMA-D Dataset:\", crema_count)"
   ]
  },
  {
   "cell_type": "code",
   "execution_count": 5,
   "id": "c2201aca",
   "metadata": {
    "ExecuteTime": {
     "end_time": "2023-11-01T02:11:02.748495Z",
     "start_time": "2023-11-01T02:11:02.736846Z"
    }
   },
   "outputs": [],
   "source": [
    "feature_list = []\n",
    "for fn in crema_filename:\n",
    "    feature_list.append(fn.split(\".wav\")[0].split(\"_\"))"
   ]
  },
  {
   "cell_type": "code",
   "execution_count": 6,
   "id": "0771d397",
   "metadata": {
    "ExecuteTime": {
     "end_time": "2023-11-01T02:11:02.981190Z",
     "start_time": "2023-11-01T02:11:02.965264Z"
    }
   },
   "outputs": [
    {
     "name": "stdout",
     "output_type": "stream",
     "text": [
      "(7442, 4)\n",
      "[['1001', 'DFA', 'ANG', 'XX'], ['1001', 'DFA', 'DIS', 'XX'], ['1001', 'DFA', 'FEA', 'XX'], ['1001', 'DFA', 'HAP', 'XX'], ['1001', 'DFA', 'NEU', 'XX'], ['1001', 'DFA', 'SAD', 'XX'], ['1001', 'IEO', 'ANG', 'HI'], ['1001', 'IEO', 'ANG', 'LO'], ['1001', 'IEO', 'ANG', 'MD'], ['1001', 'IEO', 'DIS', 'HI']]\n"
     ]
    }
   ],
   "source": [
    "print(np.shape(feature_list))\n",
    "print(feature_list[:10])"
   ]
  },
  {
   "cell_type": "code",
   "execution_count": 7,
   "id": "e066e244",
   "metadata": {},
   "outputs": [],
   "source": [
    "crema_ext = [os.path.splitext(fn)[-1] for fn in crema_filename]"
   ]
  },
  {
   "cell_type": "code",
   "execution_count": 8,
   "id": "853dad7c",
   "metadata": {
    "ExecuteTime": {
     "end_time": "2023-11-01T02:11:04.747108Z",
     "start_time": "2023-11-01T02:11:04.728391Z"
    }
   },
   "outputs": [],
   "source": [
    "crema_emotion_list = {\"ANG\":\"Anger\", \"DIS\":\"Disgust\", \"FEA\":\"Fear\", \"HAP\":\"Happy\", \"NEU\":\"Neutral\", \"SAD\":\"Sad\"}\n",
    "crema_emotion = [crema_emotion_list[f[2]] for f in feature_list]"
   ]
  },
  {
   "cell_type": "code",
   "execution_count": 9,
   "id": "970997ff",
   "metadata": {
    "ExecuteTime": {
     "end_time": "2023-11-01T02:36:48.157331Z",
     "start_time": "2023-11-01T02:36:48.151673Z"
    }
   },
   "outputs": [],
   "source": [
    "crema_df = pd.DataFrame(index = range(0, crema_count), \n",
    "                  columns = ['Id', 'Dataset', 'Filepath', 'Filename', 'Ext', 'Emotion'])"
   ]
  },
  {
   "cell_type": "code",
   "execution_count": 10,
   "id": "e222d379",
   "metadata": {
    "ExecuteTime": {
     "end_time": "2023-11-01T02:36:48.392707Z",
     "start_time": "2023-11-01T02:36:48.361356Z"
    }
   },
   "outputs": [],
   "source": [
    "crema_df['Dataset'] = ['CREMA-D'] * crema_count\n",
    "crema_df['Filepath'] = crema_filepath\n",
    "crema_df['Filename'] = crema_filename\n",
    "crema_df['Ext'] = crema_ext\n",
    "crema_df['Emotion'] = crema_emotion"
   ]
  },
  {
   "cell_type": "code",
   "execution_count": 11,
   "id": "37c72f6e",
   "metadata": {
    "ExecuteTime": {
     "end_time": "2023-11-01T02:36:48.592881Z",
     "start_time": "2023-11-01T02:36:48.577806Z"
    }
   },
   "outputs": [
    {
     "data": {
      "application/vnd.microsoft.datawrangler.viewer.v0+json": {
       "columns": [
        {
         "name": "index",
         "rawType": "int64",
         "type": "integer"
        },
        {
         "name": "Id",
         "rawType": "object",
         "type": "unknown"
        },
        {
         "name": "Dataset",
         "rawType": "object",
         "type": "string"
        },
        {
         "name": "Filepath",
         "rawType": "object",
         "type": "string"
        },
        {
         "name": "Filename",
         "rawType": "object",
         "type": "string"
        },
        {
         "name": "Ext",
         "rawType": "object",
         "type": "string"
        },
        {
         "name": "Emotion",
         "rawType": "object",
         "type": "string"
        }
       ],
       "conversionMethod": "pd.DataFrame",
       "ref": "88bcfc10-f752-4654-b5a8-8334b541e79d",
       "rows": [
        [
         "0",
         null,
         "CREMA-D",
         "./dataset/crema-d\\AudioWAV\\1001_DFA_ANG_XX.wav",
         "1001_DFA_ANG_XX.wav",
         ".wav",
         "Anger"
        ],
        [
         "1",
         null,
         "CREMA-D",
         "./dataset/crema-d\\AudioWAV\\1001_DFA_DIS_XX.wav",
         "1001_DFA_DIS_XX.wav",
         ".wav",
         "Disgust"
        ],
        [
         "2",
         null,
         "CREMA-D",
         "./dataset/crema-d\\AudioWAV\\1001_DFA_FEA_XX.wav",
         "1001_DFA_FEA_XX.wav",
         ".wav",
         "Fear"
        ],
        [
         "3",
         null,
         "CREMA-D",
         "./dataset/crema-d\\AudioWAV\\1001_DFA_HAP_XX.wav",
         "1001_DFA_HAP_XX.wav",
         ".wav",
         "Happy"
        ],
        [
         "4",
         null,
         "CREMA-D",
         "./dataset/crema-d\\AudioWAV\\1001_DFA_NEU_XX.wav",
         "1001_DFA_NEU_XX.wav",
         ".wav",
         "Neutral"
        ]
       ],
       "shape": {
        "columns": 6,
        "rows": 5
       }
      },
      "text/html": [
       "<div>\n",
       "<style scoped>\n",
       "    .dataframe tbody tr th:only-of-type {\n",
       "        vertical-align: middle;\n",
       "    }\n",
       "\n",
       "    .dataframe tbody tr th {\n",
       "        vertical-align: top;\n",
       "    }\n",
       "\n",
       "    .dataframe thead th {\n",
       "        text-align: right;\n",
       "    }\n",
       "</style>\n",
       "<table border=\"1\" class=\"dataframe\">\n",
       "  <thead>\n",
       "    <tr style=\"text-align: right;\">\n",
       "      <th></th>\n",
       "      <th>Id</th>\n",
       "      <th>Dataset</th>\n",
       "      <th>Filepath</th>\n",
       "      <th>Filename</th>\n",
       "      <th>Ext</th>\n",
       "      <th>Emotion</th>\n",
       "    </tr>\n",
       "  </thead>\n",
       "  <tbody>\n",
       "    <tr>\n",
       "      <th>0</th>\n",
       "      <td>NaN</td>\n",
       "      <td>CREMA-D</td>\n",
       "      <td>./dataset/crema-d\\AudioWAV\\1001_DFA_ANG_XX.wav</td>\n",
       "      <td>1001_DFA_ANG_XX.wav</td>\n",
       "      <td>.wav</td>\n",
       "      <td>Anger</td>\n",
       "    </tr>\n",
       "    <tr>\n",
       "      <th>1</th>\n",
       "      <td>NaN</td>\n",
       "      <td>CREMA-D</td>\n",
       "      <td>./dataset/crema-d\\AudioWAV\\1001_DFA_DIS_XX.wav</td>\n",
       "      <td>1001_DFA_DIS_XX.wav</td>\n",
       "      <td>.wav</td>\n",
       "      <td>Disgust</td>\n",
       "    </tr>\n",
       "    <tr>\n",
       "      <th>2</th>\n",
       "      <td>NaN</td>\n",
       "      <td>CREMA-D</td>\n",
       "      <td>./dataset/crema-d\\AudioWAV\\1001_DFA_FEA_XX.wav</td>\n",
       "      <td>1001_DFA_FEA_XX.wav</td>\n",
       "      <td>.wav</td>\n",
       "      <td>Fear</td>\n",
       "    </tr>\n",
       "    <tr>\n",
       "      <th>3</th>\n",
       "      <td>NaN</td>\n",
       "      <td>CREMA-D</td>\n",
       "      <td>./dataset/crema-d\\AudioWAV\\1001_DFA_HAP_XX.wav</td>\n",
       "      <td>1001_DFA_HAP_XX.wav</td>\n",
       "      <td>.wav</td>\n",
       "      <td>Happy</td>\n",
       "    </tr>\n",
       "    <tr>\n",
       "      <th>4</th>\n",
       "      <td>NaN</td>\n",
       "      <td>CREMA-D</td>\n",
       "      <td>./dataset/crema-d\\AudioWAV\\1001_DFA_NEU_XX.wav</td>\n",
       "      <td>1001_DFA_NEU_XX.wav</td>\n",
       "      <td>.wav</td>\n",
       "      <td>Neutral</td>\n",
       "    </tr>\n",
       "  </tbody>\n",
       "</table>\n",
       "</div>"
      ],
      "text/plain": [
       "    Id  Dataset                                        Filepath  \\\n",
       "0  NaN  CREMA-D  ./dataset/crema-d\\AudioWAV\\1001_DFA_ANG_XX.wav   \n",
       "1  NaN  CREMA-D  ./dataset/crema-d\\AudioWAV\\1001_DFA_DIS_XX.wav   \n",
       "2  NaN  CREMA-D  ./dataset/crema-d\\AudioWAV\\1001_DFA_FEA_XX.wav   \n",
       "3  NaN  CREMA-D  ./dataset/crema-d\\AudioWAV\\1001_DFA_HAP_XX.wav   \n",
       "4  NaN  CREMA-D  ./dataset/crema-d\\AudioWAV\\1001_DFA_NEU_XX.wav   \n",
       "\n",
       "              Filename   Ext  Emotion  \n",
       "0  1001_DFA_ANG_XX.wav  .wav    Anger  \n",
       "1  1001_DFA_DIS_XX.wav  .wav  Disgust  \n",
       "2  1001_DFA_FEA_XX.wav  .wav     Fear  \n",
       "3  1001_DFA_HAP_XX.wav  .wav    Happy  \n",
       "4  1001_DFA_NEU_XX.wav  .wav  Neutral  "
      ]
     },
     "execution_count": 11,
     "metadata": {},
     "output_type": "execute_result"
    }
   ],
   "source": [
    "crema_df.head()"
   ]
  },
  {
   "cell_type": "markdown",
   "id": "ba15aaea",
   "metadata": {},
   "source": [
    "### 2) MELD\n",
    "> https://affective-meld.github.io/\n",
    "- There are `train`, `test` and `dev` data in MELD dataset\n",
    "- We only use `train`.\n",
    "\n",
    "- `train_sent_emo.csv`, `test_sent_emo.csv`\n",
    "```shell\n",
    "\"Sr No.\"\tSerial numbers of the utterances mainly for referencing the utterances in case of different versions or multiple copies with different subsets\n",
    "\"Utterance\"\tIndividual utterances from EmotionLines as a string.\n",
    "\"Speaker\"\tName of the speaker associated with the utterance.\n",
    "\"Emotion\"\tThe emotion (neutral, joy, sadness, anger, surprise, fear, disgust) expressed by the speaker in the utterance.\n",
    "\"Sentiment\"\tThe sentiment (positive, neutral, negative) expressed by the speaker in the utterance.\n",
    "\"Dialogue_ID\"\tThe index of the dialogue starting from 0.\n",
    "\"Utterance_ID\"\tThe index of the particular utterance in the dialogue starting from 0.\n",
    "\"Season\"\tThe season no. of Friends TV Show to which a particular utterance belongs.\n",
    "\"Episode\"\tThe episode no. of Friends TV Show in a particular season to which the utterance belongs.\n",
    "\"StartTime\"\tThe starting time of the utterance in the given episode in the format 'hh:mm:ss,ms'.\n",
    "\"EndTime\"\tThe ending time of the utterance in the given episode in the format 'hh:mm:ss,ms'.\n",
    "```"
   ]
  },
  {
   "cell_type": "code",
   "execution_count": 12,
   "id": "2a62d5ae",
   "metadata": {
    "ExecuteTime": {
     "end_time": "2023-11-01T02:36:51.623636Z",
     "start_time": "2023-11-01T02:36:51.575578Z"
    }
   },
   "outputs": [
    {
     "name": "stdout",
     "output_type": "stream",
     "text": [
      "['dia0_utt0.mp4', 'dia0_utt1.mp4', 'dia0_utt10.mp4', 'dia0_utt11.mp4', 'dia0_utt12.mp4']\n"
     ]
    }
   ],
   "source": [
    "meld_dir = './dataset/meld'\n",
    "\n",
    "meld_filepath = glob.glob(os.path.join(meld_dir, \"train\", \"*.mp4\"))\n",
    "meld_filename = os.listdir(os.path.join(meld_dir, \"train\"))\n",
    "\n",
    "print(meld_filename[:5])"
   ]
  },
  {
   "cell_type": "code",
   "execution_count": 13,
   "id": "163b45a5",
   "metadata": {
    "ExecuteTime": {
     "end_time": "2023-11-01T02:36:51.760397Z",
     "start_time": "2023-11-01T02:36:51.728150Z"
    }
   },
   "outputs": [
    {
     "data": {
      "application/vnd.microsoft.datawrangler.viewer.v0+json": {
       "columns": [
        {
         "name": "index",
         "rawType": "int64",
         "type": "integer"
        },
        {
         "name": "Sr No.",
         "rawType": "int64",
         "type": "integer"
        },
        {
         "name": "Utterance",
         "rawType": "object",
         "type": "string"
        },
        {
         "name": "Speaker",
         "rawType": "object",
         "type": "string"
        },
        {
         "name": "Emotion",
         "rawType": "object",
         "type": "string"
        },
        {
         "name": "Sentiment",
         "rawType": "object",
         "type": "string"
        },
        {
         "name": "Dialogue_ID",
         "rawType": "int64",
         "type": "integer"
        },
        {
         "name": "Utterance_ID",
         "rawType": "int64",
         "type": "integer"
        },
        {
         "name": "Season",
         "rawType": "int64",
         "type": "integer"
        },
        {
         "name": "Episode",
         "rawType": "int64",
         "type": "integer"
        },
        {
         "name": "StartTime",
         "rawType": "object",
         "type": "string"
        },
        {
         "name": "EndTime",
         "rawType": "object",
         "type": "string"
        }
       ],
       "conversionMethod": "pd.DataFrame",
       "ref": "d3221687-9441-453e-b56a-0227de093bd7",
       "rows": [
        [
         "0",
         "1",
         "also I was the point person on my companys transition from the KL-5 to GR-6 system.",
         "Chandler",
         "neutral",
         "neutral",
         "0",
         "0",
         "8",
         "21",
         "00:16:16,059",
         "00:16:21,731"
        ],
        [
         "1",
         "2",
         "You mustve had your hands full.",
         "The Interviewer",
         "neutral",
         "neutral",
         "0",
         "1",
         "8",
         "21",
         "00:16:21,940",
         "00:16:23,442"
        ],
        [
         "2",
         "3",
         "That I did. That I did.",
         "Chandler",
         "neutral",
         "neutral",
         "0",
         "2",
         "8",
         "21",
         "00:16:23,442",
         "00:16:26,389"
        ],
        [
         "3",
         "4",
         "So lets talk a little bit about your duties.",
         "The Interviewer",
         "neutral",
         "neutral",
         "0",
         "3",
         "8",
         "21",
         "00:16:26,820",
         "00:16:29,572"
        ],
        [
         "4",
         "5",
         "My duties?  All right.",
         "Chandler",
         "surprise",
         "positive",
         "0",
         "4",
         "8",
         "21",
         "00:16:34,452",
         "00:16:40,917"
        ]
       ],
       "shape": {
        "columns": 11,
        "rows": 5
       }
      },
      "text/html": [
       "<div>\n",
       "<style scoped>\n",
       "    .dataframe tbody tr th:only-of-type {\n",
       "        vertical-align: middle;\n",
       "    }\n",
       "\n",
       "    .dataframe tbody tr th {\n",
       "        vertical-align: top;\n",
       "    }\n",
       "\n",
       "    .dataframe thead th {\n",
       "        text-align: right;\n",
       "    }\n",
       "</style>\n",
       "<table border=\"1\" class=\"dataframe\">\n",
       "  <thead>\n",
       "    <tr style=\"text-align: right;\">\n",
       "      <th></th>\n",
       "      <th>Sr No.</th>\n",
       "      <th>Utterance</th>\n",
       "      <th>Speaker</th>\n",
       "      <th>Emotion</th>\n",
       "      <th>Sentiment</th>\n",
       "      <th>Dialogue_ID</th>\n",
       "      <th>Utterance_ID</th>\n",
       "      <th>Season</th>\n",
       "      <th>Episode</th>\n",
       "      <th>StartTime</th>\n",
       "      <th>EndTime</th>\n",
       "    </tr>\n",
       "  </thead>\n",
       "  <tbody>\n",
       "    <tr>\n",
       "      <th>0</th>\n",
       "      <td>1</td>\n",
       "      <td>also I was the point person on my companys tr...</td>\n",
       "      <td>Chandler</td>\n",
       "      <td>neutral</td>\n",
       "      <td>neutral</td>\n",
       "      <td>0</td>\n",
       "      <td>0</td>\n",
       "      <td>8</td>\n",
       "      <td>21</td>\n",
       "      <td>00:16:16,059</td>\n",
       "      <td>00:16:21,731</td>\n",
       "    </tr>\n",
       "    <tr>\n",
       "      <th>1</th>\n",
       "      <td>2</td>\n",
       "      <td>You mustve had your hands full.</td>\n",
       "      <td>The Interviewer</td>\n",
       "      <td>neutral</td>\n",
       "      <td>neutral</td>\n",
       "      <td>0</td>\n",
       "      <td>1</td>\n",
       "      <td>8</td>\n",
       "      <td>21</td>\n",
       "      <td>00:16:21,940</td>\n",
       "      <td>00:16:23,442</td>\n",
       "    </tr>\n",
       "    <tr>\n",
       "      <th>2</th>\n",
       "      <td>3</td>\n",
       "      <td>That I did. That I did.</td>\n",
       "      <td>Chandler</td>\n",
       "      <td>neutral</td>\n",
       "      <td>neutral</td>\n",
       "      <td>0</td>\n",
       "      <td>2</td>\n",
       "      <td>8</td>\n",
       "      <td>21</td>\n",
       "      <td>00:16:23,442</td>\n",
       "      <td>00:16:26,389</td>\n",
       "    </tr>\n",
       "    <tr>\n",
       "      <th>3</th>\n",
       "      <td>4</td>\n",
       "      <td>So lets talk a little bit about your duties.</td>\n",
       "      <td>The Interviewer</td>\n",
       "      <td>neutral</td>\n",
       "      <td>neutral</td>\n",
       "      <td>0</td>\n",
       "      <td>3</td>\n",
       "      <td>8</td>\n",
       "      <td>21</td>\n",
       "      <td>00:16:26,820</td>\n",
       "      <td>00:16:29,572</td>\n",
       "    </tr>\n",
       "    <tr>\n",
       "      <th>4</th>\n",
       "      <td>5</td>\n",
       "      <td>My duties?  All right.</td>\n",
       "      <td>Chandler</td>\n",
       "      <td>surprise</td>\n",
       "      <td>positive</td>\n",
       "      <td>0</td>\n",
       "      <td>4</td>\n",
       "      <td>8</td>\n",
       "      <td>21</td>\n",
       "      <td>00:16:34,452</td>\n",
       "      <td>00:16:40,917</td>\n",
       "    </tr>\n",
       "  </tbody>\n",
       "</table>\n",
       "</div>"
      ],
      "text/plain": [
       "   Sr No.                                          Utterance          Speaker  \\\n",
       "0       1  also I was the point person on my companys tr...         Chandler   \n",
       "1       2                   You mustve had your hands full.  The Interviewer   \n",
       "2       3                            That I did. That I did.         Chandler   \n",
       "3       4      So lets talk a little bit about your duties.  The Interviewer   \n",
       "4       5                             My duties?  All right.         Chandler   \n",
       "\n",
       "    Emotion Sentiment  Dialogue_ID  Utterance_ID  Season  Episode  \\\n",
       "0   neutral   neutral            0             0       8       21   \n",
       "1   neutral   neutral            0             1       8       21   \n",
       "2   neutral   neutral            0             2       8       21   \n",
       "3   neutral   neutral            0             3       8       21   \n",
       "4  surprise  positive            0             4       8       21   \n",
       "\n",
       "      StartTime       EndTime  \n",
       "0  00:16:16,059  00:16:21,731  \n",
       "1  00:16:21,940  00:16:23,442  \n",
       "2  00:16:23,442  00:16:26,389  \n",
       "3  00:16:26,820  00:16:29,572  \n",
       "4  00:16:34,452  00:16:40,917  "
      ]
     },
     "execution_count": 13,
     "metadata": {},
     "output_type": "execute_result"
    }
   ],
   "source": [
    "meld_sub_df = pd.read_csv(os.path.join(meld_dir, 'train_sent_emo.csv'))\n",
    "\n",
    "meld_sub_df.head()"
   ]
  },
  {
   "cell_type": "code",
   "execution_count": 14,
   "id": "af2d7a3d",
   "metadata": {
    "ExecuteTime": {
     "end_time": "2023-11-01T02:36:55.113429Z",
     "start_time": "2023-11-01T02:36:53.064016Z"
    }
   },
   "outputs": [],
   "source": [
    "meld_emotion = []\n",
    "meld_ext = []\n",
    "emotion_list = {\"anger\":\"Anger\", \"disgust\":\"Disgust\", \"fear\":\"Fear\", \"joy\":\"Happy\", \n",
    "                \"neutral\":\"Neutral\", \"sadness\":\"Sad\", \"surprise\":\"Surprise\"}\n",
    "for fn in meld_filename:\n",
    "    name, ext = os.path.splitext(fn)\n",
    "    dia, utt = name.split(\"_\")\n",
    "    dia = int(dia.replace(\"dia\", \"\"))\n",
    "    utt = int(utt.replace(\"utt\", \"\"))\n",
    "    \n",
    "    row = meld_sub_df[(meld_sub_df['Dialogue_ID']==dia) & (meld_sub_df['Utterance_ID']==utt)]\n",
    "    \n",
    "    emo = row['Emotion'].values[0]\n",
    "    meld_emotion.append(emotion_list[emo])\n",
    "    \n",
    "    meld_ext.append(ext)"
   ]
  },
  {
   "cell_type": "code",
   "execution_count": 15,
   "id": "a4358de3",
   "metadata": {
    "ExecuteTime": {
     "end_time": "2023-11-01T02:36:55.129429Z",
     "start_time": "2023-11-01T02:36:55.114512Z"
    }
   },
   "outputs": [
    {
     "name": "stdout",
     "output_type": "stream",
     "text": [
      "The Number of MELD Dataset: 9988\n"
     ]
    }
   ],
   "source": [
    "meld_count = len(meld_ext)\n",
    "print(\"The Number of MELD Dataset:\", meld_count)"
   ]
  },
  {
   "cell_type": "code",
   "execution_count": 16,
   "id": "6e4c27f1",
   "metadata": {
    "ExecuteTime": {
     "end_time": "2023-11-01T02:36:56.076883Z",
     "start_time": "2023-11-01T02:36:56.071822Z"
    }
   },
   "outputs": [],
   "source": [
    "meld_df = pd.DataFrame(index = range(0, meld_count), \n",
    "                  columns = ['Id', 'Dataset', 'Filepath', 'Filename', 'Ext', 'Emotion'])"
   ]
  },
  {
   "cell_type": "code",
   "execution_count": 17,
   "id": "573d1a50",
   "metadata": {
    "ExecuteTime": {
     "end_time": "2023-11-01T02:36:56.992838Z",
     "start_time": "2023-11-01T02:36:56.975663Z"
    }
   },
   "outputs": [],
   "source": [
    "meld_df['Dataset'] = [\"MELD\"] * meld_count\n",
    "meld_df['Filepath'] = meld_filepath\n",
    "meld_df['Filename'] = meld_filename\n",
    "meld_df['Ext'] = meld_ext\n",
    "meld_df['Emotion'] = meld_emotion"
   ]
  },
  {
   "cell_type": "code",
   "execution_count": 18,
   "id": "b37d1ede",
   "metadata": {
    "ExecuteTime": {
     "end_time": "2023-11-01T02:36:57.218438Z",
     "start_time": "2023-11-01T02:36:57.196885Z"
    }
   },
   "outputs": [
    {
     "data": {
      "application/vnd.microsoft.datawrangler.viewer.v0+json": {
       "columns": [
        {
         "name": "index",
         "rawType": "int64",
         "type": "integer"
        },
        {
         "name": "Id",
         "rawType": "object",
         "type": "unknown"
        },
        {
         "name": "Dataset",
         "rawType": "object",
         "type": "string"
        },
        {
         "name": "Filepath",
         "rawType": "object",
         "type": "string"
        },
        {
         "name": "Filename",
         "rawType": "object",
         "type": "string"
        },
        {
         "name": "Ext",
         "rawType": "object",
         "type": "string"
        },
        {
         "name": "Emotion",
         "rawType": "object",
         "type": "string"
        }
       ],
       "conversionMethod": "pd.DataFrame",
       "ref": "fa12929d-9d1b-4d61-8409-1ee21234d2d1",
       "rows": [
        [
         "0",
         null,
         "MELD",
         "./dataset/meld\\train\\dia0_utt0.mp4",
         "dia0_utt0.mp4",
         ".mp4",
         "Neutral"
        ],
        [
         "1",
         null,
         "MELD",
         "./dataset/meld\\train\\dia0_utt1.mp4",
         "dia0_utt1.mp4",
         ".mp4",
         "Neutral"
        ],
        [
         "2",
         null,
         "MELD",
         "./dataset/meld\\train\\dia0_utt10.mp4",
         "dia0_utt10.mp4",
         ".mp4",
         "Fear"
        ],
        [
         "3",
         null,
         "MELD",
         "./dataset/meld\\train\\dia0_utt11.mp4",
         "dia0_utt11.mp4",
         ".mp4",
         "Neutral"
        ],
        [
         "4",
         null,
         "MELD",
         "./dataset/meld\\train\\dia0_utt12.mp4",
         "dia0_utt12.mp4",
         ".mp4",
         "Surprise"
        ]
       ],
       "shape": {
        "columns": 6,
        "rows": 5
       }
      },
      "text/html": [
       "<div>\n",
       "<style scoped>\n",
       "    .dataframe tbody tr th:only-of-type {\n",
       "        vertical-align: middle;\n",
       "    }\n",
       "\n",
       "    .dataframe tbody tr th {\n",
       "        vertical-align: top;\n",
       "    }\n",
       "\n",
       "    .dataframe thead th {\n",
       "        text-align: right;\n",
       "    }\n",
       "</style>\n",
       "<table border=\"1\" class=\"dataframe\">\n",
       "  <thead>\n",
       "    <tr style=\"text-align: right;\">\n",
       "      <th></th>\n",
       "      <th>Id</th>\n",
       "      <th>Dataset</th>\n",
       "      <th>Filepath</th>\n",
       "      <th>Filename</th>\n",
       "      <th>Ext</th>\n",
       "      <th>Emotion</th>\n",
       "    </tr>\n",
       "  </thead>\n",
       "  <tbody>\n",
       "    <tr>\n",
       "      <th>0</th>\n",
       "      <td>NaN</td>\n",
       "      <td>MELD</td>\n",
       "      <td>./dataset/meld\\train\\dia0_utt0.mp4</td>\n",
       "      <td>dia0_utt0.mp4</td>\n",
       "      <td>.mp4</td>\n",
       "      <td>Neutral</td>\n",
       "    </tr>\n",
       "    <tr>\n",
       "      <th>1</th>\n",
       "      <td>NaN</td>\n",
       "      <td>MELD</td>\n",
       "      <td>./dataset/meld\\train\\dia0_utt1.mp4</td>\n",
       "      <td>dia0_utt1.mp4</td>\n",
       "      <td>.mp4</td>\n",
       "      <td>Neutral</td>\n",
       "    </tr>\n",
       "    <tr>\n",
       "      <th>2</th>\n",
       "      <td>NaN</td>\n",
       "      <td>MELD</td>\n",
       "      <td>./dataset/meld\\train\\dia0_utt10.mp4</td>\n",
       "      <td>dia0_utt10.mp4</td>\n",
       "      <td>.mp4</td>\n",
       "      <td>Fear</td>\n",
       "    </tr>\n",
       "    <tr>\n",
       "      <th>3</th>\n",
       "      <td>NaN</td>\n",
       "      <td>MELD</td>\n",
       "      <td>./dataset/meld\\train\\dia0_utt11.mp4</td>\n",
       "      <td>dia0_utt11.mp4</td>\n",
       "      <td>.mp4</td>\n",
       "      <td>Neutral</td>\n",
       "    </tr>\n",
       "    <tr>\n",
       "      <th>4</th>\n",
       "      <td>NaN</td>\n",
       "      <td>MELD</td>\n",
       "      <td>./dataset/meld\\train\\dia0_utt12.mp4</td>\n",
       "      <td>dia0_utt12.mp4</td>\n",
       "      <td>.mp4</td>\n",
       "      <td>Surprise</td>\n",
       "    </tr>\n",
       "  </tbody>\n",
       "</table>\n",
       "</div>"
      ],
      "text/plain": [
       "    Id Dataset                             Filepath        Filename   Ext  \\\n",
       "0  NaN    MELD   ./dataset/meld\\train\\dia0_utt0.mp4   dia0_utt0.mp4  .mp4   \n",
       "1  NaN    MELD   ./dataset/meld\\train\\dia0_utt1.mp4   dia0_utt1.mp4  .mp4   \n",
       "2  NaN    MELD  ./dataset/meld\\train\\dia0_utt10.mp4  dia0_utt10.mp4  .mp4   \n",
       "3  NaN    MELD  ./dataset/meld\\train\\dia0_utt11.mp4  dia0_utt11.mp4  .mp4   \n",
       "4  NaN    MELD  ./dataset/meld\\train\\dia0_utt12.mp4  dia0_utt12.mp4  .mp4   \n",
       "\n",
       "    Emotion  \n",
       "0   Neutral  \n",
       "1   Neutral  \n",
       "2      Fear  \n",
       "3   Neutral  \n",
       "4  Surprise  "
      ]
     },
     "execution_count": 18,
     "metadata": {},
     "output_type": "execute_result"
    }
   ],
   "source": [
    "meld_df.head()"
   ]
  },
  {
   "cell_type": "markdown",
   "id": "626c421b",
   "metadata": {
    "ExecuteTime": {
     "end_time": "2023-10-30T00:41:33.040641Z",
     "start_time": "2023-10-30T00:41:33.024528Z"
    }
   },
   "source": [
    "### 3) MLEnd\n",
    "> https://www.kaggle.com/datasets/jesusrequena/mlend-spoken-numerals\n",
    "- Speakers read one english word (zero to billion)."
   ]
  },
  {
   "cell_type": "code",
   "execution_count": 19,
   "id": "287f16ba",
   "metadata": {
    "ExecuteTime": {
     "end_time": "2023-11-01T02:36:58.833811Z",
     "start_time": "2023-11-01T02:36:58.739197Z"
    }
   },
   "outputs": [
    {
     "name": "stdout",
     "output_type": "stream",
     "text": [
      "['00000.wav', '00001.wav', '00003.wav', '00004.wav', '00005.wav']\n"
     ]
    }
   ],
   "source": [
    "mlend_dir = './dataset/mlend'\n",
    "\n",
    "mlend_filepath = glob.glob(os.path.join(mlend_dir, 'MLEndSND_Public', \"*.wav\"))\n",
    "mlend_filename = os.listdir(os.path.join(mlend_dir, 'MLEndSND_Public'))\n",
    "\n",
    "print(mlend_filename[:5])"
   ]
  },
  {
   "cell_type": "code",
   "execution_count": 20,
   "id": "7852d819",
   "metadata": {
    "ExecuteTime": {
     "end_time": "2023-11-01T02:36:58.904314Z",
     "start_time": "2023-11-01T02:36:58.878215Z"
    }
   },
   "outputs": [
    {
     "name": "stdout",
     "output_type": "stream",
     "text": [
      "./dataset/mlend\\MLEndSND_Audio_Attributes.csv\n",
      "       Public filename     Numeral Intonation  Speaker\n",
      "32649            47063          11    neutral       33\n",
      "32650            47064           9    excited       91\n",
      "32651            47065  1000000000    neutral      111\n",
      "32652            47066        1000    neutral       15\n",
      "32653            47067           0    neutral       82 \n",
      "\n"
     ]
    }
   ],
   "source": [
    "for path in glob.glob(os.path.join(mlend_dir, \"*.csv\")):\n",
    "    print(path)\n",
    "    csv = pd.read_csv(path)\n",
    "    print(csv.tail(), \"\\n\")"
   ]
  },
  {
   "cell_type": "code",
   "execution_count": 21,
   "id": "36a6b214",
   "metadata": {
    "ExecuteTime": {
     "end_time": "2023-11-01T02:36:59.070894Z",
     "start_time": "2023-11-01T02:36:59.047992Z"
    }
   },
   "outputs": [
    {
     "data": {
      "application/vnd.microsoft.datawrangler.viewer.v0+json": {
       "columns": [
        {
         "name": "index",
         "rawType": "int64",
         "type": "integer"
        },
        {
         "name": "Public filename",
         "rawType": "int64",
         "type": "integer"
        },
        {
         "name": "Numeral",
         "rawType": "int64",
         "type": "integer"
        },
        {
         "name": "Intonation",
         "rawType": "object",
         "type": "string"
        },
        {
         "name": "Speaker",
         "rawType": "int64",
         "type": "integer"
        }
       ],
       "conversionMethod": "pd.DataFrame",
       "ref": "671b40f2-213c-40ac-9b94-25d409218139",
       "rows": [
        [
         "0",
         "0",
         "3",
         "excited",
         "59"
        ],
        [
         "1",
         "1",
         "1000000",
         "question",
         "31"
        ],
        [
         "2",
         "3",
         "15",
         "excited",
         "107"
        ],
        [
         "3",
         "4",
         "13",
         "excited",
         "114"
        ],
        [
         "4",
         "5",
         "19",
         "neutral",
         "132"
        ]
       ],
       "shape": {
        "columns": 4,
        "rows": 5
       }
      },
      "text/html": [
       "<div>\n",
       "<style scoped>\n",
       "    .dataframe tbody tr th:only-of-type {\n",
       "        vertical-align: middle;\n",
       "    }\n",
       "\n",
       "    .dataframe tbody tr th {\n",
       "        vertical-align: top;\n",
       "    }\n",
       "\n",
       "    .dataframe thead th {\n",
       "        text-align: right;\n",
       "    }\n",
       "</style>\n",
       "<table border=\"1\" class=\"dataframe\">\n",
       "  <thead>\n",
       "    <tr style=\"text-align: right;\">\n",
       "      <th></th>\n",
       "      <th>Public filename</th>\n",
       "      <th>Numeral</th>\n",
       "      <th>Intonation</th>\n",
       "      <th>Speaker</th>\n",
       "    </tr>\n",
       "  </thead>\n",
       "  <tbody>\n",
       "    <tr>\n",
       "      <th>0</th>\n",
       "      <td>0</td>\n",
       "      <td>3</td>\n",
       "      <td>excited</td>\n",
       "      <td>59</td>\n",
       "    </tr>\n",
       "    <tr>\n",
       "      <th>1</th>\n",
       "      <td>1</td>\n",
       "      <td>1000000</td>\n",
       "      <td>question</td>\n",
       "      <td>31</td>\n",
       "    </tr>\n",
       "    <tr>\n",
       "      <th>2</th>\n",
       "      <td>3</td>\n",
       "      <td>15</td>\n",
       "      <td>excited</td>\n",
       "      <td>107</td>\n",
       "    </tr>\n",
       "    <tr>\n",
       "      <th>3</th>\n",
       "      <td>4</td>\n",
       "      <td>13</td>\n",
       "      <td>excited</td>\n",
       "      <td>114</td>\n",
       "    </tr>\n",
       "    <tr>\n",
       "      <th>4</th>\n",
       "      <td>5</td>\n",
       "      <td>19</td>\n",
       "      <td>neutral</td>\n",
       "      <td>132</td>\n",
       "    </tr>\n",
       "  </tbody>\n",
       "</table>\n",
       "</div>"
      ],
      "text/plain": [
       "   Public filename  Numeral Intonation  Speaker\n",
       "0                0        3    excited       59\n",
       "1                1  1000000   question       31\n",
       "2                3       15    excited      107\n",
       "3                4       13    excited      114\n",
       "4                5       19    neutral      132"
      ]
     },
     "execution_count": 21,
     "metadata": {},
     "output_type": "execute_result"
    }
   ],
   "source": [
    "mlend_sub_df1 = pd.read_csv(\"./dataset/mlend\\MLEndSND_Audio_Attributes.csv\")\n",
    "mlend_sub_df1.head()"
   ]
  },
  {
   "cell_type": "code",
   "execution_count": 22,
   "id": "eb16d6a3",
   "metadata": {
    "ExecuteTime": {
     "end_time": "2023-11-01T02:37:00.026802Z",
     "start_time": "2023-11-01T02:37:00.016054Z"
    }
   },
   "outputs": [
    {
     "name": "stdout",
     "output_type": "stream",
     "text": [
      "The Number of MLEND Dataset: 32654\n"
     ]
    }
   ],
   "source": [
    "mlend_count = len(mlend_filename)\n",
    "print(\"The Number of MLEND Dataset:\", mlend_count)"
   ]
  },
  {
   "cell_type": "code",
   "execution_count": 23,
   "id": "9bd66ca7",
   "metadata": {
    "ExecuteTime": {
     "end_time": "2023-11-01T02:37:05.639683Z",
     "start_time": "2023-11-01T02:37:01.061002Z"
    }
   },
   "outputs": [],
   "source": [
    "mlend_emotion = []\n",
    "mlend_ext = []\n",
    "emotion_list = {\"excited\":\"Happy\", \"neutral\":\"Neutral\", \"bored\":\"Bored\", \"question\":\"Question\"}\n",
    "for i in range(mlend_count):\n",
    "    _, ext = os.path.splitext(mlend_filename[i])\n",
    "    speaker_num = mlend_sub_df1.iloc[i][\"Speaker\"]\n",
    "    speaker = \"Mlend_\" + str(speaker_num)\n",
    "        \n",
    "    emotion = mlend_sub_df1.iloc[i][\"Intonation\"]\n",
    "    emotion = emotion_list[emotion]\n",
    "    \n",
    "    mlend_emotion.append(emotion)\n",
    "    mlend_ext.append(ext)"
   ]
  },
  {
   "cell_type": "code",
   "execution_count": 24,
   "id": "113462ff",
   "metadata": {
    "ExecuteTime": {
     "end_time": "2023-11-01T02:37:05.660052Z",
     "start_time": "2023-11-01T02:37:05.639683Z"
    }
   },
   "outputs": [],
   "source": [
    "mlend_df = pd.DataFrame(index = range(0, mlend_count), \n",
    "                  columns = ['Id', 'Dataset', 'Filepath', 'Filename', 'Ext', 'Emotion'])"
   ]
  },
  {
   "cell_type": "code",
   "execution_count": 25,
   "id": "42e22955",
   "metadata": {
    "ExecuteTime": {
     "end_time": "2023-11-01T02:37:06.511346Z",
     "start_time": "2023-11-01T02:37:06.502164Z"
    }
   },
   "outputs": [],
   "source": [
    "mlend_df['Dataset'] = [\"MLEND\"] * mlend_count\n",
    "mlend_df['Filepath'] = mlend_filepath\n",
    "mlend_df['Filename'] = mlend_filename\n",
    "mlend_df['Ext'] = mlend_ext\n",
    "mlend_df['Emotion'] = mlend_emotion"
   ]
  },
  {
   "cell_type": "code",
   "execution_count": 26,
   "id": "0adf2872",
   "metadata": {
    "ExecuteTime": {
     "end_time": "2023-11-01T02:37:06.709133Z",
     "start_time": "2023-11-01T02:37:06.676759Z"
    }
   },
   "outputs": [
    {
     "data": {
      "application/vnd.microsoft.datawrangler.viewer.v0+json": {
       "columns": [
        {
         "name": "index",
         "rawType": "int64",
         "type": "integer"
        },
        {
         "name": "Id",
         "rawType": "object",
         "type": "unknown"
        },
        {
         "name": "Dataset",
         "rawType": "object",
         "type": "string"
        },
        {
         "name": "Filepath",
         "rawType": "object",
         "type": "string"
        },
        {
         "name": "Filename",
         "rawType": "object",
         "type": "string"
        },
        {
         "name": "Ext",
         "rawType": "object",
         "type": "string"
        },
        {
         "name": "Emotion",
         "rawType": "object",
         "type": "string"
        }
       ],
       "conversionMethod": "pd.DataFrame",
       "ref": "20061af4-d80b-489b-99a6-4f7b9ae428b7",
       "rows": [
        [
         "0",
         null,
         "MLEND",
         "./dataset/mlend\\MLEndSND_Public\\00000.wav",
         "00000.wav",
         ".wav",
         "Happy"
        ],
        [
         "1",
         null,
         "MLEND",
         "./dataset/mlend\\MLEndSND_Public\\00001.wav",
         "00001.wav",
         ".wav",
         "Question"
        ],
        [
         "2",
         null,
         "MLEND",
         "./dataset/mlend\\MLEndSND_Public\\00003.wav",
         "00003.wav",
         ".wav",
         "Happy"
        ],
        [
         "3",
         null,
         "MLEND",
         "./dataset/mlend\\MLEndSND_Public\\00004.wav",
         "00004.wav",
         ".wav",
         "Happy"
        ],
        [
         "4",
         null,
         "MLEND",
         "./dataset/mlend\\MLEndSND_Public\\00005.wav",
         "00005.wav",
         ".wav",
         "Neutral"
        ]
       ],
       "shape": {
        "columns": 6,
        "rows": 5
       }
      },
      "text/html": [
       "<div>\n",
       "<style scoped>\n",
       "    .dataframe tbody tr th:only-of-type {\n",
       "        vertical-align: middle;\n",
       "    }\n",
       "\n",
       "    .dataframe tbody tr th {\n",
       "        vertical-align: top;\n",
       "    }\n",
       "\n",
       "    .dataframe thead th {\n",
       "        text-align: right;\n",
       "    }\n",
       "</style>\n",
       "<table border=\"1\" class=\"dataframe\">\n",
       "  <thead>\n",
       "    <tr style=\"text-align: right;\">\n",
       "      <th></th>\n",
       "      <th>Id</th>\n",
       "      <th>Dataset</th>\n",
       "      <th>Filepath</th>\n",
       "      <th>Filename</th>\n",
       "      <th>Ext</th>\n",
       "      <th>Emotion</th>\n",
       "    </tr>\n",
       "  </thead>\n",
       "  <tbody>\n",
       "    <tr>\n",
       "      <th>0</th>\n",
       "      <td>NaN</td>\n",
       "      <td>MLEND</td>\n",
       "      <td>./dataset/mlend\\MLEndSND_Public\\00000.wav</td>\n",
       "      <td>00000.wav</td>\n",
       "      <td>.wav</td>\n",
       "      <td>Happy</td>\n",
       "    </tr>\n",
       "    <tr>\n",
       "      <th>1</th>\n",
       "      <td>NaN</td>\n",
       "      <td>MLEND</td>\n",
       "      <td>./dataset/mlend\\MLEndSND_Public\\00001.wav</td>\n",
       "      <td>00001.wav</td>\n",
       "      <td>.wav</td>\n",
       "      <td>Question</td>\n",
       "    </tr>\n",
       "    <tr>\n",
       "      <th>2</th>\n",
       "      <td>NaN</td>\n",
       "      <td>MLEND</td>\n",
       "      <td>./dataset/mlend\\MLEndSND_Public\\00003.wav</td>\n",
       "      <td>00003.wav</td>\n",
       "      <td>.wav</td>\n",
       "      <td>Happy</td>\n",
       "    </tr>\n",
       "    <tr>\n",
       "      <th>3</th>\n",
       "      <td>NaN</td>\n",
       "      <td>MLEND</td>\n",
       "      <td>./dataset/mlend\\MLEndSND_Public\\00004.wav</td>\n",
       "      <td>00004.wav</td>\n",
       "      <td>.wav</td>\n",
       "      <td>Happy</td>\n",
       "    </tr>\n",
       "    <tr>\n",
       "      <th>4</th>\n",
       "      <td>NaN</td>\n",
       "      <td>MLEND</td>\n",
       "      <td>./dataset/mlend\\MLEndSND_Public\\00005.wav</td>\n",
       "      <td>00005.wav</td>\n",
       "      <td>.wav</td>\n",
       "      <td>Neutral</td>\n",
       "    </tr>\n",
       "  </tbody>\n",
       "</table>\n",
       "</div>"
      ],
      "text/plain": [
       "    Id Dataset                                   Filepath   Filename   Ext  \\\n",
       "0  NaN   MLEND  ./dataset/mlend\\MLEndSND_Public\\00000.wav  00000.wav  .wav   \n",
       "1  NaN   MLEND  ./dataset/mlend\\MLEndSND_Public\\00001.wav  00001.wav  .wav   \n",
       "2  NaN   MLEND  ./dataset/mlend\\MLEndSND_Public\\00003.wav  00003.wav  .wav   \n",
       "3  NaN   MLEND  ./dataset/mlend\\MLEndSND_Public\\00004.wav  00004.wav  .wav   \n",
       "4  NaN   MLEND  ./dataset/mlend\\MLEndSND_Public\\00005.wav  00005.wav  .wav   \n",
       "\n",
       "    Emotion  \n",
       "0     Happy  \n",
       "1  Question  \n",
       "2     Happy  \n",
       "3     Happy  \n",
       "4   Neutral  "
      ]
     },
     "execution_count": 26,
     "metadata": {},
     "output_type": "execute_result"
    }
   ],
   "source": [
    "mlend_df.head()"
   ]
  },
  {
   "cell_type": "markdown",
   "id": "b9ed6f47",
   "metadata": {},
   "source": [
    "### 4) RAVDESS\n",
    "> https://www.kaggle.com/datasets/uwrfkaggler/ravdess-emotional-speech-audio\n",
    "- Only two kinds of statement.\n",
    "\n",
    "- Labels in Filename.\n",
    "```shell\n",
    "Modality (01 = full-AV, 02 = video-only, 03 = audio-only).\n",
    "Vocal channel (01 = speech, 02 = song).\n",
    "Emotion (01 = neutral, 02 = calm, 03 = happy, 04 = sad, 05 = angry, 06 = fearful, 07 = disgust, 08 = surprised).\n",
    "Emotional intensity (01 = normal, 02 = strong). NOTE: There is no strong intensity for the 'neutral' emotion.\n",
    "Statement (01 = \"Kids are talking by the door\", 02 = \"Dogs are sitting by the door\").\n",
    "Repetition (01 = 1st repetition, 02 = 2nd repetition).\n",
    "Actor (01 to 24. Odd numbered actors are male, even numbered actors are female).\n",
    "```\n",
    "```shell\n",
    "Filename example: 03-01-06-01-02-01-12.wav\n",
    "\n",
    "Audio-only (03)\n",
    "Speech (01)\n",
    "Fearful (06)\n",
    "Normal intensity (01)\n",
    "Statement \"dogs\" (02)\n",
    "1st Repetition (01)\n",
    "12th Actor (12)\n",
    "Female, as the actor ID number is even.\n",
    "```"
   ]
  },
  {
   "cell_type": "code",
   "execution_count": 27,
   "id": "be541cb6",
   "metadata": {
    "ExecuteTime": {
     "end_time": "2023-11-01T02:37:08.399698Z",
     "start_time": "2023-11-01T02:37:08.391575Z"
    }
   },
   "outputs": [
    {
     "data": {
      "text/plain": [
       "['Actor_01', 'Actor_02', 'Actor_03', 'Actor_04', 'Actor_05']"
      ]
     },
     "execution_count": 27,
     "metadata": {},
     "output_type": "execute_result"
    }
   ],
   "source": [
    "rav_dir = './dataset/ravdess'\n",
    "actor_list = os.listdir(rav_dir)\n",
    "actor_list[:5]"
   ]
  },
  {
   "cell_type": "code",
   "execution_count": 28,
   "id": "edcadccd",
   "metadata": {
    "ExecuteTime": {
     "end_time": "2023-11-01T02:37:08.877006Z",
     "start_time": "2023-11-01T02:37:08.832321Z"
    }
   },
   "outputs": [],
   "source": [
    "rav_filepath = []\n",
    "rav_filename = []\n",
    "rav_ext = []\n",
    "rav_emotion = []\n",
    "\n",
    "emotion_list = {'01':'Neutral', '02':'Calm', '03':'Happy', '04':'Sad', '05':'Anger', '06':'Fear', '07':'Disgust', '08':'Surprise'}\n",
    "\n",
    "for act in actor_list:\n",
    "    paths = glob.glob(os.path.join(rav_dir, act, \"*.wav\")) \n",
    "    names = os.listdir(os.path.join(rav_dir, act))\n",
    "    \n",
    "    for i in range(len(names)):\n",
    "        name, ext = os.path.splitext(names[i])\n",
    "        num_list = name.split(\"-\")\n",
    "        \n",
    "        emotion = emotion_list[num_list[2]]\n",
    "        speaker = \"Ravdess_\" + num_list[6]\n",
    "        \n",
    "        if int(num_list[6])%2 == 0:\n",
    "            gender = 'Female'\n",
    "        else:\n",
    "            gender = \"Male\"\n",
    "        \n",
    "        rav_filepath.append(paths[i])\n",
    "        rav_filename.append(names[i])\n",
    "        rav_ext.append(ext)\n",
    "        \n",
    "        rav_emotion.append(emotion)"
   ]
  },
  {
   "cell_type": "code",
   "execution_count": 29,
   "id": "9fffb11e",
   "metadata": {
    "ExecuteTime": {
     "end_time": "2023-11-01T02:37:09.709999Z",
     "start_time": "2023-11-01T02:37:09.703688Z"
    }
   },
   "outputs": [
    {
     "name": "stdout",
     "output_type": "stream",
     "text": [
      "The Number of RAVDESS Dataset: 1440\n"
     ]
    }
   ],
   "source": [
    "rav_count = len(rav_filepath)\n",
    "print(\"The Number of RAVDESS Dataset:\", rav_count)"
   ]
  },
  {
   "cell_type": "code",
   "execution_count": 30,
   "id": "4b5c56a5",
   "metadata": {
    "ExecuteTime": {
     "end_time": "2023-11-01T02:37:11.360244Z",
     "start_time": "2023-11-01T02:37:11.352199Z"
    }
   },
   "outputs": [],
   "source": [
    "rav_df = pd.DataFrame(index = range(0, rav_count), \n",
    "                  columns = ['Id', 'Dataset', 'Filepath', 'Filename', 'Ext', 'Emotion'])"
   ]
  },
  {
   "cell_type": "code",
   "execution_count": 31,
   "id": "26b96524",
   "metadata": {
    "ExecuteTime": {
     "end_time": "2023-11-01T02:37:11.543005Z",
     "start_time": "2023-11-01T02:37:11.527381Z"
    }
   },
   "outputs": [],
   "source": [
    "rav_df[\"Dataset\"] = [\"RAVDESS\"] * rav_count\n",
    "rav_df['Filepath'] = rav_filepath\n",
    "rav_df['Filename'] = rav_filename\n",
    "rav_df['Ext'] = rav_ext\n",
    "rav_df['Emotion'] = rav_emotion"
   ]
  },
  {
   "cell_type": "code",
   "execution_count": 32,
   "id": "9e906952",
   "metadata": {
    "ExecuteTime": {
     "end_time": "2023-11-01T02:37:11.759183Z",
     "start_time": "2023-11-01T02:37:11.727689Z"
    }
   },
   "outputs": [
    {
     "data": {
      "application/vnd.microsoft.datawrangler.viewer.v0+json": {
       "columns": [
        {
         "name": "index",
         "rawType": "int64",
         "type": "integer"
        },
        {
         "name": "Id",
         "rawType": "object",
         "type": "unknown"
        },
        {
         "name": "Dataset",
         "rawType": "object",
         "type": "string"
        },
        {
         "name": "Filepath",
         "rawType": "object",
         "type": "string"
        },
        {
         "name": "Filename",
         "rawType": "object",
         "type": "string"
        },
        {
         "name": "Ext",
         "rawType": "object",
         "type": "string"
        },
        {
         "name": "Emotion",
         "rawType": "object",
         "type": "string"
        }
       ],
       "conversionMethod": "pd.DataFrame",
       "ref": "14ddb7ba-cf94-4076-abce-99a8807d244f",
       "rows": [
        [
         "0",
         null,
         "RAVDESS",
         "./dataset/ravdess\\Actor_01\\03-01-01-01-01-01-01.wav",
         "03-01-01-01-01-01-01.wav",
         ".wav",
         "Neutral"
        ],
        [
         "1",
         null,
         "RAVDESS",
         "./dataset/ravdess\\Actor_01\\03-01-01-01-01-02-01.wav",
         "03-01-01-01-01-02-01.wav",
         ".wav",
         "Neutral"
        ],
        [
         "2",
         null,
         "RAVDESS",
         "./dataset/ravdess\\Actor_01\\03-01-01-01-02-01-01.wav",
         "03-01-01-01-02-01-01.wav",
         ".wav",
         "Neutral"
        ],
        [
         "3",
         null,
         "RAVDESS",
         "./dataset/ravdess\\Actor_01\\03-01-01-01-02-02-01.wav",
         "03-01-01-01-02-02-01.wav",
         ".wav",
         "Neutral"
        ],
        [
         "4",
         null,
         "RAVDESS",
         "./dataset/ravdess\\Actor_01\\03-01-02-01-01-01-01.wav",
         "03-01-02-01-01-01-01.wav",
         ".wav",
         "Calm"
        ]
       ],
       "shape": {
        "columns": 6,
        "rows": 5
       }
      },
      "text/html": [
       "<div>\n",
       "<style scoped>\n",
       "    .dataframe tbody tr th:only-of-type {\n",
       "        vertical-align: middle;\n",
       "    }\n",
       "\n",
       "    .dataframe tbody tr th {\n",
       "        vertical-align: top;\n",
       "    }\n",
       "\n",
       "    .dataframe thead th {\n",
       "        text-align: right;\n",
       "    }\n",
       "</style>\n",
       "<table border=\"1\" class=\"dataframe\">\n",
       "  <thead>\n",
       "    <tr style=\"text-align: right;\">\n",
       "      <th></th>\n",
       "      <th>Id</th>\n",
       "      <th>Dataset</th>\n",
       "      <th>Filepath</th>\n",
       "      <th>Filename</th>\n",
       "      <th>Ext</th>\n",
       "      <th>Emotion</th>\n",
       "    </tr>\n",
       "  </thead>\n",
       "  <tbody>\n",
       "    <tr>\n",
       "      <th>0</th>\n",
       "      <td>NaN</td>\n",
       "      <td>RAVDESS</td>\n",
       "      <td>./dataset/ravdess\\Actor_01\\03-01-01-01-01-01-0...</td>\n",
       "      <td>03-01-01-01-01-01-01.wav</td>\n",
       "      <td>.wav</td>\n",
       "      <td>Neutral</td>\n",
       "    </tr>\n",
       "    <tr>\n",
       "      <th>1</th>\n",
       "      <td>NaN</td>\n",
       "      <td>RAVDESS</td>\n",
       "      <td>./dataset/ravdess\\Actor_01\\03-01-01-01-01-02-0...</td>\n",
       "      <td>03-01-01-01-01-02-01.wav</td>\n",
       "      <td>.wav</td>\n",
       "      <td>Neutral</td>\n",
       "    </tr>\n",
       "    <tr>\n",
       "      <th>2</th>\n",
       "      <td>NaN</td>\n",
       "      <td>RAVDESS</td>\n",
       "      <td>./dataset/ravdess\\Actor_01\\03-01-01-01-02-01-0...</td>\n",
       "      <td>03-01-01-01-02-01-01.wav</td>\n",
       "      <td>.wav</td>\n",
       "      <td>Neutral</td>\n",
       "    </tr>\n",
       "    <tr>\n",
       "      <th>3</th>\n",
       "      <td>NaN</td>\n",
       "      <td>RAVDESS</td>\n",
       "      <td>./dataset/ravdess\\Actor_01\\03-01-01-01-02-02-0...</td>\n",
       "      <td>03-01-01-01-02-02-01.wav</td>\n",
       "      <td>.wav</td>\n",
       "      <td>Neutral</td>\n",
       "    </tr>\n",
       "    <tr>\n",
       "      <th>4</th>\n",
       "      <td>NaN</td>\n",
       "      <td>RAVDESS</td>\n",
       "      <td>./dataset/ravdess\\Actor_01\\03-01-02-01-01-01-0...</td>\n",
       "      <td>03-01-02-01-01-01-01.wav</td>\n",
       "      <td>.wav</td>\n",
       "      <td>Calm</td>\n",
       "    </tr>\n",
       "  </tbody>\n",
       "</table>\n",
       "</div>"
      ],
      "text/plain": [
       "    Id  Dataset                                           Filepath  \\\n",
       "0  NaN  RAVDESS  ./dataset/ravdess\\Actor_01\\03-01-01-01-01-01-0...   \n",
       "1  NaN  RAVDESS  ./dataset/ravdess\\Actor_01\\03-01-01-01-01-02-0...   \n",
       "2  NaN  RAVDESS  ./dataset/ravdess\\Actor_01\\03-01-01-01-02-01-0...   \n",
       "3  NaN  RAVDESS  ./dataset/ravdess\\Actor_01\\03-01-01-01-02-02-0...   \n",
       "4  NaN  RAVDESS  ./dataset/ravdess\\Actor_01\\03-01-02-01-01-01-0...   \n",
       "\n",
       "                   Filename   Ext  Emotion  \n",
       "0  03-01-01-01-01-01-01.wav  .wav  Neutral  \n",
       "1  03-01-01-01-01-02-01.wav  .wav  Neutral  \n",
       "2  03-01-01-01-02-01-01.wav  .wav  Neutral  \n",
       "3  03-01-01-01-02-02-01.wav  .wav  Neutral  \n",
       "4  03-01-02-01-01-01-01.wav  .wav     Calm  "
      ]
     },
     "execution_count": 32,
     "metadata": {},
     "output_type": "execute_result"
    }
   ],
   "source": [
    "rav_df.head()"
   ]
  },
  {
   "cell_type": "markdown",
   "id": "df572ebd",
   "metadata": {},
   "source": [
    "### 5) SAVEE\n",
    "> https://www.kaggle.com/datasets/ejlok1/surrey-audiovisual-expressed-emotion-savee\n",
    "\n",
    "- Labels in Filename\n",
    "```shell\n",
    "\"a\":\"Anger\"\n",
    "\"d\":\"Disgust\"\n",
    "\"f\":\"Fear\"\n",
    "\"h\":\"Happy\"\n",
    "\"n\":\"Neutral\"\n",
    "\"sa\":\"Sad\"\n",
    "\"su\":\"Surprise\"\n",
    "```"
   ]
  },
  {
   "cell_type": "code",
   "execution_count": 33,
   "id": "23d697a6",
   "metadata": {
    "ExecuteTime": {
     "end_time": "2023-11-01T02:37:13.407082Z",
     "start_time": "2023-11-01T02:37:13.400078Z"
    }
   },
   "outputs": [
    {
     "name": "stdout",
     "output_type": "stream",
     "text": [
      "['DC_a01.wav', 'DC_a02.wav', 'DC_a03.wav', 'DC_a04.wav', 'DC_a05.wav']\n",
      "The Number of SAVEE Dataset: 480\n"
     ]
    }
   ],
   "source": [
    "savee_dir = './dataset/savee'\n",
    "savee_filename = os.listdir(savee_dir)\n",
    "savee_filepath = glob.glob(os.path.join(savee_dir, \"*.wav\"))\n",
    "print(savee_filename[:5])\n",
    "\n",
    "savee_count = len(savee_filepath)\n",
    "print(\"The Number of SAVEE Dataset:\", savee_count)"
   ]
  },
  {
   "cell_type": "code",
   "execution_count": 34,
   "id": "e25702ca",
   "metadata": {
    "ExecuteTime": {
     "end_time": "2023-11-01T02:37:13.592442Z",
     "start_time": "2023-11-01T02:37:13.575995Z"
    }
   },
   "outputs": [],
   "source": [
    "savee_ext = []\n",
    "savee_emotion = []\n",
    "emotion_list = {\"a\":\"Anger\", \"d\":\"Disgust\", \"f\":\"Fear\", \"h\":\"Happy\", \"n\":\"Neutral\", \"sa\":\"Sad\", \"su\":\"Surprise\"}\n",
    "for fn in savee_filename:\n",
    "    name, ext = os.path.splitext(fn)\n",
    "    \n",
    "    speaker, emo = name.split(\"_\")\n",
    "    emo = emo[:-2]\n",
    "    emotion = emotion_list[emo]\n",
    "    speaker = \"Savee_\" + speaker\n",
    "\n",
    "    savee_ext.append(ext)\n",
    "    savee_emotion.append(emotion)"
   ]
  },
  {
   "cell_type": "code",
   "execution_count": 35,
   "id": "7157de48",
   "metadata": {
    "ExecuteTime": {
     "end_time": "2023-11-01T02:37:18.540828Z",
     "start_time": "2023-11-01T02:37:18.534638Z"
    }
   },
   "outputs": [],
   "source": [
    "savee_df = pd.DataFrame(index = range(0, savee_count), \n",
    "                  columns = ['Id', 'Dataset', 'Filepath', 'Filename', 'Ext', 'Emotion'])"
   ]
  },
  {
   "cell_type": "code",
   "execution_count": 36,
   "id": "b730278c",
   "metadata": {
    "ExecuteTime": {
     "end_time": "2023-11-01T02:37:18.709347Z",
     "start_time": "2023-11-01T02:37:18.693717Z"
    }
   },
   "outputs": [],
   "source": [
    "savee_df['Dataset'] = [\"SAVEE\"] * savee_count\n",
    "savee_df['Filepath'] = savee_filepath\n",
    "savee_df['Filename'] = savee_filename\n",
    "savee_df['Ext'] = savee_ext\n",
    "savee_df['Emotion'] = savee_emotion"
   ]
  },
  {
   "cell_type": "code",
   "execution_count": 37,
   "id": "7e33dd7e",
   "metadata": {
    "ExecuteTime": {
     "end_time": "2023-11-01T02:37:18.892904Z",
     "start_time": "2023-11-01T02:37:18.877279Z"
    }
   },
   "outputs": [
    {
     "data": {
      "application/vnd.microsoft.datawrangler.viewer.v0+json": {
       "columns": [
        {
         "name": "index",
         "rawType": "int64",
         "type": "integer"
        },
        {
         "name": "Id",
         "rawType": "object",
         "type": "unknown"
        },
        {
         "name": "Dataset",
         "rawType": "object",
         "type": "string"
        },
        {
         "name": "Filepath",
         "rawType": "object",
         "type": "string"
        },
        {
         "name": "Filename",
         "rawType": "object",
         "type": "string"
        },
        {
         "name": "Ext",
         "rawType": "object",
         "type": "string"
        },
        {
         "name": "Emotion",
         "rawType": "object",
         "type": "string"
        }
       ],
       "conversionMethod": "pd.DataFrame",
       "ref": "84d69bcc-84a9-4e4a-b304-2af6b1d419c2",
       "rows": [
        [
         "0",
         null,
         "SAVEE",
         "./dataset/savee\\DC_a01.wav",
         "DC_a01.wav",
         ".wav",
         "Anger"
        ],
        [
         "1",
         null,
         "SAVEE",
         "./dataset/savee\\DC_a02.wav",
         "DC_a02.wav",
         ".wav",
         "Anger"
        ],
        [
         "2",
         null,
         "SAVEE",
         "./dataset/savee\\DC_a03.wav",
         "DC_a03.wav",
         ".wav",
         "Anger"
        ],
        [
         "3",
         null,
         "SAVEE",
         "./dataset/savee\\DC_a04.wav",
         "DC_a04.wav",
         ".wav",
         "Anger"
        ],
        [
         "4",
         null,
         "SAVEE",
         "./dataset/savee\\DC_a05.wav",
         "DC_a05.wav",
         ".wav",
         "Anger"
        ]
       ],
       "shape": {
        "columns": 6,
        "rows": 5
       }
      },
      "text/html": [
       "<div>\n",
       "<style scoped>\n",
       "    .dataframe tbody tr th:only-of-type {\n",
       "        vertical-align: middle;\n",
       "    }\n",
       "\n",
       "    .dataframe tbody tr th {\n",
       "        vertical-align: top;\n",
       "    }\n",
       "\n",
       "    .dataframe thead th {\n",
       "        text-align: right;\n",
       "    }\n",
       "</style>\n",
       "<table border=\"1\" class=\"dataframe\">\n",
       "  <thead>\n",
       "    <tr style=\"text-align: right;\">\n",
       "      <th></th>\n",
       "      <th>Id</th>\n",
       "      <th>Dataset</th>\n",
       "      <th>Filepath</th>\n",
       "      <th>Filename</th>\n",
       "      <th>Ext</th>\n",
       "      <th>Emotion</th>\n",
       "    </tr>\n",
       "  </thead>\n",
       "  <tbody>\n",
       "    <tr>\n",
       "      <th>0</th>\n",
       "      <td>NaN</td>\n",
       "      <td>SAVEE</td>\n",
       "      <td>./dataset/savee\\DC_a01.wav</td>\n",
       "      <td>DC_a01.wav</td>\n",
       "      <td>.wav</td>\n",
       "      <td>Anger</td>\n",
       "    </tr>\n",
       "    <tr>\n",
       "      <th>1</th>\n",
       "      <td>NaN</td>\n",
       "      <td>SAVEE</td>\n",
       "      <td>./dataset/savee\\DC_a02.wav</td>\n",
       "      <td>DC_a02.wav</td>\n",
       "      <td>.wav</td>\n",
       "      <td>Anger</td>\n",
       "    </tr>\n",
       "    <tr>\n",
       "      <th>2</th>\n",
       "      <td>NaN</td>\n",
       "      <td>SAVEE</td>\n",
       "      <td>./dataset/savee\\DC_a03.wav</td>\n",
       "      <td>DC_a03.wav</td>\n",
       "      <td>.wav</td>\n",
       "      <td>Anger</td>\n",
       "    </tr>\n",
       "    <tr>\n",
       "      <th>3</th>\n",
       "      <td>NaN</td>\n",
       "      <td>SAVEE</td>\n",
       "      <td>./dataset/savee\\DC_a04.wav</td>\n",
       "      <td>DC_a04.wav</td>\n",
       "      <td>.wav</td>\n",
       "      <td>Anger</td>\n",
       "    </tr>\n",
       "    <tr>\n",
       "      <th>4</th>\n",
       "      <td>NaN</td>\n",
       "      <td>SAVEE</td>\n",
       "      <td>./dataset/savee\\DC_a05.wav</td>\n",
       "      <td>DC_a05.wav</td>\n",
       "      <td>.wav</td>\n",
       "      <td>Anger</td>\n",
       "    </tr>\n",
       "  </tbody>\n",
       "</table>\n",
       "</div>"
      ],
      "text/plain": [
       "    Id Dataset                    Filepath    Filename   Ext Emotion\n",
       "0  NaN   SAVEE  ./dataset/savee\\DC_a01.wav  DC_a01.wav  .wav   Anger\n",
       "1  NaN   SAVEE  ./dataset/savee\\DC_a02.wav  DC_a02.wav  .wav   Anger\n",
       "2  NaN   SAVEE  ./dataset/savee\\DC_a03.wav  DC_a03.wav  .wav   Anger\n",
       "3  NaN   SAVEE  ./dataset/savee\\DC_a04.wav  DC_a04.wav  .wav   Anger\n",
       "4  NaN   SAVEE  ./dataset/savee\\DC_a05.wav  DC_a05.wav  .wav   Anger"
      ]
     },
     "execution_count": 37,
     "metadata": {},
     "output_type": "execute_result"
    }
   ],
   "source": [
    "savee_df.head()"
   ]
  },
  {
   "cell_type": "markdown",
   "id": "4c66ebf4",
   "metadata": {},
   "source": [
    "### 6) TESS\n",
    "> https://www.kaggle.com/datasets/ejlok1/toronto-emotional-speech-set-tess\n",
    "\n",
    "- Labels in Folder name\n",
    "\n",
    "```shell\n",
    "OAF: 64, Female\n",
    "YAF: 26, Female\n",
    "```"
   ]
  },
  {
   "cell_type": "code",
   "execution_count": 38,
   "id": "261a08dd",
   "metadata": {
    "ExecuteTime": {
     "end_time": "2023-11-01T02:37:21.187962Z",
     "start_time": "2023-11-01T02:37:21.175760Z"
    }
   },
   "outputs": [
    {
     "name": "stdout",
     "output_type": "stream",
     "text": [
      "['OAF_angry', 'OAF_disgust', 'OAF_Fear', 'OAF_happy', 'OAF_neutral', 'OAF_Pleasant_surprise', 'OAF_Sad', 'YAF_angry', 'YAF_disgust', 'YAF_fear', 'YAF_happy', 'YAF_neutral', 'YAF_pleasant_surprised', 'YAF_sad']\n"
     ]
    }
   ],
   "source": [
    "tess_dir = './dataset/tess'\n",
    "tess_folders = os.listdir(tess_dir)\n",
    "print(tess_folders)"
   ]
  },
  {
   "cell_type": "code",
   "execution_count": 39,
   "id": "5d704cbb",
   "metadata": {
    "ExecuteTime": {
     "end_time": "2023-11-01T02:37:21.446171Z",
     "start_time": "2023-11-01T02:37:21.411137Z"
    }
   },
   "outputs": [],
   "source": [
    "tess_filepath = []\n",
    "tess_filename = []\n",
    "tess_ext = []\n",
    "tess_emotion = []\n",
    "emotion_list = {\"angry\":\"Anger\", \"disgust\":\"Disgust\", \"happy\": \"Happy\", \"neutral\":\"Neutral\", \"Sad\":\"Sad\", \"sad\":\"Sad\", \n",
    "                \"Fear\":\"Fear\", \"fear\":\"Fear\", \"Pleasant_surprise\":\"Surprise\", \"pleasant_surprised\":\"Surprise\"}\n",
    "for f in tess_folders:\n",
    "    speaker = f[:3]\n",
    "    emotion = emotion_list[f[4:]]\n",
    "        \n",
    "    speaker = \"Tess_\" + speaker    \n",
    "    filenames = os.listdir(os.path.join(tess_dir, f))\n",
    "    filepaths = glob.glob(os.path.join(tess_dir, f, \"*.wav\"))\n",
    "    \n",
    "    for i in range(len(filenames)):\n",
    "        _, ext = os.path.splitext(filenames[i])\n",
    "        \n",
    "    \n",
    "        tess_filepath.append(filepaths[i])\n",
    "        tess_filename.append(filenames[i])\n",
    "        tess_ext.append(ext)\n",
    "        tess_emotion.append(emotion)\n",
    "    "
   ]
  },
  {
   "cell_type": "code",
   "execution_count": 40,
   "id": "9235ad62",
   "metadata": {
    "ExecuteTime": {
     "end_time": "2023-11-01T02:37:22.694724Z",
     "start_time": "2023-11-01T02:37:22.685552Z"
    }
   },
   "outputs": [
    {
     "name": "stdout",
     "output_type": "stream",
     "text": [
      "The Number of TESS Dataset: 2798\n"
     ]
    }
   ],
   "source": [
    "tess_count = len(tess_filepath)\n",
    "print(\"The Number of TESS Dataset:\", tess_count)"
   ]
  },
  {
   "cell_type": "code",
   "execution_count": 41,
   "id": "11ec66cd",
   "metadata": {
    "ExecuteTime": {
     "end_time": "2023-11-01T02:37:22.875880Z",
     "start_time": "2023-11-01T02:37:22.860254Z"
    }
   },
   "outputs": [],
   "source": [
    "tess_df = pd.DataFrame(index = range(0, tess_count), \n",
    "                  columns = ['Id', 'Dataset', 'Filepath', 'Filename', 'Ext', 'Emotion'])"
   ]
  },
  {
   "cell_type": "code",
   "execution_count": 42,
   "id": "d0f0e778",
   "metadata": {
    "ExecuteTime": {
     "end_time": "2023-11-01T02:37:23.092470Z",
     "start_time": "2023-11-01T02:37:23.076845Z"
    }
   },
   "outputs": [],
   "source": [
    "tess_df[\"Dataset\"] = [\"TESS\"] * tess_count\n",
    "tess_df[\"Filepath\"] = tess_filepath\n",
    "tess_df[\"Filename\"] = tess_filename\n",
    "tess_df[\"Ext\"] = tess_ext\n",
    "tess_df[\"Emotion\"] = tess_emotion"
   ]
  },
  {
   "cell_type": "code",
   "execution_count": 43,
   "id": "32298caa",
   "metadata": {
    "ExecuteTime": {
     "end_time": "2023-11-01T02:37:23.309305Z",
     "start_time": "2023-11-01T02:37:23.276821Z"
    }
   },
   "outputs": [
    {
     "data": {
      "application/vnd.microsoft.datawrangler.viewer.v0+json": {
       "columns": [
        {
         "name": "index",
         "rawType": "int64",
         "type": "integer"
        },
        {
         "name": "Id",
         "rawType": "object",
         "type": "unknown"
        },
        {
         "name": "Dataset",
         "rawType": "object",
         "type": "string"
        },
        {
         "name": "Filepath",
         "rawType": "object",
         "type": "string"
        },
        {
         "name": "Filename",
         "rawType": "object",
         "type": "string"
        },
        {
         "name": "Ext",
         "rawType": "object",
         "type": "string"
        },
        {
         "name": "Emotion",
         "rawType": "object",
         "type": "string"
        }
       ],
       "conversionMethod": "pd.DataFrame",
       "ref": "716b3ed4-31cb-4001-ab33-6549753ed2d1",
       "rows": [
        [
         "0",
         null,
         "TESS",
         "./dataset/tess\\OAF_angry\\OAF_back_angry.wav",
         "OAF_back_angry.wav",
         ".wav",
         "Anger"
        ],
        [
         "1",
         null,
         "TESS",
         "./dataset/tess\\OAF_angry\\OAF_bar_angry.wav",
         "OAF_bar_angry.wav",
         ".wav",
         "Anger"
        ],
        [
         "2",
         null,
         "TESS",
         "./dataset/tess\\OAF_angry\\OAF_base_angry.wav",
         "OAF_base_angry.wav",
         ".wav",
         "Anger"
        ],
        [
         "3",
         null,
         "TESS",
         "./dataset/tess\\OAF_angry\\OAF_bath_angry.wav",
         "OAF_bath_angry.wav",
         ".wav",
         "Anger"
        ],
        [
         "4",
         null,
         "TESS",
         "./dataset/tess\\OAF_angry\\OAF_bean_angry.wav",
         "OAF_bean_angry.wav",
         ".wav",
         "Anger"
        ]
       ],
       "shape": {
        "columns": 6,
        "rows": 5
       }
      },
      "text/html": [
       "<div>\n",
       "<style scoped>\n",
       "    .dataframe tbody tr th:only-of-type {\n",
       "        vertical-align: middle;\n",
       "    }\n",
       "\n",
       "    .dataframe tbody tr th {\n",
       "        vertical-align: top;\n",
       "    }\n",
       "\n",
       "    .dataframe thead th {\n",
       "        text-align: right;\n",
       "    }\n",
       "</style>\n",
       "<table border=\"1\" class=\"dataframe\">\n",
       "  <thead>\n",
       "    <tr style=\"text-align: right;\">\n",
       "      <th></th>\n",
       "      <th>Id</th>\n",
       "      <th>Dataset</th>\n",
       "      <th>Filepath</th>\n",
       "      <th>Filename</th>\n",
       "      <th>Ext</th>\n",
       "      <th>Emotion</th>\n",
       "    </tr>\n",
       "  </thead>\n",
       "  <tbody>\n",
       "    <tr>\n",
       "      <th>0</th>\n",
       "      <td>NaN</td>\n",
       "      <td>TESS</td>\n",
       "      <td>./dataset/tess\\OAF_angry\\OAF_back_angry.wav</td>\n",
       "      <td>OAF_back_angry.wav</td>\n",
       "      <td>.wav</td>\n",
       "      <td>Anger</td>\n",
       "    </tr>\n",
       "    <tr>\n",
       "      <th>1</th>\n",
       "      <td>NaN</td>\n",
       "      <td>TESS</td>\n",
       "      <td>./dataset/tess\\OAF_angry\\OAF_bar_angry.wav</td>\n",
       "      <td>OAF_bar_angry.wav</td>\n",
       "      <td>.wav</td>\n",
       "      <td>Anger</td>\n",
       "    </tr>\n",
       "    <tr>\n",
       "      <th>2</th>\n",
       "      <td>NaN</td>\n",
       "      <td>TESS</td>\n",
       "      <td>./dataset/tess\\OAF_angry\\OAF_base_angry.wav</td>\n",
       "      <td>OAF_base_angry.wav</td>\n",
       "      <td>.wav</td>\n",
       "      <td>Anger</td>\n",
       "    </tr>\n",
       "    <tr>\n",
       "      <th>3</th>\n",
       "      <td>NaN</td>\n",
       "      <td>TESS</td>\n",
       "      <td>./dataset/tess\\OAF_angry\\OAF_bath_angry.wav</td>\n",
       "      <td>OAF_bath_angry.wav</td>\n",
       "      <td>.wav</td>\n",
       "      <td>Anger</td>\n",
       "    </tr>\n",
       "    <tr>\n",
       "      <th>4</th>\n",
       "      <td>NaN</td>\n",
       "      <td>TESS</td>\n",
       "      <td>./dataset/tess\\OAF_angry\\OAF_bean_angry.wav</td>\n",
       "      <td>OAF_bean_angry.wav</td>\n",
       "      <td>.wav</td>\n",
       "      <td>Anger</td>\n",
       "    </tr>\n",
       "  </tbody>\n",
       "</table>\n",
       "</div>"
      ],
      "text/plain": [
       "    Id Dataset                                     Filepath  \\\n",
       "0  NaN    TESS  ./dataset/tess\\OAF_angry\\OAF_back_angry.wav   \n",
       "1  NaN    TESS   ./dataset/tess\\OAF_angry\\OAF_bar_angry.wav   \n",
       "2  NaN    TESS  ./dataset/tess\\OAF_angry\\OAF_base_angry.wav   \n",
       "3  NaN    TESS  ./dataset/tess\\OAF_angry\\OAF_bath_angry.wav   \n",
       "4  NaN    TESS  ./dataset/tess\\OAF_angry\\OAF_bean_angry.wav   \n",
       "\n",
       "             Filename   Ext Emotion  \n",
       "0  OAF_back_angry.wav  .wav   Anger  \n",
       "1   OAF_bar_angry.wav  .wav   Anger  \n",
       "2  OAF_base_angry.wav  .wav   Anger  \n",
       "3  OAF_bath_angry.wav  .wav   Anger  \n",
       "4  OAF_bean_angry.wav  .wav   Anger  "
      ]
     },
     "execution_count": 43,
     "metadata": {},
     "output_type": "execute_result"
    }
   ],
   "source": [
    "tess_df.head()"
   ]
  },
  {
   "cell_type": "markdown",
   "id": "141969be",
   "metadata": {
    "ExecuteTime": {
     "end_time": "2023-10-30T06:51:35.527911Z",
     "start_time": "2023-10-30T06:51:35.524425Z"
    }
   },
   "source": [
    "## 7) ESD\n",
    "> https://hltsingapore.github.io/ESD/download.html\n",
    "- There is only English data in folder `0011` to `0020`."
   ]
  },
  {
   "cell_type": "code",
   "execution_count": 44,
   "id": "2202e721",
   "metadata": {
    "ExecuteTime": {
     "end_time": "2023-11-01T02:37:23.985266Z",
     "start_time": "2023-11-01T02:37:23.975687Z"
    }
   },
   "outputs": [],
   "source": [
    "esd_dir = './dataset/esd'\n",
    "esd_folders = os.listdir(esd_dir)"
   ]
  },
  {
   "cell_type": "code",
   "execution_count": 45,
   "id": "5e121db1",
   "metadata": {
    "ExecuteTime": {
     "end_time": "2023-11-01T02:37:24.192249Z",
     "start_time": "2023-11-01T02:37:24.160233Z"
    }
   },
   "outputs": [],
   "source": [
    "esd_sub_df = []\n",
    "for f in esd_folders:\n",
    "    path = os.path.join(esd_dir, f, f+\".txt\")\n",
    "    with open(path, \"r\") as f:\n",
    "        for line in f:\n",
    "            esd_sub_df.append(line.strip().split(\"\\t\"))"
   ]
  },
  {
   "cell_type": "code",
   "execution_count": 46,
   "id": "c425beb8",
   "metadata": {
    "ExecuteTime": {
     "end_time": "2023-11-01T02:37:24.363835Z",
     "start_time": "2023-11-01T02:37:24.344127Z"
    }
   },
   "outputs": [
    {
     "name": "stdout",
     "output_type": "stream",
     "text": [
      "(17500, 3)\n",
      "['0011_000001', 'The nine the eggs, I keep.', 'Neutral']\n",
      "The Number of ESD Dataset: 17500\n"
     ]
    }
   ],
   "source": [
    "print(np.shape(esd_sub_df))\n",
    "print(esd_sub_df[0])\n",
    "\n",
    "esd_count = len(esd_sub_df)\n",
    "print(\"The Number of ESD Dataset:\", esd_count)"
   ]
  },
  {
   "cell_type": "code",
   "execution_count": 47,
   "id": "52a7b2a0",
   "metadata": {
    "ExecuteTime": {
     "end_time": "2023-11-01T02:37:24.606193Z",
     "start_time": "2023-11-01T02:37:24.526764Z"
    }
   },
   "outputs": [],
   "source": [
    "esd_ext = []\n",
    "esd_filename = []\n",
    "esd_filepath = []\n",
    "esd_emotion = []\n",
    "emotion_list = {\"Angry\":\"Anger\", \"Happy\":\"Happy\", \"Neutral\":\"Neutral\", \"Sad\":\"Sad\", \"Surprise\":\"Surprise\"}\n",
    "for sub in esd_sub_df:\n",
    "    ext = \".wav\"\n",
    "    filename = sub[0] + ext\n",
    "    speaker = sub[0][:4]\n",
    "    filepath = os.path.join(esd_dir, speaker, sub[2], filename)\n",
    "    \n",
    "    emotion = emotion_list[sub[2]]\n",
    "    \n",
    "    esd_ext.append(ext)\n",
    "    esd_filename.append(filename)\n",
    "    esd_filepath.append(filepath)\n",
    "    esd_emotion.append(emotion)"
   ]
  },
  {
   "cell_type": "code",
   "execution_count": 48,
   "id": "aad092d0",
   "metadata": {
    "ExecuteTime": {
     "end_time": "2023-11-01T02:37:25.032595Z",
     "start_time": "2023-11-01T02:37:25.011342Z"
    }
   },
   "outputs": [],
   "source": [
    "esd_df = pd.DataFrame(index = range(0, esd_count), \n",
    "                  columns = ['Id', 'Dataset', 'Filepath', 'Filename', 'Ext', 'Emotion'])"
   ]
  },
  {
   "cell_type": "code",
   "execution_count": 49,
   "id": "677a5483",
   "metadata": {
    "ExecuteTime": {
     "end_time": "2023-11-01T02:37:25.449594Z",
     "start_time": "2023-11-01T02:37:25.427535Z"
    }
   },
   "outputs": [],
   "source": [
    "esd_df['Dataset'] = [\"ESD\"] * esd_count\n",
    "esd_df['Filepath'] = esd_filepath\n",
    "esd_df['Filename'] = esd_filename\n",
    "esd_df['Ext'] = esd_ext\n",
    "esd_df['Emotion'] = esd_emotion"
   ]
  },
  {
   "cell_type": "code",
   "execution_count": 50,
   "id": "3fcb18d6",
   "metadata": {
    "ExecuteTime": {
     "end_time": "2023-11-01T02:37:25.776061Z",
     "start_time": "2023-11-01T02:37:25.765063Z"
    }
   },
   "outputs": [
    {
     "data": {
      "application/vnd.microsoft.datawrangler.viewer.v0+json": {
       "columns": [
        {
         "name": "index",
         "rawType": "int64",
         "type": "integer"
        },
        {
         "name": "Id",
         "rawType": "object",
         "type": "unknown"
        },
        {
         "name": "Dataset",
         "rawType": "object",
         "type": "string"
        },
        {
         "name": "Filepath",
         "rawType": "object",
         "type": "string"
        },
        {
         "name": "Filename",
         "rawType": "object",
         "type": "string"
        },
        {
         "name": "Ext",
         "rawType": "object",
         "type": "string"
        },
        {
         "name": "Emotion",
         "rawType": "object",
         "type": "string"
        }
       ],
       "conversionMethod": "pd.DataFrame",
       "ref": "0141b8a1-248c-44d5-bb63-fc1ba8c18582",
       "rows": [
        [
         "0",
         null,
         "ESD",
         "./dataset/esd\\0011\\Neutral\\0011_000001.wav",
         "0011_000001.wav",
         ".wav",
         "Neutral"
        ],
        [
         "1",
         null,
         "ESD",
         "./dataset/esd\\0011\\Neutral\\0011_000002.wav",
         "0011_000002.wav",
         ".wav",
         "Neutral"
        ],
        [
         "2",
         null,
         "ESD",
         "./dataset/esd\\0011\\Neutral\\0011_000003.wav",
         "0011_000003.wav",
         ".wav",
         "Neutral"
        ],
        [
         "3",
         null,
         "ESD",
         "./dataset/esd\\0011\\Neutral\\0011_000004.wav",
         "0011_000004.wav",
         ".wav",
         "Neutral"
        ],
        [
         "4",
         null,
         "ESD",
         "./dataset/esd\\0011\\Neutral\\0011_000005.wav",
         "0011_000005.wav",
         ".wav",
         "Neutral"
        ]
       ],
       "shape": {
        "columns": 6,
        "rows": 5
       }
      },
      "text/html": [
       "<div>\n",
       "<style scoped>\n",
       "    .dataframe tbody tr th:only-of-type {\n",
       "        vertical-align: middle;\n",
       "    }\n",
       "\n",
       "    .dataframe tbody tr th {\n",
       "        vertical-align: top;\n",
       "    }\n",
       "\n",
       "    .dataframe thead th {\n",
       "        text-align: right;\n",
       "    }\n",
       "</style>\n",
       "<table border=\"1\" class=\"dataframe\">\n",
       "  <thead>\n",
       "    <tr style=\"text-align: right;\">\n",
       "      <th></th>\n",
       "      <th>Id</th>\n",
       "      <th>Dataset</th>\n",
       "      <th>Filepath</th>\n",
       "      <th>Filename</th>\n",
       "      <th>Ext</th>\n",
       "      <th>Emotion</th>\n",
       "    </tr>\n",
       "  </thead>\n",
       "  <tbody>\n",
       "    <tr>\n",
       "      <th>0</th>\n",
       "      <td>NaN</td>\n",
       "      <td>ESD</td>\n",
       "      <td>./dataset/esd\\0011\\Neutral\\0011_000001.wav</td>\n",
       "      <td>0011_000001.wav</td>\n",
       "      <td>.wav</td>\n",
       "      <td>Neutral</td>\n",
       "    </tr>\n",
       "    <tr>\n",
       "      <th>1</th>\n",
       "      <td>NaN</td>\n",
       "      <td>ESD</td>\n",
       "      <td>./dataset/esd\\0011\\Neutral\\0011_000002.wav</td>\n",
       "      <td>0011_000002.wav</td>\n",
       "      <td>.wav</td>\n",
       "      <td>Neutral</td>\n",
       "    </tr>\n",
       "    <tr>\n",
       "      <th>2</th>\n",
       "      <td>NaN</td>\n",
       "      <td>ESD</td>\n",
       "      <td>./dataset/esd\\0011\\Neutral\\0011_000003.wav</td>\n",
       "      <td>0011_000003.wav</td>\n",
       "      <td>.wav</td>\n",
       "      <td>Neutral</td>\n",
       "    </tr>\n",
       "    <tr>\n",
       "      <th>3</th>\n",
       "      <td>NaN</td>\n",
       "      <td>ESD</td>\n",
       "      <td>./dataset/esd\\0011\\Neutral\\0011_000004.wav</td>\n",
       "      <td>0011_000004.wav</td>\n",
       "      <td>.wav</td>\n",
       "      <td>Neutral</td>\n",
       "    </tr>\n",
       "    <tr>\n",
       "      <th>4</th>\n",
       "      <td>NaN</td>\n",
       "      <td>ESD</td>\n",
       "      <td>./dataset/esd\\0011\\Neutral\\0011_000005.wav</td>\n",
       "      <td>0011_000005.wav</td>\n",
       "      <td>.wav</td>\n",
       "      <td>Neutral</td>\n",
       "    </tr>\n",
       "  </tbody>\n",
       "</table>\n",
       "</div>"
      ],
      "text/plain": [
       "    Id Dataset                                    Filepath         Filename  \\\n",
       "0  NaN     ESD  ./dataset/esd\\0011\\Neutral\\0011_000001.wav  0011_000001.wav   \n",
       "1  NaN     ESD  ./dataset/esd\\0011\\Neutral\\0011_000002.wav  0011_000002.wav   \n",
       "2  NaN     ESD  ./dataset/esd\\0011\\Neutral\\0011_000003.wav  0011_000003.wav   \n",
       "3  NaN     ESD  ./dataset/esd\\0011\\Neutral\\0011_000004.wav  0011_000004.wav   \n",
       "4  NaN     ESD  ./dataset/esd\\0011\\Neutral\\0011_000005.wav  0011_000005.wav   \n",
       "\n",
       "    Ext  Emotion  \n",
       "0  .wav  Neutral  \n",
       "1  .wav  Neutral  \n",
       "2  .wav  Neutral  \n",
       "3  .wav  Neutral  \n",
       "4  .wav  Neutral  "
      ]
     },
     "execution_count": 50,
     "metadata": {},
     "output_type": "execute_result"
    }
   ],
   "source": [
    "esd_df.head()"
   ]
  },
  {
   "cell_type": "markdown",
   "id": "70fc88d9",
   "metadata": {},
   "source": [
    "## 8) JL Corpus\n",
    "> https://www.kaggle.com/datasets/tli725/jl-corpus\n",
    "\n",
    "- Labels in Filename\n",
    "```\n",
    "File naming rule: (Gender)(speaker.ID)_(Emotion)_(Sentence.ID)(session.ID)\n",
    "```"
   ]
  },
  {
   "cell_type": "code",
   "execution_count": 51,
   "id": "5916795a",
   "metadata": {
    "ExecuteTime": {
     "end_time": "2023-11-01T02:37:26.674342Z",
     "start_time": "2023-11-01T02:37:26.662549Z"
    }
   },
   "outputs": [
    {
     "name": "stdout",
     "output_type": "stream",
     "text": [
      "['female1_angry_10a_1.txt', 'female1_angry_10a_1.wav', 'female1_angry_10a_2.txt', 'female1_angry_10a_2.wav', 'female1_angry_10b_1.txt']\n"
     ]
    }
   ],
   "source": [
    "jl_dir = './dataset/jl-corpus/Raw JL corpus (unchecked and unannotated)/JL(wav+txt)'\n",
    "print(os.listdir(jl_dir)[:5])"
   ]
  },
  {
   "cell_type": "code",
   "execution_count": 52,
   "id": "0229fb85",
   "metadata": {
    "ExecuteTime": {
     "end_time": "2023-11-01T02:37:26.943652Z",
     "start_time": "2023-11-01T02:37:26.913973Z"
    }
   },
   "outputs": [],
   "source": [
    "jl_filename = os.listdir(jl_dir)\n",
    "jl_filename = [fn for fn in jl_filename if os.path.splitext(fn)[1] == '.wav']\n",
    "jl_filepath = glob.glob(os.path.join(jl_dir, \"*.wav\"))"
   ]
  },
  {
   "cell_type": "code",
   "execution_count": 53,
   "id": "93d64a76",
   "metadata": {
    "ExecuteTime": {
     "end_time": "2023-11-01T02:37:27.178445Z",
     "start_time": "2023-11-01T02:37:27.161920Z"
    }
   },
   "outputs": [
    {
     "name": "stdout",
     "output_type": "stream",
     "text": [
      "The Number of JL-Corpus Dataset: 2400\n"
     ]
    }
   ],
   "source": [
    "jl_count = len(jl_filename)\n",
    "print(\"The Number of JL-Corpus Dataset:\", jl_count)"
   ]
  },
  {
   "cell_type": "code",
   "execution_count": 54,
   "id": "f5fe418d",
   "metadata": {
    "ExecuteTime": {
     "end_time": "2023-11-01T02:37:27.525294Z",
     "start_time": "2023-11-01T02:37:27.362998Z"
    }
   },
   "outputs": [],
   "source": [
    "jl_ext = []\n",
    "jl_emotion = []\n",
    "emotion_list = {\"angry\":\"Anger\", \"anxious\":\"Anxious\", \"apologetic\":\"Apologetic\", \"assertive\":\"Assertive\", \"concerned\":\"Concerned\", \n",
    "                \"encouraging\":\"Encouraging\", \"excited\":\"Excited\", \"happy\":\"Happy\", \"neutral\":\"Neutral\", \"sad\":\"Sad\"}\n",
    "gender_list = {\"female1\":\"Female\", \"female2\":\"Female\", \"male1\":\"Male\", \"male2\":\"Male\"}\n",
    "for i in range(jl_count):\n",
    "    name, ext = os.path.splitext(jl_filename[i])\n",
    "    fn_list = jl_filename[i].split(\"_\")\n",
    "    \n",
    "    emotion = emotion_list[fn_list[1]]\n",
    "    \n",
    "    text = ''\n",
    "    with open(os.path.join(jl_dir, name + \".txt\"), \"r\") as f:\n",
    "        for line in f:\n",
    "            text += line\n",
    "\n",
    "    jl_ext.append(ext)\n",
    "    jl_emotion.append(emotion)"
   ]
  },
  {
   "cell_type": "code",
   "execution_count": 55,
   "id": "56887d02",
   "metadata": {
    "ExecuteTime": {
     "end_time": "2023-11-01T02:37:27.628494Z",
     "start_time": "2023-11-01T02:37:27.612591Z"
    }
   },
   "outputs": [
    {
     "name": "stdout",
     "output_type": "stream",
     "text": [
      "['Anger' 'Anxious' 'Apologetic' 'Assertive' 'Concerned' 'Encouraging'\n",
      " 'Excited' 'Happy' 'Neutral' 'Sad']\n"
     ]
    }
   ],
   "source": [
    "print(np.unique(jl_emotion))"
   ]
  },
  {
   "cell_type": "code",
   "execution_count": 56,
   "id": "c8f88d06",
   "metadata": {
    "ExecuteTime": {
     "end_time": "2023-11-01T02:37:27.893103Z",
     "start_time": "2023-11-01T02:37:27.877912Z"
    }
   },
   "outputs": [],
   "source": [
    "jl_df = pd.DataFrame(index = range(0, jl_count), \n",
    "                  columns = ['Id', 'Dataset', 'Filepath', 'Filename', 'Ext', 'Emotion'])"
   ]
  },
  {
   "cell_type": "code",
   "execution_count": 57,
   "id": "61003010",
   "metadata": {
    "ExecuteTime": {
     "end_time": "2023-11-01T02:37:28.178573Z",
     "start_time": "2023-11-01T02:37:28.163916Z"
    }
   },
   "outputs": [],
   "source": [
    "jl_df['Dataset'] = ['JL-CORPUS'] * jl_count\n",
    "jl_df['Filepath'] = jl_filepath\n",
    "jl_df['Filename'] = jl_filename\n",
    "jl_df['Ext'] = jl_ext\n",
    "jl_df['Emotion'] = jl_emotion"
   ]
  },
  {
   "cell_type": "code",
   "execution_count": 58,
   "id": "ae06bd66",
   "metadata": {
    "ExecuteTime": {
     "end_time": "2023-11-01T02:37:28.511865Z",
     "start_time": "2023-11-01T02:37:28.480898Z"
    }
   },
   "outputs": [
    {
     "data": {
      "application/vnd.microsoft.datawrangler.viewer.v0+json": {
       "columns": [
        {
         "name": "index",
         "rawType": "int64",
         "type": "integer"
        },
        {
         "name": "Id",
         "rawType": "object",
         "type": "unknown"
        },
        {
         "name": "Dataset",
         "rawType": "object",
         "type": "string"
        },
        {
         "name": "Filepath",
         "rawType": "object",
         "type": "string"
        },
        {
         "name": "Filename",
         "rawType": "object",
         "type": "string"
        },
        {
         "name": "Ext",
         "rawType": "object",
         "type": "string"
        },
        {
         "name": "Emotion",
         "rawType": "object",
         "type": "string"
        }
       ],
       "conversionMethod": "pd.DataFrame",
       "ref": "c2792a49-7996-4070-9886-ac6b816e48de",
       "rows": [
        [
         "0",
         null,
         "JL-CORPUS",
         "./dataset/jl-corpus/Raw JL corpus (unchecked and unannotated)/JL(wav+txt)\\female1_angry_10a_1.wav",
         "female1_angry_10a_1.wav",
         ".wav",
         "Anger"
        ],
        [
         "1",
         null,
         "JL-CORPUS",
         "./dataset/jl-corpus/Raw JL corpus (unchecked and unannotated)/JL(wav+txt)\\female1_angry_10a_2.wav",
         "female1_angry_10a_2.wav",
         ".wav",
         "Anger"
        ],
        [
         "2",
         null,
         "JL-CORPUS",
         "./dataset/jl-corpus/Raw JL corpus (unchecked and unannotated)/JL(wav+txt)\\female1_angry_10b_1.wav",
         "female1_angry_10b_1.wav",
         ".wav",
         "Anger"
        ],
        [
         "3",
         null,
         "JL-CORPUS",
         "./dataset/jl-corpus/Raw JL corpus (unchecked and unannotated)/JL(wav+txt)\\female1_angry_10b_2.wav",
         "female1_angry_10b_2.wav",
         ".wav",
         "Anger"
        ],
        [
         "4",
         null,
         "JL-CORPUS",
         "./dataset/jl-corpus/Raw JL corpus (unchecked and unannotated)/JL(wav+txt)\\female1_angry_11a_1.wav",
         "female1_angry_11a_1.wav",
         ".wav",
         "Anger"
        ]
       ],
       "shape": {
        "columns": 6,
        "rows": 5
       }
      },
      "text/html": [
       "<div>\n",
       "<style scoped>\n",
       "    .dataframe tbody tr th:only-of-type {\n",
       "        vertical-align: middle;\n",
       "    }\n",
       "\n",
       "    .dataframe tbody tr th {\n",
       "        vertical-align: top;\n",
       "    }\n",
       "\n",
       "    .dataframe thead th {\n",
       "        text-align: right;\n",
       "    }\n",
       "</style>\n",
       "<table border=\"1\" class=\"dataframe\">\n",
       "  <thead>\n",
       "    <tr style=\"text-align: right;\">\n",
       "      <th></th>\n",
       "      <th>Id</th>\n",
       "      <th>Dataset</th>\n",
       "      <th>Filepath</th>\n",
       "      <th>Filename</th>\n",
       "      <th>Ext</th>\n",
       "      <th>Emotion</th>\n",
       "    </tr>\n",
       "  </thead>\n",
       "  <tbody>\n",
       "    <tr>\n",
       "      <th>0</th>\n",
       "      <td>NaN</td>\n",
       "      <td>JL-CORPUS</td>\n",
       "      <td>./dataset/jl-corpus/Raw JL corpus (unchecked a...</td>\n",
       "      <td>female1_angry_10a_1.wav</td>\n",
       "      <td>.wav</td>\n",
       "      <td>Anger</td>\n",
       "    </tr>\n",
       "    <tr>\n",
       "      <th>1</th>\n",
       "      <td>NaN</td>\n",
       "      <td>JL-CORPUS</td>\n",
       "      <td>./dataset/jl-corpus/Raw JL corpus (unchecked a...</td>\n",
       "      <td>female1_angry_10a_2.wav</td>\n",
       "      <td>.wav</td>\n",
       "      <td>Anger</td>\n",
       "    </tr>\n",
       "    <tr>\n",
       "      <th>2</th>\n",
       "      <td>NaN</td>\n",
       "      <td>JL-CORPUS</td>\n",
       "      <td>./dataset/jl-corpus/Raw JL corpus (unchecked a...</td>\n",
       "      <td>female1_angry_10b_1.wav</td>\n",
       "      <td>.wav</td>\n",
       "      <td>Anger</td>\n",
       "    </tr>\n",
       "    <tr>\n",
       "      <th>3</th>\n",
       "      <td>NaN</td>\n",
       "      <td>JL-CORPUS</td>\n",
       "      <td>./dataset/jl-corpus/Raw JL corpus (unchecked a...</td>\n",
       "      <td>female1_angry_10b_2.wav</td>\n",
       "      <td>.wav</td>\n",
       "      <td>Anger</td>\n",
       "    </tr>\n",
       "    <tr>\n",
       "      <th>4</th>\n",
       "      <td>NaN</td>\n",
       "      <td>JL-CORPUS</td>\n",
       "      <td>./dataset/jl-corpus/Raw JL corpus (unchecked a...</td>\n",
       "      <td>female1_angry_11a_1.wav</td>\n",
       "      <td>.wav</td>\n",
       "      <td>Anger</td>\n",
       "    </tr>\n",
       "  </tbody>\n",
       "</table>\n",
       "</div>"
      ],
      "text/plain": [
       "    Id    Dataset                                           Filepath  \\\n",
       "0  NaN  JL-CORPUS  ./dataset/jl-corpus/Raw JL corpus (unchecked a...   \n",
       "1  NaN  JL-CORPUS  ./dataset/jl-corpus/Raw JL corpus (unchecked a...   \n",
       "2  NaN  JL-CORPUS  ./dataset/jl-corpus/Raw JL corpus (unchecked a...   \n",
       "3  NaN  JL-CORPUS  ./dataset/jl-corpus/Raw JL corpus (unchecked a...   \n",
       "4  NaN  JL-CORPUS  ./dataset/jl-corpus/Raw JL corpus (unchecked a...   \n",
       "\n",
       "                  Filename   Ext Emotion  \n",
       "0  female1_angry_10a_1.wav  .wav   Anger  \n",
       "1  female1_angry_10a_2.wav  .wav   Anger  \n",
       "2  female1_angry_10b_1.wav  .wav   Anger  \n",
       "3  female1_angry_10b_2.wav  .wav   Anger  \n",
       "4  female1_angry_11a_1.wav  .wav   Anger  "
      ]
     },
     "execution_count": 58,
     "metadata": {},
     "output_type": "execute_result"
    }
   ],
   "source": [
    "jl_df.head()"
   ]
  },
  {
   "cell_type": "markdown",
   "id": "1e592482",
   "metadata": {},
   "source": [
    "## 2. Make Dataframe"
   ]
  },
  {
   "cell_type": "code",
   "execution_count": 59,
   "id": "432efbda",
   "metadata": {
    "ExecuteTime": {
     "end_time": "2023-11-01T02:37:29.658813Z",
     "start_time": "2023-11-01T02:37:29.479816Z"
    }
   },
   "outputs": [
    {
     "data": {
      "application/vnd.microsoft.datawrangler.viewer.v0+json": {
       "columns": [
        {
         "name": "index",
         "rawType": "int64",
         "type": "integer"
        },
        {
         "name": "Id",
         "rawType": "object",
         "type": "unknown"
        },
        {
         "name": "Dataset",
         "rawType": "object",
         "type": "string"
        },
        {
         "name": "Filepath",
         "rawType": "object",
         "type": "string"
        },
        {
         "name": "Filename",
         "rawType": "object",
         "type": "string"
        },
        {
         "name": "Ext",
         "rawType": "object",
         "type": "string"
        },
        {
         "name": "Emotion",
         "rawType": "object",
         "type": "string"
        }
       ],
       "conversionMethod": "pd.DataFrame",
       "ref": "7290a795-e835-430e-a06b-fdc1ecb251ec",
       "rows": [
        [
         "0",
         null,
         "CREMA-D",
         "./dataset/crema-d\\AudioWAV\\1001_DFA_ANG_XX.wav",
         "1001_DFA_ANG_XX.wav",
         ".wav",
         "Anger"
        ],
        [
         "1",
         null,
         "CREMA-D",
         "./dataset/crema-d\\AudioWAV\\1001_DFA_DIS_XX.wav",
         "1001_DFA_DIS_XX.wav",
         ".wav",
         "Disgust"
        ],
        [
         "2",
         null,
         "CREMA-D",
         "./dataset/crema-d\\AudioWAV\\1001_DFA_FEA_XX.wav",
         "1001_DFA_FEA_XX.wav",
         ".wav",
         "Fear"
        ],
        [
         "3",
         null,
         "CREMA-D",
         "./dataset/crema-d\\AudioWAV\\1001_DFA_HAP_XX.wav",
         "1001_DFA_HAP_XX.wav",
         ".wav",
         "Happy"
        ],
        [
         "4",
         null,
         "CREMA-D",
         "./dataset/crema-d\\AudioWAV\\1001_DFA_NEU_XX.wav",
         "1001_DFA_NEU_XX.wav",
         ".wav",
         "Neutral"
        ],
        [
         "5",
         null,
         "CREMA-D",
         "./dataset/crema-d\\AudioWAV\\1001_DFA_SAD_XX.wav",
         "1001_DFA_SAD_XX.wav",
         ".wav",
         "Sad"
        ],
        [
         "6",
         null,
         "CREMA-D",
         "./dataset/crema-d\\AudioWAV\\1001_IEO_ANG_HI.wav",
         "1001_IEO_ANG_HI.wav",
         ".wav",
         "Anger"
        ],
        [
         "7",
         null,
         "CREMA-D",
         "./dataset/crema-d\\AudioWAV\\1001_IEO_ANG_LO.wav",
         "1001_IEO_ANG_LO.wav",
         ".wav",
         "Anger"
        ],
        [
         "8",
         null,
         "CREMA-D",
         "./dataset/crema-d\\AudioWAV\\1001_IEO_ANG_MD.wav",
         "1001_IEO_ANG_MD.wav",
         ".wav",
         "Anger"
        ],
        [
         "9",
         null,
         "CREMA-D",
         "./dataset/crema-d\\AudioWAV\\1001_IEO_DIS_HI.wav",
         "1001_IEO_DIS_HI.wav",
         ".wav",
         "Disgust"
        ],
        [
         "10",
         null,
         "CREMA-D",
         "./dataset/crema-d\\AudioWAV\\1001_IEO_DIS_LO.wav",
         "1001_IEO_DIS_LO.wav",
         ".wav",
         "Disgust"
        ],
        [
         "11",
         null,
         "CREMA-D",
         "./dataset/crema-d\\AudioWAV\\1001_IEO_DIS_MD.wav",
         "1001_IEO_DIS_MD.wav",
         ".wav",
         "Disgust"
        ],
        [
         "12",
         null,
         "CREMA-D",
         "./dataset/crema-d\\AudioWAV\\1001_IEO_FEA_HI.wav",
         "1001_IEO_FEA_HI.wav",
         ".wav",
         "Fear"
        ],
        [
         "13",
         null,
         "CREMA-D",
         "./dataset/crema-d\\AudioWAV\\1001_IEO_FEA_LO.wav",
         "1001_IEO_FEA_LO.wav",
         ".wav",
         "Fear"
        ],
        [
         "14",
         null,
         "CREMA-D",
         "./dataset/crema-d\\AudioWAV\\1001_IEO_FEA_MD.wav",
         "1001_IEO_FEA_MD.wav",
         ".wav",
         "Fear"
        ],
        [
         "15",
         null,
         "CREMA-D",
         "./dataset/crema-d\\AudioWAV\\1001_IEO_HAP_HI.wav",
         "1001_IEO_HAP_HI.wav",
         ".wav",
         "Happy"
        ],
        [
         "16",
         null,
         "CREMA-D",
         "./dataset/crema-d\\AudioWAV\\1001_IEO_HAP_LO.wav",
         "1001_IEO_HAP_LO.wav",
         ".wav",
         "Happy"
        ],
        [
         "17",
         null,
         "CREMA-D",
         "./dataset/crema-d\\AudioWAV\\1001_IEO_HAP_MD.wav",
         "1001_IEO_HAP_MD.wav",
         ".wav",
         "Happy"
        ],
        [
         "18",
         null,
         "CREMA-D",
         "./dataset/crema-d\\AudioWAV\\1001_IEO_NEU_XX.wav",
         "1001_IEO_NEU_XX.wav",
         ".wav",
         "Neutral"
        ],
        [
         "19",
         null,
         "CREMA-D",
         "./dataset/crema-d\\AudioWAV\\1001_IEO_SAD_HI.wav",
         "1001_IEO_SAD_HI.wav",
         ".wav",
         "Sad"
        ],
        [
         "20",
         null,
         "CREMA-D",
         "./dataset/crema-d\\AudioWAV\\1001_IEO_SAD_LO.wav",
         "1001_IEO_SAD_LO.wav",
         ".wav",
         "Sad"
        ],
        [
         "21",
         null,
         "CREMA-D",
         "./dataset/crema-d\\AudioWAV\\1001_IEO_SAD_MD.wav",
         "1001_IEO_SAD_MD.wav",
         ".wav",
         "Sad"
        ],
        [
         "22",
         null,
         "CREMA-D",
         "./dataset/crema-d\\AudioWAV\\1001_IOM_ANG_XX.wav",
         "1001_IOM_ANG_XX.wav",
         ".wav",
         "Anger"
        ],
        [
         "23",
         null,
         "CREMA-D",
         "./dataset/crema-d\\AudioWAV\\1001_IOM_DIS_XX.wav",
         "1001_IOM_DIS_XX.wav",
         ".wav",
         "Disgust"
        ],
        [
         "24",
         null,
         "CREMA-D",
         "./dataset/crema-d\\AudioWAV\\1001_IOM_FEA_XX.wav",
         "1001_IOM_FEA_XX.wav",
         ".wav",
         "Fear"
        ],
        [
         "25",
         null,
         "CREMA-D",
         "./dataset/crema-d\\AudioWAV\\1001_IOM_HAP_XX.wav",
         "1001_IOM_HAP_XX.wav",
         ".wav",
         "Happy"
        ],
        [
         "26",
         null,
         "CREMA-D",
         "./dataset/crema-d\\AudioWAV\\1001_IOM_NEU_XX.wav",
         "1001_IOM_NEU_XX.wav",
         ".wav",
         "Neutral"
        ],
        [
         "27",
         null,
         "CREMA-D",
         "./dataset/crema-d\\AudioWAV\\1001_IOM_SAD_XX.wav",
         "1001_IOM_SAD_XX.wav",
         ".wav",
         "Sad"
        ],
        [
         "28",
         null,
         "CREMA-D",
         "./dataset/crema-d\\AudioWAV\\1001_ITH_ANG_XX.wav",
         "1001_ITH_ANG_XX.wav",
         ".wav",
         "Anger"
        ],
        [
         "29",
         null,
         "CREMA-D",
         "./dataset/crema-d\\AudioWAV\\1001_ITH_DIS_XX.wav",
         "1001_ITH_DIS_XX.wav",
         ".wav",
         "Disgust"
        ],
        [
         "30",
         null,
         "CREMA-D",
         "./dataset/crema-d\\AudioWAV\\1001_ITH_FEA_XX.wav",
         "1001_ITH_FEA_XX.wav",
         ".wav",
         "Fear"
        ],
        [
         "31",
         null,
         "CREMA-D",
         "./dataset/crema-d\\AudioWAV\\1001_ITH_HAP_XX.wav",
         "1001_ITH_HAP_XX.wav",
         ".wav",
         "Happy"
        ],
        [
         "32",
         null,
         "CREMA-D",
         "./dataset/crema-d\\AudioWAV\\1001_ITH_NEU_XX.wav",
         "1001_ITH_NEU_XX.wav",
         ".wav",
         "Neutral"
        ],
        [
         "33",
         null,
         "CREMA-D",
         "./dataset/crema-d\\AudioWAV\\1001_ITH_SAD_XX.wav",
         "1001_ITH_SAD_XX.wav",
         ".wav",
         "Sad"
        ],
        [
         "34",
         null,
         "CREMA-D",
         "./dataset/crema-d\\AudioWAV\\1001_ITS_ANG_XX.wav",
         "1001_ITS_ANG_XX.wav",
         ".wav",
         "Anger"
        ],
        [
         "35",
         null,
         "CREMA-D",
         "./dataset/crema-d\\AudioWAV\\1001_ITS_DIS_XX.wav",
         "1001_ITS_DIS_XX.wav",
         ".wav",
         "Disgust"
        ],
        [
         "36",
         null,
         "CREMA-D",
         "./dataset/crema-d\\AudioWAV\\1001_ITS_FEA_XX.wav",
         "1001_ITS_FEA_XX.wav",
         ".wav",
         "Fear"
        ],
        [
         "37",
         null,
         "CREMA-D",
         "./dataset/crema-d\\AudioWAV\\1001_ITS_HAP_XX.wav",
         "1001_ITS_HAP_XX.wav",
         ".wav",
         "Happy"
        ],
        [
         "38",
         null,
         "CREMA-D",
         "./dataset/crema-d\\AudioWAV\\1001_ITS_NEU_XX.wav",
         "1001_ITS_NEU_XX.wav",
         ".wav",
         "Neutral"
        ],
        [
         "39",
         null,
         "CREMA-D",
         "./dataset/crema-d\\AudioWAV\\1001_ITS_SAD_XX.wav",
         "1001_ITS_SAD_XX.wav",
         ".wav",
         "Sad"
        ],
        [
         "40",
         null,
         "CREMA-D",
         "./dataset/crema-d\\AudioWAV\\1001_IWL_ANG_XX.wav",
         "1001_IWL_ANG_XX.wav",
         ".wav",
         "Anger"
        ],
        [
         "41",
         null,
         "CREMA-D",
         "./dataset/crema-d\\AudioWAV\\1001_IWL_DIS_XX.wav",
         "1001_IWL_DIS_XX.wav",
         ".wav",
         "Disgust"
        ],
        [
         "42",
         null,
         "CREMA-D",
         "./dataset/crema-d\\AudioWAV\\1001_IWL_FEA_XX.wav",
         "1001_IWL_FEA_XX.wav",
         ".wav",
         "Fear"
        ],
        [
         "43",
         null,
         "CREMA-D",
         "./dataset/crema-d\\AudioWAV\\1001_IWL_HAP_XX.wav",
         "1001_IWL_HAP_XX.wav",
         ".wav",
         "Happy"
        ],
        [
         "44",
         null,
         "CREMA-D",
         "./dataset/crema-d\\AudioWAV\\1001_IWL_NEU_XX.wav",
         "1001_IWL_NEU_XX.wav",
         ".wav",
         "Neutral"
        ],
        [
         "45",
         null,
         "CREMA-D",
         "./dataset/crema-d\\AudioWAV\\1001_IWL_SAD_XX.wav",
         "1001_IWL_SAD_XX.wav",
         ".wav",
         "Sad"
        ],
        [
         "46",
         null,
         "CREMA-D",
         "./dataset/crema-d\\AudioWAV\\1001_IWW_ANG_XX.wav",
         "1001_IWW_ANG_XX.wav",
         ".wav",
         "Anger"
        ],
        [
         "47",
         null,
         "CREMA-D",
         "./dataset/crema-d\\AudioWAV\\1001_IWW_DIS_XX.wav",
         "1001_IWW_DIS_XX.wav",
         ".wav",
         "Disgust"
        ],
        [
         "48",
         null,
         "CREMA-D",
         "./dataset/crema-d\\AudioWAV\\1001_IWW_FEA_XX.wav",
         "1001_IWW_FEA_XX.wav",
         ".wav",
         "Fear"
        ],
        [
         "49",
         null,
         "CREMA-D",
         "./dataset/crema-d\\AudioWAV\\1001_IWW_HAP_XX.wav",
         "1001_IWW_HAP_XX.wav",
         ".wav",
         "Happy"
        ]
       ],
       "shape": {
        "columns": 6,
        "rows": 74702
       }
      },
      "text/html": [
       "<div>\n",
       "<style scoped>\n",
       "    .dataframe tbody tr th:only-of-type {\n",
       "        vertical-align: middle;\n",
       "    }\n",
       "\n",
       "    .dataframe tbody tr th {\n",
       "        vertical-align: top;\n",
       "    }\n",
       "\n",
       "    .dataframe thead th {\n",
       "        text-align: right;\n",
       "    }\n",
       "</style>\n",
       "<table border=\"1\" class=\"dataframe\">\n",
       "  <thead>\n",
       "    <tr style=\"text-align: right;\">\n",
       "      <th></th>\n",
       "      <th>Id</th>\n",
       "      <th>Dataset</th>\n",
       "      <th>Filepath</th>\n",
       "      <th>Filename</th>\n",
       "      <th>Ext</th>\n",
       "      <th>Emotion</th>\n",
       "    </tr>\n",
       "  </thead>\n",
       "  <tbody>\n",
       "    <tr>\n",
       "      <th>0</th>\n",
       "      <td>NaN</td>\n",
       "      <td>CREMA-D</td>\n",
       "      <td>./dataset/crema-d\\AudioWAV\\1001_DFA_ANG_XX.wav</td>\n",
       "      <td>1001_DFA_ANG_XX.wav</td>\n",
       "      <td>.wav</td>\n",
       "      <td>Anger</td>\n",
       "    </tr>\n",
       "    <tr>\n",
       "      <th>1</th>\n",
       "      <td>NaN</td>\n",
       "      <td>CREMA-D</td>\n",
       "      <td>./dataset/crema-d\\AudioWAV\\1001_DFA_DIS_XX.wav</td>\n",
       "      <td>1001_DFA_DIS_XX.wav</td>\n",
       "      <td>.wav</td>\n",
       "      <td>Disgust</td>\n",
       "    </tr>\n",
       "    <tr>\n",
       "      <th>2</th>\n",
       "      <td>NaN</td>\n",
       "      <td>CREMA-D</td>\n",
       "      <td>./dataset/crema-d\\AudioWAV\\1001_DFA_FEA_XX.wav</td>\n",
       "      <td>1001_DFA_FEA_XX.wav</td>\n",
       "      <td>.wav</td>\n",
       "      <td>Fear</td>\n",
       "    </tr>\n",
       "    <tr>\n",
       "      <th>3</th>\n",
       "      <td>NaN</td>\n",
       "      <td>CREMA-D</td>\n",
       "      <td>./dataset/crema-d\\AudioWAV\\1001_DFA_HAP_XX.wav</td>\n",
       "      <td>1001_DFA_HAP_XX.wav</td>\n",
       "      <td>.wav</td>\n",
       "      <td>Happy</td>\n",
       "    </tr>\n",
       "    <tr>\n",
       "      <th>4</th>\n",
       "      <td>NaN</td>\n",
       "      <td>CREMA-D</td>\n",
       "      <td>./dataset/crema-d\\AudioWAV\\1001_DFA_NEU_XX.wav</td>\n",
       "      <td>1001_DFA_NEU_XX.wav</td>\n",
       "      <td>.wav</td>\n",
       "      <td>Neutral</td>\n",
       "    </tr>\n",
       "    <tr>\n",
       "      <th>...</th>\n",
       "      <td>...</td>\n",
       "      <td>...</td>\n",
       "      <td>...</td>\n",
       "      <td>...</td>\n",
       "      <td>...</td>\n",
       "      <td>...</td>\n",
       "    </tr>\n",
       "    <tr>\n",
       "      <th>74697</th>\n",
       "      <td>NaN</td>\n",
       "      <td>JL-CORPUS</td>\n",
       "      <td>./dataset/jl-corpus/Raw JL corpus (unchecked a...</td>\n",
       "      <td>male2_sad_8b_2.wav</td>\n",
       "      <td>.wav</td>\n",
       "      <td>Sad</td>\n",
       "    </tr>\n",
       "    <tr>\n",
       "      <th>74698</th>\n",
       "      <td>NaN</td>\n",
       "      <td>JL-CORPUS</td>\n",
       "      <td>./dataset/jl-corpus/Raw JL corpus (unchecked a...</td>\n",
       "      <td>male2_sad_9a_1.wav</td>\n",
       "      <td>.wav</td>\n",
       "      <td>Sad</td>\n",
       "    </tr>\n",
       "    <tr>\n",
       "      <th>74699</th>\n",
       "      <td>NaN</td>\n",
       "      <td>JL-CORPUS</td>\n",
       "      <td>./dataset/jl-corpus/Raw JL corpus (unchecked a...</td>\n",
       "      <td>male2_sad_9a_2.wav</td>\n",
       "      <td>.wav</td>\n",
       "      <td>Sad</td>\n",
       "    </tr>\n",
       "    <tr>\n",
       "      <th>74700</th>\n",
       "      <td>NaN</td>\n",
       "      <td>JL-CORPUS</td>\n",
       "      <td>./dataset/jl-corpus/Raw JL corpus (unchecked a...</td>\n",
       "      <td>male2_sad_9b_1.wav</td>\n",
       "      <td>.wav</td>\n",
       "      <td>Sad</td>\n",
       "    </tr>\n",
       "    <tr>\n",
       "      <th>74701</th>\n",
       "      <td>NaN</td>\n",
       "      <td>JL-CORPUS</td>\n",
       "      <td>./dataset/jl-corpus/Raw JL corpus (unchecked a...</td>\n",
       "      <td>male2_sad_9b_2.wav</td>\n",
       "      <td>.wav</td>\n",
       "      <td>Sad</td>\n",
       "    </tr>\n",
       "  </tbody>\n",
       "</table>\n",
       "<p>74702 rows × 6 columns</p>\n",
       "</div>"
      ],
      "text/plain": [
       "        Id    Dataset                                           Filepath  \\\n",
       "0      NaN    CREMA-D     ./dataset/crema-d\\AudioWAV\\1001_DFA_ANG_XX.wav   \n",
       "1      NaN    CREMA-D     ./dataset/crema-d\\AudioWAV\\1001_DFA_DIS_XX.wav   \n",
       "2      NaN    CREMA-D     ./dataset/crema-d\\AudioWAV\\1001_DFA_FEA_XX.wav   \n",
       "3      NaN    CREMA-D     ./dataset/crema-d\\AudioWAV\\1001_DFA_HAP_XX.wav   \n",
       "4      NaN    CREMA-D     ./dataset/crema-d\\AudioWAV\\1001_DFA_NEU_XX.wav   \n",
       "...    ...        ...                                                ...   \n",
       "74697  NaN  JL-CORPUS  ./dataset/jl-corpus/Raw JL corpus (unchecked a...   \n",
       "74698  NaN  JL-CORPUS  ./dataset/jl-corpus/Raw JL corpus (unchecked a...   \n",
       "74699  NaN  JL-CORPUS  ./dataset/jl-corpus/Raw JL corpus (unchecked a...   \n",
       "74700  NaN  JL-CORPUS  ./dataset/jl-corpus/Raw JL corpus (unchecked a...   \n",
       "74701  NaN  JL-CORPUS  ./dataset/jl-corpus/Raw JL corpus (unchecked a...   \n",
       "\n",
       "                  Filename   Ext  Emotion  \n",
       "0      1001_DFA_ANG_XX.wav  .wav    Anger  \n",
       "1      1001_DFA_DIS_XX.wav  .wav  Disgust  \n",
       "2      1001_DFA_FEA_XX.wav  .wav     Fear  \n",
       "3      1001_DFA_HAP_XX.wav  .wav    Happy  \n",
       "4      1001_DFA_NEU_XX.wav  .wav  Neutral  \n",
       "...                    ...   ...      ...  \n",
       "74697   male2_sad_8b_2.wav  .wav      Sad  \n",
       "74698   male2_sad_9a_1.wav  .wav      Sad  \n",
       "74699   male2_sad_9a_2.wav  .wav      Sad  \n",
       "74700   male2_sad_9b_1.wav  .wav      Sad  \n",
       "74701   male2_sad_9b_2.wav  .wav      Sad  \n",
       "\n",
       "[74702 rows x 6 columns]"
      ]
     },
     "execution_count": 59,
     "metadata": {},
     "output_type": "execute_result"
    }
   ],
   "source": [
    "df = pd.concat([crema_df, meld_df, mlend_df, rav_df, savee_df, tess_df, esd_df, jl_df], ignore_index = True)\n",
    "df"
   ]
  },
  {
   "cell_type": "code",
   "execution_count": 60,
   "id": "0a1d6eb9",
   "metadata": {},
   "outputs": [
    {
     "data": {
      "application/vnd.microsoft.datawrangler.viewer.v0+json": {
       "columns": [
        {
         "name": "index",
         "rawType": "int64",
         "type": "integer"
        },
        {
         "name": "Id",
         "rawType": "int64",
         "type": "integer"
        },
        {
         "name": "Dataset",
         "rawType": "object",
         "type": "string"
        },
        {
         "name": "Filepath",
         "rawType": "object",
         "type": "string"
        },
        {
         "name": "Filename",
         "rawType": "object",
         "type": "string"
        },
        {
         "name": "Ext",
         "rawType": "object",
         "type": "string"
        },
        {
         "name": "Emotion",
         "rawType": "object",
         "type": "string"
        }
       ],
       "conversionMethod": "pd.DataFrame",
       "ref": "6bded03e-797c-4271-adf5-d9c068acc7ee",
       "rows": [
        [
         "74697",
         "74697",
         "JL-CORPUS",
         "./dataset/jl-corpus/Raw JL corpus (unchecked and unannotated)/JL(wav+txt)\\male2_sad_8b_2.wav",
         "male2_sad_8b_2.wav",
         ".wav",
         "Sad"
        ],
        [
         "74698",
         "74698",
         "JL-CORPUS",
         "./dataset/jl-corpus/Raw JL corpus (unchecked and unannotated)/JL(wav+txt)\\male2_sad_9a_1.wav",
         "male2_sad_9a_1.wav",
         ".wav",
         "Sad"
        ],
        [
         "74699",
         "74699",
         "JL-CORPUS",
         "./dataset/jl-corpus/Raw JL corpus (unchecked and unannotated)/JL(wav+txt)\\male2_sad_9a_2.wav",
         "male2_sad_9a_2.wav",
         ".wav",
         "Sad"
        ],
        [
         "74700",
         "74700",
         "JL-CORPUS",
         "./dataset/jl-corpus/Raw JL corpus (unchecked and unannotated)/JL(wav+txt)\\male2_sad_9b_1.wav",
         "male2_sad_9b_1.wav",
         ".wav",
         "Sad"
        ],
        [
         "74701",
         "74701",
         "JL-CORPUS",
         "./dataset/jl-corpus/Raw JL corpus (unchecked and unannotated)/JL(wav+txt)\\male2_sad_9b_2.wav",
         "male2_sad_9b_2.wav",
         ".wav",
         "Sad"
        ]
       ],
       "shape": {
        "columns": 6,
        "rows": 5
       }
      },
      "text/html": [
       "<div>\n",
       "<style scoped>\n",
       "    .dataframe tbody tr th:only-of-type {\n",
       "        vertical-align: middle;\n",
       "    }\n",
       "\n",
       "    .dataframe tbody tr th {\n",
       "        vertical-align: top;\n",
       "    }\n",
       "\n",
       "    .dataframe thead th {\n",
       "        text-align: right;\n",
       "    }\n",
       "</style>\n",
       "<table border=\"1\" class=\"dataframe\">\n",
       "  <thead>\n",
       "    <tr style=\"text-align: right;\">\n",
       "      <th></th>\n",
       "      <th>Id</th>\n",
       "      <th>Dataset</th>\n",
       "      <th>Filepath</th>\n",
       "      <th>Filename</th>\n",
       "      <th>Ext</th>\n",
       "      <th>Emotion</th>\n",
       "    </tr>\n",
       "  </thead>\n",
       "  <tbody>\n",
       "    <tr>\n",
       "      <th>74697</th>\n",
       "      <td>74697</td>\n",
       "      <td>JL-CORPUS</td>\n",
       "      <td>./dataset/jl-corpus/Raw JL corpus (unchecked a...</td>\n",
       "      <td>male2_sad_8b_2.wav</td>\n",
       "      <td>.wav</td>\n",
       "      <td>Sad</td>\n",
       "    </tr>\n",
       "    <tr>\n",
       "      <th>74698</th>\n",
       "      <td>74698</td>\n",
       "      <td>JL-CORPUS</td>\n",
       "      <td>./dataset/jl-corpus/Raw JL corpus (unchecked a...</td>\n",
       "      <td>male2_sad_9a_1.wav</td>\n",
       "      <td>.wav</td>\n",
       "      <td>Sad</td>\n",
       "    </tr>\n",
       "    <tr>\n",
       "      <th>74699</th>\n",
       "      <td>74699</td>\n",
       "      <td>JL-CORPUS</td>\n",
       "      <td>./dataset/jl-corpus/Raw JL corpus (unchecked a...</td>\n",
       "      <td>male2_sad_9a_2.wav</td>\n",
       "      <td>.wav</td>\n",
       "      <td>Sad</td>\n",
       "    </tr>\n",
       "    <tr>\n",
       "      <th>74700</th>\n",
       "      <td>74700</td>\n",
       "      <td>JL-CORPUS</td>\n",
       "      <td>./dataset/jl-corpus/Raw JL corpus (unchecked a...</td>\n",
       "      <td>male2_sad_9b_1.wav</td>\n",
       "      <td>.wav</td>\n",
       "      <td>Sad</td>\n",
       "    </tr>\n",
       "    <tr>\n",
       "      <th>74701</th>\n",
       "      <td>74701</td>\n",
       "      <td>JL-CORPUS</td>\n",
       "      <td>./dataset/jl-corpus/Raw JL corpus (unchecked a...</td>\n",
       "      <td>male2_sad_9b_2.wav</td>\n",
       "      <td>.wav</td>\n",
       "      <td>Sad</td>\n",
       "    </tr>\n",
       "  </tbody>\n",
       "</table>\n",
       "</div>"
      ],
      "text/plain": [
       "          Id    Dataset                                           Filepath  \\\n",
       "74697  74697  JL-CORPUS  ./dataset/jl-corpus/Raw JL corpus (unchecked a...   \n",
       "74698  74698  JL-CORPUS  ./dataset/jl-corpus/Raw JL corpus (unchecked a...   \n",
       "74699  74699  JL-CORPUS  ./dataset/jl-corpus/Raw JL corpus (unchecked a...   \n",
       "74700  74700  JL-CORPUS  ./dataset/jl-corpus/Raw JL corpus (unchecked a...   \n",
       "74701  74701  JL-CORPUS  ./dataset/jl-corpus/Raw JL corpus (unchecked a...   \n",
       "\n",
       "                 Filename   Ext Emotion  \n",
       "74697  male2_sad_8b_2.wav  .wav     Sad  \n",
       "74698  male2_sad_9a_1.wav  .wav     Sad  \n",
       "74699  male2_sad_9a_2.wav  .wav     Sad  \n",
       "74700  male2_sad_9b_1.wav  .wav     Sad  \n",
       "74701  male2_sad_9b_2.wav  .wav     Sad  "
      ]
     },
     "execution_count": 60,
     "metadata": {},
     "output_type": "execute_result"
    }
   ],
   "source": [
    "df['Id'] = np.arange(len(df))\n",
    "df.tail()"
   ]
  },
  {
   "cell_type": "markdown",
   "id": "4daba8c0",
   "metadata": {},
   "source": [
    "## 3. EDA Analysis of raw audio"
   ]
  },
  {
   "cell_type": "markdown",
   "id": "c9d6c3bb",
   "metadata": {},
   "source": [
    "### Audio duration analysis"
   ]
  },
  {
   "cell_type": "code",
   "execution_count": 61,
   "id": "4de8699d",
   "metadata": {},
   "outputs": [],
   "source": [
    "import subprocess\n",
    "import matplotlib.pyplot as plt\n",
    "from concurrent.futures import ThreadPoolExecutor"
   ]
  },
  {
   "cell_type": "code",
   "execution_count": 62,
   "id": "868daca8",
   "metadata": {},
   "outputs": [
    {
     "data": {
      "application/vnd.microsoft.datawrangler.viewer.v0+json": {
       "columns": [
        {
         "name": "index",
         "rawType": "int64",
         "type": "integer"
        },
        {
         "name": "Id",
         "rawType": "int64",
         "type": "integer"
        },
        {
         "name": "Dataset",
         "rawType": "object",
         "type": "string"
        },
        {
         "name": "Filepath",
         "rawType": "object",
         "type": "string"
        },
        {
         "name": "Filename",
         "rawType": "object",
         "type": "string"
        },
        {
         "name": "Ext",
         "rawType": "object",
         "type": "string"
        },
        {
         "name": "Emotion",
         "rawType": "object",
         "type": "string"
        }
       ],
       "conversionMethod": "pd.DataFrame",
       "ref": "f451950f-8f82-4594-8c91-1dcb6c24e515",
       "rows": [
        [
         "0",
         "0",
         "CREMA-D",
         "./dataset/crema-d\\AudioWAV\\1001_DFA_ANG_XX.wav",
         "1001_DFA_ANG_XX.wav",
         ".wav",
         "Anger"
        ],
        [
         "1",
         "1",
         "CREMA-D",
         "./dataset/crema-d\\AudioWAV\\1001_DFA_DIS_XX.wav",
         "1001_DFA_DIS_XX.wav",
         ".wav",
         "Disgust"
        ],
        [
         "2",
         "2",
         "CREMA-D",
         "./dataset/crema-d\\AudioWAV\\1001_DFA_FEA_XX.wav",
         "1001_DFA_FEA_XX.wav",
         ".wav",
         "Fear"
        ],
        [
         "3",
         "3",
         "CREMA-D",
         "./dataset/crema-d\\AudioWAV\\1001_DFA_HAP_XX.wav",
         "1001_DFA_HAP_XX.wav",
         ".wav",
         "Happy"
        ],
        [
         "4",
         "4",
         "CREMA-D",
         "./dataset/crema-d\\AudioWAV\\1001_DFA_NEU_XX.wav",
         "1001_DFA_NEU_XX.wav",
         ".wav",
         "Neutral"
        ]
       ],
       "shape": {
        "columns": 6,
        "rows": 5
       }
      },
      "text/html": [
       "<div>\n",
       "<style scoped>\n",
       "    .dataframe tbody tr th:only-of-type {\n",
       "        vertical-align: middle;\n",
       "    }\n",
       "\n",
       "    .dataframe tbody tr th {\n",
       "        vertical-align: top;\n",
       "    }\n",
       "\n",
       "    .dataframe thead th {\n",
       "        text-align: right;\n",
       "    }\n",
       "</style>\n",
       "<table border=\"1\" class=\"dataframe\">\n",
       "  <thead>\n",
       "    <tr style=\"text-align: right;\">\n",
       "      <th></th>\n",
       "      <th>Id</th>\n",
       "      <th>Dataset</th>\n",
       "      <th>Filepath</th>\n",
       "      <th>Filename</th>\n",
       "      <th>Ext</th>\n",
       "      <th>Emotion</th>\n",
       "    </tr>\n",
       "  </thead>\n",
       "  <tbody>\n",
       "    <tr>\n",
       "      <th>0</th>\n",
       "      <td>0</td>\n",
       "      <td>CREMA-D</td>\n",
       "      <td>./dataset/crema-d\\AudioWAV\\1001_DFA_ANG_XX.wav</td>\n",
       "      <td>1001_DFA_ANG_XX.wav</td>\n",
       "      <td>.wav</td>\n",
       "      <td>Anger</td>\n",
       "    </tr>\n",
       "    <tr>\n",
       "      <th>1</th>\n",
       "      <td>1</td>\n",
       "      <td>CREMA-D</td>\n",
       "      <td>./dataset/crema-d\\AudioWAV\\1001_DFA_DIS_XX.wav</td>\n",
       "      <td>1001_DFA_DIS_XX.wav</td>\n",
       "      <td>.wav</td>\n",
       "      <td>Disgust</td>\n",
       "    </tr>\n",
       "    <tr>\n",
       "      <th>2</th>\n",
       "      <td>2</td>\n",
       "      <td>CREMA-D</td>\n",
       "      <td>./dataset/crema-d\\AudioWAV\\1001_DFA_FEA_XX.wav</td>\n",
       "      <td>1001_DFA_FEA_XX.wav</td>\n",
       "      <td>.wav</td>\n",
       "      <td>Fear</td>\n",
       "    </tr>\n",
       "    <tr>\n",
       "      <th>3</th>\n",
       "      <td>3</td>\n",
       "      <td>CREMA-D</td>\n",
       "      <td>./dataset/crema-d\\AudioWAV\\1001_DFA_HAP_XX.wav</td>\n",
       "      <td>1001_DFA_HAP_XX.wav</td>\n",
       "      <td>.wav</td>\n",
       "      <td>Happy</td>\n",
       "    </tr>\n",
       "    <tr>\n",
       "      <th>4</th>\n",
       "      <td>4</td>\n",
       "      <td>CREMA-D</td>\n",
       "      <td>./dataset/crema-d\\AudioWAV\\1001_DFA_NEU_XX.wav</td>\n",
       "      <td>1001_DFA_NEU_XX.wav</td>\n",
       "      <td>.wav</td>\n",
       "      <td>Neutral</td>\n",
       "    </tr>\n",
       "  </tbody>\n",
       "</table>\n",
       "</div>"
      ],
      "text/plain": [
       "   Id  Dataset                                        Filepath  \\\n",
       "0   0  CREMA-D  ./dataset/crema-d\\AudioWAV\\1001_DFA_ANG_XX.wav   \n",
       "1   1  CREMA-D  ./dataset/crema-d\\AudioWAV\\1001_DFA_DIS_XX.wav   \n",
       "2   2  CREMA-D  ./dataset/crema-d\\AudioWAV\\1001_DFA_FEA_XX.wav   \n",
       "3   3  CREMA-D  ./dataset/crema-d\\AudioWAV\\1001_DFA_HAP_XX.wav   \n",
       "4   4  CREMA-D  ./dataset/crema-d\\AudioWAV\\1001_DFA_NEU_XX.wav   \n",
       "\n",
       "              Filename   Ext  Emotion  \n",
       "0  1001_DFA_ANG_XX.wav  .wav    Anger  \n",
       "1  1001_DFA_DIS_XX.wav  .wav  Disgust  \n",
       "2  1001_DFA_FEA_XX.wav  .wav     Fear  \n",
       "3  1001_DFA_HAP_XX.wav  .wav    Happy  \n",
       "4  1001_DFA_NEU_XX.wav  .wav  Neutral  "
      ]
     },
     "execution_count": 62,
     "metadata": {},
     "output_type": "execute_result"
    }
   ],
   "source": [
    "df.head()"
   ]
  },
  {
   "cell_type": "code",
   "execution_count": 63,
   "id": "dd422d33",
   "metadata": {},
   "outputs": [
    {
     "name": "stdout",
     "output_type": "stream",
     "text": [
      "Columns: ['Id', 'Dataset', 'Filepath', 'Filename', 'Ext', 'Emotion']\n",
      "The number of dataset: 74702\n"
     ]
    }
   ],
   "source": [
    "print(\"Columns:\", list(df.columns))\n",
    "print(\"The number of dataset:\", len(df))"
   ]
  },
  {
   "cell_type": "code",
   "execution_count": 64,
   "id": "c665ddc6",
   "metadata": {},
   "outputs": [],
   "source": [
    "def get_duration(filepath):\n",
    "    \"\"\"\n",
    "    Uses ffprobe to extract the duration (in seconds) of an audio/video file.\n",
    "    \"\"\"\n",
    "    command = [\n",
    "        'ffprobe',\n",
    "        '-v', 'error',\n",
    "        '-show_entries', 'format=duration',\n",
    "        '-of', 'default=noprint_wrappers=1:nokey=1',\n",
    "        filepath\n",
    "    ]\n",
    "    result = subprocess.run(command, stdout=subprocess.PIPE, stderr=subprocess.PIPE, universal_newlines=True)\n",
    "    try:\n",
    "        duration = float(result.stdout.strip())\n",
    "    except ValueError:\n",
    "        duration = None\n",
    "    return duration\n",
    "\n",
    "# Read your CSV file\n",
    "filepaths = df['Filepath'].tolist()\n",
    "\n",
    "# Use parallel processing to get durations\n",
    "with ThreadPoolExecutor() as executor:\n",
    "    durations = list(executor.map(get_duration, filepaths))\n",
    "\n",
    "df['duration'] = durations"
   ]
  },
  {
   "cell_type": "code",
   "execution_count": 65,
   "id": "0ccf3ca4",
   "metadata": {},
   "outputs": [
    {
     "data": {
      "application/vnd.microsoft.datawrangler.viewer.v0+json": {
       "columns": [
        {
         "name": "index",
         "rawType": "int64",
         "type": "integer"
        },
        {
         "name": "Id",
         "rawType": "int64",
         "type": "integer"
        },
        {
         "name": "Dataset",
         "rawType": "object",
         "type": "string"
        },
        {
         "name": "Filepath",
         "rawType": "object",
         "type": "string"
        },
        {
         "name": "Filename",
         "rawType": "object",
         "type": "string"
        },
        {
         "name": "Ext",
         "rawType": "object",
         "type": "string"
        },
        {
         "name": "Emotion",
         "rawType": "object",
         "type": "string"
        },
        {
         "name": "duration",
         "rawType": "float64",
         "type": "float"
        }
       ],
       "conversionMethod": "pd.DataFrame",
       "ref": "439c731e-2740-4d69-a464-94510099ed8e",
       "rows": [
        [
         "0",
         "0",
         "CREMA-D",
         "./dataset/crema-d\\AudioWAV\\1001_DFA_ANG_XX.wav",
         "1001_DFA_ANG_XX.wav",
         ".wav",
         "Anger",
         "2.275563"
        ],
        [
         "1",
         "1",
         "CREMA-D",
         "./dataset/crema-d\\AudioWAV\\1001_DFA_DIS_XX.wav",
         "1001_DFA_DIS_XX.wav",
         ".wav",
         "Disgust",
         "2.335688"
        ],
        [
         "2",
         "2",
         "CREMA-D",
         "./dataset/crema-d\\AudioWAV\\1001_DFA_FEA_XX.wav",
         "1001_DFA_FEA_XX.wav",
         ".wav",
         "Fear",
         "2.168813"
        ],
        [
         "3",
         "3",
         "CREMA-D",
         "./dataset/crema-d\\AudioWAV\\1001_DFA_HAP_XX.wav",
         "1001_DFA_HAP_XX.wav",
         ".wav",
         "Happy",
         "1.8685"
        ],
        [
         "4",
         "4",
         "CREMA-D",
         "./dataset/crema-d\\AudioWAV\\1001_DFA_NEU_XX.wav",
         "1001_DFA_NEU_XX.wav",
         ".wav",
         "Neutral",
         "2.035375"
        ],
        [
         "5",
         "5",
         "CREMA-D",
         "./dataset/crema-d\\AudioWAV\\1001_DFA_SAD_XX.wav",
         "1001_DFA_SAD_XX.wav",
         ".wav",
         "Sad",
         "2.002"
        ],
        [
         "6",
         "6",
         "CREMA-D",
         "./dataset/crema-d\\AudioWAV\\1001_IEO_ANG_HI.wav",
         "1001_IEO_ANG_HI.wav",
         ".wav",
         "Anger",
         "1.93525"
        ],
        [
         "7",
         "7",
         "CREMA-D",
         "./dataset/crema-d\\AudioWAV\\1001_IEO_ANG_LO.wav",
         "1001_IEO_ANG_LO.wav",
         ".wav",
         "Anger",
         "2.06875"
        ],
        [
         "8",
         "8",
         "CREMA-D",
         "./dataset/crema-d\\AudioWAV\\1001_IEO_ANG_MD.wav",
         "1001_IEO_ANG_MD.wav",
         ".wav",
         "Anger",
         "2.635938"
        ],
        [
         "9",
         "9",
         "CREMA-D",
         "./dataset/crema-d\\AudioWAV\\1001_IEO_DIS_HI.wav",
         "1001_IEO_DIS_HI.wav",
         ".wav",
         "Disgust",
         "2.002"
        ],
        [
         "10",
         "10",
         "CREMA-D",
         "./dataset/crema-d\\AudioWAV\\1001_IEO_DIS_LO.wav",
         "1001_IEO_DIS_LO.wav",
         ".wav",
         "Disgust",
         "2.002"
        ],
        [
         "11",
         "11",
         "CREMA-D",
         "./dataset/crema-d\\AudioWAV\\1001_IEO_DIS_MD.wav",
         "1001_IEO_DIS_MD.wav",
         ".wav",
         "Disgust",
         "1.901875"
        ],
        [
         "12",
         "12",
         "CREMA-D",
         "./dataset/crema-d\\AudioWAV\\1001_IEO_FEA_HI.wav",
         "1001_IEO_FEA_HI.wav",
         ".wav",
         "Fear",
         "1.56825"
        ],
        [
         "13",
         "13",
         "CREMA-D",
         "./dataset/crema-d\\AudioWAV\\1001_IEO_FEA_LO.wav",
         "1001_IEO_FEA_LO.wav",
         ".wav",
         "Fear",
         "1.534875"
        ],
        [
         "14",
         "14",
         "CREMA-D",
         "./dataset/crema-d\\AudioWAV\\1001_IEO_FEA_MD.wav",
         "1001_IEO_FEA_MD.wav",
         ".wav",
         "Fear",
         "1.601625"
        ],
        [
         "15",
         "15",
         "CREMA-D",
         "./dataset/crema-d\\AudioWAV\\1001_IEO_HAP_HI.wav",
         "1001_IEO_HAP_HI.wav",
         ".wav",
         "Happy",
         "1.768438"
        ],
        [
         "16",
         "16",
         "CREMA-D",
         "./dataset/crema-d\\AudioWAV\\1001_IEO_HAP_LO.wav",
         "1001_IEO_HAP_LO.wav",
         ".wav",
         "Happy",
         "1.701688"
        ],
        [
         "17",
         "17",
         "CREMA-D",
         "./dataset/crema-d\\AudioWAV\\1001_IEO_HAP_MD.wav",
         "1001_IEO_HAP_MD.wav",
         ".wav",
         "Happy",
         "1.668313"
        ],
        [
         "18",
         "18",
         "CREMA-D",
         "./dataset/crema-d\\AudioWAV\\1001_IEO_NEU_XX.wav",
         "1001_IEO_NEU_XX.wav",
         ".wav",
         "Neutral",
         "1.601625"
        ],
        [
         "19",
         "19",
         "CREMA-D",
         "./dataset/crema-d\\AudioWAV\\1001_IEO_SAD_HI.wav",
         "1001_IEO_SAD_HI.wav",
         ".wav",
         "Sad",
         "2.002"
        ],
        [
         "20",
         "20",
         "CREMA-D",
         "./dataset/crema-d\\AudioWAV\\1001_IEO_SAD_LO.wav",
         "1001_IEO_SAD_LO.wav",
         ".wav",
         "Sad",
         "1.901875"
        ],
        [
         "21",
         "21",
         "CREMA-D",
         "./dataset/crema-d\\AudioWAV\\1001_IEO_SAD_MD.wav",
         "1001_IEO_SAD_MD.wav",
         ".wav",
         "Sad",
         "1.735063"
        ],
        [
         "22",
         "22",
         "CREMA-D",
         "./dataset/crema-d\\AudioWAV\\1001_IOM_ANG_XX.wav",
         "1001_IOM_ANG_XX.wav",
         ".wav",
         "Anger",
         "2.135438"
        ],
        [
         "23",
         "23",
         "CREMA-D",
         "./dataset/crema-d\\AudioWAV\\1001_IOM_DIS_XX.wav",
         "1001_IOM_DIS_XX.wav",
         ".wav",
         "Disgust",
         "2.268938"
        ],
        [
         "24",
         "24",
         "CREMA-D",
         "./dataset/crema-d\\AudioWAV\\1001_IOM_FEA_XX.wav",
         "1001_IOM_FEA_XX.wav",
         ".wav",
         "Fear",
         "2.836188"
        ],
        [
         "25",
         "25",
         "CREMA-D",
         "./dataset/crema-d\\AudioWAV\\1001_IOM_HAP_XX.wav",
         "1001_IOM_HAP_XX.wav",
         ".wav",
         "Happy",
         "2.002"
        ],
        [
         "26",
         "26",
         "CREMA-D",
         "./dataset/crema-d\\AudioWAV\\1001_IOM_NEU_XX.wav",
         "1001_IOM_NEU_XX.wav",
         ".wav",
         "Neutral",
         "2.469125"
        ],
        [
         "27",
         "27",
         "CREMA-D",
         "./dataset/crema-d\\AudioWAV\\1001_IOM_SAD_XX.wav",
         "1001_IOM_SAD_XX.wav",
         ".wav",
         "Sad",
         "1.93525"
        ],
        [
         "28",
         "28",
         "CREMA-D",
         "./dataset/crema-d\\AudioWAV\\1001_ITH_ANG_XX.wav",
         "1001_ITH_ANG_XX.wav",
         ".wav",
         "Anger",
         "2.369"
        ],
        [
         "29",
         "29",
         "CREMA-D",
         "./dataset/crema-d\\AudioWAV\\1001_ITH_DIS_XX.wav",
         "1001_ITH_DIS_XX.wav",
         ".wav",
         "Disgust",
         "2.168813"
        ],
        [
         "30",
         "30",
         "CREMA-D",
         "./dataset/crema-d\\AudioWAV\\1001_ITH_FEA_XX.wav",
         "1001_ITH_FEA_XX.wav",
         ".wav",
         "Fear",
         "2.102125"
        ],
        [
         "31",
         "31",
         "CREMA-D",
         "./dataset/crema-d\\AudioWAV\\1001_ITH_HAP_XX.wav",
         "1001_ITH_HAP_XX.wav",
         ".wav",
         "Happy",
         "2.469125"
        ],
        [
         "32",
         "32",
         "CREMA-D",
         "./dataset/crema-d\\AudioWAV\\1001_ITH_NEU_XX.wav",
         "1001_ITH_NEU_XX.wav",
         ".wav",
         "Neutral",
         "2.602625"
        ],
        [
         "33",
         "33",
         "CREMA-D",
         "./dataset/crema-d\\AudioWAV\\1001_ITH_SAD_XX.wav",
         "1001_ITH_SAD_XX.wav",
         ".wav",
         "Sad",
         "2.369"
        ],
        [
         "34",
         "34",
         "CREMA-D",
         "./dataset/crema-d\\AudioWAV\\1001_ITS_ANG_XX.wav",
         "1001_ITS_ANG_XX.wav",
         ".wav",
         "Anger",
         "2.56925"
        ],
        [
         "35",
         "35",
         "CREMA-D",
         "./dataset/crema-d\\AudioWAV\\1001_ITS_DIS_XX.wav",
         "1001_ITS_DIS_XX.wav",
         ".wav",
         "Disgust",
         "2.202188"
        ],
        [
         "36",
         "36",
         "CREMA-D",
         "./dataset/crema-d\\AudioWAV\\1001_ITS_FEA_XX.wav",
         "1001_ITS_FEA_XX.wav",
         ".wav",
         "Fear",
         "2.135438"
        ],
        [
         "37",
         "37",
         "CREMA-D",
         "./dataset/crema-d\\AudioWAV\\1001_ITS_HAP_XX.wav",
         "1001_ITS_HAP_XX.wav",
         ".wav",
         "Happy",
         "2.202188"
        ],
        [
         "38",
         "38",
         "CREMA-D",
         "./dataset/crema-d\\AudioWAV\\1001_ITS_NEU_XX.wav",
         "1001_ITS_NEU_XX.wav",
         ".wav",
         "Neutral",
         "2.43575"
        ],
        [
         "39",
         "39",
         "CREMA-D",
         "./dataset/crema-d\\AudioWAV\\1001_ITS_SAD_XX.wav",
         "1001_ITS_SAD_XX.wav",
         ".wav",
         "Sad",
         "2.669313"
        ],
        [
         "40",
         "40",
         "CREMA-D",
         "./dataset/crema-d\\AudioWAV\\1001_IWL_ANG_XX.wav",
         "1001_IWL_ANG_XX.wav",
         ".wav",
         "Anger",
         "3.169813"
        ],
        [
         "41",
         "41",
         "CREMA-D",
         "./dataset/crema-d\\AudioWAV\\1001_IWL_DIS_XX.wav",
         "1001_IWL_DIS_XX.wav",
         ".wav",
         "Disgust",
         "2.56925"
        ],
        [
         "42",
         "42",
         "CREMA-D",
         "./dataset/crema-d\\AudioWAV\\1001_IWL_FEA_XX.wav",
         "1001_IWL_FEA_XX.wav",
         ".wav",
         "Fear",
         "2.369"
        ],
        [
         "43",
         "43",
         "CREMA-D",
         "./dataset/crema-d\\AudioWAV\\1001_IWL_HAP_XX.wav",
         "1001_IWL_HAP_XX.wav",
         ".wav",
         "Happy",
         "2.102125"
        ],
        [
         "44",
         "44",
         "CREMA-D",
         "./dataset/crema-d\\AudioWAV\\1001_IWL_NEU_XX.wav",
         "1001_IWL_NEU_XX.wav",
         ".wav",
         "Neutral",
         "2.836188"
        ],
        [
         "45",
         "45",
         "CREMA-D",
         "./dataset/crema-d\\AudioWAV\\1001_IWL_SAD_XX.wav",
         "1001_IWL_SAD_XX.wav",
         ".wav",
         "Sad",
         "2.836188"
        ],
        [
         "46",
         "46",
         "CREMA-D",
         "./dataset/crema-d\\AudioWAV\\1001_IWW_ANG_XX.wav",
         "1001_IWW_ANG_XX.wav",
         ".wav",
         "Anger",
         "2.275563"
        ],
        [
         "47",
         "47",
         "CREMA-D",
         "./dataset/crema-d\\AudioWAV\\1001_IWW_DIS_XX.wav",
         "1001_IWW_DIS_XX.wav",
         ".wav",
         "Disgust",
         "2.06875"
        ],
        [
         "48",
         "48",
         "CREMA-D",
         "./dataset/crema-d\\AudioWAV\\1001_IWW_FEA_XX.wav",
         "1001_IWW_FEA_XX.wav",
         ".wav",
         "Fear",
         "2.202188"
        ],
        [
         "49",
         "49",
         "CREMA-D",
         "./dataset/crema-d\\AudioWAV\\1001_IWW_HAP_XX.wav",
         "1001_IWW_HAP_XX.wav",
         ".wav",
         "Happy",
         "1.968625"
        ]
       ],
       "shape": {
        "columns": 7,
        "rows": 74702
       }
      },
      "text/html": [
       "<div>\n",
       "<style scoped>\n",
       "    .dataframe tbody tr th:only-of-type {\n",
       "        vertical-align: middle;\n",
       "    }\n",
       "\n",
       "    .dataframe tbody tr th {\n",
       "        vertical-align: top;\n",
       "    }\n",
       "\n",
       "    .dataframe thead th {\n",
       "        text-align: right;\n",
       "    }\n",
       "</style>\n",
       "<table border=\"1\" class=\"dataframe\">\n",
       "  <thead>\n",
       "    <tr style=\"text-align: right;\">\n",
       "      <th></th>\n",
       "      <th>Id</th>\n",
       "      <th>Dataset</th>\n",
       "      <th>Filepath</th>\n",
       "      <th>Filename</th>\n",
       "      <th>Ext</th>\n",
       "      <th>Emotion</th>\n",
       "      <th>duration</th>\n",
       "    </tr>\n",
       "  </thead>\n",
       "  <tbody>\n",
       "    <tr>\n",
       "      <th>0</th>\n",
       "      <td>0</td>\n",
       "      <td>CREMA-D</td>\n",
       "      <td>./dataset/crema-d\\AudioWAV\\1001_DFA_ANG_XX.wav</td>\n",
       "      <td>1001_DFA_ANG_XX.wav</td>\n",
       "      <td>.wav</td>\n",
       "      <td>Anger</td>\n",
       "      <td>2.275563</td>\n",
       "    </tr>\n",
       "    <tr>\n",
       "      <th>1</th>\n",
       "      <td>1</td>\n",
       "      <td>CREMA-D</td>\n",
       "      <td>./dataset/crema-d\\AudioWAV\\1001_DFA_DIS_XX.wav</td>\n",
       "      <td>1001_DFA_DIS_XX.wav</td>\n",
       "      <td>.wav</td>\n",
       "      <td>Disgust</td>\n",
       "      <td>2.335688</td>\n",
       "    </tr>\n",
       "    <tr>\n",
       "      <th>2</th>\n",
       "      <td>2</td>\n",
       "      <td>CREMA-D</td>\n",
       "      <td>./dataset/crema-d\\AudioWAV\\1001_DFA_FEA_XX.wav</td>\n",
       "      <td>1001_DFA_FEA_XX.wav</td>\n",
       "      <td>.wav</td>\n",
       "      <td>Fear</td>\n",
       "      <td>2.168813</td>\n",
       "    </tr>\n",
       "    <tr>\n",
       "      <th>3</th>\n",
       "      <td>3</td>\n",
       "      <td>CREMA-D</td>\n",
       "      <td>./dataset/crema-d\\AudioWAV\\1001_DFA_HAP_XX.wav</td>\n",
       "      <td>1001_DFA_HAP_XX.wav</td>\n",
       "      <td>.wav</td>\n",
       "      <td>Happy</td>\n",
       "      <td>1.868500</td>\n",
       "    </tr>\n",
       "    <tr>\n",
       "      <th>4</th>\n",
       "      <td>4</td>\n",
       "      <td>CREMA-D</td>\n",
       "      <td>./dataset/crema-d\\AudioWAV\\1001_DFA_NEU_XX.wav</td>\n",
       "      <td>1001_DFA_NEU_XX.wav</td>\n",
       "      <td>.wav</td>\n",
       "      <td>Neutral</td>\n",
       "      <td>2.035375</td>\n",
       "    </tr>\n",
       "    <tr>\n",
       "      <th>...</th>\n",
       "      <td>...</td>\n",
       "      <td>...</td>\n",
       "      <td>...</td>\n",
       "      <td>...</td>\n",
       "      <td>...</td>\n",
       "      <td>...</td>\n",
       "      <td>...</td>\n",
       "    </tr>\n",
       "    <tr>\n",
       "      <th>74697</th>\n",
       "      <td>74697</td>\n",
       "      <td>JL-CORPUS</td>\n",
       "      <td>./dataset/jl-corpus/Raw JL corpus (unchecked a...</td>\n",
       "      <td>male2_sad_8b_2.wav</td>\n",
       "      <td>.wav</td>\n",
       "      <td>Sad</td>\n",
       "      <td>2.350000</td>\n",
       "    </tr>\n",
       "    <tr>\n",
       "      <th>74698</th>\n",
       "      <td>74698</td>\n",
       "      <td>JL-CORPUS</td>\n",
       "      <td>./dataset/jl-corpus/Raw JL corpus (unchecked a...</td>\n",
       "      <td>male2_sad_9a_1.wav</td>\n",
       "      <td>.wav</td>\n",
       "      <td>Sad</td>\n",
       "      <td>2.250000</td>\n",
       "    </tr>\n",
       "    <tr>\n",
       "      <th>74699</th>\n",
       "      <td>74699</td>\n",
       "      <td>JL-CORPUS</td>\n",
       "      <td>./dataset/jl-corpus/Raw JL corpus (unchecked a...</td>\n",
       "      <td>male2_sad_9a_2.wav</td>\n",
       "      <td>.wav</td>\n",
       "      <td>Sad</td>\n",
       "      <td>2.350000</td>\n",
       "    </tr>\n",
       "    <tr>\n",
       "      <th>74700</th>\n",
       "      <td>74700</td>\n",
       "      <td>JL-CORPUS</td>\n",
       "      <td>./dataset/jl-corpus/Raw JL corpus (unchecked a...</td>\n",
       "      <td>male2_sad_9b_1.wav</td>\n",
       "      <td>.wav</td>\n",
       "      <td>Sad</td>\n",
       "      <td>2.150000</td>\n",
       "    </tr>\n",
       "    <tr>\n",
       "      <th>74701</th>\n",
       "      <td>74701</td>\n",
       "      <td>JL-CORPUS</td>\n",
       "      <td>./dataset/jl-corpus/Raw JL corpus (unchecked a...</td>\n",
       "      <td>male2_sad_9b_2.wav</td>\n",
       "      <td>.wav</td>\n",
       "      <td>Sad</td>\n",
       "      <td>2.150000</td>\n",
       "    </tr>\n",
       "  </tbody>\n",
       "</table>\n",
       "<p>74702 rows × 7 columns</p>\n",
       "</div>"
      ],
      "text/plain": [
       "          Id    Dataset                                           Filepath  \\\n",
       "0          0    CREMA-D     ./dataset/crema-d\\AudioWAV\\1001_DFA_ANG_XX.wav   \n",
       "1          1    CREMA-D     ./dataset/crema-d\\AudioWAV\\1001_DFA_DIS_XX.wav   \n",
       "2          2    CREMA-D     ./dataset/crema-d\\AudioWAV\\1001_DFA_FEA_XX.wav   \n",
       "3          3    CREMA-D     ./dataset/crema-d\\AudioWAV\\1001_DFA_HAP_XX.wav   \n",
       "4          4    CREMA-D     ./dataset/crema-d\\AudioWAV\\1001_DFA_NEU_XX.wav   \n",
       "...      ...        ...                                                ...   \n",
       "74697  74697  JL-CORPUS  ./dataset/jl-corpus/Raw JL corpus (unchecked a...   \n",
       "74698  74698  JL-CORPUS  ./dataset/jl-corpus/Raw JL corpus (unchecked a...   \n",
       "74699  74699  JL-CORPUS  ./dataset/jl-corpus/Raw JL corpus (unchecked a...   \n",
       "74700  74700  JL-CORPUS  ./dataset/jl-corpus/Raw JL corpus (unchecked a...   \n",
       "74701  74701  JL-CORPUS  ./dataset/jl-corpus/Raw JL corpus (unchecked a...   \n",
       "\n",
       "                  Filename   Ext  Emotion  duration  \n",
       "0      1001_DFA_ANG_XX.wav  .wav    Anger  2.275563  \n",
       "1      1001_DFA_DIS_XX.wav  .wav  Disgust  2.335688  \n",
       "2      1001_DFA_FEA_XX.wav  .wav     Fear  2.168813  \n",
       "3      1001_DFA_HAP_XX.wav  .wav    Happy  1.868500  \n",
       "4      1001_DFA_NEU_XX.wav  .wav  Neutral  2.035375  \n",
       "...                    ...   ...      ...       ...  \n",
       "74697   male2_sad_8b_2.wav  .wav      Sad  2.350000  \n",
       "74698   male2_sad_9a_1.wav  .wav      Sad  2.250000  \n",
       "74699   male2_sad_9a_2.wav  .wav      Sad  2.350000  \n",
       "74700   male2_sad_9b_1.wav  .wav      Sad  2.150000  \n",
       "74701   male2_sad_9b_2.wav  .wav      Sad  2.150000  \n",
       "\n",
       "[74702 rows x 7 columns]"
      ]
     },
     "execution_count": 65,
     "metadata": {},
     "output_type": "execute_result"
    }
   ],
   "source": [
    "df"
   ]
  },
  {
   "cell_type": "code",
   "execution_count": 66,
   "id": "fee4457b",
   "metadata": {},
   "outputs": [
    {
     "data": {
      "image/png": "[encoded data removed]",
      "text/plain": [
       "<Figure size 1000x600 with 1 Axes>"
      ]
     },
     "metadata": {},
     "output_type": "display_data"
    }
   ],
   "source": [
    "# Create bins for the histogram in intervals of 5 seconds\n",
    "max_duration = df['duration'].max()\n",
    "bins = np.arange(0, max_duration + 5, 5)\n",
    "\n",
    "# Plot the histogram of audio durations\n",
    "plt.figure(figsize=(10, 6))\n",
    "\n",
    "# Plot the histogram and capture the returned values (counts, bin_edges, patches)\n",
    "counts, bin_edges, patches = plt.hist(df['duration'], bins=bins, edgecolor='black')\n",
    "\n",
    "plt.xlabel(\"Duration (seconds)\")\n",
    "plt.ylabel(\"Number of Audio Files\")\n",
    "plt.title(\"Histogram of Audio File Durations (5-second intervals)\")\n",
    "plt.tight_layout()\n",
    "\n",
    "# Annotate each bar with its count value\n",
    "for patch in patches:\n",
    "    height = patch.get_height()\n",
    "    # Only annotate bars that have a non-zero count\n",
    "    if height > 0:\n",
    "        x = patch.get_x() + patch.get_width() / 2\n",
    "        plt.annotate(f'{int(height)}',\n",
    "                     (x, height),\n",
    "                     ha='center',\n",
    "                     va='bottom')\n",
    "\n",
    "plt.savefig(\"./plots/audio_duration_histogram_5seconds.png\")\n",
    "plt.show()"
   ]
  },
  {
   "cell_type": "code",
   "execution_count": 67,
   "id": "23f77de8",
   "metadata": {},
   "outputs": [
    {
     "data": {
      "image/png": "[encoded data removed]",
      "text/plain": [
       "<Figure size 1000x600 with 1 Axes>"
      ]
     },
     "metadata": {},
     "output_type": "display_data"
    }
   ],
   "source": [
    "# Create bins for the histogram in intervals of 2 seconds\n",
    "max_duration = df['duration'].max()\n",
    "bins = np.arange(0, max_duration + 2, 2)\n",
    "\n",
    "# Plot the histogram of audio durations\n",
    "plt.figure(figsize=(10, 6))\n",
    "\n",
    "# Plot the histogram and capture the returned values (counts, bin_edges, patches)\n",
    "counts, bin_edges, patches = plt.hist(df['duration'], bins=bins, edgecolor='black')\n",
    "\n",
    "plt.xlabel(\"Duration (seconds)\")\n",
    "plt.ylabel(\"Number of Audio Files\")\n",
    "plt.title(\"Histogram of Audio File Durations (2-second intervals)\")\n",
    "plt.tight_layout()\n",
    "\n",
    "# Annotate each bar with its count value\n",
    "for patch in patches:\n",
    "    height = patch.get_height()\n",
    "    # Only annotate bars that have a non-zero count\n",
    "    if height > 0:\n",
    "        x = patch.get_x() + patch.get_width() / 2\n",
    "        plt.annotate(f'{int(height)}',\n",
    "                     (x, height),\n",
    "                     ha='center',\n",
    "                     va='bottom')\n",
    "\n",
    "plt.savefig(\"./plots/audio_duration_histogram_2seconds.png\")\n",
    "plt.show()"
   ]
  },
  {
   "cell_type": "markdown",
   "id": "c43a0f99",
   "metadata": {},
   "source": [
    "The distribution shows a few outliers (some are very long), we filter those out"
   ]
  },
  {
   "cell_type": "code",
   "execution_count": 68,
   "id": "b1b43cad",
   "metadata": {},
   "outputs": [
    {
     "data": {
      "application/vnd.microsoft.datawrangler.viewer.v0+json": {
       "columns": [
        {
         "name": "index",
         "rawType": "int64",
         "type": "integer"
        },
        {
         "name": "Id",
         "rawType": "int64",
         "type": "integer"
        },
        {
         "name": "Dataset",
         "rawType": "object",
         "type": "string"
        },
        {
         "name": "Filepath",
         "rawType": "object",
         "type": "string"
        },
        {
         "name": "Filename",
         "rawType": "object",
         "type": "string"
        },
        {
         "name": "Ext",
         "rawType": "object",
         "type": "string"
        },
        {
         "name": "Emotion",
         "rawType": "object",
         "type": "string"
        },
        {
         "name": "duration",
         "rawType": "float64",
         "type": "float"
        }
       ],
       "conversionMethod": "pd.DataFrame",
       "ref": "df4083ed-c826-468e-97e6-41101be3e735",
       "rows": [
        [
         "0",
         "0",
         "CREMA-D",
         "./dataset/crema-d\\AudioWAV\\1001_DFA_ANG_XX.wav",
         "1001_DFA_ANG_XX.wav",
         ".wav",
         "Anger",
         "2.275563"
        ],
        [
         "1",
         "1",
         "CREMA-D",
         "./dataset/crema-d\\AudioWAV\\1001_DFA_DIS_XX.wav",
         "1001_DFA_DIS_XX.wav",
         ".wav",
         "Disgust",
         "2.335688"
        ],
        [
         "2",
         "2",
         "CREMA-D",
         "./dataset/crema-d\\AudioWAV\\1001_DFA_FEA_XX.wav",
         "1001_DFA_FEA_XX.wav",
         ".wav",
         "Fear",
         "2.168813"
        ],
        [
         "3",
         "3",
         "CREMA-D",
         "./dataset/crema-d\\AudioWAV\\1001_DFA_HAP_XX.wav",
         "1001_DFA_HAP_XX.wav",
         ".wav",
         "Happy",
         "1.8685"
        ],
        [
         "4",
         "4",
         "CREMA-D",
         "./dataset/crema-d\\AudioWAV\\1001_DFA_NEU_XX.wav",
         "1001_DFA_NEU_XX.wav",
         ".wav",
         "Neutral",
         "2.035375"
        ],
        [
         "5",
         "5",
         "CREMA-D",
         "./dataset/crema-d\\AudioWAV\\1001_DFA_SAD_XX.wav",
         "1001_DFA_SAD_XX.wav",
         ".wav",
         "Sad",
         "2.002"
        ],
        [
         "6",
         "6",
         "CREMA-D",
         "./dataset/crema-d\\AudioWAV\\1001_IEO_ANG_HI.wav",
         "1001_IEO_ANG_HI.wav",
         ".wav",
         "Anger",
         "1.93525"
        ],
        [
         "7",
         "7",
         "CREMA-D",
         "./dataset/crema-d\\AudioWAV\\1001_IEO_ANG_LO.wav",
         "1001_IEO_ANG_LO.wav",
         ".wav",
         "Anger",
         "2.06875"
        ],
        [
         "8",
         "8",
         "CREMA-D",
         "./dataset/crema-d\\AudioWAV\\1001_IEO_ANG_MD.wav",
         "1001_IEO_ANG_MD.wav",
         ".wav",
         "Anger",
         "2.635938"
        ],
        [
         "9",
         "9",
         "CREMA-D",
         "./dataset/crema-d\\AudioWAV\\1001_IEO_DIS_HI.wav",
         "1001_IEO_DIS_HI.wav",
         ".wav",
         "Disgust",
         "2.002"
        ],
        [
         "10",
         "10",
         "CREMA-D",
         "./dataset/crema-d\\AudioWAV\\1001_IEO_DIS_LO.wav",
         "1001_IEO_DIS_LO.wav",
         ".wav",
         "Disgust",
         "2.002"
        ],
        [
         "11",
         "11",
         "CREMA-D",
         "./dataset/crema-d\\AudioWAV\\1001_IEO_DIS_MD.wav",
         "1001_IEO_DIS_MD.wav",
         ".wav",
         "Disgust",
         "1.901875"
        ],
        [
         "12",
         "12",
         "CREMA-D",
         "./dataset/crema-d\\AudioWAV\\1001_IEO_FEA_HI.wav",
         "1001_IEO_FEA_HI.wav",
         ".wav",
         "Fear",
         "1.56825"
        ],
        [
         "13",
         "13",
         "CREMA-D",
         "./dataset/crema-d\\AudioWAV\\1001_IEO_FEA_LO.wav",
         "1001_IEO_FEA_LO.wav",
         ".wav",
         "Fear",
         "1.534875"
        ],
        [
         "14",
         "14",
         "CREMA-D",
         "./dataset/crema-d\\AudioWAV\\1001_IEO_FEA_MD.wav",
         "1001_IEO_FEA_MD.wav",
         ".wav",
         "Fear",
         "1.601625"
        ],
        [
         "15",
         "15",
         "CREMA-D",
         "./dataset/crema-d\\AudioWAV\\1001_IEO_HAP_HI.wav",
         "1001_IEO_HAP_HI.wav",
         ".wav",
         "Happy",
         "1.768438"
        ],
        [
         "16",
         "16",
         "CREMA-D",
         "./dataset/crema-d\\AudioWAV\\1001_IEO_HAP_LO.wav",
         "1001_IEO_HAP_LO.wav",
         ".wav",
         "Happy",
         "1.701688"
        ],
        [
         "17",
         "17",
         "CREMA-D",
         "./dataset/crema-d\\AudioWAV\\1001_IEO_HAP_MD.wav",
         "1001_IEO_HAP_MD.wav",
         ".wav",
         "Happy",
         "1.668313"
        ],
        [
         "18",
         "18",
         "CREMA-D",
         "./dataset/crema-d\\AudioWAV\\1001_IEO_NEU_XX.wav",
         "1001_IEO_NEU_XX.wav",
         ".wav",
         "Neutral",
         "1.601625"
        ],
        [
         "19",
         "19",
         "CREMA-D",
         "./dataset/crema-d\\AudioWAV\\1001_IEO_SAD_HI.wav",
         "1001_IEO_SAD_HI.wav",
         ".wav",
         "Sad",
         "2.002"
        ],
        [
         "20",
         "20",
         "CREMA-D",
         "./dataset/crema-d\\AudioWAV\\1001_IEO_SAD_LO.wav",
         "1001_IEO_SAD_LO.wav",
         ".wav",
         "Sad",
         "1.901875"
        ],
        [
         "21",
         "21",
         "CREMA-D",
         "./dataset/crema-d\\AudioWAV\\1001_IEO_SAD_MD.wav",
         "1001_IEO_SAD_MD.wav",
         ".wav",
         "Sad",
         "1.735063"
        ],
        [
         "22",
         "22",
         "CREMA-D",
         "./dataset/crema-d\\AudioWAV\\1001_IOM_ANG_XX.wav",
         "1001_IOM_ANG_XX.wav",
         ".wav",
         "Anger",
         "2.135438"
        ],
        [
         "23",
         "23",
         "CREMA-D",
         "./dataset/crema-d\\AudioWAV\\1001_IOM_DIS_XX.wav",
         "1001_IOM_DIS_XX.wav",
         ".wav",
         "Disgust",
         "2.268938"
        ],
        [
         "24",
         "24",
         "CREMA-D",
         "./dataset/crema-d\\AudioWAV\\1001_IOM_FEA_XX.wav",
         "1001_IOM_FEA_XX.wav",
         ".wav",
         "Fear",
         "2.836188"
        ],
        [
         "25",
         "25",
         "CREMA-D",
         "./dataset/crema-d\\AudioWAV\\1001_IOM_HAP_XX.wav",
         "1001_IOM_HAP_XX.wav",
         ".wav",
         "Happy",
         "2.002"
        ],
        [
         "26",
         "26",
         "CREMA-D",
         "./dataset/crema-d\\AudioWAV\\1001_IOM_NEU_XX.wav",
         "1001_IOM_NEU_XX.wav",
         ".wav",
         "Neutral",
         "2.469125"
        ],
        [
         "27",
         "27",
         "CREMA-D",
         "./dataset/crema-d\\AudioWAV\\1001_IOM_SAD_XX.wav",
         "1001_IOM_SAD_XX.wav",
         ".wav",
         "Sad",
         "1.93525"
        ],
        [
         "28",
         "28",
         "CREMA-D",
         "./dataset/crema-d\\AudioWAV\\1001_ITH_ANG_XX.wav",
         "1001_ITH_ANG_XX.wav",
         ".wav",
         "Anger",
         "2.369"
        ],
        [
         "29",
         "29",
         "CREMA-D",
         "./dataset/crema-d\\AudioWAV\\1001_ITH_DIS_XX.wav",
         "1001_ITH_DIS_XX.wav",
         ".wav",
         "Disgust",
         "2.168813"
        ],
        [
         "30",
         "30",
         "CREMA-D",
         "./dataset/crema-d\\AudioWAV\\1001_ITH_FEA_XX.wav",
         "1001_ITH_FEA_XX.wav",
         ".wav",
         "Fear",
         "2.102125"
        ],
        [
         "31",
         "31",
         "CREMA-D",
         "./dataset/crema-d\\AudioWAV\\1001_ITH_HAP_XX.wav",
         "1001_ITH_HAP_XX.wav",
         ".wav",
         "Happy",
         "2.469125"
        ],
        [
         "32",
         "32",
         "CREMA-D",
         "./dataset/crema-d\\AudioWAV\\1001_ITH_NEU_XX.wav",
         "1001_ITH_NEU_XX.wav",
         ".wav",
         "Neutral",
         "2.602625"
        ],
        [
         "33",
         "33",
         "CREMA-D",
         "./dataset/crema-d\\AudioWAV\\1001_ITH_SAD_XX.wav",
         "1001_ITH_SAD_XX.wav",
         ".wav",
         "Sad",
         "2.369"
        ],
        [
         "34",
         "34",
         "CREMA-D",
         "./dataset/crema-d\\AudioWAV\\1001_ITS_ANG_XX.wav",
         "1001_ITS_ANG_XX.wav",
         ".wav",
         "Anger",
         "2.56925"
        ],
        [
         "35",
         "35",
         "CREMA-D",
         "./dataset/crema-d\\AudioWAV\\1001_ITS_DIS_XX.wav",
         "1001_ITS_DIS_XX.wav",
         ".wav",
         "Disgust",
         "2.202188"
        ],
        [
         "36",
         "36",
         "CREMA-D",
         "./dataset/crema-d\\AudioWAV\\1001_ITS_FEA_XX.wav",
         "1001_ITS_FEA_XX.wav",
         ".wav",
         "Fear",
         "2.135438"
        ],
        [
         "37",
         "37",
         "CREMA-D",
         "./dataset/crema-d\\AudioWAV\\1001_ITS_HAP_XX.wav",
         "1001_ITS_HAP_XX.wav",
         ".wav",
         "Happy",
         "2.202188"
        ],
        [
         "38",
         "38",
         "CREMA-D",
         "./dataset/crema-d\\AudioWAV\\1001_ITS_NEU_XX.wav",
         "1001_ITS_NEU_XX.wav",
         ".wav",
         "Neutral",
         "2.43575"
        ],
        [
         "39",
         "39",
         "CREMA-D",
         "./dataset/crema-d\\AudioWAV\\1001_ITS_SAD_XX.wav",
         "1001_ITS_SAD_XX.wav",
         ".wav",
         "Sad",
         "2.669313"
        ],
        [
         "40",
         "40",
         "CREMA-D",
         "./dataset/crema-d\\AudioWAV\\1001_IWL_ANG_XX.wav",
         "1001_IWL_ANG_XX.wav",
         ".wav",
         "Anger",
         "3.169813"
        ],
        [
         "41",
         "41",
         "CREMA-D",
         "./dataset/crema-d\\AudioWAV\\1001_IWL_DIS_XX.wav",
         "1001_IWL_DIS_XX.wav",
         ".wav",
         "Disgust",
         "2.56925"
        ],
        [
         "42",
         "42",
         "CREMA-D",
         "./dataset/crema-d\\AudioWAV\\1001_IWL_FEA_XX.wav",
         "1001_IWL_FEA_XX.wav",
         ".wav",
         "Fear",
         "2.369"
        ],
        [
         "43",
         "43",
         "CREMA-D",
         "./dataset/crema-d\\AudioWAV\\1001_IWL_HAP_XX.wav",
         "1001_IWL_HAP_XX.wav",
         ".wav",
         "Happy",
         "2.102125"
        ],
        [
         "44",
         "44",
         "CREMA-D",
         "./dataset/crema-d\\AudioWAV\\1001_IWL_NEU_XX.wav",
         "1001_IWL_NEU_XX.wav",
         ".wav",
         "Neutral",
         "2.836188"
        ],
        [
         "45",
         "45",
         "CREMA-D",
         "./dataset/crema-d\\AudioWAV\\1001_IWL_SAD_XX.wav",
         "1001_IWL_SAD_XX.wav",
         ".wav",
         "Sad",
         "2.836188"
        ],
        [
         "46",
         "46",
         "CREMA-D",
         "./dataset/crema-d\\AudioWAV\\1001_IWW_ANG_XX.wav",
         "1001_IWW_ANG_XX.wav",
         ".wav",
         "Anger",
         "2.275563"
        ],
        [
         "47",
         "47",
         "CREMA-D",
         "./dataset/crema-d\\AudioWAV\\1001_IWW_DIS_XX.wav",
         "1001_IWW_DIS_XX.wav",
         ".wav",
         "Disgust",
         "2.06875"
        ],
        [
         "48",
         "48",
         "CREMA-D",
         "./dataset/crema-d\\AudioWAV\\1001_IWW_FEA_XX.wav",
         "1001_IWW_FEA_XX.wav",
         ".wav",
         "Fear",
         "2.202188"
        ],
        [
         "49",
         "49",
         "CREMA-D",
         "./dataset/crema-d\\AudioWAV\\1001_IWW_HAP_XX.wav",
         "1001_IWW_HAP_XX.wav",
         ".wav",
         "Happy",
         "1.968625"
        ]
       ],
       "shape": {
        "columns": 7,
        "rows": 73924
       }
      },
      "text/html": [
       "<div>\n",
       "<style scoped>\n",
       "    .dataframe tbody tr th:only-of-type {\n",
       "        vertical-align: middle;\n",
       "    }\n",
       "\n",
       "    .dataframe tbody tr th {\n",
       "        vertical-align: top;\n",
       "    }\n",
       "\n",
       "    .dataframe thead th {\n",
       "        text-align: right;\n",
       "    }\n",
       "</style>\n",
       "<table border=\"1\" class=\"dataframe\">\n",
       "  <thead>\n",
       "    <tr style=\"text-align: right;\">\n",
       "      <th></th>\n",
       "      <th>Id</th>\n",
       "      <th>Dataset</th>\n",
       "      <th>Filepath</th>\n",
       "      <th>Filename</th>\n",
       "      <th>Ext</th>\n",
       "      <th>Emotion</th>\n",
       "      <th>duration</th>\n",
       "    </tr>\n",
       "  </thead>\n",
       "  <tbody>\n",
       "    <tr>\n",
       "      <th>0</th>\n",
       "      <td>0</td>\n",
       "      <td>CREMA-D</td>\n",
       "      <td>./dataset/crema-d\\AudioWAV\\1001_DFA_ANG_XX.wav</td>\n",
       "      <td>1001_DFA_ANG_XX.wav</td>\n",
       "      <td>.wav</td>\n",
       "      <td>Anger</td>\n",
       "      <td>2.275563</td>\n",
       "    </tr>\n",
       "    <tr>\n",
       "      <th>1</th>\n",
       "      <td>1</td>\n",
       "      <td>CREMA-D</td>\n",
       "      <td>./dataset/crema-d\\AudioWAV\\1001_DFA_DIS_XX.wav</td>\n",
       "      <td>1001_DFA_DIS_XX.wav</td>\n",
       "      <td>.wav</td>\n",
       "      <td>Disgust</td>\n",
       "      <td>2.335688</td>\n",
       "    </tr>\n",
       "    <tr>\n",
       "      <th>2</th>\n",
       "      <td>2</td>\n",
       "      <td>CREMA-D</td>\n",
       "      <td>./dataset/crema-d\\AudioWAV\\1001_DFA_FEA_XX.wav</td>\n",
       "      <td>1001_DFA_FEA_XX.wav</td>\n",
       "      <td>.wav</td>\n",
       "      <td>Fear</td>\n",
       "      <td>2.168813</td>\n",
       "    </tr>\n",
       "    <tr>\n",
       "      <th>3</th>\n",
       "      <td>3</td>\n",
       "      <td>CREMA-D</td>\n",
       "      <td>./dataset/crema-d\\AudioWAV\\1001_DFA_HAP_XX.wav</td>\n",
       "      <td>1001_DFA_HAP_XX.wav</td>\n",
       "      <td>.wav</td>\n",
       "      <td>Happy</td>\n",
       "      <td>1.868500</td>\n",
       "    </tr>\n",
       "    <tr>\n",
       "      <th>4</th>\n",
       "      <td>4</td>\n",
       "      <td>CREMA-D</td>\n",
       "      <td>./dataset/crema-d\\AudioWAV\\1001_DFA_NEU_XX.wav</td>\n",
       "      <td>1001_DFA_NEU_XX.wav</td>\n",
       "      <td>.wav</td>\n",
       "      <td>Neutral</td>\n",
       "      <td>2.035375</td>\n",
       "    </tr>\n",
       "    <tr>\n",
       "      <th>...</th>\n",
       "      <td>...</td>\n",
       "      <td>...</td>\n",
       "      <td>...</td>\n",
       "      <td>...</td>\n",
       "      <td>...</td>\n",
       "      <td>...</td>\n",
       "      <td>...</td>\n",
       "    </tr>\n",
       "    <tr>\n",
       "      <th>73919</th>\n",
       "      <td>74697</td>\n",
       "      <td>JL-CORPUS</td>\n",
       "      <td>./dataset/jl-corpus/Raw JL corpus (unchecked a...</td>\n",
       "      <td>male2_sad_8b_2.wav</td>\n",
       "      <td>.wav</td>\n",
       "      <td>Sad</td>\n",
       "      <td>2.350000</td>\n",
       "    </tr>\n",
       "    <tr>\n",
       "      <th>73920</th>\n",
       "      <td>74698</td>\n",
       "      <td>JL-CORPUS</td>\n",
       "      <td>./dataset/jl-corpus/Raw JL corpus (unchecked a...</td>\n",
       "      <td>male2_sad_9a_1.wav</td>\n",
       "      <td>.wav</td>\n",
       "      <td>Sad</td>\n",
       "      <td>2.250000</td>\n",
       "    </tr>\n",
       "    <tr>\n",
       "      <th>73921</th>\n",
       "      <td>74699</td>\n",
       "      <td>JL-CORPUS</td>\n",
       "      <td>./dataset/jl-corpus/Raw JL corpus (unchecked a...</td>\n",
       "      <td>male2_sad_9a_2.wav</td>\n",
       "      <td>.wav</td>\n",
       "      <td>Sad</td>\n",
       "      <td>2.350000</td>\n",
       "    </tr>\n",
       "    <tr>\n",
       "      <th>73922</th>\n",
       "      <td>74700</td>\n",
       "      <td>JL-CORPUS</td>\n",
       "      <td>./dataset/jl-corpus/Raw JL corpus (unchecked a...</td>\n",
       "      <td>male2_sad_9b_1.wav</td>\n",
       "      <td>.wav</td>\n",
       "      <td>Sad</td>\n",
       "      <td>2.150000</td>\n",
       "    </tr>\n",
       "    <tr>\n",
       "      <th>73923</th>\n",
       "      <td>74701</td>\n",
       "      <td>JL-CORPUS</td>\n",
       "      <td>./dataset/jl-corpus/Raw JL corpus (unchecked a...</td>\n",
       "      <td>male2_sad_9b_2.wav</td>\n",
       "      <td>.wav</td>\n",
       "      <td>Sad</td>\n",
       "      <td>2.150000</td>\n",
       "    </tr>\n",
       "  </tbody>\n",
       "</table>\n",
       "<p>73924 rows × 7 columns</p>\n",
       "</div>"
      ],
      "text/plain": [
       "          Id    Dataset                                           Filepath  \\\n",
       "0          0    CREMA-D     ./dataset/crema-d\\AudioWAV\\1001_DFA_ANG_XX.wav   \n",
       "1          1    CREMA-D     ./dataset/crema-d\\AudioWAV\\1001_DFA_DIS_XX.wav   \n",
       "2          2    CREMA-D     ./dataset/crema-d\\AudioWAV\\1001_DFA_FEA_XX.wav   \n",
       "3          3    CREMA-D     ./dataset/crema-d\\AudioWAV\\1001_DFA_HAP_XX.wav   \n",
       "4          4    CREMA-D     ./dataset/crema-d\\AudioWAV\\1001_DFA_NEU_XX.wav   \n",
       "...      ...        ...                                                ...   \n",
       "73919  74697  JL-CORPUS  ./dataset/jl-corpus/Raw JL corpus (unchecked a...   \n",
       "73920  74698  JL-CORPUS  ./dataset/jl-corpus/Raw JL corpus (unchecked a...   \n",
       "73921  74699  JL-CORPUS  ./dataset/jl-corpus/Raw JL corpus (unchecked a...   \n",
       "73922  74700  JL-CORPUS  ./dataset/jl-corpus/Raw JL corpus (unchecked a...   \n",
       "73923  74701  JL-CORPUS  ./dataset/jl-corpus/Raw JL corpus (unchecked a...   \n",
       "\n",
       "                  Filename   Ext  Emotion  duration  \n",
       "0      1001_DFA_ANG_XX.wav  .wav    Anger  2.275563  \n",
       "1      1001_DFA_DIS_XX.wav  .wav  Disgust  2.335688  \n",
       "2      1001_DFA_FEA_XX.wav  .wav     Fear  2.168813  \n",
       "3      1001_DFA_HAP_XX.wav  .wav    Happy  1.868500  \n",
       "4      1001_DFA_NEU_XX.wav  .wav  Neutral  2.035375  \n",
       "...                    ...   ...      ...       ...  \n",
       "73919   male2_sad_8b_2.wav  .wav      Sad  2.350000  \n",
       "73920   male2_sad_9a_1.wav  .wav      Sad  2.250000  \n",
       "73921   male2_sad_9a_2.wav  .wav      Sad  2.350000  \n",
       "73922   male2_sad_9b_1.wav  .wav      Sad  2.150000  \n",
       "73923   male2_sad_9b_2.wav  .wav      Sad  2.150000  \n",
       "\n",
       "[73924 rows x 7 columns]"
      ]
     },
     "execution_count": 68,
     "metadata": {},
     "output_type": "execute_result"
    }
   ],
   "source": [
    "threshold = 7\n",
    "df = df[df['duration'] <= threshold].reset_index(drop=True)\n",
    "df"
   ]
  },
  {
   "cell_type": "code",
   "execution_count": 69,
   "id": "3bd608bd",
   "metadata": {},
   "outputs": [
    {
     "data": {
      "application/vnd.microsoft.datawrangler.viewer.v0+json": {
       "columns": [
        {
         "name": "index",
         "rawType": "int64",
         "type": "integer"
        },
        {
         "name": "Id",
         "rawType": "int64",
         "type": "integer"
        },
        {
         "name": "Dataset",
         "rawType": "object",
         "type": "string"
        },
        {
         "name": "Filepath",
         "rawType": "object",
         "type": "string"
        },
        {
         "name": "Filename",
         "rawType": "object",
         "type": "string"
        },
        {
         "name": "Ext",
         "rawType": "object",
         "type": "string"
        },
        {
         "name": "duration",
         "rawType": "float64",
         "type": "float"
        },
        {
         "name": "Emotion",
         "rawType": "object",
         "type": "string"
        }
       ],
       "conversionMethod": "pd.DataFrame",
       "ref": "b27492c1-a49c-4891-90ef-77d85056aa75",
       "rows": [
        [
         "73919",
         "73919",
         "JL-CORPUS",
         "./dataset/jl-corpus/Raw JL corpus (unchecked and unannotated)/JL(wav+txt)\\male2_sad_8b_2.wav",
         "male2_sad_8b_2.wav",
         ".wav",
         "2.35",
         "Sad"
        ],
        [
         "73920",
         "73920",
         "JL-CORPUS",
         "./dataset/jl-corpus/Raw JL corpus (unchecked and unannotated)/JL(wav+txt)\\male2_sad_9a_1.wav",
         "male2_sad_9a_1.wav",
         ".wav",
         "2.25",
         "Sad"
        ],
        [
         "73921",
         "73921",
         "JL-CORPUS",
         "./dataset/jl-corpus/Raw JL corpus (unchecked and unannotated)/JL(wav+txt)\\male2_sad_9a_2.wav",
         "male2_sad_9a_2.wav",
         ".wav",
         "2.35",
         "Sad"
        ],
        [
         "73922",
         "73922",
         "JL-CORPUS",
         "./dataset/jl-corpus/Raw JL corpus (unchecked and unannotated)/JL(wav+txt)\\male2_sad_9b_1.wav",
         "male2_sad_9b_1.wav",
         ".wav",
         "2.15",
         "Sad"
        ],
        [
         "73923",
         "73923",
         "JL-CORPUS",
         "./dataset/jl-corpus/Raw JL corpus (unchecked and unannotated)/JL(wav+txt)\\male2_sad_9b_2.wav",
         "male2_sad_9b_2.wav",
         ".wav",
         "2.15",
         "Sad"
        ]
       ],
       "shape": {
        "columns": 7,
        "rows": 5
       }
      },
      "text/html": [
       "<div>\n",
       "<style scoped>\n",
       "    .dataframe tbody tr th:only-of-type {\n",
       "        vertical-align: middle;\n",
       "    }\n",
       "\n",
       "    .dataframe tbody tr th {\n",
       "        vertical-align: top;\n",
       "    }\n",
       "\n",
       "    .dataframe thead th {\n",
       "        text-align: right;\n",
       "    }\n",
       "</style>\n",
       "<table border=\"1\" class=\"dataframe\">\n",
       "  <thead>\n",
       "    <tr style=\"text-align: right;\">\n",
       "      <th></th>\n",
       "      <th>Id</th>\n",
       "      <th>Dataset</th>\n",
       "      <th>Filepath</th>\n",
       "      <th>Filename</th>\n",
       "      <th>Ext</th>\n",
       "      <th>duration</th>\n",
       "      <th>Emotion</th>\n",
       "    </tr>\n",
       "  </thead>\n",
       "  <tbody>\n",
       "    <tr>\n",
       "      <th>73919</th>\n",
       "      <td>73919</td>\n",
       "      <td>JL-CORPUS</td>\n",
       "      <td>./dataset/jl-corpus/Raw JL corpus (unchecked a...</td>\n",
       "      <td>male2_sad_8b_2.wav</td>\n",
       "      <td>.wav</td>\n",
       "      <td>2.35</td>\n",
       "      <td>Sad</td>\n",
       "    </tr>\n",
       "    <tr>\n",
       "      <th>73920</th>\n",
       "      <td>73920</td>\n",
       "      <td>JL-CORPUS</td>\n",
       "      <td>./dataset/jl-corpus/Raw JL corpus (unchecked a...</td>\n",
       "      <td>male2_sad_9a_1.wav</td>\n",
       "      <td>.wav</td>\n",
       "      <td>2.25</td>\n",
       "      <td>Sad</td>\n",
       "    </tr>\n",
       "    <tr>\n",
       "      <th>73921</th>\n",
       "      <td>73921</td>\n",
       "      <td>JL-CORPUS</td>\n",
       "      <td>./dataset/jl-corpus/Raw JL corpus (unchecked a...</td>\n",
       "      <td>male2_sad_9a_2.wav</td>\n",
       "      <td>.wav</td>\n",
       "      <td>2.35</td>\n",
       "      <td>Sad</td>\n",
       "    </tr>\n",
       "    <tr>\n",
       "      <th>73922</th>\n",
       "      <td>73922</td>\n",
       "      <td>JL-CORPUS</td>\n",
       "      <td>./dataset/jl-corpus/Raw JL corpus (unchecked a...</td>\n",
       "      <td>male2_sad_9b_1.wav</td>\n",
       "      <td>.wav</td>\n",
       "      <td>2.15</td>\n",
       "      <td>Sad</td>\n",
       "    </tr>\n",
       "    <tr>\n",
       "      <th>73923</th>\n",
       "      <td>73923</td>\n",
       "      <td>JL-CORPUS</td>\n",
       "      <td>./dataset/jl-corpus/Raw JL corpus (unchecked a...</td>\n",
       "      <td>male2_sad_9b_2.wav</td>\n",
       "      <td>.wav</td>\n",
       "      <td>2.15</td>\n",
       "      <td>Sad</td>\n",
       "    </tr>\n",
       "  </tbody>\n",
       "</table>\n",
       "</div>"
      ],
      "text/plain": [
       "          Id    Dataset                                           Filepath  \\\n",
       "73919  73919  JL-CORPUS  ./dataset/jl-corpus/Raw JL corpus (unchecked a...   \n",
       "73920  73920  JL-CORPUS  ./dataset/jl-corpus/Raw JL corpus (unchecked a...   \n",
       "73921  73921  JL-CORPUS  ./dataset/jl-corpus/Raw JL corpus (unchecked a...   \n",
       "73922  73922  JL-CORPUS  ./dataset/jl-corpus/Raw JL corpus (unchecked a...   \n",
       "73923  73923  JL-CORPUS  ./dataset/jl-corpus/Raw JL corpus (unchecked a...   \n",
       "\n",
       "                 Filename   Ext  duration Emotion  \n",
       "73919  male2_sad_8b_2.wav  .wav      2.35     Sad  \n",
       "73920  male2_sad_9a_1.wav  .wav      2.25     Sad  \n",
       "73921  male2_sad_9a_2.wav  .wav      2.35     Sad  \n",
       "73922  male2_sad_9b_1.wav  .wav      2.15     Sad  \n",
       "73923  male2_sad_9b_2.wav  .wav      2.15     Sad  "
      ]
     },
     "execution_count": 69,
     "metadata": {},
     "output_type": "execute_result"
    }
   ],
   "source": [
    "df['Id'] = np.arange(len(df))\n",
    "df = df[['Id', 'Dataset', 'Filepath', 'Filename', 'Ext', 'duration', 'Emotion']]\n",
    "df.tail()"
   ]
  },
  {
   "cell_type": "code",
   "execution_count": 70,
   "id": "e62b9639",
   "metadata": {},
   "outputs": [],
   "source": [
    "df.to_csv(\"./speech_dataset.csv\", index=False)"
   ]
  },
  {
   "cell_type": "markdown",
   "id": "b6a2fec6",
   "metadata": {},
   "source": [
    "### Emotion distribution"
   ]
  },
  {
   "cell_type": "code",
   "execution_count": 71,
   "id": "25b635b8",
   "metadata": {},
   "outputs": [
    {
     "data": {
      "text/plain": [
       "Emotion\n",
       "Neutral        18027\n",
       "Happy          15463\n",
       "Question        8201\n",
       "Bored           8042\n",
       "Anger           6688\n",
       "Sad             6257\n",
       "Surprise        5283\n",
       "Fear            2167\n",
       "Disgust         2164\n",
       "Anxious          240\n",
       "Apologetic       240\n",
       "Assertive        240\n",
       "Encouraging      240\n",
       "Concerned        240\n",
       "Excited          240\n",
       "Calm             192\n",
       "Name: count, dtype: int64"
      ]
     },
     "execution_count": 71,
     "metadata": {},
     "output_type": "execute_result"
    }
   ],
   "source": [
    "emotion_counts = df['Emotion'].value_counts()\n",
    "emotion_counts"
   ]
  },
  {
   "cell_type": "code",
   "execution_count": 72,
   "id": "d29db9be",
   "metadata": {},
   "outputs": [
    {
     "data": {
      "image/png": "[encoded data removed]",
      "text/plain": [
       "<Figure size 1000x600 with 1 Axes>"
      ]
     },
     "metadata": {},
     "output_type": "display_data"
    }
   ],
   "source": [
    "# Plot the emotion counts as a bar chart\n",
    "plt.figure(figsize=(10, 6))\n",
    "ax = emotion_counts.plot(kind=\"bar\", edgecolor='black')\n",
    "plt.xlabel(\"Emotion\")\n",
    "plt.ylabel(\"Count\")\n",
    "plt.title(\"Emotion Frequency Distribution\")\n",
    "plt.xticks(rotation=45)\n",
    "plt.tight_layout()\n",
    "\n",
    "# Annotate each bar with its count value\n",
    "for p in ax.patches:\n",
    "    # Get the height of each bar (i.e., the count)\n",
    "    height = p.get_height()\n",
    "    # Place the annotation above the bar\n",
    "    ax.annotate(f'{int(height)}', \n",
    "                (p.get_x() + p.get_width() / 2, height),\n",
    "                ha='center', va='bottom')\n",
    "\n",
    "# Save the plot as an image file\n",
    "plt.savefig(\"./plots/emotion_counts_bar_chart.png\")\n",
    "plt.show()"
   ]
  },
  {
   "cell_type": "markdown",
   "id": "8838ed3f",
   "metadata": {},
   "source": [
    "## 3. Splitting into train and test"
   ]
  },
  {
   "cell_type": "code",
   "execution_count": 73,
   "id": "9faad572",
   "metadata": {},
   "outputs": [],
   "source": [
    "from sklearn.model_selection import train_test_split"
   ]
  },
  {
   "cell_type": "code",
   "execution_count": 74,
   "id": "2c52ee97",
   "metadata": {},
   "outputs": [],
   "source": [
    "X = df.drop('Emotion', axis=1)\n",
    "y = df['Emotion']\n",
    "X_train, X_test, y_train, y_test = train_test_split(X, y, test_size=0.2, random_state=42, stratify=y)"
   ]
  },
  {
   "cell_type": "code",
   "execution_count": 75,
   "id": "bf63ba93",
   "metadata": {},
   "outputs": [
    {
     "name": "stdout",
     "output_type": "stream",
     "text": [
      "Training set shapes: (59139, 6) (59139,)\n",
      "Test set shapes: (14785, 6) (14785,)\n"
     ]
    }
   ],
   "source": [
    "# Check the shape of the dataframes:\n",
    "print(\"Training set shapes:\", X_train.shape, y_train.shape)\n",
    "print(\"Test set shapes:\", X_test.shape, y_test.shape)"
   ]
  },
  {
   "cell_type": "code",
   "execution_count": 76,
   "id": "8272bca0",
   "metadata": {},
   "outputs": [
    {
     "data": {
      "application/vnd.microsoft.datawrangler.viewer.v0+json": {
       "columns": [
        {
         "name": "index",
         "rawType": "int64",
         "type": "integer"
        },
        {
         "name": "Id",
         "rawType": "int64",
         "type": "integer"
        },
        {
         "name": "Dataset",
         "rawType": "object",
         "type": "string"
        },
        {
         "name": "Filepath",
         "rawType": "object",
         "type": "string"
        },
        {
         "name": "Filename",
         "rawType": "object",
         "type": "string"
        },
        {
         "name": "Ext",
         "rawType": "object",
         "type": "string"
        },
        {
         "name": "duration",
         "rawType": "float64",
         "type": "float"
        }
       ],
       "conversionMethod": "pd.DataFrame",
       "ref": "bf379213-a722-4ca7-8cff-89074d4c132b",
       "rows": [
        [
         "51538",
         "51538",
         "TESS",
         "./dataset/tess\\OAF_disgust\\OAF_nice_disgust.wav",
         "OAF_nice_disgust.wav",
         ".wav",
         "2.501352"
        ],
        [
         "21276",
         "21276",
         "MLEND",
         "./dataset/mlend\\MLEndSND_Public\\06691.wav",
         "06691.wav",
         ".wav",
         "0.952018"
        ],
        [
         "72588",
         "72588",
         "JL-CORPUS",
         "./dataset/jl-corpus/Raw JL corpus (unchecked and unannotated)/JL(wav+txt)\\female2_happy_6a_1.wav",
         "female2_happy_6a_1.wav",
         ".wav",
         "1.75"
        ],
        [
         "4089",
         "4089",
         "CREMA-D",
         "./dataset/crema-d\\AudioWAV\\1051_IEO_ANG_MD.wav",
         "1051_IEO_ANG_MD.wav",
         ".wav",
         "1.801813"
        ],
        [
         "32802",
         "32802",
         "MLEND",
         "./dataset/mlend\\MLEndSND_Public\\23318.wav",
         "23318.wav",
         ".wav",
         "3.370431"
        ],
        [
         "60919",
         "60919",
         "ESD",
         "./dataset/esd\\0014\\Surprise\\0014_001646.wav",
         "0014_001646.wav",
         ".wav",
         "2.047"
        ],
        [
         "43083",
         "43083",
         "MLEND",
         "./dataset/mlend\\MLEndSND_Public\\38079.wav",
         "38079.wav",
         ".wav",
         "1.172608"
        ],
        [
         "61371",
         "61371",
         "ESD",
         "./dataset/esd\\0015\\Neutral\\0015_000348.wav",
         "0015_000348.wav",
         ".wav",
         "2.575"
        ],
        [
         "30914",
         "30914",
         "MLEND",
         "./dataset/mlend\\MLEndSND_Public\\20573.wav",
         "20573.wav",
         ".wav",
         "1.044898"
        ],
        [
         "58035",
         "58035",
         "ESD",
         "./dataset/esd\\0013\\Angry\\0013_000512.wav",
         "0013_000512.wav",
         ".wav",
         "3.619"
        ],
        [
         "38967",
         "38967",
         "MLEND",
         "./dataset/mlend\\MLEndSND_Public\\32214.wav",
         "32214.wav",
         ".wav",
         "0.986848"
        ],
        [
         "6184",
         "6184",
         "CREMA-D",
         "./dataset/crema-d\\AudioWAV\\1076_MTI_FEA_XX.wav",
         "1076_MTI_FEA_XX.wav",
         ".wav",
         "2.702688"
        ],
        [
         "66592",
         "66592",
         "ESD",
         "./dataset/esd\\0018\\Neutral\\0018_000319.wav",
         "0018_000319.wav",
         ".wav",
         "3.36"
        ],
        [
         "49282",
         "49282",
         "MLEND",
         "./dataset/mlend\\MLEndSND_Public\\47035.wav",
         "47035.wav",
         ".wav",
         "1.695057"
        ],
        [
         "69893",
         "69893",
         "ESD",
         "./dataset/esd\\0020\\Neutral\\0020_000120.wav",
         "0020_000120.wav",
         ".wav",
         "2.723"
        ],
        [
         "55569",
         "55569",
         "ESD",
         "./dataset/esd\\0011\\Surprise\\0011_001546.wav",
         "0011_001546.wav",
         ".wav",
         "2.523"
        ],
        [
         "26303",
         "26303",
         "MLEND",
         "./dataset/mlend\\MLEndSND_Public\\13902.wav",
         "13902.wav",
         ".wav",
         "1.044898"
        ],
        [
         "27617",
         "27617",
         "MLEND",
         "./dataset/mlend\\MLEndSND_Public\\15803.wav",
         "15803.wav",
         ".wav",
         "1.637007"
        ],
        [
         "41946",
         "41946",
         "MLEND",
         "./dataset/mlend\\MLEndSND_Public\\36451.wav",
         "36451.wav",
         ".wav",
         "3.062766"
        ],
        [
         "34675",
         "34675",
         "MLEND",
         "./dataset/mlend\\MLEndSND_Public\\25982.wav",
         "25982.wav",
         ".wav",
         "1.857596"
        ],
        [
         "1526",
         "1526",
         "CREMA-D",
         "./dataset/crema-d\\AudioWAV\\1019_TIE_SAD_XX.wav",
         "1019_TIE_SAD_XX.wav",
         ".wav",
         "2.8695"
        ],
        [
         "268",
         "268",
         "CREMA-D",
         "./dataset/crema-d\\AudioWAV\\1004_IOM_DIS_XX.wav",
         "1004_IOM_DIS_XX.wav",
         ".wav",
         "2.702688"
        ],
        [
         "5516",
         "5516",
         "CREMA-D",
         "./dataset/crema-d\\AudioWAV\\1068_IWL_DIS_XX.wav",
         "1068_IWL_DIS_XX.wav",
         ".wav",
         "2.469125"
        ],
        [
         "62836",
         "62836",
         "ESD",
         "./dataset/esd\\0016\\Neutral\\0016_000063.wav",
         "0016_000063.wav",
         ".wav",
         "2.723"
        ],
        [
         "67331",
         "67331",
         "ESD",
         "./dataset/esd\\0018\\Sad\\0018_001058.wav",
         "0018_001058.wav",
         ".wav",
         "2.432"
        ],
        [
         "16842",
         "16842",
         "MLEND",
         "./dataset/mlend\\MLEndSND_Public\\00275.wav",
         "00275.wav",
         ".wav",
         "1.149388"
        ],
        [
         "71022",
         "71022",
         "ESD",
         "./dataset/esd\\0020\\Sad\\0020_001249.wav",
         "0020_001249.wav",
         ".wav",
         "3.726"
        ],
        [
         "12004",
         "12004",
         "MELD",
         "./dataset/meld\\train\\dia52_utt1.mp4",
         "dia52_utt1.mp4",
         ".mp4",
         "1.543207"
        ],
        [
         "42350",
         "42350",
         "MLEND",
         "./dataset/mlend\\MLEndSND_Public\\37013.wav",
         "37013.wav",
         ".wav",
         "1.451247"
        ],
        [
         "50063",
         "50063",
         "RAVDESS",
         "./dataset/ravdess\\Actor_13\\03-01-05-02-02-01-13.wav",
         "03-01-05-02-02-01-13.wav",
         ".wav",
         "3.570229"
        ],
        [
         "6819",
         "6819",
         "CREMA-D",
         "./dataset/crema-d\\AudioWAV\\1084_ITH_SAD_XX.wav",
         "1084_ITH_SAD_XX.wav",
         ".wav",
         "2.969625"
        ],
        [
         "50815",
         "50815",
         "SAVEE",
         "./dataset/savee\\DC_n07.wav",
         "DC_n07.wav",
         ".wav",
         "4.051769"
        ],
        [
         "44183",
         "44183",
         "MLEND",
         "./dataset/mlend\\MLEndSND_Public\\39657.wav",
         "39657.wav",
         ".wav",
         "1.172608"
        ],
        [
         "19620",
         "19620",
         "MLEND",
         "./dataset/mlend\\MLEndSND_Public\\04271.wav",
         "04271.wav",
         ".wav",
         "0.801859"
        ],
        [
         "5524",
         "5524",
         "CREMA-D",
         "./dataset/crema-d\\AudioWAV\\1068_IWW_HAP_XX.wav",
         "1068_IWW_HAP_XX.wav",
         ".wav",
         "1.968625"
        ],
        [
         "44614",
         "44614",
         "MLEND",
         "./dataset/mlend\\MLEndSND_Public\\40288.wav",
         "40288.wav",
         ".wav",
         "1.764717"
        ],
        [
         "15151",
         "15151",
         "MELD",
         "./dataset/meld\\train\\dia84_utt3.mp4",
         "dia84_utt3.mp4",
         ".mp4",
         "2.168832"
        ],
        [
         "71678",
         "71678",
         "JL-CORPUS",
         "./dataset/jl-corpus/Raw JL corpus (unchecked and unannotated)/JL(wav+txt)\\female1_apologetic_3b_1.wav",
         "female1_apologetic_3b_1.wav",
         ".wav",
         "2.4"
        ],
        [
         "66123",
         "66123",
         "ESD",
         "./dataset/esd\\0017\\Surprise\\0017_001600.wav",
         "0017_001600.wav",
         ".wav",
         "2.96"
        ],
        [
         "32706",
         "32706",
         "MLEND",
         "./dataset/mlend\\MLEndSND_Public\\23175.wav",
         "23175.wav",
         ".wav",
         "1.404807"
        ],
        [
         "38872",
         "38872",
         "MLEND",
         "./dataset/mlend\\MLEndSND_Public\\32082.wav",
         "32082.wav",
         ".wav",
         "1.079728"
        ],
        [
         "66546",
         "66546",
         "ESD",
         "./dataset/esd\\0018\\Neutral\\0018_000273.wav",
         "0018_000273.wav",
         ".wav",
         "3.356"
        ],
        [
         "32932",
         "32932",
         "MLEND",
         "./dataset/mlend\\MLEndSND_Public\\23502.wav",
         "23502.wav",
         ".wav",
         "2.41551"
        ],
        [
         "55449",
         "55449",
         "ESD",
         "./dataset/esd\\0011\\Surprise\\0011_001426.wav",
         "0011_001426.wav",
         ".wav",
         "2.623"
        ],
        [
         "9737",
         "9737",
         "MELD",
         "./dataset/meld\\train\\dia297_utt3.mp4",
         "dia297_utt3.mp4",
         ".mp4",
         "0.518"
        ],
        [
         "51870",
         "51870",
         "TESS",
         "./dataset/tess\\OAF_happy\\OAF_gap_happy.wav",
         "OAF_gap_happy.wav",
         ".wav",
         "1.769681"
        ],
        [
         "44648",
         "44648",
         "MLEND",
         "./dataset/mlend\\MLEndSND_Public\\40348.wav",
         "40348.wav",
         ".wav",
         "1.311927"
        ],
        [
         "7806",
         "7806",
         "MELD",
         "./dataset/meld\\train\\dia1032_utt0.mp4",
         "dia1032_utt0.mp4",
         ".mp4",
         "2.252248"
        ],
        [
         "42121",
         "42121",
         "MLEND",
         "./dataset/mlend\\MLEndSND_Public\\36704.wav",
         "36704.wav",
         ".wav",
         "1.718277"
        ],
        [
         "28703",
         "28703",
         "MLEND",
         "./dataset/mlend\\MLEndSND_Public\\17331.wav",
         "17331.wav",
         ".wav",
         "1.184218"
        ]
       ],
       "shape": {
        "columns": 6,
        "rows": 59139
       }
      },
      "text/html": [
       "<div>\n",
       "<style scoped>\n",
       "    .dataframe tbody tr th:only-of-type {\n",
       "        vertical-align: middle;\n",
       "    }\n",
       "\n",
       "    .dataframe tbody tr th {\n",
       "        vertical-align: top;\n",
       "    }\n",
       "\n",
       "    .dataframe thead th {\n",
       "        text-align: right;\n",
       "    }\n",
       "</style>\n",
       "<table border=\"1\" class=\"dataframe\">\n",
       "  <thead>\n",
       "    <tr style=\"text-align: right;\">\n",
       "      <th></th>\n",
       "      <th>Id</th>\n",
       "      <th>Dataset</th>\n",
       "      <th>Filepath</th>\n",
       "      <th>Filename</th>\n",
       "      <th>Ext</th>\n",
       "      <th>duration</th>\n",
       "    </tr>\n",
       "  </thead>\n",
       "  <tbody>\n",
       "    <tr>\n",
       "      <th>51538</th>\n",
       "      <td>51538</td>\n",
       "      <td>TESS</td>\n",
       "      <td>./dataset/tess\\OAF_disgust\\OAF_nice_disgust.wav</td>\n",
       "      <td>OAF_nice_disgust.wav</td>\n",
       "      <td>.wav</td>\n",
       "      <td>2.501352</td>\n",
       "    </tr>\n",
       "    <tr>\n",
       "      <th>21276</th>\n",
       "      <td>21276</td>\n",
       "      <td>MLEND</td>\n",
       "      <td>./dataset/mlend\\MLEndSND_Public\\06691.wav</td>\n",
       "      <td>06691.wav</td>\n",
       "      <td>.wav</td>\n",
       "      <td>0.952018</td>\n",
       "    </tr>\n",
       "    <tr>\n",
       "      <th>72588</th>\n",
       "      <td>72588</td>\n",
       "      <td>JL-CORPUS</td>\n",
       "      <td>./dataset/jl-corpus/Raw JL corpus (unchecked a...</td>\n",
       "      <td>female2_happy_6a_1.wav</td>\n",
       "      <td>.wav</td>\n",
       "      <td>1.750000</td>\n",
       "    </tr>\n",
       "    <tr>\n",
       "      <th>4089</th>\n",
       "      <td>4089</td>\n",
       "      <td>CREMA-D</td>\n",
       "      <td>./dataset/crema-d\\AudioWAV\\1051_IEO_ANG_MD.wav</td>\n",
       "      <td>1051_IEO_ANG_MD.wav</td>\n",
       "      <td>.wav</td>\n",
       "      <td>1.801813</td>\n",
       "    </tr>\n",
       "    <tr>\n",
       "      <th>32802</th>\n",
       "      <td>32802</td>\n",
       "      <td>MLEND</td>\n",
       "      <td>./dataset/mlend\\MLEndSND_Public\\23318.wav</td>\n",
       "      <td>23318.wav</td>\n",
       "      <td>.wav</td>\n",
       "      <td>3.370431</td>\n",
       "    </tr>\n",
       "    <tr>\n",
       "      <th>...</th>\n",
       "      <td>...</td>\n",
       "      <td>...</td>\n",
       "      <td>...</td>\n",
       "      <td>...</td>\n",
       "      <td>...</td>\n",
       "      <td>...</td>\n",
       "    </tr>\n",
       "    <tr>\n",
       "      <th>49044</th>\n",
       "      <td>49044</td>\n",
       "      <td>MLEND</td>\n",
       "      <td>./dataset/mlend\\MLEndSND_Public\\46673.wav</td>\n",
       "      <td>46673.wav</td>\n",
       "      <td>.wav</td>\n",
       "      <td>1.393197</td>\n",
       "    </tr>\n",
       "    <tr>\n",
       "      <th>49618</th>\n",
       "      <td>49618</td>\n",
       "      <td>RAVDESS</td>\n",
       "      <td>./dataset/ravdess\\Actor_06\\03-01-02-02-01-02-0...</td>\n",
       "      <td>03-01-02-02-01-02-06.wav</td>\n",
       "      <td>.wav</td>\n",
       "      <td>4.637979</td>\n",
       "    </tr>\n",
       "    <tr>\n",
       "      <th>13167</th>\n",
       "      <td>13167</td>\n",
       "      <td>MELD</td>\n",
       "      <td>./dataset/meld\\train\\dia645_utt1.mp4</td>\n",
       "      <td>dia645_utt1.mp4</td>\n",
       "      <td>.mp4</td>\n",
       "      <td>1.418083</td>\n",
       "    </tr>\n",
       "    <tr>\n",
       "      <th>31384</th>\n",
       "      <td>31384</td>\n",
       "      <td>MLEND</td>\n",
       "      <td>./dataset/mlend\\MLEndSND_Public\\21262.wav</td>\n",
       "      <td>21262.wav</td>\n",
       "      <td>.wav</td>\n",
       "      <td>1.195828</td>\n",
       "    </tr>\n",
       "    <tr>\n",
       "      <th>43035</th>\n",
       "      <td>43035</td>\n",
       "      <td>MLEND</td>\n",
       "      <td>./dataset/mlend\\MLEndSND_Public\\38013.wav</td>\n",
       "      <td>38013.wav</td>\n",
       "      <td>.wav</td>\n",
       "      <td>0.963628</td>\n",
       "    </tr>\n",
       "  </tbody>\n",
       "</table>\n",
       "<p>59139 rows × 6 columns</p>\n",
       "</div>"
      ],
      "text/plain": [
       "          Id    Dataset                                           Filepath  \\\n",
       "51538  51538       TESS    ./dataset/tess\\OAF_disgust\\OAF_nice_disgust.wav   \n",
       "21276  21276      MLEND          ./dataset/mlend\\MLEndSND_Public\\06691.wav   \n",
       "72588  72588  JL-CORPUS  ./dataset/jl-corpus/Raw JL corpus (unchecked a...   \n",
       "4089    4089    CREMA-D     ./dataset/crema-d\\AudioWAV\\1051_IEO_ANG_MD.wav   \n",
       "32802  32802      MLEND          ./dataset/mlend\\MLEndSND_Public\\23318.wav   \n",
       "...      ...        ...                                                ...   \n",
       "49044  49044      MLEND          ./dataset/mlend\\MLEndSND_Public\\46673.wav   \n",
       "49618  49618    RAVDESS  ./dataset/ravdess\\Actor_06\\03-01-02-02-01-02-0...   \n",
       "13167  13167       MELD               ./dataset/meld\\train\\dia645_utt1.mp4   \n",
       "31384  31384      MLEND          ./dataset/mlend\\MLEndSND_Public\\21262.wav   \n",
       "43035  43035      MLEND          ./dataset/mlend\\MLEndSND_Public\\38013.wav   \n",
       "\n",
       "                       Filename   Ext  duration  \n",
       "51538      OAF_nice_disgust.wav  .wav  2.501352  \n",
       "21276                 06691.wav  .wav  0.952018  \n",
       "72588    female2_happy_6a_1.wav  .wav  1.750000  \n",
       "4089        1051_IEO_ANG_MD.wav  .wav  1.801813  \n",
       "32802                 23318.wav  .wav  3.370431  \n",
       "...                         ...   ...       ...  \n",
       "49044                 46673.wav  .wav  1.393197  \n",
       "49618  03-01-02-02-01-02-06.wav  .wav  4.637979  \n",
       "13167           dia645_utt1.mp4  .mp4  1.418083  \n",
       "31384                 21262.wav  .wav  1.195828  \n",
       "43035                 38013.wav  .wav  0.963628  \n",
       "\n",
       "[59139 rows x 6 columns]"
      ]
     },
     "execution_count": 76,
     "metadata": {},
     "output_type": "execute_result"
    }
   ],
   "source": [
    "X_train"
   ]
  },
  {
   "cell_type": "code",
   "execution_count": 77,
   "id": "f25c159a",
   "metadata": {},
   "outputs": [
    {
     "data": {
      "application/vnd.microsoft.datawrangler.viewer.v0+json": {
       "columns": [
        {
         "name": "index",
         "rawType": "int64",
         "type": "integer"
        },
        {
         "name": "Id",
         "rawType": "int64",
         "type": "integer"
        },
        {
         "name": "Dataset",
         "rawType": "object",
         "type": "string"
        },
        {
         "name": "Filepath",
         "rawType": "object",
         "type": "string"
        },
        {
         "name": "Filename",
         "rawType": "object",
         "type": "string"
        },
        {
         "name": "Ext",
         "rawType": "object",
         "type": "string"
        },
        {
         "name": "duration",
         "rawType": "float64",
         "type": "float"
        }
       ],
       "conversionMethod": "pd.DataFrame",
       "ref": "6f0ff434-5be4-4fc4-8b01-d9f9f7726724",
       "rows": [
        [
         "70214",
         "70214",
         "ESD",
         "./dataset/esd\\0020\\Angry\\0020_000441.wav",
         "0020_000441.wav",
         ".wav",
         "2.627"
        ],
        [
         "73688",
         "73688",
         "JL-CORPUS",
         "./dataset/jl-corpus/Raw JL corpus (unchecked and unannotated)/JL(wav+txt)\\male2_excited_11a_1.wav",
         "male2_excited_11a_1.wav",
         ".wav",
         "1.75"
        ],
        [
         "73861",
         "73861",
         "JL-CORPUS",
         "./dataset/jl-corpus/Raw JL corpus (unchecked and unannotated)/JL(wav+txt)\\male2_neutral_9a_2.wav",
         "male2_neutral_9a_2.wav",
         ".wav",
         "2.0"
        ],
        [
         "24995",
         "24995",
         "MLEND",
         "./dataset/mlend\\MLEndSND_Public\\12033.wav",
         "12033.wav",
         ".wav",
         "1.588299"
        ],
        [
         "51904",
         "51904",
         "TESS",
         "./dataset/tess\\OAF_happy\\OAF_kite_happy.wav",
         "OAF_kite_happy.wav",
         ".wav",
         "1.864299"
        ],
        [
         "49614",
         "49614",
         "RAVDESS",
         "./dataset/ravdess\\Actor_06\\03-01-02-01-01-02-06.wav",
         "03-01-02-01-01-02-06.wav",
         ".wav",
         "4.104104"
        ],
        [
         "28990",
         "28990",
         "MLEND",
         "./dataset/mlend\\MLEndSND_Public\\17753.wav",
         "17753.wav",
         ".wav",
         "1.544127"
        ],
        [
         "15899",
         "15899",
         "MELD",
         "./dataset/meld\\train\\dia929_utt3.mp4",
         "dia929_utt3.mp4",
         ".mp4",
         "3.67033"
        ],
        [
         "16720",
         "16720",
         "MLEND",
         "./dataset/mlend\\MLEndSND_Public\\00095.wav",
         "00095.wav",
         ".wav",
         "2.354558"
        ],
        [
         "9950",
         "9950",
         "MELD",
         "./dataset/meld\\train\\dia316_utt3.mp4",
         "dia316_utt3.mp4",
         ".mp4",
         "1.584915"
        ],
        [
         "32829",
         "32829",
         "MLEND",
         "./dataset/mlend\\MLEndSND_Public\\23360.wav",
         "23360.wav",
         ".wav",
         "1.358367"
        ],
        [
         "61406",
         "61406",
         "ESD",
         "./dataset/esd\\0015\\Angry\\0015_000383.wav",
         "0015_000383.wav",
         ".wav",
         "3.575"
        ],
        [
         "21937",
         "21937",
         "MLEND",
         "./dataset/mlend\\MLEndSND_Public\\07624.wav",
         "07624.wav",
         ".wav",
         "1.462857"
        ],
        [
         "18308",
         "18308",
         "MLEND",
         "./dataset/mlend\\MLEndSND_Public\\02335.wav",
         "02335.wav",
         ".wav",
         "0.743039"
        ],
        [
         "63652",
         "63652",
         "ESD",
         "./dataset/esd\\0016\\Happy\\0016_000879.wav",
         "0016_000879.wav",
         ".wav",
         "2.318"
        ],
        [
         "73124",
         "73124",
         "JL-CORPUS",
         "./dataset/jl-corpus/Raw JL corpus (unchecked and unannotated)/JL(wav+txt)\\male1_excited_5a_1.wav",
         "male1_excited_5a_1.wav",
         ".wav",
         "2.05"
        ],
        [
         "11119",
         "11119",
         "MELD",
         "./dataset/meld\\train\\dia444_utt0.mp4",
         "dia444_utt0.mp4",
         ".mp4",
         "3.503497"
        ],
        [
         "68764",
         "68764",
         "ESD",
         "./dataset/esd\\0019\\Happy\\0019_000741.wav",
         "0019_000741.wav",
         ".wav",
         "2.433"
        ],
        [
         "13012",
         "13012",
         "MELD",
         "./dataset/meld\\train\\dia629_utt6.mp4",
         "dia629_utt6.mp4",
         ".mp4",
         "2.419081"
        ],
        [
         "12604",
         "12604",
         "MELD",
         "./dataset/meld\\train\\dia592_utt10.mp4",
         "dia592_utt10.mp4",
         ".mp4",
         "2.001998"
        ],
        [
         "73662",
         "73662",
         "JL-CORPUS",
         "./dataset/jl-corpus/Raw JL corpus (unchecked and unannotated)/JL(wav+txt)\\male2_encouraging_4b_1.wav",
         "male2_encouraging_4b_1.wav",
         ".wav",
         "2.3"
        ],
        [
         "62977",
         "62977",
         "ESD",
         "./dataset/esd\\0016\\Neutral\\0016_000204.wav",
         "0016_000204.wav",
         ".wav",
         "2.597"
        ],
        [
         "39917",
         "39917",
         "MLEND",
         "./dataset/mlend\\MLEndSND_Public\\33576.wav",
         "33576.wav",
         ".wav",
         "1.091338"
        ],
        [
         "56812",
         "56812",
         "ESD",
         "./dataset/esd\\0012\\Happy\\0012_001039.wav",
         "0012_001039.wav",
         ".wav",
         "1.87"
        ],
        [
         "3137",
         "3137",
         "CREMA-D",
         "./dataset/crema-d\\AudioWAV\\1039_IWL_ANG_XX.wav",
         "1039_IWL_ANG_XX.wav",
         ".wav",
         "3.203188"
        ],
        [
         "58089",
         "58089",
         "ESD",
         "./dataset/esd\\0013\\Angry\\0013_000566.wav",
         "0013_000566.wav",
         ".wav",
         "2.195"
        ],
        [
         "54597",
         "54597",
         "ESD",
         "./dataset/esd\\0011\\Angry\\0011_000574.wav",
         "0011_000574.wav",
         ".wav",
         "2.14"
        ],
        [
         "37630",
         "37630",
         "MLEND",
         "./dataset/mlend\\MLEndSND_Public\\30280.wav",
         "30280.wav",
         ".wav",
         "1.277098"
        ],
        [
         "13982",
         "13982",
         "MELD",
         "./dataset/meld\\train\\dia727_utt7.mp4",
         "dia727_utt7.mp4",
         ".mp4",
         "1.751749"
        ],
        [
         "55977",
         "55977",
         "ESD",
         "./dataset/esd\\0012\\Neutral\\0012_000204.wav",
         "0012_000204.wav",
         ".wav",
         "2.880125"
        ],
        [
         "27440",
         "27440",
         "MLEND",
         "./dataset/mlend\\MLEndSND_Public\\15555.wav",
         "15555.wav",
         ".wav",
         "0.963628"
        ],
        [
         "21576",
         "21576",
         "MLEND",
         "./dataset/mlend\\MLEndSND_Public\\07121.wav",
         "07121.wav",
         ".wav",
         "1.044898"
        ],
        [
         "25925",
         "25925",
         "MLEND",
         "./dataset/mlend\\MLEndSND_Public\\13373.wav",
         "13373.wav",
         ".wav",
         "1.335147"
        ],
        [
         "1024",
         "1024",
         "CREMA-D",
         "./dataset/crema-d\\AudioWAV\\1013_MTI_DIS_XX.wav",
         "1013_MTI_DIS_XX.wav",
         ".wav",
         "2.93625"
        ],
        [
         "73401",
         "73401",
         "JL-CORPUS",
         "./dataset/jl-corpus/Raw JL corpus (unchecked and unannotated)/JL(wav+txt)\\male2_anxious_14a_2.wav",
         "male2_anxious_14a_2.wav",
         ".wav",
         "3.05"
        ],
        [
         "3048",
         "3048",
         "CREMA-D",
         "./dataset/crema-d\\AudioWAV\\1038_ITH_SAD_XX.wav",
         "1038_ITH_SAD_XX.wav",
         ".wav",
         "2.8695"
        ],
        [
         "7175",
         "7175",
         "CREMA-D",
         "./dataset/crema-d\\AudioWAV\\1088_TAI_HAP_XX.wav",
         "1088_TAI_HAP_XX.wav",
         ".wav",
         "2.43575"
        ],
        [
         "58024",
         "58024",
         "ESD",
         "./dataset/esd\\0013\\Angry\\0013_000501.wav",
         "0013_000501.wav",
         ".wav",
         "3.067"
        ],
        [
         "69185",
         "69185",
         "ESD",
         "./dataset/esd\\0019\\Sad\\0019_001162.wav",
         "0019_001162.wav",
         ".wav",
         "2.593"
        ],
        [
         "52656",
         "52656",
         "TESS",
         "./dataset/tess\\YAF_angry\\YAF_dime_angry.wav",
         "YAF_dime_angry.wav",
         ".wav",
         "1.748915"
        ],
        [
         "6236",
         "6236",
         "CREMA-D",
         "./dataset/crema-d\\AudioWAV\\1077_IOM_FEA_XX.wav",
         "1077_IOM_FEA_XX.wav",
         ".wav",
         "2.402375"
        ],
        [
         "73426",
         "73426",
         "JL-CORPUS",
         "./dataset/jl-corpus/Raw JL corpus (unchecked and unannotated)/JL(wav+txt)\\male2_anxious_5b_1.wav",
         "male2_anxious_5b_1.wav",
         ".wav",
         "2.05"
        ],
        [
         "13874",
         "13874",
         "MELD",
         "./dataset/meld\\train\\dia713_utt2.mp4",
         "dia713_utt2.mp4",
         ".mp4",
         "4.755"
        ],
        [
         "59201",
         "59201",
         "ESD",
         "./dataset/esd\\0013\\Surprise\\0013_001678.wav",
         "0013_001678.wav",
         ".wav",
         "1.712"
        ],
        [
         "3221",
         "3221",
         "CREMA-D",
         "./dataset/crema-d\\AudioWAV\\1040_IWL_FEA_XX.wav",
         "1040_IWL_FEA_XX.wav",
         ".wav",
         "2.535875"
        ],
        [
         "61217",
         "61217",
         "ESD",
         "./dataset/esd\\0015\\Neutral\\0015_000194.wav",
         "0015_000194.wav",
         ".wav",
         "1.645"
        ],
        [
         "73819",
         "73819",
         "JL-CORPUS",
         "./dataset/jl-corpus/Raw JL corpus (unchecked and unannotated)/JL(wav+txt)\\male2_neutral_13b_2.wav",
         "male2_neutral_13b_2.wav",
         ".wav",
         "1.75"
        ],
        [
         "44875",
         "44875",
         "MLEND",
         "./dataset/mlend\\MLEndSND_Public\\40670.wav",
         "40670.wav",
         ".wav",
         "0.998458"
        ],
        [
         "8071",
         "8071",
         "MELD",
         "./dataset/meld\\train\\dia125_utt2.mp4",
         "dia125_utt2.mp4",
         ".mp4",
         "1.251249"
        ],
        [
         "19003",
         "19003",
         "MLEND",
         "./dataset/mlend\\MLEndSND_Public\\03373.wav",
         "03373.wav",
         ".wav",
         "0.952018"
        ]
       ],
       "shape": {
        "columns": 6,
        "rows": 14785
       }
      },
      "text/html": [
       "<div>\n",
       "<style scoped>\n",
       "    .dataframe tbody tr th:only-of-type {\n",
       "        vertical-align: middle;\n",
       "    }\n",
       "\n",
       "    .dataframe tbody tr th {\n",
       "        vertical-align: top;\n",
       "    }\n",
       "\n",
       "    .dataframe thead th {\n",
       "        text-align: right;\n",
       "    }\n",
       "</style>\n",
       "<table border=\"1\" class=\"dataframe\">\n",
       "  <thead>\n",
       "    <tr style=\"text-align: right;\">\n",
       "      <th></th>\n",
       "      <th>Id</th>\n",
       "      <th>Dataset</th>\n",
       "      <th>Filepath</th>\n",
       "      <th>Filename</th>\n",
       "      <th>Ext</th>\n",
       "      <th>duration</th>\n",
       "    </tr>\n",
       "  </thead>\n",
       "  <tbody>\n",
       "    <tr>\n",
       "      <th>70214</th>\n",
       "      <td>70214</td>\n",
       "      <td>ESD</td>\n",
       "      <td>./dataset/esd\\0020\\Angry\\0020_000441.wav</td>\n",
       "      <td>0020_000441.wav</td>\n",
       "      <td>.wav</td>\n",
       "      <td>2.627000</td>\n",
       "    </tr>\n",
       "    <tr>\n",
       "      <th>73688</th>\n",
       "      <td>73688</td>\n",
       "      <td>JL-CORPUS</td>\n",
       "      <td>./dataset/jl-corpus/Raw JL corpus (unchecked a...</td>\n",
       "      <td>male2_excited_11a_1.wav</td>\n",
       "      <td>.wav</td>\n",
       "      <td>1.750000</td>\n",
       "    </tr>\n",
       "    <tr>\n",
       "      <th>73861</th>\n",
       "      <td>73861</td>\n",
       "      <td>JL-CORPUS</td>\n",
       "      <td>./dataset/jl-corpus/Raw JL corpus (unchecked a...</td>\n",
       "      <td>male2_neutral_9a_2.wav</td>\n",
       "      <td>.wav</td>\n",
       "      <td>2.000000</td>\n",
       "    </tr>\n",
       "    <tr>\n",
       "      <th>24995</th>\n",
       "      <td>24995</td>\n",
       "      <td>MLEND</td>\n",
       "      <td>./dataset/mlend\\MLEndSND_Public\\12033.wav</td>\n",
       "      <td>12033.wav</td>\n",
       "      <td>.wav</td>\n",
       "      <td>1.588299</td>\n",
       "    </tr>\n",
       "    <tr>\n",
       "      <th>51904</th>\n",
       "      <td>51904</td>\n",
       "      <td>TESS</td>\n",
       "      <td>./dataset/tess\\OAF_happy\\OAF_kite_happy.wav</td>\n",
       "      <td>OAF_kite_happy.wav</td>\n",
       "      <td>.wav</td>\n",
       "      <td>1.864299</td>\n",
       "    </tr>\n",
       "    <tr>\n",
       "      <th>...</th>\n",
       "      <td>...</td>\n",
       "      <td>...</td>\n",
       "      <td>...</td>\n",
       "      <td>...</td>\n",
       "      <td>...</td>\n",
       "      <td>...</td>\n",
       "    </tr>\n",
       "    <tr>\n",
       "      <th>4518</th>\n",
       "      <td>4518</td>\n",
       "      <td>CREMA-D</td>\n",
       "      <td>./dataset/crema-d\\AudioWAV\\1056_IOM_SAD_XX.wav</td>\n",
       "      <td>1056_IOM_SAD_XX.wav</td>\n",
       "      <td>.wav</td>\n",
       "      <td>1.968625</td>\n",
       "    </tr>\n",
       "    <tr>\n",
       "      <th>72878</th>\n",
       "      <td>72878</td>\n",
       "      <td>JL-CORPUS</td>\n",
       "      <td>./dataset/jl-corpus/Raw JL corpus (unchecked a...</td>\n",
       "      <td>male1_apologetic_3b_1.wav</td>\n",
       "      <td>.wav</td>\n",
       "      <td>1.850000</td>\n",
       "    </tr>\n",
       "    <tr>\n",
       "      <th>57988</th>\n",
       "      <td>57988</td>\n",
       "      <td>ESD</td>\n",
       "      <td>./dataset/esd\\0013\\Angry\\0013_000465.wav</td>\n",
       "      <td>0013_000465.wav</td>\n",
       "      <td>.wav</td>\n",
       "      <td>2.684000</td>\n",
       "    </tr>\n",
       "    <tr>\n",
       "      <th>50615</th>\n",
       "      <td>50615</td>\n",
       "      <td>RAVDESS</td>\n",
       "      <td>./dataset/ravdess\\Actor_22\\03-01-07-01-02-01-2...</td>\n",
       "      <td>03-01-07-01-02-01-22.wav</td>\n",
       "      <td>.wav</td>\n",
       "      <td>3.803792</td>\n",
       "    </tr>\n",
       "    <tr>\n",
       "      <th>26513</th>\n",
       "      <td>26513</td>\n",
       "      <td>MLEND</td>\n",
       "      <td>./dataset/mlend\\MLEndSND_Public\\14217.wav</td>\n",
       "      <td>14217.wav</td>\n",
       "      <td>.wav</td>\n",
       "      <td>1.195828</td>\n",
       "    </tr>\n",
       "  </tbody>\n",
       "</table>\n",
       "<p>14785 rows × 6 columns</p>\n",
       "</div>"
      ],
      "text/plain": [
       "          Id    Dataset                                           Filepath  \\\n",
       "70214  70214        ESD           ./dataset/esd\\0020\\Angry\\0020_000441.wav   \n",
       "73688  73688  JL-CORPUS  ./dataset/jl-corpus/Raw JL corpus (unchecked a...   \n",
       "73861  73861  JL-CORPUS  ./dataset/jl-corpus/Raw JL corpus (unchecked a...   \n",
       "24995  24995      MLEND          ./dataset/mlend\\MLEndSND_Public\\12033.wav   \n",
       "51904  51904       TESS        ./dataset/tess\\OAF_happy\\OAF_kite_happy.wav   \n",
       "...      ...        ...                                                ...   \n",
       "4518    4518    CREMA-D     ./dataset/crema-d\\AudioWAV\\1056_IOM_SAD_XX.wav   \n",
       "72878  72878  JL-CORPUS  ./dataset/jl-corpus/Raw JL corpus (unchecked a...   \n",
       "57988  57988        ESD           ./dataset/esd\\0013\\Angry\\0013_000465.wav   \n",
       "50615  50615    RAVDESS  ./dataset/ravdess\\Actor_22\\03-01-07-01-02-01-2...   \n",
       "26513  26513      MLEND          ./dataset/mlend\\MLEndSND_Public\\14217.wav   \n",
       "\n",
       "                        Filename   Ext  duration  \n",
       "70214            0020_000441.wav  .wav  2.627000  \n",
       "73688    male2_excited_11a_1.wav  .wav  1.750000  \n",
       "73861     male2_neutral_9a_2.wav  .wav  2.000000  \n",
       "24995                  12033.wav  .wav  1.588299  \n",
       "51904         OAF_kite_happy.wav  .wav  1.864299  \n",
       "...                          ...   ...       ...  \n",
       "4518         1056_IOM_SAD_XX.wav  .wav  1.968625  \n",
       "72878  male1_apologetic_3b_1.wav  .wav  1.850000  \n",
       "57988            0013_000465.wav  .wav  2.684000  \n",
       "50615   03-01-07-01-02-01-22.wav  .wav  3.803792  \n",
       "26513                  14217.wav  .wav  1.195828  \n",
       "\n",
       "[14785 rows x 6 columns]"
      ]
     },
     "execution_count": 77,
     "metadata": {},
     "output_type": "execute_result"
    }
   ],
   "source": [
    "X_test"
   ]
  },
  {
   "cell_type": "code",
   "execution_count": 78,
   "id": "81847498",
   "metadata": {},
   "outputs": [
    {
     "data": {
      "text/plain": [
       "51538    Disgust\n",
       "21276    Neutral\n",
       "72588      Happy\n",
       "4089       Anger\n",
       "32802      Bored\n",
       "          ...   \n",
       "49044      Happy\n",
       "49618       Calm\n",
       "13167      Happy\n",
       "31384      Happy\n",
       "43035    Neutral\n",
       "Name: Emotion, Length: 59139, dtype: object"
      ]
     },
     "execution_count": 78,
     "metadata": {},
     "output_type": "execute_result"
    }
   ],
   "source": [
    "y_train"
   ]
  },
  {
   "cell_type": "code",
   "execution_count": 79,
   "id": "abc66913",
   "metadata": {},
   "outputs": [
    {
     "data": {
      "text/plain": [
       "Emotion\n",
       "Neutral        14421\n",
       "Happy          12370\n",
       "Question        6561\n",
       "Bored           6434\n",
       "Anger           5350\n",
       "Sad             5006\n",
       "Surprise        4226\n",
       "Fear            1734\n",
       "Disgust         1731\n",
       "Apologetic       192\n",
       "Assertive        192\n",
       "Concerned        192\n",
       "Encouraging      192\n",
       "Excited          192\n",
       "Anxious          192\n",
       "Calm             154\n",
       "Name: count, dtype: int64"
      ]
     },
     "execution_count": 79,
     "metadata": {},
     "output_type": "execute_result"
    }
   ],
   "source": [
    "y_train.value_counts()"
   ]
  },
  {
   "cell_type": "code",
   "execution_count": 80,
   "id": "0a14284b",
   "metadata": {},
   "outputs": [
    {
     "data": {
      "text/plain": [
       "70214         Anger\n",
       "73688       Excited\n",
       "73861       Neutral\n",
       "24995         Happy\n",
       "51904         Happy\n",
       "            ...    \n",
       "4518            Sad\n",
       "72878    Apologetic\n",
       "57988         Anger\n",
       "50615       Disgust\n",
       "26513      Question\n",
       "Name: Emotion, Length: 14785, dtype: object"
      ]
     },
     "execution_count": 80,
     "metadata": {},
     "output_type": "execute_result"
    }
   ],
   "source": [
    "y_test"
   ]
  },
  {
   "cell_type": "code",
   "execution_count": 81,
   "id": "3d219a6b",
   "metadata": {},
   "outputs": [
    {
     "data": {
      "text/plain": [
       "Emotion\n",
       "Neutral        3606\n",
       "Happy          3093\n",
       "Question       1640\n",
       "Bored          1608\n",
       "Anger          1338\n",
       "Sad            1251\n",
       "Surprise       1057\n",
       "Disgust         433\n",
       "Fear            433\n",
       "Excited          48\n",
       "Anxious          48\n",
       "Encouraging      48\n",
       "Assertive        48\n",
       "Concerned        48\n",
       "Apologetic       48\n",
       "Calm             38\n",
       "Name: count, dtype: int64"
      ]
     },
     "execution_count": 81,
     "metadata": {},
     "output_type": "execute_result"
    }
   ],
   "source": [
    "y_test.value_counts()"
   ]
  },
  {
   "cell_type": "code",
   "execution_count": 82,
   "id": "d8ec2fe5",
   "metadata": {},
   "outputs": [],
   "source": [
    "# Recombine the train dataset\n",
    "train_df = pd.concat([X_train, y_train], axis=1)\n",
    "\n",
    "# Recombine the test dataset\n",
    "test_df = pd.concat([X_test, y_test], axis=1)"
   ]
  },
  {
   "cell_type": "code",
   "execution_count": 83,
   "id": "544fb1c0",
   "metadata": {},
   "outputs": [
    {
     "data": {
      "application/vnd.microsoft.datawrangler.viewer.v0+json": {
       "columns": [
        {
         "name": "index",
         "rawType": "int64",
         "type": "integer"
        },
        {
         "name": "Id",
         "rawType": "int64",
         "type": "integer"
        },
        {
         "name": "Dataset",
         "rawType": "object",
         "type": "string"
        },
        {
         "name": "Filepath",
         "rawType": "object",
         "type": "string"
        },
        {
         "name": "Filename",
         "rawType": "object",
         "type": "string"
        },
        {
         "name": "Ext",
         "rawType": "object",
         "type": "string"
        },
        {
         "name": "duration",
         "rawType": "float64",
         "type": "float"
        },
        {
         "name": "Emotion",
         "rawType": "object",
         "type": "string"
        }
       ],
       "conversionMethod": "pd.DataFrame",
       "ref": "b30a3996-c99c-4c98-a16d-e7f16e51f387",
       "rows": [
        [
         "51538",
         "51538",
         "TESS",
         "./dataset/tess\\OAF_disgust\\OAF_nice_disgust.wav",
         "OAF_nice_disgust.wav",
         ".wav",
         "2.501352",
         "Disgust"
        ],
        [
         "21276",
         "21276",
         "MLEND",
         "./dataset/mlend\\MLEndSND_Public\\06691.wav",
         "06691.wav",
         ".wav",
         "0.952018",
         "Neutral"
        ],
        [
         "72588",
         "72588",
         "JL-CORPUS",
         "./dataset/jl-corpus/Raw JL corpus (unchecked and unannotated)/JL(wav+txt)\\female2_happy_6a_1.wav",
         "female2_happy_6a_1.wav",
         ".wav",
         "1.75",
         "Happy"
        ],
        [
         "4089",
         "4089",
         "CREMA-D",
         "./dataset/crema-d\\AudioWAV\\1051_IEO_ANG_MD.wav",
         "1051_IEO_ANG_MD.wav",
         ".wav",
         "1.801813",
         "Anger"
        ],
        [
         "32802",
         "32802",
         "MLEND",
         "./dataset/mlend\\MLEndSND_Public\\23318.wav",
         "23318.wav",
         ".wav",
         "3.370431",
         "Bored"
        ],
        [
         "60919",
         "60919",
         "ESD",
         "./dataset/esd\\0014\\Surprise\\0014_001646.wav",
         "0014_001646.wav",
         ".wav",
         "2.047",
         "Surprise"
        ],
        [
         "43083",
         "43083",
         "MLEND",
         "./dataset/mlend\\MLEndSND_Public\\38079.wav",
         "38079.wav",
         ".wav",
         "1.172608",
         "Neutral"
        ],
        [
         "61371",
         "61371",
         "ESD",
         "./dataset/esd\\0015\\Neutral\\0015_000348.wav",
         "0015_000348.wav",
         ".wav",
         "2.575",
         "Neutral"
        ],
        [
         "30914",
         "30914",
         "MLEND",
         "./dataset/mlend\\MLEndSND_Public\\20573.wav",
         "20573.wav",
         ".wav",
         "1.044898",
         "Question"
        ],
        [
         "58035",
         "58035",
         "ESD",
         "./dataset/esd\\0013\\Angry\\0013_000512.wav",
         "0013_000512.wav",
         ".wav",
         "3.619",
         "Anger"
        ],
        [
         "38967",
         "38967",
         "MLEND",
         "./dataset/mlend\\MLEndSND_Public\\32214.wav",
         "32214.wav",
         ".wav",
         "0.986848",
         "Neutral"
        ],
        [
         "6184",
         "6184",
         "CREMA-D",
         "./dataset/crema-d\\AudioWAV\\1076_MTI_FEA_XX.wav",
         "1076_MTI_FEA_XX.wav",
         ".wav",
         "2.702688",
         "Fear"
        ],
        [
         "66592",
         "66592",
         "ESD",
         "./dataset/esd\\0018\\Neutral\\0018_000319.wav",
         "0018_000319.wav",
         ".wav",
         "3.36",
         "Neutral"
        ],
        [
         "49282",
         "49282",
         "MLEND",
         "./dataset/mlend\\MLEndSND_Public\\47035.wav",
         "47035.wav",
         ".wav",
         "1.695057",
         "Question"
        ],
        [
         "69893",
         "69893",
         "ESD",
         "./dataset/esd\\0020\\Neutral\\0020_000120.wav",
         "0020_000120.wav",
         ".wav",
         "2.723",
         "Neutral"
        ],
        [
         "55569",
         "55569",
         "ESD",
         "./dataset/esd\\0011\\Surprise\\0011_001546.wav",
         "0011_001546.wav",
         ".wav",
         "2.523",
         "Surprise"
        ],
        [
         "26303",
         "26303",
         "MLEND",
         "./dataset/mlend\\MLEndSND_Public\\13902.wav",
         "13902.wav",
         ".wav",
         "1.044898",
         "Happy"
        ],
        [
         "27617",
         "27617",
         "MLEND",
         "./dataset/mlend\\MLEndSND_Public\\15803.wav",
         "15803.wav",
         ".wav",
         "1.637007",
         "Bored"
        ],
        [
         "41946",
         "41946",
         "MLEND",
         "./dataset/mlend\\MLEndSND_Public\\36451.wav",
         "36451.wav",
         ".wav",
         "3.062766",
         "Happy"
        ],
        [
         "34675",
         "34675",
         "MLEND",
         "./dataset/mlend\\MLEndSND_Public\\25982.wav",
         "25982.wav",
         ".wav",
         "1.857596",
         "Question"
        ],
        [
         "1526",
         "1526",
         "CREMA-D",
         "./dataset/crema-d\\AudioWAV\\1019_TIE_SAD_XX.wav",
         "1019_TIE_SAD_XX.wav",
         ".wav",
         "2.8695",
         "Sad"
        ],
        [
         "268",
         "268",
         "CREMA-D",
         "./dataset/crema-d\\AudioWAV\\1004_IOM_DIS_XX.wav",
         "1004_IOM_DIS_XX.wav",
         ".wav",
         "2.702688",
         "Disgust"
        ],
        [
         "5516",
         "5516",
         "CREMA-D",
         "./dataset/crema-d\\AudioWAV\\1068_IWL_DIS_XX.wav",
         "1068_IWL_DIS_XX.wav",
         ".wav",
         "2.469125",
         "Disgust"
        ],
        [
         "62836",
         "62836",
         "ESD",
         "./dataset/esd\\0016\\Neutral\\0016_000063.wav",
         "0016_000063.wav",
         ".wav",
         "2.723",
         "Neutral"
        ],
        [
         "67331",
         "67331",
         "ESD",
         "./dataset/esd\\0018\\Sad\\0018_001058.wav",
         "0018_001058.wav",
         ".wav",
         "2.432",
         "Sad"
        ],
        [
         "16842",
         "16842",
         "MLEND",
         "./dataset/mlend\\MLEndSND_Public\\00275.wav",
         "00275.wav",
         ".wav",
         "1.149388",
         "Question"
        ],
        [
         "71022",
         "71022",
         "ESD",
         "./dataset/esd\\0020\\Sad\\0020_001249.wav",
         "0020_001249.wav",
         ".wav",
         "3.726",
         "Sad"
        ],
        [
         "12004",
         "12004",
         "MELD",
         "./dataset/meld\\train\\dia52_utt1.mp4",
         "dia52_utt1.mp4",
         ".mp4",
         "1.543207",
         "Happy"
        ],
        [
         "42350",
         "42350",
         "MLEND",
         "./dataset/mlend\\MLEndSND_Public\\37013.wav",
         "37013.wav",
         ".wav",
         "1.451247",
         "Neutral"
        ],
        [
         "50063",
         "50063",
         "RAVDESS",
         "./dataset/ravdess\\Actor_13\\03-01-05-02-02-01-13.wav",
         "03-01-05-02-02-01-13.wav",
         ".wav",
         "3.570229",
         "Anger"
        ],
        [
         "6819",
         "6819",
         "CREMA-D",
         "./dataset/crema-d\\AudioWAV\\1084_ITH_SAD_XX.wav",
         "1084_ITH_SAD_XX.wav",
         ".wav",
         "2.969625",
         "Sad"
        ],
        [
         "50815",
         "50815",
         "SAVEE",
         "./dataset/savee\\DC_n07.wav",
         "DC_n07.wav",
         ".wav",
         "4.051769",
         "Neutral"
        ],
        [
         "44183",
         "44183",
         "MLEND",
         "./dataset/mlend\\MLEndSND_Public\\39657.wav",
         "39657.wav",
         ".wav",
         "1.172608",
         "Question"
        ],
        [
         "19620",
         "19620",
         "MLEND",
         "./dataset/mlend\\MLEndSND_Public\\04271.wav",
         "04271.wav",
         ".wav",
         "0.801859",
         "Happy"
        ],
        [
         "5524",
         "5524",
         "CREMA-D",
         "./dataset/crema-d\\AudioWAV\\1068_IWW_HAP_XX.wav",
         "1068_IWW_HAP_XX.wav",
         ".wav",
         "1.968625",
         "Happy"
        ],
        [
         "44614",
         "44614",
         "MLEND",
         "./dataset/mlend\\MLEndSND_Public\\40288.wav",
         "40288.wav",
         ".wav",
         "1.764717",
         "Bored"
        ],
        [
         "15151",
         "15151",
         "MELD",
         "./dataset/meld\\train\\dia84_utt3.mp4",
         "dia84_utt3.mp4",
         ".mp4",
         "2.168832",
         "Anger"
        ],
        [
         "71678",
         "71678",
         "JL-CORPUS",
         "./dataset/jl-corpus/Raw JL corpus (unchecked and unannotated)/JL(wav+txt)\\female1_apologetic_3b_1.wav",
         "female1_apologetic_3b_1.wav",
         ".wav",
         "2.4",
         "Apologetic"
        ],
        [
         "66123",
         "66123",
         "ESD",
         "./dataset/esd\\0017\\Surprise\\0017_001600.wav",
         "0017_001600.wav",
         ".wav",
         "2.96",
         "Surprise"
        ],
        [
         "32706",
         "32706",
         "MLEND",
         "./dataset/mlend\\MLEndSND_Public\\23175.wav",
         "23175.wav",
         ".wav",
         "1.404807",
         "Bored"
        ],
        [
         "38872",
         "38872",
         "MLEND",
         "./dataset/mlend\\MLEndSND_Public\\32082.wav",
         "32082.wav",
         ".wav",
         "1.079728",
         "Happy"
        ],
        [
         "66546",
         "66546",
         "ESD",
         "./dataset/esd\\0018\\Neutral\\0018_000273.wav",
         "0018_000273.wav",
         ".wav",
         "3.356",
         "Neutral"
        ],
        [
         "32932",
         "32932",
         "MLEND",
         "./dataset/mlend\\MLEndSND_Public\\23502.wav",
         "23502.wav",
         ".wav",
         "2.41551",
         "Question"
        ],
        [
         "55449",
         "55449",
         "ESD",
         "./dataset/esd\\0011\\Surprise\\0011_001426.wav",
         "0011_001426.wav",
         ".wav",
         "2.623",
         "Surprise"
        ],
        [
         "9737",
         "9737",
         "MELD",
         "./dataset/meld\\train\\dia297_utt3.mp4",
         "dia297_utt3.mp4",
         ".mp4",
         "0.518",
         "Neutral"
        ],
        [
         "51870",
         "51870",
         "TESS",
         "./dataset/tess\\OAF_happy\\OAF_gap_happy.wav",
         "OAF_gap_happy.wav",
         ".wav",
         "1.769681",
         "Happy"
        ],
        [
         "44648",
         "44648",
         "MLEND",
         "./dataset/mlend\\MLEndSND_Public\\40348.wav",
         "40348.wav",
         ".wav",
         "1.311927",
         "Happy"
        ],
        [
         "7806",
         "7806",
         "MELD",
         "./dataset/meld\\train\\dia1032_utt0.mp4",
         "dia1032_utt0.mp4",
         ".mp4",
         "2.252248",
         "Neutral"
        ],
        [
         "42121",
         "42121",
         "MLEND",
         "./dataset/mlend\\MLEndSND_Public\\36704.wav",
         "36704.wav",
         ".wav",
         "1.718277",
         "Bored"
        ],
        [
         "28703",
         "28703",
         "MLEND",
         "./dataset/mlend\\MLEndSND_Public\\17331.wav",
         "17331.wav",
         ".wav",
         "1.184218",
         "Bored"
        ]
       ],
       "shape": {
        "columns": 7,
        "rows": 59139
       }
      },
      "text/html": [
       "<div>\n",
       "<style scoped>\n",
       "    .dataframe tbody tr th:only-of-type {\n",
       "        vertical-align: middle;\n",
       "    }\n",
       "\n",
       "    .dataframe tbody tr th {\n",
       "        vertical-align: top;\n",
       "    }\n",
       "\n",
       "    .dataframe thead th {\n",
       "        text-align: right;\n",
       "    }\n",
       "</style>\n",
       "<table border=\"1\" class=\"dataframe\">\n",
       "  <thead>\n",
       "    <tr style=\"text-align: right;\">\n",
       "      <th></th>\n",
       "      <th>Id</th>\n",
       "      <th>Dataset</th>\n",
       "      <th>Filepath</th>\n",
       "      <th>Filename</th>\n",
       "      <th>Ext</th>\n",
       "      <th>duration</th>\n",
       "      <th>Emotion</th>\n",
       "    </tr>\n",
       "  </thead>\n",
       "  <tbody>\n",
       "    <tr>\n",
       "      <th>51538</th>\n",
       "      <td>51538</td>\n",
       "      <td>TESS</td>\n",
       "      <td>./dataset/tess\\OAF_disgust\\OAF_nice_disgust.wav</td>\n",
       "      <td>OAF_nice_disgust.wav</td>\n",
       "      <td>.wav</td>\n",
       "      <td>2.501352</td>\n",
       "      <td>Disgust</td>\n",
       "    </tr>\n",
       "    <tr>\n",
       "      <th>21276</th>\n",
       "      <td>21276</td>\n",
       "      <td>MLEND</td>\n",
       "      <td>./dataset/mlend\\MLEndSND_Public\\06691.wav</td>\n",
       "      <td>06691.wav</td>\n",
       "      <td>.wav</td>\n",
       "      <td>0.952018</td>\n",
       "      <td>Neutral</td>\n",
       "    </tr>\n",
       "    <tr>\n",
       "      <th>72588</th>\n",
       "      <td>72588</td>\n",
       "      <td>JL-CORPUS</td>\n",
       "      <td>./dataset/jl-corpus/Raw JL corpus (unchecked a...</td>\n",
       "      <td>female2_happy_6a_1.wav</td>\n",
       "      <td>.wav</td>\n",
       "      <td>1.750000</td>\n",
       "      <td>Happy</td>\n",
       "    </tr>\n",
       "    <tr>\n",
       "      <th>4089</th>\n",
       "      <td>4089</td>\n",
       "      <td>CREMA-D</td>\n",
       "      <td>./dataset/crema-d\\AudioWAV\\1051_IEO_ANG_MD.wav</td>\n",
       "      <td>1051_IEO_ANG_MD.wav</td>\n",
       "      <td>.wav</td>\n",
       "      <td>1.801813</td>\n",
       "      <td>Anger</td>\n",
       "    </tr>\n",
       "    <tr>\n",
       "      <th>32802</th>\n",
       "      <td>32802</td>\n",
       "      <td>MLEND</td>\n",
       "      <td>./dataset/mlend\\MLEndSND_Public\\23318.wav</td>\n",
       "      <td>23318.wav</td>\n",
       "      <td>.wav</td>\n",
       "      <td>3.370431</td>\n",
       "      <td>Bored</td>\n",
       "    </tr>\n",
       "    <tr>\n",
       "      <th>...</th>\n",
       "      <td>...</td>\n",
       "      <td>...</td>\n",
       "      <td>...</td>\n",
       "      <td>...</td>\n",
       "      <td>...</td>\n",
       "      <td>...</td>\n",
       "      <td>...</td>\n",
       "    </tr>\n",
       "    <tr>\n",
       "      <th>49044</th>\n",
       "      <td>49044</td>\n",
       "      <td>MLEND</td>\n",
       "      <td>./dataset/mlend\\MLEndSND_Public\\46673.wav</td>\n",
       "      <td>46673.wav</td>\n",
       "      <td>.wav</td>\n",
       "      <td>1.393197</td>\n",
       "      <td>Happy</td>\n",
       "    </tr>\n",
       "    <tr>\n",
       "      <th>49618</th>\n",
       "      <td>49618</td>\n",
       "      <td>RAVDESS</td>\n",
       "      <td>./dataset/ravdess\\Actor_06\\03-01-02-02-01-02-0...</td>\n",
       "      <td>03-01-02-02-01-02-06.wav</td>\n",
       "      <td>.wav</td>\n",
       "      <td>4.637979</td>\n",
       "      <td>Calm</td>\n",
       "    </tr>\n",
       "    <tr>\n",
       "      <th>13167</th>\n",
       "      <td>13167</td>\n",
       "      <td>MELD</td>\n",
       "      <td>./dataset/meld\\train\\dia645_utt1.mp4</td>\n",
       "      <td>dia645_utt1.mp4</td>\n",
       "      <td>.mp4</td>\n",
       "      <td>1.418083</td>\n",
       "      <td>Happy</td>\n",
       "    </tr>\n",
       "    <tr>\n",
       "      <th>31384</th>\n",
       "      <td>31384</td>\n",
       "      <td>MLEND</td>\n",
       "      <td>./dataset/mlend\\MLEndSND_Public\\21262.wav</td>\n",
       "      <td>21262.wav</td>\n",
       "      <td>.wav</td>\n",
       "      <td>1.195828</td>\n",
       "      <td>Happy</td>\n",
       "    </tr>\n",
       "    <tr>\n",
       "      <th>43035</th>\n",
       "      <td>43035</td>\n",
       "      <td>MLEND</td>\n",
       "      <td>./dataset/mlend\\MLEndSND_Public\\38013.wav</td>\n",
       "      <td>38013.wav</td>\n",
       "      <td>.wav</td>\n",
       "      <td>0.963628</td>\n",
       "      <td>Neutral</td>\n",
       "    </tr>\n",
       "  </tbody>\n",
       "</table>\n",
       "<p>59139 rows × 7 columns</p>\n",
       "</div>"
      ],
      "text/plain": [
       "          Id    Dataset                                           Filepath  \\\n",
       "51538  51538       TESS    ./dataset/tess\\OAF_disgust\\OAF_nice_disgust.wav   \n",
       "21276  21276      MLEND          ./dataset/mlend\\MLEndSND_Public\\06691.wav   \n",
       "72588  72588  JL-CORPUS  ./dataset/jl-corpus/Raw JL corpus (unchecked a...   \n",
       "4089    4089    CREMA-D     ./dataset/crema-d\\AudioWAV\\1051_IEO_ANG_MD.wav   \n",
       "32802  32802      MLEND          ./dataset/mlend\\MLEndSND_Public\\23318.wav   \n",
       "...      ...        ...                                                ...   \n",
       "49044  49044      MLEND          ./dataset/mlend\\MLEndSND_Public\\46673.wav   \n",
       "49618  49618    RAVDESS  ./dataset/ravdess\\Actor_06\\03-01-02-02-01-02-0...   \n",
       "13167  13167       MELD               ./dataset/meld\\train\\dia645_utt1.mp4   \n",
       "31384  31384      MLEND          ./dataset/mlend\\MLEndSND_Public\\21262.wav   \n",
       "43035  43035      MLEND          ./dataset/mlend\\MLEndSND_Public\\38013.wav   \n",
       "\n",
       "                       Filename   Ext  duration  Emotion  \n",
       "51538      OAF_nice_disgust.wav  .wav  2.501352  Disgust  \n",
       "21276                 06691.wav  .wav  0.952018  Neutral  \n",
       "72588    female2_happy_6a_1.wav  .wav  1.750000    Happy  \n",
       "4089        1051_IEO_ANG_MD.wav  .wav  1.801813    Anger  \n",
       "32802                 23318.wav  .wav  3.370431    Bored  \n",
       "...                         ...   ...       ...      ...  \n",
       "49044                 46673.wav  .wav  1.393197    Happy  \n",
       "49618  03-01-02-02-01-02-06.wav  .wav  4.637979     Calm  \n",
       "13167           dia645_utt1.mp4  .mp4  1.418083    Happy  \n",
       "31384                 21262.wav  .wav  1.195828    Happy  \n",
       "43035                 38013.wav  .wav  0.963628  Neutral  \n",
       "\n",
       "[59139 rows x 7 columns]"
      ]
     },
     "execution_count": 83,
     "metadata": {},
     "output_type": "execute_result"
    }
   ],
   "source": [
    "train_df"
   ]
  },
  {
   "cell_type": "code",
   "execution_count": 84,
   "id": "7994cadc",
   "metadata": {},
   "outputs": [],
   "source": [
    "train_df.to_csv(\"./train_dataset.csv\", index=False)"
   ]
  },
  {
   "cell_type": "code",
   "execution_count": 85,
   "id": "d3da426b",
   "metadata": {},
   "outputs": [
    {
     "data": {
      "application/vnd.microsoft.datawrangler.viewer.v0+json": {
       "columns": [
        {
         "name": "index",
         "rawType": "int64",
         "type": "integer"
        },
        {
         "name": "Id",
         "rawType": "int64",
         "type": "integer"
        },
        {
         "name": "Dataset",
         "rawType": "object",
         "type": "string"
        },
        {
         "name": "Filepath",
         "rawType": "object",
         "type": "string"
        },
        {
         "name": "Filename",
         "rawType": "object",
         "type": "string"
        },
        {
         "name": "Ext",
         "rawType": "object",
         "type": "string"
        },
        {
         "name": "duration",
         "rawType": "float64",
         "type": "float"
        },
        {
         "name": "Emotion",
         "rawType": "object",
         "type": "string"
        }
       ],
       "conversionMethod": "pd.DataFrame",
       "ref": "732b524e-ca7c-4501-9a0b-5675a385836c",
       "rows": [
        [
         "70214",
         "70214",
         "ESD",
         "./dataset/esd\\0020\\Angry\\0020_000441.wav",
         "0020_000441.wav",
         ".wav",
         "2.627",
         "Anger"
        ],
        [
         "73688",
         "73688",
         "JL-CORPUS",
         "./dataset/jl-corpus/Raw JL corpus (unchecked and unannotated)/JL(wav+txt)\\male2_excited_11a_1.wav",
         "male2_excited_11a_1.wav",
         ".wav",
         "1.75",
         "Excited"
        ],
        [
         "73861",
         "73861",
         "JL-CORPUS",
         "./dataset/jl-corpus/Raw JL corpus (unchecked and unannotated)/JL(wav+txt)\\male2_neutral_9a_2.wav",
         "male2_neutral_9a_2.wav",
         ".wav",
         "2.0",
         "Neutral"
        ],
        [
         "24995",
         "24995",
         "MLEND",
         "./dataset/mlend\\MLEndSND_Public\\12033.wav",
         "12033.wav",
         ".wav",
         "1.588299",
         "Happy"
        ],
        [
         "51904",
         "51904",
         "TESS",
         "./dataset/tess\\OAF_happy\\OAF_kite_happy.wav",
         "OAF_kite_happy.wav",
         ".wav",
         "1.864299",
         "Happy"
        ],
        [
         "49614",
         "49614",
         "RAVDESS",
         "./dataset/ravdess\\Actor_06\\03-01-02-01-01-02-06.wav",
         "03-01-02-01-01-02-06.wav",
         ".wav",
         "4.104104",
         "Calm"
        ],
        [
         "28990",
         "28990",
         "MLEND",
         "./dataset/mlend\\MLEndSND_Public\\17753.wav",
         "17753.wav",
         ".wav",
         "1.544127",
         "Bored"
        ],
        [
         "15899",
         "15899",
         "MELD",
         "./dataset/meld\\train\\dia929_utt3.mp4",
         "dia929_utt3.mp4",
         ".mp4",
         "3.67033",
         "Neutral"
        ],
        [
         "16720",
         "16720",
         "MLEND",
         "./dataset/mlend\\MLEndSND_Public\\00095.wav",
         "00095.wav",
         ".wav",
         "2.354558",
         "Question"
        ],
        [
         "9950",
         "9950",
         "MELD",
         "./dataset/meld\\train\\dia316_utt3.mp4",
         "dia316_utt3.mp4",
         ".mp4",
         "1.584915",
         "Neutral"
        ],
        [
         "32829",
         "32829",
         "MLEND",
         "./dataset/mlend\\MLEndSND_Public\\23360.wav",
         "23360.wav",
         ".wav",
         "1.358367",
         "Neutral"
        ],
        [
         "61406",
         "61406",
         "ESD",
         "./dataset/esd\\0015\\Angry\\0015_000383.wav",
         "0015_000383.wav",
         ".wav",
         "3.575",
         "Anger"
        ],
        [
         "21937",
         "21937",
         "MLEND",
         "./dataset/mlend\\MLEndSND_Public\\07624.wav",
         "07624.wav",
         ".wav",
         "1.462857",
         "Question"
        ],
        [
         "18308",
         "18308",
         "MLEND",
         "./dataset/mlend\\MLEndSND_Public\\02335.wav",
         "02335.wav",
         ".wav",
         "0.743039",
         "Neutral"
        ],
        [
         "63652",
         "63652",
         "ESD",
         "./dataset/esd\\0016\\Happy\\0016_000879.wav",
         "0016_000879.wav",
         ".wav",
         "2.318",
         "Happy"
        ],
        [
         "73124",
         "73124",
         "JL-CORPUS",
         "./dataset/jl-corpus/Raw JL corpus (unchecked and unannotated)/JL(wav+txt)\\male1_excited_5a_1.wav",
         "male1_excited_5a_1.wav",
         ".wav",
         "2.05",
         "Excited"
        ],
        [
         "11119",
         "11119",
         "MELD",
         "./dataset/meld\\train\\dia444_utt0.mp4",
         "dia444_utt0.mp4",
         ".mp4",
         "3.503497",
         "Surprise"
        ],
        [
         "68764",
         "68764",
         "ESD",
         "./dataset/esd\\0019\\Happy\\0019_000741.wav",
         "0019_000741.wav",
         ".wav",
         "2.433",
         "Happy"
        ],
        [
         "13012",
         "13012",
         "MELD",
         "./dataset/meld\\train\\dia629_utt6.mp4",
         "dia629_utt6.mp4",
         ".mp4",
         "2.419081",
         "Happy"
        ],
        [
         "12604",
         "12604",
         "MELD",
         "./dataset/meld\\train\\dia592_utt10.mp4",
         "dia592_utt10.mp4",
         ".mp4",
         "2.001998",
         "Anger"
        ],
        [
         "73662",
         "73662",
         "JL-CORPUS",
         "./dataset/jl-corpus/Raw JL corpus (unchecked and unannotated)/JL(wav+txt)\\male2_encouraging_4b_1.wav",
         "male2_encouraging_4b_1.wav",
         ".wav",
         "2.3",
         "Encouraging"
        ],
        [
         "62977",
         "62977",
         "ESD",
         "./dataset/esd\\0016\\Neutral\\0016_000204.wav",
         "0016_000204.wav",
         ".wav",
         "2.597",
         "Neutral"
        ],
        [
         "39917",
         "39917",
         "MLEND",
         "./dataset/mlend\\MLEndSND_Public\\33576.wav",
         "33576.wav",
         ".wav",
         "1.091338",
         "Neutral"
        ],
        [
         "56812",
         "56812",
         "ESD",
         "./dataset/esd\\0012\\Happy\\0012_001039.wav",
         "0012_001039.wav",
         ".wav",
         "1.87",
         "Happy"
        ],
        [
         "3137",
         "3137",
         "CREMA-D",
         "./dataset/crema-d\\AudioWAV\\1039_IWL_ANG_XX.wav",
         "1039_IWL_ANG_XX.wav",
         ".wav",
         "3.203188",
         "Anger"
        ],
        [
         "58089",
         "58089",
         "ESD",
         "./dataset/esd\\0013\\Angry\\0013_000566.wav",
         "0013_000566.wav",
         ".wav",
         "2.195",
         "Anger"
        ],
        [
         "54597",
         "54597",
         "ESD",
         "./dataset/esd\\0011\\Angry\\0011_000574.wav",
         "0011_000574.wav",
         ".wav",
         "2.14",
         "Anger"
        ],
        [
         "37630",
         "37630",
         "MLEND",
         "./dataset/mlend\\MLEndSND_Public\\30280.wav",
         "30280.wav",
         ".wav",
         "1.277098",
         "Question"
        ],
        [
         "13982",
         "13982",
         "MELD",
         "./dataset/meld\\train\\dia727_utt7.mp4",
         "dia727_utt7.mp4",
         ".mp4",
         "1.751749",
         "Neutral"
        ],
        [
         "55977",
         "55977",
         "ESD",
         "./dataset/esd\\0012\\Neutral\\0012_000204.wav",
         "0012_000204.wav",
         ".wav",
         "2.880125",
         "Neutral"
        ],
        [
         "27440",
         "27440",
         "MLEND",
         "./dataset/mlend\\MLEndSND_Public\\15555.wav",
         "15555.wav",
         ".wav",
         "0.963628",
         "Neutral"
        ],
        [
         "21576",
         "21576",
         "MLEND",
         "./dataset/mlend\\MLEndSND_Public\\07121.wav",
         "07121.wav",
         ".wav",
         "1.044898",
         "Question"
        ],
        [
         "25925",
         "25925",
         "MLEND",
         "./dataset/mlend\\MLEndSND_Public\\13373.wav",
         "13373.wav",
         ".wav",
         "1.335147",
         "Question"
        ],
        [
         "1024",
         "1024",
         "CREMA-D",
         "./dataset/crema-d\\AudioWAV\\1013_MTI_DIS_XX.wav",
         "1013_MTI_DIS_XX.wav",
         ".wav",
         "2.93625",
         "Disgust"
        ],
        [
         "73401",
         "73401",
         "JL-CORPUS",
         "./dataset/jl-corpus/Raw JL corpus (unchecked and unannotated)/JL(wav+txt)\\male2_anxious_14a_2.wav",
         "male2_anxious_14a_2.wav",
         ".wav",
         "3.05",
         "Anxious"
        ],
        [
         "3048",
         "3048",
         "CREMA-D",
         "./dataset/crema-d\\AudioWAV\\1038_ITH_SAD_XX.wav",
         "1038_ITH_SAD_XX.wav",
         ".wav",
         "2.8695",
         "Sad"
        ],
        [
         "7175",
         "7175",
         "CREMA-D",
         "./dataset/crema-d\\AudioWAV\\1088_TAI_HAP_XX.wav",
         "1088_TAI_HAP_XX.wav",
         ".wav",
         "2.43575",
         "Happy"
        ],
        [
         "58024",
         "58024",
         "ESD",
         "./dataset/esd\\0013\\Angry\\0013_000501.wav",
         "0013_000501.wav",
         ".wav",
         "3.067",
         "Anger"
        ],
        [
         "69185",
         "69185",
         "ESD",
         "./dataset/esd\\0019\\Sad\\0019_001162.wav",
         "0019_001162.wav",
         ".wav",
         "2.593",
         "Sad"
        ],
        [
         "52656",
         "52656",
         "TESS",
         "./dataset/tess\\YAF_angry\\YAF_dime_angry.wav",
         "YAF_dime_angry.wav",
         ".wav",
         "1.748915",
         "Anger"
        ],
        [
         "6236",
         "6236",
         "CREMA-D",
         "./dataset/crema-d\\AudioWAV\\1077_IOM_FEA_XX.wav",
         "1077_IOM_FEA_XX.wav",
         ".wav",
         "2.402375",
         "Fear"
        ],
        [
         "73426",
         "73426",
         "JL-CORPUS",
         "./dataset/jl-corpus/Raw JL corpus (unchecked and unannotated)/JL(wav+txt)\\male2_anxious_5b_1.wav",
         "male2_anxious_5b_1.wav",
         ".wav",
         "2.05",
         "Anxious"
        ],
        [
         "13874",
         "13874",
         "MELD",
         "./dataset/meld\\train\\dia713_utt2.mp4",
         "dia713_utt2.mp4",
         ".mp4",
         "4.755",
         "Happy"
        ],
        [
         "59201",
         "59201",
         "ESD",
         "./dataset/esd\\0013\\Surprise\\0013_001678.wav",
         "0013_001678.wav",
         ".wav",
         "1.712",
         "Surprise"
        ],
        [
         "3221",
         "3221",
         "CREMA-D",
         "./dataset/crema-d\\AudioWAV\\1040_IWL_FEA_XX.wav",
         "1040_IWL_FEA_XX.wav",
         ".wav",
         "2.535875",
         "Fear"
        ],
        [
         "61217",
         "61217",
         "ESD",
         "./dataset/esd\\0015\\Neutral\\0015_000194.wav",
         "0015_000194.wav",
         ".wav",
         "1.645",
         "Neutral"
        ],
        [
         "73819",
         "73819",
         "JL-CORPUS",
         "./dataset/jl-corpus/Raw JL corpus (unchecked and unannotated)/JL(wav+txt)\\male2_neutral_13b_2.wav",
         "male2_neutral_13b_2.wav",
         ".wav",
         "1.75",
         "Neutral"
        ],
        [
         "44875",
         "44875",
         "MLEND",
         "./dataset/mlend\\MLEndSND_Public\\40670.wav",
         "40670.wav",
         ".wav",
         "0.998458",
         "Happy"
        ],
        [
         "8071",
         "8071",
         "MELD",
         "./dataset/meld\\train\\dia125_utt2.mp4",
         "dia125_utt2.mp4",
         ".mp4",
         "1.251249",
         "Neutral"
        ],
        [
         "19003",
         "19003",
         "MLEND",
         "./dataset/mlend\\MLEndSND_Public\\03373.wav",
         "03373.wav",
         ".wav",
         "0.952018",
         "Neutral"
        ]
       ],
       "shape": {
        "columns": 7,
        "rows": 14785
       }
      },
      "text/html": [
       "<div>\n",
       "<style scoped>\n",
       "    .dataframe tbody tr th:only-of-type {\n",
       "        vertical-align: middle;\n",
       "    }\n",
       "\n",
       "    .dataframe tbody tr th {\n",
       "        vertical-align: top;\n",
       "    }\n",
       "\n",
       "    .dataframe thead th {\n",
       "        text-align: right;\n",
       "    }\n",
       "</style>\n",
       "<table border=\"1\" class=\"dataframe\">\n",
       "  <thead>\n",
       "    <tr style=\"text-align: right;\">\n",
       "      <th></th>\n",
       "      <th>Id</th>\n",
       "      <th>Dataset</th>\n",
       "      <th>Filepath</th>\n",
       "      <th>Filename</th>\n",
       "      <th>Ext</th>\n",
       "      <th>duration</th>\n",
       "      <th>Emotion</th>\n",
       "    </tr>\n",
       "  </thead>\n",
       "  <tbody>\n",
       "    <tr>\n",
       "      <th>70214</th>\n",
       "      <td>70214</td>\n",
       "      <td>ESD</td>\n",
       "      <td>./dataset/esd\\0020\\Angry\\0020_000441.wav</td>\n",
       "      <td>0020_000441.wav</td>\n",
       "      <td>.wav</td>\n",
       "      <td>2.627000</td>\n",
       "      <td>Anger</td>\n",
       "    </tr>\n",
       "    <tr>\n",
       "      <th>73688</th>\n",
       "      <td>73688</td>\n",
       "      <td>JL-CORPUS</td>\n",
       "      <td>./dataset/jl-corpus/Raw JL corpus (unchecked a...</td>\n",
       "      <td>male2_excited_11a_1.wav</td>\n",
       "      <td>.wav</td>\n",
       "      <td>1.750000</td>\n",
       "      <td>Excited</td>\n",
       "    </tr>\n",
       "    <tr>\n",
       "      <th>73861</th>\n",
       "      <td>73861</td>\n",
       "      <td>JL-CORPUS</td>\n",
       "      <td>./dataset/jl-corpus/Raw JL corpus (unchecked a...</td>\n",
       "      <td>male2_neutral_9a_2.wav</td>\n",
       "      <td>.wav</td>\n",
       "      <td>2.000000</td>\n",
       "      <td>Neutral</td>\n",
       "    </tr>\n",
       "    <tr>\n",
       "      <th>24995</th>\n",
       "      <td>24995</td>\n",
       "      <td>MLEND</td>\n",
       "      <td>./dataset/mlend\\MLEndSND_Public\\12033.wav</td>\n",
       "      <td>12033.wav</td>\n",
       "      <td>.wav</td>\n",
       "      <td>1.588299</td>\n",
       "      <td>Happy</td>\n",
       "    </tr>\n",
       "    <tr>\n",
       "      <th>51904</th>\n",
       "      <td>51904</td>\n",
       "      <td>TESS</td>\n",
       "      <td>./dataset/tess\\OAF_happy\\OAF_kite_happy.wav</td>\n",
       "      <td>OAF_kite_happy.wav</td>\n",
       "      <td>.wav</td>\n",
       "      <td>1.864299</td>\n",
       "      <td>Happy</td>\n",
       "    </tr>\n",
       "    <tr>\n",
       "      <th>...</th>\n",
       "      <td>...</td>\n",
       "      <td>...</td>\n",
       "      <td>...</td>\n",
       "      <td>...</td>\n",
       "      <td>...</td>\n",
       "      <td>...</td>\n",
       "      <td>...</td>\n",
       "    </tr>\n",
       "    <tr>\n",
       "      <th>4518</th>\n",
       "      <td>4518</td>\n",
       "      <td>CREMA-D</td>\n",
       "      <td>./dataset/crema-d\\AudioWAV\\1056_IOM_SAD_XX.wav</td>\n",
       "      <td>1056_IOM_SAD_XX.wav</td>\n",
       "      <td>.wav</td>\n",
       "      <td>1.968625</td>\n",
       "      <td>Sad</td>\n",
       "    </tr>\n",
       "    <tr>\n",
       "      <th>72878</th>\n",
       "      <td>72878</td>\n",
       "      <td>JL-CORPUS</td>\n",
       "      <td>./dataset/jl-corpus/Raw JL corpus (unchecked a...</td>\n",
       "      <td>male1_apologetic_3b_1.wav</td>\n",
       "      <td>.wav</td>\n",
       "      <td>1.850000</td>\n",
       "      <td>Apologetic</td>\n",
       "    </tr>\n",
       "    <tr>\n",
       "      <th>57988</th>\n",
       "      <td>57988</td>\n",
       "      <td>ESD</td>\n",
       "      <td>./dataset/esd\\0013\\Angry\\0013_000465.wav</td>\n",
       "      <td>0013_000465.wav</td>\n",
       "      <td>.wav</td>\n",
       "      <td>2.684000</td>\n",
       "      <td>Anger</td>\n",
       "    </tr>\n",
       "    <tr>\n",
       "      <th>50615</th>\n",
       "      <td>50615</td>\n",
       "      <td>RAVDESS</td>\n",
       "      <td>./dataset/ravdess\\Actor_22\\03-01-07-01-02-01-2...</td>\n",
       "      <td>03-01-07-01-02-01-22.wav</td>\n",
       "      <td>.wav</td>\n",
       "      <td>3.803792</td>\n",
       "      <td>Disgust</td>\n",
       "    </tr>\n",
       "    <tr>\n",
       "      <th>26513</th>\n",
       "      <td>26513</td>\n",
       "      <td>MLEND</td>\n",
       "      <td>./dataset/mlend\\MLEndSND_Public\\14217.wav</td>\n",
       "      <td>14217.wav</td>\n",
       "      <td>.wav</td>\n",
       "      <td>1.195828</td>\n",
       "      <td>Question</td>\n",
       "    </tr>\n",
       "  </tbody>\n",
       "</table>\n",
       "<p>14785 rows × 7 columns</p>\n",
       "</div>"
      ],
      "text/plain": [
       "          Id    Dataset                                           Filepath  \\\n",
       "70214  70214        ESD           ./dataset/esd\\0020\\Angry\\0020_000441.wav   \n",
       "73688  73688  JL-CORPUS  ./dataset/jl-corpus/Raw JL corpus (unchecked a...   \n",
       "73861  73861  JL-CORPUS  ./dataset/jl-corpus/Raw JL corpus (unchecked a...   \n",
       "24995  24995      MLEND          ./dataset/mlend\\MLEndSND_Public\\12033.wav   \n",
       "51904  51904       TESS        ./dataset/tess\\OAF_happy\\OAF_kite_happy.wav   \n",
       "...      ...        ...                                                ...   \n",
       "4518    4518    CREMA-D     ./dataset/crema-d\\AudioWAV\\1056_IOM_SAD_XX.wav   \n",
       "72878  72878  JL-CORPUS  ./dataset/jl-corpus/Raw JL corpus (unchecked a...   \n",
       "57988  57988        ESD           ./dataset/esd\\0013\\Angry\\0013_000465.wav   \n",
       "50615  50615    RAVDESS  ./dataset/ravdess\\Actor_22\\03-01-07-01-02-01-2...   \n",
       "26513  26513      MLEND          ./dataset/mlend\\MLEndSND_Public\\14217.wav   \n",
       "\n",
       "                        Filename   Ext  duration     Emotion  \n",
       "70214            0020_000441.wav  .wav  2.627000       Anger  \n",
       "73688    male2_excited_11a_1.wav  .wav  1.750000     Excited  \n",
       "73861     male2_neutral_9a_2.wav  .wav  2.000000     Neutral  \n",
       "24995                  12033.wav  .wav  1.588299       Happy  \n",
       "51904         OAF_kite_happy.wav  .wav  1.864299       Happy  \n",
       "...                          ...   ...       ...         ...  \n",
       "4518         1056_IOM_SAD_XX.wav  .wav  1.968625         Sad  \n",
       "72878  male1_apologetic_3b_1.wav  .wav  1.850000  Apologetic  \n",
       "57988            0013_000465.wav  .wav  2.684000       Anger  \n",
       "50615   03-01-07-01-02-01-22.wav  .wav  3.803792     Disgust  \n",
       "26513                  14217.wav  .wav  1.195828    Question  \n",
       "\n",
       "[14785 rows x 7 columns]"
      ]
     },
     "execution_count": 85,
     "metadata": {},
     "output_type": "execute_result"
    }
   ],
   "source": [
    "test_df"
   ]
  },
  {
   "cell_type": "code",
   "execution_count": 86,
   "id": "8bb53377",
   "metadata": {},
   "outputs": [],
   "source": [
    "test_df.to_csv(\"./test_dataset.csv\", index=False)"
   ]
  },
  {
   "cell_type": "code",
   "execution_count": null,
   "id": "0e85e496",
   "metadata": {},
   "outputs": [],
   "source": []
  }
 ],
 "metadata": {
  "kernelspec": {
   "display_name": "myenv",
   "language": "python",
   "name": "python3"
  },
  "language_info": {
   "codemirror_mode": {
    "name": "ipython",
    "version": 3
   },
   "file_extension": ".py",
   "mimetype": "text/x-python",
   "name": "python",
   "nbconvert_exporter": "python",
   "pygments_lexer": "ipython3",
   "version": "3.10.11"
  }
 },
 "nbformat": 4,
 "nbformat_minor": 5
}
