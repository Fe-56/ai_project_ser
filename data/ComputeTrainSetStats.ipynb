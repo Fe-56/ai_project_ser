{
 "cells": [
  {
   "cell_type": "markdown",
   "metadata": {},
   "source": [
    "# Compute the train set stats\n"
   ]
  },
  {
   "cell_type": "code",
   "execution_count": 1,
   "metadata": {},
   "outputs": [
    {
     "name": "stderr",
     "output_type": "stream",
     "text": [
      "/Users/limfuoen/anaconda3/envs/artificial-intelligence/lib/python3.11/site-packages/torchvision/io/image.py:14: UserWarning: Failed to load image Python extension: 'dlopen(/Users/limfuoen/anaconda3/envs/artificial-intelligence/lib/python3.11/site-packages/torchvision/image.so, 0x0006): Library not loaded: @rpath/libjpeg.9.dylib\n",
      "  Referenced from: <EB3FF92A-5EB1-3EE8-AF8B-5923C1265422> /Users/limfuoen/anaconda3/envs/artificial-intelligence/lib/python3.11/site-packages/torchvision/image.so\n",
      "  Reason: tried: '/Users/limfuoen/anaconda3/envs/artificial-intelligence/lib/python3.11/site-packages/torchvision/../../../libjpeg.9.dylib' (no such file), '/Users/limfuoen/anaconda3/envs/artificial-intelligence/lib/python3.11/site-packages/torchvision/../../../libjpeg.9.dylib' (no such file), '/Users/limfuoen/anaconda3/envs/artificial-intelligence/lib/python3.11/lib-dynload/../../libjpeg.9.dylib' (no such file), '/Users/limfuoen/anaconda3/envs/artificial-intelligence/bin/../lib/libjpeg.9.dylib' (no such file)'If you don't plan on using image functionality from `torchvision.io`, you can ignore this warning. Otherwise, there might be something wrong with your environment. Did you have `libjpeg` or `libpng` installed before building `torchvision` from source?\n",
      "  warn(\n"
     ]
    }
   ],
   "source": [
    "import torchvision.transforms as transforms\n",
    "from torch.utils.data import DataLoader\n",
    "import json\n",
    "import sys\n",
    "import torch\n",
    "import numpy as np\n",
    "import random\n",
    "import os"
   ]
  },
  {
   "cell_type": "code",
   "execution_count": 2,
   "metadata": {},
   "outputs": [],
   "source": [
    "# Get the absolute path to the project root without relying on __file__\n",
    "notebook_path = os.getcwd()  # Gets current working directory\n",
    "project_root = os.path.abspath(\n",
    "    os.path.join(notebook_path, \"../cnn_scripts\"))\n",
    "\n",
    "sys.path.insert(0, project_root)"
   ]
  },
  {
   "cell_type": "markdown",
   "metadata": {},
   "source": [
    "Set the seed for reproducability\n"
   ]
  },
  {
   "cell_type": "code",
   "execution_count": 3,
   "metadata": {},
   "outputs": [],
   "source": [
    "random_seed = 42\n",
    "\n",
    "torch.manual_seed(random_seed)\n",
    "np.random.seed(random_seed)\n",
    "random.seed(random_seed)\n",
    "\n",
    "if (torch.cuda.is_available()):\n",
    "    torch.cuda.manual_seed(random_seed)"
   ]
  },
  {
   "cell_type": "markdown",
   "metadata": {},
   "source": [
    "Set some constant strings\n"
   ]
  },
  {
   "cell_type": "code",
   "execution_count": 4,
   "metadata": {},
   "outputs": [],
   "source": [
    "STATS_FILE_NAME = 'train_set_stats.json'\n",
    "\n",
    "train_csv = '../data/melspectrogram_train_dataset.csv'\n",
    "root_dir = '../data/'"
   ]
  },
  {
   "cell_type": "markdown",
   "metadata": {},
   "source": [
    "Custom dataset class for loading the mel spectrogram images\n"
   ]
  },
  {
   "cell_type": "code",
   "execution_count": 5,
   "metadata": {},
   "outputs": [],
   "source": [
    "from datasets.MelspectrogramDataset import MelSpectrogramDataset"
   ]
  },
  {
   "cell_type": "code",
   "execution_count": 6,
   "metadata": {},
   "outputs": [],
   "source": [
    "# Define a simple transform to apply ResizePad (if needed) and convert to tensor\n",
    "# Replace ResizePad with your preferred transform if you use it\n",
    "transform = transforms.Compose([\n",
    "    # For example, if you use ResizePad:\n",
    "    # ResizePad(size=(224, 224)),\n",
    "    transforms.Resize((224, 224)),\n",
    "    transforms.ToTensor()\n",
    "])\n",
    "\n",
    "train_dataset = MelSpectrogramDataset(\n",
    "    csv_file=train_csv, root_dir=root_dir, transform=transform)"
   ]
  },
  {
   "cell_type": "code",
   "execution_count": 7,
   "metadata": {},
   "outputs": [],
   "source": [
    "def compute_mean_std(dataset, batch_size=16, num_workers=8, pin_memory=True):\n",
    "    loader = DataLoader(dataset, batch_size=batch_size,\n",
    "                        num_workers=num_workers, shuffle=False, pin_memory=pin_memory)\n",
    "    mean = 0.0\n",
    "    std = 0.0\n",
    "    total_samples = 0\n",
    "\n",
    "    for data, _ in loader:\n",
    "        batch_samples = data.size(0)\n",
    "        # Flatten the height and width dimensions into one\n",
    "        data = data.view(batch_samples, data.size(1), -1)\n",
    "        mean += data.mean(2).sum(0)\n",
    "        std += data.std(2).sum(0)\n",
    "        total_samples += batch_samples\n",
    "\n",
    "    mean /= total_samples\n",
    "    std /= total_samples\n",
    "    return mean, std"
   ]
  },
  {
   "cell_type": "code",
   "execution_count": 8,
   "metadata": {},
   "outputs": [
    {
     "name": "stderr",
     "output_type": "stream",
     "text": [
      "/Users/limfuoen/anaconda3/envs/artificial-intelligence/lib/python3.11/site-packages/torchvision/io/image.py:14: UserWarning: Failed to load image Python extension: 'dlopen(/Users/limfuoen/anaconda3/envs/artificial-intelligence/lib/python3.11/site-packages/torchvision/image.so, 0x0006): Library not loaded: @rpath/libjpeg.9.dylib\n",
      "  Referenced from: <EB3FF92A-5EB1-3EE8-AF8B-5923C1265422> /Users/limfuoen/anaconda3/envs/artificial-intelligence/lib/python3.11/site-packages/torchvision/image.so\n",
      "  Reason: tried: '/Users/limfuoen/anaconda3/envs/artificial-intelligence/lib/python3.11/site-packages/torchvision/../../../libjpeg.9.dylib' (no such file), '/Users/limfuoen/anaconda3/envs/artificial-intelligence/lib/python3.11/site-packages/torchvision/../../../libjpeg.9.dylib' (no such file), '/Users/limfuoen/anaconda3/envs/artificial-intelligence/lib/python3.11/lib-dynload/../../libjpeg.9.dylib' (no such file), '/Users/limfuoen/anaconda3/envs/artificial-intelligence/bin/../lib/libjpeg.9.dylib' (no such file)'If you don't plan on using image functionality from `torchvision.io`, you can ignore this warning. Otherwise, there might be something wrong with your environment. Did you have `libjpeg` or `libpng` installed before building `torchvision` from source?\n",
      "  warn(\n",
      "/Users/limfuoen/anaconda3/envs/artificial-intelligence/lib/python3.11/site-packages/torchvision/io/image.py:14: UserWarning: Failed to load image Python extension: 'dlopen(/Users/limfuoen/anaconda3/envs/artificial-intelligence/lib/python3.11/site-packages/torchvision/image.so, 0x0006): Library not loaded: @rpath/libjpeg.9.dylib\n",
      "  Referenced from: <EB3FF92A-5EB1-3EE8-AF8B-5923C1265422> /Users/limfuoen/anaconda3/envs/artificial-intelligence/lib/python3.11/site-packages/torchvision/image.so\n",
      "  Reason: tried: '/Users/limfuoen/anaconda3/envs/artificial-intelligence/lib/python3.11/site-packages/torchvision/../../../libjpeg.9.dylib' (no such file), '/Users/limfuoen/anaconda3/envs/artificial-intelligence/lib/python3.11/site-packages/torchvision/../../../libjpeg.9.dylib' (no such file), '/Users/limfuoen/anaconda3/envs/artificial-intelligence/lib/python3.11/lib-dynload/../../libjpeg.9.dylib' (no such file), '/Users/limfuoen/anaconda3/envs/artificial-intelligence/bin/../lib/libjpeg.9.dylib' (no such file)'If you don't plan on using image functionality from `torchvision.io`, you can ignore this warning. Otherwise, there might be something wrong with your environment. Did you have `libjpeg` or `libpng` installed before building `torchvision` from source?\n",
      "  warn(\n",
      "/Users/limfuoen/anaconda3/envs/artificial-intelligence/lib/python3.11/site-packages/torchvision/io/image.py:14: UserWarning: Failed to load image Python extension: 'dlopen(/Users/limfuoen/anaconda3/envs/artificial-intelligence/lib/python3.11/site-packages/torchvision/image.so, 0x0006): Library not loaded: @rpath/libjpeg.9.dylib\n",
      "  Referenced from: <EB3FF92A-5EB1-3EE8-AF8B-5923C1265422> /Users/limfuoen/anaconda3/envs/artificial-intelligence/lib/python3.11/site-packages/torchvision/image.so\n",
      "  Reason: tried: '/Users/limfuoen/anaconda3/envs/artificial-intelligence/lib/python3.11/site-packages/torchvision/../../../libjpeg.9.dylib' (no such file), '/Users/limfuoen/anaconda3/envs/artificial-intelligence/lib/python3.11/site-packages/torchvision/../../../libjpeg.9.dylib' (no such file), '/Users/limfuoen/anaconda3/envs/artificial-intelligence/lib/python3.11/lib-dynload/../../libjpeg.9.dylib' (no such file), '/Users/limfuoen/anaconda3/envs/artificial-intelligence/bin/../lib/libjpeg.9.dylib' (no such file)'If you don't plan on using image functionality from `torchvision.io`, you can ignore this warning. Otherwise, there might be something wrong with your environment. Did you have `libjpeg` or `libpng` installed before building `torchvision` from source?\n",
      "  warn(\n",
      "/Users/limfuoen/anaconda3/envs/artificial-intelligence/lib/python3.11/site-packages/torchvision/io/image.py:14: UserWarning: Failed to load image Python extension: 'dlopen(/Users/limfuoen/anaconda3/envs/artificial-intelligence/lib/python3.11/site-packages/torchvision/image.so, 0x0006): Library not loaded: @rpath/libjpeg.9.dylib\n",
      "  Referenced from: <EB3FF92A-5EB1-3EE8-AF8B-5923C1265422> /Users/limfuoen/anaconda3/envs/artificial-intelligence/lib/python3.11/site-packages/torchvision/image.so\n",
      "  Reason: tried: '/Users/limfuoen/anaconda3/envs/artificial-intelligence/lib/python3.11/site-packages/torchvision/../../../libjpeg.9.dylib' (no such file), '/Users/limfuoen/anaconda3/envs/artificial-intelligence/lib/python3.11/site-packages/torchvision/../../../libjpeg.9.dylib' (no such file), '/Users/limfuoen/anaconda3/envs/artificial-intelligence/lib/python3.11/lib-dynload/../../libjpeg.9.dylib' (no such file), '/Users/limfuoen/anaconda3/envs/artificial-intelligence/bin/../lib/libjpeg.9.dylib' (no such file)'If you don't plan on using image functionality from `torchvision.io`, you can ignore this warning. Otherwise, there might be something wrong with your environment. Did you have `libjpeg` or `libpng` installed before building `torchvision` from source?\n",
      "  warn(\n",
      "/Users/limfuoen/anaconda3/envs/artificial-intelligence/lib/python3.11/site-packages/torchvision/io/image.py:14: UserWarning: Failed to load image Python extension: 'dlopen(/Users/limfuoen/anaconda3/envs/artificial-intelligence/lib/python3.11/site-packages/torchvision/image.so, 0x0006): Library not loaded: @rpath/libjpeg.9.dylib\n",
      "  Referenced from: <EB3FF92A-5EB1-3EE8-AF8B-5923C1265422> /Users/limfuoen/anaconda3/envs/artificial-intelligence/lib/python3.11/site-packages/torchvision/image.so\n",
      "  Reason: tried: '/Users/limfuoen/anaconda3/envs/artificial-intelligence/lib/python3.11/site-packages/torchvision/../../../libjpeg.9.dylib' (no such file), '/Users/limfuoen/anaconda3/envs/artificial-intelligence/lib/python3.11/site-packages/torchvision/../../../libjpeg.9.dylib' (no such file), '/Users/limfuoen/anaconda3/envs/artificial-intelligence/lib/python3.11/lib-dynload/../../libjpeg.9.dylib' (no such file), '/Users/limfuoen/anaconda3/envs/artificial-intelligence/bin/../lib/libjpeg.9.dylib' (no such file)'If you don't plan on using image functionality from `torchvision.io`, you can ignore this warning. Otherwise, there might be something wrong with your environment. Did you have `libjpeg` or `libpng` installed before building `torchvision` from source?\n",
      "  warn(\n",
      "/Users/limfuoen/anaconda3/envs/artificial-intelligence/lib/python3.11/site-packages/torchvision/io/image.py:14: UserWarning: Failed to load image Python extension: 'dlopen(/Users/limfuoen/anaconda3/envs/artificial-intelligence/lib/python3.11/site-packages/torchvision/image.so, 0x0006): Library not loaded: @rpath/libjpeg.9.dylib\n",
      "  Referenced from: <EB3FF92A-5EB1-3EE8-AF8B-5923C1265422> /Users/limfuoen/anaconda3/envs/artificial-intelligence/lib/python3.11/site-packages/torchvision/image.so\n",
      "  Reason: tried: '/Users/limfuoen/anaconda3/envs/artificial-intelligence/lib/python3.11/site-packages/torchvision/../../../libjpeg.9.dylib' (no such file), '/Users/limfuoen/anaconda3/envs/artificial-intelligence/lib/python3.11/site-packages/torchvision/../../../libjpeg.9.dylib' (no such file), '/Users/limfuoen/anaconda3/envs/artificial-intelligence/lib/python3.11/lib-dynload/../../libjpeg.9.dylib' (no such file), '/Users/limfuoen/anaconda3/envs/artificial-intelligence/bin/../lib/libjpeg.9.dylib' (no such file)'If you don't plan on using image functionality from `torchvision.io`, you can ignore this warning. Otherwise, there might be something wrong with your environment. Did you have `libjpeg` or `libpng` installed before building `torchvision` from source?\n",
      "  warn(\n",
      "/Users/limfuoen/anaconda3/envs/artificial-intelligence/lib/python3.11/site-packages/torchvision/io/image.py:14: UserWarning: Failed to load image Python extension: 'dlopen(/Users/limfuoen/anaconda3/envs/artificial-intelligence/lib/python3.11/site-packages/torchvision/image.so, 0x0006): Library not loaded: @rpath/libjpeg.9.dylib\n",
      "  Referenced from: <EB3FF92A-5EB1-3EE8-AF8B-5923C1265422> /Users/limfuoen/anaconda3/envs/artificial-intelligence/lib/python3.11/site-packages/torchvision/image.so\n",
      "  Reason: tried: '/Users/limfuoen/anaconda3/envs/artificial-intelligence/lib/python3.11/site-packages/torchvision/../../../libjpeg.9.dylib' (no such file), '/Users/limfuoen/anaconda3/envs/artificial-intelligence/lib/python3.11/site-packages/torchvision/../../../libjpeg.9.dylib' (no such file), '/Users/limfuoen/anaconda3/envs/artificial-intelligence/lib/python3.11/lib-dynload/../../libjpeg.9.dylib' (no such file), '/Users/limfuoen/anaconda3/envs/artificial-intelligence/bin/../lib/libjpeg.9.dylib' (no such file)'If you don't plan on using image functionality from `torchvision.io`, you can ignore this warning. Otherwise, there might be something wrong with your environment. Did you have `libjpeg` or `libpng` installed before building `torchvision` from source?\n",
      "  warn(\n",
      "/Users/limfuoen/anaconda3/envs/artificial-intelligence/lib/python3.11/site-packages/torchvision/io/image.py:14: UserWarning: Failed to load image Python extension: 'dlopen(/Users/limfuoen/anaconda3/envs/artificial-intelligence/lib/python3.11/site-packages/torchvision/image.so, 0x0006): Library not loaded: @rpath/libjpeg.9.dylib\n",
      "  Referenced from: <EB3FF92A-5EB1-3EE8-AF8B-5923C1265422> /Users/limfuoen/anaconda3/envs/artificial-intelligence/lib/python3.11/site-packages/torchvision/image.so\n",
      "  Reason: tried: '/Users/limfuoen/anaconda3/envs/artificial-intelligence/lib/python3.11/site-packages/torchvision/../../../libjpeg.9.dylib' (no such file), '/Users/limfuoen/anaconda3/envs/artificial-intelligence/lib/python3.11/site-packages/torchvision/../../../libjpeg.9.dylib' (no such file), '/Users/limfuoen/anaconda3/envs/artificial-intelligence/lib/python3.11/lib-dynload/../../libjpeg.9.dylib' (no such file), '/Users/limfuoen/anaconda3/envs/artificial-intelligence/bin/../lib/libjpeg.9.dylib' (no such file)'If you don't plan on using image functionality from `torchvision.io`, you can ignore this warning. Otherwise, there might be something wrong with your environment. Did you have `libjpeg` or `libpng` installed before building `torchvision` from source?\n",
      "  warn(\n"
     ]
    },
    {
     "name": "stdout",
     "output_type": "stream",
     "text": [
      "Computed Mean: tensor([0.2126, 0.0765, 0.1826])\n",
      "Computed Std: tensor([0.2794, 0.1221, 0.1852])\n",
      "Saved computed mean and std to train_set_stats.json\n"
     ]
    }
   ],
   "source": [
    "# Compute the mean and standard deviation\n",
    "mean, std = compute_mean_std(train_dataset, batch_size=16, num_workers=8)\n",
    "print(\"Computed Mean:\", mean)\n",
    "print(\"Computed Std:\", std)\n",
    "\n",
    "# Save the computed stats to a JSON file\n",
    "stats = {\"mean\": mean.tolist(), \"std\": std.tolist()}\n",
    "with open(STATS_FILE_NAME, \"w\") as f:\n",
    "    json.dump(stats, f)\n",
    "\n",
    "print(f\"Saved computed mean and std to {STATS_FILE_NAME}\")"
   ]
  },
  {
   "cell_type": "code",
   "execution_count": null,
   "metadata": {},
   "outputs": [],
   "source": []
  }
 ],
 "metadata": {
  "kernelspec": {
   "display_name": "artificial-intelligence",
   "language": "python",
   "name": "python3"
  },
  "language_info": {
   "codemirror_mode": {
    "name": "ipython",
    "version": 3
   },
   "file_extension": ".py",
   "mimetype": "text/x-python",
   "name": "python",
   "nbconvert_exporter": "python",
   "pygments_lexer": "ipython3",
   "version": "3.11.0"
  }
 },
 "nbformat": 4,
 "nbformat_minor": 2
}
