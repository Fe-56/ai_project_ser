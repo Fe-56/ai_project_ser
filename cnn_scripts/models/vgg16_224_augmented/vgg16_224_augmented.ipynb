{
 "cells": [
  {
   "cell_type": "markdown",
   "metadata": {},
   "source": [
    "# Finetune VGG16\n"
   ]
  },
  {
   "cell_type": "markdown",
   "metadata": {},
   "source": [
    "With 224x224 melspectrogram images with online data augmentation (Gaussian noise)\n"
   ]
  },
  {
   "cell_type": "code",
   "execution_count": 1,
   "metadata": {},
   "outputs": [],
   "source": [
    "import sys\n",
    "import os\n",
    "import torch\n",
    "import torch.nn as nn\n",
    "import torch.optim as optim\n",
    "from torch.utils.data import DataLoader\n",
    "import torchvision.transforms as transforms\n",
    "import torchvision.models as models\n",
    "import numpy as np\n",
    "import matplotlib.pyplot as plt\n",
    "import random\n",
    "from tqdm import tqdm\n",
    "import time"
   ]
  },
  {
   "cell_type": "code",
   "execution_count": 2,
   "metadata": {},
   "outputs": [],
   "source": [
    "# Get the absolute path to the project root without relying on __file__\n",
    "notebook_path = os.getcwd()  # Gets current working directory\n",
    "project_root = os.path.abspath(os.path.join(notebook_path, \"../..\"))\n",
    "sys.path.insert(0, project_root)"
   ]
  },
  {
   "cell_type": "code",
   "execution_count": 3,
   "metadata": {},
   "outputs": [
    {
     "name": "stdout",
     "output_type": "stream",
     "text": [
      "2.5.1+cu121\n",
      "True\n"
     ]
    }
   ],
   "source": [
    "print(torch.__version__)\n",
    "print(torch.cuda.is_available())"
   ]
  },
  {
   "cell_type": "markdown",
   "metadata": {},
   "source": [
    "Set the seed for reproducability\n"
   ]
  },
  {
   "cell_type": "code",
   "execution_count": 4,
   "metadata": {},
   "outputs": [],
   "source": [
    "random_seed = 42\n",
    "\n",
    "torch.manual_seed(random_seed)\n",
    "np.random.seed(random_seed)\n",
    "random.seed(random_seed)\n",
    "\n",
    "if (torch.cuda.is_available()):\n",
    "    torch.cuda.manual_seed(random_seed)"
   ]
  },
  {
   "cell_type": "markdown",
   "metadata": {},
   "source": [
    "Set some constant strings\n"
   ]
  },
  {
   "cell_type": "code",
   "execution_count": 5,
   "metadata": {},
   "outputs": [],
   "source": [
    "FINETUNED_MODEL = 'vgg16_224_augmented'\n",
    "\n",
    "train_csv = '../../../data/melspectrogram_train_dataset.csv'\n",
    "test_csv = '../../../data/melspectrogram_test_dataset.csv'\n",
    "val_csv = '../../../data/melspectrogram_val_dataset.csv'\n",
    "root_dir = '../../../data/'\n",
    "class_weights_path = '../../../data/class_weights.pt'"
   ]
  },
  {
   "cell_type": "markdown",
   "metadata": {},
   "source": [
    "Custom dataset class for loading the mel spectrogram images\n"
   ]
  },
  {
   "cell_type": "code",
   "execution_count": 6,
   "metadata": {},
   "outputs": [],
   "source": [
    "from datasets.MelspectrogramDataset import MelSpectrogramDataset"
   ]
  },
  {
   "cell_type": "markdown",
   "metadata": {},
   "source": [
    "Define the training function\n"
   ]
  },
  {
   "cell_type": "code",
   "execution_count": 7,
   "metadata": {},
   "outputs": [],
   "source": [
    "def train(model, trainloader, criterion, optimizer, device):\n",
    "    train_loss = 0.0\n",
    "    train_total = 0\n",
    "    train_correct = 0\n",
    "\n",
    "    # train mode\n",
    "    model.train()\n",
    "\n",
    "    epoch_start = time.time()\n",
    "    pbar = tqdm(enumerate(trainloader), total=len(\n",
    "        trainloader), desc=\"Training\")\n",
    "\n",
    "    for i, (inputs, labels) in pbar:\n",
    "        inputs, labels = inputs.to(device), labels.to(device)\n",
    "\n",
    "        # Zero the parameter gradients\n",
    "        optimizer.zero_grad()\n",
    "\n",
    "        # Forward pass\n",
    "        outputs = model(inputs)\n",
    "        loss = criterion(outputs, labels)\n",
    "\n",
    "        # Backward pass and optimize\n",
    "        loss.backward()\n",
    "        optimizer.step()\n",
    "\n",
    "        # Update training loss\n",
    "        train_loss += loss.item()\n",
    "\n",
    "        # Calculate accuracy\n",
    "        _, predicted = torch.max(outputs, 1)\n",
    "        train_total += labels.size(0)\n",
    "        train_correct += (predicted == labels).sum().item()\n",
    "\n",
    "        # Calculate time metrics\n",
    "        elapsed = time.time() - epoch_start\n",
    "        progress = (i + 1) / len(trainloader)\n",
    "        eta = elapsed / progress - elapsed\n",
    "\n",
    "        # Update progress bar with current loss and ETA\n",
    "        pbar.set_postfix({\n",
    "            \"Loss\": f\"{loss.item()}\",\n",
    "            \"Elapsed\": f\"{elapsed:.4f}s\",\n",
    "            \"ETA\": f\"{eta:.4f}s\"\n",
    "        })\n",
    "\n",
    "    train_loss = train_loss / len(trainloader)\n",
    "    train_accuracy = train_correct / train_total * 100\n",
    "\n",
    "    return model, train_loss, train_accuracy"
   ]
  },
  {
   "cell_type": "markdown",
   "metadata": {},
   "source": [
    "Define the validation function\n"
   ]
  },
  {
   "cell_type": "code",
   "execution_count": 8,
   "metadata": {},
   "outputs": [],
   "source": [
    "def validate(model, valloader, criterion, device):\n",
    "    val_loss = 0.0\n",
    "    val_total = 0\n",
    "    val_correct = 0\n",
    "\n",
    "    # Switch to evaluation mode\n",
    "    model.eval()\n",
    "\n",
    "    epoch_start = time.time()\n",
    "    pbar = tqdm(enumerate(valloader), total=len(\n",
    "        valloader), desc=\"Validating\")\n",
    "\n",
    "    with torch.no_grad():\n",
    "        for i, (inputs, labels) in pbar:\n",
    "            inputs, labels = inputs.to(device), labels.to(device)\n",
    "\n",
    "            # Forward pass\n",
    "            outputs = model(inputs)\n",
    "            loss = criterion(outputs, labels)\n",
    "\n",
    "            # Update test loss\n",
    "            val_loss += loss.item()\n",
    "\n",
    "            # Calculate accuracy\n",
    "            _, predicted = torch.max(outputs, 1)\n",
    "            val_total += labels.size(0)\n",
    "            val_correct += (predicted == labels).sum().item()\n",
    "\n",
    "            # Calculate time metrics\n",
    "            elapsed = time.time() - epoch_start\n",
    "            progress = (i + 1) / len(valloader)\n",
    "            eta = elapsed / progress - elapsed\n",
    "\n",
    "            # Update progress bar with current loss and ETA\n",
    "            pbar.set_postfix({\n",
    "                \"Loss\": f\"{loss.item()}\",\n",
    "                \"Elapsed\": f\"{elapsed:.4f}s\",\n",
    "                \"ETA\": f\"{eta:.4f}s\"\n",
    "            })\n",
    "\n",
    "    val_loss = val_loss / len(valloader)\n",
    "    val_accuracy = val_correct / val_total * 100\n",
    "\n",
    "    return val_loss, val_accuracy"
   ]
  },
  {
   "cell_type": "markdown",
   "metadata": {},
   "source": [
    "Define what happens in each epoch\n"
   ]
  },
  {
   "cell_type": "code",
   "execution_count": 9,
   "metadata": {},
   "outputs": [],
   "source": [
    "def train_epochs(model, trainloader, valloader, criterion, optimizer, device, num_epochs):\n",
    "    train_losses = []\n",
    "    train_accuracies = []\n",
    "    val_losses = []\n",
    "    val_accuracies = []\n",
    "    best_accuracy = 0\n",
    "\n",
    "    for epoch in range(num_epochs):\n",
    "        print(f'Epoch {epoch+1}/{num_epochs}')\n",
    "        epoch_start = time.time()\n",
    "\n",
    "        model, train_loss, train_accuracy = train(\n",
    "            model, trainloader, criterion, optimizer, device)\n",
    "        val_loss, val_accuracy = validate(\n",
    "            model, valloader, criterion, device)\n",
    "\n",
    "        epoch_elapsed = time.time() - epoch_start\n",
    "        print(f\"Epoch {epoch+1} completed in {epoch_elapsed:.4f}s\")\n",
    "        print(f'Train Loss: {train_loss} - Train Accuracy: {train_accuracy}')\n",
    "        print(\n",
    "            f'Validation Loss: {val_loss} - Validation Accuracy: {val_accuracy}')\n",
    "        print()\n",
    "\n",
    "        train_losses.append(train_loss)\n",
    "        train_accuracies.append(train_accuracy)\n",
    "        val_losses.append(val_loss)\n",
    "        val_accuracies.append(val_accuracy)\n",
    "\n",
    "        # Check if current model is best performing using test_accuracy\n",
    "        if val_accuracy > best_accuracy:\n",
    "            best_accuracy = val_accuracy\n",
    "            torch.save(model.state_dict(), f'best_{FINETUNED_MODEL}.pt')\n",
    "            checkpoint = {\n",
    "                'epoch': epoch + 1,\n",
    "                'train_losses': train_losses,\n",
    "                'train_accuracies': train_accuracies,\n",
    "                'val_losses': val_losses,\n",
    "                'val_accuracies': val_accuracies,\n",
    "            }\n",
    "            torch.save(checkpoint, f'best_{FINETUNED_MODEL}_checkpoint.pt')\n",
    "\n",
    "    return model, train_losses, train_accuracies, val_losses, val_accuracies"
   ]
  },
  {
   "cell_type": "markdown",
   "metadata": {},
   "source": [
    "Plot the loss and accuracy graphs\n"
   ]
  },
  {
   "cell_type": "code",
   "execution_count": 10,
   "metadata": {},
   "outputs": [],
   "source": [
    "def plot_loss(train_losses, val_losses):\n",
    "    plt.figure()\n",
    "    plt.plot(range(len(train_losses)), train_losses, label='Training Loss')\n",
    "    plt.plot(range(len(val_losses)), val_losses, label='Validation Loss')\n",
    "    plt.xlabel('Epoch')\n",
    "    plt.ylabel('Loss')\n",
    "    plt.legend()\n",
    "    plt.show()"
   ]
  },
  {
   "cell_type": "code",
   "execution_count": 11,
   "metadata": {},
   "outputs": [],
   "source": [
    "def plot_accuracy(train_accuracies, val_accuracies):\n",
    "    plt.figure()\n",
    "    plt.plot(range(len(train_accuracies)),\n",
    "             train_accuracies, label='Training Accuracy')\n",
    "    plt.plot(range(len(val_accuracies)),\n",
    "             val_accuracies, label='Validation Accuracy')\n",
    "    plt.xlabel('Epoch')\n",
    "    plt.ylabel('Accuracy')\n",
    "    plt.legend()\n",
    "    plt.show()"
   ]
  },
  {
   "cell_type": "markdown",
   "metadata": {},
   "source": [
    "Define the model\n"
   ]
  },
  {
   "cell_type": "code",
   "execution_count": 12,
   "metadata": {},
   "outputs": [
    {
     "name": "stderr",
     "output_type": "stream",
     "text": [
      "c:\\Users\\profi\\OneDrive\\Desktop\\AI-Project--Speech-Emotion-Recognition\\myenv\\lib\\site-packages\\torchvision\\models\\_utils.py:208: UserWarning: The parameter 'pretrained' is deprecated since 0.13 and may be removed in the future, please use 'weights' instead.\n",
      "  warnings.warn(\n",
      "c:\\Users\\profi\\OneDrive\\Desktop\\AI-Project--Speech-Emotion-Recognition\\myenv\\lib\\site-packages\\torchvision\\models\\_utils.py:223: UserWarning: Arguments other than a weight enum or `None` for 'weights' are deprecated since 0.13 and may be removed in the future. The current behavior is equivalent to passing `weights=VGG16_Weights.IMAGENET1K_V1`. You can also use `weights=VGG16_Weights.DEFAULT` to get the most up-to-date weights.\n",
      "  warnings.warn(msg)\n"
     ]
    }
   ],
   "source": [
    "model = models.vgg16(pretrained=True)"
   ]
  },
  {
   "cell_type": "markdown",
   "metadata": {},
   "source": [
    "Prepare for fine-tuning\n"
   ]
  },
  {
   "cell_type": "code",
   "execution_count": 13,
   "metadata": {},
   "outputs": [
    {
     "data": {
      "text/plain": [
       "VGG(\n",
       "  (features): Sequential(\n",
       "    (0): Conv2d(3, 64, kernel_size=(3, 3), stride=(1, 1), padding=(1, 1))\n",
       "    (1): ReLU(inplace=True)\n",
       "    (2): Conv2d(64, 64, kernel_size=(3, 3), stride=(1, 1), padding=(1, 1))\n",
       "    (3): ReLU(inplace=True)\n",
       "    (4): MaxPool2d(kernel_size=2, stride=2, padding=0, dilation=1, ceil_mode=False)\n",
       "    (5): Conv2d(64, 128, kernel_size=(3, 3), stride=(1, 1), padding=(1, 1))\n",
       "    (6): ReLU(inplace=True)\n",
       "    (7): Conv2d(128, 128, kernel_size=(3, 3), stride=(1, 1), padding=(1, 1))\n",
       "    (8): ReLU(inplace=True)\n",
       "    (9): MaxPool2d(kernel_size=2, stride=2, padding=0, dilation=1, ceil_mode=False)\n",
       "    (10): Conv2d(128, 256, kernel_size=(3, 3), stride=(1, 1), padding=(1, 1))\n",
       "    (11): ReLU(inplace=True)\n",
       "    (12): Conv2d(256, 256, kernel_size=(3, 3), stride=(1, 1), padding=(1, 1))\n",
       "    (13): ReLU(inplace=True)\n",
       "    (14): Conv2d(256, 256, kernel_size=(3, 3), stride=(1, 1), padding=(1, 1))\n",
       "    (15): ReLU(inplace=True)\n",
       "    (16): MaxPool2d(kernel_size=2, stride=2, padding=0, dilation=1, ceil_mode=False)\n",
       "    (17): Conv2d(256, 512, kernel_size=(3, 3), stride=(1, 1), padding=(1, 1))\n",
       "    (18): ReLU(inplace=True)\n",
       "    (19): Conv2d(512, 512, kernel_size=(3, 3), stride=(1, 1), padding=(1, 1))\n",
       "    (20): ReLU(inplace=True)\n",
       "    (21): Conv2d(512, 512, kernel_size=(3, 3), stride=(1, 1), padding=(1, 1))\n",
       "    (22): ReLU(inplace=True)\n",
       "    (23): MaxPool2d(kernel_size=2, stride=2, padding=0, dilation=1, ceil_mode=False)\n",
       "    (24): Conv2d(512, 512, kernel_size=(3, 3), stride=(1, 1), padding=(1, 1))\n",
       "    (25): ReLU(inplace=True)\n",
       "    (26): Conv2d(512, 512, kernel_size=(3, 3), stride=(1, 1), padding=(1, 1))\n",
       "    (27): ReLU(inplace=True)\n",
       "    (28): Conv2d(512, 512, kernel_size=(3, 3), stride=(1, 1), padding=(1, 1))\n",
       "    (29): ReLU(inplace=True)\n",
       "    (30): MaxPool2d(kernel_size=2, stride=2, padding=0, dilation=1, ceil_mode=False)\n",
       "  )\n",
       "  (avgpool): AdaptiveAvgPool2d(output_size=(7, 7))\n",
       "  (classifier): Sequential(\n",
       "    (0): Linear(in_features=25088, out_features=4096, bias=True)\n",
       "    (1): ReLU(inplace=True)\n",
       "    (2): Dropout(p=0.5, inplace=False)\n",
       "    (3): Linear(in_features=4096, out_features=4096, bias=True)\n",
       "    (4): ReLU(inplace=True)\n",
       "    (5): Dropout(p=0.5, inplace=False)\n",
       "    (6): Linear(in_features=4096, out_features=9, bias=True)\n",
       "  )\n",
       ")"
      ]
     },
     "execution_count": 13,
     "metadata": {},
     "output_type": "execute_result"
    }
   ],
   "source": [
    "# Number of classes\n",
    "num_classes = 9\n",
    "\n",
    "# Freeze all layers except the last fully connected layer\n",
    "for param in model.parameters():\n",
    "    param.requires_grad = False  # Freeze all layers\n",
    "\n",
    "# Modify final fully connected layer according to number of classes\n",
    "num_features = model.classifier[-1].in_features\n",
    "model.classifier[-1] = nn.Linear(num_features, num_classes)\n",
    "# print(\"Modified model\")\n",
    "# print(model)\n",
    "\n",
    "# Unfreeze the final fully connected layer so it will be trained\n",
    "for param in model.classifier[-1].parameters():\n",
    "    param.requires_grad = True\n",
    "\n",
    "# Move model to GPU\n",
    "device = torch.device(\"cuda\" if torch.cuda.is_available() else \"cpu\")\n",
    "model.to(device)"
   ]
  },
  {
   "cell_type": "markdown",
   "metadata": {},
   "source": [
    "Define a class to add Gaussian noise to the mel spectrogram images for online data augmentation\n"
   ]
  },
  {
   "cell_type": "code",
   "execution_count": 14,
   "metadata": {},
   "outputs": [],
   "source": [
    "from data_augmentation.AddGaussianNoise import AddGaussianNoise"
   ]
  },
  {
   "cell_type": "markdown",
   "metadata": {},
   "source": [
    "Define the learning rate, criterion, optimizer, transformations, and number of epochs\n"
   ]
  },
  {
   "cell_type": "code",
   "execution_count": 15,
   "metadata": {},
   "outputs": [
    {
     "name": "stderr",
     "output_type": "stream",
     "text": [
      "C:\\Users\\profi\\AppData\\Local\\Temp\\ipykernel_8636\\1190646824.py:3: FutureWarning: You are using `torch.load` with `weights_only=False` (the current default value), which uses the default pickle module implicitly. It is possible to construct malicious pickle data which will execute arbitrary code during unpickling (See https://github.com/pytorch/pytorch/blob/main/SECURITY.md#untrusted-models for more details). In a future release, the default value for `weights_only` will be flipped to `True`. This limits the functions that could be executed during unpickling. Arbitrary objects will no longer be allowed to be loaded via this mode unless they are explicitly allowlisted by the user via `torch.serialization.add_safe_globals`. We recommend you start setting `weights_only=True` for any use case where you don't have full control of the loaded file. Please open an issue on GitHub for any issues related to this experimental feature.\n",
      "  class_weights = torch.load(class_weights_path).to(device)\n"
     ]
    }
   ],
   "source": [
    "learning_rate = 0.001\n",
    "\n",
    "class_weights = torch.load(class_weights_path).to(device)\n",
    "criterion = nn.CrossEntropyLoss(weight=class_weights)\n",
    "\n",
    "optimizer = optim.Adam(model.parameters(), lr=learning_rate)\n",
    "\n",
    "# Define train transformations, also the online data augmentation\n",
    "train_transform = transforms.Compose([\n",
    "    transforms.ToTensor(),          # Convert to Tensor\n",
    "    AddGaussianNoise(),  # Online noise augmentation\n",
    "    transforms.Normalize(mean=[0.485, 0.456, 0.406], std=[\n",
    "                         0.229, 0.224, 0.225])  # Normalize to ImageNet stats\n",
    "])\n",
    "\n",
    "# Define test transformations for both validation and test sets\n",
    "test_transform = transforms.Compose([\n",
    "    transforms.ToTensor(),          # Convert to Tensor\n",
    "    transforms.Normalize(mean=[0.485, 0.456, 0.406], std=[\n",
    "                         0.229, 0.224, 0.225])  # Normalize to ImageNet stats\n",
    "])\n",
    "\n",
    "epochs = 20"
   ]
  },
  {
   "cell_type": "markdown",
   "metadata": {},
   "source": [
    "Execute the fine-tuning\n"
   ]
  },
  {
   "cell_type": "code",
   "execution_count": 16,
   "metadata": {},
   "outputs": [
    {
     "name": "stdout",
     "output_type": "stream",
     "text": [
      "Mapping from Emotion to Number: {'Anger': 0, 'Bored': 1, 'Disgust': 2, 'Fear': 3, 'Happy': 4, 'Neutral': 5, 'Question': 6, 'Sad': 7, 'Surprise': 8}\n",
      "Model is on: cuda:0\n",
      "Epoch 1/20\n"
     ]
    },
    {
     "name": "stderr",
     "output_type": "stream",
     "text": [
      "Training: 100%|██████████| 346/346 [01:11<00:00,  4.85it/s, Loss=1.3672035932540894, Elapsed=82.8698s, ETA=0.0000s] \n",
      "Validating: 100%|██████████| 75/75 [00:15<00:00,  4.71it/s, Loss=1.9509973526000977, Elapsed=27.0882s, ETA=0.0000s]  \n"
     ]
    },
    {
     "name": "stdout",
     "output_type": "stream",
     "text": [
      "Epoch 1 completed in 111.2077s\n",
      "Train Loss: 1.492641570940183 - Train Accuracy: 38.48623956943534\n",
      "Validation Loss: 1.368218002319336 - Validation Accuracy: 45.27226677923174\n",
      "\n",
      "Epoch 2/20\n"
     ]
    },
    {
     "name": "stderr",
     "output_type": "stream",
     "text": [
      "Training: 100%|██████████| 346/346 [01:05<00:00,  5.27it/s, Loss=1.4020382165908813, Elapsed=77.9476s, ETA=0.0000s] \n",
      "Validating: 100%|██████████| 75/75 [00:15<00:00,  4.96it/s, Loss=1.7269163131713867, Elapsed=26.7134s, ETA=0.0000s] \n"
     ]
    },
    {
     "name": "stdout",
     "output_type": "stream",
     "text": [
      "Epoch 2 completed in 105.7627s\n",
      "Train Loss: 1.4061436470533382 - Train Accuracy: 41.4735080617806\n",
      "Validation Loss: 1.3549229208628337 - Validation Accuracy: 46.14816378218657\n",
      "\n",
      "Epoch 3/20\n"
     ]
    },
    {
     "name": "stderr",
     "output_type": "stream",
     "text": [
      "Training: 100%|██████████| 346/346 [01:05<00:00,  5.25it/s, Loss=1.4160224199295044, Elapsed=77.9691s, ETA=0.0000s] \n",
      "Validating: 100%|██████████| 75/75 [00:15<00:00,  4.92it/s, Loss=1.8212313652038574, Elapsed=26.7969s, ETA=0.0000s] \n"
     ]
    },
    {
     "name": "stdout",
     "output_type": "stream",
     "text": [
      "Epoch 3 completed in 105.9416s\n",
      "Train Loss: 1.4050432140427518 - Train Accuracy: 41.80592930960403\n",
      "Validation Loss: 1.3196866703033447 - Validation Accuracy: 45.103419164204304\n",
      "\n",
      "Epoch 4/20\n"
     ]
    },
    {
     "name": "stderr",
     "output_type": "stream",
     "text": [
      "Training: 100%|██████████| 346/346 [01:05<00:00,  5.25it/s, Loss=1.6631877422332764, Elapsed=77.2591s, ETA=0.0000s] \n",
      "Validating: 100%|██████████| 75/75 [00:15<00:00,  4.95it/s, Loss=1.871155023574829, Elapsed=26.5174s, ETA=0.0000s]  \n"
     ]
    },
    {
     "name": "stdout",
     "output_type": "stream",
     "text": [
      "Epoch 4 completed in 105.0260s\n",
      "Train Loss: 1.385028692339197 - Train Accuracy: 42.43685126975871\n",
      "Validation Loss: 1.2804769166310628 - Validation Accuracy: 44.216969185310255\n",
      "\n",
      "Epoch 5/20\n"
     ]
    },
    {
     "name": "stderr",
     "output_type": "stream",
     "text": [
      "Training: 100%|██████████| 346/346 [01:11<00:00,  4.86it/s, Loss=1.5623705387115479, Elapsed=85.3933s, ETA=0.0000s] \n",
      "Validating: 100%|██████████| 75/75 [00:15<00:00,  4.72it/s, Loss=1.880867600440979, Elapsed=27.6811s, ETA=0.0000s]   \n"
     ]
    },
    {
     "name": "stdout",
     "output_type": "stream",
     "text": [
      "Epoch 5 completed in 114.2269s\n",
      "Train Loss: 1.3813334923948166 - Train Accuracy: 42.66072680400715\n",
      "Validation Loss: 1.2995332129796346 - Validation Accuracy: 45.78936260025327\n",
      "\n",
      "Epoch 6/20\n"
     ]
    },
    {
     "name": "stderr",
     "output_type": "stream",
     "text": [
      "Training: 100%|██████████| 346/346 [01:06<00:00,  5.24it/s, Loss=1.3542197942733765, Elapsed=77.8609s, ETA=0.0000s] \n",
      "Validating: 100%|██████████| 75/75 [00:15<00:00,  4.94it/s, Loss=1.8992897272109985, Elapsed=26.7678s, ETA=0.0000s] \n"
     ]
    },
    {
     "name": "stdout",
     "output_type": "stream",
     "text": [
      "Epoch 6 completed in 105.8265s\n",
      "Train Loss: 1.3857104034093075 - Train Accuracy: 42.457203591054025\n",
      "Validation Loss: 1.2990598837534586 - Validation Accuracy: 45.38834951456311\n",
      "\n",
      "Epoch 7/20\n"
     ]
    },
    {
     "name": "stderr",
     "output_type": "stream",
     "text": [
      "Training: 100%|██████████| 346/346 [01:05<00:00,  5.27it/s, Loss=1.2278428077697754, Elapsed=77.0543s, ETA=0.0000s] \n",
      "Validating: 100%|██████████| 75/75 [00:14<00:00,  5.04it/s, Loss=1.928353190422058, Elapsed=26.8867s, ETA=0.0000s]  \n"
     ]
    },
    {
     "name": "stdout",
     "output_type": "stream",
     "text": [
      "Epoch 7 completed in 105.1087s\n",
      "Train Loss: 1.383787151016941 - Train Accuracy: 42.549919721399334\n",
      "Validation Loss: 1.2746405522028605 - Validation Accuracy: 48.37484170536091\n",
      "\n",
      "Epoch 8/20\n"
     ]
    },
    {
     "name": "stderr",
     "output_type": "stream",
     "text": [
      "Training: 100%|██████████| 346/346 [01:05<00:00,  5.26it/s, Loss=1.1346796751022339, Elapsed=77.1734s, ETA=0.0000s] \n",
      "Validating: 100%|██████████| 75/75 [00:15<00:00,  4.92it/s, Loss=1.974498987197876, Elapsed=26.9040s, ETA=0.0000s]  \n"
     ]
    },
    {
     "name": "stdout",
     "output_type": "stream",
     "text": [
      "Epoch 8 completed in 105.2718s\n",
      "Train Loss: 1.3789085818163922 - Train Accuracy: 42.75796567241808\n",
      "Validation Loss: 1.3215506394704184 - Validation Accuracy: 44.25918108906712\n",
      "\n",
      "Epoch 9/20\n"
     ]
    },
    {
     "name": "stderr",
     "output_type": "stream",
     "text": [
      "Training: 100%|██████████| 346/346 [01:05<00:00,  5.25it/s, Loss=1.1995630264282227, Elapsed=77.4712s, ETA=0.0000s] \n",
      "Validating: 100%|██████████| 75/75 [00:15<00:00,  4.94it/s, Loss=1.9755524396896362, Elapsed=27.0378s, ETA=0.0000s]  \n"
     ]
    },
    {
     "name": "stdout",
     "output_type": "stream",
     "text": [
      "Epoch 9 completed in 105.6843s\n",
      "Train Loss: 1.3836174745091123 - Train Accuracy: 42.411976210397775\n",
      "Validation Loss: 1.260257420539856 - Validation Accuracy: 49.03967918953145\n",
      "\n",
      "Epoch 10/20\n"
     ]
    },
    {
     "name": "stderr",
     "output_type": "stream",
     "text": [
      "Training: 100%|██████████| 346/346 [01:05<00:00,  5.27it/s, Loss=1.5023531913757324, Elapsed=77.5025s, ETA=0.0000s] \n",
      "Validating: 100%|██████████| 75/75 [00:15<00:00,  4.91it/s, Loss=1.988631248474121, Elapsed=26.9376s, ETA=0.0000s]   \n"
     ]
    },
    {
     "name": "stdout",
     "output_type": "stream",
     "text": [
      "Epoch 10 completed in 105.6322s\n",
      "Train Loss: 1.3833780926086998 - Train Accuracy: 42.5612265665634\n",
      "Validation Loss: 1.2726502323150635 - Validation Accuracy: 49.19797382861967\n",
      "\n",
      "Epoch 11/20\n"
     ]
    },
    {
     "name": "stderr",
     "output_type": "stream",
     "text": [
      "Training: 100%|██████████| 346/346 [01:05<00:00,  5.25it/s, Loss=1.269916296005249, Elapsed=77.4391s, ETA=0.0000s]  \n",
      "Validating: 100%|██████████| 75/75 [00:14<00:00,  5.01it/s, Loss=2.2147045135498047, Elapsed=26.7148s, ETA=0.0000s] \n"
     ]
    },
    {
     "name": "stdout",
     "output_type": "stream",
     "text": [
      "Epoch 11 completed in 105.3519s\n",
      "Train Loss: 1.3823562478054465 - Train Accuracy: 42.42328305556184\n",
      "Validation Loss: 1.2685132582982381 - Validation Accuracy: 48.94470240607852\n",
      "\n",
      "Epoch 12/20\n"
     ]
    },
    {
     "name": "stderr",
     "output_type": "stream",
     "text": [
      "Training: 100%|██████████| 346/346 [01:05<00:00,  5.26it/s, Loss=1.3682769536972046, Elapsed=77.2482s, ETA=0.0000s] \n",
      "Validating: 100%|██████████| 75/75 [00:14<00:00,  5.01it/s, Loss=1.714855432510376, Elapsed=26.7312s, ETA=0.0000s]  \n"
     ]
    },
    {
     "name": "stdout",
     "output_type": "stream",
     "text": [
      "Epoch 12 completed in 105.1200s\n",
      "Train Loss: 1.3823097062248715 - Train Accuracy: 42.74892019628683\n",
      "Validation Loss: 1.2706814002990723 - Validation Accuracy: 46.0953989024905\n",
      "\n",
      "Epoch 13/20\n"
     ]
    },
    {
     "name": "stderr",
     "output_type": "stream",
     "text": [
      "Training: 100%|██████████| 346/346 [01:05<00:00,  5.26it/s, Loss=1.5907343626022339, Elapsed=77.4127s, ETA=0.0000s] \n",
      "Validating: 100%|██████████| 75/75 [00:14<00:00,  5.02it/s, Loss=1.57613205909729, Elapsed=26.7548s, ETA=0.0000s]   \n"
     ]
    },
    {
     "name": "stdout",
     "output_type": "stream",
     "text": [
      "Epoch 13 completed in 105.3291s\n",
      "Train Loss: 1.3787296738238692 - Train Accuracy: 42.88686370728839\n",
      "Validation Loss: 1.2622804498672486 - Validation Accuracy: 45.12452511608274\n",
      "\n",
      "Epoch 14/20\n"
     ]
    },
    {
     "name": "stderr",
     "output_type": "stream",
     "text": [
      "Training: 100%|██████████| 346/346 [01:05<00:00,  5.24it/s, Loss=1.7136051654815674, Elapsed=77.6985s, ETA=0.0000s] \n",
      "Validating: 100%|██████████| 75/75 [00:15<00:00,  4.93it/s, Loss=1.7962912321090698, Elapsed=26.7756s, ETA=0.0000s] \n"
     ]
    },
    {
     "name": "stdout",
     "output_type": "stream",
     "text": [
      "Epoch 14 completed in 105.6111s\n",
      "Train Loss: 1.3927465460203976 - Train Accuracy: 42.563487935596214\n",
      "Validation Loss: 1.27903524239858 - Validation Accuracy: 47.26677923174335\n",
      "\n",
      "Epoch 15/20\n"
     ]
    },
    {
     "name": "stderr",
     "output_type": "stream",
     "text": [
      "Training: 100%|██████████| 346/346 [01:06<00:00,  5.24it/s, Loss=1.2565594911575317, Elapsed=77.4064s, ETA=0.0000s] \n",
      "Validating: 100%|██████████| 75/75 [00:15<00:00,  4.96it/s, Loss=1.763534426689148, Elapsed=26.8590s, ETA=0.0000s]  \n"
     ]
    },
    {
     "name": "stdout",
     "output_type": "stream",
     "text": [
      "Epoch 15 completed in 105.4118s\n",
      "Train Loss: 1.3795843954720248 - Train Accuracy: 43.01123900409308\n",
      "Validation Loss: 1.2540787998835246 - Validation Accuracy: 45.48332629801604\n",
      "\n",
      "Epoch 16/20\n"
     ]
    },
    {
     "name": "stderr",
     "output_type": "stream",
     "text": [
      "Training: 100%|██████████| 346/346 [01:05<00:00,  5.26it/s, Loss=1.3863145112991333, Elapsed=77.3274s, ETA=0.0000s] \n",
      "Validating: 100%|██████████| 75/75 [00:14<00:00,  5.00it/s, Loss=1.8982735872268677, Elapsed=26.8129s, ETA=0.0000s] \n"
     ]
    },
    {
     "name": "stdout",
     "output_type": "stream",
     "text": [
      "Epoch 16 completed in 105.3111s\n",
      "Train Loss: 1.3894764684528285 - Train Accuracy: 42.69917007756496\n",
      "Validation Loss: 1.2617640781402588 - Validation Accuracy: 48.03714647530604\n",
      "\n",
      "Epoch 17/20\n"
     ]
    },
    {
     "name": "stderr",
     "output_type": "stream",
     "text": [
      "Training: 100%|██████████| 346/346 [01:05<00:00,  5.25it/s, Loss=1.4118462800979614, Elapsed=77.4973s, ETA=0.0000s] \n",
      "Validating: 100%|██████████| 75/75 [00:15<00:00,  4.94it/s, Loss=1.7585487365722656, Elapsed=26.9823s, ETA=0.0000s]  \n"
     ]
    },
    {
     "name": "stdout",
     "output_type": "stream",
     "text": [
      "Epoch 17 completed in 105.6405s\n",
      "Train Loss: 1.3784192776404365 - Train Accuracy: 43.10847787250401\n",
      "Validation Loss: 1.2560251092910766 - Validation Accuracy: 45.09286618826509\n",
      "\n",
      "Epoch 18/20\n"
     ]
    },
    {
     "name": "stderr",
     "output_type": "stream",
     "text": [
      "Training: 100%|██████████| 346/346 [01:06<00:00,  5.21it/s, Loss=1.3269761800765991, Elapsed=78.1274s, ETA=0.0000s] \n",
      "Validating: 100%|██████████| 75/75 [00:15<00:00,  4.88it/s, Loss=1.716375470161438, Elapsed=26.8280s, ETA=0.0000s]  \n"
     ]
    },
    {
     "name": "stdout",
     "output_type": "stream",
     "text": [
      "Epoch 18 completed in 106.1915s\n",
      "Train Loss: 1.371587936244259 - Train Accuracy: 42.891386445354016\n",
      "Validation Loss: 1.2600154463450115 - Validation Accuracy: 48.58590122414521\n",
      "\n",
      "Epoch 19/20\n"
     ]
    },
    {
     "name": "stderr",
     "output_type": "stream",
     "text": [
      "Training: 100%|██████████| 346/346 [01:06<00:00,  5.23it/s, Loss=1.4068037271499634, Elapsed=77.8878s, ETA=0.0000s] \n",
      "Validating: 100%|██████████| 75/75 [00:15<00:00,  4.90it/s, Loss=1.8915889263153076, Elapsed=26.9915s, ETA=0.0000s]  \n"
     ]
    },
    {
     "name": "stdout",
     "output_type": "stream",
     "text": [
      "Epoch 19 completed in 106.1111s\n",
      "Train Loss: 1.3838542772166302 - Train Accuracy: 42.75118156531965\n",
      "Validation Loss: 1.2639919678370157 - Validation Accuracy: 48.00548754748839\n",
      "\n",
      "Epoch 20/20\n"
     ]
    },
    {
     "name": "stderr",
     "output_type": "stream",
     "text": [
      "Training: 100%|██████████| 346/346 [01:06<00:00,  5.24it/s, Loss=1.058434009552002, Elapsed=78.0853s, ETA=0.0000s]  \n",
      "Validating: 100%|██████████| 75/75 [00:15<00:00,  4.92it/s, Loss=1.5294203758239746, Elapsed=27.1213s, ETA=0.0000s]  \n"
     ]
    },
    {
     "name": "stdout",
     "output_type": "stream",
     "text": [
      "Epoch 20 completed in 106.3690s\n",
      "Train Loss: 1.3877267327611846 - Train Accuracy: 42.74439745822121\n",
      "Validation Loss: 1.22502543926239 - Validation Accuracy: 48.11101730688054\n",
      "\n"
     ]
    },
    {
     "data": {
      "image/png": "[encoded data removed]",
      "text/plain": [
       "<Figure size 640x480 with 1 Axes>"
      ]
     },
     "metadata": {},
     "output_type": "display_data"
    },
    {
     "data": {
      "image/png": "[encoded data removed]",
      "text/plain": [
       "<Figure size 640x480 with 1 Axes>"
      ]
     },
     "metadata": {},
     "output_type": "display_data"
    }
   ],
   "source": [
    "trainset = MelSpectrogramDataset(\n",
    "    csv_file=train_csv, root_dir=root_dir, transform=train_transform)\n",
    "valset = MelSpectrogramDataset(\n",
    "    csv_file=val_csv, root_dir=root_dir, transform=test_transform)\n",
    "testset = MelSpectrogramDataset(\n",
    "    csv_file=test_csv, root_dir=root_dir, transform=test_transform)\n",
    "\n",
    "trainloader = DataLoader(trainset, batch_size=128,\n",
    "                         shuffle=True, num_workers=8, pin_memory=True)\n",
    "valloader = DataLoader(valset, batch_size=128,\n",
    "                       shuffle=False, num_workers=8, pin_memory=True)\n",
    "testloader = DataLoader(testset, batch_size=128,\n",
    "                        shuffle=False, num_workers=8, pin_memory=True)\n",
    "\n",
    "# Label mappings\n",
    "labelmap = trainset.label_map\n",
    "print(f\"Mapping from Emotion to Number: {labelmap}\")\n",
    "\n",
    "print(f\"Model is on: {next(model.parameters()).device}\")\n",
    "model, train_losses, train_accuracies, val_losses, val_accuracies = train_epochs(\n",
    "    model, trainloader, valloader, criterion, optimizer, device, epochs)\n",
    "torch.save(model.state_dict(), f'{FINETUNED_MODEL}_variables_{epochs}.pt')\n",
    "\n",
    "# Plots\n",
    "plot_loss(train_losses, val_losses)\n",
    "plot_accuracy(train_accuracies, val_accuracies)"
   ]
  },
  {
   "cell_type": "markdown",
   "metadata": {},
   "source": [
    "Define the function to plot the confusion matrix\n"
   ]
  },
  {
   "cell_type": "code",
   "execution_count": 17,
   "metadata": {},
   "outputs": [],
   "source": [
    "import seaborn as sns\n",
    "from sklearn.metrics import confusion_matrix\n",
    "\n",
    "\n",
    "def plot_confusion_matrix(y_true, y_pred):\n",
    "    # Compute confusion matrix\n",
    "    cm = confusion_matrix(y_true, y_pred)\n",
    "\n",
    "    # Create figure and axes\n",
    "    plt.figure(figsize=(10, 8))\n",
    "\n",
    "    # Create heatmap\n",
    "    sns.heatmap(cm,\n",
    "                annot=True,  # Show numbers in cells\n",
    "                fmt='d',     # Use integer formatting\n",
    "                cmap='Blues',  # Color scheme\n",
    "                xticklabels=trainset.label_map.keys(),\n",
    "                yticklabels=trainset.label_map.keys())\n",
    "\n",
    "    # Set labels and title\n",
    "    plt.ylabel('True Label')\n",
    "    plt.xlabel('Predicted Label')\n",
    "    plt.title('Confusion Matrix')\n",
    "\n",
    "    # Rotate axis labels for better readability\n",
    "    plt.xticks(rotation=45)\n",
    "    plt.yticks(rotation=45)\n",
    "\n",
    "    plt.tight_layout()\n",
    "    plt.show()"
   ]
  },
  {
   "cell_type": "markdown",
   "metadata": {},
   "source": [
    "Define the function to evaluate best model on test set\n"
   ]
  },
  {
   "cell_type": "code",
   "execution_count": 18,
   "metadata": {},
   "outputs": [],
   "source": [
    "def get_predictions(model, testloader, device, model_path):\n",
    "    # Load the best model weights\n",
    "    model.load_state_dict(torch.load(model_path))\n",
    "    model.eval()\n",
    "\n",
    "    all_preds = []\n",
    "    all_labels = []\n",
    "    print(\"Evaluating best model on test set...\")\n",
    "\n",
    "    with torch.no_grad():\n",
    "        for inputs, labels in tqdm(testloader, desc='Testing'):\n",
    "            inputs, labels = inputs.to(device), labels.to(device)\n",
    "            outputs = model(inputs)\n",
    "            _, predicted = torch.max(outputs, 1)\n",
    "\n",
    "            # Store predictions for confusion matrix\n",
    "            all_preds.extend(predicted.cpu().numpy())\n",
    "            all_labels.extend(labels.cpu().numpy())\n",
    "\n",
    "    return all_preds, all_labels"
   ]
  },
  {
   "cell_type": "markdown",
   "metadata": {},
   "source": [
    "Define the function to print out the evaluation metrics\n"
   ]
  },
  {
   "cell_type": "code",
   "execution_count": 19,
   "metadata": {},
   "outputs": [],
   "source": [
    "from sklearn.metrics import accuracy_score, precision_recall_fscore_support, classification_report\n",
    "\n",
    "\n",
    "def get_evaluation_metrics(true_labels, pred_labels, label_map):\n",
    "    # Compute metrics\n",
    "    accuracy = accuracy_score(true_labels, pred_labels)\n",
    "    precision, recall, f1, _ = precision_recall_fscore_support(\n",
    "        true_labels, pred_labels, average='weighted')\n",
    "\n",
    "    print(f\"Test Accuracy: {accuracy:.4f}\")\n",
    "    print(f\"Test Precision: {precision:.4f}\")\n",
    "    print(f\"Test Recall: {recall:.4f}\")\n",
    "    print(f\"Test F1-score: {f1:.4f}\\n\")\n",
    "\n",
    "    # Print detailed classification report\n",
    "    print(classification_report(true_labels, pred_labels,\n",
    "          target_names=list(label_map.keys())))"
   ]
  },
  {
   "cell_type": "markdown",
   "metadata": {},
   "source": [
    "Evaluate the best model on the test set\n"
   ]
  },
  {
   "cell_type": "code",
   "execution_count": 20,
   "metadata": {},
   "outputs": [
    {
     "name": "stderr",
     "output_type": "stream",
     "text": [
      "C:\\Users\\profi\\AppData\\Local\\Temp\\ipykernel_8636\\3256607076.py:3: FutureWarning: You are using `torch.load` with `weights_only=False` (the current default value), which uses the default pickle module implicitly. It is possible to construct malicious pickle data which will execute arbitrary code during unpickling (See https://github.com/pytorch/pytorch/blob/main/SECURITY.md#untrusted-models for more details). In a future release, the default value for `weights_only` will be flipped to `True`. This limits the functions that could be executed during unpickling. Arbitrary objects will no longer be allowed to be loaded via this mode unless they are explicitly allowlisted by the user via `torch.serialization.add_safe_globals`. We recommend you start setting `weights_only=True` for any use case where you don't have full control of the loaded file. Please open an issue on GitHub for any issues related to this experimental feature.\n",
      "  model.load_state_dict(torch.load(model_path))\n"
     ]
    },
    {
     "name": "stdout",
     "output_type": "stream",
     "text": [
      "Evaluating best model on test set...\n"
     ]
    },
    {
     "name": "stderr",
     "output_type": "stream",
     "text": [
      "Testing: 100%|██████████| 75/75 [00:28<00:00,  2.67it/s]"
     ]
    },
    {
     "name": "stdout",
     "output_type": "stream",
     "text": [
      "Test Accuracy: 0.4801\n",
      "Test Precision: 0.5207\n",
      "Test Recall: 0.4801\n",
      "Test F1-score: 0.4683\n",
      "\n",
      "              precision    recall  f1-score   support\n",
      "\n",
      "       Anger       0.48      0.49      0.49       916\n",
      "       Bored       0.59      0.80      0.68      1098\n",
      "     Disgust       0.25      0.69      0.36       291\n",
      "        Fear       0.36      0.41      0.38       308\n",
      "       Happy       0.61      0.22      0.33      1914\n",
      "     Neutral       0.45      0.49      0.47      2226\n",
      "    Question       0.70      0.35      0.47      1139\n",
      "         Sad       0.44      0.59      0.51       857\n",
      "    Surprise       0.45      0.63      0.52       728\n",
      "\n",
      "    accuracy                           0.48      9477\n",
      "   macro avg       0.48      0.52      0.47      9477\n",
      "weighted avg       0.52      0.48      0.47      9477\n",
      "\n"
     ]
    },
    {
     "name": "stderr",
     "output_type": "stream",
     "text": [
      "\n"
     ]
    },
    {
     "data": {
      "image/png": "[encoded data removed]",
      "text/plain": [
       "<Figure size 1000x800 with 2 Axes>"
      ]
     },
     "metadata": {},
     "output_type": "display_data"
    }
   ],
   "source": [
    "# Load and get predictions from the bets model\n",
    "best_model_path = f'best_{FINETUNED_MODEL}.pt'\n",
    "all_preds, all_labels = get_predictions(\n",
    "    model=model,\n",
    "    testloader=testloader,\n",
    "    device=device,\n",
    "    model_path=best_model_path\n",
    ")\n",
    "\n",
    "# Print detailed evaluation metrics\n",
    "get_evaluation_metrics(all_labels, all_preds, labelmap)\n",
    "\n",
    "# Plot confusion matrix\n",
    "plot_confusion_matrix(all_labels, all_preds)"
   ]
  },
  {
   "cell_type": "code",
   "execution_count": null,
   "metadata": {},
   "outputs": [],
   "source": []
  }
 ],
 "metadata": {
  "kernelspec": {
   "display_name": "myenv",
   "language": "python",
   "name": "python3"
  },
  "language_info": {
   "codemirror_mode": {
    "name": "ipython",
    "version": 3
   },
   "file_extension": ".py",
   "mimetype": "text/x-python",
   "name": "python",
   "nbconvert_exporter": "python",
   "pygments_lexer": "ipython3",
   "version": "3.10.11"
  }
 },
 "nbformat": 4,
 "nbformat_minor": 2
}
