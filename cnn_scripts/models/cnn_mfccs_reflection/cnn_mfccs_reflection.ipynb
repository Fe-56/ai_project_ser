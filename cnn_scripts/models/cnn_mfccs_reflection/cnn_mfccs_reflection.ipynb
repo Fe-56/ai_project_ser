{
 "cells": [
  {
   "cell_type": "markdown",
   "metadata": {},
   "source": [
    "# Train CNN with MFCCs\n"
   ]
  },
  {
   "cell_type": "markdown",
   "metadata": {},
   "source": [
    "Inspired by https://medium.com/@diego-rios/speech-emotion-recognition-with-convolutional-neural-network-ae5406a1c0f7\n",
    "\n",
    "MFCC tensors with repetitive padding\n"
   ]
  },
  {
   "cell_type": "markdown",
   "metadata": {},
   "source": [
    "Import the necessary libraries\n"
   ]
  },
  {
   "cell_type": "code",
   "execution_count": 1,
   "metadata": {},
   "outputs": [],
   "source": [
    "import torch\n",
    "from torch.utils.data import DataLoader\n",
    "import torchvision.transforms as transforms\n",
    "from torchview import draw_graph\n",
    "import torch.nn as nn\n",
    "import torch.optim as optim\n",
    "from torchsummary import summary\n",
    "import os\n",
    "import sys\n",
    "import numpy as np\n",
    "import random\n",
    "import time\n",
    "from tqdm import tqdm\n",
    "import matplotlib.pyplot as plt"
   ]
  },
  {
   "cell_type": "code",
   "execution_count": 2,
   "metadata": {},
   "outputs": [],
   "source": [
    "# Get the absolute path to the project root without relying on __file__\n",
    "notebook_path = os.getcwd()  # Gets current working directory\n",
    "project_root = os.path.abspath(os.path.join(notebook_path, \"../..\"))\n",
    "sys.path.insert(0, project_root)"
   ]
  },
  {
   "cell_type": "code",
   "execution_count": 3,
   "metadata": {},
   "outputs": [
    {
     "name": "stdout",
     "output_type": "stream",
     "text": [
      "2.1.1+cu118\n",
      "True\n"
     ]
    }
   ],
   "source": [
    "print(torch.__version__)\n",
    "print(torch.cuda.is_available())"
   ]
  },
  {
   "cell_type": "markdown",
   "metadata": {},
   "source": [
    "Set the seed for reproducibility\n"
   ]
  },
  {
   "cell_type": "code",
   "execution_count": 4,
   "metadata": {},
   "outputs": [],
   "source": [
    "random_seed = 42\n",
    "\n",
    "torch.manual_seed(random_seed)\n",
    "np.random.seed(random_seed)\n",
    "random.seed(random_seed)\n",
    "\n",
    "if (torch.cuda.is_available()):\n",
    "    torch.cuda.manual_seed(random_seed)"
   ]
  },
  {
   "cell_type": "markdown",
   "metadata": {},
   "source": [
    "Set some constant strings\n"
   ]
  },
  {
   "cell_type": "code",
   "execution_count": 5,
   "metadata": {},
   "outputs": [],
   "source": [
    "MODEL = 'cnn_mfccs_reflection'\n",
    "\n",
    "train_csv = '../../../data/mfcc_train_dataset.csv'\n",
    "test_csv = '../../../data/mfcc_test_dataset.csv'\n",
    "val_csv = '../../../data/mfcc_val_dataset.csv'\n",
    "root_dir = '../../../data/'\n",
    "class_weights_path = '../../../data/class_weights.pt'"
   ]
  },
  {
   "cell_type": "markdown",
   "metadata": {},
   "source": [
    "Custom dataset class for loading the mfcc tensors\n"
   ]
  },
  {
   "cell_type": "code",
   "execution_count": 6,
   "metadata": {},
   "outputs": [],
   "source": [
    "from datasets.MfccDataset import MFCCDataset"
   ]
  },
  {
   "cell_type": "markdown",
   "metadata": {},
   "source": [
    "Define the training function\n"
   ]
  },
  {
   "cell_type": "code",
   "execution_count": 7,
   "metadata": {},
   "outputs": [],
   "source": [
    "def train(model, trainloader, criterion, optimizer, device):\n",
    "    train_loss = 0.0\n",
    "    train_total = 0\n",
    "    train_correct = 0\n",
    "\n",
    "    # train mode\n",
    "    model.train()\n",
    "\n",
    "    epoch_start = time.time()\n",
    "    pbar = tqdm(enumerate(trainloader), total=len(\n",
    "        trainloader), desc=\"Training\")\n",
    "\n",
    "    for i, (inputs, labels) in pbar:\n",
    "        inputs, labels = inputs.to(device), labels.to(device)\n",
    "\n",
    "        # Zero the parameter gradients\n",
    "        optimizer.zero_grad()\n",
    "\n",
    "        # Forward pass\n",
    "        outputs = model(inputs)\n",
    "        loss = criterion(outputs, labels)\n",
    "\n",
    "        # Backward pass and optimize\n",
    "        loss.backward()\n",
    "        optimizer.step()\n",
    "\n",
    "        # Update training loss\n",
    "        train_loss += loss.item()\n",
    "\n",
    "        # Calculate accuracy\n",
    "        _, predicted = torch.max(outputs, 1)\n",
    "        train_total += labels.size(0)\n",
    "        train_correct += (predicted == labels).sum().item()\n",
    "\n",
    "        # Calculate time metrics\n",
    "        elapsed = time.time() - epoch_start\n",
    "        progress = (i + 1) / len(trainloader)\n",
    "        eta = elapsed / progress - elapsed\n",
    "\n",
    "        # Update progress bar with current loss and ETA\n",
    "        pbar.set_postfix({\n",
    "            \"Loss\": f\"{loss.item()}\",\n",
    "            \"Elapsed\": f\"{elapsed:.4f}s\",\n",
    "            \"ETA\": f\"{eta:.4f}s\"\n",
    "        })\n",
    "\n",
    "    train_loss = train_loss / len(trainloader)\n",
    "    train_accuracy = train_correct / train_total * 100\n",
    "\n",
    "    return model, train_loss, train_accuracy"
   ]
  },
  {
   "cell_type": "markdown",
   "metadata": {},
   "source": [
    "Define the validation function\n"
   ]
  },
  {
   "cell_type": "code",
   "execution_count": 8,
   "metadata": {},
   "outputs": [],
   "source": [
    "def validate(model, valloader, criterion, device):\n",
    "    val_loss = 0.0\n",
    "    val_total = 0\n",
    "    val_correct = 0\n",
    "\n",
    "    # Switch to evaluation mode\n",
    "    model.eval()\n",
    "\n",
    "    epoch_start = time.time()\n",
    "    pbar = tqdm(enumerate(valloader), total=len(\n",
    "        valloader), desc=\"Validating\")\n",
    "\n",
    "    with torch.no_grad():\n",
    "        for i, (inputs, labels) in pbar:\n",
    "            inputs, labels = inputs.to(device), labels.to(device)\n",
    "\n",
    "            # Forward pass\n",
    "            outputs = model(inputs)\n",
    "            loss = criterion(outputs, labels)\n",
    "\n",
    "            # Update test loss\n",
    "            val_loss += loss.item()\n",
    "\n",
    "            # Calculate accuracy\n",
    "            _, predicted = torch.max(outputs, 1)\n",
    "            val_total += labels.size(0)\n",
    "            val_correct += (predicted == labels).sum().item()\n",
    "\n",
    "            # Calculate time metrics\n",
    "            elapsed = time.time() - epoch_start\n",
    "            progress = (i + 1) / len(valloader)\n",
    "            eta = elapsed / progress - elapsed\n",
    "\n",
    "            # Update progress bar with current loss and ETA\n",
    "            pbar.set_postfix({\n",
    "                \"Loss\": f\"{loss.item()}\",\n",
    "                \"Elapsed\": f\"{elapsed:.4f}s\",\n",
    "                \"ETA\": f\"{eta:.4f}s\"\n",
    "            })\n",
    "\n",
    "    val_loss = val_loss / len(valloader)\n",
    "    val_accuracy = val_correct / val_total * 100\n",
    "\n",
    "    return val_loss, val_accuracy"
   ]
  },
  {
   "cell_type": "markdown",
   "metadata": {},
   "source": [
    "Define what happens in each epoch\n"
   ]
  },
  {
   "cell_type": "code",
   "execution_count": 9,
   "metadata": {},
   "outputs": [],
   "source": [
    "def train_epochs(model, trainloader, valloader, criterion, optimizer, device, num_epochs):\n",
    "    train_losses = []\n",
    "    train_accuracies = []\n",
    "    val_losses = []\n",
    "    val_accuracies = []\n",
    "    best_accuracy = 0\n",
    "\n",
    "    for epoch in range(num_epochs):\n",
    "        print(f'Epoch {epoch+1}/{num_epochs}')\n",
    "        epoch_start = time.time()\n",
    "\n",
    "        model, train_loss, train_accuracy = train(\n",
    "            model, trainloader, criterion, optimizer, device)\n",
    "        val_loss, val_accuracy = validate(\n",
    "            model, valloader, criterion, device)\n",
    "\n",
    "        epoch_elapsed = time.time() - epoch_start\n",
    "        print(f\"Epoch {epoch+1} completed in {epoch_elapsed:.4f}s\")\n",
    "        print(f'Train Loss: {train_loss} - Train Accuracy: {train_accuracy}')\n",
    "        print(\n",
    "            f'Validation Loss: {val_loss} - Validation Accuracy: {val_accuracy}')\n",
    "        print()\n",
    "\n",
    "        train_losses.append(train_loss)\n",
    "        train_accuracies.append(train_accuracy)\n",
    "        val_losses.append(val_loss)\n",
    "        val_accuracies.append(val_accuracy)\n",
    "\n",
    "        # Check if current model is best performing using test_accuracy\n",
    "        if val_accuracy > best_accuracy:\n",
    "            best_accuracy = val_accuracy\n",
    "            torch.save(model.state_dict(), f'best_{MODEL}.pt')\n",
    "            checkpoint = {\n",
    "                'epoch': epoch + 1,\n",
    "                'train_losses': train_losses,\n",
    "                'train_accuracies': train_accuracies,\n",
    "                'val_losses': val_losses,\n",
    "                'val_accuracies': val_accuracies,\n",
    "            }\n",
    "            torch.save(checkpoint, f'best_{MODEL}_checkpoint.pt')\n",
    "\n",
    "    return model, train_losses, train_accuracies, val_losses, val_accuracies"
   ]
  },
  {
   "cell_type": "markdown",
   "metadata": {},
   "source": [
    "Plot the loss and accuracy graphs\n"
   ]
  },
  {
   "cell_type": "code",
   "execution_count": 10,
   "metadata": {},
   "outputs": [],
   "source": [
    "def plot_loss(train_losses, val_losses):\n",
    "    plt.figure()\n",
    "    plt.plot(range(len(train_losses)), train_losses, label='Training Loss')\n",
    "    plt.plot(range(len(val_losses)), val_losses, label='Validation Loss')\n",
    "    plt.xlabel('Epoch')\n",
    "    plt.ylabel('Loss')\n",
    "    plt.legend()\n",
    "    plt.show()"
   ]
  },
  {
   "cell_type": "code",
   "execution_count": 11,
   "metadata": {},
   "outputs": [],
   "source": [
    "def plot_accuracy(train_accuracies, val_accuracies):\n",
    "    plt.figure()\n",
    "    plt.plot(range(len(train_accuracies)),\n",
    "             train_accuracies, label='Training Accuracy')\n",
    "    plt.plot(range(len(val_accuracies)),\n",
    "             val_accuracies, label='Validation Accuracy')\n",
    "    plt.xlabel('Epoch')\n",
    "    plt.ylabel('Accuracy')\n",
    "    plt.legend()\n",
    "    plt.show()"
   ]
  },
  {
   "cell_type": "markdown",
   "metadata": {},
   "source": [
    "Import the model\n"
   ]
  },
  {
   "cell_type": "code",
   "execution_count": 12,
   "metadata": {},
   "outputs": [
    {
     "data": {
      "text/plain": [
       "CNNMFCCs(\n",
       "  (conv1): Conv1d(40, 16, kernel_size=(3,), stride=(1,), padding=(1,))\n",
       "  (conv2): Conv1d(16, 32, kernel_size=(3,), stride=(1,), padding=(1,))\n",
       "  (conv3): Conv1d(32, 64, kernel_size=(3,), stride=(1,), padding=(1,))\n",
       "  (conv4): Conv1d(64, 128, kernel_size=(3,), stride=(1,), padding=(1,))\n",
       "  (dropout): Dropout(p=0.1, inplace=False)\n",
       "  (fc1): Linear(in_features=22016, out_features=128, bias=True)\n",
       "  (fc2): Linear(in_features=128, out_features=64, bias=True)\n",
       "  (fc3): Linear(in_features=64, out_features=9, bias=True)\n",
       ")"
      ]
     },
     "execution_count": 12,
     "metadata": {},
     "output_type": "execute_result"
    }
   ],
   "source": [
    "from CNNMFCCs import CNNMFCCs\n",
    "\n",
    "model = CNNMFCCs()\n",
    "\n",
    "# Move model to GPU\n",
    "device = torch.device(\"cuda\" if torch.cuda.is_available() else \"cpu\")\n",
    "model.to(device)"
   ]
  },
  {
   "cell_type": "markdown",
   "metadata": {},
   "source": [
    "Visualize the model\n"
   ]
  },
  {
   "cell_type": "code",
   "execution_count": 13,
   "metadata": {},
   "outputs": [
    {
     "name": "stdout",
     "output_type": "stream",
     "text": [
      "----------------------------------------------------------------\n",
      "        Layer (type)               Output Shape         Param #\n",
      "================================================================\n",
      "            Conv1d-1              [-1, 16, 172]           1,936\n",
      "            Conv1d-2              [-1, 32, 172]           1,568\n",
      "            Conv1d-3              [-1, 64, 172]           6,208\n",
      "            Conv1d-4             [-1, 128, 172]          24,704\n",
      "           Dropout-5             [-1, 128, 172]               0\n",
      "            Linear-6                  [-1, 128]       2,818,176\n",
      "           Dropout-7                  [-1, 128]               0\n",
      "            Linear-8                   [-1, 64]           8,256\n",
      "            Linear-9                    [-1, 9]             585\n",
      "================================================================\n",
      "Total params: 2,861,433\n",
      "Trainable params: 2,861,433\n",
      "Non-trainable params: 0\n",
      "----------------------------------------------------------------\n",
      "Input size (MB): 0.03\n",
      "Forward/backward pass size (MB): 0.49\n",
      "Params size (MB): 10.92\n",
      "Estimated Total Size (MB): 11.43\n",
      "----------------------------------------------------------------\n"
     ]
    }
   ],
   "source": [
    "summary(model, (40, 172))"
   ]
  },
  {
   "cell_type": "markdown",
   "metadata": {},
   "source": [
    "Define the learning rate, criterion, optimizer, transformations, and number of epochs\n"
   ]
  },
  {
   "cell_type": "code",
   "execution_count": 14,
   "metadata": {},
   "outputs": [],
   "source": [
    "learning_rate = 0.001\n",
    "\n",
    "class_weights = torch.load(class_weights_path).to(device)\n",
    "criterion = nn.CrossEntropyLoss(weight=class_weights)\n",
    "\n",
    "optimizer = optim.Adam(model.parameters(), lr=learning_rate)\n",
    "\n",
    "# Define transformations\n",
    "transform = transforms.Compose([])\n",
    "\n",
    "epochs = 100"
   ]
  },
  {
   "cell_type": "markdown",
   "metadata": {},
   "source": [
    "Execute the training\n"
   ]
  },
  {
   "cell_type": "code",
   "execution_count": 15,
   "metadata": {},
   "outputs": [
    {
     "name": "stdout",
     "output_type": "stream",
     "text": [
      "Mapping from Emotion to Number: {'Anger': 0, 'Bored': 1, 'Disgust': 2, 'Fear': 3, 'Happy': 4, 'Neutral': 5, 'Question': 6, 'Sad': 7, 'Surprise': 8}\n",
      "Model is on: cuda:0\n",
      "Epoch 1/100\n"
     ]
    },
    {
     "name": "stderr",
     "output_type": "stream",
     "text": [
      "Training: 100%|██████████| 346/346 [00:08<00:00, 41.25it/s, Loss=1.1994497776031494, Elapsed=8.6905s, ETA=0.0000s]\n",
      "Validating: 100%|██████████| 75/75 [00:01<00:00, 39.69it/s, Loss=1.2266305685043335, Elapsed=2.0758s, ETA=0.0000s]"
     ]
    },
    {
     "name": "stdout",
     "output_type": "stream",
     "text": [
      "Epoch 1 completed in 10.9087s\n",
      "Train Loss: 1.460596939387349 - Train Accuracy: 35.47861875579476\n",
      "Validation Loss: 1.1994124603271485 - Validation Accuracy: 46.3064584212748\n",
      "\n",
      "Epoch 2/100\n"
     ]
    },
    {
     "name": "stderr",
     "output_type": "stream",
     "text": [
      "\n",
      "Training: 100%|██████████| 346/346 [00:04<00:00, 74.75it/s, Loss=1.0137640237808228, Elapsed=4.8338s, ETA=0.0000s]\n",
      "Validating: 100%|██████████| 75/75 [00:01<00:00, 70.83it/s, Loss=1.3985365629196167, Elapsed=1.2550s, ETA=0.0000s]\n"
     ]
    },
    {
     "name": "stdout",
     "output_type": "stream",
     "text": [
      "Epoch 2 completed in 6.2287s\n",
      "Train Loss: 1.1519196284988713 - Train Accuracy: 48.06539879242894\n",
      "Validation Loss: 1.1118051107724507 - Validation Accuracy: 48.016040523427606\n",
      "\n",
      "Epoch 3/100\n"
     ]
    },
    {
     "name": "stderr",
     "output_type": "stream",
     "text": [
      "Training: 100%|██████████| 346/346 [00:04<00:00, 73.70it/s, Loss=0.7817193865776062, Elapsed=4.8935s, ETA=0.0000s]\n",
      "Validating: 100%|██████████| 75/75 [00:01<00:00, 66.36it/s, Loss=1.149781346321106, Elapsed=1.3309s, ETA=0.0000s] \n"
     ]
    },
    {
     "name": "stdout",
     "output_type": "stream",
     "text": [
      "Epoch 3 completed in 6.3553s\n",
      "Train Loss: 1.053418686107404 - Train Accuracy: 52.09741977793356\n",
      "Validation Loss: 1.02443763256073 - Validation Accuracy: 54.51667370198396\n",
      "\n",
      "Epoch 4/100\n"
     ]
    },
    {
     "name": "stderr",
     "output_type": "stream",
     "text": [
      "Training: 100%|██████████| 346/346 [00:04<00:00, 72.97it/s, Loss=0.9336858987808228, Elapsed=4.9329s, ETA=0.0000s]\n",
      "Validating: 100%|██████████| 75/75 [00:01<00:00, 65.96it/s, Loss=1.1942188739776611, Elapsed=1.3340s, ETA=0.0000s]"
     ]
    },
    {
     "name": "stdout",
     "output_type": "stream",
     "text": [
      "Epoch 4 completed in 6.4077s\n",
      "Train Loss: 0.990293772234393 - Train Accuracy: 54.84498315280071\n",
      "Validation Loss: 1.0078287728627522 - Validation Accuracy: 52.02617138032926\n",
      "\n",
      "Epoch 5/100\n"
     ]
    },
    {
     "name": "stderr",
     "output_type": "stream",
     "text": [
      "\n",
      "Training: 100%|██████████| 346/346 [00:05<00:00, 67.86it/s, Loss=0.894805908203125, Elapsed=5.2799s, ETA=0.0000s] \n",
      "Validating: 100%|██████████| 75/75 [00:01<00:00, 61.42it/s, Loss=1.3028321266174316, Elapsed=1.4092s, ETA=0.0000s]\n"
     ]
    },
    {
     "name": "stdout",
     "output_type": "stream",
     "text": [
      "Epoch 5 completed in 6.8244s\n",
      "Train Loss: 0.944816636384567 - Train Accuracy: 57.09504534044911\n",
      "Validation Loss: 0.981113318602244 - Validation Accuracy: 57.450401013085695\n",
      "\n",
      "Epoch 6/100\n"
     ]
    },
    {
     "name": "stderr",
     "output_type": "stream",
     "text": [
      "Training: 100%|██████████| 346/346 [00:04<00:00, 69.37it/s, Loss=1.009214162826538, Elapsed=5.1894s, ETA=0.0000s] \n",
      "Validating: 100%|██████████| 75/75 [00:01<00:00, 70.08it/s, Loss=1.2676033973693848, Elapsed=1.2418s, ETA=0.0000s]"
     ]
    },
    {
     "name": "stdout",
     "output_type": "stream",
     "text": [
      "Epoch 6 completed in 6.5746s\n",
      "Train Loss: 0.8943184503930153 - Train Accuracy: 58.88604961443657\n",
      "Validation Loss: 0.9895411785443624 - Validation Accuracy: 56.76445757703672\n",
      "\n",
      "Epoch 7/100\n"
     ]
    },
    {
     "name": "stderr",
     "output_type": "stream",
     "text": [
      "\n",
      "Training: 100%|██████████| 346/346 [00:04<00:00, 73.46it/s, Loss=0.975346028804779, Elapsed=4.8984s, ETA=0.0000s] \n",
      "Validating: 100%|██████████| 75/75 [00:01<00:00, 65.18it/s, Loss=1.3738479614257812, Elapsed=1.3401s, ETA=0.0000s]"
     ]
    },
    {
     "name": "stdout",
     "output_type": "stream",
     "text": [
      "Epoch 7 completed in 6.3747s\n",
      "Train Loss: 0.8526248525332853 - Train Accuracy: 60.53006490129123\n",
      "Validation Loss: 0.9655490032831828 - Validation Accuracy: 56.63782186576615\n",
      "\n",
      "Epoch 8/100\n"
     ]
    },
    {
     "name": "stderr",
     "output_type": "stream",
     "text": [
      "\n",
      "Training: 100%|██████████| 346/346 [00:04<00:00, 73.40it/s, Loss=0.6956675052642822, Elapsed=4.9057s, ETA=0.0000s]\n",
      "Validating: 100%|██████████| 75/75 [00:01<00:00, 67.99it/s, Loss=1.4288547039031982, Elapsed=1.2988s, ETA=0.0000s]\n"
     ]
    },
    {
     "name": "stdout",
     "output_type": "stream",
     "text": [
      "Epoch 8 completed in 6.3404s\n",
      "Train Loss: 0.8050506805753432 - Train Accuracy: 62.38664887723028\n",
      "Validation Loss: 0.9547485931714376 - Validation Accuracy: 59.91979738286197\n",
      "\n",
      "Epoch 9/100\n"
     ]
    },
    {
     "name": "stderr",
     "output_type": "stream",
     "text": [
      "Training: 100%|██████████| 346/346 [00:04<00:00, 73.10it/s, Loss=0.7855897545814514, Elapsed=4.9254s, ETA=0.0000s]\n",
      "Validating: 100%|██████████| 75/75 [00:01<00:00, 66.48it/s, Loss=1.1492167711257935, Elapsed=1.3125s, ETA=0.0000s]"
     ]
    },
    {
     "name": "stdout",
     "output_type": "stream",
     "text": [
      "Epoch 9 completed in 6.3806s\n",
      "Train Loss: 0.7686988838835259 - Train Accuracy: 64.15730082992243\n",
      "Validation Loss: 0.9526678156852723 - Validation Accuracy: 58.864499788940485\n",
      "\n",
      "Epoch 10/100\n"
     ]
    },
    {
     "name": "stderr",
     "output_type": "stream",
     "text": [
      "\n",
      "Training: 100%|██████████| 346/346 [00:04<00:00, 73.19it/s, Loss=0.8429638743400574, Elapsed=4.9197s, ETA=0.0000s]\n",
      "Validating: 100%|██████████| 75/75 [00:01<00:00, 66.79it/s, Loss=1.180185079574585, Elapsed=1.3132s, ETA=0.0000s] \n"
     ]
    },
    {
     "name": "stdout",
     "output_type": "stream",
     "text": [
      "Epoch 10 completed in 6.3717s\n",
      "Train Loss: 0.7320763105257398 - Train Accuracy: 65.49829266638024\n",
      "Validation Loss: 0.9502877863248189 - Validation Accuracy: 61.02785985647953\n",
      "\n",
      "Epoch 11/100\n"
     ]
    },
    {
     "name": "stderr",
     "output_type": "stream",
     "text": [
      "Training: 100%|██████████| 346/346 [00:04<00:00, 74.31it/s, Loss=0.7137912511825562, Elapsed=4.8571s, ETA=0.0000s] \n",
      "Validating: 100%|██████████| 75/75 [00:01<00:00, 70.22it/s, Loss=1.0212141275405884, Elapsed=1.2722s, ETA=0.0000s]"
     ]
    },
    {
     "name": "stdout",
     "output_type": "stream",
     "text": [
      "Epoch 11 completed in 6.2645s\n",
      "Train Loss: 0.690126585822574 - Train Accuracy: 67.12195563193958\n",
      "Validation Loss: 0.9906797448794047 - Validation Accuracy: 59.93035035880118\n",
      "\n",
      "Epoch 12/100\n"
     ]
    },
    {
     "name": "stderr",
     "output_type": "stream",
     "text": [
      "\n",
      "Training: 100%|██████████| 346/346 [00:04<00:00, 74.93it/s, Loss=0.6167267560958862, Elapsed=4.8143s, ETA=0.0000s] \n",
      "Validating: 100%|██████████| 75/75 [00:01<00:00, 63.43it/s, Loss=1.0678611993789673, Elapsed=1.3782s, ETA=0.0000s]"
     ]
    },
    {
     "name": "stdout",
     "output_type": "stream",
     "text": [
      "Epoch 12 completed in 6.3406s\n",
      "Train Loss: 0.6483887459845902 - Train Accuracy: 68.44259514710205\n",
      "Validation Loss: 1.0156770730018616 - Validation Accuracy: 60.09919797382862\n",
      "\n",
      "Epoch 13/100\n"
     ]
    },
    {
     "name": "stderr",
     "output_type": "stream",
     "text": [
      "\n",
      "Training: 100%|██████████| 346/346 [00:04<00:00, 73.34it/s, Loss=0.7373635172843933, Elapsed=4.9264s, ETA=0.0000s] \n",
      "Validating: 100%|██████████| 75/75 [00:01<00:00, 61.95it/s, Loss=2.053401231765747, Elapsed=1.4080s, ETA=0.0000s] \n"
     ]
    },
    {
     "name": "stdout",
     "output_type": "stream",
     "text": [
      "Epoch 13 completed in 6.4736s\n",
      "Train Loss: 0.6074120187001422 - Train Accuracy: 70.45521358630515\n",
      "Validation Loss: 1.0162548979123434 - Validation Accuracy: 61.03841283241874\n",
      "\n",
      "Epoch 14/100\n"
     ]
    },
    {
     "name": "stderr",
     "output_type": "stream",
     "text": [
      "Training: 100%|██████████| 346/346 [00:04<00:00, 77.29it/s, Loss=0.5543820858001709, Elapsed=4.6768s, ETA=0.0000s] \n",
      "Validating: 100%|██████████| 75/75 [00:01<00:00, 73.30it/s, Loss=1.65181565284729, Elapsed=1.2284s, ETA=0.0000s]  \n"
     ]
    },
    {
     "name": "stdout",
     "output_type": "stream",
     "text": [
      "Epoch 14 completed in 6.0426s\n",
      "Train Loss: 0.568546279834185 - Train Accuracy: 71.80298952986138\n",
      "Validation Loss: 1.0750425283114116 - Validation Accuracy: 61.07007176023639\n",
      "\n",
      "Epoch 15/100\n"
     ]
    },
    {
     "name": "stderr",
     "output_type": "stream",
     "text": [
      "Training: 100%|██████████| 346/346 [00:04<00:00, 73.21it/s, Loss=0.638786256313324, Elapsed=4.9302s, ETA=0.0000s]  \n",
      "Validating: 100%|██████████| 75/75 [00:01<00:00, 63.67it/s, Loss=1.9724925756454468, Elapsed=1.3658s, ETA=0.0000s]\n"
     ]
    },
    {
     "name": "stdout",
     "output_type": "stream",
     "text": [
      "Epoch 15 completed in 6.4402s\n",
      "Train Loss: 0.5182692778937389 - Train Accuracy: 73.71384636258792\n",
      "Validation Loss: 1.1758573420842489 - Validation Accuracy: 61.745462220346134\n",
      "\n",
      "Epoch 16/100\n"
     ]
    },
    {
     "name": "stderr",
     "output_type": "stream",
     "text": [
      "Training: 100%|██████████| 346/346 [00:04<00:00, 72.61it/s, Loss=0.7196894288063049, Elapsed=4.9566s, ETA=0.0000s] \n",
      "Validating: 100%|██████████| 75/75 [00:01<00:00, 65.22it/s, Loss=2.4007797241210938, Elapsed=1.3475s, ETA=0.0000s]"
     ]
    },
    {
     "name": "stdout",
     "output_type": "stream",
     "text": [
      "Epoch 16 completed in 6.4508s\n",
      "Train Loss: 0.5047294823937334 - Train Accuracy: 74.32441600144728\n",
      "Validation Loss: 1.2006561342875164 - Validation Accuracy: 61.122836639932466\n",
      "\n",
      "Epoch 17/100\n"
     ]
    },
    {
     "name": "stderr",
     "output_type": "stream",
     "text": [
      "\n",
      "Training: 100%|██████████| 346/346 [00:04<00:00, 72.48it/s, Loss=0.43662625551223755, Elapsed=4.9797s, ETA=0.0000s]\n",
      "Validating: 100%|██████████| 75/75 [00:01<00:00, 68.17it/s, Loss=1.8820093870162964, Elapsed=1.2990s, ETA=0.0000s]"
     ]
    },
    {
     "name": "stdout",
     "output_type": "stream",
     "text": [
      "Epoch 17 completed in 6.4137s\n",
      "Train Loss: 0.4578625792368299 - Train Accuracy: 76.63327378394881\n",
      "Validation Loss: 1.2674426023165386 - Validation Accuracy: 61.27057830308147\n",
      "\n",
      "Epoch 18/100\n"
     ]
    },
    {
     "name": "stderr",
     "output_type": "stream",
     "text": [
      "\n",
      "Training: 100%|██████████| 346/346 [00:04<00:00, 75.62it/s, Loss=0.5134178996086121, Elapsed=4.7612s, ETA=0.0000s] \n",
      "Validating: 100%|██████████| 75/75 [00:01<00:00, 67.03it/s, Loss=2.7733840942382812, Elapsed=1.3108s, ETA=0.0000s]"
     ]
    },
    {
     "name": "stdout",
     "output_type": "stream",
     "text": [
      "Epoch 18 completed in 6.2128s\n",
      "Train Loss: 0.42576718537104613 - Train Accuracy: 78.07828859591596\n",
      "Validation Loss: 1.26993355512619 - Validation Accuracy: 60.57408189109329\n",
      "\n",
      "Epoch 19/100\n"
     ]
    },
    {
     "name": "stderr",
     "output_type": "stream",
     "text": [
      "\n",
      "Training: 100%|██████████| 346/346 [00:04<00:00, 71.36it/s, Loss=0.28054723143577576, Elapsed=5.0551s, ETA=0.0000s]\n",
      "Validating: 100%|██████████| 75/75 [00:01<00:00, 68.02it/s, Loss=2.446544885635376, Elapsed=1.3108s, ETA=0.0000s] "
     ]
    },
    {
     "name": "stdout",
     "output_type": "stream",
     "text": [
      "Epoch 19 completed in 6.5008s\n",
      "Train Loss: 0.40877771136388613 - Train Accuracy: 78.81775626964564\n",
      "Validation Loss: 1.3262589899698893 - Validation Accuracy: 61.523849725622625\n",
      "\n",
      "Epoch 20/100\n"
     ]
    },
    {
     "name": "stderr",
     "output_type": "stream",
     "text": [
      "\n",
      "Training: 100%|██████████| 346/346 [00:04<00:00, 74.35it/s, Loss=0.5054081082344055, Elapsed=4.8640s, ETA=0.0000s] \n",
      "Validating: 100%|██████████| 75/75 [00:01<00:00, 68.53it/s, Loss=2.8598732948303223, Elapsed=1.2901s, ETA=0.0000s]\n"
     ]
    },
    {
     "name": "stdout",
     "output_type": "stream",
     "text": [
      "Epoch 20 completed in 6.2908s\n",
      "Train Loss: 0.37253221266531533 - Train Accuracy: 80.39166911648311\n",
      "Validation Loss: 1.4103670732180278 - Validation Accuracy: 62.31532292106374\n",
      "\n",
      "Epoch 21/100\n"
     ]
    },
    {
     "name": "stderr",
     "output_type": "stream",
     "text": [
      "Training: 100%|██████████| 346/346 [00:04<00:00, 75.40it/s, Loss=0.5575966238975525, Elapsed=4.7985s, ETA=0.0000s] \n",
      "Validating: 100%|██████████| 75/75 [00:01<00:00, 65.00it/s, Loss=3.1589653491973877, Elapsed=1.3602s, ETA=0.0000s]"
     ]
    },
    {
     "name": "stdout",
     "output_type": "stream",
     "text": [
      "Epoch 21 completed in 6.2946s\n",
      "Train Loss: 0.3592433385938578 - Train Accuracy: 81.35275095542842\n",
      "Validation Loss: 1.4444570199648539 - Validation Accuracy: 61.154495567750104\n",
      "\n",
      "Epoch 22/100\n"
     ]
    },
    {
     "name": "stderr",
     "output_type": "stream",
     "text": [
      "\n",
      "Training: 100%|██████████| 346/346 [00:04<00:00, 75.04it/s, Loss=0.33631858229637146, Elapsed=4.8108s, ETA=0.0000s]\n",
      "Validating: 100%|██████████| 75/75 [00:01<00:00, 67.69it/s, Loss=1.9855605363845825, Elapsed=1.3012s, ETA=0.0000s]"
     ]
    },
    {
     "name": "stdout",
     "output_type": "stream",
     "text": [
      "Epoch 22 completed in 6.2564s\n",
      "Train Loss: 0.3324328091620021 - Train Accuracy: 82.3500146988987\n",
      "Validation Loss: 1.5699172353744506 - Validation Accuracy: 62.230899113550024\n",
      "\n",
      "Epoch 23/100\n"
     ]
    },
    {
     "name": "stderr",
     "output_type": "stream",
     "text": [
      "\n",
      "Training: 100%|██████████| 346/346 [00:04<00:00, 74.94it/s, Loss=0.3594439923763275, Elapsed=4.8254s, ETA=0.0000s] \n",
      "Validating: 100%|██████████| 75/75 [00:01<00:00, 65.27it/s, Loss=3.231114149093628, Elapsed=1.3415s, ETA=0.0000s] "
     ]
    },
    {
     "name": "stdout",
     "output_type": "stream",
     "text": [
      "Epoch 23 completed in 6.2996s\n",
      "Train Loss: 0.344598875827872 - Train Accuracy: 82.4404694602112\n",
      "Validation Loss: 1.5655009444554646 - Validation Accuracy: 61.69269734065006\n",
      "\n",
      "Epoch 24/100\n"
     ]
    },
    {
     "name": "stderr",
     "output_type": "stream",
     "text": [
      "\n",
      "Training: 100%|██████████| 346/346 [00:04<00:00, 70.78it/s, Loss=0.10179165750741959, Elapsed=5.0739s, ETA=0.0000s]\n",
      "Validating: 100%|██████████| 75/75 [00:01<00:00, 71.01it/s, Loss=3.444805145263672, Elapsed=1.2532s, ETA=0.0000s] "
     ]
    },
    {
     "name": "stdout",
     "output_type": "stream",
     "text": [
      "Epoch 24 completed in 6.4729s\n",
      "Train Loss: 0.3055365300721171 - Train Accuracy: 83.89226837927681\n",
      "Validation Loss: 1.7004332764943442 - Validation Accuracy: 61.72435626846771\n",
      "\n",
      "Epoch 25/100\n"
     ]
    },
    {
     "name": "stderr",
     "output_type": "stream",
     "text": [
      "\n",
      "Training: 100%|██████████| 346/346 [00:04<00:00, 76.40it/s, Loss=0.3092050850391388, Elapsed=4.7199s, ETA=0.0000s] \n",
      "Validating: 100%|██████████| 75/75 [00:01<00:00, 72.79it/s, Loss=4.4806809425354, Elapsed=1.2334s, ETA=0.0000s]   "
     ]
    },
    {
     "name": "stdout",
     "output_type": "stream",
     "text": [
      "Epoch 25 completed in 6.0886s\n",
      "Train Loss: 0.27941652697462566 - Train Accuracy: 85.16315777571742\n",
      "Validation Loss: 1.735906834602356 - Validation Accuracy: 62.01983959476573\n",
      "\n",
      "Epoch 26/100\n"
     ]
    },
    {
     "name": "stderr",
     "output_type": "stream",
     "text": [
      "\n",
      "Training: 100%|██████████| 346/346 [00:04<00:00, 75.60it/s, Loss=0.243185892701149, Elapsed=4.7798s, ETA=0.0000s]  \n",
      "Validating: 100%|██████████| 75/75 [00:01<00:00, 67.05it/s, Loss=4.4133620262146, Elapsed=1.3070s, ETA=0.0000s]   \n"
     ]
    },
    {
     "name": "stdout",
     "output_type": "stream",
     "text": [
      "Epoch 26 completed in 6.2283s\n",
      "Train Loss: 0.25866140845107893 - Train Accuracy: 85.99081884172678\n",
      "Validation Loss: 1.8174154798189799 - Validation Accuracy: 62.62135922330098\n",
      "\n",
      "Epoch 27/100\n"
     ]
    },
    {
     "name": "stderr",
     "output_type": "stream",
     "text": [
      "Training: 100%|██████████| 346/346 [00:04<00:00, 76.06it/s, Loss=0.266068696975708, Elapsed=4.7320s, ETA=0.0000s]  \n",
      "Validating: 100%|██████████| 75/75 [00:01<00:00, 71.36it/s, Loss=4.189632415771484, Elapsed=1.2292s, ETA=0.0000s] "
     ]
    },
    {
     "name": "stdout",
     "output_type": "stream",
     "text": [
      "Epoch 27 completed in 6.1150s\n",
      "Train Loss: 0.2490312979701971 - Train Accuracy: 86.8478777051627\n",
      "Validation Loss: 1.8837578757603963 - Validation Accuracy: 61.988180666948075\n",
      "\n",
      "Epoch 28/100\n"
     ]
    },
    {
     "name": "stderr",
     "output_type": "stream",
     "text": [
      "\n",
      "Training: 100%|██████████| 346/346 [00:04<00:00, 73.44it/s, Loss=0.4840466380119324, Elapsed=4.9017s, ETA=0.0000s] \n",
      "Validating: 100%|██████████| 75/75 [00:01<00:00, 66.12it/s, Loss=4.145022869110107, Elapsed=1.3112s, ETA=0.0000s] "
     ]
    },
    {
     "name": "stdout",
     "output_type": "stream",
     "text": [
      "Epoch 28 completed in 6.3547s\n",
      "Train Loss: 0.260170679582509 - Train Accuracy: 86.54711562379865\n",
      "Validation Loss: 1.7739049061139425 - Validation Accuracy: 61.523849725622625\n",
      "\n",
      "Epoch 29/100\n"
     ]
    },
    {
     "name": "stderr",
     "output_type": "stream",
     "text": [
      "\n",
      "Training: 100%|██████████| 346/346 [00:04<00:00, 71.42it/s, Loss=0.26574239134788513, Elapsed=5.0363s, ETA=0.0000s]\n",
      "Validating: 100%|██████████| 75/75 [00:01<00:00, 66.07it/s, Loss=3.674403190612793, Elapsed=1.3271s, ETA=0.0000s] "
     ]
    },
    {
     "name": "stdout",
     "output_type": "stream",
     "text": [
      "Epoch 29 completed in 6.4976s\n",
      "Train Loss: 0.22679917998827262 - Train Accuracy: 87.72755025892675\n",
      "Validation Loss: 1.8732126092910766 - Validation Accuracy: 62.062051498522585\n",
      "\n",
      "Epoch 30/100\n"
     ]
    },
    {
     "name": "stderr",
     "output_type": "stream",
     "text": [
      "\n",
      "Training: 100%|██████████| 346/346 [00:04<00:00, 75.83it/s, Loss=0.23827701807022095, Elapsed=4.7521s, ETA=0.0000s]\n",
      "Validating: 100%|██████████| 75/75 [00:01<00:00, 65.00it/s, Loss=4.737969875335693, Elapsed=1.3265s, ETA=0.0000s] "
     ]
    },
    {
     "name": "stdout",
     "output_type": "stream",
     "text": [
      "Epoch 30 completed in 6.2261s\n",
      "Train Loss: 0.21665693772149225 - Train Accuracy: 88.7338594785283\n",
      "Validation Loss: 2.0203501478830974 - Validation Accuracy: 62.50527648796961\n",
      "\n",
      "Epoch 31/100\n"
     ]
    },
    {
     "name": "stderr",
     "output_type": "stream",
     "text": [
      "\n",
      "Training: 100%|██████████| 346/346 [00:04<00:00, 72.13it/s, Loss=0.12354090064764023, Elapsed=5.0060s, ETA=0.0000s]\n",
      "Validating: 100%|██████████| 75/75 [00:01<00:00, 67.09it/s, Loss=5.215616226196289, Elapsed=1.3112s, ETA=0.0000s] "
     ]
    },
    {
     "name": "stdout",
     "output_type": "stream",
     "text": [
      "Epoch 31 completed in 6.4538s\n",
      "Train Loss: 0.20711852795299077 - Train Accuracy: 89.28563352253455\n",
      "Validation Loss: 2.029673638343811 - Validation Accuracy: 61.33389615871676\n",
      "\n",
      "Epoch 32/100\n"
     ]
    },
    {
     "name": "stderr",
     "output_type": "stream",
     "text": [
      "\n",
      "Training: 100%|██████████| 346/346 [00:04<00:00, 74.20it/s, Loss=0.14833146333694458, Elapsed=4.8688s, ETA=0.0000s]\n",
      "Validating: 100%|██████████| 75/75 [00:01<00:00, 70.10it/s, Loss=3.6272077560424805, Elapsed=1.2639s, ETA=0.0000s]"
     ]
    },
    {
     "name": "stdout",
     "output_type": "stream",
     "text": [
      "Epoch 32 completed in 6.2709s\n",
      "Train Loss: 0.2123897778505535 - Train Accuracy: 88.99843965536735\n",
      "Validation Loss: 1.9745673767725627 - Validation Accuracy: 60.911777121148155\n",
      "\n",
      "Epoch 33/100\n"
     ]
    },
    {
     "name": "stderr",
     "output_type": "stream",
     "text": [
      "\n",
      "Training: 100%|██████████| 346/346 [00:05<00:00, 66.75it/s, Loss=0.15627039968967438, Elapsed=5.3713s, ETA=0.0000s]\n",
      "Validating: 100%|██████████| 75/75 [00:01<00:00, 68.69it/s, Loss=5.101343154907227, Elapsed=1.2644s, ETA=0.0000s] "
     ]
    },
    {
     "name": "stdout",
     "output_type": "stream",
     "text": [
      "Epoch 33 completed in 6.7836s\n",
      "Train Loss: 0.2115383563143325 - Train Accuracy: 89.25397435607518\n",
      "Validation Loss: 2.0448699522018434 - Validation Accuracy: 61.23891937526382\n",
      "\n",
      "Epoch 34/100\n"
     ]
    },
    {
     "name": "stderr",
     "output_type": "stream",
     "text": [
      "\n",
      "Training: 100%|██████████| 346/346 [00:04<00:00, 73.99it/s, Loss=0.20695066452026367, Elapsed=4.8629s, ETA=0.0000s]\n",
      "Validating: 100%|██████████| 75/75 [00:01<00:00, 65.84it/s, Loss=4.7712225914001465, Elapsed=1.3398s, ETA=0.0000s]"
     ]
    },
    {
     "name": "stdout",
     "output_type": "stream",
     "text": [
      "Epoch 34 completed in 6.3409s\n",
      "Train Loss: 0.18558258802301622 - Train Accuracy: 90.26254494470952\n",
      "Validation Loss: 2.1451946973800657 - Validation Accuracy: 61.60827353313635\n",
      "\n",
      "Epoch 35/100\n"
     ]
    },
    {
     "name": "stderr",
     "output_type": "stream",
     "text": [
      "\n",
      "Training: 100%|██████████| 346/346 [00:04<00:00, 74.24it/s, Loss=0.1525164246559143, Elapsed=4.8585s, ETA=0.0000s] \n",
      "Validating: 100%|██████████| 75/75 [00:01<00:00, 64.51it/s, Loss=5.130300998687744, Elapsed=1.3422s, ETA=0.0000s] "
     ]
    },
    {
     "name": "stdout",
     "output_type": "stream",
     "text": [
      "Epoch 35 completed in 6.3378s\n",
      "Train Loss: 0.18234861026265028 - Train Accuracy: 90.61531851382827\n",
      "Validation Loss: 2.147424209912618 - Validation Accuracy: 61.26002532714225\n",
      "\n",
      "Epoch 36/100\n"
     ]
    },
    {
     "name": "stderr",
     "output_type": "stream",
     "text": [
      "\n",
      "Training: 100%|██████████| 346/346 [00:04<00:00, 72.33it/s, Loss=0.24157145619392395, Elapsed=4.9719s, ETA=0.0000s]\n",
      "Validating: 100%|██████████| 75/75 [00:01<00:00, 70.97it/s, Loss=6.4420976638793945, Elapsed=1.2427s, ETA=0.0000s]"
     ]
    },
    {
     "name": "stdout",
     "output_type": "stream",
     "text": [
      "Epoch 36 completed in 6.3455s\n",
      "Train Loss: 0.16472060254888038 - Train Accuracy: 91.46559327016575\n",
      "Validation Loss: 2.2152714252471926 - Validation Accuracy: 60.7956943858168\n",
      "\n",
      "Epoch 37/100\n"
     ]
    },
    {
     "name": "stderr",
     "output_type": "stream",
     "text": [
      "\n",
      "Training: 100%|██████████| 346/346 [00:04<00:00, 72.29it/s, Loss=0.16150403022766113, Elapsed=4.9755s, ETA=0.0000s]\n",
      "Validating: 100%|██████████| 75/75 [00:01<00:00, 62.86it/s, Loss=5.636106014251709, Elapsed=1.3894s, ETA=0.0000s] "
     ]
    },
    {
     "name": "stdout",
     "output_type": "stream",
     "text": [
      "Epoch 37 completed in 6.4973s\n",
      "Train Loss: 0.16713853195481906 - Train Accuracy: 91.37061577078764\n",
      "Validation Loss: 2.2366331911087034 - Validation Accuracy: 62.00928661882651\n",
      "\n",
      "Epoch 38/100\n"
     ]
    },
    {
     "name": "stderr",
     "output_type": "stream",
     "text": [
      "\n",
      "Training: 100%|██████████| 346/346 [00:04<00:00, 74.61it/s, Loss=0.14106443524360657, Elapsed=4.8221s, ETA=0.0000s]\n",
      "Validating: 100%|██████████| 75/75 [00:01<00:00, 63.98it/s, Loss=5.27949857711792, Elapsed=1.3697s, ETA=0.0000s]  "
     ]
    },
    {
     "name": "stdout",
     "output_type": "stream",
     "text": [
      "Epoch 38 completed in 6.3340s\n",
      "Train Loss: 0.18080975933571083 - Train Accuracy: 90.96130797584858\n",
      "Validation Loss: 2.2934676456451415 - Validation Accuracy: 60.521317011397215\n",
      "\n",
      "Epoch 39/100\n"
     ]
    },
    {
     "name": "stderr",
     "output_type": "stream",
     "text": [
      "\n",
      "Training: 100%|██████████| 346/346 [00:04<00:00, 76.02it/s, Loss=0.08132831752300262, Elapsed=4.7583s, ETA=0.0000s] \n",
      "Validating: 100%|██████████| 75/75 [00:01<00:00, 67.48it/s, Loss=6.2633538246154785, Elapsed=1.3150s, ETA=0.0000s]"
     ]
    },
    {
     "name": "stdout",
     "output_type": "stream",
     "text": [
      "Epoch 39 completed in 6.2046s\n",
      "Train Loss: 0.1758088286578483 - Train Accuracy: 91.11734243911263\n",
      "Validation Loss: 2.2478414964675903 - Validation Accuracy: 61.63993246095399\n",
      "\n",
      "Epoch 40/100\n"
     ]
    },
    {
     "name": "stderr",
     "output_type": "stream",
     "text": [
      "\n",
      "Training: 100%|██████████| 346/346 [00:04<00:00, 76.24it/s, Loss=0.08809003233909607, Elapsed=4.7507s, ETA=0.0000s]\n",
      "Validating: 100%|██████████| 75/75 [00:01<00:00, 65.90it/s, Loss=5.9289703369140625, Elapsed=1.3293s, ETA=0.0000s]"
     ]
    },
    {
     "name": "stdout",
     "output_type": "stream",
     "text": [
      "Epoch 40 completed in 6.2144s\n",
      "Train Loss: 0.17608861937429865 - Train Accuracy: 91.18744487912981\n",
      "Validation Loss: 2.0861375538508096 - Validation Accuracy: 61.154495567750104\n",
      "\n",
      "Epoch 41/100\n"
     ]
    },
    {
     "name": "stderr",
     "output_type": "stream",
     "text": [
      "\n",
      "Training: 100%|██████████| 346/346 [00:04<00:00, 73.94it/s, Loss=0.12144993990659714, Elapsed=4.8703s, ETA=0.0000s]\n",
      "Validating: 100%|██████████| 75/75 [00:01<00:00, 67.05it/s, Loss=4.852737903594971, Elapsed=1.3112s, ETA=0.0000s] "
     ]
    },
    {
     "name": "stdout",
     "output_type": "stream",
     "text": [
      "Epoch 41 completed in 6.3173s\n",
      "Train Loss: 0.1662199110051111 - Train Accuracy: 91.6171049953642\n",
      "Validation Loss: 2.243528288205465 - Validation Accuracy: 61.2916842549599\n",
      "\n",
      "Epoch 42/100\n"
     ]
    },
    {
     "name": "stderr",
     "output_type": "stream",
     "text": [
      "\n",
      "Training: 100%|██████████| 346/346 [00:04<00:00, 74.24it/s, Loss=0.06561008095741272, Elapsed=4.8604s, ETA=0.0000s]\n",
      "Validating: 100%|██████████| 75/75 [00:01<00:00, 61.91it/s, Loss=8.235187530517578, Elapsed=1.4004s, ETA=0.0000s] "
     ]
    },
    {
     "name": "stdout",
     "output_type": "stream",
     "text": [
      "Epoch 42 completed in 6.3992s\n",
      "Train Loss: 0.14738295403863652 - Train Accuracy: 92.61889147690012\n",
      "Validation Loss: 2.4197538153330487 - Validation Accuracy: 62.25200506542845\n",
      "\n",
      "Epoch 43/100\n"
     ]
    },
    {
     "name": "stderr",
     "output_type": "stream",
     "text": [
      "\n",
      "Training: 100%|██████████| 346/346 [00:04<00:00, 73.39it/s, Loss=0.22409950196743011, Elapsed=4.8932s, ETA=0.0000s]\n",
      "Validating: 100%|██████████| 75/75 [00:01<00:00, 65.68it/s, Loss=6.751028537750244, Elapsed=1.3453s, ETA=0.0000s] "
     ]
    },
    {
     "name": "stdout",
     "output_type": "stream",
     "text": [
      "Epoch 43 completed in 6.3802s\n",
      "Train Loss: 0.15014638608547648 - Train Accuracy: 92.57592546527668\n",
      "Validation Loss: 2.336885552406311 - Validation Accuracy: 61.71380329252849\n",
      "\n",
      "Epoch 44/100\n"
     ]
    },
    {
     "name": "stderr",
     "output_type": "stream",
     "text": [
      "\n",
      "Training: 100%|██████████| 346/346 [00:04<00:00, 73.85it/s, Loss=0.10531190037727356, Elapsed=4.8730s, ETA=0.0000s]\n",
      "Validating: 100%|██████████| 75/75 [00:01<00:00, 62.19it/s, Loss=3.5622453689575195, Elapsed=1.3820s, ETA=0.0000s]"
     ]
    },
    {
     "name": "stdout",
     "output_type": "stream",
     "text": [
      "Epoch 44 completed in 6.3949s\n",
      "Train Loss: 0.14825015032739308 - Train Accuracy: 92.53974356075167\n",
      "Validation Loss: 2.3316968854268394 - Validation Accuracy: 61.72435626846771\n",
      "\n",
      "Epoch 45/100\n"
     ]
    },
    {
     "name": "stderr",
     "output_type": "stream",
     "text": [
      "\n",
      "Training: 100%|██████████| 346/346 [00:04<00:00, 75.36it/s, Loss=0.23043081164360046, Elapsed=4.7804s, ETA=0.0000s] \n",
      "Validating: 100%|██████████| 75/75 [00:01<00:00, 71.51it/s, Loss=4.134963035583496, Elapsed=1.2523s, ETA=0.0000s] "
     ]
    },
    {
     "name": "stdout",
     "output_type": "stream",
     "text": [
      "Epoch 45 completed in 6.1639s\n",
      "Train Loss: 0.13492005019088013 - Train Accuracy: 93.3425295674001\n",
      "Validation Loss: 2.366092627843221 - Validation Accuracy: 61.76656817222457\n",
      "\n",
      "Epoch 46/100\n"
     ]
    },
    {
     "name": "stderr",
     "output_type": "stream",
     "text": [
      "\n",
      "Training: 100%|██████████| 346/346 [00:04<00:00, 78.46it/s, Loss=0.09436526149511337, Elapsed=4.6222s, ETA=0.0000s]\n",
      "Validating: 100%|██████████| 75/75 [00:01<00:00, 63.10it/s, Loss=4.577006816864014, Elapsed=1.3747s, ETA=0.0000s] "
     ]
    },
    {
     "name": "stdout",
     "output_type": "stream",
     "text": [
      "Epoch 46 completed in 6.1278s\n",
      "Train Loss: 0.1407576193333189 - Train Accuracy: 93.17292688993916\n",
      "Validation Loss: 2.4117804606755575 - Validation Accuracy: 61.84043900379908\n",
      "\n",
      "Epoch 47/100\n"
     ]
    },
    {
     "name": "stderr",
     "output_type": "stream",
     "text": [
      "\n",
      "Training: 100%|██████████| 346/346 [00:04<00:00, 70.94it/s, Loss=0.14892859756946564, Elapsed=5.0638s, ETA=0.0000s] \n",
      "Validating: 100%|██████████| 75/75 [00:01<00:00, 69.56it/s, Loss=5.297430515289307, Elapsed=1.2550s, ETA=0.0000s] "
     ]
    },
    {
     "name": "stdout",
     "output_type": "stream",
     "text": [
      "Epoch 47 completed in 6.4577s\n",
      "Train Loss: 0.13142239680309173 - Train Accuracy: 93.6478143868298\n",
      "Validation Loss: 2.5136232503255207 - Validation Accuracy: 61.682144364710844\n",
      "\n",
      "Epoch 48/100\n"
     ]
    },
    {
     "name": "stderr",
     "output_type": "stream",
     "text": [
      "\n",
      "Training: 100%|██████████| 346/346 [00:04<00:00, 73.65it/s, Loss=0.15877097845077515, Elapsed=4.8819s, ETA=0.0000s]\n",
      "Validating: 100%|██████████| 75/75 [00:01<00:00, 67.70it/s, Loss=8.28032398223877, Elapsed=1.3025s, ETA=0.0000s]  "
     ]
    },
    {
     "name": "stdout",
     "output_type": "stream",
     "text": [
      "Epoch 48 completed in 6.3231s\n",
      "Train Loss: 0.14669234901020636 - Train Accuracy: 92.92643766536261\n",
      "Validation Loss: 2.327850662867228 - Validation Accuracy: 61.756015196285354\n",
      "\n",
      "Epoch 49/100\n"
     ]
    },
    {
     "name": "stderr",
     "output_type": "stream",
     "text": [
      "\n",
      "Training: 100%|██████████| 346/346 [00:04<00:00, 72.58it/s, Loss=0.057221535593271255, Elapsed=4.9755s, ETA=0.0000s]\n",
      "Validating: 100%|██████████| 75/75 [00:01<00:00, 65.05it/s, Loss=5.029455184936523, Elapsed=1.3333s, ETA=0.0000s] "
     ]
    },
    {
     "name": "stdout",
     "output_type": "stream",
     "text": [
      "Epoch 49 completed in 6.4398s\n",
      "Train Loss: 0.12069200960154823 - Train Accuracy: 94.14531557404852\n",
      "Validation Loss: 2.457218117713928 - Validation Accuracy: 61.682144364710844\n",
      "\n",
      "Epoch 50/100\n"
     ]
    },
    {
     "name": "stderr",
     "output_type": "stream",
     "text": [
      "\n",
      "Training: 100%|██████████| 346/346 [00:04<00:00, 71.73it/s, Loss=0.15580347180366516, Elapsed=5.0179s, ETA=0.0000s] \n",
      "Validating: 100%|██████████| 75/75 [00:01<00:00, 67.73it/s, Loss=3.610339641571045, Elapsed=1.2996s, ETA=0.0000s] "
     ]
    },
    {
     "name": "stdout",
     "output_type": "stream",
     "text": [
      "Epoch 50 completed in 6.4529s\n",
      "Train Loss: 0.13518000691267795 - Train Accuracy: 93.61163248230478\n",
      "Validation Loss: 2.4439078172047934 - Validation Accuracy: 62.36808780075982\n",
      "\n",
      "Epoch 51/100\n"
     ]
    },
    {
     "name": "stderr",
     "output_type": "stream",
     "text": [
      "\n",
      "Training: 100%|██████████| 346/346 [00:04<00:00, 73.53it/s, Loss=0.11897914856672287, Elapsed=4.9041s, ETA=0.0000s] \n",
      "Validating: 100%|██████████| 75/75 [00:01<00:00, 66.83it/s, Loss=4.413168430328369, Elapsed=1.3076s, ETA=0.0000s] "
     ]
    },
    {
     "name": "stdout",
     "output_type": "stream",
     "text": [
      "Epoch 51 completed in 6.3624s\n",
      "Train Loss: 0.13485187969326629 - Train Accuracy: 93.48273444743448\n",
      "Validation Loss: 2.4743412288029987 - Validation Accuracy: 62.08315745040102\n",
      "\n",
      "Epoch 52/100\n"
     ]
    },
    {
     "name": "stderr",
     "output_type": "stream",
     "text": [
      "\n",
      "Training: 100%|██████████| 346/346 [00:04<00:00, 69.99it/s, Loss=0.04667637124657631, Elapsed=5.1424s, ETA=0.0000s] \n",
      "Validating: 100%|██████████| 75/75 [00:01<00:00, 66.46it/s, Loss=6.079598903656006, Elapsed=1.3424s, ETA=0.0000s] \n"
     ]
    },
    {
     "name": "stdout",
     "output_type": "stream",
     "text": [
      "Epoch 52 completed in 6.6206s\n",
      "Train Loss: 0.11951679487664231 - Train Accuracy: 94.1588837882454\n",
      "Validation Loss: 2.608357671101888 - Validation Accuracy: 62.38919375263824\n",
      "\n",
      "Epoch 53/100\n"
     ]
    },
    {
     "name": "stderr",
     "output_type": "stream",
     "text": [
      "Training: 100%|██████████| 346/346 [00:04<00:00, 72.91it/s, Loss=0.1767151802778244, Elapsed=4.9487s, ETA=0.0000s]  \n",
      "Validating: 100%|██████████| 75/75 [00:01<00:00, 72.16it/s, Loss=4.375677108764648, Elapsed=1.2461s, ETA=0.0000s] \n"
     ]
    },
    {
     "name": "stdout",
     "output_type": "stream",
     "text": [
      "Epoch 53 completed in 6.3258s\n",
      "Train Loss: 0.12043166239180661 - Train Accuracy: 94.27421360891884\n",
      "Validation Loss: 2.4448247241973875 - Validation Accuracy: 60.922330097087375\n",
      "\n",
      "Epoch 54/100\n"
     ]
    },
    {
     "name": "stderr",
     "output_type": "stream",
     "text": [
      "Training: 100%|██████████| 346/346 [00:04<00:00, 74.28it/s, Loss=0.10843811929225922, Elapsed=4.8624s, ETA=0.0000s] \n",
      "Validating: 100%|██████████| 75/75 [00:01<00:00, 62.80it/s, Loss=7.482761383056641, Elapsed=1.3771s, ETA=0.0000s] "
     ]
    },
    {
     "name": "stdout",
     "output_type": "stream",
     "text": [
      "Epoch 54 completed in 6.3838s\n",
      "Train Loss: 0.11284150693544073 - Train Accuracy: 94.54105515479071\n",
      "Validation Loss: 2.5601774056752524 - Validation Accuracy: 61.54495567750106\n",
      "\n",
      "Epoch 55/100\n"
     ]
    },
    {
     "name": "stderr",
     "output_type": "stream",
     "text": [
      "\n",
      "Training: 100%|██████████| 346/346 [00:04<00:00, 74.69it/s, Loss=0.0571381077170372, Elapsed=4.8346s, ETA=0.0000s]  \n",
      "Validating: 100%|██████████| 75/75 [00:01<00:00, 67.19it/s, Loss=4.468963623046875, Elapsed=1.3121s, ETA=0.0000s] "
     ]
    },
    {
     "name": "stdout",
     "output_type": "stream",
     "text": [
      "Epoch 55 completed in 6.2828s\n",
      "Train Loss: 0.12021086929161424 - Train Accuracy: 94.16340652631104\n",
      "Validation Loss: 2.6214254506429038 - Validation Accuracy: 62.125369354157876\n",
      "\n",
      "Epoch 56/100\n"
     ]
    },
    {
     "name": "stderr",
     "output_type": "stream",
     "text": [
      "\n",
      "Training: 100%|██████████| 346/346 [00:04<00:00, 72.10it/s, Loss=0.17452870309352875, Elapsed=4.9945s, ETA=0.0000s] \n",
      "Validating: 100%|██████████| 75/75 [00:01<00:00, 66.18it/s, Loss=4.707133769989014, Elapsed=1.3350s, ETA=0.0000s] "
     ]
    },
    {
     "name": "stdout",
     "output_type": "stream",
     "text": [
      "Epoch 56 completed in 6.4654s\n",
      "Train Loss: 0.1145410119270572 - Train Accuracy: 94.5026118812329\n",
      "Validation Loss: 2.531153127352397 - Validation Accuracy: 61.207260447446174\n",
      "\n",
      "Epoch 57/100\n"
     ]
    },
    {
     "name": "stderr",
     "output_type": "stream",
     "text": [
      "\n",
      "Training: 100%|██████████| 346/346 [00:04<00:00, 73.20it/s, Loss=0.08804645389318466, Elapsed=4.9291s, ETA=0.0000s] \n",
      "Validating: 100%|██████████| 75/75 [00:01<00:00, 70.80it/s, Loss=5.2767229080200195, Elapsed=1.2403s, ETA=0.0000s]"
     ]
    },
    {
     "name": "stdout",
     "output_type": "stream",
     "text": [
      "Epoch 57 completed in 6.3067s\n",
      "Train Loss: 0.11531288509467089 - Train Accuracy: 94.48678229800322\n",
      "Validation Loss: 2.596388308207194 - Validation Accuracy: 61.69269734065006\n",
      "\n",
      "Epoch 58/100\n"
     ]
    },
    {
     "name": "stderr",
     "output_type": "stream",
     "text": [
      "\n",
      "Training: 100%|██████████| 346/346 [00:04<00:00, 72.57it/s, Loss=0.17081573605537415, Elapsed=4.9571s, ETA=0.0000s] \n",
      "Validating: 100%|██████████| 75/75 [00:01<00:00, 67.93it/s, Loss=4.910547733306885, Elapsed=1.3145s, ETA=0.0000s] "
     ]
    },
    {
     "name": "stdout",
     "output_type": "stream",
     "text": [
      "Epoch 58 completed in 6.4036s\n",
      "Train Loss: 0.11455528064485575 - Train Accuracy: 94.74683973677665\n",
      "Validation Loss: 2.6409122546513877 - Validation Accuracy: 61.344449134655974\n",
      "\n",
      "Epoch 59/100\n"
     ]
    },
    {
     "name": "stderr",
     "output_type": "stream",
     "text": [
      "\n",
      "Training: 100%|██████████| 346/346 [00:04<00:00, 75.67it/s, Loss=0.131048783659935, Elapsed=4.7768s, ETA=0.0000s]   \n",
      "Validating: 100%|██████████| 75/75 [00:01<00:00, 62.65it/s, Loss=6.865955829620361, Elapsed=1.3858s, ETA=0.0000s] "
     ]
    },
    {
     "name": "stdout",
     "output_type": "stream",
     "text": [
      "Epoch 59 completed in 6.3007s\n",
      "Train Loss: 0.11150284226703851 - Train Accuracy: 94.71065783225164\n",
      "Validation Loss: 2.616223923365275 - Validation Accuracy: 62.20979316167159\n",
      "\n",
      "Epoch 60/100\n"
     ]
    },
    {
     "name": "stderr",
     "output_type": "stream",
     "text": [
      "\n",
      "Training: 100%|██████████| 346/346 [00:04<00:00, 73.08it/s, Loss=0.0649724006652832, Elapsed=4.9316s, ETA=0.0000s]  \n",
      "Validating: 100%|██████████| 75/75 [00:01<00:00, 63.95it/s, Loss=5.298793315887451, Elapsed=1.3603s, ETA=0.0000s] "
     ]
    },
    {
     "name": "stdout",
     "output_type": "stream",
     "text": [
      "Epoch 60 completed in 6.4235s\n",
      "Train Loss: 0.10616761948805668 - Train Accuracy: 95.00237443748445\n",
      "Validation Loss: 2.688673036893209 - Validation Accuracy: 62.167581257914726\n",
      "\n",
      "Epoch 61/100\n"
     ]
    },
    {
     "name": "stderr",
     "output_type": "stream",
     "text": [
      "\n",
      "Training: 100%|██████████| 346/346 [00:04<00:00, 73.93it/s, Loss=0.09763497114181519, Elapsed=4.8639s, ETA=0.0000s] \n",
      "Validating: 100%|██████████| 75/75 [00:01<00:00, 64.77it/s, Loss=4.905664920806885, Elapsed=1.3511s, ETA=0.0000s] "
     ]
    },
    {
     "name": "stdout",
     "output_type": "stream",
     "text": [
      "Epoch 61 completed in 6.3562s\n",
      "Train Loss: 0.1085147387105864 - Train Accuracy: 94.89382872390945\n",
      "Validation Loss: 2.5759820985794066 - Validation Accuracy: 62.18868720979316\n",
      "\n",
      "Epoch 62/100\n"
     ]
    },
    {
     "name": "stderr",
     "output_type": "stream",
     "text": [
      "\n",
      "Training: 100%|██████████| 346/346 [00:04<00:00, 77.10it/s, Loss=0.11643112450838089, Elapsed=4.6819s, ETA=0.0000s] \n",
      "Validating: 100%|██████████| 75/75 [00:01<00:00, 70.97it/s, Loss=7.993870735168457, Elapsed=1.2564s, ETA=0.0000s] \n"
     ]
    },
    {
     "name": "stdout",
     "output_type": "stream",
     "text": [
      "Epoch 62 completed in 6.0780s\n",
      "Train Loss: 0.10249087841093885 - Train Accuracy: 95.2827841975532\n",
      "Validation Loss: 2.718534657160441 - Validation Accuracy: 62.473617560151965\n",
      "\n",
      "Epoch 63/100\n"
     ]
    },
    {
     "name": "stderr",
     "output_type": "stream",
     "text": [
      "Training: 100%|██████████| 346/346 [00:04<00:00, 75.78it/s, Loss=0.4134828746318817, Elapsed=4.7744s, ETA=0.0000s]  \n",
      "Validating: 100%|██████████| 75/75 [00:01<00:00, 68.96it/s, Loss=4.61835241317749, Elapsed=1.2738s, ETA=0.0000s]  "
     ]
    },
    {
     "name": "stdout",
     "output_type": "stream",
     "text": [
      "Epoch 63 completed in 6.1790s\n",
      "Train Loss: 0.0935096283836258 - Train Accuracy: 95.51796657696569\n",
      "Validation Loss: 2.654056879679362 - Validation Accuracy: 62.0726044744618\n",
      "\n",
      "Epoch 64/100\n"
     ]
    },
    {
     "name": "stderr",
     "output_type": "stream",
     "text": [
      "\n",
      "Training: 100%|██████████| 346/346 [00:05<00:00, 68.84it/s, Loss=0.05741814151406288, Elapsed=5.2167s, ETA=0.0000s] \n",
      "Validating: 100%|██████████| 75/75 [00:01<00:00, 65.08it/s, Loss=2.402488946914673, Elapsed=1.3420s, ETA=0.0000s] "
     ]
    },
    {
     "name": "stdout",
     "output_type": "stream",
     "text": [
      "Epoch 64 completed in 6.7101s\n",
      "Train Loss: 0.10921504075848901 - Train Accuracy: 94.94810158069696\n",
      "Validation Loss: 2.58153134504954 - Validation Accuracy: 61.281131279020684\n",
      "\n",
      "Epoch 65/100\n"
     ]
    },
    {
     "name": "stderr",
     "output_type": "stream",
     "text": [
      "\n",
      "Training: 100%|██████████| 346/346 [00:04<00:00, 73.48it/s, Loss=0.10369888693094254, Elapsed=4.8935s, ETA=0.0000s] \n",
      "Validating: 100%|██████████| 75/75 [00:01<00:00, 63.14it/s, Loss=3.56547474861145, Elapsed=1.3844s, ETA=0.0000s]  "
     ]
    },
    {
     "name": "stdout",
     "output_type": "stream",
     "text": [
      "Epoch 65 completed in 6.4244s\n",
      "Train Loss: 0.10693692238839893 - Train Accuracy: 94.9187037832704\n",
      "Validation Loss: 2.7126738341649372 - Validation Accuracy: 62.33642887294217\n",
      "\n",
      "Epoch 66/100\n"
     ]
    },
    {
     "name": "stderr",
     "output_type": "stream",
     "text": [
      "\n",
      "Training: 100%|██████████| 346/346 [00:04<00:00, 74.72it/s, Loss=0.041452955454587936, Elapsed=4.8292s, ETA=0.0000s]\n",
      "Validating: 100%|██████████| 75/75 [00:01<00:00, 67.13it/s, Loss=2.465866804122925, Elapsed=1.3131s, ETA=0.0000s] "
     ]
    },
    {
     "name": "stdout",
     "output_type": "stream",
     "text": [
      "Epoch 66 completed in 6.2782s\n",
      "Train Loss: 0.0928982500029954 - Train Accuracy: 95.58128490988445\n",
      "Validation Loss: 2.720181353886922 - Validation Accuracy: 62.5685943436049\n",
      "\n",
      "Epoch 67/100\n"
     ]
    },
    {
     "name": "stderr",
     "output_type": "stream",
     "text": [
      "\n",
      "Training: 100%|██████████| 346/346 [00:04<00:00, 74.23it/s, Loss=0.29811370372772217, Elapsed=4.8472s, ETA=0.0000s] \n",
      "Validating: 100%|██████████| 75/75 [00:01<00:00, 66.80it/s, Loss=3.211817979812622, Elapsed=1.3148s, ETA=0.0000s] "
     ]
    },
    {
     "name": "stdout",
     "output_type": "stream",
     "text": [
      "Epoch 67 completed in 6.3089s\n",
      "Train Loss: 0.09397766217212543 - Train Accuracy: 95.73279663508288\n",
      "Validation Loss: 2.8762018569310506 - Validation Accuracy: 62.5685943436049\n",
      "\n",
      "Epoch 68/100\n"
     ]
    },
    {
     "name": "stderr",
     "output_type": "stream",
     "text": [
      "\n",
      "Training: 100%|██████████| 346/346 [00:04<00:00, 74.71it/s, Loss=0.14270572364330292, Elapsed=4.8319s, ETA=0.0000s] \n",
      "Validating: 100%|██████████| 75/75 [00:01<00:00, 69.60it/s, Loss=5.228116035461426, Elapsed=1.2661s, ETA=0.0000s] "
     ]
    },
    {
     "name": "stdout",
     "output_type": "stream",
     "text": [
      "Epoch 68 completed in 6.2340s\n",
      "Train Loss: 0.091687153857955 - Train Accuracy: 95.67852377829537\n",
      "Validation Loss: 2.7688155460357664 - Validation Accuracy: 62.44195863233431\n",
      "\n",
      "Epoch 69/100\n"
     ]
    },
    {
     "name": "stderr",
     "output_type": "stream",
     "text": [
      "\n",
      "Training: 100%|██████████| 346/346 [00:04<00:00, 74.13it/s, Loss=0.10931272059679031, Elapsed=4.8621s, ETA=0.0000s] \n",
      "Validating: 100%|██████████| 75/75 [00:01<00:00, 63.60it/s, Loss=3.851097583770752, Elapsed=1.3826s, ETA=0.0000s] "
     ]
    },
    {
     "name": "stdout",
     "output_type": "stream",
     "text": [
      "Epoch 69 completed in 6.3877s\n",
      "Train Loss: 0.10533814019162875 - Train Accuracy: 95.04986318717351\n",
      "Validation Loss: 2.57357172648112 - Validation Accuracy: 61.27057830308147\n",
      "\n",
      "Epoch 70/100\n"
     ]
    },
    {
     "name": "stderr",
     "output_type": "stream",
     "text": [
      "\n",
      "Training: 100%|██████████| 346/346 [00:04<00:00, 73.66it/s, Loss=0.04943777248263359, Elapsed=4.8855s, ETA=0.0000s] \n",
      "Validating: 100%|██████████| 75/75 [00:01<00:00, 64.09it/s, Loss=3.4169633388519287, Elapsed=1.3711s, ETA=0.0000s]"
     ]
    },
    {
     "name": "stdout",
     "output_type": "stream",
     "text": [
      "Epoch 70 completed in 6.3897s\n",
      "Train Loss: 0.10452670559308605 - Train Accuracy: 95.12901110332194\n",
      "Validation Loss: 2.702957229614258 - Validation Accuracy: 61.682144364710844\n",
      "\n",
      "Epoch 71/100\n"
     ]
    },
    {
     "name": "stderr",
     "output_type": "stream",
     "text": [
      "\n",
      "Training: 100%|██████████| 346/346 [00:04<00:00, 75.17it/s, Loss=0.027391688898205757, Elapsed=4.8011s, ETA=0.0000s]\n",
      "Validating: 100%|██████████| 75/75 [00:01<00:00, 68.07it/s, Loss=3.364795207977295, Elapsed=1.3094s, ETA=0.0000s] "
     ]
    },
    {
     "name": "stdout",
     "output_type": "stream",
     "text": [
      "Epoch 71 completed in 6.2552s\n",
      "Train Loss: 0.10141842940962212 - Train Accuracy: 95.42977318468601\n",
      "Validation Loss: 2.6768071381251017 - Validation Accuracy: 62.37864077669902\n",
      "\n",
      "Epoch 72/100\n"
     ]
    },
    {
     "name": "stderr",
     "output_type": "stream",
     "text": [
      "\n",
      "Training: 100%|██████████| 346/346 [00:04<00:00, 75.65it/s, Loss=0.27616405487060547, Elapsed=4.7730s, ETA=0.0000s] \n",
      "Validating: 100%|██████████| 75/75 [00:01<00:00, 61.49it/s, Loss=3.406669855117798, Elapsed=1.4195s, ETA=0.0000s] "
     ]
    },
    {
     "name": "stdout",
     "output_type": "stream",
     "text": [
      "Epoch 72 completed in 6.3287s\n",
      "Train Loss: 0.09182174229789848 - Train Accuracy: 95.8820469912485\n",
      "Validation Loss: 2.7564171346028647 - Validation Accuracy: 62.600253271422545\n",
      "\n",
      "Epoch 73/100\n"
     ]
    },
    {
     "name": "stderr",
     "output_type": "stream",
     "text": [
      "\n",
      "Training: 100%|██████████| 346/346 [00:04<00:00, 71.60it/s, Loss=0.03937802463769913, Elapsed=5.0359s, ETA=0.0000s] \n",
      "Validating: 100%|██████████| 75/75 [00:01<00:00, 65.17it/s, Loss=3.2817468643188477, Elapsed=1.3336s, ETA=0.0000s]"
     ]
    },
    {
     "name": "stdout",
     "output_type": "stream",
     "text": [
      "Epoch 73 completed in 6.5217s\n",
      "Train Loss: 0.09858702479544058 - Train Accuracy: 95.54736437439225\n",
      "Validation Loss: 2.6006159162521363 - Validation Accuracy: 62.01983959476573\n",
      "\n",
      "Epoch 74/100\n"
     ]
    },
    {
     "name": "stderr",
     "output_type": "stream",
     "text": [
      "\n",
      "Training: 100%|██████████| 346/346 [00:04<00:00, 73.19it/s, Loss=0.17445765435695648, Elapsed=4.9330s, ETA=0.0000s] \n",
      "Validating: 100%|██████████| 75/75 [00:01<00:00, 70.29it/s, Loss=3.792543649673462, Elapsed=1.2538s, ETA=0.0000s] "
     ]
    },
    {
     "name": "stdout",
     "output_type": "stream",
     "text": [
      "Epoch 74 completed in 6.3236s\n",
      "Train Loss: 0.0943146035064421 - Train Accuracy: 95.73505800411569\n",
      "Validation Loss: 2.736055099169413 - Validation Accuracy: 62.31532292106374\n",
      "\n",
      "Epoch 75/100\n"
     ]
    },
    {
     "name": "stderr",
     "output_type": "stream",
     "text": [
      "\n",
      "Training: 100%|██████████| 346/346 [00:04<00:00, 72.66it/s, Loss=0.027588799595832825, Elapsed=4.9624s, ETA=0.0000s]\n",
      "Validating: 100%|██████████| 75/75 [00:01<00:00, 67.19it/s, Loss=3.163827419281006, Elapsed=1.3114s, ETA=0.0000s] "
     ]
    },
    {
     "name": "stdout",
     "output_type": "stream",
     "text": [
      "Epoch 75 completed in 6.4087s\n",
      "Train Loss: 0.0924490257677746 - Train Accuracy: 95.68756925442663\n",
      "Validation Loss: 2.6737157917022705 - Validation Accuracy: 61.71380329252849\n",
      "\n",
      "Epoch 76/100\n"
     ]
    },
    {
     "name": "stderr",
     "output_type": "stream",
     "text": [
      "\n",
      "Training: 100%|██████████| 346/346 [00:04<00:00, 74.51it/s, Loss=0.2276257872581482, Elapsed=4.8289s, ETA=0.0000s]  \n",
      "Validating: 100%|██████████| 75/75 [00:01<00:00, 67.32it/s, Loss=3.12699294090271, Elapsed=1.3051s, ETA=0.0000s]  "
     ]
    },
    {
     "name": "stdout",
     "output_type": "stream",
     "text": [
      "Epoch 76 completed in 6.2772s\n",
      "Train Loss: 0.08636988841557089 - Train Accuracy: 96.23255919133443\n",
      "Validation Loss: 2.8554533894856773 - Validation Accuracy: 61.745462220346134\n",
      "\n",
      "Epoch 77/100\n"
     ]
    },
    {
     "name": "stderr",
     "output_type": "stream",
     "text": [
      "\n",
      "Training: 100%|██████████| 346/346 [00:04<00:00, 69.37it/s, Loss=0.04820389300584793, Elapsed=5.1128s, ETA=0.0000s] \n",
      "Validating: 100%|██████████| 75/75 [00:01<00:00, 70.95it/s, Loss=3.4855875968933105, Elapsed=1.2564s, ETA=0.0000s]"
     ]
    },
    {
     "name": "stdout",
     "output_type": "stream",
     "text": [
      "Epoch 77 completed in 6.5842s\n",
      "Train Loss: 0.08491178832657506 - Train Accuracy: 95.95214943126568\n",
      "Validation Loss: 2.698349857330322 - Validation Accuracy: 61.84043900379908\n",
      "\n",
      "Epoch 78/100\n"
     ]
    },
    {
     "name": "stderr",
     "output_type": "stream",
     "text": [
      "\n",
      "Training: 100%|██████████| 346/346 [00:04<00:00, 74.81it/s, Loss=0.06772546470165253, Elapsed=4.8323s, ETA=0.0000s] \n",
      "Validating: 100%|██████████| 75/75 [00:01<00:00, 64.48it/s, Loss=3.7162024974823, Elapsed=1.3471s, ETA=0.0000s]   "
     ]
    },
    {
     "name": "stdout",
     "output_type": "stream",
     "text": [
      "Epoch 78 completed in 6.3143s\n",
      "Train Loss: 0.09211430713168287 - Train Accuracy: 95.88430836028131\n",
      "Validation Loss: 2.8175012334187826 - Validation Accuracy: 62.230899113550024\n",
      "\n",
      "Epoch 79/100\n"
     ]
    },
    {
     "name": "stderr",
     "output_type": "stream",
     "text": [
      "\n",
      "Training: 100%|██████████| 346/346 [00:05<00:00, 61.87it/s, Loss=0.05361618101596832, Elapsed=5.7612s, ETA=0.0000s] \n",
      "Validating: 100%|██████████| 75/75 [00:01<00:00, 61.67it/s, Loss=3.050989866256714, Elapsed=1.4032s, ETA=0.0000s] "
     ]
    },
    {
     "name": "stdout",
     "output_type": "stream",
     "text": [
      "Epoch 79 completed in 7.3224s\n",
      "Train Loss: 0.08437612455478208 - Train Accuracy: 96.11496800162818\n",
      "Validation Loss: 2.7051886733373007 - Validation Accuracy: 62.51582946390882\n",
      "\n",
      "Epoch 80/100\n"
     ]
    },
    {
     "name": "stderr",
     "output_type": "stream",
     "text": [
      "\n",
      "Training: 100%|██████████| 346/346 [00:05<00:00, 68.95it/s, Loss=0.18367145955562592, Elapsed=5.1888s, ETA=0.0000s] \n",
      "Validating: 100%|██████████| 75/75 [00:01<00:00, 67.93it/s, Loss=1.943483829498291, Elapsed=1.2838s, ETA=0.0000s] "
     ]
    },
    {
     "name": "stdout",
     "output_type": "stream",
     "text": [
      "Epoch 80 completed in 6.6261s\n",
      "Train Loss: 0.08497847395416112 - Train Accuracy: 96.16245675131725\n",
      "Validation Loss: 2.5755106449127196 - Validation Accuracy: 61.935415787252005\n",
      "\n",
      "Epoch 81/100\n"
     ]
    },
    {
     "name": "stderr",
     "output_type": "stream",
     "text": [
      "\n",
      "Training: 100%|██████████| 346/346 [00:05<00:00, 66.52it/s, Loss=0.06803035736083984, Elapsed=5.3904s, ETA=0.0000s] \n",
      "Validating: 100%|██████████| 75/75 [00:01<00:00, 70.64it/s, Loss=3.0092263221740723, Elapsed=1.2495s, ETA=0.0000s]"
     ]
    },
    {
     "name": "stdout",
     "output_type": "stream",
     "text": [
      "Epoch 81 completed in 6.7887s\n",
      "Train Loss: 0.08325026869623131 - Train Accuracy: 96.27100246489223\n",
      "Validation Loss: 2.753341112136841 - Validation Accuracy: 62.15702828197551\n",
      "\n",
      "Epoch 82/100\n"
     ]
    },
    {
     "name": "stderr",
     "output_type": "stream",
     "text": [
      "\n",
      "Training: 100%|██████████| 346/346 [00:05<00:00, 68.46it/s, Loss=0.04035669192671776, Elapsed=5.2436s, ETA=0.0000s] \n",
      "Validating: 100%|██████████| 75/75 [00:01<00:00, 64.66it/s, Loss=1.9619896411895752, Elapsed=1.3550s, ETA=0.0000s]"
     ]
    },
    {
     "name": "stdout",
     "output_type": "stream",
     "text": [
      "Epoch 82 completed in 6.7443s\n",
      "Train Loss: 0.08960531520619558 - Train Accuracy: 96.13984306098912\n",
      "Validation Loss: 2.675607509613037 - Validation Accuracy: 61.449978894048115\n",
      "\n",
      "Epoch 83/100\n"
     ]
    },
    {
     "name": "stderr",
     "output_type": "stream",
     "text": [
      "\n",
      "Training: 100%|██████████| 346/346 [00:05<00:00, 61.92it/s, Loss=0.177217498421669, Elapsed=5.7642s, ETA=0.0000s]   \n",
      "Validating: 100%|██████████| 75/75 [00:01<00:00, 66.06it/s, Loss=2.0394177436828613, Elapsed=1.3281s, ETA=0.0000s]"
     ]
    },
    {
     "name": "stdout",
     "output_type": "stream",
     "text": [
      "Epoch 83 completed in 7.2707s\n",
      "Train Loss: 0.08632419415550426 - Train Accuracy: 96.1511499061532\n",
      "Validation Loss: 2.5820656538009645 - Validation Accuracy: 62.38919375263824\n",
      "\n",
      "Epoch 84/100\n"
     ]
    },
    {
     "name": "stderr",
     "output_type": "stream",
     "text": [
      "\n",
      "Training: 100%|██████████| 346/346 [00:05<00:00, 65.98it/s, Loss=0.2875775396823883, Elapsed=5.4363s, ETA=0.0000s]  \n",
      "Validating: 100%|██████████| 75/75 [00:01<00:00, 69.30it/s, Loss=4.029217720031738, Elapsed=1.2861s, ETA=0.0000s] \n"
     ]
    },
    {
     "name": "stdout",
     "output_type": "stream",
     "text": [
      "Epoch 84 completed in 6.8728s\n",
      "Train Loss: 0.08859433079235299 - Train Accuracy: 96.04260419257818\n",
      "Validation Loss: 2.8285869344075523 - Validation Accuracy: 62.20979316167159\n",
      "\n",
      "Epoch 85/100\n"
     ]
    },
    {
     "name": "stderr",
     "output_type": "stream",
     "text": [
      "Training: 100%|██████████| 346/346 [00:05<00:00, 60.46it/s, Loss=0.116457000374794, Elapsed=5.9099s, ETA=0.0000s]   \n",
      "Validating: 100%|██████████| 75/75 [00:01<00:00, 63.36it/s, Loss=3.399420976638794, Elapsed=1.4065s, ETA=0.0000s] "
     ]
    },
    {
     "name": "stdout",
     "output_type": "stream",
     "text": [
      "Epoch 85 completed in 7.4623s\n",
      "Train Loss: 0.079823664701786 - Train Accuracy: 96.3004002623188\n",
      "Validation Loss: 2.8201471249262493 - Validation Accuracy: 62.44195863233431\n",
      "\n",
      "Epoch 86/100\n"
     ]
    },
    {
     "name": "stderr",
     "output_type": "stream",
     "text": [
      "\n",
      "Training: 100%|██████████| 346/346 [00:05<00:00, 66.04it/s, Loss=0.08531934767961502, Elapsed=5.4287s, ETA=0.0000s] \n",
      "Validating: 100%|██████████| 75/75 [00:01<00:00, 68.94it/s, Loss=1.6534005403518677, Elapsed=1.3026s, ETA=0.0000s]"
     ]
    },
    {
     "name": "stdout",
     "output_type": "stream",
     "text": [
      "Epoch 86 completed in 6.8854s\n",
      "Train Loss: 0.07039796158999764 - Train Accuracy: 96.88835621085005\n",
      "Validation Loss: 2.8360053396224973 - Validation Accuracy: 61.95652173913043\n",
      "\n",
      "Epoch 87/100\n"
     ]
    },
    {
     "name": "stderr",
     "output_type": "stream",
     "text": [
      "\n",
      "Training: 100%|██████████| 346/346 [00:04<00:00, 69.84it/s, Loss=0.04348644241690636, Elapsed=5.1460s, ETA=0.0000s]  \n",
      "Validating: 100%|██████████| 75/75 [00:01<00:00, 68.97it/s, Loss=3.657088041305542, Elapsed=1.2998s, ETA=0.0000s] "
     ]
    },
    {
     "name": "stdout",
     "output_type": "stream",
     "text": [
      "Epoch 87 completed in 6.5996s\n",
      "Train Loss: 0.0692597660989732 - Train Accuracy: 96.88157210375161\n",
      "Validation Loss: 2.9371091254552204 - Validation Accuracy: 62.50527648796961\n",
      "\n",
      "Epoch 88/100\n"
     ]
    },
    {
     "name": "stderr",
     "output_type": "stream",
     "text": [
      "\n",
      "Training: 100%|██████████| 346/346 [00:05<00:00, 67.56it/s, Loss=0.05219750478863716, Elapsed=5.3020s, ETA=0.0000s] \n",
      "Validating: 100%|██████████| 75/75 [00:01<00:00, 60.34it/s, Loss=2.6015806198120117, Elapsed=1.4433s, ETA=0.0000s]\n"
     ]
    },
    {
     "name": "stdout",
     "output_type": "stream",
     "text": [
      "Epoch 88 completed in 6.8963s\n",
      "Train Loss: 0.07839300207029275 - Train Accuracy: 96.46095746364848\n",
      "Validation Loss: 2.6516585604349774 - Validation Accuracy: 62.90628957365977\n",
      "\n",
      "Epoch 89/100\n"
     ]
    },
    {
     "name": "stderr",
     "output_type": "stream",
     "text": [
      "Training: 100%|██████████| 346/346 [00:05<00:00, 68.42it/s, Loss=0.14822278916835785, Elapsed=5.2333s, ETA=0.0000s] \n",
      "Validating: 100%|██████████| 75/75 [00:01<00:00, 59.41it/s, Loss=1.7834227085113525, Elapsed=1.4731s, ETA=0.0000s]"
     ]
    },
    {
     "name": "stdout",
     "output_type": "stream",
     "text": [
      "Epoch 89 completed in 6.8730s\n",
      "Train Loss: 0.08567748279068511 - Train Accuracy: 96.3524117500735\n",
      "Validation Loss: 2.673135221799215 - Validation Accuracy: 61.53440270156184\n",
      "\n",
      "Epoch 90/100\n"
     ]
    },
    {
     "name": "stderr",
     "output_type": "stream",
     "text": [
      "\n",
      "Training: 100%|██████████| 346/346 [00:04<00:00, 71.67it/s, Loss=0.03588942065834999, Elapsed=5.0294s, ETA=0.0000s] \n",
      "Validating: 100%|██████████| 75/75 [00:01<00:00, 71.58it/s, Loss=0.9393980503082275, Elapsed=1.2431s, ETA=0.0000s]"
     ]
    },
    {
     "name": "stdout",
     "output_type": "stream",
     "text": [
      "Epoch 90 completed in 6.4202s\n",
      "Train Loss: 0.10623961462601589 - Train Accuracy: 95.41394360145632\n",
      "Validation Loss: 2.6790234438578286 - Validation Accuracy: 62.34698184888139\n",
      "\n",
      "Epoch 91/100\n"
     ]
    },
    {
     "name": "stderr",
     "output_type": "stream",
     "text": [
      "\n",
      "Training: 100%|██████████| 346/346 [00:05<00:00, 67.91it/s, Loss=0.036743585020303726, Elapsed=5.2846s, ETA=0.0000s]\n",
      "Validating: 100%|██████████| 75/75 [00:01<00:00, 67.70it/s, Loss=3.517855167388916, Elapsed=1.3222s, ETA=0.0000s] "
     ]
    },
    {
     "name": "stdout",
     "output_type": "stream",
     "text": [
      "Epoch 91 completed in 6.7543s\n",
      "Train Loss: 0.07677115792559319 - Train Accuracy: 96.62829877207662\n",
      "Validation Loss: 2.6498630317052205 - Validation Accuracy: 62.758547910510764\n",
      "\n",
      "Epoch 92/100\n"
     ]
    },
    {
     "name": "stderr",
     "output_type": "stream",
     "text": [
      "\n",
      "Training: 100%|██████████| 346/346 [00:05<00:00, 65.92it/s, Loss=0.048929307609796524, Elapsed=5.4550s, ETA=0.0000s]\n",
      "Validating: 100%|██████████| 75/75 [00:01<00:00, 62.88it/s, Loss=2.871814250946045, Elapsed=1.4051s, ETA=0.0000s] "
     ]
    },
    {
     "name": "stdout",
     "output_type": "stream",
     "text": [
      "Epoch 92 completed in 7.0048s\n",
      "Train Loss: 0.0676373094024212 - Train Accuracy: 96.80242418760318\n",
      "Validation Loss: 2.824896389643351 - Validation Accuracy: 62.20979316167159\n",
      "\n",
      "Epoch 93/100\n"
     ]
    },
    {
     "name": "stderr",
     "output_type": "stream",
     "text": [
      "\n",
      "Training: 100%|██████████| 346/346 [00:05<00:00, 66.43it/s, Loss=0.05246901512145996, Elapsed=5.3928s, ETA=0.0000s] \n",
      "Validating: 100%|██████████| 75/75 [00:01<00:00, 69.13it/s, Loss=3.563530206680298, Elapsed=1.2721s, ETA=0.0000s] "
     ]
    },
    {
     "name": "stdout",
     "output_type": "stream",
     "text": [
      "Epoch 93 completed in 6.8161s\n",
      "Train Loss: 0.0719476351299124 - Train Accuracy: 96.83860609212817\n",
      "Validation Loss: 2.750351940790812 - Validation Accuracy: 61.31279020683833\n",
      "\n",
      "Epoch 94/100\n"
     ]
    },
    {
     "name": "stderr",
     "output_type": "stream",
     "text": [
      "\n",
      "Training: 100%|██████████| 346/346 [00:05<00:00, 68.96it/s, Loss=0.15973737835884094, Elapsed=5.1776s, ETA=0.0000s] \n",
      "Validating: 100%|██████████| 75/75 [00:01<00:00, 64.21it/s, Loss=3.831305742263794, Elapsed=1.3655s, ETA=0.0000s] "
     ]
    },
    {
     "name": "stdout",
     "output_type": "stream",
     "text": [
      "Epoch 94 completed in 6.6981s\n",
      "Train Loss: 0.08226641391355523 - Train Accuracy: 96.51523032043599\n",
      "Validation Loss: 2.779242746035258 - Validation Accuracy: 61.47108484592655\n",
      "\n",
      "Epoch 95/100\n"
     ]
    },
    {
     "name": "stderr",
     "output_type": "stream",
     "text": [
      "\n",
      "Training: 100%|██████████| 346/346 [00:04<00:00, 70.47it/s, Loss=0.03298758342862129, Elapsed=5.0836s, ETA=0.0000s] \n",
      "Validating: 100%|██████████| 75/75 [00:01<00:00, 71.25it/s, Loss=3.517930030822754, Elapsed=1.2394s, ETA=0.0000s] \n"
     ]
    },
    {
     "name": "stdout",
     "output_type": "stream",
     "text": [
      "Epoch 95 completed in 6.4761s\n",
      "Train Loss: 0.07226463695288221 - Train Accuracy: 96.8250378779313\n",
      "Validation Loss: 2.850540736516317 - Validation Accuracy: 63.212325875897\n",
      "\n",
      "Epoch 96/100\n"
     ]
    },
    {
     "name": "stderr",
     "output_type": "stream",
     "text": [
      "Training: 100%|██████████| 346/346 [00:04<00:00, 69.84it/s, Loss=0.05638427659869194, Elapsed=5.1163s, ETA=0.0000s] \n",
      "Validating: 100%|██████████| 75/75 [00:01<00:00, 68.06it/s, Loss=2.3953680992126465, Elapsed=1.3093s, ETA=0.0000s]"
     ]
    },
    {
     "name": "stdout",
     "output_type": "stream",
     "text": [
      "Epoch 96 completed in 6.5835s\n",
      "Train Loss: 0.06496843900746865 - Train Accuracy: 97.08509531670472\n",
      "Validation Loss: 2.8095454676946003 - Validation Accuracy: 62.51582946390882\n",
      "\n",
      "Epoch 97/100\n"
     ]
    },
    {
     "name": "stderr",
     "output_type": "stream",
     "text": [
      "\n",
      "Training: 100%|██████████| 346/346 [00:05<00:00, 68.37it/s, Loss=0.09218288213014603, Elapsed=5.2622s, ETA=0.0000s] \n",
      "Validating: 100%|██████████| 75/75 [00:01<00:00, 64.92it/s, Loss=3.406491756439209, Elapsed=1.3537s, ETA=0.0000s] "
     ]
    },
    {
     "name": "stdout",
     "output_type": "stream",
     "text": [
      "Epoch 97 completed in 6.7619s\n",
      "Train Loss: 0.07809428549021741 - Train Accuracy: 96.52879853463287\n",
      "Validation Loss: 2.850373922983805 - Validation Accuracy: 62.62135922330098\n",
      "\n",
      "Epoch 98/100\n"
     ]
    },
    {
     "name": "stderr",
     "output_type": "stream",
     "text": [
      "\n",
      "Training: 100%|██████████| 346/346 [00:04<00:00, 70.12it/s, Loss=0.005833081901073456, Elapsed=5.1119s, ETA=0.0000s]\n",
      "Validating: 100%|██████████| 75/75 [00:01<00:00, 66.85it/s, Loss=5.180366039276123, Elapsed=1.3173s, ETA=0.0000s] "
     ]
    },
    {
     "name": "stdout",
     "output_type": "stream",
     "text": [
      "Epoch 98 completed in 6.5834s\n",
      "Train Loss: 0.06614414198227184 - Train Accuracy: 96.98333371022817\n",
      "Validation Loss: 2.8244959751764935 - Validation Accuracy: 62.65301815111861\n",
      "\n",
      "Epoch 99/100\n"
     ]
    },
    {
     "name": "stderr",
     "output_type": "stream",
     "text": [
      "\n",
      "Training: 100%|██████████| 346/346 [00:05<00:00, 68.03it/s, Loss=0.16113334894180298, Elapsed=5.2609s, ETA=0.0000s] \n",
      "Validating: 100%|██████████| 75/75 [00:01<00:00, 67.56it/s, Loss=4.5349225997924805, Elapsed=1.2926s, ETA=0.0000s]"
     ]
    },
    {
     "name": "stdout",
     "output_type": "stream",
     "text": [
      "Epoch 99 completed in 6.7004s\n",
      "Train Loss: 0.06510202549236445 - Train Accuracy: 97.11223174509848\n",
      "Validation Loss: 2.8096456638971965 - Validation Accuracy: 62.821865766146054\n",
      "\n",
      "Epoch 100/100\n"
     ]
    },
    {
     "name": "stderr",
     "output_type": "stream",
     "text": [
      "\n",
      "Training: 100%|██████████| 346/346 [00:05<00:00, 65.81it/s, Loss=0.04723503068089485, Elapsed=5.4569s, ETA=0.0000s] \n",
      "Validating: 100%|██████████| 75/75 [00:01<00:00, 59.02it/s, Loss=3.9238812923431396, Elapsed=1.4747s, ETA=0.0000s]\n"
     ]
    },
    {
     "name": "stdout",
     "output_type": "stream",
     "text": [
      "Epoch 100 completed in 7.0831s\n",
      "Train Loss: 0.0648451568397311 - Train Accuracy: 97.16424323285317\n",
      "Validation Loss: 2.9700432062149047 - Validation Accuracy: 62.32587589700296\n",
      "\n"
     ]
    },
    {
     "data": {
      "image/png": "[encoded data removed]",
      "text/plain": [
       "<Figure size 640x480 with 1 Axes>"
      ]
     },
     "metadata": {},
     "output_type": "display_data"
    },
    {
     "data": {
      "image/png": "[encoded data removed]",
      "text/plain": [
       "<Figure size 640x480 with 1 Axes>"
      ]
     },
     "metadata": {},
     "output_type": "display_data"
    }
   ],
   "source": [
    "trainset = MFCCDataset(\n",
    "    csv_file=train_csv, root_dir=root_dir, transform=transform)\n",
    "valset = MFCCDataset(\n",
    "    csv_file=val_csv, root_dir=root_dir, transform=transform)\n",
    "testset = MFCCDataset(\n",
    "    csv_file=test_csv, root_dir=root_dir, transform=transform)\n",
    "\n",
    "trainloader = DataLoader(trainset, batch_size=128,\n",
    "                         shuffle=True, num_workers=8, pin_memory=True)\n",
    "valloader = DataLoader(valset, batch_size=128,\n",
    "                       shuffle=False, num_workers=8, pin_memory=True)\n",
    "testloader = DataLoader(testset, batch_size=128,\n",
    "                        shuffle=False, num_workers=8, pin_memory=True)\n",
    "\n",
    "# Label mappings\n",
    "labelmap = trainset.label_map\n",
    "print(f\"Mapping from Emotion to Number: {labelmap}\")\n",
    "\n",
    "print(f\"Model is on: {next(model.parameters()).device}\")\n",
    "model, train_losses, train_accuracies, val_losses, val_accuracies = train_epochs(\n",
    "    model, trainloader, valloader, criterion, optimizer, device, epochs)\n",
    "torch.save(model.state_dict(), f'{MODEL}_variables_{epochs}.pt')\n",
    "\n",
    "# Plots\n",
    "plot_loss(train_losses, val_losses)\n",
    "plot_accuracy(train_accuracies, val_accuracies)"
   ]
  },
  {
   "cell_type": "markdown",
   "metadata": {},
   "source": [
    "Define the function to plot the confusion matrix\n"
   ]
  },
  {
   "cell_type": "code",
   "execution_count": 16,
   "metadata": {},
   "outputs": [],
   "source": [
    "import seaborn as sns\n",
    "from sklearn.metrics import confusion_matrix\n",
    "\n",
    "\n",
    "def plot_confusion_matrix(y_true, y_pred):\n",
    "    # Compute confusion matrix\n",
    "    cm = confusion_matrix(y_true, y_pred)\n",
    "\n",
    "    # Create figure and axes\n",
    "    plt.figure(figsize=(10, 8))\n",
    "\n",
    "    # Create heatmap\n",
    "    sns.heatmap(cm,\n",
    "                annot=True,  # Show numbers in cells\n",
    "                fmt='d',     # Use integer formatting\n",
    "                cmap='Blues',  # Color scheme\n",
    "                xticklabels=trainset.label_map.keys(),\n",
    "                yticklabels=trainset.label_map.keys())\n",
    "\n",
    "    # Set labels and title\n",
    "    plt.ylabel('True Label')\n",
    "    plt.xlabel('Predicted Label')\n",
    "    plt.title('Confusion Matrix')\n",
    "\n",
    "    # Rotate axis labels for better readability\n",
    "    plt.xticks(rotation=45)\n",
    "    plt.yticks(rotation=45)\n",
    "\n",
    "    plt.tight_layout()\n",
    "    plt.show()"
   ]
  },
  {
   "cell_type": "markdown",
   "metadata": {},
   "source": [
    "Define the function to evaluate best model on test set\n"
   ]
  },
  {
   "cell_type": "code",
   "execution_count": 17,
   "metadata": {},
   "outputs": [],
   "source": [
    "def get_predictions(model, testloader, device, model_path):\n",
    "    # Load the best model weights\n",
    "    model.load_state_dict(torch.load(model_path))\n",
    "    model.eval()\n",
    "\n",
    "    all_preds = []\n",
    "    all_labels = []\n",
    "    print(\"Evaluating best model on test set...\")\n",
    "\n",
    "    with torch.no_grad():\n",
    "        for inputs, labels in tqdm(testloader, desc='Testing'):\n",
    "            inputs, labels = inputs.to(device), labels.to(device)\n",
    "            outputs = model(inputs)\n",
    "            _, predicted = torch.max(outputs, 1)\n",
    "\n",
    "            # Store predictions for confusion matrix\n",
    "            all_preds.extend(predicted.cpu().numpy())\n",
    "            all_labels.extend(labels.cpu().numpy())\n",
    "\n",
    "    return all_preds, all_labels"
   ]
  },
  {
   "cell_type": "markdown",
   "metadata": {},
   "source": [
    "Define the function to print out the evaluation metrics\n"
   ]
  },
  {
   "cell_type": "code",
   "execution_count": 18,
   "metadata": {},
   "outputs": [],
   "source": [
    "from sklearn.metrics import accuracy_score, precision_recall_fscore_support, classification_report\n",
    "\n",
    "\n",
    "def get_evaluation_metrics(true_labels, pred_labels, label_map):\n",
    "    # Compute metrics\n",
    "    accuracy = accuracy_score(true_labels, pred_labels)\n",
    "    precision, recall, f1, _ = precision_recall_fscore_support(\n",
    "        true_labels, pred_labels, average='weighted')\n",
    "\n",
    "    print(f\"Test Accuracy: {accuracy:.4f}\")\n",
    "    print(f\"Test Precision: {precision:.4f}\")\n",
    "    print(f\"Test Recall: {recall:.4f}\")\n",
    "    print(f\"Test F1-score: {f1:.4f}\\n\")\n",
    "\n",
    "    # Print detailed classification report\n",
    "    print(classification_report(true_labels, pred_labels,\n",
    "          target_names=list(label_map.keys())))"
   ]
  },
  {
   "cell_type": "markdown",
   "metadata": {},
   "source": [
    "Evaluate the best model on the test set\n"
   ]
  },
  {
   "cell_type": "code",
   "execution_count": 19,
   "metadata": {},
   "outputs": [
    {
     "name": "stdout",
     "output_type": "stream",
     "text": [
      "Evaluating best model on test set...\n"
     ]
    },
    {
     "name": "stderr",
     "output_type": "stream",
     "text": [
      "Testing: 100%|██████████| 75/75 [00:02<00:00, 34.46it/s]\n"
     ]
    },
    {
     "name": "stdout",
     "output_type": "stream",
     "text": [
      "Test Accuracy: 0.6196\n",
      "Test Precision: 0.6199\n",
      "Test Recall: 0.6196\n",
      "Test F1-score: 0.6178\n",
      "\n",
      "              precision    recall  f1-score   support\n",
      "\n",
      "       Anger       0.63      0.67      0.65       916\n",
      "       Bored       0.62      0.80      0.70      1098\n",
      "     Disgust       0.46      0.49      0.47       291\n",
      "        Fear       0.47      0.44      0.45       308\n",
      "       Happy       0.59      0.53      0.56      1914\n",
      "     Neutral       0.59      0.57      0.58      2226\n",
      "    Question       0.75      0.70      0.72      1139\n",
      "         Sad       0.65      0.62      0.64       857\n",
      "    Surprise       0.66      0.66      0.66       728\n",
      "\n",
      "    accuracy                           0.62      9477\n",
      "   macro avg       0.60      0.61      0.60      9477\n",
      "weighted avg       0.62      0.62      0.62      9477\n",
      "\n"
     ]
    },
    {
     "data": {
      "image/png": "[encoded data removed]",
      "text/plain": [
       "<Figure size 1000x800 with 2 Axes>"
      ]
     },
     "metadata": {},
     "output_type": "display_data"
    }
   ],
   "source": [
    "# Load and get predictions from the bets model\n",
    "best_model_path = f'best_{MODEL}.pt'\n",
    "all_preds, all_labels = get_predictions(\n",
    "    model=model,\n",
    "    testloader=testloader,\n",
    "    device=device,\n",
    "    model_path=best_model_path\n",
    ")\n",
    "\n",
    "# Print detailed evaluation metrics\n",
    "get_evaluation_metrics(all_labels, all_preds, labelmap)\n",
    "\n",
    "# Plot confusion matrix\n",
    "plot_confusion_matrix(all_labels, all_preds)"
   ]
  },
  {
   "cell_type": "code",
   "execution_count": null,
   "metadata": {},
   "outputs": [],
   "source": []
  }
 ],
 "metadata": {
  "kernelspec": {
   "display_name": "Python 3 (ipykernel)",
   "language": "python",
   "name": "python3"
  },
  "language_info": {
   "codemirror_mode": {
    "name": "ipython",
    "version": 3
   },
   "file_extension": ".py",
   "mimetype": "text/x-python",
   "name": "python",
   "nbconvert_exporter": "python",
   "pygments_lexer": "ipython3",
   "version": "3.11.6"
  }
 },
 "nbformat": 4,
 "nbformat_minor": 4
}
