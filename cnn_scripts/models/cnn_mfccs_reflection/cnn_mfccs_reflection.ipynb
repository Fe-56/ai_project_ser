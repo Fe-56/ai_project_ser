{
 "cells": [
  {
   "cell_type": "markdown",
   "metadata": {},
   "source": [
    "# Train CNN with MFCCs\n"
   ]
  },
  {
   "cell_type": "markdown",
   "metadata": {},
   "source": [
    "Inspired by https://medium.com/@diego-rios/speech-emotion-recognition-with-convolutional-neural-network-ae5406a1c0f7\n",
    "\n",
    "MFCC tensors with repetitive padding\n"
   ]
  },
  {
   "cell_type": "markdown",
   "metadata": {},
   "source": [
    "Import the necessary libraries\n"
   ]
  },
  {
   "cell_type": "code",
   "execution_count": 1,
   "metadata": {},
   "outputs": [],
   "source": [
    "import torch\n",
    "from torch.utils.data import DataLoader\n",
    "import torchvision.transforms as transforms\n",
    "from torchview import draw_graph\n",
    "import torch.nn as nn\n",
    "import torch.optim as optim\n",
    "from torchsummary import summary\n",
    "import os\n",
    "import sys\n",
    "import numpy as np\n",
    "import random\n",
    "import time\n",
    "from tqdm import tqdm\n",
    "import matplotlib.pyplot as plt"
   ]
  },
  {
   "cell_type": "code",
   "execution_count": 2,
   "metadata": {},
   "outputs": [],
   "source": [
    "# Get the absolute path to the project root without relying on __file__\n",
    "notebook_path = os.getcwd()  # Gets current working directory\n",
    "project_root = os.path.abspath(os.path.join(notebook_path, \"../..\"))\n",
    "sys.path.insert(0, project_root)"
   ]
  },
  {
   "cell_type": "code",
   "execution_count": 3,
   "metadata": {},
   "outputs": [
    {
     "name": "stdout",
     "output_type": "stream",
     "text": [
      "2.1.1+cu118\n",
      "True\n"
     ]
    }
   ],
   "source": [
    "print(torch.__version__)\n",
    "print(torch.cuda.is_available())"
   ]
  },
  {
   "cell_type": "markdown",
   "metadata": {},
   "source": [
    "Set the seed for reproducibility\n"
   ]
  },
  {
   "cell_type": "code",
   "execution_count": 4,
   "metadata": {},
   "outputs": [],
   "source": [
    "random_seed = 42\n",
    "\n",
    "torch.manual_seed(random_seed)\n",
    "np.random.seed(random_seed)\n",
    "random.seed(random_seed)\n",
    "\n",
    "if (torch.cuda.is_available()):\n",
    "    torch.cuda.manual_seed(random_seed)"
   ]
  },
  {
   "cell_type": "markdown",
   "metadata": {},
   "source": [
    "Set some constant strings\n"
   ]
  },
  {
   "cell_type": "code",
   "execution_count": 5,
   "metadata": {},
   "outputs": [],
   "source": [
    "MODEL = 'cnn_mfccs_reflection'\n",
    "\n",
    "train_csv = '../../../data/mfcc_train_dataset.csv'\n",
    "test_csv = '../../../data/mfcc_test_dataset.csv'\n",
    "val_csv = '../../../data/mfcc_val_dataset.csv'\n",
    "root_dir = '../../../data/'\n",
    "class_weights_path = '../../../data/class_weights.pt'"
   ]
  },
  {
   "cell_type": "markdown",
   "metadata": {},
   "source": [
    "Custom dataset class for loading the mfcc tensors\n"
   ]
  },
  {
   "cell_type": "code",
   "execution_count": 6,
   "metadata": {},
   "outputs": [],
   "source": [
    "from datasets.MfccDataset import MFCCDataset"
   ]
  },
  {
   "cell_type": "markdown",
   "metadata": {},
   "source": [
    "Define the training function\n"
   ]
  },
  {
   "cell_type": "code",
   "execution_count": 7,
   "metadata": {},
   "outputs": [],
   "source": [
    "def train(model, trainloader, criterion, optimizer, device):\n",
    "    train_loss = 0.0\n",
    "    train_total = 0\n",
    "    train_correct = 0\n",
    "\n",
    "    # train mode\n",
    "    model.train()\n",
    "\n",
    "    epoch_start = time.time()\n",
    "    pbar = tqdm(enumerate(trainloader), total=len(\n",
    "        trainloader), desc=\"Training\")\n",
    "\n",
    "    for i, (inputs, labels) in pbar:\n",
    "        inputs, labels = inputs.to(device), labels.to(device)\n",
    "\n",
    "        # Zero the parameter gradients\n",
    "        optimizer.zero_grad()\n",
    "\n",
    "        # Forward pass\n",
    "        outputs = model(inputs)\n",
    "        loss = criterion(outputs, labels)\n",
    "\n",
    "        # Backward pass and optimize\n",
    "        loss.backward()\n",
    "        optimizer.step()\n",
    "\n",
    "        # Update training loss\n",
    "        train_loss += loss.item()\n",
    "\n",
    "        # Calculate accuracy\n",
    "        _, predicted = torch.max(outputs, 1)\n",
    "        train_total += labels.size(0)\n",
    "        train_correct += (predicted == labels).sum().item()\n",
    "\n",
    "        # Calculate time metrics\n",
    "        elapsed = time.time() - epoch_start\n",
    "        progress = (i + 1) / len(trainloader)\n",
    "        eta = elapsed / progress - elapsed\n",
    "\n",
    "        # Update progress bar with current loss and ETA\n",
    "        pbar.set_postfix({\n",
    "            \"Loss\": f\"{loss.item()}\",\n",
    "            \"Elapsed\": f\"{elapsed:.4f}s\",\n",
    "            \"ETA\": f\"{eta:.4f}s\"\n",
    "        })\n",
    "\n",
    "    train_loss = train_loss / len(trainloader)\n",
    "    train_accuracy = train_correct / train_total * 100\n",
    "\n",
    "    return model, train_loss, train_accuracy"
   ]
  },
  {
   "cell_type": "markdown",
   "metadata": {},
   "source": [
    "Define the validation function\n"
   ]
  },
  {
   "cell_type": "code",
   "execution_count": 8,
   "metadata": {},
   "outputs": [],
   "source": [
    "def validate(model, valloader, criterion, device):\n",
    "    val_loss = 0.0\n",
    "    val_total = 0\n",
    "    val_correct = 0\n",
    "\n",
    "    # Switch to evaluation mode\n",
    "    model.eval()\n",
    "\n",
    "    epoch_start = time.time()\n",
    "    pbar = tqdm(enumerate(valloader), total=len(\n",
    "        valloader), desc=\"Validating\")\n",
    "\n",
    "    with torch.no_grad():\n",
    "        for i, (inputs, labels) in pbar:\n",
    "            inputs, labels = inputs.to(device), labels.to(device)\n",
    "\n",
    "            # Forward pass\n",
    "            outputs = model(inputs)\n",
    "            loss = criterion(outputs, labels)\n",
    "\n",
    "            # Update test loss\n",
    "            val_loss += loss.item()\n",
    "\n",
    "            # Calculate accuracy\n",
    "            _, predicted = torch.max(outputs, 1)\n",
    "            val_total += labels.size(0)\n",
    "            val_correct += (predicted == labels).sum().item()\n",
    "\n",
    "            # Calculate time metrics\n",
    "            elapsed = time.time() - epoch_start\n",
    "            progress = (i + 1) / len(valloader)\n",
    "            eta = elapsed / progress - elapsed\n",
    "\n",
    "            # Update progress bar with current loss and ETA\n",
    "            pbar.set_postfix({\n",
    "                \"Loss\": f\"{loss.item()}\",\n",
    "                \"Elapsed\": f\"{elapsed:.4f}s\",\n",
    "                \"ETA\": f\"{eta:.4f}s\"\n",
    "            })\n",
    "\n",
    "    val_loss = val_loss / len(valloader)\n",
    "    val_accuracy = val_correct / val_total * 100\n",
    "\n",
    "    return val_loss, val_accuracy"
   ]
  },
  {
   "cell_type": "markdown",
   "metadata": {},
   "source": [
    "Import EarlyStopping class\n"
   ]
  },
  {
   "cell_type": "code",
   "execution_count": 9,
   "metadata": {},
   "outputs": [],
   "source": [
    "from models.EarlyStopping import EarlyStopping"
   ]
  },
  {
   "cell_type": "markdown",
   "metadata": {},
   "source": [
    "Define what happens in each epoch\n"
   ]
  },
  {
   "cell_type": "code",
   "execution_count": 10,
   "metadata": {},
   "outputs": [],
   "source": [
    "def train_epochs(model, trainloader, valloader, criterion, optimizer, device, num_epochs):\n",
    "    train_losses = []\n",
    "    train_accuracies = []\n",
    "    val_losses = []\n",
    "    val_accuracies = []\n",
    "    best_accuracy = 0\n",
    "\n",
    "    early_stopper = EarlyStopping(path=f'earlystop_{MODEL}.pt')\n",
    "\n",
    "    for epoch in range(num_epochs):\n",
    "        print(f'Epoch {epoch+1}/{num_epochs}')\n",
    "        epoch_start = time.time()\n",
    "\n",
    "        model, train_loss, train_accuracy = train(\n",
    "            model, trainloader, criterion, optimizer, device)\n",
    "        val_loss, val_accuracy = validate(\n",
    "            model, valloader, criterion, device)\n",
    "\n",
    "        epoch_elapsed = time.time() - epoch_start\n",
    "        print(f\"Epoch {epoch+1} completed in {epoch_elapsed:.4f}s\")\n",
    "        print(f'Train Loss: {train_loss} - Train Accuracy: {train_accuracy}')\n",
    "        print(\n",
    "            f'Validation Loss: {val_loss} - Validation Accuracy: {val_accuracy}')\n",
    "        print()\n",
    "\n",
    "        train_losses.append(train_loss)\n",
    "        train_accuracies.append(train_accuracy)\n",
    "        val_losses.append(val_loss)\n",
    "        val_accuracies.append(val_accuracy)\n",
    "\n",
    "        # Save best validation accuracy model\n",
    "        if val_accuracy > best_accuracy:\n",
    "            best_accuracy = val_accuracy\n",
    "            torch.save(model.state_dict(), f'best_{MODEL}.pt')\n",
    "            checkpoint = {\n",
    "                'epoch': epoch + 1,\n",
    "                'train_losses': train_losses,\n",
    "                'train_accuracies': train_accuracies,\n",
    "                'val_losses': val_losses,\n",
    "                'val_accuracies': val_accuracies,\n",
    "            }\n",
    "            torch.save(checkpoint, f'best_{MODEL}_checkpoint.pt')\n",
    "\n",
    "        # Check for early stopping (based on val_loss)\n",
    "        early_stopper(val_loss, model)\n",
    "        if early_stopper.early_stop:\n",
    "            break\n",
    "\n",
    "    return model, train_losses, train_accuracies, val_losses, val_accuracies"
   ]
  },
  {
   "cell_type": "markdown",
   "metadata": {},
   "source": [
    "Plot the loss and accuracy graphs\n"
   ]
  },
  {
   "cell_type": "code",
   "execution_count": 11,
   "metadata": {},
   "outputs": [],
   "source": [
    "def plot_loss(train_losses, val_losses):\n",
    "    plt.figure()\n",
    "    plt.plot(range(len(train_losses)), train_losses, label='Training Loss')\n",
    "    plt.plot(range(len(val_losses)), val_losses, label='Validation Loss')\n",
    "    plt.xlabel('Epoch')\n",
    "    plt.ylabel('Loss')\n",
    "    plt.legend()\n",
    "    plt.show()"
   ]
  },
  {
   "cell_type": "code",
   "execution_count": 12,
   "metadata": {},
   "outputs": [],
   "source": [
    "def plot_accuracy(train_accuracies, val_accuracies):\n",
    "    plt.figure()\n",
    "    plt.plot(range(len(train_accuracies)),\n",
    "             train_accuracies, label='Training Accuracy')\n",
    "    plt.plot(range(len(val_accuracies)),\n",
    "             val_accuracies, label='Validation Accuracy')\n",
    "    plt.xlabel('Epoch')\n",
    "    plt.ylabel('Accuracy')\n",
    "    plt.legend()\n",
    "    plt.show()"
   ]
  },
  {
   "cell_type": "markdown",
   "metadata": {},
   "source": [
    "Import the model\n"
   ]
  },
  {
   "cell_type": "code",
   "execution_count": 13,
   "metadata": {},
   "outputs": [
    {
     "data": {
      "text/plain": [
       "CNNMFCCs(\n",
       "  (conv1): Conv1d(40, 16, kernel_size=(3,), stride=(1,), padding=(1,))\n",
       "  (conv2): Conv1d(16, 32, kernel_size=(3,), stride=(1,), padding=(1,))\n",
       "  (conv3): Conv1d(32, 64, kernel_size=(3,), stride=(1,), padding=(1,))\n",
       "  (conv4): Conv1d(64, 128, kernel_size=(3,), stride=(1,), padding=(1,))\n",
       "  (dropout): Dropout(p=0.1, inplace=False)\n",
       "  (fc1): Linear(in_features=22016, out_features=128, bias=True)\n",
       "  (fc2): Linear(in_features=128, out_features=64, bias=True)\n",
       "  (fc3): Linear(in_features=64, out_features=9, bias=True)\n",
       ")"
      ]
     },
     "execution_count": 13,
     "metadata": {},
     "output_type": "execute_result"
    }
   ],
   "source": [
    "from CNNMFCCs import CNNMFCCs\n",
    "\n",
    "model = CNNMFCCs()\n",
    "\n",
    "# Move model to GPU\n",
    "device = torch.device(\"cuda\" if torch.cuda.is_available() else \"cpu\")\n",
    "model.to(device)"
   ]
  },
  {
   "cell_type": "markdown",
   "metadata": {},
   "source": [
    "Visualize the model\n"
   ]
  },
  {
   "cell_type": "code",
   "execution_count": 14,
   "metadata": {},
   "outputs": [
    {
     "name": "stdout",
     "output_type": "stream",
     "text": [
      "----------------------------------------------------------------\n",
      "        Layer (type)               Output Shape         Param #\n",
      "================================================================\n",
      "            Conv1d-1              [-1, 16, 172]           1,936\n",
      "            Conv1d-2              [-1, 32, 172]           1,568\n",
      "            Conv1d-3              [-1, 64, 172]           6,208\n",
      "            Conv1d-4             [-1, 128, 172]          24,704\n",
      "           Dropout-5             [-1, 128, 172]               0\n",
      "            Linear-6                  [-1, 128]       2,818,176\n",
      "           Dropout-7                  [-1, 128]               0\n",
      "            Linear-8                   [-1, 64]           8,256\n",
      "            Linear-9                    [-1, 9]             585\n",
      "================================================================\n",
      "Total params: 2,861,433\n",
      "Trainable params: 2,861,433\n",
      "Non-trainable params: 0\n",
      "----------------------------------------------------------------\n",
      "Input size (MB): 0.03\n",
      "Forward/backward pass size (MB): 0.49\n",
      "Params size (MB): 10.92\n",
      "Estimated Total Size (MB): 11.43\n",
      "----------------------------------------------------------------\n"
     ]
    }
   ],
   "source": [
    "summary(model, (40, 172))"
   ]
  },
  {
   "cell_type": "markdown",
   "metadata": {},
   "source": [
    "Define the learning rate, criterion, optimizer, transformations, and number of epochs\n"
   ]
  },
  {
   "cell_type": "code",
   "execution_count": 15,
   "metadata": {},
   "outputs": [],
   "source": [
    "learning_rate = 0.001\n",
    "\n",
    "class_weights = torch.load(class_weights_path).to(device)\n",
    "criterion = nn.CrossEntropyLoss(weight=class_weights)\n",
    "\n",
    "optimizer = optim.Adam(model.parameters(), lr=learning_rate)\n",
    "\n",
    "# Define transformations\n",
    "transform = transforms.Compose([])\n",
    "\n",
    "epochs = 100"
   ]
  },
  {
   "cell_type": "markdown",
   "metadata": {},
   "source": [
    "Execute the training\n"
   ]
  },
  {
   "cell_type": "code",
   "execution_count": 16,
   "metadata": {},
   "outputs": [
    {
     "name": "stdout",
     "output_type": "stream",
     "text": [
      "Mapping from Emotion to Number: {'Anger': 0, 'Bored': 1, 'Disgust': 2, 'Fear': 3, 'Happy': 4, 'Neutral': 5, 'Question': 6, 'Sad': 7, 'Surprise': 8}\n",
      "Model is on: cuda:0\n",
      "Epoch 1/100\n"
     ]
    },
    {
     "name": "stderr",
     "output_type": "stream",
     "text": [
      "Training: 100%|██████████| 346/346 [00:04<00:00, 70.10it/s, Loss=1.230205774307251, Elapsed=5.2552s, ETA=0.0000s] \n",
      "Validating: 100%|██████████| 75/75 [00:01<00:00, 63.37it/s, Loss=1.2267670631408691, Elapsed=1.3601s, ETA=0.0000s]\n"
     ]
    },
    {
     "name": "stdout",
     "output_type": "stream",
     "text": [
      "Epoch 1 completed in 6.7362s\n",
      "Train Loss: 1.426635715658265 - Train Accuracy: 36.695235295447866\n",
      "Validation Loss: 1.1991330122947692 - Validation Accuracy: 47.74166314900802\n",
      "\n",
      "Epoch 2/100\n"
     ]
    },
    {
     "name": "stderr",
     "output_type": "stream",
     "text": [
      "Training: 100%|██████████| 346/346 [00:04<00:00, 72.82it/s, Loss=0.8968280553817749, Elapsed=4.9524s, ETA=0.0000s]\n",
      "Validating: 100%|██████████| 75/75 [00:01<00:00, 70.03it/s, Loss=1.4422413110733032, Elapsed=1.2645s, ETA=0.0000s]\n"
     ]
    },
    {
     "name": "stdout",
     "output_type": "stream",
     "text": [
      "Epoch 2 completed in 6.3458s\n",
      "Train Loss: 1.1498097536191776 - Train Accuracy: 48.029216887903935\n",
      "Validation Loss: 1.1101303394635518 - Validation Accuracy: 49.88391726466864\n",
      "\n",
      "Epoch 3/100\n"
     ]
    },
    {
     "name": "stderr",
     "output_type": "stream",
     "text": [
      "Training: 100%|██████████| 346/346 [00:04<00:00, 70.72it/s, Loss=0.8651540279388428, Elapsed=5.0656s, ETA=0.0000s]\n",
      "Validating: 100%|██████████| 75/75 [00:01<00:00, 64.07it/s, Loss=1.2114769220352173, Elapsed=1.3422s, ETA=0.0000s]\n"
     ]
    },
    {
     "name": "stdout",
     "output_type": "stream",
     "text": [
      "Epoch 3 completed in 6.5429s\n",
      "Train Loss: 1.0504271453515643 - Train Accuracy: 52.12455620632731\n",
      "Validation Loss: 1.0180191461245218 - Validation Accuracy: 56.18404390037991\n",
      "\n",
      "Epoch 4/100\n"
     ]
    },
    {
     "name": "stderr",
     "output_type": "stream",
     "text": [
      "Training: 100%|██████████| 346/346 [00:04<00:00, 73.67it/s, Loss=0.9214041233062744, Elapsed=4.8752s, ETA=0.0000s]\n",
      "Validating: 100%|██████████| 75/75 [00:01<00:00, 69.79it/s, Loss=1.1767280101776123, Elapsed=1.2403s, ETA=0.0000s]\n"
     ]
    },
    {
     "name": "stdout",
     "output_type": "stream",
     "text": [
      "Epoch 4 completed in 6.2425s\n",
      "Train Loss: 0.9811043382724586 - Train Accuracy: 54.99649487799913\n",
      "Validation Loss: 1.0066984073321024 - Validation Accuracy: 54.485014774166316\n",
      "\n",
      "Epoch 5/100\n"
     ]
    },
    {
     "name": "stderr",
     "output_type": "stream",
     "text": [
      "Training: 100%|██████████| 346/346 [00:04<00:00, 71.96it/s, Loss=0.9283594489097595, Elapsed=4.9842s, ETA=0.0000s]\n",
      "Validating: 100%|██████████| 75/75 [00:01<00:00, 64.47it/s, Loss=1.8047184944152832, Elapsed=1.3597s, ETA=0.0000s]\n"
     ]
    },
    {
     "name": "stdout",
     "output_type": "stream",
     "text": [
      "Epoch 5 completed in 6.4720s\n",
      "Train Loss: 0.9361400950506243 - Train Accuracy: 56.9118744487913\n",
      "Validation Loss: 0.9759766443570455 - Validation Accuracy: 55.044322498944695\n",
      "\n",
      "Epoch 6/100\n"
     ]
    },
    {
     "name": "stderr",
     "output_type": "stream",
     "text": [
      "Training: 100%|██████████| 346/346 [00:04<00:00, 73.32it/s, Loss=1.0028764009475708, Elapsed=4.9159s, ETA=0.0000s]\n",
      "Validating: 100%|██████████| 75/75 [00:01<00:00, 70.66it/s, Loss=1.367492437362671, Elapsed=1.2156s, ETA=0.0000s] \n"
     ]
    },
    {
     "name": "stdout",
     "output_type": "stream",
     "text": [
      "Epoch 6 completed in 6.2727s\n",
      "Train Loss: 0.8962848548255214 - Train Accuracy: 58.42020759367721\n",
      "Validation Loss: 0.9557132077217102 - Validation Accuracy: 58.2418742085268\n",
      "\n",
      "Epoch 7/100\n"
     ]
    },
    {
     "name": "stderr",
     "output_type": "stream",
     "text": [
      "Training: 100%|██████████| 346/346 [00:04<00:00, 75.15it/s, Loss=1.0660794973373413, Elapsed=4.8016s, ETA=0.0000s]\n",
      "Validating: 100%|██████████| 75/75 [00:01<00:00, 69.32it/s, Loss=1.4962477684020996, Elapsed=1.2577s, ETA=0.0000s]\n"
     ]
    },
    {
     "name": "stdout",
     "output_type": "stream",
     "text": [
      "Epoch 7 completed in 6.1860s\n",
      "Train Loss: 0.8537217626681907 - Train Accuracy: 60.392121390289674\n",
      "Validation Loss: 0.9582186555862426 - Validation Accuracy: 58.970029548332626\n",
      "\n",
      "EarlyStopping counter: 1/5\n",
      "Epoch 8/100\n"
     ]
    },
    {
     "name": "stderr",
     "output_type": "stream",
     "text": [
      "Training: 100%|██████████| 346/346 [00:04<00:00, 74.84it/s, Loss=0.7149830460548401, Elapsed=4.8038s, ETA=0.0000s]\n",
      "Validating: 100%|██████████| 75/75 [00:01<00:00, 62.17it/s, Loss=1.213358759880066, Elapsed=1.3931s, ETA=0.0000s] \n"
     ]
    },
    {
     "name": "stdout",
     "output_type": "stream",
     "text": [
      "Epoch 8 completed in 6.3195s\n",
      "Train Loss: 0.8110065785791144 - Train Accuracy: 61.86201126161779\n",
      "Validation Loss: 0.9436357323328654 - Validation Accuracy: 59.71929084001688\n",
      "\n",
      "Epoch 9/100\n"
     ]
    },
    {
     "name": "stderr",
     "output_type": "stream",
     "text": [
      "Training: 100%|██████████| 346/346 [00:05<00:00, 64.92it/s, Loss=0.915126383304596, Elapsed=5.5240s, ETA=0.0000s] \n",
      "Validating: 100%|██████████| 75/75 [00:01<00:00, 68.05it/s, Loss=1.5830241441726685, Elapsed=1.2945s, ETA=0.0000s]\n"
     ]
    },
    {
     "name": "stdout",
     "output_type": "stream",
     "text": [
      "Epoch 9 completed in 6.9449s\n",
      "Train Loss: 0.7712973514733287 - Train Accuracy: 63.55577666719432\n",
      "Validation Loss: 0.9400187293688457 - Validation Accuracy: 59.12832418742086\n",
      "\n",
      "Epoch 10/100\n"
     ]
    },
    {
     "name": "stderr",
     "output_type": "stream",
     "text": [
      "Training: 100%|██████████| 346/346 [00:04<00:00, 73.30it/s, Loss=0.7171902656555176, Elapsed=4.9290s, ETA=0.0000s]\n",
      "Validating: 100%|██████████| 75/75 [00:01<00:00, 61.35it/s, Loss=1.309881567955017, Elapsed=1.3847s, ETA=0.0000s] \n"
     ]
    },
    {
     "name": "stdout",
     "output_type": "stream",
     "text": [
      "Epoch 10 completed in 6.4454s\n",
      "Train Loss: 0.7420856774370105 - Train Accuracy: 64.60731326745211\n",
      "Validation Loss: 0.9764582022031149 - Validation Accuracy: 60.120303925707056\n",
      "\n",
      "EarlyStopping counter: 1/5\n",
      "Epoch 11/100\n"
     ]
    },
    {
     "name": "stderr",
     "output_type": "stream",
     "text": [
      "Training: 100%|██████████| 346/346 [00:05<00:00, 66.07it/s, Loss=0.6992716789245605, Elapsed=5.4140s, ETA=0.0000s]\n",
      "Validating: 100%|██████████| 75/75 [00:01<00:00, 65.87it/s, Loss=1.3656748533248901, Elapsed=1.3181s, ETA=0.0000s]\n"
     ]
    },
    {
     "name": "stdout",
     "output_type": "stream",
     "text": [
      "Epoch 11 completed in 6.8659s\n",
      "Train Loss: 0.7051646442427112 - Train Accuracy: 66.25358992333959\n",
      "Validation Loss: 0.9978262003262838 - Validation Accuracy: 60.69016462642465\n",
      "\n",
      "EarlyStopping counter: 2/5\n",
      "Epoch 12/100\n"
     ]
    },
    {
     "name": "stderr",
     "output_type": "stream",
     "text": [
      "Training: 100%|██████████| 346/346 [00:04<00:00, 71.81it/s, Loss=0.670575737953186, Elapsed=5.0102s, ETA=0.0000s]  \n",
      "Validating: 100%|██████████| 75/75 [00:01<00:00, 64.86it/s, Loss=1.2399463653564453, Elapsed=1.3386s, ETA=0.0000s]\n"
     ]
    },
    {
     "name": "stdout",
     "output_type": "stream",
     "text": [
      "Epoch 12 completed in 6.4732s\n",
      "Train Loss: 0.6677018856209826 - Train Accuracy: 67.92021890052237\n",
      "Validation Loss: 0.9857506378491719 - Validation Accuracy: 61.6504854368932\n",
      "\n",
      "EarlyStopping counter: 3/5\n",
      "Epoch 13/100\n"
     ]
    },
    {
     "name": "stderr",
     "output_type": "stream",
     "text": [
      "Training: 100%|██████████| 346/346 [00:04<00:00, 72.01it/s, Loss=0.8222825527191162, Elapsed=4.9891s, ETA=0.0000s] \n",
      "Validating: 100%|██████████| 75/75 [00:01<00:00, 63.22it/s, Loss=1.6598072052001953, Elapsed=1.3616s, ETA=0.0000s]"
     ]
    },
    {
     "name": "stdout",
     "output_type": "stream",
     "text": [
      "Epoch 13 completed in 6.4706s\n",
      "Train Loss: 0.6340660208222494 - Train Accuracy: 69.02150561950205\n",
      "Validation Loss: 1.0366165812810262 - Validation Accuracy: 61.1439425918109\n",
      "\n",
      "EarlyStopping counter: 4/5\n",
      "Epoch 14/100\n"
     ]
    },
    {
     "name": "stderr",
     "output_type": "stream",
     "text": [
      "\n",
      "Training: 100%|██████████| 346/346 [00:04<00:00, 69.48it/s, Loss=0.5383219122886658, Elapsed=5.1606s, ETA=0.0000s] \n",
      "Validating: 100%|██████████| 75/75 [00:01<00:00, 66.59it/s, Loss=0.9014434218406677, Elapsed=1.3207s, ETA=0.0000s]\n"
     ]
    },
    {
     "name": "stdout",
     "output_type": "stream",
     "text": [
      "Epoch 14 completed in 6.6074s\n",
      "Train Loss: 0.5909253610351871 - Train Accuracy: 70.99568078514733\n",
      "Validation Loss: 1.070824352900187 - Validation Accuracy: 61.6504854368932\n",
      "\n",
      "EarlyStopping counter: 5/5\n",
      "🔁 Early stopping triggered!\n"
     ]
    },
    {
     "data": {
      "image/png": "[encoded data removed]",
      "text/plain": [
       "<Figure size 640x480 with 1 Axes>"
      ]
     },
     "metadata": {},
     "output_type": "display_data"
    },
    {
     "data": {
      "image/png": "[encoded data removed]",
      "text/plain": [
       "<Figure size 640x480 with 1 Axes>"
      ]
     },
     "metadata": {},
     "output_type": "display_data"
    }
   ],
   "source": [
    "trainset = MFCCDataset(\n",
    "    csv_file=train_csv, root_dir=root_dir, transform=transform)\n",
    "valset = MFCCDataset(\n",
    "    csv_file=val_csv, root_dir=root_dir, transform=transform)\n",
    "testset = MFCCDataset(\n",
    "    csv_file=test_csv, root_dir=root_dir, transform=transform)\n",
    "\n",
    "trainloader = DataLoader(trainset, batch_size=128,\n",
    "                         shuffle=True, num_workers=8, pin_memory=True)\n",
    "valloader = DataLoader(valset, batch_size=128,\n",
    "                       shuffle=False, num_workers=8, pin_memory=True)\n",
    "testloader = DataLoader(testset, batch_size=128,\n",
    "                        shuffle=False, num_workers=8, pin_memory=True)\n",
    "\n",
    "# Label mappings\n",
    "labelmap = trainset.label_map\n",
    "print(f\"Mapping from Emotion to Number: {labelmap}\")\n",
    "\n",
    "print(f\"Model is on: {next(model.parameters()).device}\")\n",
    "model, train_losses, train_accuracies, val_losses, val_accuracies = train_epochs(\n",
    "    model, trainloader, valloader, criterion, optimizer, device, epochs)\n",
    "torch.save(model.state_dict(), f'{MODEL}_variables_{epochs}.pt')\n",
    "\n",
    "# Plots\n",
    "plot_loss(train_losses, val_losses)\n",
    "plot_accuracy(train_accuracies, val_accuracies)"
   ]
  },
  {
   "cell_type": "markdown",
   "metadata": {},
   "source": [
    "Define the function to plot the confusion matrix\n"
   ]
  },
  {
   "cell_type": "code",
   "execution_count": 17,
   "metadata": {},
   "outputs": [],
   "source": [
    "import seaborn as sns\n",
    "from sklearn.metrics import confusion_matrix\n",
    "\n",
    "\n",
    "def plot_confusion_matrix(y_true, y_pred):\n",
    "    # Compute confusion matrix\n",
    "    cm = confusion_matrix(y_true, y_pred)\n",
    "\n",
    "    # Create figure and axes\n",
    "    plt.figure(figsize=(10, 8))\n",
    "\n",
    "    # Create heatmap\n",
    "    sns.heatmap(cm,\n",
    "                annot=True,  # Show numbers in cells\n",
    "                fmt='d',     # Use integer formatting\n",
    "                cmap='Blues',  # Color scheme\n",
    "                xticklabels=trainset.label_map.keys(),\n",
    "                yticklabels=trainset.label_map.keys())\n",
    "\n",
    "    # Set labels and title\n",
    "    plt.ylabel('True Label')\n",
    "    plt.xlabel('Predicted Label')\n",
    "    plt.title('Confusion Matrix')\n",
    "\n",
    "    # Rotate axis labels for better readability\n",
    "    plt.xticks(rotation=45)\n",
    "    plt.yticks(rotation=45)\n",
    "\n",
    "    plt.tight_layout()\n",
    "    plt.show()"
   ]
  },
  {
   "cell_type": "markdown",
   "metadata": {},
   "source": [
    "Define the function to evaluate best model on test set\n"
   ]
  },
  {
   "cell_type": "code",
   "execution_count": 18,
   "metadata": {},
   "outputs": [],
   "source": [
    "def get_predictions(model, testloader, device, model_path):\n",
    "    # Load the best model weights\n",
    "    model.load_state_dict(torch.load(model_path))\n",
    "    model.eval()\n",
    "\n",
    "    all_preds = []\n",
    "    all_labels = []\n",
    "    print(\"Evaluating best model on test set...\")\n",
    "\n",
    "    with torch.no_grad():\n",
    "        for inputs, labels in tqdm(testloader, desc='Testing'):\n",
    "            inputs, labels = inputs.to(device), labels.to(device)\n",
    "            outputs = model(inputs)\n",
    "            _, predicted = torch.max(outputs, 1)\n",
    "\n",
    "            # Store predictions for confusion matrix\n",
    "            all_preds.extend(predicted.cpu().numpy())\n",
    "            all_labels.extend(labels.cpu().numpy())\n",
    "\n",
    "    return all_preds, all_labels"
   ]
  },
  {
   "cell_type": "markdown",
   "metadata": {},
   "source": [
    "Define the function to print out the evaluation metrics\n"
   ]
  },
  {
   "cell_type": "code",
   "execution_count": 19,
   "metadata": {},
   "outputs": [],
   "source": [
    "from sklearn.metrics import accuracy_score, precision_recall_fscore_support, classification_report\n",
    "\n",
    "\n",
    "def get_evaluation_metrics(true_labels, pred_labels, label_map):\n",
    "    # Compute metrics\n",
    "    accuracy = accuracy_score(true_labels, pred_labels)\n",
    "    precision, recall, f1, _ = precision_recall_fscore_support(\n",
    "        true_labels, pred_labels, average='weighted')\n",
    "\n",
    "    print(f\"Test Accuracy: {accuracy:.4f}\")\n",
    "    print(f\"Test Precision: {precision:.4f}\")\n",
    "    print(f\"Test Recall: {recall:.4f}\")\n",
    "    print(f\"Test F1-score: {f1:.4f}\\n\")\n",
    "\n",
    "    # Print detailed classification report\n",
    "    print(classification_report(true_labels, pred_labels,\n",
    "          target_names=list(label_map.keys())))"
   ]
  },
  {
   "cell_type": "markdown",
   "metadata": {},
   "source": [
    "Evaluate the best model on the test set\n"
   ]
  },
  {
   "cell_type": "code",
   "execution_count": 20,
   "metadata": {},
   "outputs": [
    {
     "name": "stdout",
     "output_type": "stream",
     "text": [
      "Evaluating best model on test set...\n"
     ]
    },
    {
     "name": "stderr",
     "output_type": "stream",
     "text": [
      "Testing: 100%|██████████| 75/75 [00:01<00:00, 57.52it/s]\n"
     ]
    },
    {
     "name": "stdout",
     "output_type": "stream",
     "text": [
      "Test Accuracy: 0.6068\n",
      "Test Precision: 0.6424\n",
      "Test Recall: 0.6068\n",
      "Test F1-score: 0.6043\n",
      "\n",
      "              precision    recall  f1-score   support\n",
      "\n",
      "       Anger       0.66      0.69      0.67       916\n",
      "       Bored       0.58      0.90      0.71      1098\n",
      "     Disgust       0.33      0.70      0.45       291\n",
      "        Fear       0.31      0.64      0.42       308\n",
      "       Happy       0.75      0.44      0.56      1914\n",
      "     Neutral       0.63      0.47      0.53      2226\n",
      "    Question       0.67      0.75      0.71      1139\n",
      "         Sad       0.73      0.54      0.62       857\n",
      "    Surprise       0.61      0.72      0.66       728\n",
      "\n",
      "    accuracy                           0.61      9477\n",
      "   macro avg       0.58      0.65      0.59      9477\n",
      "weighted avg       0.64      0.61      0.60      9477\n",
      "\n"
     ]
    },
    {
     "data": {
      "image/png": "[encoded data removed]",
      "text/plain": [
       "<Figure size 1000x800 with 2 Axes>"
      ]
     },
     "metadata": {},
     "output_type": "display_data"
    }
   ],
   "source": [
    "# Load and get predictions from the bets model\n",
    "best_model_path = f'best_{MODEL}.pt'\n",
    "all_preds, all_labels = get_predictions(\n",
    "    model=model,\n",
    "    testloader=testloader,\n",
    "    device=device,\n",
    "    model_path=best_model_path\n",
    ")\n",
    "\n",
    "# Print detailed evaluation metrics\n",
    "get_evaluation_metrics(all_labels, all_preds, labelmap)\n",
    "\n",
    "# Plot confusion matrix\n",
    "plot_confusion_matrix(all_labels, all_preds)"
   ]
  },
  {
   "cell_type": "code",
   "execution_count": null,
   "metadata": {},
   "outputs": [],
   "source": []
  }
 ],
 "metadata": {
  "kernelspec": {
   "display_name": "Python 3 (ipykernel)",
   "language": "python",
   "name": "python3"
  },
  "language_info": {
   "codemirror_mode": {
    "name": "ipython",
    "version": 3
   },
   "file_extension": ".py",
   "mimetype": "text/x-python",
   "name": "python",
   "nbconvert_exporter": "python",
   "pygments_lexer": "ipython3",
   "version": "3.11.6"
  }
 },
 "nbformat": 4,
 "nbformat_minor": 4
}
