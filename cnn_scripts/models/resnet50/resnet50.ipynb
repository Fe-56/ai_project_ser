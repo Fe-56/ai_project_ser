{
 "cells": [
  {
   "cell_type": "markdown",
   "metadata": {},
   "source": [
    "# Finetune ResNet50\n"
   ]
  },
  {
   "cell_type": "markdown",
   "metadata": {},
   "source": [
    "With 1000 x 400 melspectrogram images without data augmentation\n"
   ]
  },
  {
   "cell_type": "code",
   "execution_count": 1,
   "metadata": {},
   "outputs": [],
   "source": [
    "import sys\n",
    "import os\n",
    "import torch\n",
    "import torch.nn as nn\n",
    "import torch.optim as optim\n",
    "from torch.utils.data import DataLoader\n",
    "import torchvision.transforms as transforms\n",
    "import torchvision.models as models\n",
    "import numpy as np\n",
    "import matplotlib.pyplot as plt\n",
    "import random\n",
    "from tqdm import tqdm\n",
    "import time"
   ]
  },
  {
   "cell_type": "code",
   "execution_count": 2,
   "metadata": {},
   "outputs": [],
   "source": [
    "# Get the absolute path to the project root without relying on __file__\n",
    "notebook_path = os.getcwd()  # Gets current working directory\n",
    "project_root = os.path.abspath(os.path.join(notebook_path, \"../..\"))\n",
    "sys.path.insert(0, project_root)"
   ]
  },
  {
   "cell_type": "code",
   "execution_count": 3,
   "metadata": {},
   "outputs": [
    {
     "name": "stdout",
     "output_type": "stream",
     "text": [
      "2.5.1+cu121\n",
      "True\n"
     ]
    }
   ],
   "source": [
    "print(torch.__version__)\n",
    "print(torch.cuda.is_available())"
   ]
  },
  {
   "cell_type": "markdown",
   "metadata": {},
   "source": [
    "Set the seed for reproducability\n"
   ]
  },
  {
   "cell_type": "code",
   "execution_count": 4,
   "metadata": {},
   "outputs": [],
   "source": [
    "random_seed = 42\n",
    "\n",
    "torch.manual_seed(random_seed)\n",
    "np.random.seed(random_seed)\n",
    "random.seed(random_seed)\n",
    "\n",
    "if (torch.cuda.is_available()):\n",
    "    torch.cuda.manual_seed(random_seed)"
   ]
  },
  {
   "cell_type": "markdown",
   "metadata": {},
   "source": [
    "Set some constant strings\n"
   ]
  },
  {
   "cell_type": "code",
   "execution_count": 5,
   "metadata": {},
   "outputs": [],
   "source": [
    "FINETUNED_MODEL = 'resnet50'\n",
    "\n",
    "train_csv = '../../../data/melspectrogram_train_dataset.csv'\n",
    "test_csv = '../../../data/melspectrogram_test_dataset.csv'\n",
    "val_csv = '../../../data/melspectrogram_val_dataset.csv'\n",
    "root_dir = '../../../data/'\n",
    "class_weights_path = '../../../data/class_weights.pt'"
   ]
  },
  {
   "cell_type": "markdown",
   "metadata": {},
   "source": [
    "Custom dataset class for loading the mel spectrogram images\n"
   ]
  },
  {
   "cell_type": "code",
   "execution_count": 6,
   "metadata": {},
   "outputs": [],
   "source": [
    "from datasets.MelspectrogramDataset import MelSpectrogramDataset"
   ]
  },
  {
   "cell_type": "markdown",
   "metadata": {},
   "source": [
    "Define the training function\n"
   ]
  },
  {
   "cell_type": "code",
   "execution_count": 7,
   "metadata": {},
   "outputs": [],
   "source": [
    "def train(model, trainloader, criterion, optimizer, device):\n",
    "    train_loss = 0.0\n",
    "    train_total = 0\n",
    "    train_correct = 0\n",
    "\n",
    "    # train mode\n",
    "    model.train()\n",
    "\n",
    "    epoch_start = time.time()\n",
    "    pbar = tqdm(enumerate(trainloader), total=len(\n",
    "        trainloader), desc=\"Training\")\n",
    "\n",
    "    for i, (inputs, labels) in pbar:\n",
    "        inputs, labels = inputs.to(device), labels.to(device)\n",
    "\n",
    "        # Zero the parameter gradients\n",
    "        optimizer.zero_grad()\n",
    "\n",
    "        # Forward pass\n",
    "        outputs = model(inputs)\n",
    "        loss = criterion(outputs, labels)\n",
    "\n",
    "        # Backward pass and optimize\n",
    "        loss.backward()\n",
    "        optimizer.step()\n",
    "\n",
    "        # Update training loss\n",
    "        train_loss += loss.item()\n",
    "\n",
    "        # Calculate accuracy\n",
    "        _, predicted = torch.max(outputs, 1)\n",
    "        train_total += labels.size(0)\n",
    "        train_correct += (predicted == labels).sum().item()\n",
    "\n",
    "        # Calculate time metrics\n",
    "        elapsed = time.time() - epoch_start\n",
    "        progress = (i + 1) / len(trainloader)\n",
    "        eta = elapsed / progress - elapsed\n",
    "\n",
    "        # Update progress bar with current loss and ETA\n",
    "        pbar.set_postfix({\n",
    "            \"Loss\": f\"{loss.item()}\",\n",
    "            \"Elapsed\": f\"{elapsed:.4f}s\",\n",
    "            \"ETA\": f\"{eta:.4f}s\"\n",
    "        })\n",
    "\n",
    "    train_loss = train_loss / len(trainloader)\n",
    "    train_accuracy = train_correct / train_total * 100\n",
    "\n",
    "    return model, train_loss, train_accuracy"
   ]
  },
  {
   "cell_type": "markdown",
   "metadata": {},
   "source": [
    "Define the validation function\n"
   ]
  },
  {
   "cell_type": "code",
   "execution_count": 8,
   "metadata": {},
   "outputs": [],
   "source": [
    "def validate(model, valloader, criterion, device):\n",
    "    val_loss = 0.0\n",
    "    val_total = 0\n",
    "    val_correct = 0\n",
    "\n",
    "    # Switch to evaluation mode\n",
    "    model.eval()\n",
    "\n",
    "    epoch_start = time.time()\n",
    "    pbar = tqdm(enumerate(valloader), total=len(\n",
    "        valloader), desc=\"Validating\")\n",
    "\n",
    "    with torch.no_grad():\n",
    "        for i, (inputs, labels) in pbar:\n",
    "            inputs, labels = inputs.to(device), labels.to(device)\n",
    "\n",
    "            # Forward pass\n",
    "            outputs = model(inputs)\n",
    "            loss = criterion(outputs, labels)\n",
    "\n",
    "            # Update test loss\n",
    "            val_loss += loss.item()\n",
    "\n",
    "            # Calculate accuracy\n",
    "            _, predicted = torch.max(outputs, 1)\n",
    "            val_total += labels.size(0)\n",
    "            val_correct += (predicted == labels).sum().item()\n",
    "\n",
    "            # Calculate time metrics\n",
    "            elapsed = time.time() - epoch_start\n",
    "            progress = (i + 1) / len(valloader)\n",
    "            eta = elapsed / progress - elapsed\n",
    "\n",
    "            # Update progress bar with current loss and ETA\n",
    "            pbar.set_postfix({\n",
    "                \"Loss\": f\"{loss.item()}\",\n",
    "                \"Elapsed\": f\"{elapsed:.4f}s\",\n",
    "                \"ETA\": f\"{eta:.4f}s\"\n",
    "            })\n",
    "\n",
    "    val_loss = val_loss / len(valloader)\n",
    "    val_accuracy = val_correct / val_total * 100\n",
    "\n",
    "    return val_loss, val_accuracy"
   ]
  },
  {
   "cell_type": "markdown",
   "metadata": {},
   "source": [
    "Define what happens in each epoch\n"
   ]
  },
  {
   "cell_type": "code",
   "execution_count": 9,
   "metadata": {},
   "outputs": [],
   "source": [
    "def train_epochs(model, trainloader, valloader, criterion, optimizer, device, num_epochs):\n",
    "    train_losses = []\n",
    "    train_accuracies = []\n",
    "    val_losses = []\n",
    "    val_accuracies = []\n",
    "    best_accuracy = 0\n",
    "\n",
    "    for epoch in range(num_epochs):\n",
    "        print(f'Epoch {epoch+1}/{num_epochs}')\n",
    "        epoch_start = time.time()\n",
    "\n",
    "        model, train_loss, train_accuracy = train(\n",
    "            model, trainloader, criterion, optimizer, device)\n",
    "        val_loss, val_accuracy = validate(\n",
    "            model, valloader, criterion, device)\n",
    "\n",
    "        epoch_elapsed = time.time() - epoch_start\n",
    "        print(f\"Epoch {epoch+1} completed in {epoch_elapsed:.4f}s\")\n",
    "        print(f'Train Loss: {train_loss} - Train Accuracy: {train_accuracy}')\n",
    "        print(\n",
    "            f'Validation Loss: {val_loss} - Validation Accuracy: {val_accuracy}')\n",
    "        print()\n",
    "\n",
    "        train_losses.append(train_loss)\n",
    "        train_accuracies.append(train_accuracy)\n",
    "        val_losses.append(val_loss)\n",
    "        val_accuracies.append(val_accuracy)\n",
    "\n",
    "        # Check if current model is best performing using test_accuracy\n",
    "        if val_accuracy > best_accuracy:\n",
    "            best_accuracy = val_accuracy\n",
    "            torch.save(model.state_dict(), f'best_{FINETUNED_MODEL}.pt')\n",
    "            checkpoint = {\n",
    "                'epoch': epoch + 1,\n",
    "                'train_losses': train_losses,\n",
    "                'train_accuracies': train_accuracies,\n",
    "                'val_losses': val_losses,\n",
    "                'val_accuracies': val_accuracies,\n",
    "            }\n",
    "            torch.save(checkpoint, f'best_{FINETUNED_MODEL}_checkpoint.pt')\n",
    "\n",
    "    return model, train_losses, train_accuracies, val_losses, val_accuracies"
   ]
  },
  {
   "cell_type": "markdown",
   "metadata": {},
   "source": [
    "Plot the loss and accuracy graphs\n"
   ]
  },
  {
   "cell_type": "code",
   "execution_count": 10,
   "metadata": {},
   "outputs": [],
   "source": [
    "def plot_loss(train_losses, val_losses):\n",
    "    plt.figure()\n",
    "    plt.plot(range(len(train_losses)), train_losses, label='Training Loss')\n",
    "    plt.plot(range(len(val_losses)), val_losses, label='Validation Loss')\n",
    "    plt.xlabel('Epoch')\n",
    "    plt.ylabel('Loss')\n",
    "    plt.legend()\n",
    "    plt.show()"
   ]
  },
  {
   "cell_type": "code",
   "execution_count": 11,
   "metadata": {},
   "outputs": [],
   "source": [
    "def plot_accuracy(train_accuracies, val_accuracies):\n",
    "    plt.figure()\n",
    "    plt.plot(range(len(train_accuracies)),\n",
    "             train_accuracies, label='Training Accuracy')\n",
    "    plt.plot(range(len(val_accuracies)),\n",
    "             val_accuracies, label='Validation Accuracy')\n",
    "    plt.xlabel('Epoch')\n",
    "    plt.ylabel('Accuracy')\n",
    "    plt.legend()\n",
    "    plt.show()"
   ]
  },
  {
   "cell_type": "markdown",
   "metadata": {},
   "source": [
    "Define the model\n"
   ]
  },
  {
   "cell_type": "code",
   "execution_count": 12,
   "metadata": {},
   "outputs": [
    {
     "name": "stderr",
     "output_type": "stream",
     "text": [
      "c:\\Users\\profi\\OneDrive\\Desktop\\AI-Project--Speech-Emotion-Recognition\\myenv\\lib\\site-packages\\torchvision\\models\\_utils.py:208: UserWarning: The parameter 'pretrained' is deprecated since 0.13 and may be removed in the future, please use 'weights' instead.\n",
      "  warnings.warn(\n",
      "c:\\Users\\profi\\OneDrive\\Desktop\\AI-Project--Speech-Emotion-Recognition\\myenv\\lib\\site-packages\\torchvision\\models\\_utils.py:223: UserWarning: Arguments other than a weight enum or `None` for 'weights' are deprecated since 0.13 and may be removed in the future. The current behavior is equivalent to passing `weights=ResNet50_Weights.IMAGENET1K_V1`. You can also use `weights=ResNet50_Weights.DEFAULT` to get the most up-to-date weights.\n",
      "  warnings.warn(msg)\n"
     ]
    }
   ],
   "source": [
    "model = models.resnet50(pretrained=True)"
   ]
  },
  {
   "cell_type": "markdown",
   "metadata": {},
   "source": [
    "Prepare for fine-tuning\n"
   ]
  },
  {
   "cell_type": "code",
   "execution_count": 13,
   "metadata": {},
   "outputs": [
    {
     "data": {
      "text/plain": [
       "ResNet(\n",
       "  (conv1): Conv2d(3, 64, kernel_size=(7, 7), stride=(2, 2), padding=(3, 3), bias=False)\n",
       "  (bn1): BatchNorm2d(64, eps=1e-05, momentum=0.1, affine=True, track_running_stats=True)\n",
       "  (relu): ReLU(inplace=True)\n",
       "  (maxpool): MaxPool2d(kernel_size=3, stride=2, padding=1, dilation=1, ceil_mode=False)\n",
       "  (layer1): Sequential(\n",
       "    (0): Bottleneck(\n",
       "      (conv1): Conv2d(64, 64, kernel_size=(1, 1), stride=(1, 1), bias=False)\n",
       "      (bn1): BatchNorm2d(64, eps=1e-05, momentum=0.1, affine=True, track_running_stats=True)\n",
       "      (conv2): Conv2d(64, 64, kernel_size=(3, 3), stride=(1, 1), padding=(1, 1), bias=False)\n",
       "      (bn2): BatchNorm2d(64, eps=1e-05, momentum=0.1, affine=True, track_running_stats=True)\n",
       "      (conv3): Conv2d(64, 256, kernel_size=(1, 1), stride=(1, 1), bias=False)\n",
       "      (bn3): BatchNorm2d(256, eps=1e-05, momentum=0.1, affine=True, track_running_stats=True)\n",
       "      (relu): ReLU(inplace=True)\n",
       "      (downsample): Sequential(\n",
       "        (0): Conv2d(64, 256, kernel_size=(1, 1), stride=(1, 1), bias=False)\n",
       "        (1): BatchNorm2d(256, eps=1e-05, momentum=0.1, affine=True, track_running_stats=True)\n",
       "      )\n",
       "    )\n",
       "    (1): Bottleneck(\n",
       "      (conv1): Conv2d(256, 64, kernel_size=(1, 1), stride=(1, 1), bias=False)\n",
       "      (bn1): BatchNorm2d(64, eps=1e-05, momentum=0.1, affine=True, track_running_stats=True)\n",
       "      (conv2): Conv2d(64, 64, kernel_size=(3, 3), stride=(1, 1), padding=(1, 1), bias=False)\n",
       "      (bn2): BatchNorm2d(64, eps=1e-05, momentum=0.1, affine=True, track_running_stats=True)\n",
       "      (conv3): Conv2d(64, 256, kernel_size=(1, 1), stride=(1, 1), bias=False)\n",
       "      (bn3): BatchNorm2d(256, eps=1e-05, momentum=0.1, affine=True, track_running_stats=True)\n",
       "      (relu): ReLU(inplace=True)\n",
       "    )\n",
       "    (2): Bottleneck(\n",
       "      (conv1): Conv2d(256, 64, kernel_size=(1, 1), stride=(1, 1), bias=False)\n",
       "      (bn1): BatchNorm2d(64, eps=1e-05, momentum=0.1, affine=True, track_running_stats=True)\n",
       "      (conv2): Conv2d(64, 64, kernel_size=(3, 3), stride=(1, 1), padding=(1, 1), bias=False)\n",
       "      (bn2): BatchNorm2d(64, eps=1e-05, momentum=0.1, affine=True, track_running_stats=True)\n",
       "      (conv3): Conv2d(64, 256, kernel_size=(1, 1), stride=(1, 1), bias=False)\n",
       "      (bn3): BatchNorm2d(256, eps=1e-05, momentum=0.1, affine=True, track_running_stats=True)\n",
       "      (relu): ReLU(inplace=True)\n",
       "    )\n",
       "  )\n",
       "  (layer2): Sequential(\n",
       "    (0): Bottleneck(\n",
       "      (conv1): Conv2d(256, 128, kernel_size=(1, 1), stride=(1, 1), bias=False)\n",
       "      (bn1): BatchNorm2d(128, eps=1e-05, momentum=0.1, affine=True, track_running_stats=True)\n",
       "      (conv2): Conv2d(128, 128, kernel_size=(3, 3), stride=(2, 2), padding=(1, 1), bias=False)\n",
       "      (bn2): BatchNorm2d(128, eps=1e-05, momentum=0.1, affine=True, track_running_stats=True)\n",
       "      (conv3): Conv2d(128, 512, kernel_size=(1, 1), stride=(1, 1), bias=False)\n",
       "      (bn3): BatchNorm2d(512, eps=1e-05, momentum=0.1, affine=True, track_running_stats=True)\n",
       "      (relu): ReLU(inplace=True)\n",
       "      (downsample): Sequential(\n",
       "        (0): Conv2d(256, 512, kernel_size=(1, 1), stride=(2, 2), bias=False)\n",
       "        (1): BatchNorm2d(512, eps=1e-05, momentum=0.1, affine=True, track_running_stats=True)\n",
       "      )\n",
       "    )\n",
       "    (1): Bottleneck(\n",
       "      (conv1): Conv2d(512, 128, kernel_size=(1, 1), stride=(1, 1), bias=False)\n",
       "      (bn1): BatchNorm2d(128, eps=1e-05, momentum=0.1, affine=True, track_running_stats=True)\n",
       "      (conv2): Conv2d(128, 128, kernel_size=(3, 3), stride=(1, 1), padding=(1, 1), bias=False)\n",
       "      (bn2): BatchNorm2d(128, eps=1e-05, momentum=0.1, affine=True, track_running_stats=True)\n",
       "      (conv3): Conv2d(128, 512, kernel_size=(1, 1), stride=(1, 1), bias=False)\n",
       "      (bn3): BatchNorm2d(512, eps=1e-05, momentum=0.1, affine=True, track_running_stats=True)\n",
       "      (relu): ReLU(inplace=True)\n",
       "    )\n",
       "    (2): Bottleneck(\n",
       "      (conv1): Conv2d(512, 128, kernel_size=(1, 1), stride=(1, 1), bias=False)\n",
       "      (bn1): BatchNorm2d(128, eps=1e-05, momentum=0.1, affine=True, track_running_stats=True)\n",
       "      (conv2): Conv2d(128, 128, kernel_size=(3, 3), stride=(1, 1), padding=(1, 1), bias=False)\n",
       "      (bn2): BatchNorm2d(128, eps=1e-05, momentum=0.1, affine=True, track_running_stats=True)\n",
       "      (conv3): Conv2d(128, 512, kernel_size=(1, 1), stride=(1, 1), bias=False)\n",
       "      (bn3): BatchNorm2d(512, eps=1e-05, momentum=0.1, affine=True, track_running_stats=True)\n",
       "      (relu): ReLU(inplace=True)\n",
       "    )\n",
       "    (3): Bottleneck(\n",
       "      (conv1): Conv2d(512, 128, kernel_size=(1, 1), stride=(1, 1), bias=False)\n",
       "      (bn1): BatchNorm2d(128, eps=1e-05, momentum=0.1, affine=True, track_running_stats=True)\n",
       "      (conv2): Conv2d(128, 128, kernel_size=(3, 3), stride=(1, 1), padding=(1, 1), bias=False)\n",
       "      (bn2): BatchNorm2d(128, eps=1e-05, momentum=0.1, affine=True, track_running_stats=True)\n",
       "      (conv3): Conv2d(128, 512, kernel_size=(1, 1), stride=(1, 1), bias=False)\n",
       "      (bn3): BatchNorm2d(512, eps=1e-05, momentum=0.1, affine=True, track_running_stats=True)\n",
       "      (relu): ReLU(inplace=True)\n",
       "    )\n",
       "  )\n",
       "  (layer3): Sequential(\n",
       "    (0): Bottleneck(\n",
       "      (conv1): Conv2d(512, 256, kernel_size=(1, 1), stride=(1, 1), bias=False)\n",
       "      (bn1): BatchNorm2d(256, eps=1e-05, momentum=0.1, affine=True, track_running_stats=True)\n",
       "      (conv2): Conv2d(256, 256, kernel_size=(3, 3), stride=(2, 2), padding=(1, 1), bias=False)\n",
       "      (bn2): BatchNorm2d(256, eps=1e-05, momentum=0.1, affine=True, track_running_stats=True)\n",
       "      (conv3): Conv2d(256, 1024, kernel_size=(1, 1), stride=(1, 1), bias=False)\n",
       "      (bn3): BatchNorm2d(1024, eps=1e-05, momentum=0.1, affine=True, track_running_stats=True)\n",
       "      (relu): ReLU(inplace=True)\n",
       "      (downsample): Sequential(\n",
       "        (0): Conv2d(512, 1024, kernel_size=(1, 1), stride=(2, 2), bias=False)\n",
       "        (1): BatchNorm2d(1024, eps=1e-05, momentum=0.1, affine=True, track_running_stats=True)\n",
       "      )\n",
       "    )\n",
       "    (1): Bottleneck(\n",
       "      (conv1): Conv2d(1024, 256, kernel_size=(1, 1), stride=(1, 1), bias=False)\n",
       "      (bn1): BatchNorm2d(256, eps=1e-05, momentum=0.1, affine=True, track_running_stats=True)\n",
       "      (conv2): Conv2d(256, 256, kernel_size=(3, 3), stride=(1, 1), padding=(1, 1), bias=False)\n",
       "      (bn2): BatchNorm2d(256, eps=1e-05, momentum=0.1, affine=True, track_running_stats=True)\n",
       "      (conv3): Conv2d(256, 1024, kernel_size=(1, 1), stride=(1, 1), bias=False)\n",
       "      (bn3): BatchNorm2d(1024, eps=1e-05, momentum=0.1, affine=True, track_running_stats=True)\n",
       "      (relu): ReLU(inplace=True)\n",
       "    )\n",
       "    (2): Bottleneck(\n",
       "      (conv1): Conv2d(1024, 256, kernel_size=(1, 1), stride=(1, 1), bias=False)\n",
       "      (bn1): BatchNorm2d(256, eps=1e-05, momentum=0.1, affine=True, track_running_stats=True)\n",
       "      (conv2): Conv2d(256, 256, kernel_size=(3, 3), stride=(1, 1), padding=(1, 1), bias=False)\n",
       "      (bn2): BatchNorm2d(256, eps=1e-05, momentum=0.1, affine=True, track_running_stats=True)\n",
       "      (conv3): Conv2d(256, 1024, kernel_size=(1, 1), stride=(1, 1), bias=False)\n",
       "      (bn3): BatchNorm2d(1024, eps=1e-05, momentum=0.1, affine=True, track_running_stats=True)\n",
       "      (relu): ReLU(inplace=True)\n",
       "    )\n",
       "    (3): Bottleneck(\n",
       "      (conv1): Conv2d(1024, 256, kernel_size=(1, 1), stride=(1, 1), bias=False)\n",
       "      (bn1): BatchNorm2d(256, eps=1e-05, momentum=0.1, affine=True, track_running_stats=True)\n",
       "      (conv2): Conv2d(256, 256, kernel_size=(3, 3), stride=(1, 1), padding=(1, 1), bias=False)\n",
       "      (bn2): BatchNorm2d(256, eps=1e-05, momentum=0.1, affine=True, track_running_stats=True)\n",
       "      (conv3): Conv2d(256, 1024, kernel_size=(1, 1), stride=(1, 1), bias=False)\n",
       "      (bn3): BatchNorm2d(1024, eps=1e-05, momentum=0.1, affine=True, track_running_stats=True)\n",
       "      (relu): ReLU(inplace=True)\n",
       "    )\n",
       "    (4): Bottleneck(\n",
       "      (conv1): Conv2d(1024, 256, kernel_size=(1, 1), stride=(1, 1), bias=False)\n",
       "      (bn1): BatchNorm2d(256, eps=1e-05, momentum=0.1, affine=True, track_running_stats=True)\n",
       "      (conv2): Conv2d(256, 256, kernel_size=(3, 3), stride=(1, 1), padding=(1, 1), bias=False)\n",
       "      (bn2): BatchNorm2d(256, eps=1e-05, momentum=0.1, affine=True, track_running_stats=True)\n",
       "      (conv3): Conv2d(256, 1024, kernel_size=(1, 1), stride=(1, 1), bias=False)\n",
       "      (bn3): BatchNorm2d(1024, eps=1e-05, momentum=0.1, affine=True, track_running_stats=True)\n",
       "      (relu): ReLU(inplace=True)\n",
       "    )\n",
       "    (5): Bottleneck(\n",
       "      (conv1): Conv2d(1024, 256, kernel_size=(1, 1), stride=(1, 1), bias=False)\n",
       "      (bn1): BatchNorm2d(256, eps=1e-05, momentum=0.1, affine=True, track_running_stats=True)\n",
       "      (conv2): Conv2d(256, 256, kernel_size=(3, 3), stride=(1, 1), padding=(1, 1), bias=False)\n",
       "      (bn2): BatchNorm2d(256, eps=1e-05, momentum=0.1, affine=True, track_running_stats=True)\n",
       "      (conv3): Conv2d(256, 1024, kernel_size=(1, 1), stride=(1, 1), bias=False)\n",
       "      (bn3): BatchNorm2d(1024, eps=1e-05, momentum=0.1, affine=True, track_running_stats=True)\n",
       "      (relu): ReLU(inplace=True)\n",
       "    )\n",
       "  )\n",
       "  (layer4): Sequential(\n",
       "    (0): Bottleneck(\n",
       "      (conv1): Conv2d(1024, 512, kernel_size=(1, 1), stride=(1, 1), bias=False)\n",
       "      (bn1): BatchNorm2d(512, eps=1e-05, momentum=0.1, affine=True, track_running_stats=True)\n",
       "      (conv2): Conv2d(512, 512, kernel_size=(3, 3), stride=(2, 2), padding=(1, 1), bias=False)\n",
       "      (bn2): BatchNorm2d(512, eps=1e-05, momentum=0.1, affine=True, track_running_stats=True)\n",
       "      (conv3): Conv2d(512, 2048, kernel_size=(1, 1), stride=(1, 1), bias=False)\n",
       "      (bn3): BatchNorm2d(2048, eps=1e-05, momentum=0.1, affine=True, track_running_stats=True)\n",
       "      (relu): ReLU(inplace=True)\n",
       "      (downsample): Sequential(\n",
       "        (0): Conv2d(1024, 2048, kernel_size=(1, 1), stride=(2, 2), bias=False)\n",
       "        (1): BatchNorm2d(2048, eps=1e-05, momentum=0.1, affine=True, track_running_stats=True)\n",
       "      )\n",
       "    )\n",
       "    (1): Bottleneck(\n",
       "      (conv1): Conv2d(2048, 512, kernel_size=(1, 1), stride=(1, 1), bias=False)\n",
       "      (bn1): BatchNorm2d(512, eps=1e-05, momentum=0.1, affine=True, track_running_stats=True)\n",
       "      (conv2): Conv2d(512, 512, kernel_size=(3, 3), stride=(1, 1), padding=(1, 1), bias=False)\n",
       "      (bn2): BatchNorm2d(512, eps=1e-05, momentum=0.1, affine=True, track_running_stats=True)\n",
       "      (conv3): Conv2d(512, 2048, kernel_size=(1, 1), stride=(1, 1), bias=False)\n",
       "      (bn3): BatchNorm2d(2048, eps=1e-05, momentum=0.1, affine=True, track_running_stats=True)\n",
       "      (relu): ReLU(inplace=True)\n",
       "    )\n",
       "    (2): Bottleneck(\n",
       "      (conv1): Conv2d(2048, 512, kernel_size=(1, 1), stride=(1, 1), bias=False)\n",
       "      (bn1): BatchNorm2d(512, eps=1e-05, momentum=0.1, affine=True, track_running_stats=True)\n",
       "      (conv2): Conv2d(512, 512, kernel_size=(3, 3), stride=(1, 1), padding=(1, 1), bias=False)\n",
       "      (bn2): BatchNorm2d(512, eps=1e-05, momentum=0.1, affine=True, track_running_stats=True)\n",
       "      (conv3): Conv2d(512, 2048, kernel_size=(1, 1), stride=(1, 1), bias=False)\n",
       "      (bn3): BatchNorm2d(2048, eps=1e-05, momentum=0.1, affine=True, track_running_stats=True)\n",
       "      (relu): ReLU(inplace=True)\n",
       "    )\n",
       "  )\n",
       "  (avgpool): AdaptiveAvgPool2d(output_size=(1, 1))\n",
       "  (fc): Linear(in_features=2048, out_features=9, bias=True)\n",
       ")"
      ]
     },
     "execution_count": 13,
     "metadata": {},
     "output_type": "execute_result"
    }
   ],
   "source": [
    "# Number of classes\n",
    "num_classes = 9\n",
    "\n",
    "# Freeze all layers except the last fully connected layer\n",
    "for param in model.parameters():\n",
    "    param.requires_grad = False  # Freeze all layers\n",
    "\n",
    "# Modify final fully connected layer according to number of classes\n",
    "num_features = model.fc.in_features\n",
    "model.fc = nn.Linear(num_features, num_classes)\n",
    "# print(\"Modified model\")\n",
    "# print(model)\n",
    "\n",
    "# Unfreeze the final fully connected layer so it will be trained\n",
    "for param in model.fc.parameters():\n",
    "    param.requires_grad = True\n",
    "\n",
    "# Move model to GPU\n",
    "device = torch.device(\"cuda\" if torch.cuda.is_available() else \"cpu\")\n",
    "model.to(device)"
   ]
  },
  {
   "cell_type": "markdown",
   "metadata": {},
   "source": [
    "Define the learning rate, criterion, optimizer, transformations, and number of epochs\n"
   ]
  },
  {
   "cell_type": "code",
   "execution_count": 14,
   "metadata": {},
   "outputs": [
    {
     "name": "stderr",
     "output_type": "stream",
     "text": [
      "C:\\Users\\profi\\AppData\\Local\\Temp\\ipykernel_18204\\3411069088.py:3: FutureWarning: You are using `torch.load` with `weights_only=False` (the current default value), which uses the default pickle module implicitly. It is possible to construct malicious pickle data which will execute arbitrary code during unpickling (See https://github.com/pytorch/pytorch/blob/main/SECURITY.md#untrusted-models for more details). In a future release, the default value for `weights_only` will be flipped to `True`. This limits the functions that could be executed during unpickling. Arbitrary objects will no longer be allowed to be loaded via this mode unless they are explicitly allowlisted by the user via `torch.serialization.add_safe_globals`. We recommend you start setting `weights_only=True` for any use case where you don't have full control of the loaded file. Please open an issue on GitHub for any issues related to this experimental feature.\n",
      "  class_weights = torch.load(class_weights_path).to(device)\n"
     ]
    }
   ],
   "source": [
    "learning_rate = 0.001\n",
    "\n",
    "class_weights = torch.load(class_weights_path).to(device)\n",
    "criterion = nn.CrossEntropyLoss(weight=class_weights)\n",
    "\n",
    "optimizer = optim.Adam(model.parameters(), lr=learning_rate)\n",
    "\n",
    "# Define transformations\n",
    "transform = transforms.Compose([\n",
    "    # Resize the Mel spectrogram to 224x224, suitable for ResNet50\n",
    "    transforms.Resize((224, 224)),\n",
    "    transforms.ToTensor(),          # Convert to Tensor\n",
    "    transforms.Normalize(mean=[0.485, 0.456, 0.406], std=[\n",
    "                         0.229, 0.224, 0.225])  # Normalize to ImageNet stats\n",
    "])\n",
    "\n",
    "epochs = 20"
   ]
  },
  {
   "cell_type": "markdown",
   "metadata": {},
   "source": [
    "Execute the fine-tuning\n"
   ]
  },
  {
   "cell_type": "code",
   "execution_count": 15,
   "metadata": {},
   "outputs": [
    {
     "name": "stdout",
     "output_type": "stream",
     "text": [
      "Mapping from Emotion to Number: {'Anger': 0, 'Bored': 1, 'Disgust': 2, 'Fear': 3, 'Happy': 4, 'Neutral': 5, 'Question': 6, 'Sad': 7, 'Surprise': 8}\n",
      "Model is on: cuda:0\n",
      "Epoch 1/20\n"
     ]
    },
    {
     "name": "stderr",
     "output_type": "stream",
     "text": [
      "Training: 100%|██████████| 346/346 [00:40<00:00,  8.64it/s, Loss=1.3425030708312988, Elapsed=51.5411s, ETA=0.0000s] \n",
      "Validating: 100%|██████████| 75/75 [00:09<00:00,  7.87it/s, Loss=1.60907781124115, Elapsed=20.5422s, ETA=0.0000s]   \n"
     ]
    },
    {
     "name": "stdout",
     "output_type": "stream",
     "text": [
      "Epoch 1 completed in 73.2184s\n",
      "Train Loss: 1.4551465249475026 - Train Accuracy: 40.722733542886864\n",
      "Validation Loss: 1.337047832806905 - Validation Accuracy: 43.932038834951456\n",
      "\n",
      "Epoch 2/20\n"
     ]
    },
    {
     "name": "stderr",
     "output_type": "stream",
     "text": [
      "Training: 100%|██████████| 346/346 [00:39<00:00,  8.65it/s, Loss=1.2951648235321045, Elapsed=50.9790s, ETA=0.0000s] \n",
      "Validating: 100%|██████████| 75/75 [00:09<00:00,  7.81it/s, Loss=1.4865977764129639, Elapsed=20.7410s, ETA=0.0000s] \n"
     ]
    },
    {
     "name": "stdout",
     "output_type": "stream",
     "text": [
      "Epoch 2 completed in 72.8607s\n",
      "Train Loss: 1.2852781559690574 - Train Accuracy: 46.38294023201646\n",
      "Validation Loss: 1.2831380462646484 - Validation Accuracy: 46.98184888138455\n",
      "\n",
      "Epoch 3/20\n"
     ]
    },
    {
     "name": "stderr",
     "output_type": "stream",
     "text": [
      "Training: 100%|██████████| 346/346 [00:40<00:00,  8.60it/s, Loss=1.0905057191848755, Elapsed=51.2146s, ETA=0.0000s] \n",
      "Validating: 100%|██████████| 75/75 [00:09<00:00,  7.82it/s, Loss=1.21882963180542, Elapsed=20.5696s, ETA=0.0000s]   \n"
     ]
    },
    {
     "name": "stdout",
     "output_type": "stream",
     "text": [
      "Epoch 3 completed in 72.9572s\n",
      "Train Loss: 1.239404649403743 - Train Accuracy: 47.787250401393\n",
      "Validation Loss: 1.2928683869043986 - Validation Accuracy: 46.25369354157873\n",
      "\n",
      "Epoch 4/20\n"
     ]
    },
    {
     "name": "stderr",
     "output_type": "stream",
     "text": [
      "Training: 100%|██████████| 346/346 [00:40<00:00,  8.63it/s, Loss=1.0900540351867676, Elapsed=50.9115s, ETA=0.0000s] \n",
      "Validating: 100%|██████████| 75/75 [00:09<00:00,  7.80it/s, Loss=1.3130697011947632, Elapsed=20.7217s, ETA=0.0000s] \n"
     ]
    },
    {
     "name": "stdout",
     "output_type": "stream",
     "text": [
      "Epoch 4 completed in 72.7873s\n",
      "Train Loss: 1.207277044223223 - Train Accuracy: 49.148594559146105\n",
      "Validation Loss: 1.2139606547355652 - Validation Accuracy: 49.52511608273533\n",
      "\n",
      "Epoch 5/20\n"
     ]
    },
    {
     "name": "stderr",
     "output_type": "stream",
     "text": [
      "Training: 100%|██████████| 346/346 [00:40<00:00,  8.62it/s, Loss=1.5022215843200684, Elapsed=51.0782s, ETA=0.0000s] \n",
      "Validating: 100%|██████████| 75/75 [00:09<00:00,  7.81it/s, Loss=1.2438342571258545, Elapsed=20.7493s, ETA=0.0000s] \n"
     ]
    },
    {
     "name": "stdout",
     "output_type": "stream",
     "text": [
      "Epoch 5 completed in 72.9893s\n",
      "Train Loss: 1.1918887451204951 - Train Accuracy: 49.67549354379141\n",
      "Validation Loss: 1.2278799271583558 - Validation Accuracy: 48.1532292106374\n",
      "\n",
      "Epoch 6/20\n"
     ]
    },
    {
     "name": "stderr",
     "output_type": "stream",
     "text": [
      "Training: 100%|██████████| 346/346 [00:39<00:00,  8.65it/s, Loss=1.3487094640731812, Elapsed=50.9319s, ETA=0.0000s] \n",
      "Validating: 100%|██████████| 75/75 [00:09<00:00,  7.79it/s, Loss=1.3204474449157715, Elapsed=20.6893s, ETA=0.0000s] \n"
     ]
    },
    {
     "name": "stdout",
     "output_type": "stream",
     "text": [
      "Epoch 6 completed in 72.7858s\n",
      "Train Loss: 1.1754149336346311 - Train Accuracy: 50.313199611044524\n",
      "Validation Loss: 1.2071628713607787 - Validation Accuracy: 48.575348248206\n",
      "\n",
      "Epoch 7/20\n"
     ]
    },
    {
     "name": "stderr",
     "output_type": "stream",
     "text": [
      "Training: 100%|██████████| 346/346 [00:39<00:00,  8.66it/s, Loss=1.0073730945587158, Elapsed=51.0390s, ETA=0.0000s] \n",
      "Validating: 100%|██████████| 75/75 [00:09<00:00,  7.86it/s, Loss=1.1818406581878662, Elapsed=20.7824s, ETA=0.0000s] \n"
     ]
    },
    {
     "name": "stdout",
     "output_type": "stream",
     "text": [
      "Epoch 7 completed in 72.9319s\n",
      "Train Loss: 1.160057286134345 - Train Accuracy: 50.59360937111327\n",
      "Validation Loss: 1.274949696858724 - Validation Accuracy: 49.17686787674124\n",
      "\n",
      "Epoch 8/20\n"
     ]
    },
    {
     "name": "stderr",
     "output_type": "stream",
     "text": [
      "Training: 100%|██████████| 346/346 [00:39<00:00,  8.65it/s, Loss=1.3701386451721191, Elapsed=51.0014s, ETA=0.0000s] \n",
      "Validating: 100%|██████████| 75/75 [00:09<00:00,  7.87it/s, Loss=1.056840419769287, Elapsed=20.5681s, ETA=0.0000s]  \n"
     ]
    },
    {
     "name": "stdout",
     "output_type": "stream",
     "text": [
      "Epoch 8 completed in 72.6449s\n",
      "Train Loss: 1.1515739978737913 - Train Accuracy: 51.22679270030076\n",
      "Validation Loss: 1.2269122831026713 - Validation Accuracy: 46.8763191219924\n",
      "\n",
      "Epoch 9/20\n"
     ]
    },
    {
     "name": "stderr",
     "output_type": "stream",
     "text": [
      "Training: 100%|██████████| 346/346 [00:40<00:00,  8.64it/s, Loss=1.287936806678772, Elapsed=50.9892s, ETA=0.0000s]  \n",
      "Validating: 100%|██████████| 75/75 [00:09<00:00,  7.80it/s, Loss=1.1955888271331787, Elapsed=20.8402s, ETA=0.0000s] \n"
     ]
    },
    {
     "name": "stdout",
     "output_type": "stream",
     "text": [
      "Epoch 9 completed in 72.9259s\n",
      "Train Loss: 1.1388585975748955 - Train Accuracy: 51.758214423011694\n",
      "Validation Loss: 1.188376969496409 - Validation Accuracy: 47.73111017306881\n",
      "\n",
      "Epoch 10/20\n"
     ]
    },
    {
     "name": "stderr",
     "output_type": "stream",
     "text": [
      "Training: 100%|██████████| 346/346 [00:39<00:00,  8.66it/s, Loss=1.1115961074829102, Elapsed=50.8985s, ETA=0.0000s] \n",
      "Validating: 100%|██████████| 75/75 [00:09<00:00,  7.90it/s, Loss=1.137021780014038, Elapsed=20.4772s, ETA=0.0000s]  \n"
     ]
    },
    {
     "name": "stdout",
     "output_type": "stream",
     "text": [
      "Epoch 10 completed in 72.4594s\n",
      "Train Loss: 1.1310445642195686 - Train Accuracy: 51.79213495850388\n",
      "Validation Loss: 1.1898219831784567 - Validation Accuracy: 49.06078514140988\n",
      "\n",
      "Epoch 11/20\n"
     ]
    },
    {
     "name": "stderr",
     "output_type": "stream",
     "text": [
      "Training: 100%|██████████| 346/346 [00:39<00:00,  8.65it/s, Loss=1.8536715507507324, Elapsed=50.8890s, ETA=0.0000s] \n",
      "Validating: 100%|██████████| 75/75 [00:09<00:00,  7.82it/s, Loss=0.9868869185447693, Elapsed=20.6912s, ETA=0.0000s] \n"
     ]
    },
    {
     "name": "stdout",
     "output_type": "stream",
     "text": [
      "Epoch 11 completed in 72.6741s\n",
      "Train Loss: 1.126799754324676 - Train Accuracy: 52.13812442052419\n",
      "Validation Loss: 1.2850779779752095 - Validation Accuracy: 46.707471506964964\n",
      "\n",
      "Epoch 12/20\n"
     ]
    },
    {
     "name": "stderr",
     "output_type": "stream",
     "text": [
      "Training: 100%|██████████| 346/346 [00:40<00:00,  8.64it/s, Loss=0.9056216478347778, Elapsed=51.0187s, ETA=0.0000s] \n",
      "Validating: 100%|██████████| 75/75 [00:09<00:00,  7.80it/s, Loss=1.3746044635772705, Elapsed=20.6598s, ETA=0.0000s] \n"
     ]
    },
    {
     "name": "stdout",
     "output_type": "stream",
     "text": [
      "Epoch 12 completed in 72.7905s\n",
      "Train Loss: 1.1111844702263098 - Train Accuracy: 52.51125031093824\n",
      "Validation Loss: 1.1615163429578146 - Validation Accuracy: 52.627691008864495\n",
      "\n",
      "Epoch 13/20\n"
     ]
    },
    {
     "name": "stderr",
     "output_type": "stream",
     "text": [
      "Training: 100%|██████████| 346/346 [00:39<00:00,  8.65it/s, Loss=1.0057293176651, Elapsed=50.9851s, ETA=0.0000s]    \n",
      "Validating: 100%|██████████| 75/75 [00:09<00:00,  7.84it/s, Loss=1.2583094835281372, Elapsed=20.5720s, ETA=0.0000s] \n"
     ]
    },
    {
     "name": "stdout",
     "output_type": "stream",
     "text": [
      "Epoch 13 completed in 72.6761s\n",
      "Train Loss: 1.1052259785591523 - Train Accuracy: 52.717034892924175\n",
      "Validation Loss: 1.1940223741531373 - Validation Accuracy: 49.5778809624314\n",
      "\n",
      "Epoch 14/20\n"
     ]
    },
    {
     "name": "stderr",
     "output_type": "stream",
     "text": [
      "Training: 100%|██████████| 346/346 [00:40<00:00,  8.63it/s, Loss=0.9959990382194519, Elapsed=50.9664s, ETA=0.0000s] \n",
      "Validating: 100%|██████████| 75/75 [00:09<00:00,  7.82it/s, Loss=1.0021511316299438, Elapsed=20.6864s, ETA=0.0000s] \n"
     ]
    },
    {
     "name": "stdout",
     "output_type": "stream",
     "text": [
      "Epoch 14 completed in 72.7922s\n",
      "Train Loss: 1.1030422014997185 - Train Accuracy: 52.97935370073043\n",
      "Validation Loss: 1.1680455088615418 - Validation Accuracy: 50.749261291684256\n",
      "\n",
      "Epoch 15/20\n"
     ]
    },
    {
     "name": "stderr",
     "output_type": "stream",
     "text": [
      "Training: 100%|██████████| 346/346 [00:39<00:00,  8.66it/s, Loss=1.303037405014038, Elapsed=50.7945s, ETA=0.0000s]  \n",
      "Validating: 100%|██████████| 75/75 [00:09<00:00,  7.90it/s, Loss=1.0654363632202148, Elapsed=20.4775s, ETA=0.0000s] \n"
     ]
    },
    {
     "name": "stdout",
     "output_type": "stream",
     "text": [
      "Epoch 15 completed in 72.4081s\n",
      "Train Loss: 1.0898876415856311 - Train Accuracy: 53.36830917437416\n",
      "Validation Loss: 1.154266053835551 - Validation Accuracy: 50.70704938792739\n",
      "\n",
      "Epoch 16/20\n"
     ]
    },
    {
     "name": "stderr",
     "output_type": "stream",
     "text": [
      "Training: 100%|██████████| 346/346 [00:39<00:00,  8.66it/s, Loss=1.2034744024276733, Elapsed=50.8806s, ETA=0.0000s] \n",
      "Validating: 100%|██████████| 75/75 [00:09<00:00,  7.54it/s, Loss=1.0257564783096313, Elapsed=21.0327s, ETA=0.0000s] \n"
     ]
    },
    {
     "name": "stdout",
     "output_type": "stream",
     "text": [
      "Epoch 16 completed in 73.1027s\n",
      "Train Loss: 1.0916330647261845 - Train Accuracy: 53.393184233735106\n",
      "Validation Loss: 1.1692686780293782 - Validation Accuracy: 53.03925707049388\n",
      "\n",
      "Epoch 17/20\n"
     ]
    },
    {
     "name": "stderr",
     "output_type": "stream",
     "text": [
      "Training: 100%|██████████| 346/346 [00:39<00:00,  8.66it/s, Loss=0.8002181649208069, Elapsed=51.0780s, ETA=0.0000s] \n",
      "Validating: 100%|██████████| 75/75 [00:09<00:00,  7.85it/s, Loss=1.0058190822601318, Elapsed=20.6492s, ETA=0.0000s] \n"
     ]
    },
    {
     "name": "stdout",
     "output_type": "stream",
     "text": [
      "Epoch 17 completed in 72.8897s\n",
      "Train Loss: 1.0815557415430257 - Train Accuracy: 53.84771940933041\n",
      "Validation Loss: 1.1421821300188701 - Validation Accuracy: 52.14225411566061\n",
      "\n",
      "Epoch 18/20\n"
     ]
    },
    {
     "name": "stderr",
     "output_type": "stream",
     "text": [
      "Training: 100%|██████████| 346/346 [00:40<00:00,  8.62it/s, Loss=1.0522044897079468, Elapsed=51.0861s, ETA=0.0000s] \n",
      "Validating: 100%|██████████| 75/75 [00:09<00:00,  7.83it/s, Loss=1.108954668045044, Elapsed=20.5056s, ETA=0.0000s]  \n"
     ]
    },
    {
     "name": "stdout",
     "output_type": "stream",
     "text": [
      "Epoch 18 completed in 72.7395s\n",
      "Train Loss: 1.0706160876447754 - Train Accuracy: 53.95174238483978\n",
      "Validation Loss: 1.136842494805654 - Validation Accuracy: 53.102574926129165\n",
      "\n",
      "Epoch 19/20\n"
     ]
    },
    {
     "name": "stderr",
     "output_type": "stream",
     "text": [
      "Training: 100%|██████████| 346/346 [00:40<00:00,  8.64it/s, Loss=0.9457144141197205, Elapsed=50.8893s, ETA=0.0000s] \n",
      "Validating: 100%|██████████| 75/75 [00:09<00:00,  7.67it/s, Loss=1.1003473997116089, Elapsed=21.2451s, ETA=0.0000s]  \n"
     ]
    },
    {
     "name": "stdout",
     "output_type": "stream",
     "text": [
      "Epoch 19 completed in 73.3745s\n",
      "Train Loss: 1.0628168756906697 - Train Accuracy: 54.54874380950228\n",
      "Validation Loss: 1.1992887036005655 - Validation Accuracy: 53.524693963697764\n",
      "\n",
      "Epoch 20/20\n"
     ]
    },
    {
     "name": "stderr",
     "output_type": "stream",
     "text": [
      "Training: 100%|██████████| 346/346 [00:41<00:00,  8.40it/s, Loss=1.2977908849716187, Elapsed=52.5908s, ETA=0.0000s] \n",
      "Validating: 100%|██████████| 75/75 [00:09<00:00,  7.53it/s, Loss=1.3674201965332031, Elapsed=22.8024s, ETA=0.0000s]  \n"
     ]
    },
    {
     "name": "stdout",
     "output_type": "stream",
     "text": [
      "Epoch 20 completed in 76.9231s\n",
      "Train Loss: 1.0674634722271406 - Train Accuracy: 54.286425001696024\n",
      "Validation Loss: 1.156402830282847 - Validation Accuracy: 53.74630645842128\n",
      "\n"
     ]
    },
    {
     "data": {
      "image/png": "[encoded data removed]",
      "text/plain": [
       "<Figure size 640x480 with 1 Axes>"
      ]
     },
     "metadata": {},
     "output_type": "display_data"
    },
    {
     "data": {
      "image/png": "[encoded data removed]",
      "text/plain": [
       "<Figure size 640x480 with 1 Axes>"
      ]
     },
     "metadata": {},
     "output_type": "display_data"
    }
   ],
   "source": [
    "trainset = MelSpectrogramDataset(\n",
    "    csv_file=train_csv, root_dir=root_dir, transform=transform)\n",
    "valset = MelSpectrogramDataset(\n",
    "    csv_file=val_csv, root_dir=root_dir, transform=transform)\n",
    "testset = MelSpectrogramDataset(\n",
    "    csv_file=test_csv, root_dir=root_dir, transform=transform)\n",
    "\n",
    "trainloader = DataLoader(trainset, batch_size=128,\n",
    "                         shuffle=True, num_workers=8, pin_memory=True)\n",
    "valloader = DataLoader(valset, batch_size=128,\n",
    "                       shuffle=False, num_workers=8, pin_memory=True)\n",
    "testloader = DataLoader(testset, batch_size=128,\n",
    "                        shuffle=False, num_workers=8, pin_memory=True)\n",
    "\n",
    "# Label mappings\n",
    "labelmap = trainset.label_map\n",
    "print(f\"Mapping from Emotion to Number: {labelmap}\")\n",
    "\n",
    "print(f\"Model is on: {next(model.parameters()).device}\")\n",
    "model, train_losses, train_accuracies, val_losses, val_accuracies = train_epochs(\n",
    "    model, trainloader, valloader, criterion, optimizer, device, epochs)\n",
    "torch.save(model.state_dict(), f'{FINETUNED_MODEL}_variables_{epochs}.pt')\n",
    "\n",
    "# Plots\n",
    "plot_loss(train_losses, val_losses)\n",
    "plot_accuracy(train_accuracies, val_accuracies)"
   ]
  },
  {
   "cell_type": "markdown",
   "metadata": {},
   "source": [
    "Define the function to plot the confusion matrix\n"
   ]
  },
  {
   "cell_type": "code",
   "execution_count": 16,
   "metadata": {},
   "outputs": [],
   "source": [
    "import seaborn as sns\n",
    "from sklearn.metrics import confusion_matrix\n",
    "\n",
    "\n",
    "def plot_confusion_matrix(y_true, y_pred):\n",
    "    # Compute confusion matrix\n",
    "    cm = confusion_matrix(y_true, y_pred)\n",
    "\n",
    "    # Create figure and axes\n",
    "    plt.figure(figsize=(10, 8))\n",
    "\n",
    "    # Create heatmap\n",
    "    sns.heatmap(cm,\n",
    "                annot=True,  # Show numbers in cells\n",
    "                fmt='d',     # Use integer formatting\n",
    "                cmap='Blues',  # Color scheme\n",
    "                xticklabels=trainset.label_map.keys(),\n",
    "                yticklabels=trainset.label_map.keys())\n",
    "\n",
    "    # Set labels and title\n",
    "    plt.ylabel('True Label')\n",
    "    plt.xlabel('Predicted Label')\n",
    "    plt.title('Confusion Matrix')\n",
    "\n",
    "    # Rotate axis labels for better readability\n",
    "    plt.xticks(rotation=45)\n",
    "    plt.yticks(rotation=45)\n",
    "\n",
    "    plt.tight_layout()\n",
    "    plt.show()"
   ]
  },
  {
   "cell_type": "markdown",
   "metadata": {},
   "source": [
    "Define the function to evaluate best model on test set\n"
   ]
  },
  {
   "cell_type": "code",
   "execution_count": 17,
   "metadata": {},
   "outputs": [],
   "source": [
    "def get_predictions(model, testloader, device, model_path):\n",
    "    # Load the best model weights\n",
    "    model.load_state_dict(torch.load(model_path))\n",
    "    model.eval()\n",
    "\n",
    "    all_preds = []\n",
    "    all_labels = []\n",
    "    print(\"Evaluating best model on test set...\")\n",
    "\n",
    "    with torch.no_grad():\n",
    "        for inputs, labels in tqdm(testloader, desc='Testing'):\n",
    "            inputs, labels = inputs.to(device), labels.to(device)\n",
    "            outputs = model(inputs)\n",
    "            _, predicted = torch.max(outputs, 1)\n",
    "\n",
    "            # Store predictions for confusion matrix\n",
    "            all_preds.extend(predicted.cpu().numpy())\n",
    "            all_labels.extend(labels.cpu().numpy())\n",
    "\n",
    "    return all_preds, all_labels"
   ]
  },
  {
   "cell_type": "markdown",
   "metadata": {},
   "source": [
    "Define the function to print out the evaluation metrics\n"
   ]
  },
  {
   "cell_type": "code",
   "execution_count": 18,
   "metadata": {},
   "outputs": [],
   "source": [
    "from sklearn.metrics import accuracy_score, precision_recall_fscore_support, classification_report\n",
    "\n",
    "\n",
    "def get_evaluation_metrics(true_labels, pred_labels, label_map):\n",
    "    # Compute metrics\n",
    "    accuracy = accuracy_score(true_labels, pred_labels)\n",
    "    precision, recall, f1, _ = precision_recall_fscore_support(\n",
    "        true_labels, pred_labels, average='weighted')\n",
    "\n",
    "    print(f\"Test Accuracy: {accuracy:.4f}\")\n",
    "    print(f\"Test Precision: {precision:.4f}\")\n",
    "    print(f\"Test Recall: {recall:.4f}\")\n",
    "    print(f\"Test F1-score: {f1:.4f}\\n\")\n",
    "\n",
    "    # Print detailed classification report\n",
    "    print(classification_report(true_labels, pred_labels,\n",
    "          target_names=list(label_map.keys())))"
   ]
  },
  {
   "cell_type": "markdown",
   "metadata": {},
   "source": [
    "Evaluate the best model on the test set\n"
   ]
  },
  {
   "cell_type": "code",
   "execution_count": 19,
   "metadata": {},
   "outputs": [
    {
     "name": "stderr",
     "output_type": "stream",
     "text": [
      "C:\\Users\\profi\\AppData\\Local\\Temp\\ipykernel_18204\\3256607076.py:3: FutureWarning: You are using `torch.load` with `weights_only=False` (the current default value), which uses the default pickle module implicitly. It is possible to construct malicious pickle data which will execute arbitrary code during unpickling (See https://github.com/pytorch/pytorch/blob/main/SECURITY.md#untrusted-models for more details). In a future release, the default value for `weights_only` will be flipped to `True`. This limits the functions that could be executed during unpickling. Arbitrary objects will no longer be allowed to be loaded via this mode unless they are explicitly allowlisted by the user via `torch.serialization.add_safe_globals`. We recommend you start setting `weights_only=True` for any use case where you don't have full control of the loaded file. Please open an issue on GitHub for any issues related to this experimental feature.\n",
      "  model.load_state_dict(torch.load(model_path))\n"
     ]
    },
    {
     "name": "stdout",
     "output_type": "stream",
     "text": [
      "Evaluating best model on test set...\n"
     ]
    },
    {
     "name": "stderr",
     "output_type": "stream",
     "text": [
      "Testing: 100%|██████████| 75/75 [00:26<00:00,  2.87it/s]"
     ]
    },
    {
     "name": "stdout",
     "output_type": "stream",
     "text": [
      "Test Accuracy: 0.5371\n",
      "Test Precision: 0.5604\n",
      "Test Recall: 0.5371\n",
      "Test F1-score: 0.5365\n",
      "\n",
      "              precision    recall  f1-score   support\n",
      "\n",
      "       Anger       0.54      0.55      0.54       916\n",
      "       Bored       0.66      0.78      0.72      1098\n",
      "     Disgust       0.27      0.55      0.36       291\n",
      "        Fear       0.31      0.58      0.40       308\n",
      "       Happy       0.56      0.44      0.49      1914\n",
      "     Neutral       0.58      0.38      0.46      2226\n",
      "    Question       0.68      0.65      0.67      1139\n",
      "         Sad       0.43      0.66      0.52       857\n",
      "    Surprise       0.56      0.55      0.56       728\n",
      "\n",
      "    accuracy                           0.54      9477\n",
      "   macro avg       0.51      0.57      0.52      9477\n",
      "weighted avg       0.56      0.54      0.54      9477\n",
      "\n"
     ]
    },
    {
     "name": "stderr",
     "output_type": "stream",
     "text": [
      "\n"
     ]
    },
    {
     "data": {
      "image/png": "[encoded data removed]",
      "text/plain": [
       "<Figure size 1000x800 with 2 Axes>"
      ]
     },
     "metadata": {},
     "output_type": "display_data"
    }
   ],
   "source": [
    "# Load and get predictions from the bets model\n",
    "best_model_path = f'best_{FINETUNED_MODEL}.pt'\n",
    "all_preds, all_labels = get_predictions(\n",
    "    model=model,\n",
    "    testloader=testloader,\n",
    "    device=device,\n",
    "    model_path=best_model_path\n",
    ")\n",
    "\n",
    "# Print detailed evaluation metrics\n",
    "get_evaluation_metrics(all_labels, all_preds, labelmap)\n",
    "\n",
    "# Plot confusion matrix\n",
    "plot_confusion_matrix(all_labels, all_preds)"
   ]
  },
  {
   "cell_type": "code",
   "execution_count": null,
   "metadata": {},
   "outputs": [],
   "source": []
  }
 ],
 "metadata": {
  "kernelspec": {
   "display_name": "myenv",
   "language": "python",
   "name": "python3"
  },
  "language_info": {
   "codemirror_mode": {
    "name": "ipython",
    "version": 3
   },
   "file_extension": ".py",
   "mimetype": "text/x-python",
   "name": "python",
   "nbconvert_exporter": "python",
   "pygments_lexer": "ipython3",
   "version": "3.10.11"
  }
 },
 "nbformat": 4,
 "nbformat_minor": 2
}
