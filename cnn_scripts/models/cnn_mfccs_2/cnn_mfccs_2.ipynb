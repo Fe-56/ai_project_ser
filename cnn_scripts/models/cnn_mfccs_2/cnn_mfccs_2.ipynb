{
 "cells": [
  {
   "cell_type": "markdown",
   "metadata": {},
   "source": [
    "# Train CNN with MFCCs\n"
   ]
  },
  {
   "cell_type": "markdown",
   "metadata": {},
   "source": [
    "Inspired by https://medium.com/@diego-rios/speech-emotion-recognition-with-convolutional-neural-network-ae5406a1c0f7\n",
    "\n",
    "Trained with an updated model architecture, CNNMFCCs2\n"
   ]
  },
  {
   "cell_type": "markdown",
   "metadata": {},
   "source": [
    "Import the necessary libraries\n"
   ]
  },
  {
   "cell_type": "code",
   "execution_count": 1,
   "metadata": {},
   "outputs": [],
   "source": [
    "import torch\n",
    "from torch.utils.data import DataLoader\n",
    "import torchvision.transforms as transforms\n",
    "from torchview import draw_graph\n",
    "import torch.nn as nn\n",
    "import torch.optim as optim\n",
    "from torchsummary import summary\n",
    "import os\n",
    "import sys\n",
    "import numpy as np\n",
    "import random\n",
    "import time\n",
    "from tqdm import tqdm\n",
    "import matplotlib.pyplot as plt"
   ]
  },
  {
   "cell_type": "code",
   "execution_count": 2,
   "metadata": {},
   "outputs": [],
   "source": [
    "# Get the absolute path to the project root without relying on __file__\n",
    "notebook_path = os.getcwd()  # Gets current working directory\n",
    "project_root = os.path.abspath(os.path.join(notebook_path, \"../..\"))\n",
    "sys.path.insert(0, project_root)"
   ]
  },
  {
   "cell_type": "code",
   "execution_count": 3,
   "metadata": {},
   "outputs": [
    {
     "name": "stdout",
     "output_type": "stream",
     "text": [
      "2.1.1+cu118\n",
      "True\n"
     ]
    }
   ],
   "source": [
    "print(torch.__version__)\n",
    "print(torch.cuda.is_available())"
   ]
  },
  {
   "cell_type": "markdown",
   "metadata": {},
   "source": [
    "Set the seed for reproducibility\n"
   ]
  },
  {
   "cell_type": "code",
   "execution_count": 4,
   "metadata": {},
   "outputs": [],
   "source": [
    "random_seed = 42\n",
    "\n",
    "torch.manual_seed(random_seed)\n",
    "np.random.seed(random_seed)\n",
    "random.seed(random_seed)\n",
    "\n",
    "if (torch.cuda.is_available()):\n",
    "    torch.cuda.manual_seed(random_seed)"
   ]
  },
  {
   "cell_type": "markdown",
   "metadata": {},
   "source": [
    "Set some constant strings\n"
   ]
  },
  {
   "cell_type": "code",
   "execution_count": 5,
   "metadata": {},
   "outputs": [],
   "source": [
    "MODEL = 'cnn_mfccs'\n",
    "\n",
    "train_csv = '../../../data/mfcc_train_dataset.csv'\n",
    "test_csv = '../../../data/mfcc_test_dataset.csv'\n",
    "val_csv = '../../../data/mfcc_val_dataset.csv'\n",
    "root_dir = '../../../data/'\n",
    "class_weights_path = '../../../data/class_weights.pt'"
   ]
  },
  {
   "cell_type": "markdown",
   "metadata": {},
   "source": [
    "Custom dataset class for loading the mfcc tensors\n"
   ]
  },
  {
   "cell_type": "code",
   "execution_count": 6,
   "metadata": {},
   "outputs": [],
   "source": [
    "from datasets.MfccDataset import MFCCDataset"
   ]
  },
  {
   "cell_type": "markdown",
   "metadata": {},
   "source": [
    "Define the training function\n"
   ]
  },
  {
   "cell_type": "code",
   "execution_count": 7,
   "metadata": {},
   "outputs": [],
   "source": [
    "def train(model, trainloader, criterion, optimizer, device):\n",
    "    train_loss = 0.0\n",
    "    train_total = 0\n",
    "    train_correct = 0\n",
    "\n",
    "    # train mode\n",
    "    model.train()\n",
    "\n",
    "    epoch_start = time.time()\n",
    "    pbar = tqdm(enumerate(trainloader), total=len(\n",
    "        trainloader), desc=\"Training\")\n",
    "\n",
    "    for i, (inputs, labels) in pbar:\n",
    "        inputs, labels = inputs.to(device), labels.to(device)\n",
    "\n",
    "        # Zero the parameter gradients\n",
    "        optimizer.zero_grad()\n",
    "\n",
    "        # Forward pass\n",
    "        outputs = model(inputs)\n",
    "        loss = criterion(outputs, labels)\n",
    "\n",
    "        # Backward pass and optimize\n",
    "        loss.backward()\n",
    "        optimizer.step()\n",
    "\n",
    "        # Update training loss\n",
    "        train_loss += loss.item()\n",
    "\n",
    "        # Calculate accuracy\n",
    "        _, predicted = torch.max(outputs, 1)\n",
    "        train_total += labels.size(0)\n",
    "        train_correct += (predicted == labels).sum().item()\n",
    "\n",
    "        # Calculate time metrics\n",
    "        elapsed = time.time() - epoch_start\n",
    "        progress = (i + 1) / len(trainloader)\n",
    "        eta = elapsed / progress - elapsed\n",
    "\n",
    "        # Update progress bar with current loss and ETA\n",
    "        pbar.set_postfix({\n",
    "            \"Loss\": f\"{loss.item()}\",\n",
    "            \"Elapsed\": f\"{elapsed:.4f}s\",\n",
    "            \"ETA\": f\"{eta:.4f}s\"\n",
    "        })\n",
    "\n",
    "    train_loss = train_loss / len(trainloader)\n",
    "    train_accuracy = train_correct / train_total * 100\n",
    "\n",
    "    return model, train_loss, train_accuracy"
   ]
  },
  {
   "cell_type": "markdown",
   "metadata": {},
   "source": [
    "Define the validation function\n"
   ]
  },
  {
   "cell_type": "code",
   "execution_count": 8,
   "metadata": {},
   "outputs": [],
   "source": [
    "def validate(model, valloader, criterion, device):\n",
    "    val_loss = 0.0\n",
    "    val_total = 0\n",
    "    val_correct = 0\n",
    "\n",
    "    # Switch to evaluation mode\n",
    "    model.eval()\n",
    "\n",
    "    epoch_start = time.time()\n",
    "    pbar = tqdm(enumerate(valloader), total=len(\n",
    "        valloader), desc=\"Validating\")\n",
    "\n",
    "    with torch.no_grad():\n",
    "        for i, (inputs, labels) in pbar:\n",
    "            inputs, labels = inputs.to(device), labels.to(device)\n",
    "\n",
    "            # Forward pass\n",
    "            outputs = model(inputs)\n",
    "            loss = criterion(outputs, labels)\n",
    "\n",
    "            # Update test loss\n",
    "            val_loss += loss.item()\n",
    "\n",
    "            # Calculate accuracy\n",
    "            _, predicted = torch.max(outputs, 1)\n",
    "            val_total += labels.size(0)\n",
    "            val_correct += (predicted == labels).sum().item()\n",
    "\n",
    "            # Calculate time metrics\n",
    "            elapsed = time.time() - epoch_start\n",
    "            progress = (i + 1) / len(valloader)\n",
    "            eta = elapsed / progress - elapsed\n",
    "\n",
    "            # Update progress bar with current loss and ETA\n",
    "            pbar.set_postfix({\n",
    "                \"Loss\": f\"{loss.item()}\",\n",
    "                \"Elapsed\": f\"{elapsed:.4f}s\",\n",
    "                \"ETA\": f\"{eta:.4f}s\"\n",
    "            })\n",
    "\n",
    "    val_loss = val_loss / len(valloader)\n",
    "    val_accuracy = val_correct / val_total * 100\n",
    "\n",
    "    return val_loss, val_accuracy"
   ]
  },
  {
   "cell_type": "markdown",
   "metadata": {},
   "source": [
    "Define what happens in each epoch\n"
   ]
  },
  {
   "cell_type": "code",
   "execution_count": 9,
   "metadata": {},
   "outputs": [],
   "source": [
    "def train_epochs(model, trainloader, valloader, criterion, optimizer, device, num_epochs):\n",
    "    train_losses = []\n",
    "    train_accuracies = []\n",
    "    val_losses = []\n",
    "    val_accuracies = []\n",
    "    best_accuracy = 0\n",
    "\n",
    "    for epoch in range(num_epochs):\n",
    "        print(f'Epoch {epoch+1}/{num_epochs}')\n",
    "        epoch_start = time.time()\n",
    "\n",
    "        model, train_loss, train_accuracy = train(\n",
    "            model, trainloader, criterion, optimizer, device)\n",
    "        val_loss, val_accuracy = validate(\n",
    "            model, valloader, criterion, device)\n",
    "\n",
    "        epoch_elapsed = time.time() - epoch_start\n",
    "        print(f\"Epoch {epoch+1} completed in {epoch_elapsed:.4f}s\")\n",
    "        print(f'Train Loss: {train_loss} - Train Accuracy: {train_accuracy}')\n",
    "        print(\n",
    "            f'Validation Loss: {val_loss} - Validation Accuracy: {val_accuracy}')\n",
    "        print()\n",
    "\n",
    "        train_losses.append(train_loss)\n",
    "        train_accuracies.append(train_accuracy)\n",
    "        val_losses.append(val_loss)\n",
    "        val_accuracies.append(val_accuracy)\n",
    "\n",
    "        # Check if current model is best performing using test_accuracy\n",
    "        if val_accuracy > best_accuracy:\n",
    "            best_accuracy = val_accuracy\n",
    "            torch.save(model.state_dict(), f'best_{MODEL}.pt')\n",
    "            checkpoint = {\n",
    "                'epoch': epoch + 1,\n",
    "                'train_losses': train_losses,\n",
    "                'train_accuracies': train_accuracies,\n",
    "                'val_losses': val_losses,\n",
    "                'val_accuracies': val_accuracies,\n",
    "            }\n",
    "            torch.save(checkpoint, f'best_{MODEL}_checkpoint.pt')\n",
    "\n",
    "    return model, train_losses, train_accuracies, val_losses, val_accuracies"
   ]
  },
  {
   "cell_type": "markdown",
   "metadata": {},
   "source": [
    "Plot the loss and accuracy graphs\n"
   ]
  },
  {
   "cell_type": "code",
   "execution_count": 10,
   "metadata": {},
   "outputs": [],
   "source": [
    "def plot_loss(train_losses, val_losses):\n",
    "    plt.figure()\n",
    "    plt.plot(range(len(train_losses)), train_losses, label='Training Loss')\n",
    "    plt.plot(range(len(val_losses)), val_losses, label='Validation Loss')\n",
    "    plt.xlabel('Epoch')\n",
    "    plt.ylabel('Loss')\n",
    "    plt.legend()\n",
    "    plt.show()"
   ]
  },
  {
   "cell_type": "code",
   "execution_count": 11,
   "metadata": {},
   "outputs": [],
   "source": [
    "def plot_accuracy(train_accuracies, val_accuracies):\n",
    "    plt.figure()\n",
    "    plt.plot(range(len(train_accuracies)),\n",
    "             train_accuracies, label='Training Accuracy')\n",
    "    plt.plot(range(len(val_accuracies)),\n",
    "             val_accuracies, label='Validation Accuracy')\n",
    "    plt.xlabel('Epoch')\n",
    "    plt.ylabel('Accuracy')\n",
    "    plt.legend()\n",
    "    plt.show()"
   ]
  },
  {
   "cell_type": "markdown",
   "metadata": {},
   "source": [
    "Import the model\n"
   ]
  },
  {
   "cell_type": "code",
   "execution_count": null,
   "metadata": {},
   "outputs": [
    {
     "data": {
      "text/plain": [
       "CNNMFCCs(\n",
       "  (conv1): Conv1d(40, 32, kernel_size=(3,), stride=(1,), padding=(1,))\n",
       "  (bn1): BatchNorm1d(32, eps=1e-05, momentum=0.1, affine=True, track_running_stats=True)\n",
       "  (conv2): Conv1d(32, 64, kernel_size=(3,), stride=(1,), padding=(1,))\n",
       "  (bn2): BatchNorm1d(64, eps=1e-05, momentum=0.1, affine=True, track_running_stats=True)\n",
       "  (conv3): Conv1d(64, 128, kernel_size=(3,), stride=(1,), padding=(1,))\n",
       "  (bn3): BatchNorm1d(128, eps=1e-05, momentum=0.1, affine=True, track_running_stats=True)\n",
       "  (conv4): Conv1d(128, 256, kernel_size=(3,), stride=(1,), padding=(1,))\n",
       "  (bn4): BatchNorm1d(256, eps=1e-05, momentum=0.1, affine=True, track_running_stats=True)\n",
       "  (global_pool): AdaptiveAvgPool1d(output_size=1)\n",
       "  (dropout): Dropout(p=0.3, inplace=False)\n",
       "  (fc1): Linear(in_features=256, out_features=128, bias=True)\n",
       "  (fc2): Linear(in_features=128, out_features=9, bias=True)\n",
       ")"
      ]
     },
     "execution_count": 12,
     "metadata": {},
     "output_type": "execute_result"
    }
   ],
   "source": [
    "from CNNMFCCs2 import CNNMFCCs2\n",
    "\n",
    "model = CNNMFCCs2()\n",
    "\n",
    "# Move model to GPU\n",
    "device = torch.device(\"cuda\" if torch.cuda.is_available() else \"cpu\")\n",
    "model.to(device)"
   ]
  },
  {
   "cell_type": "markdown",
   "metadata": {},
   "source": [
    "Visualize the model\n"
   ]
  },
  {
   "cell_type": "code",
   "execution_count": 13,
   "metadata": {},
   "outputs": [
    {
     "name": "stdout",
     "output_type": "stream",
     "text": [
      "----------------------------------------------------------------\n",
      "        Layer (type)               Output Shape         Param #\n",
      "================================================================\n",
      "            Conv1d-1              [-1, 32, 172]           3,872\n",
      "       BatchNorm1d-2              [-1, 32, 172]              64\n",
      "            Conv1d-3               [-1, 64, 86]           6,208\n",
      "       BatchNorm1d-4               [-1, 64, 86]             128\n",
      "            Conv1d-5              [-1, 128, 43]          24,704\n",
      "       BatchNorm1d-6              [-1, 128, 43]             256\n",
      "            Conv1d-7              [-1, 256, 21]          98,560\n",
      "       BatchNorm1d-8              [-1, 256, 21]             512\n",
      " AdaptiveAvgPool1d-9               [-1, 256, 1]               0\n",
      "          Dropout-10                  [-1, 256]               0\n",
      "           Linear-11                  [-1, 128]          32,896\n",
      "          Dropout-12                  [-1, 128]               0\n",
      "           Linear-13                    [-1, 9]           1,161\n",
      "================================================================\n",
      "Total params: 168,361\n",
      "Trainable params: 168,361\n",
      "Non-trainable params: 0\n",
      "----------------------------------------------------------------\n",
      "Input size (MB): 0.03\n",
      "Forward/backward pass size (MB): 0.34\n",
      "Params size (MB): 0.64\n",
      "Estimated Total Size (MB): 1.01\n",
      "----------------------------------------------------------------\n"
     ]
    }
   ],
   "source": [
    "summary(model, (40, 172))"
   ]
  },
  {
   "cell_type": "markdown",
   "metadata": {},
   "source": [
    "Define the learning rate, criterion, optimizer, transformations, and number of epochs\n"
   ]
  },
  {
   "cell_type": "code",
   "execution_count": 14,
   "metadata": {},
   "outputs": [],
   "source": [
    "learning_rate = 0.001\n",
    "\n",
    "class_weights = torch.load(class_weights_path).to(device)\n",
    "criterion = nn.CrossEntropyLoss(weight=class_weights)\n",
    "\n",
    "optimizer = optim.Adamax(model.parameters(), lr=learning_rate)\n",
    "\n",
    "# Define transformations\n",
    "transform = transforms.Compose([])\n",
    "\n",
    "epochs = 100"
   ]
  },
  {
   "cell_type": "markdown",
   "metadata": {},
   "source": [
    "Execute the training\n"
   ]
  },
  {
   "cell_type": "code",
   "execution_count": 15,
   "metadata": {},
   "outputs": [
    {
     "name": "stdout",
     "output_type": "stream",
     "text": [
      "Mapping from Emotion to Number: {'Anger': 0, 'Bored': 1, 'Disgust': 2, 'Fear': 3, 'Happy': 4, 'Neutral': 5, 'Question': 6, 'Sad': 7, 'Surprise': 8}\n",
      "Model is on: cuda:0\n",
      "Epoch 1/100\n"
     ]
    },
    {
     "name": "stderr",
     "output_type": "stream",
     "text": [
      "Training: 100%|██████████| 346/346 [00:06<00:00, 56.85it/s, Loss=1.4497957229614258, Elapsed=6.4936s, ETA=0.0000s]\n",
      "Validating: 100%|██████████| 75/75 [00:01<00:00, 46.03it/s, Loss=1.118652105331421, Elapsed=1.9783s, ETA=0.0000s] "
     ]
    },
    {
     "name": "stdout",
     "output_type": "stream",
     "text": [
      "Epoch 1 completed in 8.6886s\n",
      "Train Loss: 1.4361677707275213 - Train Accuracy: 38.39804617715565\n",
      "Validation Loss: 1.1838692450523376 - Validation Accuracy: 47.3723089911355\n",
      "\n",
      "Epoch 2/100\n"
     ]
    },
    {
     "name": "stderr",
     "output_type": "stream",
     "text": [
      "\n",
      "Training: 100%|██████████| 346/346 [00:05<00:00, 66.57it/s, Loss=1.2498124837875366, Elapsed=5.5188s, ETA=0.0000s]\n",
      "Validating: 100%|██████████| 75/75 [00:01<00:00, 63.29it/s, Loss=1.0861860513687134, Elapsed=1.5353s, ETA=0.0000s]\n"
     ]
    },
    {
     "name": "stdout",
     "output_type": "stream",
     "text": [
      "Epoch 2 completed in 7.3141s\n",
      "Train Loss: 1.132271592327625 - Train Accuracy: 49.6370502702336\n",
      "Validation Loss: 1.0269564302762348 - Validation Accuracy: 54.72773322076826\n",
      "\n",
      "Epoch 3/100\n"
     ]
    },
    {
     "name": "stderr",
     "output_type": "stream",
     "text": [
      "Training: 100%|██████████| 346/346 [00:04<00:00, 69.94it/s, Loss=0.8894223570823669, Elapsed=5.2917s, ETA=0.0000s]\n",
      "Validating: 100%|██████████| 75/75 [00:01<00:00, 62.60it/s, Loss=0.7659549713134766, Elapsed=1.5451s, ETA=0.0000s]\n"
     ]
    },
    {
     "name": "stdout",
     "output_type": "stream",
     "text": [
      "Epoch 3 completed in 7.0882s\n",
      "Train Loss: 1.0155209111685009 - Train Accuracy: 54.76809660568508\n",
      "Validation Loss: 0.9327981146176656 - Validation Accuracy: 57.50316589278176\n",
      "\n",
      "Epoch 4/100\n"
     ]
    },
    {
     "name": "stderr",
     "output_type": "stream",
     "text": [
      "Training: 100%|██████████| 346/346 [00:04<00:00, 72.44it/s, Loss=0.9055426120758057, Elapsed=5.1135s, ETA=0.0000s]\n",
      "Validating: 100%|██████████| 75/75 [00:01<00:00, 64.45it/s, Loss=0.7097488045692444, Elapsed=1.6191s, ETA=0.0000s]"
     ]
    },
    {
     "name": "stdout",
     "output_type": "stream",
     "text": [
      "Epoch 4 completed in 6.9650s\n",
      "Train Loss: 0.9487046490859434 - Train Accuracy: 57.94305872775378\n",
      "Validation Loss: 0.8872526621818543 - Validation Accuracy: 61.449978894048115\n",
      "\n",
      "Epoch 5/100\n"
     ]
    },
    {
     "name": "stderr",
     "output_type": "stream",
     "text": [
      "\n",
      "Training: 100%|██████████| 346/346 [00:04<00:00, 75.36it/s, Loss=1.0184664726257324, Elapsed=5.0153s, ETA=0.0000s]\n",
      "Validating: 100%|██████████| 75/75 [00:01<00:00, 59.97it/s, Loss=0.8098166584968567, Elapsed=1.5700s, ETA=0.0000s]"
     ]
    },
    {
     "name": "stdout",
     "output_type": "stream",
     "text": [
      "Epoch 5 completed in 6.8628s\n",
      "Train Loss: 0.9007298880918867 - Train Accuracy: 60.21573460573031\n",
      "Validation Loss: 0.8700976626078287 - Validation Accuracy: 62.473617560151965\n",
      "\n",
      "Epoch 6/100\n"
     ]
    },
    {
     "name": "stderr",
     "output_type": "stream",
     "text": [
      "\n",
      "Training: 100%|██████████| 346/346 [00:04<00:00, 75.80it/s, Loss=0.8506025075912476, Elapsed=4.9137s, ETA=0.0000s]\n",
      "Validating: 100%|██████████| 75/75 [00:01<00:00, 62.08it/s, Loss=0.8190576434135437, Elapsed=1.5508s, ETA=0.0000s]"
     ]
    },
    {
     "name": "stdout",
     "output_type": "stream",
     "text": [
      "Epoch 6 completed in 6.7005s\n",
      "Train Loss: 0.8652451432853765 - Train Accuracy: 61.48888537120373\n",
      "Validation Loss: 0.869025293191274 - Validation Accuracy: 62.05149852258337\n",
      "\n",
      "Epoch 7/100\n"
     ]
    },
    {
     "name": "stderr",
     "output_type": "stream",
     "text": [
      "\n",
      "Training: 100%|██████████| 346/346 [00:04<00:00, 74.31it/s, Loss=0.815812349319458, Elapsed=5.0231s, ETA=0.0000s] \n",
      "Validating: 100%|██████████| 75/75 [00:01<00:00, 63.14it/s, Loss=0.6176923513412476, Elapsed=1.5140s, ETA=0.0000s]"
     ]
    },
    {
     "name": "stdout",
     "output_type": "stream",
     "text": [
      "Epoch 7 completed in 6.7844s\n",
      "Train Loss: 0.8261908496046342 - Train Accuracy: 63.435924108455254\n",
      "Validation Loss: 0.8274706061681112 - Validation Accuracy: 64.03545799915577\n",
      "\n",
      "Epoch 8/100\n"
     ]
    },
    {
     "name": "stderr",
     "output_type": "stream",
     "text": [
      "\n",
      "Training: 100%|██████████| 346/346 [00:04<00:00, 71.44it/s, Loss=0.738490641117096, Elapsed=5.1651s, ETA=0.0000s] \n",
      "Validating: 100%|██████████| 75/75 [00:01<00:00, 63.06it/s, Loss=0.7475579977035522, Elapsed=1.5433s, ETA=0.0000s]"
     ]
    },
    {
     "name": "stdout",
     "output_type": "stream",
     "text": [
      "Epoch 8 completed in 6.9810s\n",
      "Train Loss: 0.801807824759125 - Train Accuracy: 64.46936975645056\n",
      "Validation Loss: 0.8546743273735047 - Validation Accuracy: 63.644997889404806\n",
      "\n",
      "Epoch 9/100\n"
     ]
    },
    {
     "name": "stderr",
     "output_type": "stream",
     "text": [
      "\n",
      "Training: 100%|██████████| 346/346 [00:04<00:00, 72.46it/s, Loss=0.9095631837844849, Elapsed=5.1192s, ETA=0.0000s]\n",
      "Validating: 100%|██████████| 75/75 [00:01<00:00, 61.57it/s, Loss=0.4054429233074188, Elapsed=1.5361s, ETA=0.0000s]"
     ]
    },
    {
     "name": "stdout",
     "output_type": "stream",
     "text": [
      "Epoch 9 completed in 6.8977s\n",
      "Train Loss: 0.7761909636975712 - Train Accuracy: 65.59779290382397\n",
      "Validation Loss: 0.8246394511063894 - Validation Accuracy: 64.3520472773322\n",
      "\n",
      "Epoch 10/100\n"
     ]
    },
    {
     "name": "stderr",
     "output_type": "stream",
     "text": [
      "\n",
      "Training: 100%|██████████| 346/346 [00:05<00:00, 67.44it/s, Loss=0.9189928770065308, Elapsed=5.4882s, ETA=0.0000s]\n",
      "Validating: 100%|██████████| 75/75 [00:01<00:00, 56.70it/s, Loss=0.4882061779499054, Elapsed=1.7671s, ETA=0.0000s]"
     ]
    },
    {
     "name": "stdout",
     "output_type": "stream",
     "text": [
      "Epoch 10 completed in 7.5082s\n",
      "Train Loss: 0.7596364843018483 - Train Accuracy: 66.35309016078334\n",
      "Validation Loss: 0.7966560296217601 - Validation Accuracy: 63.57112705783031\n",
      "\n",
      "Epoch 11/100\n"
     ]
    },
    {
     "name": "stderr",
     "output_type": "stream",
     "text": [
      "\n",
      "Training: 100%|██████████| 346/346 [00:04<00:00, 74.30it/s, Loss=0.694607138633728, Elapsed=5.0901s, ETA=0.0000s] \n",
      "Validating: 100%|██████████| 75/75 [00:01<00:00, 66.59it/s, Loss=0.49959781765937805, Elapsed=1.4491s, ETA=0.0000s]"
     ]
    },
    {
     "name": "stdout",
     "output_type": "stream",
     "text": [
      "Epoch 11 completed in 6.7943s\n",
      "Train Loss: 0.7386715904825685 - Train Accuracy: 67.06089866805364\n",
      "Validation Loss: 0.7924058902263641 - Validation Accuracy: 66.48374841705362\n",
      "\n",
      "Epoch 12/100\n"
     ]
    },
    {
     "name": "stderr",
     "output_type": "stream",
     "text": [
      "\n",
      "Training: 100%|██████████| 346/346 [00:04<00:00, 71.16it/s, Loss=0.703419029712677, Elapsed=5.2916s, ETA=0.0000s] \n",
      "Validating: 100%|██████████| 75/75 [00:01<00:00, 61.55it/s, Loss=0.27743467688560486, Elapsed=1.6002s, ETA=0.0000s]"
     ]
    },
    {
     "name": "stdout",
     "output_type": "stream",
     "text": [
      "Epoch 12 completed in 7.0836s\n",
      "Train Loss: 0.7238498767676381 - Train Accuracy: 67.76870717532394\n",
      "Validation Loss: 0.7350156644980113 - Validation Accuracy: 66.87420852680455\n",
      "\n",
      "Epoch 13/100\n"
     ]
    },
    {
     "name": "stderr",
     "output_type": "stream",
     "text": [
      "\n",
      "Training: 100%|██████████| 346/346 [00:04<00:00, 74.41it/s, Loss=0.6597034931182861, Elapsed=5.0166s, ETA=0.0000s] \n",
      "Validating: 100%|██████████| 75/75 [00:01<00:00, 62.84it/s, Loss=0.32388755679130554, Elapsed=1.6055s, ETA=0.0000s]"
     ]
    },
    {
     "name": "stdout",
     "output_type": "stream",
     "text": [
      "Epoch 13 completed in 6.8795s\n",
      "Train Loss: 0.7080732762296765 - Train Accuracy: 68.59636824133331\n",
      "Validation Loss: 0.7625601351261139 - Validation Accuracy: 65.44955677501055\n",
      "\n",
      "Epoch 14/100\n"
     ]
    },
    {
     "name": "stderr",
     "output_type": "stream",
     "text": [
      "\n",
      "Training: 100%|██████████| 346/346 [00:04<00:00, 72.85it/s, Loss=1.0689518451690674, Elapsed=5.0847s, ETA=0.0000s] \n",
      "Validating: 100%|██████████| 75/75 [00:01<00:00, 63.00it/s, Loss=0.4856623411178589, Elapsed=1.6087s, ETA=0.0000s]"
     ]
    },
    {
     "name": "stdout",
     "output_type": "stream",
     "text": [
      "Epoch 14 completed in 6.9455s\n",
      "Train Loss: 0.6961974050268273 - Train Accuracy: 68.90843716786142\n",
      "Validation Loss: 0.7255874911944071 - Validation Accuracy: 69.744617982271\n",
      "\n",
      "Epoch 15/100\n"
     ]
    },
    {
     "name": "stderr",
     "output_type": "stream",
     "text": [
      "\n",
      "Training: 100%|██████████| 346/346 [00:04<00:00, 71.93it/s, Loss=0.5995352268218994, Elapsed=5.2677s, ETA=0.0000s] \n",
      "Validating: 100%|██████████| 75/75 [00:01<00:00, 63.75it/s, Loss=0.559032678604126, Elapsed=1.5277s, ETA=0.0000s] "
     ]
    },
    {
     "name": "stdout",
     "output_type": "stream",
     "text": [
      "Epoch 15 completed in 7.0211s\n",
      "Train Loss: 0.6755271645295138 - Train Accuracy: 69.6999163293458\n",
      "Validation Loss: 0.729631374279658 - Validation Accuracy: 68.8159560996201\n",
      "\n",
      "Epoch 16/100\n"
     ]
    },
    {
     "name": "stderr",
     "output_type": "stream",
     "text": [
      "\n",
      "Training: 100%|██████████| 346/346 [00:04<00:00, 71.03it/s, Loss=0.5828970074653625, Elapsed=5.2127s, ETA=0.0000s] \n",
      "Validating: 100%|██████████| 75/75 [00:01<00:00, 61.27it/s, Loss=0.19474658370018005, Elapsed=1.5620s, ETA=0.0000s]"
     ]
    },
    {
     "name": "stdout",
     "output_type": "stream",
     "text": [
      "Epoch 16 completed in 7.0519s\n",
      "Train Loss: 0.6647035003225238 - Train Accuracy: 70.1386219217114\n",
      "Validation Loss: 0.7423169147968293 - Validation Accuracy: 67.4018573237653\n",
      "\n",
      "Epoch 17/100\n"
     ]
    },
    {
     "name": "stderr",
     "output_type": "stream",
     "text": [
      "\n",
      "Training: 100%|██████████| 346/346 [00:04<00:00, 70.05it/s, Loss=0.5911887288093567, Elapsed=5.2703s, ETA=0.0000s] \n",
      "Validating: 100%|██████████| 75/75 [00:01<00:00, 66.24it/s, Loss=0.42753082513809204, Elapsed=1.5858s, ETA=0.0000s]"
     ]
    },
    {
     "name": "stdout",
     "output_type": "stream",
     "text": [
      "Epoch 17 completed in 7.0919s\n",
      "Train Loss: 0.6501660707885819 - Train Accuracy: 70.85999864317859\n",
      "Validation Loss: 0.7316933536529541 - Validation Accuracy: 69.31194596876318\n",
      "\n",
      "Epoch 18/100\n"
     ]
    },
    {
     "name": "stderr",
     "output_type": "stream",
     "text": [
      "\n",
      "Training: 100%|██████████| 346/346 [00:05<00:00, 67.19it/s, Loss=0.5648483037948608, Elapsed=5.6185s, ETA=0.0000s] \n",
      "Validating: 100%|██████████| 75/75 [00:01<00:00, 60.20it/s, Loss=0.3035135865211487, Elapsed=1.6465s, ETA=0.0000s] "
     ]
    },
    {
     "name": "stdout",
     "output_type": "stream",
     "text": [
      "Epoch 18 completed in 7.4911s\n",
      "Train Loss: 0.6413859669872791 - Train Accuracy: 71.03186268967234\n",
      "Validation Loss: 0.7096380297342936 - Validation Accuracy: 72.02406078514142\n",
      "\n",
      "Epoch 19/100\n"
     ]
    },
    {
     "name": "stderr",
     "output_type": "stream",
     "text": [
      "\n",
      "Training: 100%|██████████| 346/346 [00:04<00:00, 71.06it/s, Loss=0.7742053866386414, Elapsed=5.2694s, ETA=0.0000s] \n",
      "Validating: 100%|██████████| 75/75 [00:01<00:00, 58.91it/s, Loss=0.2971343398094177, Elapsed=1.6127s, ETA=0.0000s]"
     ]
    },
    {
     "name": "stdout",
     "output_type": "stream",
     "text": [
      "Epoch 19 completed in 7.1371s\n",
      "Train Loss: 0.6277654381156657 - Train Accuracy: 71.93867167183012\n",
      "Validation Loss: 0.7063095601399739 - Validation Accuracy: 71.05318699873364\n",
      "\n",
      "Epoch 20/100\n"
     ]
    },
    {
     "name": "stderr",
     "output_type": "stream",
     "text": [
      "\n",
      "Training: 100%|██████████| 346/346 [00:05<00:00, 67.19it/s, Loss=0.6205140352249146, Elapsed=5.5009s, ETA=0.0000s] \n",
      "Validating: 100%|██████████| 75/75 [00:01<00:00, 65.49it/s, Loss=0.37426334619522095, Elapsed=1.4785s, ETA=0.0000s]"
     ]
    },
    {
     "name": "stdout",
     "output_type": "stream",
     "text": [
      "Epoch 20 completed in 7.2135s\n",
      "Train Loss: 0.6173646190779747 - Train Accuracy: 72.16028583704575\n",
      "Validation Loss: 0.7093645095825195 - Validation Accuracy: 70.9476572393415\n",
      "\n",
      "Epoch 21/100\n"
     ]
    },
    {
     "name": "stderr",
     "output_type": "stream",
     "text": [
      "\n",
      "Training: 100%|██████████| 346/346 [00:04<00:00, 71.71it/s, Loss=0.5470055937767029, Elapsed=5.1816s, ETA=0.0000s] \n",
      "Validating: 100%|██████████| 75/75 [00:01<00:00, 62.94it/s, Loss=0.2472575306892395, Elapsed=1.5363s, ETA=0.0000s] "
     ]
    },
    {
     "name": "stdout",
     "output_type": "stream",
     "text": [
      "Epoch 21 completed in 6.9449s\n",
      "Train Loss: 0.6090261478816843 - Train Accuracy: 72.39094547839262\n",
      "Validation Loss: 0.6922008383274079 - Validation Accuracy: 71.07429295061208\n",
      "\n",
      "Epoch 22/100\n"
     ]
    },
    {
     "name": "stderr",
     "output_type": "stream",
     "text": [
      "\n",
      "Training: 100%|██████████| 346/346 [00:05<00:00, 68.49it/s, Loss=0.6324271559715271, Elapsed=5.5159s, ETA=0.0000s] \n",
      "Validating: 100%|██████████| 75/75 [00:01<00:00, 60.97it/s, Loss=0.5444101691246033, Elapsed=1.5774s, ETA=0.0000s] \n"
     ]
    },
    {
     "name": "stdout",
     "output_type": "stream",
     "text": [
      "Epoch 22 completed in 7.3131s\n",
      "Train Loss: 0.5985780401381454 - Train Accuracy: 72.80929874946293\n",
      "Validation Loss: 0.7226623594760895 - Validation Accuracy: 72.81553398058253\n",
      "\n",
      "Epoch 23/100\n"
     ]
    },
    {
     "name": "stderr",
     "output_type": "stream",
     "text": [
      "Training: 100%|██████████| 346/346 [00:04<00:00, 71.73it/s, Loss=0.6565918922424316, Elapsed=5.1767s, ETA=0.0000s] \n",
      "Validating: 100%|██████████| 75/75 [00:01<00:00, 66.45it/s, Loss=0.2531930208206177, Elapsed=1.4693s, ETA=0.0000s]"
     ]
    },
    {
     "name": "stdout",
     "output_type": "stream",
     "text": [
      "Epoch 23 completed in 6.8844s\n",
      "Train Loss: 0.5895160288479976 - Train Accuracy: 73.19147011600823\n",
      "Validation Loss: 0.7158792169888815 - Validation Accuracy: 68.46770789362601\n",
      "\n",
      "Epoch 24/100\n"
     ]
    },
    {
     "name": "stderr",
     "output_type": "stream",
     "text": [
      "\n",
      "Training: 100%|██████████| 346/346 [00:04<00:00, 71.62it/s, Loss=0.6512048244476318, Elapsed=5.1894s, ETA=0.0000s] \n",
      "Validating: 100%|██████████| 75/75 [00:01<00:00, 63.59it/s, Loss=0.5133901238441467, Elapsed=1.5238s, ETA=0.0000s] "
     ]
    },
    {
     "name": "stdout",
     "output_type": "stream",
     "text": [
      "Epoch 24 completed in 6.9390s\n",
      "Train Loss: 0.5807726204050758 - Train Accuracy: 73.44926618574885\n",
      "Validation Loss: 0.6979379721482595 - Validation Accuracy: 72.5833685099198\n",
      "\n",
      "Epoch 25/100\n"
     ]
    },
    {
     "name": "stderr",
     "output_type": "stream",
     "text": [
      "\n",
      "Training: 100%|██████████| 346/346 [00:04<00:00, 72.25it/s, Loss=0.8559812903404236, Elapsed=5.1145s, ETA=0.0000s] \n",
      "Validating: 100%|██████████| 75/75 [00:01<00:00, 59.88it/s, Loss=0.3001513183116913, Elapsed=1.6966s, ETA=0.0000s] "
     ]
    },
    {
     "name": "stdout",
     "output_type": "stream",
     "text": [
      "Epoch 25 completed in 7.0602s\n",
      "Train Loss: 0.5692597947196464 - Train Accuracy: 73.94902874200041\n",
      "Validation Loss: 0.7215719886620839 - Validation Accuracy: 72.12959054453356\n",
      "\n",
      "Epoch 26/100\n"
     ]
    },
    {
     "name": "stderr",
     "output_type": "stream",
     "text": [
      "\n",
      "Training: 100%|██████████| 346/346 [00:04<00:00, 71.39it/s, Loss=0.2715468406677246, Elapsed=5.2873s, ETA=0.0000s] \n",
      "Validating: 100%|██████████| 75/75 [00:01<00:00, 62.28it/s, Loss=0.26431548595428467, Elapsed=1.5982s, ETA=0.0000s]\n"
     ]
    },
    {
     "name": "stdout",
     "output_type": "stream",
     "text": [
      "Epoch 26 completed in 7.1113s\n",
      "Train Loss: 0.5537058720526667 - Train Accuracy: 74.50306415503945\n",
      "Validation Loss: 0.7171436087290446 - Validation Accuracy: 70.9476572393415\n",
      "\n",
      "Epoch 27/100\n"
     ]
    },
    {
     "name": "stderr",
     "output_type": "stream",
     "text": [
      "Training: 100%|██████████| 346/346 [00:04<00:00, 73.39it/s, Loss=0.7091927528381348, Elapsed=5.0592s, ETA=0.0000s] \n",
      "Validating: 100%|██████████| 75/75 [00:01<00:00, 66.23it/s, Loss=0.1433883160352707, Elapsed=1.4745s, ETA=0.0000s] "
     ]
    },
    {
     "name": "stdout",
     "output_type": "stream",
     "text": [
      "Epoch 27 completed in 6.7872s\n",
      "Train Loss: 0.5508284080407523 - Train Accuracy: 74.38547296533321\n",
      "Validation Loss: 0.7191860924164454 - Validation Accuracy: 71.50696496411987\n",
      "\n",
      "Epoch 28/100\n"
     ]
    },
    {
     "name": "stderr",
     "output_type": "stream",
     "text": [
      "\n",
      "Training: 100%|██████████| 346/346 [00:04<00:00, 71.44it/s, Loss=0.5638698935508728, Elapsed=5.2013s, ETA=0.0000s] \n",
      "Validating: 100%|██████████| 75/75 [00:01<00:00, 60.05it/s, Loss=0.20116853713989258, Elapsed=1.6070s, ETA=0.0000s]"
     ]
    },
    {
     "name": "stdout",
     "output_type": "stream",
     "text": [
      "Epoch 28 completed in 7.0393s\n",
      "Train Loss: 0.5415605621014027 - Train Accuracy: 75.03222450871758\n",
      "Validation Loss: 0.7142072888215383 - Validation Accuracy: 72.97382861967074\n",
      "\n",
      "Epoch 29/100\n"
     ]
    },
    {
     "name": "stderr",
     "output_type": "stream",
     "text": [
      "\n",
      "Training: 100%|██████████| 346/346 [00:04<00:00, 69.36it/s, Loss=0.43343231081962585, Elapsed=5.3122s, ETA=0.0000s]\n",
      "Validating: 100%|██████████| 75/75 [00:01<00:00, 63.82it/s, Loss=0.4943014681339264, Elapsed=1.5332s, ETA=0.0000s] \n"
     ]
    },
    {
     "name": "stdout",
     "output_type": "stream",
     "text": [
      "Epoch 29 completed in 7.1007s\n",
      "Train Loss: 0.5354033607795748 - Train Accuracy: 75.2334863526379\n",
      "Validation Loss: 0.7674243565400442 - Validation Accuracy: 70.72604474461798\n",
      "\n",
      "Epoch 30/100\n"
     ]
    },
    {
     "name": "stderr",
     "output_type": "stream",
     "text": [
      "Training: 100%|██████████| 346/346 [00:04<00:00, 70.03it/s, Loss=0.7904369235038757, Elapsed=5.3636s, ETA=0.0000s] \n",
      "Validating: 100%|██████████| 75/75 [00:01<00:00, 58.24it/s, Loss=0.24050508439540863, Elapsed=1.7189s, ETA=0.0000s]"
     ]
    },
    {
     "name": "stdout",
     "output_type": "stream",
     "text": [
      "Epoch 30 completed in 7.3388s\n",
      "Train Loss: 0.5284222742553392 - Train Accuracy: 75.73777164695507\n",
      "Validation Loss: 0.7192647049824397 - Validation Accuracy: 71.32756437315322\n",
      "\n",
      "Epoch 31/100\n"
     ]
    },
    {
     "name": "stderr",
     "output_type": "stream",
     "text": [
      "\n",
      "Training: 100%|██████████| 346/346 [00:04<00:00, 70.95it/s, Loss=0.4047209322452545, Elapsed=5.3230s, ETA=0.0000s] \n",
      "Validating: 100%|██████████| 75/75 [00:01<00:00, 58.23it/s, Loss=0.29142260551452637, Elapsed=1.6161s, ETA=0.0000s]"
     ]
    },
    {
     "name": "stdout",
     "output_type": "stream",
     "text": [
      "Epoch 31 completed in 7.1968s\n",
      "Train Loss: 0.5127996922917448 - Train Accuracy: 75.98199950249881\n",
      "Validation Loss: 0.7471984505653382 - Validation Accuracy: 71.89742507387083\n",
      "\n",
      "Epoch 32/100\n"
     ]
    },
    {
     "name": "stderr",
     "output_type": "stream",
     "text": [
      "\n",
      "Training: 100%|██████████| 346/346 [00:04<00:00, 72.17it/s, Loss=0.4757441580295563, Elapsed=5.2169s, ETA=0.0000s] \n",
      "Validating: 100%|██████████| 75/75 [00:01<00:00, 66.21it/s, Loss=0.2077205777168274, Elapsed=1.4588s, ETA=0.0000s]"
     ]
    },
    {
     "name": "stdout",
     "output_type": "stream",
     "text": [
      "Epoch 32 completed in 6.9090s\n",
      "Train Loss: 0.5097595920969296 - Train Accuracy: 76.00461319282694\n",
      "Validation Loss: 0.7479026595751445 - Validation Accuracy: 71.31701139721402\n",
      "\n",
      "Epoch 33/100\n"
     ]
    },
    {
     "name": "stderr",
     "output_type": "stream",
     "text": [
      "\n",
      "Training: 100%|██████████| 346/346 [00:04<00:00, 72.78it/s, Loss=0.43145644664764404, Elapsed=5.1049s, ETA=0.0000s]\n",
      "Validating: 100%|██████████| 75/75 [00:01<00:00, 58.15it/s, Loss=0.3446475565433502, Elapsed=1.7153s, ETA=0.0000s] "
     ]
    },
    {
     "name": "stdout",
     "output_type": "stream",
     "text": [
      "Epoch 33 completed in 7.0582s\n",
      "Train Loss: 0.50347337040598 - Train Accuracy: 76.52925080843943\n",
      "Validation Loss: 0.7378519463539124 - Validation Accuracy: 72.31954411143943\n",
      "\n",
      "Epoch 34/100\n"
     ]
    },
    {
     "name": "stderr",
     "output_type": "stream",
     "text": [
      "\n",
      "Training: 100%|██████████| 346/346 [00:04<00:00, 72.03it/s, Loss=0.6412835717201233, Elapsed=5.2729s, ETA=0.0000s] \n",
      "Validating: 100%|██████████| 75/75 [00:01<00:00, 61.30it/s, Loss=0.24042734503746033, Elapsed=1.6638s, ETA=0.0000s]\n"
     ]
    },
    {
     "name": "stdout",
     "output_type": "stream",
     "text": [
      "Epoch 34 completed in 7.1480s\n",
      "Train Loss: 0.4944690508994064 - Train Accuracy: 76.69659211686756\n",
      "Validation Loss: 0.7349066332976023 - Validation Accuracy: 72.04516673701984\n",
      "\n",
      "Epoch 35/100\n"
     ]
    },
    {
     "name": "stderr",
     "output_type": "stream",
     "text": [
      "Training: 100%|██████████| 346/346 [00:04<00:00, 71.01it/s, Loss=0.6849077939987183, Elapsed=5.3276s, ETA=0.0000s] \n",
      "Validating: 100%|██████████| 75/75 [00:01<00:00, 66.73it/s, Loss=0.3276107609272003, Elapsed=1.4955s, ETA=0.0000s] "
     ]
    },
    {
     "name": "stdout",
     "output_type": "stream",
     "text": [
      "Epoch 35 completed in 7.0367s\n",
      "Train Loss: 0.49343963131050156 - Train Accuracy: 76.75538771172069\n",
      "Validation Loss: 0.7588840985298156 - Validation Accuracy: 71.15871675812579\n",
      "\n",
      "Epoch 36/100\n"
     ]
    },
    {
     "name": "stderr",
     "output_type": "stream",
     "text": [
      "\n",
      "Training: 100%|██████████| 346/346 [00:04<00:00, 74.88it/s, Loss=0.4933592677116394, Elapsed=4.9852s, ETA=0.0000s] \n",
      "Validating: 100%|██████████| 75/75 [00:01<00:00, 60.27it/s, Loss=0.2201918512582779, Elapsed=1.6498s, ETA=0.0000s] \n"
     ]
    },
    {
     "name": "stdout",
     "output_type": "stream",
     "text": [
      "Epoch 36 completed in 6.8732s\n",
      "Train Loss: 0.48268637888004323 - Train Accuracy: 76.98604735306755\n",
      "Validation Loss: 0.7224334357182185 - Validation Accuracy: 71.57028281975516\n",
      "\n",
      "Epoch 37/100\n"
     ]
    },
    {
     "name": "stderr",
     "output_type": "stream",
     "text": [
      "Training: 100%|██████████| 346/346 [00:04<00:00, 71.83it/s, Loss=0.4840884804725647, Elapsed=5.2744s, ETA=0.0000s] \n",
      "Validating: 100%|██████████| 75/75 [00:01<00:00, 55.65it/s, Loss=0.13774922490119934, Elapsed=1.7666s, ETA=0.0000s]"
     ]
    },
    {
     "name": "stdout",
     "output_type": "stream",
     "text": [
      "Epoch 37 completed in 7.2825s\n",
      "Train Loss: 0.4786204866246681 - Train Accuracy: 77.44510526672848\n",
      "Validation Loss: 0.7865457610289256 - Validation Accuracy: 70.43056141831997\n",
      "\n",
      "Epoch 38/100\n"
     ]
    },
    {
     "name": "stderr",
     "output_type": "stream",
     "text": [
      "\n",
      "Training: 100%|██████████| 346/346 [00:04<00:00, 74.38it/s, Loss=0.3898252844810486, Elapsed=5.0911s, ETA=0.0000s] \n",
      "Validating: 100%|██████████| 75/75 [00:01<00:00, 63.05it/s, Loss=0.16505970060825348, Elapsed=1.5392s, ETA=0.0000s]\n"
     ]
    },
    {
     "name": "stdout",
     "output_type": "stream",
     "text": [
      "Epoch 38 completed in 6.8521s\n",
      "Train Loss: 0.46746460895317826 - Train Accuracy: 77.51973044481129\n",
      "Validation Loss: 0.8191640541950862 - Validation Accuracy: 70.20894892359647\n",
      "\n",
      "Epoch 39/100\n"
     ]
    },
    {
     "name": "stderr",
     "output_type": "stream",
     "text": [
      "Training: 100%|██████████| 346/346 [00:04<00:00, 72.30it/s, Loss=0.48338013887405396, Elapsed=5.1271s, ETA=0.0000s]\n",
      "Validating: 100%|██████████| 75/75 [00:01<00:00, 63.52it/s, Loss=0.2683750092983246, Elapsed=1.5413s, ETA=0.0000s]\n"
     ]
    },
    {
     "name": "stdout",
     "output_type": "stream",
     "text": [
      "Epoch 39 completed in 6.9014s\n",
      "Train Loss: 0.45804355349499365 - Train Accuracy: 77.82275389520817\n",
      "Validation Loss: 0.8433783050378164 - Validation Accuracy: 72.41452089489236\n",
      "\n",
      "Epoch 40/100\n"
     ]
    },
    {
     "name": "stderr",
     "output_type": "stream",
     "text": [
      "Training: 100%|██████████| 346/346 [00:04<00:00, 70.72it/s, Loss=0.5323293209075928, Elapsed=5.2637s, ETA=0.0000s] \n",
      "Validating: 100%|██████████| 75/75 [00:01<00:00, 60.82it/s, Loss=0.10122932493686676, Elapsed=1.6546s, ETA=0.0000s]\n"
     ]
    },
    {
     "name": "stdout",
     "output_type": "stream",
     "text": [
      "Epoch 40 completed in 7.1554s\n",
      "Train Loss: 0.45669861611603313 - Train Accuracy: 77.97878835847222\n",
      "Validation Loss: 0.7597928955157598 - Validation Accuracy: 71.97129590544533\n",
      "\n",
      "Epoch 41/100\n"
     ]
    },
    {
     "name": "stderr",
     "output_type": "stream",
     "text": [
      "Training: 100%|██████████| 346/346 [00:04<00:00, 71.18it/s, Loss=0.60738205909729, Elapsed=5.2928s, ETA=0.0000s]   \n",
      "Validating: 100%|██████████| 75/75 [00:01<00:00, 61.27it/s, Loss=0.16417938470840454, Elapsed=1.6457s, ETA=0.0000s]\n"
     ]
    },
    {
     "name": "stdout",
     "output_type": "stream",
     "text": [
      "Epoch 41 completed in 7.1794s\n",
      "Train Loss: 0.44720876160901407 - Train Accuracy: 78.43332353406753\n",
      "Validation Loss: 0.7502116370201111 - Validation Accuracy: 73.06880540312368\n",
      "\n",
      "Epoch 42/100\n"
     ]
    },
    {
     "name": "stderr",
     "output_type": "stream",
     "text": [
      "Training: 100%|██████████| 346/346 [00:04<00:00, 69.42it/s, Loss=0.32865282893180847, Elapsed=5.4262s, ETA=0.0000s]\n",
      "Validating: 100%|██████████| 75/75 [00:01<00:00, 61.77it/s, Loss=0.20985835790634155, Elapsed=1.5677s, ETA=0.0000s]\n"
     ]
    },
    {
     "name": "stdout",
     "output_type": "stream",
     "text": [
      "Epoch 42 completed in 7.2212s\n",
      "Train Loss: 0.4442726511486693 - Train Accuracy: 78.47628954569096\n",
      "Validation Loss: 0.7611669417222341 - Validation Accuracy: 71.84466019417476\n",
      "\n",
      "Epoch 43/100\n"
     ]
    },
    {
     "name": "stderr",
     "output_type": "stream",
     "text": [
      "Training: 100%|██████████| 346/346 [00:05<00:00, 67.45it/s, Loss=0.3591533601284027, Elapsed=5.5569s, ETA=0.0000s] \n",
      "Validating: 100%|██████████| 75/75 [00:01<00:00, 56.68it/s, Loss=0.14230118691921234, Elapsed=1.5884s, ETA=0.0000s]\n"
     ]
    },
    {
     "name": "stdout",
     "output_type": "stream",
     "text": [
      "Epoch 43 completed in 7.4820s\n",
      "Train Loss: 0.4384931965887202 - Train Accuracy: 78.73860835349721\n",
      "Validation Loss: 0.7886031478643417 - Validation Accuracy: 72.42507387083158\n",
      "\n",
      "Epoch 44/100\n"
     ]
    },
    {
     "name": "stderr",
     "output_type": "stream",
     "text": [
      "Training: 100%|██████████| 346/346 [00:04<00:00, 70.07it/s, Loss=0.649957001209259, Elapsed=5.2401s, ETA=0.0000s]  \n",
      "Validating: 100%|██████████| 75/75 [00:01<00:00, 61.77it/s, Loss=0.08991736173629761, Elapsed=1.5577s, ETA=0.0000s]"
     ]
    },
    {
     "name": "stdout",
     "output_type": "stream",
     "text": [
      "Epoch 44 completed in 7.1022s\n",
      "Train Loss: 0.43344122266149243 - Train Accuracy: 78.8471540670722\n",
      "Validation Loss: 0.7787201408545176 - Validation Accuracy: 72.150696496412\n",
      "\n",
      "Epoch 45/100\n"
     ]
    },
    {
     "name": "stderr",
     "output_type": "stream",
     "text": [
      "\n",
      "Training: 100%|██████████| 346/346 [00:04<00:00, 69.92it/s, Loss=0.35308554768562317, Elapsed=5.3104s, ETA=0.0000s]\n",
      "Validating: 100%|██████████| 75/75 [00:01<00:00, 61.91it/s, Loss=0.07136502861976624, Elapsed=1.5350s, ETA=0.0000s]"
     ]
    },
    {
     "name": "stdout",
     "output_type": "stream",
     "text": [
      "Epoch 45 completed in 7.0919s\n",
      "Train Loss: 0.4246952492808331 - Train Accuracy: 79.12530245810814\n",
      "Validation Loss: 0.7831782956918081 - Validation Accuracy: 72.19290840016885\n",
      "\n",
      "Epoch 46/100\n"
     ]
    },
    {
     "name": "stderr",
     "output_type": "stream",
     "text": [
      "\n",
      "Training: 100%|██████████| 346/346 [00:05<00:00, 68.70it/s, Loss=0.40120506286621094, Elapsed=5.3884s, ETA=0.0000s]\n",
      "Validating: 100%|██████████| 75/75 [00:01<00:00, 65.25it/s, Loss=0.06196266785264015, Elapsed=1.6051s, ETA=0.0000s]\n"
     ]
    },
    {
     "name": "stdout",
     "output_type": "stream",
     "text": [
      "Epoch 46 completed in 7.2271s\n",
      "Train Loss: 0.4254837076185067 - Train Accuracy: 79.25420049297844\n",
      "Validation Loss: 0.8283015951017538 - Validation Accuracy: 71.66525960320811\n",
      "\n",
      "Epoch 47/100\n"
     ]
    },
    {
     "name": "stderr",
     "output_type": "stream",
     "text": [
      "Training: 100%|██████████| 346/346 [00:04<00:00, 70.84it/s, Loss=0.39256638288497925, Elapsed=5.3274s, ETA=0.0000s]\n",
      "Validating: 100%|██████████| 75/75 [00:01<00:00, 56.46it/s, Loss=0.10076919943094254, Elapsed=1.7668s, ETA=0.0000s]"
     ]
    },
    {
     "name": "stdout",
     "output_type": "stream",
     "text": [
      "Epoch 47 completed in 7.3199s\n",
      "Train Loss: 0.41344702312712034 - Train Accuracy: 79.60018995499875\n",
      "Validation Loss: 0.8153093271454175 - Validation Accuracy: 72.89995778809624\n",
      "\n",
      "Epoch 48/100\n"
     ]
    },
    {
     "name": "stderr",
     "output_type": "stream",
     "text": [
      "\n",
      "Training: 100%|██████████| 346/346 [00:04<00:00, 72.23it/s, Loss=0.35634714365005493, Elapsed=5.2355s, ETA=0.0000s]\n",
      "Validating: 100%|██████████| 75/75 [00:01<00:00, 61.66it/s, Loss=0.06976396590471268, Elapsed=1.6429s, ETA=0.0000s]"
     ]
    },
    {
     "name": "stdout",
     "output_type": "stream",
     "text": [
      "Epoch 48 completed in 7.1401s\n",
      "Train Loss: 0.4122695762211877 - Train Accuracy: 79.59566721693314\n",
      "Validation Loss: 0.7927460174759229 - Validation Accuracy: 71.25369354157873\n",
      "\n",
      "Epoch 49/100\n"
     ]
    },
    {
     "name": "stderr",
     "output_type": "stream",
     "text": [
      "\n",
      "Training: 100%|██████████| 346/346 [00:04<00:00, 70.97it/s, Loss=0.38087397813796997, Elapsed=5.2013s, ETA=0.0000s]\n",
      "Validating: 100%|██████████| 75/75 [00:01<00:00, 63.41it/s, Loss=0.38020798563957214, Elapsed=1.5193s, ETA=0.0000s]"
     ]
    },
    {
     "name": "stdout",
     "output_type": "stream",
     "text": [
      "Epoch 49 completed in 6.9547s\n",
      "Train Loss: 0.4034922593676975 - Train Accuracy: 80.11578209448001\n",
      "Validation Loss: 0.8090743633111318 - Validation Accuracy: 72.38286196707472\n",
      "\n",
      "Epoch 50/100\n"
     ]
    },
    {
     "name": "stderr",
     "output_type": "stream",
     "text": [
      "\n",
      "Training: 100%|██████████| 346/346 [00:04<00:00, 69.34it/s, Loss=0.3787791430950165, Elapsed=5.3426s, ETA=0.0000s] \n",
      "Validating: 100%|██████████| 75/75 [00:01<00:00, 62.20it/s, Loss=0.04793358966708183, Elapsed=1.6423s, ETA=0.0000s]\n"
     ]
    },
    {
     "name": "stdout",
     "output_type": "stream",
     "text": [
      "Epoch 50 completed in 7.2236s\n",
      "Train Loss: 0.401953671321359 - Train Accuracy: 80.1180434635128\n",
      "Validation Loss: 0.8167174845437208 - Validation Accuracy: 73.83917264668636\n",
      "\n",
      "Epoch 51/100\n"
     ]
    },
    {
     "name": "stderr",
     "output_type": "stream",
     "text": [
      "Training: 100%|██████████| 346/346 [00:05<00:00, 66.94it/s, Loss=0.7023444175720215, Elapsed=5.5823s, ETA=0.0000s] \n",
      "Validating: 100%|██████████| 75/75 [00:01<00:00, 63.65it/s, Loss=0.05292585864663124, Elapsed=1.5694s, ETA=0.0000s]"
     ]
    },
    {
     "name": "stdout",
     "output_type": "stream",
     "text": [
      "Epoch 51 completed in 7.4253s\n",
      "Train Loss: 0.3966542104248367 - Train Accuracy: 80.55674905587843\n",
      "Validation Loss: 0.8065993953247865 - Validation Accuracy: 73.35373575348248\n",
      "\n",
      "Epoch 52/100\n"
     ]
    },
    {
     "name": "stderr",
     "output_type": "stream",
     "text": [
      "\n",
      "Training: 100%|██████████| 346/346 [00:04<00:00, 70.20it/s, Loss=0.41378819942474365, Elapsed=5.2922s, ETA=0.0000s]\n",
      "Validating: 100%|██████████| 75/75 [00:01<00:00, 64.84it/s, Loss=0.021470485255122185, Elapsed=1.5127s, ETA=0.0000s]"
     ]
    },
    {
     "name": "stdout",
     "output_type": "stream",
     "text": [
      "Epoch 52 completed in 7.0397s\n",
      "Train Loss: 0.3903749417621276 - Train Accuracy: 80.50926030618936\n",
      "Validation Loss: 0.8765036729723215 - Validation Accuracy: 71.57028281975516\n",
      "\n",
      "Epoch 53/100\n"
     ]
    },
    {
     "name": "stderr",
     "output_type": "stream",
     "text": [
      "\n",
      "Training: 100%|██████████| 346/346 [00:04<00:00, 69.23it/s, Loss=0.31568413972854614, Elapsed=5.3230s, ETA=0.0000s]\n",
      "Validating: 100%|██████████| 75/75 [00:01<00:00, 63.72it/s, Loss=0.06454677134752274, Elapsed=1.6239s, ETA=0.0000s]"
     ]
    },
    {
     "name": "stdout",
     "output_type": "stream",
     "text": [
      "Epoch 53 completed in 7.1959s\n",
      "Train Loss: 0.38074620894958516 - Train Accuracy: 80.87560208950498\n",
      "Validation Loss: 0.8324843693772952 - Validation Accuracy: 72.05571971295906\n",
      "\n",
      "Epoch 54/100\n"
     ]
    },
    {
     "name": "stderr",
     "output_type": "stream",
     "text": [
      "\n",
      "Training: 100%|██████████| 346/346 [00:04<00:00, 72.25it/s, Loss=0.3543550670146942, Elapsed=5.1163s, ETA=0.0000s] \n",
      "Validating: 100%|██████████| 75/75 [00:01<00:00, 60.03it/s, Loss=0.02557998150587082, Elapsed=1.6777s, ETA=0.0000s]\n"
     ]
    },
    {
     "name": "stdout",
     "output_type": "stream",
     "text": [
      "Epoch 54 completed in 7.0668s\n",
      "Train Loss: 0.38144924470110436 - Train Accuracy: 80.86429524434092\n",
      "Validation Loss: 0.8130696561932563 - Validation Accuracy: 72.42507387083158\n",
      "\n",
      "Epoch 55/100\n"
     ]
    },
    {
     "name": "stderr",
     "output_type": "stream",
     "text": [
      "Training: 100%|██████████| 346/346 [00:04<00:00, 70.49it/s, Loss=0.4407724142074585, Elapsed=5.3512s, ETA=0.0000s] \n",
      "Validating: 100%|██████████| 75/75 [00:01<00:00, 64.13it/s, Loss=0.029485274106264114, Elapsed=1.6147s, ETA=0.0000s]\n"
     ]
    },
    {
     "name": "stdout",
     "output_type": "stream",
     "text": [
      "Epoch 55 completed in 7.2190s\n",
      "Train Loss: 0.37216188840438863 - Train Accuracy: 81.21706881345968\n",
      "Validation Loss: 0.8643317010502021 - Validation Accuracy: 71.96074292950611\n",
      "\n",
      "Epoch 56/100\n"
     ]
    },
    {
     "name": "stderr",
     "output_type": "stream",
     "text": [
      "Training: 100%|██████████| 346/346 [00:04<00:00, 73.16it/s, Loss=0.39282479882240295, Elapsed=5.0763s, ETA=0.0000s]\n",
      "Validating: 100%|██████████| 75/75 [00:01<00:00, 65.99it/s, Loss=0.10907808691263199, Elapsed=1.4996s, ETA=0.0000s]\n"
     ]
    },
    {
     "name": "stdout",
     "output_type": "stream",
     "text": [
      "Epoch 56 completed in 6.8192s\n",
      "Train Loss: 0.3728619734245229 - Train Accuracy: 81.16731869473779\n",
      "Validation Loss: 0.848020713031292 - Validation Accuracy: 72.0135078092022\n",
      "\n",
      "Epoch 57/100\n"
     ]
    },
    {
     "name": "stderr",
     "output_type": "stream",
     "text": [
      "Training: 100%|██████████| 346/346 [00:04<00:00, 69.97it/s, Loss=0.45081424713134766, Elapsed=5.3142s, ETA=0.0000s]\n",
      "Validating: 100%|██████████| 75/75 [00:01<00:00, 48.66it/s, Loss=0.18691504001617432, Elapsed=1.8915s, ETA=0.0000s]"
     ]
    },
    {
     "name": "stdout",
     "output_type": "stream",
     "text": [
      "Epoch 57 completed in 7.4637s\n",
      "Train Loss: 0.3686759044238598 - Train Accuracy: 81.34822821736279\n",
      "Validation Loss: 0.8763380122184753 - Validation Accuracy: 72.31954411143943\n",
      "\n",
      "Epoch 58/100\n"
     ]
    },
    {
     "name": "stderr",
     "output_type": "stream",
     "text": [
      "\n",
      "Training: 100%|██████████| 346/346 [00:04<00:00, 73.99it/s, Loss=0.3625623285770416, Elapsed=5.1373s, ETA=0.0000s] \n",
      "Validating: 100%|██████████| 75/75 [00:01<00:00, 63.68it/s, Loss=0.11592991650104523, Elapsed=1.6261s, ETA=0.0000s]"
     ]
    },
    {
     "name": "stdout",
     "output_type": "stream",
     "text": [
      "Epoch 58 completed in 7.0060s\n",
      "Train Loss: 0.3606928624428077 - Train Accuracy: 81.82537708328623\n",
      "Validation Loss: 0.8358186695973079 - Validation Accuracy: 71.91853102574926\n",
      "\n",
      "Epoch 59/100\n"
     ]
    },
    {
     "name": "stderr",
     "output_type": "stream",
     "text": [
      "\n",
      "Training: 100%|██████████| 346/346 [00:04<00:00, 73.23it/s, Loss=0.36286014318466187, Elapsed=5.2014s, ETA=0.0000s]\n",
      "Validating: 100%|██████████| 75/75 [00:01<00:00, 65.79it/s, Loss=0.05166739597916603, Elapsed=1.5106s, ETA=0.0000s]\n"
     ]
    },
    {
     "name": "stdout",
     "output_type": "stream",
     "text": [
      "Epoch 59 completed in 6.9222s\n",
      "Train Loss: 0.36556739915657593 - Train Accuracy: 81.21480744442685\n",
      "Validation Loss: 0.9652757128576438 - Validation Accuracy: 73.14267623469819\n",
      "\n",
      "Epoch 60/100\n"
     ]
    },
    {
     "name": "stderr",
     "output_type": "stream",
     "text": [
      "Training: 100%|██████████| 346/346 [00:04<00:00, 70.45it/s, Loss=0.40704187750816345, Elapsed=5.3634s, ETA=0.0000s]\n",
      "Validating: 100%|██████████| 75/75 [00:01<00:00, 66.84it/s, Loss=0.038149043917655945, Elapsed=1.4754s, ETA=0.0000s]\n"
     ]
    },
    {
     "name": "stdout",
     "output_type": "stream",
     "text": [
      "Epoch 60 completed in 7.0772s\n",
      "Train Loss: 0.3560750359141758 - Train Accuracy: 81.99271839171435\n",
      "Validation Loss: 0.8810544373591741 - Validation Accuracy: 71.93963697762769\n",
      "\n",
      "Epoch 61/100\n"
     ]
    },
    {
     "name": "stderr",
     "output_type": "stream",
     "text": [
      "Training: 100%|██████████| 346/346 [00:04<00:00, 71.83it/s, Loss=0.46424171328544617, Elapsed=5.2087s, ETA=0.0000s]\n",
      "Validating: 100%|██████████| 75/75 [00:01<00:00, 62.39it/s, Loss=0.028674539178609848, Elapsed=1.5463s, ETA=0.0000s]"
     ]
    },
    {
     "name": "stdout",
     "output_type": "stream",
     "text": [
      "Epoch 61 completed in 7.0003s\n",
      "Train Loss: 0.34893807260631826 - Train Accuracy: 82.13970737884715\n",
      "Validation Loss: 0.8768941858907541 - Validation Accuracy: 71.87631912199241\n",
      "\n",
      "Epoch 62/100\n"
     ]
    },
    {
     "name": "stderr",
     "output_type": "stream",
     "text": [
      "\n",
      "Training: 100%|██████████| 346/346 [00:04<00:00, 70.60it/s, Loss=0.34419265389442444, Elapsed=5.2947s, ETA=0.0000s]\n",
      "Validating: 100%|██████████| 75/75 [00:01<00:00, 65.03it/s, Loss=0.15316851437091827, Elapsed=1.4792s, ETA=0.0000s]"
     ]
    },
    {
     "name": "stdout",
     "output_type": "stream",
     "text": [
      "Epoch 62 completed in 6.9876s\n",
      "Train Loss: 0.3455114609244242 - Train Accuracy: 82.37488975825966\n",
      "Validation Loss: 0.9553764500220616 - Validation Accuracy: 72.34065006331785\n",
      "\n",
      "Epoch 63/100\n"
     ]
    },
    {
     "name": "stderr",
     "output_type": "stream",
     "text": [
      "\n",
      "Training: 100%|██████████| 346/346 [00:04<00:00, 71.91it/s, Loss=0.27631548047065735, Elapsed=5.1915s, ETA=0.0000s]\n",
      "Validating: 100%|██████████| 75/75 [00:01<00:00, 59.37it/s, Loss=0.11857055872678757, Elapsed=1.5956s, ETA=0.0000s]\n"
     ]
    },
    {
     "name": "stdout",
     "output_type": "stream",
     "text": [
      "Epoch 63 completed in 7.0253s\n",
      "Train Loss: 0.3434314981878148 - Train Accuracy: 82.58293570927839\n",
      "Validation Loss: 0.9155687728524208 - Validation Accuracy: 73.74419586323343\n",
      "\n",
      "Epoch 64/100\n"
     ]
    },
    {
     "name": "stderr",
     "output_type": "stream",
     "text": [
      "Training: 100%|██████████| 346/346 [00:04<00:00, 69.20it/s, Loss=0.2139173001050949, Elapsed=5.3380s, ETA=0.0000s] \n",
      "Validating: 100%|██████████| 75/75 [00:01<00:00, 65.04it/s, Loss=0.032703254371881485, Elapsed=1.4826s, ETA=0.0000s]"
     ]
    },
    {
     "name": "stdout",
     "output_type": "stream",
     "text": [
      "Epoch 64 completed in 7.0943s\n",
      "Train Loss: 0.3391402907281942 - Train Accuracy: 82.53996969765495\n",
      "Validation Loss: 0.9130978902677694 - Validation Accuracy: 72.99493457154918\n",
      "\n",
      "Epoch 65/100\n"
     ]
    },
    {
     "name": "stderr",
     "output_type": "stream",
     "text": [
      "\n",
      "Training: 100%|██████████| 346/346 [00:05<00:00, 69.03it/s, Loss=0.2355169653892517, Elapsed=5.3436s, ETA=0.0000s] \n",
      "Validating: 100%|██████████| 75/75 [00:01<00:00, 60.20it/s, Loss=0.07536611706018448, Elapsed=1.6750s, ETA=0.0000s]"
     ]
    },
    {
     "name": "stdout",
     "output_type": "stream",
     "text": [
      "Epoch 65 completed in 7.2811s\n",
      "Train Loss: 0.3353187647685839 - Train Accuracy: 82.8904818977409\n",
      "Validation Loss: 1.0033700224757194 - Validation Accuracy: 73.14267623469819\n",
      "\n",
      "Epoch 66/100\n"
     ]
    },
    {
     "name": "stderr",
     "output_type": "stream",
     "text": [
      "\n",
      "Training: 100%|██████████| 346/346 [00:04<00:00, 71.60it/s, Loss=0.5365975499153137, Elapsed=5.1479s, ETA=0.0000s] \n",
      "Validating: 100%|██████████| 75/75 [00:01<00:00, 64.07it/s, Loss=0.033024489879608154, Elapsed=1.5999s, ETA=0.0000s]"
     ]
    },
    {
     "name": "stdout",
     "output_type": "stream",
     "text": [
      "Epoch 66 completed in 7.0226s\n",
      "Train Loss: 0.3407053283787187 - Train Accuracy: 82.68922005382058\n",
      "Validation Loss: 0.8779461165269216 - Validation Accuracy: 73.52258336850991\n",
      "\n",
      "Epoch 67/100\n"
     ]
    },
    {
     "name": "stderr",
     "output_type": "stream",
     "text": [
      "\n",
      "Training: 100%|██████████| 346/346 [00:04<00:00, 73.39it/s, Loss=0.27606672048568726, Elapsed=5.1440s, ETA=0.0000s]\n",
      "Validating: 100%|██████████| 75/75 [00:01<00:00, 61.66it/s, Loss=0.21866054832935333, Elapsed=1.6450s, ETA=0.0000s]"
     ]
    },
    {
     "name": "stdout",
     "output_type": "stream",
     "text": [
      "Epoch 67 completed in 7.0600s\n",
      "Train Loss: 0.3311686728128119 - Train Accuracy: 82.9470161235612\n",
      "Validation Loss: 1.153496445218722 - Validation Accuracy: 71.87631912199241\n",
      "\n",
      "Epoch 68/100\n"
     ]
    },
    {
     "name": "stderr",
     "output_type": "stream",
     "text": [
      "\n",
      "Training: 100%|██████████| 346/346 [00:04<00:00, 71.59it/s, Loss=0.4188484251499176, Elapsed=5.2808s, ETA=0.0000s] \n",
      "Validating: 100%|██████████| 75/75 [00:01<00:00, 65.49it/s, Loss=0.0665731281042099, Elapsed=1.4971s, ETA=0.0000s] "
     ]
    },
    {
     "name": "stdout",
     "output_type": "stream",
     "text": [
      "Epoch 68 completed in 7.0260s\n",
      "Train Loss: 0.32111535699381305 - Train Accuracy: 83.51461975079714\n",
      "Validation Loss: 0.986657670934995 - Validation Accuracy: 73.20599409033348\n",
      "\n",
      "Epoch 69/100\n"
     ]
    },
    {
     "name": "stderr",
     "output_type": "stream",
     "text": [
      "\n",
      "Training: 100%|██████████| 346/346 [00:04<00:00, 71.71it/s, Loss=0.21978645026683807, Elapsed=5.1675s, ETA=0.0000s]\n",
      "Validating: 100%|██████████| 75/75 [00:01<00:00, 62.28it/s, Loss=0.172738179564476, Elapsed=1.5459s, ETA=0.0000s]  \n"
     ]
    },
    {
     "name": "stdout",
     "output_type": "stream",
     "text": [
      "Epoch 69 completed in 6.9812s\n",
      "Train Loss: 0.32355429977178574 - Train Accuracy: 83.1075733248909\n",
      "Validation Loss: 1.0055441615978877 - Validation Accuracy: 72.9421696918531\n",
      "\n",
      "Epoch 70/100\n"
     ]
    },
    {
     "name": "stderr",
     "output_type": "stream",
     "text": [
      "Training: 100%|██████████| 346/346 [00:05<00:00, 65.83it/s, Loss=0.35622695088386536, Elapsed=5.6939s, ETA=0.0000s]\n",
      "Validating: 100%|██████████| 75/75 [00:01<00:00, 62.07it/s, Loss=0.32331883907318115, Elapsed=1.6262s, ETA=0.0000s]"
     ]
    },
    {
     "name": "stdout",
     "output_type": "stream",
     "text": [
      "Epoch 70 completed in 7.5645s\n",
      "Train Loss: 0.32304232571855446 - Train Accuracy: 83.29978969267995\n",
      "Validation Loss: 0.9865618542830149 - Validation Accuracy: 73.34318277754328\n",
      "\n",
      "Epoch 71/100\n"
     ]
    },
    {
     "name": "stderr",
     "output_type": "stream",
     "text": [
      "\n",
      "Training: 100%|██████████| 346/346 [00:05<00:00, 67.65it/s, Loss=0.48834753036499023, Elapsed=5.5264s, ETA=0.0000s]\n",
      "Validating: 100%|██████████| 75/75 [00:01<00:00, 60.69it/s, Loss=0.17275553941726685, Elapsed=1.5790s, ETA=0.0000s]\n"
     ]
    },
    {
     "name": "stdout",
     "output_type": "stream",
     "text": [
      "Epoch 71 completed in 7.3660s\n",
      "Train Loss: 0.3245990468845891 - Train Accuracy: 83.22516451459714\n",
      "Validation Loss: 0.9622949783007304 - Validation Accuracy: 72.92106373997467\n",
      "\n",
      "Epoch 72/100\n"
     ]
    },
    {
     "name": "stderr",
     "output_type": "stream",
     "text": [
      "Training: 100%|██████████| 346/346 [00:04<00:00, 70.12it/s, Loss=0.36877697706222534, Elapsed=5.3019s, ETA=0.0000s]\n",
      "Validating: 100%|██████████| 75/75 [00:01<00:00, 61.70it/s, Loss=0.16186359524726868, Elapsed=1.6514s, ETA=0.0000s]\n"
     ]
    },
    {
     "name": "stdout",
     "output_type": "stream",
     "text": [
      "Epoch 72 completed in 7.1898s\n",
      "Train Loss: 0.31095428209256576 - Train Accuracy: 83.83121141539088\n",
      "Validation Loss: 0.9853194042046864 - Validation Accuracy: 72.0873786407767\n",
      "\n",
      "Epoch 73/100\n"
     ]
    },
    {
     "name": "stderr",
     "output_type": "stream",
     "text": [
      "Training: 100%|██████████| 346/346 [00:04<00:00, 73.09it/s, Loss=0.45970022678375244, Elapsed=5.1731s, ETA=0.0000s]\n",
      "Validating: 100%|██████████| 75/75 [00:01<00:00, 56.26it/s, Loss=0.1280580759048462, Elapsed=1.7416s, ETA=0.0000s] "
     ]
    },
    {
     "name": "stdout",
     "output_type": "stream",
     "text": [
      "Epoch 73 completed in 7.1895s\n",
      "Train Loss: 0.3122381151928378 - Train Accuracy: 83.75884760634088\n",
      "Validation Loss: 1.0419275724887849 - Validation Accuracy: 74.10299704516675\n",
      "\n",
      "Epoch 74/100\n"
     ]
    },
    {
     "name": "stderr",
     "output_type": "stream",
     "text": [
      "\n",
      "Training: 100%|██████████| 346/346 [00:05<00:00, 66.82it/s, Loss=0.3891741633415222, Elapsed=5.5589s, ETA=0.0000s] \n",
      "Validating: 100%|██████████| 75/75 [00:01<00:00, 60.12it/s, Loss=0.2117084413766861, Elapsed=1.6789s, ETA=0.0000s] "
     ]
    },
    {
     "name": "stdout",
     "output_type": "stream",
     "text": [
      "Epoch 74 completed in 7.5026s\n",
      "Train Loss: 0.3022447905013327 - Train Accuracy: 84.24956468646118\n",
      "Validation Loss: 1.0495213303963344 - Validation Accuracy: 74.22963275643731\n",
      "\n",
      "Epoch 75/100\n"
     ]
    },
    {
     "name": "stderr",
     "output_type": "stream",
     "text": [
      "\n",
      "Training: 100%|██████████| 346/346 [00:04<00:00, 70.50it/s, Loss=0.410483181476593, Elapsed=5.2803s, ETA=0.0000s]  \n",
      "Validating: 100%|██████████| 75/75 [00:01<00:00, 66.13it/s, Loss=0.016437266021966934, Elapsed=1.5617s, ETA=0.0000s]"
     ]
    },
    {
     "name": "stdout",
     "output_type": "stream",
     "text": [
      "Epoch 75 completed in 7.0913s\n",
      "Train Loss: 0.3043656516281856 - Train Accuracy: 84.070916532869\n",
      "Validation Loss: 1.0014048779507478 - Validation Accuracy: 72.7311101730688\n",
      "\n",
      "Epoch 76/100\n"
     ]
    },
    {
     "name": "stderr",
     "output_type": "stream",
     "text": [
      "\n",
      "Training: 100%|██████████| 346/346 [00:05<00:00, 64.68it/s, Loss=0.20656724274158478, Elapsed=5.7047s, ETA=0.0000s]\n",
      "Validating: 100%|██████████| 75/75 [00:01<00:00, 67.13it/s, Loss=0.0433746837079525, Elapsed=1.4766s, ETA=0.0000s] "
     ]
    },
    {
     "name": "stdout",
     "output_type": "stream",
     "text": [
      "Epoch 76 completed in 7.4246s\n",
      "Train Loss: 0.3008840058666433 - Train Accuracy: 84.47796295877524\n",
      "Validation Loss: 1.0130807768801848 - Validation Accuracy: 72.56226255804137\n",
      "\n",
      "Epoch 77/100\n"
     ]
    },
    {
     "name": "stderr",
     "output_type": "stream",
     "text": [
      "\n",
      "Training: 100%|██████████| 346/346 [00:05<00:00, 63.29it/s, Loss=0.40821054577827454, Elapsed=5.8351s, ETA=0.0000s]\n",
      "Validating: 100%|██████████| 75/75 [00:01<00:00, 60.54it/s, Loss=0.6590674519538879, Elapsed=1.6137s, ETA=0.0000s]"
     ]
    },
    {
     "name": "stdout",
     "output_type": "stream",
     "text": [
      "Epoch 77 completed in 7.6939s\n",
      "Train Loss: 0.30022338183456765 - Train Accuracy: 84.26765563872368\n",
      "Validation Loss: 1.097382917801539 - Validation Accuracy: 71.83410721823554\n",
      "\n",
      "Epoch 78/100\n"
     ]
    },
    {
     "name": "stderr",
     "output_type": "stream",
     "text": [
      "\n",
      "Training: 100%|██████████| 346/346 [00:05<00:00, 64.89it/s, Loss=0.2924366891384125, Elapsed=5.7254s, ETA=0.0000s] \n",
      "Validating: 100%|██████████| 75/75 [00:01<00:00, 61.01it/s, Loss=0.2404656857252121, Elapsed=1.6681s, ETA=0.0000s]"
     ]
    },
    {
     "name": "stdout",
     "output_type": "stream",
     "text": [
      "Epoch 78 completed in 7.6675s\n",
      "Train Loss: 0.2908689610530875 - Train Accuracy: 84.71314533818773\n",
      "Validation Loss: 1.110679014325142 - Validation Accuracy: 73.34318277754328\n",
      "\n",
      "Epoch 79/100\n"
     ]
    },
    {
     "name": "stderr",
     "output_type": "stream",
     "text": [
      "\n",
      "Training: 100%|██████████| 346/346 [00:05<00:00, 68.01it/s, Loss=0.3009272515773773, Elapsed=5.4791s, ETA=0.0000s] \n",
      "Validating: 100%|██████████| 75/75 [00:01<00:00, 62.64it/s, Loss=0.13655109703540802, Elapsed=1.6172s, ETA=0.0000s]"
     ]
    },
    {
     "name": "stdout",
     "output_type": "stream",
     "text": [
      "Epoch 79 completed in 7.3870s\n",
      "Train Loss: 0.2927303605341498 - Train Accuracy: 84.613645100744\n",
      "Validation Loss: 0.9482332207759221 - Validation Accuracy: 72.66779231743352\n",
      "\n",
      "Epoch 80/100\n"
     ]
    },
    {
     "name": "stderr",
     "output_type": "stream",
     "text": [
      "\n",
      "Training: 100%|██████████| 346/346 [00:05<00:00, 68.44it/s, Loss=0.2079426646232605, Elapsed=5.4668s, ETA=0.0000s] \n",
      "Validating: 100%|██████████| 75/75 [00:01<00:00, 65.73it/s, Loss=0.08141184598207474, Elapsed=1.5654s, ETA=0.0000s]"
     ]
    },
    {
     "name": "stdout",
     "output_type": "stream",
     "text": [
      "Epoch 80 completed in 7.3051s\n",
      "Train Loss: 0.2849600886161617 - Train Accuracy: 85.00033920535492\n",
      "Validation Loss: 1.097505796054999 - Validation Accuracy: 72.62558041367666\n",
      "\n",
      "Epoch 81/100\n"
     ]
    },
    {
     "name": "stderr",
     "output_type": "stream",
     "text": [
      "\n",
      "Training: 100%|██████████| 346/346 [00:05<00:00, 63.52it/s, Loss=0.42730891704559326, Elapsed=5.8524s, ETA=0.0000s]\n",
      "Validating: 100%|██████████| 75/75 [00:01<00:00, 60.32it/s, Loss=0.10743603110313416, Elapsed=1.6875s, ETA=0.0000s]\n"
     ]
    },
    {
     "name": "stdout",
     "output_type": "stream",
     "text": [
      "Epoch 81 completed in 7.8034s\n",
      "Train Loss: 0.28796583694012867 - Train Accuracy: 84.70183849302367\n",
      "Validation Loss: 1.0455737260977427 - Validation Accuracy: 72.48839172646686\n",
      "\n",
      "Epoch 82/100\n"
     ]
    },
    {
     "name": "stderr",
     "output_type": "stream",
     "text": [
      "Training: 100%|██████████| 346/346 [00:05<00:00, 65.82it/s, Loss=0.3504471778869629, Elapsed=5.6599s, ETA=0.0000s] \n",
      "Validating: 100%|██████████| 75/75 [00:01<00:00, 60.56it/s, Loss=0.1783444881439209, Elapsed=1.6714s, ETA=0.0000s]"
     ]
    },
    {
     "name": "stdout",
     "output_type": "stream",
     "text": [
      "Epoch 82 completed in 7.5956s\n",
      "Train Loss: 0.28669091171956473 - Train Accuracy: 84.83752063499243\n",
      "Validation Loss: 1.0635232130686443 - Validation Accuracy: 72.81553398058253\n",
      "\n",
      "Epoch 83/100\n"
     ]
    },
    {
     "name": "stderr",
     "output_type": "stream",
     "text": [
      "\n",
      "Training: 100%|██████████| 346/346 [00:05<00:00, 65.87it/s, Loss=0.18768927454948425, Elapsed=5.6910s, ETA=0.0000s]\n",
      "Validating: 100%|██████████| 75/75 [00:01<00:00, 64.22it/s, Loss=0.11111961305141449, Elapsed=1.5201s, ETA=0.0000s]"
     ]
    },
    {
     "name": "stdout",
     "output_type": "stream",
     "text": [
      "Epoch 83 completed in 7.4495s\n",
      "Train Loss: 0.2833217236434104 - Train Accuracy: 84.97320277696117\n",
      "Validation Loss: 1.1003962165117265 - Validation Accuracy: 73.1532292106374\n",
      "\n",
      "Epoch 84/100\n"
     ]
    },
    {
     "name": "stderr",
     "output_type": "stream",
     "text": [
      "\n",
      "Training: 100%|██████████| 346/346 [00:05<00:00, 69.15it/s, Loss=0.35653769969940186, Elapsed=5.3651s, ETA=0.0000s]\n",
      "Validating: 100%|██████████| 75/75 [00:01<00:00, 62.38it/s, Loss=0.1440434604883194, Elapsed=1.5285s, ETA=0.0000s]"
     ]
    },
    {
     "name": "stdout",
     "output_type": "stream",
     "text": [
      "Epoch 84 completed in 7.1522s\n",
      "Train Loss: 0.2797451171313407 - Train Accuracy: 85.30788539381741\n",
      "Validation Loss: 1.0162253655989966 - Validation Accuracy: 73.51203039257071\n",
      "\n",
      "Epoch 85/100\n"
     ]
    },
    {
     "name": "stderr",
     "output_type": "stream",
     "text": [
      "\n",
      "Training: 100%|██████████| 346/346 [00:05<00:00, 65.36it/s, Loss=0.23117074370384216, Elapsed=5.7370s, ETA=0.0000s]\n",
      "Validating: 100%|██████████| 75/75 [00:01<00:00, 61.33it/s, Loss=0.732242226600647, Elapsed=1.6870s, ETA=0.0000s] "
     ]
    },
    {
     "name": "stdout",
     "output_type": "stream",
     "text": [
      "Epoch 85 completed in 7.6629s\n",
      "Train Loss: 0.27268647260404044 - Train Accuracy: 85.57472693968928\n",
      "Validation Loss: 1.1186296451091766 - Validation Accuracy: 72.150696496412\n",
      "\n",
      "Epoch 86/100\n"
     ]
    },
    {
     "name": "stderr",
     "output_type": "stream",
     "text": [
      "\n",
      "Training: 100%|██████████| 346/346 [00:05<00:00, 68.64it/s, Loss=0.31921136379241943, Elapsed=5.4756s, ETA=0.0000s]\n",
      "Validating: 100%|██████████| 75/75 [00:01<00:00, 67.38it/s, Loss=0.07638824731111526, Elapsed=1.5605s, ETA=0.0000s]"
     ]
    },
    {
     "name": "stdout",
     "output_type": "stream",
     "text": [
      "Epoch 86 completed in 7.2612s\n",
      "Train Loss: 0.27126311015531507 - Train Accuracy: 85.5046244996721\n",
      "Validation Loss: 1.1210852357745171 - Validation Accuracy: 73.97636133389615\n",
      "\n",
      "Epoch 87/100\n"
     ]
    },
    {
     "name": "stderr",
     "output_type": "stream",
     "text": [
      "\n",
      "Training: 100%|██████████| 346/346 [00:05<00:00, 65.55it/s, Loss=0.3307693898677826, Elapsed=5.7133s, ETA=0.0000s] \n",
      "Validating: 100%|██████████| 75/75 [00:01<00:00, 58.90it/s, Loss=0.05077381432056427, Elapsed=1.6982s, ETA=0.0000s]"
     ]
    },
    {
     "name": "stdout",
     "output_type": "stream",
     "text": [
      "Epoch 87 completed in 7.6919s\n",
      "Train Loss: 0.26703535239992804 - Train Accuracy: 85.69005676036272\n",
      "Validation Loss: 1.0322314975659053 - Validation Accuracy: 72.2351203039257\n",
      "\n",
      "Epoch 88/100\n"
     ]
    },
    {
     "name": "stderr",
     "output_type": "stream",
     "text": [
      "\n",
      "Training: 100%|██████████| 346/346 [00:05<00:00, 66.65it/s, Loss=0.30539634823799133, Elapsed=5.6300s, ETA=0.0000s]\n",
      "Validating: 100%|██████████| 75/75 [00:01<00:00, 63.65it/s, Loss=0.14937055110931396, Elapsed=1.5959s, ETA=0.0000s]"
     ]
    },
    {
     "name": "stdout",
     "output_type": "stream",
     "text": [
      "Epoch 88 completed in 7.4966s\n",
      "Train Loss: 0.2679639975890259 - Train Accuracy: 85.68553402229709\n",
      "Validation Loss: 1.0164525643984477 - Validation Accuracy: 73.0160405234276\n",
      "\n",
      "Epoch 89/100\n"
     ]
    },
    {
     "name": "stderr",
     "output_type": "stream",
     "text": [
      "\n",
      "Training: 100%|██████████| 346/346 [00:05<00:00, 62.19it/s, Loss=0.31676170229911804, Elapsed=6.0122s, ETA=0.0000s]\n",
      "Validating: 100%|██████████| 75/75 [00:01<00:00, 60.21it/s, Loss=0.09770612418651581, Elapsed=1.5939s, ETA=0.0000s]"
     ]
    },
    {
     "name": "stdout",
     "output_type": "stream",
     "text": [
      "Epoch 89 completed in 7.8396s\n",
      "Train Loss: 0.2614029031354568 - Train Accuracy: 85.74659098618304\n",
      "Validation Loss: 1.101249129573504 - Validation Accuracy: 73.69143098353736\n",
      "\n",
      "Epoch 90/100\n"
     ]
    },
    {
     "name": "stderr",
     "output_type": "stream",
     "text": [
      "\n",
      "Training: 100%|██████████| 346/346 [00:05<00:00, 67.05it/s, Loss=0.251832515001297, Elapsed=5.4863s, ETA=0.0000s]  \n",
      "Validating: 100%|██████████| 75/75 [00:01<00:00, 68.77it/s, Loss=0.31210798025131226, Elapsed=1.5444s, ETA=0.0000s]"
     ]
    },
    {
     "name": "stdout",
     "output_type": "stream",
     "text": [
      "Epoch 90 completed in 7.2651s\n",
      "Train Loss: 0.2601697610508155 - Train Accuracy: 85.88227312815178\n",
      "Validation Loss: 1.1799398763974507 - Validation Accuracy: 73.7864077669903\n",
      "\n",
      "Epoch 91/100\n"
     ]
    },
    {
     "name": "stderr",
     "output_type": "stream",
     "text": [
      "\n",
      "Training: 100%|██████████| 346/346 [00:04<00:00, 69.50it/s, Loss=0.27577659487724304, Elapsed=5.3957s, ETA=0.0000s]\n",
      "Validating: 100%|██████████| 75/75 [00:01<00:00, 61.81it/s, Loss=0.319752961397171, Elapsed=1.6275s, ETA=0.0000s]  "
     ]
    },
    {
     "name": "stdout",
     "output_type": "stream",
     "text": [
      "Epoch 91 completed in 7.2902s\n",
      "Train Loss: 0.26256064838067644 - Train Accuracy: 85.74885235521585\n",
      "Validation Loss: 1.0797903521855672 - Validation Accuracy: 73.02659349936683\n",
      "\n",
      "Epoch 92/100\n"
     ]
    },
    {
     "name": "stderr",
     "output_type": "stream",
     "text": [
      "\n",
      "Training: 100%|██████████| 346/346 [00:05<00:00, 67.78it/s, Loss=0.2190483808517456, Elapsed=5.5258s, ETA=0.0000s] \n",
      "Validating: 100%|██████████| 75/75 [00:01<00:00, 64.69it/s, Loss=0.20551583170890808, Elapsed=1.5069s, ETA=0.0000s]"
     ]
    },
    {
     "name": "stdout",
     "output_type": "stream",
     "text": [
      "Epoch 92 completed in 7.2851s\n",
      "Train Loss: 0.26232100902609745 - Train Accuracy: 85.9591596752674\n",
      "Validation Loss: 1.2499218972524007 - Validation Accuracy: 72.69945124525115\n",
      "\n",
      "Epoch 93/100\n"
     ]
    },
    {
     "name": "stderr",
     "output_type": "stream",
     "text": [
      "\n",
      "Training: 100%|██████████| 346/346 [00:05<00:00, 67.05it/s, Loss=0.2420041263103485, Elapsed=5.5572s, ETA=0.0000s] \n",
      "Validating: 100%|██████████| 75/75 [00:01<00:00, 65.34it/s, Loss=0.09301664680242538, Elapsed=1.5844s, ETA=0.0000s]\n"
     ]
    },
    {
     "name": "stdout",
     "output_type": "stream",
     "text": [
      "Epoch 93 completed in 7.4252s\n",
      "Train Loss: 0.26451822034368627 - Train Accuracy: 85.78277289070803\n",
      "Validation Loss: 1.1084855770071347 - Validation Accuracy: 73.53313634444913\n",
      "\n",
      "Epoch 94/100\n"
     ]
    },
    {
     "name": "stderr",
     "output_type": "stream",
     "text": [
      "Training: 100%|██████████| 346/346 [00:05<00:00, 64.34it/s, Loss=0.4843223989009857, Elapsed=5.7819s, ETA=0.0000s] \n",
      "Validating: 100%|██████████| 75/75 [00:01<00:00, 60.44it/s, Loss=0.1861693412065506, Elapsed=1.6717s, ETA=0.0000s]"
     ]
    },
    {
     "name": "stdout",
     "output_type": "stream",
     "text": [
      "Epoch 94 completed in 7.7067s\n",
      "Train Loss: 0.25060210506178743 - Train Accuracy: 86.30741050632052\n",
      "Validation Loss: 1.2154873977104823 - Validation Accuracy: 71.91853102574926\n",
      "\n",
      "Epoch 95/100\n"
     ]
    },
    {
     "name": "stderr",
     "output_type": "stream",
     "text": [
      "\n",
      "Training: 100%|██████████| 346/346 [00:05<00:00, 65.01it/s, Loss=0.24249815940856934, Elapsed=5.6788s, ETA=0.0000s]\n",
      "Validating: 100%|██████████| 75/75 [00:01<00:00, 62.25it/s, Loss=0.16212989389896393, Elapsed=1.5433s, ETA=0.0000s]"
     ]
    },
    {
     "name": "stdout",
     "output_type": "stream",
     "text": [
      "Epoch 95 completed in 7.4706s\n",
      "Train Loss: 0.2585770226369014 - Train Accuracy: 86.1038872933674\n",
      "Validation Loss: 1.1789226788282394 - Validation Accuracy: 73.49092444069227\n",
      "\n",
      "Epoch 96/100\n"
     ]
    },
    {
     "name": "stderr",
     "output_type": "stream",
     "text": [
      "\n",
      "Training: 100%|██████████| 346/346 [00:05<00:00, 58.29it/s, Loss=0.3218501806259155, Elapsed=6.2807s, ETA=0.0000s] \n",
      "Validating: 100%|██████████| 75/75 [00:01<00:00, 59.94it/s, Loss=0.12501932680606842, Elapsed=1.6144s, ETA=0.0000s]"
     ]
    },
    {
     "name": "stdout",
     "output_type": "stream",
     "text": [
      "Epoch 96 completed in 8.1472s\n",
      "Train Loss: 0.25033621642889314 - Train Accuracy: 86.39786526763302\n",
      "Validation Loss: 1.097369624574979 - Validation Accuracy: 72.89995778809624\n",
      "\n",
      "Epoch 97/100\n"
     ]
    },
    {
     "name": "stderr",
     "output_type": "stream",
     "text": [
      "\n",
      "Training: 100%|██████████| 346/346 [00:05<00:00, 63.05it/s, Loss=0.19363373517990112, Elapsed=5.9105s, ETA=0.0000s]\n",
      "Validating: 100%|██████████| 75/75 [00:01<00:00, 48.69it/s, Loss=0.04174767807126045, Elapsed=1.8859s, ETA=0.0000s]"
     ]
    },
    {
     "name": "stdout",
     "output_type": "stream",
     "text": [
      "Epoch 97 completed in 8.0653s\n",
      "Train Loss: 0.24746496467232015 - Train Accuracy: 86.60591121865178\n",
      "Validation Loss: 1.1446726356446744 - Validation Accuracy: 71.93963697762769\n",
      "\n",
      "Epoch 98/100\n"
     ]
    },
    {
     "name": "stderr",
     "output_type": "stream",
     "text": [
      "\n",
      "Training: 100%|██████████| 346/346 [00:05<00:00, 61.50it/s, Loss=0.23996502161026, Elapsed=5.9476s, ETA=0.0000s]   \n",
      "Validating: 100%|██████████| 75/75 [00:01<00:00, 50.89it/s, Loss=0.1628289818763733, Elapsed=1.8461s, ETA=0.0000s] "
     ]
    },
    {
     "name": "stdout",
     "output_type": "stream",
     "text": [
      "Epoch 98 completed in 8.0497s\n",
      "Train Loss: 0.2419867293338555 - Train Accuracy: 86.76420705094866\n",
      "Validation Loss: 1.0817459551493327 - Validation Accuracy: 72.87885183621782\n",
      "\n",
      "Epoch 99/100\n"
     ]
    },
    {
     "name": "stderr",
     "output_type": "stream",
     "text": [
      "\n",
      "Training: 100%|██████████| 346/346 [00:05<00:00, 66.13it/s, Loss=0.20708850026130676, Elapsed=5.5957s, ETA=0.0000s]\n",
      "Validating: 100%|██████████| 75/75 [00:01<00:00, 65.47it/s, Loss=0.732111930847168, Elapsed=1.5931s, ETA=0.0000s]  \n"
     ]
    },
    {
     "name": "stdout",
     "output_type": "stream",
     "text": [
      "Epoch 99 completed in 7.4449s\n",
      "Train Loss: 0.2513696250715697 - Train Accuracy: 86.61947943284865\n",
      "Validation Loss: 1.1290308272838592 - Validation Accuracy: 73.19544111439426\n",
      "\n",
      "Epoch 100/100\n"
     ]
    },
    {
     "name": "stderr",
     "output_type": "stream",
     "text": [
      "Training: 100%|██████████| 346/346 [00:05<00:00, 63.34it/s, Loss=0.2524309754371643, Elapsed=5.8240s, ETA=0.0000s] \n",
      "Validating: 100%|██████████| 75/75 [00:01<00:00, 63.43it/s, Loss=0.5947785377502441, Elapsed=1.6042s, ETA=0.0000s]\n"
     ]
    },
    {
     "name": "stdout",
     "output_type": "stream",
     "text": [
      "Epoch 100 completed in 7.6886s\n",
      "Train Loss: 0.23860226448819127 - Train Accuracy: 86.92250288324551\n",
      "Validation Loss: 1.2207523441314698 - Validation Accuracy: 73.17433516251583\n",
      "\n"
     ]
    },
    {
     "data": {
      "image/png": "[encoded data removed]",
      "text/plain": [
       "<Figure size 640x480 with 1 Axes>"
      ]
     },
     "metadata": {},
     "output_type": "display_data"
    },
    {
     "data": {
      "image/png": "[encoded data removed]",
      "text/plain": [
       "<Figure size 640x480 with 1 Axes>"
      ]
     },
     "metadata": {},
     "output_type": "display_data"
    }
   ],
   "source": [
    "trainset = MFCCDataset(\n",
    "    csv_file=train_csv, root_dir=root_dir, transform=transform)\n",
    "valset = MFCCDataset(\n",
    "    csv_file=val_csv, root_dir=root_dir, transform=transform)\n",
    "testset = MFCCDataset(\n",
    "    csv_file=test_csv, root_dir=root_dir, transform=transform)\n",
    "\n",
    "trainloader = DataLoader(trainset, batch_size=128,\n",
    "                         shuffle=True, num_workers=8, pin_memory=True)\n",
    "valloader = DataLoader(valset, batch_size=128,\n",
    "                       shuffle=False, num_workers=8, pin_memory=True)\n",
    "testloader = DataLoader(testset, batch_size=128,\n",
    "                        shuffle=False, num_workers=8, pin_memory=True)\n",
    "\n",
    "# Label mappings\n",
    "labelmap = trainset.label_map\n",
    "print(f\"Mapping from Emotion to Number: {labelmap}\")\n",
    "\n",
    "print(f\"Model is on: {next(model.parameters()).device}\")\n",
    "model, train_losses, train_accuracies, val_losses, val_accuracies = train_epochs(\n",
    "    model, trainloader, valloader, criterion, optimizer, device, epochs)\n",
    "torch.save(model.state_dict(), f'{MODEL}_variables_{epochs}.pt')\n",
    "\n",
    "# Plots\n",
    "plot_loss(train_losses, val_losses)\n",
    "plot_accuracy(train_accuracies, val_accuracies)"
   ]
  },
  {
   "cell_type": "markdown",
   "metadata": {},
   "source": [
    "Define the function to plot the confusion matrix\n"
   ]
  },
  {
   "cell_type": "code",
   "execution_count": 16,
   "metadata": {},
   "outputs": [],
   "source": [
    "import seaborn as sns\n",
    "from sklearn.metrics import confusion_matrix\n",
    "\n",
    "\n",
    "def plot_confusion_matrix(y_true, y_pred):\n",
    "    # Compute confusion matrix\n",
    "    cm = confusion_matrix(y_true, y_pred)\n",
    "\n",
    "    # Create figure and axes\n",
    "    plt.figure(figsize=(10, 8))\n",
    "\n",
    "    # Create heatmap\n",
    "    sns.heatmap(cm,\n",
    "                annot=True,  # Show numbers in cells\n",
    "                fmt='d',     # Use integer formatting\n",
    "                cmap='Blues',  # Color scheme\n",
    "                xticklabels=trainset.label_map.keys(),\n",
    "                yticklabels=trainset.label_map.keys())\n",
    "\n",
    "    # Set labels and title\n",
    "    plt.ylabel('True Label')\n",
    "    plt.xlabel('Predicted Label')\n",
    "    plt.title('Confusion Matrix')\n",
    "\n",
    "    # Rotate axis labels for better readability\n",
    "    plt.xticks(rotation=45)\n",
    "    plt.yticks(rotation=45)\n",
    "\n",
    "    plt.tight_layout()\n",
    "    plt.show()"
   ]
  },
  {
   "cell_type": "markdown",
   "metadata": {},
   "source": [
    "Define the function to evaluate best model on test set\n"
   ]
  },
  {
   "cell_type": "code",
   "execution_count": 17,
   "metadata": {},
   "outputs": [],
   "source": [
    "def get_predictions(model, testloader, device, model_path):\n",
    "    # Load the best model weights\n",
    "    model.load_state_dict(torch.load(model_path))\n",
    "    model.eval()\n",
    "\n",
    "    all_preds = []\n",
    "    all_labels = []\n",
    "    print(\"Evaluating best model on test set...\")\n",
    "\n",
    "    with torch.no_grad():\n",
    "        for inputs, labels in tqdm(testloader, desc='Testing'):\n",
    "            inputs, labels = inputs.to(device), labels.to(device)\n",
    "            outputs = model(inputs)\n",
    "            _, predicted = torch.max(outputs, 1)\n",
    "\n",
    "            # Store predictions for confusion matrix\n",
    "            all_preds.extend(predicted.cpu().numpy())\n",
    "            all_labels.extend(labels.cpu().numpy())\n",
    "\n",
    "    return all_preds, all_labels"
   ]
  },
  {
   "cell_type": "markdown",
   "metadata": {},
   "source": [
    "Define the function to print out the evaluation metrics\n"
   ]
  },
  {
   "cell_type": "code",
   "execution_count": 18,
   "metadata": {},
   "outputs": [],
   "source": [
    "from sklearn.metrics import accuracy_score, precision_recall_fscore_support, classification_report\n",
    "\n",
    "\n",
    "def get_evaluation_metrics(true_labels, pred_labels, label_map):\n",
    "    # Compute metrics\n",
    "    accuracy = accuracy_score(true_labels, pred_labels)\n",
    "    precision, recall, f1, _ = precision_recall_fscore_support(\n",
    "        true_labels, pred_labels, average='weighted')\n",
    "\n",
    "    print(f\"Test Accuracy: {accuracy:.4f}\")\n",
    "    print(f\"Test Precision: {precision:.4f}\")\n",
    "    print(f\"Test Recall: {recall:.4f}\")\n",
    "    print(f\"Test F1-score: {f1:.4f}\\n\")\n",
    "\n",
    "    # Print detailed classification report\n",
    "    print(classification_report(true_labels, pred_labels,\n",
    "          target_names=list(label_map.keys())))"
   ]
  },
  {
   "cell_type": "markdown",
   "metadata": {},
   "source": [
    "Evaluate the best model on the test set\n"
   ]
  },
  {
   "cell_type": "code",
   "execution_count": 19,
   "metadata": {},
   "outputs": [
    {
     "name": "stdout",
     "output_type": "stream",
     "text": [
      "Evaluating best model on test set...\n"
     ]
    },
    {
     "name": "stderr",
     "output_type": "stream",
     "text": [
      "Testing: 100%|██████████| 75/75 [00:02<00:00, 33.39it/s]\n"
     ]
    },
    {
     "name": "stdout",
     "output_type": "stream",
     "text": [
      "Test Accuracy: 0.7297\n",
      "Test Precision: 0.7354\n",
      "Test Recall: 0.7297\n",
      "Test F1-score: 0.7289\n",
      "\n",
      "              precision    recall  f1-score   support\n",
      "\n",
      "       Anger       0.66      0.82      0.73       916\n",
      "       Bored       0.75      0.88      0.81      1098\n",
      "     Disgust       0.54      0.62      0.57       291\n",
      "        Fear       0.56      0.56      0.56       308\n",
      "       Happy       0.79      0.63      0.70      1914\n",
      "     Neutral       0.70      0.68      0.69      2226\n",
      "    Question       0.88      0.80      0.84      1139\n",
      "         Sad       0.74      0.77      0.76       857\n",
      "    Surprise       0.72      0.78      0.75       728\n",
      "\n",
      "    accuracy                           0.73      9477\n",
      "   macro avg       0.70      0.72      0.71      9477\n",
      "weighted avg       0.74      0.73      0.73      9477\n",
      "\n"
     ]
    },
    {
     "data": {
      "image/png": "[encoded data removed]",
      "text/plain": [
       "<Figure size 1000x800 with 2 Axes>"
      ]
     },
     "metadata": {},
     "output_type": "display_data"
    }
   ],
   "source": [
    "# Load and get predictions from the bets model\n",
    "best_model_path = f'best_{MODEL}.pt'\n",
    "all_preds, all_labels = get_predictions(\n",
    "    model=model,\n",
    "    testloader=testloader,\n",
    "    device=device,\n",
    "    model_path=best_model_path\n",
    ")\n",
    "\n",
    "# Print detailed evaluation metrics\n",
    "get_evaluation_metrics(all_labels, all_preds, labelmap)\n",
    "\n",
    "# Plot confusion matrix\n",
    "plot_confusion_matrix(all_labels, all_preds)"
   ]
  },
  {
   "cell_type": "code",
   "execution_count": null,
   "metadata": {},
   "outputs": [],
   "source": []
  }
 ],
 "metadata": {
  "kernelspec": {
   "display_name": "Python 3 (ipykernel)",
   "language": "python",
   "name": "python3"
  },
  "language_info": {
   "codemirror_mode": {
    "name": "ipython",
    "version": 3
   },
   "file_extension": ".py",
   "mimetype": "text/x-python",
   "name": "python",
   "nbconvert_exporter": "python",
   "pygments_lexer": "ipython3",
   "version": "3.11.6"
  }
 },
 "nbformat": 4,
 "nbformat_minor": 4
}
