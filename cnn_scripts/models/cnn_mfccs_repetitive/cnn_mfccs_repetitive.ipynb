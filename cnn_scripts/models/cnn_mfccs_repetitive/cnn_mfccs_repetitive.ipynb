{
 "cells": [
  {
   "cell_type": "markdown",
   "metadata": {},
   "source": [
    "# Train CNN with MFCCs\n"
   ]
  },
  {
   "cell_type": "markdown",
   "metadata": {},
   "source": [
    "Inspired by https://medium.com/@diego-rios/speech-emotion-recognition-with-convolutional-neural-network-ae5406a1c0f7\n",
    "\n",
    "MFCC tensors with repetitive padding\n"
   ]
  },
  {
   "cell_type": "markdown",
   "metadata": {},
   "source": [
    "Import the necessary libraries\n"
   ]
  },
  {
   "cell_type": "code",
   "execution_count": 1,
   "metadata": {},
   "outputs": [],
   "source": [
    "import torch\n",
    "from torch.utils.data import DataLoader\n",
    "import torchvision.transforms as transforms\n",
    "from torchview import draw_graph\n",
    "import torch.nn as nn\n",
    "import torch.optim as optim\n",
    "from torchsummary import summary\n",
    "import os\n",
    "import sys\n",
    "import numpy as np\n",
    "import random\n",
    "import time\n",
    "from tqdm import tqdm\n",
    "import matplotlib.pyplot as plt"
   ]
  },
  {
   "cell_type": "code",
   "execution_count": 2,
   "metadata": {},
   "outputs": [],
   "source": [
    "# Get the absolute path to the project root without relying on __file__\n",
    "notebook_path = os.getcwd()  # Gets current working directory\n",
    "project_root = os.path.abspath(os.path.join(notebook_path, \"../..\"))\n",
    "sys.path.insert(0, project_root)"
   ]
  },
  {
   "cell_type": "code",
   "execution_count": 3,
   "metadata": {},
   "outputs": [
    {
     "name": "stdout",
     "output_type": "stream",
     "text": [
      "2.1.1+cu118\n",
      "True\n"
     ]
    }
   ],
   "source": [
    "print(torch.__version__)\n",
    "print(torch.cuda.is_available())"
   ]
  },
  {
   "cell_type": "markdown",
   "metadata": {},
   "source": [
    "Set the seed for reproducibility\n"
   ]
  },
  {
   "cell_type": "code",
   "execution_count": 4,
   "metadata": {},
   "outputs": [],
   "source": [
    "random_seed = 42\n",
    "\n",
    "torch.manual_seed(random_seed)\n",
    "np.random.seed(random_seed)\n",
    "random.seed(random_seed)\n",
    "\n",
    "if (torch.cuda.is_available()):\n",
    "    torch.cuda.manual_seed(random_seed)"
   ]
  },
  {
   "cell_type": "markdown",
   "metadata": {},
   "source": [
    "Set some constant strings\n"
   ]
  },
  {
   "cell_type": "code",
   "execution_count": 5,
   "metadata": {},
   "outputs": [],
   "source": [
    "MODEL = 'cnn_mfccs_repetitive'\n",
    "\n",
    "train_csv = '../../../data/mfcc_train_dataset.csv'\n",
    "test_csv = '../../../data/mfcc_test_dataset.csv'\n",
    "val_csv = '../../../data/mfcc_val_dataset.csv'\n",
    "root_dir = '../../../data/'\n",
    "class_weights_path = '../../../data/class_weights.pt'"
   ]
  },
  {
   "cell_type": "markdown",
   "metadata": {},
   "source": [
    "Custom dataset class for loading the mfcc tensors\n"
   ]
  },
  {
   "cell_type": "code",
   "execution_count": 6,
   "metadata": {},
   "outputs": [],
   "source": [
    "from datasets.MfccDataset import MFCCDataset"
   ]
  },
  {
   "cell_type": "markdown",
   "metadata": {},
   "source": [
    "Define the training function\n"
   ]
  },
  {
   "cell_type": "code",
   "execution_count": 7,
   "metadata": {},
   "outputs": [],
   "source": [
    "def train(model, trainloader, criterion, optimizer, device):\n",
    "    train_loss = 0.0\n",
    "    train_total = 0\n",
    "    train_correct = 0\n",
    "\n",
    "    # train mode\n",
    "    model.train()\n",
    "\n",
    "    epoch_start = time.time()\n",
    "    pbar = tqdm(enumerate(trainloader), total=len(\n",
    "        trainloader), desc=\"Training\")\n",
    "\n",
    "    for i, (inputs, labels) in pbar:\n",
    "        inputs, labels = inputs.to(device), labels.to(device)\n",
    "\n",
    "        # Zero the parameter gradients\n",
    "        optimizer.zero_grad()\n",
    "\n",
    "        # Forward pass\n",
    "        outputs = model(inputs)\n",
    "        loss = criterion(outputs, labels)\n",
    "\n",
    "        # Backward pass and optimize\n",
    "        loss.backward()\n",
    "        optimizer.step()\n",
    "\n",
    "        # Update training loss\n",
    "        train_loss += loss.item()\n",
    "\n",
    "        # Calculate accuracy\n",
    "        _, predicted = torch.max(outputs, 1)\n",
    "        train_total += labels.size(0)\n",
    "        train_correct += (predicted == labels).sum().item()\n",
    "\n",
    "        # Calculate time metrics\n",
    "        elapsed = time.time() - epoch_start\n",
    "        progress = (i + 1) / len(trainloader)\n",
    "        eta = elapsed / progress - elapsed\n",
    "\n",
    "        # Update progress bar with current loss and ETA\n",
    "        pbar.set_postfix({\n",
    "            \"Loss\": f\"{loss.item()}\",\n",
    "            \"Elapsed\": f\"{elapsed:.4f}s\",\n",
    "            \"ETA\": f\"{eta:.4f}s\"\n",
    "        })\n",
    "\n",
    "    train_loss = train_loss / len(trainloader)\n",
    "    train_accuracy = train_correct / train_total * 100\n",
    "\n",
    "    return model, train_loss, train_accuracy"
   ]
  },
  {
   "cell_type": "markdown",
   "metadata": {},
   "source": [
    "Define the validation function\n"
   ]
  },
  {
   "cell_type": "code",
   "execution_count": 8,
   "metadata": {},
   "outputs": [],
   "source": [
    "def validate(model, valloader, criterion, device):\n",
    "    val_loss = 0.0\n",
    "    val_total = 0\n",
    "    val_correct = 0\n",
    "\n",
    "    # Switch to evaluation mode\n",
    "    model.eval()\n",
    "\n",
    "    epoch_start = time.time()\n",
    "    pbar = tqdm(enumerate(valloader), total=len(\n",
    "        valloader), desc=\"Validating\")\n",
    "\n",
    "    with torch.no_grad():\n",
    "        for i, (inputs, labels) in pbar:\n",
    "            inputs, labels = inputs.to(device), labels.to(device)\n",
    "\n",
    "            # Forward pass\n",
    "            outputs = model(inputs)\n",
    "            loss = criterion(outputs, labels)\n",
    "\n",
    "            # Update test loss\n",
    "            val_loss += loss.item()\n",
    "\n",
    "            # Calculate accuracy\n",
    "            _, predicted = torch.max(outputs, 1)\n",
    "            val_total += labels.size(0)\n",
    "            val_correct += (predicted == labels).sum().item()\n",
    "\n",
    "            # Calculate time metrics\n",
    "            elapsed = time.time() - epoch_start\n",
    "            progress = (i + 1) / len(valloader)\n",
    "            eta = elapsed / progress - elapsed\n",
    "\n",
    "            # Update progress bar with current loss and ETA\n",
    "            pbar.set_postfix({\n",
    "                \"Loss\": f\"{loss.item()}\",\n",
    "                \"Elapsed\": f\"{elapsed:.4f}s\",\n",
    "                \"ETA\": f\"{eta:.4f}s\"\n",
    "            })\n",
    "\n",
    "    val_loss = val_loss / len(valloader)\n",
    "    val_accuracy = val_correct / val_total * 100\n",
    "\n",
    "    return val_loss, val_accuracy"
   ]
  },
  {
   "cell_type": "markdown",
   "metadata": {},
   "source": [
    "Define what happens in each epoch\n"
   ]
  },
  {
   "cell_type": "code",
   "execution_count": 9,
   "metadata": {},
   "outputs": [],
   "source": [
    "def train_epochs(model, trainloader, valloader, criterion, optimizer, device, num_epochs):\n",
    "    train_losses = []\n",
    "    train_accuracies = []\n",
    "    val_losses = []\n",
    "    val_accuracies = []\n",
    "    best_accuracy = 0\n",
    "\n",
    "    for epoch in range(num_epochs):\n",
    "        print(f'Epoch {epoch+1}/{num_epochs}')\n",
    "        epoch_start = time.time()\n",
    "\n",
    "        model, train_loss, train_accuracy = train(\n",
    "            model, trainloader, criterion, optimizer, device)\n",
    "        val_loss, val_accuracy = validate(\n",
    "            model, valloader, criterion, device)\n",
    "\n",
    "        epoch_elapsed = time.time() - epoch_start\n",
    "        print(f\"Epoch {epoch+1} completed in {epoch_elapsed:.4f}s\")\n",
    "        print(f'Train Loss: {train_loss} - Train Accuracy: {train_accuracy}')\n",
    "        print(\n",
    "            f'Validation Loss: {val_loss} - Validation Accuracy: {val_accuracy}')\n",
    "        print()\n",
    "\n",
    "        train_losses.append(train_loss)\n",
    "        train_accuracies.append(train_accuracy)\n",
    "        val_losses.append(val_loss)\n",
    "        val_accuracies.append(val_accuracy)\n",
    "\n",
    "        # Check if current model is best performing using test_accuracy\n",
    "        if val_accuracy > best_accuracy:\n",
    "            best_accuracy = val_accuracy\n",
    "            torch.save(model.state_dict(), f'best_{MODEL}.pt')\n",
    "            checkpoint = {\n",
    "                'epoch': epoch + 1,\n",
    "                'train_losses': train_losses,\n",
    "                'train_accuracies': train_accuracies,\n",
    "                'val_losses': val_losses,\n",
    "                'val_accuracies': val_accuracies,\n",
    "            }\n",
    "            torch.save(checkpoint, f'best_{MODEL}_checkpoint.pt')\n",
    "\n",
    "    return model, train_losses, train_accuracies, val_losses, val_accuracies"
   ]
  },
  {
   "cell_type": "markdown",
   "metadata": {},
   "source": [
    "Plot the loss and accuracy graphs\n"
   ]
  },
  {
   "cell_type": "code",
   "execution_count": 10,
   "metadata": {},
   "outputs": [],
   "source": [
    "def plot_loss(train_losses, val_losses):\n",
    "    plt.figure()\n",
    "    plt.plot(range(len(train_losses)), train_losses, label='Training Loss')\n",
    "    plt.plot(range(len(val_losses)), val_losses, label='Validation Loss')\n",
    "    plt.xlabel('Epoch')\n",
    "    plt.ylabel('Loss')\n",
    "    plt.legend()\n",
    "    plt.show()"
   ]
  },
  {
   "cell_type": "code",
   "execution_count": 11,
   "metadata": {},
   "outputs": [],
   "source": [
    "def plot_accuracy(train_accuracies, val_accuracies):\n",
    "    plt.figure()\n",
    "    plt.plot(range(len(train_accuracies)),\n",
    "             train_accuracies, label='Training Accuracy')\n",
    "    plt.plot(range(len(val_accuracies)),\n",
    "             val_accuracies, label='Validation Accuracy')\n",
    "    plt.xlabel('Epoch')\n",
    "    plt.ylabel('Accuracy')\n",
    "    plt.legend()\n",
    "    plt.show()"
   ]
  },
  {
   "cell_type": "markdown",
   "metadata": {},
   "source": [
    "Import the model\n"
   ]
  },
  {
   "cell_type": "code",
   "execution_count": 12,
   "metadata": {},
   "outputs": [
    {
     "data": {
      "text/plain": [
       "CNNMFCCs(\n",
       "  (conv1): Conv1d(40, 16, kernel_size=(3,), stride=(1,), padding=(1,))\n",
       "  (conv2): Conv1d(16, 32, kernel_size=(3,), stride=(1,), padding=(1,))\n",
       "  (conv3): Conv1d(32, 64, kernel_size=(3,), stride=(1,), padding=(1,))\n",
       "  (conv4): Conv1d(64, 128, kernel_size=(3,), stride=(1,), padding=(1,))\n",
       "  (dropout): Dropout(p=0.1, inplace=False)\n",
       "  (fc1): Linear(in_features=22016, out_features=128, bias=True)\n",
       "  (fc2): Linear(in_features=128, out_features=64, bias=True)\n",
       "  (fc3): Linear(in_features=64, out_features=9, bias=True)\n",
       ")"
      ]
     },
     "execution_count": 12,
     "metadata": {},
     "output_type": "execute_result"
    }
   ],
   "source": [
    "from CNNMFCCs import CNNMFCCs\n",
    "\n",
    "model = CNNMFCCs()\n",
    "\n",
    "# Move model to GPU\n",
    "device = torch.device(\"cuda\" if torch.cuda.is_available() else \"cpu\")\n",
    "model.to(device)"
   ]
  },
  {
   "cell_type": "markdown",
   "metadata": {},
   "source": [
    "Visualize the model\n"
   ]
  },
  {
   "cell_type": "code",
   "execution_count": 13,
   "metadata": {},
   "outputs": [
    {
     "name": "stdout",
     "output_type": "stream",
     "text": [
      "----------------------------------------------------------------\n",
      "        Layer (type)               Output Shape         Param #\n",
      "================================================================\n",
      "            Conv1d-1              [-1, 16, 172]           1,936\n",
      "            Conv1d-2              [-1, 32, 172]           1,568\n",
      "            Conv1d-3              [-1, 64, 172]           6,208\n",
      "            Conv1d-4             [-1, 128, 172]          24,704\n",
      "           Dropout-5             [-1, 128, 172]               0\n",
      "            Linear-6                  [-1, 128]       2,818,176\n",
      "           Dropout-7                  [-1, 128]               0\n",
      "            Linear-8                   [-1, 64]           8,256\n",
      "            Linear-9                    [-1, 9]             585\n",
      "================================================================\n",
      "Total params: 2,861,433\n",
      "Trainable params: 2,861,433\n",
      "Non-trainable params: 0\n",
      "----------------------------------------------------------------\n",
      "Input size (MB): 0.03\n",
      "Forward/backward pass size (MB): 0.49\n",
      "Params size (MB): 10.92\n",
      "Estimated Total Size (MB): 11.43\n",
      "----------------------------------------------------------------\n"
     ]
    }
   ],
   "source": [
    "summary(model, (40, 172))"
   ]
  },
  {
   "cell_type": "markdown",
   "metadata": {},
   "source": [
    "Define the learning rate, criterion, optimizer, transformations, and number of epochs\n"
   ]
  },
  {
   "cell_type": "code",
   "execution_count": 14,
   "metadata": {},
   "outputs": [],
   "source": [
    "learning_rate = 0.001\n",
    "\n",
    "class_weights = torch.load(class_weights_path).to(device)\n",
    "criterion = nn.CrossEntropyLoss(weight=class_weights)\n",
    "\n",
    "optimizer = optim.Adam(model.parameters(), lr=learning_rate)\n",
    "\n",
    "# Define transformations\n",
    "transform = transforms.Compose([])\n",
    "\n",
    "epochs = 100"
   ]
  },
  {
   "cell_type": "markdown",
   "metadata": {},
   "source": [
    "Execute the training\n"
   ]
  },
  {
   "cell_type": "code",
   "execution_count": 15,
   "metadata": {},
   "outputs": [
    {
     "name": "stdout",
     "output_type": "stream",
     "text": [
      "Mapping from Emotion to Number: {'Anger': 0, 'Bored': 1, 'Disgust': 2, 'Fear': 3, 'Happy': 4, 'Neutral': 5, 'Question': 6, 'Sad': 7, 'Surprise': 8}\n",
      "Model is on: cuda:0\n",
      "Epoch 1/100\n"
     ]
    },
    {
     "name": "stderr",
     "output_type": "stream",
     "text": [
      "Training: 100%|██████████| 346/346 [00:08<00:00, 41.05it/s, Loss=1.1398272514343262, Elapsed=8.7051s, ETA=0.0000s]\n",
      "Validating: 100%|██████████| 75/75 [00:02<00:00, 36.32it/s, Loss=1.135781168937683, Elapsed=2.2857s, ETA=0.0000s] "
     ]
    },
    {
     "name": "stdout",
     "output_type": "stream",
     "text": [
      "Epoch 1 completed in 11.1268s\n",
      "Train Loss: 1.4559938976530395 - Train Accuracy: 35.32258429253069\n",
      "Validation Loss: 1.181783865292867 - Validation Accuracy: 47.10848459265513\n",
      "\n",
      "Epoch 2/100\n"
     ]
    },
    {
     "name": "stderr",
     "output_type": "stream",
     "text": [
      "\n",
      "Training: 100%|██████████| 346/346 [00:04<00:00, 72.44it/s, Loss=0.98363196849823, Elapsed=4.9723s, ETA=0.0000s]  \n",
      "Validating: 100%|██████████| 75/75 [00:01<00:00, 66.32it/s, Loss=1.1118414402008057, Elapsed=1.3463s, ETA=0.0000s]\n"
     ]
    },
    {
     "name": "stdout",
     "output_type": "stream",
     "text": [
      "Epoch 2 completed in 6.4539s\n",
      "Train Loss: 1.1335317458031495 - Train Accuracy: 48.55385450351643\n",
      "Validation Loss: 1.0943200333913168 - Validation Accuracy: 49.145208948923596\n",
      "\n",
      "Epoch 3/100\n"
     ]
    },
    {
     "name": "stderr",
     "output_type": "stream",
     "text": [
      "Training: 100%|██████████| 346/346 [00:05<00:00, 67.09it/s, Loss=0.8489344716072083, Elapsed=5.3786s, ETA=0.0000s]\n",
      "Validating: 100%|██████████| 75/75 [00:01<00:00, 63.40it/s, Loss=1.1040229797363281, Elapsed=1.3658s, ETA=0.0000s]\n"
     ]
    },
    {
     "name": "stdout",
     "output_type": "stream",
     "text": [
      "Epoch 3 completed in 6.8866s\n",
      "Train Loss: 1.03619163177606 - Train Accuracy: 52.891160308450736\n",
      "Validation Loss: 0.9974677268664042 - Validation Accuracy: 56.03630223723089\n",
      "\n",
      "Epoch 4/100\n"
     ]
    },
    {
     "name": "stderr",
     "output_type": "stream",
     "text": [
      "Training: 100%|██████████| 346/346 [00:04<00:00, 71.38it/s, Loss=0.896256685256958, Elapsed=5.0280s, ETA=0.0000s] \n",
      "Validating: 100%|██████████| 75/75 [00:01<00:00, 58.37it/s, Loss=1.362428903579712, Elapsed=1.4743s, ETA=0.0000s] "
     ]
    },
    {
     "name": "stdout",
     "output_type": "stream",
     "text": [
      "Epoch 4 completed in 6.6579s\n",
      "Train Loss: 0.967318767068014 - Train Accuracy: 56.10004296601162\n",
      "Validation Loss: 0.9911966180801391 - Validation Accuracy: 52.82819755170958\n",
      "\n",
      "Epoch 5/100\n"
     ]
    },
    {
     "name": "stderr",
     "output_type": "stream",
     "text": [
      "\n",
      "Training: 100%|██████████| 346/346 [00:04<00:00, 70.84it/s, Loss=0.9804901480674744, Elapsed=5.0894s, ETA=0.0000s]\n",
      "Validating: 100%|██████████| 75/75 [00:01<00:00, 70.02it/s, Loss=1.2980492115020752, Elapsed=1.2615s, ETA=0.0000s]\n"
     ]
    },
    {
     "name": "stdout",
     "output_type": "stream",
     "text": [
      "Epoch 5 completed in 6.4973s\n",
      "Train Loss: 0.9136576401015927 - Train Accuracy: 58.646344496958456\n",
      "Validation Loss: 0.9458386087417603 - Validation Accuracy: 58.29463908822288\n",
      "\n",
      "Epoch 6/100\n"
     ]
    },
    {
     "name": "stderr",
     "output_type": "stream",
     "text": [
      "Training: 100%|██████████| 346/346 [00:04<00:00, 73.25it/s, Loss=0.8556910753250122, Elapsed=4.9231s, ETA=0.0000s]\n",
      "Validating: 100%|██████████| 75/75 [00:01<00:00, 59.08it/s, Loss=1.7964764833450317, Elapsed=1.4576s, ETA=0.0000s]\n"
     ]
    },
    {
     "name": "stdout",
     "output_type": "stream",
     "text": [
      "Epoch 6 completed in 6.5221s\n",
      "Train Loss: 0.8606793139711281 - Train Accuracy: 60.27905293864906\n",
      "Validation Loss: 0.9357785034179688 - Validation Accuracy: 59.56099620092866\n",
      "\n",
      "Epoch 7/100\n"
     ]
    },
    {
     "name": "stderr",
     "output_type": "stream",
     "text": [
      "Training: 100%|██████████| 346/346 [00:04<00:00, 72.53it/s, Loss=0.9017894268035889, Elapsed=4.9750s, ETA=0.0000s]\n",
      "Validating: 100%|██████████| 75/75 [00:01<00:00, 63.98it/s, Loss=1.1598049402236938, Elapsed=1.3537s, ETA=0.0000s]"
     ]
    },
    {
     "name": "stdout",
     "output_type": "stream",
     "text": [
      "Epoch 7 completed in 6.4799s\n",
      "Train Loss: 0.81058427588099 - Train Accuracy: 62.53363786436309\n",
      "Validation Loss: 0.9538848225275676 - Validation Accuracy: 59.392148585901225\n",
      "\n",
      "Epoch 8/100\n"
     ]
    },
    {
     "name": "stderr",
     "output_type": "stream",
     "text": [
      "\n",
      "Training: 100%|██████████| 346/346 [00:04<00:00, 70.67it/s, Loss=0.6248478889465332, Elapsed=5.0914s, ETA=0.0000s]\n",
      "Validating: 100%|██████████| 75/75 [00:01<00:00, 67.96it/s, Loss=1.1888285875320435, Elapsed=1.3201s, ETA=0.0000s]\n"
     ]
    },
    {
     "name": "stdout",
     "output_type": "stream",
     "text": [
      "Epoch 8 completed in 6.5543s\n",
      "Train Loss: 0.7667276836888639 - Train Accuracy: 64.33821035254743\n",
      "Validation Loss: 0.9395653041203816 - Validation Accuracy: 61.37610806247362\n",
      "\n",
      "Epoch 9/100\n"
     ]
    },
    {
     "name": "stderr",
     "output_type": "stream",
     "text": [
      "Training: 100%|██████████| 346/346 [00:04<00:00, 71.05it/s, Loss=0.8283933997154236, Elapsed=5.0927s, ETA=0.0000s]\n",
      "Validating: 100%|██████████| 75/75 [00:01<00:00, 64.71it/s, Loss=1.0783416032791138, Elapsed=1.3494s, ETA=0.0000s]"
     ]
    },
    {
     "name": "stdout",
     "output_type": "stream",
     "text": [
      "Epoch 9 completed in 6.5810s\n",
      "Train Loss: 0.7169954831889599 - Train Accuracy: 66.31916962529115\n",
      "Validation Loss: 0.9413174637158712 - Validation Accuracy: 60.72182355424229\n",
      "\n",
      "Epoch 10/100\n"
     ]
    },
    {
     "name": "stderr",
     "output_type": "stream",
     "text": [
      "\n",
      "Training: 100%|██████████| 346/346 [00:05<00:00, 69.02it/s, Loss=0.6799363493919373, Elapsed=5.2212s, ETA=0.0000s] \n",
      "Validating: 100%|██████████| 75/75 [00:01<00:00, 69.39it/s, Loss=1.2282267808914185, Elapsed=1.2704s, ETA=0.0000s]\n"
     ]
    },
    {
     "name": "stdout",
     "output_type": "stream",
     "text": [
      "Epoch 10 completed in 6.6291s\n",
      "Train Loss: 0.6761976105801631 - Train Accuracy: 67.73930937789738\n",
      "Validation Loss: 0.9833914200464885 - Validation Accuracy: 62.66357112705783\n",
      "\n",
      "Epoch 11/100\n"
     ]
    },
    {
     "name": "stderr",
     "output_type": "stream",
     "text": [
      "Training: 100%|██████████| 346/346 [00:04<00:00, 71.56it/s, Loss=0.5454941391944885, Elapsed=5.0284s, ETA=0.0000s] \n",
      "Validating: 100%|██████████| 75/75 [00:01<00:00, 66.20it/s, Loss=0.945667564868927, Elapsed=1.3195s, ETA=0.0000s] "
     ]
    },
    {
     "name": "stdout",
     "output_type": "stream",
     "text": [
      "Epoch 11 completed in 6.4821s\n",
      "Train Loss: 0.6314415053997425 - Train Accuracy: 69.62302978223016\n",
      "Validation Loss: 1.0071930972735088 - Validation Accuracy: 60.985647952722665\n",
      "\n",
      "Epoch 12/100\n"
     ]
    },
    {
     "name": "stderr",
     "output_type": "stream",
     "text": [
      "\n",
      "Training: 100%|██████████| 346/346 [00:05<00:00, 66.91it/s, Loss=0.5210950970649719, Elapsed=5.3552s, ETA=0.0000s] \n",
      "Validating: 100%|██████████| 75/75 [00:01<00:00, 63.01it/s, Loss=1.0295939445495605, Elapsed=1.3825s, ETA=0.0000s]"
     ]
    },
    {
     "name": "stdout",
     "output_type": "stream",
     "text": [
      "Epoch 12 completed in 6.8763s\n",
      "Train Loss: 0.5962634121062439 - Train Accuracy: 71.08613554645983\n",
      "Validation Loss: 1.01301513671875 - Validation Accuracy: 61.67159138877163\n",
      "\n",
      "Epoch 13/100\n"
     ]
    },
    {
     "name": "stderr",
     "output_type": "stream",
     "text": [
      "\n",
      "Training: 100%|██████████| 346/346 [00:04<00:00, 75.74it/s, Loss=0.7524864673614502, Elapsed=4.7858s, ETA=0.0000s] \n",
      "Validating: 100%|██████████| 75/75 [00:01<00:00, 61.06it/s, Loss=1.3991143703460693, Elapsed=1.4165s, ETA=0.0000s]\n"
     ]
    },
    {
     "name": "stdout",
     "output_type": "stream",
     "text": [
      "Epoch 13 completed in 6.3496s\n",
      "Train Loss: 0.5479606545040373 - Train Accuracy: 72.5876845842473\n",
      "Validation Loss: 1.0526896142959594 - Validation Accuracy: 62.779653862389196\n",
      "\n",
      "Epoch 14/100\n"
     ]
    },
    {
     "name": "stderr",
     "output_type": "stream",
     "text": [
      "Training: 100%|██████████| 346/346 [00:04<00:00, 73.00it/s, Loss=0.5529877543449402, Elapsed=4.9485s, ETA=0.0000s] \n",
      "Validating: 100%|██████████| 75/75 [00:01<00:00, 62.50it/s, Loss=0.6369560360908508, Elapsed=1.4070s, ETA=0.0000s]"
     ]
    },
    {
     "name": "stdout",
     "output_type": "stream",
     "text": [
      "Epoch 14 completed in 6.4978s\n",
      "Train Loss: 0.4929191819849731 - Train Accuracy: 75.11815653196446\n",
      "Validation Loss: 1.1209978032112122 - Validation Accuracy: 61.397214014352045\n",
      "\n",
      "Epoch 15/100\n"
     ]
    },
    {
     "name": "stderr",
     "output_type": "stream",
     "text": [
      "\n",
      "Training: 100%|██████████| 346/346 [00:04<00:00, 72.62it/s, Loss=0.6832135319709778, Elapsed=4.9716s, ETA=0.0000s] \n",
      "Validating: 100%|██████████| 75/75 [00:01<00:00, 59.06it/s, Loss=0.6592388153076172, Elapsed=1.4610s, ETA=0.0000s]\n"
     ]
    },
    {
     "name": "stdout",
     "output_type": "stream",
     "text": [
      "Epoch 15 completed in 6.5668s\n",
      "Train Loss: 0.464858303008052 - Train Accuracy: 76.07697700187693\n",
      "Validation Loss: 1.1736421902974448 - Validation Accuracy: 64.06711692697341\n",
      "\n",
      "Epoch 16/100\n"
     ]
    },
    {
     "name": "stderr",
     "output_type": "stream",
     "text": [
      "Training: 100%|██████████| 346/346 [00:04<00:00, 73.55it/s, Loss=0.680163562297821, Elapsed=4.9012s, ETA=0.0000s]  \n",
      "Validating: 100%|██████████| 75/75 [00:01<00:00, 64.12it/s, Loss=1.1213916540145874, Elapsed=1.3478s, ETA=0.0000s]\n"
     ]
    },
    {
     "name": "stdout",
     "output_type": "stream",
     "text": [
      "Epoch 16 completed in 6.3957s\n",
      "Train Loss: 0.43503047508655945 - Train Accuracy: 77.43379842156442\n",
      "Validation Loss: 1.2158732509613037 - Validation Accuracy: 64.60531869987337\n",
      "\n",
      "Epoch 17/100\n"
     ]
    },
    {
     "name": "stderr",
     "output_type": "stream",
     "text": [
      "Training: 100%|██████████| 346/346 [00:04<00:00, 74.50it/s, Loss=0.4497467577457428, Elapsed=4.8378s, ETA=0.0000s] \n",
      "Validating: 100%|██████████| 75/75 [00:01<00:00, 65.64it/s, Loss=1.4403727054595947, Elapsed=1.3144s, ETA=0.0000s]"
     ]
    },
    {
     "name": "stdout",
     "output_type": "stream",
     "text": [
      "Epoch 17 completed in 6.2979s\n",
      "Train Loss: 0.42093097741548724 - Train Accuracy: 78.28181180886908\n",
      "Validation Loss: 1.2746301341056823 - Validation Accuracy: 62.99071338117349\n",
      "\n",
      "Epoch 18/100\n"
     ]
    },
    {
     "name": "stderr",
     "output_type": "stream",
     "text": [
      "\n",
      "Training: 100%|██████████| 346/346 [00:04<00:00, 69.56it/s, Loss=0.4232247471809387, Elapsed=5.1678s, ETA=0.0000s] \n",
      "Validating: 100%|██████████| 75/75 [00:01<00:00, 67.50it/s, Loss=1.0274765491485596, Elapsed=1.3198s, ETA=0.0000s]"
     ]
    },
    {
     "name": "stdout",
     "output_type": "stream",
     "text": [
      "Epoch 18 completed in 6.6299s\n",
      "Train Loss: 0.3786021520119871 - Train Accuracy: 80.007236380905\n",
      "Validation Loss: 1.3138602336247762 - Validation Accuracy: 63.59223300970874\n",
      "\n",
      "Epoch 19/100\n"
     ]
    },
    {
     "name": "stderr",
     "output_type": "stream",
     "text": [
      "\n",
      "Training: 100%|██████████| 346/346 [00:04<00:00, 71.20it/s, Loss=0.5543509125709534, Elapsed=5.0815s, ETA=0.0000s] \n",
      "Validating: 100%|██████████| 75/75 [00:01<00:00, 68.96it/s, Loss=2.1200432777404785, Elapsed=1.2829s, ETA=0.0000s]"
     ]
    },
    {
     "name": "stdout",
     "output_type": "stream",
     "text": [
      "Epoch 19 completed in 6.5048s\n",
      "Train Loss: 0.34079287214086235 - Train Accuracy: 81.96105922525497\n",
      "Validation Loss: 1.4383714373906453 - Validation Accuracy: 64.3520472773322\n",
      "\n",
      "Epoch 20/100\n"
     ]
    },
    {
     "name": "stderr",
     "output_type": "stream",
     "text": [
      "\n",
      "Training: 100%|██████████| 346/346 [00:04<00:00, 70.26it/s, Loss=0.2642051577568054, Elapsed=5.1221s, ETA=0.0000s] \n",
      "Validating: 100%|██████████| 75/75 [00:01<00:00, 65.24it/s, Loss=0.9408850073814392, Elapsed=1.3475s, ETA=0.0000s]"
     ]
    },
    {
     "name": "stdout",
     "output_type": "stream",
     "text": [
      "Epoch 20 completed in 6.6090s\n",
      "Train Loss: 0.3244130306936413 - Train Accuracy: 82.56032201895027\n",
      "Validation Loss: 1.470443905989329 - Validation Accuracy: 64.22541156606162\n",
      "\n",
      "Epoch 21/100\n"
     ]
    },
    {
     "name": "stderr",
     "output_type": "stream",
     "text": [
      "\n",
      "Training: 100%|██████████| 346/346 [00:04<00:00, 75.44it/s, Loss=0.39036881923675537, Elapsed=4.7688s, ETA=0.0000s]\n",
      "Validating: 100%|██████████| 75/75 [00:01<00:00, 66.36it/s, Loss=1.1223392486572266, Elapsed=1.3159s, ETA=0.0000s]"
     ]
    },
    {
     "name": "stdout",
     "output_type": "stream",
     "text": [
      "Epoch 21 completed in 6.2202s\n",
      "Train Loss: 0.31255628078142345 - Train Accuracy: 83.47843784627213\n",
      "Validation Loss: 1.609883378346761 - Validation Accuracy: 63.48670325031659\n",
      "\n",
      "Epoch 22/100\n"
     ]
    },
    {
     "name": "stderr",
     "output_type": "stream",
     "text": [
      "\n",
      "Training: 100%|██████████| 346/346 [00:04<00:00, 72.87it/s, Loss=0.19612766802310944, Elapsed=4.9396s, ETA=0.0000s]\n",
      "Validating: 100%|██████████| 75/75 [00:01<00:00, 59.73it/s, Loss=0.7944998145103455, Elapsed=1.4570s, ETA=0.0000s]"
     ]
    },
    {
     "name": "stdout",
     "output_type": "stream",
     "text": [
      "Epoch 22 completed in 6.5396s\n",
      "Train Loss: 0.29069847505905727 - Train Accuracy: 84.31062165034712\n",
      "Validation Loss: 1.5656994978586833 - Validation Accuracy: 64.58421274799493\n",
      "\n",
      "Epoch 23/100\n"
     ]
    },
    {
     "name": "stderr",
     "output_type": "stream",
     "text": [
      "\n",
      "Training: 100%|██████████| 346/346 [00:04<00:00, 72.17it/s, Loss=0.24189525842666626, Elapsed=4.9608s, ETA=0.0000s]\n",
      "Validating: 100%|██████████| 75/75 [00:01<00:00, 60.69it/s, Loss=0.7884472012519836, Elapsed=1.4252s, ETA=0.0000s]"
     ]
    },
    {
     "name": "stdout",
     "output_type": "stream",
     "text": [
      "Epoch 23 completed in 6.5350s\n",
      "Train Loss: 0.2653048752532529 - Train Accuracy: 85.69684086746116\n",
      "Validation Loss: 1.613865479628245 - Validation Accuracy: 64.04601097509499\n",
      "\n",
      "Epoch 24/100\n"
     ]
    },
    {
     "name": "stderr",
     "output_type": "stream",
     "text": [
      "\n",
      "Training: 100%|██████████| 346/346 [00:04<00:00, 74.50it/s, Loss=0.17888402938842773, Elapsed=4.8364s, ETA=0.0000s]\n",
      "Validating: 100%|██████████| 75/75 [00:01<00:00, 70.32it/s, Loss=1.151879906654358, Elapsed=1.2571s, ETA=0.0000s] "
     ]
    },
    {
     "name": "stdout",
     "output_type": "stream",
     "text": [
      "Epoch 24 completed in 6.2318s\n",
      "Train Loss: 0.27138842353758785 - Train Accuracy: 85.64030664164085\n",
      "Validation Loss: 1.6209647878011069 - Validation Accuracy: 64.39425918108907\n",
      "\n",
      "Epoch 25/100\n"
     ]
    },
    {
     "name": "stderr",
     "output_type": "stream",
     "text": [
      "\n",
      "Training: 100%|██████████| 346/346 [00:04<00:00, 71.15it/s, Loss=0.21386973559856415, Elapsed=5.0635s, ETA=0.0000s]\n",
      "Validating: 100%|██████████| 75/75 [00:01<00:00, 66.09it/s, Loss=0.9353095889091492, Elapsed=1.3565s, ETA=0.0000s]\n"
     ]
    },
    {
     "name": "stdout",
     "output_type": "stream",
     "text": [
      "Epoch 25 completed in 6.5596s\n",
      "Train Loss: 0.23919089584250672 - Train Accuracy: 86.9745143710002\n",
      "Validation Loss: 1.7759441097577413 - Validation Accuracy: 65.38623891937526\n",
      "\n",
      "Epoch 26/100\n"
     ]
    },
    {
     "name": "stderr",
     "output_type": "stream",
     "text": [
      "Training: 100%|██████████| 346/346 [00:05<00:00, 67.69it/s, Loss=0.4520958662033081, Elapsed=5.3293s, ETA=0.0000s] \n",
      "Validating: 100%|██████████| 75/75 [00:01<00:00, 59.35it/s, Loss=1.7260046005249023, Elapsed=1.4827s, ETA=0.0000s]"
     ]
    },
    {
     "name": "stdout",
     "output_type": "stream",
     "text": [
      "Epoch 26 completed in 6.9471s\n",
      "Train Loss: 0.2548384006657352 - Train Accuracy: 86.77325252707989\n",
      "Validation Loss: 1.8416813786824544 - Validation Accuracy: 64.06711692697341\n",
      "\n",
      "Epoch 27/100\n"
     ]
    },
    {
     "name": "stderr",
     "output_type": "stream",
     "text": [
      "\n",
      "Training: 100%|██████████| 346/346 [00:04<00:00, 73.46it/s, Loss=0.26273804903030396, Elapsed=4.9284s, ETA=0.0000s]\n",
      "Validating: 100%|██████████| 75/75 [00:01<00:00, 67.52it/s, Loss=1.4066733121871948, Elapsed=1.3164s, ETA=0.0000s]"
     ]
    },
    {
     "name": "stdout",
     "output_type": "stream",
     "text": [
      "Epoch 27 completed in 6.3855s\n",
      "Train Loss: 0.22197556196351273 - Train Accuracy: 88.11424436353768\n",
      "Validation Loss: 1.7818767889340719 - Validation Accuracy: 64.8480371464753\n",
      "\n",
      "Epoch 28/100\n"
     ]
    },
    {
     "name": "stderr",
     "output_type": "stream",
     "text": [
      "\n",
      "Training: 100%|██████████| 346/346 [00:04<00:00, 72.42it/s, Loss=0.1522367149591446, Elapsed=4.9944s, ETA=0.0000s] \n",
      "Validating: 100%|██████████| 75/75 [00:01<00:00, 63.52it/s, Loss=1.5415260791778564, Elapsed=1.3701s, ETA=0.0000s]"
     ]
    },
    {
     "name": "stdout",
     "output_type": "stream",
     "text": [
      "Epoch 28 completed in 6.5061s\n",
      "Train Loss: 0.2055887248087136 - Train Accuracy: 88.9509509056783\n",
      "Validation Loss: 1.9194207652409871 - Validation Accuracy: 63.951034191642044\n",
      "\n",
      "Epoch 29/100\n"
     ]
    },
    {
     "name": "stderr",
     "output_type": "stream",
     "text": [
      "\n",
      "Training: 100%|██████████| 346/346 [00:04<00:00, 72.27it/s, Loss=0.2988245189189911, Elapsed=5.0039s, ETA=0.0000s] \n",
      "Validating: 100%|██████████| 75/75 [00:01<00:00, 61.37it/s, Loss=2.4519035816192627, Elapsed=1.4348s, ETA=0.0000s]"
     ]
    },
    {
     "name": "stdout",
     "output_type": "stream",
     "text": [
      "Epoch 29 completed in 6.5833s\n",
      "Train Loss: 0.2040032361111889 - Train Accuracy: 89.36704280771579\n",
      "Validation Loss: 1.8031035566329956 - Validation Accuracy: 63.845504432249896\n",
      "\n",
      "Epoch 30/100\n"
     ]
    },
    {
     "name": "stderr",
     "output_type": "stream",
     "text": [
      "\n",
      "Training: 100%|██████████| 346/346 [00:04<00:00, 72.78it/s, Loss=0.15527817606925964, Elapsed=4.9745s, ETA=0.0000s]\n",
      "Validating: 100%|██████████| 75/75 [00:01<00:00, 68.98it/s, Loss=1.0311740636825562, Elapsed=1.3010s, ETA=0.0000s]"
     ]
    },
    {
     "name": "stdout",
     "output_type": "stream",
     "text": [
      "Epoch 30 completed in 6.4209s\n",
      "Train Loss: 0.20726189267084089 - Train Accuracy: 89.32859953415799\n",
      "Validation Loss: 2.0293801975250245 - Validation Accuracy: 64.15154073448713\n",
      "\n",
      "Epoch 31/100\n"
     ]
    },
    {
     "name": "stderr",
     "output_type": "stream",
     "text": [
      "\n",
      "Training: 100%|██████████| 346/346 [00:04<00:00, 76.10it/s, Loss=0.19799940288066864, Elapsed=4.7578s, ETA=0.0000s]\n",
      "Validating: 100%|██████████| 75/75 [00:01<00:00, 65.64it/s, Loss=1.745314121246338, Elapsed=1.3348s, ETA=0.0000s] "
     ]
    },
    {
     "name": "stdout",
     "output_type": "stream",
     "text": [
      "Epoch 31 completed in 6.2347s\n",
      "Train Loss: 0.1904739287245825 - Train Accuracy: 90.07485131498609\n",
      "Validation Loss: 2.0457053558031717 - Validation Accuracy: 64.5525538201773\n",
      "\n",
      "Epoch 32/100\n"
     ]
    },
    {
     "name": "stderr",
     "output_type": "stream",
     "text": [
      "\n",
      "Training: 100%|██████████| 346/346 [00:04<00:00, 74.76it/s, Loss=0.030162179842591286, Elapsed=4.8183s, ETA=0.0000s]\n",
      "Validating: 100%|██████████| 75/75 [00:01<00:00, 70.57it/s, Loss=1.456536889076233, Elapsed=1.2426s, ETA=0.0000s] "
     ]
    },
    {
     "name": "stdout",
     "output_type": "stream",
     "text": [
      "Epoch 32 completed in 6.2028s\n",
      "Train Loss: 0.19204807973256863 - Train Accuracy: 89.99118066077203\n",
      "Validation Loss: 2.016789623896281 - Validation Accuracy: 64.71084845926552\n",
      "\n",
      "Epoch 33/100\n"
     ]
    },
    {
     "name": "stderr",
     "output_type": "stream",
     "text": [
      "\n",
      "Training: 100%|██████████| 346/346 [00:04<00:00, 70.54it/s, Loss=0.09264843910932541, Elapsed=5.0973s, ETA=0.0000s]\n",
      "Validating: 100%|██████████| 75/75 [00:01<00:00, 67.09it/s, Loss=2.7116923332214355, Elapsed=1.3125s, ETA=0.0000s]"
     ]
    },
    {
     "name": "stdout",
     "output_type": "stream",
     "text": [
      "Epoch 33 completed in 6.5514s\n",
      "Train Loss: 0.16361339926461263 - Train Accuracy: 91.3253883901314\n",
      "Validation Loss: 2.0294287729263307 - Validation Accuracy: 64.78471929084002\n",
      "\n",
      "Epoch 34/100\n"
     ]
    },
    {
     "name": "stderr",
     "output_type": "stream",
     "text": [
      "\n",
      "Training: 100%|██████████| 346/346 [00:04<00:00, 75.45it/s, Loss=0.32043537497520447, Elapsed=4.8007s, ETA=0.0000s]\n",
      "Validating: 100%|██████████| 75/75 [00:01<00:00, 65.82it/s, Loss=0.9353762865066528, Elapsed=1.3519s, ETA=0.0000s]"
     ]
    },
    {
     "name": "stdout",
     "output_type": "stream",
     "text": [
      "Epoch 34 completed in 6.3000s\n",
      "Train Loss: 0.16014098583833675 - Train Accuracy: 91.62388910246263\n",
      "Validation Loss: 2.1083830308914187 - Validation Accuracy: 64.68974250738708\n",
      "\n",
      "Epoch 35/100\n"
     ]
    },
    {
     "name": "stderr",
     "output_type": "stream",
     "text": [
      "\n",
      "Training: 100%|██████████| 346/346 [00:04<00:00, 75.40it/s, Loss=0.14124494791030884, Elapsed=4.8035s, ETA=0.0000s]\n",
      "Validating: 100%|██████████| 75/75 [00:01<00:00, 65.38it/s, Loss=2.2027697563171387, Elapsed=1.3304s, ETA=0.0000s]"
     ]
    },
    {
     "name": "stdout",
     "output_type": "stream",
     "text": [
      "Epoch 35 completed in 6.2764s\n",
      "Train Loss: 0.16815520784241617 - Train Accuracy: 91.46107053210014\n",
      "Validation Loss: 2.1004625384012856 - Validation Accuracy: 63.011819333051925\n",
      "\n",
      "Epoch 36/100\n"
     ]
    },
    {
     "name": "stderr",
     "output_type": "stream",
     "text": [
      "\n",
      "Training: 100%|██████████| 346/346 [00:04<00:00, 74.84it/s, Loss=0.1173068955540657, Elapsed=4.8229s, ETA=0.0000s]  \n",
      "Validating: 100%|██████████| 75/75 [00:01<00:00, 69.25it/s, Loss=3.6948025226593018, Elapsed=1.2952s, ETA=0.0000s]"
     ]
    },
    {
     "name": "stdout",
     "output_type": "stream",
     "text": [
      "Epoch 36 completed in 6.2556s\n",
      "Train Loss: 0.16312675791754888 - Train Accuracy: 91.64424142375795\n",
      "Validation Loss: 2.2726110855738324 - Validation Accuracy: 64.79527226677924\n",
      "\n",
      "Epoch 37/100\n"
     ]
    },
    {
     "name": "stderr",
     "output_type": "stream",
     "text": [
      "\n",
      "Training: 100%|██████████| 346/346 [00:04<00:00, 75.55it/s, Loss=0.20777712762355804, Elapsed=4.7953s, ETA=0.0000s]\n",
      "Validating: 100%|██████████| 75/75 [00:01<00:00, 67.79it/s, Loss=3.7297377586364746, Elapsed=1.3254s, ETA=0.0000s]"
     ]
    },
    {
     "name": "stdout",
     "output_type": "stream",
     "text": [
      "Epoch 37 completed in 6.2627s\n",
      "Train Loss: 0.1466491484120919 - Train Accuracy: 92.44250469234075\n",
      "Validation Loss: 2.214360845883687 - Validation Accuracy: 64.53144786829887\n",
      "\n",
      "Epoch 38/100\n"
     ]
    },
    {
     "name": "stderr",
     "output_type": "stream",
     "text": [
      "\n",
      "Training: 100%|██████████| 346/346 [00:04<00:00, 71.54it/s, Loss=0.2809944450855255, Elapsed=5.0500s, ETA=0.0000s]  \n",
      "Validating: 100%|██████████| 75/75 [00:01<00:00, 70.67it/s, Loss=4.820598602294922, Elapsed=1.2660s, ETA=0.0000s] "
     ]
    },
    {
     "name": "stdout",
     "output_type": "stream",
     "text": [
      "Epoch 38 completed in 6.4515s\n",
      "Train Loss: 0.1564657068515272 - Train Accuracy: 92.19375409873138\n",
      "Validation Loss: 2.0222947883605955 - Validation Accuracy: 63.09624314056565\n",
      "\n",
      "Epoch 39/100\n"
     ]
    },
    {
     "name": "stderr",
     "output_type": "stream",
     "text": [
      "\n",
      "Training: 100%|██████████| 346/346 [00:04<00:00, 70.16it/s, Loss=0.27543821930885315, Elapsed=5.1516s, ETA=0.0000s] \n",
      "Validating: 100%|██████████| 75/75 [00:01<00:00, 63.49it/s, Loss=2.0459444522857666, Elapsed=1.3523s, ETA=0.0000s]"
     ]
    },
    {
     "name": "stdout",
     "output_type": "stream",
     "text": [
      "Epoch 39 completed in 6.6466s\n",
      "Train Loss: 0.13069597564939128 - Train Accuracy: 93.22493837769386\n",
      "Validation Loss: 2.1633057594299316 - Validation Accuracy: 64.489235964542\n",
      "\n",
      "Epoch 40/100\n"
     ]
    },
    {
     "name": "stderr",
     "output_type": "stream",
     "text": [
      "\n",
      "Training: 100%|██████████| 346/346 [00:04<00:00, 70.66it/s, Loss=0.05053308606147766, Elapsed=5.1112s, ETA=0.0000s]\n",
      "Validating: 100%|██████████| 75/75 [00:01<00:00, 66.23it/s, Loss=2.274204730987549, Elapsed=1.3226s, ETA=0.0000s] "
     ]
    },
    {
     "name": "stdout",
     "output_type": "stream",
     "text": [
      "Epoch 40 completed in 6.5709s\n",
      "Train Loss: 0.14381330364486042 - Train Accuracy: 92.7817100472626\n",
      "Validation Loss: 2.2225938002268473 - Validation Accuracy: 64.56310679611651\n",
      "\n",
      "Epoch 41/100\n"
     ]
    },
    {
     "name": "stderr",
     "output_type": "stream",
     "text": [
      "\n",
      "Training: 100%|██████████| 346/346 [00:04<00:00, 72.06it/s, Loss=0.13294167816638947, Elapsed=4.9869s, ETA=0.0000s] \n",
      "Validating: 100%|██████████| 75/75 [00:01<00:00, 62.66it/s, Loss=3.4200022220611572, Elapsed=1.4013s, ETA=0.0000s]"
     ]
    },
    {
     "name": "stdout",
     "output_type": "stream",
     "text": [
      "Epoch 41 completed in 6.5281s\n",
      "Train Loss: 0.12325728330438192 - Train Accuracy: 93.68399629135479\n",
      "Validation Loss: 2.271317598025004 - Validation Accuracy: 64.60531869987337\n",
      "\n",
      "Epoch 42/100\n"
     ]
    },
    {
     "name": "stderr",
     "output_type": "stream",
     "text": [
      "\n",
      "Training: 100%|██████████| 346/346 [00:05<00:00, 67.94it/s, Loss=0.0744667649269104, Elapsed=5.2937s, ETA=0.0000s]  \n",
      "Validating: 100%|██████████| 75/75 [00:01<00:00, 66.84it/s, Loss=3.053920030593872, Elapsed=1.3195s, ETA=0.0000s] \n"
     ]
    },
    {
     "name": "stdout",
     "output_type": "stream",
     "text": [
      "Epoch 42 completed in 6.7501s\n",
      "Train Loss: 0.12249826243674825 - Train Accuracy: 93.92822414689853\n",
      "Validation Loss: 2.3897164980570476 - Validation Accuracy: 65.29126213592234\n",
      "\n",
      "Epoch 43/100\n"
     ]
    },
    {
     "name": "stderr",
     "output_type": "stream",
     "text": [
      "Training: 100%|██████████| 346/346 [00:04<00:00, 73.59it/s, Loss=0.10703049600124359, Elapsed=4.9245s, ETA=0.0000s] \n",
      "Validating: 100%|██████████| 75/75 [00:01<00:00, 63.58it/s, Loss=3.417585849761963, Elapsed=1.3920s, ETA=0.0000s] "
     ]
    },
    {
     "name": "stdout",
     "output_type": "stream",
     "text": [
      "Epoch 43 completed in 6.4563s\n",
      "Train Loss: 0.1470047482585459 - Train Accuracy: 92.82919879695167\n",
      "Validation Loss: 2.271383163134257 - Validation Accuracy: 64.09877585479104\n",
      "\n",
      "Epoch 44/100\n"
     ]
    },
    {
     "name": "stderr",
     "output_type": "stream",
     "text": [
      "\n",
      "Training: 100%|██████████| 346/346 [00:04<00:00, 73.81it/s, Loss=0.06128867715597153, Elapsed=4.9066s, ETA=0.0000s] \n",
      "Validating: 100%|██████████| 75/75 [00:01<00:00, 60.64it/s, Loss=4.14176082611084, Elapsed=1.4405s, ETA=0.0000s]  "
     ]
    },
    {
     "name": "stdout",
     "output_type": "stream",
     "text": [
      "Epoch 44 completed in 6.4937s\n",
      "Train Loss: 0.13124124682104657 - Train Accuracy: 93.72922367201103\n",
      "Validation Loss: 2.3443739064534506 - Validation Accuracy: 64.14098775854791\n",
      "\n",
      "Epoch 45/100\n"
     ]
    },
    {
     "name": "stderr",
     "output_type": "stream",
     "text": [
      "\n",
      "Training: 100%|██████████| 346/346 [00:04<00:00, 69.44it/s, Loss=0.07217349857091904, Elapsed=5.1886s, ETA=0.0000s] \n",
      "Validating: 100%|██████████| 75/75 [00:01<00:00, 66.06it/s, Loss=3.950727939605713, Elapsed=1.3464s, ETA=0.0000s] \n"
     ]
    },
    {
     "name": "stdout",
     "output_type": "stream",
     "text": [
      "Epoch 45 completed in 6.6697s\n",
      "Train Loss: 0.11846869399049723 - Train Accuracy: 94.10687230049072\n",
      "Validation Loss: 2.3872008339564004 - Validation Accuracy: 63.5605740818911\n",
      "\n",
      "Epoch 46/100\n"
     ]
    },
    {
     "name": "stderr",
     "output_type": "stream",
     "text": [
      "Training: 100%|██████████| 346/346 [00:04<00:00, 77.99it/s, Loss=0.19340524077415466, Elapsed=4.6514s, ETA=0.0000s] \n",
      "Validating: 100%|██████████| 75/75 [00:01<00:00, 66.08it/s, Loss=3.4800221920013428, Elapsed=1.3336s, ETA=0.0000s]"
     ]
    },
    {
     "name": "stdout",
     "output_type": "stream",
     "text": [
      "Epoch 46 completed in 6.1151s\n",
      "Train Loss: 0.11649049118139668 - Train Accuracy: 94.3578842631329\n",
      "Validation Loss: 2.461715998649597 - Validation Accuracy: 64.96411988180667\n",
      "\n",
      "Epoch 47/100\n"
     ]
    },
    {
     "name": "stderr",
     "output_type": "stream",
     "text": [
      "\n",
      "Training: 100%|██████████| 346/346 [00:05<00:00, 63.82it/s, Loss=0.11395975202322006, Elapsed=5.6227s, ETA=0.0000s] \n",
      "Validating: 100%|██████████| 75/75 [00:01<00:00, 65.40it/s, Loss=4.421070098876953, Elapsed=1.3642s, ETA=0.0000s] "
     ]
    },
    {
     "name": "stdout",
     "output_type": "stream",
     "text": [
      "Epoch 47 completed in 7.1228s\n",
      "Train Loss: 0.11468309484357607 - Train Accuracy: 94.30587277537822\n",
      "Validation Loss: 2.499278462727865 - Validation Accuracy: 65.14352047277332\n",
      "\n",
      "Epoch 48/100\n"
     ]
    },
    {
     "name": "stderr",
     "output_type": "stream",
     "text": [
      "\n",
      "Training: 100%|██████████| 346/346 [00:05<00:00, 68.42it/s, Loss=0.13995394110679626, Elapsed=5.2710s, ETA=0.0000s] \n",
      "Validating: 100%|██████████| 75/75 [00:01<00:00, 62.08it/s, Loss=6.097705364227295, Elapsed=1.4094s, ETA=0.0000s] "
     ]
    },
    {
     "name": "stdout",
     "output_type": "stream",
     "text": [
      "Epoch 48 completed in 6.8168s\n",
      "Train Loss: 0.12033868427630622 - Train Accuracy: 94.3036114063454\n",
      "Validation Loss: 2.5284782679875693 - Validation Accuracy: 64.82693119459688\n",
      "\n",
      "Epoch 49/100\n"
     ]
    },
    {
     "name": "stderr",
     "output_type": "stream",
     "text": [
      "\n",
      "Training: 100%|██████████| 346/346 [00:05<00:00, 68.94it/s, Loss=0.12491686642169952, Elapsed=5.2030s, ETA=0.0000s] \n",
      "Validating: 100%|██████████| 75/75 [00:01<00:00, 66.03it/s, Loss=4.285615921020508, Elapsed=1.3258s, ETA=0.0000s] "
     ]
    },
    {
     "name": "stdout",
     "output_type": "stream",
     "text": [
      "Epoch 49 completed in 6.6695s\n",
      "Train Loss: 0.10677583898939838 - Train Accuracy: 94.88026050971257\n",
      "Validation Loss: 2.4263857968648277 - Validation Accuracy: 63.72942169691853\n",
      "\n",
      "Epoch 50/100\n"
     ]
    },
    {
     "name": "stderr",
     "output_type": "stream",
     "text": [
      "\n",
      "Training: 100%|██████████| 346/346 [00:04<00:00, 73.99it/s, Loss=0.09210718423128128, Elapsed=4.8751s, ETA=0.0000s] \n",
      "Validating: 100%|██████████| 75/75 [00:01<00:00, 62.36it/s, Loss=3.6846325397491455, Elapsed=1.3896s, ETA=0.0000s]"
     ]
    },
    {
     "name": "stdout",
     "output_type": "stream",
     "text": [
      "Epoch 50 completed in 6.4032s\n",
      "Train Loss: 0.12224234336438035 - Train Accuracy: 94.16792926437665\n",
      "Validation Loss: 2.2344883553187054 - Validation Accuracy: 63.30730265934994\n",
      "\n",
      "Epoch 51/100\n"
     ]
    },
    {
     "name": "stderr",
     "output_type": "stream",
     "text": [
      "\n",
      "Training: 100%|██████████| 346/346 [00:05<00:00, 68.56it/s, Loss=0.06352999806404114, Elapsed=5.2399s, ETA=0.0000s] \n",
      "Validating: 100%|██████████| 75/75 [00:01<00:00, 64.67it/s, Loss=3.7755258083343506, Elapsed=1.3568s, ETA=0.0000s]"
     ]
    },
    {
     "name": "stdout",
     "output_type": "stream",
     "text": [
      "Epoch 51 completed in 6.7425s\n",
      "Train Loss: 0.12095337755159835 - Train Accuracy: 94.15662241921258\n",
      "Validation Loss: 2.362258578936259 - Validation Accuracy: 63.9932460953989\n",
      "\n",
      "Epoch 52/100\n"
     ]
    },
    {
     "name": "stderr",
     "output_type": "stream",
     "text": [
      "\n",
      "Training: 100%|██████████| 346/346 [00:04<00:00, 72.15it/s, Loss=0.0726737305521965, Elapsed=5.0148s, ETA=0.0000s]  \n",
      "Validating: 100%|██████████| 75/75 [00:01<00:00, 63.92it/s, Loss=4.106874465942383, Elapsed=1.3840s, ETA=0.0000s] "
     ]
    },
    {
     "name": "stdout",
     "output_type": "stream",
     "text": [
      "Epoch 52 completed in 6.5377s\n",
      "Train Loss: 0.10959307273386876 - Train Accuracy: 94.76945342710476\n",
      "Validation Loss: 2.4286433362960818 - Validation Accuracy: 64.37315322921063\n",
      "\n",
      "Epoch 53/100\n"
     ]
    },
    {
     "name": "stderr",
     "output_type": "stream",
     "text": [
      "\n",
      "Training: 100%|██████████| 346/346 [00:04<00:00, 69.44it/s, Loss=0.034446876496076584, Elapsed=5.1920s, ETA=0.0000s]\n",
      "Validating: 100%|██████████| 75/75 [00:01<00:00, 68.21it/s, Loss=1.8527569770812988, Elapsed=1.2897s, ETA=0.0000s]"
     ]
    },
    {
     "name": "stdout",
     "output_type": "stream",
     "text": [
      "Epoch 53 completed in 6.6158s\n",
      "Train Loss: 0.10537632502012514 - Train Accuracy: 94.94131747359852\n",
      "Validation Loss: 2.442545895576477 - Validation Accuracy: 64.29928239763613\n",
      "\n",
      "Epoch 54/100\n"
     ]
    },
    {
     "name": "stderr",
     "output_type": "stream",
     "text": [
      "\n",
      "Training: 100%|██████████| 346/346 [00:04<00:00, 73.42it/s, Loss=0.38774195313453674, Elapsed=4.9103s, ETA=0.0000s] \n",
      "Validating: 100%|██████████| 75/75 [00:01<00:00, 64.11it/s, Loss=3.6273605823516846, Elapsed=1.3584s, ETA=0.0000s]"
     ]
    },
    {
     "name": "stdout",
     "output_type": "stream",
     "text": [
      "Epoch 54 completed in 6.4068s\n",
      "Train Loss: 0.1042471477180461 - Train Accuracy: 95.04534044910788\n",
      "Validation Loss: 2.4837542804082235 - Validation Accuracy: 64.49978894048122\n",
      "\n",
      "Epoch 55/100\n"
     ]
    },
    {
     "name": "stderr",
     "output_type": "stream",
     "text": [
      "\n",
      "Training: 100%|██████████| 346/346 [00:04<00:00, 75.06it/s, Loss=0.022234104573726654, Elapsed=4.8089s, ETA=0.0000s]\n",
      "Validating: 100%|██████████| 75/75 [00:01<00:00, 62.77it/s, Loss=3.07120943069458, Elapsed=1.3784s, ETA=0.0000s]  "
     ]
    },
    {
     "name": "stdout",
     "output_type": "stream",
     "text": [
      "Epoch 55 completed in 6.3349s\n",
      "Train Loss: 0.11014817573259332 - Train Accuracy: 94.9571470568282\n",
      "Validation Loss: 2.472821807861328 - Validation Accuracy: 64.18319966230477\n",
      "\n",
      "Epoch 56/100\n"
     ]
    },
    {
     "name": "stderr",
     "output_type": "stream",
     "text": [
      "\n",
      "Training: 100%|██████████| 346/346 [00:05<00:00, 66.68it/s, Loss=0.10523214936256409, Elapsed=5.4050s, ETA=0.0000s] \n",
      "Validating: 100%|██████████| 75/75 [00:01<00:00, 65.71it/s, Loss=4.176418304443359, Elapsed=1.3236s, ETA=0.0000s] "
     ]
    },
    {
     "name": "stdout",
     "output_type": "stream",
     "text": [
      "Epoch 56 completed in 6.8710s\n",
      "Train Loss: 0.10183272050489063 - Train Accuracy: 95.11092015105945\n",
      "Validation Loss: 2.3355115095774335 - Validation Accuracy: 64.51034191642043\n",
      "\n",
      "Epoch 57/100\n"
     ]
    },
    {
     "name": "stderr",
     "output_type": "stream",
     "text": [
      "\n",
      "Training: 100%|██████████| 346/346 [00:04<00:00, 69.95it/s, Loss=0.08488571643829346, Elapsed=5.1381s, ETA=0.0000s] \n",
      "Validating: 100%|██████████| 75/75 [00:01<00:00, 69.42it/s, Loss=2.8293139934539795, Elapsed=1.2684s, ETA=0.0000s]"
     ]
    },
    {
     "name": "stdout",
     "output_type": "stream",
     "text": [
      "Epoch 57 completed in 6.5425s\n",
      "Train Loss: 0.09391864653504481 - Train Accuracy: 95.6446032428032\n",
      "Validation Loss: 2.4851284233729043 - Validation Accuracy: 64.11988180666948\n",
      "\n",
      "Epoch 58/100\n"
     ]
    },
    {
     "name": "stderr",
     "output_type": "stream",
     "text": [
      "\n",
      "Training: 100%|██████████| 346/346 [00:04<00:00, 72.77it/s, Loss=0.06868566572666168, Elapsed=4.9477s, ETA=0.0000s] \n",
      "Validating: 100%|██████████| 75/75 [00:01<00:00, 66.87it/s, Loss=6.961751937866211, Elapsed=1.3390s, ETA=0.0000s] "
     ]
    },
    {
     "name": "stdout",
     "output_type": "stream",
     "text": [
      "Epoch 58 completed in 6.4235s\n",
      "Train Loss: 0.09484588023748873 - Train Accuracy: 95.52475068406413\n",
      "Validation Loss: 2.458558150927226 - Validation Accuracy: 63.82439848037147\n",
      "\n",
      "Epoch 59/100\n"
     ]
    },
    {
     "name": "stderr",
     "output_type": "stream",
     "text": [
      "\n",
      "Training: 100%|██████████| 346/346 [00:04<00:00, 71.75it/s, Loss=0.19821389019489288, Elapsed=5.0538s, ETA=0.0000s] \n",
      "Validating: 100%|██████████| 75/75 [00:01<00:00, 64.73it/s, Loss=4.508962154388428, Elapsed=1.3633s, ETA=0.0000s] "
     ]
    },
    {
     "name": "stdout",
     "output_type": "stream",
     "text": [
      "Epoch 59 completed in 6.5598s\n",
      "Train Loss: 0.0985115668440313 - Train Accuracy: 95.51118246986726\n",
      "Validation Loss: 2.4176713832219443 - Validation Accuracy: 64.36260025327142\n",
      "\n",
      "Epoch 60/100\n"
     ]
    },
    {
     "name": "stderr",
     "output_type": "stream",
     "text": [
      "\n",
      "Training: 100%|██████████| 346/346 [00:04<00:00, 71.77it/s, Loss=0.1505456268787384, Elapsed=5.0372s, ETA=0.0000s]  \n",
      "Validating: 100%|██████████| 75/75 [00:01<00:00, 54.78it/s, Loss=4.294672966003418, Elapsed=1.5670s, ETA=0.0000s] "
     ]
    },
    {
     "name": "stdout",
     "output_type": "stream",
     "text": [
      "Epoch 60 completed in 6.7377s\n",
      "Train Loss: 0.07979292656440352 - Train Accuracy: 96.17602496551412\n",
      "Validation Loss: 2.536584040323893 - Validation Accuracy: 64.47868298860278\n",
      "\n",
      "Epoch 61/100\n"
     ]
    },
    {
     "name": "stderr",
     "output_type": "stream",
     "text": [
      "\n",
      "Training: 100%|██████████| 346/346 [00:05<00:00, 66.79it/s, Loss=0.031116513535380363, Elapsed=5.3661s, ETA=0.0000s]\n",
      "Validating: 100%|██████████| 75/75 [00:01<00:00, 67.70it/s, Loss=4.272761344909668, Elapsed=1.3178s, ETA=0.0000s] "
     ]
    },
    {
     "name": "stdout",
     "output_type": "stream",
     "text": [
      "Epoch 61 completed in 6.8266s\n",
      "Train Loss: 0.0848046003361744 - Train Accuracy: 95.98154722869225\n",
      "Validation Loss: 2.6013210074106854 - Validation Accuracy: 63.63444491346559\n",
      "\n",
      "Epoch 62/100\n"
     ]
    },
    {
     "name": "stderr",
     "output_type": "stream",
     "text": [
      "\n",
      "Training: 100%|██████████| 346/346 [00:04<00:00, 70.62it/s, Loss=0.07846555858850479, Elapsed=5.1139s, ETA=0.0000s] \n",
      "Validating: 100%|██████████| 75/75 [00:01<00:00, 65.50it/s, Loss=4.54522180557251, Elapsed=1.3575s, ETA=0.0000s]  "
     ]
    },
    {
     "name": "stdout",
     "output_type": "stream",
     "text": [
      "Epoch 62 completed in 6.6168s\n",
      "Train Loss: 0.10780894139921562 - Train Accuracy: 95.0837837226657\n",
      "Validation Loss: 2.472666309674581 - Validation Accuracy: 64.62642465175179\n",
      "\n",
      "Epoch 63/100\n"
     ]
    },
    {
     "name": "stderr",
     "output_type": "stream",
     "text": [
      "\n",
      "Training: 100%|██████████| 346/346 [00:04<00:00, 73.45it/s, Loss=0.052314355969429016, Elapsed=4.9205s, ETA=0.0000s]\n",
      "Validating: 100%|██████████| 75/75 [00:01<00:00, 66.58it/s, Loss=5.094620704650879, Elapsed=1.3199s, ETA=0.0000s] \n"
     ]
    },
    {
     "name": "stdout",
     "output_type": "stream",
     "text": [
      "Epoch 63 completed in 6.3842s\n",
      "Train Loss: 0.09675382418999437 - Train Accuracy: 95.71470568282038\n",
      "Validation Loss: 2.5121185477574666 - Validation Accuracy: 64.86914309835373\n",
      "\n",
      "Epoch 64/100\n"
     ]
    },
    {
     "name": "stderr",
     "output_type": "stream",
     "text": [
      "Training: 100%|██████████| 346/346 [00:04<00:00, 72.83it/s, Loss=0.04287370666861534, Elapsed=4.9466s, ETA=0.0000s] \n",
      "Validating: 100%|██████████| 75/75 [00:01<00:00, 65.19it/s, Loss=3.8613035678863525, Elapsed=1.3379s, ETA=0.0000s]"
     ]
    },
    {
     "name": "stdout",
     "output_type": "stream",
     "text": [
      "Epoch 64 completed in 6.4162s\n",
      "Train Loss: 0.08816559742490164 - Train Accuracy: 95.96345627642975\n",
      "Validation Loss: 2.4323487122853598 - Validation Accuracy: 64.5525538201773\n",
      "\n",
      "Epoch 65/100\n"
     ]
    },
    {
     "name": "stderr",
     "output_type": "stream",
     "text": [
      "\n",
      "Training: 100%|██████████| 346/346 [00:04<00:00, 71.75it/s, Loss=0.13485556840896606, Elapsed=5.0068s, ETA=0.0000s] \n",
      "Validating: 100%|██████████| 75/75 [00:01<00:00, 63.61it/s, Loss=3.3861629962921143, Elapsed=1.3724s, ETA=0.0000s]"
     ]
    },
    {
     "name": "stdout",
     "output_type": "stream",
     "text": [
      "Epoch 65 completed in 6.5206s\n",
      "Train Loss: 0.09551290583102345 - Train Accuracy: 95.73505800411569\n",
      "Validation Loss: 2.5026355282465618 - Validation Accuracy: 64.62642465175179\n",
      "\n",
      "Epoch 66/100\n"
     ]
    },
    {
     "name": "stderr",
     "output_type": "stream",
     "text": [
      "\n",
      "Training: 100%|██████████| 346/346 [00:04<00:00, 71.76it/s, Loss=0.04437478259205818, Elapsed=5.0291s, ETA=0.0000s] \n",
      "Validating: 100%|██████████| 75/75 [00:01<00:00, 64.81it/s, Loss=5.018571376800537, Elapsed=1.3718s, ETA=0.0000s] \n"
     ]
    },
    {
     "name": "stdout",
     "output_type": "stream",
     "text": [
      "Epoch 66 completed in 6.5404s\n",
      "Train Loss: 0.08518799267859989 - Train Accuracy: 96.13079758485787\n",
      "Validation Loss: 2.5939431683222454 - Validation Accuracy: 64.5525538201773\n",
      "\n",
      "Epoch 67/100\n"
     ]
    },
    {
     "name": "stderr",
     "output_type": "stream",
     "text": [
      "Training: 100%|██████████| 346/346 [00:04<00:00, 72.36it/s, Loss=0.09392570704221725, Elapsed=5.0007s, ETA=0.0000s] \n",
      "Validating: 100%|██████████| 75/75 [00:01<00:00, 64.01it/s, Loss=5.265042781829834, Elapsed=1.3646s, ETA=0.0000s] "
     ]
    },
    {
     "name": "stdout",
     "output_type": "stream",
     "text": [
      "Epoch 67 completed in 6.5056s\n",
      "Train Loss: 0.08362376793271545 - Train Accuracy: 96.16697948938288\n",
      "Validation Loss: 2.5344547780354816 - Validation Accuracy: 64.5525538201773\n",
      "\n",
      "Epoch 68/100\n"
     ]
    },
    {
     "name": "stderr",
     "output_type": "stream",
     "text": [
      "\n",
      "Training: 100%|██████████| 346/346 [00:04<00:00, 74.20it/s, Loss=0.0449221096932888, Elapsed=4.8641s, ETA=0.0000s]  \n",
      "Validating: 100%|██████████| 75/75 [00:01<00:00, 68.82it/s, Loss=5.667969226837158, Elapsed=1.3062s, ETA=0.0000s] "
     ]
    },
    {
     "name": "stdout",
     "output_type": "stream",
     "text": [
      "Epoch 68 completed in 6.3033s\n",
      "Train Loss: 0.10213164801068733 - Train Accuracy: 95.45012550598132\n",
      "Validation Loss: 2.4533495887120567 - Validation Accuracy: 63.7083157450401\n",
      "\n",
      "Epoch 69/100\n"
     ]
    },
    {
     "name": "stderr",
     "output_type": "stream",
     "text": [
      "\n",
      "Training: 100%|██████████| 346/346 [00:04<00:00, 71.30it/s, Loss=0.027817944064736366, Elapsed=5.0651s, ETA=0.0000s]\n",
      "Validating: 100%|██████████| 75/75 [00:01<00:00, 66.76it/s, Loss=5.552651882171631, Elapsed=1.3129s, ETA=0.0000s] "
     ]
    },
    {
     "name": "stdout",
     "output_type": "stream",
     "text": [
      "Epoch 69 completed in 6.5186s\n",
      "Train Loss: 0.07600037186713404 - Train Accuracy: 96.42929829718912\n",
      "Validation Loss: 2.668995606104533 - Validation Accuracy: 62.88518362178134\n",
      "\n",
      "Epoch 70/100\n"
     ]
    },
    {
     "name": "stderr",
     "output_type": "stream",
     "text": [
      "\n",
      "Training: 100%|██████████| 346/346 [00:04<00:00, 73.69it/s, Loss=0.1340566724538803, Elapsed=4.8941s, ETA=0.0000s]  \n",
      "Validating: 100%|██████████| 75/75 [00:01<00:00, 68.11it/s, Loss=4.04191780090332, Elapsed=1.2934s, ETA=0.0000s]  "
     ]
    },
    {
     "name": "stdout",
     "output_type": "stream",
     "text": [
      "Epoch 70 completed in 6.3322s\n",
      "Train Loss: 0.0838277523831136 - Train Accuracy: 96.1918545487438\n",
      "Validation Loss: 2.6401524925231934 - Validation Accuracy: 63.90882228788518\n",
      "\n",
      "Epoch 71/100\n"
     ]
    },
    {
     "name": "stderr",
     "output_type": "stream",
     "text": [
      "\n",
      "Training: 100%|██████████| 346/346 [00:04<00:00, 73.10it/s, Loss=0.06031590327620506, Elapsed=4.9314s, ETA=0.0000s] \n",
      "Validating: 100%|██████████| 75/75 [00:01<00:00, 65.26it/s, Loss=4.87468957901001, Elapsed=1.3443s, ETA=0.0000s]  "
     ]
    },
    {
     "name": "stdout",
     "output_type": "stream",
     "text": [
      "Epoch 71 completed in 6.4175s\n",
      "Train Loss: 0.0766198709499457 - Train Accuracy: 96.46774157074694\n",
      "Validation Loss: 2.560836238861084 - Validation Accuracy: 64.25707049387927\n",
      "\n",
      "Epoch 72/100\n"
     ]
    },
    {
     "name": "stderr",
     "output_type": "stream",
     "text": [
      "\n",
      "Training: 100%|██████████| 346/346 [00:04<00:00, 74.22it/s, Loss=0.032186444848775864, Elapsed=4.8543s, ETA=0.0000s]\n",
      "Validating: 100%|██████████| 75/75 [00:01<00:00, 67.37it/s, Loss=6.080685138702393, Elapsed=1.3221s, ETA=0.0000s] "
     ]
    },
    {
     "name": "stdout",
     "output_type": "stream",
     "text": [
      "Epoch 72 completed in 6.3092s\n",
      "Train Loss: 0.07483070641971393 - Train Accuracy: 96.51070758237037\n",
      "Validation Loss: 2.6278465366363526 - Validation Accuracy: 65.16462642465174\n",
      "\n",
      "Epoch 73/100\n"
     ]
    },
    {
     "name": "stderr",
     "output_type": "stream",
     "text": [
      "\n",
      "Training: 100%|██████████| 346/346 [00:04<00:00, 72.43it/s, Loss=0.09478913247585297, Elapsed=4.9777s, ETA=0.0000s] \n",
      "Validating: 100%|██████████| 75/75 [00:01<00:00, 65.58it/s, Loss=2.4523775577545166, Elapsed=1.3306s, ETA=0.0000s]"
     ]
    },
    {
     "name": "stdout",
     "output_type": "stream",
     "text": [
      "Epoch 73 completed in 6.4402s\n",
      "Train Loss: 0.0790868590725855 - Train Accuracy: 96.48583252300944\n",
      "Validation Loss: 2.4754654852549236 - Validation Accuracy: 64.04601097509499\n",
      "\n",
      "Epoch 74/100\n"
     ]
    },
    {
     "name": "stderr",
     "output_type": "stream",
     "text": [
      "\n",
      "Training: 100%|██████████| 346/346 [00:04<00:00, 72.97it/s, Loss=0.024452177807688713, Elapsed=4.9299s, ETA=0.0000s]\n",
      "Validating: 100%|██████████| 75/75 [00:01<00:00, 70.66it/s, Loss=6.322121620178223, Elapsed=1.2705s, ETA=0.0000s] "
     ]
    },
    {
     "name": "stdout",
     "output_type": "stream",
     "text": [
      "Epoch 74 completed in 6.3392s\n",
      "Train Loss: 0.08646089365878115 - Train Accuracy: 96.1918545487438\n",
      "Validation Loss: 2.5808257087071738 - Validation Accuracy: 63.98269311945969\n",
      "\n",
      "Epoch 75/100\n"
     ]
    },
    {
     "name": "stderr",
     "output_type": "stream",
     "text": [
      "\n",
      "Training: 100%|██████████| 346/346 [00:04<00:00, 73.16it/s, Loss=0.02877926453948021, Elapsed=4.9270s, ETA=0.0000s] \n",
      "Validating: 100%|██████████| 75/75 [00:01<00:00, 65.56it/s, Loss=3.165070056915283, Elapsed=1.3598s, ETA=0.0000s] "
     ]
    },
    {
     "name": "stdout",
     "output_type": "stream",
     "text": [
      "Epoch 75 completed in 6.4266s\n",
      "Train Loss: 0.08391849747239855 - Train Accuracy: 96.17828633454694\n",
      "Validation Loss: 2.507411894798279 - Validation Accuracy: 64.46813001266356\n",
      "\n",
      "Epoch 76/100\n"
     ]
    },
    {
     "name": "stderr",
     "output_type": "stream",
     "text": [
      "\n",
      "Training: 100%|██████████| 346/346 [00:04<00:00, 72.68it/s, Loss=0.1850719451904297, Elapsed=4.9883s, ETA=0.0000s]  \n",
      "Validating: 100%|██████████| 75/75 [00:01<00:00, 64.06it/s, Loss=4.1088762283325195, Elapsed=1.3886s, ETA=0.0000s]"
     ]
    },
    {
     "name": "stdout",
     "output_type": "stream",
     "text": [
      "Epoch 76 completed in 6.5125s\n",
      "Train Loss: 0.07945481167750897 - Train Accuracy: 96.41799145202505\n",
      "Validation Loss: 2.621776229540507 - Validation Accuracy: 64.43647108484592\n",
      "\n",
      "Epoch 77/100\n"
     ]
    },
    {
     "name": "stderr",
     "output_type": "stream",
     "text": [
      "\n",
      "Training: 100%|██████████| 346/346 [00:04<00:00, 69.89it/s, Loss=0.08153139799833298, Elapsed=5.1789s, ETA=0.0000s] \n",
      "Validating: 100%|██████████| 75/75 [00:01<00:00, 63.89it/s, Loss=5.82493257522583, Elapsed=1.3575s, ETA=0.0000s]  "
     ]
    },
    {
     "name": "stdout",
     "output_type": "stream",
     "text": [
      "Epoch 77 completed in 6.6698s\n",
      "Train Loss: 0.07728323705677438 - Train Accuracy: 96.6984012120938\n",
      "Validation Loss: 2.6787526575724283 - Validation Accuracy: 64.54200084423807\n",
      "\n",
      "Epoch 78/100\n"
     ]
    },
    {
     "name": "stderr",
     "output_type": "stream",
     "text": [
      "\n",
      "Training: 100%|██████████| 346/346 [00:04<00:00, 74.55it/s, Loss=0.1073029562830925, Elapsed=4.8460s, ETA=0.0000s]  \n",
      "Validating: 100%|██████████| 75/75 [00:01<00:00, 65.92it/s, Loss=6.504146575927734, Elapsed=1.3234s, ETA=0.0000s] "
     ]
    },
    {
     "name": "stdout",
     "output_type": "stream",
     "text": [
      "Epoch 78 completed in 6.3075s\n",
      "Train Loss: 0.07442065496859006 - Train Accuracy: 96.54688948689537\n",
      "Validation Loss: 2.651415901184082 - Validation Accuracy: 64.9852258336851\n",
      "\n",
      "Epoch 79/100\n"
     ]
    },
    {
     "name": "stderr",
     "output_type": "stream",
     "text": [
      "\n",
      "Training: 100%|██████████| 346/346 [00:04<00:00, 70.08it/s, Loss=0.17581309378147125, Elapsed=5.1257s, ETA=0.0000s] \n",
      "Validating: 100%|██████████| 75/75 [00:01<00:00, 67.40it/s, Loss=5.58221435546875, Elapsed=1.3329s, ETA=0.0000s]  "
     ]
    },
    {
     "name": "stdout",
     "output_type": "stream",
     "text": [
      "Epoch 79 completed in 6.5976s\n",
      "Train Loss: 0.08973299227708767 - Train Accuracy: 96.01772913321724\n",
      "Validation Loss: 2.6758697684605917 - Validation Accuracy: 64.09877585479104\n",
      "\n",
      "Epoch 80/100\n"
     ]
    },
    {
     "name": "stderr",
     "output_type": "stream",
     "text": [
      "\n",
      "Training: 100%|██████████| 346/346 [00:04<00:00, 71.97it/s, Loss=0.14477451145648956, Elapsed=5.0237s, ETA=0.0000s] \n",
      "Validating: 100%|██████████| 75/75 [00:01<00:00, 64.81it/s, Loss=5.13857889175415, Elapsed=1.3683s, ETA=0.0000s]  "
     ]
    },
    {
     "name": "stdout",
     "output_type": "stream",
     "text": [
      "Epoch 80 completed in 6.5318s\n",
      "Train Loss: 0.07157266538353324 - Train Accuracy: 96.78433323534068\n",
      "Validation Loss: 2.668833715120951 - Validation Accuracy: 64.25707049387927\n",
      "\n",
      "Epoch 81/100\n"
     ]
    },
    {
     "name": "stderr",
     "output_type": "stream",
     "text": [
      "\n",
      "Training: 100%|██████████| 346/346 [00:04<00:00, 71.86it/s, Loss=0.05324432626366615, Elapsed=5.0241s, ETA=0.0000s] \n",
      "Validating: 100%|██████████| 75/75 [00:01<00:00, 63.93it/s, Loss=5.883780002593994, Elapsed=1.3886s, ETA=0.0000s] "
     ]
    },
    {
     "name": "stdout",
     "output_type": "stream",
     "text": [
      "Epoch 81 completed in 6.5671s\n",
      "Train Loss: 0.08115208343834202 - Train Accuracy: 96.41346871395943\n",
      "Validation Loss: 2.640466556549072 - Validation Accuracy: 64.95356690586746\n",
      "\n",
      "Epoch 82/100\n"
     ]
    },
    {
     "name": "stderr",
     "output_type": "stream",
     "text": [
      "\n",
      "Training: 100%|██████████| 346/346 [00:05<00:00, 65.00it/s, Loss=0.015638001263141632, Elapsed=5.5360s, ETA=0.0000s]\n",
      "Validating: 100%|██████████| 75/75 [00:01<00:00, 59.62it/s, Loss=1.9245951175689697, Elapsed=1.4747s, ETA=0.0000s]"
     ]
    },
    {
     "name": "stdout",
     "output_type": "stream",
     "text": [
      "Epoch 82 completed in 7.1549s\n",
      "Train Loss: 0.07464544467407284 - Train Accuracy: 96.61020781981412\n",
      "Validation Loss: 2.5779680585861207 - Validation Accuracy: 63.5605740818911\n",
      "\n",
      "Epoch 83/100\n"
     ]
    },
    {
     "name": "stderr",
     "output_type": "stream",
     "text": [
      "\n",
      "Training: 100%|██████████| 346/346 [00:05<00:00, 68.98it/s, Loss=0.06649212539196014, Elapsed=5.2403s, ETA=0.0000s] \n",
      "Validating: 100%|██████████| 75/75 [00:01<00:00, 63.11it/s, Loss=7.006074905395508, Elapsed=1.4002s, ETA=0.0000s] "
     ]
    },
    {
     "name": "stdout",
     "output_type": "stream",
     "text": [
      "Epoch 83 completed in 6.7791s\n",
      "Train Loss: 0.07749920464093889 - Train Accuracy: 96.68483299789693\n",
      "Validation Loss: 2.555211429595947 - Validation Accuracy: 64.32038834951457\n",
      "\n",
      "Epoch 84/100\n"
     ]
    },
    {
     "name": "stderr",
     "output_type": "stream",
     "text": [
      "\n",
      "Training: 100%|██████████| 346/346 [00:04<00:00, 72.56it/s, Loss=0.07098248600959778, Elapsed=4.9792s, ETA=0.0000s] \n",
      "Validating: 100%|██████████| 75/75 [00:01<00:00, 66.00it/s, Loss=4.359521865844727, Elapsed=1.3441s, ETA=0.0000s] "
     ]
    },
    {
     "name": "stdout",
     "output_type": "stream",
     "text": [
      "Epoch 84 completed in 6.4652s\n",
      "Train Loss: 0.06575816260876856 - Train Accuracy: 96.98107234119536\n",
      "Validation Loss: 2.6426789553960166 - Validation Accuracy: 64.53144786829887\n",
      "\n",
      "Epoch 85/100\n"
     ]
    },
    {
     "name": "stderr",
     "output_type": "stream",
     "text": [
      "\n",
      "Training: 100%|██████████| 346/346 [00:04<00:00, 69.83it/s, Loss=0.16193243861198425, Elapsed=5.1522s, ETA=0.0000s] \n",
      "Validating: 100%|██████████| 75/75 [00:01<00:00, 72.13it/s, Loss=4.782281875610352, Elapsed=1.2630s, ETA=0.0000s] "
     ]
    },
    {
     "name": "stdout",
     "output_type": "stream",
     "text": [
      "Epoch 85 completed in 6.5658s\n",
      "Train Loss: 0.06963192134008156 - Train Accuracy: 96.90418579407974\n",
      "Validation Loss: 2.665579702059428 - Validation Accuracy: 64.58421274799493\n",
      "\n",
      "Epoch 86/100\n"
     ]
    },
    {
     "name": "stderr",
     "output_type": "stream",
     "text": [
      "\n",
      "Training: 100%|██████████| 346/346 [00:04<00:00, 70.88it/s, Loss=0.022229136899113655, Elapsed=5.0834s, ETA=0.0000s]\n",
      "Validating: 100%|██████████| 75/75 [00:01<00:00, 58.16it/s, Loss=4.443411827087402, Elapsed=1.4738s, ETA=0.0000s] "
     ]
    },
    {
     "name": "stdout",
     "output_type": "stream",
     "text": [
      "Epoch 86 completed in 6.7094s\n",
      "Train Loss: 0.06504689056474737 - Train Accuracy: 96.89514031794847\n",
      "Validation Loss: 2.686173437436422 - Validation Accuracy: 64.87969607429295\n",
      "\n",
      "Epoch 87/100\n"
     ]
    },
    {
     "name": "stderr",
     "output_type": "stream",
     "text": [
      "\n",
      "Training: 100%|██████████| 346/346 [00:04<00:00, 72.81it/s, Loss=0.03628548979759216, Elapsed=4.9198s, ETA=0.0000s] \n",
      "Validating: 100%|██████████| 75/75 [00:01<00:00, 71.13it/s, Loss=8.083123207092285, Elapsed=1.2676s, ETA=0.0000s] "
     ]
    },
    {
     "name": "stdout",
     "output_type": "stream",
     "text": [
      "Epoch 87 completed in 6.3389s\n",
      "Train Loss: 0.06459604060503445 - Train Accuracy: 97.05795888831098\n",
      "Validation Loss: 2.6487473996480304 - Validation Accuracy: 63.96158716758126\n",
      "\n",
      "Epoch 88/100\n"
     ]
    },
    {
     "name": "stderr",
     "output_type": "stream",
     "text": [
      "\n",
      "Training: 100%|██████████| 346/346 [00:05<00:00, 65.84it/s, Loss=0.21097052097320557, Elapsed=5.3846s, ETA=0.0000s] \n",
      "Validating: 100%|██████████| 75/75 [00:01<00:00, 67.23it/s, Loss=7.550106048583984, Elapsed=1.3228s, ETA=0.0000s] "
     ]
    },
    {
     "name": "stdout",
     "output_type": "stream",
     "text": [
      "Epoch 88 completed in 6.9172s\n",
      "Train Loss: 0.06926095320687042 - Train Accuracy: 96.94262906763754\n",
      "Validation Loss: 2.729250604311625 - Validation Accuracy: 63.98269311945969\n",
      "\n",
      "Epoch 89/100\n"
     ]
    },
    {
     "name": "stderr",
     "output_type": "stream",
     "text": [
      "\n",
      "Training: 100%|██████████| 346/346 [00:05<00:00, 67.88it/s, Loss=0.12282821536064148, Elapsed=5.2355s, ETA=0.0000s] \n",
      "Validating: 100%|██████████| 75/75 [00:01<00:00, 62.95it/s, Loss=11.23299789428711, Elapsed=1.4002s, ETA=0.0000s] "
     ]
    },
    {
     "name": "stdout",
     "output_type": "stream",
     "text": [
      "Epoch 89 completed in 6.8119s\n",
      "Train Loss: 0.07135717178199634 - Train Accuracy: 96.96298138893286\n",
      "Validation Loss: 2.608603638013204 - Validation Accuracy: 64.61587167581257\n",
      "\n",
      "Epoch 90/100\n"
     ]
    },
    {
     "name": "stderr",
     "output_type": "stream",
     "text": [
      "\n",
      "Training: 100%|██████████| 346/346 [00:05<00:00, 66.87it/s, Loss=0.15498024225234985, Elapsed=5.3600s, ETA=0.0000s] \n",
      "Validating: 100%|██████████| 75/75 [00:01<00:00, 67.37it/s, Loss=7.5831074714660645, Elapsed=1.3201s, ETA=0.0000s]"
     ]
    },
    {
     "name": "stdout",
     "output_type": "stream",
     "text": [
      "Epoch 90 completed in 6.8416s\n",
      "Train Loss: 0.06637410028175467 - Train Accuracy: 97.11449311413129\n",
      "Validation Loss: 2.665696913401286 - Validation Accuracy: 64.22541156606162\n",
      "\n",
      "Epoch 91/100\n"
     ]
    },
    {
     "name": "stderr",
     "output_type": "stream",
     "text": [
      "\n",
      "Training: 100%|██████████| 346/346 [00:05<00:00, 68.37it/s, Loss=0.27798572182655334, Elapsed=5.2429s, ETA=0.0000s] \n",
      "Validating: 100%|██████████| 75/75 [00:01<00:00, 58.19it/s, Loss=8.81668758392334, Elapsed=1.4768s, ETA=0.0000s]  "
     ]
    },
    {
     "name": "stdout",
     "output_type": "stream",
     "text": [
      "Epoch 91 completed in 6.8657s\n",
      "Train Loss: 0.0714085892090477 - Train Accuracy: 96.86574252052192\n",
      "Validation Loss: 2.7219506390889485 - Validation Accuracy: 64.83748417053609\n",
      "\n",
      "Epoch 92/100\n"
     ]
    },
    {
     "name": "stderr",
     "output_type": "stream",
     "text": [
      "\n",
      "Training: 100%|██████████| 346/346 [00:05<00:00, 62.86it/s, Loss=0.04711838811635971, Elapsed=5.7093s, ETA=0.0000s] \n",
      "Validating: 100%|██████████| 75/75 [00:01<00:00, 70.01it/s, Loss=10.371847152709961, Elapsed=1.2720s, ETA=0.0000s]"
     ]
    },
    {
     "name": "stdout",
     "output_type": "stream",
     "text": [
      "Epoch 92 completed in 7.1313s\n",
      "Train Loss: 0.0684977384025737 - Train Accuracy: 96.94715180570317\n",
      "Validation Loss: 2.641517712275187 - Validation Accuracy: 63.81384550443225\n",
      "\n",
      "Epoch 93/100\n"
     ]
    },
    {
     "name": "stderr",
     "output_type": "stream",
     "text": [
      "\n",
      "Training: 100%|██████████| 346/346 [00:05<00:00, 66.83it/s, Loss=0.07758032530546188, Elapsed=5.3642s, ETA=0.0000s] \n",
      "Validating: 100%|██████████| 75/75 [00:01<00:00, 63.61it/s, Loss=6.498278617858887, Elapsed=1.3889s, ETA=0.0000s] "
     ]
    },
    {
     "name": "stdout",
     "output_type": "stream",
     "text": [
      "Epoch 93 completed in 6.9026s\n",
      "Train Loss: 0.062041945787781924 - Train Accuracy: 97.25243662513286\n",
      "Validation Loss: 2.9070668538411457 - Validation Accuracy: 64.40481215702827\n",
      "\n",
      "Epoch 94/100\n"
     ]
    },
    {
     "name": "stderr",
     "output_type": "stream",
     "text": [
      "\n",
      "Training: 100%|██████████| 346/346 [00:05<00:00, 64.78it/s, Loss=0.13668346405029297, Elapsed=5.5256s, ETA=0.0000s] \n",
      "Validating: 100%|██████████| 75/75 [00:01<00:00, 69.85it/s, Loss=4.537567138671875, Elapsed=1.2690s, ETA=0.0000s] "
     ]
    },
    {
     "name": "stdout",
     "output_type": "stream",
     "text": [
      "Epoch 94 completed in 6.9608s\n",
      "Train Loss: 0.06811327236634544 - Train Accuracy: 97.02403835281879\n",
      "Validation Loss: 2.8693343512217204 - Validation Accuracy: 64.27817644575771\n",
      "\n",
      "Epoch 95/100\n"
     ]
    },
    {
     "name": "stderr",
     "output_type": "stream",
     "text": [
      "\n",
      "Training: 100%|██████████| 346/346 [00:05<00:00, 64.01it/s, Loss=0.05841124430298805, Elapsed=5.5614s, ETA=0.0000s] \n",
      "Validating: 100%|██████████| 75/75 [00:01<00:00, 63.16it/s, Loss=4.417304039001465, Elapsed=1.4086s, ETA=0.0000s] "
     ]
    },
    {
     "name": "stdout",
     "output_type": "stream",
     "text": [
      "Epoch 95 completed in 7.1350s\n",
      "Train Loss: 0.05693886979924504 - Train Accuracy: 97.41977793356098\n",
      "Validation Loss: 2.945802238782247 - Validation Accuracy: 64.36260025327142\n",
      "\n",
      "Epoch 96/100\n"
     ]
    },
    {
     "name": "stderr",
     "output_type": "stream",
     "text": [
      "\n",
      "Training: 100%|██████████| 346/346 [00:05<00:00, 68.69it/s, Loss=0.14426292479038239, Elapsed=5.2508s, ETA=0.0000s] \n",
      "Validating: 100%|██████████| 75/75 [00:01<00:00, 66.19it/s, Loss=6.323261260986328, Elapsed=1.3604s, ETA=0.0000s] "
     ]
    },
    {
     "name": "stdout",
     "output_type": "stream",
     "text": [
      "Epoch 96 completed in 6.7600s\n",
      "Train Loss: 0.05600346892404591 - Train Accuracy: 97.37455055290472\n",
      "Validation Loss: 2.905593695640564 - Validation Accuracy: 64.94301392992824\n",
      "\n",
      "Epoch 97/100\n"
     ]
    },
    {
     "name": "stderr",
     "output_type": "stream",
     "text": [
      "\n",
      "Training: 100%|██████████| 346/346 [00:05<00:00, 64.87it/s, Loss=0.08436450362205505, Elapsed=5.5479s, ETA=0.0000s] \n",
      "Validating: 100%|██████████| 75/75 [00:01<00:00, 69.31it/s, Loss=5.748837947845459, Elapsed=1.2966s, ETA=0.0000s] "
     ]
    },
    {
     "name": "stdout",
     "output_type": "stream",
     "text": [
      "Epoch 97 completed in 6.9979s\n",
      "Train Loss: 0.061384383663050615 - Train Accuracy: 97.22530019673911\n",
      "Validation Loss: 2.9204746802647907 - Validation Accuracy: 64.90080202617138\n",
      "\n",
      "Epoch 98/100\n"
     ]
    },
    {
     "name": "stderr",
     "output_type": "stream",
     "text": [
      "\n",
      "Training: 100%|██████████| 346/346 [00:05<00:00, 63.32it/s, Loss=0.3369685709476471, Elapsed=5.6611s, ETA=0.0000s]  \n",
      "Validating: 100%|██████████| 75/75 [00:01<00:00, 71.06it/s, Loss=7.444106578826904, Elapsed=1.2660s, ETA=0.0000s] "
     ]
    },
    {
     "name": "stdout",
     "output_type": "stream",
     "text": [
      "Epoch 98 completed in 7.0751s\n",
      "Train Loss: 0.07407757883078575 - Train Accuracy: 96.86348115148911\n",
      "Validation Loss: 2.827933429082235 - Validation Accuracy: 65.12241452089489\n",
      "\n",
      "Epoch 99/100\n"
     ]
    },
    {
     "name": "stderr",
     "output_type": "stream",
     "text": [
      "\n",
      "Training: 100%|██████████| 346/346 [00:05<00:00, 66.66it/s, Loss=0.13945062458515167, Elapsed=5.3781s, ETA=0.0000s] \n",
      "Validating: 100%|██████████| 75/75 [00:01<00:00, 68.16it/s, Loss=2.9259462356567383, Elapsed=1.3004s, ETA=0.0000s]"
     ]
    },
    {
     "name": "stdout",
     "output_type": "stream",
     "text": [
      "Epoch 99 completed in 6.8344s\n",
      "Train Loss: 0.06678626339914913 - Train Accuracy: 97.05343615024535\n",
      "Validation Loss: 2.7283115084966023 - Validation Accuracy: 64.11988180666948\n",
      "\n",
      "Epoch 100/100\n"
     ]
    },
    {
     "name": "stderr",
     "output_type": "stream",
     "text": [
      "\n",
      "Training: 100%|██████████| 346/346 [00:05<00:00, 65.77it/s, Loss=0.05453110858798027, Elapsed=5.4598s, ETA=0.0000s] \n",
      "Validating: 100%|██████████| 75/75 [00:01<00:00, 65.16it/s, Loss=3.746809720993042, Elapsed=1.3552s, ETA=0.0000s] \n"
     ]
    },
    {
     "name": "stdout",
     "output_type": "stream",
     "text": [
      "Epoch 100 completed in 6.9696s\n",
      "Train Loss: 0.06869648369109915 - Train Accuracy: 96.96072001990005\n",
      "Validation Loss: 2.8279938220977785 - Validation Accuracy: 65.00633178556353\n",
      "\n"
     ]
    },
    {
     "data": {
      "image/png": "[encoded data removed]",
      "text/plain": [
       "<Figure size 640x480 with 1 Axes>"
      ]
     },
     "metadata": {},
     "output_type": "display_data"
    },
    {
     "data": {
      "image/png": "[encoded data removed]",
      "text/plain": [
       "<Figure size 640x480 with 1 Axes>"
      ]
     },
     "metadata": {},
     "output_type": "display_data"
    }
   ],
   "source": [
    "trainset = MFCCDataset(\n",
    "    csv_file=train_csv, root_dir=root_dir, transform=transform)\n",
    "valset = MFCCDataset(\n",
    "    csv_file=val_csv, root_dir=root_dir, transform=transform)\n",
    "testset = MFCCDataset(\n",
    "    csv_file=test_csv, root_dir=root_dir, transform=transform)\n",
    "\n",
    "trainloader = DataLoader(trainset, batch_size=128,\n",
    "                         shuffle=True, num_workers=8, pin_memory=True)\n",
    "valloader = DataLoader(valset, batch_size=128,\n",
    "                       shuffle=False, num_workers=8, pin_memory=True)\n",
    "testloader = DataLoader(testset, batch_size=128,\n",
    "                        shuffle=False, num_workers=8, pin_memory=True)\n",
    "\n",
    "# Label mappings\n",
    "labelmap = trainset.label_map\n",
    "print(f\"Mapping from Emotion to Number: {labelmap}\")\n",
    "\n",
    "print(f\"Model is on: {next(model.parameters()).device}\")\n",
    "model, train_losses, train_accuracies, val_losses, val_accuracies = train_epochs(\n",
    "    model, trainloader, valloader, criterion, optimizer, device, epochs)\n",
    "torch.save(model.state_dict(), f'{MODEL}_variables_{epochs}.pt')\n",
    "\n",
    "# Plots\n",
    "plot_loss(train_losses, val_losses)\n",
    "plot_accuracy(train_accuracies, val_accuracies)"
   ]
  },
  {
   "cell_type": "markdown",
   "metadata": {},
   "source": [
    "Define the function to plot the confusion matrix\n"
   ]
  },
  {
   "cell_type": "code",
   "execution_count": 16,
   "metadata": {},
   "outputs": [],
   "source": [
    "import seaborn as sns\n",
    "from sklearn.metrics import confusion_matrix\n",
    "\n",
    "\n",
    "def plot_confusion_matrix(y_true, y_pred):\n",
    "    # Compute confusion matrix\n",
    "    cm = confusion_matrix(y_true, y_pred)\n",
    "\n",
    "    # Create figure and axes\n",
    "    plt.figure(figsize=(10, 8))\n",
    "\n",
    "    # Create heatmap\n",
    "    sns.heatmap(cm,\n",
    "                annot=True,  # Show numbers in cells\n",
    "                fmt='d',     # Use integer formatting\n",
    "                cmap='Blues',  # Color scheme\n",
    "                xticklabels=trainset.label_map.keys(),\n",
    "                yticklabels=trainset.label_map.keys())\n",
    "\n",
    "    # Set labels and title\n",
    "    plt.ylabel('True Label')\n",
    "    plt.xlabel('Predicted Label')\n",
    "    plt.title('Confusion Matrix')\n",
    "\n",
    "    # Rotate axis labels for better readability\n",
    "    plt.xticks(rotation=45)\n",
    "    plt.yticks(rotation=45)\n",
    "\n",
    "    plt.tight_layout()\n",
    "    plt.show()"
   ]
  },
  {
   "cell_type": "markdown",
   "metadata": {},
   "source": [
    "Define the function to evaluate best model on test set\n"
   ]
  },
  {
   "cell_type": "code",
   "execution_count": 17,
   "metadata": {},
   "outputs": [],
   "source": [
    "def get_predictions(model, testloader, device, model_path):\n",
    "    # Load the best model weights\n",
    "    model.load_state_dict(torch.load(model_path))\n",
    "    model.eval()\n",
    "\n",
    "    all_preds = []\n",
    "    all_labels = []\n",
    "    print(\"Evaluating best model on test set...\")\n",
    "\n",
    "    with torch.no_grad():\n",
    "        for inputs, labels in tqdm(testloader, desc='Testing'):\n",
    "            inputs, labels = inputs.to(device), labels.to(device)\n",
    "            outputs = model(inputs)\n",
    "            _, predicted = torch.max(outputs, 1)\n",
    "\n",
    "            # Store predictions for confusion matrix\n",
    "            all_preds.extend(predicted.cpu().numpy())\n",
    "            all_labels.extend(labels.cpu().numpy())\n",
    "\n",
    "    return all_preds, all_labels"
   ]
  },
  {
   "cell_type": "markdown",
   "metadata": {},
   "source": [
    "Define the function to print out the evaluation metrics\n"
   ]
  },
  {
   "cell_type": "code",
   "execution_count": 18,
   "metadata": {},
   "outputs": [],
   "source": [
    "from sklearn.metrics import accuracy_score, precision_recall_fscore_support, classification_report\n",
    "\n",
    "\n",
    "def get_evaluation_metrics(true_labels, pred_labels, label_map):\n",
    "    # Compute metrics\n",
    "    accuracy = accuracy_score(true_labels, pred_labels)\n",
    "    precision, recall, f1, _ = precision_recall_fscore_support(\n",
    "        true_labels, pred_labels, average='weighted')\n",
    "\n",
    "    print(f\"Test Accuracy: {accuracy:.4f}\")\n",
    "    print(f\"Test Precision: {precision:.4f}\")\n",
    "    print(f\"Test Recall: {recall:.4f}\")\n",
    "    print(f\"Test F1-score: {f1:.4f}\\n\")\n",
    "\n",
    "    # Print detailed classification report\n",
    "    print(classification_report(true_labels, pred_labels,\n",
    "          target_names=list(label_map.keys())))"
   ]
  },
  {
   "cell_type": "markdown",
   "metadata": {},
   "source": [
    "Evaluate the best model on the test set\n"
   ]
  },
  {
   "cell_type": "code",
   "execution_count": 19,
   "metadata": {},
   "outputs": [
    {
     "name": "stdout",
     "output_type": "stream",
     "text": [
      "Evaluating best model on test set...\n"
     ]
    },
    {
     "name": "stderr",
     "output_type": "stream",
     "text": [
      "Testing: 100%|██████████| 75/75 [00:02<00:00, 34.85it/s]\n"
     ]
    },
    {
     "name": "stdout",
     "output_type": "stream",
     "text": [
      "Test Accuracy: 0.6361\n",
      "Test Precision: 0.6404\n",
      "Test Recall: 0.6361\n",
      "Test F1-score: 0.6358\n",
      "\n",
      "              precision    recall  f1-score   support\n",
      "\n",
      "       Anger       0.61      0.71      0.65       916\n",
      "       Bored       0.68      0.77      0.72      1098\n",
      "     Disgust       0.43      0.58      0.50       291\n",
      "        Fear       0.46      0.50      0.48       308\n",
      "       Happy       0.63      0.52      0.57      1914\n",
      "     Neutral       0.59      0.62      0.60      2226\n",
      "    Question       0.75      0.73      0.74      1139\n",
      "         Sad       0.69      0.65      0.67       857\n",
      "    Surprise       0.73      0.63      0.67       728\n",
      "\n",
      "    accuracy                           0.64      9477\n",
      "   macro avg       0.62      0.63      0.62      9477\n",
      "weighted avg       0.64      0.64      0.64      9477\n",
      "\n"
     ]
    },
    {
     "data": {
      "image/png": "[encoded data removed]",
      "text/plain": [
       "<Figure size 1000x800 with 2 Axes>"
      ]
     },
     "metadata": {},
     "output_type": "display_data"
    }
   ],
   "source": [
    "# Load and get predictions from the bets model\n",
    "best_model_path = f'best_{MODEL}.pt'\n",
    "all_preds, all_labels = get_predictions(\n",
    "    model=model,\n",
    "    testloader=testloader,\n",
    "    device=device,\n",
    "    model_path=best_model_path\n",
    ")\n",
    "\n",
    "# Print detailed evaluation metrics\n",
    "get_evaluation_metrics(all_labels, all_preds, labelmap)\n",
    "\n",
    "# Plot confusion matrix\n",
    "plot_confusion_matrix(all_labels, all_preds)"
   ]
  },
  {
   "cell_type": "code",
   "execution_count": null,
   "metadata": {},
   "outputs": [],
   "source": []
  }
 ],
 "metadata": {
  "kernelspec": {
   "display_name": "Python 3 (ipykernel)",
   "language": "python",
   "name": "python3"
  },
  "language_info": {
   "codemirror_mode": {
    "name": "ipython",
    "version": 3
   },
   "file_extension": ".py",
   "mimetype": "text/x-python",
   "name": "python",
   "nbconvert_exporter": "python",
   "pygments_lexer": "ipython3",
   "version": "3.11.6"
  }
 },
 "nbformat": 4,
 "nbformat_minor": 4
}
