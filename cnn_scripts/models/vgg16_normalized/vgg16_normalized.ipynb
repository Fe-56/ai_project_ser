{
 "cells": [
  {
   "cell_type": "markdown",
   "metadata": {},
   "source": [
    "# Finetune VGG16 - IF CONTINUING, NEED TO CHANGE TO THE VERSION WITH CLASSIFICATION REPORT\n"
   ]
  },
  {
   "cell_type": "markdown",
   "metadata": {},
   "source": [
    "With 1000 x 400 melspectrogram images without data augmentation\n"
   ]
  },
  {
   "cell_type": "code",
   "execution_count": 1,
   "metadata": {},
   "outputs": [],
   "source": [
    "import sys\n",
    "import os\n",
    "import torch\n",
    "import torch.nn as nn\n",
    "import torch.optim as optim\n",
    "from torch.utils.data import DataLoader\n",
    "import torchvision.transforms as transforms\n",
    "import torchvision.models as models\n",
    "import numpy as np\n",
    "import matplotlib.pyplot as plt\n",
    "import random\n",
    "from tqdm import tqdm\n",
    "import time"
   ]
  },
  {
   "cell_type": "code",
   "execution_count": 2,
   "metadata": {},
   "outputs": [],
   "source": [
    "# Get the absolute path to the project root without relying on __file__\n",
    "notebook_path = os.getcwd()  # Gets current working directory\n",
    "project_root = os.path.abspath(os.path.join(notebook_path, \"../..\"))\n",
    "sys.path.insert(0, project_root)"
   ]
  },
  {
   "cell_type": "code",
   "execution_count": 3,
   "metadata": {},
   "outputs": [
    {
     "name": "stdout",
     "output_type": "stream",
     "text": [
      "2.5.1+cu121\n",
      "True\n"
     ]
    }
   ],
   "source": [
    "print(torch.__version__)\n",
    "print(torch.cuda.is_available())"
   ]
  },
  {
   "cell_type": "markdown",
   "metadata": {},
   "source": [
    "Set the seed for reproducability\n"
   ]
  },
  {
   "cell_type": "code",
   "execution_count": 4,
   "metadata": {},
   "outputs": [],
   "source": [
    "random_seed = 42\n",
    "\n",
    "torch.manual_seed(random_seed)\n",
    "np.random.seed(random_seed)\n",
    "random.seed(random_seed)\n",
    "\n",
    "if (torch.cuda.is_available()):\n",
    "    torch.cuda.manual_seed(random_seed)"
   ]
  },
  {
   "cell_type": "markdown",
   "metadata": {},
   "source": [
    "Set some constant strings\n"
   ]
  },
  {
   "cell_type": "code",
   "execution_count": 5,
   "metadata": {},
   "outputs": [],
   "source": [
    "FINETUNED_MODEL = 'vgg16_normalized'\n",
    "\n",
    "train_csv = '../../../data/melspectrogram_train_dataset.csv'\n",
    "test_csv = '../../../data/melspectrogram_test_dataset.csv'\n",
    "val_csv = '../../../data/melspectrogram_val_dataset.csv'\n",
    "root_dir = '../../../data/'\n",
    "class_weights_path = '../../../data/class_weights.pt'"
   ]
  },
  {
   "cell_type": "markdown",
   "metadata": {},
   "source": [
    "Custom dataset class for loading the mel spectrogram images\n"
   ]
  },
  {
   "cell_type": "code",
   "execution_count": 6,
   "metadata": {},
   "outputs": [],
   "source": [
    "from datasets.MelspectrogramDataset import MelSpectrogramDataset"
   ]
  },
  {
   "cell_type": "markdown",
   "metadata": {},
   "source": [
    "Define the training function\n"
   ]
  },
  {
   "cell_type": "code",
   "execution_count": 7,
   "metadata": {},
   "outputs": [],
   "source": [
    "def train(model, trainloader, criterion, optimizer, device):\n",
    "    train_loss = 0.0\n",
    "    train_total = 0\n",
    "    train_correct = 0\n",
    "\n",
    "    # train mode\n",
    "    model.train()\n",
    "\n",
    "    epoch_start = time.time()\n",
    "    pbar = tqdm(enumerate(trainloader), total=len(\n",
    "        trainloader), desc=\"Training\")\n",
    "\n",
    "    for i, (inputs, labels) in pbar:\n",
    "        inputs, labels = inputs.to(device), labels.to(device)\n",
    "\n",
    "        # Zero the parameter gradients\n",
    "        optimizer.zero_grad()\n",
    "\n",
    "        # Forward pass\n",
    "        outputs = model(inputs)\n",
    "        loss = criterion(outputs, labels)\n",
    "\n",
    "        # Backward pass and optimize\n",
    "        loss.backward()\n",
    "        optimizer.step()\n",
    "\n",
    "        # Update training loss\n",
    "        train_loss += loss.item()\n",
    "\n",
    "        # Calculate accuracy\n",
    "        _, predicted = torch.max(outputs, 1)\n",
    "        train_total += labels.size(0)\n",
    "        train_correct += (predicted == labels).sum().item()\n",
    "\n",
    "        # Calculate time metrics\n",
    "        elapsed = time.time() - epoch_start\n",
    "        progress = (i + 1) / len(trainloader)\n",
    "        eta = elapsed / progress - elapsed\n",
    "\n",
    "        # Update progress bar with current loss and ETA\n",
    "        pbar.set_postfix({\n",
    "            \"Loss\": f\"{loss.item()}\",\n",
    "            \"Elapsed\": f\"{elapsed:.4f}s\",\n",
    "            \"ETA\": f\"{eta:.4f}s\"\n",
    "        })\n",
    "\n",
    "    train_loss = train_loss / len(trainloader)\n",
    "    train_accuracy = train_correct / train_total * 100\n",
    "\n",
    "    return model, train_loss, train_accuracy"
   ]
  },
  {
   "cell_type": "markdown",
   "metadata": {},
   "source": [
    "Define the validation function\n"
   ]
  },
  {
   "cell_type": "code",
   "execution_count": 8,
   "metadata": {},
   "outputs": [],
   "source": [
    "def validate(model, valloader, criterion, device):\n",
    "    val_loss = 0.0\n",
    "    val_total = 0\n",
    "    val_correct = 0\n",
    "\n",
    "    # Switch to evaluation mode\n",
    "    model.eval()\n",
    "\n",
    "    epoch_start = time.time()\n",
    "    pbar = tqdm(enumerate(valloader), total=len(\n",
    "        valloader), desc=\"Validating\")\n",
    "\n",
    "    with torch.no_grad():\n",
    "        for i, (inputs, labels) in pbar:\n",
    "            inputs, labels = inputs.to(device), labels.to(device)\n",
    "\n",
    "            # Forward pass\n",
    "            outputs = model(inputs)\n",
    "            loss = criterion(outputs, labels)\n",
    "\n",
    "            # Update test loss\n",
    "            val_loss += loss.item()\n",
    "\n",
    "            # Calculate accuracy\n",
    "            _, predicted = torch.max(outputs, 1)\n",
    "            val_total += labels.size(0)\n",
    "            val_correct += (predicted == labels).sum().item()\n",
    "\n",
    "            # Calculate time metrics\n",
    "            elapsed = time.time() - epoch_start\n",
    "            progress = (i + 1) / len(valloader)\n",
    "            eta = elapsed / progress - elapsed\n",
    "\n",
    "            # Update progress bar with current loss and ETA\n",
    "            pbar.set_postfix({\n",
    "                \"Loss\": f\"{loss.item()}\",\n",
    "                \"Elapsed\": f\"{elapsed:.4f}s\",\n",
    "                \"ETA\": f\"{eta:.4f}s\"\n",
    "            })\n",
    "\n",
    "    val_loss = val_loss / len(valloader)\n",
    "    val_accuracy = val_correct / val_total * 100\n",
    "\n",
    "    return val_loss, val_accuracy"
   ]
  },
  {
   "cell_type": "markdown",
   "metadata": {},
   "source": [
    "Define what happens in each epoch\n"
   ]
  },
  {
   "cell_type": "code",
   "execution_count": 9,
   "metadata": {},
   "outputs": [],
   "source": [
    "def train_epochs(model, trainloader, valloader, criterion, optimizer, device, num_epochs):\n",
    "    train_losses = []\n",
    "    train_accuracies = []\n",
    "    val_losses = []\n",
    "    val_accuracies = []\n",
    "    best_accuracy = 0\n",
    "\n",
    "    for epoch in range(num_epochs):\n",
    "        print(f'Epoch {epoch+1}/{num_epochs}')\n",
    "        epoch_start = time.time()\n",
    "\n",
    "        model, train_loss, train_accuracy = train(\n",
    "            model, trainloader, criterion, optimizer, device)\n",
    "        val_loss, val_accuracy = validate(\n",
    "            model, valloader, criterion, device)\n",
    "\n",
    "        epoch_elapsed = time.time() - epoch_start\n",
    "        print(f\"Epoch {epoch+1} completed in {epoch_elapsed:.4f}s\")\n",
    "        print(f'Train Loss: {train_loss} - Train Accuracy: {train_accuracy}')\n",
    "        print(\n",
    "            f'Validation Loss: {val_loss} - Validation Accuracy: {val_accuracy}')\n",
    "        print()\n",
    "\n",
    "        train_losses.append(train_loss)\n",
    "        train_accuracies.append(train_accuracy)\n",
    "        val_losses.append(val_loss)\n",
    "        val_accuracies.append(val_accuracy)\n",
    "\n",
    "        # Check if current model is best performing using test_accuracy\n",
    "        if val_accuracy > best_accuracy:\n",
    "            best_accuracy = val_accuracy\n",
    "            torch.save(model.state_dict(), f'best_{FINETUNED_MODEL}.pt')\n",
    "            checkpoint = {\n",
    "                'epoch': epoch + 1,\n",
    "                'train_losses': train_losses,\n",
    "                'train_accuracies': train_accuracies,\n",
    "                'val_losses': val_losses,\n",
    "                'val_accuracies': val_accuracies,\n",
    "            }\n",
    "            torch.save(checkpoint, f'best_{FINETUNED_MODEL}_checkpoint.pt')\n",
    "\n",
    "    return model, train_losses, train_accuracies, val_losses, val_accuracies"
   ]
  },
  {
   "cell_type": "markdown",
   "metadata": {},
   "source": [
    "Plot the loss and accuracy graphs\n"
   ]
  },
  {
   "cell_type": "code",
   "execution_count": 10,
   "metadata": {},
   "outputs": [],
   "source": [
    "def plot_loss(train_losses, val_losses):\n",
    "    plt.figure()\n",
    "    plt.plot(range(len(train_losses)), train_losses, label='Training Loss')\n",
    "    plt.plot(range(len(val_losses)), val_losses, label='Validation Loss')\n",
    "    plt.xlabel('Epoch')\n",
    "    plt.ylabel('Loss')\n",
    "    plt.legend()\n",
    "    plt.show()"
   ]
  },
  {
   "cell_type": "code",
   "execution_count": 11,
   "metadata": {},
   "outputs": [],
   "source": [
    "def plot_accuracy(train_accuracies, val_accuracies):\n",
    "    plt.figure()\n",
    "    plt.plot(range(len(train_accuracies)),\n",
    "             train_accuracies, label='Training Accuracy')\n",
    "    plt.plot(range(len(val_accuracies)),\n",
    "             val_accuracies, label='Validation Accuracy')\n",
    "    plt.xlabel('Epoch')\n",
    "    plt.ylabel('Accuracy')\n",
    "    plt.legend()\n",
    "    plt.show()"
   ]
  },
  {
   "cell_type": "markdown",
   "metadata": {},
   "source": [
    "Define the model\n"
   ]
  },
  {
   "cell_type": "code",
   "execution_count": 12,
   "metadata": {},
   "outputs": [
    {
     "name": "stderr",
     "output_type": "stream",
     "text": [
      "c:\\Users\\profi\\OneDrive\\Desktop\\AI-Project--Speech-Emotion-Recognition\\myenv\\lib\\site-packages\\torchvision\\models\\_utils.py:208: UserWarning: The parameter 'pretrained' is deprecated since 0.13 and may be removed in the future, please use 'weights' instead.\n",
      "  warnings.warn(\n",
      "c:\\Users\\profi\\OneDrive\\Desktop\\AI-Project--Speech-Emotion-Recognition\\myenv\\lib\\site-packages\\torchvision\\models\\_utils.py:223: UserWarning: Arguments other than a weight enum or `None` for 'weights' are deprecated since 0.13 and may be removed in the future. The current behavior is equivalent to passing `weights=VGG16_Weights.IMAGENET1K_V1`. You can also use `weights=VGG16_Weights.DEFAULT` to get the most up-to-date weights.\n",
      "  warnings.warn(msg)\n"
     ]
    }
   ],
   "source": [
    "model = models.vgg16(pretrained=True)"
   ]
  },
  {
   "cell_type": "markdown",
   "metadata": {},
   "source": [
    "Prepare for fine-tuning\n"
   ]
  },
  {
   "cell_type": "code",
   "execution_count": 13,
   "metadata": {},
   "outputs": [
    {
     "data": {
      "text/plain": [
       "VGG(\n",
       "  (features): Sequential(\n",
       "    (0): Conv2d(3, 64, kernel_size=(3, 3), stride=(1, 1), padding=(1, 1))\n",
       "    (1): ReLU(inplace=True)\n",
       "    (2): Conv2d(64, 64, kernel_size=(3, 3), stride=(1, 1), padding=(1, 1))\n",
       "    (3): ReLU(inplace=True)\n",
       "    (4): MaxPool2d(kernel_size=2, stride=2, padding=0, dilation=1, ceil_mode=False)\n",
       "    (5): Conv2d(64, 128, kernel_size=(3, 3), stride=(1, 1), padding=(1, 1))\n",
       "    (6): ReLU(inplace=True)\n",
       "    (7): Conv2d(128, 128, kernel_size=(3, 3), stride=(1, 1), padding=(1, 1))\n",
       "    (8): ReLU(inplace=True)\n",
       "    (9): MaxPool2d(kernel_size=2, stride=2, padding=0, dilation=1, ceil_mode=False)\n",
       "    (10): Conv2d(128, 256, kernel_size=(3, 3), stride=(1, 1), padding=(1, 1))\n",
       "    (11): ReLU(inplace=True)\n",
       "    (12): Conv2d(256, 256, kernel_size=(3, 3), stride=(1, 1), padding=(1, 1))\n",
       "    (13): ReLU(inplace=True)\n",
       "    (14): Conv2d(256, 256, kernel_size=(3, 3), stride=(1, 1), padding=(1, 1))\n",
       "    (15): ReLU(inplace=True)\n",
       "    (16): MaxPool2d(kernel_size=2, stride=2, padding=0, dilation=1, ceil_mode=False)\n",
       "    (17): Conv2d(256, 512, kernel_size=(3, 3), stride=(1, 1), padding=(1, 1))\n",
       "    (18): ReLU(inplace=True)\n",
       "    (19): Conv2d(512, 512, kernel_size=(3, 3), stride=(1, 1), padding=(1, 1))\n",
       "    (20): ReLU(inplace=True)\n",
       "    (21): Conv2d(512, 512, kernel_size=(3, 3), stride=(1, 1), padding=(1, 1))\n",
       "    (22): ReLU(inplace=True)\n",
       "    (23): MaxPool2d(kernel_size=2, stride=2, padding=0, dilation=1, ceil_mode=False)\n",
       "    (24): Conv2d(512, 512, kernel_size=(3, 3), stride=(1, 1), padding=(1, 1))\n",
       "    (25): ReLU(inplace=True)\n",
       "    (26): Conv2d(512, 512, kernel_size=(3, 3), stride=(1, 1), padding=(1, 1))\n",
       "    (27): ReLU(inplace=True)\n",
       "    (28): Conv2d(512, 512, kernel_size=(3, 3), stride=(1, 1), padding=(1, 1))\n",
       "    (29): ReLU(inplace=True)\n",
       "    (30): MaxPool2d(kernel_size=2, stride=2, padding=0, dilation=1, ceil_mode=False)\n",
       "  )\n",
       "  (avgpool): AdaptiveAvgPool2d(output_size=(7, 7))\n",
       "  (classifier): Sequential(\n",
       "    (0): Linear(in_features=25088, out_features=4096, bias=True)\n",
       "    (1): ReLU(inplace=True)\n",
       "    (2): Dropout(p=0.5, inplace=False)\n",
       "    (3): Linear(in_features=4096, out_features=4096, bias=True)\n",
       "    (4): ReLU(inplace=True)\n",
       "    (5): Dropout(p=0.5, inplace=False)\n",
       "    (6): Linear(in_features=4096, out_features=9, bias=True)\n",
       "  )\n",
       ")"
      ]
     },
     "execution_count": 13,
     "metadata": {},
     "output_type": "execute_result"
    }
   ],
   "source": [
    "# Number of classes\n",
    "num_classes = 9\n",
    "\n",
    "# Freeze all layers except the last fully connected layer\n",
    "for param in model.parameters():\n",
    "    param.requires_grad = False  # Freeze all layers\n",
    "\n",
    "# Modify final fully connected layer according to number of classes\n",
    "num_features = model.classifier[-1].in_features\n",
    "model.classifier[-1] = nn.Linear(num_features, num_classes)\n",
    "# print(\"Modified model\")\n",
    "# print(model)\n",
    "\n",
    "# Unfreeze the final fully connected layer so it will be trained\n",
    "for param in model.classifier[-1].parameters():\n",
    "    param.requires_grad = True\n",
    "\n",
    "# Move model to GPU\n",
    "device = torch.device(\"cuda\" if torch.cuda.is_available() else \"cpu\")\n",
    "model.to(device)"
   ]
  },
  {
   "cell_type": "markdown",
   "metadata": {},
   "source": [
    "Get the train set stats\n"
   ]
  },
  {
   "cell_type": "code",
   "execution_count": 14,
   "metadata": {},
   "outputs": [
    {
     "name": "stdout",
     "output_type": "stream",
     "text": [
      "Mean: [0.21260474622249603, 0.07653550803661346, 0.18260346353054047]\n",
      "Std: [0.2794255018234253, 0.1220870390534401, 0.1852213442325592]\n"
     ]
    }
   ],
   "source": [
    "import json\n",
    "\n",
    "with open(\"../../../data/train_set_stats.json\", \"r\") as f:\n",
    "    stats = json.load(f)\n",
    "\n",
    "mean = stats[\"mean\"]\n",
    "std = stats[\"std\"]\n",
    "\n",
    "print(f'Mean: {mean}')\n",
    "print(f'Std: {std}')"
   ]
  },
  {
   "cell_type": "markdown",
   "metadata": {},
   "source": [
    "Define the learning rate, criterion, optimizer, transformations, and number of epochs\n"
   ]
  },
  {
   "cell_type": "code",
   "execution_count": 15,
   "metadata": {},
   "outputs": [
    {
     "name": "stderr",
     "output_type": "stream",
     "text": [
      "C:\\Users\\profi\\AppData\\Local\\Temp\\ipykernel_24976\\3561524770.py:3: FutureWarning: You are using `torch.load` with `weights_only=False` (the current default value), which uses the default pickle module implicitly. It is possible to construct malicious pickle data which will execute arbitrary code during unpickling (See https://github.com/pytorch/pytorch/blob/main/SECURITY.md#untrusted-models for more details). In a future release, the default value for `weights_only` will be flipped to `True`. This limits the functions that could be executed during unpickling. Arbitrary objects will no longer be allowed to be loaded via this mode unless they are explicitly allowlisted by the user via `torch.serialization.add_safe_globals`. We recommend you start setting `weights_only=True` for any use case where you don't have full control of the loaded file. Please open an issue on GitHub for any issues related to this experimental feature.\n",
      "  class_weights = torch.load(class_weights_path).to(device)\n"
     ]
    }
   ],
   "source": [
    "learning_rate = 0.001\n",
    "\n",
    "class_weights = torch.load(class_weights_path).to(device)\n",
    "criterion = nn.CrossEntropyLoss(weight=class_weights)\n",
    "\n",
    "optimizer = optim.Adam(model.parameters(), lr=learning_rate)\n",
    "\n",
    "# Define transformations\n",
    "transform = transforms.Compose([\n",
    "    # Resize the Mel spectrogram to 224x224, suitable for VGG16\n",
    "    transforms.Resize((224, 224)),\n",
    "    transforms.ToTensor(),          # Convert to Tensor\n",
    "    # Normalize to the train set\n",
    "    transforms.Normalize(mean=mean, std=std)\n",
    "])\n",
    "\n",
    "epochs = 25"
   ]
  },
  {
   "cell_type": "markdown",
   "metadata": {},
   "source": [
    "Execute the fine-tuning\n"
   ]
  },
  {
   "cell_type": "code",
   "execution_count": 16,
   "metadata": {},
   "outputs": [
    {
     "name": "stdout",
     "output_type": "stream",
     "text": [
      "Mapping from Emotion to Number: {'Anger': 0, 'Bored': 1, 'Disgust': 2, 'Fear': 3, 'Happy': 4, 'Neutral': 5, 'Question': 6, 'Sad': 7, 'Surprise': 8}\n",
      "Model is on: cuda:0\n",
      "Epoch 1/25\n"
     ]
    },
    {
     "name": "stderr",
     "output_type": "stream",
     "text": [
      "Training: 100%|██████████| 346/346 [01:05<00:00,  5.32it/s, Loss=1.3399779796600342, Elapsed=76.6258s, ETA=0.0000s] \n",
      "Validating: 100%|██████████| 75/75 [00:15<00:00,  4.84it/s, Loss=1.466273307800293, Elapsed=26.0020s, ETA=0.0000s]  \n"
     ]
    },
    {
     "name": "stdout",
     "output_type": "stream",
     "text": [
      "Epoch 1 completed in 103.7430s\n",
      "Train Loss: 1.4833102074661695 - Train Accuracy: 39.66215146649782\n",
      "Validation Loss: 1.2825575749079385 - Validation Accuracy: 46.042634022794424\n",
      "\n",
      "Epoch 2/25\n"
     ]
    },
    {
     "name": "stderr",
     "output_type": "stream",
     "text": [
      "Training: 100%|██████████| 346/346 [01:04<00:00,  5.34it/s, Loss=1.367709994316101, Elapsed=75.7604s, ETA=0.0000s]  \n",
      "Validating: 100%|██████████| 75/75 [00:15<00:00,  4.86it/s, Loss=1.2843294143676758, Elapsed=26.0039s, ETA=0.0000s] \n"
     ]
    },
    {
     "name": "stdout",
     "output_type": "stream",
     "text": [
      "Epoch 2 completed in 102.8513s\n",
      "Train Loss: 1.3836012348274276 - Train Accuracy: 42.730829244024335\n",
      "Validation Loss: 1.2836812512079874 - Validation Accuracy: 48.311523849725624\n",
      "\n",
      "Epoch 3/25\n"
     ]
    },
    {
     "name": "stderr",
     "output_type": "stream",
     "text": [
      "Training: 100%|██████████| 346/346 [01:04<00:00,  5.34it/s, Loss=1.397629976272583, Elapsed=75.2437s, ETA=0.0000s]  \n",
      "Validating: 100%|██████████| 75/75 [00:15<00:00,  4.91it/s, Loss=1.4461076259613037, Elapsed=25.8653s, ETA=0.0000s] \n"
     ]
    },
    {
     "name": "stdout",
     "output_type": "stream",
     "text": [
      "Epoch 3 completed in 102.1685s\n",
      "Train Loss: 1.3653779966982802 - Train Accuracy: 43.59014947649307\n",
      "Validation Loss: 1.2285360272725423 - Validation Accuracy: 49.06078514140988\n",
      "\n",
      "Epoch 4/25\n"
     ]
    },
    {
     "name": "stderr",
     "output_type": "stream",
     "text": [
      "Training: 100%|██████████| 346/346 [01:04<00:00,  5.34it/s, Loss=1.503567099571228, Elapsed=75.3379s, ETA=0.0000s]  \n",
      "Validating: 100%|██████████| 75/75 [00:15<00:00,  4.92it/s, Loss=1.2476732730865479, Elapsed=25.7988s, ETA=0.0000s] \n"
     ]
    },
    {
     "name": "stdout",
     "output_type": "stream",
     "text": [
      "Epoch 4 completed in 102.1958s\n",
      "Train Loss: 1.3683238949389815 - Train Accuracy: 43.79367268944619\n",
      "Validation Loss: 1.2127926842371624 - Validation Accuracy: 48.2271000422119\n",
      "\n",
      "Epoch 5/25\n"
     ]
    },
    {
     "name": "stderr",
     "output_type": "stream",
     "text": [
      "Training: 100%|██████████| 346/346 [01:04<00:00,  5.33it/s, Loss=1.5121934413909912, Elapsed=75.4937s, ETA=0.0000s] \n",
      "Validating: 100%|██████████| 75/75 [00:15<00:00,  4.86it/s, Loss=1.421819806098938, Elapsed=26.0092s, ETA=0.0000s]  \n"
     ]
    },
    {
     "name": "stdout",
     "output_type": "stream",
     "text": [
      "Epoch 5 completed in 102.5714s\n",
      "Train Loss: 1.357050253821246 - Train Accuracy: 43.77105899911807\n",
      "Validation Loss: 1.2321547301610312 - Validation Accuracy: 48.016040523427606\n",
      "\n",
      "Epoch 6/25\n"
     ]
    },
    {
     "name": "stderr",
     "output_type": "stream",
     "text": [
      "Training: 100%|██████████| 346/346 [01:04<00:00,  5.34it/s, Loss=1.3813297748565674, Elapsed=75.2842s, ETA=0.0000s] \n",
      "Validating: 100%|██████████| 75/75 [00:15<00:00,  4.99it/s, Loss=1.3108975887298584, Elapsed=25.5299s, ETA=0.0000s] \n"
     ]
    },
    {
     "name": "stdout",
     "output_type": "stream",
     "text": [
      "Epoch 6 completed in 101.9047s\n",
      "Train Loss: 1.35396861823308 - Train Accuracy: 44.110264354039934\n",
      "Validation Loss: 1.2094470914204916 - Validation Accuracy: 48.10046433094133\n",
      "\n",
      "Epoch 7/25\n"
     ]
    },
    {
     "name": "stderr",
     "output_type": "stream",
     "text": [
      "Training: 100%|██████████| 346/346 [01:04<00:00,  5.34it/s, Loss=1.1333013772964478, Elapsed=75.3616s, ETA=0.0000s] \n",
      "Validating: 100%|██████████| 75/75 [00:15<00:00,  4.90it/s, Loss=1.2699308395385742, Elapsed=25.9372s, ETA=0.0000s] \n"
     ]
    },
    {
     "name": "stdout",
     "output_type": "stream",
     "text": [
      "Epoch 7 completed in 102.3763s\n",
      "Train Loss: 1.356851229088844 - Train Accuracy: 44.467560661224304\n",
      "Validation Loss: 1.2334302870432536 - Validation Accuracy: 48.69143098353736\n",
      "\n",
      "Epoch 8/25\n"
     ]
    },
    {
     "name": "stderr",
     "output_type": "stream",
     "text": [
      "Training: 100%|██████████| 346/346 [01:04<00:00,  5.34it/s, Loss=1.2820217609405518, Elapsed=75.2697s, ETA=0.0000s] \n",
      "Validating: 100%|██████████| 75/75 [00:15<00:00,  4.85it/s, Loss=1.2910712957382202, Elapsed=26.0345s, ETA=0.0000s] \n"
     ]
    },
    {
     "name": "stdout",
     "output_type": "stream",
     "text": [
      "Epoch 8 completed in 102.3961s\n",
      "Train Loss: 1.351640713697224 - Train Accuracy: 44.44494697089618\n",
      "Validation Loss: 1.2241584157943726 - Validation Accuracy: 46.74968341072183\n",
      "\n",
      "Epoch 9/25\n"
     ]
    },
    {
     "name": "stderr",
     "output_type": "stream",
     "text": [
      "Training: 100%|██████████| 346/346 [01:04<00:00,  5.34it/s, Loss=1.2959247827529907, Elapsed=75.2632s, ETA=0.0000s] \n",
      "Validating: 100%|██████████| 75/75 [00:15<00:00,  4.95it/s, Loss=1.2268314361572266, Elapsed=26.1339s, ETA=0.0000s] \n"
     ]
    },
    {
     "name": "stdout",
     "output_type": "stream",
     "text": [
      "Epoch 9 completed in 102.5358s\n",
      "Train Loss: 1.3508035767974191 - Train Accuracy: 44.18941227018837\n",
      "Validation Loss: 1.1961495351791382 - Validation Accuracy: 49.82059940903334\n",
      "\n",
      "Epoch 10/25\n"
     ]
    },
    {
     "name": "stderr",
     "output_type": "stream",
     "text": [
      "Training: 100%|██████████| 346/346 [01:04<00:00,  5.33it/s, Loss=1.5012072324752808, Elapsed=75.9735s, ETA=0.0000s] \n",
      "Validating: 100%|██████████| 75/75 [00:15<00:00,  4.88it/s, Loss=1.4351030588150024, Elapsed=25.9737s, ETA=0.0000s] \n"
     ]
    },
    {
     "name": "stdout",
     "output_type": "stream",
     "text": [
      "Epoch 10 completed in 102.9991s\n",
      "Train Loss: 1.3419212798851763 - Train Accuracy: 44.51731077994618\n",
      "Validation Loss: 1.2147319881121317 - Validation Accuracy: 49.366821443647105\n",
      "\n",
      "Epoch 11/25\n"
     ]
    },
    {
     "name": "stderr",
     "output_type": "stream",
     "text": [
      "Training: 100%|██████████| 346/346 [01:04<00:00,  5.34it/s, Loss=1.3402668237686157, Elapsed=75.2738s, ETA=0.0000s] \n",
      "Validating: 100%|██████████| 75/75 [00:15<00:00,  4.90it/s, Loss=1.4135246276855469, Elapsed=25.7988s, ETA=0.0000s] \n"
     ]
    },
    {
     "name": "stdout",
     "output_type": "stream",
     "text": [
      "Epoch 11 completed in 102.1410s\n",
      "Train Loss: 1.3533331169558398 - Train Accuracy: 44.48112887542118\n",
      "Validation Loss: 1.21566815217336 - Validation Accuracy: 50.01055297593921\n",
      "\n",
      "Epoch 12/25\n"
     ]
    },
    {
     "name": "stderr",
     "output_type": "stream",
     "text": [
      "Training: 100%|██████████| 346/346 [01:04<00:00,  5.35it/s, Loss=1.389925241470337, Elapsed=75.1685s, ETA=0.0000s]  \n",
      "Validating: 100%|██████████| 75/75 [00:15<00:00,  4.90it/s, Loss=1.3007476329803467, Elapsed=25.9256s, ETA=0.0000s] \n"
     ]
    },
    {
     "name": "stdout",
     "output_type": "stream",
     "text": [
      "Epoch 12 completed in 102.1991s\n",
      "Train Loss: 1.347377835326112 - Train Accuracy: 44.70952714773524\n",
      "Validation Loss: 1.2180822650591532 - Validation Accuracy: 48.41705360911777\n",
      "\n",
      "Epoch 13/25\n"
     ]
    },
    {
     "name": "stderr",
     "output_type": "stream",
     "text": [
      "Training: 100%|██████████| 346/346 [01:04<00:00,  5.36it/s, Loss=1.2963967323303223, Elapsed=75.0249s, ETA=0.0000s] \n",
      "Validating: 100%|██████████| 75/75 [00:15<00:00,  4.89it/s, Loss=1.2161134481430054, Elapsed=25.8884s, ETA=0.0000s] \n"
     ]
    },
    {
     "name": "stdout",
     "output_type": "stream",
     "text": [
      "Epoch 13 completed in 101.9483s\n",
      "Train Loss: 1.353073257931395 - Train Accuracy: 44.31604893602587\n",
      "Validation Loss: 1.1951171867052715 - Validation Accuracy: 47.425073870831575\n",
      "\n",
      "Epoch 14/25\n"
     ]
    },
    {
     "name": "stderr",
     "output_type": "stream",
     "text": [
      "Training: 100%|██████████| 346/346 [01:04<00:00,  5.36it/s, Loss=1.5863428115844727, Elapsed=74.9405s, ETA=0.0000s] \n",
      "Validating: 100%|██████████| 75/75 [00:15<00:00,  4.91it/s, Loss=1.1429470777511597, Elapsed=25.9753s, ETA=0.0000s] \n"
     ]
    },
    {
     "name": "stdout",
     "output_type": "stream",
     "text": [
      "Epoch 14 completed in 101.9792s\n",
      "Train Loss: 1.3596876501347976 - Train Accuracy: 44.35675357861649\n",
      "Validation Loss: 1.2174229009946187 - Validation Accuracy: 48.53313634444913\n",
      "\n",
      "Epoch 15/25\n"
     ]
    },
    {
     "name": "stderr",
     "output_type": "stream",
     "text": [
      "Training: 100%|██████████| 346/346 [01:04<00:00,  5.35it/s, Loss=1.2602840662002563, Elapsed=75.1814s, ETA=0.0000s] \n",
      "Validating: 100%|██████████| 75/75 [00:15<00:00,  4.88it/s, Loss=1.0463868379592896, Elapsed=25.9383s, ETA=0.0000s] \n"
     ]
    },
    {
     "name": "stdout",
     "output_type": "stream",
     "text": [
      "Epoch 15 completed in 102.1778s\n",
      "Train Loss: 1.3514778977529163 - Train Accuracy: 44.447208339929\n",
      "Validation Loss: 1.193286649386088 - Validation Accuracy: 47.85774588433938\n",
      "\n",
      "Epoch 16/25\n"
     ]
    },
    {
     "name": "stderr",
     "output_type": "stream",
     "text": [
      "Training: 100%|██████████| 346/346 [01:04<00:00,  5.35it/s, Loss=1.3264213800430298, Elapsed=75.1433s, ETA=0.0000s] \n",
      "Validating: 100%|██████████| 75/75 [00:15<00:00,  4.88it/s, Loss=1.3316435813903809, Elapsed=25.9449s, ETA=0.0000s] \n"
     ]
    },
    {
     "name": "stdout",
     "output_type": "stream",
     "text": [
      "Epoch 16 completed in 102.1588s\n",
      "Train Loss: 1.3513040594282868 - Train Accuracy: 44.648470183849305\n",
      "Validation Loss: 1.2221926752726238 - Validation Accuracy: 49.715069649641194\n",
      "\n",
      "Epoch 17/25\n"
     ]
    },
    {
     "name": "stderr",
     "output_type": "stream",
     "text": [
      "Training: 100%|██████████| 346/346 [01:04<00:00,  5.35it/s, Loss=1.0622832775115967, Elapsed=75.1611s, ETA=0.0000s] \n",
      "Validating: 100%|██████████| 75/75 [00:15<00:00,  4.92it/s, Loss=1.1271040439605713, Elapsed=25.8216s, ETA=0.0000s] \n"
     ]
    },
    {
     "name": "stdout",
     "output_type": "stream",
     "text": [
      "Epoch 17 completed in 102.0295s\n",
      "Train Loss: 1.3457756769450413 - Train Accuracy: 44.61681101738993\n",
      "Validation Loss: 1.1843233307202656 - Validation Accuracy: 48.427606585056985\n",
      "\n",
      "Epoch 18/25\n"
     ]
    },
    {
     "name": "stderr",
     "output_type": "stream",
     "text": [
      "Training: 100%|██████████| 346/346 [01:04<00:00,  5.34it/s, Loss=1.48289155960083, Elapsed=75.2963s, ETA=0.0000s]   \n",
      "Validating: 100%|██████████| 75/75 [00:15<00:00,  4.89it/s, Loss=1.2781493663787842, Elapsed=26.0881s, ETA=0.0000s] \n"
     ]
    },
    {
     "name": "stdout",
     "output_type": "stream",
     "text": [
      "Epoch 18 completed in 102.4575s\n",
      "Train Loss: 1.3461525667609506 - Train Accuracy: 44.78867506388367\n",
      "Validation Loss: 1.2223567986488342 - Validation Accuracy: 50.24271844660194\n",
      "\n",
      "Epoch 19/25\n"
     ]
    },
    {
     "name": "stderr",
     "output_type": "stream",
     "text": [
      "Training: 100%|██████████| 346/346 [01:04<00:00,  5.32it/s, Loss=1.4024245738983154, Elapsed=75.4166s, ETA=0.0000s] \n",
      "Validating: 100%|██████████| 75/75 [00:15<00:00,  4.85it/s, Loss=1.5669611692428589, Elapsed=26.1088s, ETA=0.0000s] \n"
     ]
    },
    {
     "name": "stdout",
     "output_type": "stream",
     "text": [
      "Epoch 19 completed in 102.5813s\n",
      "Train Loss: 1.3467852936659246 - Train Accuracy: 44.63490196965243\n",
      "Validation Loss: 1.2261083579063417 - Validation Accuracy: 50.87589700295483\n",
      "\n",
      "Epoch 20/25\n"
     ]
    },
    {
     "name": "stderr",
     "output_type": "stream",
     "text": [
      "Training: 100%|██████████| 346/346 [01:04<00:00,  5.34it/s, Loss=0.891806960105896, Elapsed=75.2373s, ETA=0.0000s]  \n",
      "Validating: 100%|██████████| 75/75 [00:15<00:00,  4.88it/s, Loss=1.0766750574111938, Elapsed=25.9227s, ETA=0.0000s] \n"
     ]
    },
    {
     "name": "stdout",
     "output_type": "stream",
     "text": [
      "Epoch 20 completed in 102.2171s\n",
      "Train Loss: 1.3421352106022697 - Train Accuracy: 44.84973202776961\n",
      "Validation Loss: 1.173780304590861 - Validation Accuracy: 47.99493457154917\n",
      "\n",
      "Epoch 21/25\n"
     ]
    },
    {
     "name": "stderr",
     "output_type": "stream",
     "text": [
      "Training: 100%|██████████| 346/346 [01:05<00:00,  5.32it/s, Loss=1.2138304710388184, Elapsed=75.5576s, ETA=0.0000s] \n",
      "Validating: 100%|██████████| 75/75 [00:15<00:00,  4.93it/s, Loss=1.1456984281539917, Elapsed=25.7780s, ETA=0.0000s] \n"
     ]
    },
    {
     "name": "stdout",
     "output_type": "stream",
     "text": [
      "Epoch 21 completed in 102.4265s\n",
      "Train Loss: 1.3492085847551423 - Train Accuracy: 44.44042423283056\n",
      "Validation Loss: 1.1886073017120362 - Validation Accuracy: 50.93921485859012\n",
      "\n",
      "Epoch 22/25\n"
     ]
    },
    {
     "name": "stderr",
     "output_type": "stream",
     "text": [
      "Training: 100%|██████████| 346/346 [01:04<00:00,  5.35it/s, Loss=1.5271040201187134, Elapsed=75.2788s, ETA=0.0000s] \n",
      "Validating: 100%|██████████| 75/75 [00:15<00:00,  4.93it/s, Loss=1.211137294769287, Elapsed=25.7540s, ETA=0.0000s]  \n"
     ]
    },
    {
     "name": "stdout",
     "output_type": "stream",
     "text": [
      "Epoch 22 completed in 102.1013s\n",
      "Train Loss: 1.3403440813797747 - Train Accuracy: 44.75023179032586\n",
      "Validation Loss: 1.2009297847747802 - Validation Accuracy: 49.5040101308569\n",
      "\n",
      "Epoch 23/25\n"
     ]
    },
    {
     "name": "stderr",
     "output_type": "stream",
     "text": [
      "Training: 100%|██████████| 346/346 [01:04<00:00,  5.35it/s, Loss=1.434149146080017, Elapsed=75.1488s, ETA=0.0000s]  \n",
      "Validating: 100%|██████████| 75/75 [00:15<00:00,  4.86it/s, Loss=1.2389321327209473, Elapsed=26.0610s, ETA=0.0000s] \n"
     ]
    },
    {
     "name": "stdout",
     "output_type": "stream",
     "text": [
      "Epoch 23 completed in 102.2817s\n",
      "Train Loss: 1.3535157920997267 - Train Accuracy: 44.72987946903055\n",
      "Validation Loss: 1.1860598778724671 - Validation Accuracy: 50.88644997889404\n",
      "\n",
      "Epoch 24/25\n"
     ]
    },
    {
     "name": "stderr",
     "output_type": "stream",
     "text": [
      "Training: 100%|██████████| 346/346 [01:04<00:00,  5.33it/s, Loss=1.4922887086868286, Elapsed=75.4204s, ETA=0.0000s] \n",
      "Validating: 100%|██████████| 75/75 [00:15<00:00,  4.90it/s, Loss=1.304768681526184, Elapsed=26.1689s, ETA=0.0000s]  \n"
     ]
    },
    {
     "name": "stdout",
     "output_type": "stream",
     "text": [
      "Epoch 24 completed in 102.6377s\n",
      "Train Loss: 1.3453594487526512 - Train Accuracy: 44.725356730964926\n",
      "Validation Loss: 1.1835845788319905 - Validation Accuracy: 52.100042211903755\n",
      "\n",
      "Epoch 25/25\n"
     ]
    },
    {
     "name": "stderr",
     "output_type": "stream",
     "text": [
      "Training: 100%|██████████| 346/346 [01:04<00:00,  5.34it/s, Loss=1.0915724039077759, Elapsed=75.3757s, ETA=0.0000s] \n",
      "Validating: 100%|██████████| 75/75 [00:15<00:00,  4.93it/s, Loss=1.1409615278244019, Elapsed=25.7383s, ETA=0.0000s] \n"
     ]
    },
    {
     "name": "stdout",
     "output_type": "stream",
     "text": [
      "Epoch 25 completed in 102.1702s\n",
      "Train Loss: 1.3505143633467613 - Train Accuracy: 44.42459464960087\n",
      "Validation Loss: 1.1967716439565024 - Validation Accuracy: 47.49894470240608\n",
      "\n"
     ]
    },
    {
     "data": {
      "image/png": "[encoded data removed]",
      "text/plain": [
       "<Figure size 640x480 with 1 Axes>"
      ]
     },
     "metadata": {},
     "output_type": "display_data"
    },
    {
     "data": {
      "image/png": "[encoded data removed]",
      "text/plain": [
       "<Figure size 640x480 with 1 Axes>"
      ]
     },
     "metadata": {},
     "output_type": "display_data"
    }
   ],
   "source": [
    "trainset = MelSpectrogramDataset(\n",
    "    csv_file=train_csv, root_dir=root_dir, transform=transform)\n",
    "valset = MelSpectrogramDataset(\n",
    "    csv_file=val_csv, root_dir=root_dir, transform=transform)\n",
    "testset = MelSpectrogramDataset(\n",
    "    csv_file=test_csv, root_dir=root_dir, transform=transform)\n",
    "\n",
    "trainloader = DataLoader(trainset, batch_size=128,\n",
    "                         shuffle=True, num_workers=8, pin_memory=True)\n",
    "valloader = DataLoader(valset, batch_size=128,\n",
    "                       shuffle=False, num_workers=8, pin_memory=True)\n",
    "testloader = DataLoader(testset, batch_size=128,\n",
    "                        shuffle=False, num_workers=8, pin_memory=True)\n",
    "\n",
    "# Label mappings\n",
    "labelmap = trainset.label_map\n",
    "print(f\"Mapping from Emotion to Number: {labelmap}\")\n",
    "\n",
    "print(f\"Model is on: {next(model.parameters()).device}\")\n",
    "model, train_losses, train_accuracies, val_losses, val_accuracies = train_epochs(\n",
    "    model, trainloader, valloader, criterion, optimizer, device, epochs)\n",
    "torch.save(model.state_dict(), f'{FINETUNED_MODEL}_variables_{epochs}.pt')\n",
    "\n",
    "# Plots\n",
    "plot_loss(train_losses, val_losses)\n",
    "plot_accuracy(train_accuracies, val_accuracies)"
   ]
  },
  {
   "cell_type": "markdown",
   "metadata": {},
   "source": [
    "Define the function to plot the confusion matrix\n"
   ]
  },
  {
   "cell_type": "code",
   "execution_count": 17,
   "metadata": {},
   "outputs": [],
   "source": [
    "import seaborn as sns\n",
    "from sklearn.metrics import confusion_matrix\n",
    "\n",
    "\n",
    "def plot_confusion_matrix(y_true, y_pred):\n",
    "    # Compute confusion matrix\n",
    "    cm = confusion_matrix(y_true, y_pred)\n",
    "\n",
    "    # Create figure and axes\n",
    "    plt.figure(figsize=(10, 8))\n",
    "\n",
    "    # Create heatmap\n",
    "    sns.heatmap(cm,\n",
    "                annot=True,  # Show numbers in cells\n",
    "                fmt='d',     # Use integer formatting\n",
    "                cmap='Blues',  # Color scheme\n",
    "                xticklabels=trainset.label_map.keys(),\n",
    "                yticklabels=trainset.label_map.keys())\n",
    "\n",
    "    # Set labels and title\n",
    "    plt.ylabel('True Label')\n",
    "    plt.xlabel('Predicted Label')\n",
    "    plt.title('Confusion Matrix')\n",
    "\n",
    "    # Rotate axis labels for better readability\n",
    "    plt.xticks(rotation=45)\n",
    "    plt.yticks(rotation=45)\n",
    "\n",
    "    plt.tight_layout()\n",
    "    plt.show()"
   ]
  },
  {
   "cell_type": "markdown",
   "metadata": {},
   "source": [
    "Define the function to evaluate the best model on the test set\n"
   ]
  },
  {
   "cell_type": "code",
   "execution_count": 18,
   "metadata": {},
   "outputs": [],
   "source": [
    "def load_and_evaluate_best_model(model, testloader, criterion, device, model_path):\n",
    "    # Load the best model weights\n",
    "    model.load_state_dict(torch.load(model_path))\n",
    "    model.eval()\n",
    "\n",
    "    all_preds = []\n",
    "    all_labels = []\n",
    "    running_loss = 0.0\n",
    "    correct = 0\n",
    "    total = 0\n",
    "\n",
    "    print(\"Evaluating best model on test set...\")\n",
    "    with torch.no_grad():\n",
    "        for inputs, labels in tqdm(testloader, desc='Testing'):\n",
    "            inputs, labels = inputs.to(device), labels.to(device)\n",
    "            outputs = model(inputs)\n",
    "\n",
    "            # Calculate loss\n",
    "            loss = criterion(outputs, labels)\n",
    "            running_loss += loss.item()\n",
    "\n",
    "            # Calculate accuracy\n",
    "            _, predicted = torch.max(outputs, 1)\n",
    "            total += labels.size(0)\n",
    "            correct += (predicted == labels).sum().item()\n",
    "\n",
    "            # Store predictions for confusion matrix\n",
    "            all_preds.extend(predicted.cpu().numpy())\n",
    "            all_labels.extend(labels.cpu().numpy())\n",
    "\n",
    "    # Calculate final metrics\n",
    "    test_loss = running_loss / len(testloader)\n",
    "    test_accuracy = 100 * correct / total\n",
    "\n",
    "    print(f\"\\nTest Results (Best Model):\")\n",
    "    print(f\"Test Loss: {test_loss:.4f}\")\n",
    "    print(f\"Test Accuracy: {test_accuracy:.2f}%\")\n",
    "\n",
    "    return test_loss, test_accuracy, all_preds, all_labels"
   ]
  },
  {
   "cell_type": "markdown",
   "metadata": {},
   "source": [
    "Evaluate the best model on the test set\n"
   ]
  },
  {
   "cell_type": "code",
   "execution_count": 19,
   "metadata": {},
   "outputs": [
    {
     "name": "stderr",
     "output_type": "stream",
     "text": [
      "C:\\Users\\profi\\AppData\\Local\\Temp\\ipykernel_24976\\3579996063.py:3: FutureWarning: You are using `torch.load` with `weights_only=False` (the current default value), which uses the default pickle module implicitly. It is possible to construct malicious pickle data which will execute arbitrary code during unpickling (See https://github.com/pytorch/pytorch/blob/main/SECURITY.md#untrusted-models for more details). In a future release, the default value for `weights_only` will be flipped to `True`. This limits the functions that could be executed during unpickling. Arbitrary objects will no longer be allowed to be loaded via this mode unless they are explicitly allowlisted by the user via `torch.serialization.add_safe_globals`. We recommend you start setting `weights_only=True` for any use case where you don't have full control of the loaded file. Please open an issue on GitHub for any issues related to this experimental feature.\n",
      "  model.load_state_dict(torch.load(model_path))\n"
     ]
    },
    {
     "name": "stdout",
     "output_type": "stream",
     "text": [
      "Evaluating best model on test set...\n"
     ]
    },
    {
     "name": "stderr",
     "output_type": "stream",
     "text": [
      "Testing: 100%|██████████| 75/75 [00:26<00:00,  2.85it/s]\n"
     ]
    },
    {
     "name": "stdout",
     "output_type": "stream",
     "text": [
      "\n",
      "Test Results (Best Model):\n",
      "Test Loss: 1.1696\n",
      "Test Accuracy: 51.52%\n"
     ]
    },
    {
     "data": {
      "image/png": "[encoded data removed]",
      "text/plain": [
       "<Figure size 1000x800 with 2 Axes>"
      ]
     },
     "metadata": {},
     "output_type": "display_data"
    }
   ],
   "source": [
    "# Load and evaluate the best model\n",
    "best_model_path = f'best_{FINETUNED_MODEL}.pt'\n",
    "test_loss, test_accuracy, all_preds, all_labels = load_and_evaluate_best_model(\n",
    "    model=model,\n",
    "    testloader=testloader,\n",
    "    criterion=criterion,\n",
    "    device=device,\n",
    "    model_path=best_model_path\n",
    ")\n",
    "\n",
    "# Plot confusion matrix\n",
    "plot_confusion_matrix(all_labels, all_preds)"
   ]
  }
 ],
 "metadata": {
  "kernelspec": {
   "display_name": "myenv",
   "language": "python",
   "name": "python3"
  },
  "language_info": {
   "codemirror_mode": {
    "name": "ipython",
    "version": 3
   },
   "file_extension": ".py",
   "mimetype": "text/x-python",
   "name": "python",
   "nbconvert_exporter": "python",
   "pygments_lexer": "ipython3",
   "version": "3.10.11"
  }
 },
 "nbformat": 4,
 "nbformat_minor": 2
}
