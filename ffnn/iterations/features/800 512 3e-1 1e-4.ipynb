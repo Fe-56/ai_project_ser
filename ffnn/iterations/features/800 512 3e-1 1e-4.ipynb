{
 "cells": [
  {
   "cell_type": "code",
   "execution_count": 1,
   "id": "e248108b",
   "metadata": {
    "execution": {
     "iopub.execute_input": "2025-04-20T11:28:35.293909Z",
     "iopub.status.busy": "2025-04-20T11:28:35.293824Z",
     "iopub.status.idle": "2025-04-20T11:28:35.298294Z",
     "shell.execute_reply": "2025-04-20T11:28:35.298032Z"
    }
   },
   "outputs": [
    {
     "name": "stdout",
     "output_type": "stream",
     "text": [
      "Project root added to sys.path: /Users/joel-tay/Desktop\n"
     ]
    }
   ],
   "source": [
    "import sys\n",
    "from pathlib import Path\n",
    "\n",
    "project_root = Path.cwd().parent\n",
    "sys.path.append(str(project_root))\n",
    "\n",
    "print(\"Project root added to sys.path:\", project_root)"
   ]
  },
  {
   "cell_type": "code",
   "execution_count": 2,
   "id": "8b6408f9",
   "metadata": {
    "execution": {
     "iopub.execute_input": "2025-04-20T11:28:35.299564Z",
     "iopub.status.busy": "2025-04-20T11:28:35.299442Z",
     "iopub.status.idle": "2025-04-20T11:28:37.247647Z",
     "shell.execute_reply": "2025-04-20T11:28:37.247315Z"
    }
   },
   "outputs": [
    {
     "name": "stderr",
     "output_type": "stream",
     "text": [
      "/Users/joel-tay/Desktop/AI-Project--Speech-Emotion-Recognition/myenv/lib/python3.10/site-packages/tqdm/auto.py:21: TqdmWarning: IProgress not found. Please update jupyter and ipywidgets. See https://ipywidgets.readthedocs.io/en/stable/user_install.html\n",
      "  from .autonotebook import tqdm as notebook_tqdm\n"
     ]
    }
   ],
   "source": [
    "import matplotlib.pyplot as plt\n",
    "import seaborn as sns\n",
    "from sklearn.metrics import classification_report, confusion_matrix\n",
    "import torch\n",
    "import lightning as L\n",
    "\n",
    "from ffnn.nn_classifier import NNClassifier\n",
    "from ffnn.hparams_tune import prepare_data"
   ]
  },
  {
   "cell_type": "code",
   "execution_count": 3,
   "id": "5fe50841",
   "metadata": {
    "execution": {
     "iopub.execute_input": "2025-04-20T11:28:37.249071Z",
     "iopub.status.busy": "2025-04-20T11:28:37.248974Z",
     "iopub.status.idle": "2025-04-20T11:28:37.251081Z",
     "shell.execute_reply": "2025-04-20T11:28:37.250785Z"
    }
   },
   "outputs": [],
   "source": [
    "n_features_select = 800\n",
    "checkpoint_path = r\"\"\"/Users/joel-tay/Desktop/AI-Project--Speech-Emotion-Recognition/checkpoints/trial_37_best-v1.ckpt\"\"\""
   ]
  },
  {
   "cell_type": "code",
   "execution_count": 4,
   "id": "e3a5ace7",
   "metadata": {
    "execution": {
     "iopub.execute_input": "2025-04-20T11:28:37.252383Z",
     "iopub.status.busy": "2025-04-20T11:28:37.252282Z",
     "iopub.status.idle": "2025-04-20T11:28:37.320114Z",
     "shell.execute_reply": "2025-04-20T11:28:37.319816Z"
    }
   },
   "outputs": [],
   "source": [
    "best_model = NNClassifier.load_from_checkpoint(\n",
    "checkpoint_path,\n",
    "input_dim=n_features_select\n",
    "        )"
   ]
  },
  {
   "cell_type": "code",
   "execution_count": 5,
   "id": "84756cf4",
   "metadata": {
    "execution": {
     "iopub.execute_input": "2025-04-20T11:28:37.321613Z",
     "iopub.status.busy": "2025-04-20T11:28:37.321489Z",
     "iopub.status.idle": "2025-04-20T11:48:04.869471Z",
     "shell.execute_reply": "2025-04-20T11:48:04.866607Z"
    }
   },
   "outputs": [
    {
     "name": "stderr",
     "output_type": "stream",
     "text": [
      "/Users/joel-tay/Desktop/AI-Project--Speech-Emotion-Recognition/data/feature_extraction/preprocess_features.py:15: ParserWarning: Skipping line 4: expected 6375 fields, saw 6376\n",
      "Skipping line 43: expected 6375 fields, saw 6376\n",
      "\n",
      "  df = pd.read_csv(f'{base_path}/features/combined_features.csv', on_bad_lines='warn')\n",
      "/Users/joel-tay/Desktop/AI-Project--Speech-Emotion-Recognition/data/feature_extraction/preprocess_features.py:15: ParserWarning: Skipping line 150: expected 6375 fields, saw 6376\n",
      "Skipping line 177: expected 6375 fields, saw 6376\n",
      "\n",
      "  df = pd.read_csv(f'{base_path}/features/combined_features.csv', on_bad_lines='warn')\n",
      "/Users/joel-tay/Desktop/AI-Project--Speech-Emotion-Recognition/data/feature_extraction/preprocess_features.py:15: ParserWarning: Skipping line 408: expected 6375 fields, saw 6376\n",
      "Skipping line 421: expected 6375 fields, saw 6376\n",
      "Skipping line 422: expected 6375 fields, saw 6376\n",
      "\n",
      "  df = pd.read_csv(f'{base_path}/features/combined_features.csv', on_bad_lines='warn')\n"
     ]
    },
    {
     "name": "stderr",
     "output_type": "stream",
     "text": [
      "/Users/joel-tay/Desktop/AI-Project--Speech-Emotion-Recognition/data/feature_extraction/preprocess_features.py:15: ParserWarning: Skipping line 522: expected 6375 fields, saw 6376\n",
      "Skipping line 618: expected 6375 fields, saw 6376\n",
      "\n",
      "  df = pd.read_csv(f'{base_path}/features/combined_features.csv', on_bad_lines='warn')\n",
      "/Users/joel-tay/Desktop/AI-Project--Speech-Emotion-Recognition/data/feature_extraction/preprocess_features.py:15: ParserWarning: Skipping line 715: expected 6375 fields, saw 6376\n",
      "\n",
      "  df = pd.read_csv(f'{base_path}/features/combined_features.csv', on_bad_lines='warn')\n",
      "/Users/joel-tay/Desktop/AI-Project--Speech-Emotion-Recognition/data/feature_extraction/preprocess_features.py:15: ParserWarning: Skipping line 848: expected 6375 fields, saw 6376\n",
      "Skipping line 865: expected 6375 fields, saw 6376\n",
      "Skipping line 867: expected 6375 fields, saw 6376\n",
      "Skipping line 885: expected 6375 fields, saw 6376\n",
      "Skipping line 897: expected 6375 fields, saw 6376\n",
      "\n",
      "  df = pd.read_csv(f'{base_path}/features/combined_features.csv', on_bad_lines='warn')\n",
      "/Users/joel-tay/Desktop/AI-Project--Speech-Emotion-Recognition/data/feature_extraction/preprocess_features.py:15: ParserWarning: Skipping line 973: expected 6375 fields, saw 6376\n",
      "Skipping line 996: expected 6375 fields, saw 6376\n",
      "\n",
      "  df = pd.read_csv(f'{base_path}/features/combined_features.csv', on_bad_lines='warn')\n"
     ]
    },
    {
     "name": "stderr",
     "output_type": "stream",
     "text": [
      "/Users/joel-tay/Desktop/AI-Project--Speech-Emotion-Recognition/data/feature_extraction/preprocess_features.py:15: ParserWarning: Skipping line 1125: expected 6375 fields, saw 6376\n",
      "Skipping line 1145: expected 6375 fields, saw 6376\n",
      "Skipping line 1150: expected 6375 fields, saw 6376\n",
      "Skipping line 1172: expected 6375 fields, saw 6376\n",
      "\n",
      "  df = pd.read_csv(f'{base_path}/features/combined_features.csv', on_bad_lines='warn')\n",
      "/Users/joel-tay/Desktop/AI-Project--Speech-Emotion-Recognition/data/feature_extraction/preprocess_features.py:15: ParserWarning: Skipping line 1252: expected 6375 fields, saw 6376\n",
      "Skipping line 1275: expected 6375 fields, saw 6376\n",
      "\n",
      "  df = pd.read_csv(f'{base_path}/features/combined_features.csv', on_bad_lines='warn')\n",
      "/Users/joel-tay/Desktop/AI-Project--Speech-Emotion-Recognition/data/feature_extraction/preprocess_features.py:15: ParserWarning: Skipping line 1527: expected 6375 fields, saw 6376\n",
      "Skipping line 1549: expected 6375 fields, saw 6376\n",
      "\n",
      "  df = pd.read_csv(f'{base_path}/features/combined_features.csv', on_bad_lines='warn')\n"
     ]
    },
    {
     "name": "stderr",
     "output_type": "stream",
     "text": [
      "/Users/joel-tay/Desktop/AI-Project--Speech-Emotion-Recognition/data/feature_extraction/preprocess_features.py:15: ParserWarning: Skipping line 1616: expected 6375 fields, saw 6376\n",
      "Skipping line 1639: expected 6375 fields, saw 6376\n",
      "Skipping line 1654: expected 6375 fields, saw 6376\n",
      "Skipping line 1671: expected 6375 fields, saw 6376\n",
      "\n",
      "  df = pd.read_csv(f'{base_path}/features/combined_features.csv', on_bad_lines='warn')\n",
      "/Users/joel-tay/Desktop/AI-Project--Speech-Emotion-Recognition/data/feature_extraction/preprocess_features.py:15: ParserWarning: Skipping line 1757: expected 6375 fields, saw 6376\n",
      "Skipping line 1780: expected 6375 fields, saw 6376\n",
      "\n",
      "  df = pd.read_csv(f'{base_path}/features/combined_features.csv', on_bad_lines='warn')\n",
      "/Users/joel-tay/Desktop/AI-Project--Speech-Emotion-Recognition/data/feature_extraction/preprocess_features.py:15: ParserWarning: Skipping line 1988: expected 6375 fields, saw 6376\n",
      "Skipping line 2002: expected 6375 fields, saw 6376\n",
      "Skipping line 2004: expected 6375 fields, saw 6376\n",
      "Skipping line 2015: expected 6375 fields, saw 6376\n",
      "\n",
      "  df = pd.read_csv(f'{base_path}/features/combined_features.csv', on_bad_lines='warn')\n"
     ]
    },
    {
     "name": "stderr",
     "output_type": "stream",
     "text": [
      "/Users/joel-tay/Desktop/AI-Project--Speech-Emotion-Recognition/data/feature_extraction/preprocess_features.py:15: ParserWarning: Skipping line 2125: expected 6375 fields, saw 6376\n",
      "\n",
      "  df = pd.read_csv(f'{base_path}/features/combined_features.csv', on_bad_lines='warn')\n",
      "/Users/joel-tay/Desktop/AI-Project--Speech-Emotion-Recognition/data/feature_extraction/preprocess_features.py:15: ParserWarning: Skipping line 2239: expected 6375 fields, saw 6376\n",
      "\n",
      "  df = pd.read_csv(f'{base_path}/features/combined_features.csv', on_bad_lines='warn')\n",
      "/Users/joel-tay/Desktop/AI-Project--Speech-Emotion-Recognition/data/feature_extraction/preprocess_features.py:15: ParserWarning: Skipping line 2366: expected 6375 fields, saw 6376\n",
      "\n",
      "  df = pd.read_csv(f'{base_path}/features/combined_features.csv', on_bad_lines='warn')\n",
      "/Users/joel-tay/Desktop/AI-Project--Speech-Emotion-Recognition/data/feature_extraction/preprocess_features.py:15: ParserWarning: Skipping line 2480: expected 6375 fields, saw 6376\n",
      "Skipping line 2493: expected 6375 fields, saw 6376\n",
      "Skipping line 2494: expected 6375 fields, saw 6376\n",
      "\n",
      "  df = pd.read_csv(f'{base_path}/features/combined_features.csv', on_bad_lines='warn')\n"
     ]
    },
    {
     "name": "stderr",
     "output_type": "stream",
     "text": [
      "/Users/joel-tay/Desktop/AI-Project--Speech-Emotion-Recognition/data/feature_extraction/preprocess_features.py:15: ParserWarning: Skipping line 2706: expected 6375 fields, saw 6376\n",
      "\n",
      "  df = pd.read_csv(f'{base_path}/features/combined_features.csv', on_bad_lines='warn')\n",
      "/Users/joel-tay/Desktop/AI-Project--Speech-Emotion-Recognition/data/feature_extraction/preprocess_features.py:15: ParserWarning: Skipping line 2745: expected 6375 fields, saw 6376\n",
      "Skipping line 2829: expected 6375 fields, saw 6376\n",
      "\n",
      "  df = pd.read_csv(f'{base_path}/features/combined_features.csv', on_bad_lines='warn')\n",
      "/Users/joel-tay/Desktop/AI-Project--Speech-Emotion-Recognition/data/feature_extraction/preprocess_features.py:15: ParserWarning: Skipping line 2870: expected 6375 fields, saw 6376\n",
      "\n",
      "  df = pd.read_csv(f'{base_path}/features/combined_features.csv', on_bad_lines='warn')\n"
     ]
    },
    {
     "name": "stderr",
     "output_type": "stream",
     "text": [
      "/Users/joel-tay/Desktop/AI-Project--Speech-Emotion-Recognition/data/feature_extraction/preprocess_features.py:15: ParserWarning: Skipping line 3135: expected 6375 fields, saw 6376\n",
      "Skipping line 3159: expected 6375 fields, saw 6376\n",
      "Skipping line 3216: expected 6375 fields, saw 6376\n",
      "Skipping line 3236: expected 6375 fields, saw 6376\n",
      "\n",
      "  df = pd.read_csv(f'{base_path}/features/combined_features.csv', on_bad_lines='warn')\n",
      "/Users/joel-tay/Desktop/AI-Project--Speech-Emotion-Recognition/data/feature_extraction/preprocess_features.py:15: ParserWarning: Skipping line 3281: expected 6375 fields, saw 6376\n",
      "Skipping line 3370: expected 6375 fields, saw 6376\n",
      "\n",
      "  df = pd.read_csv(f'{base_path}/features/combined_features.csv', on_bad_lines='warn')\n",
      "/Users/joel-tay/Desktop/AI-Project--Speech-Emotion-Recognition/data/feature_extraction/preprocess_features.py:15: ParserWarning: Skipping line 3391: expected 6375 fields, saw 6376\n",
      "\n",
      "  df = pd.read_csv(f'{base_path}/features/combined_features.csv', on_bad_lines='warn')\n",
      "/Users/joel-tay/Desktop/AI-Project--Speech-Emotion-Recognition/data/feature_extraction/preprocess_features.py:15: ParserWarning: Skipping line 3567: expected 6375 fields, saw 6376\n",
      "Skipping line 3588: expected 6375 fields, saw 6376\n",
      "\n",
      "  df = pd.read_csv(f'{base_path}/features/combined_features.csv', on_bad_lines='warn')\n"
     ]
    },
    {
     "name": "stderr",
     "output_type": "stream",
     "text": [
      "/Users/joel-tay/Desktop/AI-Project--Speech-Emotion-Recognition/data/feature_extraction/preprocess_features.py:15: ParserWarning: Skipping line 3709: expected 6375 fields, saw 6376\n",
      "Skipping line 3718: expected 6375 fields, saw 6376\n",
      "Skipping line 3750: expected 6375 fields, saw 6376\n",
      "\n",
      "  df = pd.read_csv(f'{base_path}/features/combined_features.csv', on_bad_lines='warn')\n",
      "/Users/joel-tay/Desktop/AI-Project--Speech-Emotion-Recognition/data/feature_extraction/preprocess_features.py:15: ParserWarning: Skipping line 3775: expected 6375 fields, saw 6376\n",
      "Skipping line 3841: expected 6375 fields, saw 6376\n",
      "Skipping line 3865: expected 6375 fields, saw 6376\n",
      "\n",
      "  df = pd.read_csv(f'{base_path}/features/combined_features.csv', on_bad_lines='warn')\n",
      "/Users/joel-tay/Desktop/AI-Project--Speech-Emotion-Recognition/data/feature_extraction/preprocess_features.py:15: ParserWarning: Skipping line 4050: expected 6375 fields, saw 6376\n",
      "Skipping line 4077: expected 6375 fields, saw 6376\n",
      "\n",
      "  df = pd.read_csv(f'{base_path}/features/combined_features.csv', on_bad_lines='warn')\n"
     ]
    },
    {
     "name": "stderr",
     "output_type": "stream",
     "text": [
      "/Users/joel-tay/Desktop/AI-Project--Speech-Emotion-Recognition/data/feature_extraction/preprocess_features.py:15: ParserWarning: Skipping line 4170: expected 6375 fields, saw 6376\n",
      "Skipping line 4184: expected 6375 fields, saw 6376\n",
      "Skipping line 4203: expected 6375 fields, saw 6376\n",
      "\n",
      "  df = pd.read_csv(f'{base_path}/features/combined_features.csv', on_bad_lines='warn')\n",
      "/Users/joel-tay/Desktop/AI-Project--Speech-Emotion-Recognition/data/feature_extraction/preprocess_features.py:15: ParserWarning: Skipping line 4296: expected 6375 fields, saw 6376\n",
      "Skipping line 4297: expected 6375 fields, saw 6376\n",
      "Skipping line 4311: expected 6375 fields, saw 6376\n",
      "\n",
      "  df = pd.read_csv(f'{base_path}/features/combined_features.csv', on_bad_lines='warn')\n",
      "/Users/joel-tay/Desktop/AI-Project--Speech-Emotion-Recognition/data/feature_extraction/preprocess_features.py:15: ParserWarning: Skipping line 4518: expected 6375 fields, saw 6376\n",
      "\n",
      "  df = pd.read_csv(f'{base_path}/features/combined_features.csv', on_bad_lines='warn')\n",
      "/Users/joel-tay/Desktop/AI-Project--Speech-Emotion-Recognition/data/feature_extraction/preprocess_features.py:15: ParserWarning: Skipping line 4643: expected 6375 fields, saw 6376\n",
      "Skipping line 4659: expected 6375 fields, saw 6376\n",
      "\n",
      "  df = pd.read_csv(f'{base_path}/features/combined_features.csv', on_bad_lines='warn')\n"
     ]
    },
    {
     "name": "stderr",
     "output_type": "stream",
     "text": [
      "/Users/joel-tay/Desktop/AI-Project--Speech-Emotion-Recognition/data/feature_extraction/preprocess_features.py:15: ParserWarning: Skipping line 4750: expected 6375 fields, saw 6376\n",
      "Skipping line 4770: expected 6375 fields, saw 6376\n",
      "Skipping line 4787: expected 6375 fields, saw 6376\n",
      "Skipping line 4794: expected 6375 fields, saw 6376\n",
      "\n",
      "  df = pd.read_csv(f'{base_path}/features/combined_features.csv', on_bad_lines='warn')\n",
      "/Users/joel-tay/Desktop/AI-Project--Speech-Emotion-Recognition/data/feature_extraction/preprocess_features.py:15: ParserWarning: Skipping line 4879: expected 6375 fields, saw 6376\n",
      "\n",
      "  df = pd.read_csv(f'{base_path}/features/combined_features.csv', on_bad_lines='warn')\n",
      "/Users/joel-tay/Desktop/AI-Project--Speech-Emotion-Recognition/data/feature_extraction/preprocess_features.py:15: ParserWarning: Skipping line 5029: expected 6375 fields, saw 6376\n",
      "Skipping line 5050: expected 6375 fields, saw 6376\n",
      "\n",
      "  df = pd.read_csv(f'{base_path}/features/combined_features.csv', on_bad_lines='warn')\n"
     ]
    },
    {
     "name": "stderr",
     "output_type": "stream",
     "text": [
      "/Users/joel-tay/Desktop/AI-Project--Speech-Emotion-Recognition/data/feature_extraction/preprocess_features.py:15: ParserWarning: Skipping line 5260: expected 6375 fields, saw 6376\n",
      "Skipping line 5281: expected 6375 fields, saw 6376\n",
      "\n",
      "  df = pd.read_csv(f'{base_path}/features/combined_features.csv', on_bad_lines='warn')\n",
      "/Users/joel-tay/Desktop/AI-Project--Speech-Emotion-Recognition/data/feature_extraction/preprocess_features.py:15: ParserWarning: Skipping line 5350: expected 6375 fields, saw 6376\n",
      "Skipping line 5371: expected 6375 fields, saw 6376\n",
      "Skipping line 5404: expected 6375 fields, saw 6376\n",
      "Skipping line 5426: expected 6375 fields, saw 6376\n",
      "\n",
      "  df = pd.read_csv(f'{base_path}/features/combined_features.csv', on_bad_lines='warn')\n",
      "/Users/joel-tay/Desktop/AI-Project--Speech-Emotion-Recognition/data/feature_extraction/preprocess_features.py:15: ParserWarning: Skipping line 5466: expected 6375 fields, saw 6376\n",
      "Skipping line 5486: expected 6375 fields, saw 6376\n",
      "\n",
      "  df = pd.read_csv(f'{base_path}/features/combined_features.csv', on_bad_lines='warn')\n"
     ]
    },
    {
     "name": "stderr",
     "output_type": "stream",
     "text": [
      "/Users/joel-tay/Desktop/AI-Project--Speech-Emotion-Recognition/data/feature_extraction/preprocess_features.py:15: ParserWarning: Skipping line 5727: expected 6375 fields, saw 6376\n",
      "Skipping line 5748: expected 6375 fields, saw 6376\n",
      "\n",
      "  df = pd.read_csv(f'{base_path}/features/combined_features.csv', on_bad_lines='warn')\n",
      "/Users/joel-tay/Desktop/AI-Project--Speech-Emotion-Recognition/data/feature_extraction/preprocess_features.py:15: ParserWarning: Skipping line 5852: expected 6375 fields, saw 6376\n",
      "Skipping line 5875: expected 6375 fields, saw 6376\n",
      "Skipping line 5904: expected 6375 fields, saw 6376\n",
      "Skipping line 5927: expected 6375 fields, saw 6376\n",
      "\n",
      "  df = pd.read_csv(f'{base_path}/features/combined_features.csv', on_bad_lines='warn')\n",
      "/Users/joel-tay/Desktop/AI-Project--Speech-Emotion-Recognition/data/feature_extraction/preprocess_features.py:15: ParserWarning: Skipping line 6023: expected 6375 fields, saw 6376\n",
      "\n",
      "  df = pd.read_csv(f'{base_path}/features/combined_features.csv', on_bad_lines='warn')\n",
      "/Users/joel-tay/Desktop/AI-Project--Speech-Emotion-Recognition/data/feature_extraction/preprocess_features.py:15: ParserWarning: Skipping line 6132: expected 6375 fields, saw 6376\n",
      "Skipping line 6150: expected 6375 fields, saw 6376\n",
      "Skipping line 6166: expected 6375 fields, saw 6376\n",
      "\n",
      "  df = pd.read_csv(f'{base_path}/features/combined_features.csv', on_bad_lines='warn')\n"
     ]
    },
    {
     "name": "stderr",
     "output_type": "stream",
     "text": [
      "/Users/joel-tay/Desktop/AI-Project--Speech-Emotion-Recognition/data/feature_extraction/preprocess_features.py:15: ParserWarning: Skipping line 6290: expected 6375 fields, saw 6376\n",
      "Skipping line 6302: expected 6375 fields, saw 6376\n",
      "\n",
      "  df = pd.read_csv(f'{base_path}/features/combined_features.csv', on_bad_lines='warn')\n",
      "/Users/joel-tay/Desktop/AI-Project--Speech-Emotion-Recognition/data/feature_extraction/preprocess_features.py:15: ParserWarning: Skipping line 6390: expected 6375 fields, saw 6376\n",
      "\n",
      "  df = pd.read_csv(f'{base_path}/features/combined_features.csv', on_bad_lines='warn')\n",
      "/Users/joel-tay/Desktop/AI-Project--Speech-Emotion-Recognition/data/feature_extraction/preprocess_features.py:15: ParserWarning: Skipping line 6632: expected 6375 fields, saw 6376\n",
      "Skipping line 6645: expected 6375 fields, saw 6376\n",
      "Skipping line 6722: expected 6375 fields, saw 6376\n",
      "Skipping line 6742: expected 6375 fields, saw 6376\n",
      "\n",
      "  df = pd.read_csv(f'{base_path}/features/combined_features.csv', on_bad_lines='warn')\n"
     ]
    },
    {
     "name": "stderr",
     "output_type": "stream",
     "text": [
      "/Users/joel-tay/Desktop/AI-Project--Speech-Emotion-Recognition/data/feature_extraction/preprocess_features.py:15: ParserWarning: Skipping line 6770: expected 6375 fields, saw 6376\n",
      "Skipping line 6852: expected 6375 fields, saw 6376\n",
      "\n",
      "  df = pd.read_csv(f'{base_path}/features/combined_features.csv', on_bad_lines='warn')\n",
      "/Users/joel-tay/Desktop/AI-Project--Speech-Emotion-Recognition/data/feature_extraction/preprocess_features.py:15: ParserWarning: Skipping line 6896: expected 6375 fields, saw 6376\n",
      "Skipping line 6967: expected 6375 fields, saw 6376\n",
      "Skipping line 6987: expected 6375 fields, saw 6376\n",
      "Skipping line 7001: expected 6375 fields, saw 6376\n",
      "\n",
      "  df = pd.read_csv(f'{base_path}/features/combined_features.csv', on_bad_lines='warn')\n",
      "/Users/joel-tay/Desktop/AI-Project--Speech-Emotion-Recognition/data/feature_extraction/preprocess_features.py:15: ParserWarning: Skipping line 7027: expected 6375 fields, saw 6376\n",
      "Skipping line 7095: expected 6375 fields, saw 6376\n",
      "Skipping line 7118: expected 6375 fields, saw 6376\n",
      "Skipping line 7141: expected 6375 fields, saw 6376\n",
      "\n",
      "  df = pd.read_csv(f'{base_path}/features/combined_features.csv', on_bad_lines='warn')\n"
     ]
    },
    {
     "name": "stderr",
     "output_type": "stream",
     "text": [
      "/Users/joel-tay/Desktop/AI-Project--Speech-Emotion-Recognition/data/feature_extraction/preprocess_features.py:15: ParserWarning: Skipping line 7349: expected 6375 fields, saw 6376\n",
      "Skipping line 7370: expected 6375 fields, saw 6376\n",
      "\n",
      "  df = pd.read_csv(f'{base_path}/features/combined_features.csv', on_bad_lines='warn')\n",
      "/Users/joel-tay/Desktop/AI-Project--Speech-Emotion-Recognition/data/feature_extraction/preprocess_features.py:15: ParserWarning: Skipping line 7465: expected 6375 fields, saw 6376\n",
      "Skipping line 7477: expected 6375 fields, saw 6376\n",
      "Skipping line 7498: expected 6375 fields, saw 6376\n",
      "Skipping line 7504: expected 6375 fields, saw 6376\n",
      "Skipping line 7527: expected 6375 fields, saw 6376\n",
      "\n",
      "  df = pd.read_csv(f'{base_path}/features/combined_features.csv', on_bad_lines='warn')\n",
      "/Users/joel-tay/Desktop/AI-Project--Speech-Emotion-Recognition/data/feature_extraction/preprocess_features.py:15: ParserWarning: Skipping line 7634: expected 6375 fields, saw 6376\n",
      "Skipping line 7654: expected 6375 fields, saw 6376\n",
      "\n",
      "  df = pd.read_csv(f'{base_path}/features/combined_features.csv', on_bad_lines='warn')\n"
     ]
    },
    {
     "name": "stderr",
     "output_type": "stream",
     "text": [
      "/Users/joel-tay/Desktop/AI-Project--Speech-Emotion-Recognition/data/feature_extraction/preprocess_features.py:15: ParserWarning: Skipping line 7834: expected 6375 fields, saw 6376\n",
      "Skipping line 7872: expected 6375 fields, saw 6376\n",
      "Skipping line 7894: expected 6375 fields, saw 6376\n",
      "\n",
      "  df = pd.read_csv(f'{base_path}/features/combined_features.csv', on_bad_lines='warn')\n",
      "/Users/joel-tay/Desktop/AI-Project--Speech-Emotion-Recognition/data/feature_extraction/preprocess_features.py:15: ParserWarning: Skipping line 7993: expected 6375 fields, saw 6376\n",
      "Skipping line 8037: expected 6375 fields, saw 6376\n",
      "\n",
      "  df = pd.read_csv(f'{base_path}/features/combined_features.csv', on_bad_lines='warn')\n",
      "/Users/joel-tay/Desktop/AI-Project--Speech-Emotion-Recognition/data/feature_extraction/preprocess_features.py:15: ParserWarning: Skipping line 8126: expected 6375 fields, saw 6376\n",
      "Skipping line 8173: expected 6375 fields, saw 6376\n",
      "\n",
      "  df = pd.read_csv(f'{base_path}/features/combined_features.csv', on_bad_lines='warn')\n",
      "/Users/joel-tay/Desktop/AI-Project--Speech-Emotion-Recognition/data/feature_extraction/preprocess_features.py:15: ParserWarning: Skipping line 8239: expected 6375 fields, saw 6376\n",
      "Skipping line 8240: expected 6375 fields, saw 6376\n",
      "Skipping line 8253: expected 6375 fields, saw 6376\n",
      "\n",
      "  df = pd.read_csv(f'{base_path}/features/combined_features.csv', on_bad_lines='warn')\n"
     ]
    },
    {
     "name": "stderr",
     "output_type": "stream",
     "text": [
      "/Users/joel-tay/Desktop/AI-Project--Speech-Emotion-Recognition/data/feature_extraction/preprocess_features.py:15: ParserWarning: Skipping line 8501: expected 6375 fields, saw 6376\n",
      "\n",
      "  df = pd.read_csv(f'{base_path}/features/combined_features.csv', on_bad_lines='warn')\n",
      "/Users/joel-tay/Desktop/AI-Project--Speech-Emotion-Recognition/data/feature_extraction/preprocess_features.py:15: ParserWarning: Skipping line 8601: expected 6375 fields, saw 6376\n",
      "\n",
      "  df = pd.read_csv(f'{base_path}/features/combined_features.csv', on_bad_lines='warn')\n",
      "/Users/joel-tay/Desktop/AI-Project--Speech-Emotion-Recognition/data/feature_extraction/preprocess_features.py:15: ParserWarning: Skipping line 8724: expected 6375 fields, saw 6376\n",
      "Skipping line 8738: expected 6375 fields, saw 6376\n",
      "Skipping line 8740: expected 6375 fields, saw 6376\n",
      "Skipping line 8758: expected 6375 fields, saw 6376\n",
      "\n",
      "  df = pd.read_csv(f'{base_path}/features/combined_features.csv', on_bad_lines='warn')\n",
      "/Users/joel-tay/Desktop/AI-Project--Speech-Emotion-Recognition/data/feature_extraction/preprocess_features.py:15: ParserWarning: Skipping line 8874: expected 6375 fields, saw 6376\n",
      "Skipping line 8959: expected 6375 fields, saw 6376\n",
      "\n",
      "  df = pd.read_csv(f'{base_path}/features/combined_features.csv', on_bad_lines='warn')\n"
     ]
    },
    {
     "name": "stderr",
     "output_type": "stream",
     "text": [
      "/Users/joel-tay/Desktop/AI-Project--Speech-Emotion-Recognition/data/feature_extraction/preprocess_features.py:15: ParserWarning: Skipping line 8982: expected 6375 fields, saw 6376\n",
      "Skipping line 8990: expected 6375 fields, saw 6376\n",
      "Skipping line 9018: expected 6375 fields, saw 6376\n",
      "\n",
      "  df = pd.read_csv(f'{base_path}/features/combined_features.csv', on_bad_lines='warn')\n",
      "/Users/joel-tay/Desktop/AI-Project--Speech-Emotion-Recognition/data/feature_extraction/preprocess_features.py:15: ParserWarning: Skipping line 9132: expected 6375 fields, saw 6376\n",
      "Skipping line 9156: expected 6375 fields, saw 6376\n",
      "\n",
      "  df = pd.read_csv(f'{base_path}/features/combined_features.csv', on_bad_lines='warn')\n",
      "/Users/joel-tay/Desktop/AI-Project--Speech-Emotion-Recognition/data/feature_extraction/preprocess_features.py:15: ParserWarning: Skipping line 9361: expected 6375 fields, saw 6376\n",
      "\n",
      "  df = pd.read_csv(f'{base_path}/features/combined_features.csv', on_bad_lines='warn')\n",
      "/Users/joel-tay/Desktop/AI-Project--Speech-Emotion-Recognition/data/feature_extraction/preprocess_features.py:15: ParserWarning: Skipping line 9381: expected 6375 fields, saw 6376\n",
      "Skipping line 9453: expected 6375 fields, saw 6376\n",
      "Skipping line 9476: expected 6375 fields, saw 6376\n",
      "\n",
      "  df = pd.read_csv(f'{base_path}/features/combined_features.csv', on_bad_lines='warn')\n"
     ]
    },
    {
     "name": "stderr",
     "output_type": "stream",
     "text": [
      "/Users/joel-tay/Desktop/AI-Project--Speech-Emotion-Recognition/data/feature_extraction/preprocess_features.py:15: ParserWarning: Skipping line 9497: expected 6375 fields, saw 6376\n",
      "Skipping line 9561: expected 6375 fields, saw 6376\n",
      "Skipping line 9581: expected 6375 fields, saw 6376\n",
      "\n",
      "  df = pd.read_csv(f'{base_path}/features/combined_features.csv', on_bad_lines='warn')\n",
      "/Users/joel-tay/Desktop/AI-Project--Speech-Emotion-Recognition/data/feature_extraction/preprocess_features.py:15: ParserWarning: Skipping line 9835: expected 6375 fields, saw 6376\n",
      "Skipping line 9859: expected 6375 fields, saw 6376\n",
      "\n",
      "  df = pd.read_csv(f'{base_path}/features/combined_features.csv', on_bad_lines='warn')\n"
     ]
    },
    {
     "name": "stderr",
     "output_type": "stream",
     "text": [
      "/Users/joel-tay/Desktop/AI-Project--Speech-Emotion-Recognition/data/feature_extraction/preprocess_features.py:15: ParserWarning: Skipping line 10024: expected 6375 fields, saw 6376\n",
      "Skipping line 10105: expected 6375 fields, saw 6376\n",
      "Skipping line 10115: expected 6375 fields, saw 6376\n",
      "Skipping line 10126: expected 6375 fields, saw 6376\n",
      "Skipping line 10128: expected 6375 fields, saw 6376\n",
      "\n",
      "  df = pd.read_csv(f'{base_path}/features/combined_features.csv', on_bad_lines='warn')\n",
      "/Users/joel-tay/Desktop/AI-Project--Speech-Emotion-Recognition/data/feature_extraction/preprocess_features.py:15: ParserWarning: Skipping line 10148: expected 6375 fields, saw 6376\n",
      "Skipping line 10254: expected 6375 fields, saw 6376\n",
      "\n",
      "  df = pd.read_csv(f'{base_path}/features/combined_features.csv', on_bad_lines='warn')\n",
      "/Users/joel-tay/Desktop/AI-Project--Speech-Emotion-Recognition/data/feature_extraction/preprocess_features.py:15: ParserWarning: Skipping line 10381: expected 6375 fields, saw 6376\n",
      "\n",
      "  df = pd.read_csv(f'{base_path}/features/combined_features.csv', on_bad_lines='warn')\n"
     ]
    },
    {
     "name": "stderr",
     "output_type": "stream",
     "text": [
      "/Users/joel-tay/Desktop/AI-Project--Speech-Emotion-Recognition/data/feature_extraction/preprocess_features.py:15: ParserWarning: Skipping line 10583: expected 6375 fields, saw 6376\n",
      "Skipping line 10584: expected 6375 fields, saw 6376\n",
      "Skipping line 10597: expected 6375 fields, saw 6376\n",
      "\n",
      "  df = pd.read_csv(f'{base_path}/features/combined_features.csv', on_bad_lines='warn')\n",
      "/Users/joel-tay/Desktop/AI-Project--Speech-Emotion-Recognition/data/feature_extraction/preprocess_features.py:15: ParserWarning: Skipping line 10699: expected 6375 fields, saw 6376\n",
      "Skipping line 10730: expected 6375 fields, saw 6376\n",
      "\n",
      "  df = pd.read_csv(f'{base_path}/features/combined_features.csv', on_bad_lines='warn')\n",
      "/Users/joel-tay/Desktop/AI-Project--Speech-Emotion-Recognition/data/feature_extraction/preprocess_features.py:15: ParserWarning: Skipping line 10819: expected 6375 fields, saw 6376\n",
      "Skipping line 10848: expected 6375 fields, saw 6376\n",
      "\n",
      "  df = pd.read_csv(f'{base_path}/features/combined_features.csv', on_bad_lines='warn')\n",
      "/Users/joel-tay/Desktop/AI-Project--Speech-Emotion-Recognition/data/feature_extraction/preprocess_features.py:15: ParserWarning: Skipping line 10927: expected 6375 fields, saw 6376\n",
      "Skipping line 10948: expected 6375 fields, saw 6376\n",
      "\n",
      "  df = pd.read_csv(f'{base_path}/features/combined_features.csv', on_bad_lines='warn')\n"
     ]
    },
    {
     "name": "stderr",
     "output_type": "stream",
     "text": [
      "/Users/joel-tay/Desktop/AI-Project--Speech-Emotion-Recognition/data/feature_extraction/preprocess_features.py:15: ParserWarning: Skipping line 11198: expected 6375 fields, saw 6376\n",
      "Skipping line 11219: expected 6375 fields, saw 6376\n",
      "Skipping line 11293: expected 6375 fields, saw 6376\n",
      "Skipping line 11310: expected 6375 fields, saw 6376\n",
      "\n",
      "  df = pd.read_csv(f'{base_path}/features/combined_features.csv', on_bad_lines='warn')\n",
      "/Users/joel-tay/Desktop/AI-Project--Speech-Emotion-Recognition/data/feature_extraction/preprocess_features.py:15: ParserWarning: Skipping line 11349: expected 6375 fields, saw 6376\n",
      "Skipping line 11369: expected 6375 fields, saw 6376\n",
      "\n",
      "  df = pd.read_csv(f'{base_path}/features/combined_features.csv', on_bad_lines='warn')\n",
      "/Users/joel-tay/Desktop/AI-Project--Speech-Emotion-Recognition/data/feature_extraction/preprocess_features.py:15: ParserWarning: Skipping line 11474: expected 6375 fields, saw 6376\n",
      "Skipping line 11496: expected 6375 fields, saw 6376\n",
      "\n",
      "  df = pd.read_csv(f'{base_path}/features/combined_features.csv', on_bad_lines='warn')\n"
     ]
    },
    {
     "name": "stderr",
     "output_type": "stream",
     "text": [
      "/Users/joel-tay/Desktop/AI-Project--Speech-Emotion-Recognition/data/feature_extraction/preprocess_features.py:15: ParserWarning: Skipping line 11706: expected 6375 fields, saw 6376\n",
      "Skipping line 11727: expected 6375 fields, saw 6376\n",
      "Skipping line 11792: expected 6375 fields, saw 6376\n",
      "Skipping line 11814: expected 6375 fields, saw 6376\n",
      "\n",
      "  df = pd.read_csv(f'{base_path}/features/combined_features.csv', on_bad_lines='warn')\n",
      "/Users/joel-tay/Desktop/AI-Project--Speech-Emotion-Recognition/data/feature_extraction/preprocess_features.py:15: ParserWarning: Skipping line 11841: expected 6375 fields, saw 6376\n",
      "Skipping line 11862: expected 6375 fields, saw 6376\n",
      "Skipping line 11878: expected 6375 fields, saw 6376\n",
      "Skipping line 11900: expected 6375 fields, saw 6376\n",
      "Skipping line 11920: expected 6375 fields, saw 6376\n",
      "\n",
      "  df = pd.read_csv(f'{base_path}/features/combined_features.csv', on_bad_lines='warn')\n",
      "/Users/joel-tay/Desktop/AI-Project--Speech-Emotion-Recognition/data/feature_extraction/preprocess_features.py:15: ParserWarning: Skipping line 12010: expected 6375 fields, saw 6376\n",
      "Skipping line 12049: expected 6375 fields, saw 6376\n",
      "\n",
      "  df = pd.read_csv(f'{base_path}/features/combined_features.csv', on_bad_lines='warn')\n"
     ]
    },
    {
     "name": "stderr",
     "output_type": "stream",
     "text": [
      "/Users/joel-tay/Desktop/AI-Project--Speech-Emotion-Recognition/data/feature_extraction/preprocess_features.py:15: ParserWarning: Skipping line 12266: expected 6375 fields, saw 6376\n",
      "Skipping line 12279: expected 6375 fields, saw 6376\n",
      "\n",
      "  df = pd.read_csv(f'{base_path}/features/combined_features.csv', on_bad_lines='warn')\n",
      "/Users/joel-tay/Desktop/AI-Project--Speech-Emotion-Recognition/data/feature_extraction/preprocess_features.py:15: ParserWarning: Skipping line 12373: expected 6375 fields, saw 6376\n",
      "Skipping line 12389: expected 6375 fields, saw 6376\n",
      "\n",
      "  df = pd.read_csv(f'{base_path}/features/combined_features.csv', on_bad_lines='warn')\n",
      "/Users/joel-tay/Desktop/AI-Project--Speech-Emotion-Recognition/data/feature_extraction/preprocess_features.py:15: ParserWarning: Skipping line 12514: expected 6375 fields, saw 6376\n",
      "\n",
      "  df = pd.read_csv(f'{base_path}/features/combined_features.csv', on_bad_lines='warn')\n",
      "/Users/joel-tay/Desktop/AI-Project--Speech-Emotion-Recognition/data/feature_extraction/preprocess_features.py:15: ParserWarning: Skipping line 12622: expected 6375 fields, saw 6376\n",
      "Skipping line 12739: expected 6375 fields, saw 6376\n",
      "\n",
      "  df = pd.read_csv(f'{base_path}/features/combined_features.csv', on_bad_lines='warn')\n"
     ]
    },
    {
     "name": "stderr",
     "output_type": "stream",
     "text": [
      "/Users/joel-tay/Desktop/AI-Project--Speech-Emotion-Recognition/data/feature_extraction/preprocess_features.py:15: ParserWarning: Skipping line 12752: expected 6375 fields, saw 6376\n",
      "Skipping line 12766: expected 6375 fields, saw 6376\n",
      "\n",
      "  df = pd.read_csv(f'{base_path}/features/combined_features.csv', on_bad_lines='warn')\n",
      "/Users/joel-tay/Desktop/AI-Project--Speech-Emotion-Recognition/data/feature_extraction/preprocess_features.py:15: ParserWarning: Skipping line 12990: expected 6375 fields, saw 6376\n",
      "\n",
      "  df = pd.read_csv(f'{base_path}/features/combined_features.csv', on_bad_lines='warn')\n",
      "/Users/joel-tay/Desktop/AI-Project--Speech-Emotion-Recognition/data/feature_extraction/preprocess_features.py:15: ParserWarning: Skipping line 13014: expected 6375 fields, saw 6376\n",
      "Skipping line 13057: expected 6375 fields, saw 6376\n",
      "Skipping line 13121: expected 6375 fields, saw 6376\n",
      "\n",
      "  df = pd.read_csv(f'{base_path}/features/combined_features.csv', on_bad_lines='warn')\n",
      "/Users/joel-tay/Desktop/AI-Project--Speech-Emotion-Recognition/data/feature_extraction/preprocess_features.py:15: ParserWarning: Skipping line 13143: expected 6375 fields, saw 6376\n",
      "Skipping line 13171: expected 6375 fields, saw 6376\n",
      "Skipping line 13184: expected 6375 fields, saw 6376\n",
      "Skipping line 13194: expected 6375 fields, saw 6376\n",
      "Skipping line 13259: expected 6375 fields, saw 6376\n",
      "\n",
      "  df = pd.read_csv(f'{base_path}/features/combined_features.csv', on_bad_lines='warn')\n"
     ]
    },
    {
     "name": "stderr",
     "output_type": "stream",
     "text": [
      "/Users/joel-tay/Desktop/AI-Project--Speech-Emotion-Recognition/data/feature_extraction/preprocess_features.py:15: ParserWarning: Skipping line 13280: expected 6375 fields, saw 6376\n",
      "\n",
      "  df = pd.read_csv(f'{base_path}/features/combined_features.csv', on_bad_lines='warn')\n",
      "/Users/joel-tay/Desktop/AI-Project--Speech-Emotion-Recognition/data/feature_extraction/preprocess_features.py:15: ParserWarning: Skipping line 13536: expected 6375 fields, saw 6376\n",
      "Skipping line 13556: expected 6375 fields, saw 6376\n",
      "Skipping line 13596: expected 6375 fields, saw 6376\n",
      "Skipping line 13622: expected 6375 fields, saw 6376\n",
      "\n",
      "  df = pd.read_csv(f'{base_path}/features/combined_features.csv', on_bad_lines='warn')\n",
      "/Users/joel-tay/Desktop/AI-Project--Speech-Emotion-Recognition/data/feature_extraction/preprocess_features.py:15: ParserWarning: Skipping line 13659: expected 6375 fields, saw 6376\n",
      "Skipping line 13681: expected 6375 fields, saw 6376\n",
      "Skipping line 13758: expected 6375 fields, saw 6376\n",
      "Skipping line 13775: expected 6375 fields, saw 6376\n",
      "\n",
      "  df = pd.read_csv(f'{base_path}/features/combined_features.csv', on_bad_lines='warn')\n"
     ]
    },
    {
     "name": "stderr",
     "output_type": "stream",
     "text": [
      "/Users/joel-tay/Desktop/AI-Project--Speech-Emotion-Recognition/data/feature_extraction/preprocess_features.py:15: ParserWarning: Skipping line 13798: expected 6375 fields, saw 6376\n",
      "Skipping line 13866: expected 6375 fields, saw 6376\n",
      "Skipping line 13871: expected 6375 fields, saw 6376\n",
      "Skipping line 13903: expected 6375 fields, saw 6376\n",
      "\n",
      "  df = pd.read_csv(f'{base_path}/features/combined_features.csv', on_bad_lines='warn')\n",
      "/Users/joel-tay/Desktop/AI-Project--Speech-Emotion-Recognition/data/feature_extraction/preprocess_features.py:15: ParserWarning: Skipping line 13920: expected 6375 fields, saw 6376\n",
      "\n",
      "  df = pd.read_csv(f'{base_path}/features/combined_features.csv', on_bad_lines='warn')\n",
      "/Users/joel-tay/Desktop/AI-Project--Speech-Emotion-Recognition/data/feature_extraction/preprocess_features.py:15: ParserWarning: Skipping line 14049: expected 6375 fields, saw 6376\n",
      "Skipping line 14149: expected 6375 fields, saw 6376\n",
      "\n",
      "  df = pd.read_csv(f'{base_path}/features/combined_features.csv', on_bad_lines='warn')\n",
      "/Users/joel-tay/Desktop/AI-Project--Speech-Emotion-Recognition/data/feature_extraction/preprocess_features.py:15: ParserWarning: Skipping line 14235: expected 6375 fields, saw 6376\n",
      "Skipping line 14247: expected 6375 fields, saw 6376\n",
      "\n",
      "  df = pd.read_csv(f'{base_path}/features/combined_features.csv', on_bad_lines='warn')\n"
     ]
    },
    {
     "name": "stderr",
     "output_type": "stream",
     "text": [
      "/Users/joel-tay/Desktop/AI-Project--Speech-Emotion-Recognition/data/feature_extraction/preprocess_features.py:15: ParserWarning: Skipping line 14350: expected 6375 fields, saw 6376\n",
      "Skipping line 14364: expected 6375 fields, saw 6376\n",
      "Skipping line 14378: expected 6375 fields, saw 6376\n",
      "\n",
      "  df = pd.read_csv(f'{base_path}/features/combined_features.csv', on_bad_lines='warn')\n",
      "/Users/joel-tay/Desktop/AI-Project--Speech-Emotion-Recognition/data/feature_extraction/preprocess_features.py:15: ParserWarning: Skipping line 14593: expected 6375 fields, saw 6376\n",
      "Skipping line 14618: expected 6375 fields, saw 6376\n",
      "\n",
      "  df = pd.read_csv(f'{base_path}/features/combined_features.csv', on_bad_lines='warn')\n",
      "/Users/joel-tay/Desktop/AI-Project--Speech-Emotion-Recognition/data/feature_extraction/preprocess_features.py:15: ParserWarning: Skipping line 14721: expected 6375 fields, saw 6376\n",
      "Skipping line 14740: expected 6375 fields, saw 6376\n",
      "Skipping line 14762: expected 6375 fields, saw 6376\n",
      "\n",
      "  df = pd.read_csv(f'{base_path}/features/combined_features.csv', on_bad_lines='warn')\n"
     ]
    },
    {
     "name": "stderr",
     "output_type": "stream",
     "text": [
      "/Users/joel-tay/Desktop/AI-Project--Speech-Emotion-Recognition/data/feature_extraction/preprocess_features.py:15: ParserWarning: Skipping line 14890: expected 6375 fields, saw 6376\n",
      "Skipping line 14913: expected 6375 fields, saw 6376\n",
      "\n",
      "  df = pd.read_csv(f'{base_path}/features/combined_features.csv', on_bad_lines='warn')\n",
      "/Users/joel-tay/Desktop/AI-Project--Speech-Emotion-Recognition/data/feature_extraction/preprocess_features.py:15: ParserWarning: Skipping line 14974: expected 6375 fields, saw 6376\n",
      "Skipping line 14999: expected 6375 fields, saw 6376\n",
      "Skipping line 15003: expected 6375 fields, saw 6376\n",
      "Skipping line 15024: expected 6375 fields, saw 6376\n",
      "\n",
      "  df = pd.read_csv(f'{base_path}/features/combined_features.csv', on_bad_lines='warn')\n",
      "/Users/joel-tay/Desktop/AI-Project--Speech-Emotion-Recognition/data/feature_extraction/preprocess_features.py:15: ParserWarning: Skipping line 15134: expected 6375 fields, saw 6376\n",
      "Skipping line 15157: expected 6375 fields, saw 6376\n",
      "\n",
      "  df = pd.read_csv(f'{base_path}/features/combined_features.csv', on_bad_lines='warn')\n",
      "/Users/joel-tay/Desktop/AI-Project--Speech-Emotion-Recognition/data/feature_extraction/preprocess_features.py:15: ParserWarning: Skipping line 15334: expected 6375 fields, saw 6376\n",
      "\n",
      "  df = pd.read_csv(f'{base_path}/features/combined_features.csv', on_bad_lines='warn')\n"
     ]
    },
    {
     "name": "stderr",
     "output_type": "stream",
     "text": [
      "/Users/joel-tay/Desktop/AI-Project--Speech-Emotion-Recognition/data/feature_extraction/preprocess_features.py:15: ParserWarning: Skipping line 15356: expected 6375 fields, saw 6376\n",
      "Skipping line 15456: expected 6375 fields, saw 6376\n",
      "\n",
      "  df = pd.read_csv(f'{base_path}/features/combined_features.csv', on_bad_lines='warn')\n"
     ]
    },
    {
     "name": "stdout",
     "output_type": "stream",
     "text": [
      "Features shape: (43566, 6374)\n",
      "Target shape: (43566,)\n"
     ]
    },
    {
     "name": "stdout",
     "output_type": "stream",
     "text": [
      "Input shape before PCA: (43566, 6374)\n"
     ]
    },
    {
     "name": "stdout",
     "output_type": "stream",
     "text": [
      "Selecting 800 features\n"
     ]
    },
    {
     "name": "stdout",
     "output_type": "stream",
     "text": [
      "val\n"
     ]
    },
    {
     "name": "stdout",
     "output_type": "stream",
     "text": [
      "Input shape before PCA: (9337, 6374)\n"
     ]
    },
    {
     "name": "stdout",
     "output_type": "stream",
     "text": [
      "test\n"
     ]
    },
    {
     "name": "stdout",
     "output_type": "stream",
     "text": [
      "Input shape before PCA: (9332, 6374)\n"
     ]
    },
    {
     "name": "stderr",
     "output_type": "stream",
     "text": [
      "You are using the plain ModelCheckpoint callback. Consider using LitModelCheckpoint which with seamless uploading to Model registry.\n"
     ]
    },
    {
     "name": "stderr",
     "output_type": "stream",
     "text": [
      "GPU available: True (mps), used: True\n"
     ]
    },
    {
     "name": "stderr",
     "output_type": "stream",
     "text": [
      "TPU available: False, using: 0 TPU cores\n"
     ]
    },
    {
     "name": "stderr",
     "output_type": "stream",
     "text": [
      "HPU available: False, using: 0 HPUs\n"
     ]
    },
    {
     "name": "stderr",
     "output_type": "stream",
     "text": [
      "/Users/joel-tay/Desktop/AI-Project--Speech-Emotion-Recognition/myenv/lib/python3.10/site-packages/lightning/pytorch/trainer/connectors/logger_connector/logger_connector.py:76: Starting from v1.9.0, `tensorboardX` has been removed as a dependency of the `lightning.pytorch` package, due to potential conflicts with other packages in the ML ecosystem. For this reason, `logger=True` will use `CSVLogger` as the default logger, unless the `tensorboard` or `tensorboardX` packages are found. Please `pip install lightning[extra]` or one of them to enable TensorBoard support by default\n",
      "/Users/joel-tay/Desktop/AI-Project--Speech-Emotion-Recognition/myenv/lib/python3.10/site-packages/lightning/pytorch/trainer/connectors/data_connector.py:425: The 'test_dataloader' does not have many workers which may be a bottleneck. Consider increasing the value of the `num_workers` argument` to `num_workers=9` in the `DataLoader` to improve performance.\n",
      "python(17809) MallocStackLogging: can't turn off malloc stack logging because it was not enabled.\n"
     ]
    },
    {
     "name": "stdout",
     "output_type": "stream",
     "text": [
      "\r",
      "Testing: |                                                                                                                 | 0/? [00:00<?, ?it/s]"
     ]
    },
    {
     "name": "stdout",
     "output_type": "stream",
     "text": [
      "\r",
      "Testing:   0%|                                                                                                           | 0/292 [00:00<?, ?it/s]"
     ]
    },
    {
     "name": "stdout",
     "output_type": "stream",
     "text": [
      "\r",
      "Testing DataLoader 0:   0%|                                                                                              | 0/292 [00:00<?, ?it/s]"
     ]
    },
    {
     "name": "stdout",
     "output_type": "stream",
     "text": [
      "\r",
      "Testing DataLoader 0:   0%|▎                                                                                     | 1/292 [00:00<00:23, 12.18it/s]"
     ]
    },
    {
     "name": "stdout",
     "output_type": "stream",
     "text": [
      "\r",
      "Testing DataLoader 0:   1%|▌                                                                                     | 2/292 [00:00<00:12, 23.33it/s]"
     ]
    },
    {
     "name": "stdout",
     "output_type": "stream",
     "text": [
      "\r",
      "Testing DataLoader 0:   1%|▉                                                                                     | 3/292 [00:00<00:08, 33.77it/s]"
     ]
    },
    {
     "name": "stdout",
     "output_type": "stream",
     "text": [
      "\r",
      "Testing DataLoader 0:   1%|█▏                                                                                    | 4/292 [00:00<00:06, 43.61it/s]"
     ]
    },
    {
     "name": "stdout",
     "output_type": "stream",
     "text": [
      "\r",
      "Testing DataLoader 0:   2%|█▍                                                                                    | 5/292 [00:00<00:05, 53.14it/s]"
     ]
    },
    {
     "name": "stdout",
     "output_type": "stream",
     "text": [
      "\r",
      "Testing DataLoader 0:   2%|█▊                                                                                    | 6/292 [00:00<00:04, 61.99it/s]"
     ]
    },
    {
     "name": "stdout",
     "output_type": "stream",
     "text": [
      "\r",
      "Testing DataLoader 0:   2%|██                                                                                    | 7/292 [00:00<00:04, 70.51it/s]"
     ]
    },
    {
     "name": "stdout",
     "output_type": "stream",
     "text": [
      "\r",
      "Testing DataLoader 0:   3%|██▎                                                                                   | 8/292 [00:00<00:03, 78.33it/s]"
     ]
    },
    {
     "name": "stdout",
     "output_type": "stream",
     "text": [
      "\r",
      "Testing DataLoader 0:   3%|██▋                                                                                   | 9/292 [00:00<00:03, 85.79it/s]"
     ]
    },
    {
     "name": "stdout",
     "output_type": "stream",
     "text": [
      "\r",
      "Testing DataLoader 0:   3%|██▉                                                                                  | 10/292 [00:00<00:03, 93.08it/s]"
     ]
    },
    {
     "name": "stdout",
     "output_type": "stream",
     "text": [
      "\r",
      "Testing DataLoader 0:   4%|███▏                                                                                | 11/292 [00:00<00:02, 100.22it/s]"
     ]
    },
    {
     "name": "stdout",
     "output_type": "stream",
     "text": [
      "\r",
      "Testing DataLoader 0:   4%|███▍                                                                                | 12/292 [00:00<00:02, 107.19it/s]"
     ]
    },
    {
     "name": "stdout",
     "output_type": "stream",
     "text": [
      "\r",
      "Testing DataLoader 0:   4%|███▋                                                                                | 13/292 [00:00<00:02, 113.27it/s]"
     ]
    },
    {
     "name": "stdout",
     "output_type": "stream",
     "text": [
      "\r",
      "Testing DataLoader 0:   5%|████                                                                                | 14/292 [00:00<00:02, 119.14it/s]"
     ]
    },
    {
     "name": "stdout",
     "output_type": "stream",
     "text": [
      "\r",
      "Testing DataLoader 0:   5%|████▎                                                                               | 15/292 [00:00<00:02, 125.42it/s]"
     ]
    },
    {
     "name": "stdout",
     "output_type": "stream",
     "text": [
      "\r",
      "Testing DataLoader 0:   5%|████▌                                                                               | 16/292 [00:00<00:02, 130.80it/s]"
     ]
    },
    {
     "name": "stdout",
     "output_type": "stream",
     "text": [
      "\r",
      "Testing DataLoader 0:   6%|████▉                                                                               | 17/292 [00:00<00:02, 136.44it/s]"
     ]
    },
    {
     "name": "stdout",
     "output_type": "stream",
     "text": [
      "\r",
      "Testing DataLoader 0:   6%|█████▏                                                                              | 18/292 [00:00<00:01, 141.43it/s]"
     ]
    },
    {
     "name": "stdout",
     "output_type": "stream",
     "text": [
      "\r",
      "Testing DataLoader 0:   7%|█████▍                                                                              | 19/292 [00:00<00:01, 146.84it/s]"
     ]
    },
    {
     "name": "stdout",
     "output_type": "stream",
     "text": [
      "\r",
      "Testing DataLoader 0:   7%|█████▊                                                                              | 20/292 [00:00<00:01, 151.94it/s]"
     ]
    },
    {
     "name": "stdout",
     "output_type": "stream",
     "text": [
      "\r",
      "Testing DataLoader 0:   7%|██████                                                                              | 21/292 [00:00<00:01, 156.39it/s]"
     ]
    },
    {
     "name": "stdout",
     "output_type": "stream",
     "text": [
      "\r",
      "Testing DataLoader 0:   8%|██████▎                                                                             | 22/292 [00:00<00:01, 160.11it/s]"
     ]
    },
    {
     "name": "stdout",
     "output_type": "stream",
     "text": [
      "\r",
      "Testing DataLoader 0:   8%|██████▌                                                                             | 23/292 [00:00<00:01, 163.82it/s]"
     ]
    },
    {
     "name": "stdout",
     "output_type": "stream",
     "text": [
      "\r",
      "Testing DataLoader 0:   8%|██████▉                                                                             | 24/292 [00:00<00:01, 167.85it/s]"
     ]
    },
    {
     "name": "stdout",
     "output_type": "stream",
     "text": [
      "\r",
      "Testing DataLoader 0:   9%|███████▏                                                                            | 25/292 [00:00<00:01, 171.11it/s]"
     ]
    },
    {
     "name": "stdout",
     "output_type": "stream",
     "text": [
      "\r",
      "Testing DataLoader 0:   9%|███████▍                                                                            | 26/292 [00:00<00:01, 174.72it/s]"
     ]
    },
    {
     "name": "stdout",
     "output_type": "stream",
     "text": [
      "\r",
      "Testing DataLoader 0:   9%|███████▊                                                                            | 27/292 [00:00<00:01, 178.38it/s]"
     ]
    },
    {
     "name": "stdout",
     "output_type": "stream",
     "text": [
      "\r",
      "Testing DataLoader 0:  10%|████████                                                                            | 28/292 [00:00<00:01, 181.81it/s]"
     ]
    },
    {
     "name": "stdout",
     "output_type": "stream",
     "text": [
      "\r",
      "Testing DataLoader 0:  10%|████████▎                                                                           | 29/292 [00:00<00:01, 184.22it/s]"
     ]
    },
    {
     "name": "stdout",
     "output_type": "stream",
     "text": [
      "\r",
      "Testing DataLoader 0:  10%|████████▋                                                                           | 30/292 [00:00<00:01, 186.33it/s]"
     ]
    },
    {
     "name": "stdout",
     "output_type": "stream",
     "text": [
      "\r",
      "Testing DataLoader 0:  11%|████████▉                                                                           | 31/292 [00:00<00:01, 189.93it/s]"
     ]
    },
    {
     "name": "stdout",
     "output_type": "stream",
     "text": [
      "\r",
      "Testing DataLoader 0:  11%|█████████▏                                                                          | 32/292 [00:00<00:01, 193.24it/s]"
     ]
    },
    {
     "name": "stdout",
     "output_type": "stream",
     "text": [
      "\r",
      "Testing DataLoader 0:  11%|█████████▍                                                                          | 33/292 [00:00<00:01, 196.62it/s]"
     ]
    },
    {
     "name": "stdout",
     "output_type": "stream",
     "text": [
      "\r",
      "Testing DataLoader 0:  12%|█████████▊                                                                          | 34/292 [00:00<00:01, 199.00it/s]"
     ]
    },
    {
     "name": "stdout",
     "output_type": "stream",
     "text": [
      "\r",
      "Testing DataLoader 0:  12%|██████████                                                                          | 35/292 [00:00<00:01, 201.50it/s]"
     ]
    },
    {
     "name": "stdout",
     "output_type": "stream",
     "text": [
      "\r",
      "Testing DataLoader 0:  12%|██████████▎                                                                         | 36/292 [00:00<00:01, 204.58it/s]"
     ]
    },
    {
     "name": "stdout",
     "output_type": "stream",
     "text": [
      "\r",
      "Testing DataLoader 0:  13%|██████████▋                                                                         | 37/292 [00:00<00:01, 207.63it/s]"
     ]
    },
    {
     "name": "stdout",
     "output_type": "stream",
     "text": [
      "\r",
      "Testing DataLoader 0:  13%|██████████▉                                                                         | 38/292 [00:00<00:01, 210.41it/s]"
     ]
    },
    {
     "name": "stdout",
     "output_type": "stream",
     "text": [
      "\r",
      "Testing DataLoader 0:  13%|███████████▏                                                                        | 39/292 [00:00<00:01, 213.22it/s]"
     ]
    },
    {
     "name": "stdout",
     "output_type": "stream",
     "text": [
      "\r",
      "Testing DataLoader 0:  14%|███████████▌                                                                        | 40/292 [00:00<00:01, 215.99it/s]"
     ]
    },
    {
     "name": "stdout",
     "output_type": "stream",
     "text": [
      "\r",
      "Testing DataLoader 0:  14%|███████████▊                                                                        | 41/292 [00:00<00:01, 217.72it/s]"
     ]
    },
    {
     "name": "stdout",
     "output_type": "stream",
     "text": [
      "\r",
      "Testing DataLoader 0:  14%|████████████                                                                        | 42/292 [00:00<00:01, 220.37it/s]"
     ]
    },
    {
     "name": "stdout",
     "output_type": "stream",
     "text": [
      "\r",
      "Testing DataLoader 0:  15%|████████████▎                                                                       | 43/292 [00:00<00:01, 221.92it/s]"
     ]
    },
    {
     "name": "stdout",
     "output_type": "stream",
     "text": [
      "\r",
      "Testing DataLoader 0:  15%|████████████▋                                                                       | 44/292 [00:00<00:01, 223.42it/s]"
     ]
    },
    {
     "name": "stdout",
     "output_type": "stream",
     "text": [
      "\r",
      "Testing DataLoader 0:  15%|████████████▉                                                                       | 45/292 [00:00<00:01, 225.41it/s]"
     ]
    },
    {
     "name": "stdout",
     "output_type": "stream",
     "text": [
      "\r",
      "Testing DataLoader 0:  16%|█████████████▏                                                                      | 46/292 [00:00<00:01, 227.89it/s]"
     ]
    },
    {
     "name": "stdout",
     "output_type": "stream",
     "text": [
      "\r",
      "Testing DataLoader 0:  16%|█████████████▌                                                                      | 47/292 [00:00<00:01, 229.40it/s]"
     ]
    },
    {
     "name": "stdout",
     "output_type": "stream",
     "text": [
      "\r",
      "Testing DataLoader 0:  16%|█████████████▊                                                                      | 48/292 [00:00<00:01, 230.83it/s]"
     ]
    },
    {
     "name": "stdout",
     "output_type": "stream",
     "text": [
      "\r",
      "Testing DataLoader 0:  17%|██████████████                                                                      | 49/292 [00:00<00:01, 233.08it/s]"
     ]
    },
    {
     "name": "stdout",
     "output_type": "stream",
     "text": [
      "\r",
      "Testing DataLoader 0:  17%|██████████████▍                                                                     | 50/292 [00:00<00:01, 234.77it/s]"
     ]
    },
    {
     "name": "stdout",
     "output_type": "stream",
     "text": [
      "\r",
      "Testing DataLoader 0:  17%|██████████████▋                                                                     | 51/292 [00:00<00:01, 236.17it/s]"
     ]
    },
    {
     "name": "stdout",
     "output_type": "stream",
     "text": [
      "\r",
      "Testing DataLoader 0:  18%|██████████████▉                                                                     | 52/292 [00:00<00:01, 237.75it/s]"
     ]
    },
    {
     "name": "stdout",
     "output_type": "stream",
     "text": [
      "\r",
      "Testing DataLoader 0:  18%|███████████████▏                                                                    | 53/292 [00:00<00:00, 239.31it/s]"
     ]
    },
    {
     "name": "stdout",
     "output_type": "stream",
     "text": [
      "\r",
      "Testing DataLoader 0:  18%|███████████████▌                                                                    | 54/292 [00:00<00:00, 241.24it/s]"
     ]
    },
    {
     "name": "stdout",
     "output_type": "stream",
     "text": [
      "\r",
      "Testing DataLoader 0:  19%|███████████████▊                                                                    | 55/292 [00:00<00:00, 241.44it/s]"
     ]
    },
    {
     "name": "stdout",
     "output_type": "stream",
     "text": [
      "\r",
      "Testing DataLoader 0:  19%|████████████████                                                                    | 56/292 [00:00<00:00, 243.28it/s]"
     ]
    },
    {
     "name": "stdout",
     "output_type": "stream",
     "text": [
      "\r",
      "Testing DataLoader 0:  20%|████████████████▍                                                                   | 57/292 [00:00<00:00, 245.22it/s]"
     ]
    },
    {
     "name": "stdout",
     "output_type": "stream",
     "text": [
      "\r",
      "Testing DataLoader 0:  20%|████████████████▋                                                                   | 58/292 [00:00<00:00, 246.57it/s]"
     ]
    },
    {
     "name": "stdout",
     "output_type": "stream",
     "text": [
      "\r",
      "Testing DataLoader 0:  20%|████████████████▉                                                                   | 59/292 [00:00<00:00, 248.36it/s]"
     ]
    },
    {
     "name": "stdout",
     "output_type": "stream",
     "text": [
      "\r",
      "Testing DataLoader 0:  21%|█████████████████▎                                                                  | 60/292 [00:00<00:00, 250.09it/s]"
     ]
    },
    {
     "name": "stdout",
     "output_type": "stream",
     "text": [
      "\r",
      "Testing DataLoader 0:  21%|█████████████████▌                                                                  | 61/292 [00:00<00:00, 250.87it/s]"
     ]
    },
    {
     "name": "stdout",
     "output_type": "stream",
     "text": [
      "\r",
      "Testing DataLoader 0:  21%|█████████████████▊                                                                  | 62/292 [00:00<00:00, 252.64it/s]"
     ]
    },
    {
     "name": "stdout",
     "output_type": "stream",
     "text": [
      "\r",
      "Testing DataLoader 0:  22%|██████████████████                                                                  | 63/292 [00:00<00:00, 253.88it/s]"
     ]
    },
    {
     "name": "stdout",
     "output_type": "stream",
     "text": [
      "\r",
      "Testing DataLoader 0:  22%|██████████████████▍                                                                 | 64/292 [00:00<00:00, 255.54it/s]"
     ]
    },
    {
     "name": "stdout",
     "output_type": "stream",
     "text": [
      "\r",
      "Testing DataLoader 0:  22%|██████████████████▋                                                                 | 65/292 [00:00<00:00, 256.50it/s]"
     ]
    },
    {
     "name": "stdout",
     "output_type": "stream",
     "text": [
      "\r",
      "Testing DataLoader 0:  23%|██████████████████▉                                                                 | 66/292 [00:00<00:00, 257.61it/s]"
     ]
    },
    {
     "name": "stdout",
     "output_type": "stream",
     "text": [
      "\r",
      "Testing DataLoader 0:  23%|███████████████████▎                                                                | 67/292 [00:00<00:00, 258.74it/s]"
     ]
    },
    {
     "name": "stdout",
     "output_type": "stream",
     "text": [
      "\r",
      "Testing DataLoader 0:  23%|███████████████████▌                                                                | 68/292 [00:00<00:00, 260.33it/s]"
     ]
    },
    {
     "name": "stdout",
     "output_type": "stream",
     "text": [
      "\r",
      "Testing DataLoader 0:  24%|███████████████████▊                                                                | 69/292 [00:00<00:00, 260.96it/s]"
     ]
    },
    {
     "name": "stdout",
     "output_type": "stream",
     "text": [
      "\r",
      "Testing DataLoader 0:  24%|████████████████████▏                                                               | 70/292 [00:00<00:00, 262.13it/s]"
     ]
    },
    {
     "name": "stdout",
     "output_type": "stream",
     "text": [
      "\r",
      "Testing DataLoader 0:  24%|████████████████████▍                                                               | 71/292 [00:00<00:00, 263.23it/s]"
     ]
    },
    {
     "name": "stdout",
     "output_type": "stream",
     "text": [
      "\r",
      "Testing DataLoader 0:  25%|████████████████████▋                                                               | 72/292 [00:00<00:00, 264.13it/s]"
     ]
    },
    {
     "name": "stdout",
     "output_type": "stream",
     "text": [
      "\r",
      "Testing DataLoader 0:  25%|█████████████████████                                                               | 73/292 [00:00<00:00, 265.13it/s]"
     ]
    },
    {
     "name": "stdout",
     "output_type": "stream",
     "text": [
      "\r",
      "Testing DataLoader 0:  25%|█████████████████████▎                                                              | 74/292 [00:00<00:00, 266.50it/s]"
     ]
    },
    {
     "name": "stdout",
     "output_type": "stream",
     "text": [
      "\r",
      "Testing DataLoader 0:  26%|█████████████████████▌                                                              | 75/292 [00:00<00:00, 267.42it/s]"
     ]
    },
    {
     "name": "stdout",
     "output_type": "stream",
     "text": [
      "\r",
      "Testing DataLoader 0:  26%|█████████████████████▊                                                              | 76/292 [00:00<00:00, 268.83it/s]"
     ]
    },
    {
     "name": "stdout",
     "output_type": "stream",
     "text": [
      "\r",
      "Testing DataLoader 0:  26%|██████████████████████▏                                                             | 77/292 [00:00<00:00, 269.47it/s]"
     ]
    },
    {
     "name": "stdout",
     "output_type": "stream",
     "text": [
      "\r",
      "Testing DataLoader 0:  27%|██████████████████████▍                                                             | 78/292 [00:00<00:00, 270.92it/s]"
     ]
    },
    {
     "name": "stdout",
     "output_type": "stream",
     "text": [
      "\r",
      "Testing DataLoader 0:  27%|██████████████████████▋                                                             | 79/292 [00:00<00:00, 271.73it/s]"
     ]
    },
    {
     "name": "stdout",
     "output_type": "stream",
     "text": [
      "\r",
      "Testing DataLoader 0:  27%|███████████████████████                                                             | 80/292 [00:00<00:00, 272.96it/s]"
     ]
    },
    {
     "name": "stdout",
     "output_type": "stream",
     "text": [
      "\r",
      "Testing DataLoader 0:  28%|███████████████████████▎                                                            | 81/292 [00:00<00:00, 274.15it/s]"
     ]
    },
    {
     "name": "stdout",
     "output_type": "stream",
     "text": [
      "\r",
      "Testing DataLoader 0:  28%|███████████████████████▌                                                            | 82/292 [00:00<00:00, 275.06it/s]"
     ]
    },
    {
     "name": "stdout",
     "output_type": "stream",
     "text": [
      "\r",
      "Testing DataLoader 0:  28%|███████████████████████▉                                                            | 83/292 [00:00<00:00, 276.29it/s]"
     ]
    },
    {
     "name": "stdout",
     "output_type": "stream",
     "text": [
      "\r",
      "Testing DataLoader 0:  29%|████████████████████████▏                                                           | 84/292 [00:00<00:00, 277.46it/s]"
     ]
    },
    {
     "name": "stdout",
     "output_type": "stream",
     "text": [
      "\r",
      "Testing DataLoader 0:  29%|████████████████████████▍                                                           | 85/292 [00:00<00:00, 278.30it/s]"
     ]
    },
    {
     "name": "stdout",
     "output_type": "stream",
     "text": [
      "\r",
      "Testing DataLoader 0:  29%|████████████████████████▋                                                           | 86/292 [00:00<00:00, 279.45it/s]"
     ]
    },
    {
     "name": "stdout",
     "output_type": "stream",
     "text": [
      "\r",
      "Testing DataLoader 0:  30%|█████████████████████████                                                           | 87/292 [00:00<00:00, 280.71it/s]"
     ]
    },
    {
     "name": "stdout",
     "output_type": "stream",
     "text": [
      "\r",
      "Testing DataLoader 0:  30%|█████████████████████████▎                                                          | 88/292 [00:00<00:00, 281.74it/s]"
     ]
    },
    {
     "name": "stdout",
     "output_type": "stream",
     "text": [
      "\r",
      "Testing DataLoader 0:  30%|█████████████████████████▌                                                          | 89/292 [00:00<00:00, 282.50it/s]"
     ]
    },
    {
     "name": "stdout",
     "output_type": "stream",
     "text": [
      "\r",
      "Testing DataLoader 0:  31%|█████████████████████████▉                                                          | 90/292 [00:00<00:00, 283.72it/s]"
     ]
    },
    {
     "name": "stdout",
     "output_type": "stream",
     "text": [
      "\r",
      "Testing DataLoader 0:  31%|██████████████████████████▏                                                         | 91/292 [00:00<00:00, 284.33it/s]"
     ]
    },
    {
     "name": "stdout",
     "output_type": "stream",
     "text": [
      "\r",
      "Testing DataLoader 0:  32%|██████████████████████████▍                                                         | 92/292 [00:00<00:00, 284.95it/s]"
     ]
    },
    {
     "name": "stdout",
     "output_type": "stream",
     "text": [
      "\r",
      "Testing DataLoader 0:  32%|██████████████████████████▊                                                         | 93/292 [00:00<00:00, 285.94it/s]"
     ]
    },
    {
     "name": "stdout",
     "output_type": "stream",
     "text": [
      "\r",
      "Testing DataLoader 0:  32%|███████████████████████████                                                         | 94/292 [00:00<00:00, 287.00it/s]"
     ]
    },
    {
     "name": "stdout",
     "output_type": "stream",
     "text": [
      "\r",
      "Testing DataLoader 0:  33%|███████████████████████████▎                                                        | 95/292 [00:00<00:00, 288.17it/s]"
     ]
    },
    {
     "name": "stdout",
     "output_type": "stream",
     "text": [
      "\r",
      "Testing DataLoader 0:  33%|███████████████████████████▌                                                        | 96/292 [00:00<00:00, 289.20it/s]"
     ]
    },
    {
     "name": "stdout",
     "output_type": "stream",
     "text": [
      "\r",
      "Testing DataLoader 0:  33%|███████████████████████████▉                                                        | 97/292 [00:00<00:00, 290.13it/s]"
     ]
    },
    {
     "name": "stdout",
     "output_type": "stream",
     "text": [
      "\r",
      "Testing DataLoader 0:  34%|████████████████████████████▏                                                       | 98/292 [00:00<00:00, 290.84it/s]"
     ]
    },
    {
     "name": "stdout",
     "output_type": "stream",
     "text": [
      "\r",
      "Testing DataLoader 0:  34%|████████████████████████████▍                                                       | 99/292 [00:00<00:00, 291.46it/s]"
     ]
    },
    {
     "name": "stdout",
     "output_type": "stream",
     "text": [
      "\r",
      "Testing DataLoader 0:  34%|████████████████████████████▍                                                      | 100/292 [00:00<00:00, 292.27it/s]"
     ]
    },
    {
     "name": "stdout",
     "output_type": "stream",
     "text": [
      "\r",
      "Testing DataLoader 0:  35%|████████████████████████████▋                                                      | 101/292 [00:00<00:00, 292.65it/s]"
     ]
    },
    {
     "name": "stdout",
     "output_type": "stream",
     "text": [
      "\r",
      "Testing DataLoader 0:  35%|████████████████████████████▉                                                      | 102/292 [00:00<00:00, 293.27it/s]"
     ]
    },
    {
     "name": "stdout",
     "output_type": "stream",
     "text": [
      "\r",
      "Testing DataLoader 0:  35%|█████████████████████████████▎                                                     | 103/292 [00:00<00:00, 294.29it/s]"
     ]
    },
    {
     "name": "stdout",
     "output_type": "stream",
     "text": [
      "\r",
      "Testing DataLoader 0:  36%|█████████████████████████████▌                                                     | 104/292 [00:00<00:00, 295.33it/s]"
     ]
    },
    {
     "name": "stdout",
     "output_type": "stream",
     "text": [
      "\r",
      "Testing DataLoader 0:  36%|█████████████████████████████▊                                                     | 105/292 [00:00<00:00, 296.40it/s]"
     ]
    },
    {
     "name": "stdout",
     "output_type": "stream",
     "text": [
      "\r",
      "Testing DataLoader 0:  36%|██████████████████████████████▏                                                    | 106/292 [00:00<00:00, 297.39it/s]"
     ]
    },
    {
     "name": "stdout",
     "output_type": "stream",
     "text": [
      "\r",
      "Testing DataLoader 0:  37%|██████████████████████████████▍                                                    | 107/292 [00:00<00:00, 298.33it/s]"
     ]
    },
    {
     "name": "stdout",
     "output_type": "stream",
     "text": [
      "\r",
      "Testing DataLoader 0:  37%|██████████████████████████████▋                                                    | 108/292 [00:00<00:00, 299.23it/s]"
     ]
    },
    {
     "name": "stdout",
     "output_type": "stream",
     "text": [
      "\r",
      "Testing DataLoader 0:  37%|██████████████████████████████▉                                                    | 109/292 [00:00<00:00, 300.27it/s]"
     ]
    },
    {
     "name": "stdout",
     "output_type": "stream",
     "text": [
      "\r",
      "Testing DataLoader 0:  38%|███████████████████████████████▎                                                   | 110/292 [00:00<00:00, 301.21it/s]"
     ]
    },
    {
     "name": "stdout",
     "output_type": "stream",
     "text": [
      "\r",
      "Testing DataLoader 0:  38%|███████████████████████████████▌                                                   | 111/292 [00:00<00:00, 301.99it/s]"
     ]
    },
    {
     "name": "stdout",
     "output_type": "stream",
     "text": [
      "\r",
      "Testing DataLoader 0:  38%|███████████████████████████████▊                                                   | 112/292 [00:00<00:00, 302.94it/s]"
     ]
    },
    {
     "name": "stdout",
     "output_type": "stream",
     "text": [
      "\r",
      "Testing DataLoader 0:  39%|████████████████████████████████                                                   | 113/292 [00:00<00:00, 303.62it/s]"
     ]
    },
    {
     "name": "stdout",
     "output_type": "stream",
     "text": [
      "\r",
      "Testing DataLoader 0:  39%|████████████████████████████████▍                                                  | 114/292 [00:00<00:00, 304.45it/s]"
     ]
    },
    {
     "name": "stdout",
     "output_type": "stream",
     "text": [
      "\r",
      "Testing DataLoader 0:  39%|████████████████████████████████▋                                                  | 115/292 [00:00<00:00, 305.41it/s]"
     ]
    },
    {
     "name": "stdout",
     "output_type": "stream",
     "text": [
      "\r",
      "Testing DataLoader 0:  40%|████████████████████████████████▉                                                  | 116/292 [00:00<00:00, 306.28it/s]"
     ]
    },
    {
     "name": "stdout",
     "output_type": "stream",
     "text": [
      "\r",
      "Testing DataLoader 0:  40%|█████████████████████████████████▎                                                 | 117/292 [00:00<00:00, 307.28it/s]"
     ]
    },
    {
     "name": "stdout",
     "output_type": "stream",
     "text": [
      "\r",
      "Testing DataLoader 0:  40%|█████████████████████████████████▌                                                 | 118/292 [00:00<00:00, 308.16it/s]"
     ]
    },
    {
     "name": "stdout",
     "output_type": "stream",
     "text": [
      "\r",
      "Testing DataLoader 0:  41%|█████████████████████████████████▊                                                 | 119/292 [00:00<00:00, 309.01it/s]"
     ]
    },
    {
     "name": "stdout",
     "output_type": "stream",
     "text": [
      "\r",
      "Testing DataLoader 0:  41%|██████████████████████████████████                                                 | 120/292 [00:00<00:00, 309.82it/s]"
     ]
    },
    {
     "name": "stdout",
     "output_type": "stream",
     "text": [
      "\r",
      "Testing DataLoader 0:  41%|██████████████████████████████████▍                                                | 121/292 [00:00<00:00, 310.60it/s]"
     ]
    },
    {
     "name": "stdout",
     "output_type": "stream",
     "text": [
      "\r",
      "Testing DataLoader 0:  42%|██████████████████████████████████▋                                                | 122/292 [00:00<00:00, 311.24it/s]"
     ]
    },
    {
     "name": "stdout",
     "output_type": "stream",
     "text": [
      "\r",
      "Testing DataLoader 0:  42%|██████████████████████████████████▉                                                | 123/292 [00:00<00:00, 311.56it/s]"
     ]
    },
    {
     "name": "stdout",
     "output_type": "stream",
     "text": [
      "\r",
      "Testing DataLoader 0:  42%|███████████████████████████████████▏                                               | 124/292 [00:00<00:00, 312.07it/s]"
     ]
    },
    {
     "name": "stdout",
     "output_type": "stream",
     "text": [
      "\r",
      "Testing DataLoader 0:  43%|███████████████████████████████████▌                                               | 125/292 [00:00<00:00, 312.90it/s]"
     ]
    },
    {
     "name": "stdout",
     "output_type": "stream",
     "text": [
      "\r",
      "Testing DataLoader 0:  43%|███████████████████████████████████▊                                               | 126/292 [00:00<00:00, 313.66it/s]"
     ]
    },
    {
     "name": "stdout",
     "output_type": "stream",
     "text": [
      "\r",
      "Testing DataLoader 0:  43%|████████████████████████████████████                                               | 127/292 [00:00<00:00, 314.44it/s]"
     ]
    },
    {
     "name": "stdout",
     "output_type": "stream",
     "text": [
      "\r",
      "Testing DataLoader 0:  44%|████████████████████████████████████▍                                              | 128/292 [00:00<00:00, 315.19it/s]"
     ]
    },
    {
     "name": "stdout",
     "output_type": "stream",
     "text": [
      "\r",
      "Testing DataLoader 0:  44%|████████████████████████████████████▋                                              | 129/292 [00:00<00:00, 315.96it/s]"
     ]
    },
    {
     "name": "stdout",
     "output_type": "stream",
     "text": [
      "\r",
      "Testing DataLoader 0:  45%|████████████████████████████████████▉                                              | 130/292 [00:00<00:00, 316.45it/s]"
     ]
    },
    {
     "name": "stdout",
     "output_type": "stream",
     "text": [
      "\r",
      "Testing DataLoader 0:  45%|█████████████████████████████████████▏                                             | 131/292 [00:00<00:00, 316.57it/s]"
     ]
    },
    {
     "name": "stdout",
     "output_type": "stream",
     "text": [
      "\r",
      "Testing DataLoader 0:  45%|█████████████████████████████████████▌                                             | 132/292 [00:00<00:00, 317.38it/s]"
     ]
    },
    {
     "name": "stdout",
     "output_type": "stream",
     "text": [
      "\r",
      "Testing DataLoader 0:  46%|█████████████████████████████████████▊                                             | 133/292 [00:00<00:00, 318.17it/s]"
     ]
    },
    {
     "name": "stdout",
     "output_type": "stream",
     "text": [
      "\r",
      "Testing DataLoader 0:  46%|██████████████████████████████████████                                             | 134/292 [00:00<00:00, 318.94it/s]"
     ]
    },
    {
     "name": "stdout",
     "output_type": "stream",
     "text": [
      "\r",
      "Testing DataLoader 0:  46%|██████████████████████████████████████▎                                            | 135/292 [00:00<00:00, 319.68it/s]"
     ]
    },
    {
     "name": "stdout",
     "output_type": "stream",
     "text": [
      "\r",
      "Testing DataLoader 0:  47%|██████████████████████████████████████▋                                            | 136/292 [00:00<00:00, 320.43it/s]"
     ]
    },
    {
     "name": "stdout",
     "output_type": "stream",
     "text": [
      "\r",
      "Testing DataLoader 0:  47%|██████████████████████████████████████▉                                            | 137/292 [00:00<00:00, 321.14it/s]"
     ]
    },
    {
     "name": "stdout",
     "output_type": "stream",
     "text": [
      "\r",
      "Testing DataLoader 0:  47%|███████████████████████████████████████▏                                           | 138/292 [00:00<00:00, 321.82it/s]"
     ]
    },
    {
     "name": "stdout",
     "output_type": "stream",
     "text": [
      "\r",
      "Testing DataLoader 0:  48%|███████████████████████████████████████▌                                           | 139/292 [00:00<00:00, 322.04it/s]"
     ]
    },
    {
     "name": "stdout",
     "output_type": "stream",
     "text": [
      "\r",
      "Testing DataLoader 0:  48%|███████████████████████████████████████▊                                           | 140/292 [00:00<00:00, 322.71it/s]"
     ]
    },
    {
     "name": "stdout",
     "output_type": "stream",
     "text": [
      "\r",
      "Testing DataLoader 0:  48%|████████████████████████████████████████                                           | 141/292 [00:00<00:00, 323.43it/s]"
     ]
    },
    {
     "name": "stdout",
     "output_type": "stream",
     "text": [
      "\r",
      "Testing DataLoader 0:  49%|████████████████████████████████████████▎                                          | 142/292 [00:00<00:00, 323.97it/s]"
     ]
    },
    {
     "name": "stdout",
     "output_type": "stream",
     "text": [
      "\r",
      "Testing DataLoader 0:  49%|████████████████████████████████████████▋                                          | 143/292 [00:00<00:00, 324.68it/s]"
     ]
    },
    {
     "name": "stdout",
     "output_type": "stream",
     "text": [
      "\r",
      "Testing DataLoader 0:  49%|████████████████████████████████████████▉                                          | 144/292 [00:00<00:00, 325.11it/s]"
     ]
    },
    {
     "name": "stdout",
     "output_type": "stream",
     "text": [
      "\r",
      "Testing DataLoader 0:  50%|█████████████████████████████████████████▏                                         | 145/292 [00:00<00:00, 325.76it/s]"
     ]
    },
    {
     "name": "stdout",
     "output_type": "stream",
     "text": [
      "\r",
      "Testing DataLoader 0:  50%|█████████████████████████████████████████▌                                         | 146/292 [00:00<00:00, 326.32it/s]"
     ]
    },
    {
     "name": "stdout",
     "output_type": "stream",
     "text": [
      "\r",
      "Testing DataLoader 0:  50%|█████████████████████████████████████████▊                                         | 147/292 [00:00<00:00, 327.04it/s]"
     ]
    },
    {
     "name": "stdout",
     "output_type": "stream",
     "text": [
      "\r",
      "Testing DataLoader 0:  51%|██████████████████████████████████████████                                         | 148/292 [00:00<00:00, 327.70it/s]"
     ]
    },
    {
     "name": "stdout",
     "output_type": "stream",
     "text": [
      "\r",
      "Testing DataLoader 0:  51%|██████████████████████████████████████████▎                                        | 149/292 [00:00<00:00, 328.27it/s]"
     ]
    },
    {
     "name": "stdout",
     "output_type": "stream",
     "text": [
      "\r",
      "Testing DataLoader 0:  51%|██████████████████████████████████████████▋                                        | 150/292 [00:00<00:00, 328.90it/s]"
     ]
    },
    {
     "name": "stdout",
     "output_type": "stream",
     "text": [
      "\r",
      "Testing DataLoader 0:  52%|██████████████████████████████████████████▉                                        | 151/292 [00:00<00:00, 329.59it/s]"
     ]
    },
    {
     "name": "stdout",
     "output_type": "stream",
     "text": [
      "\r",
      "Testing DataLoader 0:  52%|███████████████████████████████████████████▏                                       | 152/292 [00:00<00:00, 330.19it/s]"
     ]
    },
    {
     "name": "stdout",
     "output_type": "stream",
     "text": [
      "\r",
      "Testing DataLoader 0:  52%|███████████████████████████████████████████▍                                       | 153/292 [00:00<00:00, 330.90it/s]"
     ]
    },
    {
     "name": "stdout",
     "output_type": "stream",
     "text": [
      "\r",
      "Testing DataLoader 0:  53%|███████████████████████████████████████████▊                                       | 154/292 [00:00<00:00, 331.34it/s]"
     ]
    },
    {
     "name": "stdout",
     "output_type": "stream",
     "text": [
      "\r",
      "Testing DataLoader 0:  53%|████████████████████████████████████████████                                       | 155/292 [00:00<00:00, 332.00it/s]"
     ]
    },
    {
     "name": "stdout",
     "output_type": "stream",
     "text": [
      "\r",
      "Testing DataLoader 0:  53%|████████████████████████████████████████████▎                                      | 156/292 [00:00<00:00, 332.59it/s]"
     ]
    },
    {
     "name": "stdout",
     "output_type": "stream",
     "text": [
      "\r",
      "Testing DataLoader 0:  54%|████████████████████████████████████████████▋                                      | 157/292 [00:00<00:00, 333.07it/s]"
     ]
    },
    {
     "name": "stdout",
     "output_type": "stream",
     "text": [
      "\r",
      "Testing DataLoader 0:  54%|████████████████████████████████████████████▉                                      | 158/292 [00:00<00:00, 333.65it/s]"
     ]
    },
    {
     "name": "stdout",
     "output_type": "stream",
     "text": [
      "\r",
      "Testing DataLoader 0:  54%|█████████████████████████████████████████████▏                                     | 159/292 [00:00<00:00, 333.30it/s]"
     ]
    },
    {
     "name": "stdout",
     "output_type": "stream",
     "text": [
      "\r",
      "Testing DataLoader 0:  55%|█████████████████████████████████████████████▍                                     | 160/292 [00:00<00:00, 333.54it/s]"
     ]
    },
    {
     "name": "stdout",
     "output_type": "stream",
     "text": [
      "\r",
      "Testing DataLoader 0:  55%|█████████████████████████████████████████████▊                                     | 161/292 [00:00<00:00, 334.17it/s]"
     ]
    },
    {
     "name": "stdout",
     "output_type": "stream",
     "text": [
      "\r",
      "Testing DataLoader 0:  55%|██████████████████████████████████████████████                                     | 162/292 [00:00<00:00, 334.61it/s]"
     ]
    },
    {
     "name": "stdout",
     "output_type": "stream",
     "text": [
      "\r",
      "Testing DataLoader 0:  56%|██████████████████████████████████████████████▎                                    | 163/292 [00:00<00:00, 335.25it/s]"
     ]
    },
    {
     "name": "stdout",
     "output_type": "stream",
     "text": [
      "\r",
      "Testing DataLoader 0:  56%|██████████████████████████████████████████████▌                                    | 164/292 [00:00<00:00, 335.83it/s]"
     ]
    },
    {
     "name": "stdout",
     "output_type": "stream",
     "text": [
      "\r",
      "Testing DataLoader 0:  57%|██████████████████████████████████████████████▉                                    | 165/292 [00:00<00:00, 336.38it/s]"
     ]
    },
    {
     "name": "stdout",
     "output_type": "stream",
     "text": [
      "\r",
      "Testing DataLoader 0:  57%|███████████████████████████████████████████████▏                                   | 166/292 [00:00<00:00, 336.73it/s]"
     ]
    },
    {
     "name": "stdout",
     "output_type": "stream",
     "text": [
      "\r",
      "Testing DataLoader 0:  57%|███████████████████████████████████████████████▍                                   | 167/292 [00:00<00:00, 337.28it/s]"
     ]
    },
    {
     "name": "stdout",
     "output_type": "stream",
     "text": [
      "\r",
      "Testing DataLoader 0:  58%|███████████████████████████████████████████████▊                                   | 168/292 [00:00<00:00, 337.79it/s]"
     ]
    },
    {
     "name": "stdout",
     "output_type": "stream",
     "text": [
      "\r",
      "Testing DataLoader 0:  58%|████████████████████████████████████████████████                                   | 169/292 [00:00<00:00, 338.30it/s]"
     ]
    },
    {
     "name": "stdout",
     "output_type": "stream",
     "text": [
      "\r",
      "Testing DataLoader 0:  58%|████████████████████████████████████████████████▎                                  | 170/292 [00:00<00:00, 338.85it/s]"
     ]
    },
    {
     "name": "stdout",
     "output_type": "stream",
     "text": [
      "\r",
      "Testing DataLoader 0:  59%|████████████████████████████████████████████████▌                                  | 171/292 [00:00<00:00, 339.44it/s]"
     ]
    },
    {
     "name": "stdout",
     "output_type": "stream",
     "text": [
      "\r",
      "Testing DataLoader 0:  59%|████████████████████████████████████████████████▉                                  | 172/292 [00:00<00:00, 339.99it/s]"
     ]
    },
    {
     "name": "stdout",
     "output_type": "stream",
     "text": [
      "\r",
      "Testing DataLoader 0:  59%|█████████████████████████████████████████████████▏                                 | 173/292 [00:00<00:00, 340.59it/s]"
     ]
    },
    {
     "name": "stdout",
     "output_type": "stream",
     "text": [
      "\r",
      "Testing DataLoader 0:  60%|█████████████████████████████████████████████████▍                                 | 174/292 [00:00<00:00, 340.74it/s]"
     ]
    },
    {
     "name": "stdout",
     "output_type": "stream",
     "text": [
      "\r",
      "Testing DataLoader 0:  60%|█████████████████████████████████████████████████▋                                 | 175/292 [00:00<00:00, 341.36it/s]"
     ]
    },
    {
     "name": "stdout",
     "output_type": "stream",
     "text": [
      "\r",
      "Testing DataLoader 0:  60%|██████████████████████████████████████████████████                                 | 176/292 [00:00<00:00, 341.93it/s]"
     ]
    },
    {
     "name": "stdout",
     "output_type": "stream",
     "text": [
      "\r",
      "Testing DataLoader 0:  61%|██████████████████████████████████████████████████▎                                | 177/292 [00:00<00:00, 342.23it/s]"
     ]
    },
    {
     "name": "stdout",
     "output_type": "stream",
     "text": [
      "\r",
      "Testing DataLoader 0:  61%|██████████████████████████████████████████████████▌                                | 178/292 [00:00<00:00, 342.59it/s]"
     ]
    },
    {
     "name": "stdout",
     "output_type": "stream",
     "text": [
      "\r",
      "Testing DataLoader 0:  61%|██████████████████████████████████████████████████▉                                | 179/292 [00:00<00:00, 343.15it/s]"
     ]
    },
    {
     "name": "stdout",
     "output_type": "stream",
     "text": [
      "\r",
      "Testing DataLoader 0:  62%|███████████████████████████████████████████████████▏                               | 180/292 [00:00<00:00, 343.68it/s]"
     ]
    },
    {
     "name": "stdout",
     "output_type": "stream",
     "text": [
      "\r",
      "Testing DataLoader 0:  62%|███████████████████████████████████████████████████▍                               | 181/292 [00:00<00:00, 344.27it/s]"
     ]
    },
    {
     "name": "stdout",
     "output_type": "stream",
     "text": [
      "\r",
      "Testing DataLoader 0:  62%|███████████████████████████████████████████████████▋                               | 182/292 [00:00<00:00, 344.35it/s]"
     ]
    },
    {
     "name": "stdout",
     "output_type": "stream",
     "text": [
      "\r",
      "Testing DataLoader 0:  63%|████████████████████████████████████████████████████                               | 183/292 [00:00<00:00, 344.73it/s]"
     ]
    },
    {
     "name": "stdout",
     "output_type": "stream",
     "text": [
      "\r",
      "Testing DataLoader 0:  63%|████████████████████████████████████████████████████▎                              | 184/292 [00:00<00:00, 345.29it/s]"
     ]
    },
    {
     "name": "stdout",
     "output_type": "stream",
     "text": [
      "\r",
      "Testing DataLoader 0:  63%|████████████████████████████████████████████████████▌                              | 185/292 [00:00<00:00, 345.81it/s]"
     ]
    },
    {
     "name": "stdout",
     "output_type": "stream",
     "text": [
      "\r",
      "Testing DataLoader 0:  64%|████████████████████████████████████████████████████▊                              | 186/292 [00:00<00:00, 346.25it/s]"
     ]
    },
    {
     "name": "stdout",
     "output_type": "stream",
     "text": [
      "\r",
      "Testing DataLoader 0:  64%|█████████████████████████████████████████████████████▏                             | 187/292 [00:00<00:00, 346.56it/s]"
     ]
    },
    {
     "name": "stdout",
     "output_type": "stream",
     "text": [
      "\r",
      "Testing DataLoader 0:  64%|█████████████████████████████████████████████████████▍                             | 188/292 [00:00<00:00, 346.70it/s]"
     ]
    },
    {
     "name": "stdout",
     "output_type": "stream",
     "text": [
      "\r",
      "Testing DataLoader 0:  65%|█████████████████████████████████████████████████████▋                             | 189/292 [00:00<00:00, 347.23it/s]"
     ]
    },
    {
     "name": "stdout",
     "output_type": "stream",
     "text": [
      "\r",
      "Testing DataLoader 0:  65%|██████████████████████████████████████████████████████                             | 190/292 [00:00<00:00, 347.59it/s]"
     ]
    },
    {
     "name": "stdout",
     "output_type": "stream",
     "text": [
      "\r",
      "Testing DataLoader 0:  65%|██████████████████████████████████████████████████████▎                            | 191/292 [00:00<00:00, 348.03it/s]"
     ]
    },
    {
     "name": "stdout",
     "output_type": "stream",
     "text": [
      "\r",
      "Testing DataLoader 0:  66%|██████████████████████████████████████████████████████▌                            | 192/292 [00:00<00:00, 348.55it/s]"
     ]
    },
    {
     "name": "stdout",
     "output_type": "stream",
     "text": [
      "\r",
      "Testing DataLoader 0:  66%|██████████████████████████████████████████████████████▊                            | 193/292 [00:00<00:00, 348.92it/s]"
     ]
    },
    {
     "name": "stdout",
     "output_type": "stream",
     "text": [
      "\r",
      "Testing DataLoader 0:  66%|███████████████████████████████████████████████████████▏                           | 194/292 [00:00<00:00, 349.19it/s]"
     ]
    },
    {
     "name": "stdout",
     "output_type": "stream",
     "text": [
      "\r",
      "Testing DataLoader 0:  67%|███████████████████████████████████████████████████████▍                           | 195/292 [00:00<00:00, 349.65it/s]"
     ]
    },
    {
     "name": "stdout",
     "output_type": "stream",
     "text": [
      "\r",
      "Testing DataLoader 0:  67%|███████████████████████████████████████████████████████▋                           | 196/292 [00:00<00:00, 350.04it/s]"
     ]
    },
    {
     "name": "stdout",
     "output_type": "stream",
     "text": [
      "\r",
      "Testing DataLoader 0:  67%|███████████████████████████████████████████████████████▉                           | 197/292 [00:00<00:00, 350.50it/s]"
     ]
    },
    {
     "name": "stdout",
     "output_type": "stream",
     "text": [
      "\r",
      "Testing DataLoader 0:  68%|████████████████████████████████████████████████████████▎                          | 198/292 [00:00<00:00, 350.89it/s]"
     ]
    },
    {
     "name": "stdout",
     "output_type": "stream",
     "text": [
      "\r",
      "Testing DataLoader 0:  68%|████████████████████████████████████████████████████████▌                          | 199/292 [00:00<00:00, 351.30it/s]"
     ]
    },
    {
     "name": "stdout",
     "output_type": "stream",
     "text": [
      "\r",
      "Testing DataLoader 0:  68%|████████████████████████████████████████████████████████▊                          | 200/292 [00:00<00:00, 351.71it/s]"
     ]
    },
    {
     "name": "stdout",
     "output_type": "stream",
     "text": [
      "\r",
      "Testing DataLoader 0:  69%|█████████████████████████████████████████████████████████▏                         | 201/292 [00:00<00:00, 352.03it/s]"
     ]
    },
    {
     "name": "stdout",
     "output_type": "stream",
     "text": [
      "\r",
      "Testing DataLoader 0:  69%|█████████████████████████████████████████████████████████▍                         | 202/292 [00:00<00:00, 352.18it/s]"
     ]
    },
    {
     "name": "stdout",
     "output_type": "stream",
     "text": [
      "\r",
      "Testing DataLoader 0:  70%|█████████████████████████████████████████████████████████▋                         | 203/292 [00:00<00:00, 352.62it/s]"
     ]
    },
    {
     "name": "stdout",
     "output_type": "stream",
     "text": [
      "\r",
      "Testing DataLoader 0:  70%|█████████████████████████████████████████████████████████▉                         | 204/292 [00:00<00:00, 353.01it/s]"
     ]
    },
    {
     "name": "stdout",
     "output_type": "stream",
     "text": [
      "\r",
      "Testing DataLoader 0:  70%|██████████████████████████████████████████████████████████▎                        | 205/292 [00:00<00:00, 353.45it/s]"
     ]
    },
    {
     "name": "stdout",
     "output_type": "stream",
     "text": [
      "\r",
      "Testing DataLoader 0:  71%|██████████████████████████████████████████████████████████▌                        | 206/292 [00:00<00:00, 353.82it/s]"
     ]
    },
    {
     "name": "stdout",
     "output_type": "stream",
     "text": [
      "\r",
      "Testing DataLoader 0:  71%|██████████████████████████████████████████████████████████▊                        | 207/292 [00:00<00:00, 354.09it/s]"
     ]
    },
    {
     "name": "stdout",
     "output_type": "stream",
     "text": [
      "\r",
      "Testing DataLoader 0:  71%|███████████████████████████████████████████████████████████                        | 208/292 [00:00<00:00, 354.47it/s]"
     ]
    },
    {
     "name": "stdout",
     "output_type": "stream",
     "text": [
      "\r",
      "Testing DataLoader 0:  72%|███████████████████████████████████████████████████████████▍                       | 209/292 [00:00<00:00, 354.89it/s]"
     ]
    },
    {
     "name": "stdout",
     "output_type": "stream",
     "text": [
      "\r",
      "Testing DataLoader 0:  72%|███████████████████████████████████████████████████████████▋                       | 210/292 [00:00<00:00, 355.23it/s]"
     ]
    },
    {
     "name": "stdout",
     "output_type": "stream",
     "text": [
      "\r",
      "Testing DataLoader 0:  72%|███████████████████████████████████████████████████████████▉                       | 211/292 [00:00<00:00, 355.60it/s]"
     ]
    },
    {
     "name": "stdout",
     "output_type": "stream",
     "text": [
      "\r",
      "Testing DataLoader 0:  73%|████████████████████████████████████████████████████████████▎                      | 212/292 [00:00<00:00, 355.58it/s]"
     ]
    },
    {
     "name": "stdout",
     "output_type": "stream",
     "text": [
      "\r",
      "Testing DataLoader 0:  73%|████████████████████████████████████████████████████████████▌                      | 213/292 [00:00<00:00, 355.83it/s]"
     ]
    },
    {
     "name": "stdout",
     "output_type": "stream",
     "text": [
      "\r",
      "Testing DataLoader 0:  73%|████████████████████████████████████████████████████████████▊                      | 214/292 [00:00<00:00, 355.89it/s]"
     ]
    },
    {
     "name": "stdout",
     "output_type": "stream",
     "text": [
      "\r",
      "Testing DataLoader 0:  74%|█████████████████████████████████████████████████████████████                      | 215/292 [00:00<00:00, 356.10it/s]"
     ]
    },
    {
     "name": "stdout",
     "output_type": "stream",
     "text": [
      "\r",
      "Testing DataLoader 0:  74%|█████████████████████████████████████████████████████████████▍                     | 216/292 [00:00<00:00, 356.02it/s]"
     ]
    },
    {
     "name": "stdout",
     "output_type": "stream",
     "text": [
      "\r",
      "Testing DataLoader 0:  74%|█████████████████████████████████████████████████████████████▋                     | 217/292 [00:00<00:00, 356.20it/s]"
     ]
    },
    {
     "name": "stdout",
     "output_type": "stream",
     "text": [
      "\r",
      "Testing DataLoader 0:  75%|█████████████████████████████████████████████████████████████▉                     | 218/292 [00:00<00:00, 356.10it/s]"
     ]
    },
    {
     "name": "stdout",
     "output_type": "stream",
     "text": [
      "\r",
      "Testing DataLoader 0:  75%|██████████████████████████████████████████████████████████████▎                    | 219/292 [00:00<00:00, 356.45it/s]"
     ]
    },
    {
     "name": "stdout",
     "output_type": "stream",
     "text": [
      "\r",
      "Testing DataLoader 0:  75%|██████████████████████████████████████████████████████████████▌                    | 220/292 [00:00<00:00, 356.58it/s]"
     ]
    },
    {
     "name": "stdout",
     "output_type": "stream",
     "text": [
      "\r",
      "Testing DataLoader 0:  76%|██████████████████████████████████████████████████████████████▊                    | 221/292 [00:00<00:00, 356.78it/s]"
     ]
    },
    {
     "name": "stdout",
     "output_type": "stream",
     "text": [
      "\r",
      "Testing DataLoader 0:  76%|███████████████████████████████████████████████████████████████                    | 222/292 [00:00<00:00, 355.92it/s]"
     ]
    },
    {
     "name": "stdout",
     "output_type": "stream",
     "text": [
      "\r",
      "Testing DataLoader 0:  76%|███████████████████████████████████████████████████████████████▍                   | 223/292 [00:00<00:00, 356.12it/s]"
     ]
    },
    {
     "name": "stdout",
     "output_type": "stream",
     "text": [
      "\r",
      "Testing DataLoader 0:  77%|███████████████████████████████████████████████████████████████▋                   | 224/292 [00:00<00:00, 356.09it/s]"
     ]
    },
    {
     "name": "stdout",
     "output_type": "stream",
     "text": [
      "\r",
      "Testing DataLoader 0:  77%|███████████████████████████████████████████████████████████████▉                   | 225/292 [00:00<00:00, 355.93it/s]"
     ]
    },
    {
     "name": "stdout",
     "output_type": "stream",
     "text": [
      "\r",
      "Testing DataLoader 0:  77%|████████████████████████████████████████████████████████████████▏                  | 226/292 [00:00<00:00, 354.60it/s]"
     ]
    },
    {
     "name": "stdout",
     "output_type": "stream",
     "text": [
      "\r",
      "Testing DataLoader 0:  78%|████████████████████████████████████████████████████████████████▌                  | 227/292 [00:00<00:00, 354.84it/s]"
     ]
    },
    {
     "name": "stdout",
     "output_type": "stream",
     "text": [
      "\r",
      "Testing DataLoader 0:  78%|████████████████████████████████████████████████████████████████▊                  | 228/292 [00:00<00:00, 354.86it/s]"
     ]
    },
    {
     "name": "stdout",
     "output_type": "stream",
     "text": [
      "\r",
      "Testing DataLoader 0:  78%|█████████████████████████████████████████████████████████████████                  | 229/292 [00:00<00:00, 355.19it/s]"
     ]
    },
    {
     "name": "stdout",
     "output_type": "stream",
     "text": [
      "\r",
      "Testing DataLoader 0:  79%|█████████████████████████████████████████████████████████████████▍                 | 230/292 [00:00<00:00, 355.52it/s]"
     ]
    },
    {
     "name": "stdout",
     "output_type": "stream",
     "text": [
      "\r",
      "Testing DataLoader 0:  79%|█████████████████████████████████████████████████████████████████▋                 | 231/292 [00:00<00:00, 355.67it/s]"
     ]
    },
    {
     "name": "stdout",
     "output_type": "stream",
     "text": [
      "\r",
      "Testing DataLoader 0:  79%|█████████████████████████████████████████████████████████████████▉                 | 232/292 [00:00<00:00, 356.04it/s]"
     ]
    },
    {
     "name": "stdout",
     "output_type": "stream",
     "text": [
      "\r",
      "Testing DataLoader 0:  80%|██████████████████████████████████████████████████████████████████▏                | 233/292 [00:00<00:00, 356.41it/s]"
     ]
    },
    {
     "name": "stdout",
     "output_type": "stream",
     "text": [
      "\r",
      "Testing DataLoader 0:  80%|██████████████████████████████████████████████████████████████████▌                | 234/292 [00:00<00:00, 356.77it/s]"
     ]
    },
    {
     "name": "stdout",
     "output_type": "stream",
     "text": [
      "\r",
      "Testing DataLoader 0:  80%|██████████████████████████████████████████████████████████████████▊                | 235/292 [00:00<00:00, 357.14it/s]"
     ]
    },
    {
     "name": "stdout",
     "output_type": "stream",
     "text": [
      "\r",
      "Testing DataLoader 0:  81%|███████████████████████████████████████████████████████████████████                | 236/292 [00:00<00:00, 357.48it/s]"
     ]
    },
    {
     "name": "stdout",
     "output_type": "stream",
     "text": [
      "\r",
      "Testing DataLoader 0:  81%|███████████████████████████████████████████████████████████████████▎               | 237/292 [00:00<00:00, 357.83it/s]"
     ]
    },
    {
     "name": "stdout",
     "output_type": "stream",
     "text": [
      "\r",
      "Testing DataLoader 0:  82%|███████████████████████████████████████████████████████████████████▋               | 238/292 [00:00<00:00, 358.18it/s]"
     ]
    },
    {
     "name": "stdout",
     "output_type": "stream",
     "text": [
      "\r",
      "Testing DataLoader 0:  82%|███████████████████████████████████████████████████████████████████▉               | 239/292 [00:00<00:00, 358.38it/s]"
     ]
    },
    {
     "name": "stdout",
     "output_type": "stream",
     "text": [
      "\r",
      "Testing DataLoader 0:  82%|████████████████████████████████████████████████████████████████████▏              | 240/292 [00:00<00:00, 358.60it/s]"
     ]
    },
    {
     "name": "stdout",
     "output_type": "stream",
     "text": [
      "\r",
      "Testing DataLoader 0:  83%|████████████████████████████████████████████████████████████████████▌              | 241/292 [00:00<00:00, 358.82it/s]"
     ]
    },
    {
     "name": "stdout",
     "output_type": "stream",
     "text": [
      "\r",
      "Testing DataLoader 0:  83%|████████████████████████████████████████████████████████████████████▊              | 242/292 [00:00<00:00, 359.06it/s]"
     ]
    },
    {
     "name": "stdout",
     "output_type": "stream",
     "text": [
      "\r",
      "Testing DataLoader 0:  83%|█████████████████████████████████████████████████████████████████████              | 243/292 [00:00<00:00, 359.22it/s]"
     ]
    },
    {
     "name": "stdout",
     "output_type": "stream",
     "text": [
      "\r",
      "Testing DataLoader 0:  84%|█████████████████████████████████████████████████████████████████████▎             | 244/292 [00:00<00:00, 359.47it/s]"
     ]
    },
    {
     "name": "stdout",
     "output_type": "stream",
     "text": [
      "\r",
      "Testing DataLoader 0:  84%|█████████████████████████████████████████████████████████████████████▋             | 245/292 [00:00<00:00, 359.50it/s]"
     ]
    },
    {
     "name": "stdout",
     "output_type": "stream",
     "text": [
      "\r",
      "Testing DataLoader 0:  84%|█████████████████████████████████████████████████████████████████████▉             | 246/292 [00:00<00:00, 359.67it/s]"
     ]
    },
    {
     "name": "stdout",
     "output_type": "stream",
     "text": [
      "\r",
      "Testing DataLoader 0:  85%|██████████████████████████████████████████████████████████████████████▏            | 247/292 [00:00<00:00, 359.69it/s]"
     ]
    },
    {
     "name": "stdout",
     "output_type": "stream",
     "text": [
      "\r",
      "Testing DataLoader 0:  85%|██████████████████████████████████████████████████████████████████████▍            | 248/292 [00:00<00:00, 359.77it/s]"
     ]
    },
    {
     "name": "stdout",
     "output_type": "stream",
     "text": [
      "\r",
      "Testing DataLoader 0:  85%|██████████████████████████████████████████████████████████████████████▊            | 249/292 [00:00<00:00, 359.90it/s]"
     ]
    },
    {
     "name": "stdout",
     "output_type": "stream",
     "text": [
      "\r",
      "Testing DataLoader 0:  86%|███████████████████████████████████████████████████████████████████████            | 250/292 [00:00<00:00, 360.12it/s]"
     ]
    },
    {
     "name": "stdout",
     "output_type": "stream",
     "text": [
      "\r",
      "Testing DataLoader 0:  86%|███████████████████████████████████████████████████████████████████████▎           | 251/292 [00:00<00:00, 358.07it/s]"
     ]
    },
    {
     "name": "stdout",
     "output_type": "stream",
     "text": [
      "\r",
      "Testing DataLoader 0:  86%|███████████████████████████████████████████████████████████████████████▋           | 252/292 [00:00<00:00, 358.28it/s]"
     ]
    },
    {
     "name": "stdout",
     "output_type": "stream",
     "text": [
      "\r",
      "Testing DataLoader 0:  87%|███████████████████████████████████████████████████████████████████████▉           | 253/292 [00:00<00:00, 358.35it/s]"
     ]
    },
    {
     "name": "stdout",
     "output_type": "stream",
     "text": [
      "\r",
      "Testing DataLoader 0:  87%|████████████████████████████████████████████████████████████████████████▏          | 254/292 [00:00<00:00, 356.58it/s]"
     ]
    },
    {
     "name": "stdout",
     "output_type": "stream",
     "text": [
      "\r",
      "Testing DataLoader 0:  87%|████████████████████████████████████████████████████████████████████████▍          | 255/292 [00:00<00:00, 356.73it/s]"
     ]
    },
    {
     "name": "stdout",
     "output_type": "stream",
     "text": [
      "\r",
      "Testing DataLoader 0:  88%|████████████████████████████████████████████████████████████████████████▊          | 256/292 [00:00<00:00, 356.81it/s]"
     ]
    },
    {
     "name": "stdout",
     "output_type": "stream",
     "text": [
      "\r",
      "Testing DataLoader 0:  88%|█████████████████████████████████████████████████████████████████████████          | 257/292 [00:00<00:00, 356.82it/s]"
     ]
    },
    {
     "name": "stdout",
     "output_type": "stream",
     "text": [
      "\r",
      "Testing DataLoader 0:  88%|█████████████████████████████████████████████████████████████████████████▎         | 258/292 [00:00<00:00, 356.83it/s]"
     ]
    },
    {
     "name": "stdout",
     "output_type": "stream",
     "text": [
      "\r",
      "Testing DataLoader 0:  89%|█████████████████████████████████████████████████████████████████████████▌         | 259/292 [00:00<00:00, 357.01it/s]"
     ]
    },
    {
     "name": "stdout",
     "output_type": "stream",
     "text": [
      "\r",
      "Testing DataLoader 0:  89%|█████████████████████████████████████████████████████████████████████████▉         | 260/292 [00:00<00:00, 357.23it/s]"
     ]
    },
    {
     "name": "stdout",
     "output_type": "stream",
     "text": [
      "\r",
      "Testing DataLoader 0:  89%|██████████████████████████████████████████████████████████████████████████▏        | 261/292 [00:00<00:00, 355.44it/s]"
     ]
    },
    {
     "name": "stdout",
     "output_type": "stream",
     "text": [
      "\r",
      "Testing DataLoader 0:  90%|██████████████████████████████████████████████████████████████████████████▍        | 262/292 [00:00<00:00, 355.45it/s]"
     ]
    },
    {
     "name": "stdout",
     "output_type": "stream",
     "text": [
      "\r",
      "Testing DataLoader 0:  90%|██████████████████████████████████████████████████████████████████████████▊        | 263/292 [00:00<00:00, 355.63it/s]"
     ]
    },
    {
     "name": "stdout",
     "output_type": "stream",
     "text": [
      "\r",
      "Testing DataLoader 0:  90%|███████████████████████████████████████████████████████████████████████████        | 264/292 [00:00<00:00, 355.78it/s]"
     ]
    },
    {
     "name": "stdout",
     "output_type": "stream",
     "text": [
      "\r",
      "Testing DataLoader 0:  91%|███████████████████████████████████████████████████████████████████████████▎       | 265/292 [00:00<00:00, 356.02it/s]"
     ]
    },
    {
     "name": "stdout",
     "output_type": "stream",
     "text": [
      "\r",
      "Testing DataLoader 0:  91%|███████████████████████████████████████████████████████████████████████████▌       | 266/292 [00:00<00:00, 356.01it/s]"
     ]
    },
    {
     "name": "stdout",
     "output_type": "stream",
     "text": [
      "\r",
      "Testing DataLoader 0:  91%|███████████████████████████████████████████████████████████████████████████▉       | 267/292 [00:00<00:00, 356.21it/s]"
     ]
    },
    {
     "name": "stdout",
     "output_type": "stream",
     "text": [
      "\r",
      "Testing DataLoader 0:  92%|████████████████████████████████████████████████████████████████████████████▏      | 268/292 [00:00<00:00, 356.47it/s]"
     ]
    },
    {
     "name": "stdout",
     "output_type": "stream",
     "text": [
      "\r",
      "Testing DataLoader 0:  92%|████████████████████████████████████████████████████████████████████████████▍      | 269/292 [00:00<00:00, 356.74it/s]"
     ]
    },
    {
     "name": "stdout",
     "output_type": "stream",
     "text": [
      "\r",
      "Testing DataLoader 0:  92%|████████████████████████████████████████████████████████████████████████████▋      | 270/292 [00:00<00:00, 356.98it/s]"
     ]
    },
    {
     "name": "stdout",
     "output_type": "stream",
     "text": [
      "\r",
      "Testing DataLoader 0:  93%|█████████████████████████████████████████████████████████████████████████████      | 271/292 [00:00<00:00, 357.19it/s]"
     ]
    },
    {
     "name": "stdout",
     "output_type": "stream",
     "text": [
      "\r",
      "Testing DataLoader 0:  93%|█████████████████████████████████████████████████████████████████████████████▎     | 272/292 [00:00<00:00, 357.31it/s]"
     ]
    },
    {
     "name": "stdout",
     "output_type": "stream",
     "text": [
      "\r",
      "Testing DataLoader 0:  93%|█████████████████████████████████████████████████████████████████████████████▌     | 273/292 [00:00<00:00, 357.33it/s]"
     ]
    },
    {
     "name": "stdout",
     "output_type": "stream",
     "text": [
      "\r",
      "Testing DataLoader 0:  94%|█████████████████████████████████████████████████████████████████████████████▉     | 274/292 [00:00<00:00, 357.31it/s]"
     ]
    },
    {
     "name": "stdout",
     "output_type": "stream",
     "text": [
      "\r",
      "Testing DataLoader 0:  94%|██████████████████████████████████████████████████████████████████████████████▏    | 275/292 [00:00<00:00, 357.49it/s]"
     ]
    },
    {
     "name": "stdout",
     "output_type": "stream",
     "text": [
      "\r",
      "Testing DataLoader 0:  95%|██████████████████████████████████████████████████████████████████████████████▍    | 276/292 [00:00<00:00, 357.43it/s]"
     ]
    },
    {
     "name": "stdout",
     "output_type": "stream",
     "text": [
      "\r",
      "Testing DataLoader 0:  95%|██████████████████████████████████████████████████████████████████████████████▋    | 277/292 [00:00<00:00, 357.43it/s]"
     ]
    },
    {
     "name": "stdout",
     "output_type": "stream",
     "text": [
      "\r",
      "Testing DataLoader 0:  95%|███████████████████████████████████████████████████████████████████████████████    | 278/292 [00:00<00:00, 357.62it/s]"
     ]
    },
    {
     "name": "stdout",
     "output_type": "stream",
     "text": [
      "\r",
      "Testing DataLoader 0:  96%|███████████████████████████████████████████████████████████████████████████████▎   | 279/292 [00:00<00:00, 357.69it/s]"
     ]
    },
    {
     "name": "stdout",
     "output_type": "stream",
     "text": [
      "\r",
      "Testing DataLoader 0:  96%|███████████████████████████████████████████████████████████████████████████████▌   | 280/292 [00:00<00:00, 357.88it/s]"
     ]
    },
    {
     "name": "stdout",
     "output_type": "stream",
     "text": [
      "\r",
      "Testing DataLoader 0:  96%|███████████████████████████████████████████████████████████████████████████████▊   | 281/292 [00:00<00:00, 357.95it/s]"
     ]
    },
    {
     "name": "stdout",
     "output_type": "stream",
     "text": [
      "\r",
      "Testing DataLoader 0:  97%|████████████████████████████████████████████████████████████████████████████████▏  | 282/292 [00:00<00:00, 357.97it/s]"
     ]
    },
    {
     "name": "stdout",
     "output_type": "stream",
     "text": [
      "\r",
      "Testing DataLoader 0:  97%|████████████████████████████████████████████████████████████████████████████████▍  | 283/292 [00:00<00:00, 358.00it/s]"
     ]
    },
    {
     "name": "stdout",
     "output_type": "stream",
     "text": [
      "\r",
      "Testing DataLoader 0:  97%|████████████████████████████████████████████████████████████████████████████████▋  | 284/292 [00:00<00:00, 358.20it/s]"
     ]
    },
    {
     "name": "stdout",
     "output_type": "stream",
     "text": [
      "\r",
      "Testing DataLoader 0:  98%|█████████████████████████████████████████████████████████████████████████████████  | 285/292 [00:00<00:00, 358.34it/s]"
     ]
    },
    {
     "name": "stdout",
     "output_type": "stream",
     "text": [
      "\r",
      "Testing DataLoader 0:  98%|█████████████████████████████████████████████████████████████████████████████████▎ | 286/292 [00:00<00:00, 358.50it/s]"
     ]
    },
    {
     "name": "stdout",
     "output_type": "stream",
     "text": [
      "\r",
      "Testing DataLoader 0:  98%|█████████████████████████████████████████████████████████████████████████████████▌ | 287/292 [00:00<00:00, 358.69it/s]"
     ]
    },
    {
     "name": "stdout",
     "output_type": "stream",
     "text": [
      "\r",
      "Testing DataLoader 0:  99%|█████████████████████████████████████████████████████████████████████████████████▊ | 288/292 [00:00<00:00, 358.90it/s]"
     ]
    },
    {
     "name": "stdout",
     "output_type": "stream",
     "text": [
      "\r",
      "Testing DataLoader 0:  99%|██████████████████████████████████████████████████████████████████████████████████▏| 289/292 [00:00<00:00, 359.10it/s]"
     ]
    },
    {
     "name": "stdout",
     "output_type": "stream",
     "text": [
      "\r",
      "Testing DataLoader 0:  99%|██████████████████████████████████████████████████████████████████████████████████▍| 290/292 [00:00<00:00, 357.39it/s]"
     ]
    },
    {
     "name": "stdout",
     "output_type": "stream",
     "text": [
      "\r",
      "Testing DataLoader 0: 100%|██████████████████████████████████████████████████████████████████████████████████▋| 291/292 [00:00<00:00, 357.57it/s]"
     ]
    },
    {
     "name": "stdout",
     "output_type": "stream",
     "text": [
      "\r",
      "Testing DataLoader 0: 100%|███████████████████████████████████████████████████████████████████████████████████| 292/292 [00:00<00:00, 343.99it/s]"
     ]
    },
    {
     "name": "stdout",
     "output_type": "stream",
     "text": [
      "\r",
      "Testing DataLoader 0: 100%|███████████████████████████████████████████████████████████████████████████████████| 292/292 [00:00<00:00, 339.27it/s]"
     ]
    },
    {
     "name": "stdout",
     "output_type": "stream",
     "text": [
      "\n",
      "────────────────────────────────────────────────────────────────────────────────────────────────────────────────────────\n",
      "       Test metric             DataLoader 0\n",
      "────────────────────────────────────────────────────────────────────────────────────────────────────────────────────────\n",
      "        test_acc            0.7168881297111511\n",
      "────────────────────────────────────────────────────────────────────────────────────────────────────────────────────────\n"
     ]
    },
    {
     "data": {
      "text/plain": [
       "[{'test_acc': 0.7168881297111511}]"
      ]
     },
     "execution_count": 5,
     "metadata": {},
     "output_type": "execute_result"
    }
   ],
   "source": [
    "_, _, test_loader, _, _, label_encoder = prepare_data(n_features_select)\n",
    "\n",
    "trainer = L.Trainer(\n",
    "    accelerator=\"mps\" if torch.backends.mps.is_available() else \"auto\"\n",
    ")\n",
    "trainer.test(best_model, test_loader)"
   ]
  },
  {
   "cell_type": "code",
   "execution_count": 6,
   "id": "2b02c080",
   "metadata": {
    "execution": {
     "iopub.execute_input": "2025-04-20T11:48:04.882275Z",
     "iopub.status.busy": "2025-04-20T11:48:04.882059Z",
     "iopub.status.idle": "2025-04-20T11:48:05.013764Z",
     "shell.execute_reply": "2025-04-20T11:48:05.013431Z"
    }
   },
   "outputs": [],
   "source": [
    "best_model.eval()\n",
    "y_true, y_pred = [], []\n",
    "\n",
    "with torch.no_grad():\n",
    "    for x, y in test_loader:\n",
    "        logits = best_model(x.to(best_model.device))\n",
    "        preds = torch.argmax(logits, dim=1)\n",
    "        y_true.extend(y.cpu().numpy())\n",
    "        y_pred.extend(preds.cpu().numpy())"
   ]
  },
  {
   "cell_type": "code",
   "execution_count": 7,
   "id": "154c98e1",
   "metadata": {
    "execution": {
     "iopub.execute_input": "2025-04-20T11:48:05.015238Z",
     "iopub.status.busy": "2025-04-20T11:48:05.015140Z",
     "iopub.status.idle": "2025-04-20T11:48:05.018865Z",
     "shell.execute_reply": "2025-04-20T11:48:05.018632Z"
    }
   },
   "outputs": [],
   "source": [
    "y_true_labels = label_encoder.inverse_transform(y_true)\n",
    "y_pred_labels = label_encoder.inverse_transform(y_pred)"
   ]
  },
  {
   "cell_type": "code",
   "execution_count": 8,
   "id": "b14ab53b",
   "metadata": {
    "execution": {
     "iopub.execute_input": "2025-04-20T11:48:05.019987Z",
     "iopub.status.busy": "2025-04-20T11:48:05.019878Z",
     "iopub.status.idle": "2025-04-20T11:48:05.050065Z",
     "shell.execute_reply": "2025-04-20T11:48:05.049854Z"
    }
   },
   "outputs": [
    {
     "name": "stdout",
     "output_type": "stream",
     "text": [
      "Classification Report:\n"
     ]
    },
    {
     "name": "stdout",
     "output_type": "stream",
     "text": [
      "              precision    recall  f1-score   support\n",
      "\n",
      "       Anger       0.70      0.76      0.73       891\n",
      "       Bored       0.78      0.84      0.81      1098\n",
      "     Disgust       0.58      0.58      0.58       273\n",
      "        Fear       0.54      0.53      0.53       285\n",
      "       Happy       0.72      0.63      0.67      1885\n",
      "     Neutral       0.68      0.68      0.68      2203\n",
      "    Question       0.81      0.83      0.82      1139\n",
      "         Sad       0.71      0.72      0.72       830\n",
      "    Surprise       0.72      0.75      0.73       728\n",
      "\n",
      "    accuracy                           0.72      9332\n",
      "   macro avg       0.69      0.70      0.70      9332\n",
      "weighted avg       0.72      0.72      0.72      9332\n",
      "\n"
     ]
    }
   ],
   "source": [
    "print(\"Classification Report:\")\n",
    "print(classification_report(y_true_labels, y_pred_labels))"
   ]
  },
  {
   "cell_type": "code",
   "execution_count": 9,
   "id": "9596db3d",
   "metadata": {
    "execution": {
     "iopub.execute_input": "2025-04-20T11:48:05.051149Z",
     "iopub.status.busy": "2025-04-20T11:48:05.051045Z",
     "iopub.status.idle": "2025-04-20T11:48:05.259459Z",
     "shell.execute_reply": "2025-04-20T11:48:05.259128Z"
    }
   },
   "outputs": [
    {
     "data": {
      "image/png": "[encoded data removed]",
      "text/plain": [
       "<Figure size 1000x800 with 2 Axes>"
      ]
     },
     "metadata": {},
     "output_type": "display_data"
    }
   ],
   "source": [
    "cm = confusion_matrix(y_true_labels, y_pred_labels, labels=label_encoder.classes_)\n",
    "\n",
    "plt.figure(figsize=(10, 8))\n",
    "sns.heatmap(cm, annot=True, fmt=\"d\", cmap=\"Blues\",\n",
    "            xticklabels=label_encoder.classes_,\n",
    "            yticklabels=label_encoder.classes_)\n",
    "plt.xlabel(\"Predicted Label\")\n",
    "plt.ylabel(\"True Label\")\n",
    "plt.title(\"Confusion Matrix\")\n",
    "plt.tight_layout()\n",
    "plt.show()"
   ]
  }
 ],
 "metadata": {
  "language_info": {
   "codemirror_mode": {
    "name": "ipython",
    "version": 3
   },
   "file_extension": ".py",
   "mimetype": "text/x-python",
   "name": "python",
   "nbconvert_exporter": "python",
   "pygments_lexer": "ipython3",
   "version": "3.10.14"
  }
 },
 "nbformat": 4,
 "nbformat_minor": 5
}
