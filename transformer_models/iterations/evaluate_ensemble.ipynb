{
 "cells": [
  {
   "cell_type": "markdown",
   "id": "3538a61e",
   "metadata": {},
   "source": [
    "# Evaluate ensemble"
   ]
  },
  {
   "cell_type": "code",
   "execution_count": 1,
   "id": "9a90a123",
   "metadata": {},
   "outputs": [
    {
     "name": "stderr",
     "output_type": "stream",
     "text": [
      "c:\\Users\\profi\\OneDrive\\Desktop\\AI-Project--Speech-Emotion-Recognition\\myenv\\lib\\site-packages\\tqdm\\auto.py:21: TqdmWarning: IProgress not found. Please update jupyter and ipywidgets. See https://ipywidgets.readthedocs.io/en/stable/user_install.html\n",
      "  from .autonotebook import tqdm as notebook_tqdm\n"
     ]
    }
   ],
   "source": [
    "import os\n",
    "import sys\n",
    "import pandas as pd\n",
    "import numpy as np\n",
    "import random\n",
    "import seaborn as sns\n",
    "import matplotlib.pyplot as plt\n",
    "import torch\n",
    "from torch.utils.data import DataLoader\n",
    "from transformers import set_seed, Wav2Vec2Processor, Wav2Vec2ForSequenceClassification, Wav2Vec2FeatureExtractor, WavLMForSequenceClassification\n",
    "from sklearn.metrics import accuracy_score, precision_recall_fscore_support, classification_report, confusion_matrix"
   ]
  },
  {
   "cell_type": "code",
   "execution_count": 2,
   "id": "b6d4af62",
   "metadata": {},
   "outputs": [],
   "source": [
    "notebook_path = os.getcwd()\n",
    "project_root = os.path.abspath(os.path.join(notebook_path, '../..'))\n",
    "sys.path.insert(0, project_root)"
   ]
  },
  {
   "cell_type": "code",
   "execution_count": 3,
   "id": "7b7182a3",
   "metadata": {},
   "outputs": [
    {
     "name": "stdout",
     "output_type": "stream",
     "text": [
      "2.5.1+cu121\n",
      "True\n"
     ]
    }
   ],
   "source": [
    "print(torch.__version__)\n",
    "print(torch.cuda.is_available())"
   ]
  },
  {
   "cell_type": "code",
   "execution_count": 4,
   "id": "d789a21e",
   "metadata": {},
   "outputs": [],
   "source": [
    "# Set seed for reproducibility\n",
    "seed = 42\n",
    "set_seed(seed)\n",
    "random.seed(seed)\n",
    "np.random.seed(seed)\n",
    "torch.manual_seed(seed)\n",
    "if torch.cuda.is_available():\n",
    "    torch.cuda.manual_seed_all(seed)"
   ]
  },
  {
   "cell_type": "markdown",
   "id": "37cd15cb",
   "metadata": {},
   "source": [
    "Load Dataset"
   ]
  },
  {
   "cell_type": "code",
   "execution_count": 5,
   "id": "11ea0be0",
   "metadata": {},
   "outputs": [],
   "source": [
    "df_test = pd.read_csv('../../data/test_dataset.csv')\n",
    "df_test = df_test[['Filepath', 'Emotion']]"
   ]
  },
  {
   "cell_type": "code",
   "execution_count": 6,
   "id": "f7597fff",
   "metadata": {},
   "outputs": [
    {
     "data": {
      "application/vnd.microsoft.datawrangler.viewer.v0+json": {
       "columns": [
        {
         "name": "index",
         "rawType": "int64",
         "type": "integer"
        },
        {
         "name": "Filepath",
         "rawType": "object",
         "type": "string"
        },
        {
         "name": "Emotion",
         "rawType": "object",
         "type": "string"
        }
       ],
       "conversionMethod": "pd.DataFrame",
       "ref": "81dcda53-73c1-4187-9012-fe26e6a6430c",
       "rows": [
        [
         "0",
         "./dataset/mlend\\MLEndSND_Public\\01620.wav",
         "Neutral"
        ],
        [
         "1",
         "./dataset/jl-corpus/Raw JL corpus (unchecked and unannotated)/JL(wav+txt)\\male1_sad_5a_1.wav",
         "Sad"
        ],
        [
         "2",
         "./dataset/mlend\\MLEndSND_Public\\04997.wav",
         "Question"
        ],
        [
         "3",
         "./dataset/esd\\0018\\Surprise\\0018_001454.wav",
         "Surprise"
        ],
        [
         "4",
         "./dataset/mlend\\MLEndSND_Public\\05521.wav",
         "Neutral"
        ],
        [
         "5",
         "./dataset/mlend\\MLEndSND_Public\\02888.wav",
         "Question"
        ],
        [
         "6",
         "./dataset/mlend\\MLEndSND_Public\\33135.wav",
         "Neutral"
        ],
        [
         "7",
         "./dataset/crema-d\\AudioWAV\\1052_TAI_ANG_XX.wav",
         "Anger"
        ],
        [
         "8",
         "./dataset/esd\\0017\\Neutral\\0017_000228.wav",
         "Neutral"
        ],
        [
         "9",
         "./dataset/savee\\JK_a12.wav",
         "Anger"
        ],
        [
         "10",
         "./dataset/mlend\\MLEndSND_Public\\26373.wav",
         "Neutral"
        ],
        [
         "11",
         "./dataset/mlend\\MLEndSND_Public\\13399.wav",
         "Neutral"
        ],
        [
         "12",
         "./dataset/mlend\\MLEndSND_Public\\40183.wav",
         "Question"
        ],
        [
         "13",
         "./dataset/mlend\\MLEndSND_Public\\44409.wav",
         "Neutral"
        ],
        [
         "14",
         "./dataset/esd\\0013\\Angry\\0013_000646.wav",
         "Anger"
        ],
        [
         "15",
         "./dataset/esd\\0019\\Angry\\0019_000427.wav",
         "Anger"
        ],
        [
         "16",
         "./dataset/mlend\\MLEndSND_Public\\31361.wav",
         "Question"
        ],
        [
         "17",
         "./dataset/esd\\0019\\Neutral\\0019_000020.wav",
         "Neutral"
        ],
        [
         "18",
         "./dataset/mlend\\MLEndSND_Public\\20417.wav",
         "Bored"
        ],
        [
         "19",
         "./dataset/esd\\0020\\Surprise\\0020_001662.wav",
         "Surprise"
        ],
        [
         "20",
         "./dataset/mlend\\MLEndSND_Public\\39199.wav",
         "Question"
        ],
        [
         "21",
         "./dataset/meld\\train\\dia319_utt22.mp4",
         "Disgust"
        ],
        [
         "22",
         "./dataset/mlend\\MLEndSND_Public\\29318.wav",
         "Happy"
        ],
        [
         "23",
         "./dataset/mlend\\MLEndSND_Public\\36191.wav",
         "Happy"
        ],
        [
         "24",
         "./dataset/mlend\\MLEndSND_Public\\21860.wav",
         "Bored"
        ],
        [
         "25",
         "./dataset/mlend\\MLEndSND_Public\\26708.wav",
         "Happy"
        ],
        [
         "26",
         "./dataset/meld\\train\\dia990_utt16.mp4",
         "Happy"
        ],
        [
         "27",
         "./dataset/crema-d\\AudioWAV\\1067_ITS_DIS_XX.wav",
         "Disgust"
        ],
        [
         "28",
         "./dataset/esd\\0013\\Neutral\\0013_000156.wav",
         "Neutral"
        ],
        [
         "29",
         "./dataset/esd\\0012\\Surprise\\0012_001429.wav",
         "Surprise"
        ],
        [
         "30",
         "./dataset/jl-corpus/Raw JL corpus (unchecked and unannotated)/JL(wav+txt)\\male1_angry_10b_2.wav",
         "Anger"
        ],
        [
         "31",
         "./dataset/esd\\0011\\Angry\\0011_000461.wav",
         "Anger"
        ],
        [
         "32",
         "./dataset/mlend\\MLEndSND_Public\\37804.wav",
         "Question"
        ],
        [
         "33",
         "./dataset/mlend\\MLEndSND_Public\\11073.wav",
         "Question"
        ],
        [
         "34",
         "./dataset/esd\\0014\\Sad\\0014_001209.wav",
         "Sad"
        ],
        [
         "35",
         "./dataset/tess\\OAF_Fear\\OAF_tough_fear.wav",
         "Fear"
        ],
        [
         "36",
         "./dataset/esd\\0015\\Angry\\0015_000440.wav",
         "Anger"
        ],
        [
         "37",
         "./dataset/mlend\\MLEndSND_Public\\21924.wav",
         "Question"
        ],
        [
         "38",
         "./dataset/mlend\\MLEndSND_Public\\05973.wav",
         "Question"
        ],
        [
         "39",
         "./dataset/esd\\0014\\Happy\\0014_000883.wav",
         "Happy"
        ],
        [
         "40",
         "./dataset/meld\\train\\dia431_utt8.mp4",
         "Happy"
        ],
        [
         "41",
         "./dataset/meld\\train\\dia130_utt6.mp4",
         "Neutral"
        ],
        [
         "42",
         "./dataset/esd\\0012\\Sad\\0012_001196.wav",
         "Sad"
        ],
        [
         "43",
         "./dataset/mlend\\MLEndSND_Public\\03452.wav",
         "Bored"
        ],
        [
         "44",
         "./dataset/mlend\\MLEndSND_Public\\30559.wav",
         "Neutral"
        ],
        [
         "45",
         "./dataset/esd\\0011\\Neutral\\0011_000339.wav",
         "Neutral"
        ],
        [
         "46",
         "./dataset/mlend\\MLEndSND_Public\\28855.wav",
         "Bored"
        ],
        [
         "47",
         "./dataset/crema-d\\AudioWAV\\1028_IOM_HAP_XX.wav",
         "Happy"
        ],
        [
         "48",
         "./dataset/esd\\0016\\Neutral\\0016_000191.wav",
         "Neutral"
        ],
        [
         "49",
         "./dataset/mlend\\MLEndSND_Public\\27806.wav",
         "Bored"
        ]
       ],
       "shape": {
        "columns": 2,
        "rows": 9477
       }
      },
      "text/html": [
       "<div>\n",
       "<style scoped>\n",
       "    .dataframe tbody tr th:only-of-type {\n",
       "        vertical-align: middle;\n",
       "    }\n",
       "\n",
       "    .dataframe tbody tr th {\n",
       "        vertical-align: top;\n",
       "    }\n",
       "\n",
       "    .dataframe thead th {\n",
       "        text-align: right;\n",
       "    }\n",
       "</style>\n",
       "<table border=\"1\" class=\"dataframe\">\n",
       "  <thead>\n",
       "    <tr style=\"text-align: right;\">\n",
       "      <th></th>\n",
       "      <th>Filepath</th>\n",
       "      <th>Emotion</th>\n",
       "    </tr>\n",
       "  </thead>\n",
       "  <tbody>\n",
       "    <tr>\n",
       "      <th>0</th>\n",
       "      <td>./dataset/mlend\\MLEndSND_Public\\01620.wav</td>\n",
       "      <td>Neutral</td>\n",
       "    </tr>\n",
       "    <tr>\n",
       "      <th>1</th>\n",
       "      <td>./dataset/jl-corpus/Raw JL corpus (unchecked a...</td>\n",
       "      <td>Sad</td>\n",
       "    </tr>\n",
       "    <tr>\n",
       "      <th>2</th>\n",
       "      <td>./dataset/mlend\\MLEndSND_Public\\04997.wav</td>\n",
       "      <td>Question</td>\n",
       "    </tr>\n",
       "    <tr>\n",
       "      <th>3</th>\n",
       "      <td>./dataset/esd\\0018\\Surprise\\0018_001454.wav</td>\n",
       "      <td>Surprise</td>\n",
       "    </tr>\n",
       "    <tr>\n",
       "      <th>4</th>\n",
       "      <td>./dataset/mlend\\MLEndSND_Public\\05521.wav</td>\n",
       "      <td>Neutral</td>\n",
       "    </tr>\n",
       "    <tr>\n",
       "      <th>...</th>\n",
       "      <td>...</td>\n",
       "      <td>...</td>\n",
       "    </tr>\n",
       "    <tr>\n",
       "      <th>9472</th>\n",
       "      <td>./dataset/tess\\YAF_pleasant_surprised\\YAF_half...</td>\n",
       "      <td>Surprise</td>\n",
       "    </tr>\n",
       "    <tr>\n",
       "      <th>9473</th>\n",
       "      <td>./dataset/esd\\0019\\Angry\\0019_000651.wav</td>\n",
       "      <td>Anger</td>\n",
       "    </tr>\n",
       "    <tr>\n",
       "      <th>9474</th>\n",
       "      <td>./dataset/mlend\\MLEndSND_Public\\21688.wav</td>\n",
       "      <td>Neutral</td>\n",
       "    </tr>\n",
       "    <tr>\n",
       "      <th>9475</th>\n",
       "      <td>./dataset/esd\\0020\\Angry\\0020_000377.wav</td>\n",
       "      <td>Anger</td>\n",
       "    </tr>\n",
       "    <tr>\n",
       "      <th>9476</th>\n",
       "      <td>./dataset/mlend\\MLEndSND_Public\\44715.wav</td>\n",
       "      <td>Question</td>\n",
       "    </tr>\n",
       "  </tbody>\n",
       "</table>\n",
       "<p>9477 rows × 2 columns</p>\n",
       "</div>"
      ],
      "text/plain": [
       "                                               Filepath   Emotion\n",
       "0             ./dataset/mlend\\MLEndSND_Public\\01620.wav   Neutral\n",
       "1     ./dataset/jl-corpus/Raw JL corpus (unchecked a...       Sad\n",
       "2             ./dataset/mlend\\MLEndSND_Public\\04997.wav  Question\n",
       "3           ./dataset/esd\\0018\\Surprise\\0018_001454.wav  Surprise\n",
       "4             ./dataset/mlend\\MLEndSND_Public\\05521.wav   Neutral\n",
       "...                                                 ...       ...\n",
       "9472  ./dataset/tess\\YAF_pleasant_surprised\\YAF_half...  Surprise\n",
       "9473           ./dataset/esd\\0019\\Angry\\0019_000651.wav     Anger\n",
       "9474          ./dataset/mlend\\MLEndSND_Public\\21688.wav   Neutral\n",
       "9475           ./dataset/esd\\0020\\Angry\\0020_000377.wav     Anger\n",
       "9476          ./dataset/mlend\\MLEndSND_Public\\44715.wav  Question\n",
       "\n",
       "[9477 rows x 2 columns]"
      ]
     },
     "execution_count": 6,
     "metadata": {},
     "output_type": "execute_result"
    }
   ],
   "source": [
    "df_test"
   ]
  },
  {
   "cell_type": "code",
   "execution_count": 7,
   "id": "26304517",
   "metadata": {},
   "outputs": [
    {
     "name": "stdout",
     "output_type": "stream",
     "text": [
      "{'Anger': 0, 'Bored': 1, 'Disgust': 2, 'Fear': 3, 'Happy': 4, 'Neutral': 5, 'Question': 6, 'Sad': 7, 'Surprise': 8}\n"
     ]
    }
   ],
   "source": [
    "# Convert labels to integers\n",
    "unique_labels = sorted(df_test['Emotion'].unique())\n",
    "label_map = {label: idx for idx, label in enumerate(unique_labels)}\n",
    "print(label_map)\n",
    "\n",
    "df_test['Emotion'] = df_test['Emotion'].map(label_map)"
   ]
  },
  {
   "cell_type": "code",
   "execution_count": 8,
   "id": "806248ea",
   "metadata": {},
   "outputs": [
    {
     "data": {
      "application/vnd.microsoft.datawrangler.viewer.v0+json": {
       "columns": [
        {
         "name": "index",
         "rawType": "int64",
         "type": "integer"
        },
        {
         "name": "Filepath",
         "rawType": "object",
         "type": "string"
        },
        {
         "name": "Emotion",
         "rawType": "int64",
         "type": "integer"
        }
       ],
       "conversionMethod": "pd.DataFrame",
       "ref": "58994cc6-31af-43ac-b65d-05486e63c31b",
       "rows": [
        [
         "0",
         "./dataset/mlend\\MLEndSND_Public\\01620.wav",
         "5"
        ],
        [
         "1",
         "./dataset/jl-corpus/Raw JL corpus (unchecked and unannotated)/JL(wav+txt)\\male1_sad_5a_1.wav",
         "7"
        ],
        [
         "2",
         "./dataset/mlend\\MLEndSND_Public\\04997.wav",
         "6"
        ],
        [
         "3",
         "./dataset/esd\\0018\\Surprise\\0018_001454.wav",
         "8"
        ],
        [
         "4",
         "./dataset/mlend\\MLEndSND_Public\\05521.wav",
         "5"
        ],
        [
         "5",
         "./dataset/mlend\\MLEndSND_Public\\02888.wav",
         "6"
        ],
        [
         "6",
         "./dataset/mlend\\MLEndSND_Public\\33135.wav",
         "5"
        ],
        [
         "7",
         "./dataset/crema-d\\AudioWAV\\1052_TAI_ANG_XX.wav",
         "0"
        ],
        [
         "8",
         "./dataset/esd\\0017\\Neutral\\0017_000228.wav",
         "5"
        ],
        [
         "9",
         "./dataset/savee\\JK_a12.wav",
         "0"
        ],
        [
         "10",
         "./dataset/mlend\\MLEndSND_Public\\26373.wav",
         "5"
        ],
        [
         "11",
         "./dataset/mlend\\MLEndSND_Public\\13399.wav",
         "5"
        ],
        [
         "12",
         "./dataset/mlend\\MLEndSND_Public\\40183.wav",
         "6"
        ],
        [
         "13",
         "./dataset/mlend\\MLEndSND_Public\\44409.wav",
         "5"
        ],
        [
         "14",
         "./dataset/esd\\0013\\Angry\\0013_000646.wav",
         "0"
        ],
        [
         "15",
         "./dataset/esd\\0019\\Angry\\0019_000427.wav",
         "0"
        ],
        [
         "16",
         "./dataset/mlend\\MLEndSND_Public\\31361.wav",
         "6"
        ],
        [
         "17",
         "./dataset/esd\\0019\\Neutral\\0019_000020.wav",
         "5"
        ],
        [
         "18",
         "./dataset/mlend\\MLEndSND_Public\\20417.wav",
         "1"
        ],
        [
         "19",
         "./dataset/esd\\0020\\Surprise\\0020_001662.wav",
         "8"
        ],
        [
         "20",
         "./dataset/mlend\\MLEndSND_Public\\39199.wav",
         "6"
        ],
        [
         "21",
         "./dataset/meld\\train\\dia319_utt22.mp4",
         "2"
        ],
        [
         "22",
         "./dataset/mlend\\MLEndSND_Public\\29318.wav",
         "4"
        ],
        [
         "23",
         "./dataset/mlend\\MLEndSND_Public\\36191.wav",
         "4"
        ],
        [
         "24",
         "./dataset/mlend\\MLEndSND_Public\\21860.wav",
         "1"
        ],
        [
         "25",
         "./dataset/mlend\\MLEndSND_Public\\26708.wav",
         "4"
        ],
        [
         "26",
         "./dataset/meld\\train\\dia990_utt16.mp4",
         "4"
        ],
        [
         "27",
         "./dataset/crema-d\\AudioWAV\\1067_ITS_DIS_XX.wav",
         "2"
        ],
        [
         "28",
         "./dataset/esd\\0013\\Neutral\\0013_000156.wav",
         "5"
        ],
        [
         "29",
         "./dataset/esd\\0012\\Surprise\\0012_001429.wav",
         "8"
        ],
        [
         "30",
         "./dataset/jl-corpus/Raw JL corpus (unchecked and unannotated)/JL(wav+txt)\\male1_angry_10b_2.wav",
         "0"
        ],
        [
         "31",
         "./dataset/esd\\0011\\Angry\\0011_000461.wav",
         "0"
        ],
        [
         "32",
         "./dataset/mlend\\MLEndSND_Public\\37804.wav",
         "6"
        ],
        [
         "33",
         "./dataset/mlend\\MLEndSND_Public\\11073.wav",
         "6"
        ],
        [
         "34",
         "./dataset/esd\\0014\\Sad\\0014_001209.wav",
         "7"
        ],
        [
         "35",
         "./dataset/tess\\OAF_Fear\\OAF_tough_fear.wav",
         "3"
        ],
        [
         "36",
         "./dataset/esd\\0015\\Angry\\0015_000440.wav",
         "0"
        ],
        [
         "37",
         "./dataset/mlend\\MLEndSND_Public\\21924.wav",
         "6"
        ],
        [
         "38",
         "./dataset/mlend\\MLEndSND_Public\\05973.wav",
         "6"
        ],
        [
         "39",
         "./dataset/esd\\0014\\Happy\\0014_000883.wav",
         "4"
        ],
        [
         "40",
         "./dataset/meld\\train\\dia431_utt8.mp4",
         "4"
        ],
        [
         "41",
         "./dataset/meld\\train\\dia130_utt6.mp4",
         "5"
        ],
        [
         "42",
         "./dataset/esd\\0012\\Sad\\0012_001196.wav",
         "7"
        ],
        [
         "43",
         "./dataset/mlend\\MLEndSND_Public\\03452.wav",
         "1"
        ],
        [
         "44",
         "./dataset/mlend\\MLEndSND_Public\\30559.wav",
         "5"
        ],
        [
         "45",
         "./dataset/esd\\0011\\Neutral\\0011_000339.wav",
         "5"
        ],
        [
         "46",
         "./dataset/mlend\\MLEndSND_Public\\28855.wav",
         "1"
        ],
        [
         "47",
         "./dataset/crema-d\\AudioWAV\\1028_IOM_HAP_XX.wav",
         "4"
        ],
        [
         "48",
         "./dataset/esd\\0016\\Neutral\\0016_000191.wav",
         "5"
        ],
        [
         "49",
         "./dataset/mlend\\MLEndSND_Public\\27806.wav",
         "1"
        ]
       ],
       "shape": {
        "columns": 2,
        "rows": 9477
       }
      },
      "text/html": [
       "<div>\n",
       "<style scoped>\n",
       "    .dataframe tbody tr th:only-of-type {\n",
       "        vertical-align: middle;\n",
       "    }\n",
       "\n",
       "    .dataframe tbody tr th {\n",
       "        vertical-align: top;\n",
       "    }\n",
       "\n",
       "    .dataframe thead th {\n",
       "        text-align: right;\n",
       "    }\n",
       "</style>\n",
       "<table border=\"1\" class=\"dataframe\">\n",
       "  <thead>\n",
       "    <tr style=\"text-align: right;\">\n",
       "      <th></th>\n",
       "      <th>Filepath</th>\n",
       "      <th>Emotion</th>\n",
       "    </tr>\n",
       "  </thead>\n",
       "  <tbody>\n",
       "    <tr>\n",
       "      <th>0</th>\n",
       "      <td>./dataset/mlend\\MLEndSND_Public\\01620.wav</td>\n",
       "      <td>5</td>\n",
       "    </tr>\n",
       "    <tr>\n",
       "      <th>1</th>\n",
       "      <td>./dataset/jl-corpus/Raw JL corpus (unchecked a...</td>\n",
       "      <td>7</td>\n",
       "    </tr>\n",
       "    <tr>\n",
       "      <th>2</th>\n",
       "      <td>./dataset/mlend\\MLEndSND_Public\\04997.wav</td>\n",
       "      <td>6</td>\n",
       "    </tr>\n",
       "    <tr>\n",
       "      <th>3</th>\n",
       "      <td>./dataset/esd\\0018\\Surprise\\0018_001454.wav</td>\n",
       "      <td>8</td>\n",
       "    </tr>\n",
       "    <tr>\n",
       "      <th>4</th>\n",
       "      <td>./dataset/mlend\\MLEndSND_Public\\05521.wav</td>\n",
       "      <td>5</td>\n",
       "    </tr>\n",
       "    <tr>\n",
       "      <th>...</th>\n",
       "      <td>...</td>\n",
       "      <td>...</td>\n",
       "    </tr>\n",
       "    <tr>\n",
       "      <th>9472</th>\n",
       "      <td>./dataset/tess\\YAF_pleasant_surprised\\YAF_half...</td>\n",
       "      <td>8</td>\n",
       "    </tr>\n",
       "    <tr>\n",
       "      <th>9473</th>\n",
       "      <td>./dataset/esd\\0019\\Angry\\0019_000651.wav</td>\n",
       "      <td>0</td>\n",
       "    </tr>\n",
       "    <tr>\n",
       "      <th>9474</th>\n",
       "      <td>./dataset/mlend\\MLEndSND_Public\\21688.wav</td>\n",
       "      <td>5</td>\n",
       "    </tr>\n",
       "    <tr>\n",
       "      <th>9475</th>\n",
       "      <td>./dataset/esd\\0020\\Angry\\0020_000377.wav</td>\n",
       "      <td>0</td>\n",
       "    </tr>\n",
       "    <tr>\n",
       "      <th>9476</th>\n",
       "      <td>./dataset/mlend\\MLEndSND_Public\\44715.wav</td>\n",
       "      <td>6</td>\n",
       "    </tr>\n",
       "  </tbody>\n",
       "</table>\n",
       "<p>9477 rows × 2 columns</p>\n",
       "</div>"
      ],
      "text/plain": [
       "                                               Filepath  Emotion\n",
       "0             ./dataset/mlend\\MLEndSND_Public\\01620.wav        5\n",
       "1     ./dataset/jl-corpus/Raw JL corpus (unchecked a...        7\n",
       "2             ./dataset/mlend\\MLEndSND_Public\\04997.wav        6\n",
       "3           ./dataset/esd\\0018\\Surprise\\0018_001454.wav        8\n",
       "4             ./dataset/mlend\\MLEndSND_Public\\05521.wav        5\n",
       "...                                                 ...      ...\n",
       "9472  ./dataset/tess\\YAF_pleasant_surprised\\YAF_half...        8\n",
       "9473           ./dataset/esd\\0019\\Angry\\0019_000651.wav        0\n",
       "9474          ./dataset/mlend\\MLEndSND_Public\\21688.wav        5\n",
       "9475           ./dataset/esd\\0020\\Angry\\0020_000377.wav        0\n",
       "9476          ./dataset/mlend\\MLEndSND_Public\\44715.wav        6\n",
       "\n",
       "[9477 rows x 2 columns]"
      ]
     },
     "execution_count": 8,
     "metadata": {},
     "output_type": "execute_result"
    }
   ],
   "source": [
    "df_test"
   ]
  },
  {
   "cell_type": "markdown",
   "id": "86883804",
   "metadata": {},
   "source": [
    "Loading pretrained augmented models and meta classifier"
   ]
  },
  {
   "cell_type": "code",
   "execution_count": 9,
   "id": "2c0f9174",
   "metadata": {},
   "outputs": [
    {
     "name": "stderr",
     "output_type": "stream",
     "text": [
      "c:\\Users\\profi\\OneDrive\\Desktop\\AI-Project--Speech-Emotion-Recognition\\myenv\\lib\\site-packages\\transformers\\configuration_utils.py:315: UserWarning: Passing `gradient_checkpointing` to a config initialization is deprecated and will be removed in v5 Transformers. Using `model.gradient_checkpointing_enable()` instead, or if you are using the `Trainer` API, pass `gradient_checkpointing=True` in your `TrainingArguments`.\n",
      "  warnings.warn(\n"
     ]
    }
   ],
   "source": [
    "# Load Model 1: facebook/wav2vec2-base\n",
    "model1_checkpoint_path = '../models/wav2vec2-base_standardpad_augmentation/checkpoint-22112'\n",
    "processor1 = Wav2Vec2Processor.from_pretrained(\"facebook/wav2vec2-base\")\n",
    "model1 = Wav2Vec2ForSequenceClassification.from_pretrained(\n",
    "    model1_checkpoint_path, num_labels=len(label_map))\n",
    "\n",
    "# Load Model 2: microsoft/wavlm-base\n",
    "model2_checkpoint_path = '../models/wavlm-base_standardpad_augmentation/checkpoint-55280'\n",
    "processor2 = Wav2Vec2FeatureExtractor.from_pretrained(\"microsoft/wavlm-base\")\n",
    "model2 = WavLMForSequenceClassification.from_pretrained(\n",
    "    model2_checkpoint_path, num_labels=len(label_map))"
   ]
  },
  {
   "cell_type": "code",
   "execution_count": 10,
   "id": "b825083d",
   "metadata": {},
   "outputs": [
    {
     "name": "stderr",
     "output_type": "stream",
     "text": [
      "C:\\Users\\profi\\AppData\\Local\\Temp\\ipykernel_46700\\311361715.py:5: FutureWarning: You are using `torch.load` with `weights_only=False` (the current default value), which uses the default pickle module implicitly. It is possible to construct malicious pickle data which will execute arbitrary code during unpickling (See https://github.com/pytorch/pytorch/blob/main/SECURITY.md#untrusted-models for more details). In a future release, the default value for `weights_only` will be flipped to `True`. This limits the functions that could be executed during unpickling. Arbitrary objects will no longer be allowed to be loaded via this mode unless they are explicitly allowlisted by the user via `torch.serialization.add_safe_globals`. We recommend you start setting `weights_only=True` for any use case where you don't have full control of the loaded file. Please open an issue on GitHub for any issues related to this experimental feature.\n",
      "  meta_classifier_model.load_state_dict(torch.load('../models/best_meta_ffnn_model.pt'))\n"
     ]
    },
    {
     "data": {
      "text/plain": [
       "<All keys matched successfully>"
      ]
     },
     "execution_count": 10,
     "metadata": {},
     "output_type": "execute_result"
    }
   ],
   "source": [
    "from transformer_models.meta_learner.MetaLearner import MetaFFNN\n",
    "\n",
    "# Load model\n",
    "meta_classifier_model = MetaFFNN(input_dim=18, hidden_dim=128, output_dim=9)\n",
    "meta_classifier_model.load_state_dict(torch.load('../models/best_meta_ffnn_model.pt'))"
   ]
  },
  {
   "cell_type": "code",
   "execution_count": 11,
   "id": "558e9c64",
   "metadata": {},
   "outputs": [
    {
     "data": {
      "text/plain": [
       "MetaFFNN(\n",
       "  (model): Sequential(\n",
       "    (0): Linear(in_features=18, out_features=128, bias=True)\n",
       "    (1): ReLU()\n",
       "    (2): Dropout(p=0.3, inplace=False)\n",
       "    (3): Linear(in_features=128, out_features=128, bias=True)\n",
       "    (4): ReLU()\n",
       "    (5): Dropout(p=0.3, inplace=False)\n",
       "    (6): Linear(in_features=128, out_features=128, bias=True)\n",
       "    (7): ReLU()\n",
       "    (8): Dropout(p=0.3, inplace=False)\n",
       "    (9): Linear(in_features=128, out_features=9, bias=True)\n",
       "  )\n",
       ")"
      ]
     },
     "execution_count": 11,
     "metadata": {},
     "output_type": "execute_result"
    }
   ],
   "source": [
    "device = torch.device(\"cuda\" if torch.cuda.is_available() else \"cpu\")\n",
    "model1.eval()\n",
    "model1.to(device)\n",
    "model2.eval()\n",
    "model2.to(device)\n",
    "meta_classifier_model.eval()\n",
    "meta_classifier_model.to(device)"
   ]
  },
  {
   "cell_type": "markdown",
   "id": "0bb163a3",
   "metadata": {},
   "source": [
    "Prepare test dataset"
   ]
  },
  {
   "cell_type": "code",
   "execution_count": 12,
   "id": "92ca45b7",
   "metadata": {},
   "outputs": [],
   "source": [
    "from transformer_models.emotion_datasets.SpeechEmotionDatasetStandardPad import SpeechEmotionDatasetStandardPad\n",
    "\n",
    "# Create two test datasets, one for each model\n",
    "test_dataset1 = SpeechEmotionDatasetStandardPad(df_test, processor1)\n",
    "test_dataset2 = SpeechEmotionDatasetStandardPad(df_test, processor2)"
   ]
  },
  {
   "cell_type": "code",
   "execution_count": 13,
   "id": "f2f305d1",
   "metadata": {},
   "outputs": [
    {
     "name": "stderr",
     "output_type": "stream",
     "text": [
      "Keyword argument `truncate` is not a valid argument for this processor and will be ignored.\n"
     ]
    },
    {
     "data": {
      "text/plain": [
       "{'input_values': tensor([ 0.0045, -0.0713,  0.0061,  ...,  0.0004,  0.0004,  0.0004]),\n",
       " 'labels': tensor(5)}"
      ]
     },
     "execution_count": 13,
     "metadata": {},
     "output_type": "execute_result"
    }
   ],
   "source": [
    "test_dataset1[0]"
   ]
  },
  {
   "cell_type": "code",
   "execution_count": 14,
   "id": "5bb68072",
   "metadata": {},
   "outputs": [
    {
     "data": {
      "text/plain": [
       "{'input_values': tensor([ 0.0001, -0.0024,  0.0002,  ...,  0.0000,  0.0000,  0.0000]),\n",
       " 'labels': tensor(5)}"
      ]
     },
     "execution_count": 14,
     "metadata": {},
     "output_type": "execute_result"
    }
   ],
   "source": [
    "test_dataset2[0]"
   ]
  },
  {
   "cell_type": "markdown",
   "id": "19a47a53",
   "metadata": {},
   "source": [
    "Get predictions from each model"
   ]
  },
  {
   "cell_type": "code",
   "execution_count": 15,
   "id": "8d446ede",
   "metadata": {},
   "outputs": [],
   "source": [
    "def get_base_logits(model, dataloader, device):\n",
    "    \"\"\"\n",
    "    Obtain logits from the given base model over the test set.\n",
    "    \"\"\"\n",
    "    model.eval()\n",
    "    logits_list = []\n",
    "    labels_list = []\n",
    "    \n",
    "    with torch.no_grad():\n",
    "        for batch in dataloader:\n",
    "            input_values = batch[\"input_values\"].to(device)\n",
    "            outputs = model(input_values)\n",
    "            # Directly obtain logits without applying softmax\n",
    "            logits = outputs.logits\n",
    "            logits_list.append(logits.cpu())\n",
    "            labels_list.append(batch[\"labels\"].cpu())\n",
    "    \n",
    "    return torch.cat(logits_list, dim=0), torch.cat(labels_list, dim=0)\n"
   ]
  },
  {
   "cell_type": "code",
   "execution_count": 16,
   "id": "7c6faa56",
   "metadata": {},
   "outputs": [],
   "source": [
    "def construct_meta_features(logits1, logits2):\n",
    "    \"\"\"\n",
    "    Concatenate the raw logits from both models.\n",
    "    \"\"\"\n",
    "    # Concatenate along the last dimension, e.g., logits1 and logits2 each of shape [N, 9]\n",
    "    meta_features = torch.cat([logits1, logits2], dim=-1)\n",
    "    return meta_features"
   ]
  },
  {
   "cell_type": "code",
   "execution_count": 17,
   "id": "e10ef2fa",
   "metadata": {},
   "outputs": [
    {
     "name": "stderr",
     "output_type": "stream",
     "text": [
      "c:\\Users\\profi\\OneDrive\\Desktop\\AI-Project--Speech-Emotion-Recognition\\transformer_models\\emotion_datasets\\SpeechEmotionDatasetStandardPad.py:22: UserWarning: PySoundFile failed. Trying audioread instead.\n",
      "  speech, sr = librosa.load(audio_path, sr=16000)\n",
      "c:\\Users\\profi\\OneDrive\\Desktop\\AI-Project--Speech-Emotion-Recognition\\myenv\\lib\\site-packages\\librosa\\core\\audio.py:184: FutureWarning: librosa.core.audio.__audioread_load\n",
      "\tDeprecated as of librosa version 0.10.0.\n",
      "\tIt will be removed in librosa version 1.0.\n",
      "  y, sr_native = __audioread_load(path, offset, duration, dtype)\n"
     ]
    },
    {
     "name": "stdout",
     "output_type": "stream",
     "text": [
      "9477\n",
      "torch.Size([9477, 9]) torch.Size([9477, 9])\n",
      "torch.Size([9477, 18])\n",
      "(9477,)\n"
     ]
    }
   ],
   "source": [
    "# Create DataLoaders for the test datasets\n",
    "batch_size = 128\n",
    "test_loader1 = DataLoader(test_dataset1, batch_size=batch_size, shuffle=False)\n",
    "test_loader2 = DataLoader(test_dataset2, batch_size=batch_size, shuffle=False)\n",
    "\n",
    "# Get logits and ground truth from the base models\n",
    "logits1, ground_truth = get_base_logits(model1, test_loader1, device)\n",
    "print(len(ground_truth))\n",
    "logits2, _ = get_base_logits(model2, test_loader2, device)\n",
    "print(logits1.shape, logits2.shape)\n",
    "\n",
    "meta_features = construct_meta_features(logits1, logits2).to(device)\n",
    "print(meta_features.shape)\n",
    "\n",
    "# Run the meta-classifier on the concatenated logits\n",
    "with torch.no_grad():\n",
    "    meta_outputs = meta_classifier_model(meta_features)\n",
    "    # Get ensemble predictions by taking the highest scoring logit for each sample\n",
    "    meta_preds = torch.argmax(meta_outputs, dim=-1).cpu().numpy()\n",
    "print(meta_preds.shape)\n"
   ]
  },
  {
   "cell_type": "code",
   "execution_count": 18,
   "id": "1c4d28fe",
   "metadata": {},
   "outputs": [
    {
     "name": "stdout",
     "output_type": "stream",
     "text": [
      "Test Accuracy: 0.8611\n",
      "Test Precision: 0.8729\n",
      "Test Recall: 0.8611\n",
      "Test F1-score: 0.8641\n",
      "\n",
      "              precision    recall  f1-score   support\n",
      "\n",
      "       Anger       0.89      0.88      0.89       916\n",
      "       Bored       0.90      0.94      0.92      1098\n",
      "     Disgust       0.64      0.78      0.70       291\n",
      "        Fear       0.52      0.82      0.63       308\n",
      "       Happy       0.94      0.83      0.88      1914\n",
      "     Neutral       0.83      0.85      0.84      2226\n",
      "    Question       0.97      0.95      0.96      1139\n",
      "         Sad       0.93      0.77      0.84       857\n",
      "    Surprise       0.79      0.86      0.82       728\n",
      "\n",
      "    accuracy                           0.86      9477\n",
      "   macro avg       0.82      0.85      0.83      9477\n",
      "weighted avg       0.87      0.86      0.86      9477\n",
      "\n"
     ]
    },
    {
     "data": {
      "image/png": "[encoded data removed]",
      "text/plain": [
       "<Figure size 1000x800 with 2 Axes>"
      ]
     },
     "metadata": {},
     "output_type": "display_data"
    }
   ],
   "source": [
    "# Compute metrics: accuracy, precision, recall, and F1 score\n",
    "accuracy = accuracy_score(ground_truth, meta_preds)\n",
    "precision, recall, f1, _ = precision_recall_fscore_support(ground_truth, meta_preds, average='weighted')\n",
    "\n",
    "print(f\"Test Accuracy: {accuracy:.4f}\")\n",
    "print(f\"Test Precision: {precision:.4f}\")\n",
    "print(f\"Test Recall: {recall:.4f}\")\n",
    "print(f\"Test F1-score: {f1:.4f}\\n\")\n",
    "\n",
    "# Detailed classification report\n",
    "print(classification_report(ground_truth, meta_preds, target_names=list(label_map.keys())))\n",
    "\n",
    "# Compute the confusion matrix\n",
    "conf_matrix = confusion_matrix(ground_truth, meta_preds)\n",
    "\n",
    "# Plot the confusion matrix as a heatmap\n",
    "plt.figure(figsize=(10, 8))\n",
    "sns.heatmap(conf_matrix, annot=True, fmt=\"d\", cmap=\"Blues\",\n",
    "            xticklabels=list(label_map.keys()),\n",
    "            yticklabels=list(label_map.keys()))\n",
    "plt.xlabel('Predicted Label')\n",
    "plt.ylabel('True Label')\n",
    "plt.title('Confusion Matrix')\n",
    "plt.xticks(rotation=45)\n",
    "plt.yticks(rotation=45)\n",
    "plt.tight_layout()\n",
    "plt.show()"
   ]
  },
  {
   "cell_type": "code",
   "execution_count": null,
   "id": "1208298d",
   "metadata": {},
   "outputs": [],
   "source": []
  }
 ],
 "metadata": {
  "kernelspec": {
   "display_name": "myenv",
   "language": "python",
   "name": "python3"
  },
  "language_info": {
   "codemirror_mode": {
    "name": "ipython",
    "version": 3
   },
   "file_extension": ".py",
   "mimetype": "text/x-python",
   "name": "python",
   "nbconvert_exporter": "python",
   "pygments_lexer": "ipython3",
   "version": "3.10.11"
  }
 },
 "nbformat": 4,
 "nbformat_minor": 5
}
