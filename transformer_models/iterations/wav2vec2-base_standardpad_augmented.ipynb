{
 "cells": [
  {
   "cell_type": "markdown",
   "metadata": {},
   "source": [
    "# Transfer learning on facebook/wav2vec2-base\n"
   ]
  },
  {
   "cell_type": "markdown",
   "metadata": {},
   "source": [
    "With raw audio files all padded to 4s without data augmentation"
   ]
  },
  {
   "cell_type": "code",
   "execution_count": 1,
   "metadata": {},
   "outputs": [
    {
     "name": "stderr",
     "output_type": "stream",
     "text": [
      "c:\\Users\\profi\\OneDrive\\Desktop\\AI-Project--Speech-Emotion-Recognition\\myenv\\lib\\site-packages\\tqdm\\auto.py:21: TqdmWarning: IProgress not found. Please update jupyter and ipywidgets. See https://ipywidgets.readthedocs.io/en/stable/user_install.html\n",
      "  from .autonotebook import tqdm as notebook_tqdm\n"
     ]
    }
   ],
   "source": [
    "import os\n",
    "import sys\n",
    "import pandas as pd\n",
    "import numpy as np\n",
    "import random\n",
    "import seaborn as sns\n",
    "import matplotlib.pyplot as plt\n",
    "import torch\n",
    "from transformers import set_seed, Wav2Vec2Processor, Wav2Vec2ForSequenceClassification, TrainingArguments\n",
    "from sklearn.metrics import accuracy_score, precision_recall_fscore_support, classification_report, confusion_matrix"
   ]
  },
  {
   "cell_type": "code",
   "execution_count": 2,
   "metadata": {},
   "outputs": [],
   "source": [
    "notebook_path = os.getcwd()\n",
    "project_root = os.path.abspath(os.path.join(notebook_path, '../..'))\n",
    "sys.path.insert(0, project_root)"
   ]
  },
  {
   "cell_type": "code",
   "execution_count": 3,
   "metadata": {},
   "outputs": [
    {
     "name": "stdout",
     "output_type": "stream",
     "text": [
      "2.5.1+cu121\n",
      "True\n"
     ]
    }
   ],
   "source": [
    "print(torch.__version__)\n",
    "print(torch.cuda.is_available())"
   ]
  },
  {
   "cell_type": "code",
   "execution_count": 4,
   "metadata": {},
   "outputs": [],
   "source": [
    "# Set seed for reproducibility\n",
    "seed = 42\n",
    "set_seed(seed)\n",
    "random.seed(seed)\n",
    "np.random.seed(seed)\n",
    "torch.manual_seed(seed)\n",
    "if torch.cuda.is_available():\n",
    "    torch.cuda.manual_seed_all(seed)"
   ]
  },
  {
   "cell_type": "code",
   "execution_count": 5,
   "metadata": {},
   "outputs": [],
   "source": [
    "root_dir = '../../data/augmentation/'"
   ]
  },
  {
   "cell_type": "markdown",
   "metadata": {},
   "source": [
    "## Load Dataset\n"
   ]
  },
  {
   "cell_type": "code",
   "execution_count": 6,
   "metadata": {},
   "outputs": [],
   "source": [
    "df_train = pd.read_csv('../../data/augmentation/augmented_combined_train_dataset.csv')\n",
    "df_train = df_train[['Filepath', 'Emotion']]\n",
    "df_val = pd.read_csv('../../data/val_dataset.csv')\n",
    "df_val = df_val[['Filepath', 'Emotion']]\n",
    "df_test = pd.read_csv('../../data/test_dataset.csv')\n",
    "df_test = df_test[['Filepath', 'Emotion']]"
   ]
  },
  {
   "cell_type": "code",
   "execution_count": 7,
   "metadata": {},
   "outputs": [
    {
     "data": {
      "application/vnd.microsoft.datawrangler.viewer.v0+json": {
       "columns": [
        {
         "name": "index",
         "rawType": "int64",
         "type": "integer"
        },
        {
         "name": "Filepath",
         "rawType": "object",
         "type": "string"
        },
        {
         "name": "Emotion",
         "rawType": "object",
         "type": "string"
        }
       ],
       "conversionMethod": "pd.DataFrame",
       "ref": "add726ae-b8e6-4748-a0bc-e7210868719e",
       "rows": [
        [
         "0",
         "../dataset/mlend/MLEndSND_Public/11093.wav",
         "Question"
        ],
        [
         "1",
         "../dataset/crema-d/AudioWAV/1011_TAI_ANG_XX.wav",
         "Anger"
        ],
        [
         "2",
         "../dataset/mlend/MLEndSND_Public/27019.wav",
         "Neutral"
        ],
        [
         "3",
         "../dataset/mlend/MLEndSND_Public/23420.wav",
         "Bored"
        ],
        [
         "4",
         "../dataset/crema-d/AudioWAV/1077_ITH_ANG_XX.wav",
         "Anger"
        ],
        [
         "5",
         "../dataset/tess/YAF_fear/YAF_pad_fear.wav",
         "Fear"
        ],
        [
         "6",
         "../dataset/meld/train/dia954_utt2.mp4",
         "Neutral"
        ],
        [
         "7",
         "../dataset/tess/OAF_angry/OAF_check_angry.wav",
         "Anger"
        ],
        [
         "8",
         "../dataset/mlend/MLEndSND_Public/01160.wav",
         "Neutral"
        ],
        [
         "9",
         "../dataset/mlend/MLEndSND_Public/08931.wav",
         "Bored"
        ],
        [
         "10",
         "../dataset/meld/train/dia110_utt0.mp4",
         "Neutral"
        ],
        [
         "11",
         "../dataset/crema-d/AudioWAV/1079_TSI_SAD_XX.wav",
         "Sad"
        ],
        [
         "12",
         "../dataset/esd/0014/Neutral/0014_000216.wav",
         "Neutral"
        ],
        [
         "13",
         "../dataset/mlend/MLEndSND_Public/20933.wav",
         "Neutral"
        ],
        [
         "14",
         "../dataset/mlend/MLEndSND_Public/32461.wav",
         "Neutral"
        ],
        [
         "15",
         "../dataset/crema-d/AudioWAV/1009_ITS_DIS_XX.wav",
         "Disgust"
        ],
        [
         "16",
         "../dataset/mlend/MLEndSND_Public/00304.wav",
         "Neutral"
        ],
        [
         "17",
         "../dataset/meld/train/dia915_utt5.mp4",
         "Neutral"
        ],
        [
         "18",
         "../dataset/meld/train/dia562_utt6.mp4",
         "Neutral"
        ],
        [
         "19",
         "../dataset/mlend/MLEndSND_Public/21215.wav",
         "Happy"
        ],
        [
         "20",
         "../dataset/esd/0019/Neutral/0019_000063.wav",
         "Neutral"
        ],
        [
         "21",
         "../dataset/crema-d/AudioWAV/1017_IEO_FEA_LO.wav",
         "Fear"
        ],
        [
         "22",
         "../dataset/esd/0016/Surprise/0016_001661.wav",
         "Surprise"
        ],
        [
         "23",
         "../dataset/tess/YAF_angry/YAF_live_angry.wav",
         "Anger"
        ],
        [
         "24",
         "../dataset/ravdess/Actor_16/03-01-03-01-02-02-16.wav",
         "Happy"
        ],
        [
         "25",
         "../dataset/esd/0018/Surprise/0018_001552.wav",
         "Surprise"
        ],
        [
         "26",
         "../dataset/mlend/MLEndSND_Public/09988.wav",
         "Bored"
        ],
        [
         "27",
         "../dataset/esd/0019/Sad/0019_001386.wav",
         "Sad"
        ],
        [
         "28",
         "../dataset/mlend/MLEndSND_Public/28053.wav",
         "Bored"
        ],
        [
         "29",
         "../dataset/mlend/MLEndSND_Public/07002.wav",
         "Question"
        ],
        [
         "30",
         "../dataset/meld/train/dia827_utt1.mp4",
         "Happy"
        ],
        [
         "31",
         "../dataset/meld/train/dia961_utt3.mp4",
         "Anger"
        ],
        [
         "32",
         "../dataset/esd/0020/Angry/0020_000669.wav",
         "Anger"
        ],
        [
         "33",
         "../dataset/mlend/MLEndSND_Public/27233.wav",
         "Question"
        ],
        [
         "34",
         "../dataset/mlend/MLEndSND_Public/04728.wav",
         "Happy"
        ],
        [
         "35",
         "../dataset/crema-d/AudioWAV/1073_DFA_DIS_XX.wav",
         "Disgust"
        ],
        [
         "36",
         "../dataset/mlend/MLEndSND_Public/27175.wav",
         "Happy"
        ],
        [
         "37",
         "../dataset/tess/YAF_angry/YAF_pole_angry.wav",
         "Anger"
        ],
        [
         "38",
         "../dataset/mlend/MLEndSND_Public/03585.wav",
         "Question"
        ],
        [
         "39",
         "../dataset/esd/0013/Angry/0013_000445.wav",
         "Anger"
        ],
        [
         "40",
         "../dataset/mlend/MLEndSND_Public/24644.wav",
         "Happy"
        ],
        [
         "41",
         "../dataset/tess/YAF_fear/YAF_cause_fear.wav",
         "Fear"
        ],
        [
         "42",
         "../dataset/esd/0019/Neutral/0019_000187.wav",
         "Neutral"
        ],
        [
         "43",
         "../dataset/mlend/MLEndSND_Public/23854.wav",
         "Bored"
        ],
        [
         "44",
         "../dataset/crema-d/AudioWAV/1077_TIE_SAD_XX.wav",
         "Sad"
        ],
        [
         "45",
         "../dataset/mlend/MLEndSND_Public/11468.wav",
         "Neutral"
        ],
        [
         "46",
         "../dataset/mlend/MLEndSND_Public/41356.wav",
         "Happy"
        ],
        [
         "47",
         "../dataset/crema-d/AudioWAV/1037_IEO_DIS_LO.wav",
         "Disgust"
        ],
        [
         "48",
         "../dataset/mlend/MLEndSND_Public/46042.wav",
         "Question"
        ],
        [
         "49",
         "../dataset/meld/train/dia1029_utt3.mp4",
         "Surprise"
        ]
       ],
       "shape": {
        "columns": 2,
        "rows": 176884
       }
      },
      "text/html": [
       "<div>\n",
       "<style scoped>\n",
       "    .dataframe tbody tr th:only-of-type {\n",
       "        vertical-align: middle;\n",
       "    }\n",
       "\n",
       "    .dataframe tbody tr th {\n",
       "        vertical-align: top;\n",
       "    }\n",
       "\n",
       "    .dataframe thead th {\n",
       "        text-align: right;\n",
       "    }\n",
       "</style>\n",
       "<table border=\"1\" class=\"dataframe\">\n",
       "  <thead>\n",
       "    <tr style=\"text-align: right;\">\n",
       "      <th></th>\n",
       "      <th>Filepath</th>\n",
       "      <th>Emotion</th>\n",
       "    </tr>\n",
       "  </thead>\n",
       "  <tbody>\n",
       "    <tr>\n",
       "      <th>0</th>\n",
       "      <td>../dataset/mlend/MLEndSND_Public/11093.wav</td>\n",
       "      <td>Question</td>\n",
       "    </tr>\n",
       "    <tr>\n",
       "      <th>1</th>\n",
       "      <td>../dataset/crema-d/AudioWAV/1011_TAI_ANG_XX.wav</td>\n",
       "      <td>Anger</td>\n",
       "    </tr>\n",
       "    <tr>\n",
       "      <th>2</th>\n",
       "      <td>../dataset/mlend/MLEndSND_Public/27019.wav</td>\n",
       "      <td>Neutral</td>\n",
       "    </tr>\n",
       "    <tr>\n",
       "      <th>3</th>\n",
       "      <td>../dataset/mlend/MLEndSND_Public/23420.wav</td>\n",
       "      <td>Bored</td>\n",
       "    </tr>\n",
       "    <tr>\n",
       "      <th>4</th>\n",
       "      <td>../dataset/crema-d/AudioWAV/1077_ITH_ANG_XX.wav</td>\n",
       "      <td>Anger</td>\n",
       "    </tr>\n",
       "    <tr>\n",
       "      <th>...</th>\n",
       "      <td>...</td>\n",
       "      <td>...</td>\n",
       "    </tr>\n",
       "    <tr>\n",
       "      <th>176879</th>\n",
       "      <td>augmented_time\\dia873_utt1_time.wav</td>\n",
       "      <td>Neutral</td>\n",
       "    </tr>\n",
       "    <tr>\n",
       "      <th>176880</th>\n",
       "      <td>augmented_time\\0015_000807_time.wav</td>\n",
       "      <td>Happy</td>\n",
       "    </tr>\n",
       "    <tr>\n",
       "      <th>176881</th>\n",
       "      <td>augmented_time\\40154_time.wav</td>\n",
       "      <td>Neutral</td>\n",
       "    </tr>\n",
       "    <tr>\n",
       "      <th>176882</th>\n",
       "      <td>augmented_time\\0017_001347_time.wav</td>\n",
       "      <td>Sad</td>\n",
       "    </tr>\n",
       "    <tr>\n",
       "      <th>176883</th>\n",
       "      <td>augmented_time\\01986_time.wav</td>\n",
       "      <td>Happy</td>\n",
       "    </tr>\n",
       "  </tbody>\n",
       "</table>\n",
       "<p>176884 rows × 2 columns</p>\n",
       "</div>"
      ],
      "text/plain": [
       "                                               Filepath   Emotion\n",
       "0            ../dataset/mlend/MLEndSND_Public/11093.wav  Question\n",
       "1       ../dataset/crema-d/AudioWAV/1011_TAI_ANG_XX.wav     Anger\n",
       "2            ../dataset/mlend/MLEndSND_Public/27019.wav   Neutral\n",
       "3            ../dataset/mlend/MLEndSND_Public/23420.wav     Bored\n",
       "4       ../dataset/crema-d/AudioWAV/1077_ITH_ANG_XX.wav     Anger\n",
       "...                                                 ...       ...\n",
       "176879              augmented_time\\dia873_utt1_time.wav   Neutral\n",
       "176880              augmented_time\\0015_000807_time.wav     Happy\n",
       "176881                    augmented_time\\40154_time.wav   Neutral\n",
       "176882              augmented_time\\0017_001347_time.wav       Sad\n",
       "176883                    augmented_time\\01986_time.wav     Happy\n",
       "\n",
       "[176884 rows x 2 columns]"
      ]
     },
     "execution_count": 7,
     "metadata": {},
     "output_type": "execute_result"
    }
   ],
   "source": [
    "df_train"
   ]
  },
  {
   "cell_type": "code",
   "execution_count": 8,
   "metadata": {},
   "outputs": [
    {
     "data": {
      "application/vnd.microsoft.datawrangler.viewer.v0+json": {
       "columns": [
        {
         "name": "index",
         "rawType": "int64",
         "type": "integer"
        },
        {
         "name": "Filepath",
         "rawType": "object",
         "type": "string"
        },
        {
         "name": "Emotion",
         "rawType": "object",
         "type": "string"
        }
       ],
       "conversionMethod": "pd.DataFrame",
       "ref": "0f833b02-291f-4e1f-be57-c7b2c6d53bcc",
       "rows": [
        [
         "0",
         "./dataset/esd\\0020\\Sad\\0020_001395.wav",
         "Sad"
        ],
        [
         "1",
         "./dataset/meld\\train\\dia930_utt5.mp4",
         "Neutral"
        ],
        [
         "2",
         "./dataset/mlend\\MLEndSND_Public\\24481.wav",
         "Bored"
        ],
        [
         "3",
         "./dataset/crema-d\\AudioWAV\\1002_IEO_SAD_HI.wav",
         "Sad"
        ],
        [
         "4",
         "./dataset/esd\\0011\\Angry\\0011_000373.wav",
         "Anger"
        ],
        [
         "5",
         "./dataset/crema-d\\AudioWAV\\1050_IWL_SAD_XX.wav",
         "Sad"
        ],
        [
         "6",
         "./dataset/tess\\OAF_neutral\\OAF_lease_neutral.wav",
         "Neutral"
        ],
        [
         "7",
         "./dataset/crema-d\\AudioWAV\\1033_DFA_SAD_XX.wav",
         "Sad"
        ],
        [
         "8",
         "./dataset/crema-d\\AudioWAV\\1059_IEO_NEU_XX.wav",
         "Neutral"
        ],
        [
         "9",
         "./dataset/esd\\0014\\Angry\\0014_000503.wav",
         "Anger"
        ],
        [
         "10",
         "./dataset/ravdess\\Actor_20\\03-01-04-01-02-02-20.wav",
         "Sad"
        ],
        [
         "11",
         "./dataset/mlend\\MLEndSND_Public\\41268.wav",
         "Happy"
        ],
        [
         "12",
         "./dataset/esd\\0016\\Surprise\\0016_001715.wav",
         "Surprise"
        ],
        [
         "13",
         "./dataset/esd\\0011\\Happy\\0011_000935.wav",
         "Happy"
        ],
        [
         "14",
         "./dataset/esd\\0018\\Sad\\0018_001210.wav",
         "Sad"
        ],
        [
         "15",
         "./dataset/crema-d\\AudioWAV\\1079_IWL_SAD_XX.wav",
         "Sad"
        ],
        [
         "16",
         "./dataset/esd\\0019\\Angry\\0019_000646.wav",
         "Anger"
        ],
        [
         "17",
         "./dataset/mlend\\MLEndSND_Public\\31175.wav",
         "Bored"
        ],
        [
         "18",
         "./dataset/mlend\\MLEndSND_Public\\37494.wav",
         "Question"
        ],
        [
         "19",
         "./dataset/esd\\0017\\Sad\\0017_001154.wav",
         "Sad"
        ],
        [
         "20",
         "./dataset/mlend\\MLEndSND_Public\\12125.wav",
         "Happy"
        ],
        [
         "21",
         "./dataset/meld\\train\\dia1036_utt12.mp4",
         "Neutral"
        ],
        [
         "22",
         "./dataset/esd\\0012\\Sad\\0012_001194.wav",
         "Sad"
        ],
        [
         "23",
         "./dataset/esd\\0015\\Neutral\\0015_000079.wav",
         "Neutral"
        ],
        [
         "24",
         "./dataset/mlend\\MLEndSND_Public\\07613.wav",
         "Happy"
        ],
        [
         "25",
         "./dataset/mlend\\MLEndSND_Public\\10182.wav",
         "Happy"
        ],
        [
         "26",
         "./dataset/mlend\\MLEndSND_Public\\30464.wav",
         "Neutral"
        ],
        [
         "27",
         "./dataset/tess\\YAF_pleasant_surprised\\YAF_keen_ps.wav",
         "Surprise"
        ],
        [
         "28",
         "./dataset/meld\\train\\dia806_utt0.mp4",
         "Surprise"
        ],
        [
         "29",
         "./dataset/ravdess\\Actor_09\\03-01-01-01-02-01-09.wav",
         "Neutral"
        ],
        [
         "30",
         "./dataset/mlend\\MLEndSND_Public\\32504.wav",
         "Neutral"
        ],
        [
         "31",
         "./dataset/mlend\\MLEndSND_Public\\08221.wav",
         "Bored"
        ],
        [
         "32",
         "./dataset/mlend\\MLEndSND_Public\\11843.wav",
         "Question"
        ],
        [
         "33",
         "./dataset/mlend\\MLEndSND_Public\\26478.wav",
         "Question"
        ],
        [
         "34",
         "./dataset/esd\\0020\\Angry\\0020_000520.wav",
         "Anger"
        ],
        [
         "35",
         "./dataset/mlend\\MLEndSND_Public\\03991.wav",
         "Question"
        ],
        [
         "36",
         "./dataset/crema-d\\AudioWAV\\1062_IOM_SAD_XX.wav",
         "Sad"
        ],
        [
         "37",
         "./dataset/mlend\\MLEndSND_Public\\42670.wav",
         "Question"
        ],
        [
         "38",
         "./dataset/crema-d\\AudioWAV\\1078_IEO_ANG_MD.wav",
         "Anger"
        ],
        [
         "39",
         "./dataset/esd\\0020\\Angry\\0020_000575.wav",
         "Anger"
        ],
        [
         "40",
         "./dataset/esd\\0013\\Neutral\\0013_000174.wav",
         "Neutral"
        ],
        [
         "41",
         "./dataset/esd\\0018\\Surprise\\0018_001519.wav",
         "Surprise"
        ],
        [
         "42",
         "./dataset/mlend\\MLEndSND_Public\\03212.wav",
         "Neutral"
        ],
        [
         "43",
         "./dataset/tess\\OAF_disgust\\OAF_room_disgust.wav",
         "Disgust"
        ],
        [
         "44",
         "./dataset/mlend\\MLEndSND_Public\\19669.wav",
         "Bored"
        ],
        [
         "45",
         "./dataset/esd\\0014\\Happy\\0014_000858.wav",
         "Happy"
        ],
        [
         "46",
         "./dataset/meld\\train\\dia47_utt12.mp4",
         "Neutral"
        ],
        [
         "47",
         "./dataset/crema-d\\AudioWAV\\1001_IEO_ANG_MD.wav",
         "Anger"
        ],
        [
         "48",
         "./dataset/crema-d\\AudioWAV\\1006_IWW_ANG_XX.wav",
         "Anger"
        ],
        [
         "49",
         "./dataset/esd\\0013\\Angry\\0013_000468.wav",
         "Anger"
        ]
       ],
       "shape": {
        "columns": 2,
        "rows": 9476
       }
      },
      "text/html": [
       "<div>\n",
       "<style scoped>\n",
       "    .dataframe tbody tr th:only-of-type {\n",
       "        vertical-align: middle;\n",
       "    }\n",
       "\n",
       "    .dataframe tbody tr th {\n",
       "        vertical-align: top;\n",
       "    }\n",
       "\n",
       "    .dataframe thead th {\n",
       "        text-align: right;\n",
       "    }\n",
       "</style>\n",
       "<table border=\"1\" class=\"dataframe\">\n",
       "  <thead>\n",
       "    <tr style=\"text-align: right;\">\n",
       "      <th></th>\n",
       "      <th>Filepath</th>\n",
       "      <th>Emotion</th>\n",
       "    </tr>\n",
       "  </thead>\n",
       "  <tbody>\n",
       "    <tr>\n",
       "      <th>0</th>\n",
       "      <td>./dataset/esd\\0020\\Sad\\0020_001395.wav</td>\n",
       "      <td>Sad</td>\n",
       "    </tr>\n",
       "    <tr>\n",
       "      <th>1</th>\n",
       "      <td>./dataset/meld\\train\\dia930_utt5.mp4</td>\n",
       "      <td>Neutral</td>\n",
       "    </tr>\n",
       "    <tr>\n",
       "      <th>2</th>\n",
       "      <td>./dataset/mlend\\MLEndSND_Public\\24481.wav</td>\n",
       "      <td>Bored</td>\n",
       "    </tr>\n",
       "    <tr>\n",
       "      <th>3</th>\n",
       "      <td>./dataset/crema-d\\AudioWAV\\1002_IEO_SAD_HI.wav</td>\n",
       "      <td>Sad</td>\n",
       "    </tr>\n",
       "    <tr>\n",
       "      <th>4</th>\n",
       "      <td>./dataset/esd\\0011\\Angry\\0011_000373.wav</td>\n",
       "      <td>Anger</td>\n",
       "    </tr>\n",
       "    <tr>\n",
       "      <th>...</th>\n",
       "      <td>...</td>\n",
       "      <td>...</td>\n",
       "    </tr>\n",
       "    <tr>\n",
       "      <th>9471</th>\n",
       "      <td>./dataset/tess\\YAF_disgust\\YAF_take_disgust.wav</td>\n",
       "      <td>Disgust</td>\n",
       "    </tr>\n",
       "    <tr>\n",
       "      <th>9472</th>\n",
       "      <td>./dataset/mlend\\MLEndSND_Public\\43418.wav</td>\n",
       "      <td>Bored</td>\n",
       "    </tr>\n",
       "    <tr>\n",
       "      <th>9473</th>\n",
       "      <td>./dataset/mlend\\MLEndSND_Public\\02459.wav</td>\n",
       "      <td>Bored</td>\n",
       "    </tr>\n",
       "    <tr>\n",
       "      <th>9474</th>\n",
       "      <td>./dataset/mlend\\MLEndSND_Public\\10609.wav</td>\n",
       "      <td>Question</td>\n",
       "    </tr>\n",
       "    <tr>\n",
       "      <th>9475</th>\n",
       "      <td>./dataset/mlend\\MLEndSND_Public\\23072.wav</td>\n",
       "      <td>Question</td>\n",
       "    </tr>\n",
       "  </tbody>\n",
       "</table>\n",
       "<p>9476 rows × 2 columns</p>\n",
       "</div>"
      ],
      "text/plain": [
       "                                             Filepath   Emotion\n",
       "0              ./dataset/esd\\0020\\Sad\\0020_001395.wav       Sad\n",
       "1                ./dataset/meld\\train\\dia930_utt5.mp4   Neutral\n",
       "2           ./dataset/mlend\\MLEndSND_Public\\24481.wav     Bored\n",
       "3      ./dataset/crema-d\\AudioWAV\\1002_IEO_SAD_HI.wav       Sad\n",
       "4            ./dataset/esd\\0011\\Angry\\0011_000373.wav     Anger\n",
       "...                                               ...       ...\n",
       "9471  ./dataset/tess\\YAF_disgust\\YAF_take_disgust.wav   Disgust\n",
       "9472        ./dataset/mlend\\MLEndSND_Public\\43418.wav     Bored\n",
       "9473        ./dataset/mlend\\MLEndSND_Public\\02459.wav     Bored\n",
       "9474        ./dataset/mlend\\MLEndSND_Public\\10609.wav  Question\n",
       "9475        ./dataset/mlend\\MLEndSND_Public\\23072.wav  Question\n",
       "\n",
       "[9476 rows x 2 columns]"
      ]
     },
     "execution_count": 8,
     "metadata": {},
     "output_type": "execute_result"
    }
   ],
   "source": [
    "df_val"
   ]
  },
  {
   "cell_type": "code",
   "execution_count": 9,
   "metadata": {},
   "outputs": [
    {
     "data": {
      "application/vnd.microsoft.datawrangler.viewer.v0+json": {
       "columns": [
        {
         "name": "index",
         "rawType": "int64",
         "type": "integer"
        },
        {
         "name": "Filepath",
         "rawType": "object",
         "type": "string"
        },
        {
         "name": "Emotion",
         "rawType": "object",
         "type": "string"
        }
       ],
       "conversionMethod": "pd.DataFrame",
       "ref": "43f1f475-517a-4a36-8933-747a367f7ddd",
       "rows": [
        [
         "0",
         "./dataset/mlend\\MLEndSND_Public\\01620.wav",
         "Neutral"
        ],
        [
         "1",
         "./dataset/jl-corpus/Raw JL corpus (unchecked and unannotated)/JL(wav+txt)\\male1_sad_5a_1.wav",
         "Sad"
        ],
        [
         "2",
         "./dataset/mlend\\MLEndSND_Public\\04997.wav",
         "Question"
        ],
        [
         "3",
         "./dataset/esd\\0018\\Surprise\\0018_001454.wav",
         "Surprise"
        ],
        [
         "4",
         "./dataset/mlend\\MLEndSND_Public\\05521.wav",
         "Neutral"
        ],
        [
         "5",
         "./dataset/mlend\\MLEndSND_Public\\02888.wav",
         "Question"
        ],
        [
         "6",
         "./dataset/mlend\\MLEndSND_Public\\33135.wav",
         "Neutral"
        ],
        [
         "7",
         "./dataset/crema-d\\AudioWAV\\1052_TAI_ANG_XX.wav",
         "Anger"
        ],
        [
         "8",
         "./dataset/esd\\0017\\Neutral\\0017_000228.wav",
         "Neutral"
        ],
        [
         "9",
         "./dataset/savee\\JK_a12.wav",
         "Anger"
        ],
        [
         "10",
         "./dataset/mlend\\MLEndSND_Public\\26373.wav",
         "Neutral"
        ],
        [
         "11",
         "./dataset/mlend\\MLEndSND_Public\\13399.wav",
         "Neutral"
        ],
        [
         "12",
         "./dataset/mlend\\MLEndSND_Public\\40183.wav",
         "Question"
        ],
        [
         "13",
         "./dataset/mlend\\MLEndSND_Public\\44409.wav",
         "Neutral"
        ],
        [
         "14",
         "./dataset/esd\\0013\\Angry\\0013_000646.wav",
         "Anger"
        ],
        [
         "15",
         "./dataset/esd\\0019\\Angry\\0019_000427.wav",
         "Anger"
        ],
        [
         "16",
         "./dataset/mlend\\MLEndSND_Public\\31361.wav",
         "Question"
        ],
        [
         "17",
         "./dataset/esd\\0019\\Neutral\\0019_000020.wav",
         "Neutral"
        ],
        [
         "18",
         "./dataset/mlend\\MLEndSND_Public\\20417.wav",
         "Bored"
        ],
        [
         "19",
         "./dataset/esd\\0020\\Surprise\\0020_001662.wav",
         "Surprise"
        ],
        [
         "20",
         "./dataset/mlend\\MLEndSND_Public\\39199.wav",
         "Question"
        ],
        [
         "21",
         "./dataset/meld\\train\\dia319_utt22.mp4",
         "Disgust"
        ],
        [
         "22",
         "./dataset/mlend\\MLEndSND_Public\\29318.wav",
         "Happy"
        ],
        [
         "23",
         "./dataset/mlend\\MLEndSND_Public\\36191.wav",
         "Happy"
        ],
        [
         "24",
         "./dataset/mlend\\MLEndSND_Public\\21860.wav",
         "Bored"
        ],
        [
         "25",
         "./dataset/mlend\\MLEndSND_Public\\26708.wav",
         "Happy"
        ],
        [
         "26",
         "./dataset/meld\\train\\dia990_utt16.mp4",
         "Happy"
        ],
        [
         "27",
         "./dataset/crema-d\\AudioWAV\\1067_ITS_DIS_XX.wav",
         "Disgust"
        ],
        [
         "28",
         "./dataset/esd\\0013\\Neutral\\0013_000156.wav",
         "Neutral"
        ],
        [
         "29",
         "./dataset/esd\\0012\\Surprise\\0012_001429.wav",
         "Surprise"
        ],
        [
         "30",
         "./dataset/jl-corpus/Raw JL corpus (unchecked and unannotated)/JL(wav+txt)\\male1_angry_10b_2.wav",
         "Anger"
        ],
        [
         "31",
         "./dataset/esd\\0011\\Angry\\0011_000461.wav",
         "Anger"
        ],
        [
         "32",
         "./dataset/mlend\\MLEndSND_Public\\37804.wav",
         "Question"
        ],
        [
         "33",
         "./dataset/mlend\\MLEndSND_Public\\11073.wav",
         "Question"
        ],
        [
         "34",
         "./dataset/esd\\0014\\Sad\\0014_001209.wav",
         "Sad"
        ],
        [
         "35",
         "./dataset/tess\\OAF_Fear\\OAF_tough_fear.wav",
         "Fear"
        ],
        [
         "36",
         "./dataset/esd\\0015\\Angry\\0015_000440.wav",
         "Anger"
        ],
        [
         "37",
         "./dataset/mlend\\MLEndSND_Public\\21924.wav",
         "Question"
        ],
        [
         "38",
         "./dataset/mlend\\MLEndSND_Public\\05973.wav",
         "Question"
        ],
        [
         "39",
         "./dataset/esd\\0014\\Happy\\0014_000883.wav",
         "Happy"
        ],
        [
         "40",
         "./dataset/meld\\train\\dia431_utt8.mp4",
         "Happy"
        ],
        [
         "41",
         "./dataset/meld\\train\\dia130_utt6.mp4",
         "Neutral"
        ],
        [
         "42",
         "./dataset/esd\\0012\\Sad\\0012_001196.wav",
         "Sad"
        ],
        [
         "43",
         "./dataset/mlend\\MLEndSND_Public\\03452.wav",
         "Bored"
        ],
        [
         "44",
         "./dataset/mlend\\MLEndSND_Public\\30559.wav",
         "Neutral"
        ],
        [
         "45",
         "./dataset/esd\\0011\\Neutral\\0011_000339.wav",
         "Neutral"
        ],
        [
         "46",
         "./dataset/mlend\\MLEndSND_Public\\28855.wav",
         "Bored"
        ],
        [
         "47",
         "./dataset/crema-d\\AudioWAV\\1028_IOM_HAP_XX.wav",
         "Happy"
        ],
        [
         "48",
         "./dataset/esd\\0016\\Neutral\\0016_000191.wav",
         "Neutral"
        ],
        [
         "49",
         "./dataset/mlend\\MLEndSND_Public\\27806.wav",
         "Bored"
        ]
       ],
       "shape": {
        "columns": 2,
        "rows": 9477
       }
      },
      "text/html": [
       "<div>\n",
       "<style scoped>\n",
       "    .dataframe tbody tr th:only-of-type {\n",
       "        vertical-align: middle;\n",
       "    }\n",
       "\n",
       "    .dataframe tbody tr th {\n",
       "        vertical-align: top;\n",
       "    }\n",
       "\n",
       "    .dataframe thead th {\n",
       "        text-align: right;\n",
       "    }\n",
       "</style>\n",
       "<table border=\"1\" class=\"dataframe\">\n",
       "  <thead>\n",
       "    <tr style=\"text-align: right;\">\n",
       "      <th></th>\n",
       "      <th>Filepath</th>\n",
       "      <th>Emotion</th>\n",
       "    </tr>\n",
       "  </thead>\n",
       "  <tbody>\n",
       "    <tr>\n",
       "      <th>0</th>\n",
       "      <td>./dataset/mlend\\MLEndSND_Public\\01620.wav</td>\n",
       "      <td>Neutral</td>\n",
       "    </tr>\n",
       "    <tr>\n",
       "      <th>1</th>\n",
       "      <td>./dataset/jl-corpus/Raw JL corpus (unchecked a...</td>\n",
       "      <td>Sad</td>\n",
       "    </tr>\n",
       "    <tr>\n",
       "      <th>2</th>\n",
       "      <td>./dataset/mlend\\MLEndSND_Public\\04997.wav</td>\n",
       "      <td>Question</td>\n",
       "    </tr>\n",
       "    <tr>\n",
       "      <th>3</th>\n",
       "      <td>./dataset/esd\\0018\\Surprise\\0018_001454.wav</td>\n",
       "      <td>Surprise</td>\n",
       "    </tr>\n",
       "    <tr>\n",
       "      <th>4</th>\n",
       "      <td>./dataset/mlend\\MLEndSND_Public\\05521.wav</td>\n",
       "      <td>Neutral</td>\n",
       "    </tr>\n",
       "    <tr>\n",
       "      <th>...</th>\n",
       "      <td>...</td>\n",
       "      <td>...</td>\n",
       "    </tr>\n",
       "    <tr>\n",
       "      <th>9472</th>\n",
       "      <td>./dataset/tess\\YAF_pleasant_surprised\\YAF_half...</td>\n",
       "      <td>Surprise</td>\n",
       "    </tr>\n",
       "    <tr>\n",
       "      <th>9473</th>\n",
       "      <td>./dataset/esd\\0019\\Angry\\0019_000651.wav</td>\n",
       "      <td>Anger</td>\n",
       "    </tr>\n",
       "    <tr>\n",
       "      <th>9474</th>\n",
       "      <td>./dataset/mlend\\MLEndSND_Public\\21688.wav</td>\n",
       "      <td>Neutral</td>\n",
       "    </tr>\n",
       "    <tr>\n",
       "      <th>9475</th>\n",
       "      <td>./dataset/esd\\0020\\Angry\\0020_000377.wav</td>\n",
       "      <td>Anger</td>\n",
       "    </tr>\n",
       "    <tr>\n",
       "      <th>9476</th>\n",
       "      <td>./dataset/mlend\\MLEndSND_Public\\44715.wav</td>\n",
       "      <td>Question</td>\n",
       "    </tr>\n",
       "  </tbody>\n",
       "</table>\n",
       "<p>9477 rows × 2 columns</p>\n",
       "</div>"
      ],
      "text/plain": [
       "                                               Filepath   Emotion\n",
       "0             ./dataset/mlend\\MLEndSND_Public\\01620.wav   Neutral\n",
       "1     ./dataset/jl-corpus/Raw JL corpus (unchecked a...       Sad\n",
       "2             ./dataset/mlend\\MLEndSND_Public\\04997.wav  Question\n",
       "3           ./dataset/esd\\0018\\Surprise\\0018_001454.wav  Surprise\n",
       "4             ./dataset/mlend\\MLEndSND_Public\\05521.wav   Neutral\n",
       "...                                                 ...       ...\n",
       "9472  ./dataset/tess\\YAF_pleasant_surprised\\YAF_half...  Surprise\n",
       "9473           ./dataset/esd\\0019\\Angry\\0019_000651.wav     Anger\n",
       "9474          ./dataset/mlend\\MLEndSND_Public\\21688.wav   Neutral\n",
       "9475           ./dataset/esd\\0020\\Angry\\0020_000377.wav     Anger\n",
       "9476          ./dataset/mlend\\MLEndSND_Public\\44715.wav  Question\n",
       "\n",
       "[9477 rows x 2 columns]"
      ]
     },
     "execution_count": 9,
     "metadata": {},
     "output_type": "execute_result"
    }
   ],
   "source": [
    "df_test"
   ]
  },
  {
   "cell_type": "code",
   "execution_count": 10,
   "metadata": {},
   "outputs": [
    {
     "name": "stdout",
     "output_type": "stream",
     "text": [
      "{'Anger': 0, 'Bored': 1, 'Disgust': 2, 'Fear': 3, 'Happy': 4, 'Neutral': 5, 'Question': 6, 'Sad': 7, 'Surprise': 8}\n"
     ]
    }
   ],
   "source": [
    "# Convert labels to integers\n",
    "unique_labels = sorted(df_train['Emotion'].unique())\n",
    "label_map = {label: idx for idx, label in enumerate(unique_labels)}\n",
    "print(label_map)\n",
    "\n",
    "df_train['Emotion'] = df_train['Emotion'].map(label_map)\n",
    "df_val['Emotion'] = df_val['Emotion'].map(label_map)\n",
    "df_test['Emotion'] = df_test['Emotion'].map(label_map)"
   ]
  },
  {
   "cell_type": "code",
   "execution_count": 11,
   "metadata": {},
   "outputs": [
    {
     "data": {
      "application/vnd.microsoft.datawrangler.viewer.v0+json": {
       "columns": [
        {
         "name": "index",
         "rawType": "int64",
         "type": "integer"
        },
        {
         "name": "Filepath",
         "rawType": "object",
         "type": "string"
        },
        {
         "name": "Emotion",
         "rawType": "int64",
         "type": "integer"
        }
       ],
       "conversionMethod": "pd.DataFrame",
       "ref": "709d1dde-6359-43b9-ae14-0c406946babc",
       "rows": [
        [
         "0",
         "../dataset/mlend/MLEndSND_Public/11093.wav",
         "6"
        ],
        [
         "1",
         "../dataset/crema-d/AudioWAV/1011_TAI_ANG_XX.wav",
         "0"
        ],
        [
         "2",
         "../dataset/mlend/MLEndSND_Public/27019.wav",
         "5"
        ],
        [
         "3",
         "../dataset/mlend/MLEndSND_Public/23420.wav",
         "1"
        ],
        [
         "4",
         "../dataset/crema-d/AudioWAV/1077_ITH_ANG_XX.wav",
         "0"
        ],
        [
         "5",
         "../dataset/tess/YAF_fear/YAF_pad_fear.wav",
         "3"
        ],
        [
         "6",
         "../dataset/meld/train/dia954_utt2.mp4",
         "5"
        ],
        [
         "7",
         "../dataset/tess/OAF_angry/OAF_check_angry.wav",
         "0"
        ],
        [
         "8",
         "../dataset/mlend/MLEndSND_Public/01160.wav",
         "5"
        ],
        [
         "9",
         "../dataset/mlend/MLEndSND_Public/08931.wav",
         "1"
        ],
        [
         "10",
         "../dataset/meld/train/dia110_utt0.mp4",
         "5"
        ],
        [
         "11",
         "../dataset/crema-d/AudioWAV/1079_TSI_SAD_XX.wav",
         "7"
        ],
        [
         "12",
         "../dataset/esd/0014/Neutral/0014_000216.wav",
         "5"
        ],
        [
         "13",
         "../dataset/mlend/MLEndSND_Public/20933.wav",
         "5"
        ],
        [
         "14",
         "../dataset/mlend/MLEndSND_Public/32461.wav",
         "5"
        ],
        [
         "15",
         "../dataset/crema-d/AudioWAV/1009_ITS_DIS_XX.wav",
         "2"
        ],
        [
         "16",
         "../dataset/mlend/MLEndSND_Public/00304.wav",
         "5"
        ],
        [
         "17",
         "../dataset/meld/train/dia915_utt5.mp4",
         "5"
        ],
        [
         "18",
         "../dataset/meld/train/dia562_utt6.mp4",
         "5"
        ],
        [
         "19",
         "../dataset/mlend/MLEndSND_Public/21215.wav",
         "4"
        ],
        [
         "20",
         "../dataset/esd/0019/Neutral/0019_000063.wav",
         "5"
        ],
        [
         "21",
         "../dataset/crema-d/AudioWAV/1017_IEO_FEA_LO.wav",
         "3"
        ],
        [
         "22",
         "../dataset/esd/0016/Surprise/0016_001661.wav",
         "8"
        ],
        [
         "23",
         "../dataset/tess/YAF_angry/YAF_live_angry.wav",
         "0"
        ],
        [
         "24",
         "../dataset/ravdess/Actor_16/03-01-03-01-02-02-16.wav",
         "4"
        ],
        [
         "25",
         "../dataset/esd/0018/Surprise/0018_001552.wav",
         "8"
        ],
        [
         "26",
         "../dataset/mlend/MLEndSND_Public/09988.wav",
         "1"
        ],
        [
         "27",
         "../dataset/esd/0019/Sad/0019_001386.wav",
         "7"
        ],
        [
         "28",
         "../dataset/mlend/MLEndSND_Public/28053.wav",
         "1"
        ],
        [
         "29",
         "../dataset/mlend/MLEndSND_Public/07002.wav",
         "6"
        ],
        [
         "30",
         "../dataset/meld/train/dia827_utt1.mp4",
         "4"
        ],
        [
         "31",
         "../dataset/meld/train/dia961_utt3.mp4",
         "0"
        ],
        [
         "32",
         "../dataset/esd/0020/Angry/0020_000669.wav",
         "0"
        ],
        [
         "33",
         "../dataset/mlend/MLEndSND_Public/27233.wav",
         "6"
        ],
        [
         "34",
         "../dataset/mlend/MLEndSND_Public/04728.wav",
         "4"
        ],
        [
         "35",
         "../dataset/crema-d/AudioWAV/1073_DFA_DIS_XX.wav",
         "2"
        ],
        [
         "36",
         "../dataset/mlend/MLEndSND_Public/27175.wav",
         "4"
        ],
        [
         "37",
         "../dataset/tess/YAF_angry/YAF_pole_angry.wav",
         "0"
        ],
        [
         "38",
         "../dataset/mlend/MLEndSND_Public/03585.wav",
         "6"
        ],
        [
         "39",
         "../dataset/esd/0013/Angry/0013_000445.wav",
         "0"
        ],
        [
         "40",
         "../dataset/mlend/MLEndSND_Public/24644.wav",
         "4"
        ],
        [
         "41",
         "../dataset/tess/YAF_fear/YAF_cause_fear.wav",
         "3"
        ],
        [
         "42",
         "../dataset/esd/0019/Neutral/0019_000187.wav",
         "5"
        ],
        [
         "43",
         "../dataset/mlend/MLEndSND_Public/23854.wav",
         "1"
        ],
        [
         "44",
         "../dataset/crema-d/AudioWAV/1077_TIE_SAD_XX.wav",
         "7"
        ],
        [
         "45",
         "../dataset/mlend/MLEndSND_Public/11468.wav",
         "5"
        ],
        [
         "46",
         "../dataset/mlend/MLEndSND_Public/41356.wav",
         "4"
        ],
        [
         "47",
         "../dataset/crema-d/AudioWAV/1037_IEO_DIS_LO.wav",
         "2"
        ],
        [
         "48",
         "../dataset/mlend/MLEndSND_Public/46042.wav",
         "6"
        ],
        [
         "49",
         "../dataset/meld/train/dia1029_utt3.mp4",
         "8"
        ]
       ],
       "shape": {
        "columns": 2,
        "rows": 176884
       }
      },
      "text/html": [
       "<div>\n",
       "<style scoped>\n",
       "    .dataframe tbody tr th:only-of-type {\n",
       "        vertical-align: middle;\n",
       "    }\n",
       "\n",
       "    .dataframe tbody tr th {\n",
       "        vertical-align: top;\n",
       "    }\n",
       "\n",
       "    .dataframe thead th {\n",
       "        text-align: right;\n",
       "    }\n",
       "</style>\n",
       "<table border=\"1\" class=\"dataframe\">\n",
       "  <thead>\n",
       "    <tr style=\"text-align: right;\">\n",
       "      <th></th>\n",
       "      <th>Filepath</th>\n",
       "      <th>Emotion</th>\n",
       "    </tr>\n",
       "  </thead>\n",
       "  <tbody>\n",
       "    <tr>\n",
       "      <th>0</th>\n",
       "      <td>../dataset/mlend/MLEndSND_Public/11093.wav</td>\n",
       "      <td>6</td>\n",
       "    </tr>\n",
       "    <tr>\n",
       "      <th>1</th>\n",
       "      <td>../dataset/crema-d/AudioWAV/1011_TAI_ANG_XX.wav</td>\n",
       "      <td>0</td>\n",
       "    </tr>\n",
       "    <tr>\n",
       "      <th>2</th>\n",
       "      <td>../dataset/mlend/MLEndSND_Public/27019.wav</td>\n",
       "      <td>5</td>\n",
       "    </tr>\n",
       "    <tr>\n",
       "      <th>3</th>\n",
       "      <td>../dataset/mlend/MLEndSND_Public/23420.wav</td>\n",
       "      <td>1</td>\n",
       "    </tr>\n",
       "    <tr>\n",
       "      <th>4</th>\n",
       "      <td>../dataset/crema-d/AudioWAV/1077_ITH_ANG_XX.wav</td>\n",
       "      <td>0</td>\n",
       "    </tr>\n",
       "    <tr>\n",
       "      <th>...</th>\n",
       "      <td>...</td>\n",
       "      <td>...</td>\n",
       "    </tr>\n",
       "    <tr>\n",
       "      <th>176879</th>\n",
       "      <td>augmented_time\\dia873_utt1_time.wav</td>\n",
       "      <td>5</td>\n",
       "    </tr>\n",
       "    <tr>\n",
       "      <th>176880</th>\n",
       "      <td>augmented_time\\0015_000807_time.wav</td>\n",
       "      <td>4</td>\n",
       "    </tr>\n",
       "    <tr>\n",
       "      <th>176881</th>\n",
       "      <td>augmented_time\\40154_time.wav</td>\n",
       "      <td>5</td>\n",
       "    </tr>\n",
       "    <tr>\n",
       "      <th>176882</th>\n",
       "      <td>augmented_time\\0017_001347_time.wav</td>\n",
       "      <td>7</td>\n",
       "    </tr>\n",
       "    <tr>\n",
       "      <th>176883</th>\n",
       "      <td>augmented_time\\01986_time.wav</td>\n",
       "      <td>4</td>\n",
       "    </tr>\n",
       "  </tbody>\n",
       "</table>\n",
       "<p>176884 rows × 2 columns</p>\n",
       "</div>"
      ],
      "text/plain": [
       "                                               Filepath  Emotion\n",
       "0            ../dataset/mlend/MLEndSND_Public/11093.wav        6\n",
       "1       ../dataset/crema-d/AudioWAV/1011_TAI_ANG_XX.wav        0\n",
       "2            ../dataset/mlend/MLEndSND_Public/27019.wav        5\n",
       "3            ../dataset/mlend/MLEndSND_Public/23420.wav        1\n",
       "4       ../dataset/crema-d/AudioWAV/1077_ITH_ANG_XX.wav        0\n",
       "...                                                 ...      ...\n",
       "176879              augmented_time\\dia873_utt1_time.wav        5\n",
       "176880              augmented_time\\0015_000807_time.wav        4\n",
       "176881                    augmented_time\\40154_time.wav        5\n",
       "176882              augmented_time\\0017_001347_time.wav        7\n",
       "176883                    augmented_time\\01986_time.wav        4\n",
       "\n",
       "[176884 rows x 2 columns]"
      ]
     },
     "execution_count": 11,
     "metadata": {},
     "output_type": "execute_result"
    }
   ],
   "source": [
    "df_train"
   ]
  },
  {
   "cell_type": "code",
   "execution_count": 12,
   "metadata": {},
   "outputs": [
    {
     "data": {
      "application/vnd.microsoft.datawrangler.viewer.v0+json": {
       "columns": [
        {
         "name": "index",
         "rawType": "int64",
         "type": "integer"
        },
        {
         "name": "Filepath",
         "rawType": "object",
         "type": "string"
        },
        {
         "name": "Emotion",
         "rawType": "int64",
         "type": "integer"
        }
       ],
       "conversionMethod": "pd.DataFrame",
       "ref": "96751e32-9e58-4696-b1c3-bc9e848e2629",
       "rows": [
        [
         "0",
         "./dataset/esd\\0020\\Sad\\0020_001395.wav",
         "7"
        ],
        [
         "1",
         "./dataset/meld\\train\\dia930_utt5.mp4",
         "5"
        ],
        [
         "2",
         "./dataset/mlend\\MLEndSND_Public\\24481.wav",
         "1"
        ],
        [
         "3",
         "./dataset/crema-d\\AudioWAV\\1002_IEO_SAD_HI.wav",
         "7"
        ],
        [
         "4",
         "./dataset/esd\\0011\\Angry\\0011_000373.wav",
         "0"
        ],
        [
         "5",
         "./dataset/crema-d\\AudioWAV\\1050_IWL_SAD_XX.wav",
         "7"
        ],
        [
         "6",
         "./dataset/tess\\OAF_neutral\\OAF_lease_neutral.wav",
         "5"
        ],
        [
         "7",
         "./dataset/crema-d\\AudioWAV\\1033_DFA_SAD_XX.wav",
         "7"
        ],
        [
         "8",
         "./dataset/crema-d\\AudioWAV\\1059_IEO_NEU_XX.wav",
         "5"
        ],
        [
         "9",
         "./dataset/esd\\0014\\Angry\\0014_000503.wav",
         "0"
        ],
        [
         "10",
         "./dataset/ravdess\\Actor_20\\03-01-04-01-02-02-20.wav",
         "7"
        ],
        [
         "11",
         "./dataset/mlend\\MLEndSND_Public\\41268.wav",
         "4"
        ],
        [
         "12",
         "./dataset/esd\\0016\\Surprise\\0016_001715.wav",
         "8"
        ],
        [
         "13",
         "./dataset/esd\\0011\\Happy\\0011_000935.wav",
         "4"
        ],
        [
         "14",
         "./dataset/esd\\0018\\Sad\\0018_001210.wav",
         "7"
        ],
        [
         "15",
         "./dataset/crema-d\\AudioWAV\\1079_IWL_SAD_XX.wav",
         "7"
        ],
        [
         "16",
         "./dataset/esd\\0019\\Angry\\0019_000646.wav",
         "0"
        ],
        [
         "17",
         "./dataset/mlend\\MLEndSND_Public\\31175.wav",
         "1"
        ],
        [
         "18",
         "./dataset/mlend\\MLEndSND_Public\\37494.wav",
         "6"
        ],
        [
         "19",
         "./dataset/esd\\0017\\Sad\\0017_001154.wav",
         "7"
        ],
        [
         "20",
         "./dataset/mlend\\MLEndSND_Public\\12125.wav",
         "4"
        ],
        [
         "21",
         "./dataset/meld\\train\\dia1036_utt12.mp4",
         "5"
        ],
        [
         "22",
         "./dataset/esd\\0012\\Sad\\0012_001194.wav",
         "7"
        ],
        [
         "23",
         "./dataset/esd\\0015\\Neutral\\0015_000079.wav",
         "5"
        ],
        [
         "24",
         "./dataset/mlend\\MLEndSND_Public\\07613.wav",
         "4"
        ],
        [
         "25",
         "./dataset/mlend\\MLEndSND_Public\\10182.wav",
         "4"
        ],
        [
         "26",
         "./dataset/mlend\\MLEndSND_Public\\30464.wav",
         "5"
        ],
        [
         "27",
         "./dataset/tess\\YAF_pleasant_surprised\\YAF_keen_ps.wav",
         "8"
        ],
        [
         "28",
         "./dataset/meld\\train\\dia806_utt0.mp4",
         "8"
        ],
        [
         "29",
         "./dataset/ravdess\\Actor_09\\03-01-01-01-02-01-09.wav",
         "5"
        ],
        [
         "30",
         "./dataset/mlend\\MLEndSND_Public\\32504.wav",
         "5"
        ],
        [
         "31",
         "./dataset/mlend\\MLEndSND_Public\\08221.wav",
         "1"
        ],
        [
         "32",
         "./dataset/mlend\\MLEndSND_Public\\11843.wav",
         "6"
        ],
        [
         "33",
         "./dataset/mlend\\MLEndSND_Public\\26478.wav",
         "6"
        ],
        [
         "34",
         "./dataset/esd\\0020\\Angry\\0020_000520.wav",
         "0"
        ],
        [
         "35",
         "./dataset/mlend\\MLEndSND_Public\\03991.wav",
         "6"
        ],
        [
         "36",
         "./dataset/crema-d\\AudioWAV\\1062_IOM_SAD_XX.wav",
         "7"
        ],
        [
         "37",
         "./dataset/mlend\\MLEndSND_Public\\42670.wav",
         "6"
        ],
        [
         "38",
         "./dataset/crema-d\\AudioWAV\\1078_IEO_ANG_MD.wav",
         "0"
        ],
        [
         "39",
         "./dataset/esd\\0020\\Angry\\0020_000575.wav",
         "0"
        ],
        [
         "40",
         "./dataset/esd\\0013\\Neutral\\0013_000174.wav",
         "5"
        ],
        [
         "41",
         "./dataset/esd\\0018\\Surprise\\0018_001519.wav",
         "8"
        ],
        [
         "42",
         "./dataset/mlend\\MLEndSND_Public\\03212.wav",
         "5"
        ],
        [
         "43",
         "./dataset/tess\\OAF_disgust\\OAF_room_disgust.wav",
         "2"
        ],
        [
         "44",
         "./dataset/mlend\\MLEndSND_Public\\19669.wav",
         "1"
        ],
        [
         "45",
         "./dataset/esd\\0014\\Happy\\0014_000858.wav",
         "4"
        ],
        [
         "46",
         "./dataset/meld\\train\\dia47_utt12.mp4",
         "5"
        ],
        [
         "47",
         "./dataset/crema-d\\AudioWAV\\1001_IEO_ANG_MD.wav",
         "0"
        ],
        [
         "48",
         "./dataset/crema-d\\AudioWAV\\1006_IWW_ANG_XX.wav",
         "0"
        ],
        [
         "49",
         "./dataset/esd\\0013\\Angry\\0013_000468.wav",
         "0"
        ]
       ],
       "shape": {
        "columns": 2,
        "rows": 9476
       }
      },
      "text/html": [
       "<div>\n",
       "<style scoped>\n",
       "    .dataframe tbody tr th:only-of-type {\n",
       "        vertical-align: middle;\n",
       "    }\n",
       "\n",
       "    .dataframe tbody tr th {\n",
       "        vertical-align: top;\n",
       "    }\n",
       "\n",
       "    .dataframe thead th {\n",
       "        text-align: right;\n",
       "    }\n",
       "</style>\n",
       "<table border=\"1\" class=\"dataframe\">\n",
       "  <thead>\n",
       "    <tr style=\"text-align: right;\">\n",
       "      <th></th>\n",
       "      <th>Filepath</th>\n",
       "      <th>Emotion</th>\n",
       "    </tr>\n",
       "  </thead>\n",
       "  <tbody>\n",
       "    <tr>\n",
       "      <th>0</th>\n",
       "      <td>./dataset/esd\\0020\\Sad\\0020_001395.wav</td>\n",
       "      <td>7</td>\n",
       "    </tr>\n",
       "    <tr>\n",
       "      <th>1</th>\n",
       "      <td>./dataset/meld\\train\\dia930_utt5.mp4</td>\n",
       "      <td>5</td>\n",
       "    </tr>\n",
       "    <tr>\n",
       "      <th>2</th>\n",
       "      <td>./dataset/mlend\\MLEndSND_Public\\24481.wav</td>\n",
       "      <td>1</td>\n",
       "    </tr>\n",
       "    <tr>\n",
       "      <th>3</th>\n",
       "      <td>./dataset/crema-d\\AudioWAV\\1002_IEO_SAD_HI.wav</td>\n",
       "      <td>7</td>\n",
       "    </tr>\n",
       "    <tr>\n",
       "      <th>4</th>\n",
       "      <td>./dataset/esd\\0011\\Angry\\0011_000373.wav</td>\n",
       "      <td>0</td>\n",
       "    </tr>\n",
       "    <tr>\n",
       "      <th>...</th>\n",
       "      <td>...</td>\n",
       "      <td>...</td>\n",
       "    </tr>\n",
       "    <tr>\n",
       "      <th>9471</th>\n",
       "      <td>./dataset/tess\\YAF_disgust\\YAF_take_disgust.wav</td>\n",
       "      <td>2</td>\n",
       "    </tr>\n",
       "    <tr>\n",
       "      <th>9472</th>\n",
       "      <td>./dataset/mlend\\MLEndSND_Public\\43418.wav</td>\n",
       "      <td>1</td>\n",
       "    </tr>\n",
       "    <tr>\n",
       "      <th>9473</th>\n",
       "      <td>./dataset/mlend\\MLEndSND_Public\\02459.wav</td>\n",
       "      <td>1</td>\n",
       "    </tr>\n",
       "    <tr>\n",
       "      <th>9474</th>\n",
       "      <td>./dataset/mlend\\MLEndSND_Public\\10609.wav</td>\n",
       "      <td>6</td>\n",
       "    </tr>\n",
       "    <tr>\n",
       "      <th>9475</th>\n",
       "      <td>./dataset/mlend\\MLEndSND_Public\\23072.wav</td>\n",
       "      <td>6</td>\n",
       "    </tr>\n",
       "  </tbody>\n",
       "</table>\n",
       "<p>9476 rows × 2 columns</p>\n",
       "</div>"
      ],
      "text/plain": [
       "                                             Filepath  Emotion\n",
       "0              ./dataset/esd\\0020\\Sad\\0020_001395.wav        7\n",
       "1                ./dataset/meld\\train\\dia930_utt5.mp4        5\n",
       "2           ./dataset/mlend\\MLEndSND_Public\\24481.wav        1\n",
       "3      ./dataset/crema-d\\AudioWAV\\1002_IEO_SAD_HI.wav        7\n",
       "4            ./dataset/esd\\0011\\Angry\\0011_000373.wav        0\n",
       "...                                               ...      ...\n",
       "9471  ./dataset/tess\\YAF_disgust\\YAF_take_disgust.wav        2\n",
       "9472        ./dataset/mlend\\MLEndSND_Public\\43418.wav        1\n",
       "9473        ./dataset/mlend\\MLEndSND_Public\\02459.wav        1\n",
       "9474        ./dataset/mlend\\MLEndSND_Public\\10609.wav        6\n",
       "9475        ./dataset/mlend\\MLEndSND_Public\\23072.wav        6\n",
       "\n",
       "[9476 rows x 2 columns]"
      ]
     },
     "execution_count": 12,
     "metadata": {},
     "output_type": "execute_result"
    }
   ],
   "source": [
    "df_val"
   ]
  },
  {
   "cell_type": "code",
   "execution_count": 13,
   "metadata": {},
   "outputs": [
    {
     "data": {
      "application/vnd.microsoft.datawrangler.viewer.v0+json": {
       "columns": [
        {
         "name": "index",
         "rawType": "int64",
         "type": "integer"
        },
        {
         "name": "Filepath",
         "rawType": "object",
         "type": "string"
        },
        {
         "name": "Emotion",
         "rawType": "int64",
         "type": "integer"
        }
       ],
       "conversionMethod": "pd.DataFrame",
       "ref": "3a21c774-3e52-48df-8a9d-6eb650e82854",
       "rows": [
        [
         "0",
         "./dataset/mlend\\MLEndSND_Public\\01620.wav",
         "5"
        ],
        [
         "1",
         "./dataset/jl-corpus/Raw JL corpus (unchecked and unannotated)/JL(wav+txt)\\male1_sad_5a_1.wav",
         "7"
        ],
        [
         "2",
         "./dataset/mlend\\MLEndSND_Public\\04997.wav",
         "6"
        ],
        [
         "3",
         "./dataset/esd\\0018\\Surprise\\0018_001454.wav",
         "8"
        ],
        [
         "4",
         "./dataset/mlend\\MLEndSND_Public\\05521.wav",
         "5"
        ],
        [
         "5",
         "./dataset/mlend\\MLEndSND_Public\\02888.wav",
         "6"
        ],
        [
         "6",
         "./dataset/mlend\\MLEndSND_Public\\33135.wav",
         "5"
        ],
        [
         "7",
         "./dataset/crema-d\\AudioWAV\\1052_TAI_ANG_XX.wav",
         "0"
        ],
        [
         "8",
         "./dataset/esd\\0017\\Neutral\\0017_000228.wav",
         "5"
        ],
        [
         "9",
         "./dataset/savee\\JK_a12.wav",
         "0"
        ],
        [
         "10",
         "./dataset/mlend\\MLEndSND_Public\\26373.wav",
         "5"
        ],
        [
         "11",
         "./dataset/mlend\\MLEndSND_Public\\13399.wav",
         "5"
        ],
        [
         "12",
         "./dataset/mlend\\MLEndSND_Public\\40183.wav",
         "6"
        ],
        [
         "13",
         "./dataset/mlend\\MLEndSND_Public\\44409.wav",
         "5"
        ],
        [
         "14",
         "./dataset/esd\\0013\\Angry\\0013_000646.wav",
         "0"
        ],
        [
         "15",
         "./dataset/esd\\0019\\Angry\\0019_000427.wav",
         "0"
        ],
        [
         "16",
         "./dataset/mlend\\MLEndSND_Public\\31361.wav",
         "6"
        ],
        [
         "17",
         "./dataset/esd\\0019\\Neutral\\0019_000020.wav",
         "5"
        ],
        [
         "18",
         "./dataset/mlend\\MLEndSND_Public\\20417.wav",
         "1"
        ],
        [
         "19",
         "./dataset/esd\\0020\\Surprise\\0020_001662.wav",
         "8"
        ],
        [
         "20",
         "./dataset/mlend\\MLEndSND_Public\\39199.wav",
         "6"
        ],
        [
         "21",
         "./dataset/meld\\train\\dia319_utt22.mp4",
         "2"
        ],
        [
         "22",
         "./dataset/mlend\\MLEndSND_Public\\29318.wav",
         "4"
        ],
        [
         "23",
         "./dataset/mlend\\MLEndSND_Public\\36191.wav",
         "4"
        ],
        [
         "24",
         "./dataset/mlend\\MLEndSND_Public\\21860.wav",
         "1"
        ],
        [
         "25",
         "./dataset/mlend\\MLEndSND_Public\\26708.wav",
         "4"
        ],
        [
         "26",
         "./dataset/meld\\train\\dia990_utt16.mp4",
         "4"
        ],
        [
         "27",
         "./dataset/crema-d\\AudioWAV\\1067_ITS_DIS_XX.wav",
         "2"
        ],
        [
         "28",
         "./dataset/esd\\0013\\Neutral\\0013_000156.wav",
         "5"
        ],
        [
         "29",
         "./dataset/esd\\0012\\Surprise\\0012_001429.wav",
         "8"
        ],
        [
         "30",
         "./dataset/jl-corpus/Raw JL corpus (unchecked and unannotated)/JL(wav+txt)\\male1_angry_10b_2.wav",
         "0"
        ],
        [
         "31",
         "./dataset/esd\\0011\\Angry\\0011_000461.wav",
         "0"
        ],
        [
         "32",
         "./dataset/mlend\\MLEndSND_Public\\37804.wav",
         "6"
        ],
        [
         "33",
         "./dataset/mlend\\MLEndSND_Public\\11073.wav",
         "6"
        ],
        [
         "34",
         "./dataset/esd\\0014\\Sad\\0014_001209.wav",
         "7"
        ],
        [
         "35",
         "./dataset/tess\\OAF_Fear\\OAF_tough_fear.wav",
         "3"
        ],
        [
         "36",
         "./dataset/esd\\0015\\Angry\\0015_000440.wav",
         "0"
        ],
        [
         "37",
         "./dataset/mlend\\MLEndSND_Public\\21924.wav",
         "6"
        ],
        [
         "38",
         "./dataset/mlend\\MLEndSND_Public\\05973.wav",
         "6"
        ],
        [
         "39",
         "./dataset/esd\\0014\\Happy\\0014_000883.wav",
         "4"
        ],
        [
         "40",
         "./dataset/meld\\train\\dia431_utt8.mp4",
         "4"
        ],
        [
         "41",
         "./dataset/meld\\train\\dia130_utt6.mp4",
         "5"
        ],
        [
         "42",
         "./dataset/esd\\0012\\Sad\\0012_001196.wav",
         "7"
        ],
        [
         "43",
         "./dataset/mlend\\MLEndSND_Public\\03452.wav",
         "1"
        ],
        [
         "44",
         "./dataset/mlend\\MLEndSND_Public\\30559.wav",
         "5"
        ],
        [
         "45",
         "./dataset/esd\\0011\\Neutral\\0011_000339.wav",
         "5"
        ],
        [
         "46",
         "./dataset/mlend\\MLEndSND_Public\\28855.wav",
         "1"
        ],
        [
         "47",
         "./dataset/crema-d\\AudioWAV\\1028_IOM_HAP_XX.wav",
         "4"
        ],
        [
         "48",
         "./dataset/esd\\0016\\Neutral\\0016_000191.wav",
         "5"
        ],
        [
         "49",
         "./dataset/mlend\\MLEndSND_Public\\27806.wav",
         "1"
        ]
       ],
       "shape": {
        "columns": 2,
        "rows": 9477
       }
      },
      "text/html": [
       "<div>\n",
       "<style scoped>\n",
       "    .dataframe tbody tr th:only-of-type {\n",
       "        vertical-align: middle;\n",
       "    }\n",
       "\n",
       "    .dataframe tbody tr th {\n",
       "        vertical-align: top;\n",
       "    }\n",
       "\n",
       "    .dataframe thead th {\n",
       "        text-align: right;\n",
       "    }\n",
       "</style>\n",
       "<table border=\"1\" class=\"dataframe\">\n",
       "  <thead>\n",
       "    <tr style=\"text-align: right;\">\n",
       "      <th></th>\n",
       "      <th>Filepath</th>\n",
       "      <th>Emotion</th>\n",
       "    </tr>\n",
       "  </thead>\n",
       "  <tbody>\n",
       "    <tr>\n",
       "      <th>0</th>\n",
       "      <td>./dataset/mlend\\MLEndSND_Public\\01620.wav</td>\n",
       "      <td>5</td>\n",
       "    </tr>\n",
       "    <tr>\n",
       "      <th>1</th>\n",
       "      <td>./dataset/jl-corpus/Raw JL corpus (unchecked a...</td>\n",
       "      <td>7</td>\n",
       "    </tr>\n",
       "    <tr>\n",
       "      <th>2</th>\n",
       "      <td>./dataset/mlend\\MLEndSND_Public\\04997.wav</td>\n",
       "      <td>6</td>\n",
       "    </tr>\n",
       "    <tr>\n",
       "      <th>3</th>\n",
       "      <td>./dataset/esd\\0018\\Surprise\\0018_001454.wav</td>\n",
       "      <td>8</td>\n",
       "    </tr>\n",
       "    <tr>\n",
       "      <th>4</th>\n",
       "      <td>./dataset/mlend\\MLEndSND_Public\\05521.wav</td>\n",
       "      <td>5</td>\n",
       "    </tr>\n",
       "    <tr>\n",
       "      <th>...</th>\n",
       "      <td>...</td>\n",
       "      <td>...</td>\n",
       "    </tr>\n",
       "    <tr>\n",
       "      <th>9472</th>\n",
       "      <td>./dataset/tess\\YAF_pleasant_surprised\\YAF_half...</td>\n",
       "      <td>8</td>\n",
       "    </tr>\n",
       "    <tr>\n",
       "      <th>9473</th>\n",
       "      <td>./dataset/esd\\0019\\Angry\\0019_000651.wav</td>\n",
       "      <td>0</td>\n",
       "    </tr>\n",
       "    <tr>\n",
       "      <th>9474</th>\n",
       "      <td>./dataset/mlend\\MLEndSND_Public\\21688.wav</td>\n",
       "      <td>5</td>\n",
       "    </tr>\n",
       "    <tr>\n",
       "      <th>9475</th>\n",
       "      <td>./dataset/esd\\0020\\Angry\\0020_000377.wav</td>\n",
       "      <td>0</td>\n",
       "    </tr>\n",
       "    <tr>\n",
       "      <th>9476</th>\n",
       "      <td>./dataset/mlend\\MLEndSND_Public\\44715.wav</td>\n",
       "      <td>6</td>\n",
       "    </tr>\n",
       "  </tbody>\n",
       "</table>\n",
       "<p>9477 rows × 2 columns</p>\n",
       "</div>"
      ],
      "text/plain": [
       "                                               Filepath  Emotion\n",
       "0             ./dataset/mlend\\MLEndSND_Public\\01620.wav        5\n",
       "1     ./dataset/jl-corpus/Raw JL corpus (unchecked a...        7\n",
       "2             ./dataset/mlend\\MLEndSND_Public\\04997.wav        6\n",
       "3           ./dataset/esd\\0018\\Surprise\\0018_001454.wav        8\n",
       "4             ./dataset/mlend\\MLEndSND_Public\\05521.wav        5\n",
       "...                                                 ...      ...\n",
       "9472  ./dataset/tess\\YAF_pleasant_surprised\\YAF_half...        8\n",
       "9473           ./dataset/esd\\0019\\Angry\\0019_000651.wav        0\n",
       "9474          ./dataset/mlend\\MLEndSND_Public\\21688.wav        5\n",
       "9475           ./dataset/esd\\0020\\Angry\\0020_000377.wav        0\n",
       "9476          ./dataset/mlend\\MLEndSND_Public\\44715.wav        6\n",
       "\n",
       "[9477 rows x 2 columns]"
      ]
     },
     "execution_count": 13,
     "metadata": {},
     "output_type": "execute_result"
    }
   ],
   "source": [
    "df_test"
   ]
  },
  {
   "cell_type": "code",
   "execution_count": 14,
   "metadata": {},
   "outputs": [
    {
     "name": "stderr",
     "output_type": "stream",
     "text": [
      "c:\\Users\\profi\\OneDrive\\Desktop\\AI-Project--Speech-Emotion-Recognition\\myenv\\lib\\site-packages\\transformers\\configuration_utils.py:315: UserWarning: Passing `gradient_checkpointing` to a config initialization is deprecated and will be removed in v5 Transformers. Using `model.gradient_checkpointing_enable()` instead, or if you are using the `Trainer` API, pass `gradient_checkpointing=True` in your `TrainingArguments`.\n",
      "  warnings.warn(\n",
      "Some weights of Wav2Vec2ForSequenceClassification were not initialized from the model checkpoint at facebook/wav2vec2-base and are newly initialized: ['classifier.bias', 'classifier.weight', 'projector.bias', 'projector.weight']\n",
      "You should probably TRAIN this model on a down-stream task to be able to use it for predictions and inference.\n"
     ]
    }
   ],
   "source": [
    "model_name = 'facebook/wav2vec2-base'\n",
    "processor = Wav2Vec2Processor.from_pretrained(model_name)\n",
    "model = Wav2Vec2ForSequenceClassification.from_pretrained(\n",
    "    model_name, num_labels=len(label_map))"
   ]
  },
  {
   "cell_type": "code",
   "execution_count": 15,
   "metadata": {},
   "outputs": [],
   "source": [
    "from transformer_models.emotion_datasets.SpeechEmotionDatasetStandardPadAugment import SpeechEmotionDatasetStandardPadAugment\n",
    "from transformer_models.emotion_datasets.SpeechEmotionDatasetStandardPad import SpeechEmotionDatasetStandardPad"
   ]
  },
  {
   "cell_type": "code",
   "execution_count": 16,
   "metadata": {},
   "outputs": [],
   "source": [
    "# Load the dataset\n",
    "train_dataset = SpeechEmotionDatasetStandardPadAugment(df_train, processor, root_dir)\n",
    "val_dataset = SpeechEmotionDatasetStandardPad(df_val, processor)\n",
    "test_dataset = SpeechEmotionDatasetStandardPad(df_test, processor)"
   ]
  },
  {
   "cell_type": "code",
   "execution_count": 17,
   "metadata": {},
   "outputs": [
    {
     "name": "stderr",
     "output_type": "stream",
     "text": [
      "Keyword argument `truncate` is not a valid argument for this processor and will be ignored.\n"
     ]
    },
    {
     "data": {
      "text/plain": [
       "{'input_values': tensor([0.0321, 0.0428, 0.0281,  ..., 0.0002, 0.0002, 0.0002]),\n",
       " 'labels': tensor(6)}"
      ]
     },
     "execution_count": 17,
     "metadata": {},
     "output_type": "execute_result"
    }
   ],
   "source": [
    "train_dataset[0]"
   ]
  },
  {
   "cell_type": "markdown",
   "metadata": {},
   "source": [
    "## Set Training Arguments\n"
   ]
  },
  {
   "cell_type": "code",
   "execution_count": 18,
   "metadata": {},
   "outputs": [
    {
     "name": "stderr",
     "output_type": "stream",
     "text": [
      "c:\\Users\\profi\\OneDrive\\Desktop\\AI-Project--Speech-Emotion-Recognition\\myenv\\lib\\site-packages\\transformers\\training_args.py:1611: FutureWarning: `evaluation_strategy` is deprecated and will be removed in version 4.46 of 🤗 Transformers. Use `eval_strategy` instead\n",
      "  warnings.warn(\n"
     ]
    }
   ],
   "source": [
    "train_args = TrainingArguments(\n",
    "    output_dir='../models/wav2vec2-base_standardpad_augmentation',\n",
    "    evaluation_strategy='epoch',\n",
    "    save_strategy='epoch',\n",
    "    learning_rate=2e-5,\n",
    "    per_device_train_batch_size=16,\n",
    "    per_device_eval_batch_size=16,\n",
    "    num_train_epochs=10,\n",
    "    weight_decay=0.01,\n",
    "    fp16=True,\n",
    "    dataloader_num_workers=8,\n",
    "    dataloader_pin_memory=True,\n",
    "    load_best_model_at_end=True,\n",
    "    metric_for_best_model=\"f1\",\n",
    "    report_to=[]\n",
    ")"
   ]
  },
  {
   "cell_type": "code",
   "execution_count": 19,
   "metadata": {},
   "outputs": [],
   "source": [
    "# Create function for computing metrics\n",
    "def compute_metrics(pred):\n",
    "    labels = pred.label_ids  # original labels\n",
    "    preds = np.argmax(pred.predictions, axis=1)  # model predicted labels\n",
    "    accuracy = accuracy_score(labels, preds)\n",
    "    precision, recall, f1, _ = precision_recall_fscore_support(\n",
    "        labels, preds, average=\"weighted\")\n",
    "    return {\n",
    "        \"accuracy\": accuracy,\n",
    "        \"precision\": precision,\n",
    "        \"recall\": recall,\n",
    "        \"f1\": f1\n",
    "    }"
   ]
  },
  {
   "cell_type": "markdown",
   "metadata": {},
   "source": [
    "Import CustomTrainer and EarlyStoppingCallback"
   ]
  },
  {
   "cell_type": "code",
   "execution_count": 20,
   "metadata": {},
   "outputs": [],
   "source": [
    "from transformer_models.trainer.CustomTrainer import CustomTrainer\n",
    "from transformer_models.early_stopping.EarlyStopping import EarlyStoppingCallback"
   ]
  },
  {
   "cell_type": "code",
   "execution_count": 21,
   "metadata": {},
   "outputs": [
    {
     "name": "stderr",
     "output_type": "stream",
     "text": [
      "c:\\Users\\profi\\OneDrive\\Desktop\\AI-Project--Speech-Emotion-Recognition\\transformer_models\\trainer\\CustomTrainer.py:11: FutureWarning: You are using `torch.load` with `weights_only=False` (the current default value), which uses the default pickle module implicitly. It is possible to construct malicious pickle data which will execute arbitrary code during unpickling (See https://github.com/pytorch/pytorch/blob/main/SECURITY.md#untrusted-models for more details). In a future release, the default value for `weights_only` will be flipped to `True`. This limits the functions that could be executed during unpickling. Arbitrary objects will no longer be allowed to be loaded via this mode unless they are explicitly allowlisted by the user via `torch.serialization.add_safe_globals`. We recommend you start setting `weights_only=True` for any use case where you don't have full control of the loaded file. Please open an issue on GitHub for any issues related to this experimental feature.\n",
      "  self.class_weights = torch.load(class_weights_path).to(self.device)\n"
     ]
    }
   ],
   "source": [
    "# Initialize the trainer\n",
    "trainer = CustomTrainer(\n",
    "    model=model,\n",
    "    args=train_args,\n",
    "    train_dataset=train_dataset,\n",
    "    eval_dataset=val_dataset,\n",
    "    compute_metrics=compute_metrics,\n",
    "    class_weights_path=\"../../data/class_weights.pt\",\n",
    "    callbacks=[EarlyStoppingCallback(patience=3, min_delta=0.001)]\n",
    ")"
   ]
  },
  {
   "cell_type": "code",
   "execution_count": 22,
   "metadata": {},
   "outputs": [
    {
     "data": {
      "text/html": [
       "\n",
       "    <div>\n",
       "      \n",
       "      <progress value='44224' max='110560' style='width:300px; height:20px; vertical-align: middle;'></progress>\n",
       "      [ 44224/110560 2:03:26 < 3:05:10, 5.97 it/s, Epoch 4/10]\n",
       "    </div>\n",
       "    <table border=\"1\" class=\"dataframe\">\n",
       "  <thead>\n",
       " <tr style=\"text-align: left;\">\n",
       "      <th>Epoch</th>\n",
       "      <th>Training Loss</th>\n",
       "      <th>Validation Loss</th>\n",
       "      <th>Accuracy</th>\n",
       "      <th>Precision</th>\n",
       "      <th>Recall</th>\n",
       "      <th>F1</th>\n",
       "    </tr>\n",
       "  </thead>\n",
       "  <tbody>\n",
       "    <tr>\n",
       "      <td>1</td>\n",
       "      <td>0.555100</td>\n",
       "      <td>0.521705</td>\n",
       "      <td>0.824821</td>\n",
       "      <td>0.829696</td>\n",
       "      <td>0.824821</td>\n",
       "      <td>0.823715</td>\n",
       "    </tr>\n",
       "    <tr>\n",
       "      <td>2</td>\n",
       "      <td>0.381800</td>\n",
       "      <td>0.535165</td>\n",
       "      <td>0.851625</td>\n",
       "      <td>0.857105</td>\n",
       "      <td>0.851625</td>\n",
       "      <td>0.852333</td>\n",
       "    </tr>\n",
       "    <tr>\n",
       "      <td>3</td>\n",
       "      <td>0.294000</td>\n",
       "      <td>0.702302</td>\n",
       "      <td>0.850570</td>\n",
       "      <td>0.856539</td>\n",
       "      <td>0.850570</td>\n",
       "      <td>0.850483</td>\n",
       "    </tr>\n",
       "    <tr>\n",
       "      <td>4</td>\n",
       "      <td>0.205200</td>\n",
       "      <td>0.832191</td>\n",
       "      <td>0.848354</td>\n",
       "      <td>0.852738</td>\n",
       "      <td>0.848354</td>\n",
       "      <td>0.848715</td>\n",
       "    </tr>\n",
       "  </tbody>\n",
       "</table><p>"
      ],
      "text/plain": [
       "<IPython.core.display.HTML object>"
      ]
     },
     "metadata": {},
     "output_type": "display_data"
    },
    {
     "name": "stdout",
     "output_type": "stream",
     "text": [
      "Early stopping triggered after 3 epochs of no improvement.\n"
     ]
    },
    {
     "data": {
      "text/plain": [
       "TrainOutput(global_step=44224, training_loss=0.4328490036786379, metrics={'train_runtime': 7420.3605, 'train_samples_per_second': 238.377, 'train_steps_per_second': 14.9, 'total_flos': 3.2117908089361924e+19, 'train_loss': 0.4328490036786379, 'epoch': 4.0})"
      ]
     },
     "execution_count": 22,
     "metadata": {},
     "output_type": "execute_result"
    }
   ],
   "source": [
    "trainer.train()"
   ]
  },
  {
   "cell_type": "code",
   "execution_count": 23,
   "metadata": {},
   "outputs": [
    {
     "data": {
      "text/html": [],
      "text/plain": [
       "<IPython.core.display.HTML object>"
      ]
     },
     "metadata": {},
     "output_type": "display_data"
    },
    {
     "name": "stdout",
     "output_type": "stream",
     "text": [
      "Early stopping triggered after 3 epochs of no improvement.\n",
      "{'eval_loss': 0.535165011882782, 'eval_accuracy': 0.8516251582946391, 'eval_precision': 0.8571051647340012, 'eval_recall': 0.8516251582946391, 'eval_f1': 0.8523325223781182, 'eval_runtime': 35.5141, 'eval_samples_per_second': 266.824, 'eval_steps_per_second': 16.698, 'epoch': 4.0}\n"
     ]
    }
   ],
   "source": [
    "results = trainer.evaluate()\n",
    "print(results)"
   ]
  },
  {
   "cell_type": "markdown",
   "metadata": {},
   "source": [
    "## Test Predictions\n"
   ]
  },
  {
   "cell_type": "code",
   "execution_count": 24,
   "metadata": {},
   "outputs": [
    {
     "name": "stdout",
     "output_type": "stream",
     "text": [
      "Test Accuracy: 0.8400\n",
      "Test Precision: 0.8469\n",
      "Test Recall: 0.8400\n",
      "Test F1-score: 0.8407\n",
      "\n",
      "              precision    recall  f1-score   support\n",
      "\n",
      "       Anger       0.82      0.89      0.85       916\n",
      "       Bored       0.82      0.96      0.89      1098\n",
      "     Disgust       0.78      0.70      0.74       291\n",
      "        Fear       0.55      0.80      0.65       308\n",
      "       Happy       0.92      0.79      0.85      1914\n",
      "     Neutral       0.81      0.80      0.81      2226\n",
      "    Question       0.94      0.94      0.94      1139\n",
      "         Sad       0.87      0.79      0.83       857\n",
      "    Surprise       0.83      0.83      0.83       728\n",
      "\n",
      "    accuracy                           0.84      9477\n",
      "   macro avg       0.81      0.83      0.82      9477\n",
      "weighted avg       0.85      0.84      0.84      9477\n",
      "\n"
     ]
    },
    {
     "data": {
      "image/png": "[encoded data removed]",
      "text/plain": [
       "<Figure size 1000x800 with 2 Axes>"
      ]
     },
     "metadata": {},
     "output_type": "display_data"
    }
   ],
   "source": [
    "# Get model predictions on the test dataset\n",
    "predictions = trainer.predict(test_dataset)\n",
    "# Convert logits to predicted class labels\n",
    "pred_labels = np.argmax(predictions.predictions, axis=1)\n",
    "true_labels = predictions.label_ids  # Ground truth labels\n",
    "\n",
    "# Compute metrics\n",
    "accuracy = accuracy_score(true_labels, pred_labels)\n",
    "precision, recall, f1, _ = precision_recall_fscore_support(true_labels, pred_labels, average='weighted')\n",
    "\n",
    "print(f\"Test Accuracy: {accuracy:.4f}\")\n",
    "print(f\"Test Precision: {precision:.4f}\")\n",
    "print(f\"Test Recall: {recall:.4f}\")\n",
    "print(f\"Test F1-score: {f1:.4f}\\n\")\n",
    "\n",
    "# Print detailed classification report\n",
    "print(classification_report(true_labels, pred_labels, target_names=list(label_map.keys())))\n",
    "\n",
    "# Compute the confusion matrix\n",
    "conf_matrix = confusion_matrix(true_labels, pred_labels)\n",
    "\n",
    "# Plot the heatmap\n",
    "plt.figure(figsize=(10, 8))\n",
    "sns.heatmap(conf_matrix, annot=True, fmt=\"d\", cmap=\"Blues\",\n",
    "            xticklabels=label_map.keys(), yticklabels=label_map.keys())\n",
    "\n",
    "plt.ylabel('True Label')\n",
    "plt.xlabel('Predicted Label')\n",
    "plt.title('Confusion Matrix')\n",
    "\n",
    "plt.xticks(rotation=45)\n",
    "plt.yticks(rotation=45)\n",
    "\n",
    "plt.tight_layout()\n",
    "plt.show()"
   ]
  },
  {
   "cell_type": "code",
   "execution_count": null,
   "metadata": {},
   "outputs": [],
   "source": []
  }
 ],
 "metadata": {
  "kernelspec": {
   "display_name": "myenv",
   "language": "python",
   "name": "python3"
  },
  "language_info": {
   "codemirror_mode": {
    "name": "ipython",
    "version": 3
   },
   "file_extension": ".py",
   "mimetype": "text/x-python",
   "name": "python",
   "nbconvert_exporter": "python",
   "pygments_lexer": "ipython3",
   "version": "3.10.11"
  }
 },
 "nbformat": 4,
 "nbformat_minor": 2
}
