{
 "cells": [
  {
   "cell_type": "markdown",
   "metadata": {},
   "source": [
    "# Ensemble model"
   ]
  },
  {
   "cell_type": "code",
   "execution_count": 1,
   "metadata": {},
   "outputs": [
    {
     "name": "stderr",
     "output_type": "stream",
     "text": [
      "c:\\Users\\profi\\OneDrive\\Desktop\\AI-Project--Speech-Emotion-Recognition\\myenv\\lib\\site-packages\\tqdm\\auto.py:21: TqdmWarning: IProgress not found. Please update jupyter and ipywidgets. See https://ipywidgets.readthedocs.io/en/stable/user_install.html\n",
      "  from .autonotebook import tqdm as notebook_tqdm\n"
     ]
    }
   ],
   "source": [
    "import os\n",
    "import sys\n",
    "import pandas as pd\n",
    "import numpy as np\n",
    "import random\n",
    "import torch\n",
    "from torch.utils.data import DataLoader\n",
    "from transformers import set_seed, Wav2Vec2Processor, Wav2Vec2ForSequenceClassification, Wav2Vec2FeatureExtractor, WavLMForSequenceClassification"
   ]
  },
  {
   "cell_type": "code",
   "execution_count": 2,
   "metadata": {},
   "outputs": [],
   "source": [
    "notebook_path = os.getcwd()\n",
    "project_root = os.path.abspath(os.path.join(notebook_path, '../..'))\n",
    "sys.path.insert(0, project_root)"
   ]
  },
  {
   "cell_type": "code",
   "execution_count": 3,
   "metadata": {},
   "outputs": [
    {
     "name": "stdout",
     "output_type": "stream",
     "text": [
      "2.5.1+cu121\n",
      "True\n"
     ]
    }
   ],
   "source": [
    "print(torch.__version__)\n",
    "print(torch.cuda.is_available())"
   ]
  },
  {
   "cell_type": "code",
   "execution_count": 4,
   "metadata": {},
   "outputs": [],
   "source": [
    "# Set seed for reproducibility\n",
    "seed = 42\n",
    "set_seed(seed)\n",
    "random.seed(seed)\n",
    "np.random.seed(seed)\n",
    "torch.manual_seed(seed)\n",
    "if torch.cuda.is_available():\n",
    "    torch.cuda.manual_seed_all(seed)"
   ]
  },
  {
   "cell_type": "markdown",
   "metadata": {},
   "source": [
    "Load Dataset"
   ]
  },
  {
   "cell_type": "code",
   "execution_count": 5,
   "metadata": {},
   "outputs": [],
   "source": [
    "df_val = pd.read_csv('../../data/val_dataset.csv')\n",
    "df_val = df_val[['Filepath', 'Emotion']]"
   ]
  },
  {
   "cell_type": "code",
   "execution_count": 6,
   "metadata": {},
   "outputs": [
    {
     "data": {
      "application/vnd.microsoft.datawrangler.viewer.v0+json": {
       "columns": [
        {
         "name": "index",
         "rawType": "int64",
         "type": "integer"
        },
        {
         "name": "Filepath",
         "rawType": "object",
         "type": "string"
        },
        {
         "name": "Emotion",
         "rawType": "object",
         "type": "string"
        }
       ],
       "conversionMethod": "pd.DataFrame",
       "ref": "8f2cc20c-8761-4d52-9efe-a0f7a9e1202e",
       "rows": [
        [
         "0",
         "./dataset/esd\\0020\\Sad\\0020_001395.wav",
         "Sad"
        ],
        [
         "1",
         "./dataset/meld\\train\\dia930_utt5.mp4",
         "Neutral"
        ],
        [
         "2",
         "./dataset/mlend\\MLEndSND_Public\\24481.wav",
         "Bored"
        ],
        [
         "3",
         "./dataset/crema-d\\AudioWAV\\1002_IEO_SAD_HI.wav",
         "Sad"
        ],
        [
         "4",
         "./dataset/esd\\0011\\Angry\\0011_000373.wav",
         "Anger"
        ],
        [
         "5",
         "./dataset/crema-d\\AudioWAV\\1050_IWL_SAD_XX.wav",
         "Sad"
        ],
        [
         "6",
         "./dataset/tess\\OAF_neutral\\OAF_lease_neutral.wav",
         "Neutral"
        ],
        [
         "7",
         "./dataset/crema-d\\AudioWAV\\1033_DFA_SAD_XX.wav",
         "Sad"
        ],
        [
         "8",
         "./dataset/crema-d\\AudioWAV\\1059_IEO_NEU_XX.wav",
         "Neutral"
        ],
        [
         "9",
         "./dataset/esd\\0014\\Angry\\0014_000503.wav",
         "Anger"
        ],
        [
         "10",
         "./dataset/ravdess\\Actor_20\\03-01-04-01-02-02-20.wav",
         "Sad"
        ],
        [
         "11",
         "./dataset/mlend\\MLEndSND_Public\\41268.wav",
         "Happy"
        ],
        [
         "12",
         "./dataset/esd\\0016\\Surprise\\0016_001715.wav",
         "Surprise"
        ],
        [
         "13",
         "./dataset/esd\\0011\\Happy\\0011_000935.wav",
         "Happy"
        ],
        [
         "14",
         "./dataset/esd\\0018\\Sad\\0018_001210.wav",
         "Sad"
        ],
        [
         "15",
         "./dataset/crema-d\\AudioWAV\\1079_IWL_SAD_XX.wav",
         "Sad"
        ],
        [
         "16",
         "./dataset/esd\\0019\\Angry\\0019_000646.wav",
         "Anger"
        ],
        [
         "17",
         "./dataset/mlend\\MLEndSND_Public\\31175.wav",
         "Bored"
        ],
        [
         "18",
         "./dataset/mlend\\MLEndSND_Public\\37494.wav",
         "Question"
        ],
        [
         "19",
         "./dataset/esd\\0017\\Sad\\0017_001154.wav",
         "Sad"
        ],
        [
         "20",
         "./dataset/mlend\\MLEndSND_Public\\12125.wav",
         "Happy"
        ],
        [
         "21",
         "./dataset/meld\\train\\dia1036_utt12.mp4",
         "Neutral"
        ],
        [
         "22",
         "./dataset/esd\\0012\\Sad\\0012_001194.wav",
         "Sad"
        ],
        [
         "23",
         "./dataset/esd\\0015\\Neutral\\0015_000079.wav",
         "Neutral"
        ],
        [
         "24",
         "./dataset/mlend\\MLEndSND_Public\\07613.wav",
         "Happy"
        ],
        [
         "25",
         "./dataset/mlend\\MLEndSND_Public\\10182.wav",
         "Happy"
        ],
        [
         "26",
         "./dataset/mlend\\MLEndSND_Public\\30464.wav",
         "Neutral"
        ],
        [
         "27",
         "./dataset/tess\\YAF_pleasant_surprised\\YAF_keen_ps.wav",
         "Surprise"
        ],
        [
         "28",
         "./dataset/meld\\train\\dia806_utt0.mp4",
         "Surprise"
        ],
        [
         "29",
         "./dataset/ravdess\\Actor_09\\03-01-01-01-02-01-09.wav",
         "Neutral"
        ],
        [
         "30",
         "./dataset/mlend\\MLEndSND_Public\\32504.wav",
         "Neutral"
        ],
        [
         "31",
         "./dataset/mlend\\MLEndSND_Public\\08221.wav",
         "Bored"
        ],
        [
         "32",
         "./dataset/mlend\\MLEndSND_Public\\11843.wav",
         "Question"
        ],
        [
         "33",
         "./dataset/mlend\\MLEndSND_Public\\26478.wav",
         "Question"
        ],
        [
         "34",
         "./dataset/esd\\0020\\Angry\\0020_000520.wav",
         "Anger"
        ],
        [
         "35",
         "./dataset/mlend\\MLEndSND_Public\\03991.wav",
         "Question"
        ],
        [
         "36",
         "./dataset/crema-d\\AudioWAV\\1062_IOM_SAD_XX.wav",
         "Sad"
        ],
        [
         "37",
         "./dataset/mlend\\MLEndSND_Public\\42670.wav",
         "Question"
        ],
        [
         "38",
         "./dataset/crema-d\\AudioWAV\\1078_IEO_ANG_MD.wav",
         "Anger"
        ],
        [
         "39",
         "./dataset/esd\\0020\\Angry\\0020_000575.wav",
         "Anger"
        ],
        [
         "40",
         "./dataset/esd\\0013\\Neutral\\0013_000174.wav",
         "Neutral"
        ],
        [
         "41",
         "./dataset/esd\\0018\\Surprise\\0018_001519.wav",
         "Surprise"
        ],
        [
         "42",
         "./dataset/mlend\\MLEndSND_Public\\03212.wav",
         "Neutral"
        ],
        [
         "43",
         "./dataset/tess\\OAF_disgust\\OAF_room_disgust.wav",
         "Disgust"
        ],
        [
         "44",
         "./dataset/mlend\\MLEndSND_Public\\19669.wav",
         "Bored"
        ],
        [
         "45",
         "./dataset/esd\\0014\\Happy\\0014_000858.wav",
         "Happy"
        ],
        [
         "46",
         "./dataset/meld\\train\\dia47_utt12.mp4",
         "Neutral"
        ],
        [
         "47",
         "./dataset/crema-d\\AudioWAV\\1001_IEO_ANG_MD.wav",
         "Anger"
        ],
        [
         "48",
         "./dataset/crema-d\\AudioWAV\\1006_IWW_ANG_XX.wav",
         "Anger"
        ],
        [
         "49",
         "./dataset/esd\\0013\\Angry\\0013_000468.wav",
         "Anger"
        ]
       ],
       "shape": {
        "columns": 2,
        "rows": 9476
       }
      },
      "text/html": [
       "<div>\n",
       "<style scoped>\n",
       "    .dataframe tbody tr th:only-of-type {\n",
       "        vertical-align: middle;\n",
       "    }\n",
       "\n",
       "    .dataframe tbody tr th {\n",
       "        vertical-align: top;\n",
       "    }\n",
       "\n",
       "    .dataframe thead th {\n",
       "        text-align: right;\n",
       "    }\n",
       "</style>\n",
       "<table border=\"1\" class=\"dataframe\">\n",
       "  <thead>\n",
       "    <tr style=\"text-align: right;\">\n",
       "      <th></th>\n",
       "      <th>Filepath</th>\n",
       "      <th>Emotion</th>\n",
       "    </tr>\n",
       "  </thead>\n",
       "  <tbody>\n",
       "    <tr>\n",
       "      <th>0</th>\n",
       "      <td>./dataset/esd\\0020\\Sad\\0020_001395.wav</td>\n",
       "      <td>Sad</td>\n",
       "    </tr>\n",
       "    <tr>\n",
       "      <th>1</th>\n",
       "      <td>./dataset/meld\\train\\dia930_utt5.mp4</td>\n",
       "      <td>Neutral</td>\n",
       "    </tr>\n",
       "    <tr>\n",
       "      <th>2</th>\n",
       "      <td>./dataset/mlend\\MLEndSND_Public\\24481.wav</td>\n",
       "      <td>Bored</td>\n",
       "    </tr>\n",
       "    <tr>\n",
       "      <th>3</th>\n",
       "      <td>./dataset/crema-d\\AudioWAV\\1002_IEO_SAD_HI.wav</td>\n",
       "      <td>Sad</td>\n",
       "    </tr>\n",
       "    <tr>\n",
       "      <th>4</th>\n",
       "      <td>./dataset/esd\\0011\\Angry\\0011_000373.wav</td>\n",
       "      <td>Anger</td>\n",
       "    </tr>\n",
       "    <tr>\n",
       "      <th>...</th>\n",
       "      <td>...</td>\n",
       "      <td>...</td>\n",
       "    </tr>\n",
       "    <tr>\n",
       "      <th>9471</th>\n",
       "      <td>./dataset/tess\\YAF_disgust\\YAF_take_disgust.wav</td>\n",
       "      <td>Disgust</td>\n",
       "    </tr>\n",
       "    <tr>\n",
       "      <th>9472</th>\n",
       "      <td>./dataset/mlend\\MLEndSND_Public\\43418.wav</td>\n",
       "      <td>Bored</td>\n",
       "    </tr>\n",
       "    <tr>\n",
       "      <th>9473</th>\n",
       "      <td>./dataset/mlend\\MLEndSND_Public\\02459.wav</td>\n",
       "      <td>Bored</td>\n",
       "    </tr>\n",
       "    <tr>\n",
       "      <th>9474</th>\n",
       "      <td>./dataset/mlend\\MLEndSND_Public\\10609.wav</td>\n",
       "      <td>Question</td>\n",
       "    </tr>\n",
       "    <tr>\n",
       "      <th>9475</th>\n",
       "      <td>./dataset/mlend\\MLEndSND_Public\\23072.wav</td>\n",
       "      <td>Question</td>\n",
       "    </tr>\n",
       "  </tbody>\n",
       "</table>\n",
       "<p>9476 rows × 2 columns</p>\n",
       "</div>"
      ],
      "text/plain": [
       "                                             Filepath   Emotion\n",
       "0              ./dataset/esd\\0020\\Sad\\0020_001395.wav       Sad\n",
       "1                ./dataset/meld\\train\\dia930_utt5.mp4   Neutral\n",
       "2           ./dataset/mlend\\MLEndSND_Public\\24481.wav     Bored\n",
       "3      ./dataset/crema-d\\AudioWAV\\1002_IEO_SAD_HI.wav       Sad\n",
       "4            ./dataset/esd\\0011\\Angry\\0011_000373.wav     Anger\n",
       "...                                               ...       ...\n",
       "9471  ./dataset/tess\\YAF_disgust\\YAF_take_disgust.wav   Disgust\n",
       "9472        ./dataset/mlend\\MLEndSND_Public\\43418.wav     Bored\n",
       "9473        ./dataset/mlend\\MLEndSND_Public\\02459.wav     Bored\n",
       "9474        ./dataset/mlend\\MLEndSND_Public\\10609.wav  Question\n",
       "9475        ./dataset/mlend\\MLEndSND_Public\\23072.wav  Question\n",
       "\n",
       "[9476 rows x 2 columns]"
      ]
     },
     "execution_count": 6,
     "metadata": {},
     "output_type": "execute_result"
    }
   ],
   "source": [
    "df_val"
   ]
  },
  {
   "cell_type": "code",
   "execution_count": 7,
   "metadata": {},
   "outputs": [
    {
     "name": "stdout",
     "output_type": "stream",
     "text": [
      "{'Anger': 0, 'Bored': 1, 'Disgust': 2, 'Fear': 3, 'Happy': 4, 'Neutral': 5, 'Question': 6, 'Sad': 7, 'Surprise': 8}\n"
     ]
    }
   ],
   "source": [
    "# Convert labels to integers\n",
    "unique_labels = sorted(df_val['Emotion'].unique())\n",
    "label_map = {label: idx for idx, label in enumerate(unique_labels)}\n",
    "print(label_map)\n",
    "\n",
    "df_val['Emotion'] = df_val['Emotion'].map(label_map)"
   ]
  },
  {
   "cell_type": "code",
   "execution_count": 8,
   "metadata": {},
   "outputs": [
    {
     "data": {
      "application/vnd.microsoft.datawrangler.viewer.v0+json": {
       "columns": [
        {
         "name": "index",
         "rawType": "int64",
         "type": "integer"
        },
        {
         "name": "Filepath",
         "rawType": "object",
         "type": "string"
        },
        {
         "name": "Emotion",
         "rawType": "int64",
         "type": "integer"
        }
       ],
       "conversionMethod": "pd.DataFrame",
       "ref": "86d01c5c-3a2a-4cce-9680-cc63c1c7a690",
       "rows": [
        [
         "0",
         "./dataset/esd\\0020\\Sad\\0020_001395.wav",
         "7"
        ],
        [
         "1",
         "./dataset/meld\\train\\dia930_utt5.mp4",
         "5"
        ],
        [
         "2",
         "./dataset/mlend\\MLEndSND_Public\\24481.wav",
         "1"
        ],
        [
         "3",
         "./dataset/crema-d\\AudioWAV\\1002_IEO_SAD_HI.wav",
         "7"
        ],
        [
         "4",
         "./dataset/esd\\0011\\Angry\\0011_000373.wav",
         "0"
        ],
        [
         "5",
         "./dataset/crema-d\\AudioWAV\\1050_IWL_SAD_XX.wav",
         "7"
        ],
        [
         "6",
         "./dataset/tess\\OAF_neutral\\OAF_lease_neutral.wav",
         "5"
        ],
        [
         "7",
         "./dataset/crema-d\\AudioWAV\\1033_DFA_SAD_XX.wav",
         "7"
        ],
        [
         "8",
         "./dataset/crema-d\\AudioWAV\\1059_IEO_NEU_XX.wav",
         "5"
        ],
        [
         "9",
         "./dataset/esd\\0014\\Angry\\0014_000503.wav",
         "0"
        ],
        [
         "10",
         "./dataset/ravdess\\Actor_20\\03-01-04-01-02-02-20.wav",
         "7"
        ],
        [
         "11",
         "./dataset/mlend\\MLEndSND_Public\\41268.wav",
         "4"
        ],
        [
         "12",
         "./dataset/esd\\0016\\Surprise\\0016_001715.wav",
         "8"
        ],
        [
         "13",
         "./dataset/esd\\0011\\Happy\\0011_000935.wav",
         "4"
        ],
        [
         "14",
         "./dataset/esd\\0018\\Sad\\0018_001210.wav",
         "7"
        ],
        [
         "15",
         "./dataset/crema-d\\AudioWAV\\1079_IWL_SAD_XX.wav",
         "7"
        ],
        [
         "16",
         "./dataset/esd\\0019\\Angry\\0019_000646.wav",
         "0"
        ],
        [
         "17",
         "./dataset/mlend\\MLEndSND_Public\\31175.wav",
         "1"
        ],
        [
         "18",
         "./dataset/mlend\\MLEndSND_Public\\37494.wav",
         "6"
        ],
        [
         "19",
         "./dataset/esd\\0017\\Sad\\0017_001154.wav",
         "7"
        ],
        [
         "20",
         "./dataset/mlend\\MLEndSND_Public\\12125.wav",
         "4"
        ],
        [
         "21",
         "./dataset/meld\\train\\dia1036_utt12.mp4",
         "5"
        ],
        [
         "22",
         "./dataset/esd\\0012\\Sad\\0012_001194.wav",
         "7"
        ],
        [
         "23",
         "./dataset/esd\\0015\\Neutral\\0015_000079.wav",
         "5"
        ],
        [
         "24",
         "./dataset/mlend\\MLEndSND_Public\\07613.wav",
         "4"
        ],
        [
         "25",
         "./dataset/mlend\\MLEndSND_Public\\10182.wav",
         "4"
        ],
        [
         "26",
         "./dataset/mlend\\MLEndSND_Public\\30464.wav",
         "5"
        ],
        [
         "27",
         "./dataset/tess\\YAF_pleasant_surprised\\YAF_keen_ps.wav",
         "8"
        ],
        [
         "28",
         "./dataset/meld\\train\\dia806_utt0.mp4",
         "8"
        ],
        [
         "29",
         "./dataset/ravdess\\Actor_09\\03-01-01-01-02-01-09.wav",
         "5"
        ],
        [
         "30",
         "./dataset/mlend\\MLEndSND_Public\\32504.wav",
         "5"
        ],
        [
         "31",
         "./dataset/mlend\\MLEndSND_Public\\08221.wav",
         "1"
        ],
        [
         "32",
         "./dataset/mlend\\MLEndSND_Public\\11843.wav",
         "6"
        ],
        [
         "33",
         "./dataset/mlend\\MLEndSND_Public\\26478.wav",
         "6"
        ],
        [
         "34",
         "./dataset/esd\\0020\\Angry\\0020_000520.wav",
         "0"
        ],
        [
         "35",
         "./dataset/mlend\\MLEndSND_Public\\03991.wav",
         "6"
        ],
        [
         "36",
         "./dataset/crema-d\\AudioWAV\\1062_IOM_SAD_XX.wav",
         "7"
        ],
        [
         "37",
         "./dataset/mlend\\MLEndSND_Public\\42670.wav",
         "6"
        ],
        [
         "38",
         "./dataset/crema-d\\AudioWAV\\1078_IEO_ANG_MD.wav",
         "0"
        ],
        [
         "39",
         "./dataset/esd\\0020\\Angry\\0020_000575.wav",
         "0"
        ],
        [
         "40",
         "./dataset/esd\\0013\\Neutral\\0013_000174.wav",
         "5"
        ],
        [
         "41",
         "./dataset/esd\\0018\\Surprise\\0018_001519.wav",
         "8"
        ],
        [
         "42",
         "./dataset/mlend\\MLEndSND_Public\\03212.wav",
         "5"
        ],
        [
         "43",
         "./dataset/tess\\OAF_disgust\\OAF_room_disgust.wav",
         "2"
        ],
        [
         "44",
         "./dataset/mlend\\MLEndSND_Public\\19669.wav",
         "1"
        ],
        [
         "45",
         "./dataset/esd\\0014\\Happy\\0014_000858.wav",
         "4"
        ],
        [
         "46",
         "./dataset/meld\\train\\dia47_utt12.mp4",
         "5"
        ],
        [
         "47",
         "./dataset/crema-d\\AudioWAV\\1001_IEO_ANG_MD.wav",
         "0"
        ],
        [
         "48",
         "./dataset/crema-d\\AudioWAV\\1006_IWW_ANG_XX.wav",
         "0"
        ],
        [
         "49",
         "./dataset/esd\\0013\\Angry\\0013_000468.wav",
         "0"
        ]
       ],
       "shape": {
        "columns": 2,
        "rows": 9476
       }
      },
      "text/html": [
       "<div>\n",
       "<style scoped>\n",
       "    .dataframe tbody tr th:only-of-type {\n",
       "        vertical-align: middle;\n",
       "    }\n",
       "\n",
       "    .dataframe tbody tr th {\n",
       "        vertical-align: top;\n",
       "    }\n",
       "\n",
       "    .dataframe thead th {\n",
       "        text-align: right;\n",
       "    }\n",
       "</style>\n",
       "<table border=\"1\" class=\"dataframe\">\n",
       "  <thead>\n",
       "    <tr style=\"text-align: right;\">\n",
       "      <th></th>\n",
       "      <th>Filepath</th>\n",
       "      <th>Emotion</th>\n",
       "    </tr>\n",
       "  </thead>\n",
       "  <tbody>\n",
       "    <tr>\n",
       "      <th>0</th>\n",
       "      <td>./dataset/esd\\0020\\Sad\\0020_001395.wav</td>\n",
       "      <td>7</td>\n",
       "    </tr>\n",
       "    <tr>\n",
       "      <th>1</th>\n",
       "      <td>./dataset/meld\\train\\dia930_utt5.mp4</td>\n",
       "      <td>5</td>\n",
       "    </tr>\n",
       "    <tr>\n",
       "      <th>2</th>\n",
       "      <td>./dataset/mlend\\MLEndSND_Public\\24481.wav</td>\n",
       "      <td>1</td>\n",
       "    </tr>\n",
       "    <tr>\n",
       "      <th>3</th>\n",
       "      <td>./dataset/crema-d\\AudioWAV\\1002_IEO_SAD_HI.wav</td>\n",
       "      <td>7</td>\n",
       "    </tr>\n",
       "    <tr>\n",
       "      <th>4</th>\n",
       "      <td>./dataset/esd\\0011\\Angry\\0011_000373.wav</td>\n",
       "      <td>0</td>\n",
       "    </tr>\n",
       "    <tr>\n",
       "      <th>...</th>\n",
       "      <td>...</td>\n",
       "      <td>...</td>\n",
       "    </tr>\n",
       "    <tr>\n",
       "      <th>9471</th>\n",
       "      <td>./dataset/tess\\YAF_disgust\\YAF_take_disgust.wav</td>\n",
       "      <td>2</td>\n",
       "    </tr>\n",
       "    <tr>\n",
       "      <th>9472</th>\n",
       "      <td>./dataset/mlend\\MLEndSND_Public\\43418.wav</td>\n",
       "      <td>1</td>\n",
       "    </tr>\n",
       "    <tr>\n",
       "      <th>9473</th>\n",
       "      <td>./dataset/mlend\\MLEndSND_Public\\02459.wav</td>\n",
       "      <td>1</td>\n",
       "    </tr>\n",
       "    <tr>\n",
       "      <th>9474</th>\n",
       "      <td>./dataset/mlend\\MLEndSND_Public\\10609.wav</td>\n",
       "      <td>6</td>\n",
       "    </tr>\n",
       "    <tr>\n",
       "      <th>9475</th>\n",
       "      <td>./dataset/mlend\\MLEndSND_Public\\23072.wav</td>\n",
       "      <td>6</td>\n",
       "    </tr>\n",
       "  </tbody>\n",
       "</table>\n",
       "<p>9476 rows × 2 columns</p>\n",
       "</div>"
      ],
      "text/plain": [
       "                                             Filepath  Emotion\n",
       "0              ./dataset/esd\\0020\\Sad\\0020_001395.wav        7\n",
       "1                ./dataset/meld\\train\\dia930_utt5.mp4        5\n",
       "2           ./dataset/mlend\\MLEndSND_Public\\24481.wav        1\n",
       "3      ./dataset/crema-d\\AudioWAV\\1002_IEO_SAD_HI.wav        7\n",
       "4            ./dataset/esd\\0011\\Angry\\0011_000373.wav        0\n",
       "...                                               ...      ...\n",
       "9471  ./dataset/tess\\YAF_disgust\\YAF_take_disgust.wav        2\n",
       "9472        ./dataset/mlend\\MLEndSND_Public\\43418.wav        1\n",
       "9473        ./dataset/mlend\\MLEndSND_Public\\02459.wav        1\n",
       "9474        ./dataset/mlend\\MLEndSND_Public\\10609.wav        6\n",
       "9475        ./dataset/mlend\\MLEndSND_Public\\23072.wav        6\n",
       "\n",
       "[9476 rows x 2 columns]"
      ]
     },
     "execution_count": 8,
     "metadata": {},
     "output_type": "execute_result"
    }
   ],
   "source": [
    "df_val"
   ]
  },
  {
   "cell_type": "markdown",
   "metadata": {},
   "source": [
    "Loading pretrained models"
   ]
  },
  {
   "cell_type": "code",
   "execution_count": 9,
   "metadata": {},
   "outputs": [
    {
     "name": "stderr",
     "output_type": "stream",
     "text": [
      "c:\\Users\\profi\\OneDrive\\Desktop\\AI-Project--Speech-Emotion-Recognition\\myenv\\lib\\site-packages\\transformers\\configuration_utils.py:315: UserWarning: Passing `gradient_checkpointing` to a config initialization is deprecated and will be removed in v5 Transformers. Using `model.gradient_checkpointing_enable()` instead, or if you are using the `Trainer` API, pass `gradient_checkpointing=True` in your `TrainingArguments`.\n",
      "  warnings.warn(\n"
     ]
    }
   ],
   "source": [
    "# Load Model 1: facebook/wav2vec2-base\n",
    "model1_checkpoint_path = '../models/wav2vec2-base_standardpad_augmentation/checkpoint-22112'\n",
    "processor1 = Wav2Vec2Processor.from_pretrained(\"facebook/wav2vec2-base\")\n",
    "model1 = Wav2Vec2ForSequenceClassification.from_pretrained(\n",
    "    model1_checkpoint_path, num_labels=len(label_map))\n",
    "\n",
    "# Load Model 2: microsoft/wavlm-base\n",
    "model2_checkpoint_path = '../models/wavlm-base_standardpad_augmentation/checkpoint-55280'\n",
    "processor2 = Wav2Vec2FeatureExtractor.from_pretrained(\"microsoft/wavlm-base\")\n",
    "model2 = WavLMForSequenceClassification.from_pretrained(\n",
    "    model2_checkpoint_path, num_labels=len(label_map))"
   ]
  },
  {
   "cell_type": "code",
   "execution_count": 10,
   "metadata": {},
   "outputs": [],
   "source": [
    "from transformer_models.emotion_datasets.SpeechEmotionDatasetStandardPad import SpeechEmotionDatasetStandardPad\n",
    "\n",
    "# Create two validation datasets, one for each model\n",
    "val_dataset1 = SpeechEmotionDatasetStandardPad(df_val, processor1)\n",
    "val_dataset2 = SpeechEmotionDatasetStandardPad(df_val, processor2)"
   ]
  },
  {
   "cell_type": "code",
   "execution_count": 11,
   "metadata": {},
   "outputs": [
    {
     "name": "stderr",
     "output_type": "stream",
     "text": [
      "Keyword argument `truncate` is not a valid argument for this processor and will be ignored.\n"
     ]
    },
    {
     "data": {
      "text/plain": [
       "{'input_values': tensor([ 1.0359e-02,  1.0359e-02,  1.0359e-02,  ..., -7.3200e-05,\n",
       "         -7.3200e-05, -7.3200e-05]),\n",
       " 'labels': tensor(7)}"
      ]
     },
     "execution_count": 11,
     "metadata": {},
     "output_type": "execute_result"
    }
   ],
   "source": [
    "val_dataset1[0]"
   ]
  },
  {
   "cell_type": "code",
   "execution_count": 12,
   "metadata": {},
   "outputs": [
    {
     "data": {
      "text/plain": [
       "{'input_values': tensor([0.0005, 0.0005, 0.0005,  ..., 0.0000, 0.0000, 0.0000]),\n",
       " 'labels': tensor(7)}"
      ]
     },
     "execution_count": 12,
     "metadata": {},
     "output_type": "execute_result"
    }
   ],
   "source": [
    "val_dataset2[0]"
   ]
  },
  {
   "cell_type": "markdown",
   "metadata": {},
   "source": [
    "Get predictions from each model"
   ]
  },
  {
   "cell_type": "code",
   "execution_count": 13,
   "metadata": {},
   "outputs": [],
   "source": [
    "device = torch.device(\"cuda\" if torch.cuda.is_available() else \"cpu\")"
   ]
  },
  {
   "cell_type": "code",
   "execution_count": 14,
   "metadata": {},
   "outputs": [],
   "source": [
    "# Helper function to obtain model probabilities\n",
    "def get_model_logits(model, dataset, batch_size=128):\n",
    "    model.eval()\n",
    "    model.to(device)\n",
    "    dataloader = DataLoader(dataset, batch_size=batch_size)\n",
    "    all_logits = []\n",
    "\n",
    "    with torch.no_grad():\n",
    "        for batch in dataloader:\n",
    "            # The dataset returns a dict with 'input_values'\n",
    "            input_values = batch[\"input_values\"].to(device)\n",
    "            logits = model(input_values).logits  # shape: (B, num_labels)\n",
    "            all_logits.append(logits.cpu().numpy())\n",
    "    return np.vstack(all_logits)  # shape: (N, num_labels)"
   ]
  },
  {
   "cell_type": "code",
   "execution_count": 15,
   "metadata": {},
   "outputs": [
    {
     "name": "stderr",
     "output_type": "stream",
     "text": [
      "c:\\Users\\profi\\OneDrive\\Desktop\\AI-Project--Speech-Emotion-Recognition\\transformer_models\\emotion_datasets\\SpeechEmotionDatasetStandardPad.py:22: UserWarning: PySoundFile failed. Trying audioread instead.\n",
      "  speech, sr = librosa.load(audio_path, sr=16000)\n",
      "c:\\Users\\profi\\OneDrive\\Desktop\\AI-Project--Speech-Emotion-Recognition\\myenv\\lib\\site-packages\\librosa\\core\\audio.py:184: FutureWarning: librosa.core.audio.__audioread_load\n",
      "\tDeprecated as of librosa version 0.10.0.\n",
      "\tIt will be removed in librosa version 1.0.\n",
      "  y, sr_native = __audioread_load(path, offset, duration, dtype)\n"
     ]
    },
    {
     "name": "stdout",
     "output_type": "stream",
     "text": [
      "Shape of X_meta (stacked predictions): (9476, 18)\n",
      "Shape of y_meta (labels): (9476,)\n"
     ]
    }
   ],
   "source": [
    "# Get probabilities for each model from their respective datasets\n",
    "logits1 = get_model_logits(model1, val_dataset1, batch_size=128)\n",
    "logits2 = get_model_logits(model2, val_dataset2, batch_size=128)\n",
    "\n",
    "# Stack predictions horizontally\n",
    "X_meta = np.hstack([logits1, logits2])  # shape: (N, num_labels * 2)\n",
    "\n",
    "# Extract ground truth labels from one of the datasets (they should be the same)\n",
    "y_meta = np.array([sample['labels'].item() for sample in val_dataset1])\n",
    "\n",
    "print(\"Shape of X_meta (stacked predictions):\", X_meta.shape)\n",
    "print(\"Shape of y_meta (labels):\", y_meta.shape)"
   ]
  },
  {
   "cell_type": "markdown",
   "metadata": {},
   "source": [
    "Load Feed-Forward Neural Network for meta classifier"
   ]
  },
  {
   "cell_type": "code",
   "execution_count": 16,
   "metadata": {},
   "outputs": [],
   "source": [
    "from transformer_models.meta_learner.MetaLearner import MetaFFNN\n"
   ]
  },
  {
   "cell_type": "markdown",
   "metadata": {},
   "source": [
    "Define meta dataset class"
   ]
  },
  {
   "cell_type": "code",
   "execution_count": 17,
   "metadata": {},
   "outputs": [],
   "source": [
    "from torch.utils.data import Dataset\n",
    "\n",
    "class MetaDataset(Dataset):\n",
    "    def __init__(self, X, y):\n",
    "        self.X = torch.tensor(X, dtype=torch.float32)\n",
    "        self.y = torch.tensor(y, dtype=torch.long)\n",
    "\n",
    "    def __len__(self):\n",
    "        return len(self.y)\n",
    "\n",
    "    def __getitem__(self, idx):\n",
    "        return self.X[idx], self.y[idx]\n"
   ]
  },
  {
   "cell_type": "markdown",
   "metadata": {},
   "source": [
    "Train meta classifier"
   ]
  },
  {
   "cell_type": "code",
   "execution_count": 19,
   "metadata": {},
   "outputs": [
    {
     "name": "stdout",
     "output_type": "stream",
     "text": [
      "\n",
      " Fold 1\n",
      "Epoch 1, Average Loss: 0.6803\n",
      "Epoch 2, Average Loss: 0.4807\n",
      "Epoch 3, Average Loss: 0.4534\n",
      "Epoch 4, Average Loss: 0.4367\n",
      "Epoch 5, Average Loss: 0.4349\n",
      "Epoch 6, Average Loss: 0.4276\n",
      "Epoch 7, Average Loss: 0.4074\n",
      "Epoch 8, Average Loss: 0.4108\n",
      "Epoch 9, Average Loss: 0.4116\n",
      "Epoch 10, Average Loss: 0.4023\n",
      "Epoch 11, Average Loss: 0.4010\n",
      "Epoch 12, Average Loss: 0.3986\n",
      "Epoch 13, Average Loss: 0.3957\n",
      "Epoch 14, Average Loss: 0.3883\n",
      "Epoch 15, Average Loss: 0.3869\n",
      "Epoch 16, Average Loss: 0.3881\n",
      "Epoch 17, Average Loss: 0.3835\n",
      "Epoch 18, Average Loss: 0.3747\n",
      "Epoch 19, Average Loss: 0.3843\n",
      "Epoch 20, Average Loss: 0.3731\n",
      "Epoch 21, Average Loss: 0.3653\n",
      "Epoch 22, Average Loss: 0.3772\n",
      "Epoch 23, Average Loss: 0.3753\n",
      "Epoch 24, Average Loss: 0.3703\n",
      "Epoch 25, Average Loss: 0.3671\n",
      "Epoch 26, Average Loss: 0.3633\n",
      "Epoch 27, Average Loss: 0.3594\n",
      "Epoch 28, Average Loss: 0.3661\n",
      "Epoch 29, Average Loss: 0.3524\n",
      "Epoch 30, Average Loss: 0.3542\n",
      "Epoch 31, Average Loss: 0.3571\n",
      "Epoch 32, Average Loss: 0.3443\n",
      "Epoch 33, Average Loss: 0.3460\n",
      "Epoch 34, Average Loss: 0.3467\n",
      "Epoch 35, Average Loss: 0.3457\n",
      "Epoch 36, Average Loss: 0.3415\n",
      "Epoch 37, Average Loss: 0.3397\n",
      "Epoch 38, Average Loss: 0.3451\n",
      "Epoch 39, Average Loss: 0.3393\n",
      "Epoch 40, Average Loss: 0.3443\n",
      "Epoch 41, Average Loss: 0.3338\n",
      "Epoch 42, Average Loss: 0.3371\n",
      "Epoch 43, Average Loss: 0.3199\n",
      "Epoch 44, Average Loss: 0.3312\n",
      "Epoch 45, Average Loss: 0.3332\n",
      "Epoch 46, Average Loss: 0.3381\n",
      "Epoch 47, Average Loss: 0.3326\n",
      "Epoch 48, Average Loss: 0.3291\n",
      "Epoch 49, Average Loss: 0.3204\n",
      "Epoch 50, Average Loss: 0.3197\n",
      "Epoch 51, Average Loss: 0.3125\n",
      "Epoch 52, Average Loss: 0.3258\n",
      "Epoch 53, Average Loss: 0.3241\n",
      "Epoch 54, Average Loss: 0.3276\n",
      "Epoch 55, Average Loss: 0.3175\n",
      "Epoch 56, Average Loss: 0.3123\n",
      "Epoch 57, Average Loss: 0.3229\n",
      "Epoch 58, Average Loss: 0.3105\n",
      "Epoch 59, Average Loss: 0.3231\n",
      "Epoch 60, Average Loss: 0.3102\n",
      "Epoch 61, Average Loss: 0.3122\n",
      "Epoch 62, Average Loss: 0.3117\n",
      "Epoch 63, Average Loss: 0.3100\n",
      "Epoch 64, Average Loss: 0.3014\n",
      "Epoch 65, Average Loss: 0.3048\n",
      "Epoch 66, Average Loss: 0.3054\n",
      "Epoch 67, Average Loss: 0.3092\n",
      "Epoch 68, Average Loss: 0.2987\n",
      "Epoch 69, Average Loss: 0.2996\n",
      "Epoch 70, Average Loss: 0.3010\n",
      "Epoch 71, Average Loss: 0.3076\n",
      "Epoch 72, Average Loss: 0.2969\n",
      "Epoch 73, Average Loss: 0.3026\n",
      "Epoch 74, Average Loss: 0.2988\n",
      "Epoch 75, Average Loss: 0.3041\n",
      "Epoch 76, Average Loss: 0.2911\n",
      "Epoch 77, Average Loss: 0.3018\n",
      "Epoch 78, Average Loss: 0.3022\n",
      "Epoch 79, Average Loss: 0.3039\n",
      "Epoch 80, Average Loss: 0.2944\n",
      "Epoch 81, Average Loss: 0.2981\n",
      "Epoch 82, Average Loss: 0.2998\n",
      "Epoch 83, Average Loss: 0.2909\n",
      "Epoch 84, Average Loss: 0.2904\n",
      "Epoch 85, Average Loss: 0.2889\n",
      "Epoch 86, Average Loss: 0.2890\n",
      "Epoch 87, Average Loss: 0.2949\n",
      "Epoch 88, Average Loss: 0.2947\n",
      "Epoch 89, Average Loss: 0.2825\n",
      "Epoch 90, Average Loss: 0.2813\n",
      "Epoch 91, Average Loss: 0.2894\n",
      "Epoch 92, Average Loss: 0.2873\n",
      "Epoch 93, Average Loss: 0.2899\n",
      "Epoch 94, Average Loss: 0.2897\n",
      "Epoch 95, Average Loss: 0.2844\n",
      "Epoch 96, Average Loss: 0.2888\n",
      "Epoch 97, Average Loss: 0.2923\n",
      "Epoch 98, Average Loss: 0.2880\n",
      "Epoch 99, Average Loss: 0.2866\n",
      "Epoch 100, Average Loss: 0.2832\n",
      "Early stopping at epoch 100\n",
      "Fold 1 Metrics: Accuracy: 0.8613, Precision: 0.8697, Recall: 0.8613, F1 Score: 0.8635\n",
      "\n",
      " Fold 2\n",
      "Epoch 1, Average Loss: 0.6649\n",
      "Epoch 2, Average Loss: 0.4713\n",
      "Epoch 3, Average Loss: 0.4490\n",
      "Epoch 4, Average Loss: 0.4420\n",
      "Epoch 5, Average Loss: 0.4233\n",
      "Epoch 6, Average Loss: 0.4117\n",
      "Epoch 7, Average Loss: 0.4153\n",
      "Epoch 8, Average Loss: 0.4122\n",
      "Epoch 9, Average Loss: 0.4022\n",
      "Epoch 10, Average Loss: 0.3994\n",
      "Epoch 11, Average Loss: 0.3915\n",
      "Epoch 12, Average Loss: 0.3960\n",
      "Epoch 13, Average Loss: 0.3934\n",
      "Epoch 14, Average Loss: 0.3826\n",
      "Epoch 15, Average Loss: 0.3863\n",
      "Epoch 16, Average Loss: 0.3766\n",
      "Epoch 17, Average Loss: 0.3790\n",
      "Epoch 18, Average Loss: 0.3742\n",
      "Epoch 19, Average Loss: 0.3659\n",
      "Epoch 20, Average Loss: 0.3703\n",
      "Epoch 21, Average Loss: 0.3729\n",
      "Epoch 22, Average Loss: 0.3697\n",
      "Epoch 23, Average Loss: 0.3591\n",
      "Epoch 24, Average Loss: 0.3681\n",
      "Epoch 25, Average Loss: 0.3592\n",
      "Epoch 26, Average Loss: 0.3481\n",
      "Epoch 27, Average Loss: 0.3589\n",
      "Epoch 28, Average Loss: 0.3615\n",
      "Epoch 29, Average Loss: 0.3500\n",
      "Epoch 30, Average Loss: 0.3476\n",
      "Epoch 31, Average Loss: 0.3434\n",
      "Epoch 32, Average Loss: 0.3478\n",
      "Epoch 33, Average Loss: 0.3451\n",
      "Epoch 34, Average Loss: 0.3392\n",
      "Epoch 35, Average Loss: 0.3377\n",
      "Epoch 36, Average Loss: 0.3515\n",
      "Epoch 37, Average Loss: 0.3475\n",
      "Epoch 38, Average Loss: 0.3397\n",
      "Epoch 39, Average Loss: 0.3324\n",
      "Epoch 40, Average Loss: 0.3251\n",
      "Epoch 41, Average Loss: 0.3282\n",
      "Epoch 42, Average Loss: 0.3301\n",
      "Epoch 43, Average Loss: 0.3297\n",
      "Epoch 44, Average Loss: 0.3357\n",
      "Epoch 45, Average Loss: 0.3269\n",
      "Epoch 46, Average Loss: 0.3294\n",
      "Epoch 47, Average Loss: 0.3304\n",
      "Epoch 48, Average Loss: 0.3205\n",
      "Epoch 49, Average Loss: 0.3281\n",
      "Epoch 50, Average Loss: 0.3219\n",
      "Epoch 51, Average Loss: 0.3131\n",
      "Epoch 52, Average Loss: 0.3137\n",
      "Epoch 53, Average Loss: 0.3155\n",
      "Epoch 54, Average Loss: 0.3169\n",
      "Epoch 55, Average Loss: 0.3088\n",
      "Epoch 56, Average Loss: 0.3058\n",
      "Epoch 57, Average Loss: 0.3093\n",
      "Epoch 58, Average Loss: 0.3066\n",
      "Epoch 59, Average Loss: 0.3041\n",
      "Epoch 60, Average Loss: 0.2985\n",
      "Epoch 61, Average Loss: 0.3016\n",
      "Epoch 62, Average Loss: 0.3109\n",
      "Epoch 63, Average Loss: 0.3092\n",
      "Epoch 64, Average Loss: 0.3048\n",
      "Epoch 65, Average Loss: 0.3026\n",
      "Epoch 66, Average Loss: 0.2983\n",
      "Epoch 67, Average Loss: 0.3114\n",
      "Epoch 68, Average Loss: 0.2986\n",
      "Epoch 69, Average Loss: 0.3050\n",
      "Epoch 70, Average Loss: 0.2906\n",
      "Epoch 71, Average Loss: 0.2969\n",
      "Epoch 72, Average Loss: 0.2926\n",
      "Epoch 73, Average Loss: 0.2916\n",
      "Epoch 74, Average Loss: 0.3100\n",
      "Epoch 75, Average Loss: 0.3015\n",
      "Epoch 76, Average Loss: 0.2910\n",
      "Epoch 77, Average Loss: 0.2900\n",
      "Epoch 78, Average Loss: 0.2958\n",
      "Epoch 79, Average Loss: 0.2931\n",
      "Epoch 80, Average Loss: 0.2908\n",
      "Epoch 81, Average Loss: 0.2996\n",
      "Epoch 82, Average Loss: 0.2883\n",
      "Epoch 83, Average Loss: 0.2878\n",
      "Epoch 84, Average Loss: 0.2912\n",
      "Epoch 85, Average Loss: 0.2858\n",
      "Epoch 86, Average Loss: 0.2853\n",
      "Epoch 87, Average Loss: 0.2931\n",
      "Epoch 88, Average Loss: 0.2819\n",
      "Epoch 89, Average Loss: 0.2939\n",
      "Epoch 90, Average Loss: 0.2819\n",
      "Epoch 91, Average Loss: 0.2838\n",
      "Epoch 92, Average Loss: 0.2789\n",
      "Epoch 93, Average Loss: 0.2869\n",
      "Epoch 94, Average Loss: 0.2889\n",
      "Epoch 95, Average Loss: 0.2671\n",
      "Epoch 96, Average Loss: 0.2841\n",
      "Epoch 97, Average Loss: 0.2857\n",
      "Epoch 98, Average Loss: 0.2849\n",
      "Epoch 99, Average Loss: 0.2786\n",
      "Epoch 100, Average Loss: 0.2879\n",
      "Epoch 101, Average Loss: 0.2841\n",
      "Epoch 102, Average Loss: 0.2789\n",
      "Epoch 103, Average Loss: 0.2746\n",
      "Epoch 104, Average Loss: 0.2866\n",
      "Epoch 105, Average Loss: 0.2801\n",
      "Early stopping at epoch 105\n",
      "Fold 2 Metrics: Accuracy: 0.8691, Precision: 0.8793, Recall: 0.8691, F1 Score: 0.8720\n",
      "\n",
      " Fold 3\n",
      "Epoch 1, Average Loss: 0.6726\n",
      "Epoch 2, Average Loss: 0.4922\n",
      "Epoch 3, Average Loss: 0.4629\n",
      "Epoch 4, Average Loss: 0.4449\n",
      "Epoch 5, Average Loss: 0.4366\n",
      "Epoch 6, Average Loss: 0.4274\n",
      "Epoch 7, Average Loss: 0.4275\n",
      "Epoch 8, Average Loss: 0.4263\n",
      "Epoch 9, Average Loss: 0.4133\n",
      "Epoch 10, Average Loss: 0.4115\n",
      "Epoch 11, Average Loss: 0.4087\n",
      "Epoch 12, Average Loss: 0.4082\n",
      "Epoch 13, Average Loss: 0.4010\n",
      "Epoch 14, Average Loss: 0.3991\n",
      "Epoch 15, Average Loss: 0.3973\n",
      "Epoch 16, Average Loss: 0.3891\n",
      "Epoch 17, Average Loss: 0.3994\n",
      "Epoch 18, Average Loss: 0.3942\n",
      "Epoch 19, Average Loss: 0.3897\n",
      "Epoch 20, Average Loss: 0.3821\n",
      "Epoch 21, Average Loss: 0.3770\n",
      "Epoch 22, Average Loss: 0.3838\n",
      "Epoch 23, Average Loss: 0.3704\n",
      "Epoch 24, Average Loss: 0.3740\n",
      "Epoch 25, Average Loss: 0.3683\n",
      "Epoch 26, Average Loss: 0.3697\n",
      "Epoch 27, Average Loss: 0.3663\n",
      "Epoch 28, Average Loss: 0.3572\n",
      "Epoch 29, Average Loss: 0.3620\n",
      "Epoch 30, Average Loss: 0.3568\n",
      "Epoch 31, Average Loss: 0.3639\n",
      "Epoch 32, Average Loss: 0.3558\n",
      "Epoch 33, Average Loss: 0.3608\n",
      "Epoch 34, Average Loss: 0.3527\n",
      "Epoch 35, Average Loss: 0.3642\n",
      "Epoch 36, Average Loss: 0.3541\n",
      "Epoch 37, Average Loss: 0.3584\n",
      "Epoch 38, Average Loss: 0.3537\n",
      "Epoch 39, Average Loss: 0.3503\n",
      "Epoch 40, Average Loss: 0.3514\n",
      "Epoch 41, Average Loss: 0.3471\n",
      "Epoch 42, Average Loss: 0.3495\n",
      "Epoch 43, Average Loss: 0.3420\n",
      "Epoch 44, Average Loss: 0.3418\n",
      "Epoch 45, Average Loss: 0.3462\n",
      "Epoch 46, Average Loss: 0.3438\n",
      "Epoch 47, Average Loss: 0.3433\n",
      "Epoch 48, Average Loss: 0.3405\n",
      "Epoch 49, Average Loss: 0.3267\n",
      "Epoch 50, Average Loss: 0.3274\n",
      "Epoch 51, Average Loss: 0.3258\n",
      "Epoch 52, Average Loss: 0.3347\n",
      "Epoch 53, Average Loss: 0.3350\n",
      "Epoch 54, Average Loss: 0.3279\n",
      "Epoch 55, Average Loss: 0.3259\n",
      "Epoch 56, Average Loss: 0.3174\n",
      "Epoch 57, Average Loss: 0.3226\n",
      "Epoch 58, Average Loss: 0.3185\n",
      "Epoch 59, Average Loss: 0.3188\n",
      "Epoch 60, Average Loss: 0.3226\n",
      "Epoch 61, Average Loss: 0.3215\n",
      "Epoch 62, Average Loss: 0.3212\n",
      "Epoch 63, Average Loss: 0.3186\n",
      "Epoch 64, Average Loss: 0.3256\n",
      "Epoch 65, Average Loss: 0.3134\n",
      "Epoch 66, Average Loss: 0.3066\n",
      "Epoch 67, Average Loss: 0.3147\n",
      "Epoch 68, Average Loss: 0.3191\n",
      "Epoch 69, Average Loss: 0.3143\n",
      "Epoch 70, Average Loss: 0.3099\n",
      "Epoch 71, Average Loss: 0.3223\n",
      "Epoch 72, Average Loss: 0.3031\n",
      "Epoch 73, Average Loss: 0.3054\n",
      "Epoch 74, Average Loss: 0.2951\n",
      "Epoch 75, Average Loss: 0.3066\n",
      "Epoch 76, Average Loss: 0.2972\n",
      "Epoch 77, Average Loss: 0.2927\n",
      "Epoch 78, Average Loss: 0.3079\n",
      "Epoch 79, Average Loss: 0.3051\n",
      "Epoch 80, Average Loss: 0.2952\n",
      "Epoch 81, Average Loss: 0.2998\n",
      "Epoch 82, Average Loss: 0.3062\n",
      "Epoch 83, Average Loss: 0.3058\n",
      "Epoch 84, Average Loss: 0.2923\n",
      "Epoch 85, Average Loss: 0.2963\n",
      "Epoch 86, Average Loss: 0.2931\n",
      "Epoch 87, Average Loss: 0.2968\n",
      "Epoch 88, Average Loss: 0.3079\n",
      "Epoch 89, Average Loss: 0.2939\n",
      "Epoch 90, Average Loss: 0.2991\n",
      "Epoch 91, Average Loss: 0.2961\n",
      "Epoch 92, Average Loss: 0.2901\n",
      "Epoch 93, Average Loss: 0.2821\n",
      "Epoch 94, Average Loss: 0.2966\n",
      "Epoch 95, Average Loss: 0.2877\n",
      "Epoch 96, Average Loss: 0.2920\n",
      "Epoch 97, Average Loss: 0.2842\n",
      "Epoch 98, Average Loss: 0.2848\n",
      "Epoch 99, Average Loss: 0.2825\n",
      "Epoch 100, Average Loss: 0.2926\n",
      "Epoch 101, Average Loss: 0.2860\n",
      "Epoch 102, Average Loss: 0.2857\n",
      "Epoch 103, Average Loss: 0.2915\n",
      "Early stopping at epoch 103\n",
      "Fold 3 Metrics: Accuracy: 0.8628, Precision: 0.8678, Recall: 0.8628, F1 Score: 0.8637\n",
      "\n",
      " Fold 4\n",
      "Epoch 1, Average Loss: 0.6810\n",
      "Epoch 2, Average Loss: 0.4676\n",
      "Epoch 3, Average Loss: 0.4590\n",
      "Epoch 4, Average Loss: 0.4381\n",
      "Epoch 5, Average Loss: 0.4363\n",
      "Epoch 6, Average Loss: 0.4235\n",
      "Epoch 7, Average Loss: 0.4254\n",
      "Epoch 8, Average Loss: 0.4104\n",
      "Epoch 9, Average Loss: 0.4234\n",
      "Epoch 10, Average Loss: 0.3943\n",
      "Epoch 11, Average Loss: 0.4035\n",
      "Epoch 12, Average Loss: 0.3995\n",
      "Epoch 13, Average Loss: 0.3963\n",
      "Epoch 14, Average Loss: 0.3925\n",
      "Epoch 15, Average Loss: 0.3882\n",
      "Epoch 16, Average Loss: 0.3875\n",
      "Epoch 17, Average Loss: 0.3876\n",
      "Epoch 18, Average Loss: 0.3831\n",
      "Epoch 19, Average Loss: 0.3763\n",
      "Epoch 20, Average Loss: 0.3842\n",
      "Epoch 21, Average Loss: 0.3810\n",
      "Epoch 22, Average Loss: 0.3705\n",
      "Epoch 23, Average Loss: 0.3643\n",
      "Epoch 24, Average Loss: 0.3634\n",
      "Epoch 25, Average Loss: 0.3597\n",
      "Epoch 26, Average Loss: 0.3598\n",
      "Epoch 27, Average Loss: 0.3576\n",
      "Epoch 28, Average Loss: 0.3616\n",
      "Epoch 29, Average Loss: 0.3528\n",
      "Epoch 30, Average Loss: 0.3487\n",
      "Epoch 31, Average Loss: 0.3507\n",
      "Epoch 32, Average Loss: 0.3599\n",
      "Epoch 33, Average Loss: 0.3473\n",
      "Epoch 34, Average Loss: 0.3522\n",
      "Epoch 35, Average Loss: 0.3461\n",
      "Epoch 36, Average Loss: 0.3425\n",
      "Epoch 37, Average Loss: 0.3400\n",
      "Epoch 38, Average Loss: 0.3480\n",
      "Epoch 39, Average Loss: 0.3450\n",
      "Epoch 40, Average Loss: 0.3475\n",
      "Epoch 41, Average Loss: 0.3377\n",
      "Epoch 42, Average Loss: 0.3424\n",
      "Epoch 43, Average Loss: 0.3386\n",
      "Epoch 44, Average Loss: 0.3419\n",
      "Epoch 45, Average Loss: 0.3275\n",
      "Epoch 46, Average Loss: 0.3286\n",
      "Epoch 47, Average Loss: 0.3302\n",
      "Epoch 48, Average Loss: 0.3331\n",
      "Epoch 49, Average Loss: 0.3329\n",
      "Epoch 50, Average Loss: 0.3165\n",
      "Epoch 51, Average Loss: 0.3427\n",
      "Epoch 52, Average Loss: 0.3257\n",
      "Epoch 53, Average Loss: 0.3292\n",
      "Epoch 54, Average Loss: 0.3319\n",
      "Epoch 55, Average Loss: 0.3222\n",
      "Epoch 56, Average Loss: 0.3159\n",
      "Epoch 57, Average Loss: 0.3211\n",
      "Epoch 58, Average Loss: 0.3196\n",
      "Epoch 59, Average Loss: 0.3136\n",
      "Epoch 60, Average Loss: 0.3086\n",
      "Epoch 61, Average Loss: 0.3143\n",
      "Epoch 62, Average Loss: 0.3148\n",
      "Epoch 63, Average Loss: 0.3131\n",
      "Epoch 64, Average Loss: 0.3117\n",
      "Epoch 65, Average Loss: 0.3075\n",
      "Epoch 66, Average Loss: 0.3041\n",
      "Epoch 67, Average Loss: 0.3103\n",
      "Epoch 68, Average Loss: 0.3049\n",
      "Epoch 69, Average Loss: 0.3018\n",
      "Epoch 70, Average Loss: 0.3084\n",
      "Epoch 71, Average Loss: 0.3039\n",
      "Epoch 72, Average Loss: 0.3045\n",
      "Epoch 73, Average Loss: 0.3015\n",
      "Epoch 74, Average Loss: 0.2956\n",
      "Epoch 75, Average Loss: 0.3000\n",
      "Epoch 76, Average Loss: 0.3109\n",
      "Epoch 77, Average Loss: 0.2960\n",
      "Epoch 78, Average Loss: 0.2974\n",
      "Epoch 79, Average Loss: 0.2985\n",
      "Epoch 80, Average Loss: 0.2920\n",
      "Epoch 81, Average Loss: 0.2984\n",
      "Epoch 82, Average Loss: 0.3047\n",
      "Epoch 83, Average Loss: 0.2980\n",
      "Epoch 84, Average Loss: 0.2879\n",
      "Epoch 85, Average Loss: 0.2954\n",
      "Epoch 86, Average Loss: 0.2975\n",
      "Epoch 87, Average Loss: 0.2834\n",
      "Epoch 88, Average Loss: 0.2952\n",
      "Epoch 89, Average Loss: 0.2978\n",
      "Epoch 90, Average Loss: 0.2892\n",
      "Epoch 91, Average Loss: 0.2890\n",
      "Epoch 92, Average Loss: 0.2839\n",
      "Epoch 93, Average Loss: 0.2771\n",
      "Epoch 94, Average Loss: 0.2847\n",
      "Epoch 95, Average Loss: 0.2871\n",
      "Epoch 96, Average Loss: 0.2859\n",
      "Epoch 97, Average Loss: 0.2867\n",
      "Epoch 98, Average Loss: 0.2817\n",
      "Epoch 99, Average Loss: 0.2839\n",
      "Epoch 100, Average Loss: 0.2823\n",
      "Epoch 101, Average Loss: 0.2932\n",
      "Epoch 102, Average Loss: 0.2796\n",
      "Epoch 103, Average Loss: 0.2892\n",
      "Early stopping at epoch 103\n",
      "Fold 4 Metrics: Accuracy: 0.8549, Precision: 0.8675, Recall: 0.8549, F1 Score: 0.8579\n",
      "\n",
      " Fold 5\n",
      "Epoch 1, Average Loss: 0.7027\n",
      "Epoch 2, Average Loss: 0.4843\n",
      "Epoch 3, Average Loss: 0.4562\n",
      "Epoch 4, Average Loss: 0.4468\n",
      "Epoch 5, Average Loss: 0.4541\n",
      "Epoch 6, Average Loss: 0.4326\n",
      "Epoch 7, Average Loss: 0.4184\n",
      "Epoch 8, Average Loss: 0.4156\n",
      "Epoch 9, Average Loss: 0.4098\n",
      "Epoch 10, Average Loss: 0.4126\n",
      "Epoch 11, Average Loss: 0.4068\n",
      "Epoch 12, Average Loss: 0.4088\n",
      "Epoch 13, Average Loss: 0.4083\n",
      "Epoch 14, Average Loss: 0.4005\n",
      "Epoch 15, Average Loss: 0.3978\n",
      "Epoch 16, Average Loss: 0.3940\n",
      "Epoch 17, Average Loss: 0.3914\n",
      "Epoch 18, Average Loss: 0.3883\n",
      "Epoch 19, Average Loss: 0.3915\n",
      "Epoch 20, Average Loss: 0.3860\n",
      "Epoch 21, Average Loss: 0.3784\n",
      "Epoch 22, Average Loss: 0.3855\n",
      "Epoch 23, Average Loss: 0.3763\n",
      "Epoch 24, Average Loss: 0.3722\n",
      "Epoch 25, Average Loss: 0.3714\n",
      "Epoch 26, Average Loss: 0.3716\n",
      "Epoch 27, Average Loss: 0.3644\n",
      "Epoch 28, Average Loss: 0.3657\n",
      "Epoch 29, Average Loss: 0.3635\n",
      "Epoch 30, Average Loss: 0.3624\n",
      "Epoch 31, Average Loss: 0.3534\n",
      "Epoch 32, Average Loss: 0.3624\n",
      "Epoch 33, Average Loss: 0.3538\n",
      "Epoch 34, Average Loss: 0.3607\n",
      "Epoch 35, Average Loss: 0.3522\n",
      "Epoch 36, Average Loss: 0.3553\n",
      "Epoch 37, Average Loss: 0.3485\n",
      "Epoch 38, Average Loss: 0.3475\n",
      "Epoch 39, Average Loss: 0.3450\n",
      "Epoch 40, Average Loss: 0.3400\n",
      "Epoch 41, Average Loss: 0.3361\n",
      "Epoch 42, Average Loss: 0.3508\n",
      "Epoch 43, Average Loss: 0.3359\n",
      "Epoch 44, Average Loss: 0.3370\n",
      "Epoch 45, Average Loss: 0.3321\n",
      "Epoch 46, Average Loss: 0.3351\n",
      "Epoch 47, Average Loss: 0.3292\n",
      "Epoch 48, Average Loss: 0.3298\n",
      "Epoch 49, Average Loss: 0.3325\n",
      "Epoch 50, Average Loss: 0.3418\n",
      "Epoch 51, Average Loss: 0.3297\n",
      "Epoch 52, Average Loss: 0.3281\n",
      "Epoch 53, Average Loss: 0.3405\n",
      "Epoch 54, Average Loss: 0.3280\n",
      "Epoch 55, Average Loss: 0.3308\n",
      "Epoch 56, Average Loss: 0.3125\n",
      "Epoch 57, Average Loss: 0.3243\n",
      "Epoch 58, Average Loss: 0.3255\n",
      "Epoch 59, Average Loss: 0.3169\n",
      "Epoch 60, Average Loss: 0.3170\n",
      "Epoch 61, Average Loss: 0.3219\n",
      "Epoch 62, Average Loss: 0.3240\n",
      "Epoch 63, Average Loss: 0.3171\n",
      "Epoch 64, Average Loss: 0.3144\n",
      "Epoch 65, Average Loss: 0.3223\n",
      "Epoch 66, Average Loss: 0.3132\n",
      "Early stopping at epoch 66\n",
      "Fold 5 Metrics: Accuracy: 0.8691, Precision: 0.8767, Recall: 0.8691, F1 Score: 0.8705\n",
      "Best model saved\n"
     ]
    }
   ],
   "source": [
    "from sklearn.model_selection import StratifiedKFold\n",
    "from torch.utils.data import DataLoader\n",
    "import torch.optim as optim\n",
    "import torch.nn as nn\n",
    "from sklearn.metrics import accuracy_score, precision_score, recall_score, f1_score\n",
    "\n",
    "input_dim = X_meta.shape[1]  # 2 * num_classes\n",
    "hidden_dim = 128\n",
    "output_dim = len(set(y_meta))  # number of emotion classes\n",
    "\n",
    "class_weights_path = '../../data/class_weights.pt'\n",
    "class_weights = torch.load(class_weights_path, weights_only=True).to(device)\n",
    "\n",
    "dataset = MetaDataset(X_meta, y_meta)\n",
    "kf = StratifiedKFold(n_splits=5, shuffle=True, random_state=42)\n",
    "\n",
    "device = torch.device(\"cuda\" if torch.cuda.is_available() else \"cpu\")\n",
    "\n",
    "# Initialize the best F1 score tracker\n",
    "best_f1 = 0.0\n",
    "best_model = None\n",
    "\n",
    "# Early stopping counters\n",
    "patience = 10\n",
    "patience_counter = 0\n",
    "\n",
    "for fold, (train_idx, val_idx) in enumerate(kf.split(dataset.X, dataset.y)):\n",
    "    print(f\"\\n Fold {fold + 1}\")\n",
    "    \n",
    "    train_subset = torch.utils.data.Subset(dataset, train_idx)\n",
    "    val_subset = torch.utils.data.Subset(dataset, val_idx)\n",
    "    \n",
    "    train_loader = DataLoader(train_subset, batch_size=32, shuffle=True)\n",
    "    val_loader = DataLoader(val_subset, batch_size=32)\n",
    "    \n",
    "    model = MetaFFNN(input_dim, hidden_dim, output_dim).to(device)\n",
    "    criterion = nn.CrossEntropyLoss(weight=class_weights) # Use weighted cross-entropy loss\n",
    "    optimizer = optim.Adam(model.parameters(), lr=1e-3)\n",
    "\n",
    "    best_loss = float('inf')  # Initialize best loss to a very high value\n",
    "\n",
    "    for epoch in range(1000):\n",
    "        model.train()\n",
    "        total_loss = 0\n",
    "        num_batches = len(train_loader)\n",
    "\n",
    "        for xb, yb in train_loader:\n",
    "            xb, yb = xb.to(device), yb.to(device)\n",
    "            optimizer.zero_grad()\n",
    "            out = model(xb)\n",
    "            loss = criterion(out, yb)\n",
    "            loss.backward()\n",
    "            optimizer.step()\n",
    "            total_loss += loss.item()\n",
    "\n",
    "        average_loss = total_loss / num_batches  # Calculate average loss\n",
    "        print(f\"Epoch {epoch+1}, Average Loss: {average_loss:.4f}\")\n",
    "\n",
    "        # Check if the loss has improved\n",
    "        if average_loss < best_loss:\n",
    "            best_loss = average_loss\n",
    "            patience_counter = 0  # Reset the counter since loss improved\n",
    "        else:\n",
    "            patience_counter += 1\n",
    "        \n",
    "        # If patience is reached, stop training early\n",
    "        if patience_counter >= patience:\n",
    "            print(f\"Early stopping at epoch {epoch + 1}\")\n",
    "            break\n",
    "\n",
    "    # Evaluate\n",
    "    model.eval()\n",
    "    all_preds = []\n",
    "    all_labels = []\n",
    "\n",
    "    with torch.no_grad():\n",
    "        for xb, yb in val_loader:\n",
    "            xb, yb = xb.to(device), yb.to(device)\n",
    "            out = model(xb)\n",
    "            preds = torch.argmax(out, dim=1)\n",
    "            all_preds.extend(preds.cpu().numpy())\n",
    "            all_labels.extend(yb.cpu().numpy())\n",
    "\n",
    "    # Calculate metrics\n",
    "    accuracy = accuracy_score(all_labels, all_preds)\n",
    "    precision = precision_score(all_labels, all_preds, average='weighted')\n",
    "    recall = recall_score(all_labels, all_preds, average='weighted')\n",
    "    f1 = f1_score(all_labels, all_preds, average='weighted')\n",
    "\n",
    "    # Print out the metrics for the current fold\n",
    "    print(f\"Fold {fold + 1} Metrics: Accuracy: {accuracy:.4f}, Precision: {precision:.4f}, Recall: {recall:.4f}, F1 Score: {f1:.4f}\")\n",
    "    \n",
    "    # Save the model if it has the best F1 score\n",
    "    if f1 > best_f1:\n",
    "        best_f1 = f1\n",
    "        best_model = model.state_dict()  # Save the state dict of the model\n",
    "\n",
    "# After all folds are done, save the best model\n",
    "torch.save(best_model, '../models/best_meta_ffnn_model.pt')\n",
    "print(\"Best model saved\")\n"
   ]
  },
  {
   "cell_type": "code",
   "execution_count": null,
   "metadata": {},
   "outputs": [],
   "source": []
  }
 ],
 "metadata": {
  "kernelspec": {
   "display_name": "myenv",
   "language": "python",
   "name": "python3"
  },
  "language_info": {
   "codemirror_mode": {
    "name": "ipython",
    "version": 3
   },
   "file_extension": ".py",
   "mimetype": "text/x-python",
   "name": "python",
   "nbconvert_exporter": "python",
   "pygments_lexer": "ipython3",
   "version": "3.10.11"
  }
 },
 "nbformat": 4,
 "nbformat_minor": 2
}
