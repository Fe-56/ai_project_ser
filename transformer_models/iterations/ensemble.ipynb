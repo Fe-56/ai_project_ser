{
 "cells": [
  {
   "cell_type": "markdown",
   "metadata": {},
   "source": [
    "# Ensemble model"
   ]
  },
  {
   "cell_type": "code",
   "execution_count": 1,
   "metadata": {},
   "outputs": [
    {
     "name": "stderr",
     "output_type": "stream",
     "text": [
      "c:\\Users\\profi\\OneDrive\\Desktop\\AI-Project--Speech-Emotion-Recognition\\myenv\\lib\\site-packages\\tqdm\\auto.py:21: TqdmWarning: IProgress not found. Please update jupyter and ipywidgets. See https://ipywidgets.readthedocs.io/en/stable/user_install.html\n",
      "  from .autonotebook import tqdm as notebook_tqdm\n"
     ]
    }
   ],
   "source": [
    "import os\n",
    "import sys\n",
    "import pandas as pd\n",
    "import numpy as np\n",
    "import random\n",
    "import torch\n",
    "from torch.nn.functional import softmax\n",
    "from torch.utils.data import DataLoader\n",
    "from transformers import set_seed, Wav2Vec2Processor, Wav2Vec2ForSequenceClassification, Wav2Vec2FeatureExtractor, WavLMForSequenceClassification"
   ]
  },
  {
   "cell_type": "code",
   "execution_count": 2,
   "metadata": {},
   "outputs": [],
   "source": [
    "notebook_path = os.getcwd()\n",
    "project_root = os.path.abspath(os.path.join(notebook_path, '../..'))\n",
    "sys.path.insert(0, project_root)"
   ]
  },
  {
   "cell_type": "code",
   "execution_count": 3,
   "metadata": {},
   "outputs": [
    {
     "name": "stdout",
     "output_type": "stream",
     "text": [
      "2.5.1+cu121\n",
      "True\n"
     ]
    }
   ],
   "source": [
    "print(torch.__version__)\n",
    "print(torch.cuda.is_available())"
   ]
  },
  {
   "cell_type": "code",
   "execution_count": 4,
   "metadata": {},
   "outputs": [],
   "source": [
    "# Set seed for reproducibility\n",
    "seed = 42\n",
    "set_seed(seed)\n",
    "random.seed(seed)\n",
    "np.random.seed(seed)\n",
    "torch.manual_seed(seed)\n",
    "if torch.cuda.is_available():\n",
    "    torch.cuda.manual_seed_all(seed)"
   ]
  },
  {
   "cell_type": "markdown",
   "metadata": {},
   "source": [
    "Load Dataset"
   ]
  },
  {
   "cell_type": "code",
   "execution_count": 5,
   "metadata": {},
   "outputs": [],
   "source": [
    "df_val = pd.read_csv('../../data/val_dataset.csv')\n",
    "df_val = df_val[['Filepath', 'Emotion']]"
   ]
  },
  {
   "cell_type": "code",
   "execution_count": 6,
   "metadata": {},
   "outputs": [
    {
     "data": {
      "application/vnd.microsoft.datawrangler.viewer.v0+json": {
       "columns": [
        {
         "name": "index",
         "rawType": "int64",
         "type": "integer"
        },
        {
         "name": "Filepath",
         "rawType": "object",
         "type": "string"
        },
        {
         "name": "Emotion",
         "rawType": "object",
         "type": "string"
        }
       ],
       "conversionMethod": "pd.DataFrame",
       "ref": "10c08b9b-f59a-4c71-b4ee-6e6daad378bc",
       "rows": [
        [
         "0",
         "./dataset/esd\\0020\\Sad\\0020_001395.wav",
         "Sad"
        ],
        [
         "1",
         "./dataset/meld\\train\\dia930_utt5.mp4",
         "Neutral"
        ],
        [
         "2",
         "./dataset/mlend\\MLEndSND_Public\\24481.wav",
         "Bored"
        ],
        [
         "3",
         "./dataset/crema-d\\AudioWAV\\1002_IEO_SAD_HI.wav",
         "Sad"
        ],
        [
         "4",
         "./dataset/esd\\0011\\Angry\\0011_000373.wav",
         "Anger"
        ],
        [
         "5",
         "./dataset/crema-d\\AudioWAV\\1050_IWL_SAD_XX.wav",
         "Sad"
        ],
        [
         "6",
         "./dataset/tess\\OAF_neutral\\OAF_lease_neutral.wav",
         "Neutral"
        ],
        [
         "7",
         "./dataset/crema-d\\AudioWAV\\1033_DFA_SAD_XX.wav",
         "Sad"
        ],
        [
         "8",
         "./dataset/crema-d\\AudioWAV\\1059_IEO_NEU_XX.wav",
         "Neutral"
        ],
        [
         "9",
         "./dataset/esd\\0014\\Angry\\0014_000503.wav",
         "Anger"
        ],
        [
         "10",
         "./dataset/ravdess\\Actor_20\\03-01-04-01-02-02-20.wav",
         "Sad"
        ],
        [
         "11",
         "./dataset/mlend\\MLEndSND_Public\\41268.wav",
         "Happy"
        ],
        [
         "12",
         "./dataset/esd\\0016\\Surprise\\0016_001715.wav",
         "Surprise"
        ],
        [
         "13",
         "./dataset/esd\\0011\\Happy\\0011_000935.wav",
         "Happy"
        ],
        [
         "14",
         "./dataset/esd\\0018\\Sad\\0018_001210.wav",
         "Sad"
        ],
        [
         "15",
         "./dataset/crema-d\\AudioWAV\\1079_IWL_SAD_XX.wav",
         "Sad"
        ],
        [
         "16",
         "./dataset/esd\\0019\\Angry\\0019_000646.wav",
         "Anger"
        ],
        [
         "17",
         "./dataset/mlend\\MLEndSND_Public\\31175.wav",
         "Bored"
        ],
        [
         "18",
         "./dataset/mlend\\MLEndSND_Public\\37494.wav",
         "Question"
        ],
        [
         "19",
         "./dataset/esd\\0017\\Sad\\0017_001154.wav",
         "Sad"
        ],
        [
         "20",
         "./dataset/mlend\\MLEndSND_Public\\12125.wav",
         "Happy"
        ],
        [
         "21",
         "./dataset/meld\\train\\dia1036_utt12.mp4",
         "Neutral"
        ],
        [
         "22",
         "./dataset/esd\\0012\\Sad\\0012_001194.wav",
         "Sad"
        ],
        [
         "23",
         "./dataset/esd\\0015\\Neutral\\0015_000079.wav",
         "Neutral"
        ],
        [
         "24",
         "./dataset/mlend\\MLEndSND_Public\\07613.wav",
         "Happy"
        ],
        [
         "25",
         "./dataset/mlend\\MLEndSND_Public\\10182.wav",
         "Happy"
        ],
        [
         "26",
         "./dataset/mlend\\MLEndSND_Public\\30464.wav",
         "Neutral"
        ],
        [
         "27",
         "./dataset/tess\\YAF_pleasant_surprised\\YAF_keen_ps.wav",
         "Surprise"
        ],
        [
         "28",
         "./dataset/meld\\train\\dia806_utt0.mp4",
         "Surprise"
        ],
        [
         "29",
         "./dataset/ravdess\\Actor_09\\03-01-01-01-02-01-09.wav",
         "Neutral"
        ],
        [
         "30",
         "./dataset/mlend\\MLEndSND_Public\\32504.wav",
         "Neutral"
        ],
        [
         "31",
         "./dataset/mlend\\MLEndSND_Public\\08221.wav",
         "Bored"
        ],
        [
         "32",
         "./dataset/mlend\\MLEndSND_Public\\11843.wav",
         "Question"
        ],
        [
         "33",
         "./dataset/mlend\\MLEndSND_Public\\26478.wav",
         "Question"
        ],
        [
         "34",
         "./dataset/esd\\0020\\Angry\\0020_000520.wav",
         "Anger"
        ],
        [
         "35",
         "./dataset/mlend\\MLEndSND_Public\\03991.wav",
         "Question"
        ],
        [
         "36",
         "./dataset/crema-d\\AudioWAV\\1062_IOM_SAD_XX.wav",
         "Sad"
        ],
        [
         "37",
         "./dataset/mlend\\MLEndSND_Public\\42670.wav",
         "Question"
        ],
        [
         "38",
         "./dataset/crema-d\\AudioWAV\\1078_IEO_ANG_MD.wav",
         "Anger"
        ],
        [
         "39",
         "./dataset/esd\\0020\\Angry\\0020_000575.wav",
         "Anger"
        ],
        [
         "40",
         "./dataset/esd\\0013\\Neutral\\0013_000174.wav",
         "Neutral"
        ],
        [
         "41",
         "./dataset/esd\\0018\\Surprise\\0018_001519.wav",
         "Surprise"
        ],
        [
         "42",
         "./dataset/mlend\\MLEndSND_Public\\03212.wav",
         "Neutral"
        ],
        [
         "43",
         "./dataset/tess\\OAF_disgust\\OAF_room_disgust.wav",
         "Disgust"
        ],
        [
         "44",
         "./dataset/mlend\\MLEndSND_Public\\19669.wav",
         "Bored"
        ],
        [
         "45",
         "./dataset/esd\\0014\\Happy\\0014_000858.wav",
         "Happy"
        ],
        [
         "46",
         "./dataset/meld\\train\\dia47_utt12.mp4",
         "Neutral"
        ],
        [
         "47",
         "./dataset/crema-d\\AudioWAV\\1001_IEO_ANG_MD.wav",
         "Anger"
        ],
        [
         "48",
         "./dataset/crema-d\\AudioWAV\\1006_IWW_ANG_XX.wav",
         "Anger"
        ],
        [
         "49",
         "./dataset/esd\\0013\\Angry\\0013_000468.wav",
         "Anger"
        ]
       ],
       "shape": {
        "columns": 2,
        "rows": 9476
       }
      },
      "text/html": [
       "<div>\n",
       "<style scoped>\n",
       "    .dataframe tbody tr th:only-of-type {\n",
       "        vertical-align: middle;\n",
       "    }\n",
       "\n",
       "    .dataframe tbody tr th {\n",
       "        vertical-align: top;\n",
       "    }\n",
       "\n",
       "    .dataframe thead th {\n",
       "        text-align: right;\n",
       "    }\n",
       "</style>\n",
       "<table border=\"1\" class=\"dataframe\">\n",
       "  <thead>\n",
       "    <tr style=\"text-align: right;\">\n",
       "      <th></th>\n",
       "      <th>Filepath</th>\n",
       "      <th>Emotion</th>\n",
       "    </tr>\n",
       "  </thead>\n",
       "  <tbody>\n",
       "    <tr>\n",
       "      <th>0</th>\n",
       "      <td>./dataset/esd\\0020\\Sad\\0020_001395.wav</td>\n",
       "      <td>Sad</td>\n",
       "    </tr>\n",
       "    <tr>\n",
       "      <th>1</th>\n",
       "      <td>./dataset/meld\\train\\dia930_utt5.mp4</td>\n",
       "      <td>Neutral</td>\n",
       "    </tr>\n",
       "    <tr>\n",
       "      <th>2</th>\n",
       "      <td>./dataset/mlend\\MLEndSND_Public\\24481.wav</td>\n",
       "      <td>Bored</td>\n",
       "    </tr>\n",
       "    <tr>\n",
       "      <th>3</th>\n",
       "      <td>./dataset/crema-d\\AudioWAV\\1002_IEO_SAD_HI.wav</td>\n",
       "      <td>Sad</td>\n",
       "    </tr>\n",
       "    <tr>\n",
       "      <th>4</th>\n",
       "      <td>./dataset/esd\\0011\\Angry\\0011_000373.wav</td>\n",
       "      <td>Anger</td>\n",
       "    </tr>\n",
       "    <tr>\n",
       "      <th>...</th>\n",
       "      <td>...</td>\n",
       "      <td>...</td>\n",
       "    </tr>\n",
       "    <tr>\n",
       "      <th>9471</th>\n",
       "      <td>./dataset/tess\\YAF_disgust\\YAF_take_disgust.wav</td>\n",
       "      <td>Disgust</td>\n",
       "    </tr>\n",
       "    <tr>\n",
       "      <th>9472</th>\n",
       "      <td>./dataset/mlend\\MLEndSND_Public\\43418.wav</td>\n",
       "      <td>Bored</td>\n",
       "    </tr>\n",
       "    <tr>\n",
       "      <th>9473</th>\n",
       "      <td>./dataset/mlend\\MLEndSND_Public\\02459.wav</td>\n",
       "      <td>Bored</td>\n",
       "    </tr>\n",
       "    <tr>\n",
       "      <th>9474</th>\n",
       "      <td>./dataset/mlend\\MLEndSND_Public\\10609.wav</td>\n",
       "      <td>Question</td>\n",
       "    </tr>\n",
       "    <tr>\n",
       "      <th>9475</th>\n",
       "      <td>./dataset/mlend\\MLEndSND_Public\\23072.wav</td>\n",
       "      <td>Question</td>\n",
       "    </tr>\n",
       "  </tbody>\n",
       "</table>\n",
       "<p>9476 rows × 2 columns</p>\n",
       "</div>"
      ],
      "text/plain": [
       "                                             Filepath   Emotion\n",
       "0              ./dataset/esd\\0020\\Sad\\0020_001395.wav       Sad\n",
       "1                ./dataset/meld\\train\\dia930_utt5.mp4   Neutral\n",
       "2           ./dataset/mlend\\MLEndSND_Public\\24481.wav     Bored\n",
       "3      ./dataset/crema-d\\AudioWAV\\1002_IEO_SAD_HI.wav       Sad\n",
       "4            ./dataset/esd\\0011\\Angry\\0011_000373.wav     Anger\n",
       "...                                               ...       ...\n",
       "9471  ./dataset/tess\\YAF_disgust\\YAF_take_disgust.wav   Disgust\n",
       "9472        ./dataset/mlend\\MLEndSND_Public\\43418.wav     Bored\n",
       "9473        ./dataset/mlend\\MLEndSND_Public\\02459.wav     Bored\n",
       "9474        ./dataset/mlend\\MLEndSND_Public\\10609.wav  Question\n",
       "9475        ./dataset/mlend\\MLEndSND_Public\\23072.wav  Question\n",
       "\n",
       "[9476 rows x 2 columns]"
      ]
     },
     "execution_count": 6,
     "metadata": {},
     "output_type": "execute_result"
    }
   ],
   "source": [
    "df_val"
   ]
  },
  {
   "cell_type": "code",
   "execution_count": 7,
   "metadata": {},
   "outputs": [
    {
     "name": "stdout",
     "output_type": "stream",
     "text": [
      "{'Anger': 0, 'Bored': 1, 'Disgust': 2, 'Fear': 3, 'Happy': 4, 'Neutral': 5, 'Question': 6, 'Sad': 7, 'Surprise': 8}\n"
     ]
    }
   ],
   "source": [
    "# Convert labels to integers\n",
    "unique_labels = sorted(df_val['Emotion'].unique())\n",
    "label_map = {label: idx for idx, label in enumerate(unique_labels)}\n",
    "print(label_map)\n",
    "\n",
    "df_val['Emotion'] = df_val['Emotion'].map(label_map)"
   ]
  },
  {
   "cell_type": "code",
   "execution_count": 8,
   "metadata": {},
   "outputs": [
    {
     "data": {
      "application/vnd.microsoft.datawrangler.viewer.v0+json": {
       "columns": [
        {
         "name": "index",
         "rawType": "int64",
         "type": "integer"
        },
        {
         "name": "Filepath",
         "rawType": "object",
         "type": "string"
        },
        {
         "name": "Emotion",
         "rawType": "int64",
         "type": "integer"
        }
       ],
       "conversionMethod": "pd.DataFrame",
       "ref": "c7153a1c-5892-4437-9d88-ee39e92b8e6c",
       "rows": [
        [
         "0",
         "./dataset/esd\\0020\\Sad\\0020_001395.wav",
         "7"
        ],
        [
         "1",
         "./dataset/meld\\train\\dia930_utt5.mp4",
         "5"
        ],
        [
         "2",
         "./dataset/mlend\\MLEndSND_Public\\24481.wav",
         "1"
        ],
        [
         "3",
         "./dataset/crema-d\\AudioWAV\\1002_IEO_SAD_HI.wav",
         "7"
        ],
        [
         "4",
         "./dataset/esd\\0011\\Angry\\0011_000373.wav",
         "0"
        ],
        [
         "5",
         "./dataset/crema-d\\AudioWAV\\1050_IWL_SAD_XX.wav",
         "7"
        ],
        [
         "6",
         "./dataset/tess\\OAF_neutral\\OAF_lease_neutral.wav",
         "5"
        ],
        [
         "7",
         "./dataset/crema-d\\AudioWAV\\1033_DFA_SAD_XX.wav",
         "7"
        ],
        [
         "8",
         "./dataset/crema-d\\AudioWAV\\1059_IEO_NEU_XX.wav",
         "5"
        ],
        [
         "9",
         "./dataset/esd\\0014\\Angry\\0014_000503.wav",
         "0"
        ],
        [
         "10",
         "./dataset/ravdess\\Actor_20\\03-01-04-01-02-02-20.wav",
         "7"
        ],
        [
         "11",
         "./dataset/mlend\\MLEndSND_Public\\41268.wav",
         "4"
        ],
        [
         "12",
         "./dataset/esd\\0016\\Surprise\\0016_001715.wav",
         "8"
        ],
        [
         "13",
         "./dataset/esd\\0011\\Happy\\0011_000935.wav",
         "4"
        ],
        [
         "14",
         "./dataset/esd\\0018\\Sad\\0018_001210.wav",
         "7"
        ],
        [
         "15",
         "./dataset/crema-d\\AudioWAV\\1079_IWL_SAD_XX.wav",
         "7"
        ],
        [
         "16",
         "./dataset/esd\\0019\\Angry\\0019_000646.wav",
         "0"
        ],
        [
         "17",
         "./dataset/mlend\\MLEndSND_Public\\31175.wav",
         "1"
        ],
        [
         "18",
         "./dataset/mlend\\MLEndSND_Public\\37494.wav",
         "6"
        ],
        [
         "19",
         "./dataset/esd\\0017\\Sad\\0017_001154.wav",
         "7"
        ],
        [
         "20",
         "./dataset/mlend\\MLEndSND_Public\\12125.wav",
         "4"
        ],
        [
         "21",
         "./dataset/meld\\train\\dia1036_utt12.mp4",
         "5"
        ],
        [
         "22",
         "./dataset/esd\\0012\\Sad\\0012_001194.wav",
         "7"
        ],
        [
         "23",
         "./dataset/esd\\0015\\Neutral\\0015_000079.wav",
         "5"
        ],
        [
         "24",
         "./dataset/mlend\\MLEndSND_Public\\07613.wav",
         "4"
        ],
        [
         "25",
         "./dataset/mlend\\MLEndSND_Public\\10182.wav",
         "4"
        ],
        [
         "26",
         "./dataset/mlend\\MLEndSND_Public\\30464.wav",
         "5"
        ],
        [
         "27",
         "./dataset/tess\\YAF_pleasant_surprised\\YAF_keen_ps.wav",
         "8"
        ],
        [
         "28",
         "./dataset/meld\\train\\dia806_utt0.mp4",
         "8"
        ],
        [
         "29",
         "./dataset/ravdess\\Actor_09\\03-01-01-01-02-01-09.wav",
         "5"
        ],
        [
         "30",
         "./dataset/mlend\\MLEndSND_Public\\32504.wav",
         "5"
        ],
        [
         "31",
         "./dataset/mlend\\MLEndSND_Public\\08221.wav",
         "1"
        ],
        [
         "32",
         "./dataset/mlend\\MLEndSND_Public\\11843.wav",
         "6"
        ],
        [
         "33",
         "./dataset/mlend\\MLEndSND_Public\\26478.wav",
         "6"
        ],
        [
         "34",
         "./dataset/esd\\0020\\Angry\\0020_000520.wav",
         "0"
        ],
        [
         "35",
         "./dataset/mlend\\MLEndSND_Public\\03991.wav",
         "6"
        ],
        [
         "36",
         "./dataset/crema-d\\AudioWAV\\1062_IOM_SAD_XX.wav",
         "7"
        ],
        [
         "37",
         "./dataset/mlend\\MLEndSND_Public\\42670.wav",
         "6"
        ],
        [
         "38",
         "./dataset/crema-d\\AudioWAV\\1078_IEO_ANG_MD.wav",
         "0"
        ],
        [
         "39",
         "./dataset/esd\\0020\\Angry\\0020_000575.wav",
         "0"
        ],
        [
         "40",
         "./dataset/esd\\0013\\Neutral\\0013_000174.wav",
         "5"
        ],
        [
         "41",
         "./dataset/esd\\0018\\Surprise\\0018_001519.wav",
         "8"
        ],
        [
         "42",
         "./dataset/mlend\\MLEndSND_Public\\03212.wav",
         "5"
        ],
        [
         "43",
         "./dataset/tess\\OAF_disgust\\OAF_room_disgust.wav",
         "2"
        ],
        [
         "44",
         "./dataset/mlend\\MLEndSND_Public\\19669.wav",
         "1"
        ],
        [
         "45",
         "./dataset/esd\\0014\\Happy\\0014_000858.wav",
         "4"
        ],
        [
         "46",
         "./dataset/meld\\train\\dia47_utt12.mp4",
         "5"
        ],
        [
         "47",
         "./dataset/crema-d\\AudioWAV\\1001_IEO_ANG_MD.wav",
         "0"
        ],
        [
         "48",
         "./dataset/crema-d\\AudioWAV\\1006_IWW_ANG_XX.wav",
         "0"
        ],
        [
         "49",
         "./dataset/esd\\0013\\Angry\\0013_000468.wav",
         "0"
        ]
       ],
       "shape": {
        "columns": 2,
        "rows": 9476
       }
      },
      "text/html": [
       "<div>\n",
       "<style scoped>\n",
       "    .dataframe tbody tr th:only-of-type {\n",
       "        vertical-align: middle;\n",
       "    }\n",
       "\n",
       "    .dataframe tbody tr th {\n",
       "        vertical-align: top;\n",
       "    }\n",
       "\n",
       "    .dataframe thead th {\n",
       "        text-align: right;\n",
       "    }\n",
       "</style>\n",
       "<table border=\"1\" class=\"dataframe\">\n",
       "  <thead>\n",
       "    <tr style=\"text-align: right;\">\n",
       "      <th></th>\n",
       "      <th>Filepath</th>\n",
       "      <th>Emotion</th>\n",
       "    </tr>\n",
       "  </thead>\n",
       "  <tbody>\n",
       "    <tr>\n",
       "      <th>0</th>\n",
       "      <td>./dataset/esd\\0020\\Sad\\0020_001395.wav</td>\n",
       "      <td>7</td>\n",
       "    </tr>\n",
       "    <tr>\n",
       "      <th>1</th>\n",
       "      <td>./dataset/meld\\train\\dia930_utt5.mp4</td>\n",
       "      <td>5</td>\n",
       "    </tr>\n",
       "    <tr>\n",
       "      <th>2</th>\n",
       "      <td>./dataset/mlend\\MLEndSND_Public\\24481.wav</td>\n",
       "      <td>1</td>\n",
       "    </tr>\n",
       "    <tr>\n",
       "      <th>3</th>\n",
       "      <td>./dataset/crema-d\\AudioWAV\\1002_IEO_SAD_HI.wav</td>\n",
       "      <td>7</td>\n",
       "    </tr>\n",
       "    <tr>\n",
       "      <th>4</th>\n",
       "      <td>./dataset/esd\\0011\\Angry\\0011_000373.wav</td>\n",
       "      <td>0</td>\n",
       "    </tr>\n",
       "    <tr>\n",
       "      <th>...</th>\n",
       "      <td>...</td>\n",
       "      <td>...</td>\n",
       "    </tr>\n",
       "    <tr>\n",
       "      <th>9471</th>\n",
       "      <td>./dataset/tess\\YAF_disgust\\YAF_take_disgust.wav</td>\n",
       "      <td>2</td>\n",
       "    </tr>\n",
       "    <tr>\n",
       "      <th>9472</th>\n",
       "      <td>./dataset/mlend\\MLEndSND_Public\\43418.wav</td>\n",
       "      <td>1</td>\n",
       "    </tr>\n",
       "    <tr>\n",
       "      <th>9473</th>\n",
       "      <td>./dataset/mlend\\MLEndSND_Public\\02459.wav</td>\n",
       "      <td>1</td>\n",
       "    </tr>\n",
       "    <tr>\n",
       "      <th>9474</th>\n",
       "      <td>./dataset/mlend\\MLEndSND_Public\\10609.wav</td>\n",
       "      <td>6</td>\n",
       "    </tr>\n",
       "    <tr>\n",
       "      <th>9475</th>\n",
       "      <td>./dataset/mlend\\MLEndSND_Public\\23072.wav</td>\n",
       "      <td>6</td>\n",
       "    </tr>\n",
       "  </tbody>\n",
       "</table>\n",
       "<p>9476 rows × 2 columns</p>\n",
       "</div>"
      ],
      "text/plain": [
       "                                             Filepath  Emotion\n",
       "0              ./dataset/esd\\0020\\Sad\\0020_001395.wav        7\n",
       "1                ./dataset/meld\\train\\dia930_utt5.mp4        5\n",
       "2           ./dataset/mlend\\MLEndSND_Public\\24481.wav        1\n",
       "3      ./dataset/crema-d\\AudioWAV\\1002_IEO_SAD_HI.wav        7\n",
       "4            ./dataset/esd\\0011\\Angry\\0011_000373.wav        0\n",
       "...                                               ...      ...\n",
       "9471  ./dataset/tess\\YAF_disgust\\YAF_take_disgust.wav        2\n",
       "9472        ./dataset/mlend\\MLEndSND_Public\\43418.wav        1\n",
       "9473        ./dataset/mlend\\MLEndSND_Public\\02459.wav        1\n",
       "9474        ./dataset/mlend\\MLEndSND_Public\\10609.wav        6\n",
       "9475        ./dataset/mlend\\MLEndSND_Public\\23072.wav        6\n",
       "\n",
       "[9476 rows x 2 columns]"
      ]
     },
     "execution_count": 8,
     "metadata": {},
     "output_type": "execute_result"
    }
   ],
   "source": [
    "df_val"
   ]
  },
  {
   "cell_type": "markdown",
   "metadata": {},
   "source": [
    "Loading pretrained models"
   ]
  },
  {
   "cell_type": "code",
   "execution_count": 9,
   "metadata": {},
   "outputs": [
    {
     "name": "stderr",
     "output_type": "stream",
     "text": [
      "c:\\Users\\profi\\OneDrive\\Desktop\\AI-Project--Speech-Emotion-Recognition\\myenv\\lib\\site-packages\\transformers\\configuration_utils.py:315: UserWarning: Passing `gradient_checkpointing` to a config initialization is deprecated and will be removed in v5 Transformers. Using `model.gradient_checkpointing_enable()` instead, or if you are using the `Trainer` API, pass `gradient_checkpointing=True` in your `TrainingArguments`.\n",
      "  warnings.warn(\n"
     ]
    }
   ],
   "source": [
    "# Load Model 1: facebook/wav2vec2-base\n",
    "model1_checkpoint_path = '../models/wav2vec2-base_standardpad_augmentation/checkpoint-33168' # change to wav2vec2 best model\n",
    "processor1 = Wav2Vec2Processor.from_pretrained(\"facebook/wav2vec2-base\")\n",
    "model1 = Wav2Vec2ForSequenceClassification.from_pretrained(\n",
    "    model1_checkpoint_path, num_labels=len(label_map))\n",
    "\n",
    "# Load Model 2: microsoft/wavlm-base\n",
    "model2_checkpoint_path = '../models/wavlm-base_standardpad_augmentation/checkpoint-55280' # change to wavlm best model\n",
    "processor2 = Wav2Vec2FeatureExtractor.from_pretrained(\"microsoft/wavlm-base\")\n",
    "model2 = WavLMForSequenceClassification.from_pretrained(\n",
    "    model2_checkpoint_path, num_labels=len(label_map))"
   ]
  },
  {
   "cell_type": "code",
   "execution_count": 10,
   "metadata": {},
   "outputs": [],
   "source": [
    "from transformer_models.emotion_datasets.SpeechEmotionDatasetStandardPad import SpeechEmotionDatasetStandardPad\n",
    "\n",
    "# Create two validation datasets, one for each model\n",
    "val_dataset1 = SpeechEmotionDatasetStandardPad(df_val, processor1)\n",
    "val_dataset2 = SpeechEmotionDatasetStandardPad(df_val, processor2)"
   ]
  },
  {
   "cell_type": "code",
   "execution_count": 11,
   "metadata": {},
   "outputs": [
    {
     "name": "stderr",
     "output_type": "stream",
     "text": [
      "Keyword argument `truncate` is not a valid argument for this processor and will be ignored.\n"
     ]
    },
    {
     "data": {
      "text/plain": [
       "{'input_values': tensor([ 1.0359e-02,  1.0359e-02,  1.0359e-02,  ..., -7.3200e-05,\n",
       "         -7.3200e-05, -7.3200e-05]),\n",
       " 'labels': tensor(7)}"
      ]
     },
     "execution_count": 11,
     "metadata": {},
     "output_type": "execute_result"
    }
   ],
   "source": [
    "val_dataset1[0]"
   ]
  },
  {
   "cell_type": "code",
   "execution_count": 12,
   "metadata": {},
   "outputs": [
    {
     "data": {
      "text/plain": [
       "{'input_values': tensor([0.0005, 0.0005, 0.0005,  ..., 0.0000, 0.0000, 0.0000]),\n",
       " 'labels': tensor(7)}"
      ]
     },
     "execution_count": 12,
     "metadata": {},
     "output_type": "execute_result"
    }
   ],
   "source": [
    "val_dataset2[0]"
   ]
  },
  {
   "cell_type": "markdown",
   "metadata": {},
   "source": [
    "Get predictions from each model"
   ]
  },
  {
   "cell_type": "code",
   "execution_count": 13,
   "metadata": {},
   "outputs": [],
   "source": [
    "device = torch.device(\"cuda\" if torch.cuda.is_available() else \"cpu\")"
   ]
  },
  {
   "cell_type": "code",
   "execution_count": 14,
   "metadata": {},
   "outputs": [],
   "source": [
    "# Helper function to obtain model probabilities\n",
    "def get_model_probs(model, dataset, batch_size=128):\n",
    "    model.eval()\n",
    "    model.to(device)\n",
    "    dataloader = DataLoader(dataset, batch_size=batch_size)\n",
    "    all_probs = []\n",
    "\n",
    "    with torch.no_grad():\n",
    "        for batch in dataloader:\n",
    "            # The dataset returns a dict with 'input_values'\n",
    "            input_values = batch[\"input_values\"].to(device)\n",
    "            outputs = model(input_values).logits  # shape: (B, num_labels)\n",
    "            probs = softmax(outputs, dim=1).cpu().numpy()\n",
    "            all_probs.append(probs)\n",
    "    return np.vstack(all_probs)  # shape: (N, num_labels)"
   ]
  },
  {
   "cell_type": "code",
   "execution_count": 15,
   "metadata": {},
   "outputs": [
    {
     "name": "stderr",
     "output_type": "stream",
     "text": [
      "c:\\Users\\profi\\OneDrive\\Desktop\\AI-Project--Speech-Emotion-Recognition\\transformer_models\\emotion_datasets\\SpeechEmotionDatasetStandardPad.py:22: UserWarning: PySoundFile failed. Trying audioread instead.\n",
      "  speech, sr = librosa.load(audio_path, sr=16000)\n",
      "c:\\Users\\profi\\OneDrive\\Desktop\\AI-Project--Speech-Emotion-Recognition\\myenv\\lib\\site-packages\\librosa\\core\\audio.py:184: FutureWarning: librosa.core.audio.__audioread_load\n",
      "\tDeprecated as of librosa version 0.10.0.\n",
      "\tIt will be removed in librosa version 1.0.\n",
      "  y, sr_native = __audioread_load(path, offset, duration, dtype)\n"
     ]
    },
    {
     "name": "stdout",
     "output_type": "stream",
     "text": [
      "Shape of X_meta (stacked predictions): (9476, 18)\n",
      "Shape of y_meta (labels): (9476,)\n"
     ]
    }
   ],
   "source": [
    "# Get probabilities for each model from their respective datasets\n",
    "probs1 = get_model_probs(model1, val_dataset1, batch_size=128)\n",
    "probs2 = get_model_probs(model2, val_dataset2, batch_size=128)\n",
    "\n",
    "# Stack predictions horizontally\n",
    "X_meta = np.hstack([probs1, probs2])  # shape: (N, num_labels * 2)\n",
    "\n",
    "# Extract ground truth labels from one of the datasets (they should be the same)\n",
    "y_meta = np.array([sample['labels'].item() for sample in val_dataset1])\n",
    "\n",
    "print(\"Shape of X_meta (stacked predictions):\", X_meta.shape)\n",
    "print(\"Shape of y_meta (labels):\", y_meta.shape)"
   ]
  },
  {
   "cell_type": "markdown",
   "metadata": {},
   "source": [
    "Define simple Feed-Forward Neural Network for meta classifier"
   ]
  },
  {
   "cell_type": "code",
   "execution_count": 16,
   "metadata": {},
   "outputs": [],
   "source": [
    "import torch.nn as nn\n",
    "\n",
    "class MetaFFNN(nn.Module):\n",
    "    def __init__(self, input_dim, hidden_dim, output_dim):\n",
    "        super(MetaFFNN, self).__init__()\n",
    "        \n",
    "        self.model = nn.Sequential(\n",
    "            # First hidden layer\n",
    "            nn.Linear(input_dim, hidden_dim),\n",
    "            nn.ReLU(),\n",
    "            nn.Dropout(0.3),\n",
    "\n",
    "            # Second hidden layer\n",
    "            nn.Linear(hidden_dim, hidden_dim),\n",
    "            nn.ReLU(),\n",
    "            nn.Dropout(0.3),\n",
    "\n",
    "            # Third hidden layer\n",
    "            nn.Linear(hidden_dim, hidden_dim),\n",
    "            nn.ReLU(),\n",
    "            nn.Dropout(0.3),\n",
    "\n",
    "            # Output layer\n",
    "            nn.Linear(hidden_dim, output_dim)\n",
    "        )\n",
    "\n",
    "    def forward(self, x):\n",
    "        return self.model(x)\n"
   ]
  },
  {
   "cell_type": "markdown",
   "metadata": {},
   "source": [
    "Define meta dataset class"
   ]
  },
  {
   "cell_type": "code",
   "execution_count": 17,
   "metadata": {},
   "outputs": [],
   "source": [
    "from torch.utils.data import Dataset\n",
    "\n",
    "class MetaDataset(Dataset):\n",
    "    def __init__(self, X, y):\n",
    "        self.X = torch.tensor(X, dtype=torch.float32)\n",
    "        self.y = torch.tensor(y, dtype=torch.long)\n",
    "\n",
    "    def __len__(self):\n",
    "        return len(self.y)\n",
    "\n",
    "    def __getitem__(self, idx):\n",
    "        return self.X[idx], self.y[idx]\n"
   ]
  },
  {
   "cell_type": "markdown",
   "metadata": {},
   "source": [
    "Train meta classifier"
   ]
  },
  {
   "cell_type": "code",
   "execution_count": 19,
   "metadata": {},
   "outputs": [
    {
     "name": "stderr",
     "output_type": "stream",
     "text": [
      "C:\\Users\\profi\\AppData\\Local\\Temp\\ipykernel_34452\\2858821353.py:11: FutureWarning: You are using `torch.load` with `weights_only=False` (the current default value), which uses the default pickle module implicitly. It is possible to construct malicious pickle data which will execute arbitrary code during unpickling (See https://github.com/pytorch/pytorch/blob/main/SECURITY.md#untrusted-models for more details). In a future release, the default value for `weights_only` will be flipped to `True`. This limits the functions that could be executed during unpickling. Arbitrary objects will no longer be allowed to be loaded via this mode unless they are explicitly allowlisted by the user via `torch.serialization.add_safe_globals`. We recommend you start setting `weights_only=True` for any use case where you don't have full control of the loaded file. Please open an issue on GitHub for any issues related to this experimental feature.\n",
      "  class_weights = torch.load(class_weights_path).to(device)\n"
     ]
    },
    {
     "name": "stdout",
     "output_type": "stream",
     "text": [
      "\n",
      " Fold 1\n",
      "Epoch 1, Loss: 221.4728\n",
      "Epoch 2, Loss: 133.3811\n",
      "Epoch 3, Loss: 130.5426\n",
      "Epoch 4, Loss: 127.8854\n",
      "Epoch 5, Loss: 127.3625\n",
      "Epoch 6, Loss: 125.0005\n",
      "Epoch 7, Loss: 124.6914\n",
      "Epoch 8, Loss: 121.7759\n",
      "Epoch 9, Loss: 120.4394\n",
      "Epoch 10, Loss: 121.4935\n",
      "Epoch 11, Loss: 121.0940\n",
      "Epoch 12, Loss: 120.7389\n",
      "Epoch 13, Loss: 121.1437\n",
      "Epoch 14, Loss: 119.5662\n",
      "Epoch 15, Loss: 118.6591\n",
      "Epoch 16, Loss: 118.9362\n",
      "Epoch 17, Loss: 116.8708\n",
      "Epoch 18, Loss: 117.0218\n",
      "Epoch 19, Loss: 116.8960\n",
      "Epoch 20, Loss: 117.2112\n",
      "Epoch 21, Loss: 117.6155\n",
      "Epoch 22, Loss: 115.0123\n",
      "Epoch 23, Loss: 114.1086\n",
      "Epoch 24, Loss: 113.0482\n",
      "Epoch 25, Loss: 113.7318\n",
      "Epoch 26, Loss: 114.8721\n",
      "Epoch 27, Loss: 112.0266\n",
      "Epoch 28, Loss: 113.5095\n",
      "Epoch 29, Loss: 112.5424\n",
      "Epoch 30, Loss: 113.1314\n",
      "Epoch 31, Loss: 113.2398\n",
      "Epoch 32, Loss: 109.5799\n",
      "Epoch 33, Loss: 111.6524\n",
      "Epoch 34, Loss: 108.3547\n",
      "Epoch 35, Loss: 110.5633\n",
      "Epoch 36, Loss: 109.7091\n",
      "Epoch 37, Loss: 110.1898\n",
      "Epoch 38, Loss: 111.3428\n",
      "Epoch 39, Loss: 109.9941\n",
      "Epoch 40, Loss: 108.2145\n",
      "Epoch 41, Loss: 108.4572\n",
      "Epoch 42, Loss: 107.3634\n",
      "Epoch 43, Loss: 107.6853\n",
      "Epoch 44, Loss: 107.4118\n",
      "Epoch 45, Loss: 106.5937\n",
      "Epoch 46, Loss: 106.2292\n",
      "Epoch 47, Loss: 105.3455\n",
      "Epoch 48, Loss: 105.1619\n",
      "Epoch 49, Loss: 104.7070\n",
      "Epoch 50, Loss: 105.1115\n",
      "Epoch 51, Loss: 104.9682\n",
      "Epoch 52, Loss: 104.7140\n",
      "Epoch 53, Loss: 104.2767\n",
      "Epoch 54, Loss: 102.6237\n",
      "Epoch 55, Loss: 103.3876\n",
      "Epoch 56, Loss: 103.1033\n",
      "Epoch 57, Loss: 103.1566\n",
      "Epoch 58, Loss: 105.1203\n",
      "Epoch 59, Loss: 101.8907\n",
      "Epoch 60, Loss: 101.5149\n",
      "Epoch 61, Loss: 101.9101\n",
      "Epoch 62, Loss: 102.2171\n",
      "Epoch 63, Loss: 98.3044\n",
      "Epoch 64, Loss: 100.5185\n",
      "Epoch 65, Loss: 101.6955\n",
      "Epoch 66, Loss: 100.9450\n",
      "Epoch 67, Loss: 101.1422\n",
      "Epoch 68, Loss: 98.5527\n",
      "Epoch 69, Loss: 98.5060\n",
      "Epoch 70, Loss: 99.5898\n",
      "Epoch 71, Loss: 100.6787\n",
      "Epoch 72, Loss: 98.7783\n",
      "Epoch 73, Loss: 98.5878\n",
      "Early stopping at epoch 73\n",
      "Fold 1 Metrics: Accuracy: 0.8618, Precision: 0.8704, Recall: 0.8618, F1 Score: 0.8643\n",
      "\n",
      " Fold 2\n",
      "Epoch 1, Loss: 219.8118\n",
      "Epoch 2, Loss: 135.0720\n",
      "Epoch 3, Loss: 131.8360\n",
      "Epoch 4, Loss: 127.9407\n",
      "Epoch 5, Loss: 128.4875\n",
      "Epoch 6, Loss: 124.4547\n",
      "Epoch 7, Loss: 124.4985\n",
      "Epoch 8, Loss: 124.2591\n",
      "Epoch 9, Loss: 121.8902\n",
      "Epoch 10, Loss: 124.4586\n",
      "Epoch 11, Loss: 120.4602\n",
      "Epoch 12, Loss: 122.8319\n",
      "Epoch 13, Loss: 119.3940\n",
      "Epoch 14, Loss: 121.7983\n",
      "Epoch 15, Loss: 121.9560\n",
      "Epoch 16, Loss: 121.1042\n",
      "Epoch 17, Loss: 118.0673\n",
      "Epoch 18, Loss: 116.8107\n",
      "Epoch 19, Loss: 116.4015\n",
      "Epoch 20, Loss: 116.2980\n",
      "Epoch 21, Loss: 117.7987\n",
      "Epoch 22, Loss: 116.1706\n",
      "Epoch 23, Loss: 115.3134\n",
      "Epoch 24, Loss: 117.0393\n",
      "Epoch 25, Loss: 115.6296\n",
      "Epoch 26, Loss: 113.6964\n",
      "Epoch 27, Loss: 115.7873\n",
      "Epoch 28, Loss: 112.8917\n",
      "Epoch 29, Loss: 113.1243\n",
      "Epoch 30, Loss: 113.2593\n",
      "Epoch 31, Loss: 114.7171\n",
      "Epoch 32, Loss: 113.8131\n",
      "Epoch 33, Loss: 113.6134\n",
      "Epoch 34, Loss: 110.8661\n",
      "Epoch 35, Loss: 113.2492\n",
      "Epoch 36, Loss: 110.8320\n",
      "Epoch 37, Loss: 110.6431\n",
      "Epoch 38, Loss: 109.5756\n",
      "Epoch 39, Loss: 109.3675\n",
      "Epoch 40, Loss: 109.7160\n",
      "Epoch 41, Loss: 109.4057\n",
      "Epoch 42, Loss: 109.1217\n",
      "Epoch 43, Loss: 108.6168\n",
      "Epoch 44, Loss: 106.6353\n",
      "Epoch 45, Loss: 106.7895\n",
      "Epoch 46, Loss: 106.7148\n",
      "Epoch 47, Loss: 107.3129\n",
      "Epoch 48, Loss: 105.5601\n",
      "Epoch 49, Loss: 106.7494\n",
      "Epoch 50, Loss: 106.6205\n",
      "Epoch 51, Loss: 106.2428\n",
      "Epoch 52, Loss: 105.0207\n",
      "Epoch 53, Loss: 103.7388\n",
      "Epoch 54, Loss: 104.9205\n",
      "Epoch 55, Loss: 104.1295\n",
      "Epoch 56, Loss: 103.1974\n",
      "Epoch 57, Loss: 102.9393\n",
      "Epoch 58, Loss: 102.9118\n",
      "Epoch 59, Loss: 105.8935\n",
      "Epoch 60, Loss: 104.3296\n",
      "Epoch 61, Loss: 104.4704\n",
      "Epoch 62, Loss: 102.2353\n",
      "Epoch 63, Loss: 100.8526\n",
      "Epoch 64, Loss: 103.4598\n",
      "Epoch 65, Loss: 100.9388\n",
      "Epoch 66, Loss: 100.4235\n",
      "Epoch 67, Loss: 100.9414\n",
      "Epoch 68, Loss: 101.1978\n",
      "Epoch 69, Loss: 100.6846\n",
      "Epoch 70, Loss: 99.1107\n",
      "Epoch 71, Loss: 100.1717\n",
      "Epoch 72, Loss: 100.4488\n",
      "Epoch 73, Loss: 99.0372\n",
      "Epoch 74, Loss: 97.3713\n",
      "Epoch 75, Loss: 97.5355\n",
      "Epoch 76, Loss: 98.2291\n",
      "Epoch 77, Loss: 98.5306\n",
      "Epoch 78, Loss: 99.7080\n",
      "Epoch 79, Loss: 98.4479\n",
      "Epoch 80, Loss: 97.1171\n",
      "Epoch 81, Loss: 96.0464\n",
      "Epoch 82, Loss: 94.6899\n",
      "Epoch 83, Loss: 97.2954\n",
      "Epoch 84, Loss: 95.7774\n",
      "Epoch 85, Loss: 98.6326\n",
      "Epoch 86, Loss: 96.1245\n",
      "Epoch 87, Loss: 98.0358\n",
      "Epoch 88, Loss: 95.9530\n",
      "Epoch 89, Loss: 97.1343\n",
      "Epoch 90, Loss: 94.5133\n",
      "Epoch 91, Loss: 95.1038\n",
      "Epoch 92, Loss: 94.8468\n",
      "Epoch 93, Loss: 94.3512\n",
      "Epoch 94, Loss: 94.4897\n",
      "Epoch 95, Loss: 96.0807\n",
      "Epoch 96, Loss: 94.5965\n",
      "Epoch 97, Loss: 94.6542\n",
      "Epoch 98, Loss: 93.8386\n",
      "Epoch 99, Loss: 94.9418\n",
      "Epoch 100, Loss: 93.4356\n",
      "Epoch 101, Loss: 94.9317\n",
      "Epoch 102, Loss: 91.9630\n",
      "Epoch 103, Loss: 93.6128\n",
      "Epoch 104, Loss: 94.0103\n",
      "Epoch 105, Loss: 90.9603\n",
      "Epoch 106, Loss: 91.5244\n",
      "Epoch 107, Loss: 91.6890\n",
      "Epoch 108, Loss: 91.8369\n",
      "Epoch 109, Loss: 92.1316\n",
      "Epoch 110, Loss: 92.4540\n",
      "Epoch 111, Loss: 92.3917\n",
      "Epoch 112, Loss: 95.9426\n",
      "Epoch 113, Loss: 91.4937\n",
      "Epoch 114, Loss: 92.1059\n",
      "Epoch 115, Loss: 92.5481\n",
      "Early stopping at epoch 115\n",
      "Fold 2 Metrics: Accuracy: 0.8755, Precision: 0.8795, Recall: 0.8755, F1 Score: 0.8763\n",
      "\n",
      " Fold 3\n",
      "Epoch 1, Loss: 223.5227\n",
      "Epoch 2, Loss: 132.1713\n",
      "Epoch 3, Loss: 130.5985\n",
      "Epoch 4, Loss: 128.2603\n",
      "Epoch 5, Loss: 126.6260\n",
      "Epoch 6, Loss: 123.3155\n",
      "Epoch 7, Loss: 124.2410\n",
      "Epoch 8, Loss: 123.6917\n",
      "Epoch 9, Loss: 123.2836\n",
      "Epoch 10, Loss: 122.0562\n",
      "Epoch 11, Loss: 121.9587\n",
      "Epoch 12, Loss: 121.1673\n",
      "Epoch 13, Loss: 119.4745\n",
      "Epoch 14, Loss: 118.6049\n",
      "Epoch 15, Loss: 118.5206\n",
      "Epoch 16, Loss: 117.7016\n",
      "Epoch 17, Loss: 118.6489\n",
      "Epoch 18, Loss: 118.3632\n",
      "Epoch 19, Loss: 116.2993\n",
      "Epoch 20, Loss: 117.4479\n",
      "Epoch 21, Loss: 116.0378\n",
      "Epoch 22, Loss: 116.8361\n",
      "Epoch 23, Loss: 115.0576\n",
      "Epoch 24, Loss: 117.2086\n",
      "Epoch 25, Loss: 115.2125\n",
      "Epoch 26, Loss: 114.3149\n",
      "Epoch 27, Loss: 115.4299\n",
      "Epoch 28, Loss: 112.0089\n",
      "Epoch 29, Loss: 113.7091\n",
      "Epoch 30, Loss: 113.0092\n",
      "Epoch 31, Loss: 112.5783\n",
      "Epoch 32, Loss: 112.4823\n",
      "Epoch 33, Loss: 112.3432\n",
      "Epoch 34, Loss: 112.7284\n",
      "Epoch 35, Loss: 111.2687\n",
      "Epoch 36, Loss: 111.4754\n",
      "Epoch 37, Loss: 111.0236\n",
      "Epoch 38, Loss: 111.9472\n",
      "Epoch 39, Loss: 109.7295\n",
      "Epoch 40, Loss: 109.1225\n",
      "Epoch 41, Loss: 109.1522\n",
      "Epoch 42, Loss: 111.2891\n",
      "Epoch 43, Loss: 108.3326\n",
      "Epoch 44, Loss: 107.7526\n",
      "Epoch 45, Loss: 109.3166\n",
      "Epoch 46, Loss: 107.6363\n",
      "Epoch 47, Loss: 108.2523\n",
      "Epoch 48, Loss: 107.2071\n",
      "Epoch 49, Loss: 105.6879\n",
      "Epoch 50, Loss: 106.2743\n",
      "Epoch 51, Loss: 105.5889\n",
      "Epoch 52, Loss: 107.0321\n",
      "Epoch 53, Loss: 106.7739\n",
      "Epoch 54, Loss: 104.9450\n",
      "Epoch 55, Loss: 104.8268\n",
      "Epoch 56, Loss: 104.9016\n",
      "Epoch 57, Loss: 105.5289\n",
      "Epoch 58, Loss: 102.2401\n",
      "Epoch 59, Loss: 104.4105\n",
      "Epoch 60, Loss: 105.1292\n",
      "Epoch 61, Loss: 102.5168\n",
      "Epoch 62, Loss: 101.8755\n",
      "Epoch 63, Loss: 102.5478\n",
      "Epoch 64, Loss: 101.4506\n",
      "Epoch 65, Loss: 102.4864\n",
      "Epoch 66, Loss: 101.1021\n",
      "Epoch 67, Loss: 100.2949\n",
      "Epoch 68, Loss: 100.7106\n",
      "Epoch 69, Loss: 100.7655\n",
      "Epoch 70, Loss: 99.1736\n",
      "Epoch 71, Loss: 97.9326\n",
      "Epoch 72, Loss: 101.6000\n",
      "Epoch 73, Loss: 99.9602\n",
      "Epoch 74, Loss: 96.9834\n",
      "Epoch 75, Loss: 99.4458\n",
      "Epoch 76, Loss: 98.5347\n",
      "Epoch 77, Loss: 99.7849\n",
      "Epoch 78, Loss: 98.2331\n",
      "Epoch 79, Loss: 94.6304\n",
      "Epoch 80, Loss: 97.8267\n",
      "Epoch 81, Loss: 98.1320\n",
      "Epoch 82, Loss: 96.1397\n",
      "Epoch 83, Loss: 97.3690\n",
      "Epoch 84, Loss: 96.4201\n",
      "Epoch 85, Loss: 96.1338\n",
      "Epoch 86, Loss: 94.5796\n",
      "Epoch 87, Loss: 94.7983\n",
      "Epoch 88, Loss: 97.0005\n",
      "Epoch 89, Loss: 94.5294\n",
      "Epoch 90, Loss: 95.6039\n",
      "Epoch 91, Loss: 94.1096\n",
      "Epoch 92, Loss: 92.8843\n",
      "Epoch 93, Loss: 95.2326\n",
      "Epoch 94, Loss: 95.1852\n",
      "Epoch 95, Loss: 95.1410\n",
      "Epoch 96, Loss: 92.4884\n",
      "Epoch 97, Loss: 93.7358\n",
      "Epoch 98, Loss: 92.5249\n",
      "Epoch 99, Loss: 92.4620\n",
      "Epoch 100, Loss: 92.9676\n",
      "Epoch 101, Loss: 93.5446\n",
      "Epoch 102, Loss: 93.0679\n",
      "Epoch 103, Loss: 91.8294\n",
      "Epoch 104, Loss: 93.2361\n",
      "Epoch 105, Loss: 94.3407\n",
      "Epoch 106, Loss: 91.7864\n",
      "Epoch 107, Loss: 92.1354\n",
      "Epoch 108, Loss: 92.9033\n",
      "Epoch 109, Loss: 91.9589\n",
      "Epoch 110, Loss: 91.8127\n",
      "Epoch 111, Loss: 90.4331\n",
      "Epoch 112, Loss: 93.0773\n",
      "Epoch 113, Loss: 91.3884\n",
      "Epoch 114, Loss: 92.9211\n",
      "Epoch 115, Loss: 89.7824\n",
      "Epoch 116, Loss: 91.7250\n",
      "Epoch 117, Loss: 93.1377\n",
      "Epoch 118, Loss: 90.1992\n",
      "Epoch 119, Loss: 87.7171\n",
      "Epoch 120, Loss: 90.8488\n",
      "Epoch 121, Loss: 90.8302\n",
      "Epoch 122, Loss: 90.4789\n",
      "Epoch 123, Loss: 91.8024\n",
      "Epoch 124, Loss: 89.1681\n",
      "Epoch 125, Loss: 89.6978\n",
      "Epoch 126, Loss: 88.6914\n",
      "Epoch 127, Loss: 88.6338\n",
      "Epoch 128, Loss: 87.6871\n",
      "Epoch 129, Loss: 89.3815\n",
      "Epoch 130, Loss: 87.5538\n",
      "Epoch 131, Loss: 91.2026\n",
      "Epoch 132, Loss: 89.4177\n",
      "Epoch 133, Loss: 88.8369\n",
      "Epoch 134, Loss: 90.4687\n",
      "Epoch 135, Loss: 85.9783\n",
      "Epoch 136, Loss: 85.5100\n",
      "Epoch 137, Loss: 88.1595\n",
      "Epoch 138, Loss: 88.1935\n",
      "Epoch 139, Loss: 86.1149\n",
      "Epoch 140, Loss: 86.6082\n",
      "Epoch 141, Loss: 86.4611\n",
      "Epoch 142, Loss: 87.8919\n",
      "Epoch 143, Loss: 88.2368\n",
      "Epoch 144, Loss: 87.1018\n",
      "Epoch 145, Loss: 84.7919\n",
      "Epoch 146, Loss: 88.1848\n",
      "Epoch 147, Loss: 86.6947\n",
      "Epoch 148, Loss: 84.8194\n",
      "Epoch 149, Loss: 88.4564\n",
      "Epoch 150, Loss: 87.1246\n",
      "Epoch 151, Loss: 83.8210\n",
      "Epoch 152, Loss: 86.9680\n",
      "Epoch 153, Loss: 88.2743\n",
      "Epoch 154, Loss: 86.9926\n",
      "Epoch 155, Loss: 86.4132\n",
      "Epoch 156, Loss: 84.3035\n",
      "Epoch 157, Loss: 85.6309\n",
      "Epoch 158, Loss: 85.9887\n",
      "Epoch 159, Loss: 85.5903\n",
      "Epoch 160, Loss: 87.0753\n",
      "Epoch 161, Loss: 84.9215\n",
      "Early stopping at epoch 161\n",
      "Fold 3 Metrics: Accuracy: 0.8675, Precision: 0.8700, Recall: 0.8675, F1 Score: 0.8682\n",
      "\n",
      " Fold 4\n",
      "Epoch 1, Loss: 226.9853\n",
      "Epoch 2, Loss: 134.1159\n",
      "Epoch 3, Loss: 127.3991\n",
      "Epoch 4, Loss: 128.3812\n",
      "Epoch 5, Loss: 126.5335\n",
      "Epoch 6, Loss: 123.2215\n",
      "Epoch 7, Loss: 123.9375\n",
      "Epoch 8, Loss: 123.3105\n",
      "Epoch 9, Loss: 120.4759\n",
      "Epoch 10, Loss: 119.1660\n",
      "Epoch 11, Loss: 121.7881\n",
      "Epoch 12, Loss: 118.9088\n",
      "Epoch 13, Loss: 118.4212\n",
      "Epoch 14, Loss: 118.2918\n",
      "Epoch 15, Loss: 119.0026\n",
      "Epoch 16, Loss: 118.0303\n",
      "Epoch 17, Loss: 118.2316\n",
      "Epoch 18, Loss: 113.9888\n",
      "Epoch 19, Loss: 114.2399\n",
      "Epoch 20, Loss: 115.2336\n",
      "Epoch 21, Loss: 116.0048\n",
      "Epoch 22, Loss: 113.5654\n",
      "Epoch 23, Loss: 112.7761\n",
      "Epoch 24, Loss: 111.5729\n",
      "Epoch 25, Loss: 112.5758\n",
      "Epoch 26, Loss: 113.0958\n",
      "Epoch 27, Loss: 113.6496\n",
      "Epoch 28, Loss: 112.8151\n",
      "Epoch 29, Loss: 112.5432\n",
      "Epoch 30, Loss: 110.9484\n",
      "Epoch 31, Loss: 113.0947\n",
      "Epoch 32, Loss: 110.8506\n",
      "Epoch 33, Loss: 111.1481\n",
      "Epoch 34, Loss: 109.2312\n",
      "Epoch 35, Loss: 109.5343\n",
      "Epoch 36, Loss: 109.0184\n",
      "Epoch 37, Loss: 111.0862\n",
      "Epoch 38, Loss: 110.1435\n",
      "Epoch 39, Loss: 107.4979\n",
      "Epoch 40, Loss: 109.0363\n",
      "Epoch 41, Loss: 107.7668\n",
      "Epoch 42, Loss: 106.7728\n",
      "Epoch 43, Loss: 105.6502\n",
      "Epoch 44, Loss: 105.4193\n",
      "Epoch 45, Loss: 107.4562\n",
      "Epoch 46, Loss: 104.8620\n",
      "Epoch 47, Loss: 106.2411\n",
      "Epoch 48, Loss: 106.6717\n",
      "Epoch 49, Loss: 103.9380\n",
      "Epoch 50, Loss: 102.8377\n",
      "Epoch 51, Loss: 103.6605\n",
      "Epoch 52, Loss: 105.0693\n",
      "Epoch 53, Loss: 101.7538\n",
      "Epoch 54, Loss: 102.2202\n",
      "Epoch 55, Loss: 103.9667\n",
      "Epoch 56, Loss: 100.9632\n",
      "Epoch 57, Loss: 101.8974\n",
      "Epoch 58, Loss: 101.8549\n",
      "Epoch 59, Loss: 101.6935\n",
      "Epoch 60, Loss: 100.3474\n",
      "Epoch 61, Loss: 102.7855\n",
      "Epoch 62, Loss: 100.9605\n",
      "Epoch 63, Loss: 99.5668\n",
      "Epoch 64, Loss: 98.9652\n",
      "Epoch 65, Loss: 100.7530\n",
      "Epoch 66, Loss: 99.0214\n",
      "Epoch 67, Loss: 100.3206\n",
      "Epoch 68, Loss: 97.8303\n",
      "Epoch 69, Loss: 97.0136\n",
      "Epoch 70, Loss: 95.9224\n",
      "Epoch 71, Loss: 96.2672\n",
      "Epoch 72, Loss: 98.1096\n",
      "Epoch 73, Loss: 97.3567\n",
      "Epoch 74, Loss: 98.4555\n",
      "Epoch 75, Loss: 96.5837\n",
      "Epoch 76, Loss: 96.5972\n",
      "Epoch 77, Loss: 96.2446\n",
      "Epoch 78, Loss: 98.1041\n",
      "Epoch 79, Loss: 97.1595\n",
      "Epoch 80, Loss: 95.7516\n",
      "Epoch 81, Loss: 94.5175\n",
      "Epoch 82, Loss: 94.3999\n",
      "Epoch 83, Loss: 94.7688\n",
      "Epoch 84, Loss: 93.5066\n",
      "Epoch 85, Loss: 94.6001\n",
      "Epoch 86, Loss: 95.6569\n",
      "Epoch 87, Loss: 94.2636\n",
      "Epoch 88, Loss: 92.4858\n",
      "Epoch 89, Loss: 95.7814\n",
      "Epoch 90, Loss: 92.5239\n",
      "Epoch 91, Loss: 94.2155\n",
      "Epoch 92, Loss: 94.5746\n",
      "Epoch 93, Loss: 92.1778\n",
      "Epoch 94, Loss: 91.6430\n",
      "Epoch 95, Loss: 91.3118\n",
      "Epoch 96, Loss: 92.6688\n",
      "Epoch 97, Loss: 91.7574\n",
      "Epoch 98, Loss: 91.8022\n",
      "Epoch 99, Loss: 91.1508\n",
      "Epoch 100, Loss: 93.1753\n",
      "Epoch 101, Loss: 94.1561\n",
      "Epoch 102, Loss: 88.9043\n",
      "Epoch 103, Loss: 92.9616\n",
      "Epoch 104, Loss: 91.5333\n",
      "Epoch 105, Loss: 88.8151\n",
      "Epoch 106, Loss: 90.2128\n",
      "Epoch 107, Loss: 89.6050\n",
      "Epoch 108, Loss: 92.7379\n",
      "Epoch 109, Loss: 88.2168\n",
      "Epoch 110, Loss: 91.7709\n",
      "Epoch 111, Loss: 88.9793\n",
      "Epoch 112, Loss: 89.7407\n",
      "Epoch 113, Loss: 89.9941\n",
      "Epoch 114, Loss: 87.6226\n",
      "Epoch 115, Loss: 90.6658\n",
      "Epoch 116, Loss: 88.9029\n",
      "Epoch 117, Loss: 87.1512\n",
      "Epoch 118, Loss: 86.5129\n",
      "Epoch 119, Loss: 88.6484\n",
      "Epoch 120, Loss: 87.5471\n",
      "Epoch 121, Loss: 88.6295\n",
      "Epoch 122, Loss: 90.2047\n",
      "Epoch 123, Loss: 87.5869\n",
      "Epoch 124, Loss: 86.0639\n",
      "Epoch 125, Loss: 87.4196\n",
      "Epoch 126, Loss: 86.3772\n",
      "Epoch 127, Loss: 86.9944\n",
      "Epoch 128, Loss: 85.7842\n",
      "Epoch 129, Loss: 85.6350\n",
      "Epoch 130, Loss: 85.4853\n",
      "Epoch 131, Loss: 86.5264\n",
      "Epoch 132, Loss: 86.9471\n",
      "Epoch 133, Loss: 85.1660\n",
      "Epoch 134, Loss: 86.1382\n",
      "Epoch 135, Loss: 86.2689\n",
      "Epoch 136, Loss: 86.1039\n",
      "Epoch 137, Loss: 83.4583\n",
      "Epoch 138, Loss: 85.8609\n",
      "Epoch 139, Loss: 85.2754\n",
      "Epoch 140, Loss: 86.1191\n",
      "Epoch 141, Loss: 87.7511\n",
      "Epoch 142, Loss: 83.7627\n",
      "Epoch 143, Loss: 84.9657\n",
      "Epoch 144, Loss: 85.6152\n",
      "Epoch 145, Loss: 84.6617\n",
      "Epoch 146, Loss: 85.8827\n",
      "Epoch 147, Loss: 84.6632\n",
      "Early stopping at epoch 147\n",
      "Fold 4 Metrics: Accuracy: 0.8660, Precision: 0.8710, Recall: 0.8660, F1 Score: 0.8676\n",
      "\n",
      " Fold 5\n",
      "Epoch 1, Loss: 219.9554\n",
      "Epoch 2, Loss: 132.9669\n",
      "Epoch 3, Loss: 130.6064\n",
      "Epoch 4, Loss: 127.8851\n",
      "Epoch 5, Loss: 125.6335\n",
      "Epoch 6, Loss: 125.6183\n",
      "Epoch 7, Loss: 124.2703\n",
      "Epoch 8, Loss: 123.5734\n",
      "Epoch 9, Loss: 122.4932\n",
      "Epoch 10, Loss: 123.0253\n",
      "Epoch 11, Loss: 121.6082\n",
      "Epoch 12, Loss: 120.9769\n",
      "Epoch 13, Loss: 120.1707\n",
      "Epoch 14, Loss: 120.5319\n",
      "Epoch 15, Loss: 118.5965\n",
      "Epoch 16, Loss: 118.5980\n",
      "Epoch 17, Loss: 117.6465\n",
      "Epoch 18, Loss: 117.9609\n",
      "Epoch 19, Loss: 116.9383\n",
      "Epoch 20, Loss: 116.9625\n",
      "Epoch 21, Loss: 116.2454\n",
      "Epoch 22, Loss: 116.1963\n",
      "Epoch 23, Loss: 116.4448\n",
      "Epoch 24, Loss: 116.6566\n",
      "Epoch 25, Loss: 115.5733\n",
      "Epoch 26, Loss: 115.1672\n",
      "Epoch 27, Loss: 115.2551\n",
      "Epoch 28, Loss: 113.5470\n",
      "Epoch 29, Loss: 111.9670\n",
      "Epoch 30, Loss: 112.5357\n",
      "Epoch 31, Loss: 113.3197\n",
      "Epoch 32, Loss: 111.9481\n",
      "Epoch 33, Loss: 111.9064\n",
      "Epoch 34, Loss: 108.8812\n",
      "Epoch 35, Loss: 110.1437\n",
      "Epoch 36, Loss: 109.9842\n",
      "Epoch 37, Loss: 110.7152\n",
      "Epoch 38, Loss: 107.5544\n",
      "Epoch 39, Loss: 110.1053\n",
      "Epoch 40, Loss: 110.8224\n",
      "Epoch 41, Loss: 108.8690\n",
      "Epoch 42, Loss: 105.7784\n",
      "Epoch 43, Loss: 106.1186\n",
      "Epoch 44, Loss: 107.5476\n",
      "Epoch 45, Loss: 107.8187\n",
      "Epoch 46, Loss: 108.1101\n",
      "Epoch 47, Loss: 107.7367\n",
      "Epoch 48, Loss: 106.6323\n",
      "Epoch 49, Loss: 103.7437\n",
      "Epoch 50, Loss: 104.7350\n",
      "Epoch 51, Loss: 102.8501\n",
      "Epoch 52, Loss: 106.8585\n",
      "Epoch 53, Loss: 103.7472\n",
      "Epoch 54, Loss: 103.7550\n",
      "Epoch 55, Loss: 103.7046\n",
      "Epoch 56, Loss: 102.4173\n",
      "Epoch 57, Loss: 103.8048\n",
      "Epoch 58, Loss: 103.2712\n",
      "Epoch 59, Loss: 105.7268\n",
      "Epoch 60, Loss: 102.1743\n",
      "Epoch 61, Loss: 101.7128\n",
      "Epoch 62, Loss: 101.1975\n",
      "Epoch 63, Loss: 102.3533\n",
      "Epoch 64, Loss: 101.7125\n",
      "Epoch 65, Loss: 102.0758\n",
      "Epoch 66, Loss: 100.9775\n",
      "Epoch 67, Loss: 100.1106\n",
      "Epoch 68, Loss: 99.4004\n",
      "Epoch 69, Loss: 98.8067\n",
      "Epoch 70, Loss: 98.6883\n",
      "Epoch 71, Loss: 99.5269\n",
      "Epoch 72, Loss: 100.8033\n",
      "Epoch 73, Loss: 99.1808\n",
      "Epoch 74, Loss: 99.7777\n",
      "Epoch 75, Loss: 99.4141\n",
      "Epoch 76, Loss: 98.4801\n",
      "Epoch 77, Loss: 98.4652\n",
      "Epoch 78, Loss: 97.7584\n",
      "Epoch 79, Loss: 98.0379\n",
      "Epoch 80, Loss: 97.1229\n",
      "Epoch 81, Loss: 97.1750\n",
      "Epoch 82, Loss: 97.1913\n",
      "Epoch 83, Loss: 97.1605\n",
      "Epoch 84, Loss: 95.6900\n",
      "Epoch 85, Loss: 97.1420\n",
      "Epoch 86, Loss: 94.7623\n",
      "Epoch 87, Loss: 94.5176\n",
      "Epoch 88, Loss: 95.1548\n",
      "Epoch 89, Loss: 95.5772\n",
      "Epoch 90, Loss: 95.1328\n",
      "Epoch 91, Loss: 95.6504\n",
      "Epoch 92, Loss: 93.9859\n",
      "Epoch 93, Loss: 95.1934\n",
      "Epoch 94, Loss: 94.8618\n",
      "Epoch 95, Loss: 94.4016\n",
      "Epoch 96, Loss: 94.8251\n",
      "Epoch 97, Loss: 93.8940\n",
      "Epoch 98, Loss: 92.9948\n",
      "Epoch 99, Loss: 91.0044\n",
      "Epoch 100, Loss: 95.6166\n",
      "Epoch 101, Loss: 92.5187\n",
      "Epoch 102, Loss: 93.2079\n",
      "Epoch 103, Loss: 90.3885\n",
      "Epoch 104, Loss: 94.2067\n",
      "Epoch 105, Loss: 91.9116\n",
      "Epoch 106, Loss: 95.4515\n",
      "Epoch 107, Loss: 92.1726\n",
      "Epoch 108, Loss: 89.8033\n",
      "Epoch 109, Loss: 91.8785\n",
      "Epoch 110, Loss: 94.1723\n",
      "Epoch 111, Loss: 92.1759\n",
      "Epoch 112, Loss: 91.5177\n",
      "Epoch 113, Loss: 89.8721\n",
      "Epoch 114, Loss: 92.0816\n",
      "Epoch 115, Loss: 91.1922\n",
      "Epoch 116, Loss: 90.1819\n",
      "Epoch 117, Loss: 90.1403\n",
      "Epoch 118, Loss: 91.2500\n",
      "Early stopping at epoch 118\n",
      "Fold 5 Metrics: Accuracy: 0.8707, Precision: 0.8718, Recall: 0.8707, F1 Score: 0.8707\n",
      "Best model saved\n"
     ]
    }
   ],
   "source": [
    "from sklearn.model_selection import StratifiedKFold\n",
    "from torch.utils.data import DataLoader\n",
    "import torch.optim as optim\n",
    "from sklearn.metrics import accuracy_score, precision_score, recall_score, f1_score\n",
    "\n",
    "input_dim = X_meta.shape[1]  # 2 * num_classes\n",
    "hidden_dim = 128\n",
    "output_dim = len(set(y_meta))  # number of emotion classes\n",
    "\n",
    "class_weights_path = '../../data/class_weights.pt'\n",
    "class_weights = torch.load(class_weights_path).to(device)\n",
    "\n",
    "dataset = MetaDataset(X_meta, y_meta)\n",
    "kf = StratifiedKFold(n_splits=5, shuffle=True, random_state=42)\n",
    "\n",
    "device = torch.device(\"cuda\" if torch.cuda.is_available() else \"cpu\")\n",
    "\n",
    "# Initialize the best F1 score tracker\n",
    "best_f1 = 0.0\n",
    "best_model = None\n",
    "\n",
    "# Early stopping counters\n",
    "patience = 10\n",
    "patience_counter = 0\n",
    "\n",
    "for fold, (train_idx, val_idx) in enumerate(kf.split(dataset.X, dataset.y)):\n",
    "    print(f\"\\n Fold {fold + 1}\")\n",
    "    \n",
    "    train_subset = torch.utils.data.Subset(dataset, train_idx)\n",
    "    val_subset = torch.utils.data.Subset(dataset, val_idx)\n",
    "    \n",
    "    train_loader = DataLoader(train_subset, batch_size=32, shuffle=True)\n",
    "    val_loader = DataLoader(val_subset, batch_size=32)\n",
    "    \n",
    "    model = MetaFFNN(input_dim, hidden_dim, output_dim).to(device)\n",
    "    criterion = nn.CrossEntropyLoss(weight=class_weights) # Use weighted cross-entropy loss\n",
    "    optimizer = optim.Adam(model.parameters(), lr=1e-3)\n",
    "\n",
    "    best_loss = float('inf')  # Initialize best loss to a very high value\n",
    "\n",
    "    for epoch in range(1000):\n",
    "        model.train()\n",
    "        total_loss = 0\n",
    "\n",
    "        for xb, yb in train_loader:\n",
    "            xb, yb = xb.to(device), yb.to(device)\n",
    "            optimizer.zero_grad()\n",
    "            out = model(xb)\n",
    "            loss = criterion(out, yb)\n",
    "            loss.backward()\n",
    "            optimizer.step()\n",
    "            total_loss += loss.item()\n",
    "\n",
    "        print(f\"Epoch {epoch+1}, Loss: {total_loss:.4f}\")\n",
    "\n",
    "        # Check if the loss has improved\n",
    "        if total_loss < best_loss:\n",
    "            best_loss = total_loss\n",
    "            patience_counter = 0  # Reset the counter since loss improved\n",
    "        else:\n",
    "            patience_counter += 1\n",
    "        \n",
    "        # If patience is reached, stop training early\n",
    "        if patience_counter >= patience:\n",
    "            print(f\"Early stopping at epoch {epoch + 1}\")\n",
    "            break\n",
    "\n",
    "    # Evaluate\n",
    "    model.eval()\n",
    "    all_preds = []\n",
    "    all_labels = []\n",
    "\n",
    "    with torch.no_grad():\n",
    "        for xb, yb in val_loader:\n",
    "            xb, yb = xb.to(device), yb.to(device)\n",
    "            out = model(xb)\n",
    "            preds = torch.argmax(out, dim=1)\n",
    "            all_preds.extend(preds.cpu().numpy())\n",
    "            all_labels.extend(yb.cpu().numpy())\n",
    "\n",
    "    # Calculate metrics\n",
    "    accuracy = accuracy_score(all_labels, all_preds)\n",
    "    precision = precision_score(all_labels, all_preds, average='weighted')\n",
    "    recall = recall_score(all_labels, all_preds, average='weighted')\n",
    "    f1 = f1_score(all_labels, all_preds, average='weighted')\n",
    "\n",
    "    # Print out the metrics for the current fold\n",
    "    print(f\"Fold {fold + 1} Metrics: Accuracy: {accuracy:.4f}, Precision: {precision:.4f}, Recall: {recall:.4f}, F1 Score: {f1:.4f}\")\n",
    "    \n",
    "    # Save the model if it has the best F1 score\n",
    "    if f1 > best_f1:\n",
    "        best_f1 = f1\n",
    "        best_model = model.state_dict()  # Save the state dict of the model\n",
    "\n",
    "# After all folds are done, save the best model\n",
    "torch.save(best_model, '../meta_learner/best_meta_ffnn_model.pt')\n",
    "print(\"Best model saved\")\n"
   ]
  },
  {
   "cell_type": "code",
   "execution_count": null,
   "metadata": {},
   "outputs": [],
   "source": []
  }
 ],
 "metadata": {
  "kernelspec": {
   "display_name": "myenv",
   "language": "python",
   "name": "python3"
  },
  "language_info": {
   "codemirror_mode": {
    "name": "ipython",
    "version": 3
   },
   "file_extension": ".py",
   "mimetype": "text/x-python",
   "name": "python",
   "nbconvert_exporter": "python",
   "pygments_lexer": "ipython3",
   "version": "3.10.11"
  }
 },
 "nbformat": 4,
 "nbformat_minor": 2
}
