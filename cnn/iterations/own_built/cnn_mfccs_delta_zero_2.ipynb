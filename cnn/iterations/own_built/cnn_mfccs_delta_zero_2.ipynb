{
 "cells": [
  {
   "cell_type": "markdown",
   "metadata": {},
   "source": [
    "# Train CNN with MFCCs + Delta + Delta-Delta\n"
   ]
  },
  {
   "cell_type": "markdown",
   "metadata": {},
   "source": [
    "## cnn_mfccs_delta_2\n"
   ]
  },
  {
   "cell_type": "markdown",
   "metadata": {},
   "source": [
    "Inspired by https://arxiv.org/pdf/1912.10458\n"
   ]
  },
  {
   "cell_type": "markdown",
   "metadata": {},
   "source": [
    "Import the necessary libraries\n"
   ]
  },
  {
   "cell_type": "code",
   "execution_count": 1,
   "metadata": {},
   "outputs": [],
   "source": [
    "import torch\n",
    "from torch.utils.data import DataLoader\n",
    "import torchvision.transforms as transforms\n",
    "import torch.nn as nn\n",
    "import torch.optim as optim\n",
    "from torchsummary import summary\n",
    "import os\n",
    "import sys\n",
    "import numpy as np\n",
    "import random"
   ]
  },
  {
   "cell_type": "code",
   "execution_count": 2,
   "metadata": {},
   "outputs": [],
   "source": [
    "# Get the absolute path to the project root without relying on __file__\n",
    "notebook_path = os.getcwd()  # Gets current working directory\n",
    "project_root = os.path.abspath(os.path.join(notebook_path, \"../../..\"))\n",
    "sys.path.insert(0, project_root)"
   ]
  },
  {
   "cell_type": "code",
   "execution_count": 3,
   "metadata": {},
   "outputs": [
    {
     "name": "stdout",
     "output_type": "stream",
     "text": [
      "2.1.1+cu118\n",
      "True\n"
     ]
    }
   ],
   "source": [
    "print(torch.__version__)\n",
    "print(torch.cuda.is_available())"
   ]
  },
  {
   "cell_type": "markdown",
   "metadata": {},
   "source": [
    "Set the seed for reproducibility\n"
   ]
  },
  {
   "cell_type": "code",
   "execution_count": 4,
   "metadata": {},
   "outputs": [],
   "source": [
    "random_seed = 42\n",
    "\n",
    "torch.manual_seed(random_seed)\n",
    "np.random.seed(random_seed)\n",
    "random.seed(random_seed)\n",
    "\n",
    "if (torch.cuda.is_available()):\n",
    "    torch.cuda.manual_seed(random_seed)"
   ]
  },
  {
   "cell_type": "markdown",
   "metadata": {},
   "source": [
    "Set some constant strings\n"
   ]
  },
  {
   "cell_type": "code",
   "execution_count": 5,
   "metadata": {},
   "outputs": [],
   "source": [
    "model_name = 'cnn_mfccs_delta_zero_2'\n",
    "\n",
    "train_csv = '../../../data/mfcc_delta_train_dataset.csv'\n",
    "test_csv = '../../../data/mfcc_delta_test_dataset.csv'\n",
    "val_csv = '../../../data/mfcc_delta_val_dataset.csv'\n",
    "root_dir = '../../../data/'\n",
    "class_weights_path = '../../../data/class_weights.pt'"
   ]
  },
  {
   "cell_type": "markdown",
   "metadata": {},
   "source": [
    "Import other helper classes\n"
   ]
  },
  {
   "cell_type": "code",
   "execution_count": 6,
   "metadata": {},
   "outputs": [],
   "source": [
    "from cnn.datasets.MfccDeltaDataset import MFCCDeltaDataset\n",
    "from cnn.pipeline.Pipeline import Pipeline"
   ]
  },
  {
   "cell_type": "markdown",
   "metadata": {},
   "source": [
    "Import the model\n"
   ]
  },
  {
   "cell_type": "code",
   "execution_count": 7,
   "metadata": {},
   "outputs": [
    {
     "data": {
      "text/plain": [
       "CNNMFCCsDelta2(\n",
       "  (conv1): Sequential(\n",
       "    (0): Conv2d(3, 16, kernel_size=(3, 3), stride=(1, 1), padding=(1, 1))\n",
       "    (1): BatchNorm2d(16, eps=1e-05, momentum=0.1, affine=True, track_running_stats=True)\n",
       "    (2): ReLU()\n",
       "  )\n",
       "  (conv2): Sequential(\n",
       "    (0): Conv2d(16, 32, kernel_size=(3, 3), stride=(1, 1), padding=(1, 1))\n",
       "    (1): BatchNorm2d(32, eps=1e-05, momentum=0.1, affine=True, track_running_stats=True)\n",
       "    (2): ReLU()\n",
       "  )\n",
       "  (conv3): Sequential(\n",
       "    (0): Conv2d(32, 64, kernel_size=(3, 3), stride=(1, 1), padding=(1, 1))\n",
       "    (1): BatchNorm2d(64, eps=1e-05, momentum=0.1, affine=True, track_running_stats=True)\n",
       "    (2): ReLU()\n",
       "  )\n",
       "  (conv4): Sequential(\n",
       "    (0): Conv2d(64, 128, kernel_size=(3, 3), stride=(1, 1), padding=(1, 1))\n",
       "    (1): BatchNorm2d(128, eps=1e-05, momentum=0.1, affine=True, track_running_stats=True)\n",
       "    (2): ReLU()\n",
       "  )\n",
       "  (pool): MaxPool2d(kernel_size=2, stride=2, padding=0, dilation=1, ceil_mode=False)\n",
       "  (dropout): Dropout2d(p=0.3, inplace=False)\n",
       "  (global_pool): AdaptiveAvgPool2d(output_size=(1, 1))\n",
       "  (fc): Linear(in_features=128, out_features=9, bias=True)\n",
       ")"
      ]
     },
     "execution_count": 7,
     "metadata": {},
     "output_type": "execute_result"
    }
   ],
   "source": [
    "from cnn.models.architectures.CNNMFCCsDelta2 import CNNMFCCsDelta2\n",
    "\n",
    "model = CNNMFCCsDelta2()\n",
    "\n",
    "# Move model to GPU\n",
    "device = torch.device(\"cuda\" if torch.cuda.is_available() else \"cpu\")\n",
    "model.to(device)"
   ]
  },
  {
   "cell_type": "markdown",
   "metadata": {},
   "source": [
    "Visualize the model\n"
   ]
  },
  {
   "cell_type": "code",
   "execution_count": 8,
   "metadata": {},
   "outputs": [
    {
     "name": "stdout",
     "output_type": "stream",
     "text": [
      "----------------------------------------------------------------\n",
      "        Layer (type)               Output Shape         Param #\n",
      "================================================================\n",
      "            Conv2d-1          [-1, 16, 40, 172]             448\n",
      "       BatchNorm2d-2          [-1, 16, 40, 172]              32\n",
      "              ReLU-3          [-1, 16, 40, 172]               0\n",
      "         MaxPool2d-4           [-1, 16, 20, 86]               0\n",
      "            Conv2d-5           [-1, 32, 20, 86]           4,640\n",
      "       BatchNorm2d-6           [-1, 32, 20, 86]              64\n",
      "              ReLU-7           [-1, 32, 20, 86]               0\n",
      "         MaxPool2d-8           [-1, 32, 10, 43]               0\n",
      "            Conv2d-9           [-1, 64, 10, 43]          18,496\n",
      "      BatchNorm2d-10           [-1, 64, 10, 43]             128\n",
      "             ReLU-11           [-1, 64, 10, 43]               0\n",
      "        MaxPool2d-12            [-1, 64, 5, 21]               0\n",
      "           Conv2d-13           [-1, 128, 5, 21]          73,856\n",
      "      BatchNorm2d-14           [-1, 128, 5, 21]             256\n",
      "             ReLU-15           [-1, 128, 5, 21]               0\n",
      "        MaxPool2d-16           [-1, 128, 2, 10]               0\n",
      "        Dropout2d-17           [-1, 128, 2, 10]               0\n",
      "AdaptiveAvgPool2d-18            [-1, 128, 1, 1]               0\n",
      "           Linear-19                    [-1, 9]           1,161\n",
      "================================================================\n",
      "Total params: 99,081\n",
      "Trainable params: 99,081\n",
      "Non-trainable params: 0\n",
      "----------------------------------------------------------------\n",
      "Input size (MB): 0.08\n",
      "Forward/backward pass size (MB): 5.12\n",
      "Params size (MB): 0.38\n",
      "Estimated Total Size (MB): 5.58\n",
      "----------------------------------------------------------------\n"
     ]
    }
   ],
   "source": [
    "summary(model, (3, 40, 172))"
   ]
  },
  {
   "cell_type": "markdown",
   "metadata": {},
   "source": [
    "Define the learning rate, criterion, optimizer, transformations, and number of epochs\n"
   ]
  },
  {
   "cell_type": "code",
   "execution_count": 9,
   "metadata": {},
   "outputs": [],
   "source": [
    "learning_rate = 0.001\n",
    "\n",
    "class_weights = torch.load(class_weights_path).to(device)\n",
    "criterion = nn.CrossEntropyLoss(weight=class_weights)\n",
    "\n",
    "optimizer = optim.Adam(model.parameters(), lr=learning_rate)\n",
    "\n",
    "# Define transformations\n",
    "transform = transforms.Compose([])\n",
    "\n",
    "num_epochs = 100"
   ]
  },
  {
   "cell_type": "markdown",
   "metadata": {},
   "source": [
    "Prepare datasets and dataloaders\n"
   ]
  },
  {
   "cell_type": "code",
   "execution_count": 10,
   "metadata": {},
   "outputs": [],
   "source": [
    "trainset = MFCCDeltaDataset(\n",
    "    csv_file=train_csv, root_dir=root_dir, transform=transform)\n",
    "valset = MFCCDeltaDataset(\n",
    "    csv_file=val_csv, root_dir=root_dir, transform=transform)\n",
    "testset = MFCCDeltaDataset(\n",
    "    csv_file=test_csv, root_dir=root_dir, transform=transform)\n",
    "\n",
    "trainloader = DataLoader(trainset, batch_size=128,\n",
    "                         shuffle=True, num_workers=4, pin_memory=True)\n",
    "valloader = DataLoader(valset, batch_size=128,\n",
    "                       shuffle=False, num_workers=4, pin_memory=True)\n",
    "testloader = DataLoader(testset, batch_size=128,\n",
    "                        shuffle=False, num_workers=4, pin_memory=True)"
   ]
  },
  {
   "cell_type": "markdown",
   "metadata": {},
   "source": [
    "Execute the pipeline\n"
   ]
  },
  {
   "cell_type": "code",
   "execution_count": 11,
   "metadata": {},
   "outputs": [
    {
     "name": "stdout",
     "output_type": "stream",
     "text": [
      "Mapping from Emotion to Number: {'Anger': 0, 'Bored': 1, 'Disgust': 2, 'Fear': 3, 'Happy': 4, 'Neutral': 5, 'Question': 6, 'Sad': 7, 'Surprise': 8}\n",
      "Model is on: cuda:0\n",
      "Epoch 1/100\n"
     ]
    },
    {
     "name": "stderr",
     "output_type": "stream",
     "text": [
      "Training: 100%|██████████| 346/346 [00:10<00:00, 33.08it/s, Loss=0.9910343289375305, Elapsed=10.6702s, ETA=0.0000s]\n",
      "Validating: 100%|██████████| 75/75 [00:02<00:00, 32.31it/s, Loss=1.5543365478515625, Elapsed=2.4695s, ETA=0.0000s]\n"
     ]
    },
    {
     "name": "stdout",
     "output_type": "stream",
     "text": [
      "Epoch 1 completed in 13.3281s\n",
      "Train Loss: 1.4239075540462671 - Train Accuracy: 41.79914520250559\n",
      "Validation Loss: 1.1569674317042034 - Validation Accuracy: 53.84128324187421\n",
      "\n",
      "Epoch 2/100\n"
     ]
    },
    {
     "name": "stderr",
     "output_type": "stream",
     "text": [
      "Training: 100%|██████████| 346/346 [00:10<00:00, 33.89it/s, Loss=1.2280118465423584, Elapsed=10.3678s, ETA=0.0000s]\n",
      "Validating: 100%|██████████| 75/75 [00:02<00:00, 31.10it/s, Loss=0.99756920337677, Elapsed=2.5583s, ETA=0.0000s]  \n"
     ]
    },
    {
     "name": "stdout",
     "output_type": "stream",
     "text": [
      "Epoch 2 completed in 13.1287s\n",
      "Train Loss: 1.1204266064084334 - Train Accuracy: 53.40675244793198\n",
      "Validation Loss: 1.0421440116564433 - Validation Accuracy: 56.912199240185736\n",
      "\n",
      "Epoch 3/100\n"
     ]
    },
    {
     "name": "stderr",
     "output_type": "stream",
     "text": [
      "Training: 100%|██████████| 346/346 [00:09<00:00, 35.34it/s, Loss=0.7448133826255798, Elapsed=9.9497s, ETA=0.0000s]\n",
      "Validating: 100%|██████████| 75/75 [00:02<00:00, 34.73it/s, Loss=0.7455814480781555, Elapsed=2.3468s, ETA=0.0000s]"
     ]
    },
    {
     "name": "stdout",
     "output_type": "stream",
     "text": [
      "Epoch 3 completed in 12.4920s\n",
      "Train Loss: 1.0132030320994427 - Train Accuracy: 57.41163700504285\n",
      "Validation Loss: 1.0061931133270263 - Validation Accuracy: 59.36048965808358\n",
      "\n",
      "Epoch 4/100\n"
     ]
    },
    {
     "name": "stderr",
     "output_type": "stream",
     "text": [
      "\n",
      "Training: 100%|██████████| 346/346 [00:09<00:00, 36.06it/s, Loss=1.126232385635376, Elapsed=9.7668s, ETA=0.0000s] \n",
      "Validating: 100%|██████████| 75/75 [00:02<00:00, 32.73it/s, Loss=0.8423700332641602, Elapsed=2.4595s, ETA=0.0000s]"
     ]
    },
    {
     "name": "stdout",
     "output_type": "stream",
     "text": [
      "Epoch 4 completed in 12.4375s\n",
      "Train Loss: 0.9412708961205676 - Train Accuracy: 59.79059722756157\n",
      "Validation Loss: 1.0872786410649617 - Validation Accuracy: 55.118193330519205\n",
      "\n",
      "EarlyStopping counter: 1/7\n",
      "Epoch 5/100\n"
     ]
    },
    {
     "name": "stderr",
     "output_type": "stream",
     "text": [
      "\n",
      "Training: 100%|██████████| 346/346 [00:10<00:00, 34.46it/s, Loss=1.0301250219345093, Elapsed=10.1845s, ETA=0.0000s]\n",
      "Validating: 100%|██████████| 75/75 [00:02<00:00, 31.65it/s, Loss=0.32636758685112, Elapsed=2.5678s, ETA=0.0000s]  \n"
     ]
    },
    {
     "name": "stdout",
     "output_type": "stream",
     "text": [
      "Epoch 5 completed in 12.9660s\n",
      "Train Loss: 0.8981454635975678 - Train Accuracy: 61.81452251192873\n",
      "Validation Loss: 0.899212288459142 - Validation Accuracy: 60.47910510764035\n",
      "\n",
      "Epoch 6/100\n"
     ]
    },
    {
     "name": "stderr",
     "output_type": "stream",
     "text": [
      "Training: 100%|██████████| 346/346 [00:09<00:00, 35.10it/s, Loss=0.5491527318954468, Elapsed=10.0280s, ETA=0.0000s]\n",
      "Validating: 100%|██████████| 75/75 [00:02<00:00, 28.83it/s, Loss=1.1911050081253052, Elapsed=2.7610s, ETA=0.0000s]"
     ]
    },
    {
     "name": "stdout",
     "output_type": "stream",
     "text": [
      "Epoch 6 completed in 13.0022s\n",
      "Train Loss: 0.8621501760675728 - Train Accuracy: 63.30024196648652\n",
      "Validation Loss: 0.9061760091781617 - Validation Accuracy: 63.180666948079356\n",
      "\n",
      "EarlyStopping counter: 1/7\n",
      "Epoch 7/100\n"
     ]
    },
    {
     "name": "stderr",
     "output_type": "stream",
     "text": [
      "\n",
      "Training: 100%|██████████| 346/346 [00:09<00:00, 35.57it/s, Loss=0.6443126201629639, Elapsed=9.9081s, ETA=0.0000s]\n",
      "Validating: 100%|██████████| 75/75 [00:02<00:00, 29.56it/s, Loss=0.6174846291542053, Elapsed=2.6937s, ETA=0.0000s]\n"
     ]
    },
    {
     "name": "stdout",
     "output_type": "stream",
     "text": [
      "Epoch 7 completed in 12.7971s\n",
      "Train Loss: 0.8339017297146637 - Train Accuracy: 64.39474457836775\n",
      "Validation Loss: 0.8651278297106425 - Validation Accuracy: 63.011819333051925\n",
      "\n",
      "Epoch 8/100\n"
     ]
    },
    {
     "name": "stderr",
     "output_type": "stream",
     "text": [
      "Training: 100%|██████████| 346/346 [00:09<00:00, 35.68it/s, Loss=0.7910049557685852, Elapsed=9.8612s, ETA=0.0000s]\n",
      "Validating: 100%|██████████| 75/75 [00:02<00:00, 33.38it/s, Loss=0.5111266374588013, Elapsed=2.4240s, ETA=0.0000s]\n"
     ]
    },
    {
     "name": "stdout",
     "output_type": "stream",
     "text": [
      "Epoch 8 completed in 12.4743s\n",
      "Train Loss: 0.7973236889508418 - Train Accuracy: 65.9302141516474\n",
      "Validation Loss: 0.8429006044069925 - Validation Accuracy: 66.37821865766146\n",
      "\n",
      "Epoch 9/100\n"
     ]
    },
    {
     "name": "stderr",
     "output_type": "stream",
     "text": [
      "Training: 100%|██████████| 346/346 [00:09<00:00, 36.20it/s, Loss=0.7964366674423218, Elapsed=9.7246s, ETA=0.0000s]\n",
      "Validating: 100%|██████████| 75/75 [00:02<00:00, 33.58it/s, Loss=0.6514179706573486, Elapsed=2.4161s, ETA=0.0000s]\n"
     ]
    },
    {
     "name": "stdout",
     "output_type": "stream",
     "text": [
      "Epoch 9 completed in 12.3451s\n",
      "Train Loss: 0.7858030534204031 - Train Accuracy: 66.43223807693177\n",
      "Validation Loss: 0.7919410220781962 - Validation Accuracy: 65.82946390882228\n",
      "\n",
      "Epoch 10/100\n"
     ]
    },
    {
     "name": "stderr",
     "output_type": "stream",
     "text": [
      "Training: 100%|██████████| 346/346 [00:09<00:00, 36.39it/s, Loss=0.6857545375823975, Elapsed=9.6688s, ETA=0.0000s]\n",
      "Validating: 100%|██████████| 75/75 [00:02<00:00, 33.52it/s, Loss=1.1240532398223877, Elapsed=2.4169s, ETA=0.0000s]"
     ]
    },
    {
     "name": "stdout",
     "output_type": "stream",
     "text": [
      "Epoch 10 completed in 12.2787s\n",
      "Train Loss: 0.7550918513295278 - Train Accuracy: 67.67372967594582\n",
      "Validation Loss: 0.8516874043146769 - Validation Accuracy: 63.243984803714646\n",
      "\n",
      "EarlyStopping counter: 1/7\n",
      "Epoch 11/100\n"
     ]
    },
    {
     "name": "stderr",
     "output_type": "stream",
     "text": [
      "\n",
      "Training: 100%|██████████| 346/346 [00:10<00:00, 34.54it/s, Loss=0.6061962842941284, Elapsed=10.2099s, ETA=0.0000s]\n",
      "Validating: 100%|██████████| 75/75 [00:02<00:00, 32.91it/s, Loss=0.7890535593032837, Elapsed=2.4697s, ETA=0.0000s]"
     ]
    },
    {
     "name": "stdout",
     "output_type": "stream",
     "text": [
      "Epoch 11 completed in 12.8745s\n",
      "Train Loss: 0.7383148494483418 - Train Accuracy: 68.04685556635988\n",
      "Validation Loss: 0.7630144373575847 - Validation Accuracy: 69.1114394259181\n",
      "\n",
      "Epoch 12/100\n"
     ]
    },
    {
     "name": "stderr",
     "output_type": "stream",
     "text": [
      "\n",
      "Training: 100%|██████████| 346/346 [00:09<00:00, 36.27it/s, Loss=0.618505597114563, Elapsed=9.7288s, ETA=0.0000s] \n",
      "Validating: 100%|██████████| 75/75 [00:02<00:00, 32.11it/s, Loss=0.33975139260292053, Elapsed=2.5143s, ETA=0.0000s]"
     ]
    },
    {
     "name": "stdout",
     "output_type": "stream",
     "text": [
      "Epoch 12 completed in 12.4535s\n",
      "Train Loss: 0.7175200025987074 - Train Accuracy: 68.9785396078786\n",
      "Validation Loss: 0.7801893051465353 - Validation Accuracy: 66.2621359223301\n",
      "\n",
      "EarlyStopping counter: 1/7\n",
      "Epoch 13/100\n"
     ]
    },
    {
     "name": "stderr",
     "output_type": "stream",
     "text": [
      "\n",
      "Training: 100%|██████████| 346/346 [00:10<00:00, 32.56it/s, Loss=0.7476884722709656, Elapsed=10.8205s, ETA=0.0000s]\n",
      "Validating: 100%|██████████| 75/75 [00:02<00:00, 35.57it/s, Loss=0.5598560571670532, Elapsed=2.2843s, ETA=0.0000s]"
     ]
    },
    {
     "name": "stdout",
     "output_type": "stream",
     "text": [
      "Epoch 13 completed in 13.3047s\n",
      "Train Loss: 0.7012154635666423 - Train Accuracy: 69.59137061577078\n",
      "Validation Loss: 0.7742561984062195 - Validation Accuracy: 64.9219079780498\n",
      "\n",
      "EarlyStopping counter: 2/7\n",
      "Epoch 14/100\n"
     ]
    },
    {
     "name": "stderr",
     "output_type": "stream",
     "text": [
      "\n",
      "Training: 100%|██████████| 346/346 [00:09<00:00, 35.54it/s, Loss=0.4758153259754181, Elapsed=9.9003s, ETA=0.0000s]\n",
      "Validating: 100%|██████████| 75/75 [00:02<00:00, 34.98it/s, Loss=1.0352561473846436, Elapsed=2.3235s, ETA=0.0000s]"
     ]
    },
    {
     "name": "stdout",
     "output_type": "stream",
     "text": [
      "Epoch 14 completed in 12.4379s\n",
      "Train Loss: 0.6764658121015296 - Train Accuracy: 70.45973632437077\n",
      "Validation Loss: 0.9765180277824402 - Validation Accuracy: 57.87252005065429\n",
      "\n",
      "EarlyStopping counter: 3/7\n",
      "Epoch 15/100\n"
     ]
    },
    {
     "name": "stderr",
     "output_type": "stream",
     "text": [
      "\n",
      "Training: 100%|██████████| 346/346 [00:09<00:00, 36.35it/s, Loss=0.8265488743782043, Elapsed=9.7172s, ETA=0.0000s] \n",
      "Validating: 100%|██████████| 75/75 [00:02<00:00, 34.68it/s, Loss=0.5867063999176025, Elapsed=2.3424s, ETA=0.0000s]"
     ]
    },
    {
     "name": "stdout",
     "output_type": "stream",
     "text": [
      "Epoch 15 completed in 12.2495s\n",
      "Train Loss: 0.6667404548625726 - Train Accuracy: 70.6994414418489\n",
      "Validation Loss: 0.8099856925010681 - Validation Accuracy: 66.09328830730266\n",
      "\n",
      "EarlyStopping counter: 4/7\n",
      "Epoch 16/100\n"
     ]
    },
    {
     "name": "stderr",
     "output_type": "stream",
     "text": [
      "\n",
      "Training: 100%|██████████| 346/346 [00:09<00:00, 35.90it/s, Loss=0.6881617903709412, Elapsed=9.8238s, ETA=0.0000s] \n",
      "Validating: 100%|██████████| 75/75 [00:02<00:00, 34.10it/s, Loss=0.31755316257476807, Elapsed=2.3784s, ETA=0.0000s]\n"
     ]
    },
    {
     "name": "stdout",
     "output_type": "stream",
     "text": [
      "Epoch 16 completed in 12.3873s\n",
      "Train Loss: 0.6536946066714435 - Train Accuracy: 71.59494357884263\n",
      "Validation Loss: 0.7730661396185557 - Validation Accuracy: 69.36471084845927\n",
      "\n",
      "EarlyStopping counter: 5/7\n",
      "Epoch 17/100\n"
     ]
    },
    {
     "name": "stderr",
     "output_type": "stream",
     "text": [
      "Training: 100%|██████████| 346/346 [00:09<00:00, 37.09it/s, Loss=0.7514446377754211, Elapsed=9.5167s, ETA=0.0000s] \n",
      "Validating: 100%|██████████| 75/75 [00:02<00:00, 35.00it/s, Loss=0.5012195110321045, Elapsed=2.3207s, ETA=0.0000s] \n"
     ]
    },
    {
     "name": "stdout",
     "output_type": "stream",
     "text": [
      "Epoch 17 completed in 12.0386s\n",
      "Train Loss: 0.6345543926850908 - Train Accuracy: 72.096967504127\n",
      "Validation Loss: 0.7556989673773448 - Validation Accuracy: 65.29126213592234\n",
      "\n",
      "Epoch 18/100\n"
     ]
    },
    {
     "name": "stderr",
     "output_type": "stream",
     "text": [
      "Training: 100%|██████████| 346/346 [00:09<00:00, 36.20it/s, Loss=0.6396288275718689, Elapsed=9.7485s, ETA=0.0000s] \n",
      "Validating: 100%|██████████| 75/75 [00:02<00:00, 33.58it/s, Loss=1.0604197978973389, Elapsed=2.4043s, ETA=0.0000s]\n"
     ]
    },
    {
     "name": "stdout",
     "output_type": "stream",
     "text": [
      "Epoch 18 completed in 12.3354s\n",
      "Train Loss: 0.6248458514496081 - Train Accuracy: 72.54697994165667\n",
      "Validation Loss: 0.7926273949941 - Validation Accuracy: 71.87631912199241\n",
      "\n",
      "EarlyStopping counter: 1/7\n",
      "Epoch 19/100\n"
     ]
    },
    {
     "name": "stderr",
     "output_type": "stream",
     "text": [
      "Training: 100%|██████████| 346/346 [00:09<00:00, 35.72it/s, Loss=0.5404059886932373, Elapsed=9.8719s, ETA=0.0000s] \n",
      "Validating: 100%|██████████| 75/75 [00:02<00:00, 31.61it/s, Loss=0.9124206304550171, Elapsed=2.5352s, ETA=0.0000s]"
     ]
    },
    {
     "name": "stdout",
     "output_type": "stream",
     "text": [
      "Epoch 19 completed in 12.6119s\n",
      "Train Loss: 0.614784833151481 - Train Accuracy: 72.95854910562855\n",
      "Validation Loss: 0.7240199073155721 - Validation Accuracy: 71.24314056563951\n",
      "\n",
      "Epoch 20/100\n"
     ]
    },
    {
     "name": "stderr",
     "output_type": "stream",
     "text": [
      "\n",
      "Training: 100%|██████████| 346/346 [00:09<00:00, 35.30it/s, Loss=0.5814708471298218, Elapsed=9.9952s, ETA=0.0000s] \n",
      "Validating: 100%|██████████| 75/75 [00:02<00:00, 30.52it/s, Loss=0.55951988697052, Elapsed=2.6328s, ETA=0.0000s]  \n"
     ]
    },
    {
     "name": "stdout",
     "output_type": "stream",
     "text": [
      "Epoch 20 completed in 12.8213s\n",
      "Train Loss: 0.6085282496117443 - Train Accuracy: 73.1846860089098\n",
      "Validation Loss: 0.7179693571726481 - Validation Accuracy: 71.15871675812579\n",
      "\n",
      "Epoch 21/100\n"
     ]
    },
    {
     "name": "stderr",
     "output_type": "stream",
     "text": [
      "Training: 100%|██████████| 346/346 [00:10<00:00, 31.92it/s, Loss=0.45236507058143616, Elapsed=11.0222s, ETA=0.0000s]\n",
      "Validating: 100%|██████████| 75/75 [00:02<00:00, 30.38it/s, Loss=0.44396886229515076, Elapsed=2.6447s, ETA=0.0000s]"
     ]
    },
    {
     "name": "stdout",
     "output_type": "stream",
     "text": [
      "Epoch 21 completed in 13.8603s\n",
      "Train Loss: 0.58781413019048 - Train Accuracy: 73.86309671875352\n",
      "Validation Loss: 0.7450625662008922 - Validation Accuracy: 70.2511608273533\n",
      "\n",
      "EarlyStopping counter: 1/7\n",
      "Epoch 22/100\n"
     ]
    },
    {
     "name": "stderr",
     "output_type": "stream",
     "text": [
      "\n",
      "Training: 100%|██████████| 346/346 [00:09<00:00, 35.54it/s, Loss=0.5406660437583923, Elapsed=9.9295s, ETA=0.0000s] \n",
      "Validating: 100%|██████████| 75/75 [00:02<00:00, 31.72it/s, Loss=0.5290853977203369, Elapsed=2.5393s, ETA=0.0000s] \n"
     ]
    },
    {
     "name": "stdout",
     "output_type": "stream",
     "text": [
      "Epoch 22 completed in 12.6458s\n",
      "Train Loss: 0.5770406751446642 - Train Accuracy: 74.35833653693946\n",
      "Validation Loss: 0.7761376146475474 - Validation Accuracy: 74.01857323765302\n",
      "\n",
      "EarlyStopping counter: 2/7\n",
      "Epoch 23/100\n"
     ]
    },
    {
     "name": "stderr",
     "output_type": "stream",
     "text": [
      "Training: 100%|██████████| 346/346 [00:09<00:00, 35.76it/s, Loss=0.7225691676139832, Elapsed=9.8524s, ETA=0.0000s] \n",
      "Validating: 100%|██████████| 75/75 [00:02<00:00, 34.32it/s, Loss=0.3860207498073578, Elapsed=2.3763s, ETA=0.0000s] "
     ]
    },
    {
     "name": "stdout",
     "output_type": "stream",
     "text": [
      "Epoch 23 completed in 12.4238s\n",
      "Train Loss: 0.5679768286860747 - Train Accuracy: 74.5844734402207\n",
      "Validation Loss: 0.7415811284383138 - Validation Accuracy: 70.36724356268468\n",
      "\n",
      "EarlyStopping counter: 3/7\n",
      "Epoch 24/100\n"
     ]
    },
    {
     "name": "stderr",
     "output_type": "stream",
     "text": [
      "\n",
      "Training: 100%|██████████| 346/346 [00:09<00:00, 35.18it/s, Loss=0.4723837375640869, Elapsed=10.0332s, ETA=0.0000s]\n",
      "Validating: 100%|██████████| 75/75 [00:02<00:00, 33.62it/s, Loss=0.6459869742393494, Elapsed=2.4017s, ETA=0.0000s] \n"
     ]
    },
    {
     "name": "stdout",
     "output_type": "stream",
     "text": [
      "Epoch 24 completed in 12.6336s\n",
      "Train Loss: 0.5561120980392301 - Train Accuracy: 75.08649736550508\n",
      "Validation Loss: 0.7412772476673126 - Validation Accuracy: 69.77627691008864\n",
      "\n",
      "EarlyStopping counter: 4/7\n",
      "Epoch 25/100\n"
     ]
    },
    {
     "name": "stderr",
     "output_type": "stream",
     "text": [
      "Training: 100%|██████████| 346/346 [00:09<00:00, 35.29it/s, Loss=0.5385770201683044, Elapsed=9.9719s, ETA=0.0000s] \n",
      "Validating: 100%|██████████| 75/75 [00:02<00:00, 35.37it/s, Loss=0.7116504311561584, Elapsed=2.2757s, ETA=0.0000s]"
     ]
    },
    {
     "name": "stdout",
     "output_type": "stream",
     "text": [
      "Epoch 25 completed in 12.4684s\n",
      "Train Loss: 0.5430836945427635 - Train Accuracy: 75.6699305759707\n",
      "Validation Loss: 0.9066136678059896 - Validation Accuracy: 70.29337273111017\n",
      "\n",
      "EarlyStopping counter: 5/7\n",
      "Epoch 26/100\n"
     ]
    },
    {
     "name": "stderr",
     "output_type": "stream",
     "text": [
      "\n",
      "Training: 100%|██████████| 346/346 [00:09<00:00, 36.96it/s, Loss=0.6357072591781616, Elapsed=9.5445s, ETA=0.0000s] \n",
      "Validating: 100%|██████████| 75/75 [00:02<00:00, 35.60it/s, Loss=0.49348175525665283, Elapsed=2.2858s, ETA=0.0000s]"
     ]
    },
    {
     "name": "stdout",
     "output_type": "stream",
     "text": [
      "Epoch 26 completed in 12.0219s\n",
      "Train Loss: 0.5317346479506851 - Train Accuracy: 75.93224938377693\n",
      "Validation Loss: 0.7044719346364339 - Validation Accuracy: 73.49092444069227\n",
      "\n",
      "Epoch 27/100\n"
     ]
    },
    {
     "name": "stderr",
     "output_type": "stream",
     "text": [
      "\n",
      "Training: 100%|██████████| 346/346 [00:09<00:00, 36.88it/s, Loss=0.4939899146556854, Elapsed=9.5414s, ETA=0.0000s] \n",
      "Validating: 100%|██████████| 75/75 [00:02<00:00, 33.35it/s, Loss=0.37033867835998535, Elapsed=2.4304s, ETA=0.0000s]"
     ]
    },
    {
     "name": "stdout",
     "output_type": "stream",
     "text": [
      "Epoch 27 completed in 12.1846s\n",
      "Train Loss: 0.5217841328740809 - Train Accuracy: 76.40035277356911\n",
      "Validation Loss: 0.7060398435592652 - Validation Accuracy: 69.96623047699451\n",
      "\n",
      "EarlyStopping counter: 1/7\n",
      "Epoch 28/100\n"
     ]
    },
    {
     "name": "stderr",
     "output_type": "stream",
     "text": [
      "\n",
      "Training: 100%|██████████| 346/346 [00:10<00:00, 34.10it/s, Loss=0.449698805809021, Elapsed=10.3123s, ETA=0.0000s]  \n",
      "Validating: 100%|██████████| 75/75 [00:02<00:00, 34.20it/s, Loss=0.7417343854904175, Elapsed=2.3750s, ETA=0.0000s]\n"
     ]
    },
    {
     "name": "stdout",
     "output_type": "stream",
     "text": [
      "Epoch 28 completed in 12.8993s\n",
      "Train Loss: 0.5117405758083211 - Train Accuracy: 76.58804640329255\n",
      "Validation Loss: 0.7778131214777628 - Validation Accuracy: 72.45673279864921\n",
      "\n",
      "EarlyStopping counter: 2/7\n",
      "Epoch 29/100\n"
     ]
    },
    {
     "name": "stderr",
     "output_type": "stream",
     "text": [
      "Training: 100%|██████████| 346/346 [00:09<00:00, 34.91it/s, Loss=0.5016657114028931, Elapsed=10.1102s, ETA=0.0000s]\n",
      "Validating: 100%|██████████| 75/75 [00:02<00:00, 34.92it/s, Loss=0.45841649174690247, Elapsed=2.3084s, ETA=0.0000s]\n"
     ]
    },
    {
     "name": "stdout",
     "output_type": "stream",
     "text": [
      "Epoch 29 completed in 12.6059s\n",
      "Train Loss: 0.5145172004754832 - Train Accuracy: 76.65362610524411\n",
      "Validation Loss: 0.7521551764011383 - Validation Accuracy: 74.55677501055298\n",
      "\n",
      "EarlyStopping counter: 3/7\n",
      "Epoch 30/100\n"
     ]
    },
    {
     "name": "stderr",
     "output_type": "stream",
     "text": [
      "Training: 100%|██████████| 346/346 [00:10<00:00, 33.61it/s, Loss=0.5643067359924316, Elapsed=10.4746s, ETA=0.0000s] \n",
      "Validating: 100%|██████████| 75/75 [00:02<00:00, 32.65it/s, Loss=0.12972241640090942, Elapsed=2.4820s, ETA=0.0000s]"
     ]
    },
    {
     "name": "stdout",
     "output_type": "stream",
     "text": [
      "Epoch 30 completed in 13.1478s\n",
      "Train Loss: 0.4916842939019892 - Train Accuracy: 77.20992288731598\n",
      "Validation Loss: 0.7593159528573354 - Validation Accuracy: 70.26171380329252\n",
      "\n",
      "EarlyStopping counter: 4/7\n",
      "Epoch 31/100\n"
     ]
    },
    {
     "name": "stderr",
     "output_type": "stream",
     "text": [
      "\n",
      "Training: 100%|██████████| 346/346 [00:10<00:00, 32.00it/s, Loss=0.48155248165130615, Elapsed=10.9988s, ETA=0.0000s]\n",
      "Validating: 100%|██████████| 75/75 [00:02<00:00, 35.46it/s, Loss=0.3397068977355957, Elapsed=2.3122s, ETA=0.0000s]"
     ]
    },
    {
     "name": "stdout",
     "output_type": "stream",
     "text": [
      "Epoch 31 completed in 13.5131s\n",
      "Train Loss: 0.47761351516136547 - Train Accuracy: 77.94486782298003\n",
      "Validation Loss: 0.7033229279518127 - Validation Accuracy: 72.31954411143943\n",
      "\n",
      "Epoch 32/100\n"
     ]
    },
    {
     "name": "stderr",
     "output_type": "stream",
     "text": [
      "\n",
      "Training: 100%|██████████| 346/346 [00:09<00:00, 35.59it/s, Loss=0.5717640519142151, Elapsed=9.8983s, ETA=0.0000s] \n",
      "Validating: 100%|██████████| 75/75 [00:02<00:00, 33.88it/s, Loss=0.4487462043762207, Elapsed=2.3900s, ETA=0.0000s] \n"
     ]
    },
    {
     "name": "stdout",
     "output_type": "stream",
     "text": [
      "Epoch 32 completed in 12.4881s\n",
      "Train Loss: 0.4780598177730693 - Train Accuracy: 77.84084484747066\n",
      "Validation Loss: 0.703267389535904 - Validation Accuracy: 72.74166314900802\n",
      "\n",
      "Epoch 33/100\n"
     ]
    },
    {
     "name": "stderr",
     "output_type": "stream",
     "text": [
      "Training: 100%|██████████| 346/346 [00:09<00:00, 35.23it/s, Loss=0.5535711050033569, Elapsed=10.0119s, ETA=0.0000s]\n",
      "Validating: 100%|██████████| 75/75 [00:02<00:00, 31.89it/s, Loss=0.18640904128551483, Elapsed=2.5213s, ETA=0.0000s]"
     ]
    },
    {
     "name": "stdout",
     "output_type": "stream",
     "text": [
      "Epoch 33 completed in 12.7267s\n",
      "Train Loss: 0.4677299659031664 - Train Accuracy: 78.34286877275503\n",
      "Validation Loss: 0.679182891647021 - Validation Accuracy: 70.9476572393415\n",
      "\n",
      "Epoch 34/100\n"
     ]
    },
    {
     "name": "stderr",
     "output_type": "stream",
     "text": [
      "\n",
      "Training: 100%|██████████| 346/346 [00:10<00:00, 32.39it/s, Loss=0.2682248055934906, Elapsed=10.8297s, ETA=0.0000s] \n",
      "Validating: 100%|██████████| 75/75 [00:02<00:00, 34.82it/s, Loss=0.24950926005840302, Elapsed=2.3125s, ETA=0.0000s]\n"
     ]
    },
    {
     "name": "stdout",
     "output_type": "stream",
     "text": [
      "Epoch 34 completed in 13.3626s\n",
      "Train Loss: 0.462975064540185 - Train Accuracy: 78.53282377151127\n",
      "Validation Loss: 0.8896205526590347 - Validation Accuracy: 69.91346559729844\n",
      "\n",
      "EarlyStopping counter: 1/7\n",
      "Epoch 35/100\n"
     ]
    },
    {
     "name": "stderr",
     "output_type": "stream",
     "text": [
      "Training: 100%|██████████| 346/346 [00:09<00:00, 34.98it/s, Loss=0.6257780194282532, Elapsed=10.0673s, ETA=0.0000s] \n",
      "Validating: 100%|██████████| 75/75 [00:02<00:00, 33.25it/s, Loss=0.35275498032569885, Elapsed=2.4337s, ETA=0.0000s]"
     ]
    },
    {
     "name": "stdout",
     "output_type": "stream",
     "text": [
      "Epoch 35 completed in 12.6916s\n",
      "Train Loss: 0.45314235132553676 - Train Accuracy: 78.87655186449877\n",
      "Validation Loss: 0.7239995161692302 - Validation Accuracy: 72.76276910088644\n",
      "\n",
      "EarlyStopping counter: 2/7\n",
      "Epoch 36/100\n"
     ]
    },
    {
     "name": "stderr",
     "output_type": "stream",
     "text": [
      "\n",
      "Training: 100%|██████████| 346/346 [00:09<00:00, 35.01it/s, Loss=0.570757269859314, Elapsed=10.0682s, ETA=0.0000s]  \n",
      "Validating: 100%|██████████| 75/75 [00:02<00:00, 33.30it/s, Loss=0.5223344564437866, Elapsed=2.4294s, ETA=0.0000s] "
     ]
    },
    {
     "name": "stdout",
     "output_type": "stream",
     "text": [
      "Epoch 36 completed in 12.6901s\n",
      "Train Loss: 0.44197675801081465 - Train Accuracy: 79.22254132651906\n",
      "Validation Loss: 0.8375889607270559 - Validation Accuracy: 73.723089911355\n",
      "\n",
      "EarlyStopping counter: 3/7\n",
      "Epoch 37/100\n"
     ]
    },
    {
     "name": "stderr",
     "output_type": "stream",
     "text": [
      "\n",
      "Training: 100%|██████████| 346/346 [00:10<00:00, 33.66it/s, Loss=0.2830885052680969, Elapsed=10.4602s, ETA=0.0000s] \n",
      "Validating: 100%|██████████| 75/75 [00:02<00:00, 31.24it/s, Loss=0.6615160703659058, Elapsed=2.5663s, ETA=0.0000s]"
     ]
    },
    {
     "name": "stdout",
     "output_type": "stream",
     "text": [
      "Epoch 37 completed in 13.2289s\n",
      "Train Loss: 0.44042282900369234 - Train Accuracy: 79.38083715881594\n",
      "Validation Loss: 0.7186236508687337 - Validation Accuracy: 73.05825242718447\n",
      "\n",
      "EarlyStopping counter: 4/7\n",
      "Epoch 38/100\n"
     ]
    },
    {
     "name": "stderr",
     "output_type": "stream",
     "text": [
      "\n",
      "Training: 100%|██████████| 346/346 [00:09<00:00, 35.23it/s, Loss=0.4205317497253418, Elapsed=10.0153s, ETA=0.0000s]\n",
      "Validating: 100%|██████████| 75/75 [00:02<00:00, 30.09it/s, Loss=0.283017098903656, Elapsed=2.6644s, ETA=0.0000s] "
     ]
    },
    {
     "name": "stdout",
     "output_type": "stream",
     "text": [
      "Epoch 38 completed in 12.8783s\n",
      "Train Loss: 0.4281289816074978 - Train Accuracy: 79.74491757309875\n",
      "Validation Loss: 0.7702754982312521 - Validation Accuracy: 70.43056141831997\n",
      "\n",
      "EarlyStopping counter: 5/7\n",
      "Epoch 39/100\n"
     ]
    },
    {
     "name": "stderr",
     "output_type": "stream",
     "text": [
      "\n",
      "Training: 100%|██████████| 346/346 [00:10<00:00, 33.15it/s, Loss=0.5384063720703125, Elapsed=10.5758s, ETA=0.0000s] \n",
      "Validating: 100%|██████████| 75/75 [00:02<00:00, 33.60it/s, Loss=0.10187633335590363, Elapsed=2.4170s, ETA=0.0000s]"
     ]
    },
    {
     "name": "stdout",
     "output_type": "stream",
     "text": [
      "Epoch 39 completed in 13.2292s\n",
      "Train Loss: 0.4233869340895228 - Train Accuracy: 80.00045227380656\n",
      "Validation Loss: 0.893725090622902 - Validation Accuracy: 69.49134655972983\n",
      "\n",
      "EarlyStopping counter: 6/7\n",
      "Epoch 40/100\n"
     ]
    },
    {
     "name": "stderr",
     "output_type": "stream",
     "text": [
      "\n",
      "Training: 100%|██████████| 346/346 [00:09<00:00, 35.99it/s, Loss=0.5726662874221802, Elapsed=9.8030s, ETA=0.0000s] \n",
      "Validating: 100%|██████████| 75/75 [00:02<00:00, 35.24it/s, Loss=0.36839452385902405, Elapsed=2.3095s, ETA=0.0000s]\n"
     ]
    },
    {
     "name": "stdout",
     "output_type": "stream",
     "text": [
      "Epoch 40 completed in 12.3037s\n",
      "Train Loss: 0.4167773876059262 - Train Accuracy: 80.14517989190657\n",
      "Validation Loss: 0.8074925716718038 - Validation Accuracy: 74.6517517940059\n",
      "\n",
      "EarlyStopping counter: 7/7\n",
      "🔁 Early stopping triggered!\n"
     ]
    },
    {
     "data": {
      "image/png": "[encoded data removed]",
      "text/plain": [
       "<Figure size 640x480 with 1 Axes>"
      ]
     },
     "metadata": {},
     "output_type": "display_data"
    },
    {
     "data": {
      "image/png": "[encoded data removed]",
      "text/plain": [
       "<Figure size 640x480 with 1 Axes>"
      ]
     },
     "metadata": {},
     "output_type": "display_data"
    },
    {
     "name": "stdout",
     "output_type": "stream",
     "text": [
      "Evaluating best model on test set...\n"
     ]
    },
    {
     "name": "stderr",
     "output_type": "stream",
     "text": [
      "Testing: 100%|██████████| 75/75 [00:02<00:00, 29.49it/s]\n"
     ]
    },
    {
     "name": "stdout",
     "output_type": "stream",
     "text": [
      "Test Accuracy: 0.7393\n",
      "Test Precision: 0.7608\n",
      "Test Recall: 0.7393\n",
      "Test F1-score: 0.7402\n",
      "\n",
      "              precision    recall  f1-score   support\n",
      "\n",
      "       Anger       0.79      0.77      0.78       916\n",
      "       Bored       0.75      0.92      0.83      1098\n",
      "     Disgust       0.80      0.49      0.61       291\n",
      "        Fear       0.43      0.75      0.55       308\n",
      "       Happy       0.82      0.60      0.69      1914\n",
      "     Neutral       0.64      0.77      0.70      2226\n",
      "    Question       0.90      0.81      0.85      1139\n",
      "         Sad       0.86      0.68      0.76       857\n",
      "    Surprise       0.74      0.77      0.76       728\n",
      "\n",
      "    accuracy                           0.74      9477\n",
      "   macro avg       0.75      0.73      0.72      9477\n",
      "weighted avg       0.76      0.74      0.74      9477\n",
      "\n"
     ]
    },
    {
     "data": {
      "image/png": "[encoded data removed]",
      "text/plain": [
       "<Figure size 1000x800 with 2 Axes>"
      ]
     },
     "metadata": {},
     "output_type": "display_data"
    }
   ],
   "source": [
    "Pipeline.execute(\n",
    "    model=model,\n",
    "    labelmap=trainset.label_map,\n",
    "    trainloader=trainloader,\n",
    "    valloader=valloader,\n",
    "    testloader=testloader,\n",
    "    criterion=criterion,\n",
    "    optimizer=optimizer,\n",
    "    device=device,\n",
    "    num_epochs=num_epochs,\n",
    "    model_name=model_name,\n",
    "    patience=7\n",
    ")"
   ]
  }
 ],
 "metadata": {
  "kernelspec": {
   "display_name": "Python 3 (ipykernel)",
   "language": "python",
   "name": "python3"
  },
  "language_info": {
   "codemirror_mode": {
    "name": "ipython",
    "version": 3
   },
   "file_extension": ".py",
   "mimetype": "text/x-python",
   "name": "python",
   "nbconvert_exporter": "python",
   "pygments_lexer": "ipython3",
   "version": "3.11.6"
  }
 },
 "nbformat": 4,
 "nbformat_minor": 4
}
