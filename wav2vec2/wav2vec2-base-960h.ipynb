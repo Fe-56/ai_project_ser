{
 "cells": [
  {
   "cell_type": "markdown",
   "metadata": {},
   "source": [
    "# Wav2Vec2 transfer learning on wav2vec2-base-960h"
   ]
  },
  {
   "cell_type": "code",
   "execution_count": 1,
   "metadata": {},
   "outputs": [
    {
     "name": "stderr",
     "output_type": "stream",
     "text": [
      "c:\\Users\\profi\\OneDrive\\Desktop\\AI-Project--Speech-Emotion-Recognition\\myenv\\lib\\site-packages\\tqdm\\auto.py:21: TqdmWarning: IProgress not found. Please update jupyter and ipywidgets. See https://ipywidgets.readthedocs.io/en/stable/user_install.html\n",
      "  from .autonotebook import tqdm as notebook_tqdm\n"
     ]
    }
   ],
   "source": [
    "import pandas as pd\n",
    "import numpy as np\n",
    "import seaborn as sns\n",
    "import matplotlib.pyplot as plt\n",
    "import torch\n",
    "import random\n",
    "from transformers import Wav2Vec2Processor, Trainer, TrainingArguments, Wav2Vec2ForSequenceClassification\n",
    "from sklearn.metrics import accuracy_score, precision_recall_fscore_support, confusion_matrix"
   ]
  },
  {
   "cell_type": "code",
   "execution_count": 2,
   "metadata": {},
   "outputs": [],
   "source": [
    "# Set seed for reproducibility\n",
    "seed = 42\n",
    "random.seed(seed)\n",
    "np.random.seed(seed)\n",
    "torch.manual_seed(seed)\n",
    "if torch.cuda.is_available():\n",
    "    torch.cuda.manual_seed_all(seed)"
   ]
  },
  {
   "cell_type": "code",
   "execution_count": 3,
   "metadata": {},
   "outputs": [
    {
     "name": "stdout",
     "output_type": "stream",
     "text": [
      "2.5.1+cu121\n",
      "True\n"
     ]
    }
   ],
   "source": [
    "print(torch.__version__)\n",
    "print(torch.cuda.is_available())"
   ]
  },
  {
   "cell_type": "markdown",
   "metadata": {},
   "source": [
    "## Load Dataset"
   ]
  },
  {
   "cell_type": "code",
   "execution_count": 4,
   "metadata": {},
   "outputs": [],
   "source": [
    "df_train = pd.read_csv('../data/train_dataset.csv')\n",
    "df_train = df_train[['Filepath', 'Emotion']]\n",
    "df_val = pd.read_csv('../data/val_dataset.csv')\n",
    "df_val = df_val[['Filepath', 'Emotion']]\n",
    "df_test = pd.read_csv('../data/test_dataset.csv')\n",
    "df_test = df_test[['Filepath', 'Emotion']]"
   ]
  },
  {
   "cell_type": "code",
   "execution_count": 5,
   "metadata": {},
   "outputs": [
    {
     "data": {
      "application/vnd.microsoft.datawrangler.viewer.v0+json": {
       "columns": [
        {
         "name": "index",
         "rawType": "int64",
         "type": "integer"
        },
        {
         "name": "Filepath",
         "rawType": "object",
         "type": "string"
        },
        {
         "name": "Emotion",
         "rawType": "object",
         "type": "string"
        }
       ],
       "conversionMethod": "pd.DataFrame",
       "ref": "746adee8-ab6f-40e6-9515-3d98f0660d56",
       "rows": [
        [
         "0",
         "./dataset/mlend\\MLEndSND_Public\\11093.wav",
         "Question"
        ],
        [
         "1",
         "./dataset/crema-d\\AudioWAV\\1011_TAI_ANG_XX.wav",
         "Anger"
        ],
        [
         "2",
         "./dataset/mlend\\MLEndSND_Public\\27019.wav",
         "Neutral"
        ],
        [
         "3",
         "./dataset/mlend\\MLEndSND_Public\\23420.wav",
         "Bored"
        ],
        [
         "4",
         "./dataset/crema-d\\AudioWAV\\1077_ITH_ANG_XX.wav",
         "Anger"
        ],
        [
         "5",
         "./dataset/tess\\YAF_fear\\YAF_pad_fear.wav",
         "Fear"
        ],
        [
         "6",
         "./dataset/meld\\train\\dia954_utt2.mp4",
         "Neutral"
        ],
        [
         "7",
         "./dataset/tess\\OAF_angry\\OAF_check_angry.wav",
         "Anger"
        ],
        [
         "8",
         "./dataset/mlend\\MLEndSND_Public\\01160.wav",
         "Neutral"
        ],
        [
         "9",
         "./dataset/mlend\\MLEndSND_Public\\08931.wav",
         "Bored"
        ],
        [
         "10",
         "./dataset/meld\\train\\dia110_utt0.mp4",
         "Neutral"
        ],
        [
         "11",
         "./dataset/crema-d\\AudioWAV\\1079_TSI_SAD_XX.wav",
         "Sad"
        ],
        [
         "12",
         "./dataset/esd\\0014\\Neutral\\0014_000216.wav",
         "Neutral"
        ],
        [
         "13",
         "./dataset/mlend\\MLEndSND_Public\\20933.wav",
         "Neutral"
        ],
        [
         "14",
         "./dataset/mlend\\MLEndSND_Public\\32461.wav",
         "Neutral"
        ],
        [
         "15",
         "./dataset/crema-d\\AudioWAV\\1009_ITS_DIS_XX.wav",
         "Disgust"
        ],
        [
         "16",
         "./dataset/mlend\\MLEndSND_Public\\00304.wav",
         "Neutral"
        ],
        [
         "17",
         "./dataset/meld\\train\\dia915_utt5.mp4",
         "Neutral"
        ],
        [
         "18",
         "./dataset/meld\\train\\dia562_utt6.mp4",
         "Neutral"
        ],
        [
         "19",
         "./dataset/mlend\\MLEndSND_Public\\21215.wav",
         "Happy"
        ],
        [
         "20",
         "./dataset/esd\\0019\\Neutral\\0019_000063.wav",
         "Neutral"
        ],
        [
         "21",
         "./dataset/crema-d\\AudioWAV\\1017_IEO_FEA_LO.wav",
         "Fear"
        ],
        [
         "22",
         "./dataset/esd\\0016\\Surprise\\0016_001661.wav",
         "Surprise"
        ],
        [
         "23",
         "./dataset/tess\\YAF_angry\\YAF_live_angry.wav",
         "Anger"
        ],
        [
         "24",
         "./dataset/ravdess\\Actor_16\\03-01-03-01-02-02-16.wav",
         "Happy"
        ],
        [
         "25",
         "./dataset/esd\\0018\\Surprise\\0018_001552.wav",
         "Surprise"
        ],
        [
         "26",
         "./dataset/mlend\\MLEndSND_Public\\09988.wav",
         "Bored"
        ],
        [
         "27",
         "./dataset/esd\\0019\\Sad\\0019_001386.wav",
         "Sad"
        ],
        [
         "28",
         "./dataset/mlend\\MLEndSND_Public\\28053.wav",
         "Bored"
        ],
        [
         "29",
         "./dataset/mlend\\MLEndSND_Public\\07002.wav",
         "Question"
        ],
        [
         "30",
         "./dataset/meld\\train\\dia827_utt1.mp4",
         "Happy"
        ],
        [
         "31",
         "./dataset/meld\\train\\dia961_utt3.mp4",
         "Anger"
        ],
        [
         "32",
         "./dataset/esd\\0020\\Angry\\0020_000669.wav",
         "Anger"
        ],
        [
         "33",
         "./dataset/mlend\\MLEndSND_Public\\27233.wav",
         "Question"
        ],
        [
         "34",
         "./dataset/mlend\\MLEndSND_Public\\04728.wav",
         "Happy"
        ],
        [
         "35",
         "./dataset/crema-d\\AudioWAV\\1073_DFA_DIS_XX.wav",
         "Disgust"
        ],
        [
         "36",
         "./dataset/mlend\\MLEndSND_Public\\27175.wav",
         "Happy"
        ],
        [
         "37",
         "./dataset/tess\\YAF_angry\\YAF_pole_angry.wav",
         "Anger"
        ],
        [
         "38",
         "./dataset/mlend\\MLEndSND_Public\\03585.wav",
         "Question"
        ],
        [
         "39",
         "./dataset/esd\\0013\\Angry\\0013_000445.wav",
         "Anger"
        ],
        [
         "40",
         "./dataset/mlend\\MLEndSND_Public\\24644.wav",
         "Happy"
        ],
        [
         "41",
         "./dataset/tess\\YAF_fear\\YAF_cause_fear.wav",
         "Fear"
        ],
        [
         "42",
         "./dataset/esd\\0019\\Neutral\\0019_000187.wav",
         "Neutral"
        ],
        [
         "43",
         "./dataset/mlend\\MLEndSND_Public\\23854.wav",
         "Bored"
        ],
        [
         "44",
         "./dataset/crema-d\\AudioWAV\\1077_TIE_SAD_XX.wav",
         "Sad"
        ],
        [
         "45",
         "./dataset/mlend\\MLEndSND_Public\\11468.wav",
         "Neutral"
        ],
        [
         "46",
         "./dataset/mlend\\MLEndSND_Public\\41356.wav",
         "Happy"
        ],
        [
         "47",
         "./dataset/crema-d\\AudioWAV\\1037_IEO_DIS_LO.wav",
         "Disgust"
        ],
        [
         "48",
         "./dataset/mlend\\MLEndSND_Public\\46042.wav",
         "Question"
        ],
        [
         "49",
         "./dataset/meld\\train\\dia1029_utt3.mp4",
         "Surprise"
        ]
       ],
       "shape": {
        "columns": 2,
        "rows": 44221
       }
      },
      "text/html": [
       "<div>\n",
       "<style scoped>\n",
       "    .dataframe tbody tr th:only-of-type {\n",
       "        vertical-align: middle;\n",
       "    }\n",
       "\n",
       "    .dataframe tbody tr th {\n",
       "        vertical-align: top;\n",
       "    }\n",
       "\n",
       "    .dataframe thead th {\n",
       "        text-align: right;\n",
       "    }\n",
       "</style>\n",
       "<table border=\"1\" class=\"dataframe\">\n",
       "  <thead>\n",
       "    <tr style=\"text-align: right;\">\n",
       "      <th></th>\n",
       "      <th>Filepath</th>\n",
       "      <th>Emotion</th>\n",
       "    </tr>\n",
       "  </thead>\n",
       "  <tbody>\n",
       "    <tr>\n",
       "      <th>0</th>\n",
       "      <td>./dataset/mlend\\MLEndSND_Public\\11093.wav</td>\n",
       "      <td>Question</td>\n",
       "    </tr>\n",
       "    <tr>\n",
       "      <th>1</th>\n",
       "      <td>./dataset/crema-d\\AudioWAV\\1011_TAI_ANG_XX.wav</td>\n",
       "      <td>Anger</td>\n",
       "    </tr>\n",
       "    <tr>\n",
       "      <th>2</th>\n",
       "      <td>./dataset/mlend\\MLEndSND_Public\\27019.wav</td>\n",
       "      <td>Neutral</td>\n",
       "    </tr>\n",
       "    <tr>\n",
       "      <th>3</th>\n",
       "      <td>./dataset/mlend\\MLEndSND_Public\\23420.wav</td>\n",
       "      <td>Bored</td>\n",
       "    </tr>\n",
       "    <tr>\n",
       "      <th>4</th>\n",
       "      <td>./dataset/crema-d\\AudioWAV\\1077_ITH_ANG_XX.wav</td>\n",
       "      <td>Anger</td>\n",
       "    </tr>\n",
       "    <tr>\n",
       "      <th>...</th>\n",
       "      <td>...</td>\n",
       "      <td>...</td>\n",
       "    </tr>\n",
       "    <tr>\n",
       "      <th>44216</th>\n",
       "      <td>./dataset/meld\\train\\dia873_utt1.mp4</td>\n",
       "      <td>Neutral</td>\n",
       "    </tr>\n",
       "    <tr>\n",
       "      <th>44217</th>\n",
       "      <td>./dataset/esd\\0015\\Happy\\0015_000807.wav</td>\n",
       "      <td>Happy</td>\n",
       "    </tr>\n",
       "    <tr>\n",
       "      <th>44218</th>\n",
       "      <td>./dataset/mlend\\MLEndSND_Public\\40154.wav</td>\n",
       "      <td>Neutral</td>\n",
       "    </tr>\n",
       "    <tr>\n",
       "      <th>44219</th>\n",
       "      <td>./dataset/esd\\0017\\Sad\\0017_001347.wav</td>\n",
       "      <td>Sad</td>\n",
       "    </tr>\n",
       "    <tr>\n",
       "      <th>44220</th>\n",
       "      <td>./dataset/mlend\\MLEndSND_Public\\01986.wav</td>\n",
       "      <td>Happy</td>\n",
       "    </tr>\n",
       "  </tbody>\n",
       "</table>\n",
       "<p>44221 rows × 2 columns</p>\n",
       "</div>"
      ],
      "text/plain": [
       "                                             Filepath   Emotion\n",
       "0           ./dataset/mlend\\MLEndSND_Public\\11093.wav  Question\n",
       "1      ./dataset/crema-d\\AudioWAV\\1011_TAI_ANG_XX.wav     Anger\n",
       "2           ./dataset/mlend\\MLEndSND_Public\\27019.wav   Neutral\n",
       "3           ./dataset/mlend\\MLEndSND_Public\\23420.wav     Bored\n",
       "4      ./dataset/crema-d\\AudioWAV\\1077_ITH_ANG_XX.wav     Anger\n",
       "...                                               ...       ...\n",
       "44216            ./dataset/meld\\train\\dia873_utt1.mp4   Neutral\n",
       "44217        ./dataset/esd\\0015\\Happy\\0015_000807.wav     Happy\n",
       "44218       ./dataset/mlend\\MLEndSND_Public\\40154.wav   Neutral\n",
       "44219          ./dataset/esd\\0017\\Sad\\0017_001347.wav       Sad\n",
       "44220       ./dataset/mlend\\MLEndSND_Public\\01986.wav     Happy\n",
       "\n",
       "[44221 rows x 2 columns]"
      ]
     },
     "execution_count": 5,
     "metadata": {},
     "output_type": "execute_result"
    }
   ],
   "source": [
    "df_train"
   ]
  },
  {
   "cell_type": "code",
   "execution_count": 6,
   "metadata": {},
   "outputs": [
    {
     "data": {
      "application/vnd.microsoft.datawrangler.viewer.v0+json": {
       "columns": [
        {
         "name": "index",
         "rawType": "int64",
         "type": "integer"
        },
        {
         "name": "Filepath",
         "rawType": "object",
         "type": "string"
        },
        {
         "name": "Emotion",
         "rawType": "object",
         "type": "string"
        }
       ],
       "conversionMethod": "pd.DataFrame",
       "ref": "4c5294be-cd0f-42a6-a346-9fd2418cf49c",
       "rows": [
        [
         "0",
         "./dataset/esd\\0020\\Sad\\0020_001395.wav",
         "Sad"
        ],
        [
         "1",
         "./dataset/meld\\train\\dia930_utt5.mp4",
         "Neutral"
        ],
        [
         "2",
         "./dataset/mlend\\MLEndSND_Public\\24481.wav",
         "Bored"
        ],
        [
         "3",
         "./dataset/crema-d\\AudioWAV\\1002_IEO_SAD_HI.wav",
         "Sad"
        ],
        [
         "4",
         "./dataset/esd\\0011\\Angry\\0011_000373.wav",
         "Anger"
        ],
        [
         "5",
         "./dataset/crema-d\\AudioWAV\\1050_IWL_SAD_XX.wav",
         "Sad"
        ],
        [
         "6",
         "./dataset/tess\\OAF_neutral\\OAF_lease_neutral.wav",
         "Neutral"
        ],
        [
         "7",
         "./dataset/crema-d\\AudioWAV\\1033_DFA_SAD_XX.wav",
         "Sad"
        ],
        [
         "8",
         "./dataset/crema-d\\AudioWAV\\1059_IEO_NEU_XX.wav",
         "Neutral"
        ],
        [
         "9",
         "./dataset/esd\\0014\\Angry\\0014_000503.wav",
         "Anger"
        ],
        [
         "10",
         "./dataset/ravdess\\Actor_20\\03-01-04-01-02-02-20.wav",
         "Sad"
        ],
        [
         "11",
         "./dataset/mlend\\MLEndSND_Public\\41268.wav",
         "Happy"
        ],
        [
         "12",
         "./dataset/esd\\0016\\Surprise\\0016_001715.wav",
         "Surprise"
        ],
        [
         "13",
         "./dataset/esd\\0011\\Happy\\0011_000935.wav",
         "Happy"
        ],
        [
         "14",
         "./dataset/esd\\0018\\Sad\\0018_001210.wav",
         "Sad"
        ],
        [
         "15",
         "./dataset/crema-d\\AudioWAV\\1079_IWL_SAD_XX.wav",
         "Sad"
        ],
        [
         "16",
         "./dataset/esd\\0019\\Angry\\0019_000646.wav",
         "Anger"
        ],
        [
         "17",
         "./dataset/mlend\\MLEndSND_Public\\31175.wav",
         "Bored"
        ],
        [
         "18",
         "./dataset/mlend\\MLEndSND_Public\\37494.wav",
         "Question"
        ],
        [
         "19",
         "./dataset/esd\\0017\\Sad\\0017_001154.wav",
         "Sad"
        ],
        [
         "20",
         "./dataset/mlend\\MLEndSND_Public\\12125.wav",
         "Happy"
        ],
        [
         "21",
         "./dataset/meld\\train\\dia1036_utt12.mp4",
         "Neutral"
        ],
        [
         "22",
         "./dataset/esd\\0012\\Sad\\0012_001194.wav",
         "Sad"
        ],
        [
         "23",
         "./dataset/esd\\0015\\Neutral\\0015_000079.wav",
         "Neutral"
        ],
        [
         "24",
         "./dataset/mlend\\MLEndSND_Public\\07613.wav",
         "Happy"
        ],
        [
         "25",
         "./dataset/mlend\\MLEndSND_Public\\10182.wav",
         "Happy"
        ],
        [
         "26",
         "./dataset/mlend\\MLEndSND_Public\\30464.wav",
         "Neutral"
        ],
        [
         "27",
         "./dataset/tess\\YAF_pleasant_surprised\\YAF_keen_ps.wav",
         "Surprise"
        ],
        [
         "28",
         "./dataset/meld\\train\\dia806_utt0.mp4",
         "Surprise"
        ],
        [
         "29",
         "./dataset/ravdess\\Actor_09\\03-01-01-01-02-01-09.wav",
         "Neutral"
        ],
        [
         "30",
         "./dataset/mlend\\MLEndSND_Public\\32504.wav",
         "Neutral"
        ],
        [
         "31",
         "./dataset/mlend\\MLEndSND_Public\\08221.wav",
         "Bored"
        ],
        [
         "32",
         "./dataset/mlend\\MLEndSND_Public\\11843.wav",
         "Question"
        ],
        [
         "33",
         "./dataset/mlend\\MLEndSND_Public\\26478.wav",
         "Question"
        ],
        [
         "34",
         "./dataset/esd\\0020\\Angry\\0020_000520.wav",
         "Anger"
        ],
        [
         "35",
         "./dataset/mlend\\MLEndSND_Public\\03991.wav",
         "Question"
        ],
        [
         "36",
         "./dataset/crema-d\\AudioWAV\\1062_IOM_SAD_XX.wav",
         "Sad"
        ],
        [
         "37",
         "./dataset/mlend\\MLEndSND_Public\\42670.wav",
         "Question"
        ],
        [
         "38",
         "./dataset/crema-d\\AudioWAV\\1078_IEO_ANG_MD.wav",
         "Anger"
        ],
        [
         "39",
         "./dataset/esd\\0020\\Angry\\0020_000575.wav",
         "Anger"
        ],
        [
         "40",
         "./dataset/esd\\0013\\Neutral\\0013_000174.wav",
         "Neutral"
        ],
        [
         "41",
         "./dataset/esd\\0018\\Surprise\\0018_001519.wav",
         "Surprise"
        ],
        [
         "42",
         "./dataset/mlend\\MLEndSND_Public\\03212.wav",
         "Neutral"
        ],
        [
         "43",
         "./dataset/tess\\OAF_disgust\\OAF_room_disgust.wav",
         "Disgust"
        ],
        [
         "44",
         "./dataset/mlend\\MLEndSND_Public\\19669.wav",
         "Bored"
        ],
        [
         "45",
         "./dataset/esd\\0014\\Happy\\0014_000858.wav",
         "Happy"
        ],
        [
         "46",
         "./dataset/meld\\train\\dia47_utt12.mp4",
         "Neutral"
        ],
        [
         "47",
         "./dataset/crema-d\\AudioWAV\\1001_IEO_ANG_MD.wav",
         "Anger"
        ],
        [
         "48",
         "./dataset/crema-d\\AudioWAV\\1006_IWW_ANG_XX.wav",
         "Anger"
        ],
        [
         "49",
         "./dataset/esd\\0013\\Angry\\0013_000468.wav",
         "Anger"
        ]
       ],
       "shape": {
        "columns": 2,
        "rows": 9476
       }
      },
      "text/html": [
       "<div>\n",
       "<style scoped>\n",
       "    .dataframe tbody tr th:only-of-type {\n",
       "        vertical-align: middle;\n",
       "    }\n",
       "\n",
       "    .dataframe tbody tr th {\n",
       "        vertical-align: top;\n",
       "    }\n",
       "\n",
       "    .dataframe thead th {\n",
       "        text-align: right;\n",
       "    }\n",
       "</style>\n",
       "<table border=\"1\" class=\"dataframe\">\n",
       "  <thead>\n",
       "    <tr style=\"text-align: right;\">\n",
       "      <th></th>\n",
       "      <th>Filepath</th>\n",
       "      <th>Emotion</th>\n",
       "    </tr>\n",
       "  </thead>\n",
       "  <tbody>\n",
       "    <tr>\n",
       "      <th>0</th>\n",
       "      <td>./dataset/esd\\0020\\Sad\\0020_001395.wav</td>\n",
       "      <td>Sad</td>\n",
       "    </tr>\n",
       "    <tr>\n",
       "      <th>1</th>\n",
       "      <td>./dataset/meld\\train\\dia930_utt5.mp4</td>\n",
       "      <td>Neutral</td>\n",
       "    </tr>\n",
       "    <tr>\n",
       "      <th>2</th>\n",
       "      <td>./dataset/mlend\\MLEndSND_Public\\24481.wav</td>\n",
       "      <td>Bored</td>\n",
       "    </tr>\n",
       "    <tr>\n",
       "      <th>3</th>\n",
       "      <td>./dataset/crema-d\\AudioWAV\\1002_IEO_SAD_HI.wav</td>\n",
       "      <td>Sad</td>\n",
       "    </tr>\n",
       "    <tr>\n",
       "      <th>4</th>\n",
       "      <td>./dataset/esd\\0011\\Angry\\0011_000373.wav</td>\n",
       "      <td>Anger</td>\n",
       "    </tr>\n",
       "    <tr>\n",
       "      <th>...</th>\n",
       "      <td>...</td>\n",
       "      <td>...</td>\n",
       "    </tr>\n",
       "    <tr>\n",
       "      <th>9471</th>\n",
       "      <td>./dataset/tess\\YAF_disgust\\YAF_take_disgust.wav</td>\n",
       "      <td>Disgust</td>\n",
       "    </tr>\n",
       "    <tr>\n",
       "      <th>9472</th>\n",
       "      <td>./dataset/mlend\\MLEndSND_Public\\43418.wav</td>\n",
       "      <td>Bored</td>\n",
       "    </tr>\n",
       "    <tr>\n",
       "      <th>9473</th>\n",
       "      <td>./dataset/mlend\\MLEndSND_Public\\02459.wav</td>\n",
       "      <td>Bored</td>\n",
       "    </tr>\n",
       "    <tr>\n",
       "      <th>9474</th>\n",
       "      <td>./dataset/mlend\\MLEndSND_Public\\10609.wav</td>\n",
       "      <td>Question</td>\n",
       "    </tr>\n",
       "    <tr>\n",
       "      <th>9475</th>\n",
       "      <td>./dataset/mlend\\MLEndSND_Public\\23072.wav</td>\n",
       "      <td>Question</td>\n",
       "    </tr>\n",
       "  </tbody>\n",
       "</table>\n",
       "<p>9476 rows × 2 columns</p>\n",
       "</div>"
      ],
      "text/plain": [
       "                                             Filepath   Emotion\n",
       "0              ./dataset/esd\\0020\\Sad\\0020_001395.wav       Sad\n",
       "1                ./dataset/meld\\train\\dia930_utt5.mp4   Neutral\n",
       "2           ./dataset/mlend\\MLEndSND_Public\\24481.wav     Bored\n",
       "3      ./dataset/crema-d\\AudioWAV\\1002_IEO_SAD_HI.wav       Sad\n",
       "4            ./dataset/esd\\0011\\Angry\\0011_000373.wav     Anger\n",
       "...                                               ...       ...\n",
       "9471  ./dataset/tess\\YAF_disgust\\YAF_take_disgust.wav   Disgust\n",
       "9472        ./dataset/mlend\\MLEndSND_Public\\43418.wav     Bored\n",
       "9473        ./dataset/mlend\\MLEndSND_Public\\02459.wav     Bored\n",
       "9474        ./dataset/mlend\\MLEndSND_Public\\10609.wav  Question\n",
       "9475        ./dataset/mlend\\MLEndSND_Public\\23072.wav  Question\n",
       "\n",
       "[9476 rows x 2 columns]"
      ]
     },
     "execution_count": 6,
     "metadata": {},
     "output_type": "execute_result"
    }
   ],
   "source": [
    "df_val"
   ]
  },
  {
   "cell_type": "code",
   "execution_count": 7,
   "metadata": {},
   "outputs": [
    {
     "data": {
      "application/vnd.microsoft.datawrangler.viewer.v0+json": {
       "columns": [
        {
         "name": "index",
         "rawType": "int64",
         "type": "integer"
        },
        {
         "name": "Filepath",
         "rawType": "object",
         "type": "string"
        },
        {
         "name": "Emotion",
         "rawType": "object",
         "type": "string"
        }
       ],
       "conversionMethod": "pd.DataFrame",
       "ref": "600cc387-684c-498b-85fc-d06aac3c4ea9",
       "rows": [
        [
         "0",
         "./dataset/mlend\\MLEndSND_Public\\01620.wav",
         "Neutral"
        ],
        [
         "1",
         "./dataset/jl-corpus/Raw JL corpus (unchecked and unannotated)/JL(wav+txt)\\male1_sad_5a_1.wav",
         "Sad"
        ],
        [
         "2",
         "./dataset/mlend\\MLEndSND_Public\\04997.wav",
         "Question"
        ],
        [
         "3",
         "./dataset/esd\\0018\\Surprise\\0018_001454.wav",
         "Surprise"
        ],
        [
         "4",
         "./dataset/mlend\\MLEndSND_Public\\05521.wav",
         "Neutral"
        ],
        [
         "5",
         "./dataset/mlend\\MLEndSND_Public\\02888.wav",
         "Question"
        ],
        [
         "6",
         "./dataset/mlend\\MLEndSND_Public\\33135.wav",
         "Neutral"
        ],
        [
         "7",
         "./dataset/crema-d\\AudioWAV\\1052_TAI_ANG_XX.wav",
         "Anger"
        ],
        [
         "8",
         "./dataset/esd\\0017\\Neutral\\0017_000228.wav",
         "Neutral"
        ],
        [
         "9",
         "./dataset/savee\\JK_a12.wav",
         "Anger"
        ],
        [
         "10",
         "./dataset/mlend\\MLEndSND_Public\\26373.wav",
         "Neutral"
        ],
        [
         "11",
         "./dataset/mlend\\MLEndSND_Public\\13399.wav",
         "Neutral"
        ],
        [
         "12",
         "./dataset/mlend\\MLEndSND_Public\\40183.wav",
         "Question"
        ],
        [
         "13",
         "./dataset/mlend\\MLEndSND_Public\\44409.wav",
         "Neutral"
        ],
        [
         "14",
         "./dataset/esd\\0013\\Angry\\0013_000646.wav",
         "Anger"
        ],
        [
         "15",
         "./dataset/esd\\0019\\Angry\\0019_000427.wav",
         "Anger"
        ],
        [
         "16",
         "./dataset/mlend\\MLEndSND_Public\\31361.wav",
         "Question"
        ],
        [
         "17",
         "./dataset/esd\\0019\\Neutral\\0019_000020.wav",
         "Neutral"
        ],
        [
         "18",
         "./dataset/mlend\\MLEndSND_Public\\20417.wav",
         "Bored"
        ],
        [
         "19",
         "./dataset/esd\\0020\\Surprise\\0020_001662.wav",
         "Surprise"
        ],
        [
         "20",
         "./dataset/mlend\\MLEndSND_Public\\39199.wav",
         "Question"
        ],
        [
         "21",
         "./dataset/meld\\train\\dia319_utt22.mp4",
         "Disgust"
        ],
        [
         "22",
         "./dataset/mlend\\MLEndSND_Public\\29318.wav",
         "Happy"
        ],
        [
         "23",
         "./dataset/mlend\\MLEndSND_Public\\36191.wav",
         "Happy"
        ],
        [
         "24",
         "./dataset/mlend\\MLEndSND_Public\\21860.wav",
         "Bored"
        ],
        [
         "25",
         "./dataset/mlend\\MLEndSND_Public\\26708.wav",
         "Happy"
        ],
        [
         "26",
         "./dataset/meld\\train\\dia990_utt16.mp4",
         "Happy"
        ],
        [
         "27",
         "./dataset/crema-d\\AudioWAV\\1067_ITS_DIS_XX.wav",
         "Disgust"
        ],
        [
         "28",
         "./dataset/esd\\0013\\Neutral\\0013_000156.wav",
         "Neutral"
        ],
        [
         "29",
         "./dataset/esd\\0012\\Surprise\\0012_001429.wav",
         "Surprise"
        ],
        [
         "30",
         "./dataset/jl-corpus/Raw JL corpus (unchecked and unannotated)/JL(wav+txt)\\male1_angry_10b_2.wav",
         "Anger"
        ],
        [
         "31",
         "./dataset/esd\\0011\\Angry\\0011_000461.wav",
         "Anger"
        ],
        [
         "32",
         "./dataset/mlend\\MLEndSND_Public\\37804.wav",
         "Question"
        ],
        [
         "33",
         "./dataset/mlend\\MLEndSND_Public\\11073.wav",
         "Question"
        ],
        [
         "34",
         "./dataset/esd\\0014\\Sad\\0014_001209.wav",
         "Sad"
        ],
        [
         "35",
         "./dataset/tess\\OAF_Fear\\OAF_tough_fear.wav",
         "Fear"
        ],
        [
         "36",
         "./dataset/esd\\0015\\Angry\\0015_000440.wav",
         "Anger"
        ],
        [
         "37",
         "./dataset/mlend\\MLEndSND_Public\\21924.wav",
         "Question"
        ],
        [
         "38",
         "./dataset/mlend\\MLEndSND_Public\\05973.wav",
         "Question"
        ],
        [
         "39",
         "./dataset/esd\\0014\\Happy\\0014_000883.wav",
         "Happy"
        ],
        [
         "40",
         "./dataset/meld\\train\\dia431_utt8.mp4",
         "Happy"
        ],
        [
         "41",
         "./dataset/meld\\train\\dia130_utt6.mp4",
         "Neutral"
        ],
        [
         "42",
         "./dataset/esd\\0012\\Sad\\0012_001196.wav",
         "Sad"
        ],
        [
         "43",
         "./dataset/mlend\\MLEndSND_Public\\03452.wav",
         "Bored"
        ],
        [
         "44",
         "./dataset/mlend\\MLEndSND_Public\\30559.wav",
         "Neutral"
        ],
        [
         "45",
         "./dataset/esd\\0011\\Neutral\\0011_000339.wav",
         "Neutral"
        ],
        [
         "46",
         "./dataset/mlend\\MLEndSND_Public\\28855.wav",
         "Bored"
        ],
        [
         "47",
         "./dataset/crema-d\\AudioWAV\\1028_IOM_HAP_XX.wav",
         "Happy"
        ],
        [
         "48",
         "./dataset/esd\\0016\\Neutral\\0016_000191.wav",
         "Neutral"
        ],
        [
         "49",
         "./dataset/mlend\\MLEndSND_Public\\27806.wav",
         "Bored"
        ]
       ],
       "shape": {
        "columns": 2,
        "rows": 9477
       }
      },
      "text/html": [
       "<div>\n",
       "<style scoped>\n",
       "    .dataframe tbody tr th:only-of-type {\n",
       "        vertical-align: middle;\n",
       "    }\n",
       "\n",
       "    .dataframe tbody tr th {\n",
       "        vertical-align: top;\n",
       "    }\n",
       "\n",
       "    .dataframe thead th {\n",
       "        text-align: right;\n",
       "    }\n",
       "</style>\n",
       "<table border=\"1\" class=\"dataframe\">\n",
       "  <thead>\n",
       "    <tr style=\"text-align: right;\">\n",
       "      <th></th>\n",
       "      <th>Filepath</th>\n",
       "      <th>Emotion</th>\n",
       "    </tr>\n",
       "  </thead>\n",
       "  <tbody>\n",
       "    <tr>\n",
       "      <th>0</th>\n",
       "      <td>./dataset/mlend\\MLEndSND_Public\\01620.wav</td>\n",
       "      <td>Neutral</td>\n",
       "    </tr>\n",
       "    <tr>\n",
       "      <th>1</th>\n",
       "      <td>./dataset/jl-corpus/Raw JL corpus (unchecked a...</td>\n",
       "      <td>Sad</td>\n",
       "    </tr>\n",
       "    <tr>\n",
       "      <th>2</th>\n",
       "      <td>./dataset/mlend\\MLEndSND_Public\\04997.wav</td>\n",
       "      <td>Question</td>\n",
       "    </tr>\n",
       "    <tr>\n",
       "      <th>3</th>\n",
       "      <td>./dataset/esd\\0018\\Surprise\\0018_001454.wav</td>\n",
       "      <td>Surprise</td>\n",
       "    </tr>\n",
       "    <tr>\n",
       "      <th>4</th>\n",
       "      <td>./dataset/mlend\\MLEndSND_Public\\05521.wav</td>\n",
       "      <td>Neutral</td>\n",
       "    </tr>\n",
       "    <tr>\n",
       "      <th>...</th>\n",
       "      <td>...</td>\n",
       "      <td>...</td>\n",
       "    </tr>\n",
       "    <tr>\n",
       "      <th>9472</th>\n",
       "      <td>./dataset/tess\\YAF_pleasant_surprised\\YAF_half...</td>\n",
       "      <td>Surprise</td>\n",
       "    </tr>\n",
       "    <tr>\n",
       "      <th>9473</th>\n",
       "      <td>./dataset/esd\\0019\\Angry\\0019_000651.wav</td>\n",
       "      <td>Anger</td>\n",
       "    </tr>\n",
       "    <tr>\n",
       "      <th>9474</th>\n",
       "      <td>./dataset/mlend\\MLEndSND_Public\\21688.wav</td>\n",
       "      <td>Neutral</td>\n",
       "    </tr>\n",
       "    <tr>\n",
       "      <th>9475</th>\n",
       "      <td>./dataset/esd\\0020\\Angry\\0020_000377.wav</td>\n",
       "      <td>Anger</td>\n",
       "    </tr>\n",
       "    <tr>\n",
       "      <th>9476</th>\n",
       "      <td>./dataset/mlend\\MLEndSND_Public\\44715.wav</td>\n",
       "      <td>Question</td>\n",
       "    </tr>\n",
       "  </tbody>\n",
       "</table>\n",
       "<p>9477 rows × 2 columns</p>\n",
       "</div>"
      ],
      "text/plain": [
       "                                               Filepath   Emotion\n",
       "0             ./dataset/mlend\\MLEndSND_Public\\01620.wav   Neutral\n",
       "1     ./dataset/jl-corpus/Raw JL corpus (unchecked a...       Sad\n",
       "2             ./dataset/mlend\\MLEndSND_Public\\04997.wav  Question\n",
       "3           ./dataset/esd\\0018\\Surprise\\0018_001454.wav  Surprise\n",
       "4             ./dataset/mlend\\MLEndSND_Public\\05521.wav   Neutral\n",
       "...                                                 ...       ...\n",
       "9472  ./dataset/tess\\YAF_pleasant_surprised\\YAF_half...  Surprise\n",
       "9473           ./dataset/esd\\0019\\Angry\\0019_000651.wav     Anger\n",
       "9474          ./dataset/mlend\\MLEndSND_Public\\21688.wav   Neutral\n",
       "9475           ./dataset/esd\\0020\\Angry\\0020_000377.wav     Anger\n",
       "9476          ./dataset/mlend\\MLEndSND_Public\\44715.wav  Question\n",
       "\n",
       "[9477 rows x 2 columns]"
      ]
     },
     "execution_count": 7,
     "metadata": {},
     "output_type": "execute_result"
    }
   ],
   "source": [
    "df_test"
   ]
  },
  {
   "cell_type": "code",
   "execution_count": 8,
   "metadata": {},
   "outputs": [
    {
     "name": "stdout",
     "output_type": "stream",
     "text": [
      "{'Anger': 0, 'Bored': 1, 'Disgust': 2, 'Fear': 3, 'Happy': 4, 'Neutral': 5, 'Question': 6, 'Sad': 7, 'Surprise': 8}\n"
     ]
    }
   ],
   "source": [
    "# Convert labels to integers\n",
    "unique_labels = sorted(df_train['Emotion'].unique())  \n",
    "label_map = {label: idx for idx, label in enumerate(unique_labels)}\n",
    "print(label_map)\n",
    "\n",
    "df_train['Emotion'] = df_train['Emotion'].map(label_map)\n",
    "df_val['Emotion'] = df_val['Emotion'].map(label_map)\n",
    "df_test['Emotion'] = df_test['Emotion'].map(label_map)"
   ]
  },
  {
   "cell_type": "code",
   "execution_count": 9,
   "metadata": {},
   "outputs": [
    {
     "data": {
      "application/vnd.microsoft.datawrangler.viewer.v0+json": {
       "columns": [
        {
         "name": "index",
         "rawType": "int64",
         "type": "integer"
        },
        {
         "name": "Filepath",
         "rawType": "object",
         "type": "string"
        },
        {
         "name": "Emotion",
         "rawType": "int64",
         "type": "integer"
        }
       ],
       "conversionMethod": "pd.DataFrame",
       "ref": "fe8da127-008b-447e-a5ff-39d955543bef",
       "rows": [
        [
         "0",
         "./dataset/mlend\\MLEndSND_Public\\11093.wav",
         "6"
        ],
        [
         "1",
         "./dataset/crema-d\\AudioWAV\\1011_TAI_ANG_XX.wav",
         "0"
        ],
        [
         "2",
         "./dataset/mlend\\MLEndSND_Public\\27019.wav",
         "5"
        ],
        [
         "3",
         "./dataset/mlend\\MLEndSND_Public\\23420.wav",
         "1"
        ],
        [
         "4",
         "./dataset/crema-d\\AudioWAV\\1077_ITH_ANG_XX.wav",
         "0"
        ],
        [
         "5",
         "./dataset/tess\\YAF_fear\\YAF_pad_fear.wav",
         "3"
        ],
        [
         "6",
         "./dataset/meld\\train\\dia954_utt2.mp4",
         "5"
        ],
        [
         "7",
         "./dataset/tess\\OAF_angry\\OAF_check_angry.wav",
         "0"
        ],
        [
         "8",
         "./dataset/mlend\\MLEndSND_Public\\01160.wav",
         "5"
        ],
        [
         "9",
         "./dataset/mlend\\MLEndSND_Public\\08931.wav",
         "1"
        ],
        [
         "10",
         "./dataset/meld\\train\\dia110_utt0.mp4",
         "5"
        ],
        [
         "11",
         "./dataset/crema-d\\AudioWAV\\1079_TSI_SAD_XX.wav",
         "7"
        ],
        [
         "12",
         "./dataset/esd\\0014\\Neutral\\0014_000216.wav",
         "5"
        ],
        [
         "13",
         "./dataset/mlend\\MLEndSND_Public\\20933.wav",
         "5"
        ],
        [
         "14",
         "./dataset/mlend\\MLEndSND_Public\\32461.wav",
         "5"
        ],
        [
         "15",
         "./dataset/crema-d\\AudioWAV\\1009_ITS_DIS_XX.wav",
         "2"
        ],
        [
         "16",
         "./dataset/mlend\\MLEndSND_Public\\00304.wav",
         "5"
        ],
        [
         "17",
         "./dataset/meld\\train\\dia915_utt5.mp4",
         "5"
        ],
        [
         "18",
         "./dataset/meld\\train\\dia562_utt6.mp4",
         "5"
        ],
        [
         "19",
         "./dataset/mlend\\MLEndSND_Public\\21215.wav",
         "4"
        ],
        [
         "20",
         "./dataset/esd\\0019\\Neutral\\0019_000063.wav",
         "5"
        ],
        [
         "21",
         "./dataset/crema-d\\AudioWAV\\1017_IEO_FEA_LO.wav",
         "3"
        ],
        [
         "22",
         "./dataset/esd\\0016\\Surprise\\0016_001661.wav",
         "8"
        ],
        [
         "23",
         "./dataset/tess\\YAF_angry\\YAF_live_angry.wav",
         "0"
        ],
        [
         "24",
         "./dataset/ravdess\\Actor_16\\03-01-03-01-02-02-16.wav",
         "4"
        ],
        [
         "25",
         "./dataset/esd\\0018\\Surprise\\0018_001552.wav",
         "8"
        ],
        [
         "26",
         "./dataset/mlend\\MLEndSND_Public\\09988.wav",
         "1"
        ],
        [
         "27",
         "./dataset/esd\\0019\\Sad\\0019_001386.wav",
         "7"
        ],
        [
         "28",
         "./dataset/mlend\\MLEndSND_Public\\28053.wav",
         "1"
        ],
        [
         "29",
         "./dataset/mlend\\MLEndSND_Public\\07002.wav",
         "6"
        ],
        [
         "30",
         "./dataset/meld\\train\\dia827_utt1.mp4",
         "4"
        ],
        [
         "31",
         "./dataset/meld\\train\\dia961_utt3.mp4",
         "0"
        ],
        [
         "32",
         "./dataset/esd\\0020\\Angry\\0020_000669.wav",
         "0"
        ],
        [
         "33",
         "./dataset/mlend\\MLEndSND_Public\\27233.wav",
         "6"
        ],
        [
         "34",
         "./dataset/mlend\\MLEndSND_Public\\04728.wav",
         "4"
        ],
        [
         "35",
         "./dataset/crema-d\\AudioWAV\\1073_DFA_DIS_XX.wav",
         "2"
        ],
        [
         "36",
         "./dataset/mlend\\MLEndSND_Public\\27175.wav",
         "4"
        ],
        [
         "37",
         "./dataset/tess\\YAF_angry\\YAF_pole_angry.wav",
         "0"
        ],
        [
         "38",
         "./dataset/mlend\\MLEndSND_Public\\03585.wav",
         "6"
        ],
        [
         "39",
         "./dataset/esd\\0013\\Angry\\0013_000445.wav",
         "0"
        ],
        [
         "40",
         "./dataset/mlend\\MLEndSND_Public\\24644.wav",
         "4"
        ],
        [
         "41",
         "./dataset/tess\\YAF_fear\\YAF_cause_fear.wav",
         "3"
        ],
        [
         "42",
         "./dataset/esd\\0019\\Neutral\\0019_000187.wav",
         "5"
        ],
        [
         "43",
         "./dataset/mlend\\MLEndSND_Public\\23854.wav",
         "1"
        ],
        [
         "44",
         "./dataset/crema-d\\AudioWAV\\1077_TIE_SAD_XX.wav",
         "7"
        ],
        [
         "45",
         "./dataset/mlend\\MLEndSND_Public\\11468.wav",
         "5"
        ],
        [
         "46",
         "./dataset/mlend\\MLEndSND_Public\\41356.wav",
         "4"
        ],
        [
         "47",
         "./dataset/crema-d\\AudioWAV\\1037_IEO_DIS_LO.wav",
         "2"
        ],
        [
         "48",
         "./dataset/mlend\\MLEndSND_Public\\46042.wav",
         "6"
        ],
        [
         "49",
         "./dataset/meld\\train\\dia1029_utt3.mp4",
         "8"
        ]
       ],
       "shape": {
        "columns": 2,
        "rows": 44221
       }
      },
      "text/html": [
       "<div>\n",
       "<style scoped>\n",
       "    .dataframe tbody tr th:only-of-type {\n",
       "        vertical-align: middle;\n",
       "    }\n",
       "\n",
       "    .dataframe tbody tr th {\n",
       "        vertical-align: top;\n",
       "    }\n",
       "\n",
       "    .dataframe thead th {\n",
       "        text-align: right;\n",
       "    }\n",
       "</style>\n",
       "<table border=\"1\" class=\"dataframe\">\n",
       "  <thead>\n",
       "    <tr style=\"text-align: right;\">\n",
       "      <th></th>\n",
       "      <th>Filepath</th>\n",
       "      <th>Emotion</th>\n",
       "    </tr>\n",
       "  </thead>\n",
       "  <tbody>\n",
       "    <tr>\n",
       "      <th>0</th>\n",
       "      <td>./dataset/mlend\\MLEndSND_Public\\11093.wav</td>\n",
       "      <td>6</td>\n",
       "    </tr>\n",
       "    <tr>\n",
       "      <th>1</th>\n",
       "      <td>./dataset/crema-d\\AudioWAV\\1011_TAI_ANG_XX.wav</td>\n",
       "      <td>0</td>\n",
       "    </tr>\n",
       "    <tr>\n",
       "      <th>2</th>\n",
       "      <td>./dataset/mlend\\MLEndSND_Public\\27019.wav</td>\n",
       "      <td>5</td>\n",
       "    </tr>\n",
       "    <tr>\n",
       "      <th>3</th>\n",
       "      <td>./dataset/mlend\\MLEndSND_Public\\23420.wav</td>\n",
       "      <td>1</td>\n",
       "    </tr>\n",
       "    <tr>\n",
       "      <th>4</th>\n",
       "      <td>./dataset/crema-d\\AudioWAV\\1077_ITH_ANG_XX.wav</td>\n",
       "      <td>0</td>\n",
       "    </tr>\n",
       "    <tr>\n",
       "      <th>...</th>\n",
       "      <td>...</td>\n",
       "      <td>...</td>\n",
       "    </tr>\n",
       "    <tr>\n",
       "      <th>44216</th>\n",
       "      <td>./dataset/meld\\train\\dia873_utt1.mp4</td>\n",
       "      <td>5</td>\n",
       "    </tr>\n",
       "    <tr>\n",
       "      <th>44217</th>\n",
       "      <td>./dataset/esd\\0015\\Happy\\0015_000807.wav</td>\n",
       "      <td>4</td>\n",
       "    </tr>\n",
       "    <tr>\n",
       "      <th>44218</th>\n",
       "      <td>./dataset/mlend\\MLEndSND_Public\\40154.wav</td>\n",
       "      <td>5</td>\n",
       "    </tr>\n",
       "    <tr>\n",
       "      <th>44219</th>\n",
       "      <td>./dataset/esd\\0017\\Sad\\0017_001347.wav</td>\n",
       "      <td>7</td>\n",
       "    </tr>\n",
       "    <tr>\n",
       "      <th>44220</th>\n",
       "      <td>./dataset/mlend\\MLEndSND_Public\\01986.wav</td>\n",
       "      <td>4</td>\n",
       "    </tr>\n",
       "  </tbody>\n",
       "</table>\n",
       "<p>44221 rows × 2 columns</p>\n",
       "</div>"
      ],
      "text/plain": [
       "                                             Filepath  Emotion\n",
       "0           ./dataset/mlend\\MLEndSND_Public\\11093.wav        6\n",
       "1      ./dataset/crema-d\\AudioWAV\\1011_TAI_ANG_XX.wav        0\n",
       "2           ./dataset/mlend\\MLEndSND_Public\\27019.wav        5\n",
       "3           ./dataset/mlend\\MLEndSND_Public\\23420.wav        1\n",
       "4      ./dataset/crema-d\\AudioWAV\\1077_ITH_ANG_XX.wav        0\n",
       "...                                               ...      ...\n",
       "44216            ./dataset/meld\\train\\dia873_utt1.mp4        5\n",
       "44217        ./dataset/esd\\0015\\Happy\\0015_000807.wav        4\n",
       "44218       ./dataset/mlend\\MLEndSND_Public\\40154.wav        5\n",
       "44219          ./dataset/esd\\0017\\Sad\\0017_001347.wav        7\n",
       "44220       ./dataset/mlend\\MLEndSND_Public\\01986.wav        4\n",
       "\n",
       "[44221 rows x 2 columns]"
      ]
     },
     "execution_count": 9,
     "metadata": {},
     "output_type": "execute_result"
    }
   ],
   "source": [
    "df_train"
   ]
  },
  {
   "cell_type": "code",
   "execution_count": 10,
   "metadata": {},
   "outputs": [
    {
     "data": {
      "application/vnd.microsoft.datawrangler.viewer.v0+json": {
       "columns": [
        {
         "name": "index",
         "rawType": "int64",
         "type": "integer"
        },
        {
         "name": "Filepath",
         "rawType": "object",
         "type": "string"
        },
        {
         "name": "Emotion",
         "rawType": "int64",
         "type": "integer"
        }
       ],
       "conversionMethod": "pd.DataFrame",
       "ref": "ca9ef8c5-91d0-43fb-939f-8ec47c652e30",
       "rows": [
        [
         "0",
         "./dataset/esd\\0020\\Sad\\0020_001395.wav",
         "7"
        ],
        [
         "1",
         "./dataset/meld\\train\\dia930_utt5.mp4",
         "5"
        ],
        [
         "2",
         "./dataset/mlend\\MLEndSND_Public\\24481.wav",
         "1"
        ],
        [
         "3",
         "./dataset/crema-d\\AudioWAV\\1002_IEO_SAD_HI.wav",
         "7"
        ],
        [
         "4",
         "./dataset/esd\\0011\\Angry\\0011_000373.wav",
         "0"
        ],
        [
         "5",
         "./dataset/crema-d\\AudioWAV\\1050_IWL_SAD_XX.wav",
         "7"
        ],
        [
         "6",
         "./dataset/tess\\OAF_neutral\\OAF_lease_neutral.wav",
         "5"
        ],
        [
         "7",
         "./dataset/crema-d\\AudioWAV\\1033_DFA_SAD_XX.wav",
         "7"
        ],
        [
         "8",
         "./dataset/crema-d\\AudioWAV\\1059_IEO_NEU_XX.wav",
         "5"
        ],
        [
         "9",
         "./dataset/esd\\0014\\Angry\\0014_000503.wav",
         "0"
        ],
        [
         "10",
         "./dataset/ravdess\\Actor_20\\03-01-04-01-02-02-20.wav",
         "7"
        ],
        [
         "11",
         "./dataset/mlend\\MLEndSND_Public\\41268.wav",
         "4"
        ],
        [
         "12",
         "./dataset/esd\\0016\\Surprise\\0016_001715.wav",
         "8"
        ],
        [
         "13",
         "./dataset/esd\\0011\\Happy\\0011_000935.wav",
         "4"
        ],
        [
         "14",
         "./dataset/esd\\0018\\Sad\\0018_001210.wav",
         "7"
        ],
        [
         "15",
         "./dataset/crema-d\\AudioWAV\\1079_IWL_SAD_XX.wav",
         "7"
        ],
        [
         "16",
         "./dataset/esd\\0019\\Angry\\0019_000646.wav",
         "0"
        ],
        [
         "17",
         "./dataset/mlend\\MLEndSND_Public\\31175.wav",
         "1"
        ],
        [
         "18",
         "./dataset/mlend\\MLEndSND_Public\\37494.wav",
         "6"
        ],
        [
         "19",
         "./dataset/esd\\0017\\Sad\\0017_001154.wav",
         "7"
        ],
        [
         "20",
         "./dataset/mlend\\MLEndSND_Public\\12125.wav",
         "4"
        ],
        [
         "21",
         "./dataset/meld\\train\\dia1036_utt12.mp4",
         "5"
        ],
        [
         "22",
         "./dataset/esd\\0012\\Sad\\0012_001194.wav",
         "7"
        ],
        [
         "23",
         "./dataset/esd\\0015\\Neutral\\0015_000079.wav",
         "5"
        ],
        [
         "24",
         "./dataset/mlend\\MLEndSND_Public\\07613.wav",
         "4"
        ],
        [
         "25",
         "./dataset/mlend\\MLEndSND_Public\\10182.wav",
         "4"
        ],
        [
         "26",
         "./dataset/mlend\\MLEndSND_Public\\30464.wav",
         "5"
        ],
        [
         "27",
         "./dataset/tess\\YAF_pleasant_surprised\\YAF_keen_ps.wav",
         "8"
        ],
        [
         "28",
         "./dataset/meld\\train\\dia806_utt0.mp4",
         "8"
        ],
        [
         "29",
         "./dataset/ravdess\\Actor_09\\03-01-01-01-02-01-09.wav",
         "5"
        ],
        [
         "30",
         "./dataset/mlend\\MLEndSND_Public\\32504.wav",
         "5"
        ],
        [
         "31",
         "./dataset/mlend\\MLEndSND_Public\\08221.wav",
         "1"
        ],
        [
         "32",
         "./dataset/mlend\\MLEndSND_Public\\11843.wav",
         "6"
        ],
        [
         "33",
         "./dataset/mlend\\MLEndSND_Public\\26478.wav",
         "6"
        ],
        [
         "34",
         "./dataset/esd\\0020\\Angry\\0020_000520.wav",
         "0"
        ],
        [
         "35",
         "./dataset/mlend\\MLEndSND_Public\\03991.wav",
         "6"
        ],
        [
         "36",
         "./dataset/crema-d\\AudioWAV\\1062_IOM_SAD_XX.wav",
         "7"
        ],
        [
         "37",
         "./dataset/mlend\\MLEndSND_Public\\42670.wav",
         "6"
        ],
        [
         "38",
         "./dataset/crema-d\\AudioWAV\\1078_IEO_ANG_MD.wav",
         "0"
        ],
        [
         "39",
         "./dataset/esd\\0020\\Angry\\0020_000575.wav",
         "0"
        ],
        [
         "40",
         "./dataset/esd\\0013\\Neutral\\0013_000174.wav",
         "5"
        ],
        [
         "41",
         "./dataset/esd\\0018\\Surprise\\0018_001519.wav",
         "8"
        ],
        [
         "42",
         "./dataset/mlend\\MLEndSND_Public\\03212.wav",
         "5"
        ],
        [
         "43",
         "./dataset/tess\\OAF_disgust\\OAF_room_disgust.wav",
         "2"
        ],
        [
         "44",
         "./dataset/mlend\\MLEndSND_Public\\19669.wav",
         "1"
        ],
        [
         "45",
         "./dataset/esd\\0014\\Happy\\0014_000858.wav",
         "4"
        ],
        [
         "46",
         "./dataset/meld\\train\\dia47_utt12.mp4",
         "5"
        ],
        [
         "47",
         "./dataset/crema-d\\AudioWAV\\1001_IEO_ANG_MD.wav",
         "0"
        ],
        [
         "48",
         "./dataset/crema-d\\AudioWAV\\1006_IWW_ANG_XX.wav",
         "0"
        ],
        [
         "49",
         "./dataset/esd\\0013\\Angry\\0013_000468.wav",
         "0"
        ]
       ],
       "shape": {
        "columns": 2,
        "rows": 9476
       }
      },
      "text/html": [
       "<div>\n",
       "<style scoped>\n",
       "    .dataframe tbody tr th:only-of-type {\n",
       "        vertical-align: middle;\n",
       "    }\n",
       "\n",
       "    .dataframe tbody tr th {\n",
       "        vertical-align: top;\n",
       "    }\n",
       "\n",
       "    .dataframe thead th {\n",
       "        text-align: right;\n",
       "    }\n",
       "</style>\n",
       "<table border=\"1\" class=\"dataframe\">\n",
       "  <thead>\n",
       "    <tr style=\"text-align: right;\">\n",
       "      <th></th>\n",
       "      <th>Filepath</th>\n",
       "      <th>Emotion</th>\n",
       "    </tr>\n",
       "  </thead>\n",
       "  <tbody>\n",
       "    <tr>\n",
       "      <th>0</th>\n",
       "      <td>./dataset/esd\\0020\\Sad\\0020_001395.wav</td>\n",
       "      <td>7</td>\n",
       "    </tr>\n",
       "    <tr>\n",
       "      <th>1</th>\n",
       "      <td>./dataset/meld\\train\\dia930_utt5.mp4</td>\n",
       "      <td>5</td>\n",
       "    </tr>\n",
       "    <tr>\n",
       "      <th>2</th>\n",
       "      <td>./dataset/mlend\\MLEndSND_Public\\24481.wav</td>\n",
       "      <td>1</td>\n",
       "    </tr>\n",
       "    <tr>\n",
       "      <th>3</th>\n",
       "      <td>./dataset/crema-d\\AudioWAV\\1002_IEO_SAD_HI.wav</td>\n",
       "      <td>7</td>\n",
       "    </tr>\n",
       "    <tr>\n",
       "      <th>4</th>\n",
       "      <td>./dataset/esd\\0011\\Angry\\0011_000373.wav</td>\n",
       "      <td>0</td>\n",
       "    </tr>\n",
       "    <tr>\n",
       "      <th>...</th>\n",
       "      <td>...</td>\n",
       "      <td>...</td>\n",
       "    </tr>\n",
       "    <tr>\n",
       "      <th>9471</th>\n",
       "      <td>./dataset/tess\\YAF_disgust\\YAF_take_disgust.wav</td>\n",
       "      <td>2</td>\n",
       "    </tr>\n",
       "    <tr>\n",
       "      <th>9472</th>\n",
       "      <td>./dataset/mlend\\MLEndSND_Public\\43418.wav</td>\n",
       "      <td>1</td>\n",
       "    </tr>\n",
       "    <tr>\n",
       "      <th>9473</th>\n",
       "      <td>./dataset/mlend\\MLEndSND_Public\\02459.wav</td>\n",
       "      <td>1</td>\n",
       "    </tr>\n",
       "    <tr>\n",
       "      <th>9474</th>\n",
       "      <td>./dataset/mlend\\MLEndSND_Public\\10609.wav</td>\n",
       "      <td>6</td>\n",
       "    </tr>\n",
       "    <tr>\n",
       "      <th>9475</th>\n",
       "      <td>./dataset/mlend\\MLEndSND_Public\\23072.wav</td>\n",
       "      <td>6</td>\n",
       "    </tr>\n",
       "  </tbody>\n",
       "</table>\n",
       "<p>9476 rows × 2 columns</p>\n",
       "</div>"
      ],
      "text/plain": [
       "                                             Filepath  Emotion\n",
       "0              ./dataset/esd\\0020\\Sad\\0020_001395.wav        7\n",
       "1                ./dataset/meld\\train\\dia930_utt5.mp4        5\n",
       "2           ./dataset/mlend\\MLEndSND_Public\\24481.wav        1\n",
       "3      ./dataset/crema-d\\AudioWAV\\1002_IEO_SAD_HI.wav        7\n",
       "4            ./dataset/esd\\0011\\Angry\\0011_000373.wav        0\n",
       "...                                               ...      ...\n",
       "9471  ./dataset/tess\\YAF_disgust\\YAF_take_disgust.wav        2\n",
       "9472        ./dataset/mlend\\MLEndSND_Public\\43418.wav        1\n",
       "9473        ./dataset/mlend\\MLEndSND_Public\\02459.wav        1\n",
       "9474        ./dataset/mlend\\MLEndSND_Public\\10609.wav        6\n",
       "9475        ./dataset/mlend\\MLEndSND_Public\\23072.wav        6\n",
       "\n",
       "[9476 rows x 2 columns]"
      ]
     },
     "execution_count": 10,
     "metadata": {},
     "output_type": "execute_result"
    }
   ],
   "source": [
    "df_val"
   ]
  },
  {
   "cell_type": "code",
   "execution_count": 11,
   "metadata": {},
   "outputs": [
    {
     "data": {
      "application/vnd.microsoft.datawrangler.viewer.v0+json": {
       "columns": [
        {
         "name": "index",
         "rawType": "int64",
         "type": "integer"
        },
        {
         "name": "Filepath",
         "rawType": "object",
         "type": "string"
        },
        {
         "name": "Emotion",
         "rawType": "int64",
         "type": "integer"
        }
       ],
       "conversionMethod": "pd.DataFrame",
       "ref": "e115d275-dba4-41ec-a1bc-763a23f46ab7",
       "rows": [
        [
         "0",
         "./dataset/mlend\\MLEndSND_Public\\01620.wav",
         "5"
        ],
        [
         "1",
         "./dataset/jl-corpus/Raw JL corpus (unchecked and unannotated)/JL(wav+txt)\\male1_sad_5a_1.wav",
         "7"
        ],
        [
         "2",
         "./dataset/mlend\\MLEndSND_Public\\04997.wav",
         "6"
        ],
        [
         "3",
         "./dataset/esd\\0018\\Surprise\\0018_001454.wav",
         "8"
        ],
        [
         "4",
         "./dataset/mlend\\MLEndSND_Public\\05521.wav",
         "5"
        ],
        [
         "5",
         "./dataset/mlend\\MLEndSND_Public\\02888.wav",
         "6"
        ],
        [
         "6",
         "./dataset/mlend\\MLEndSND_Public\\33135.wav",
         "5"
        ],
        [
         "7",
         "./dataset/crema-d\\AudioWAV\\1052_TAI_ANG_XX.wav",
         "0"
        ],
        [
         "8",
         "./dataset/esd\\0017\\Neutral\\0017_000228.wav",
         "5"
        ],
        [
         "9",
         "./dataset/savee\\JK_a12.wav",
         "0"
        ],
        [
         "10",
         "./dataset/mlend\\MLEndSND_Public\\26373.wav",
         "5"
        ],
        [
         "11",
         "./dataset/mlend\\MLEndSND_Public\\13399.wav",
         "5"
        ],
        [
         "12",
         "./dataset/mlend\\MLEndSND_Public\\40183.wav",
         "6"
        ],
        [
         "13",
         "./dataset/mlend\\MLEndSND_Public\\44409.wav",
         "5"
        ],
        [
         "14",
         "./dataset/esd\\0013\\Angry\\0013_000646.wav",
         "0"
        ],
        [
         "15",
         "./dataset/esd\\0019\\Angry\\0019_000427.wav",
         "0"
        ],
        [
         "16",
         "./dataset/mlend\\MLEndSND_Public\\31361.wav",
         "6"
        ],
        [
         "17",
         "./dataset/esd\\0019\\Neutral\\0019_000020.wav",
         "5"
        ],
        [
         "18",
         "./dataset/mlend\\MLEndSND_Public\\20417.wav",
         "1"
        ],
        [
         "19",
         "./dataset/esd\\0020\\Surprise\\0020_001662.wav",
         "8"
        ],
        [
         "20",
         "./dataset/mlend\\MLEndSND_Public\\39199.wav",
         "6"
        ],
        [
         "21",
         "./dataset/meld\\train\\dia319_utt22.mp4",
         "2"
        ],
        [
         "22",
         "./dataset/mlend\\MLEndSND_Public\\29318.wav",
         "4"
        ],
        [
         "23",
         "./dataset/mlend\\MLEndSND_Public\\36191.wav",
         "4"
        ],
        [
         "24",
         "./dataset/mlend\\MLEndSND_Public\\21860.wav",
         "1"
        ],
        [
         "25",
         "./dataset/mlend\\MLEndSND_Public\\26708.wav",
         "4"
        ],
        [
         "26",
         "./dataset/meld\\train\\dia990_utt16.mp4",
         "4"
        ],
        [
         "27",
         "./dataset/crema-d\\AudioWAV\\1067_ITS_DIS_XX.wav",
         "2"
        ],
        [
         "28",
         "./dataset/esd\\0013\\Neutral\\0013_000156.wav",
         "5"
        ],
        [
         "29",
         "./dataset/esd\\0012\\Surprise\\0012_001429.wav",
         "8"
        ],
        [
         "30",
         "./dataset/jl-corpus/Raw JL corpus (unchecked and unannotated)/JL(wav+txt)\\male1_angry_10b_2.wav",
         "0"
        ],
        [
         "31",
         "./dataset/esd\\0011\\Angry\\0011_000461.wav",
         "0"
        ],
        [
         "32",
         "./dataset/mlend\\MLEndSND_Public\\37804.wav",
         "6"
        ],
        [
         "33",
         "./dataset/mlend\\MLEndSND_Public\\11073.wav",
         "6"
        ],
        [
         "34",
         "./dataset/esd\\0014\\Sad\\0014_001209.wav",
         "7"
        ],
        [
         "35",
         "./dataset/tess\\OAF_Fear\\OAF_tough_fear.wav",
         "3"
        ],
        [
         "36",
         "./dataset/esd\\0015\\Angry\\0015_000440.wav",
         "0"
        ],
        [
         "37",
         "./dataset/mlend\\MLEndSND_Public\\21924.wav",
         "6"
        ],
        [
         "38",
         "./dataset/mlend\\MLEndSND_Public\\05973.wav",
         "6"
        ],
        [
         "39",
         "./dataset/esd\\0014\\Happy\\0014_000883.wav",
         "4"
        ],
        [
         "40",
         "./dataset/meld\\train\\dia431_utt8.mp4",
         "4"
        ],
        [
         "41",
         "./dataset/meld\\train\\dia130_utt6.mp4",
         "5"
        ],
        [
         "42",
         "./dataset/esd\\0012\\Sad\\0012_001196.wav",
         "7"
        ],
        [
         "43",
         "./dataset/mlend\\MLEndSND_Public\\03452.wav",
         "1"
        ],
        [
         "44",
         "./dataset/mlend\\MLEndSND_Public\\30559.wav",
         "5"
        ],
        [
         "45",
         "./dataset/esd\\0011\\Neutral\\0011_000339.wav",
         "5"
        ],
        [
         "46",
         "./dataset/mlend\\MLEndSND_Public\\28855.wav",
         "1"
        ],
        [
         "47",
         "./dataset/crema-d\\AudioWAV\\1028_IOM_HAP_XX.wav",
         "4"
        ],
        [
         "48",
         "./dataset/esd\\0016\\Neutral\\0016_000191.wav",
         "5"
        ],
        [
         "49",
         "./dataset/mlend\\MLEndSND_Public\\27806.wav",
         "1"
        ]
       ],
       "shape": {
        "columns": 2,
        "rows": 9477
       }
      },
      "text/html": [
       "<div>\n",
       "<style scoped>\n",
       "    .dataframe tbody tr th:only-of-type {\n",
       "        vertical-align: middle;\n",
       "    }\n",
       "\n",
       "    .dataframe tbody tr th {\n",
       "        vertical-align: top;\n",
       "    }\n",
       "\n",
       "    .dataframe thead th {\n",
       "        text-align: right;\n",
       "    }\n",
       "</style>\n",
       "<table border=\"1\" class=\"dataframe\">\n",
       "  <thead>\n",
       "    <tr style=\"text-align: right;\">\n",
       "      <th></th>\n",
       "      <th>Filepath</th>\n",
       "      <th>Emotion</th>\n",
       "    </tr>\n",
       "  </thead>\n",
       "  <tbody>\n",
       "    <tr>\n",
       "      <th>0</th>\n",
       "      <td>./dataset/mlend\\MLEndSND_Public\\01620.wav</td>\n",
       "      <td>5</td>\n",
       "    </tr>\n",
       "    <tr>\n",
       "      <th>1</th>\n",
       "      <td>./dataset/jl-corpus/Raw JL corpus (unchecked a...</td>\n",
       "      <td>7</td>\n",
       "    </tr>\n",
       "    <tr>\n",
       "      <th>2</th>\n",
       "      <td>./dataset/mlend\\MLEndSND_Public\\04997.wav</td>\n",
       "      <td>6</td>\n",
       "    </tr>\n",
       "    <tr>\n",
       "      <th>3</th>\n",
       "      <td>./dataset/esd\\0018\\Surprise\\0018_001454.wav</td>\n",
       "      <td>8</td>\n",
       "    </tr>\n",
       "    <tr>\n",
       "      <th>4</th>\n",
       "      <td>./dataset/mlend\\MLEndSND_Public\\05521.wav</td>\n",
       "      <td>5</td>\n",
       "    </tr>\n",
       "    <tr>\n",
       "      <th>...</th>\n",
       "      <td>...</td>\n",
       "      <td>...</td>\n",
       "    </tr>\n",
       "    <tr>\n",
       "      <th>9472</th>\n",
       "      <td>./dataset/tess\\YAF_pleasant_surprised\\YAF_half...</td>\n",
       "      <td>8</td>\n",
       "    </tr>\n",
       "    <tr>\n",
       "      <th>9473</th>\n",
       "      <td>./dataset/esd\\0019\\Angry\\0019_000651.wav</td>\n",
       "      <td>0</td>\n",
       "    </tr>\n",
       "    <tr>\n",
       "      <th>9474</th>\n",
       "      <td>./dataset/mlend\\MLEndSND_Public\\21688.wav</td>\n",
       "      <td>5</td>\n",
       "    </tr>\n",
       "    <tr>\n",
       "      <th>9475</th>\n",
       "      <td>./dataset/esd\\0020\\Angry\\0020_000377.wav</td>\n",
       "      <td>0</td>\n",
       "    </tr>\n",
       "    <tr>\n",
       "      <th>9476</th>\n",
       "      <td>./dataset/mlend\\MLEndSND_Public\\44715.wav</td>\n",
       "      <td>6</td>\n",
       "    </tr>\n",
       "  </tbody>\n",
       "</table>\n",
       "<p>9477 rows × 2 columns</p>\n",
       "</div>"
      ],
      "text/plain": [
       "                                               Filepath  Emotion\n",
       "0             ./dataset/mlend\\MLEndSND_Public\\01620.wav        5\n",
       "1     ./dataset/jl-corpus/Raw JL corpus (unchecked a...        7\n",
       "2             ./dataset/mlend\\MLEndSND_Public\\04997.wav        6\n",
       "3           ./dataset/esd\\0018\\Surprise\\0018_001454.wav        8\n",
       "4             ./dataset/mlend\\MLEndSND_Public\\05521.wav        5\n",
       "...                                                 ...      ...\n",
       "9472  ./dataset/tess\\YAF_pleasant_surprised\\YAF_half...        8\n",
       "9473           ./dataset/esd\\0019\\Angry\\0019_000651.wav        0\n",
       "9474          ./dataset/mlend\\MLEndSND_Public\\21688.wav        5\n",
       "9475           ./dataset/esd\\0020\\Angry\\0020_000377.wav        0\n",
       "9476          ./dataset/mlend\\MLEndSND_Public\\44715.wav        6\n",
       "\n",
       "[9477 rows x 2 columns]"
      ]
     },
     "execution_count": 11,
     "metadata": {},
     "output_type": "execute_result"
    }
   ],
   "source": [
    "df_test"
   ]
  },
  {
   "cell_type": "code",
   "execution_count": 12,
   "metadata": {},
   "outputs": [
    {
     "name": "stderr",
     "output_type": "stream",
     "text": [
      "Some weights of Wav2Vec2ForSequenceClassification were not initialized from the model checkpoint at facebook/wav2vec2-base-960h and are newly initialized: ['classifier.bias', 'classifier.weight', 'projector.bias', 'projector.weight', 'wav2vec2.masked_spec_embed']\n",
      "You should probably TRAIN this model on a down-stream task to be able to use it for predictions and inference.\n"
     ]
    }
   ],
   "source": [
    "model_name = 'facebook/wav2vec2-base-960h'\n",
    "processor = Wav2Vec2Processor.from_pretrained(model_name)\n",
    "model = Wav2Vec2ForSequenceClassification.from_pretrained(\n",
    "    model_name, num_labels=len(label_map))"
   ]
  },
  {
   "cell_type": "code",
   "execution_count": 13,
   "metadata": {},
   "outputs": [],
   "source": [
    "from emotion_datasets.SpeechEmotionDataset import SpeechEmotionDataset"
   ]
  },
  {
   "cell_type": "code",
   "execution_count": 14,
   "metadata": {},
   "outputs": [],
   "source": [
    "# Load the dataset\n",
    "train_dataset = SpeechEmotionDataset(df_train, processor)\n",
    "val_dataset = SpeechEmotionDataset(df_val, processor)\n",
    "test_dataset = SpeechEmotionDataset(df_test, processor)"
   ]
  },
  {
   "cell_type": "code",
   "execution_count": 15,
   "metadata": {},
   "outputs": [
    {
     "name": "stderr",
     "output_type": "stream",
     "text": [
      "Keyword argument `truncate` is not a valid argument for this processor and will be ignored.\n"
     ]
    },
    {
     "data": {
      "text/plain": [
       "{'input_values': tensor([0.0288, 0.0384, 0.0252,  ..., 0.0002, 0.0002, 0.0002]),\n",
       " 'labels': tensor(6)}"
      ]
     },
     "execution_count": 15,
     "metadata": {},
     "output_type": "execute_result"
    }
   ],
   "source": [
    "train_dataset[0]"
   ]
  },
  {
   "cell_type": "markdown",
   "metadata": {},
   "source": [
    "## Set Training Arguments"
   ]
  },
  {
   "cell_type": "code",
   "execution_count": 16,
   "metadata": {},
   "outputs": [
    {
     "name": "stderr",
     "output_type": "stream",
     "text": [
      "c:\\Users\\profi\\OneDrive\\Desktop\\AI-Project--Speech-Emotion-Recognition\\myenv\\lib\\site-packages\\transformers\\training_args.py:1611: FutureWarning: `evaluation_strategy` is deprecated and will be removed in version 4.46 of 🤗 Transformers. Use `eval_strategy` instead\n",
      "  warnings.warn(\n"
     ]
    }
   ],
   "source": [
    "train_args = TrainingArguments(\n",
    "    output_dir='./models/wav2vec2-base-960h',\n",
    "    evaluation_strategy='epoch',\n",
    "    save_strategy='epoch',\n",
    "    learning_rate=2e-5,\n",
    "    per_device_train_batch_size=16,\n",
    "    per_device_eval_batch_size=16,\n",
    "    num_train_epochs=10,\n",
    "    weight_decay=0.01,\n",
    "    fp16=True,\n",
    "    dataloader_num_workers=8,\n",
    "    dataloader_pin_memory=True,\n",
    "    load_best_model_at_end=True,\n",
    "    metric_for_best_model=\"f1\",\n",
    "    report_to=[]\n",
    ")"
   ]
  },
  {
   "cell_type": "code",
   "execution_count": 17,
   "metadata": {},
   "outputs": [],
   "source": [
    "# Create function for computing metrics\n",
    "def compute_metrics(pred):\n",
    "    labels = pred.label_ids  # original labels\n",
    "    preds = np.argmax(pred.predictions, axis=1)  # model predicted labels\n",
    "    accuracy = accuracy_score(labels, preds)\n",
    "    precision, recall, f1, _ = precision_recall_fscore_support(\n",
    "        labels, preds, average=\"weighted\")\n",
    "    return {\n",
    "        \"accuracy\": accuracy,\n",
    "        \"precision\": precision,\n",
    "        \"recall\": recall,\n",
    "        \"f1\": f1\n",
    "    }"
   ]
  },
  {
   "cell_type": "markdown",
   "metadata": {},
   "source": [
    "Import CustomTrainer"
   ]
  },
  {
   "cell_type": "code",
   "execution_count": 19,
   "metadata": {},
   "outputs": [
    {
     "name": "stderr",
     "output_type": "stream",
     "text": [
      "c:\\Users\\profi\\OneDrive\\Desktop\\AI-Project--Speech-Emotion-Recognition\\wav2vec2\\trainer\\CustomTrainer.py:10: FutureWarning: You are using `torch.load` with `weights_only=False` (the current default value), which uses the default pickle module implicitly. It is possible to construct malicious pickle data which will execute arbitrary code during unpickling (See https://github.com/pytorch/pytorch/blob/main/SECURITY.md#untrusted-models for more details). In a future release, the default value for `weights_only` will be flipped to `True`. This limits the functions that could be executed during unpickling. Arbitrary objects will no longer be allowed to be loaded via this mode unless they are explicitly allowlisted by the user via `torch.serialization.add_safe_globals`. We recommend you start setting `weights_only=True` for any use case where you don't have full control of the loaded file. Please open an issue on GitHub for any issues related to this experimental feature.\n",
      "  class_weights = torch.load(file_path).to(device)\n"
     ]
    },
    {
     "ename": "FileNotFoundError",
     "evalue": "[Errno 2] No such file or directory: '../../data/class_weights.pt'",
     "output_type": "error",
     "traceback": [
      "\u001b[1;31m---------------------------------------------------------------------------\u001b[0m",
      "\u001b[1;31mFileNotFoundError\u001b[0m                         Traceback (most recent call last)",
      "Cell \u001b[1;32mIn[19], line 1\u001b[0m\n\u001b[1;32m----> 1\u001b[0m \u001b[38;5;28;01mfrom\u001b[39;00m\u001b[38;5;250m \u001b[39m\u001b[38;5;21;01mtrainer\u001b[39;00m\u001b[38;5;21;01m.\u001b[39;00m\u001b[38;5;21;01mCustomTrainer\u001b[39;00m\u001b[38;5;250m \u001b[39m\u001b[38;5;28;01mimport\u001b[39;00m CustomTrainer\n",
      "File \u001b[1;32mc:\\Users\\profi\\OneDrive\\Desktop\\AI-Project--Speech-Emotion-Recognition\\wav2vec2\\trainer\\CustomTrainer.py:10\u001b[0m\n\u001b[0;32m      7\u001b[0m \u001b[38;5;66;03m# class_weights.pt relative file path\u001b[39;00m\n\u001b[0;32m      8\u001b[0m file_path \u001b[38;5;241m=\u001b[39m \u001b[38;5;124m\"\u001b[39m\u001b[38;5;124m../../data/class_weights.pt\u001b[39m\u001b[38;5;124m\"\u001b[39m\n\u001b[1;32m---> 10\u001b[0m class_weights \u001b[38;5;241m=\u001b[39m \u001b[43mtorch\u001b[49m\u001b[38;5;241;43m.\u001b[39;49m\u001b[43mload\u001b[49m\u001b[43m(\u001b[49m\u001b[43mfile_path\u001b[49m\u001b[43m)\u001b[49m\u001b[38;5;241m.\u001b[39mto(device)\n\u001b[0;32m     12\u001b[0m \u001b[38;5;66;03m# Loss function\u001b[39;00m\n\u001b[0;32m     13\u001b[0m criterion \u001b[38;5;241m=\u001b[39m nn\u001b[38;5;241m.\u001b[39mCrossEntropyLoss(weight\u001b[38;5;241m=\u001b[39mclass_weights)\n",
      "File \u001b[1;32mc:\\Users\\profi\\OneDrive\\Desktop\\AI-Project--Speech-Emotion-Recognition\\myenv\\lib\\site-packages\\torch\\serialization.py:1319\u001b[0m, in \u001b[0;36mload\u001b[1;34m(f, map_location, pickle_module, weights_only, mmap, **pickle_load_args)\u001b[0m\n\u001b[0;32m   1316\u001b[0m \u001b[38;5;28;01mif\u001b[39;00m \u001b[38;5;124m\"\u001b[39m\u001b[38;5;124mencoding\u001b[39m\u001b[38;5;124m\"\u001b[39m \u001b[38;5;129;01mnot\u001b[39;00m \u001b[38;5;129;01min\u001b[39;00m pickle_load_args\u001b[38;5;241m.\u001b[39mkeys():\n\u001b[0;32m   1317\u001b[0m     pickle_load_args[\u001b[38;5;124m\"\u001b[39m\u001b[38;5;124mencoding\u001b[39m\u001b[38;5;124m\"\u001b[39m] \u001b[38;5;241m=\u001b[39m \u001b[38;5;124m\"\u001b[39m\u001b[38;5;124mutf-8\u001b[39m\u001b[38;5;124m\"\u001b[39m\n\u001b[1;32m-> 1319\u001b[0m \u001b[38;5;28;01mwith\u001b[39;00m \u001b[43m_open_file_like\u001b[49m\u001b[43m(\u001b[49m\u001b[43mf\u001b[49m\u001b[43m,\u001b[49m\u001b[43m \u001b[49m\u001b[38;5;124;43m\"\u001b[39;49m\u001b[38;5;124;43mrb\u001b[39;49m\u001b[38;5;124;43m\"\u001b[39;49m\u001b[43m)\u001b[49m \u001b[38;5;28;01mas\u001b[39;00m opened_file:\n\u001b[0;32m   1320\u001b[0m     \u001b[38;5;28;01mif\u001b[39;00m _is_zipfile(opened_file):\n\u001b[0;32m   1321\u001b[0m         \u001b[38;5;66;03m# The zipfile reader is going to advance the current file position.\u001b[39;00m\n\u001b[0;32m   1322\u001b[0m         \u001b[38;5;66;03m# If we want to actually tail call to torch.jit.load, we need to\u001b[39;00m\n\u001b[0;32m   1323\u001b[0m         \u001b[38;5;66;03m# reset back to the original position.\u001b[39;00m\n\u001b[0;32m   1324\u001b[0m         orig_position \u001b[38;5;241m=\u001b[39m opened_file\u001b[38;5;241m.\u001b[39mtell()\n",
      "File \u001b[1;32mc:\\Users\\profi\\OneDrive\\Desktop\\AI-Project--Speech-Emotion-Recognition\\myenv\\lib\\site-packages\\torch\\serialization.py:659\u001b[0m, in \u001b[0;36m_open_file_like\u001b[1;34m(name_or_buffer, mode)\u001b[0m\n\u001b[0;32m    657\u001b[0m \u001b[38;5;28;01mdef\u001b[39;00m\u001b[38;5;250m \u001b[39m\u001b[38;5;21m_open_file_like\u001b[39m(name_or_buffer, mode):\n\u001b[0;32m    658\u001b[0m     \u001b[38;5;28;01mif\u001b[39;00m _is_path(name_or_buffer):\n\u001b[1;32m--> 659\u001b[0m         \u001b[38;5;28;01mreturn\u001b[39;00m \u001b[43m_open_file\u001b[49m\u001b[43m(\u001b[49m\u001b[43mname_or_buffer\u001b[49m\u001b[43m,\u001b[49m\u001b[43m \u001b[49m\u001b[43mmode\u001b[49m\u001b[43m)\u001b[49m\n\u001b[0;32m    660\u001b[0m     \u001b[38;5;28;01melse\u001b[39;00m:\n\u001b[0;32m    661\u001b[0m         \u001b[38;5;28;01mif\u001b[39;00m \u001b[38;5;124m\"\u001b[39m\u001b[38;5;124mw\u001b[39m\u001b[38;5;124m\"\u001b[39m \u001b[38;5;129;01min\u001b[39;00m mode:\n",
      "File \u001b[1;32mc:\\Users\\profi\\OneDrive\\Desktop\\AI-Project--Speech-Emotion-Recognition\\myenv\\lib\\site-packages\\torch\\serialization.py:640\u001b[0m, in \u001b[0;36m_open_file.__init__\u001b[1;34m(self, name, mode)\u001b[0m\n\u001b[0;32m    639\u001b[0m \u001b[38;5;28;01mdef\u001b[39;00m\u001b[38;5;250m \u001b[39m\u001b[38;5;21m__init__\u001b[39m(\u001b[38;5;28mself\u001b[39m, name, mode):\n\u001b[1;32m--> 640\u001b[0m     \u001b[38;5;28msuper\u001b[39m()\u001b[38;5;241m.\u001b[39m\u001b[38;5;21m__init__\u001b[39m(\u001b[38;5;28;43mopen\u001b[39;49m\u001b[43m(\u001b[49m\u001b[43mname\u001b[49m\u001b[43m,\u001b[49m\u001b[43m \u001b[49m\u001b[43mmode\u001b[49m\u001b[43m)\u001b[49m)\n",
      "\u001b[1;31mFileNotFoundError\u001b[0m: [Errno 2] No such file or directory: '../../data/class_weights.pt'"
     ]
    }
   ],
   "source": [
    "from trainer.CustomTrainer import CustomTrainer"
   ]
  },
  {
   "cell_type": "code",
   "execution_count": null,
   "metadata": {},
   "outputs": [],
   "source": [
    "# Initialize the CustomTrainer\n",
    "trainer = CustomTrainer(\n",
    "    model=model,\n",
    "    args=train_args,\n",
    "    train_dataset=train_dataset,\n",
    "    eval_dataset=val_dataset,\n",
    "    compute_metrics=compute_metrics,\n",
    "    class_weights_path=\"../data/class_weights.pt\"\n",
    ")"
   ]
  },
  {
   "cell_type": "code",
   "execution_count": 59,
   "metadata": {},
   "outputs": [
    {
     "ename": "TypeError",
     "evalue": "CustomTrainer.compute_loss() got an unexpected keyword argument 'num_items_in_batch'",
     "output_type": "error",
     "traceback": [
      "\u001b[1;31m---------------------------------------------------------------------------\u001b[0m",
      "\u001b[1;31mTypeError\u001b[0m                                 Traceback (most recent call last)",
      "Cell \u001b[1;32mIn[59], line 1\u001b[0m\n\u001b[1;32m----> 1\u001b[0m \u001b[43mtrainer\u001b[49m\u001b[38;5;241;43m.\u001b[39;49m\u001b[43mtrain\u001b[49m\u001b[43m(\u001b[49m\u001b[43m)\u001b[49m\n",
      "File \u001b[1;32mc:\\Users\\profi\\OneDrive\\Desktop\\AI-Project--Speech-Emotion-Recognition\\myenv\\lib\\site-packages\\transformers\\trainer.py:2245\u001b[0m, in \u001b[0;36mTrainer.train\u001b[1;34m(self, resume_from_checkpoint, trial, ignore_keys_for_eval, **kwargs)\u001b[0m\n\u001b[0;32m   2243\u001b[0m         hf_hub_utils\u001b[38;5;241m.\u001b[39menable_progress_bars()\n\u001b[0;32m   2244\u001b[0m \u001b[38;5;28;01melse\u001b[39;00m:\n\u001b[1;32m-> 2245\u001b[0m     \u001b[38;5;28;01mreturn\u001b[39;00m \u001b[43minner_training_loop\u001b[49m\u001b[43m(\u001b[49m\n\u001b[0;32m   2246\u001b[0m \u001b[43m        \u001b[49m\u001b[43margs\u001b[49m\u001b[38;5;241;43m=\u001b[39;49m\u001b[43margs\u001b[49m\u001b[43m,\u001b[49m\n\u001b[0;32m   2247\u001b[0m \u001b[43m        \u001b[49m\u001b[43mresume_from_checkpoint\u001b[49m\u001b[38;5;241;43m=\u001b[39;49m\u001b[43mresume_from_checkpoint\u001b[49m\u001b[43m,\u001b[49m\n\u001b[0;32m   2248\u001b[0m \u001b[43m        \u001b[49m\u001b[43mtrial\u001b[49m\u001b[38;5;241;43m=\u001b[39;49m\u001b[43mtrial\u001b[49m\u001b[43m,\u001b[49m\n\u001b[0;32m   2249\u001b[0m \u001b[43m        \u001b[49m\u001b[43mignore_keys_for_eval\u001b[49m\u001b[38;5;241;43m=\u001b[39;49m\u001b[43mignore_keys_for_eval\u001b[49m\u001b[43m,\u001b[49m\n\u001b[0;32m   2250\u001b[0m \u001b[43m    \u001b[49m\u001b[43m)\u001b[49m\n",
      "File \u001b[1;32mc:\\Users\\profi\\OneDrive\\Desktop\\AI-Project--Speech-Emotion-Recognition\\myenv\\lib\\site-packages\\transformers\\trainer.py:2556\u001b[0m, in \u001b[0;36mTrainer._inner_training_loop\u001b[1;34m(self, batch_size, args, resume_from_checkpoint, trial, ignore_keys_for_eval)\u001b[0m\n\u001b[0;32m   2549\u001b[0m context \u001b[38;5;241m=\u001b[39m (\n\u001b[0;32m   2550\u001b[0m     functools\u001b[38;5;241m.\u001b[39mpartial(\u001b[38;5;28mself\u001b[39m\u001b[38;5;241m.\u001b[39maccelerator\u001b[38;5;241m.\u001b[39mno_sync, model\u001b[38;5;241m=\u001b[39mmodel)\n\u001b[0;32m   2551\u001b[0m     \u001b[38;5;28;01mif\u001b[39;00m i \u001b[38;5;241m!=\u001b[39m \u001b[38;5;28mlen\u001b[39m(batch_samples) \u001b[38;5;241m-\u001b[39m \u001b[38;5;241m1\u001b[39m\n\u001b[0;32m   2552\u001b[0m     \u001b[38;5;129;01mand\u001b[39;00m \u001b[38;5;28mself\u001b[39m\u001b[38;5;241m.\u001b[39maccelerator\u001b[38;5;241m.\u001b[39mdistributed_type \u001b[38;5;241m!=\u001b[39m DistributedType\u001b[38;5;241m.\u001b[39mDEEPSPEED\n\u001b[0;32m   2553\u001b[0m     \u001b[38;5;28;01melse\u001b[39;00m contextlib\u001b[38;5;241m.\u001b[39mnullcontext\n\u001b[0;32m   2554\u001b[0m )\n\u001b[0;32m   2555\u001b[0m \u001b[38;5;28;01mwith\u001b[39;00m context():\n\u001b[1;32m-> 2556\u001b[0m     tr_loss_step \u001b[38;5;241m=\u001b[39m \u001b[38;5;28;43mself\u001b[39;49m\u001b[38;5;241;43m.\u001b[39;49m\u001b[43mtraining_step\u001b[49m\u001b[43m(\u001b[49m\u001b[43mmodel\u001b[49m\u001b[43m,\u001b[49m\u001b[43m \u001b[49m\u001b[43minputs\u001b[49m\u001b[43m,\u001b[49m\u001b[43m \u001b[49m\u001b[43mnum_items_in_batch\u001b[49m\u001b[43m)\u001b[49m\n\u001b[0;32m   2558\u001b[0m \u001b[38;5;28;01mif\u001b[39;00m (\n\u001b[0;32m   2559\u001b[0m     args\u001b[38;5;241m.\u001b[39mlogging_nan_inf_filter\n\u001b[0;32m   2560\u001b[0m     \u001b[38;5;129;01mand\u001b[39;00m \u001b[38;5;129;01mnot\u001b[39;00m is_torch_xla_available()\n\u001b[0;32m   2561\u001b[0m     \u001b[38;5;129;01mand\u001b[39;00m (torch\u001b[38;5;241m.\u001b[39misnan(tr_loss_step) \u001b[38;5;129;01mor\u001b[39;00m torch\u001b[38;5;241m.\u001b[39misinf(tr_loss_step))\n\u001b[0;32m   2562\u001b[0m ):\n\u001b[0;32m   2563\u001b[0m     \u001b[38;5;66;03m# if loss is nan or inf simply add the average of previous logged losses\u001b[39;00m\n\u001b[0;32m   2564\u001b[0m     tr_loss \u001b[38;5;241m=\u001b[39m tr_loss \u001b[38;5;241m+\u001b[39m tr_loss \u001b[38;5;241m/\u001b[39m (\u001b[38;5;241m1\u001b[39m \u001b[38;5;241m+\u001b[39m \u001b[38;5;28mself\u001b[39m\u001b[38;5;241m.\u001b[39mstate\u001b[38;5;241m.\u001b[39mglobal_step \u001b[38;5;241m-\u001b[39m \u001b[38;5;28mself\u001b[39m\u001b[38;5;241m.\u001b[39m_globalstep_last_logged)\n",
      "File \u001b[1;32mc:\\Users\\profi\\OneDrive\\Desktop\\AI-Project--Speech-Emotion-Recognition\\myenv\\lib\\site-packages\\transformers\\trainer.py:3718\u001b[0m, in \u001b[0;36mTrainer.training_step\u001b[1;34m(self, model, inputs, num_items_in_batch)\u001b[0m\n\u001b[0;32m   3715\u001b[0m     \u001b[38;5;28;01mreturn\u001b[39;00m loss_mb\u001b[38;5;241m.\u001b[39mreduce_mean()\u001b[38;5;241m.\u001b[39mdetach()\u001b[38;5;241m.\u001b[39mto(\u001b[38;5;28mself\u001b[39m\u001b[38;5;241m.\u001b[39margs\u001b[38;5;241m.\u001b[39mdevice)\n\u001b[0;32m   3717\u001b[0m \u001b[38;5;28;01mwith\u001b[39;00m \u001b[38;5;28mself\u001b[39m\u001b[38;5;241m.\u001b[39mcompute_loss_context_manager():\n\u001b[1;32m-> 3718\u001b[0m     loss \u001b[38;5;241m=\u001b[39m \u001b[38;5;28;43mself\u001b[39;49m\u001b[38;5;241;43m.\u001b[39;49m\u001b[43mcompute_loss\u001b[49m\u001b[43m(\u001b[49m\u001b[43mmodel\u001b[49m\u001b[43m,\u001b[49m\u001b[43m \u001b[49m\u001b[43minputs\u001b[49m\u001b[43m,\u001b[49m\u001b[43m \u001b[49m\u001b[43mnum_items_in_batch\u001b[49m\u001b[38;5;241;43m=\u001b[39;49m\u001b[43mnum_items_in_batch\u001b[49m\u001b[43m)\u001b[49m\n\u001b[0;32m   3720\u001b[0m \u001b[38;5;28;01mdel\u001b[39;00m inputs\n\u001b[0;32m   3721\u001b[0m \u001b[38;5;28;01mif\u001b[39;00m (\n\u001b[0;32m   3722\u001b[0m     \u001b[38;5;28mself\u001b[39m\u001b[38;5;241m.\u001b[39margs\u001b[38;5;241m.\u001b[39mtorch_empty_cache_steps \u001b[38;5;129;01mis\u001b[39;00m \u001b[38;5;129;01mnot\u001b[39;00m \u001b[38;5;28;01mNone\u001b[39;00m\n\u001b[0;32m   3723\u001b[0m     \u001b[38;5;129;01mand\u001b[39;00m \u001b[38;5;28mself\u001b[39m\u001b[38;5;241m.\u001b[39mstate\u001b[38;5;241m.\u001b[39mglobal_step \u001b[38;5;241m%\u001b[39m \u001b[38;5;28mself\u001b[39m\u001b[38;5;241m.\u001b[39margs\u001b[38;5;241m.\u001b[39mtorch_empty_cache_steps \u001b[38;5;241m==\u001b[39m \u001b[38;5;241m0\u001b[39m\n\u001b[0;32m   3724\u001b[0m ):\n",
      "\u001b[1;31mTypeError\u001b[0m: CustomTrainer.compute_loss() got an unexpected keyword argument 'num_items_in_batch'"
     ]
    }
   ],
   "source": [
    "trainer.train()"
   ]
  },
  {
   "cell_type": "code",
   "execution_count": 20,
   "metadata": {},
   "outputs": [
    {
     "data": {
      "text/html": [],
      "text/plain": [
       "<IPython.core.display.HTML object>"
      ]
     },
     "metadata": {},
     "output_type": "display_data"
    },
    {
     "name": "stdout",
     "output_type": "stream",
     "text": [
      "{'eval_loss': 0.5378108620643616, 'eval_accuracy': 0.8669269734065006, 'eval_precision': 0.8682839694141979, 'eval_recall': 0.8669269734065006, 'eval_f1': 0.8661980004329658, 'eval_runtime': 35.3756, 'eval_samples_per_second': 267.868, 'eval_steps_per_second': 16.763, 'epoch': 10.0}\n"
     ]
    }
   ],
   "source": [
    "results = trainer.evaluate()\n",
    "print(results)"
   ]
  },
  {
   "cell_type": "markdown",
   "metadata": {},
   "source": [
    "## Test Predictions"
   ]
  },
  {
   "cell_type": "code",
   "execution_count": 21,
   "metadata": {},
   "outputs": [
    {
     "data": {
      "image/png": "[encoded data removed]",
      "text/plain": [
       "<Figure size 1000x800 with 2 Axes>"
      ]
     },
     "metadata": {},
     "output_type": "display_data"
    }
   ],
   "source": [
    "# Get model predictions on the test dataset\n",
    "predictions = trainer.predict(test_dataset)\n",
    "# Convert logits to predicted class labels\n",
    "pred_labels = np.argmax(predictions.predictions, axis=1)\n",
    "true_labels = predictions.label_ids  # Ground truth labels\n",
    "\n",
    "# Compute the confusion matrix\n",
    "conf_matrix = confusion_matrix(true_labels, pred_labels)\n",
    "\n",
    "# Plot the heatmap\n",
    "plt.figure(figsize=(10, 8))\n",
    "sns.heatmap(conf_matrix, annot=True, fmt=\"d\", cmap=\"Blues\",\n",
    "            xticklabels=label_map.keys(), yticklabels=label_map.keys())\n",
    "\n",
    "plt.ylabel('True Label')\n",
    "plt.xlabel('Predicted Label')\n",
    "plt.title('Confusion Matrix')\n",
    "\n",
    "plt.xticks(rotation=45)\n",
    "plt.yticks(rotation=45)\n",
    "\n",
    "plt.tight_layout()\n",
    "plt.show()"
   ]
  },
  {
   "cell_type": "code",
   "execution_count": null,
   "metadata": {},
   "outputs": [],
   "source": []
  }
 ],
 "metadata": {
  "kernelspec": {
   "display_name": "myenv",
   "language": "python",
   "name": "python3"
  },
  "language_info": {
   "codemirror_mode": {
    "name": "ipython",
    "version": 3
   },
   "file_extension": ".py",
   "mimetype": "text/x-python",
   "name": "python",
   "nbconvert_exporter": "python",
   "pygments_lexer": "ipython3",
   "version": "3.10.11"
  }
 },
 "nbformat": 4,
 "nbformat_minor": 2
}
