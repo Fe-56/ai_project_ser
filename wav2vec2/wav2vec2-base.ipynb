{
 "cells": [
  {
   "cell_type": "markdown",
   "metadata": {},
   "source": [
    "# Wav2Vec2 transfer learning on wav2vec2-base\n"
   ]
  },
  {
   "cell_type": "code",
   "execution_count": 1,
   "metadata": {},
   "outputs": [
    {
     "name": "stderr",
     "output_type": "stream",
     "text": [
      "c:\\Users\\profi\\OneDrive\\Desktop\\AI-Project--Speech-Emotion-Recognition\\myenv\\lib\\site-packages\\tqdm\\auto.py:21: TqdmWarning: IProgress not found. Please update jupyter and ipywidgets. See https://ipywidgets.readthedocs.io/en/stable/user_install.html\n",
      "  from .autonotebook import tqdm as notebook_tqdm\n"
     ]
    }
   ],
   "source": [
    "import pandas as pd\n",
    "import numpy as np\n",
    "import random\n",
    "import seaborn as sns\n",
    "import matplotlib.pyplot as plt\n",
    "import torch\n",
    "import random\n",
    "from transformers import Wav2Vec2Processor, Trainer, TrainingArguments, Wav2Vec2ForSequenceClassification\n",
    "from sklearn.metrics import accuracy_score, precision_recall_fscore_support, confusion_matrix"
   ]
  },
  {
   "cell_type": "code",
   "execution_count": 2,
   "metadata": {},
   "outputs": [],
   "source": [
    "# Set seed for reproducibility\n",
    "seed = 42\n",
    "random.seed(seed)\n",
    "np.random.seed(seed)\n",
    "torch.manual_seed(seed)\n",
    "if torch.cuda.is_available():\n",
    "    torch.cuda.manual_seed_all(seed)"
   ]
  },
  {
   "cell_type": "code",
   "execution_count": 3,
   "metadata": {},
   "outputs": [
    {
     "name": "stdout",
     "output_type": "stream",
     "text": [
      "2.5.1+cu121\n",
      "True\n"
     ]
    }
   ],
   "source": [
    "print(torch.__version__)\n",
    "print(torch.cuda.is_available())"
   ]
  },
  {
   "cell_type": "markdown",
   "metadata": {},
   "source": [
    "## Load Dataset\n"
   ]
  },
  {
   "cell_type": "code",
   "execution_count": 4,
   "metadata": {},
   "outputs": [],
   "source": [
    "df_train = pd.read_csv('../data/train_dataset.csv')\n",
    "df_train = df_train[['Filepath', 'Emotion']]\n",
    "df_val = pd.read_csv('../data/val_dataset.csv')\n",
    "df_val = df_val[['Filepath', 'Emotion']]\n",
    "df_test = pd.read_csv('../data/test_dataset.csv')\n",
    "df_test = df_test[['Filepath', 'Emotion']]"
   ]
  },
  {
   "cell_type": "code",
   "execution_count": 5,
   "metadata": {},
   "outputs": [
    {
     "data": {
      "application/vnd.microsoft.datawrangler.viewer.v0+json": {
       "columns": [
        {
         "name": "index",
         "rawType": "int64",
         "type": "integer"
        },
        {
         "name": "Filepath",
         "rawType": "object",
         "type": "string"
        },
        {
         "name": "Emotion",
         "rawType": "object",
         "type": "string"
        }
       ],
       "conversionMethod": "pd.DataFrame",
       "ref": "ab19d4c2-d371-4cda-b4d2-592d13ea73bb",
       "rows": [
        [
         "0",
         "./dataset/mlend\\MLEndSND_Public\\11093.wav",
         "Question"
        ],
        [
         "1",
         "./dataset/crema-d\\AudioWAV\\1011_TAI_ANG_XX.wav",
         "Anger"
        ],
        [
         "2",
         "./dataset/mlend\\MLEndSND_Public\\27019.wav",
         "Neutral"
        ],
        [
         "3",
         "./dataset/mlend\\MLEndSND_Public\\23420.wav",
         "Bored"
        ],
        [
         "4",
         "./dataset/crema-d\\AudioWAV\\1077_ITH_ANG_XX.wav",
         "Anger"
        ],
        [
         "5",
         "./dataset/tess\\YAF_fear\\YAF_pad_fear.wav",
         "Fear"
        ],
        [
         "6",
         "./dataset/meld\\train\\dia954_utt2.mp4",
         "Neutral"
        ],
        [
         "7",
         "./dataset/tess\\OAF_angry\\OAF_check_angry.wav",
         "Anger"
        ],
        [
         "8",
         "./dataset/mlend\\MLEndSND_Public\\01160.wav",
         "Neutral"
        ],
        [
         "9",
         "./dataset/mlend\\MLEndSND_Public\\08931.wav",
         "Bored"
        ],
        [
         "10",
         "./dataset/meld\\train\\dia110_utt0.mp4",
         "Neutral"
        ],
        [
         "11",
         "./dataset/crema-d\\AudioWAV\\1079_TSI_SAD_XX.wav",
         "Sad"
        ],
        [
         "12",
         "./dataset/esd\\0014\\Neutral\\0014_000216.wav",
         "Neutral"
        ],
        [
         "13",
         "./dataset/mlend\\MLEndSND_Public\\20933.wav",
         "Neutral"
        ],
        [
         "14",
         "./dataset/mlend\\MLEndSND_Public\\32461.wav",
         "Neutral"
        ],
        [
         "15",
         "./dataset/crema-d\\AudioWAV\\1009_ITS_DIS_XX.wav",
         "Disgust"
        ],
        [
         "16",
         "./dataset/mlend\\MLEndSND_Public\\00304.wav",
         "Neutral"
        ],
        [
         "17",
         "./dataset/meld\\train\\dia915_utt5.mp4",
         "Neutral"
        ],
        [
         "18",
         "./dataset/meld\\train\\dia562_utt6.mp4",
         "Neutral"
        ],
        [
         "19",
         "./dataset/mlend\\MLEndSND_Public\\21215.wav",
         "Happy"
        ],
        [
         "20",
         "./dataset/esd\\0019\\Neutral\\0019_000063.wav",
         "Neutral"
        ],
        [
         "21",
         "./dataset/crema-d\\AudioWAV\\1017_IEO_FEA_LO.wav",
         "Fear"
        ],
        [
         "22",
         "./dataset/esd\\0016\\Surprise\\0016_001661.wav",
         "Surprise"
        ],
        [
         "23",
         "./dataset/tess\\YAF_angry\\YAF_live_angry.wav",
         "Anger"
        ],
        [
         "24",
         "./dataset/ravdess\\Actor_16\\03-01-03-01-02-02-16.wav",
         "Happy"
        ],
        [
         "25",
         "./dataset/esd\\0018\\Surprise\\0018_001552.wav",
         "Surprise"
        ],
        [
         "26",
         "./dataset/mlend\\MLEndSND_Public\\09988.wav",
         "Bored"
        ],
        [
         "27",
         "./dataset/esd\\0019\\Sad\\0019_001386.wav",
         "Sad"
        ],
        [
         "28",
         "./dataset/mlend\\MLEndSND_Public\\28053.wav",
         "Bored"
        ],
        [
         "29",
         "./dataset/mlend\\MLEndSND_Public\\07002.wav",
         "Question"
        ],
        [
         "30",
         "./dataset/meld\\train\\dia827_utt1.mp4",
         "Happy"
        ],
        [
         "31",
         "./dataset/meld\\train\\dia961_utt3.mp4",
         "Anger"
        ],
        [
         "32",
         "./dataset/esd\\0020\\Angry\\0020_000669.wav",
         "Anger"
        ],
        [
         "33",
         "./dataset/mlend\\MLEndSND_Public\\27233.wav",
         "Question"
        ],
        [
         "34",
         "./dataset/mlend\\MLEndSND_Public\\04728.wav",
         "Happy"
        ],
        [
         "35",
         "./dataset/crema-d\\AudioWAV\\1073_DFA_DIS_XX.wav",
         "Disgust"
        ],
        [
         "36",
         "./dataset/mlend\\MLEndSND_Public\\27175.wav",
         "Happy"
        ],
        [
         "37",
         "./dataset/tess\\YAF_angry\\YAF_pole_angry.wav",
         "Anger"
        ],
        [
         "38",
         "./dataset/mlend\\MLEndSND_Public\\03585.wav",
         "Question"
        ],
        [
         "39",
         "./dataset/esd\\0013\\Angry\\0013_000445.wav",
         "Anger"
        ],
        [
         "40",
         "./dataset/mlend\\MLEndSND_Public\\24644.wav",
         "Happy"
        ],
        [
         "41",
         "./dataset/tess\\YAF_fear\\YAF_cause_fear.wav",
         "Fear"
        ],
        [
         "42",
         "./dataset/esd\\0019\\Neutral\\0019_000187.wav",
         "Neutral"
        ],
        [
         "43",
         "./dataset/mlend\\MLEndSND_Public\\23854.wav",
         "Bored"
        ],
        [
         "44",
         "./dataset/crema-d\\AudioWAV\\1077_TIE_SAD_XX.wav",
         "Sad"
        ],
        [
         "45",
         "./dataset/mlend\\MLEndSND_Public\\11468.wav",
         "Neutral"
        ],
        [
         "46",
         "./dataset/mlend\\MLEndSND_Public\\41356.wav",
         "Happy"
        ],
        [
         "47",
         "./dataset/crema-d\\AudioWAV\\1037_IEO_DIS_LO.wav",
         "Disgust"
        ],
        [
         "48",
         "./dataset/mlend\\MLEndSND_Public\\46042.wav",
         "Question"
        ],
        [
         "49",
         "./dataset/meld\\train\\dia1029_utt3.mp4",
         "Surprise"
        ]
       ],
       "shape": {
        "columns": 2,
        "rows": 44221
       }
      },
      "text/html": [
       "<div>\n",
       "<style scoped>\n",
       "    .dataframe tbody tr th:only-of-type {\n",
       "        vertical-align: middle;\n",
       "    }\n",
       "\n",
       "    .dataframe tbody tr th {\n",
       "        vertical-align: top;\n",
       "    }\n",
       "\n",
       "    .dataframe thead th {\n",
       "        text-align: right;\n",
       "    }\n",
       "</style>\n",
       "<table border=\"1\" class=\"dataframe\">\n",
       "  <thead>\n",
       "    <tr style=\"text-align: right;\">\n",
       "      <th></th>\n",
       "      <th>Filepath</th>\n",
       "      <th>Emotion</th>\n",
       "    </tr>\n",
       "  </thead>\n",
       "  <tbody>\n",
       "    <tr>\n",
       "      <th>0</th>\n",
       "      <td>./dataset/mlend\\MLEndSND_Public\\11093.wav</td>\n",
       "      <td>Question</td>\n",
       "    </tr>\n",
       "    <tr>\n",
       "      <th>1</th>\n",
       "      <td>./dataset/crema-d\\AudioWAV\\1011_TAI_ANG_XX.wav</td>\n",
       "      <td>Anger</td>\n",
       "    </tr>\n",
       "    <tr>\n",
       "      <th>2</th>\n",
       "      <td>./dataset/mlend\\MLEndSND_Public\\27019.wav</td>\n",
       "      <td>Neutral</td>\n",
       "    </tr>\n",
       "    <tr>\n",
       "      <th>3</th>\n",
       "      <td>./dataset/mlend\\MLEndSND_Public\\23420.wav</td>\n",
       "      <td>Bored</td>\n",
       "    </tr>\n",
       "    <tr>\n",
       "      <th>4</th>\n",
       "      <td>./dataset/crema-d\\AudioWAV\\1077_ITH_ANG_XX.wav</td>\n",
       "      <td>Anger</td>\n",
       "    </tr>\n",
       "    <tr>\n",
       "      <th>...</th>\n",
       "      <td>...</td>\n",
       "      <td>...</td>\n",
       "    </tr>\n",
       "    <tr>\n",
       "      <th>44216</th>\n",
       "      <td>./dataset/meld\\train\\dia873_utt1.mp4</td>\n",
       "      <td>Neutral</td>\n",
       "    </tr>\n",
       "    <tr>\n",
       "      <th>44217</th>\n",
       "      <td>./dataset/esd\\0015\\Happy\\0015_000807.wav</td>\n",
       "      <td>Happy</td>\n",
       "    </tr>\n",
       "    <tr>\n",
       "      <th>44218</th>\n",
       "      <td>./dataset/mlend\\MLEndSND_Public\\40154.wav</td>\n",
       "      <td>Neutral</td>\n",
       "    </tr>\n",
       "    <tr>\n",
       "      <th>44219</th>\n",
       "      <td>./dataset/esd\\0017\\Sad\\0017_001347.wav</td>\n",
       "      <td>Sad</td>\n",
       "    </tr>\n",
       "    <tr>\n",
       "      <th>44220</th>\n",
       "      <td>./dataset/mlend\\MLEndSND_Public\\01986.wav</td>\n",
       "      <td>Happy</td>\n",
       "    </tr>\n",
       "  </tbody>\n",
       "</table>\n",
       "<p>44221 rows × 2 columns</p>\n",
       "</div>"
      ],
      "text/plain": [
       "                                             Filepath   Emotion\n",
       "0           ./dataset/mlend\\MLEndSND_Public\\11093.wav  Question\n",
       "1      ./dataset/crema-d\\AudioWAV\\1011_TAI_ANG_XX.wav     Anger\n",
       "2           ./dataset/mlend\\MLEndSND_Public\\27019.wav   Neutral\n",
       "3           ./dataset/mlend\\MLEndSND_Public\\23420.wav     Bored\n",
       "4      ./dataset/crema-d\\AudioWAV\\1077_ITH_ANG_XX.wav     Anger\n",
       "...                                               ...       ...\n",
       "44216            ./dataset/meld\\train\\dia873_utt1.mp4   Neutral\n",
       "44217        ./dataset/esd\\0015\\Happy\\0015_000807.wav     Happy\n",
       "44218       ./dataset/mlend\\MLEndSND_Public\\40154.wav   Neutral\n",
       "44219          ./dataset/esd\\0017\\Sad\\0017_001347.wav       Sad\n",
       "44220       ./dataset/mlend\\MLEndSND_Public\\01986.wav     Happy\n",
       "\n",
       "[44221 rows x 2 columns]"
      ]
     },
     "execution_count": 5,
     "metadata": {},
     "output_type": "execute_result"
    }
   ],
   "source": [
    "df_train"
   ]
  },
  {
   "cell_type": "code",
   "execution_count": 6,
   "metadata": {},
   "outputs": [
    {
     "data": {
      "application/vnd.microsoft.datawrangler.viewer.v0+json": {
       "columns": [
        {
         "name": "index",
         "rawType": "int64",
         "type": "integer"
        },
        {
         "name": "Filepath",
         "rawType": "object",
         "type": "string"
        },
        {
         "name": "Emotion",
         "rawType": "object",
         "type": "string"
        }
       ],
       "conversionMethod": "pd.DataFrame",
       "ref": "b0682095-4853-48b0-8817-735c78b427eb",
       "rows": [
        [
         "0",
         "./dataset/esd\\0020\\Sad\\0020_001395.wav",
         "Sad"
        ],
        [
         "1",
         "./dataset/meld\\train\\dia930_utt5.mp4",
         "Neutral"
        ],
        [
         "2",
         "./dataset/mlend\\MLEndSND_Public\\24481.wav",
         "Bored"
        ],
        [
         "3",
         "./dataset/crema-d\\AudioWAV\\1002_IEO_SAD_HI.wav",
         "Sad"
        ],
        [
         "4",
         "./dataset/esd\\0011\\Angry\\0011_000373.wav",
         "Anger"
        ],
        [
         "5",
         "./dataset/crema-d\\AudioWAV\\1050_IWL_SAD_XX.wav",
         "Sad"
        ],
        [
         "6",
         "./dataset/tess\\OAF_neutral\\OAF_lease_neutral.wav",
         "Neutral"
        ],
        [
         "7",
         "./dataset/crema-d\\AudioWAV\\1033_DFA_SAD_XX.wav",
         "Sad"
        ],
        [
         "8",
         "./dataset/crema-d\\AudioWAV\\1059_IEO_NEU_XX.wav",
         "Neutral"
        ],
        [
         "9",
         "./dataset/esd\\0014\\Angry\\0014_000503.wav",
         "Anger"
        ],
        [
         "10",
         "./dataset/ravdess\\Actor_20\\03-01-04-01-02-02-20.wav",
         "Sad"
        ],
        [
         "11",
         "./dataset/mlend\\MLEndSND_Public\\41268.wav",
         "Happy"
        ],
        [
         "12",
         "./dataset/esd\\0016\\Surprise\\0016_001715.wav",
         "Surprise"
        ],
        [
         "13",
         "./dataset/esd\\0011\\Happy\\0011_000935.wav",
         "Happy"
        ],
        [
         "14",
         "./dataset/esd\\0018\\Sad\\0018_001210.wav",
         "Sad"
        ],
        [
         "15",
         "./dataset/crema-d\\AudioWAV\\1079_IWL_SAD_XX.wav",
         "Sad"
        ],
        [
         "16",
         "./dataset/esd\\0019\\Angry\\0019_000646.wav",
         "Anger"
        ],
        [
         "17",
         "./dataset/mlend\\MLEndSND_Public\\31175.wav",
         "Bored"
        ],
        [
         "18",
         "./dataset/mlend\\MLEndSND_Public\\37494.wav",
         "Question"
        ],
        [
         "19",
         "./dataset/esd\\0017\\Sad\\0017_001154.wav",
         "Sad"
        ],
        [
         "20",
         "./dataset/mlend\\MLEndSND_Public\\12125.wav",
         "Happy"
        ],
        [
         "21",
         "./dataset/meld\\train\\dia1036_utt12.mp4",
         "Neutral"
        ],
        [
         "22",
         "./dataset/esd\\0012\\Sad\\0012_001194.wav",
         "Sad"
        ],
        [
         "23",
         "./dataset/esd\\0015\\Neutral\\0015_000079.wav",
         "Neutral"
        ],
        [
         "24",
         "./dataset/mlend\\MLEndSND_Public\\07613.wav",
         "Happy"
        ],
        [
         "25",
         "./dataset/mlend\\MLEndSND_Public\\10182.wav",
         "Happy"
        ],
        [
         "26",
         "./dataset/mlend\\MLEndSND_Public\\30464.wav",
         "Neutral"
        ],
        [
         "27",
         "./dataset/tess\\YAF_pleasant_surprised\\YAF_keen_ps.wav",
         "Surprise"
        ],
        [
         "28",
         "./dataset/meld\\train\\dia806_utt0.mp4",
         "Surprise"
        ],
        [
         "29",
         "./dataset/ravdess\\Actor_09\\03-01-01-01-02-01-09.wav",
         "Neutral"
        ],
        [
         "30",
         "./dataset/mlend\\MLEndSND_Public\\32504.wav",
         "Neutral"
        ],
        [
         "31",
         "./dataset/mlend\\MLEndSND_Public\\08221.wav",
         "Bored"
        ],
        [
         "32",
         "./dataset/mlend\\MLEndSND_Public\\11843.wav",
         "Question"
        ],
        [
         "33",
         "./dataset/mlend\\MLEndSND_Public\\26478.wav",
         "Question"
        ],
        [
         "34",
         "./dataset/esd\\0020\\Angry\\0020_000520.wav",
         "Anger"
        ],
        [
         "35",
         "./dataset/mlend\\MLEndSND_Public\\03991.wav",
         "Question"
        ],
        [
         "36",
         "./dataset/crema-d\\AudioWAV\\1062_IOM_SAD_XX.wav",
         "Sad"
        ],
        [
         "37",
         "./dataset/mlend\\MLEndSND_Public\\42670.wav",
         "Question"
        ],
        [
         "38",
         "./dataset/crema-d\\AudioWAV\\1078_IEO_ANG_MD.wav",
         "Anger"
        ],
        [
         "39",
         "./dataset/esd\\0020\\Angry\\0020_000575.wav",
         "Anger"
        ],
        [
         "40",
         "./dataset/esd\\0013\\Neutral\\0013_000174.wav",
         "Neutral"
        ],
        [
         "41",
         "./dataset/esd\\0018\\Surprise\\0018_001519.wav",
         "Surprise"
        ],
        [
         "42",
         "./dataset/mlend\\MLEndSND_Public\\03212.wav",
         "Neutral"
        ],
        [
         "43",
         "./dataset/tess\\OAF_disgust\\OAF_room_disgust.wav",
         "Disgust"
        ],
        [
         "44",
         "./dataset/mlend\\MLEndSND_Public\\19669.wav",
         "Bored"
        ],
        [
         "45",
         "./dataset/esd\\0014\\Happy\\0014_000858.wav",
         "Happy"
        ],
        [
         "46",
         "./dataset/meld\\train\\dia47_utt12.mp4",
         "Neutral"
        ],
        [
         "47",
         "./dataset/crema-d\\AudioWAV\\1001_IEO_ANG_MD.wav",
         "Anger"
        ],
        [
         "48",
         "./dataset/crema-d\\AudioWAV\\1006_IWW_ANG_XX.wav",
         "Anger"
        ],
        [
         "49",
         "./dataset/esd\\0013\\Angry\\0013_000468.wav",
         "Anger"
        ]
       ],
       "shape": {
        "columns": 2,
        "rows": 9476
       }
      },
      "text/html": [
       "<div>\n",
       "<style scoped>\n",
       "    .dataframe tbody tr th:only-of-type {\n",
       "        vertical-align: middle;\n",
       "    }\n",
       "\n",
       "    .dataframe tbody tr th {\n",
       "        vertical-align: top;\n",
       "    }\n",
       "\n",
       "    .dataframe thead th {\n",
       "        text-align: right;\n",
       "    }\n",
       "</style>\n",
       "<table border=\"1\" class=\"dataframe\">\n",
       "  <thead>\n",
       "    <tr style=\"text-align: right;\">\n",
       "      <th></th>\n",
       "      <th>Filepath</th>\n",
       "      <th>Emotion</th>\n",
       "    </tr>\n",
       "  </thead>\n",
       "  <tbody>\n",
       "    <tr>\n",
       "      <th>0</th>\n",
       "      <td>./dataset/esd\\0020\\Sad\\0020_001395.wav</td>\n",
       "      <td>Sad</td>\n",
       "    </tr>\n",
       "    <tr>\n",
       "      <th>1</th>\n",
       "      <td>./dataset/meld\\train\\dia930_utt5.mp4</td>\n",
       "      <td>Neutral</td>\n",
       "    </tr>\n",
       "    <tr>\n",
       "      <th>2</th>\n",
       "      <td>./dataset/mlend\\MLEndSND_Public\\24481.wav</td>\n",
       "      <td>Bored</td>\n",
       "    </tr>\n",
       "    <tr>\n",
       "      <th>3</th>\n",
       "      <td>./dataset/crema-d\\AudioWAV\\1002_IEO_SAD_HI.wav</td>\n",
       "      <td>Sad</td>\n",
       "    </tr>\n",
       "    <tr>\n",
       "      <th>4</th>\n",
       "      <td>./dataset/esd\\0011\\Angry\\0011_000373.wav</td>\n",
       "      <td>Anger</td>\n",
       "    </tr>\n",
       "    <tr>\n",
       "      <th>...</th>\n",
       "      <td>...</td>\n",
       "      <td>...</td>\n",
       "    </tr>\n",
       "    <tr>\n",
       "      <th>9471</th>\n",
       "      <td>./dataset/tess\\YAF_disgust\\YAF_take_disgust.wav</td>\n",
       "      <td>Disgust</td>\n",
       "    </tr>\n",
       "    <tr>\n",
       "      <th>9472</th>\n",
       "      <td>./dataset/mlend\\MLEndSND_Public\\43418.wav</td>\n",
       "      <td>Bored</td>\n",
       "    </tr>\n",
       "    <tr>\n",
       "      <th>9473</th>\n",
       "      <td>./dataset/mlend\\MLEndSND_Public\\02459.wav</td>\n",
       "      <td>Bored</td>\n",
       "    </tr>\n",
       "    <tr>\n",
       "      <th>9474</th>\n",
       "      <td>./dataset/mlend\\MLEndSND_Public\\10609.wav</td>\n",
       "      <td>Question</td>\n",
       "    </tr>\n",
       "    <tr>\n",
       "      <th>9475</th>\n",
       "      <td>./dataset/mlend\\MLEndSND_Public\\23072.wav</td>\n",
       "      <td>Question</td>\n",
       "    </tr>\n",
       "  </tbody>\n",
       "</table>\n",
       "<p>9476 rows × 2 columns</p>\n",
       "</div>"
      ],
      "text/plain": [
       "                                             Filepath   Emotion\n",
       "0              ./dataset/esd\\0020\\Sad\\0020_001395.wav       Sad\n",
       "1                ./dataset/meld\\train\\dia930_utt5.mp4   Neutral\n",
       "2           ./dataset/mlend\\MLEndSND_Public\\24481.wav     Bored\n",
       "3      ./dataset/crema-d\\AudioWAV\\1002_IEO_SAD_HI.wav       Sad\n",
       "4            ./dataset/esd\\0011\\Angry\\0011_000373.wav     Anger\n",
       "...                                               ...       ...\n",
       "9471  ./dataset/tess\\YAF_disgust\\YAF_take_disgust.wav   Disgust\n",
       "9472        ./dataset/mlend\\MLEndSND_Public\\43418.wav     Bored\n",
       "9473        ./dataset/mlend\\MLEndSND_Public\\02459.wav     Bored\n",
       "9474        ./dataset/mlend\\MLEndSND_Public\\10609.wav  Question\n",
       "9475        ./dataset/mlend\\MLEndSND_Public\\23072.wav  Question\n",
       "\n",
       "[9476 rows x 2 columns]"
      ]
     },
     "execution_count": 6,
     "metadata": {},
     "output_type": "execute_result"
    }
   ],
   "source": [
    "df_val"
   ]
  },
  {
   "cell_type": "code",
   "execution_count": 7,
   "metadata": {},
   "outputs": [
    {
     "data": {
      "application/vnd.microsoft.datawrangler.viewer.v0+json": {
       "columns": [
        {
         "name": "index",
         "rawType": "int64",
         "type": "integer"
        },
        {
         "name": "Filepath",
         "rawType": "object",
         "type": "string"
        },
        {
         "name": "Emotion",
         "rawType": "object",
         "type": "string"
        }
       ],
       "conversionMethod": "pd.DataFrame",
       "ref": "9574d3b7-2e2d-4145-8a20-798cd947c020",
       "rows": [
        [
         "0",
         "./dataset/mlend\\MLEndSND_Public\\01620.wav",
         "Neutral"
        ],
        [
         "1",
         "./dataset/jl-corpus/Raw JL corpus (unchecked and unannotated)/JL(wav+txt)\\male1_sad_5a_1.wav",
         "Sad"
        ],
        [
         "2",
         "./dataset/mlend\\MLEndSND_Public\\04997.wav",
         "Question"
        ],
        [
         "3",
         "./dataset/esd\\0018\\Surprise\\0018_001454.wav",
         "Surprise"
        ],
        [
         "4",
         "./dataset/mlend\\MLEndSND_Public\\05521.wav",
         "Neutral"
        ],
        [
         "5",
         "./dataset/mlend\\MLEndSND_Public\\02888.wav",
         "Question"
        ],
        [
         "6",
         "./dataset/mlend\\MLEndSND_Public\\33135.wav",
         "Neutral"
        ],
        [
         "7",
         "./dataset/crema-d\\AudioWAV\\1052_TAI_ANG_XX.wav",
         "Anger"
        ],
        [
         "8",
         "./dataset/esd\\0017\\Neutral\\0017_000228.wav",
         "Neutral"
        ],
        [
         "9",
         "./dataset/savee\\JK_a12.wav",
         "Anger"
        ],
        [
         "10",
         "./dataset/mlend\\MLEndSND_Public\\26373.wav",
         "Neutral"
        ],
        [
         "11",
         "./dataset/mlend\\MLEndSND_Public\\13399.wav",
         "Neutral"
        ],
        [
         "12",
         "./dataset/mlend\\MLEndSND_Public\\40183.wav",
         "Question"
        ],
        [
         "13",
         "./dataset/mlend\\MLEndSND_Public\\44409.wav",
         "Neutral"
        ],
        [
         "14",
         "./dataset/esd\\0013\\Angry\\0013_000646.wav",
         "Anger"
        ],
        [
         "15",
         "./dataset/esd\\0019\\Angry\\0019_000427.wav",
         "Anger"
        ],
        [
         "16",
         "./dataset/mlend\\MLEndSND_Public\\31361.wav",
         "Question"
        ],
        [
         "17",
         "./dataset/esd\\0019\\Neutral\\0019_000020.wav",
         "Neutral"
        ],
        [
         "18",
         "./dataset/mlend\\MLEndSND_Public\\20417.wav",
         "Bored"
        ],
        [
         "19",
         "./dataset/esd\\0020\\Surprise\\0020_001662.wav",
         "Surprise"
        ],
        [
         "20",
         "./dataset/mlend\\MLEndSND_Public\\39199.wav",
         "Question"
        ],
        [
         "21",
         "./dataset/meld\\train\\dia319_utt22.mp4",
         "Disgust"
        ],
        [
         "22",
         "./dataset/mlend\\MLEndSND_Public\\29318.wav",
         "Happy"
        ],
        [
         "23",
         "./dataset/mlend\\MLEndSND_Public\\36191.wav",
         "Happy"
        ],
        [
         "24",
         "./dataset/mlend\\MLEndSND_Public\\21860.wav",
         "Bored"
        ],
        [
         "25",
         "./dataset/mlend\\MLEndSND_Public\\26708.wav",
         "Happy"
        ],
        [
         "26",
         "./dataset/meld\\train\\dia990_utt16.mp4",
         "Happy"
        ],
        [
         "27",
         "./dataset/crema-d\\AudioWAV\\1067_ITS_DIS_XX.wav",
         "Disgust"
        ],
        [
         "28",
         "./dataset/esd\\0013\\Neutral\\0013_000156.wav",
         "Neutral"
        ],
        [
         "29",
         "./dataset/esd\\0012\\Surprise\\0012_001429.wav",
         "Surprise"
        ],
        [
         "30",
         "./dataset/jl-corpus/Raw JL corpus (unchecked and unannotated)/JL(wav+txt)\\male1_angry_10b_2.wav",
         "Anger"
        ],
        [
         "31",
         "./dataset/esd\\0011\\Angry\\0011_000461.wav",
         "Anger"
        ],
        [
         "32",
         "./dataset/mlend\\MLEndSND_Public\\37804.wav",
         "Question"
        ],
        [
         "33",
         "./dataset/mlend\\MLEndSND_Public\\11073.wav",
         "Question"
        ],
        [
         "34",
         "./dataset/esd\\0014\\Sad\\0014_001209.wav",
         "Sad"
        ],
        [
         "35",
         "./dataset/tess\\OAF_Fear\\OAF_tough_fear.wav",
         "Fear"
        ],
        [
         "36",
         "./dataset/esd\\0015\\Angry\\0015_000440.wav",
         "Anger"
        ],
        [
         "37",
         "./dataset/mlend\\MLEndSND_Public\\21924.wav",
         "Question"
        ],
        [
         "38",
         "./dataset/mlend\\MLEndSND_Public\\05973.wav",
         "Question"
        ],
        [
         "39",
         "./dataset/esd\\0014\\Happy\\0014_000883.wav",
         "Happy"
        ],
        [
         "40",
         "./dataset/meld\\train\\dia431_utt8.mp4",
         "Happy"
        ],
        [
         "41",
         "./dataset/meld\\train\\dia130_utt6.mp4",
         "Neutral"
        ],
        [
         "42",
         "./dataset/esd\\0012\\Sad\\0012_001196.wav",
         "Sad"
        ],
        [
         "43",
         "./dataset/mlend\\MLEndSND_Public\\03452.wav",
         "Bored"
        ],
        [
         "44",
         "./dataset/mlend\\MLEndSND_Public\\30559.wav",
         "Neutral"
        ],
        [
         "45",
         "./dataset/esd\\0011\\Neutral\\0011_000339.wav",
         "Neutral"
        ],
        [
         "46",
         "./dataset/mlend\\MLEndSND_Public\\28855.wav",
         "Bored"
        ],
        [
         "47",
         "./dataset/crema-d\\AudioWAV\\1028_IOM_HAP_XX.wav",
         "Happy"
        ],
        [
         "48",
         "./dataset/esd\\0016\\Neutral\\0016_000191.wav",
         "Neutral"
        ],
        [
         "49",
         "./dataset/mlend\\MLEndSND_Public\\27806.wav",
         "Bored"
        ]
       ],
       "shape": {
        "columns": 2,
        "rows": 9477
       }
      },
      "text/html": [
       "<div>\n",
       "<style scoped>\n",
       "    .dataframe tbody tr th:only-of-type {\n",
       "        vertical-align: middle;\n",
       "    }\n",
       "\n",
       "    .dataframe tbody tr th {\n",
       "        vertical-align: top;\n",
       "    }\n",
       "\n",
       "    .dataframe thead th {\n",
       "        text-align: right;\n",
       "    }\n",
       "</style>\n",
       "<table border=\"1\" class=\"dataframe\">\n",
       "  <thead>\n",
       "    <tr style=\"text-align: right;\">\n",
       "      <th></th>\n",
       "      <th>Filepath</th>\n",
       "      <th>Emotion</th>\n",
       "    </tr>\n",
       "  </thead>\n",
       "  <tbody>\n",
       "    <tr>\n",
       "      <th>0</th>\n",
       "      <td>./dataset/mlend\\MLEndSND_Public\\01620.wav</td>\n",
       "      <td>Neutral</td>\n",
       "    </tr>\n",
       "    <tr>\n",
       "      <th>1</th>\n",
       "      <td>./dataset/jl-corpus/Raw JL corpus (unchecked a...</td>\n",
       "      <td>Sad</td>\n",
       "    </tr>\n",
       "    <tr>\n",
       "      <th>2</th>\n",
       "      <td>./dataset/mlend\\MLEndSND_Public\\04997.wav</td>\n",
       "      <td>Question</td>\n",
       "    </tr>\n",
       "    <tr>\n",
       "      <th>3</th>\n",
       "      <td>./dataset/esd\\0018\\Surprise\\0018_001454.wav</td>\n",
       "      <td>Surprise</td>\n",
       "    </tr>\n",
       "    <tr>\n",
       "      <th>4</th>\n",
       "      <td>./dataset/mlend\\MLEndSND_Public\\05521.wav</td>\n",
       "      <td>Neutral</td>\n",
       "    </tr>\n",
       "    <tr>\n",
       "      <th>...</th>\n",
       "      <td>...</td>\n",
       "      <td>...</td>\n",
       "    </tr>\n",
       "    <tr>\n",
       "      <th>9472</th>\n",
       "      <td>./dataset/tess\\YAF_pleasant_surprised\\YAF_half...</td>\n",
       "      <td>Surprise</td>\n",
       "    </tr>\n",
       "    <tr>\n",
       "      <th>9473</th>\n",
       "      <td>./dataset/esd\\0019\\Angry\\0019_000651.wav</td>\n",
       "      <td>Anger</td>\n",
       "    </tr>\n",
       "    <tr>\n",
       "      <th>9474</th>\n",
       "      <td>./dataset/mlend\\MLEndSND_Public\\21688.wav</td>\n",
       "      <td>Neutral</td>\n",
       "    </tr>\n",
       "    <tr>\n",
       "      <th>9475</th>\n",
       "      <td>./dataset/esd\\0020\\Angry\\0020_000377.wav</td>\n",
       "      <td>Anger</td>\n",
       "    </tr>\n",
       "    <tr>\n",
       "      <th>9476</th>\n",
       "      <td>./dataset/mlend\\MLEndSND_Public\\44715.wav</td>\n",
       "      <td>Question</td>\n",
       "    </tr>\n",
       "  </tbody>\n",
       "</table>\n",
       "<p>9477 rows × 2 columns</p>\n",
       "</div>"
      ],
      "text/plain": [
       "                                               Filepath   Emotion\n",
       "0             ./dataset/mlend\\MLEndSND_Public\\01620.wav   Neutral\n",
       "1     ./dataset/jl-corpus/Raw JL corpus (unchecked a...       Sad\n",
       "2             ./dataset/mlend\\MLEndSND_Public\\04997.wav  Question\n",
       "3           ./dataset/esd\\0018\\Surprise\\0018_001454.wav  Surprise\n",
       "4             ./dataset/mlend\\MLEndSND_Public\\05521.wav   Neutral\n",
       "...                                                 ...       ...\n",
       "9472  ./dataset/tess\\YAF_pleasant_surprised\\YAF_half...  Surprise\n",
       "9473           ./dataset/esd\\0019\\Angry\\0019_000651.wav     Anger\n",
       "9474          ./dataset/mlend\\MLEndSND_Public\\21688.wav   Neutral\n",
       "9475           ./dataset/esd\\0020\\Angry\\0020_000377.wav     Anger\n",
       "9476          ./dataset/mlend\\MLEndSND_Public\\44715.wav  Question\n",
       "\n",
       "[9477 rows x 2 columns]"
      ]
     },
     "execution_count": 7,
     "metadata": {},
     "output_type": "execute_result"
    }
   ],
   "source": [
    "df_test"
   ]
  },
  {
   "cell_type": "code",
   "execution_count": 8,
   "metadata": {},
   "outputs": [
    {
     "name": "stdout",
     "output_type": "stream",
     "text": [
      "{'Anger': 0, 'Bored': 1, 'Disgust': 2, 'Fear': 3, 'Happy': 4, 'Neutral': 5, 'Question': 6, 'Sad': 7, 'Surprise': 8}\n"
     ]
    }
   ],
   "source": [
    "# Convert labels to integers\n",
    "unique_labels = sorted(df_train['Emotion'].unique())\n",
    "label_map = {label: idx for idx, label in enumerate(unique_labels)}\n",
    "print(label_map)\n",
    "\n",
    "df_train['Emotion'] = df_train['Emotion'].map(label_map)\n",
    "df_val['Emotion'] = df_val['Emotion'].map(label_map)\n",
    "df_test['Emotion'] = df_test['Emotion'].map(label_map)"
   ]
  },
  {
   "cell_type": "code",
   "execution_count": 9,
   "metadata": {},
   "outputs": [
    {
     "data": {
      "application/vnd.microsoft.datawrangler.viewer.v0+json": {
       "columns": [
        {
         "name": "index",
         "rawType": "int64",
         "type": "integer"
        },
        {
         "name": "Filepath",
         "rawType": "object",
         "type": "string"
        },
        {
         "name": "Emotion",
         "rawType": "int64",
         "type": "integer"
        }
       ],
       "conversionMethod": "pd.DataFrame",
       "ref": "8f4a0ebf-d9b4-4d7e-afa1-2d7c3e391d67",
       "rows": [
        [
         "0",
         "./dataset/mlend\\MLEndSND_Public\\11093.wav",
         "6"
        ],
        [
         "1",
         "./dataset/crema-d\\AudioWAV\\1011_TAI_ANG_XX.wav",
         "0"
        ],
        [
         "2",
         "./dataset/mlend\\MLEndSND_Public\\27019.wav",
         "5"
        ],
        [
         "3",
         "./dataset/mlend\\MLEndSND_Public\\23420.wav",
         "1"
        ],
        [
         "4",
         "./dataset/crema-d\\AudioWAV\\1077_ITH_ANG_XX.wav",
         "0"
        ],
        [
         "5",
         "./dataset/tess\\YAF_fear\\YAF_pad_fear.wav",
         "3"
        ],
        [
         "6",
         "./dataset/meld\\train\\dia954_utt2.mp4",
         "5"
        ],
        [
         "7",
         "./dataset/tess\\OAF_angry\\OAF_check_angry.wav",
         "0"
        ],
        [
         "8",
         "./dataset/mlend\\MLEndSND_Public\\01160.wav",
         "5"
        ],
        [
         "9",
         "./dataset/mlend\\MLEndSND_Public\\08931.wav",
         "1"
        ],
        [
         "10",
         "./dataset/meld\\train\\dia110_utt0.mp4",
         "5"
        ],
        [
         "11",
         "./dataset/crema-d\\AudioWAV\\1079_TSI_SAD_XX.wav",
         "7"
        ],
        [
         "12",
         "./dataset/esd\\0014\\Neutral\\0014_000216.wav",
         "5"
        ],
        [
         "13",
         "./dataset/mlend\\MLEndSND_Public\\20933.wav",
         "5"
        ],
        [
         "14",
         "./dataset/mlend\\MLEndSND_Public\\32461.wav",
         "5"
        ],
        [
         "15",
         "./dataset/crema-d\\AudioWAV\\1009_ITS_DIS_XX.wav",
         "2"
        ],
        [
         "16",
         "./dataset/mlend\\MLEndSND_Public\\00304.wav",
         "5"
        ],
        [
         "17",
         "./dataset/meld\\train\\dia915_utt5.mp4",
         "5"
        ],
        [
         "18",
         "./dataset/meld\\train\\dia562_utt6.mp4",
         "5"
        ],
        [
         "19",
         "./dataset/mlend\\MLEndSND_Public\\21215.wav",
         "4"
        ],
        [
         "20",
         "./dataset/esd\\0019\\Neutral\\0019_000063.wav",
         "5"
        ],
        [
         "21",
         "./dataset/crema-d\\AudioWAV\\1017_IEO_FEA_LO.wav",
         "3"
        ],
        [
         "22",
         "./dataset/esd\\0016\\Surprise\\0016_001661.wav",
         "8"
        ],
        [
         "23",
         "./dataset/tess\\YAF_angry\\YAF_live_angry.wav",
         "0"
        ],
        [
         "24",
         "./dataset/ravdess\\Actor_16\\03-01-03-01-02-02-16.wav",
         "4"
        ],
        [
         "25",
         "./dataset/esd\\0018\\Surprise\\0018_001552.wav",
         "8"
        ],
        [
         "26",
         "./dataset/mlend\\MLEndSND_Public\\09988.wav",
         "1"
        ],
        [
         "27",
         "./dataset/esd\\0019\\Sad\\0019_001386.wav",
         "7"
        ],
        [
         "28",
         "./dataset/mlend\\MLEndSND_Public\\28053.wav",
         "1"
        ],
        [
         "29",
         "./dataset/mlend\\MLEndSND_Public\\07002.wav",
         "6"
        ],
        [
         "30",
         "./dataset/meld\\train\\dia827_utt1.mp4",
         "4"
        ],
        [
         "31",
         "./dataset/meld\\train\\dia961_utt3.mp4",
         "0"
        ],
        [
         "32",
         "./dataset/esd\\0020\\Angry\\0020_000669.wav",
         "0"
        ],
        [
         "33",
         "./dataset/mlend\\MLEndSND_Public\\27233.wav",
         "6"
        ],
        [
         "34",
         "./dataset/mlend\\MLEndSND_Public\\04728.wav",
         "4"
        ],
        [
         "35",
         "./dataset/crema-d\\AudioWAV\\1073_DFA_DIS_XX.wav",
         "2"
        ],
        [
         "36",
         "./dataset/mlend\\MLEndSND_Public\\27175.wav",
         "4"
        ],
        [
         "37",
         "./dataset/tess\\YAF_angry\\YAF_pole_angry.wav",
         "0"
        ],
        [
         "38",
         "./dataset/mlend\\MLEndSND_Public\\03585.wav",
         "6"
        ],
        [
         "39",
         "./dataset/esd\\0013\\Angry\\0013_000445.wav",
         "0"
        ],
        [
         "40",
         "./dataset/mlend\\MLEndSND_Public\\24644.wav",
         "4"
        ],
        [
         "41",
         "./dataset/tess\\YAF_fear\\YAF_cause_fear.wav",
         "3"
        ],
        [
         "42",
         "./dataset/esd\\0019\\Neutral\\0019_000187.wav",
         "5"
        ],
        [
         "43",
         "./dataset/mlend\\MLEndSND_Public\\23854.wav",
         "1"
        ],
        [
         "44",
         "./dataset/crema-d\\AudioWAV\\1077_TIE_SAD_XX.wav",
         "7"
        ],
        [
         "45",
         "./dataset/mlend\\MLEndSND_Public\\11468.wav",
         "5"
        ],
        [
         "46",
         "./dataset/mlend\\MLEndSND_Public\\41356.wav",
         "4"
        ],
        [
         "47",
         "./dataset/crema-d\\AudioWAV\\1037_IEO_DIS_LO.wav",
         "2"
        ],
        [
         "48",
         "./dataset/mlend\\MLEndSND_Public\\46042.wav",
         "6"
        ],
        [
         "49",
         "./dataset/meld\\train\\dia1029_utt3.mp4",
         "8"
        ]
       ],
       "shape": {
        "columns": 2,
        "rows": 44221
       }
      },
      "text/html": [
       "<div>\n",
       "<style scoped>\n",
       "    .dataframe tbody tr th:only-of-type {\n",
       "        vertical-align: middle;\n",
       "    }\n",
       "\n",
       "    .dataframe tbody tr th {\n",
       "        vertical-align: top;\n",
       "    }\n",
       "\n",
       "    .dataframe thead th {\n",
       "        text-align: right;\n",
       "    }\n",
       "</style>\n",
       "<table border=\"1\" class=\"dataframe\">\n",
       "  <thead>\n",
       "    <tr style=\"text-align: right;\">\n",
       "      <th></th>\n",
       "      <th>Filepath</th>\n",
       "      <th>Emotion</th>\n",
       "    </tr>\n",
       "  </thead>\n",
       "  <tbody>\n",
       "    <tr>\n",
       "      <th>0</th>\n",
       "      <td>./dataset/mlend\\MLEndSND_Public\\11093.wav</td>\n",
       "      <td>6</td>\n",
       "    </tr>\n",
       "    <tr>\n",
       "      <th>1</th>\n",
       "      <td>./dataset/crema-d\\AudioWAV\\1011_TAI_ANG_XX.wav</td>\n",
       "      <td>0</td>\n",
       "    </tr>\n",
       "    <tr>\n",
       "      <th>2</th>\n",
       "      <td>./dataset/mlend\\MLEndSND_Public\\27019.wav</td>\n",
       "      <td>5</td>\n",
       "    </tr>\n",
       "    <tr>\n",
       "      <th>3</th>\n",
       "      <td>./dataset/mlend\\MLEndSND_Public\\23420.wav</td>\n",
       "      <td>1</td>\n",
       "    </tr>\n",
       "    <tr>\n",
       "      <th>4</th>\n",
       "      <td>./dataset/crema-d\\AudioWAV\\1077_ITH_ANG_XX.wav</td>\n",
       "      <td>0</td>\n",
       "    </tr>\n",
       "    <tr>\n",
       "      <th>...</th>\n",
       "      <td>...</td>\n",
       "      <td>...</td>\n",
       "    </tr>\n",
       "    <tr>\n",
       "      <th>44216</th>\n",
       "      <td>./dataset/meld\\train\\dia873_utt1.mp4</td>\n",
       "      <td>5</td>\n",
       "    </tr>\n",
       "    <tr>\n",
       "      <th>44217</th>\n",
       "      <td>./dataset/esd\\0015\\Happy\\0015_000807.wav</td>\n",
       "      <td>4</td>\n",
       "    </tr>\n",
       "    <tr>\n",
       "      <th>44218</th>\n",
       "      <td>./dataset/mlend\\MLEndSND_Public\\40154.wav</td>\n",
       "      <td>5</td>\n",
       "    </tr>\n",
       "    <tr>\n",
       "      <th>44219</th>\n",
       "      <td>./dataset/esd\\0017\\Sad\\0017_001347.wav</td>\n",
       "      <td>7</td>\n",
       "    </tr>\n",
       "    <tr>\n",
       "      <th>44220</th>\n",
       "      <td>./dataset/mlend\\MLEndSND_Public\\01986.wav</td>\n",
       "      <td>4</td>\n",
       "    </tr>\n",
       "  </tbody>\n",
       "</table>\n",
       "<p>44221 rows × 2 columns</p>\n",
       "</div>"
      ],
      "text/plain": [
       "                                             Filepath  Emotion\n",
       "0           ./dataset/mlend\\MLEndSND_Public\\11093.wav        6\n",
       "1      ./dataset/crema-d\\AudioWAV\\1011_TAI_ANG_XX.wav        0\n",
       "2           ./dataset/mlend\\MLEndSND_Public\\27019.wav        5\n",
       "3           ./dataset/mlend\\MLEndSND_Public\\23420.wav        1\n",
       "4      ./dataset/crema-d\\AudioWAV\\1077_ITH_ANG_XX.wav        0\n",
       "...                                               ...      ...\n",
       "44216            ./dataset/meld\\train\\dia873_utt1.mp4        5\n",
       "44217        ./dataset/esd\\0015\\Happy\\0015_000807.wav        4\n",
       "44218       ./dataset/mlend\\MLEndSND_Public\\40154.wav        5\n",
       "44219          ./dataset/esd\\0017\\Sad\\0017_001347.wav        7\n",
       "44220       ./dataset/mlend\\MLEndSND_Public\\01986.wav        4\n",
       "\n",
       "[44221 rows x 2 columns]"
      ]
     },
     "execution_count": 9,
     "metadata": {},
     "output_type": "execute_result"
    }
   ],
   "source": [
    "df_train"
   ]
  },
  {
   "cell_type": "code",
   "execution_count": 10,
   "metadata": {},
   "outputs": [
    {
     "data": {
      "application/vnd.microsoft.datawrangler.viewer.v0+json": {
       "columns": [
        {
         "name": "index",
         "rawType": "int64",
         "type": "integer"
        },
        {
         "name": "Filepath",
         "rawType": "object",
         "type": "string"
        },
        {
         "name": "Emotion",
         "rawType": "int64",
         "type": "integer"
        }
       ],
       "conversionMethod": "pd.DataFrame",
       "ref": "b6975ee1-6526-406d-8049-bc387adae599",
       "rows": [
        [
         "0",
         "./dataset/esd\\0020\\Sad\\0020_001395.wav",
         "7"
        ],
        [
         "1",
         "./dataset/meld\\train\\dia930_utt5.mp4",
         "5"
        ],
        [
         "2",
         "./dataset/mlend\\MLEndSND_Public\\24481.wav",
         "1"
        ],
        [
         "3",
         "./dataset/crema-d\\AudioWAV\\1002_IEO_SAD_HI.wav",
         "7"
        ],
        [
         "4",
         "./dataset/esd\\0011\\Angry\\0011_000373.wav",
         "0"
        ],
        [
         "5",
         "./dataset/crema-d\\AudioWAV\\1050_IWL_SAD_XX.wav",
         "7"
        ],
        [
         "6",
         "./dataset/tess\\OAF_neutral\\OAF_lease_neutral.wav",
         "5"
        ],
        [
         "7",
         "./dataset/crema-d\\AudioWAV\\1033_DFA_SAD_XX.wav",
         "7"
        ],
        [
         "8",
         "./dataset/crema-d\\AudioWAV\\1059_IEO_NEU_XX.wav",
         "5"
        ],
        [
         "9",
         "./dataset/esd\\0014\\Angry\\0014_000503.wav",
         "0"
        ],
        [
         "10",
         "./dataset/ravdess\\Actor_20\\03-01-04-01-02-02-20.wav",
         "7"
        ],
        [
         "11",
         "./dataset/mlend\\MLEndSND_Public\\41268.wav",
         "4"
        ],
        [
         "12",
         "./dataset/esd\\0016\\Surprise\\0016_001715.wav",
         "8"
        ],
        [
         "13",
         "./dataset/esd\\0011\\Happy\\0011_000935.wav",
         "4"
        ],
        [
         "14",
         "./dataset/esd\\0018\\Sad\\0018_001210.wav",
         "7"
        ],
        [
         "15",
         "./dataset/crema-d\\AudioWAV\\1079_IWL_SAD_XX.wav",
         "7"
        ],
        [
         "16",
         "./dataset/esd\\0019\\Angry\\0019_000646.wav",
         "0"
        ],
        [
         "17",
         "./dataset/mlend\\MLEndSND_Public\\31175.wav",
         "1"
        ],
        [
         "18",
         "./dataset/mlend\\MLEndSND_Public\\37494.wav",
         "6"
        ],
        [
         "19",
         "./dataset/esd\\0017\\Sad\\0017_001154.wav",
         "7"
        ],
        [
         "20",
         "./dataset/mlend\\MLEndSND_Public\\12125.wav",
         "4"
        ],
        [
         "21",
         "./dataset/meld\\train\\dia1036_utt12.mp4",
         "5"
        ],
        [
         "22",
         "./dataset/esd\\0012\\Sad\\0012_001194.wav",
         "7"
        ],
        [
         "23",
         "./dataset/esd\\0015\\Neutral\\0015_000079.wav",
         "5"
        ],
        [
         "24",
         "./dataset/mlend\\MLEndSND_Public\\07613.wav",
         "4"
        ],
        [
         "25",
         "./dataset/mlend\\MLEndSND_Public\\10182.wav",
         "4"
        ],
        [
         "26",
         "./dataset/mlend\\MLEndSND_Public\\30464.wav",
         "5"
        ],
        [
         "27",
         "./dataset/tess\\YAF_pleasant_surprised\\YAF_keen_ps.wav",
         "8"
        ],
        [
         "28",
         "./dataset/meld\\train\\dia806_utt0.mp4",
         "8"
        ],
        [
         "29",
         "./dataset/ravdess\\Actor_09\\03-01-01-01-02-01-09.wav",
         "5"
        ],
        [
         "30",
         "./dataset/mlend\\MLEndSND_Public\\32504.wav",
         "5"
        ],
        [
         "31",
         "./dataset/mlend\\MLEndSND_Public\\08221.wav",
         "1"
        ],
        [
         "32",
         "./dataset/mlend\\MLEndSND_Public\\11843.wav",
         "6"
        ],
        [
         "33",
         "./dataset/mlend\\MLEndSND_Public\\26478.wav",
         "6"
        ],
        [
         "34",
         "./dataset/esd\\0020\\Angry\\0020_000520.wav",
         "0"
        ],
        [
         "35",
         "./dataset/mlend\\MLEndSND_Public\\03991.wav",
         "6"
        ],
        [
         "36",
         "./dataset/crema-d\\AudioWAV\\1062_IOM_SAD_XX.wav",
         "7"
        ],
        [
         "37",
         "./dataset/mlend\\MLEndSND_Public\\42670.wav",
         "6"
        ],
        [
         "38",
         "./dataset/crema-d\\AudioWAV\\1078_IEO_ANG_MD.wav",
         "0"
        ],
        [
         "39",
         "./dataset/esd\\0020\\Angry\\0020_000575.wav",
         "0"
        ],
        [
         "40",
         "./dataset/esd\\0013\\Neutral\\0013_000174.wav",
         "5"
        ],
        [
         "41",
         "./dataset/esd\\0018\\Surprise\\0018_001519.wav",
         "8"
        ],
        [
         "42",
         "./dataset/mlend\\MLEndSND_Public\\03212.wav",
         "5"
        ],
        [
         "43",
         "./dataset/tess\\OAF_disgust\\OAF_room_disgust.wav",
         "2"
        ],
        [
         "44",
         "./dataset/mlend\\MLEndSND_Public\\19669.wav",
         "1"
        ],
        [
         "45",
         "./dataset/esd\\0014\\Happy\\0014_000858.wav",
         "4"
        ],
        [
         "46",
         "./dataset/meld\\train\\dia47_utt12.mp4",
         "5"
        ],
        [
         "47",
         "./dataset/crema-d\\AudioWAV\\1001_IEO_ANG_MD.wav",
         "0"
        ],
        [
         "48",
         "./dataset/crema-d\\AudioWAV\\1006_IWW_ANG_XX.wav",
         "0"
        ],
        [
         "49",
         "./dataset/esd\\0013\\Angry\\0013_000468.wav",
         "0"
        ]
       ],
       "shape": {
        "columns": 2,
        "rows": 9476
       }
      },
      "text/html": [
       "<div>\n",
       "<style scoped>\n",
       "    .dataframe tbody tr th:only-of-type {\n",
       "        vertical-align: middle;\n",
       "    }\n",
       "\n",
       "    .dataframe tbody tr th {\n",
       "        vertical-align: top;\n",
       "    }\n",
       "\n",
       "    .dataframe thead th {\n",
       "        text-align: right;\n",
       "    }\n",
       "</style>\n",
       "<table border=\"1\" class=\"dataframe\">\n",
       "  <thead>\n",
       "    <tr style=\"text-align: right;\">\n",
       "      <th></th>\n",
       "      <th>Filepath</th>\n",
       "      <th>Emotion</th>\n",
       "    </tr>\n",
       "  </thead>\n",
       "  <tbody>\n",
       "    <tr>\n",
       "      <th>0</th>\n",
       "      <td>./dataset/esd\\0020\\Sad\\0020_001395.wav</td>\n",
       "      <td>7</td>\n",
       "    </tr>\n",
       "    <tr>\n",
       "      <th>1</th>\n",
       "      <td>./dataset/meld\\train\\dia930_utt5.mp4</td>\n",
       "      <td>5</td>\n",
       "    </tr>\n",
       "    <tr>\n",
       "      <th>2</th>\n",
       "      <td>./dataset/mlend\\MLEndSND_Public\\24481.wav</td>\n",
       "      <td>1</td>\n",
       "    </tr>\n",
       "    <tr>\n",
       "      <th>3</th>\n",
       "      <td>./dataset/crema-d\\AudioWAV\\1002_IEO_SAD_HI.wav</td>\n",
       "      <td>7</td>\n",
       "    </tr>\n",
       "    <tr>\n",
       "      <th>4</th>\n",
       "      <td>./dataset/esd\\0011\\Angry\\0011_000373.wav</td>\n",
       "      <td>0</td>\n",
       "    </tr>\n",
       "    <tr>\n",
       "      <th>...</th>\n",
       "      <td>...</td>\n",
       "      <td>...</td>\n",
       "    </tr>\n",
       "    <tr>\n",
       "      <th>9471</th>\n",
       "      <td>./dataset/tess\\YAF_disgust\\YAF_take_disgust.wav</td>\n",
       "      <td>2</td>\n",
       "    </tr>\n",
       "    <tr>\n",
       "      <th>9472</th>\n",
       "      <td>./dataset/mlend\\MLEndSND_Public\\43418.wav</td>\n",
       "      <td>1</td>\n",
       "    </tr>\n",
       "    <tr>\n",
       "      <th>9473</th>\n",
       "      <td>./dataset/mlend\\MLEndSND_Public\\02459.wav</td>\n",
       "      <td>1</td>\n",
       "    </tr>\n",
       "    <tr>\n",
       "      <th>9474</th>\n",
       "      <td>./dataset/mlend\\MLEndSND_Public\\10609.wav</td>\n",
       "      <td>6</td>\n",
       "    </tr>\n",
       "    <tr>\n",
       "      <th>9475</th>\n",
       "      <td>./dataset/mlend\\MLEndSND_Public\\23072.wav</td>\n",
       "      <td>6</td>\n",
       "    </tr>\n",
       "  </tbody>\n",
       "</table>\n",
       "<p>9476 rows × 2 columns</p>\n",
       "</div>"
      ],
      "text/plain": [
       "                                             Filepath  Emotion\n",
       "0              ./dataset/esd\\0020\\Sad\\0020_001395.wav        7\n",
       "1                ./dataset/meld\\train\\dia930_utt5.mp4        5\n",
       "2           ./dataset/mlend\\MLEndSND_Public\\24481.wav        1\n",
       "3      ./dataset/crema-d\\AudioWAV\\1002_IEO_SAD_HI.wav        7\n",
       "4            ./dataset/esd\\0011\\Angry\\0011_000373.wav        0\n",
       "...                                               ...      ...\n",
       "9471  ./dataset/tess\\YAF_disgust\\YAF_take_disgust.wav        2\n",
       "9472        ./dataset/mlend\\MLEndSND_Public\\43418.wav        1\n",
       "9473        ./dataset/mlend\\MLEndSND_Public\\02459.wav        1\n",
       "9474        ./dataset/mlend\\MLEndSND_Public\\10609.wav        6\n",
       "9475        ./dataset/mlend\\MLEndSND_Public\\23072.wav        6\n",
       "\n",
       "[9476 rows x 2 columns]"
      ]
     },
     "execution_count": 10,
     "metadata": {},
     "output_type": "execute_result"
    }
   ],
   "source": [
    "df_val"
   ]
  },
  {
   "cell_type": "code",
   "execution_count": 11,
   "metadata": {},
   "outputs": [
    {
     "data": {
      "application/vnd.microsoft.datawrangler.viewer.v0+json": {
       "columns": [
        {
         "name": "index",
         "rawType": "int64",
         "type": "integer"
        },
        {
         "name": "Filepath",
         "rawType": "object",
         "type": "string"
        },
        {
         "name": "Emotion",
         "rawType": "int64",
         "type": "integer"
        }
       ],
       "conversionMethod": "pd.DataFrame",
       "ref": "01eb6932-61d1-4a55-92dd-10030530ebb6",
       "rows": [
        [
         "0",
         "./dataset/mlend\\MLEndSND_Public\\01620.wav",
         "5"
        ],
        [
         "1",
         "./dataset/jl-corpus/Raw JL corpus (unchecked and unannotated)/JL(wav+txt)\\male1_sad_5a_1.wav",
         "7"
        ],
        [
         "2",
         "./dataset/mlend\\MLEndSND_Public\\04997.wav",
         "6"
        ],
        [
         "3",
         "./dataset/esd\\0018\\Surprise\\0018_001454.wav",
         "8"
        ],
        [
         "4",
         "./dataset/mlend\\MLEndSND_Public\\05521.wav",
         "5"
        ],
        [
         "5",
         "./dataset/mlend\\MLEndSND_Public\\02888.wav",
         "6"
        ],
        [
         "6",
         "./dataset/mlend\\MLEndSND_Public\\33135.wav",
         "5"
        ],
        [
         "7",
         "./dataset/crema-d\\AudioWAV\\1052_TAI_ANG_XX.wav",
         "0"
        ],
        [
         "8",
         "./dataset/esd\\0017\\Neutral\\0017_000228.wav",
         "5"
        ],
        [
         "9",
         "./dataset/savee\\JK_a12.wav",
         "0"
        ],
        [
         "10",
         "./dataset/mlend\\MLEndSND_Public\\26373.wav",
         "5"
        ],
        [
         "11",
         "./dataset/mlend\\MLEndSND_Public\\13399.wav",
         "5"
        ],
        [
         "12",
         "./dataset/mlend\\MLEndSND_Public\\40183.wav",
         "6"
        ],
        [
         "13",
         "./dataset/mlend\\MLEndSND_Public\\44409.wav",
         "5"
        ],
        [
         "14",
         "./dataset/esd\\0013\\Angry\\0013_000646.wav",
         "0"
        ],
        [
         "15",
         "./dataset/esd\\0019\\Angry\\0019_000427.wav",
         "0"
        ],
        [
         "16",
         "./dataset/mlend\\MLEndSND_Public\\31361.wav",
         "6"
        ],
        [
         "17",
         "./dataset/esd\\0019\\Neutral\\0019_000020.wav",
         "5"
        ],
        [
         "18",
         "./dataset/mlend\\MLEndSND_Public\\20417.wav",
         "1"
        ],
        [
         "19",
         "./dataset/esd\\0020\\Surprise\\0020_001662.wav",
         "8"
        ],
        [
         "20",
         "./dataset/mlend\\MLEndSND_Public\\39199.wav",
         "6"
        ],
        [
         "21",
         "./dataset/meld\\train\\dia319_utt22.mp4",
         "2"
        ],
        [
         "22",
         "./dataset/mlend\\MLEndSND_Public\\29318.wav",
         "4"
        ],
        [
         "23",
         "./dataset/mlend\\MLEndSND_Public\\36191.wav",
         "4"
        ],
        [
         "24",
         "./dataset/mlend\\MLEndSND_Public\\21860.wav",
         "1"
        ],
        [
         "25",
         "./dataset/mlend\\MLEndSND_Public\\26708.wav",
         "4"
        ],
        [
         "26",
         "./dataset/meld\\train\\dia990_utt16.mp4",
         "4"
        ],
        [
         "27",
         "./dataset/crema-d\\AudioWAV\\1067_ITS_DIS_XX.wav",
         "2"
        ],
        [
         "28",
         "./dataset/esd\\0013\\Neutral\\0013_000156.wav",
         "5"
        ],
        [
         "29",
         "./dataset/esd\\0012\\Surprise\\0012_001429.wav",
         "8"
        ],
        [
         "30",
         "./dataset/jl-corpus/Raw JL corpus (unchecked and unannotated)/JL(wav+txt)\\male1_angry_10b_2.wav",
         "0"
        ],
        [
         "31",
         "./dataset/esd\\0011\\Angry\\0011_000461.wav",
         "0"
        ],
        [
         "32",
         "./dataset/mlend\\MLEndSND_Public\\37804.wav",
         "6"
        ],
        [
         "33",
         "./dataset/mlend\\MLEndSND_Public\\11073.wav",
         "6"
        ],
        [
         "34",
         "./dataset/esd\\0014\\Sad\\0014_001209.wav",
         "7"
        ],
        [
         "35",
         "./dataset/tess\\OAF_Fear\\OAF_tough_fear.wav",
         "3"
        ],
        [
         "36",
         "./dataset/esd\\0015\\Angry\\0015_000440.wav",
         "0"
        ],
        [
         "37",
         "./dataset/mlend\\MLEndSND_Public\\21924.wav",
         "6"
        ],
        [
         "38",
         "./dataset/mlend\\MLEndSND_Public\\05973.wav",
         "6"
        ],
        [
         "39",
         "./dataset/esd\\0014\\Happy\\0014_000883.wav",
         "4"
        ],
        [
         "40",
         "./dataset/meld\\train\\dia431_utt8.mp4",
         "4"
        ],
        [
         "41",
         "./dataset/meld\\train\\dia130_utt6.mp4",
         "5"
        ],
        [
         "42",
         "./dataset/esd\\0012\\Sad\\0012_001196.wav",
         "7"
        ],
        [
         "43",
         "./dataset/mlend\\MLEndSND_Public\\03452.wav",
         "1"
        ],
        [
         "44",
         "./dataset/mlend\\MLEndSND_Public\\30559.wav",
         "5"
        ],
        [
         "45",
         "./dataset/esd\\0011\\Neutral\\0011_000339.wav",
         "5"
        ],
        [
         "46",
         "./dataset/mlend\\MLEndSND_Public\\28855.wav",
         "1"
        ],
        [
         "47",
         "./dataset/crema-d\\AudioWAV\\1028_IOM_HAP_XX.wav",
         "4"
        ],
        [
         "48",
         "./dataset/esd\\0016\\Neutral\\0016_000191.wav",
         "5"
        ],
        [
         "49",
         "./dataset/mlend\\MLEndSND_Public\\27806.wav",
         "1"
        ]
       ],
       "shape": {
        "columns": 2,
        "rows": 9477
       }
      },
      "text/html": [
       "<div>\n",
       "<style scoped>\n",
       "    .dataframe tbody tr th:only-of-type {\n",
       "        vertical-align: middle;\n",
       "    }\n",
       "\n",
       "    .dataframe tbody tr th {\n",
       "        vertical-align: top;\n",
       "    }\n",
       "\n",
       "    .dataframe thead th {\n",
       "        text-align: right;\n",
       "    }\n",
       "</style>\n",
       "<table border=\"1\" class=\"dataframe\">\n",
       "  <thead>\n",
       "    <tr style=\"text-align: right;\">\n",
       "      <th></th>\n",
       "      <th>Filepath</th>\n",
       "      <th>Emotion</th>\n",
       "    </tr>\n",
       "  </thead>\n",
       "  <tbody>\n",
       "    <tr>\n",
       "      <th>0</th>\n",
       "      <td>./dataset/mlend\\MLEndSND_Public\\01620.wav</td>\n",
       "      <td>5</td>\n",
       "    </tr>\n",
       "    <tr>\n",
       "      <th>1</th>\n",
       "      <td>./dataset/jl-corpus/Raw JL corpus (unchecked a...</td>\n",
       "      <td>7</td>\n",
       "    </tr>\n",
       "    <tr>\n",
       "      <th>2</th>\n",
       "      <td>./dataset/mlend\\MLEndSND_Public\\04997.wav</td>\n",
       "      <td>6</td>\n",
       "    </tr>\n",
       "    <tr>\n",
       "      <th>3</th>\n",
       "      <td>./dataset/esd\\0018\\Surprise\\0018_001454.wav</td>\n",
       "      <td>8</td>\n",
       "    </tr>\n",
       "    <tr>\n",
       "      <th>4</th>\n",
       "      <td>./dataset/mlend\\MLEndSND_Public\\05521.wav</td>\n",
       "      <td>5</td>\n",
       "    </tr>\n",
       "    <tr>\n",
       "      <th>...</th>\n",
       "      <td>...</td>\n",
       "      <td>...</td>\n",
       "    </tr>\n",
       "    <tr>\n",
       "      <th>9472</th>\n",
       "      <td>./dataset/tess\\YAF_pleasant_surprised\\YAF_half...</td>\n",
       "      <td>8</td>\n",
       "    </tr>\n",
       "    <tr>\n",
       "      <th>9473</th>\n",
       "      <td>./dataset/esd\\0019\\Angry\\0019_000651.wav</td>\n",
       "      <td>0</td>\n",
       "    </tr>\n",
       "    <tr>\n",
       "      <th>9474</th>\n",
       "      <td>./dataset/mlend\\MLEndSND_Public\\21688.wav</td>\n",
       "      <td>5</td>\n",
       "    </tr>\n",
       "    <tr>\n",
       "      <th>9475</th>\n",
       "      <td>./dataset/esd\\0020\\Angry\\0020_000377.wav</td>\n",
       "      <td>0</td>\n",
       "    </tr>\n",
       "    <tr>\n",
       "      <th>9476</th>\n",
       "      <td>./dataset/mlend\\MLEndSND_Public\\44715.wav</td>\n",
       "      <td>6</td>\n",
       "    </tr>\n",
       "  </tbody>\n",
       "</table>\n",
       "<p>9477 rows × 2 columns</p>\n",
       "</div>"
      ],
      "text/plain": [
       "                                               Filepath  Emotion\n",
       "0             ./dataset/mlend\\MLEndSND_Public\\01620.wav        5\n",
       "1     ./dataset/jl-corpus/Raw JL corpus (unchecked a...        7\n",
       "2             ./dataset/mlend\\MLEndSND_Public\\04997.wav        6\n",
       "3           ./dataset/esd\\0018\\Surprise\\0018_001454.wav        8\n",
       "4             ./dataset/mlend\\MLEndSND_Public\\05521.wav        5\n",
       "...                                                 ...      ...\n",
       "9472  ./dataset/tess\\YAF_pleasant_surprised\\YAF_half...        8\n",
       "9473           ./dataset/esd\\0019\\Angry\\0019_000651.wav        0\n",
       "9474          ./dataset/mlend\\MLEndSND_Public\\21688.wav        5\n",
       "9475           ./dataset/esd\\0020\\Angry\\0020_000377.wav        0\n",
       "9476          ./dataset/mlend\\MLEndSND_Public\\44715.wav        6\n",
       "\n",
       "[9477 rows x 2 columns]"
      ]
     },
     "execution_count": 11,
     "metadata": {},
     "output_type": "execute_result"
    }
   ],
   "source": [
    "df_test"
   ]
  },
  {
   "cell_type": "code",
   "execution_count": 12,
   "metadata": {},
   "outputs": [
    {
     "name": "stderr",
     "output_type": "stream",
     "text": [
      "c:\\Users\\profi\\OneDrive\\Desktop\\AI-Project--Speech-Emotion-Recognition\\myenv\\lib\\site-packages\\transformers\\configuration_utils.py:315: UserWarning: Passing `gradient_checkpointing` to a config initialization is deprecated and will be removed in v5 Transformers. Using `model.gradient_checkpointing_enable()` instead, or if you are using the `Trainer` API, pass `gradient_checkpointing=True` in your `TrainingArguments`.\n",
      "  warnings.warn(\n",
      "Some weights of Wav2Vec2ForSequenceClassification were not initialized from the model checkpoint at facebook/wav2vec2-base and are newly initialized: ['classifier.bias', 'classifier.weight', 'projector.bias', 'projector.weight']\n",
      "You should probably TRAIN this model on a down-stream task to be able to use it for predictions and inference.\n"
     ]
    }
   ],
   "source": [
    "model_name = 'facebook/wav2vec2-base'\n",
    "processor = Wav2Vec2Processor.from_pretrained(model_name)\n",
    "model = Wav2Vec2ForSequenceClassification.from_pretrained(\n",
    "    model_name, num_labels=len(label_map))"
   ]
  },
  {
   "cell_type": "code",
   "execution_count": 13,
   "metadata": {},
   "outputs": [],
   "source": [
    "from emotion_datasets.SpeechEmotionDataset import SpeechEmotionDataset"
   ]
  },
  {
   "cell_type": "code",
   "execution_count": 14,
   "metadata": {},
   "outputs": [],
   "source": [
    "# Load the dataset\n",
    "train_dataset = SpeechEmotionDataset(df_train, processor)\n",
    "val_dataset = SpeechEmotionDataset(df_val, processor)\n",
    "test_dataset = SpeechEmotionDataset(df_test, processor)"
   ]
  },
  {
   "cell_type": "code",
   "execution_count": 15,
   "metadata": {},
   "outputs": [
    {
     "name": "stderr",
     "output_type": "stream",
     "text": [
      "Keyword argument `truncate` is not a valid argument for this processor and will be ignored.\n"
     ]
    },
    {
     "data": {
      "text/plain": [
       "{'input_values': tensor([0.0288, 0.0384, 0.0252,  ..., 0.0002, 0.0002, 0.0002]),\n",
       " 'labels': tensor(6)}"
      ]
     },
     "execution_count": 15,
     "metadata": {},
     "output_type": "execute_result"
    }
   ],
   "source": [
    "train_dataset[0]"
   ]
  },
  {
   "cell_type": "markdown",
   "metadata": {},
   "source": [
    "## Set Training Arguments\n"
   ]
  },
  {
   "cell_type": "code",
   "execution_count": 16,
   "metadata": {},
   "outputs": [
    {
     "name": "stderr",
     "output_type": "stream",
     "text": [
      "c:\\Users\\profi\\OneDrive\\Desktop\\AI-Project--Speech-Emotion-Recognition\\myenv\\lib\\site-packages\\transformers\\training_args.py:1611: FutureWarning: `evaluation_strategy` is deprecated and will be removed in version 4.46 of 🤗 Transformers. Use `eval_strategy` instead\n",
      "  warnings.warn(\n"
     ]
    }
   ],
   "source": [
    "train_args = TrainingArguments(\n",
    "    output_dir='./models/wav2vec2-base',\n",
    "    evaluation_strategy='epoch',\n",
    "    save_strategy='epoch',\n",
    "    learning_rate=2e-5,\n",
    "    per_device_train_batch_size=16,\n",
    "    per_device_eval_batch_size=16,\n",
    "    num_train_epochs=10,\n",
    "    weight_decay=0.01,\n",
    "    fp16=True,\n",
    "    dataloader_num_workers=8,\n",
    "    dataloader_pin_memory=True,\n",
    "    load_best_model_at_end=True,\n",
    "    metric_for_best_model=\"f1\",\n",
    "    report_to=[]\n",
    ")"
   ]
  },
  {
   "cell_type": "code",
   "execution_count": 17,
   "metadata": {},
   "outputs": [],
   "source": [
    "# Create function for computing metrics\n",
    "def compute_metrics(pred):\n",
    "    labels = pred.label_ids  # original labels\n",
    "    preds = np.argmax(pred.predictions, axis=1)  # model predicted labels\n",
    "    accuracy = accuracy_score(labels, preds)\n",
    "    precision, recall, f1, _ = precision_recall_fscore_support(\n",
    "        labels, preds, average=\"weighted\")\n",
    "    return {\n",
    "        \"accuracy\": accuracy,\n",
    "        \"precision\": precision,\n",
    "        \"recall\": recall,\n",
    "        \"f1\": f1\n",
    "    }"
   ]
  },
  {
   "cell_type": "code",
   "execution_count": 18,
   "metadata": {},
   "outputs": [],
   "source": [
    "# Initialize the trainer\n",
    "trainer = Trainer(\n",
    "    model=model,\n",
    "    args=train_args,\n",
    "    train_dataset=train_dataset,\n",
    "    eval_dataset=val_dataset,\n",
    "    compute_metrics=compute_metrics\n",
    ")"
   ]
  },
  {
   "cell_type": "code",
   "execution_count": 19,
   "metadata": {},
   "outputs": [
    {
     "data": {
      "text/html": [
       "\n",
       "    <div>\n",
       "      \n",
       "      <progress value='27640' max='27640' style='width:300px; height:20px; vertical-align: middle;'></progress>\n",
       "      [27640/27640 1:11:06, Epoch 10/10]\n",
       "    </div>\n",
       "    <table border=\"1\" class=\"dataframe\">\n",
       "  <thead>\n",
       " <tr style=\"text-align: left;\">\n",
       "      <th>Epoch</th>\n",
       "      <th>Training Loss</th>\n",
       "      <th>Validation Loss</th>\n",
       "      <th>Accuracy</th>\n",
       "      <th>Precision</th>\n",
       "      <th>Recall</th>\n",
       "      <th>F1</th>\n",
       "    </tr>\n",
       "  </thead>\n",
       "  <tbody>\n",
       "    <tr>\n",
       "      <td>1</td>\n",
       "      <td>0.692800</td>\n",
       "      <td>0.631136</td>\n",
       "      <td>0.785352</td>\n",
       "      <td>0.800488</td>\n",
       "      <td>0.785352</td>\n",
       "      <td>0.779182</td>\n",
       "    </tr>\n",
       "    <tr>\n",
       "      <td>2</td>\n",
       "      <td>0.512100</td>\n",
       "      <td>0.503121</td>\n",
       "      <td>0.831469</td>\n",
       "      <td>0.838243</td>\n",
       "      <td>0.831469</td>\n",
       "      <td>0.831971</td>\n",
       "    </tr>\n",
       "    <tr>\n",
       "      <td>3</td>\n",
       "      <td>0.422000</td>\n",
       "      <td>0.471603</td>\n",
       "      <td>0.848670</td>\n",
       "      <td>0.851782</td>\n",
       "      <td>0.848670</td>\n",
       "      <td>0.847472</td>\n",
       "    </tr>\n",
       "    <tr>\n",
       "      <td>4</td>\n",
       "      <td>0.363400</td>\n",
       "      <td>0.448454</td>\n",
       "      <td>0.859645</td>\n",
       "      <td>0.866218</td>\n",
       "      <td>0.859645</td>\n",
       "      <td>0.858771</td>\n",
       "    </tr>\n",
       "    <tr>\n",
       "      <td>5</td>\n",
       "      <td>0.302100</td>\n",
       "      <td>0.483887</td>\n",
       "      <td>0.867138</td>\n",
       "      <td>0.869256</td>\n",
       "      <td>0.867138</td>\n",
       "      <td>0.866469</td>\n",
       "    </tr>\n",
       "    <tr>\n",
       "      <td>6</td>\n",
       "      <td>0.273100</td>\n",
       "      <td>0.513195</td>\n",
       "      <td>0.867033</td>\n",
       "      <td>0.870502</td>\n",
       "      <td>0.867033</td>\n",
       "      <td>0.866512</td>\n",
       "    </tr>\n",
       "    <tr>\n",
       "      <td>7</td>\n",
       "      <td>0.226300</td>\n",
       "      <td>0.541591</td>\n",
       "      <td>0.867455</td>\n",
       "      <td>0.867228</td>\n",
       "      <td>0.867455</td>\n",
       "      <td>0.866628</td>\n",
       "    </tr>\n",
       "    <tr>\n",
       "      <td>8</td>\n",
       "      <td>0.170600</td>\n",
       "      <td>0.572830</td>\n",
       "      <td>0.875369</td>\n",
       "      <td>0.876897</td>\n",
       "      <td>0.875369</td>\n",
       "      <td>0.875096</td>\n",
       "    </tr>\n",
       "    <tr>\n",
       "      <td>9</td>\n",
       "      <td>0.143300</td>\n",
       "      <td>0.642123</td>\n",
       "      <td>0.872837</td>\n",
       "      <td>0.873308</td>\n",
       "      <td>0.872837</td>\n",
       "      <td>0.872029</td>\n",
       "    </tr>\n",
       "    <tr>\n",
       "      <td>10</td>\n",
       "      <td>0.120400</td>\n",
       "      <td>0.686484</td>\n",
       "      <td>0.873681</td>\n",
       "      <td>0.873697</td>\n",
       "      <td>0.873681</td>\n",
       "      <td>0.873088</td>\n",
       "    </tr>\n",
       "  </tbody>\n",
       "</table><p>"
      ],
      "text/plain": [
       "<IPython.core.display.HTML object>"
      ]
     },
     "metadata": {},
     "output_type": "display_data"
    },
    {
     "data": {
      "text/plain": [
       "TrainOutput(global_step=27640, training_loss=0.3547521937600783, metrics={'train_runtime': 4280.5408, 'train_samples_per_second': 103.307, 'train_steps_per_second': 6.457, 'total_flos': 1.6058954044680966e+19, 'train_loss': 0.3547521937600783, 'epoch': 10.0})"
      ]
     },
     "execution_count": 19,
     "metadata": {},
     "output_type": "execute_result"
    }
   ],
   "source": [
    "trainer.train()"
   ]
  },
  {
   "cell_type": "code",
   "execution_count": 20,
   "metadata": {},
   "outputs": [
    {
     "data": {
      "text/html": [],
      "text/plain": [
       "<IPython.core.display.HTML object>"
      ]
     },
     "metadata": {},
     "output_type": "display_data"
    },
    {
     "name": "stdout",
     "output_type": "stream",
     "text": [
      "{'eval_loss': 0.5728297233581543, 'eval_accuracy': 0.8753693541578725, 'eval_precision': 0.8768965102031938, 'eval_recall': 0.8753693541578725, 'eval_f1': 0.8750956067901096, 'eval_runtime': 36.7411, 'eval_samples_per_second': 257.913, 'eval_steps_per_second': 16.14, 'epoch': 10.0}\n"
     ]
    }
   ],
   "source": [
    "results = trainer.evaluate()\n",
    "print(results)"
   ]
  },
  {
   "cell_type": "markdown",
   "metadata": {},
   "source": [
    "## Test Predictions\n"
   ]
  },
  {
   "cell_type": "code",
   "execution_count": 21,
   "metadata": {},
   "outputs": [
    {
     "data": {
      "image/png": "[encoded data removed]",
      "text/plain": [
       "<Figure size 1000x800 with 2 Axes>"
      ]
     },
     "metadata": {},
     "output_type": "display_data"
    }
   ],
   "source": [
    "# Get model predictions on the test dataset\n",
    "predictions = trainer.predict(test_dataset)\n",
    "# Convert logits to predicted class labels\n",
    "pred_labels = np.argmax(predictions.predictions, axis=1)\n",
    "true_labels = predictions.label_ids  # Ground truth labels\n",
    "\n",
    "# Compute the confusion matrix\n",
    "conf_matrix = confusion_matrix(true_labels, pred_labels)\n",
    "\n",
    "# Plot the heatmap\n",
    "plt.figure(figsize=(10, 8))\n",
    "sns.heatmap(conf_matrix, annot=True, fmt=\"d\", cmap=\"Blues\",\n",
    "            xticklabels=label_map.keys(), yticklabels=label_map.keys())\n",
    "\n",
    "plt.ylabel('True Label')\n",
    "plt.xlabel('Predicted Label')\n",
    "plt.title('Confusion Matrix')\n",
    "\n",
    "plt.xticks(rotation=45)\n",
    "plt.yticks(rotation=45)\n",
    "\n",
    "plt.tight_layout()\n",
    "plt.show()"
   ]
  },
  {
   "cell_type": "code",
   "execution_count": null,
   "metadata": {},
   "outputs": [],
   "source": []
  }
 ],
 "metadata": {
  "kernelspec": {
   "display_name": "myenv",
   "language": "python",
   "name": "python3"
  },
  "language_info": {
   "codemirror_mode": {
    "name": "ipython",
    "version": 3
   },
   "file_extension": ".py",
   "mimetype": "text/x-python",
   "name": "python",
   "nbconvert_exporter": "python",
   "pygments_lexer": "ipython3",
   "version": "3.10.11"
  }
 },
 "nbformat": 4,
 "nbformat_minor": 2
}
