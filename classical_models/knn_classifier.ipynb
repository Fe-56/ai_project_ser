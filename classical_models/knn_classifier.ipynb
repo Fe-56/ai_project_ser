{
 "cells": [
  {
   "cell_type": "markdown",
   "id": "c1f85a94",
   "metadata": {},
   "source": [
    "# 🤖 KNN Classifier for Speech Emotion Recognition\n",
    "This notebook runs a **K-Nearest Neighbors (KNN)** classifier using extracted OpenSMILE features to classify speech emotions.\n",
    "\n",
    "It includes:\n",
    "- Data loading\n",
    "- Label encoding\n",
    "- Model training and validation\n",
    "- Model evaluation on test set"
   ]
  },
  {
   "cell_type": "markdown",
   "id": "cb5d6e9e",
   "metadata": {},
   "source": [
    "# 1.Imports"
   ]
  },
  {
   "cell_type": "code",
   "execution_count": 1,
   "id": "24f1e9e9",
   "metadata": {},
   "outputs": [],
   "source": [
    "import pandas as pd\n",
    "from sklearn.neighbors import KNeighborsClassifier\n",
    "from sklearn.preprocessing import LabelEncoder\n",
    "from sklearn.metrics import classification_report, accuracy_score\n",
    "import time"
   ]
  },
  {
   "cell_type": "markdown",
   "id": "c66043ea",
   "metadata": {},
   "source": [
    "# 2.Load and Prepare Data"
   ]
  },
  {
   "cell_type": "code",
   "execution_count": 2,
   "id": "6f403705",
   "metadata": {},
   "outputs": [],
   "source": [
    "# Load CSVs\n",
    "train_df = pd.read_csv('../data/features/train_final.csv')\n",
    "val_df = pd.read_csv('../data/features/val_final.csv')\n",
    "test_df = pd.read_csv('../data/features/test_final.csv')\n",
    "\n",
    "# Drop any non-numeric columns that are not features\n",
    "non_feature_cols = ['Filepath', 'Id', 'Dataset', 'Filename', 'Ext', 'Duration', 'Emotion']\n",
    "\n",
    "X_train = train_df.drop(columns=non_feature_cols, errors='ignore')\n",
    "y_train = train_df['Emotion']\n",
    "\n",
    "X_val = val_df.drop(columns=non_feature_cols, errors='ignore')\n",
    "y_val = val_df['Emotion']\n",
    "\n",
    "X_test = test_df.drop(columns=non_feature_cols, errors='ignore')\n",
    "y_test = test_df['Emotion']"
   ]
  },
  {
   "cell_type": "markdown",
   "id": "7df00ed6",
   "metadata": {},
   "source": [
    "# 3.Encode Labels"
   ]
  },
  {
   "cell_type": "code",
   "execution_count": 3,
   "id": "c7b20780",
   "metadata": {},
   "outputs": [],
   "source": [
    "le = LabelEncoder()\n",
    "y_train_enc = le.fit_transform(y_train)\n",
    "y_val_enc = le.transform(y_val)\n",
    "y_test_enc = le.transform(y_test)"
   ]
  },
  {
   "cell_type": "markdown",
   "id": "2133d5f1",
   "metadata": {},
   "source": [
    "# 4.Train KNN Model"
   ]
  },
  {
   "cell_type": "code",
   "execution_count": 4,
   "id": "94fed963",
   "metadata": {},
   "outputs": [
    {
     "name": "stdout",
     "output_type": "stream",
     "text": [
      "✅ Training completed in 0.01 seconds\n"
     ]
    }
   ],
   "source": [
    "start_time = time.time()\n",
    "clf = KNeighborsClassifier(n_neighbors=5)\n",
    "clf.fit(X_train, y_train_enc)\n",
    "print(f\"✅ Training completed in {time.time() - start_time:.2f} seconds\")"
   ]
  },
  {
   "cell_type": "markdown",
   "id": "b841b086",
   "metadata": {},
   "source": [
    "# 5.Evaluate on Validation Set"
   ]
  },
  {
   "cell_type": "code",
   "execution_count": 5,
   "id": "bf09268a",
   "metadata": {},
   "outputs": [
    {
     "name": "stdout",
     "output_type": "stream",
     "text": [
      "Validation Results:\n",
      "              precision    recall  f1-score   support\n",
      "\n",
      "       Anger       0.51      0.57      0.54       892\n",
      "       Bored       0.68      0.83      0.75      1098\n",
      "     Disgust       0.44      0.42      0.43       270\n",
      "        Fear       0.48      0.40      0.44       285\n",
      "       Happy       0.57      0.56      0.57      1886\n",
      "     Neutral       0.56      0.62      0.59      2205\n",
      "    Question       0.78      0.65      0.71      1138\n",
      "         Sad       0.60      0.49      0.54       835\n",
      "    Surprise       0.63      0.49      0.55       728\n",
      "\n",
      "    accuracy                           0.60      9337\n",
      "   macro avg       0.58      0.56      0.57      9337\n",
      "weighted avg       0.60      0.60      0.60      9337\n",
      "\n"
     ]
    }
   ],
   "source": [
    "val_preds = clf.predict(X_val)\n",
    "print(\"Validation Results:\")\n",
    "print(classification_report(y_val_enc, val_preds, target_names=le.classes_))"
   ]
  },
  {
   "cell_type": "markdown",
   "id": "2ae1f455",
   "metadata": {},
   "source": [
    "# 6.Evaluate on Test Set"
   ]
  },
  {
   "cell_type": "code",
   "execution_count": 6,
   "id": "b3420f5f",
   "metadata": {},
   "outputs": [
    {
     "name": "stdout",
     "output_type": "stream",
     "text": [
      "Test Results:\n",
      "              precision    recall  f1-score   support\n",
      "\n",
      "       Anger       0.53      0.62      0.57       891\n",
      "       Bored       0.68      0.83      0.75      1098\n",
      "     Disgust       0.44      0.42      0.43       273\n",
      "        Fear       0.44      0.44      0.44       285\n",
      "       Happy       0.58      0.56      0.57      1885\n",
      "     Neutral       0.56      0.61      0.58      2203\n",
      "    Question       0.78      0.66      0.72      1139\n",
      "         Sad       0.60      0.51      0.55       830\n",
      "    Surprise       0.67      0.46      0.54       728\n",
      "\n",
      "    accuracy                           0.60      9332\n",
      "   macro avg       0.59      0.57      0.57      9332\n",
      "weighted avg       0.61      0.60      0.60      9332\n",
      "\n"
     ]
    }
   ],
   "source": [
    "test_preds = clf.predict(X_test)\n",
    "print(\"Test Results:\")\n",
    "print(classification_report(y_test_enc, test_preds, target_names=le.classes_))"
   ]
  }
 ],
 "metadata": {
  "kernelspec": {
   "display_name": "Python 3",
   "language": "python",
   "name": "python3"
  },
  "language_info": {
   "codemirror_mode": {
    "name": "ipython",
    "version": 3
   },
   "file_extension": ".py",
   "mimetype": "text/x-python",
   "name": "python",
   "nbconvert_exporter": "python",
   "pygments_lexer": "ipython3",
   "version": "3.10.5"
  }
 },
 "nbformat": 4,
 "nbformat_minor": 5
}
